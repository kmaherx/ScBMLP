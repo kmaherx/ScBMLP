{
 "cells": [
  {
   "cell_type": "markdown",
   "id": "5228784d",
   "metadata": {},
   "source": [
    "# Imports"
   ]
  },
  {
   "cell_type": "code",
   "execution_count": null,
   "id": "a26fc587",
   "metadata": {},
   "outputs": [],
   "source": [
    "from scripts.datasets import simulation_classes\n",
    "from scripts.bmlp import ScBMLPClassifier, Config\n",
    "\n",
    "import scanpy as sc\n",
    "import numpy as np\n",
    "import plotly.express as px\n",
    "import pandas as pd\n",
    "import einops\n",
    "import torch"
   ]
  },
  {
   "cell_type": "markdown",
   "id": "19cd1cef",
   "metadata": {},
   "source": [
    "# Set params"
   ]
  },
  {
   "cell_type": "code",
   "execution_count": 2,
   "id": "a3570c6e",
   "metadata": {},
   "outputs": [],
   "source": [
    "DEVICE = \"cpu\"  # faster than mps..."
   ]
  },
  {
   "cell_type": "markdown",
   "id": "82326793",
   "metadata": {},
   "source": [
    "# Load data"
   ]
  },
  {
   "cell_type": "code",
   "execution_count": 3,
   "id": "c8873a05",
   "metadata": {},
   "outputs": [
    {
     "ename": "NameError",
     "evalue": "name 'simulation_classes' is not defined",
     "output_type": "error",
     "traceback": [
      "\u001b[0;31m---------------------------------------------------------------------------\u001b[0m",
      "\u001b[0;31mNameError\u001b[0m                                 Traceback (most recent call last)",
      "Cell \u001b[0;32mIn[3], line 1\u001b[0m\n\u001b[0;32m----> 1\u001b[0m adata, train_dataset, val_dataset, test_dataset \u001b[38;5;241m=\u001b[39m \u001b[43msimulation_classes\u001b[49m(device\u001b[38;5;241m=\u001b[39mDEVICE, n_cell_types\u001b[38;5;241m=\u001b[39m\u001b[38;5;241m3\u001b[39m, class_key\u001b[38;5;241m=\u001b[39m\u001b[38;5;124m\"\u001b[39m\u001b[38;5;124mcell_type\u001b[39m\u001b[38;5;124m\"\u001b[39m)\n",
      "\u001b[0;31mNameError\u001b[0m: name 'simulation_classes' is not defined"
     ]
    }
   ],
   "source": [
    "adata, train_dataset, val_dataset, test_dataset = simulation_classes(device=DEVICE, n_cell_types=3, class_key=\"cell_type\")"
   ]
  },
  {
   "cell_type": "code",
   "execution_count": null,
   "id": "0b5f65af",
   "metadata": {},
   "outputs": [],
   "source": [
    "n_cells, n_genes = adata.shape\n",
    "n_cell_types = adata.obs[\"cell_type\"].nunique()"
   ]
  },
  {
   "cell_type": "markdown",
   "id": "069644e9",
   "metadata": {},
   "source": [
    "## Visualize"
   ]
  },
  {
   "cell_type": "code",
   "execution_count": null,
   "id": "7b09d8d1",
   "metadata": {},
   "outputs": [
    {
     "data": {
      "application/vnd.plotly.v1+json": {
       "config": {
        "plotlyServerURL": "https://plot.ly"
       },
       "data": [
        {
         "hovertemplate": "color=0<br>x=%{x}<br>y=%{y}<extra></extra>",
         "legendgroup": "0",
         "marker": {
          "color": "#636efa",
          "size": 5,
          "symbol": "circle"
         },
         "mode": "markers",
         "name": "0",
         "showlegend": true,
         "type": "scattergl",
         "x": {
          "bdata": "mN6hQEWnOD/lKj1B1eq3QBmNkj88QA5BTmA0QIm9+UAEKPJAypxsQaVPg0EbuNBAmMggQX1nMkEd7llB9dnRQDVA70CTYBNBEHbCQIY4isAqTu5AYdBPQIc99r5jTSpBJuyNwEmAFEDvAjhB2Fg3wL0S8EBC4wZB6FkgQGcpfkCrJ5BBd+cFQWTqSEH+z25A+i0/QbDYJEHz8yZBmHOFwGOxt0DCU7FAdfi1QDnS2EDMFAVA31jlQIOnQEGKLlJB4CnWQAd4FkFGfYJAVWATQJ6RFED7RllBhthEwDxUW0EjfiTAimU4QAgaBEEkWCVBOPlFQeS6PUHihh1BeE8MQcIhRkEUhCtBhAK9QKZrS0B2ckRAeIEqQf6wYkGl1SnAAJYwQdAUgkDBu5JB0Ru2QJrd/UD1TRhAYXPxQGSEOEETbbdA4GaIQNbF50CKdi1B06KtQBossb/1fmW/kcfLQDdafr+NwaVA+OklQeNCwEB18pVANyluv/Hfg0FRoSVB191GQDvCF0GjICRBujbdQP/4+UCcJ2NBSoPtQFJzCUH7epNAu9EvQSBmc0BQdRFBdBh9v/BGU0DlGkNB94NkQcNoIEHVBa+/qumHQEEaQEDWkdhAy4wCQX8XIkGZrjBAJFpGQcF46UC7WXJBf00DQQkjZz+dBQNBIdC0QM7KjEA3ElxAbOH0QFzVTUE4fhNBQHSdQDYyz0DkbkhBD3eZQFPABj9sWiNADFdbQRFXB0G3bWE+VHKBwPpGTUFY1TlBuyzDQODKAkE+WMU/4nJTQTt68kBLnZZAbQVRQW3xssCJaxpBSgDgQOhz5UAGOQpByOIUQdGUsEA1Cqk/+Ad0wP25CkEdv11BdN4sQV+WyEBHWdpA0GNaQbauIEFaRfM/loFyP6qEHUE9XDxBY2ObQLIMHUHYyUlBA9n1PsvAi0Cx9X9BrsMCQdDnNEF7TCxB9vdkQW00XUEYSmRBKudCQUomKkHVmkZBG74GPfQCK0G/betAYKH0QJXVokBe59lAGdEuwG+DjkGtgvxAqMsVQd6erEClnZdAUeSjQNBJ7UDkUZE/KeUKQWhmtr+xczhBzIJFP2Z7ub8bF3hAsmMnPwfCAEFFsHBAwtB/QWd7VL5y7yZBWwiSwHm52UCxQp5Af+OLQN9jJ0EB7N0/51RoQQN6u0BlSatAHL5DQMRjgkCgluZAM8tNwBcd2kD9l+BA/d/TQG4zf0FrPSlBHUSxQAXVMUD0Y0ZBXtouQUnC0kA2j3/AE4lQQYRlA0HuQqVAvpdlP4B0gUGGb8nA3Ms6QONISEDKp1BB+10KQdtNgUCIYfI/4MipQGZ2Pj/d7nNA3rLsQNPnV0DKhfy/Kf0YQakW6EA9RSVBCdJaQOYTjECZjhJA67btQC4jbMCVBgZBXipgQIhRqsByYy9BJ7PQwFulQMBqM8ZAkUkiQVYPyUDhviJBvt/hvypcEUF6lWlAX8Htv1wsB0E567JApp2EwAT7FEC4GYZASdu9PpN8ekATZjpBKPHhQAkIkT+RYCVBg558Qemmw8BMUV5BcTKMQNQsxUC2og1B+ZRfQDY4kEDYRyNBVoXmQJMO2ECCZjrAenOlQHp/2EDhkENBXE7Fvx/TG0GFImBAOp4qQWIF0EAUZ6k/1gB1QSiJGEG30H7A4pfHQIBUkkCjk5y/pQ4iv5pAE8Dj2VRBaAihQNvlYcBXpYk/EldewDpmAkEJAptAWRnCv/0rQ0BSsmlB3mxbQb/ioUCYgB1BvhAPQSrM0UAbwaBAPF1XQSTEeUAdO3rA09nzvldN3UDcPdc/4+SuQE432kA/0gtBeNSnP+8E6kCDrtJAICQAQWUiIMAkRxBBJG5MwAygFkAM/TVBJoVhQAfYJkA/NnVAdHaQQJYNKsDiuyhBmdmyQKyUEUEhUQpBCHawwFwWN0HRnQhB62YgQSketcBR6VdAqrsPQV8KCsB14x5BNBZtQJbnRUGH0JBAehpcQYmEx8Ct39q/ZvIRQZX0QD87Puu+q1xDPx2LSkEeMGFBY64EQNZRJj5DEURBFksgQTXknEC9YYW/qbaPQELSEUDfEwNBecFGQc4Mb8Al1yi/0ZpEP4UHQkBRDNVAbH53wND0Z0EnoVBBjGkjQbTt9kDKPnxAODpUwKdNqkCXqnxA+83NQGGonsDnMQNBgWLMQN9qm0DpFkdBjt/nPngmMUCI8XNBECrQQB8Z50DUAWDAWTI0QQpUzsA8bF1A+inQQJp6sUAoVnlALC4RQHl5C0F5xYbAqdthwChuWkCA1xVBOLAcQSbXlMDgYalAHK5GQI1ulMD2Yt1AZRBTQSA8DL+SpSZBoThTQOqGtUAd++BA/jTnQHLOTkFydI5BU5EAQS8+gEFEeipBbHXlQDOr2EB7gZdAAulKQVINc78nclS/ZMHiQJpcgUBGdyzA+dDjPsyk9kBLAbBAgd2WQNzjzUAcNcs/+xQnQBU2FEFAeuNARxY5QThAKEEC6YlABSirQGyHHEGWnwhBIiNtwDxMRUEZ1pLAurBDvyRgL0HjBAhAEX0fQaYUH0H1F6FAKU+TQEKhM0EzEXBAc9cgQaC+QUGIUNJAgAi+QDsdUD+ZNLY/vD57QSZcxUC7LjHA+MP9QOsLREDVplFBgLC2QOFIBUHbpT0/mBjawPLJq0Cl5RpBftsYQUopUkEpXeNARIafQBOlCkGsYkhByQFXQQxzKkGI39q/zQelQNPFiEC3jL1AuANiQYF/uUBFGzJATrHwvhrphD9MzPFAvcOzQGpPAEHiIonAhb7FvxS/KUHtRHTAZhp5wM98HEFZPJJAXMhVv2RBREEV5bpA0gAbQQXVGEFBOshApKwWQXWMbcD85yJB3DsaQZK/WUHezb9ARxHAPymlHj9UnIVAMqU5QXb1E0F5/ipBZREGQSyxlEDatutAec7vQEI67kCqrCJBurdgQBAyl0BFpslAo7HlP6eEukA/dmXAPF0CQUZSt8DUTwNB/VcsQS5SNEF1wutAH8e8QLtSh8BC30XAVcMJQHbFHUFcRCtBFW8WQRq6hEFBNllBAafIQNutEEEbpjJBd1gHQfen478Uk4dASRR4wOrlJUEkCYi9T5cHQe9Df0BTrjo+zyoSQXwFDkHYkajASl9PQV8qgEDuGK2/AVOhQElvTkHHvYe/KO5wQBJqSkHuOwxAo5ixQMuM5T9qxiNBoN0BPU/QIEEMlGfA2AYMQaqUC0EZn2i+Lq2UQIsQ0D/yvqRAOAqfQHy9FUCzki5BtGFbQYGDnEBykU9BgOQ7QKfVDkCvCN9A/ygfQWapCUGY4ylBiTN0QEMlTsBNLYFAW/gJQfFDPkCMaCJB9XnePjSjL0G9rxZAxW7bQCHqp0Ctsc5Add4JQTWXo0CPc81AGIGLQCPFlkApVT9A6J7LP9ZoTcBpzQtAPx2GQDCLcr8UuD6/Qp3yQPYPq0DRjrRAqElfQOn+O0FUvIvAyYUxQd0SfECUmD9BgFVZP3PWvkDWxI1ATqUmQMIBB0D8Hz5Bw5aRP9I5Y0GylwBBuw/tv4F2HkEy6d5A9vC4QMAr7UAkrtdAKUnMQG6LFEFge71AYfIlQadQqD9cwWdAk8nGQPWXC0Ab6AtBWAdVQdR5Q0BsgINA3T2oP4/QD0HuZjFBSASYQAsubkGq9vRAfwPyQIy2tEBcImDAPJIrwPHM2EDtoUdBLt69v5HIS0FsM7tARx88QNvThT/Tvp5AZsjLQA==",
          "dtype": "f4"
         },
         "xaxis": "x",
         "y": {
          "bdata": "CBqAQW+yPkGyZA1BusaOQZbaqD/K+nRANCnuQHfaD0EhlSpAE2YxQVGZmkHr2I9AxYxxQZn80kB32AtBELGUQQ4kiUG8ii9A2NeAQLvcCEHz55BBqaCIQU3Mj0ARgJZBIgHcQDsLXkHvhqBAlsTJQKH/M0DoIZRBgKJaPznvf0F1tFJBOmqqQM0z10BqH4BBEdHQQONYS0H+6YlBfEcDQRE2X0Ezpk1B9zQ1QcvPM0GRM0ZBC9dgQftDpkHpzqNA1TwPQVK4gEGtwjFB1Cc2QVHChUGesYFBtyTMQJjkdUG1ihJB0uCCQWaWdEFtF95AGZgHQYwAIUGExVpBuYpJQLByZkHvpJxBG88cQeDoN0Fy3JFAesqEQWnoTUFyrOVACKReQYqSUkESDYZBCjwBQemkikB7IKFBnpRaQIV3L0Fx28U/2Kh6Qb/qV0CUeDdBAMNhQaUZTEHtdkRB5XncP2WiCkE+vZdBnv4bQXHM+D+inYdBXKclQagmYEHag0NB+KOLQNR9wkDzoUhAKF5mQHqMpkBO119BZKaeQAhVmkEhInZBm5M0QXi7jEHlhI5BQoj8QCX0KEF5Z6hBj5RfQczpfUGv3CpBE+GoQC4J70CMmZFBzbAKQSk2hEB9Y+hALklOQSvrkkHRubtA0+BOQQNhn0Cp+yRAGuVwQVQYiEHtAGZBTouZQa4GkUGn6khAWVgUQZBqBkGtDBFBMRlwQQ5TDkHerRdBJLNhQXMrsUBmJBJBWUmfQO4okkEBcrxASZ95QXD6fECaijpBtLMVQbX3dEFEHm9B1BoSQZd/0EAQtMRARNJgQI18EUGixJ9A/+dGQRJ4TEAhf15B6/EEQTqzYUBZoHNBRqcoQaq/KkHWwbJAxdnBQKCyTEG0mxpBYpAvQf0efkAgZ/xAV87wQLruuEAlNCZBnlpBQW/CiEGGcoZB4tJeQXkdbkC54qhAxYoHQXjrL0FFXQxBpQYhQf5MREEgI0VBBxVbQUJ2ykAa/UBBMzFWQJdqh0EA7G9BOHj9QMden0G/OLxAtSODQQ9dY0GGUgtBUW6UPygmbEHy8xlB8JOKQRwJN0F0Z/9A83oPQe8cMkGrgUpBU/2EQP6Fc0BtjiFBkoY7QWk1ukDCWZRAJQ/tQANvdUG/m2VB3lZvQXkgnUD9FeJAWKZkQbOwh0HUGgdB3H1lQTyGP0Gwo4VB6bdoQAjnfEDVF/g/POCEQepEh0EfheZAnBl8QP+PJ0Db1FhBRo6aQWMfg0FD6r1AZyxzQF4RoEF+eolBg9FZQSwZJ0HkjA5B1eUEQSHfZkFBFKBBsuPgQFIWf0FT40dB7xWgQYevEUChsmZBQIxYQVAOEEH0PrNAVhQzQYEbXUE/0w1B1nyDQU3eQEAPOlhBGXV+QcDyDUHkO4tBU1gdQT3Z8UBgLIhBVmgKQQGhsUCAX4pBg89/QB3Myz9raKtA24KQvpxhWEG63U1BUkYTQS3GhUHE01dBGu4cQYurw0DeqJdBz+XgQJ2MWkFuEExBbiWAQeYr7UC0c6FAOMSFQMPaAEFbwhtB+JCAQW+2WEFlPa1AhBVcQSPgVEEikm9AJnpuQP8id0HJXShBnKZuQUhhj0ER91dB1f80QZW5MUFpNl1BQZETQZZmh0Ed1+lAevFoQQDxn0D+0RtBq5nlQHpDk0Ee7E5BCwVNQKiGHUE9Yv5A+BmKQZ4FR0HDb0ZBM2ERQY9wz0C9XDJB11gIQQoLc0FPrJBBtLehQDv6gkFObeFAepoLQWym/kCoUGNBI9cuQXbW6EDjqadAS7LfQDKrmEEqviJBbdIrQW/uTEEoAzBB5p+mQBTn9EBKZodB8oj8QPYRGkEcdApBI9X5QONbgUG4RIZBJPHbPygxaEEKae5A1aRtQVo2IEHsm6JAlop8Qf8v4kBFSIBBDfv+QB0xaEHlSP9AZsdQQPqE/EAiCg9BGO69QDLtOkCnB49Anbw+QRwkb0CJ/ZNBFXojQed2BkHhVBNBN3cPQQolGUELShJBeS8HQVfDZEGmH3dBnj8xQMoEWEGxf85ADYt3Qct8fEGMhRVBSeM5QELqY0GjaUpACfGGQf2M4EDqKCJB0pBDQckudEHKhEFB2o8tQdyZiECIFoNBbVQhQcqoOUGUnOpAcSfdQCX92kDN03ZBKYKOQabhF0Htyq1AhDdNQbMxpUCdiW5BxfxcQexGJUHNpSlBdcZ3QStdBkF1+c9AUTOJQfZPCkHMHm5B1PaeQXZSfkH3wIJBHgAfQdPbFEBrBxVBY6jcQOTAdUEU9MVAy8dnQAyPBUHjZ2lBmkVKQa2nEkEcJnxATVOUQUBoHEGJP6NBO5NHQTdWkkFnHYdBX1r1QJlsTkFIpQ5BSvohQaGNt0H5FRFBS/giQcGZe0Drf31BEvyHQapPF0ENReNA8LyAQSqGiUEeKhFBrYcQQSNjdUFdAIdBHSoYQE28C0G/61xBS/Q7QQ4FTkDbhoNBdUUtQQhro0D0PMhAQGggQUnzxECoOFFBNpHsQPgrJkFVR6VAdV8NQeKGnUCfH3JBynXeQFu2kkCsy/c/G4B/QVqroEGujmZBsHIWQbGed0EFY0hBu8F8QUloIEFrwU1Bmm2XQb9RMUHajydBeOWGQfCahUDD3j5ByCAVQcYMMUAteh9BRpQRQd/+bkEczKJAk2jbQFo3ZUFXHZJBh6p5Qdh09EBEKixB42dRQEjnUkHBHOBA/t7mQM7uNEAVA2pBVQoHQTmSe0Hn6itBFe3pQISaZEGFRDtBPyQuQQYwG0F9ntNAOIwLQffeS0HMuOJAkDPRQP78oUAgcJVAqMUkQbsCWkFPZIFBqhiXQIYcqkDEOGlBf22GQeK0+0CG6T1BfhKFQb25iUCE4hBBT2dyQbgjL0FxT0FBaDyRQdDyrkCfREJBU7IeQWl5PkGJJAhBkdNDQXIINEHTFS9BPEDFQDfMeUC6hYlBeepcQatQjkFn/wNBvcQJQYcJ60CzioJBbbIWQaGf/UCDyNBAfa1lQXxSzkARKvpAUQABQe7pPkAApgRBl4lRQb+QI0F43fJAeiOFQf+FW0GLmF1BSc+CQXijC0F3hiFBsEeuQJmRykCP5SBBdVquQHi5LUEu9nY/UcXuQIKqCkE1qadA0z9/QIGBIEG9i55AYksUQWd6lkEv1ypB+bmSQTUpGkFsnihB/HDxP2cNbEHuLGRB+bojQYtYb0DOPyJBfGnEQJhTD0EEgAhB8bOEQfnDSEFqGIJBoxaCQaJbKEGJ4XtBLJXTQAH8BkEdseZAcAImQcrxiUG0/opB6K0UQVIE1kDHDVRBUA6QQUnil0Dd0YFBwrXPQIRPjEGIt1FBXt8oQWdRmEEM5cxAit7FQIkhaEGofElA5g08QRoClkG4ZD9BWCmCQVbtJ0F72HZBZ5KyQGUP1EBftm9BTLEAQXV9GUFtAxVBwhQUQe/BS0E3jY5AW6cCQUMoJ0EjwuNAHGLkQGiCkkGQql9BODpIQTZIlUG3vnxBucjzQBPueEErpMJApHrGQLVZDUETp6ZAKWJbQdDmJ0GmWvU/QBUzQTTvdkE8MPNARN0yQd9Jl0GX0G5Bez2ZQIqNcEHrWjNBJE6NQcLcikCBzNw/6xE6QVyxOkEyFYBBI+OUQbLnqUAZoS5BKOAWQfFIc0F7GYhAJF8SQc1Mh0Aud8pA23MmQd6IgUF+h2JBGwYgQVxVtEAzX4hBumXfQAGqJ0FDE40/GKSFQQ==",
          "dtype": "f4"
         },
         "yaxis": "y"
        },
        {
         "hovertemplate": "color=2<br>x=%{x}<br>y=%{y}<extra></extra>",
         "legendgroup": "2",
         "marker": {
          "color": "#EF553B",
          "size": 5,
          "symbol": "circle"
         },
         "mode": "markers",
         "name": "2",
         "showlegend": true,
         "type": "scattergl",
         "x": {
          "bdata": "mVpCQfGQ+ECT1jBBTBEVQe8tGEHoo0pB/R0eQWIMH0GoES5B54wZQfQCREHfPhVBeO4qQSnA7EDYTwxB/BAFQRKNKEGNhSZBu6wvQaN9YUGO/wFBEIybQNFBsECUdTZBUk95QCPtFkF45FZB3GotQZdCUkH/HVdBmXw7QUKPY0HtuDVBLIkfQSBNZEHp1mRBWDAmQYarcUEMNx5Bi0AyQYz+JEGlth9BjO8LQfOPCkGVdkFBSo0ZQdGZLkFYBEJBXOdVQdDQPUG70eZAlHxlQTPl80B/fzZBvAhFQaxuKUHzJz9BZMU+QRXUJ0FZ3FFBuhZGQaL9+UB8n81AOIL6QB2rLUEeiv1AxrlGQUV0BkEK+A1Bn0PUQNHYLkGMu+tARQECQc0dFkFGLytBwhQaQTNTK0HTUgJB76EUQY/uXkES4SVBm8AxQaCeFkHVw1dBIQVYQR/xNUGo9gpBZP4vQUJWI0HjUBhBzh/OQE5h10BukQtBERkrQRtDEEGLshZBwezgQKr5VUELMRtB92RYQSUoKEGQ/AFBhWETQVYpXEE352lBkedOQYGLJ0HmxzdBKPMnQbA5HEHxNVpB3RQnQQQqKUFFsEJB9XwhQSNqTEHaGSFBky4MQa89NkHbRhlB4DI7QZZtD0Efy4FB2r0hQSJeXEExVUhBgT/6QLWaREHZ2QFB2o/8QPz2BkEUnjxBt/azQCUpHUG0py9BnqW0QBmaWEHnQyxBX0GbQNMLAEGZ9Q5BPUELQWZyEEFvQfhAWa1RQQVpOEEiagNBO2d3QbHxD0H72h5BwoABQUK1BkF9KCJByN0SQWjONUG3pTdBo6kFQcf8M0EchxxB8UniQB4mYEBACGdBD5vxQC2e1UC1oTJBabiFQXwx+UA50TlB2aA6QSs1zEBv4GRBM7EYQemA/kAjnhdBoo4lQeMsSUEwVyhB0RdgQSONKUFCgyRBKjVIQUiQDkGGuh9B0PthQTZk7ED6nQZBwvc6QbS6z0D3H1NB2aPmQJXvHEHI2mJBT65/QR13S0GW5+ZAcE0sQUF4z0BV/dBA84kEQQrLZEHaeNJAATZeQceDM0HK8GBBAN8bQS5GbkF7oRlB3JIOQU/ICkEFgD1BVdkxQcXWQkGstuxAdTghQQe5F0EYGk5BTBTIQI/VBkElzRdBl9EoQUFYL0GJPRFB/ghNQX5xa0HRyzpBvHdOQZC56kAQ9XZBxIcIQZD3KEGJ7+dAp2kIQfxcKkE4rxxB0FwgQeVbZkEQICxBUw4bQQEe6kBx3hZBupgMQYWe00DuSB5BVDEFQQEySEE4dN9A610uQaula0GN4jFBshdMQa6nAEHBE8pAZO47QT44IUE8gdNA7W85QUhPS0FpgQdBxjccQRZuAkEMOO9APQ0pQY3/1UDT0+9ArbM/QbuFBUHpAJ5AyMtHQT1A9UAOFg5BVpQQQf5CJ0FkklZB9TxRQVvj2EBeazhBJzQYQVFnEEGdohFBzq4rQZbgK0Hnxi5BgidRQRTmQUHJuj1BhmuJQFR6z0DozkdBvwVzQXiMdUFtxyBB155QQaTbGUEwTExB6kAIQb4pakCTz1VBJn00QSAbK0Hp0D1BEI0YQavYSEEYiRdBuxk8QRW510C0KBhBXoBUQW5c1UBm9i5BMCLxQF6RWEHbFg9BidMUQTG3KkGVrkpB6/A0QUq6RUFWqjNBqq6pQIUmNEHHBShBGVYuQWnf1UDINgxBFAIrQZIh50CCykVBpKwzQVGM3UDPthBB6fBFQbEzo0DjltpA7a5NQRSw0EAHhDhB7jQ5QVPTzEDTNxFBr4xBQd7YakFF8BNBykUoQToa/UAiyC5B9RZFQRv/GUGY9BlB/FUsQbGW7EDXQtlAR1vgQGqvOUHYZuJAEVj8QMBLb0HJniFBSRI4QdmlAEEwkUFBx+RFQf68GkGR9yJBBBhDQYqn3kCOqkxBCL0HQQruUEFCB1hBJBFnQfAm+kCf7TpB4KVLQdU++UA25BBBhh0sQeDdLUEhBAVBn4J6QQ5WUUEqMepA7r07QVxjNkGjjw9Bs+U6QUOcWEEwC79A5lpWQXtbOEGmxEhBczx8QcDaykAjYOFAhXwnQYJNMkHYIDtBpTASQXVDH0HU2s9A+YAmQQDrF0HPQlxBsM3oQIxEgUGUYyhB/ZNCQYpFiEB1XytBfBc6QdasOEGjLxlBU+UuQQUdTUG+T/lAEFE1QewiKEHGuwFBuvsUQTTcQUHyDRpBJBk0QZkeSkGTOT1BStjgQHwYAkFxVCJBtE5EQUqvQ0FkhAlBEi8wQZlBd0EW3kdBxgsiQQM9M0FNGjFBbjINQTIoD0H1TwlBle0tQeqzAUHzZBxB9E5sQXOpMEGG3idBEEoXQVHaw0BErAtBb4X2QEKsakF65ihB/Kg6QShH+0BoaOtAG0kLQQ04JkGL/QRBe5cHQTA0IkEkEuZAn8QBQXROGUFyMwxB9xQgQQGkBUEui4JBc8AJQdCcSUFSZA5BYU0MQdEzR0Fj5aJARFMQQbx+L0G4dpJAskwaQY3mI0EkGwlBekQJQVc28EDu2kRBt+f1QPnvXEFT+ABBPeFcQemq4kCxExdBeqIJQVbMXEGAjR1BYvxTQTvkL0FODxZBCkoJQQ6D7UBqDDlBnsQtQcLovkBwj/VAXfo0QWajGUGmpyhBJDpZQce+EkHe5DhBow0KQXAdIUFjcUBBhbojQak2xkDJHCJB3JIwQRD5BkFxsq9ABk8NQcKKRUH1hDlBFd0CQSnuX0HGnAtBPlVaQba3JkFJ+SdBNRhHQbfo2UD+xC5BexEMQQGc5kCbXUhBAFdLQf1VQEE1Kh1B6xYJQdx2LUGsJ5lA5T4cQdFtJkEH5xtBvZArQajCV0H1WABBkPMwQXetKkHXXftAuB0mQYCqoUBzLl1BylXoQBX3BUF0AtJAK99FQfzxyUCgANpAppwHQTOCSkGI/qpAl3zCQLk8GkF2MiNB9vcTQVaUIEGS4v9AHS4qQcxy/kBZz0hBSdBpQPwJM0F2JQ9B7W0qQU+SeUCH9w1BYXPzQA6sWkE9qgRBo81oQfQILEFWW/1AgsEXQTa2Y0EJri1Bcs4SQXEgHEHeZw5BtyL7QFH2fUGz1gBBaks9QfUaS0FUoCZBBlv3QGAgH0GlSRBBWugEQUV2eEGHaAVBpBb0QBYODkHje0JB6JQMQc1dREGeVCZBw3cwQbTwC0G+LlJB40FkQSQXTkHsDiZBpJf6QJFhUEHu6B9BeY8OQb7KMEH8MBRB5os2QaViN0FufS9BczwsQQ8lV0H2JxlBiBEGQR95UEHkxu5ANF5FQd/4W0CM5VJBrUQfQWFWLUGbrFNBTvI3QfXfQkHWrTNBgBdJQQslO0G40cVApkhtQedPEEHKdwtBlDwjQXy85kAATRBBmH49QZYtP0Exzu1A3fUzQQm8VUFVQ15Bv6xUQVuIX0FwUOtAkNTpQOIbfUEjv+RAdvbiQBxYBEEwJuVAtwYxQSqZR0G+4kpBshKEQTbHXEEpfTNBDA1IQcgRAEGpfy1B3bNOQYSNy0CgaxhBD2MLQWsgHEFzPx1B279WQa+yT0FtJRtBtZ3/QF6MA0FKKFtBsswiQfzbREGjrxRBPFclQT/bREGJlR9Bjgv5QGnuE0FhTRJB245uQYvJJEHo3oVB2z1aQeSu1UAd2shA84vpQPHZOUHkQ4ZBUCVGQfVFFEEBkoBBVgRQQehZUEGWUi9BzsJQQXkTMEGaqhhB8ktHQdsfIUG8IiFB7VNkQbahPkHti0RBSaM9QVQLI0FVgi1BYbctQRBm9ECW7AJBe5YPQT2PtEDVxutALqkWQRSqCEHQ4jJBCaEyQQMnl0DNpFBB7CKSQPpdAkG0yhlB1kIxQbLqU0FMtQ5BqeEKQSFWvECcVAZB31MSQVyoLUFUZUBBnc7rQOPlEEGY5jtBSHcYQe4EQkFz+ERBmBNbQZwkK0GEJfpABEMIQSJqJ0H6NEdBIkJcQdX2HEGKMRZBaSVLQY2EL0Fn/exADUQSQbECK0FuncBAu/MkQSr8akF+oCxB6Q8HQQDzx0B2PYhBZEj3QO5yNkEv6zFBWxVnQa2TMkHESBlBAMUuQcXAK0Ed+PxALKJAQR07K0HQcSRBYvMqQbbhJEF8miRBN2BMQZVE+EBReWtBRJo2QUK3D0FXyRZBw7QEQfWlKEHqlxtB5uXdQO/1ZUFyfSRBxQIcQfI0vEBAcydBVMZRQcIsFEGViBdBrPLZQEwvLkHg+UBBKPkUQeh3RUG0HUpBztYVQT50GkEemTdB1pVtQatMZUGtK7FAgvBEQTHSTEFKzZ5AbsI1Qf3LQEFhzAtBEworQTbvUkHbOxFBUjcdQRV+NUEyHT9BNpksQXnWf0BU/iVBatluQUCPYEG1pspANT4aQQYKSEFRCRFBiJc9QZxPW0EWRipBjKRGQfY2EkEWiEZBeucwQdmwMkEqHmdBQTZSQelED0EG0yNBCTYFQdYXFEEAuCNB5aMiQbS3WUHRqHNBEEQaQavW6kCn01lBj+w0QXgvLkF1klRB4xXkQCRxJkGKxQ1B+5LSQFQizUCoaPxApnhEQYoIFUHuHMRAO5ZOQf1hDEEr6TpBr2ooQW4QL0Fucn9BCLlQQaYWWkFSLcdAUQpZQTFs2EBLDiNB3nZKQcYVTEHDGx9BrtRgQeFU/UAv/1dBFE0aQdGNXEHXvz1BHwMwQd6AZUFOT0NBATwWQWE5K0EGExlBW4osQS1LTkHR8gpBNTN1QRlJBUFAxxFBxdwHQaTOVEGDUTlB8GgJQfrxIkHyXvxApTYjQTa8AEH1WilBOdXsQMzyC0Gj6bFAKWd/Qf9HZkESxlNB179IQWYMC0H06DZBIoFWQeaiKEFQSEhBNSMeQf+lN0GvUCpBihRcQeVfEkF9BSxBg+cMQdDcVEEXEyNBUzraQDr3AEG0dm9B/1b2QPmSOUEZ99VAvrsEQZpA7kBYiw9B0EWnQIGsZUEwjhtBhFwuQcaxMUHwwCZBYJEEQVi+nECURCBBDytRQWMNMkHvwPhAd1Y/QUc2EEFLtv1ANbK2QEkFu0CrW9xAd6szQecM8UCFlUtBuLgrQfAAHEFoAUdBsl47QVM3/0AQGq1ALsrsQOqpkUAIgw5BMBJWQbw8oEAjR11BK026QHQz6EBjNd9ACa5vQRYTBUFBYRtBhcQRQSKpLkHCZrhAj6BOQTlYC0HB4l5A6cqvQCuBL0FOqFlA+a4iQQ7TZkEkudRA+1LKQMjEzkBmVFtBeBAKQaMqK0FGi+tAsJoBQWIvC0GO/cdAYRpBQfU/VkFZAQVBiQiZQLdwbUFkBCZBeiDDQDd5cEF0Sz1BzzPwQMc8OEH8nGNBEJUTQWvfQkA1bxtBDU4uQUlD5EDDBBxB2loEQfyb6UDGHgRBoF4TQfsXA0EDrb5A5KomQap1VkFeWvtAWT3nQBTDp0BavF1B+bkIQbgxr0CqaEJB8nqHQbJuLUHmNB9B+bncQF7MPUHyJMdAvqcRQQuhEUFzEkhB7rcWQb8sL0EJ2BRBlT5pQfNyEUGc0CpBCSgFQe2KBUGZWgpBkBQKQTtQLUHvoktBg3PxQO1TUkEcAR9BQa5MQaHIt0BT8jxBg4IMQVNKG0G0aglB1U0OQQG/Q0EG2jZB9EJ+QYGHYkHiZAlBj4kAQckj9kBVBP9A89QqQeTb8UAG8g9BsrAHQaBUfUFn1C5BMFEkQQ==",
          "dtype": "f4"
         },
         "xaxis": "x",
         "y": {
          "bdata": "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",
          "dtype": "f4"
         },
         "yaxis": "y"
        },
        {
         "hovertemplate": "color=1<br>x=%{x}<br>y=%{y}<extra></extra>",
         "legendgroup": "1",
         "marker": {
          "color": "#00cc96",
          "size": 5,
          "symbol": "circle"
         },
         "mode": "markers",
         "name": "1",
         "showlegend": true,
         "type": "scattergl",
         "x": {
          "bdata": "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",
          "dtype": "f4"
         },
         "xaxis": "x",
         "y": {
          "bdata": "E5cCwHm9PcA0P5a+0iBAvesG8b+x8vq/9e8JwAyMgsCdl6a/9o1Dv//i9j9vQmq/zfdOwEa4F8AH6q2+XKKFQOI3f78IhXk9JwZXvxRTkj8UM/+8B2rhv7q0QcALhmG/igF4v2brbr8Zwu0/6xovv5aUEMDIRSW/RbuBv9knD8Aqs5NAAYrrP9WfZkDZSBjAyWiTwA0H7r7I3HS/fNgJwCpFasDEglJA5XwLwFteJsAjIyi+0JaKwNBs2r8Trdm/umeMvqRnmkDR8fO/bktnv8Nm5b8sgSQ/9yBXP+CwOECmxEY/79L6vzABMkC0FNC/nzK1Pwjjhr9CjAY+h6GpvzM11L60i5s/fgNqwAytkL/MUjg/dg7gv4aLoED/6xRAAmyGPyLSm76gX/c/TtEfQLDCUsAMP7g8rJYFQMmKBMB1mYbA7mUNQFPWlb+TWVvAPDVzQPUIyL/UNs+/YQ2yv/SciEDJsCHAJYEuwJQNrr+Vipy/zgQIwKeOIT9ImaS/wbIiwGOY9D97JuC/Jv93v/sXCcCU4QLAIrO3P12fmL+9wdG/Zk0JwKgvfz9PPoY/vHgGwJrr2L8tnCzAJXxIv+TbGUCs8EXAmzybv33drD+kjE5A5WZXP+mD9b/qVoG/ycI+QOKvxD/NP0XAuDDov1vxsLseLwHA5bkPwFPyDUCOfNa+UmfivxY3uz/ZTQzAVCpbP3aH4T66tlE/81JXPlzzsb6XzxDA5zyeP4ISHT+Y4ks/A8nPPivm2j9byAY/ZfPkPymrzT/dFfM+3uBnQPZ0+L+crMa+KyEIvqEr6z6b+YS/ePRUPwj3Wj5tZKC/yQ+UP9/SN8DjPBRA656TwBJfir7Du5m/Nkb7v5PeM8BvG5S/2pVnwOUt4L8ZKGdAcO+TvjTJob8HUiw/W2SdQBJAsD/z64W/FfeGQHrXpkDfg6s/ma4xwABWHsDjU5XA8R/Hvw0nTMDvPcg/k/LzvhPWukCa9k9AeoSRv1+6DkCYFMM/1fkrQLA/nUDSpAHAo8SPPk31Vb/a4aU/WiBMP6h7KcAhh0RAIisWwLHCocAEiVDASa4DP6RwI8AzLzLAYnhXwH0u1zxYjg/AYl+Av/18IsAEzXo+zPc7QAvzj0CHgNS/sMjmvzNIB8DGiUTAXY5zv0Jr8D/XJw3AahrnQCP2BEArNG6/4pHLv1ARxr8VRA3AjItCv5cxc0B9uEHAFW4lwAH+Zr+LDZJAvoncvz9erL+FinNATSteQDT4BLz7o9+/FpHCPx45Uz8V36w/e0okwKzZY8CvFgJAvd6KwL7KgcCl4EzAgl8vwOfWkT8U7QnAxnJowNB5R7/+gEbAI9d3vvupUcBjguK/X8tLwNvgyb6EGmBAWpIpwFVKCEAs46O+QxxfwLhFmr+WpxLAKSHTvy42xD8Yzd2/OpDcv4GXYz+Ez4/AC5ppPgBvnb8MSxpAWK4cwCLTUcBnegLAH9z5voyjMUDW/7M9McgwwMBJXD8S3ybATJCrQPnPxr8Dgy+/cnzkv4pGrL/iFxrASUeLQKGwKcAU05K/fVAWwAtOWUCKx2c/sDXUv7PJ4L9OLxs/Go8Cv2d+8r9inHu/iLdBwHGftD+xNgPAc3C6QEyCfL9GllDA8IP/P2oYSb/bMpy/KNuGQJk+VkDcY4/AlhAcwPUCM8CkHC/AxXfkPpWMhr/8Jsa/khBVwJ6iLcBr0l7AIBoYPx6qQsAIN+2/7989wAaDyL9JYzXAQ2RTPaESND8BRnhAuzcEwFhSI0CXjFbAVbJTwFuLBUDlRk7AMoIawC6KOMCB6I+/QG9IQNWOncB8pnG/1st2wPTQjMAjFcg9RWlewBIaHECdeQvAA5R0wLtFasAA3Z2+Gy//PFPbEMD8mpq/dTSYQFCotb9/fW+/pyLxPhD3gz8eqXtARE2qPj2j67/cZj8/Y8aav2ubKb99IPW/X5NMvyA0d799HifADD3hvhdFBr/PIbS/+gysv7zjO7/Vr5s97+4Sv+rUqz9tAPI/sfarv9w9esD0lhLAChYAwJqvHcCC0k3AyIblvlA5sMBLaQPAczoqwGuOScDS7Da/PqwdwDzTR8AQcvG/Cac9v2KCVkBCzs+9sG0iQAnecD+TMoXAwVuPwDJOmD8xFovADsvMv5hLGcB3KXzA8qEcwLBl+b4L+lnAKN2cv4lwEsBESAC/tR02P2uBNUDbaJ6/xb7pv8XH0L886w7Ak/amv/dHnz/4KzhAkl0cwBSnpb9fJEhARQ9YwIjyob9eNwDA02uhv13VFkCQrMy/x306wLKqFMAuUrG/LnIpwNa/MT9k7BrApesbwBCi0r+m0AxAxiEMwLwwIMAYoTxA0cJ4wP+PC0HjpnK+l1UHwKfsE0DBZkfAA+y/wM4eTsDl6WLAa61qQP2DMcBTd/E/0cdiv/emq7+91zHA23aLvu86Mb8zQ4/A9WfBQL2UMkBJmwc+KpLfv6AdE0Dy78i/nJoxv/JpcsALYznAQwoMwFwZpD6J14LAB9bqvw75jEBoDQ/AAak+wA98OMDH0HPAJk1nQCLMo7936/U/rOlpv56AoL/ueSjA3/hcwI8XUcCKBeG/lfSRvnEHBMAeM6hANwNHwHp/YkC9qs4+XQd8wN6Ufb66/rm/QUtIQKwJTcALHZpA1FDEv+yUEcALD4DAvtTov9Xv6b8WajY+r6nrv92NxsDqvtdAtxAsv9IpXsCgxnq/nTFMP6JgRcDul3DA+5WHv7QjKcCod4XAulFTv/+yz7+R6Pm/m780wNJ2CMDbxVfAw1mCv4zwgcBN38k/pComwLAju0CeTV7AjJbnvkgDU8B9Ww7AooA7v/i2BcDzsplArhCRQBRoCUDc4TVAmSBRwEUfpkAEGbK+4C7Yv+q03L5qdSpA848FwOd+4748L4+/zeCWQC+7Mz7gq84/8JWBQCTUYcDVVEw/MjsGwPgR+b66M3+/0htfvivgCMBwJQvAp4WbvmHUI8CFfgjABFqNwA0nkr/8NE/AytN0wCg7pMD9WSzAwowpwCxFMT6M+zbAWv6Dv4MUhL+w7JbAVe3tv46glL/Q+rS+Q9CfP1eKjD8Cc+q+Zj0IwPpIwz+qzodASkYIwPZAaT8hp80/abb/P5M2hkDanW7A3HViwJYgz781sxnA/p77v/+RHcD/Mtu/yqvpvxalLkCoHH7AtpPAPxYjCD8Be+i/qIKxQDP1qMDxn3HAAcCVv5WFzD0/Oaq+gGMDwDw1jsCVUoHAuZOBwFM1fsAeZSxArw6KwHWV/b+mdIrA0FWbwKQx3T77QEPA+lkqwJvDLcBIzxBAQtwDwMM4HMDvomPAl3/Lv82kZj+l6lXAFwJ9QGEkNb8TJ0XAPRk2wOhHLMCtmLi/4ZtwwLO4nT9EQ82/AVKLwKMCB8DGRwjAGn3Jv1omur/gWwLAT36vP8abdT/0B5rADpUdwOwWd78R+I2+PRpXwKNz178GF7k+1i4IwP4eoz96+wJAbmuhP27BMz9N/krAdktSvm9cCL7FvRTAo4yWPwXlVD1c0zY/ebZev0BwQ79za0rATtlhPxsqEb8FHVQ/dLpJwKT/HsBDlYq/b3/1v8ylgL8t+l/AUho0wNReYkDgnlXArQ1swJ6V3b+oc1E/m0kkwCwNQsA6Gz/AlCFCP2b7lMAx4XTA6xlQwMzqe8CcGlPATUegv3oEUr+2ooc/kEcdwBnPzb73H1u/AaGIwGQCqb8KMEtAO3b8vxyYVcC8GgjAFBZFwAwwkMB9PCVAQkAewDpCHED2EyvAvatsv2ey3T/Y3F+/kMWGv1Qg+r4ttM9AjqgWwGtFYkBK14bAxKoyQMonh7+9x4PAgNGzv/vBdsDPU8C/v2AmwO37i0ChAQ/A1DFOv77pBsCzmjPA6/lYwGQ+Hr6UmYhA1srHvxjqoL+4N6i/+9M2wDbscMBcWkfAAbkPwOpoQD5Fa1zAf3GUv/+WFsChkzK//2HdPlLosj/NHi++YDmiv+shB8BsKgnAJbGYwOLXO8CP5TrAe23av4XytT8inCPA6aTZQLCuDcBzRUXA/GMXQETeqz9RTVG/9vj+v2BGPsBT4T3Ay24/wB7IK8D4Co3AV6bbv9ITb8C0cI+/8rgDwLROHkCMRK2/ZxIKwDKpez/X5ifAujFDwN4h0LyVBOC/ZdtVwEIb7L9XBphArVOiPqkVlr+xXa2/lJkEwPcMOcAsxjDA5pKKvxnnqr8i/Wc/7Sbuv7ESksCTiO6/SqRCwKwtL8Ab1qxAPgVnP/sy+j4Ncri9IDGMwGsAnr9uz7a+IgMjP5o6tr+EWC3AyxKjwNTfVL6sQW3Aj4awPnrA/L1jwwDAZP0kwMBpKMBjOxg/Rm3qv5bz975jIce/yBQMwGPEq8BFWF/AMMQ6wHupvr/zglTABs/vvz1eIL/lmy9AosyFQI/wwb/gVCnAm+FQQDmIlj7Qiuc/hMU7P2+PWsDrQn/Aqmzvv6skBcDz4BC/7uEUwBse278v1my/PtYGwHxMpj/w/ZO/xB5xQP45M0BCCVPAQiczwCArYb5JLNBAoUFOQPQFgb8VWkXAt+unv3L9akDObxFA4UFnwK+kZMDLiJq/oig4vzUtu8B4If6+CE0XwBS0I8D6ZbO+Q2EEwGjSFMBm62LAKTchQHgOyr8xanA/kvmOvwquA8AIBm7AMynpvykur79dFuC/ocEOwJTB0r9q2SxA9fwNwC08+r5XAgJAr9xOwJiiRUAPuIw+dmfJP0cEf0CzgXG/IGzrv5XGHcCCGDa/k0G5v/LFur9orkXATEyeP8tz67+3JzrAxGEswIVdub9WgB0/2XVrwPwXLMB9AYTA2juFwIdChL/e4tQ/fY5/QAEhDcAc9SvAngE5PGTEH74BMPk/GBVMQDaEqL5wR+c/SqOkPSBnwb5OshHAf3K8v5xDacA0+izAf8FAwNPS/r9CuwxA52cRwGsC6b9AaGjAfr90v5qyjEAOJWO/J+/MQE7ri8C+3YRApEqLv92RbkDsJYhAG0hdwJGfeUD290/A5EYQQDpVQ8BlpZS/n+6fQNAFF0D+OHfAuWRLP4+NrcD/zBdAnL3jv2qMjb8MbMi/nqcWwNFDwb+lCi7AIz5RwA==",
          "dtype": "f4"
         },
         "yaxis": "y"
        }
       ],
       "layout": {
        "height": 600,
        "legend": {
         "title": {
          "text": "color"
         },
         "tracegroupgap": 0
        },
        "template": {
         "data": {
          "bar": [
           {
            "error_x": {
             "color": "#2a3f5f"
            },
            "error_y": {
             "color": "#2a3f5f"
            },
            "marker": {
             "line": {
              "color": "#E5ECF6",
              "width": 0.5
             },
             "pattern": {
              "fillmode": "overlay",
              "size": 10,
              "solidity": 0.2
             }
            },
            "type": "bar"
           }
          ],
          "barpolar": [
           {
            "marker": {
             "line": {
              "color": "#E5ECF6",
              "width": 0.5
             },
             "pattern": {
              "fillmode": "overlay",
              "size": 10,
              "solidity": 0.2
             }
            },
            "type": "barpolar"
           }
          ],
          "carpet": [
           {
            "aaxis": {
             "endlinecolor": "#2a3f5f",
             "gridcolor": "white",
             "linecolor": "white",
             "minorgridcolor": "white",
             "startlinecolor": "#2a3f5f"
            },
            "baxis": {
             "endlinecolor": "#2a3f5f",
             "gridcolor": "white",
             "linecolor": "white",
             "minorgridcolor": "white",
             "startlinecolor": "#2a3f5f"
            },
            "type": "carpet"
           }
          ],
          "choropleth": [
           {
            "colorbar": {
             "outlinewidth": 0,
             "ticks": ""
            },
            "type": "choropleth"
           }
          ],
          "contour": [
           {
            "colorbar": {
             "outlinewidth": 0,
             "ticks": ""
            },
            "colorscale": [
             [
              0,
              "#0d0887"
             ],
             [
              0.1111111111111111,
              "#46039f"
             ],
             [
              0.2222222222222222,
              "#7201a8"
             ],
             [
              0.3333333333333333,
              "#9c179e"
             ],
             [
              0.4444444444444444,
              "#bd3786"
             ],
             [
              0.5555555555555556,
              "#d8576b"
             ],
             [
              0.6666666666666666,
              "#ed7953"
             ],
             [
              0.7777777777777778,
              "#fb9f3a"
             ],
             [
              0.8888888888888888,
              "#fdca26"
             ],
             [
              1,
              "#f0f921"
             ]
            ],
            "type": "contour"
           }
          ],
          "contourcarpet": [
           {
            "colorbar": {
             "outlinewidth": 0,
             "ticks": ""
            },
            "type": "contourcarpet"
           }
          ],
          "heatmap": [
           {
            "colorbar": {
             "outlinewidth": 0,
             "ticks": ""
            },
            "colorscale": [
             [
              0,
              "#0d0887"
             ],
             [
              0.1111111111111111,
              "#46039f"
             ],
             [
              0.2222222222222222,
              "#7201a8"
             ],
             [
              0.3333333333333333,
              "#9c179e"
             ],
             [
              0.4444444444444444,
              "#bd3786"
             ],
             [
              0.5555555555555556,
              "#d8576b"
             ],
             [
              0.6666666666666666,
              "#ed7953"
             ],
             [
              0.7777777777777778,
              "#fb9f3a"
             ],
             [
              0.8888888888888888,
              "#fdca26"
             ],
             [
              1,
              "#f0f921"
             ]
            ],
            "type": "heatmap"
           }
          ],
          "histogram": [
           {
            "marker": {
             "pattern": {
              "fillmode": "overlay",
              "size": 10,
              "solidity": 0.2
             }
            },
            "type": "histogram"
           }
          ],
          "histogram2d": [
           {
            "colorbar": {
             "outlinewidth": 0,
             "ticks": ""
            },
            "colorscale": [
             [
              0,
              "#0d0887"
             ],
             [
              0.1111111111111111,
              "#46039f"
             ],
             [
              0.2222222222222222,
              "#7201a8"
             ],
             [
              0.3333333333333333,
              "#9c179e"
             ],
             [
              0.4444444444444444,
              "#bd3786"
             ],
             [
              0.5555555555555556,
              "#d8576b"
             ],
             [
              0.6666666666666666,
              "#ed7953"
             ],
             [
              0.7777777777777778,
              "#fb9f3a"
             ],
             [
              0.8888888888888888,
              "#fdca26"
             ],
             [
              1,
              "#f0f921"
             ]
            ],
            "type": "histogram2d"
           }
          ],
          "histogram2dcontour": [
           {
            "colorbar": {
             "outlinewidth": 0,
             "ticks": ""
            },
            "colorscale": [
             [
              0,
              "#0d0887"
             ],
             [
              0.1111111111111111,
              "#46039f"
             ],
             [
              0.2222222222222222,
              "#7201a8"
             ],
             [
              0.3333333333333333,
              "#9c179e"
             ],
             [
              0.4444444444444444,
              "#bd3786"
             ],
             [
              0.5555555555555556,
              "#d8576b"
             ],
             [
              0.6666666666666666,
              "#ed7953"
             ],
             [
              0.7777777777777778,
              "#fb9f3a"
             ],
             [
              0.8888888888888888,
              "#fdca26"
             ],
             [
              1,
              "#f0f921"
             ]
            ],
            "type": "histogram2dcontour"
           }
          ],
          "mesh3d": [
           {
            "colorbar": {
             "outlinewidth": 0,
             "ticks": ""
            },
            "type": "mesh3d"
           }
          ],
          "parcoords": [
           {
            "line": {
             "colorbar": {
              "outlinewidth": 0,
              "ticks": ""
             }
            },
            "type": "parcoords"
           }
          ],
          "pie": [
           {
            "automargin": true,
            "type": "pie"
           }
          ],
          "scatter": [
           {
            "fillpattern": {
             "fillmode": "overlay",
             "size": 10,
             "solidity": 0.2
            },
            "type": "scatter"
           }
          ],
          "scatter3d": [
           {
            "line": {
             "colorbar": {
              "outlinewidth": 0,
              "ticks": ""
             }
            },
            "marker": {
             "colorbar": {
              "outlinewidth": 0,
              "ticks": ""
             }
            },
            "type": "scatter3d"
           }
          ],
          "scattercarpet": [
           {
            "marker": {
             "colorbar": {
              "outlinewidth": 0,
              "ticks": ""
             }
            },
            "type": "scattercarpet"
           }
          ],
          "scattergeo": [
           {
            "marker": {
             "colorbar": {
              "outlinewidth": 0,
              "ticks": ""
             }
            },
            "type": "scattergeo"
           }
          ],
          "scattergl": [
           {
            "marker": {
             "colorbar": {
              "outlinewidth": 0,
              "ticks": ""
             }
            },
            "type": "scattergl"
           }
          ],
          "scattermap": [
           {
            "marker": {
             "colorbar": {
              "outlinewidth": 0,
              "ticks": ""
             }
            },
            "type": "scattermap"
           }
          ],
          "scattermapbox": [
           {
            "marker": {
             "colorbar": {
              "outlinewidth": 0,
              "ticks": ""
             }
            },
            "type": "scattermapbox"
           }
          ],
          "scatterpolar": [
           {
            "marker": {
             "colorbar": {
              "outlinewidth": 0,
              "ticks": ""
             }
            },
            "type": "scatterpolar"
           }
          ],
          "scatterpolargl": [
           {
            "marker": {
             "colorbar": {
              "outlinewidth": 0,
              "ticks": ""
             }
            },
            "type": "scatterpolargl"
           }
          ],
          "scatterternary": [
           {
            "marker": {
             "colorbar": {
              "outlinewidth": 0,
              "ticks": ""
             }
            },
            "type": "scatterternary"
           }
          ],
          "surface": [
           {
            "colorbar": {
             "outlinewidth": 0,
             "ticks": ""
            },
            "colorscale": [
             [
              0,
              "#0d0887"
             ],
             [
              0.1111111111111111,
              "#46039f"
             ],
             [
              0.2222222222222222,
              "#7201a8"
             ],
             [
              0.3333333333333333,
              "#9c179e"
             ],
             [
              0.4444444444444444,
              "#bd3786"
             ],
             [
              0.5555555555555556,
              "#d8576b"
             ],
             [
              0.6666666666666666,
              "#ed7953"
             ],
             [
              0.7777777777777778,
              "#fb9f3a"
             ],
             [
              0.8888888888888888,
              "#fdca26"
             ],
             [
              1,
              "#f0f921"
             ]
            ],
            "type": "surface"
           }
          ],
          "table": [
           {
            "cells": {
             "fill": {
              "color": "#EBF0F8"
             },
             "line": {
              "color": "white"
             }
            },
            "header": {
             "fill": {
              "color": "#C8D4E3"
             },
             "line": {
              "color": "white"
             }
            },
            "type": "table"
           }
          ]
         },
         "layout": {
          "annotationdefaults": {
           "arrowcolor": "#2a3f5f",
           "arrowhead": 0,
           "arrowwidth": 1
          },
          "autotypenumbers": "strict",
          "coloraxis": {
           "colorbar": {
            "outlinewidth": 0,
            "ticks": ""
           }
          },
          "colorscale": {
           "diverging": [
            [
             0,
             "#8e0152"
            ],
            [
             0.1,
             "#c51b7d"
            ],
            [
             0.2,
             "#de77ae"
            ],
            [
             0.3,
             "#f1b6da"
            ],
            [
             0.4,
             "#fde0ef"
            ],
            [
             0.5,
             "#f7f7f7"
            ],
            [
             0.6,
             "#e6f5d0"
            ],
            [
             0.7,
             "#b8e186"
            ],
            [
             0.8,
             "#7fbc41"
            ],
            [
             0.9,
             "#4d9221"
            ],
            [
             1,
             "#276419"
            ]
           ],
           "sequential": [
            [
             0,
             "#0d0887"
            ],
            [
             0.1111111111111111,
             "#46039f"
            ],
            [
             0.2222222222222222,
             "#7201a8"
            ],
            [
             0.3333333333333333,
             "#9c179e"
            ],
            [
             0.4444444444444444,
             "#bd3786"
            ],
            [
             0.5555555555555556,
             "#d8576b"
            ],
            [
             0.6666666666666666,
             "#ed7953"
            ],
            [
             0.7777777777777778,
             "#fb9f3a"
            ],
            [
             0.8888888888888888,
             "#fdca26"
            ],
            [
             1,
             "#f0f921"
            ]
           ],
           "sequentialminus": [
            [
             0,
             "#0d0887"
            ],
            [
             0.1111111111111111,
             "#46039f"
            ],
            [
             0.2222222222222222,
             "#7201a8"
            ],
            [
             0.3333333333333333,
             "#9c179e"
            ],
            [
             0.4444444444444444,
             "#bd3786"
            ],
            [
             0.5555555555555556,
             "#d8576b"
            ],
            [
             0.6666666666666666,
             "#ed7953"
            ],
            [
             0.7777777777777778,
             "#fb9f3a"
            ],
            [
             0.8888888888888888,
             "#fdca26"
            ],
            [
             1,
             "#f0f921"
            ]
           ]
          },
          "colorway": [
           "#636efa",
           "#EF553B",
           "#00cc96",
           "#ab63fa",
           "#FFA15A",
           "#19d3f3",
           "#FF6692",
           "#B6E880",
           "#FF97FF",
           "#FECB52"
          ],
          "font": {
           "color": "#2a3f5f"
          },
          "geo": {
           "bgcolor": "white",
           "lakecolor": "white",
           "landcolor": "#E5ECF6",
           "showlakes": true,
           "showland": true,
           "subunitcolor": "white"
          },
          "hoverlabel": {
           "align": "left"
          },
          "hovermode": "closest",
          "mapbox": {
           "style": "light"
          },
          "paper_bgcolor": "white",
          "plot_bgcolor": "#E5ECF6",
          "polar": {
           "angularaxis": {
            "gridcolor": "white",
            "linecolor": "white",
            "ticks": ""
           },
           "bgcolor": "#E5ECF6",
           "radialaxis": {
            "gridcolor": "white",
            "linecolor": "white",
            "ticks": ""
           }
          },
          "scene": {
           "xaxis": {
            "backgroundcolor": "#E5ECF6",
            "gridcolor": "white",
            "gridwidth": 2,
            "linecolor": "white",
            "showbackground": true,
            "ticks": "",
            "zerolinecolor": "white"
           },
           "yaxis": {
            "backgroundcolor": "#E5ECF6",
            "gridcolor": "white",
            "gridwidth": 2,
            "linecolor": "white",
            "showbackground": true,
            "ticks": "",
            "zerolinecolor": "white"
           },
           "zaxis": {
            "backgroundcolor": "#E5ECF6",
            "gridcolor": "white",
            "gridwidth": 2,
            "linecolor": "white",
            "showbackground": true,
            "ticks": "",
            "zerolinecolor": "white"
           }
          },
          "shapedefaults": {
           "line": {
            "color": "#2a3f5f"
           }
          },
          "ternary": {
           "aaxis": {
            "gridcolor": "white",
            "linecolor": "white",
            "ticks": ""
           },
           "baxis": {
            "gridcolor": "white",
            "linecolor": "white",
            "ticks": ""
           },
           "bgcolor": "#E5ECF6",
           "caxis": {
            "gridcolor": "white",
            "linecolor": "white",
            "ticks": ""
           }
          },
          "title": {
           "x": 0.05
          },
          "xaxis": {
           "automargin": true,
           "gridcolor": "white",
           "linecolor": "white",
           "ticks": "",
           "title": {
            "standoff": 15
           },
           "zerolinecolor": "white",
           "zerolinewidth": 2
          },
          "yaxis": {
           "automargin": true,
           "gridcolor": "white",
           "linecolor": "white",
           "ticks": "",
           "title": {
            "standoff": 15
           },
           "zerolinecolor": "white",
           "zerolinewidth": 2
          }
         }
        },
        "title": {
         "text": "Myeloid progenitor differentiation data"
        },
        "width": 600,
        "xaxis": {
         "anchor": "y",
         "domain": [
          0,
          1
         ],
         "title": {
          "text": "x"
         }
        },
        "yaxis": {
         "anchor": "x",
         "domain": [
          0,
          1
         ],
         "title": {
          "text": "y"
         }
        }
       }
      }
     },
     "metadata": {},
     "output_type": "display_data"
    }
   ],
   "source": [
    "fig = px.scatter(\n",
    "    x=adata.obsm[\"X_pca\"][:, 0],\n",
    "    y=adata.obsm[\"X_pca\"][:, 1],\n",
    "    color=adata.obs[\"cell_type\"],\n",
    "    title=\"Myeloid progenitor differentiation data\",\n",
    "    width=600,\n",
    "    height=600,\n",
    ")\n",
    "fig.update_traces(marker=dict(size=5))\n",
    "fig.show()"
   ]
  },
  {
   "cell_type": "markdown",
   "id": "1dcaf621",
   "metadata": {},
   "source": [
    "# Train model"
   ]
  },
  {
   "cell_type": "code",
   "execution_count": null,
   "id": "cc28cbd7",
   "metadata": {},
   "outputs": [],
   "source": [
    "d_hidden = 64\n",
    "n_epochs = 100\n",
    "lr = 1e-5"
   ]
  },
  {
   "cell_type": "code",
   "execution_count": null,
   "id": "1de08dbd",
   "metadata": {},
   "outputs": [
    {
     "name": "stderr",
     "output_type": "stream",
     "text": [
      "Training for 100 epochs:   0%|          | 0/100 [00:00<?, ?it/s]"
     ]
    },
    {
     "name": "stderr",
     "output_type": "stream",
     "text": [
      "Training for 100 epochs: 100%|██████████| 100/100 [00:12<00:00,  7.86it/s, train_acc=1.0000, train_loss=0.0066, val_acc=0.8949, val_loss=0.2756]\n"
     ]
    }
   ],
   "source": [
    "cfg = Config(\n",
    "    d_input=n_genes,\n",
    "    d_hidden=d_hidden,\n",
    "    d_output=n_cell_types,\n",
    "    n_epochs=n_epochs,\n",
    "    lr=lr,\n",
    "    device=DEVICE,\n",
    ")\n",
    "model = ScBMLPClassifier(cfg)\n",
    "train_losses, val_losses = model.fit(train_dataset, val_dataset)"
   ]
  },
  {
   "cell_type": "code",
   "execution_count": null,
   "id": "68d0bbaa",
   "metadata": {},
   "outputs": [
    {
     "data": {
      "application/vnd.plotly.v1+json": {
       "config": {
        "plotlyServerURL": "https://plot.ly"
       },
       "data": [
        {
         "hovertemplate": "Type=Train<br>Epoch=%{x}<br>Loss=%{y}<extra></extra>",
         "legendgroup": "Train",
         "line": {
          "color": "#636efa",
          "dash": "solid"
         },
         "marker": {
          "symbol": "circle"
         },
         "mode": "lines",
         "name": "Train",
         "orientation": "v",
         "showlegend": true,
         "type": "scatter",
         "x": {
          "bdata": "AAECAwQFBgcICQoLDA0ODxAREhMUFRYXGBkaGxwdHh8gISIjJCUmJygpKissLS4vMDEyMzQ1Njc4OTo7PD0+P0BBQkNERUZHSElKS0xNTk9QUVJTVFVWV1hZWltcXV5fYGFiYw==",
          "dtype": "i1"
         },
         "xaxis": "x",
         "y": {
          "bdata": "AAAAYIgT8T8AAADgvKLvPwAAAOD3we0/AAAA4MP66j8AAAAAxOvoPwAAAGBSyec/AAAAQB/k4z8AAAAg8nbjPwAAAADMOdc/AAAAoBm51z8AAAAAGgjVPwAAAMAzG9Q/AAAAoBHA0D8AAACgviLFPwAAAABQC9Q/AAAAoAX8zz8AAACgJBrJPwAAAGAzY8k/AAAAwFHGxD8AAADAK2PAPwAAAICaabc/AAAAADHFuT8AAABAX9a3PwAAAMAnTbM/AAAAIDEssT8AAAAg06WuPwAAAGABO7g/AAAAYLdarT8AAAAgOM6sPwAAAEBISrE/AAAAQBAlqz8AAADgH1erPwAAAIAlb68/AAAAoGDcpD8AAACA9wqqPwAAAICeEKA/AAAAYJs0oz8AAADgvdmiPwAAAABfZaM/AAAAQLDnoT8AAABA87yZPwAAAEDfuZY/AAAAYBaGoD8AAADg4PSgPwAAAMDWqpg/AAAAgEUglz8AAAAgzLuWPwAAAODEPJk/AAAAwD1ikz8AAABASl2SPwAAACASxZ0/AAAAoPoMkD8AAABgilOUPwAAAMATGJg/AAAAwK/jlT8AAACAiaaBPwAAAOAra4I/AAAAgNVskj8AAABg2uWSPwAAAMAsCoA/AAAA4BXGjD8AAADAJ8mOPwAAAOAwh5E/AAAAgFOyhD8AAADgwHSCPwAAAEBx5II/AAAAIE0iiD8AAABgNp6FPwAAAKB1MYY/AAAA4Ixbhz8AAAAAHJaAPwAAAMBLFXg/AAAAYGxbdz8AAACgWRmAPwAAAOB+JYU/AAAAQFahfT8AAABgMWd1PwAAAGBIhoA/AAAAID4MgT8AAACA+DWEPwAAAOBJ8Xg/AAAAQLSBgD8AAAAA+J59PwAAAODC9Hw/AAAAoMA6fj8AAADgOvR2PwAAAGDFsHs/AAAAYMK/fD8AAABgvL+APwAAAMCXYn0/AAAAoFe1gT8AAABAF2CBPwAAAECusn0/AAAAwDaTeD8AAACAq9R7PwAAACAPcno/AAAAgBAbgT8AAABgAOeDPwAAAICOmHc/AAAAoAEyez8=",
          "dtype": "f8"
         },
         "yaxis": "y"
        },
        {
         "hovertemplate": "Type=Validation<br>Epoch=%{x}<br>Loss=%{y}<extra></extra>",
         "legendgroup": "Validation",
         "line": {
          "color": "#EF553B",
          "dash": "solid"
         },
         "marker": {
          "symbol": "circle"
         },
         "mode": "lines",
         "name": "Validation",
         "orientation": "v",
         "showlegend": true,
         "type": "scatter",
         "x": {
          "bdata": "AAECAwQFBgcICQoLDA0ODxAREhMUFRYXGBkaGxwdHh8gISIjJCUmJygpKissLS4vMDEyMzQ1Njc4OTo7PD0+P0BBQkNERUZHSElKS0xNTk9QUVJTVFVWV1hZWltcXV5fYGFiYw==",
          "dtype": "i1"
         },
         "xaxis": "x",
         "y": {
          "bdata": "AAAA4B4t8T8AAAAAAonwPwAAAOAOWO8/AAAAQEJa7T8AAADgmXPrPwAAAEDDiek/AAAAIGWd5z8AAABAdbblPwAAAKAa9+M/AAAAoOVf4j8AAADg3v3gPwAAACDLnN8/AAAAAHWr3T8AAADg7f/bPwAAAICCn9o/AAAAgOZl2T8AAACAhWjYPwAAAAB1ktc/AAAAgM/b1j8AAADgezXWPwAAAGD8q9U/AAAA4GM31T8AAADAbMjUPwAAAGAlcNQ/AAAAIFQZ1D8AAABgftfTPwAAAMDSlNM/AAAAQCle0z8AAACgNDLTPwAAAECwANM/AAAA4BDd0j8AAADgrLTSPwAAAGCHm9I/AAAAgLOC0j8AAABAfmPSPwAAAOB7VNI/AAAAgPs60j8AAABg6inSPwAAAKA+GtI/AAAAQN4G0j8AAADAB/3RPwAAAGBE8dE/AAAAoHjn0T8AAACAKODRPwAAAECp1tE/AAAAoBDR0T8AAAAAucfRPwAAAMDTv9E/AAAAYJG+0T8AAAAABrbRPwAAAEAetNE/AAAAwCCx0T8AAADg5K7RPwAAAKB8qdE/AAAAwC+p0T8AAACgzqfRPwAAAEDrpNE/AAAAIOik0T8AAABgWqPRPwAAAMB9odE/AAAAII+g0T8AAACAJJ/RPwAAAMCBn9E/AAAAwA+f0T8AAADgpJ3RPwAAAKAZntE/AAAAQDqd0T8AAACAg57RPwAAAMB+ndE/AAAAIFOh0T8AAAAA6J7RPwAAAKBpn9E/AAAAYPee0T8AAAAgDaDRPwAAAIAan9E/AAAA4DCg0T8AAAAARqDRPwAAACDZodE/AAAAYLmh0T8AAAAgcKHRPwAAAKDHodE/AAAAgPyh0T8AAABgBqLRPwAAAEDlotE/AAAAQHCi0T8AAADAXqPRPwAAAID1otE/AAAAwEyj0T8AAABAtqPRPwAAAOCxo9E/AAAAwNSj0T8AAACg2KPRPwAAACDeo9E/AAAAwO2j0T8AAAAg+aPRPwAAAGD4o9E/AAAAgACk0T8AAAAAAqTRPwAAAMAFpNE/AAAAAAWk0T8=",
          "dtype": "f8"
         },
         "yaxis": "y"
        }
       ],
       "layout": {
        "legend": {
         "title": {
          "text": "Type"
         },
         "tracegroupgap": 0
        },
        "template": {
         "data": {
          "bar": [
           {
            "error_x": {
             "color": "#2a3f5f"
            },
            "error_y": {
             "color": "#2a3f5f"
            },
            "marker": {
             "line": {
              "color": "#E5ECF6",
              "width": 0.5
             },
             "pattern": {
              "fillmode": "overlay",
              "size": 10,
              "solidity": 0.2
             }
            },
            "type": "bar"
           }
          ],
          "barpolar": [
           {
            "marker": {
             "line": {
              "color": "#E5ECF6",
              "width": 0.5
             },
             "pattern": {
              "fillmode": "overlay",
              "size": 10,
              "solidity": 0.2
             }
            },
            "type": "barpolar"
           }
          ],
          "carpet": [
           {
            "aaxis": {
             "endlinecolor": "#2a3f5f",
             "gridcolor": "white",
             "linecolor": "white",
             "minorgridcolor": "white",
             "startlinecolor": "#2a3f5f"
            },
            "baxis": {
             "endlinecolor": "#2a3f5f",
             "gridcolor": "white",
             "linecolor": "white",
             "minorgridcolor": "white",
             "startlinecolor": "#2a3f5f"
            },
            "type": "carpet"
           }
          ],
          "choropleth": [
           {
            "colorbar": {
             "outlinewidth": 0,
             "ticks": ""
            },
            "type": "choropleth"
           }
          ],
          "contour": [
           {
            "colorbar": {
             "outlinewidth": 0,
             "ticks": ""
            },
            "colorscale": [
             [
              0,
              "#0d0887"
             ],
             [
              0.1111111111111111,
              "#46039f"
             ],
             [
              0.2222222222222222,
              "#7201a8"
             ],
             [
              0.3333333333333333,
              "#9c179e"
             ],
             [
              0.4444444444444444,
              "#bd3786"
             ],
             [
              0.5555555555555556,
              "#d8576b"
             ],
             [
              0.6666666666666666,
              "#ed7953"
             ],
             [
              0.7777777777777778,
              "#fb9f3a"
             ],
             [
              0.8888888888888888,
              "#fdca26"
             ],
             [
              1,
              "#f0f921"
             ]
            ],
            "type": "contour"
           }
          ],
          "contourcarpet": [
           {
            "colorbar": {
             "outlinewidth": 0,
             "ticks": ""
            },
            "type": "contourcarpet"
           }
          ],
          "heatmap": [
           {
            "colorbar": {
             "outlinewidth": 0,
             "ticks": ""
            },
            "colorscale": [
             [
              0,
              "#0d0887"
             ],
             [
              0.1111111111111111,
              "#46039f"
             ],
             [
              0.2222222222222222,
              "#7201a8"
             ],
             [
              0.3333333333333333,
              "#9c179e"
             ],
             [
              0.4444444444444444,
              "#bd3786"
             ],
             [
              0.5555555555555556,
              "#d8576b"
             ],
             [
              0.6666666666666666,
              "#ed7953"
             ],
             [
              0.7777777777777778,
              "#fb9f3a"
             ],
             [
              0.8888888888888888,
              "#fdca26"
             ],
             [
              1,
              "#f0f921"
             ]
            ],
            "type": "heatmap"
           }
          ],
          "histogram": [
           {
            "marker": {
             "pattern": {
              "fillmode": "overlay",
              "size": 10,
              "solidity": 0.2
             }
            },
            "type": "histogram"
           }
          ],
          "histogram2d": [
           {
            "colorbar": {
             "outlinewidth": 0,
             "ticks": ""
            },
            "colorscale": [
             [
              0,
              "#0d0887"
             ],
             [
              0.1111111111111111,
              "#46039f"
             ],
             [
              0.2222222222222222,
              "#7201a8"
             ],
             [
              0.3333333333333333,
              "#9c179e"
             ],
             [
              0.4444444444444444,
              "#bd3786"
             ],
             [
              0.5555555555555556,
              "#d8576b"
             ],
             [
              0.6666666666666666,
              "#ed7953"
             ],
             [
              0.7777777777777778,
              "#fb9f3a"
             ],
             [
              0.8888888888888888,
              "#fdca26"
             ],
             [
              1,
              "#f0f921"
             ]
            ],
            "type": "histogram2d"
           }
          ],
          "histogram2dcontour": [
           {
            "colorbar": {
             "outlinewidth": 0,
             "ticks": ""
            },
            "colorscale": [
             [
              0,
              "#0d0887"
             ],
             [
              0.1111111111111111,
              "#46039f"
             ],
             [
              0.2222222222222222,
              "#7201a8"
             ],
             [
              0.3333333333333333,
              "#9c179e"
             ],
             [
              0.4444444444444444,
              "#bd3786"
             ],
             [
              0.5555555555555556,
              "#d8576b"
             ],
             [
              0.6666666666666666,
              "#ed7953"
             ],
             [
              0.7777777777777778,
              "#fb9f3a"
             ],
             [
              0.8888888888888888,
              "#fdca26"
             ],
             [
              1,
              "#f0f921"
             ]
            ],
            "type": "histogram2dcontour"
           }
          ],
          "mesh3d": [
           {
            "colorbar": {
             "outlinewidth": 0,
             "ticks": ""
            },
            "type": "mesh3d"
           }
          ],
          "parcoords": [
           {
            "line": {
             "colorbar": {
              "outlinewidth": 0,
              "ticks": ""
             }
            },
            "type": "parcoords"
           }
          ],
          "pie": [
           {
            "automargin": true,
            "type": "pie"
           }
          ],
          "scatter": [
           {
            "fillpattern": {
             "fillmode": "overlay",
             "size": 10,
             "solidity": 0.2
            },
            "type": "scatter"
           }
          ],
          "scatter3d": [
           {
            "line": {
             "colorbar": {
              "outlinewidth": 0,
              "ticks": ""
             }
            },
            "marker": {
             "colorbar": {
              "outlinewidth": 0,
              "ticks": ""
             }
            },
            "type": "scatter3d"
           }
          ],
          "scattercarpet": [
           {
            "marker": {
             "colorbar": {
              "outlinewidth": 0,
              "ticks": ""
             }
            },
            "type": "scattercarpet"
           }
          ],
          "scattergeo": [
           {
            "marker": {
             "colorbar": {
              "outlinewidth": 0,
              "ticks": ""
             }
            },
            "type": "scattergeo"
           }
          ],
          "scattergl": [
           {
            "marker": {
             "colorbar": {
              "outlinewidth": 0,
              "ticks": ""
             }
            },
            "type": "scattergl"
           }
          ],
          "scattermap": [
           {
            "marker": {
             "colorbar": {
              "outlinewidth": 0,
              "ticks": ""
             }
            },
            "type": "scattermap"
           }
          ],
          "scattermapbox": [
           {
            "marker": {
             "colorbar": {
              "outlinewidth": 0,
              "ticks": ""
             }
            },
            "type": "scattermapbox"
           }
          ],
          "scatterpolar": [
           {
            "marker": {
             "colorbar": {
              "outlinewidth": 0,
              "ticks": ""
             }
            },
            "type": "scatterpolar"
           }
          ],
          "scatterpolargl": [
           {
            "marker": {
             "colorbar": {
              "outlinewidth": 0,
              "ticks": ""
             }
            },
            "type": "scatterpolargl"
           }
          ],
          "scatterternary": [
           {
            "marker": {
             "colorbar": {
              "outlinewidth": 0,
              "ticks": ""
             }
            },
            "type": "scatterternary"
           }
          ],
          "surface": [
           {
            "colorbar": {
             "outlinewidth": 0,
             "ticks": ""
            },
            "colorscale": [
             [
              0,
              "#0d0887"
             ],
             [
              0.1111111111111111,
              "#46039f"
             ],
             [
              0.2222222222222222,
              "#7201a8"
             ],
             [
              0.3333333333333333,
              "#9c179e"
             ],
             [
              0.4444444444444444,
              "#bd3786"
             ],
             [
              0.5555555555555556,
              "#d8576b"
             ],
             [
              0.6666666666666666,
              "#ed7953"
             ],
             [
              0.7777777777777778,
              "#fb9f3a"
             ],
             [
              0.8888888888888888,
              "#fdca26"
             ],
             [
              1,
              "#f0f921"
             ]
            ],
            "type": "surface"
           }
          ],
          "table": [
           {
            "cells": {
             "fill": {
              "color": "#EBF0F8"
             },
             "line": {
              "color": "white"
             }
            },
            "header": {
             "fill": {
              "color": "#C8D4E3"
             },
             "line": {
              "color": "white"
             }
            },
            "type": "table"
           }
          ]
         },
         "layout": {
          "annotationdefaults": {
           "arrowcolor": "#2a3f5f",
           "arrowhead": 0,
           "arrowwidth": 1
          },
          "autotypenumbers": "strict",
          "coloraxis": {
           "colorbar": {
            "outlinewidth": 0,
            "ticks": ""
           }
          },
          "colorscale": {
           "diverging": [
            [
             0,
             "#8e0152"
            ],
            [
             0.1,
             "#c51b7d"
            ],
            [
             0.2,
             "#de77ae"
            ],
            [
             0.3,
             "#f1b6da"
            ],
            [
             0.4,
             "#fde0ef"
            ],
            [
             0.5,
             "#f7f7f7"
            ],
            [
             0.6,
             "#e6f5d0"
            ],
            [
             0.7,
             "#b8e186"
            ],
            [
             0.8,
             "#7fbc41"
            ],
            [
             0.9,
             "#4d9221"
            ],
            [
             1,
             "#276419"
            ]
           ],
           "sequential": [
            [
             0,
             "#0d0887"
            ],
            [
             0.1111111111111111,
             "#46039f"
            ],
            [
             0.2222222222222222,
             "#7201a8"
            ],
            [
             0.3333333333333333,
             "#9c179e"
            ],
            [
             0.4444444444444444,
             "#bd3786"
            ],
            [
             0.5555555555555556,
             "#d8576b"
            ],
            [
             0.6666666666666666,
             "#ed7953"
            ],
            [
             0.7777777777777778,
             "#fb9f3a"
            ],
            [
             0.8888888888888888,
             "#fdca26"
            ],
            [
             1,
             "#f0f921"
            ]
           ],
           "sequentialminus": [
            [
             0,
             "#0d0887"
            ],
            [
             0.1111111111111111,
             "#46039f"
            ],
            [
             0.2222222222222222,
             "#7201a8"
            ],
            [
             0.3333333333333333,
             "#9c179e"
            ],
            [
             0.4444444444444444,
             "#bd3786"
            ],
            [
             0.5555555555555556,
             "#d8576b"
            ],
            [
             0.6666666666666666,
             "#ed7953"
            ],
            [
             0.7777777777777778,
             "#fb9f3a"
            ],
            [
             0.8888888888888888,
             "#fdca26"
            ],
            [
             1,
             "#f0f921"
            ]
           ]
          },
          "colorway": [
           "#636efa",
           "#EF553B",
           "#00cc96",
           "#ab63fa",
           "#FFA15A",
           "#19d3f3",
           "#FF6692",
           "#B6E880",
           "#FF97FF",
           "#FECB52"
          ],
          "font": {
           "color": "#2a3f5f"
          },
          "geo": {
           "bgcolor": "white",
           "lakecolor": "white",
           "landcolor": "#E5ECF6",
           "showlakes": true,
           "showland": true,
           "subunitcolor": "white"
          },
          "hoverlabel": {
           "align": "left"
          },
          "hovermode": "closest",
          "mapbox": {
           "style": "light"
          },
          "paper_bgcolor": "white",
          "plot_bgcolor": "#E5ECF6",
          "polar": {
           "angularaxis": {
            "gridcolor": "white",
            "linecolor": "white",
            "ticks": ""
           },
           "bgcolor": "#E5ECF6",
           "radialaxis": {
            "gridcolor": "white",
            "linecolor": "white",
            "ticks": ""
           }
          },
          "scene": {
           "xaxis": {
            "backgroundcolor": "#E5ECF6",
            "gridcolor": "white",
            "gridwidth": 2,
            "linecolor": "white",
            "showbackground": true,
            "ticks": "",
            "zerolinecolor": "white"
           },
           "yaxis": {
            "backgroundcolor": "#E5ECF6",
            "gridcolor": "white",
            "gridwidth": 2,
            "linecolor": "white",
            "showbackground": true,
            "ticks": "",
            "zerolinecolor": "white"
           },
           "zaxis": {
            "backgroundcolor": "#E5ECF6",
            "gridcolor": "white",
            "gridwidth": 2,
            "linecolor": "white",
            "showbackground": true,
            "ticks": "",
            "zerolinecolor": "white"
           }
          },
          "shapedefaults": {
           "line": {
            "color": "#2a3f5f"
           }
          },
          "ternary": {
           "aaxis": {
            "gridcolor": "white",
            "linecolor": "white",
            "ticks": ""
           },
           "baxis": {
            "gridcolor": "white",
            "linecolor": "white",
            "ticks": ""
           },
           "bgcolor": "#E5ECF6",
           "caxis": {
            "gridcolor": "white",
            "linecolor": "white",
            "ticks": ""
           }
          },
          "title": {
           "x": 0.05
          },
          "xaxis": {
           "automargin": true,
           "gridcolor": "white",
           "linecolor": "white",
           "ticks": "",
           "title": {
            "standoff": 15
           },
           "zerolinecolor": "white",
           "zerolinewidth": 2
          },
          "yaxis": {
           "automargin": true,
           "gridcolor": "white",
           "linecolor": "white",
           "ticks": "",
           "title": {
            "standoff": 15
           },
           "zerolinecolor": "white",
           "zerolinewidth": 2
          }
         }
        },
        "title": {
         "text": "Training and Validation Loss"
        },
        "xaxis": {
         "anchor": "y",
         "domain": [
          0,
          1
         ],
         "title": {
          "text": "Epoch"
         }
        },
        "yaxis": {
         "anchor": "x",
         "domain": [
          0,
          1
         ],
         "title": {
          "text": "Loss"
         }
        }
       }
      }
     },
     "metadata": {},
     "output_type": "display_data"
    }
   ],
   "source": [
    "# Combine train and val losses into a single plot\n",
    "loss_df = pd.DataFrame({\n",
    "    'Epoch': list(range(len(train_losses))) + list(range(len(val_losses))),\n",
    "    'Loss': train_losses + val_losses,\n",
    "    'Type': ['Train'] * len(train_losses) + ['Validation'] * len(val_losses)\n",
    "})\n",
    "\n",
    "px.line(loss_df, x='Epoch', y='Loss', color='Type', \n",
    "        title='Training and Validation Loss', \n",
    "        labels={'Loss': 'Loss', 'Epoch': 'Epoch'}).show()"
   ]
  }
 ],
 "metadata": {
  "kernelspec": {
   "display_name": "bmlp-env",
   "language": "python",
   "name": "python3"
  },
  "language_info": {
   "codemirror_mode": {
    "name": "ipython",
    "version": 3
   },
   "file_extension": ".py",
   "mimetype": "text/x-python",
   "name": "python",
   "nbconvert_exporter": "python",
   "pygments_lexer": "ipython3",
   "version": "3.9.23"
  }
 },
 "nbformat": 4,
 "nbformat_minor": 5
}
