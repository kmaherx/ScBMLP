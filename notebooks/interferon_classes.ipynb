{
 "cells": [
  {
   "cell_type": "markdown",
   "id": "fe28d0e1",
   "metadata": {},
   "source": [
    "# Imports"
   ]
  },
  {
   "cell_type": "code",
   "execution_count": 33,
   "id": "9bbd8015",
   "metadata": {},
   "outputs": [],
   "source": [
    "from typing import Tuple, List, Dict, Any\n",
    "\n",
    "import pertpy as pt\n",
    "import scanpy as sc\n",
    "import numpy as np\n",
    "import plotly.express as px\n",
    "import pandas as pd\n",
    "import einops\n",
    "import gseapy as gp\n",
    "from gseapy import enrichr\n",
    "\n",
    "from scripts.datasets import get_classification_datasets\n",
    "from scripts.bmlp import ScBMLPClassifier, Config\n",
    "import torch"
   ]
  },
  {
   "cell_type": "markdown",
   "id": "5711c789",
   "metadata": {},
   "source": [
    "# Set params"
   ]
  },
  {
   "cell_type": "code",
   "execution_count": 2,
   "id": "7d9307e6",
   "metadata": {},
   "outputs": [],
   "source": [
    "class_key = \"condition\"\n",
    "DEVICE = \"cpu\"  # faster than mps..."
   ]
  },
  {
   "cell_type": "markdown",
   "id": "bed2e336",
   "metadata": {},
   "source": [
    "# Load data"
   ]
  },
  {
   "cell_type": "markdown",
   "id": "09bfc5ee",
   "metadata": {},
   "source": [
    "## Load and format"
   ]
  },
  {
   "cell_type": "code",
   "execution_count": 3,
   "id": "1b17ee6e",
   "metadata": {},
   "outputs": [],
   "source": [
    "adata = pt.data.kang_2018()"
   ]
  },
  {
   "cell_type": "code",
   "execution_count": 4,
   "id": "55a05a10",
   "metadata": {},
   "outputs": [
    {
     "data": {
      "text/plain": [
       "AnnData object with n_obs × n_vars = 24673 × 15706\n",
       "    obs: 'nCount_RNA', 'nFeature_RNA', 'tsne1', 'tsne2', 'label', 'cluster', 'cell_type', 'replicate', 'nCount_SCT', 'nFeature_SCT', 'integrated_snn_res.0.4', 'seurat_clusters'\n",
       "    var: 'name'\n",
       "    obsm: 'X_pca', 'X_umap'"
      ]
     },
     "execution_count": 4,
     "metadata": {},
     "output_type": "execute_result"
    }
   ],
   "source": [
    "adata"
   ]
  },
  {
   "cell_type": "code",
   "execution_count": 5,
   "id": "ddb4472b",
   "metadata": {},
   "outputs": [],
   "source": [
    "sc.pp.filter_cells(adata, min_counts=100)\n",
    "sc.pp.filter_genes(adata, min_cells=100)\n",
    "sc.pp.normalize_total(adata)\n",
    "sc.pp.log1p(adata)\n",
    "# sc.pp.highly_variable_genes(adata, n_top_genes=5000)"
   ]
  },
  {
   "cell_type": "code",
   "execution_count": 6,
   "id": "e897b77c",
   "metadata": {},
   "outputs": [
    {
     "data": {
      "text/plain": [
       "AnnData object with n_obs × n_vars = 24673 × 9113\n",
       "    obs: 'nCount_RNA', 'nFeature_RNA', 'tsne1', 'tsne2', 'label', 'cluster', 'cell_type', 'replicate', 'nCount_SCT', 'nFeature_SCT', 'integrated_snn_res.0.4', 'seurat_clusters', 'n_counts'\n",
       "    var: 'name', 'n_cells'\n",
       "    uns: 'log1p'\n",
       "    obsm: 'X_pca', 'X_umap'"
      ]
     },
     "execution_count": 6,
     "metadata": {},
     "output_type": "execute_result"
    }
   ],
   "source": [
    "adata"
   ]
  },
  {
   "cell_type": "code",
   "execution_count": 7,
   "id": "36e3f51a",
   "metadata": {},
   "outputs": [
    {
     "data": {
      "text/html": [
       "<div>\n",
       "<style scoped>\n",
       "    .dataframe tbody tr th:only-of-type {\n",
       "        vertical-align: middle;\n",
       "    }\n",
       "\n",
       "    .dataframe tbody tr th {\n",
       "        vertical-align: top;\n",
       "    }\n",
       "\n",
       "    .dataframe thead th {\n",
       "        text-align: right;\n",
       "    }\n",
       "</style>\n",
       "<table border=\"1\" class=\"dataframe\">\n",
       "  <thead>\n",
       "    <tr style=\"text-align: right;\">\n",
       "      <th></th>\n",
       "      <th>nCount_RNA</th>\n",
       "      <th>nFeature_RNA</th>\n",
       "      <th>tsne1</th>\n",
       "      <th>tsne2</th>\n",
       "      <th>label</th>\n",
       "      <th>cluster</th>\n",
       "      <th>cell_type</th>\n",
       "      <th>replicate</th>\n",
       "      <th>nCount_SCT</th>\n",
       "      <th>nFeature_SCT</th>\n",
       "      <th>integrated_snn_res.0.4</th>\n",
       "      <th>seurat_clusters</th>\n",
       "      <th>n_counts</th>\n",
       "    </tr>\n",
       "    <tr>\n",
       "      <th>index</th>\n",
       "      <th></th>\n",
       "      <th></th>\n",
       "      <th></th>\n",
       "      <th></th>\n",
       "      <th></th>\n",
       "      <th></th>\n",
       "      <th></th>\n",
       "      <th></th>\n",
       "      <th></th>\n",
       "      <th></th>\n",
       "      <th></th>\n",
       "      <th></th>\n",
       "      <th></th>\n",
       "    </tr>\n",
       "  </thead>\n",
       "  <tbody>\n",
       "    <tr>\n",
       "      <th>AAACATACATTTCC-1</th>\n",
       "      <td>3017.0</td>\n",
       "      <td>877</td>\n",
       "      <td>-27.640373</td>\n",
       "      <td>14.966629</td>\n",
       "      <td>ctrl</td>\n",
       "      <td>9</td>\n",
       "      <td>CD14+ Monocytes</td>\n",
       "      <td>patient_1016</td>\n",
       "      <td>1704.0</td>\n",
       "      <td>711</td>\n",
       "      <td>1</td>\n",
       "      <td>1</td>\n",
       "      <td>3017.0</td>\n",
       "    </tr>\n",
       "    <tr>\n",
       "      <th>AAACATACCAGAAA-1</th>\n",
       "      <td>2481.0</td>\n",
       "      <td>713</td>\n",
       "      <td>-27.493646</td>\n",
       "      <td>28.924885</td>\n",
       "      <td>ctrl</td>\n",
       "      <td>9</td>\n",
       "      <td>CD14+ Monocytes</td>\n",
       "      <td>patient_1256</td>\n",
       "      <td>1614.0</td>\n",
       "      <td>662</td>\n",
       "      <td>1</td>\n",
       "      <td>1</td>\n",
       "      <td>2481.0</td>\n",
       "    </tr>\n",
       "    <tr>\n",
       "      <th>AAACATACCATGCA-1</th>\n",
       "      <td>703.0</td>\n",
       "      <td>337</td>\n",
       "      <td>-10.468194</td>\n",
       "      <td>-5.984389</td>\n",
       "      <td>ctrl</td>\n",
       "      <td>3</td>\n",
       "      <td>CD4 T cells</td>\n",
       "      <td>patient_1488</td>\n",
       "      <td>908.0</td>\n",
       "      <td>337</td>\n",
       "      <td>6</td>\n",
       "      <td>6</td>\n",
       "      <td>703.0</td>\n",
       "    </tr>\n",
       "    <tr>\n",
       "      <th>AAACATACCTCGCT-1</th>\n",
       "      <td>3420.0</td>\n",
       "      <td>850</td>\n",
       "      <td>-24.367997</td>\n",
       "      <td>20.429285</td>\n",
       "      <td>ctrl</td>\n",
       "      <td>9</td>\n",
       "      <td>CD14+ Monocytes</td>\n",
       "      <td>patient_1256</td>\n",
       "      <td>1738.0</td>\n",
       "      <td>653</td>\n",
       "      <td>1</td>\n",
       "      <td>1</td>\n",
       "      <td>3420.0</td>\n",
       "    </tr>\n",
       "    <tr>\n",
       "      <th>AAACATACCTGGTA-1</th>\n",
       "      <td>3158.0</td>\n",
       "      <td>1111</td>\n",
       "      <td>27.952170</td>\n",
       "      <td>24.159738</td>\n",
       "      <td>ctrl</td>\n",
       "      <td>4</td>\n",
       "      <td>Dendritic cells</td>\n",
       "      <td>patient_1039</td>\n",
       "      <td>1857.0</td>\n",
       "      <td>928</td>\n",
       "      <td>12</td>\n",
       "      <td>12</td>\n",
       "      <td>3158.0</td>\n",
       "    </tr>\n",
       "    <tr>\n",
       "      <th>...</th>\n",
       "      <td>...</td>\n",
       "      <td>...</td>\n",
       "      <td>...</td>\n",
       "      <td>...</td>\n",
       "      <td>...</td>\n",
       "      <td>...</td>\n",
       "      <td>...</td>\n",
       "      <td>...</td>\n",
       "      <td>...</td>\n",
       "      <td>...</td>\n",
       "      <td>...</td>\n",
       "      <td>...</td>\n",
       "      <td>...</td>\n",
       "    </tr>\n",
       "    <tr>\n",
       "      <th>TTTGCATGCCTGAA-2</th>\n",
       "      <td>1033.0</td>\n",
       "      <td>468</td>\n",
       "      <td>18.268321</td>\n",
       "      <td>1.058202</td>\n",
       "      <td>stim</td>\n",
       "      <td>6</td>\n",
       "      <td>CD4 T cells</td>\n",
       "      <td>patient_1244</td>\n",
       "      <td>1128.0</td>\n",
       "      <td>468</td>\n",
       "      <td>2</td>\n",
       "      <td>2</td>\n",
       "      <td>1033.0</td>\n",
       "    </tr>\n",
       "    <tr>\n",
       "      <th>TTTGCATGCCTGTC-2</th>\n",
       "      <td>2116.0</td>\n",
       "      <td>819</td>\n",
       "      <td>-11.563067</td>\n",
       "      <td>2.574095</td>\n",
       "      <td>stim</td>\n",
       "      <td>4</td>\n",
       "      <td>B cells</td>\n",
       "      <td>patient_1256</td>\n",
       "      <td>1669.0</td>\n",
       "      <td>799</td>\n",
       "      <td>3</td>\n",
       "      <td>3</td>\n",
       "      <td>2116.0</td>\n",
       "    </tr>\n",
       "    <tr>\n",
       "      <th>TTTGCATGCTAAGC-2</th>\n",
       "      <td>1522.0</td>\n",
       "      <td>523</td>\n",
       "      <td>25.142392</td>\n",
       "      <td>6.603815</td>\n",
       "      <td>stim</td>\n",
       "      <td>6</td>\n",
       "      <td>CD4 T cells</td>\n",
       "      <td>patient_107</td>\n",
       "      <td>1422.0</td>\n",
       "      <td>523</td>\n",
       "      <td>0</td>\n",
       "      <td>0</td>\n",
       "      <td>1522.0</td>\n",
       "    </tr>\n",
       "    <tr>\n",
       "      <th>TTTGCATGGGACGA-2</th>\n",
       "      <td>1143.0</td>\n",
       "      <td>503</td>\n",
       "      <td>14.359657</td>\n",
       "      <td>10.965601</td>\n",
       "      <td>stim</td>\n",
       "      <td>6</td>\n",
       "      <td>CD4 T cells</td>\n",
       "      <td>patient_1488</td>\n",
       "      <td>1185.0</td>\n",
       "      <td>503</td>\n",
       "      <td>0</td>\n",
       "      <td>0</td>\n",
       "      <td>1143.0</td>\n",
       "    </tr>\n",
       "    <tr>\n",
       "      <th>TTTGCATGTCTTAC-2</th>\n",
       "      <td>1031.0</td>\n",
       "      <td>421</td>\n",
       "      <td>14.572118</td>\n",
       "      <td>-4.713942</td>\n",
       "      <td>stim</td>\n",
       "      <td>5</td>\n",
       "      <td>CD4 T cells</td>\n",
       "      <td>patient_1016</td>\n",
       "      <td>1144.0</td>\n",
       "      <td>419</td>\n",
       "      <td>2</td>\n",
       "      <td>2</td>\n",
       "      <td>1031.0</td>\n",
       "    </tr>\n",
       "  </tbody>\n",
       "</table>\n",
       "<p>24673 rows × 13 columns</p>\n",
       "</div>"
      ],
      "text/plain": [
       "                  nCount_RNA  nFeature_RNA      tsne1      tsne2 label  \\\n",
       "index                                                                    \n",
       "AAACATACATTTCC-1      3017.0           877 -27.640373  14.966629  ctrl   \n",
       "AAACATACCAGAAA-1      2481.0           713 -27.493646  28.924885  ctrl   \n",
       "AAACATACCATGCA-1       703.0           337 -10.468194  -5.984389  ctrl   \n",
       "AAACATACCTCGCT-1      3420.0           850 -24.367997  20.429285  ctrl   \n",
       "AAACATACCTGGTA-1      3158.0          1111  27.952170  24.159738  ctrl   \n",
       "...                      ...           ...        ...        ...   ...   \n",
       "TTTGCATGCCTGAA-2      1033.0           468  18.268321   1.058202  stim   \n",
       "TTTGCATGCCTGTC-2      2116.0           819 -11.563067   2.574095  stim   \n",
       "TTTGCATGCTAAGC-2      1522.0           523  25.142392   6.603815  stim   \n",
       "TTTGCATGGGACGA-2      1143.0           503  14.359657  10.965601  stim   \n",
       "TTTGCATGTCTTAC-2      1031.0           421  14.572118  -4.713942  stim   \n",
       "\n",
       "                  cluster        cell_type     replicate  nCount_SCT  \\\n",
       "index                                                                  \n",
       "AAACATACATTTCC-1        9  CD14+ Monocytes  patient_1016      1704.0   \n",
       "AAACATACCAGAAA-1        9  CD14+ Monocytes  patient_1256      1614.0   \n",
       "AAACATACCATGCA-1        3      CD4 T cells  patient_1488       908.0   \n",
       "AAACATACCTCGCT-1        9  CD14+ Monocytes  patient_1256      1738.0   \n",
       "AAACATACCTGGTA-1        4  Dendritic cells  patient_1039      1857.0   \n",
       "...                   ...              ...           ...         ...   \n",
       "TTTGCATGCCTGAA-2        6      CD4 T cells  patient_1244      1128.0   \n",
       "TTTGCATGCCTGTC-2        4          B cells  patient_1256      1669.0   \n",
       "TTTGCATGCTAAGC-2        6      CD4 T cells   patient_107      1422.0   \n",
       "TTTGCATGGGACGA-2        6      CD4 T cells  patient_1488      1185.0   \n",
       "TTTGCATGTCTTAC-2        5      CD4 T cells  patient_1016      1144.0   \n",
       "\n",
       "                  nFeature_SCT integrated_snn_res.0.4 seurat_clusters  \\\n",
       "index                                                                   \n",
       "AAACATACATTTCC-1           711                      1               1   \n",
       "AAACATACCAGAAA-1           662                      1               1   \n",
       "AAACATACCATGCA-1           337                      6               6   \n",
       "AAACATACCTCGCT-1           653                      1               1   \n",
       "AAACATACCTGGTA-1           928                     12              12   \n",
       "...                        ...                    ...             ...   \n",
       "TTTGCATGCCTGAA-2           468                      2               2   \n",
       "TTTGCATGCCTGTC-2           799                      3               3   \n",
       "TTTGCATGCTAAGC-2           523                      0               0   \n",
       "TTTGCATGGGACGA-2           503                      0               0   \n",
       "TTTGCATGTCTTAC-2           419                      2               2   \n",
       "\n",
       "                  n_counts  \n",
       "index                       \n",
       "AAACATACATTTCC-1    3017.0  \n",
       "AAACATACCAGAAA-1    2481.0  \n",
       "AAACATACCATGCA-1     703.0  \n",
       "AAACATACCTCGCT-1    3420.0  \n",
       "AAACATACCTGGTA-1    3158.0  \n",
       "...                    ...  \n",
       "TTTGCATGCCTGAA-2    1033.0  \n",
       "TTTGCATGCCTGTC-2    2116.0  \n",
       "TTTGCATGCTAAGC-2    1522.0  \n",
       "TTTGCATGGGACGA-2    1143.0  \n",
       "TTTGCATGTCTTAC-2    1031.0  \n",
       "\n",
       "[24673 rows x 13 columns]"
      ]
     },
     "execution_count": 7,
     "metadata": {},
     "output_type": "execute_result"
    }
   ],
   "source": [
    "adata.obs"
   ]
  },
  {
   "cell_type": "code",
   "execution_count": 8,
   "id": "4887c4fe",
   "metadata": {},
   "outputs": [],
   "source": [
    "random_state = 0\n",
    "class_key = \"label\"\n",
    "train_dataset, val_dataset, test_dataset = get_classification_datasets(\n",
    "    adata, class_key, random_state=random_state, device=DEVICE,\n",
    ")"
   ]
  },
  {
   "cell_type": "code",
   "execution_count": 10,
   "id": "06a7ab67",
   "metadata": {},
   "outputs": [
    {
     "data": {
      "text/plain": [
       "AnnData object with n_obs × n_vars = 17271 × 9113\n",
       "    obs: 'nCount_RNA', 'nFeature_RNA', 'tsne1', 'tsne2', 'label', 'cluster', 'cell_type', 'replicate', 'nCount_SCT', 'nFeature_SCT', 'integrated_snn_res.0.4', 'seurat_clusters', 'n_counts'\n",
       "    var: 'name', 'n_cells'\n",
       "    uns: 'log1p'\n",
       "    obsm: 'X_pca', 'X_umap'"
      ]
     },
     "execution_count": 10,
     "metadata": {},
     "output_type": "execute_result"
    }
   ],
   "source": [
    "train_dataset.adata"
   ]
  },
  {
   "cell_type": "code",
   "execution_count": 14,
   "id": "54d840a2",
   "metadata": {},
   "outputs": [
    {
     "data": {
      "text/plain": [
       "label\n",
       "ctrl    8653\n",
       "stim    8618\n",
       "Name: count, dtype: int64"
      ]
     },
     "execution_count": 14,
     "metadata": {},
     "output_type": "execute_result"
    }
   ],
   "source": [
    "train_dataset.adata.obs[class_key].value_counts()"
   ]
  },
  {
   "cell_type": "markdown",
   "id": "aa53f6cd",
   "metadata": {},
   "source": [
    "## Visualize"
   ]
  },
  {
   "cell_type": "code",
   "execution_count": 18,
   "id": "f1a91e31",
   "metadata": {},
   "outputs": [
    {
     "data": {
      "application/vnd.plotly.v1+json": {
       "config": {
        "plotlyServerURL": "https://plot.ly"
       },
       "data": [
        {
         "hovertemplate": "color=ctrl<br>x=%{x}<br>y=%{y}<extra></extra>",
         "legendgroup": "ctrl",
         "marker": {
          "color": "#636efa",
          "size": 5,
          "symbol": "circle"
         },
         "mode": "markers",
         "name": "ctrl",
         "showlegend": true,
         "type": "scattergl",
         "x": {
          "bdata": "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",
          "dtype": "f8"
         },
         "xaxis": "x",
         "y": {
          "bdata": "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",
          "dtype": "f8"
         },
         "yaxis": "y"
        },
        {
         "hovertemplate": "color=stim<br>x=%{x}<br>y=%{y}<extra></extra>",
         "legendgroup": "stim",
         "marker": {
          "color": "#EF553B",
          "size": 5,
          "symbol": "circle"
         },
         "mode": "markers",
         "name": "stim",
         "showlegend": true,
         "type": "scattergl",
         "x": {
          "bdata": "W0E7kmDoJcCsam15pRslwHxTrneUhyTAOws7d8y5JMAjnobgZLciwDb7+m43LCfA4RfjnivlJMD8JGjZV6s5QJ3xqtm6BTlAo8xtJTDsKMC2K3lSLu0mwFiiIZg3KibA1g4N9/IgJ8DWdCerKXcvQJ2W9RIPViLAaq/2OFcfQECeDaYl1HslwIv78NcTiyDACc0d5kt8QECMs41v4oQjwFrvIfWjaSTAn5/k+FcTJsC0Fq64BkYwQOgYjep7EyHA3nZJ20yTI8Bh/P9mG7kkwAJ7oIL8oiPAzuJeE689IsCnkVIpWIocwDPJfdPBHyHAKuD+RwERQEBoNfnGHNIjwE77EKdngCLAVtWo59l4JsA46mvQQpckwKrhQh/eNybARKhz8M5OJcArHe8MvCwnwCAmZ5f8MyJAeFq2eMW5O0Bp1mC2dVEuQGodvoa0YCnAOEyMzpZCG8AOy6ErimgmwNeeuESCgjtAhYM8FdObJcBAFuCsO2whwDnXCjnCMyfAMgEKNxHEJMAlHgunaQomwC6VdfeoSibA0JPTq3/TJcAhOvTIPZAnwMeYRr5m9iTAGJGd69awJcDK6+SZAHM9QGh1I8QeeSDAnMiusVWAJsAyROX/zEgfwO4MLV7WdCbAUGm0MMRcJMAxVEl4JkUmwHuRIYu65DNAQqEJHUN4I8CILNHIDpskwLV1zESiizNA1PwiQUamNEDTdh9Ey/0nwK7aTo+JWiPAde7MU0aOIsAZPvXyYfknwKIIZKLEACDAltfw2L9DOUB5j/SpAXYowCA7ObUebiXA1zUt3LyNI8DAp5BYpFApwP+7HDve+iDAyOKMtc5DPUD7+KYMXYgowClTVV4w8ybAPHqImb37JMDWSv/kQIY6QGkiEHEdAyTAlYA5JqZHIsDYXo8AoY4kwHvXIerPWTtA33oDv7mjJcCQ8pfdoKAiwIxnxbVzxCTA/c8p0LT4JsAEic27+sonQPyLnUTHdCXA3hDntALXM0Cqsd2Pa6knwN/y0zh+YiTAwTD5glSENUDzYULWvlMbwHNMp6nWHSDADrbbEKaEJMBKxrvFZsgiwDnOlM0jfSbAZrXX4eKZI8CQZP8/WqQhwGdm9ElWISxAQTvJ6B6KIMDsfj4L3twIQINYBTrNejZAiZEAU+/FGsBeTSC7Mi44QPOiQViOGSbAGu8Fhmf7H8ArLjhL/AY9QCO9A9OZtBzA/AgvBkxONED6u5zSZnclwKTljDZ17j1ASy0sk0yzJsB6UJ/eWDg7QO7yPbixLSfADMgt+bkAEMC67qq7beg0QNQROkMdhCHAIvuPB1+zIcATqeIF9yU0QIDrL21wZiHA9DrHRdnSPEBl46XBtGQ2QJNn8d/sWiDAHdP0wiQsOkC/L6nS57UeQEyjZL55qiDA+tkrXuyeIcCG7lsTJrUlwFj91XGjeSfA/qfZsEwWJ8CotJ1FgdYiwNDbhfUyzibAVikdWV4gI8D/WIYm0coiwFs27hOEAhxAhe2D1sxNHEDybDH1/ucyQF58PN67LhhAM4vAwJ/eG8Cl0mwM2Rw2QMMzQEAT5wRAm66MNTIvJsA69kcglWwhwPb7XCJstjVAykc14nfPJMAuk0cM8golwMdvLto38TpAoz4GaKrjJMDbZExC7EwlwDYTgf6QQkBACYxy9fZiJcB2I+oZTd4nwAJTgSXkLSfAz+b2d3SxMEAAxESF0FAkwLxJLvg6rxfAEqxAxaodI8BdLoY2AjMnwOBHgRTxoSbAHhsjD/OSIMC1mzOsqDQqwE1jHT5mkyTAr2aD4tq+KkCIyOEGAdIlwEej6ebrRSPAydPnwn7SK0DWFcP7iisjwI/SbVrJUjJAvC9LlxPTKMBKYX3aSMYkwFryc28RozlAzaXs9+THJMBvLXkC4cUkwEwVJb1uWynA+VRx204vJMBLzU9IHO0yQBnRAhPEGynA8R6AGdrSHMCaR9j0+dQiQOimT448hSLAvUzM+GxaJMAwCTg8fNkjwA+yTw+PyiXAnHWK/bpmGMC0UClp9oIiwB0QrrJCeiPAo51IH3unJcDHbi0LpEkgwBAgbm6DoDhArY38OtKbI8CdtgbxrUMlwN+tgb06nCfA6DEjRpzVM0ATSOyRnWcmwAvSL0Hk1zNA4P4I/smNKUBsSy0LiVYowLvXPXN8ugzA+9vs3BI9JcC69s6TL5UkQI4bgl28ZCPAMTBSCNNUPED5l50OrkwkwPOG48OB6jJAAzDb9STdGsBvvMtZ1aYmwNCLxs5s5CnAE8dH6qR+PkAIV75AmJ02QNR/hQ67vSLAWLEwJ1UNJcD+nJ2do5A+QLKUKs1UbRvA5vFj/mAxJsDzBrwFPN0mwISVi+bySiLAh0lM6NPSOkCwOL/7z0o4QK6Qy9gDEzNAh/d+VttQIMDC1xoqZlYkwABxJq3PzibAvEDrIK2WIcDJImV2bIk8QHyPMqoUgiPAdu7LNZU7IcB59vkBfjMkwMk36/U/mCPAo+sfX4jYPUADvuvri/IkwGgid4M+Px/ArOooqAzqHMAzb5Q2aZclwJLeElPPLf6/sji8GrsWI8DKh2YDzBg6QMwnj4xiwDdA5CpHlYYGHsCzg6RxPccmwLm+D3EZVDtAHnewwYBXKMCBaVlcEagoQIZiHBlISTVAtmFwv2oEJ8BhtstoAAc5QLcrlA0lgDZAJFXfVuMyE8D5D3jfsosjwO43qZcuSTdAUdiBwBrBKMA7SkbgHpM6QHwc94NG9hjAgvr2EkJ3NkBsK5kr35AgwH9V+7zE+jdAmCHWlxC0JsBZ01pkdu4qwOztNfc4xSPAT2dqc5m/JcCHbdW/IFAmwPwyxof17x3ANqAr0xFqI8D/9cvA/swowDz+xGdWJC9AQQI+yNSKPUDlDwqRlRIlwKWOvYYvxB/AH6OF+jUIJcCKBn5j56ArQJh9yVsJqCDAixsgtTDVJcDJvtN/l1AcwJ0j6X8DSjNA3IV1vsu2FcB9UEPl7lEkwGd5lBegKh7A/wsVsRKuOkDeaFfxvv8kwCLAS2+ngB3AjuzeLKC9LMBCp0yevWMiwOwwiUoBiCjAxAOsaZXQJMC553RRzS8jwDPwa3VwyjJAGxycVhGMG8DFjxzqWBokwFAjJL0plyXA6KqmcJIxMUApKIphn8InwDNlbGRzjybANwtydMacJsBVCdhl+IA0QLinXhCwWjpAspwyBjLWJcAai5S4hyEmwC+8gzr2aTxAWhOSDJHzNkAZyzmr0VpAQKRdgDVtcCfAWoZyFmruI8CQvWirbm0kwKiYfLokEyPAV8+6QaCsI8D24pivq/MiwPqpjMe2ySLAkavJwMkgJsDP06UTlRQ6QIfXSniZPyDAeuwtPohaH0B5KK+cT6oowG4Vs31YhCbAE+ERc+uGNEDqHuraykcewNt+HuRo3CfAVBHupTofJMClX2lAwYg8QDAwDqlWbSVAW8PLQ9+GJcBQKHJ07c0zQA5JpGdj3CTANQv4zN+EM0DiOQs3RpAgwAvkpDZ8Xh5ABP9kkNfqJMD9p/K1H+kjwHSiMtvJuzhAvdbHFXOoKMD/qZn1zCE3QDspVqtLtybAw3hjn1HNKMBSc+9Q2J4jwPcXcMXh5ybA/zg9rA/OJcBpy3t+/V7ZvwtlD5uGbiXASAp5UJsYPkCayR5G4s8cwH+V1GGQZzhAC1BvJQ05H8D+0FmUCZEiwIn0p5s4tTdAaIb7O3oHO0CAASachG8WwMxirDUavRHAKqOKp0AKJsCYdntWQ3YyQBWuNEYCIUBAOd0lOzOME8Ds4Bh5ToY5QNVI67fGTBNA/KUGZ4VvIsBkmJTGFqk2QPwjApeWSBLAZcoTBcCON0BG/hyMjxwzQOHfYClUjCTACfS90dRQIsAigM2AF6IiwANBs/Rx0yPAQ/yYhpIVKsAnUJWth+gkwF0aDO37/iHAvL5+QbqaJ8DTsnmnmTohwOsR3wA4cCRAf+LhsQGaJsCBA6YQsL4jQESB98LHVyDAgp60hcuNJMCX6fahyjsewOplalHcoCHA+hIEa1auH8A/40YpS/knwAVg3cR+6iLA9QL2xMemPUD7FIbKOVYkwDh0kATRTyTArolqvOo+LkC9lQupF+oewCttu2riWyjAln3YLq/ML0DJd3fDjWQ0QO7+2zfbJSjAz0H9H613KcBeqXRSwd4yQJzb6gsqPiXAMtQavXRAMkCHhCyAi5I4QCbZM2RG2jdA3VWG0uzuIsBwDFuCJY8iwByBRHnnCjtAc+vNPJQ3MkBLsLk2v6MbwN1E+Va2xEBAPtYs6/aFJMB1ElPa9d4iwJojZ0w4sSPAr3/3vdczJMAk8wlFCgodwIlB8SygviDAnyOVMKBYKkBbAtfSirs0QLVXazJvTSPANO8AZOpXJcA8vuYz8NEjwCsmn9lIkibApZfdTvIxJsCFv1WdsMEhwFIVi8fS3yfAq1t0UiwYM0B9Pl7Z3kEjwPNPEx9N7iTAOU9hFiFANUCAzdbHG+8hwMbopJGaFSXALoc+EwGLJcCN3IHJPwknwOCmTFP4oSXAbheE4KOPJcDTQeMJPgcnwB2YDe2FNztA3nURKo7RH8BrgSY6Zvg5QJd2BjzrHTVA5m5XgJ/PJcDybhjZdgMmwJO+rosPjDhAtRLd6KfSPkACosD30jkewIto+Urh9DtA1MYYAD6XI8Cn0eS1BAI4QARAJQ8lUT1AejicU5D9KcAvBnnSo5YnwGinKyRH1yDA11UIFBDvJMAVh9hQhSskwFvRPBMOKh/APS0RK8syI8B2LFT4PsgjwHuPOus1LzZA3RahQA6uKkCaDFF9/h8kQD0/j5sSTyPAbUmQ6xM2PECmipcOZVonwJJwm9k8ACPAaFLEEr44OEB0WYRg8JIiwDLm05/fgCbAK1sEspKzJcCmlfhgRFYZwNnZnr4SoiXAqkUCn+AwJcCDV+vJdbUxQPcmZEb91iXACS+AswnzJMCIE2o3Z1Y5QBTAjtvV2CXAB6kYEiaoKcAwa+kQN1EkwNGF1LCtHi5A2naYXsDNMkCERmmsq9opwC3bPha31x/A8JDCoYMuOUA4WQAdw8YrQHHzLwTrTCXA+VFaydOjJUDsn4P/jgIyQAc1SJFcZybAiQX3j2MzPkAm2hn7c+4sQCCu1QavYxDAacK9lNO3OEAGtpr2wEUnwPbd8XQTfB/APZE3fj0hOUDb8HKnfHUoQDr+rIAGNyfAGVix090rI8CJS4JpQNk8QL7xdMWGuyDA3LTjAFB3J8CVrHd/bKsnwKzhX+ov/CTAsNTHhu+lJMC6HerCaUAjwNhGS3/gqCPAwHmpWLhFH8BmLx6jXdM3QOeVOse9tyXAhWeid0AcJUAa3rIDaA46QOzfkCkt9ybApTNybXZEP0BQrrcdpewmwOGeWaq9XCfAOQtth/yVIMC9mDMJz/YjwJklgy8JhjtA7sryVnbZOEAtur2krBYjwLDz9c8iNCLA1RAl/NFzIcBwHt50/PYkwACqanJNAixABn8rSBzLOEAp9Sin1WQnwHCROx3Iiy9AWuFge4etK0CZfpVcwOwlwEvuIxV08iPA33WEdTu+I8Cc1SG2pq4gwKbycFEeMyfA3ujBQ12GIcCDC6ecBD8nwL+hT+ixLybAcCzwWoo6HsBdEAs7fwUYwDH7DSLkESPA5Ur799xuOUCCiGH8HYomwLRqh7QoBCDAsVi5Er6XJcApTjY+TtA9QMTgcgB6syHADVE4WEjxJ8A5Zwu8rfI0QBwLqHHmczhAdOUiNHs0J8DvNZAngiojwAlsOtP88CHAjpGT4gIrP0CXDCGpuJEmwEuJbSkNOCfAk+wLwGqFJcB/J+i1RpUmwKs6WSe2SzJAjk5D/b8OHcBtitu2I9YnwBOo7fwfIjlAKVRVQNg8J8BTmUmd3hIYwLYbeS/jVSXAHdZOzRBxKkC2hrCNVv4nwIZi0UI8MCdASDzn0JNHJMBrVs1TvQcnwFjxEQ5ZYiXAuHOhyjkDJcCZD+g7OVwjwO8gvvqXliTA+z9+VIMmP0CithQUFWYmwPoBjZjariTAahpzFKoNJ8BCCm69XDAkwIuWtsLusSPA5cgQNqqMPEBrMArMYf0gwLMsmvoBHijAjODXxAKhKcCTN+vdfZAkwJVdsAhCzx3AleSbTqIBNEBcwJKK/kE2QFm5k63y/DZAV4+0d97AHsBrhPqw97gjwIvSyC8FYyPAZHp6PrEkH8BE0TmwKyYowIaT6ydjKSfAD/DFg5/VKMAzcUSMQQU/QFqkR5PMjwrAG8WCxRbUJEDwEy+kppsiwI5sfLvBDyHApdsBixY7JcAQ8ARg/GsmwNMA5JGlKCPASYYLhaX/JMBN0UHEbQIlwK+jLdFJ+DRAAa9MVSScIsCi0j9XyRM5QMIap/qiGyfAEU2iMq9tL0C0S1Q/noIwQOfskCsn6ibAvu09F99KOkBHkNxH86gjwP4zmLGObyXAMB3K7PEZG8BdtpzBsMEkwFUaftNdcSXAZ08vIN23JMCAH7j+7h88QM5lQ7eVoSjAlVqkjr6PJMAJ6xzhByYZwMgmayGpoiXA3zbea0oAIsA/aVTZRvskwDHVTRek5CDAuDLrbtGBMEAx/hYVSjs0QH3xpE43XiXAVo9HI1QAJMBM++iy+mUmwN58xsvs7CTA7rZXSVgvIcARZh6dACIbwO6aYOnZJyLAF89pweXTNECPSbmHjiclwJ5AknsfQSHAjehHKbb7KMDx6ekdKxsUwPeKIO41AybAofM00Di6JcC0mnXBHyUlwGISzzyapzVAUV7SObozKMAoNFdVc8siwDlET45RczxAFqErShprIMBqPWcYZuY0QFiHyEe8KCjAond600NuPEBL4J8ejWoYwLDSKMBn0iXAu80b/xCYJsDyesOpHr4mQIlTdwICrCjAxkW0MYiPIcDhvyv6BjIiQETSqn168yLAzeaAnV5TPkCe+db+rAUlwAy+o6xJXSbALjixh7rGJMAw1L7x7t0lwPVn1mbL6yRAu7owB0ViGUB2mBcBpuokwInLQChaqDZAS/0j8wPUJsDxedQErw42QMaENGMJuTpAP1kO/CTwJMD4zerZFfk8QPpyBUPc4iXArCL/l2v4I8A0yzPervwiwNK3pslsGynA0lVMD6IUI8BsWKrUV9ElwOsLcUBdgRvA1mCJVi4rJsCtkll3fbwlwC4gcI1xNjlAwa0R4AoyJcBnqq8GA2k4QJOIRUw/ZSfAh9gDmplSMkCtMA0fbtIiwPWBGyapyiLASIYPEoUWJcCEdkDz6nMgwLsZFPcLuSHA56WoVGVpI8A/XNvbYf8iwOg0TC0jdB/AK9t0m4NLHcA5/NtDx/EowEtnp6LlmD9AbfazE4tgJsDjPKboyaQhwLK8OKC4CybAOzxNWgGfJsA75Nrp8o83QOWhHNicHifA5AvPpC8wJ8DbDvsZZK0jwHBf27dbYyDATH6BtwsVNEDOzSG8JTsjwEraIPpSIifACWOVrO+kKsBlY0KKa1sjwDlQOQNyjSbAaQkGbpFOJUBYTXhefaUkwAvYZiTrOiTAlZBgUYDBIcBFfl49QkM3QHu9VWOG3iLA8Y7ECjjBJMDeq3NUuhAmwI2wrPwoy0BAPyYCRnAqI8DworiHlKUkwK0+1PsYXj9AbK2/5Fl/HsCX6j1GfBskwJh30Zu/XizAZMidNpQbNUCI7xP0WrMkwCmSC+RHB0BA2lRtIj7VI8B+HQt17HoiwNB1kOGIIj9ARHYc6fjhOEAMZ6EGNWIlwH0FaSomyjVALHxcWtSAIsBjJskFrpMtQLjCaPEvByXAKgwkdUW2JcB1eTWP9FAhwPsNEIYnRCLAWzc+nXqOIsDpB5mURaolwJDyaMsIbSXA9fhUJwXbNEBOWDPUsXo1QKX4XSWLWyTAZrjpSYeVHcBHbKQ9dNoowDrwfAUd8SXAkdgHjns3H8DHrKhy0n4xQBbHOxVlKSbADnpCmgraIcAaYHBKmV43QLsWdexDcCPAEnVlCcqZI8CbUmfI1WkmwAfKkPCckiTAoyGFpReRHMAaD2wGj2gmwDgmJE9qaT1AY/ax8QglIsCFcABNVIEowI4FbYoUGCHA5FX8p9kqOkB5Jp3SwvklwBFbkiwkICbA8hMRU4oXIcAxj+n0TLIawKF87ck4QCLAZMCRb4SsI8DsuWLAOi0jwBwZJ/ITECHAex7TVNvWJ8AujLsOGggyQKG1j/Yz8yLAxZbP/d37PEDvaoiLsG0tQJlwR6YMdCxAhdwZmY0xNUDW+5nFtOIgwMus3+ja0iDA3Gol+aPQMUBHU/5IE84nwISFpKLBdhbATGhNpu0KIsCT+7its50nwBnm30URvh3ABWgsuLbFJsBLJfTos3M0QPhUD9VaaCxA9uqzN25oJMDu7Tp7KZw5QJxahItG8iXA9lWNxtIJJcAtolG2Zc0lwBGUEVo4lCHAT9meUjpJJsAOXo2x/SMlwIkdAomtGCLANREzhvrjOUCYkraV4mIlwAOkHo36ziLAqE0pLzNjJMACauQ+ly0wQMzFYBUxYSTAsLzwNbzxJMAXk1U4vlQiwG8EcTiErjhAhEq9Xz4/IsCyVAxIYMM+QEsqIuKCDxLAiszpuppuJsAfIn0RaPIlwJbTc7KNkTlAvDEMft/EPkDjfiEVCBIpwORdzWAoJifAq9G5VOkDQEDCa46mfVsgwKyzHjJEPyHAp07s14HwJ8AYk25de04kwHtr5MDDcSfAYWRmSl52J8Cj2SE560YnQG/lIORgmiPAOIHSZMpzJsBxgQC6w6cnQFWDlCZE4iTAaZeJfx8ZFMAStURbjg1BQGFmYxpGKiTAkKtlOAhJJ8Abd645khgmwKd/9JS4WkBAfU9IOplKJMBfng63vkUnwNCRtCWSZiTAxARu9cTMJcBqHYa2+LYiQMVL7MmhXyfAT2k2WS0pNUC7W1cNtUsjwPje+HXUbSXAK+gVckCmM0C6+TZ0pR49QLkWRn6ykiXAh0q3knvcI8AVQniU4j0jwBblGUEcYyTAnW9gz7eMIcA2BBRPDwAnwCs/Ooe2+CnAhNpJMRFaI8CQoUSTJskmwORP9R21iTNA22yDpb3tJMCipLU8KC8kwHUg1zmXnCLApFaOj6jqJMBECyJCI584QNEQp77ttCTAfn8QI70BKMD5ihfOMbcnwJDZ71hWkjhAmeZqZe9/HsBZ5GD/yoclwC0k/EcI3DJAejatm0YbJsCfPptOVK0jwCoPpO0VZiLAE+kiwLqWJcARzty61tAkwGNV6Xu0KyLARfPdhlHPO0C5VDsEjGsnwFOaNdbF1SXAc8AuTekdIkD2bRZ4zn/Fv/rnlBSvcCjA9YgL4NovIEA4FK6iex4pwPfQayIYLyXAur2HVrzFPUA591ErRLUhwHfODlknMyfAfoBl8NdOPUDGAApxGh8lwP2SsBHHszxAMCyntY2zJMCR0kUOd2Q+QB1KPr9YRibAPKsu86PAJcAbXic4gEUZwMe0smiqNT9AqKVvpx0IO0DKmrdCkYkhwNJBGV3FDiTAxbk3ciVpP0CEweMt6p4jwE5DbnXWIyTAm8IwCt60PECA2P6WOBonwNVlVz264CXAY6wutkuDIsDHWXEgwj0mwCwLGB1Nph/AX81G9/tTI8AjBvsDbHoiwCBldSSsbyTAqOZgD9xEO0AhVcnyO1UqQOLlbp7YkCVA4SuY6kcAJMD7YjJg1TYiwPJctlQtyBvAijdXKTbNI8AdAL8cPcokwM579W7QgCbAKZ2sv8LbOUB+WAzsEqwfwDqW8/UuQybAG5V2bw3AIcC8SNNRFLklwARqw11JKyPAoTHITitoJcBfMmlEaColwMWFkueEYi9A1EuaXEXqIsAxMtt7TfEjwB5h/nSKZz1A64mZcPaKJsDkPd82BdkiwPI2EzRe3CXAJ/XKXmrWIMBAT3XUzvw4QF2RTsAiTD5A90XgtimaJEDt0JyhAMYkwCBPDYOO6SbAJgghnaRMJ8Dh8NkGxwQ+QOIcopOgXiTAdi4LRYgDLMAht9iPAzQjwE1WLUTQLzlAtpl112biJcBNlEJL8XonwFkTHNgn/SbAHtnnmNTKJMBCqthKejolwHBLEi71zyXAXFDEu9FYIcBiXjX7QLcmwBUKtuYMGCjAyvzH90v6IMBGvHkMzRUqwCTg0tokcSHARMj2whjZO0CrKlepG6wkwD7P9jdrdhzAXW/NSPBtJ8ClHZ9rKLIhwPzKtGn4fDpAw9+ogeKgJ8C1nSl9TKY8QLCaNh3SySTAYLQLQ6RWJcAw0+k31uI7QCkTd07NlyTAtKHxZXqmIsAYoBcgsxwpwOoZCOR70SbARkPTuhKXIMBfWW6jLLsjwGX8vHVOzjlAzeYb5d4WIMBUyMQ3MC0nwG++ABavlzZAb3TpqcdUIcC9HaMET2AiwI/hsbDRESfAyIkuybUwJMAeRgJSo5QewAht+hh/MR/AGYpwypnPN0AeyxFTdH4kwFiEdHkL+ybA26Wfb0SxLUDSbC6ffLQlwPeZZ71rgSXAZVa+ror6JcCMoUGkEC4yQN4aAc7gui9AkOJNjTPVI8C6sxUpomY8QOyiBOpbmiTAzLZzPsshJMCtuBXLGoIhwOQwhYjVvyXAVbLEDYoVI8C+tMTcmFk6QCaov6i4MiTA5t89vhj7KMCUkecjmcMewAhGblOOoj5AxueDxp9eIcDRl07BQO4lwP3igcP+SyHAZeQLT4iKG8C0X3O6nMYmwFzqATGSRiTAZ8yLQg3MJsBIEjcq2r8+QLjaVuORwRrAh080m+8+KMDj8kYmebAmQOZnlAmxljxAGJh0XeLiH8AevQoRRG0mwKnNfmpKzx5AAkl2OiQUIsDsyUtNLzsjwIobg9+6YybAr4HTSV+LI8DAAHKY3m09QJSEQDaUJx7Ad//K2518IMBzLCZQ914rQAx4CpozRibA9rOUlbVcIkCHzEcGO2QlwF/xaLL/fTBAoeGsD4BbIsAucm7kekAdwBEOFBdwKCPAxDJHQ4tPIsDaBiCd29YiwNPzNbvnhSfA+/hkgvzIIMB50w+Fy2ohwB9moJr/8yHA0K6JOXjeI8DL/VcFb5UnwLE/FFaR9ybArzPTATg8F8AGREr5t+MkwNrzV3seMDtAYWsArZZWJ8BbR/nyHD0gwOGsgcTl0jJAWfi2YyTkNkAWka689vk0QJ6WpnbzWCPAvH74wkVXJ8CPMpbrjkA5QFKYcOu3vCLAsUPPgNloJ8CIp2IsX8AmwG2RJX3dqx/AgWllVDzQIMCXuwOP9y0nQPb6+SCecyFA8w+4adwWJsB8kyTgVQgkwKs6vq8QKSjAUH2fVEZoJMCqLNkPoqskwKCFvqc8kyTA0c10Po/4J8BeyDoNg38iwM+ALEBDsyTAsx2wswILJsCSaTEa9v0owHrr9lxc7CfA8lImOJLHJcC7Ty9zCVYfwDkI+JSeND9Anj8rPgaMJsBEJVPzYwAmwNX3ZxjmPzpAGLbgMYglJcCgaaDeIs0gwF5ilOdcxR/ArjdRaiftJsDipyZunwH0P5S1LZ57HCbARBqhcSwNKMB6sYEftqcnwOxcHPnNtCnA5z58tH3mI8CaTgYGMWUnwKk0Dv4qvyXAHYc73/P5I8Bjr1dh3PA+QHpP7rM/2SDABHkhwiW/JkCvN2lFJ7oowGVT7MzJpR/AS7bmm1s3K0DrZjDFeqclwMDRRW5jzRzAuy+c7rSSJsBNtuD6eBE2QCfWFZAe/yLAPRSC7UMELUD4euOpxocnwL4lmuMGEyRAAhLIOC99IMD8VJAvXH8iwNcMV49DMjNAQteETH9JH8ASellFb30VwDxuQjUOCz5A0TSAG5PkI8BMhhcm9B8mwHJip+x4dybAaEYNVx1lJsAVpNVWsL0hwAUC6S9hdSLA6ivVo7lmKcDq8CHs5VokwOsy4YPeqSPAbdvrLpEOIMBnReMju3M+QDXUSn68xyXAwNTtenpNKMCFB4320+gkwILTipIZ4jBA8f8keXjtI8DMDpHuZHknwDWC4WIhsSPAYPzAPwPpI8BxZFOXeK4lwCGvF5gP+jZAZ/j8o/3/PkCI5rf8y2wwQJJpnfXXehzAo2hur84pJMAKwSatCKg2QCCP2BsyYjhA+I6Yb+V1IsBkPvwZkFclwAePOWvtQSTANVh4JN6gJMClxk1+QgQ7QEQTXI8O2SXAgImVRJzWHMAEUJLZ8BonwBmXbnCH6z5A8qHYmKdmIEApnA34mPI3QNLbXx4RHyfAf0806nb8KMAz+NP9mn8lwHwFx89LLxZAcZ6zw4T+KMDfhUa5Uu4yQHMHgPyWWSPALyZzBEJiPkCUwrikyKogwKk7By0efiDAUB9ckYt+JMCy2zHCtuUmwFz/Cjn1YiXAV1IYJgeOO0D0n9w9JOE9QCwtwc6EPiPAksddTQQlI8AZNLO3IRwkwCfHVTArhSTAYenPlvOSIcA7USnjPbQkwDZFhKjICiXAEi+7m/5uJsBrgXa2tqckwOIJhvwlKCbAlAC1u5RMJMBxlNL1vjoqwHI5SEkZVx7ARssadQzfNkADFAyzhXohwLPrQhTagiLATkRoAMUpIsAs5tAmhMwlwLHn0tfw3iXAxGmQTIkmMkCX3u8IYW8iwKX+rl3lsiXAG5CO0k3hJ8CNp7zxY1IlwKCA5+ycdCbA5yB5B0VNJMCrr8apCQ1AQGEr8IRuPCbAzyUgDKlOKECSomQ3ZOwmwFGAtdqLJCPAvHAxWw/LJsAE8hz11EYiwHMW72PjHTRAAssB+HQFCcDPsqJ2efIZwN+LLmQVBifAotialO1AJMBeIv9FFLE2QDaVD6gOC0JAMgRMLu+aJ8Bh7jWbiSIfQCpRKmFHtyLACpyr8klTOEBtGwwVrZ4fwHlFwj4rJCjAriV7EZLgNUDSS5HNv+87QAMrdoVlEjxAEQ6r8FXmIMAwU3detJQmwAtZqktvmy1AQqZSnWZ/JcAaouU/dU4iwOEhOHk+nTpARBra+sNfMECpfi8i80U0QMrxTq+jtzhAiJAUtCFgJsB/N+fNmyQyQP14KSxPSzxAlghumuHZIsDV4yC3JakowHf22ZY50zdA5U5Zth/hH8CE5KP5HZFAQKxCLGTVGSjAiXBFViOfHMBGvlwDM0giQFNKv8TdvDJA61MBSZ+WJsBgWe1oJnYkwByiUyao9yjACe7pxr9fJsADJfkgkwVAQE91tvwmICfAky9/8z0UJ8AqaKCH4ZkmwJ8XpZ7Q4ibAJ5so4xngHsDzDuRbOaEiwB8SevHdIybAIPFvyTn6N0C4hEyexpUmwAQDR26iWytA0NZJh9jXJMBixbtlgm4/QL/8hDE+sy5AwgdvDyv7JsDiDc5rJzoiwL8o1jrm/yTAqAx2HRAeMEB12sjtXpk2QI8cEOh4YiXAwKUFiOXzJ0D80j7ac0skwFgZlCQmryXAa6sfMM4+JMCcetyEYf8lwHylVca1JyrApd8031hOIsAcgu8gkV00QGBxmjMNvR3AsV2Seqe3PUDGyU0uCBEnwBWgQdpbrCjAs89fS/dJJMAq2LrvzrJAQHpD/2Mh4j9AV7gMeONbKEAWXu+leuwiwDkBL2LdVzBAEJH65BCaJ8AKWHr5j4QTwDCNx7OOSRLA6tnSqKN6JMDARTIKFnwkwM5uD/VQmCPALekrVA3kJMCEAPpJX0UnwAYbwe8USCHAtIObQnWwJsCqgfVriBglwOkRABfYbCTAt7vVRpVxHMC6tjkqilYlwHi3hLirwTNAOPHCzvnOIMCnk6nWwEA9QM/3TysyCh/AJVXkUb8aOEC0zzsZ+IwgwNV9G4u1pSTAbZM9HtgYJcD7FmbYuEkmwFflCpalxR/An3/ERRq8JMAN7cRVCtAjwN0I7aa2fiXAEmr/dUARQEA3yUyTn+UjwOgByY2CQSXApnHUbqvyIcDKTlHTomQiwIDws4mAIibA1FeUCwPRHMC8hqXpGQsbwHNejD0aUCfAVBaDBpurJcA3EAWLXq41QBhGnjc/NzhADK9Rt57yJsA6xv66fYskwMWozNTYbztALgmUQ6I1JcDV1t4beQkjwP9ppIdLkSrAiV9sDsjUMUAGRFq/uB8lwNrb/ZlCryTAFuxwZn8gJcAOjah6NLslwFMfpzwHkjdA/K2mmzDlEMC7aBPGgTMkwIrpy662fytAiNzFqe5QNkAyWDCaLC0mwMmV+P6aHSDAT8/usTcPJcCc0Nm02Pg/QN6sw4ejqSXA9GZDBiNBOEBQ/FcMUHw7QJqpIaMobiTA5LWxuKtuNECa8pMGFMAjwENPStI/0CDAz8yC9RetJMCWBMB8XIQ9QApYKAOScCDABe74qtKUJsA7ObBI+JskwBna7P0FSSbAZ0co02ekGMA0Za8Zaos5QKEMY2j4xyXAQ6pMJBrvKcAHTq+WP2skwDzD6ugyTSDArdyTUBbmIcAS5qwm4XUmwOZD9ZgsoCfAaCAL3s0HJMBHRCnZJ/8ewGjYxTenPSjA2dAA7dE3OUCbga/5CAYowHTjzdc9WyLAw8i6XfhwJ8DdEkb7mN4zQGYf4BVn1R7ABjwP3+4jJsB1JGNZyJ8nwFYl5e9NmzZAeDg8C/hvJ8DrEQVKW24lQEiIcQJBGCDAeIozMylFIcAFoz3jBa8lwOcHllSpDCfAHPiPYga4I8D+6+9WCyIvQKf+blqrmSTAtWm7VmU1JcCdu8thqQ4mwHeieAxc2CTAH3zJb8IEJsCGcVpbTRYowBYNfAwtRiPA1M1CLL+YKMA5SUrNJsYmwInyP+YTDw/AUmsp2FsDOkCBTzbfbOY3QKDy9BGHMCTAWntmtMz/MUCcDvQu6N8kwGmZ53eRIiTAODiEvIoCG8BztQzc5JklwH4+bXCyhyjAgtYOBB0aJcBPmaGd3T8nwM2z60Y64yDAaCJ9FdQEJsDYq5NbmFkXwIZBggLENSbA2gW9wVJ6I0DR+R7s/cYnwDO+dOnIkThAY7zwzAxBJcDGxg0i9EwmQCJBTFgo2iJACiK+28daQEApcjF0dOQhwAiJ7tvyPibAK4/HSd/MJ8A8XnTYu1JBQFgQ0dITlDpA+O2ZoPKoJsApxO0m0QcjwHj2n6qldCnA8VcmDYVFJcBKEiTxQDoyQHEJytqq9CPAU4KWkXq6HsAYLtdbG8ciwO8OSSjqFSnAP7Aet4+5JcBWPoCut6U7QOx+7uapxjFAoWWtRUW9NUBJrBmc9d8zQN94MCT9azJAyg3uLnVmIMB0Q/hz1IsowPCXiGu8nyXAT7BYbrVjPkCeJ/j5/UoZQKQm7QaA0j9ANxjwrDm+JsCkaf0aSFoewBq8BSgo2CHAARE3ua/OMECoyrjnWoA1QDwcGWd7WiDAo4abkJlpIcAoT4VqKh0mwJi1IgVNdyHA+3WkDINdI8D4dlSG2vItQCWaPGLF3CXAYSaBrYp3KMB8SxaSi4kqQH0Q1it+UyjAzGBG+eb6I8A30fBn+b4pwIw5ANO6HinAWxrTC2VhP0CHnWxowhspQDGIzumQpyPAseqK60biJcC3iLgitp0jwFwG0/9NqijAU0WKPBCdKMCucT7FfRsjwLbMKNkIuj1A/AWiINMBI8B4PDX3Yf0jwJpJdW649iTAw4Cr9TWGI8AgtUroudE6QPEyM089DjdAqcrwd9EYJ8CyRvZH+tcjwPqC3pkZQDVA+KqJWJmwJsBkuaw30r0iwJH4MEQdMRLAVa4quJiLOEBDlBURDfUmwI/nYdxatCLAjvUUGeT8N0Cnhw1ctAoowEKhhtmnHSbAlh3t3iUEIcDQy+UjgQAkwHiZwwI5Jh/A7oOjGVr2JMCLVRpVpJ0mwHslZQhrszJA68JNLvYMKMApMxWwqF08QBV51tu/fitAe48bgOVmIcAJ6qX8hBkmwPzA0nwnli1APT9tCA6CJMA1mRQ1vR8kwJ948xdbqiPA9YE6OXByLkCtnXgcjh45QCVuzKnTliTAitagkIM9JsBaZH005PIjwBUBhrbbkDpAy15GXJHBGMAKN3KDH1UjwLpgH/QYtSPAysijXlTiI8CtjAVx8L4lwC46EberySDARMvK+H8iJsBJcCPyiXEowFQkCgRrdSfA8cwAgl1rJcAoJBWNSlUgwLCmHCHVrz1A99g5wDB8JcA83r1XICcmwN9OVDkEGzlAoEkS/oJfJ8CUKBAa6r0jwFwMg26+7SXAKOU7HlqcJcDceBhvb6o0QEmQpJPnry1AoCeakF+QLkD5JS7KcQg1QI9UVNBnFTpAf/I+UdlmJsDanQglbuMmwGogGvFbujFA/irF9HjhPEBlwCq54oUyQNqx5ksqRiHAHT1nZwQ/JcD4d0k+c4MkwNkW2objeSXA9VJ81xRRIsAKwZzxyB8hwDDemEUF8SXAR4DfbRokJsATUopdh2QkwG6wNxXJginA8H3Vfdy3NUACsIsqpSM0QMWuJXg4VybAwwSw9iNkJMBougq/9zMpQNDEUqc10yPAymHuIk0+MkDaOxz13K4pwGmI4+ZGTyPAUIV+M8k7JsAWsptus04jwE4PsE6BpjlA+7TB74BiJMBuDPtNOQM8QGhSIl1ddzBA4t3QnzS+JMDpdMYPzYhAQPDvk53PPyTA1r9sooQJJMBtKUkCfPIhwJmM+zV/GSPAEeVmXrCAJMCeyuhu77wjwAYyErn0AR3AZNF6kAcjJ8Dr72PhCgJBQMic6uYWlDFAJhE3bt3aJsAohGPkkLw6QBz3ZeOlQyLAndECiVDOMkAzS5d+zeMjwGua2OjkiyTAMU2WTBC3OUDwcDEGhX0mwL9W9jfyVyXAITiEnNIFMMC8DhbDKwEmwCY0bvBW2TxAHbVTYnxxKcDYUXKfihg7QIQUW7/gaSXAs1TOT3NtJMCVeDyMg7YhwHvvNgaCYSLAFWhzXLQVJMDL4PEDVkYkwA6a7yi3yjVAyEP318oDJcCQI+aRAZIjwGWRCSzuESHA77Dgm+7oJsBhTXk3pUgmwP4doliuETZARRYtw78pI8BOG0U0S7I7QJZqZvkXlzlAkKcv1nk3IMCaIG+g1vUnwAEI8jYFEifAhegI6m16I8A/Pb6TGIM5QCHSrryL5iNAQuTZ9BlNJMB64Jir5/ImwAW5LjIZlSXApzL9ULXBI8A2bA2MFlkpwN7JKhkEfzdAXp6a98lrIsBB+f9mhLUDQLn2lhFeoSTA3KtOzXrCJ8BkVoX0m3YiwFK4RTxkzibAJtSa6HOGKkAY6nJNj5sfwDBmAH9TbjdAIt/oD+7QI8DsdAvJ6Bg6QOUGzWQ4JSbADTbQH02XPEDSSkTbh/AlwN4O4xYLkyTA3qObo36UOEC4DAWifI41QG42+g7sIDBAVIKG1AKqJUADVt7CpCMkwIUY5hPOAyHApWxKt7fdJMDrcJQDWwkkwMpV5yCFJiLArlu5ZBZUJcAwxqtyQx9AQPumULiHzDlAXDYoCBD7L0ChwW3W7AQhwH4iek0okifA55JNWV0iOUA1j/e/ptgzQD/23ErwtSfA9DP0hyiRIMDmJ/9JiM8owOiopA+GDhrA2RT68pidPEAiz/wvMEY3QD1SYaVFVB3A7CVjCm3FIMDgYGOe/4ojwKp0KegemSTAd26t2KRqKMAhZ+VBsX08QNd0t1Ol4iTAZ0s/UNsqHsBCopdtfIghwJp0ykeQ9CTAFv489hXDI8CWzxnKD1IfwLiheGB/yifA0zNZW0ShH8AKbMmqsxcmwO8kFrweyiDAqy9FP1GhMEDUEE5VzgA4QIEEMmotVifA1WZ/o8kwKMA0MKaj0X8nwMXx6PQBEyfAB+cLja18K8DNWef0ScM7QGnzZ8JHHyLARIqZZTM4J8CPG2H06lMkwAQ3GstLMiDA9i8/CkscO0B/PzAE9+kLwOGBVM+PgybAUzJUDzXfM0Do0/hXbpcbwKQt3S1ycynAmIwbK2I/JsDSHEQ65IkkwA98rEwFEiPAZaN0bDieJMDtxY49XPQKwOAStW8OeibAQGidztRZJ8BWnPjxO/wmwA0Tml6seCDAtBoeiIb1EkABj5rtJdo1QKJ+xmCiiSdA05XMrxH4IMCsBULeVY4vQI3m1z5MXjtAth4KTJg0PUCjL6+YSfE9QCMuRFPr8C1AsGmxDHNNJcDYO2uZg2o8QEtkbj3eAifAdpxdwe3WIsCS8uatxsghwOreIsfP6iXAPvIVEmsOJMApcua4g4QkwL9sHHT7hx3AVseR3R/9K0CIGdyNDgc7QKhjiyLfDiHAOvhUSOCLIMAzIERAyt4nwLvVBQab8T5AcEKGsVR2OkCpqxbz0UckwErJ7Xa2HSfAQ6QM6gjcJsCi7LD/Vr8nwFrrLSFuSifAu1cRPjIjJcCxmkx6clUkwO+K/OCghiXAo6qcUvYAP0AcN7Yhv702QCsg9xQr9TJAW6IEzlYfJMAN19p9CFgfwESVANRJfDNAkENEZN9LNkCT8yrISkE+QHLnWltcfinAonvIQsMbJsDt/iDUMJU5QIQeitgIYSPAGpIJcirzOEBIM+l3q6gowFqtGCh/dCLAvPRUA4ufJcDKS7WkDmpBQDFn1AQGtzhAgWwJnZDqJcCUEnmt5vMZwP6gF4vLHSXAGbSLko9hIMBMldKH8B0owGdSDXhklh/Av6sT69mDO0Asvya1Ar1AQGQyV7a/QiXANAH93lkHI8BGFRt4AowjwMg821h7tibAg0e3FfhjI8CQEel9cxggwO012pcARR7A+fR9bvRkLEAnPhnMVYEgwAgfqWATPO+/LvFJil9HF8AWQGk6t6gnwJMRx2LGYyjALjZ76LUMJ8CwoHecbrAkwEWMgYQdOifA0C1lc9kINUDwAX5BNV4awDLpqFz3JCPAYoSVfPezJcBCRM06w7EkwD6mabWEyCHA2be1iyRWKsA3D3C0SPUkwOo+ZPcFqCjA19z7PyTHJ8DDFGHlqcEtQHOUGfgX9S9AO14qh00KJ8Cgm4QgxaUqwN18C4RPpijAsMnBRdgaHcAgRF5QrFIawFDl+nSR8CXAAcQBJE7POkAIzEoxEy0lwJFLwUor1iXAwuKJkJoMI8AnKvH65nU2QBXAXPk/BSbAiipwONhRMkBlFN5RLnAkwFF2yubtMiTAKRXXKzxBLEDRtjmd33YnwNMr/Y0TJTtAQeQlevi9PUBUnkTMGi05QCsbGYwuLSPAjrxlMgixIECLv+15zS4iwMZIMY9ieSbA0G7XjEzkJMAmTcp3kME2QIIqm/rFoCPAjb4jM8cyJcCZkoWWP9EmwMqvJKlXHiHA5m7OPnH+MUApuA0UQF8gwMXB/FY6RyXAW42rYpAgOkANAlQ6P7sVwAl5giIDYyHABKiMayfwJMBbVHvFdv0mwLds776VSxrAibx5uB9EN0AfAuMShPsqQLr0nO1FACXAq2TLk+F7N0A9VNY6Gw0jwLjfHgQwUDZAPzC+79nxI8At5w7idxE4QAAXI7dYriPA9sEU/JP4IsBGWCEq+4okwO2Mrel4HyLAdB+/QMw1QkDQxZ5+QS0iwJJboKTtJijACCEyfAPnJcCxQ4Burv4awHd0jO03Xi5A5Fm4sCJLN0BlmXlgjLYgwKiGT/zSlSTA2RB5gfs8MkD3ptqcF+QkwF9qUtu6ayPABaPALwEpJ8ADofC/1NZAQAL/OWLuNSTAQdRE8jrOJcBjIUATGiMpwD6gP/q/WB7Af8Ke/wdTN0CMM1Bxo64mwHHt7FOuJjJAHqbNry2JIEDZX5N2eFwmwGDtFG9++TxAdH2hZ8BzJMDCvPLCL5Q3QEmDy3YDuSPAiyrIClQFJsB3/KzZv64hwNwygKLZgSjAY648E3LEMEAYjW/ivCgfwFmwAAHn7h7AFys+TqudIMCBsghxfuYnwBwA4NfxcyLAjK3EiRKLJ8BN7HTcc+g9QAJPI2Y7EyTAFzi8zD8IJcAwP7qsWQ8lwMrem9EUFiXAFa1g/kV9JsA7tEk97hITwH4YR9bpyCbATlhcEIK/JcAGQWxYU2g4QCqzN77AGDVAVIopxmTNMUAbO7yj/OgkwKesM+8yfifA8BXnKWmsOkA9pspX+LglwC3D3O/CnB/A9F5fLuNsJ8BZooZLN3clwFjLqv0RrCPAwVLudt8EHMABzeFXYWsfwJuP3g4EfyXA23We5CuyIcCpzZfKZi8lwG8iMvaliSbAA0CGVT0FJMCG5jF1cZslwFvlZNddTjVAcD/Nb0X8MkBud5au3tc6QFu82uFBsjRAr6v+JOObHMCSzRQrp6ElwIMIejPSuifAeRp45QbvIcCNnhvlLZM5QF7Go6hsUjtAIi2iDpFePEDmh0sH9OMlwCNPlH9zDS1AZVIYZA3TJsDhvKiVubgkwCxWb0W1qCPA8m7mQlNSJsAmnrEuI50/QFh5vel24DRAycDS7UASJsB+D+tiuHgyQEWcBHV/wiTApFRfWrj8NkBmvQfDB9AiwNNuxniqADBAMkh6o+kcJsAE8aC5afUsQCNJACB8+yfAy8JVkdMROUD1w+suu0UxQNq4Go/vLCPA9gqdXcP/PECZsek+w445QDTcj5iglSXA1wqyb7qhPkCCgtYlk1wiwCNDR3AggSfAIkj1LQdxI8Ahd63uGj4mwJYGeHFZhzlAoWB97HOGMUAzs0h4GH0mwK7LFLvsRSrAkMgskTg6JcAG9ZSMCs4lwKvKr35y3STA0FN5VJZBIcCxpq3DpmsgwOuyo91iRSHAuLBMZZsoPEC+mzdP7w4xQE+4UHVj1CPAszTRqSc2MUDTtsvdLy4owAilAsFC+jNARCYRsLOZJcAJVat7IdU3QEBpuwuAVCDAHDezgJtrMkCX0ySUKbEgwGJP2Nf65D9A23ptSvN9NEAQy042ouwcwGgFFroF9STA9zKQQQEUJcAmpNO+fdMlwLBwiEBqxSjA4W/ImXDHHsBZbMALKBIlwOo3B07Q+SXA9U+a95k/IcD0B7JfgPQlwAhK4hg+ICDAsWNaYdUxJMCqagj7Nv4hwJVT4ol6Gj1ApxvqmHW/IsBclKaX1tIwQMr3UTsI6ybAk5TkjCmvN0AVGOoBeGIewHcNK4CevyXAY9EVzR+vJcBTd21Iv6kfwB4NhFxIiyDAt06mI4yZJsCqmcYdi7E6QJdCr3rgcB7AUJwIVVoHJcAoqpXRPl0jwKE5480BojRAnQXpfmz9JcBnJRSiM5YmwGWMXN7uyCjAPJ6M5dNDKkDhD+XYm6sfQLxKqK3cciTADUWAy1DSF8DHYvz2cu82QOaE2JgBGyDAH3dVmAUqJkBEFA98yBInwPSn9Fr2cSPAnzOXIoHAJMDvzE6mn7MjwM/ztYFxmihAUJmTfRPwHcDyGIe1UOY1QDgDTUKufSPALaVb4gWAJsDJ1YygUmQ1QElO0APf2yTAH9pOTYs3J8AfDBnVhEsmwPjtIT093iXAO6uZPw+iGsB9oi8Ph8glwFEb9dE3TCXABErBnE+3KkDhGEGg5pEgwMBzpLHREEFAFwAKdf34J8DzDTtpd7ozQC3io12ZcyXAzv5H4wtyKMCtAxf+jm0jwDZMUmfOySXAsmuD2+rgJMB2qxIHR50UwI14M9PB+CVAqykfBiTxHEC3IhBpnWwXwNyYG+vNHibA6rkrhYyMKcD2+pOf7c8iwN6g3PThFCVAnaRvU87QFMD9BZC2sTQlwKcYZcV3ASXAxWYbu5/xIMAkXKxV/2clwGpCgx7bOinAGE/Fp3rEJcAudhela2QowETaUJ67qSrALXzJGg3pJcBLBUBnHPArQKlps2BSwDBAAiDQ6StSJ8CdT/V6vhknwCdVRI1Fui5APPHhEut2HMAlB/S2Q20hQBghpyFqLihAt7VVLk0dJcDOC0vDO7YjwPGdePR/MifArtdfMhqNNkCGdOn79l8kwCgofixKryXApF6PSHAzJMDRxTdioQklwFbxNnmkcCLADHpiwKSAIUBdt+uEOS8jwLanUIv/vybAuBQQvQRwPkBCiqn2to4iwExTivKwIifA3FIJ3WPkJcCom+WY5TgiwHs5oo6ZBRbAn9j6VIqqJsDdiopPkcYkwM52muyhrSvA6kujnAupJ8AOw8aHoI82QAqubI5LQ0BAN/uGrzgVI8BZOhKh/ww3QDfV7UvGHkBAIclozROSM0A5FVHtek8mwFu7+GafWSnAWHKmqiFCJ8D6MEX+gpEkwGOHMwBa3iTAPisVTJTzPEBJFJ2DR1oHQKsJb4u8vSPALCwReiMaIMCBwodk8GklwNJHTbpWOTtAk44df3KgJsBrdEDRZWwLwLfwV+XHESjAzpN53ec7LED2fKbQNK82QOnzFKGgaiPAxNhJMwAmHcCm0Geo0dUmwCmuckgK5iTAFxSksGn1J8CsZk1H+2YpwOKe57AIryTAC+lSuPrII8Dn0lJ8xmIkwK0gtRB5WifAUYhTgc/xPUAc2YNtr8M8QL72q5qjkiHA5ZE+xSQxJsD3GC9n21oiwNSSXNLT6STA9fEwGehAO0DOxjT+zgokwGlAE1iNCiXAFC8xVCosNkC9j1CMe9kawPpBnJOjDSbAWg5eS2wNJ8CmJ4kKvzQkwHrTQ/THxCbAYuOjwJ0AKcBClqXHYs4zQHq14ZeY8TpADT5tuQuxIcBVhCIDvEE2QHrl5RC6ISTAF3EurCgOJcDVcMgqwgMmwDG8NYhwSCrAeH7BjlMXJMDRt0cq9Z4lwGlXYF38WDxAYzqEVS6+MUCazgigXvk3QMoLYh/f4h7AZxYz0EVEIsAwq4vrU3klwHBINBBJ+itAfu7LEcvwNECZBPVPSUM5QNPyrbyPri9AHSFotPK0JMBO2Sb+Jn4iwNpZqWePDybAglrwNsm4KMA91b/w5EMxQCwxVCf5HCXAE6oYVZBsJsBUzoZuRbklwIIPd+vR9yLA+pAGO5p7IMD4BOhAMmYlwGBldh0KL/K/Ea76Zg15O0Axdo1b2FEhwDWgkDWW3CNAzqbR9mvhJ8BdXEmkFWwsQLAw8SEXiSrAG+2L0z9nKMD1sezUd8IxQOm90TmNkiDAJC0gUJCXI8DFW1LesftBQDjXCjaQ1zxA9teLqhv6J8BYNsqe9osiwFAZxgK8wyLAg5Cd6Y+zJcCYgC59BHAzQKN2bjXhribAFSTYkJjjJMDiobIHZSs7QB7O2AHDGCbAGiTNvKFEN0BPYLlBfWgkwIYdjKiPoiXAjB/H1B/QI8A0xxgrB8w4QGwOScL/FSDA7IAwMYebJMB9qJ0pWUAowOLX9PO13DtAP1OhFfZ7IMCs2xr5x9YkwF3YZQ9ECiXAq6U+g83YJMDHJ0ttrJ8UwBfPlEBtkyJAZDquNS9pJsAQJIGgOqQyQNxasYkLgiLAfdNFpFUNO0Dt7AeUtlw+QJ9oZe3Y9TJAM6FTkEqIIcAO5YO548ooQCkwrrpb8x/A/vbs6JL8IsBGhPsUC2oiwEMwapdcXCTAfK5nz5e8JsBc1enx6TslwMPXDVeOFCfAGnNQVeDRIsCNiia1r+UiwMeWBzr7Uy3AYrCMA+jOIcBtW4AXYjgnwB5tu2N49zdAmdUVrXSZI8By4Jv15+M3QPmN4ohQvzlA55P32mBGI8BOjM+t+YUkwIWqqkA1IDpANlxAumRTJcDJMLnfrus+QEfFA4Y3OjpANa1gzIiiKUDv0+zLIjsgwLSAao8kSjBAQ04+jxtRIcDeu6mS+xcwQOGcMN1cSiTAPAgkYpOdJcD4kJs6dzonwIyGWo4LNSfAMF9sRpKvIcANlLte/QUbwNemnvw1HCRAG1ZQ0j2SJsBHa5T76tEnwEAtyNLd6SfAghBZCmuPNkClsuszqx0/QAxvsgYVtybAxkJIT3+8PEAIbzub8A03QLRY7IVoTzNABNgYjQBgGMCeOmKlgFsjwNBZqAMOFB3AoeOpm8vBIsAo43QFKS8ewKzHS9hbzDtAiBBUMwqgHcC1Wk8Q0fQmwACy8R9pRSZAoNwrEpbYIsBZgCPNI8AmwJF9/TQQ2yXAlTetWCuJIsBpselHT+omwF/SVZjqkCfAJxA+YUHuKkBxgbjgMXI/QEmOUssQiD1ATCvcO5O+J8DTugjkvNglwDCR+CJqlCbA3G2Lbf8hIMAgsCF9MCwnwFOcHdt5TCfAiByzvyFRI8DcIQhp0oATwCkoA4XfQiTAyV1Qw5G9JMB4qtzOL9EnwJK9NtMnaSLAhBeA5YWaKMD7kkRRqD40QNQNkz/8FjpA6ER0HSmYKMAiuUgHnIUowEodNuPvvDRAJU5PWGygHMAG+xAF574lwDIA8gaTZBTA2PjYxmS+N0BBBIp1GyUiwDA3nTza8ybA8YC59UILHsDWmJbMb/YjwGC3UHglbiTAZVDVfktFJMBIqB66oZYkwJhmb+sUUCfAozZ60PhwJsD17VaGT+0lwMU2xezv2yTAy5qn+GFxJMBfxDCF+dEowAHz/RVnqSPAR55ndvAuJsDBF34rXzMkwFYvfRnfmCPA5Q7U8N4BHEAKUPEexYc2QLAnlB2qLCNAsqWzdpzlIcByMrMS1MQiwFa8PsiYBSLACJtnrMi1IMCxuT4NmB8hwCW6f6+UCjdAq4xb6c0FKkCGMNfo/Xk8QEQ91tL/xSPAlFzuKfDlIMA5j3sR+788QNhB6/AJIyTAY/TOp+vuPECuu4/9nM0OwCkviTpz2iTA1PJ3DXzZJsCsGnnLC7IkwFP2+TFrUzpAUbun9D9uOEDYRdN9RnE6QFtoPMfEuibAA2C0dnobJ8BlrhsQUJQewINjk6e5cBvA3JafXT3jLkDCa7QDDCgiQBTjPJug7yTAxzbk5tKPJcCOokz2vzUgwFAS64TPkjRA/7Fpt2rbJsAMhWfrt78mwO+F8AIEKyBA+RZx0ufEJMBdmVgfqKghwJD9Kzs5pCLAXeHqL31rIsDHpM/rrrMfwHTV92nL3CfAdLV8O1juJ8DDpAeYbPImwBGX3S0LvDJAbZSKVctdIsCxJZMml4c4QOlEUa5cFztAG00ps/lfI8B6ZF4Z1UQjwAI5jWr3l0BAQT+7ybOPNkDLJGbq0NIlwC0oiR+5OydAN1s41cY3JsAiWllZMnAmwOKVyk0vyRnAukgD1z3iMUBgvyegpK4nwAN5sc0A+SXAl41QLuF5I8Cw7eps+F4XwPXafZ8oRiFAUzCAwZsqGsBirHzTJ5cmwFqA4aqBEy5ATFsIQ0W4I8Bb23FhK2Y4QPZC5PzU7STAnbIIGJz0OkCwe5+WDMIlwNWpJGp9PSHAmdIaVHqcJMB7F9jbW7M3QPYtW0bSGiTAxMKbbpSZHcAmIGk1dJAowFsj3kdsITRAxOsnesQaJMCk2/vX2Wnqv89jDc9NCyHAE1NMCTRfJMBco6tTP5YjwDGmwtnfIifAEYVCHzD6JMDgR6fpdjozQMQ4J1/2zB/AuW/cJb0pJ8DXpWV3FHs7QIanQb4CTB/AXJ+C6XNuN0A4TYppzFokwA+Y5Zf20CTAfjoAL0/fIMAJ1uStc8olwLVzCVUIaiTAcOzIvmfAGsAFSBFn0rEmwDr5JrwW3jtALN7hK9UrJsC79+4nruAewEVW4Fjx4SbAdtqEIarTNUDTn6P9gIEmwB5bR15LHSHAnGc7kNH2HsCckoGTJC8mwNPWsM6JmjxAfEQfvCPiI8BcyN8ULConwLXp8nemfiTAte1nxAc9J8CAYcVuA/obwKhXS3fvUSbAhNq81XFmH8CeOXYWycMjwFCU59bcoSfAcN77F+yKJcAGqTZ3MoQowJEz5yrQjyDA4Ix0F/m2IsA+VBIhF5AewC/8MaMMPybAuFCDlQ7/J8CK54E1j54cwFa3LgchZ0BAU59jr/INIcBmr8pl1XwjwCsXWOpQWCTARFDQCn0OJsC8idHaqiIlwNg9DfNciB9AMqV0UgrQJMDst0WC0R0gwDc71gtSuCTA6VVxe+1HJMAUZINT9lIkwFvATWB77yPA/3ErdklRJcD18yEMQKcqQMepBqp9oCfAn3bG80rBPUAznGI4j/k0QFARHxJOijtAMoTZywlhJkCe/fUAjVM6QNSOkerueiXAfQusnsi3OUBRynhMascjwIAM3qUA6CLAJqbDZgVHQEA4DGKAbjomwGT39szOEyXArH6Y3kqBIsDCM35GGXAOwDrPcwwoeiXAnqHYO1GEI8AAP+6VN2cfwJhLS44i8SPABxtpaaYHJcCzebaRtYkkwA2hgk4oCjdAEJeFwLH7JMBbTTJ+emo+QLSoUOjdUDVAt0j0KoHdNkAuetRiKAInwJ7Pr3714SfAZW/AXV4vJcC/XuQTNYM9QHjXqxpKkCbA0oZssguaI8Bl7tX2/c8gwIKseRZe4zVAbwNox/6SI8DrQHiQi3QlwMlEZz+QPyfAVdGXautlI8BPsi1q8mghwDjjR6xw1DZAdIbLpEylJsCmkkHee+U6QBiqFbaZohHA9WNwbcN3KkCJF6EMUBw/QIj6YvvGVB/AEep50t6+JcDgUlzliIswQNh/wPv4WTxAt212iMksOkCzagO6FaQjwEOv1RXRhSfAAZCb1+RcOUCU/rk/a1YnwI3c5jRDWhrAjvSNriGfOECj3L4/AacnwOWog/joSSDAcylIYaQzKMAF4YBA3kQmwDyzosjEmifA71E9ptBqN0DA74j0gkQnwIdmm6MZ0CbA/ZMzJod6IMDofgP/r8c/QKhq1Z39hCXAi37EbzQDL0A+2iqhMpcjwPhny/QuWiPAt4uTTCgPI8BXif0n7jEoQN3JHjP0wCxARh/0lyA2P0Ceq8wtTBE6QBjtmvPyiyPA6eBqeXu2MkBwuA6gsicowCPmmuwhRyHABOQ5uSwNJMC7+xaJY5wqQDJTcqOwbyXAhyZOhGTnJkBw6rp+GwgowJytXx99zCnAUN8zqFRIJ8DmA6TKlBslwJPREh3sgyPA+5rnAFDNIcA05usU7W4jwJFbsUo8cyHAKe7x/anuKcA7+fjn2pcmwOG3R3kjITJAvkIQKQHdJkDPPnM1S+M1QAE8Aqf7qDNAqbwPkwRXKMA9Lh9ST/omwA4Eh4GOtinA2Nqh5YSHOECsWqAcKfw2QPxVSHXyoCTAWf/LCyzvIcBMTJ9KLvgkwHWokyqtvSjAUqJaqZyNIsAgZ2EPLHo9QA1tIuR8ziPAMJf06XGDIsA9Ng6vZ0slwMp4wQH1TiLA/iSxKKIyJMCunlEoJQ4hwJazoCai0TpALGbpcDraJcAOwxHzRkcmwErHhnM7ejpAUyFuZMn1J8CNhFisY8wlwAtZAvN81yPAzLQ5M1slI8CHJgs0lNwlwKth08bIoSjArFFBAGrfIcDRLrDmNFsmwBhpUeGM/zpAPhIY/QInHsCscYmS5WUcwF/OiRPtexPAAvxVH+BSKMC7zvF74KUzQEqdfgTJNzZApd5dz31DJsBaYS5vxSkXwG5KwDOfNyhANOO+xhhAHUCz3jHjxngnwMj92cVmWBzAOYC+3kBHF8CwetmM2K4owLC2kZ8JjTpA1w5ZzfIGOUDl6VtA6x8iwLnQyTFjaTNAHKZcBYYLJ8DvdUCxCwQhwOw413SO6iTAKXLb5Ax8J8AlC3mSdRgfwBp/SsW1lSfAFRvckzzgG8DtdpvGTy82QDRQrgbaXyTA/gc0megtIsCmPK8hYSw1QB0h/gdpVDJAcEQiz4gPO0BwJlxqXJIkwPT/arrNxSLAKO5ZUC09NUCAzQ40hmg/QJ+6FW5/ySPASvRbNaf3HcBijYmwBngrwGVg2WeQwCHAgQfrFZ02NUB3QKl6beEgwFNVMPnM0iPAXP3cxt/9I8BIr7SwUsoewAuucPeOdSPAht48XL3AOUB92N00xT4mwJa4dLXKRiDAEOT6dWgGP0BcoLYuZRomwNpIjM/l+TBABc4RgVj6HcBqHuiNbL4kwMthIdB9ghBA2EMvtTfiMkBwgSdrO64owI9ZJVLGPiLANj9sxUdUHcCQwiN+SoMpwDD+FVG4tSLA+pyMa+bRIsBHV+euFhAlwAXOSuo0ECbAbsqFZeQOJMBNOyxG6jM1QA+OqN7uLyHAGhnBpaTvMECP4jOdCE8owKkGQqwzzCfAPCr9csHYOED2iJ9D/DUnwOKWQ7jizDZAKSa1dR2TIsDmCEwO+Is+QIlczxZC4iHAZjsEfWfFIsBoGer2pAk3QGcew++6vSPACT5ZyL8cJsDUYfOEkeE5QIhz8iKMgSfA3wB16pj5I8DgKuU+/j48QDYxOip+KCLA9XkCiRhVIUCR1c11TtYlwMBchnk+/hBABhEEa7lcJ8AJC6dWB0AgwNPoBsoQuyPATJ5Dw/MfJcCVzoEVU9I1QJvHT9/xlifAqwo7LV9xIcD1zP2rHTomQBMYyphFlh3AJh0/QBlYIcBn0qBEpMAbQBoMIh8FwC9ACf7fv8ZyIsCgeCCFfcokwMUzG4z/UT9AhxqWhTyHIMCkZgv9A/EkwLY0wy3sMSXAsMrNGbaDNUBTSRFjcVYpwGjYT5klhCfAtzqpHlg3JcCuSzcA4E8nwKr37UNn8yTA9IDjQTMaJcDGbL3Q8/4UQEGkNL1I8zRAdVDV0kcPJcBruji3FS0lwINUzvLTbzFAhm8YZN/LIUBoJ7nARcI1QJm+VS9+LSjAb+QxH/U9O0Agwo9YUNMRwPCbRrwK8xfAbOJRqBaLKMCwzOJhwOUhwHJYLYh6GCLAG+qsDeKMPUAP3RO0t3o9QJS9Bab5siDAn2QH+eCyJcCkRn2zYNkpQLVgx2xirCPA6czPA4iAKMD7JnvdOf0lwIJsfKEEbCPAVKzMogFMJcCtihFf/lskwNT8150b6SPAPW5rFN6aJcDxzDYmkc0kwHUAdrIAgiDAjvu7qpLfJcCwLgoz2/bmP/A0D4rfpB/AJL+esDZzPkDSd75tV+oVwDl5PCyyNzRAoBupcg7lI8BER4iWlgokwCWm5refOidA0woxCkmdJMCrhR8sq9clwDOhwJHwZCPAf0AtdH08I8AnW7+QKEcjwEtfhwIDwD1ADsa+JsVCJsCzOTUOThIwQICQXyU8vRrA8v6UnZYTIEDzslo2WH0UwJRbwwhJ9CFAKVFql3sfJ8AXGMQw9Oc7QCNFWl2cTSTAqmGJjnZNJsBEl4c+c8c6QD/akltYkiDAEnL27YFDMEBWOuNHeTESwHlhpneakCjAabKV6N5bGcCgIVEWIgwpwG1VfaGYRyTAYwtE+z8NJsChMdmC958wQPTz9oNOyTpAfllEJAL+H8CzFHFS4YI2QGqnZCS01jdAIskXWFaqKcD5lpkm1zIhwDCa1yzBFjdA5I/TgEteHcBA+q/E6z8mwBiXjM5SAjdAordakd1eM0CNeKUJsd00QIrz5mg67zlA2DiDk3VfJMBS+qw4bEkowCHVD2HkuifAXcZLTVI2KMDedarkUColwBbzxcS6ACXAm1Wc//WXLECYPLmuNU0mwLYmIoG6ZCXApVVYqoZwKMDdSW8hQ0ojwBDKCqH6aybAEg0o9FhgIcCCKWVNGw4wQNEtSz+MKyPArJ6b3cSlJcDmMCqq850jwDCtDB9ZajdAe9uq33YSJ8AS4o6D1TsUwOWF/EzqgCLAiS+euJaSOEAuB689q3wiwL/zTEWwHjZA7nJw7263OUDnc2FprbojwPtay4FdpiXAPRtY0j8KIsBXZ0+NC5cmwGTG/yP4MT1A9ycoTbDsNUDIxCMRRiAkwPQSorZrGztARPmtSCJdJcBYkSPu50QlwBmLoW32PCfAaNgp+GDuNkDaAWW60r4dwLEobm01sztAcbyrCmHiO0BUN4Dd27glwAC8Yh/SACPAeM1uJTRlKcD4kzsFoBE2QJkRTKMYdC9AlAgLfVj7FsARyaLulKIyQO0NapB8ICnAiqdEt9vsJcCMCvoagPQmwAvdq1opISPAILrY7uRuIsA/N+eNBXMkwJkUuRgU3CHAJ5SJxojRKkBmzRWyPeM9QO9sT80VkSLAWO2lguGjIkC92Yq48sklwEUqdfYL/jZA8LjZ1TwYPUBMG48Klg85QMkMpqdDMCDAXLmhoOiuIsCxI+C19qwpwApP/kHrlyTAbD8E+04iLMAPW3diICImwLENfq/qmSfAeUCbdAAwKMBD9+9ym08WwIezPba+VyxAXFX1iSY+JcCnzYXne2UpQHqp4ajd3SXA27Hl2ctnJcDaLqSEBH4jwN1ZpkVPZibAEKpHfMpfJcAINUAFYa4kwGQgT9cDsiLACQ/WvO4wMkDZQTwG4oElwNy9Ut4WoibAuY885cCtPUC0zSOik/IlwAdjuKysejNASxEMEtqOMEBUlzQy4mcjwDC4mRuXeCFAPWwnTCBoOkCWgL+1kh8jwIb7IYWPIyjAdjGWhFDaIMBDSdL5MCQkwB9u7wlVASbANqvpI8M2KMABn4ZLTlgiwHFOAO2TMTRAxl3Wvaj1M0Ce5bC7SpodwDfBqz6X7T9Ay4w8VTiJOUCBwnD0NF4zQAJK6m+OPzlAdv8CMEAWI8AhP7rUKJooQJivS45WPBnAPkRJ0eMzJsC26NP8v1M6QApaWMWWACDAOz7qGB1DIsC4nYCvzko4QPTyxK060yTAsXvKyQ/+JMADKKaaiLkowD7KZ0rwICTALqZL8zucJcBWSzb9OCxBQMjVXR5XkyLAHpXtLtG5LUDshZgxBZ05QDvZ6xrNKQbAFqfPrNvKIsBvXX6EvZkmwI314CeOniXADTOqn36yO0Br6Q9l2iQqwDKjAvk+5zNA+fCsyln7JcCBOR1XcAQfwJh+Ucx0WCHA3cxjlXqLH8D5r0ojL4omwMWwhvJpJCXAcsVBTvtnJsDeD4LxBbQowFW7TuzoZhrALAUb9e4fIcAejGWEC4IiwMGsFhmIhCTAjnxnrmyvJMDmnMAMH+QrQBxjpBU60z1AguD6ywmJJ8BOI24YvesmwNv59ZZ/yR3AkW6jIIDuJ8AoQJTdPiskwP2hhHgv/SXA9YLtK8EHI8A8nzxOFuA5QEmjSj+l4iPArIgmJmRqIcBZNgFX5soiwHdQlfh2YhjALwcF5dG5I8Az3rAx6yEgwPKykVFKMDNAZ8s8cILsGcBOnz2H4tgiwCvQcQL6GCjAtfalUGePIsB2IsqulIkiwFsrXT6VbyZAR9vge/hcJMAFRkgvxPM6QKJz12c20CxAm928+RahJcCv2CCUT/UpQJ+PHtNh7yDAFK1gYlByIsDOacME9Q0/QEGx1zMlYBrAasi3DdKNJMBVGg61cNIlwD0VSSbD6iTAOECGeTZZIcC4oNE1Cl0sQIP8YbdgHiVAieMXbQAzIcB5r5FnJSkpwJXfP+gCJyTALdsZ9TCvKcBLjjV+dM0nwAQsI3V4RTRA9eOT8OXFOkBILFsYhCMiwBGm9gvDojhARP7MBL9hKcD+Tk7CAk0xQFKw+besrSbAblqPSLb5PkAUvt+Yf1Q+QFN1ED4ftyXA0qCGCw1qIcCfrSWFOjQjwLgmMUfLLCbAoYeWWQ2vJsAbgXjHMIUkwFlyE0XxXStAtWFxzRHBO0CK7MD1Yr4hQDZYTukSrh7AeInVEOh1I8AzjvvdrgIgwGO2betn5DlAYnMvhS01JcD3x+CtaLMwQLCl9UZuKyTAPvwdHUh/JMBrKYwM7h4gwPFiKD/wLCfA62bshMIeI8APeKV3Uc8iwOK4B0q16CXATVe2WiBsK0CW4eM+aKggwKsvfVypDSbA00Z/udPrFsAiQzvrL8UjwGSgO8fk+TFAL1ZNE2ZnJkAOPZXfgm0xQKc9toTTjiVAEv8Y8RyRJMDI+e5npVD/v447ddnteCTAHRRG96zmNkDMfYj7b/ckwDKNK/sSUCHAhgXchtnJI8Dftmjho8AiwGZHJRUD9SDAYvSDvzzxPUBABYvvRBMkwH3Z3sqtYQnASqN3u2eYHMDxEL+VWIAkwLSAN5bHRCTA5lBKkz7EI8AxNpaMP8okwA6VFIxnFCTADsesPBJ8KMAfY1P/bl8lwJc01P5sQCPAyzLy3CYiJsDzMc963BwmwO3KqCgVySbABF7claQDJsCoXUkm2xQkwMN0EJ9vSiXAN2e+qj/WM0Cxe0MEFaM9QMU1d6V9Kh/A8dfcTCDPIsD4NQUDLlk7QDxnkqkikyDAxtGbstYJJcBVJgd4fTUiwI4tRPCWBSbAf9Gkd0T/N0Cv+kxGoa0kwEPBlr8dLSXAbXMYqZIfJsCqPc/AqDE7QOtKR/Bf5iPAot479YEsJsCSTXLwCEEiwI1wmvPy+j1A6fhE29rbJcAZGDoqnywgwMhMc1Kh9yTAomSFmLJIJ8DHJqoac84nwIopfLTNjCxAl2yyvErTI8ADMWPw7UUnwPTlebtAYyXAtTWLXD/AJMDyEoxKVdUlwI8j2aq/HiXAtTbHHXhZL0DKVXZ5VrMpwKCrpFPmCDxA2gzgTFb9JMBZeYa7JWItQMu9lW4m0yjA9MCbrW0WJcAAvtW2qgo3QEYn7GO1pRHAXM1WztmkI8CkMJKNI9UjwCQNA1d2JyLA3hr8NE5aJMBNkdy8FncjwCgryuxbvCXAKUQmNpAYHsCfZSOSicA7QBEqww9fHRbAV8e4pM1jPUBaVcaodcUlwFJwIclLHiLAtJMX7XExKMBWbyTTS6skwFtNjusHPiPAoE6MSxvtJsAhBl+LcBM8QIN0BolrkzlAom7YiaQBGsCN67BcUg47QBpU72FXCz1AdCFCdrrJJ8B3RWzsyS4iwCWmJ6X2eThA/KwkQgf6JMCd0mxeMLc6QOdEOulv1x3ARYY/mE6FKcAF8cREBr4yQLkAMOFNFifA1la2NA+3IsBpxhm98eckwOIxQLx8ByLAHjaatJyxIsBceGoUh7UiwD/q4WCQtRrAIS82xcE/JcAW1fzWYU4mwGM8ZmIFxiLAtMpFUUJrJcCS9I3FVUwiwNqh3+Ht7TpA1h6ENx6zJMABQKeLp3A0QGeNktyJ7CLAWAGmXRx9JcAr2dOTD7knwP6m5mAAyiXADLrVNeiRNUAfQHEkv+4wQOr3/LZtvSXA2yrC4gmgHcDtDixuqDEzQDcJdCjcKDlAl4HmK7KQIcCRR/hPea8iwNu61+LNJifAA8IGiiIPK0BApUcKxYcbwMpj3A1VoSLACJuEu9VeMECbJaUeRJUlwAfpiRF/GiXATAa/RqGSKkA1Wfk+fcokwCpceD3aryfAo6xRPQyDIMDNGHOAleMkwBZZUI/GaCHA0eGGvpP1NkDgAASrhvw2QJpA9nUURCLAOJDQnfUoMECbfROdkm4kwF+Cuon3RybAlO21FUcCJMBgHovgQCslwKpZhPLbnCPA4OokWukmPEDftix3Sl8nwJ0sloQFbjlAMu281zzMI8D1S66qYckewFaBs0dkmCPAXbHnIm8WHsAiRIM+w+UnwKi1Fh3ABSbA8XPdyyf0JcCw9drOiU4lwHeovvnUwh/Ay3AOeznmJ8BiqDulufghwFy28fq1NyzAd466S0+QKMBPlaWsBgc4QG3PcUL4ACbA5c7qmW7YIsCUwRY5BOkhwGgOE1WtPyHAc1zbMS1NI8CmaLL+RRolwNF8xfr1byXABt8pbmx+E8D0Yh2Y5FIiwKrrxek67STAhmoKdq95J8Dofewr97YjwPrcgoeFHCnA6OILlUAqJMADoGXFM/EnwMs/lrDajRbAPBFFhJ2QJcAqC7SvuTQlwJeFQg6gxDhAyjFm/osvA8CTl6UNI+okwEjQJN/IoTpASDWvhQy7I8AIVZdWI1c+QHhmTYaQailAMA8LQ2MSJMAGa7UpUWg6QKH0ERuMGThAffYP1k2VM0BNoiHKUNcjwMySloOqDSnAzRVjwqW1J0COflxl+PUhwGaZ74wkGTtAeXD0YWbaJMA1nsn9gn0jwEOquZ+TMyXAGJxiZqX2JsDB0NgxgpA4QFeaErb1CCXA1ayH670rHECXYcYAuywnwNdgeUDRQSZAqBTtGh8hOUDLD+V8wsAlwLkSvJ6wTifAgp2SgbKmJMDt/K9weJQkwIetbvBYnzZARcapO1RUIsDMjdyM4PInwInnK4tKayTAuSOLWSc9JsCOEVArgic8QBM+dGLQTxhAl+CKv59PIMDzJGJ3+q4ZQCdr69IV/yPAF4gedQdKKkA90C5+imQ1QOyE/5j7+jhAzetm0pfSJMArGT8NRg8lwCVq7KvwrSPAkeL7trKuJ8Bg5CdZbIk6QMZ/a7+BKCXAtZnRANGDJ8DpizZ3/s4nwIHRZV51Wx5AHT+3Fy5APEDmltIgtHwhwKxUyLmOjClAW5rmD6GwPUBqYE2gd5EgwGf6D4nDwSHABBtjuGusOkBgrn2cbqw5QOksY7c0sztApzv6k8nuJ8AeZHuQlzIlwKbeZvrAJSHAqtJUlQcNJ8Bu6x1WIIsmwOkwt+ApMTpA8fcGo69zJ8AL4Rw1aKQhwEUqc+dPSDhAMxvdOYS+KcDoHYypsxo1QL2KBWId8SbA3X6O+5xCPkAYjL0R7+InwM1pZg3Q+BrAjbypJkkqIsCpt4r0zJAiwOu2ZdsAoB1AixeKAiZlJMB9am+delFAQEDv8UN/mCLALHeU5WSwJMAwiCa2+cMiwDUNTYztRCPA1qv9H0GSI8CrU1XWJBEowBFPz1mPOSXAV5gSRi05MkCIOMgd6bY6QD0F3RBfECbAMXQqJsMtKMDXRvH/qponwASjrwRpdCTAJ3YA9MXRJsCyyPrA/B4kwB3abA+6xSfAKqHH4tgFN0DJoO1o1OESwGLX2i80UzVADUuBz16QJ8DTv3gj2G84QM927JMxjibA9yGxkNYsJsACh+3a6nAmwNhGy3hzPSfAeYcwVQJhJcCIML+6MiAhwK0lLvkrESrAwXoYZ0EIMkCYpnIuIqkjwNolahfEuSnALCjayrB/IMBY4dM/mN45QNwu+gbIHR7ASJKUCrNyJcD6eSBxBwktQEA9CWQpbTJAMLMOFlM/OEAxRgkdNg8qwJ3BTXcdBjRAI4vDqnaBJMCqvLHFgN8bwJTjz3Do8yXAhdV5RZjiOEAKwMuLjVEiwAAxA4JNJCjAmtw09Q24J8BfgGYI4cEjwFdZZBTNniTA0l5iK+AQO0BWJzgjxaEzQMK4PxHQvCXAll+bOI1DJMDWKFiRidMjwEBCkmtN8iPAwRctPUYmKkAAOtUGlzMlwB6oOujlZDtA4Sk42quTIcDdTshWojAiwKnGe91fPThAalzfMkTwJMCYRabto1ojwGCOAcaNAT1A5crUtnSEHMBKX5YIBOo0QPRJ/YD68SxAvwSXR1eEMEBKz7TIz9MxQPw3LQ+6uCfAF0gskjXtJsCaNDYsZJokwPM/7JYJyCfA0tHOKtgLKcBXjeU7iMklwCbpezxHpC9AA1MQ/rrfJcChayVx6Mg6QO4es41VfyTAxtKkD6OpPED6xtXieRcUwHeddwg+VSbAKgRqrnF4JsBYYz1CE8YmwGSa8VOfSiTAPkdbQm7IHsD3j0bEbU4owIN9zaY9fD5A/5anXRC3JcB+XkVvL64jwPcdfyt6DRvACoZ1S35JI8BqMNLqxwYfwABEJZ7otT1AYAGgdkgeJ8CjJrPQY6whwO2+K8TbGTdAnl3nICkhJcCxHKIO+2gkwEZNzcufISLA9BU30YztPEBSvMnlWbogwPLHwYmQMjpAk5vJdBuzHMDdtzh5qWsiwDEkxl04ySbA8ZQPRmnnMUBFQ4d9LzEmwJDIZM3rGCPA9LHmwv0ePEBJYe7QIgs7QC4pgWrqfB3A5finAW/WKcDJRz8BiU84QPg1DqOV7yXAjp6b/RylOkDg5xzUzKkhwBaK2qg88CbAS6ogQZKxJMC/xbqRSmo7QIkMaPeYiiHAYMElI0mzM0BIE/D+Y28qQDvGggYcdBRAzqc+NPsvPkBzuDVSP5ImQHI/yViWYiTAs2WiPVQwJMDp8pP78cAmwAXWbreymSXAeaiKB/93JMDvofPGLoM7QEAeN5XlISjAEV/DhRmDI8B1ub5PRJkhwBvOh9H1ER/AVXZFbyCeHsBosgpExZU7QMb57Dj9oyLAOeznNa1rNEBtgWa0xdo1QC6C+8y6mCbAEAwTxw3QJMCAOX99uFQ7QKESy7+GnSjA6P7mU360OUCt47Ms90Q1QGoMLomU+CLAYxANcHgnQEBjagYYi90gwD7t64jkTSPAoyCvy3BAJcBuG6qx9RooQOiwDLfKHBPAcbtFiMPgKcAaEuPPU7cIwHnkfbfQzBrA3V2yN5VIJMCql9p120o0QBB+9hEL1CfAURuqmW4kJsDuztMCZVU4QPZQWPLoiifAYt04bj9eJcBAJ3NoELU1QFd3QeATBiJAT38svT88HcCqogsTmuMmwNj0i8qLTyfAQEaVAWTQJMC96smrUN8kwJkommESlx7AsHEat3jQMkAq7SugBjUpwECJ0JkH7yTA8B7UiBcvNEBBb4LCMrUmQGeMWZirmCTAeiIHGpSPJMDaZcx8zoUwQPcV6QqLRx/A0P2QNcddOECKo+OsTCsmwGdcZumptyfAsVecE4eFH8Ap7Q8OZtMlwEbAHikw6SjAOCyI9nfpNUBsiY/r2OsjwBIzldqY/RzAgrlSKzqzOUAY0z34w+YjwOwuofpIbS9AghwYOPaxJMCWjv2AuTI+QMPSQl3dYCTA7b5CKwl3JMDUWClm1twjwMgPn7lJ0iTAcfUd08BvJMCnk7FMKB4kwLSHM31v2CTAoZ0bBKXyHcCnGHQAuyI6QEZDSn1N4zNAndds/b14JMBHcZAhaNQiwOOzfzV4jiTAfqXQ8yqINEBdZ9sBf8wnwNZ0ibRyHCTAs/ubGcp2I8CP8/JG+NYwQESsLyEYACXAVees8t5uKMC4o7kDS3QhwNSNU/lhchzAji1aCxbVJcAnhL5+lO0nwACwnNMKeSXAf1UW2JN5JsCWPZptI/0lwHRZq0S4MT1AVaXEBC0fGMDirrWFUtEdQBLRemVEpjNAQ9GgjXdkOEB5QSf7gaIlwCDF2e7P3yPAnnThDLcfI8B2a1sf6iYlwMLX7VmoPSbAyPgtlLQSNEAMB3oz5q8lwGONmTuvhCTAnYuoK7/BO0AnCpGRfokkwPKgfVvEWCjAiAI40mK8I8CPXarIPb89QPi24/TMXSTAGq4I7PmRI8CS4vdepPo2QPLylJQfGxPAN9y8s0z8JsCY1RB+sywjwNaZIWhx+iLAD8sW8V4JM0CKEsBIsKEiwFhH8Z6BrCbAqEdE4QW6MUCJC+uRCgQjwJRPp9izoiXAZhAdcKG3G8BWQmNvNw8kwHM8RsAOGibA4G/YQaK1IsCT5Sf70Ak+QGL2dRwenR/A8pvwPKsGJcCqi8fbZzg9QOU70fAteCTAqkmm+hOlJsAnEeVPeZYlwMpjoHwvaiPAExWTMY5VI8BHiKU8Hv0gwG2+TvejtyTAVMLN1E/IIcDN/k9d8N0kwMz8T4Rx/jhA6o7VFk0rIsBfaAL1JOUgwGwd4tS1OCXAwSydwKATJMBd8A5/G8UgwGEOMTBQLjNA5qIps4jnNEDC+qL3QjwlwI13lvDbWinAwYhDmEVqJsAvPtjaLQgmwN6umHjjFSTA3g1lh5WFI8DTP4dXVqgmwPtmAzaR8ijApy79VAGbJMCFF64E88E4QPO68WwdOynAwEKpkJtyJMAia2SV9dskwAmUEHxcnj1A0lWHGcRyIMCBj9frtWYewDWpImj9oTpA6zNwKq7EIcB8bBzmswMpwAZIQlWpICXAJ2LTONJHOkAP/h7IocsjwETvQJaIlSBAIllauGdLQEB8ugMH3JQwQNUfNNitjhjAaGZrLoCjNkBvhugdKaQdwLndq/fqniTAJc4VT+AHHMBFT/W7tBInwMzbHQU97yLA1AixBDd6QUBdXRvtEwA3QPSRcJFELiXAQoX7pjiqKMDjTksEU1sawFEx2S1urjBAIyRvNb6iBUBYnt6DNy4ewMrFnP0rRCbA7jTOVeb6JcCCaRxiLFEpwPB9W0bnzCTAT6Lu7S86KcAreR9v2A4mwCWvKLtIkBvAzCuIt7otKcCRbE6K1a4cwPgD/q4xGibASbltOjiKN0D8lPgl7akgwK9tGS3icSXAJGwkjfqhJMBNfKnm1ykhwIGI/gCFSCbAl/R9uSbCFsBTTYUyBCspQLasYPWbKTtArQS0eA1uG8A4YMgQ1ZYlwLpPQWvZQTtAiCWXDlnsM0DJAFgzWlImwDpEasyK8iDAu5JYbEpUJsBYiXU/W4IewMzuGbwPJzhAK7uLCeq2IsDO3y1lumImwFSnOewy+CbARtIK89tDIsCe6d6aDa4kwEMjQrkaiyXAXR5UvhZfJ8BdYM1aXU0kwHLTzz5aUiDAk/Lrw2o/JsA54zA3UQomwMsCA1rLpCnAC4XWVJdrPkAy2PNVXAktQC6DRKMycjlAkS7QVRFSJcAhWCWreysmwDfJKwHCuCfA3NhGIUiwI8A+KUob4qkkwLrwrGowwSbAQgMQLlsLJMAlyQd6gbsjwB3xIKg/uizAx7D62384OUDn4ffj70YiwJZ3wTj+/zJA1OqdL7E0EsDTFx4ZbiIewJ/C91UlqRXA3GV8mgHUP0BDOfffEcEkwG+NGGY4uTVAtacmVz+1JsAZX4ll4W8hwM65tD5jrCjAmqcrIS0zJMBNzhjYTdEmwDECj8+26TFAxL7nfD/KIsDTIGEV0UYmwHxZmAn0SCDApYqrpFcgJMAvwLYWAgk8QCUtZpBj5zDAJDqE/8hxJsB/hyw5FJgfwKZEBaAgpj9A6m6fnWtJJcBp+8Udw70nwHS22MiCPzBArxwOsovAP0CMWxG1lQAkwNT1ewX2/Q5ARRQ+hLv9GcCq/6r4CJ0jwPBVGmhMtyHA35n0iLqFN0A1KbZ0Bi0lwHBjAQN0ZRrAjpCtCGjSJ8Aizfq91ZQmwG9fYj206iTAWwHkdhucKMBKcUiSCzYjwGRVVc6lSCDA9D16xn1fKcBi7NbH0NwlwAo5yZ+o+SXAGxjg4doEJ8BfYPygXNUewIjUz76KBiPAyem9FfBsJcB3oVUzApgyQHbuIA3TPCPAz9n2oMSjQEDD1Xuzv4YzQGFBnSC+/iLATtCSR73KJcBG3ThTLoksQOvlAqIHjibA01Gf4cgTJMAgj4E0LOwjwCA9IdiEsSLAaX0dgsinHMDsQqrd0QMkwCBzvuxDlSPACM8P+YJWJ8Drq+EJoQ4lwDaRavLcRSTAqkVeBM70I8AwLTdxl+YkwNTdtrbYwiPABIMxKciiJMA0VYi4zS8hwFmFAo44HChALaKS6u2pIcAwDT4gXqUzQFvqzkM9UzpA0FbyqBDLJMC473Y6FSwlwB0kTjuTzCbA672888odJMAbsEg2zZIpQNibeWkAXSbAmMXA3+KzPkD50N3zsloUwJBp0t6nACHARgjxhc0BLMCDR3P23uAiwNkbu82VBjRAgDV1HE1sJsD1ogi+82U4QDWmXHQ25zBAmlf3OgNdIsBHfhvx6oH8PwfUwvV85B1Aj05/e2moJMD3hWFfAgsuQITbkurnsjNA58lKZJO4OkCu/Yl84v0lwDaesy0MJi1A5We0TBCmJcBse8sGfcMdwDXwEfblxzBA+MKU4uebI8CTSH9XE9IlwHdHQv4NUR7Arz/BCZ7JPUCwLqEf2WgmwAnS5/R6OB7AigdDqb+9IcBWn2QMzd4hwLmB/hxf6SHA1hJUkMUyJsDNlJC0LwEqQLuPVBdi3yPAeb4rewebIsCKvhQpeSQmwDm5+CeduiDA2omo5hnUJcBoAqTO/48xQPUdsgg58CPAmHGbc2P4IcDY2cVIb/UkwE/KX0eqKjFA8tCUe0+5MUDXCVLVtM0gwGxEhMw7UDdA1MAiR0u0LEBH/7cgf1gsQPYmA/zuNTNACHb388VsKUAY4UEpWdwlwPDHWxxWKCPAAP627DiFJMD0NDqTAAA+QMI94gywWSXAfZygESkaJcBGUtsITGInwFnqiWH1rT1Am5z6Hsl5JMC34o9Tz8sgwObfMmU6pzdAw+s47rhYJcDNG2QobiknwAg2F/pLojlABuEtbmshHsCAioKe3v4mwMKLjpq3NzNAXQQLaCswI8AY3YWLRoMlwASSzBwauSfAVlBLvNP/IMCphX7ETsE9QH6l5Vvo0iXAXGM9hGr1JUAl+zav51Q3QLTGD5kvYTxAxrKzgVqHJkDM1n+BSt0nwNdYm+NOdxjAA6L/E+xBKMB/dCHbJEwhwHKwkBZl+CPAnWMZAqQcJcA+G8hUioQmwB+OpLJC1jtAcIoSQ38qOkDDYTj2VHkpwDKXkQ7L0S9ApNW5vWuDIcAbW8eFOBgSwDH14eaHHyXAyYoDd5Z5G8CwjAvaUuIkwBrA7qx9Vz5AZBI5CLx4JsAAf4yKcIUiwG+zncPpXyLAH8SJavZ1OkC52p4jo3c4QGYpZOuxhDFAdJIzpk++JMA1g5Pw+WMMwLBXF2MtziPA3JH9p0mxNEBklwE8v9A1QBVVawmGcCDA26WxGYhGIcCAZ64b8xIlwAPSe5zgvytAZAQ/GAIIKMBkMHdYRJ4lwFBV8IW/WBrAH/yPxYKPJsAWwuMIYuAlwKlw/jyiCyTAhy5kvTxUNkCp4+haqGkjwD7fjvv5KDZAkhes0j46KUBV3YY+e10pwK05cbZEoD5A9GuzLuKOJ8Ci+JaHEUIjwIRmHO1rSh/AP/uEU+MwHcCSyMT3eGA8QFHSUu+CmT1AOinlsv+7NUASj9NLF2MgwMOddla0nCfA9TrS78F2IcCMSIAXw/cwQBl16ZaaCSPAh6qwtBwsE8B18q1GQi82QEC+spD1IiPA5Y96uMhtIcClW9gykuQ5QNbOzFfzUSfAptWAj9hLD8CuOIg/J1gjwBqd11tB+yjAtKsHGe7sJcAWuzFPiUQdQEVMhMyP3jRAOzs7An2OJcCWF9NfHmUmwNk5rsYICyXA4Pm95sxeJcCrN94fgS0kwIrrV4i+XDBA37TkTES4IMA37d9lAf0hwKAsCJtslCTAUnEkBx5aIMCyU2UWFiMnwCPDwlP6oSXA0Q594PYZIcBu4cBsf20cwJE9qValSiPAtIHgA9AjOkCSoS5Et6ApQJ8+QwfsQjVA4B1WzHREJsBfgKSFDbskwO31V+DkNiXA9Hw26c5JIcBi8dYwTaMpwCWmeUW77SXA/6diBip0JcAQgmRil38jwNr8mcSE4iHAoxaQqO3PF8BJ7wNB5gMnwB4IYise5C3ATUzaGO67N0DF8Oyv2gojwAooEOGtuCLAb0fUtUKIH8A3GnneC0YhwCLZDyFczyPAnjSN1aTqI8Ac3ePKe68kwOk3TxmK7DlAFmaoaqa8H8B3cT/NAeYmwO+wlY5GMCXA8LEx4nBUI8DFUU2Rytk4QOo1BagB+CbAIxeNmwISN0B9JEVTu6EmwMqXff5ifSTAyMJ0htPWJ8AcKB+L54UmwOpK/fNf/RLAOwe/AqNsN0BzhWZmJUQ5QFQh5T8MzyPAL/SoUrroIcDo4i5KBzkmwE618VkjTC9AEhOY+IQWI0C5CZfqypArwKZ4J4NnpjVAhqqutY3sH8DnnRhogwkkwMg7XNZFnTNAv9k/rlS+K0Ad6M+D6KcxQODQRcMHWD5AyZlESuBFJMDMHFsqe1Y6QMvzHf32LijAtPLIqmfpKMAmpcBTP1cnwI7RbCb0XA7A0WjMRNciKcCExr/8QMQjwHBT+MufSDxAlrcQ1v0VKMC5cCBYp/kqwHJnUeJf+ibAwzyzTrdaI8Dwr2fglAopwD9FgyB2ySXAp/8yT+mXH8B6B7mHgJIhwJedfU4i3CxA7o8tb9j+MUBltfusTeQgwDx8t8CX9z1A87Gw/HCqJMANSsJwT6omwKqtj2tXnDtABVhKR28aKMCmJpEfDwQjwIZMJ88jGCTAtTa74DCAGkCb6XrbIC8jwAD09lHEOTlAiChzjhACKcC5mCBiKyYdwNSn0tzwcyfAtC9/tK72FUCuau/9L+IgwOp4q1m+wSTAncX6zd0sJ8C2lKOXgxkqQIs2dVKhWSPAAG6PJyjtJsDuR5Ej5fwjwEtj3n4+8SPAwhzpyktBJ8A8w0KtIcYawLNo+m5+dCTAn1UpDb28JcD5AKrCI18xQKOIBR3fVCXAaIil9yFKLkCfrh8tCpUhwGSXegLNvibA9m19jS7tK0CKcty9EasmQBJ85M0gWCXAgBIg+V7hIcAAElE0Pv4cwKnABvhlWyTAZ1miSL6PIcB79a6wO8I6QMIEJMrHxSHAxulBQQpLJ8DzaaRbwuQgwLmpCbcJNSbABHScIZRKJcBjuKTPVxYpwDuR+KJwFijAn5DQHqAmPUD4HAP/n18swOyi1QwUziXAFWiV9twoJsCrezwwldglwFcvhz3vFRrA4dflUk5PJcCkH2ICiOMjwDSWek0hcSnAFnvd/S2NJcCJ6qjuWYIlwKBqA9uKcSPAwqOPWQVvJ8BguUZ+PGskwJvPKv3MFjtAW1qTG8pvIcDPcRY6rPgYwLZcyAjytipAW0LTUVSCJMCVaI6INFkiwEUJ245zGibAdLeNM0z+JMAb5DNYZGckwDO6YMuvbCfAdTWhZ3SxNkAUEfFx9mMmwB/VWxBpqiHARjcZZovLIsDC78uYmo8lwCgxaicphjZAMP3SUi2iJcCvioSaUzwmwPfWOSFFpyTA55gMlAGwPEDIGwopYpMfwGiU35dR6zRAeQyaTgZGJ8D3Sp2zh8sjwFb5BKSa4yXAr2dvAX51OUBMjXQCs489QCGkrZH/bSfAvjUWps4UJ8AQe5ob4gY0QIunqkMkSzdAdAn42bPcJMDDBht2tTkkwJ1zeT1zdSDAgfuMqm0dIcBZhMeD/2MtQLM87mwahyTATAhwVLFrIUBF0zMzw2YrQCyr3bAXMDRAoplQEU9aKcCH8PUOAe43QDKOHwkWQSTAmT7fi6MSIsDaA33wnSckwPVbafP/WSjAQGgav0juKUBTJwzVJDEUwNFUT3iMRSXAhHV/0T+jJcCQWKP7lAYcwAI745VaACTAS0DaIuGeJMBeAhmmwcw9QJOWVf/oXyTAgPaOoxjUPEB0QZUIlSE6QChEOf0JyiLAHJsJnL5gJsAkS7VJansrQMwTE5trHhvAY2yDMyhyJsDUIL5QWj8jwLzh58FBRyfAFHLZfpQPKcDpupcDV2YkwBFItTReRh3ALxN9nx8+IsA5iXyhwzMlwLnxMzOIeibAKORM+p96IcA2F93LUmokwOVQdGgy8iXAgP8dBKl2JcDNA4d8Dm4hwJ/RYV45RybAK+9epLDpI8C87vSXILIgwMiNhxR/GSXA+P56gXV4LEA6j7Yer84kwNlW1AVO/zVA6RnO0Fw6I8BbJqim1G8mwNs3ATyl3SbAslgBKfIyJsBZ2M1/MvcsQH1DdGTdeSxA1zD1Iw2VJ8DmSqAbm5A6QEHJVSVtYCbApe1JRSFkH8CPrz5fBJsowMj+ywKHYSPAd+c6+fePKcAa534rPfQiwHu81hAwPiRAAYAliscoM0ABuJpN7Mk7QAxA4yyjizNAOcDeLl1dJMAY/HrxOxskwIbxC702zyfAtNtGjxiiNUAPu+ONstIhwNNmyW0jCSTATXE7yOyLJsDtBvFsWhsjwHN2hZlBRCfAu0iIgF7hH8BuRep8RBA9QCBxtezEoSHAwsR0/CvBJcDyle7fYMIiwFCfyDno0ybAkyypl3hLJ8B7WaPN1woSwA3k0IFmIjhA+EI2McbNIcBooEVgFrs2QMlLKgVdQilA3XyPZ/EvM0C2qNC8Aj8ewPuchVCTfR3AJcg9wCyjJsDSV1aVBcokwNf/2DtI9SfAsa5BYFsANEDQ5fA+cacSwCHBIvB6uSfA/Q2RvD8JCcAV3DNZmQokwHs+HQNhASHAdSy+aRAYJcBmqJo7vjgowDxgKcyuKCbAhOqlNKYQJ8CzNoJcejAlwG036m6KrTtA5qfTUxGOIsBlByiV4n/kP02bBk/tuSTAbWVZBTDvMkCPDx2DJMA9QB7uTClgqyvAoFtNCw7GOkCstlGiehErwFWoJD3yJjVATnA8vIZJOUDqu8dKIyk6QDWEri4UByTA84tgeWI5JMAhfxWUwlExQDQ0g7HLQyTAWzusPhM3PUBJONlFTPY3QIPNRntCCSbAPjyYXBppIsBfm72DRM8mwB9/T3VLPClAdR2UkzyKPkBkszagMY8lQIEFQTanKj1ASP1dqVJ1I8C6lJ2Cu/IiwFaSAkaEFibAXT8iIrNWJ8C8ngUYHYwkwIj/hn4S+yLAIZUbT+1hJcASeMd93IwbwNHg6R0WRiXArwoA/spxLkCrhAMzblYjwKjKuaIm3SPASx8wKDgAJsDUOxrflII3QEXQ62fSQiHAhQBMax2/JMAIkTvtUigxQEmCQDJgPiPANSgtp7VsJsAzvwERtcMlwEF3c46GphXAfsAO39pZOkDP2eNWAGQnwEM8F01ZCTBAuYDVYk4rIMDQ3+muy7gzQABRWaBPngNAV7FEsFgbMUAM2JCa+38jwLknwjO+dh/Aw4YidFETG8CjiUIOcP4wQLgtT/ySmifAM9ABRoJNJMCEf2UvBC0pQMGsGMjL1zlAW1n+K0GWJMDp6vsd6Gs4QDawT8OkEx/A76m7+NTTIMCzQ1GhIcwZQH5B2sMakSbAwIqP+cuAKUDZfkR9UmIjwC04FU+inxrAmOepTUN5JMAuoYTBMz86QO6aGEbiriPA50fPnvkJPkCcqUPMjjA3QIJ57yAG6B5AmzV0hSKHJMAp7z+BrsknwAUYpyJOrSXAFnFJgs7NKMCNtv+zRrw7QPuCizVwAyTAQFG79C5sMEAWtSu9ptMkwIq+vQCEgDdAnrbcruBhKcBippoD9MFAQHmgdZrh7iTA1ZY2WfpgJcCz2wqaGRcjwAVOhPmfkjtAuGD2sKHtJ8CrIy2j3S4lwMlr9r5ZIClA/eT/XcHrKUASTbpuhZInwJjKKZksbSPAIBkelcRWJcAgsjlorss9QN9k9UiznijA3a3BWvCNJMCm7PDdoI8jwFehdqBkZCXAT3/KE5OvMUCo0lcJ5swjwLQpcq46dyjAZfonhYDhJ8Dkltx26tkmwEHcSqOY+SPAHbQPMIFIJMCcFDu1YIQiwHcPM983aiXAZvrSMNlFJ8BwYGEb5DIhwIpofVJBcB7Aa2jSqX1QJsBHMj/2HMI0QIy3/4sfmCLA7oSojDwUJcArohZ4vUsiQBRp+EG0/CfAWefXbbRbJcBoxU1cq/EkwGj7WonvBCTAupZg/89lMUAKuye/hZYiwPAKNeWTFSnAY1WevacfJsBkjSyBTfcjwM7heg62xCHAPrCAMRgjO0Ao+O9ke3s+QJtXLHUf0TdACIN4pjnjJMDgQMFTtignwCZRS4NBYTdAyQdgmBb/M0AN8aLlW388QBhG3652EkJAxWqMQ6/kJcAoEIE3X1UgwFSLkXx24DFAyRBEKtxZI8BbJ4U3WVc4QJqWxqSOGCbAgUhvJe0rMkDO/Nt16+EmwHXap/jsHTdAd2pw0B8BG8B5ZDFtyMArwJqgz6ykjR3AsUHjJ0IiLkA1E+P/UN4jwC8ijlryFStAI4DHi0AkH8BDBVPM8kcmQDQ8KXiuDDpAyZlE9VrnJMAR4UDezYY7QKUuhsb0AibADtpWtRiqPUCs20hc9PslwH0yo4fKeSTA/IK23MiZJcAISWrYQI0nwFWlrezOQDVAJUQSHVJrOkBg6IRhd2A3QKMkJ0RvXibAYgOmVpqxI8CF12bbc2QjwEsRNNQ0yCbAs8tifYgSO0CNraONPlclwAbVDaxLhCFAhpQOfsRXI8CfDATPxfgjwNU2uzx7HCjAQopalx/oJ8Cty1q/JCIhwHYrLD32CyXAeJKZgKArI8Adj4WJVuk3QKZ/X96DYTZAsrlPZ9A2NkDe4J43/sMkwLWCsHvFpjBAEoqpuop9PkClYsLDVSInwJ9JLJS3FSDAIHuPGFRkJsDNRNj7FyE4QH4riq5jUyjAJSaFH0hIL0Av6Uxr5NkjwLVeK1po5R7ADgdJVWLoOUCOkesetvQmwBili68e/D5AiRcgX3h0GsDNmVKZLecjwM+2BsAoAirABwJv5pcJJcDv8D73AaoyQKumxJslYiTApye8wFvnIMBK2+nFNcoiwG7pVYBMNyXAeFGIwJKUIMCM8bBz9LsiwDGuJ0YOrCfAvhGjO0OHIsDoiIYQ/LcZwF9710WpWCXAT+fCvTJVHsChMeW4m8Y6QB8XwKyqMy1AgH9xqVDoJsAfPWaLvX8yQLu10tbK8SbAKJ345xXENkDb69yim3AiwDhTNiJE3ThAnLINlLbyMEB9jg2VIHcmwIKfh1nVAiTA4PGwb+yVN0AV5Y4KRLExQOnMz9QuciXAm5Hd6+NWNECRLY9w6QgmwCyMRNs6EifA5/maOJHpO0AHVZab7ccgwF9dX9wBkCPA80aJUrP5OkCNaksJ2KglwPPvl2CqciTAjipB3QbsJsCjISTcGmEowHjSrqlGdDtAC2l5HnWZLECgM7GzLO4lwPoofndn5z9APaSsNMayIMBrCZc9En8fwGKHS3Ilkh/AfmQa/EjZO0D2Tp5vUAUmwOGpVEQo6ThAYYIlI1v0IcAprC7B2ZMyQCAtgXQJCSTAXgIBX9WDHsA/JEfYlGUlwMy4WX9jVSLAIR0GuLGQJMARBz7pHYU2QFGCiX5QSy5A3LPqU9BWPUAte++UE48jQN81VtTu2B3A1C0MxK31I8CyQJRi5YslwOnUuloeryjANvw/sQdkJcDgV26Gg4kewCg4hhy8ByTAqDkSBv1DJMDAe/u5e7YmQGgej1pHQibAgYK6U+o0OUD5U2ixV9ofwBS1caUOLCXAD8GNAQDXHkD7IPEKw0Y2QJcg1Kig9STAWTHi8eoyJ8A+3R8To28jwKm0ayWtjCLATetYHa+HLkDHXs0nmXMiwB7zSWABOyLASUhcgr7sJcAR8w7Qou0sQITRdPJXNTRAb5ZqydHxKcBruxSvU9kSwECx0/bpEyPAviRcnXGfJMD2zm6PKOk3QE88M4aHSiDA/jnfTFiaJsBbkZdecZAowCiOGMbc4zhAk0GBgeE5JcDFj6qF/e0XwPUx2uSmJTxAgvrd7kCcJsAXBXaSwe0jwAGlP9T95SHA+Jy/aPBQI8DXlH7XfdkmwAK3dSUWDyTA789q28PLJ8CdIjZtKhY4QEMsEtG22iXAXZNp/pE0JcADiW/BeIQjwDsQUe8nXSfARai9/JOwKkCqWLwG8BEnwF3Sn79a8yHAuyYvA6IwJsBgYCnt0BEmwF8CPkM29SXA4uM6k0YhKsAugHYgCykhwEQZlnsJ7zVAwH9SE/EzJsBwma9UtZwBwNE6XSzZtTdAhkyF/hBPJMCzBx8YM+MWwExdYfk7yTNAyWQA3Ft2JMAUuCUhzdMjwH0wmc5++SbAZ9smDM/nJcDB605rBMw0QKHnXy+4oDtAVvwb2qlWJMBmnVOj/7wjwKxU+DhZxTtASZUyoPt4JMAgI00cQrodwK1k1bj4ACDAUolNC6FxJcDmeWlvXMYtQJBu3tidejBA2E/hvhnlIcAOYrW1l5YmQLvqYxrxzDtACcvUTOGeGcDb4aLTNw0gwEIMBO/ARB/AM5X34FUNKcCrz1hL4icjwImabqaJ1BnAmeVQfFnDNkBVBG3l2WEcwOPyilST1CTAU4bwiMiRJcCS/4Dlm243QMnXuaipDj9AuHY7k9R/JcDbKiOwxeYlwM18eJLwqDxACgI408N5PEAqJj+Qj5chwNRN5AZwYSTAfl3cWnKIJcA5rijPqlkawPNuerr27CPAFlajiJ/aIsAqSXDmajskwAZZw5PgpCPAlS9lPtbgI8ASqppAOV8lwAUwCGWpbyPAo09wCEY3JMBVyzaVGVA4QPNoipR92zRAU/DydlJSN0Bp+9pXszUmwJofpxOqJhzAOpZVSGipPEAM3AN+1dQkwIQs5IcbFCXA7ZnpBGvOPECtXjgBloYzQF7bRiU5eiPA2bOLP/GDJ8Cex2vMxY8YwHCLj4eZ3SHA0IMg5CfgJsD/jbGSxfggwMqH3hcfQTdAjAVNPFrvJsA6K9sX/P0nwL377dCINyPA4JVke1eQJMDz6oGzER8lwOAkklAoEyTAxQbYU0TNI8AAERpc17IhwO6lXhCD3iPAO2q6w1OmKUBtr50qHD4hwP1MfhZkNiXAnEhqw58yNkBzRGh/d9sjwH+NVFQf4CPAm8KYTIl8JMBpXTKHkCI2QCGeu2IbIyTAm1eKaNXfH8CpOVP4NNolwGUZjB1m/jdAh9xGmVM4JcApMX0luTA0QGroQp6SSyPAPheFMef2JMCwDjTS5hYhwAfBBAE7oSbAoWdWL0ezNkB7MhzT9hEkwHxIkJMtbiHAR9mlxkb2JMDse19Bqi8iwCJXarTkWSlAPfIJ8195JsD1sFypsXowQHFZbtFqShzAsFtBTaH1PEDgWWSJTFYowG7HBzzowCTAG/fpNzi0PUDrXVWC3pkiwBcNOruExifA8x2A8jybJsBHw210viQlwEDfGxuSXCbAYibFEG1PN0BFO8bYzSIkwPxbH7l42DNAA3wY8aLWIMB1cKKugzs5QI0S+4CuSB7AH6jdkGSsJ8D0jDRiE18hwFOBoC9xQD5AjCROLOIeJsDwDsBhPJk2QD2na5/VNCPAHGeQzVSbJcDxDoBTjRknwFRNH05PQSZAblH7py+CO0AtzUuW3/olwC2zGzIMmiTAoN763sgqIsDgfx+QhRokwH064bUsCiXASVN/qJ/0I8CAz8q2J5MewKOLAAFP+SPAXMJMGhwPOUAzUaylcVAlwJyXFfhIYxnA/Et8Gs/bKMCIUckJ2nQjwHNPwBrzIyXADy4ECw9XJkDTIsga0CQmwKBf1e5BxSXAYm01g6EVPkBUrw7rmpwlwD5r9RDydSpAyTRaqdhNMkDJnKWl+SAhwPS++mriSSbAeNIjf2hkJsB2eUY1d3MiwMGHAvTuIinA5ZJ/I/nkI8CJTvQnX98lwFQi1oe64TFAq5QZz8g7M0CihspOoBkpwC69mf0ObCbAEqy21VGJI8BR1vOsDVg3QLafH64XDjlACn1Uqjm8PUDV9Q+ZlJskwKx+sojjry5AQNEzPlAyMUB0zg+/kMI6QH7lI2OTXTpAi/HDxz+WJcBhPtNZRq8awGD6eRNf3RvA0GsyRB5GJcDrp6QV4FEjwJUoD/PD+STAg0lN+owPI8DjinOM/xYnwIjvDFDN1yHA91Lt4pC8I8AuyRsO8DIlwMHdI8J+KybALeZ+mlsDO0CzMntokxEkwDD8S1lpiB/Ang80o3lpI8Ce/XSRiZUnwIvIhm7i+iPA5SLAj+R/JMApElmt2KMowNeGT+SyUSXAV6pff4G2J8Bdq88l5KEowAbuROV11ilAx+OeUOZhM0A5fPVtAkMhwKSXkgUQ8RTAI1Ak20oOI8A6TL7GW34kwJkKx7cnPiXAbt9+BU4gJMCZ+CGsHcQmwKwbI/roKCTAi0zTJJNbIMB5FqXOelw1QIhyEUP8YjtADkAcqyl2OUBF/1LcwboBQE87+uFlVCLAMWIGlV80JsBJgVsLRIkdwPosBih/YSPABkT+XCXLPEDzjRHmIw4lwAVh3FAbRzNAl3X3JL5CJUDtQH1uP70hwKLPzAMn7CbAtYmYR8zwIsCJUwTWlFkkwMfDENAb8SbAlt1fK0FJKkDuG8sxUlUiwJUarf4j/SbABSBjENeDJsB+cCKvXpY2QEiGg+URUyDAdjpJb2+8JMAjwIRNrVExQAZJY5v9OSTAXZM4HU40PUAx/PfG8rshwLU2lT4QpSLAwIVKc3X8IsDYW0WTlj8kwANLiTInDSHAs7CXuv2PJMABHBpJ5OkgwD7FEDZWECbAs1a3CRpkHsA4B7uqg7MfwF8In06thyPAdOXi9E3HJMCjcWZO8owlwFzO6IHdwTRAS5R9OwUHJMCK7gEjtQMxQFrAXhCIsyfA5oxat9NFJcBT+8bVIOcowJY3k2PUjyDAzpCD0Nu2KMBB8J3/gyAlwLa5Diy03TRAAsjIF8M7IcC8k6/bZBsmwGWBPHgKiybAjo10jrNsIMB1ZMgz6b85QO3XYG6hnyjA9DjxYcNHOkD4AwSFh+kfwNAU5kJP7CTA6hzG0lo/LECF3XmsEGwiwCy5i4gEwyPAMoqbxTKdJMA2NWAgdiwnwKY89bhkkSXAZT4SweLQO0D3lCXfRqAdwMhWLDx/GiLAlR7PnE1RJ8AMWNOnPx4owNLQn37LTinAfxv32TmpOUDi4YqBgm8lwNz0vd/dsyLA2duDaUQLJsBVCUYhjXMiwMhNsnVviCfAHI+ZOu3qJcB+7io4UTAkwI8nminLZzZA2GPmf38RO0C/h8WZpCckwPrnE6mt5/C/vnbpDIV1LEDjS9L0SH4rQHoO4L5F4R/AWShwQZSHJcDSgIuY9jonwN3rI4I/3zxA1htse8T+IsDOP4DYqUQ8QP8w8CfnvyPAiOGfuMhFI8BRxo1dou0kwFgL6VjqoCBAL7iBeVyMJcAM24KfIJU6QAqXC37YEzVAzHy/ES1ZJcC6H7o0+CU9QGwmPMsaSyZAHZLDAyeQI0AtfvySgcYkQOmsRFRCziTAZns+3CIQOkBSdfjXOsYfwPCwqeDoLjtAsy4yCG5KJMAReIKZiCo9QGL9mrYUyBvAILu5ErrpIsCUTSokgIYiwCux/VRaHynAqRbEKJYmJMCymXdgTiQmwC2yvDVWOCHABjZo+in5IsAr6oz7HYYlwPscxkRdHTtA/gNLaBuPIcBfuwz4m0cmwMuiaT7PcSXAyFXQXx97DMDfsMfhVbgmwMxls0pFpinAb2QswT7GJMDnNVFDdX8owCN5KuCfeTZA/G2MAFhDIEDNUzRswlslwCnbYvst0CnAUfMbRCXvIcBiokC4TvIyQJSvm3j8gDFA+ot8JcSNOUBo0pQP2VkgwKBh09IdNCXAEQ63Gw+BIcBcvWI/PRwrQL7XIkp1kiTA0Yd671qhJMBrNWnzPnAzQMdSgk5+OTpAI4zdovVmI8C9P7Z6Z1cmwCLF9lUvWCPAV7gW+6TIJcCXvYQoZsciwAgY7cTnNSbA7m2RnKReNUAGsRvSQEhAQN1WbdHsXCPAwJXt8dqlH8B0FOHYhTklwAg47jzt9zhAvHEuAzaiJcC9xmoc69gQwDHYSExclCLAQIW/dXRMMED9Y+1KNzA/QON1aomCyyPAZeGfCvk/JMDu2nonBhQjwJFielLd3CPA/6sB39mHH8BwlaRsmi0gwNc7cwOTjSjAFIuxeFtvQEBJtV0NdhclwC7tWvMmDijAR5dOpxDTHMBDnoU/21giwMOdHSFg+CbAHwngccnJF8AnGzNXEjElwN+ZEThxFDFAh+ZEu4MhPEDxvvf2QPE6QH2c5zEWrCLAMkJ66XNONEDBf+xmgagjwNOJ30PlvCTA3xBdtW/rHcCDVYfw+DwlwDMioNxa8SXA6ntJe//4JECYBd07txonwFlFWvLnISTAPSkFj8FJJcB001V1t88jwNDU9FCz+iPAY/V121eDKMASR5tMljcfwEf4q+L5tybAwRlynx+yJsAObD+uVT81QJlr1Gd7ITxAV26XdA3+I8AAKyfTZ0oawJkno+PG1ybAxaJxzl0jJcDulCK/o0I4QK6fhPqiYyTAw2SXftB9KcC3wrqJC6w4QGVtIDqEIyHA1HHhKp/cKMBImEJbXEIVwG9YXYjViB/APyhni+/JIMARh93Rr+c0QAPNYdD3YSLAh01Sp55JJ8A4nUr/hd0iwMBuW6P8vDNAHEdxoT6IJcDcX1od+XUhwH0dAbM2QCXArgE9CPv/NECQXBRoRCggwOkna/NuXCXASDCGqucEJcCdmhpUIEknwOB6bJzSpiLAKkKBviHiF8DWkxR7ez8kwMJkp6PlwCxAWqwvsFf7I8A4vDli97YkwMIQTz8IUibAA/On74UZOUAJzScBfaYrQK8qpxKUESbAYdYMAlC5JsDAqMXOf+UlwJ3f5AIuED1Ap1AFV4pPIsBiXAQwtN0ewGrVtXgE9CPAtArTvjLhJECV00Ds3L4mwFb6dTlNlT5Aym6rqRH5JcC5d70hPCMwQNsA3RuPhifAjuI7dh8iJ8Ae96CP/XU0QAuHsuTGrzlAfm63J4YTM0AyRAQg69Y9QP75wa/1ACXAuv/qih00JMBdM4bajS4awK0IK8ShMCfA+gQ4pR8xI8ArSBft4DwlwMJbkHBlGjlA0kluCMfmPUD1IaM3t9UlwM6v/10+3StAToepXAxeIsBj6iaY7IguwHPw6eEOFyfAAJ2zuJgHIsCw77F4C/8jQBRi1TRu7xXAMKEESerSJcBzjH75wJUiwBGtL/6/jCHAIUYMhkOnJsAsZ+IDVnUkwKHkUtGD3SbA6drOymsPNkCKiQRXg9YlwIP5fPCEGSbA1C57SqQbI8C7JgGmlD83QByqabnYySLAfPGmd9m0JcAlYESY/MghwOhzTDV0AifAho+8+vr0JMBwguKM1AomwP95EbWDCTZAKJWrZaSwIMDqF0lsFZM1QBNJ98cQIhrAhw0pr+IMKMAcL3CCBOUiwH3/upglPSvAO/40kRxzJMAsbD+uiEUkwHE9UhyZkCbAgYUk4RcaJMD9QtJ0umwjwIe74EGSvyTANTjdTCB+OUAwswJy15ImwCpeBKudjTlAprwTWF+FJ8C5UI6xM0tAQDzeRK0QZyfASBZ6hBsNHcAlE/O8ctQmwHX0GRzlQCTA7Ld3nr2EI8CsiamRneAxQMTQEqVE5ybAfOZzYJPOIMCRzNeTjKUhwPzD2Ddc5iXAJei58w3nIsAzS8Navq8gwPVOmzF0CzRAkD2JRpckJsCWw9TtJlciwOIGzt0v2iPAxRBcPPNEHcCdXN41IFRAQMc5qMY1OSVAxbjJwEgOJsDuFE2RwmUkwHKYXVKkHiXA3kSaN8LUJMALgRfOwNMbwJ92IUcHNSjAHRbccXXAJMAA89liq5MZwCQPiOYXNyPAfNuZOly1JcD/C2wh/rEhwMKAIGQt2ibAbHeW1VtnJcDVsY8LZGImwAJO6Nc1Pj5AG8E72/QPNUDKWgLFILImwPrYfoJE3jtAUFqTwzUhI8CCyDEreTglwNVK9+naDy9AbCHGhrbENUBUdpHxZzY9QMeYyal+NyXADIPGkl1DJcBdGDzXx9klwP/c/uth+y9AMR/qersGHcD5BGcVROQ8QO2M/hhmzTpAJZYDN0Q3IsBp377vF7wmwE+DkuW7Gz9AqBpWyCqDLkBhxJCd1z0kwBORypJVAjVAJ/DAczElL8BMuh7m18k2QGnwdpCn4EBAuKStxO4CJ8D73JWZxBgkwChl78ViVBXAicQfHeGfJMCQN3PRLj4mwIvZARQoTSXAw5FNUwcLF8AtuzxIQN00QFpj9ehCHDtAnUJogUl1N0ABu8uWcuUiwCHobF/3iCPAJAyJcLjPIMCkLDBNnQclwMpLgfuKsCbANm3igVauI8C0bXxdxEIkwDlEzaTB8ytAcyxPMksuPUAuBwhD7yYoQEJcKJwQMSbAlrSUMnM+J8CAHWFtia4XwPhvrdR2fSHAI/y7T63OIsAJzGICdbsmwDQTgzngNztAqA4KJWsPJcB9bdKFTUM0QLQOpRZlCCfAD5zvXLPhO0Bgq85TLrYlwKA6YM9ZbiLAiWWaDOWPJsBIdisdq04qwJ9VlRTbeSTAWcmDBBXDP0DeHlpwjjYnwO6VMMLN6hvA2nstAmZ1MUBskoyF73ggwLhCe4xVCCPA0rEvZcm2IMAzByLJRjQewFUq9ohE9jJAnPNyPon0IcDeRRXNY/ojwNsN4yc30ybAf+iBvhpbJMD7GafEXTokwEecFXdMDzNAlrSF+E1aI8Ac40HtWSc/QBfbFe3TnSRAM1GmbPPsJ8BnPr2P2iAjwGT9GLBlCCTA635DCl73JcDj8ZLDy/YewHzIZ4bW8CXABoEdmlZHIcAl4Q5x2/k4QJcmhaPK4iXArWVTPIeoQEC4eEETwcklwJtBJZwEzCbAGqZv3L+/M0CntQ1CSsEkwB8c1PB1DSfAoU3OLO3qO0AxDxvV6YcjwAudYP5bpSLAem/uzGZdH8AGEy9lP/slwOoQwLBorCfAubJOkXVcJ8A1pjJFxQQ9QOSfLaKdpD1A7GH2rRWgJcAjwXTJtn8lwDihU9HafDlAuRp7qpt8MEC0TclbE+cgwC8+gp2bfCXAwsrPTIV0MkAYZz3r6/otQPqFzmbr+SPAFjffkfuBJkDBHKAv7AgmwFg5E754nCbA1F+28Q4xKMBUMuAN+doZwBgFJc0uPyLAeN80t7FVJMD51dqXslQkwOtRseaawz5Az365fCvZGUALFrZ1AU4jwBBZNTHGwyTA+yocGJeIIMDXK0I9SnUkwOss97m9qCXA1MwmC2WlJMBeVBdvzoYkwKTngoRVdyXAodjz8sszI8Bs9sBbPpI9QMZekDy/HSbAN/jnpPByI8CsHpeIkYI2QDFAG4oVcyjAREs+oGLqI8Ac+z3SF4UkwO//5q2okCPA7WUYw1EPKMA6gbJh43MgwCObMsSOTSnAi8KJIgrQJsDq2hzREiYhQDoIu2xw1x/ADBAxhfF5J8A9lnQ6ymAlwHtLwHyGUSHAn9rSgej7N0DOzTT5c6s4QBCWTDbYujNAVT4owDThJcAgdq8Y2c8jwJQ/W+LmJx7AwouFdn/cIMAn5vVyXakgwAufoZUl0ifA+rNdkQdnJMBMWplpvA8kwD1RqPCm0CPAu6T/6IcOKMDgDseqb7YvQH29KvDJ2DRAgxrqGwZVMkCu0GkEWTAmwJKiizibzCbABzTxntwvIsDuv33+2bIjwHO+NrojlyHAkZmZSdwXI8AHuKkUahkfwB4pua8vFSDAnxmQs0vvIcDYyGJLETIyQMhMQ2e1diTAfeLbRzABJcD8l4XPeMAnwO9fVmzbAzlArLRv7A3LJMCeNNynpJAewHeTwdCiBiTAmTzLWq6bH8Cic6BjfPUjwHkzJvUXDxrAgaTwh8BsI8D7U/39xNUgwEFWnw38PSPAxA+NN3sbKMAWjb8VN+EjwGDyVvP0LBjAzKkMGJz1JECJlyQOFJcjwI9promQESbAFT8cIOsfNEDcFTqPBCAbwPE/omDzeiTA5OPxrEjwI8DbgiGrJ2IiwHTgLPUqZijAPsXqjIqaJMCgq38eeacowMNMS+xOfCTA6jlQNBXQJcDEwgsdylwnwNTbqbV17SbA0XGvuUilNUBrGQilo98ZwGuEkgCIkyfAqUUNTnCzJcCxUeBlhT4rQEyN6b8PFyTASCmLTG/LJMAJ6W6DcugnwCRzYNeLwyTA77rZT2D/H8CfzuftHOE6QCAC+71WvSPAlN0a0ojFJcCX3PBbayMmwCRyc6JsjTBACqUF77v9I8Bgs2WjMUs3QLpd7TZyPT5ANJocWzTrLEAwWzpjmbUiwGLZRZAWbDhA/QpuHF2ZKMBfyPDjoDI2QMyXEE5x4TRAsiwBlrkgIsDIhHwUsPEiwHdiOZRykSXAyQJpiY46I8C+Tp85f9AowG5fe1dmbibAQD4dSOrKOEAe8OkIqiMkwHTPp/gDF0BAX9vx8ZtQKcCWHz0Dug0owB1Bz2lMgyXAwdRPAH40OUDqohfp7QIvQJl7KCpGNyfAB9khT9MlJcApG8qPCCEfwCWFZCN1nhhAQa1Z8dFeJcDGHDRmdRYkwOI6azeBiCPAru0T/WgbJcDdwJ9RDpwkwL7KEQHuOCLANuc64Ea0JMCXLJPaFNQnQHDZtkr8QD1ADOXqPFeLJMCyAF6Ry00kwLEJDg7YPDVAhPaxlQyiJsBI4IBdI3YkwFxArqPp4CPAlnvY2anAJMDELFMmTco2QAM8CnrEdyTAxbq8O4QjNkCFCnUaNbItQOUBepuyuTdAtkl8H1wHJMDsQqRC4zsnwEEtXW85SCfAhTlA8oH5JMDpWkVTRXghwBe38dedPSbAJaDboURhJMDIyb1vRP0ewMGP6yF7xB9APABKetWyIcA6x7ygbU0gwIhVVj9ylCbAln3Y+SVgJcA/N00rofYyQPycV7lWaCfAD5Z1sFfYJMAot2VzcdkgwEQtQCuS3iTAp56sauToIcDStbyqohI+QNfXxhfCaCPAClf7M5mKOUBpNzgWfaEnQGTlKWY6YiTACkpXc/8/MkACZJe+FgUlwOGVCMYixRLAkaUk+AQaIcAN+Y8vblEyQCXwkUSXySPAPg9Qe4mBIsD5gCyFLW4nwFeVj6Q5jj5AKHhNkMwPMMBYnnRe9NAsQPMCOwGadCPAXNeklCn4KUCpnxaPyxciwCCpwtROyyPAP8PuZhELIsAu0S0CanMkwFpxzGvHtBzAqF2zYooLIMDnUdsX+f4jwC4d7poraCjAf0zGPWrLJEDc3iku1GEpQH2pqptbeSPAKclZZhwwPEAMvqKXiBoqQJkXQqowZjFAkEslaLIhIsAsIWty8GwjwFboEC7YpyTA376jYuW5IMAA2fylF+AowNjy+bYbOCXABwHNS4LaJcDXct6u0tAkwKcdDmBPXCfAMuaYPkoUJsCofxrLHAMfwC4eGKDvySPAw3ZTvNmnKcBVtnYfnM8jwAN1kDnRSjRArIy8gyueJcAWdlYIXmYsQMmzRjnamDNALu9k/AoRGsAARFUsuvUhwDADpCAWGSTA8YHYQ8QDOkCVTEbJdB08QFSwdF3l3DdApru+5+HfNUCtQ4ZDJFUwQF/ivj4dgCLAn5COomwcJMDC/YO+4e8nwJUS5PMTQyfAwu71OQmvKMDj88bjV9M0QJuspZdXjyjAJMNG2NdrJcA/284nTmMzQHeVuo6JcibA09Fvrr5sJ8Dr6wgFEx8nwHL5qB9+xCXA+qRziF+lJsAMsIXCzA0mwBSbe407KjRAqoQaMBLTJ8AgmgbpYxYnwF6zN7160xPARk1waD4EGsANJa/PLSwdwJWWoiX1AifACScDEiPXI8DrBDGlGe4jwGmLW5y9viPAiN61wiyVJ0D/WP92V5UxQCGjNChd8CTAjG27wvxDJsDkEYL3Zo4lwCkBmQeMBSHAAIPkWTIeI8Ck30okjlYlwID4rL/QvSjAdYuEdLKXIsCBdx5Wf9cyQKScIcGokyfAukUtBK9wJsAQXn4W4kgowM5JR7PdKTRAgw4d+7lEQEDp66t0G1IhwHOAUZFMMyPAXc564rhsLECNL8Sh6DE1QARqRutDvjtAmlisuYncJsCDoB2hw1clwDTW5RmyzSbAJB2M2GYjI8CMBwcxSH07QIbAG88GmyfAq7Udq8ieJcDU/lK+KZs/QHTcroTzQCPAyX48bpz1J8BA2A1dZfkkwNWQViN5TSjAQEHHuRg7J8ATj7O93ocmwJynjci7zSbAo0AozVtnOkCvcgOLewQ4QM8T9AZ5kSDATTofSbudIMCYOJhPPDMkwDfOrpEvWSfA5WE9JjPAKcDS36MhSHwnwCtusD6vnTNA5InURnCNIsCWX04OEE8lwIi7ogGTMyLAYbCHTOdzB8ACBbEZDMYQwOlY1cJPGCTAn2N9Xi4+JsC5nUUrt4A6QKZG1fweOCTAOElRwpyrJMD6caL52iUcwDtXj5xliCPA6on5X38FJsAMIRURBvIlwLSmGyF9wwXAS9UM+7JmO0AeEkb3EmIrwBW2gKdRFzVArygsdjhIPEDjhBRM6rcpwKZk5vhhgyPAorwtjhaxF8DaPnfDjSU5QN9mk5loAx3Alrumn/4BPUAgZRCd6Z0cwC6guDz9zSHAG+Sk9QCoIsB81bzm0N4SwCbEOgmixiXAzthbEfGuJ0B5qXle3NwlwKT1tIyTekFAvuLbDWA8IcBmmb5lzEgmwE8fLNToFiPAh9BsrYQ3IcDeOFopy+AiwJSny3jdjybAS83bmz+/IcD5kaa6llEdwGmODJIwdyfAyoASkFulMkAAPAndQZcdwHY9RcLAvDxAvijdnb4xN0B64SU6N6EyQH79B4wGhSDA6hqpxyZJIcAE4/VS7rgiwAde5BRxSztACElgQrDwOUBpy3Hvv84qQPXDO8KfISHAsI4EoG9gJ8ApC3KjlNQxQA7VMIxyryfA0D+ETggUI8CnekAUoQsmwET4uARqXCHAcwJM/9neIsDVoa2lnFcjwPuHQNw2ICfAosoKcHh9HcC53Ma4/iwjwKDxyNABTSXALLZFUE05KcCqM4G2Mk4fwO3I4GMpsR3AFQX110pPM0CzKJvLDPIkwARemEHQDSXA2VoCDCZ2JMBAZYNyU7EjwIolHmTwujlA9PUn/eUGKsBgy8NUDi06QDnsROXqgybALmuT3bd9JcBdecL+GDAlwDhdoqy0KCJATrHXCKRGIsAc6/gq2mAhwNxdI1DajiLAZL8ylElGI8AyWejlaBUqwFv2pGeMTybAjgpACQbMI8C390feAIo5QHEYfJprbSfAsIg7d83oHsD9OiH2ofU3QA8AGflDKiXACyuUxUtxH8DjnwAVgX4lwEufKL1GsifAfywnl3lIJcDtqJ7CzEgpwPSDAOd16SPA0dkv04CFOkBxPA1U7PYgwNz/E7CGfjZAX5+VT7NdJ8AZxLPEz1A7QI8ebzatLSfAm2IrVidgJcCpDY+y7bAlwAUr7auFCifAzm3JM0RbKMCW29YtA6IgwKmrO7pv4CTA789kDfs4H8AehJwUUkYiwGHpJUmMjx/AQTWmVRrRI8BbiH86UcMeQKJLsxWAWzVA7IcTiwhrKcAOMQZ8QzYowFvupdq6GyPA49a1DGYBJ8DY4rvpDAskwBtZGsifKCXAGFdVrNPBQUBQgjC/TRk4QDZbC1oUUSLAaCbZgCqRLkCODz9lvesjwBYCUBrSFCXAs5jVI23AIsDajav+bW8ewHANAs1wDCjAq2nJ3vtaGcCbkwHL0+ksQBo1Bld8Dj5A+G7uIq5wJMB5l4hQHHomwG6PdyRyZyXAxopgByQRL0B5dTt30S4ewOP8Ea82TzdAaEiDRqFWJMAhZNQM7qYkwPSisWugXz9A+RVSA5ZMJsCqF+5Ir6EkwJNii0JNkSLA2rGswwwsJsCiuj0TZto2QGktKA6MOTFAy4mi2ADZOkAuByXTdGshwH63F3k13jdABzojFdiWPUDHRdHynzc5QEj0wWi7Si1AWMmlY7HQJcB7+rQdfDAjwJncTWFj0iBAkhyf/Hr1I8AgmLSg6IIlwBofGTjg0yXAwJoVrAlQI8ChJwUt1sgnwOMc4PGSSBzAZE2/6TCMIsBm+2gBTK0jwJDfkMbiGSXAD09eyABoPkCOLwLHZTolwNUspmqcKSTAKCL7ch1RIcDtF8iTOX8gwIOHXCHJ+y9AwU/KkdD8IcCT1dgLo5wiwM3aOpyyhyDAqYVa5jjeJcCYcnYl3O0fwOC0c+MgDCXAjVb+pee9HkDSBxiNzq8jwI503Ue+rCDAeU7/iLKlHsB+LPtLdXEjwCXf5A6mDxnA3S7nVVu6OkCE1wgmvpkiwDFoI17p+CXArcPhNbvpI8AF/SictwIlwPRAAGwgJzpAWanIFeh2JcAyTO07uP8lwKmbHIBziyXAtgDNf5hVKMA/ozpcCh8iwCRH0AINkyxAh0+/ikOcIcDWYkeIZJc7QMauvDO69DxAPVE0QENCN0DXTTdNLgUyQPXILibHUyjA/7/a7wz7JMAWVnrCc3wmwJ38E61D3yLArMA68hEPIMCXx+vY/ssrwI/XKzR8mSXAdW4l1r9tIcCJnaq0EXshwP25wPcOTCbAQ+7OCzLeJsBqztyZSzQqwC/skHPoVybAfT91zH/5LkCeS9CjO6sowCcF+xlCaTRAkKCx6nKyPEC22lyr8dogwGEn2gjMmiPAZA2FbRP/JsBKn5MePCY/QEB4JkPI+yXALTptNZ1YI8DcECWtVFcqQEvgQX4I5yLAz2kIYXWkK8DlfyGyt+ocwGdcYPI72TNApzDoz2A9AkB0X0it9RE2QKnaGlW6JjtAPMab0TqtPUDyfraIYGM6QNAMpcxQ/CXA2qFixu33IsA6Vw2KcEEnwC5XlCb0VCbAGcR7Rek0IMBQtGY/v90lwLhQ54yOkiXABZ7WTnUmKMAyaRhxylY3QKEGv44jriLADFK4SEyxJ8B2vk4YbNUjwO7zku8HrDlA6+h2e8FGH8ANcBR/ezE5QG1IJ4cRBiDAMRf7TmS0KMBjbrJC4w8lwJZmEy0XLiTAAZeFvkcGOkC3bzASLawkwIccvLFCSCfA8Ycchyu4IcBKD8Vre4ckwGXWmuuMfSXAavgYfdg5JMBZNKBJRkMmQEH+VDwzBCfA/hu+oJFEJcClQHsGjJI+QKFl0Qh6pSTAIUouJjuhJsCuCSkNWe4kwOhnlS3YkTxACpyGxRB5JMDXHL2P51dBQAzc+uMxaSTARCFFIUDwJcAZ5MvBFaAmwO8jt2spSDpA9pyxwwN5JMDLZ7kiLU0mwNzZ5vdkDSfAQL+MwdUSJsARNYwT0MQnwO+bGOIqyjBAiEFZ89ezJcBkK6w3LxA1QPiyA15syhpAicZTfxM7JsCoiEAl40UmwD8ZY+waCSbAUgo4mDljKsCpzMdRHxk2QCENcWwXBSfAco5O/gGSKkCMY5Bn5BcjwKls1VABEiTATzbfoIGIIcBG9EnnTkszQKe2DlFw3yLAEEVCxOWNFkAeU+6nBs0iwJotFhZMuxvAsQZAXG+YKMBziCG0tnoTwATShJaUtjlAKZ/n4HpeJcB7eqgxPT0wQFEV24fuxCjAVdWix7YrKMBbyZaG0TcpwNT3KC7JECXAQmPFvAzTIkAWXF0MyRgjwI7tuHSOGCTAR8kotd/5N0DmSpg0aOMlwHUg9GyFIBLALmZqCC8kN0DU+uUPaSokwJ4AXJWeXDhAUA+ip9oCN0B0I5Y4nH4lwII48DRPlSTAdP9wQ/MAPkB95X34tJs2QJKAfdHsMjJAkptWIziZIcAzExds51chwJlOcu7ZByHAxWk2jkKqI8Czian8CicewDBF53vH6CXAwdxGh2gyJcClxHXR7MASQI84QBA/aTxAnGiAZmVrJ8Cm1PtIkGAjwJUuPAeh/iLAn66z6AdOJcDtubRsMlciwAyN1wkrfSTA8bo6dFDWIcDbONxVZowkwFHlCSFcnT1A0ReVyTptI8DlGObfUAojwMGdFjFoOSLAm8PoaW6BJMCGQtZAe/08QFK1+3jdnCJAEe49ZuDWKkARZzRj3Z0pQBBsiXxwVinAcFP8ux+ROUC5sNtO1n1CQMtL1Da1GCTA/0hydsk8JMDoMLam6rQxQDSqH23ytCTAT3Kn1RhOMEB4GdgdgfUiwBHjZFcrByHAZuJAG6ZeHsAILmulwIMnwN/hNpTjoiXAUFAXupg9KcDBQ5qqtrMwQC0DNKAs9yTAW85q0r0NI8D+CnwSsYUhwASx2Z2eXzpAz33NKsjWNUBkLxp2TIYwQNmkiCaucibADHso4QzLIcCcu6xNUgkdwNqT4lIcBCLAUKo+8SZOM0C5r60Rbq0kwB8Q+k5KGjRAe3N7tQv+PUBOqFhvCFElwLHbC9C/FzlA8Boq8gQWOEC48T3wSgcqwAQd2v1ngibAwgebRxzcH8CXslaXyHM1QBc3CJhtKyfAIZCnS8PPIcC4JUnKqacmwHe6aXtL+SXAvEfLUzYNIcCh40JPv9EwQM6FEgEKCCXA8F/6F+gKJMDPAuks71gnwDS2LdzB8SPAtNYfiNw3KMCDn39vTFkhwA0Opv9zfCRAdM7t60gaJcDTTLiB5sQmQAZT5n/8RDNAh+tWA20NOUCkwsNyRN4gwFOHaHl/IzdAeP9p8NFCJcDy7N6sHSkiwDnbJm0N9gbAN2dRnUTEJsAyBW+ddMkhwPtDtiKh4DtAsvL1Gl+iHsAu53pvUBo3QIRWSPq0nT1AKcTR8ifNHMBJwY7vzfgkwEFvUzbb8zVAJJjnIqVfJ8Cb9/jh/F0fQIeEQ7RJ/xTAVjVxYrNpIMACtIkEj8cmwITjTJ9FzhzAs10Z+s4xJsBY6QcxLa4nwFeXpo4mBDhARce7YYviJMCHcgaP/mMlwD9vp6hbYCPAEqMLGgtDJMByvadB8M4mwGccV+w52DJAg3OKU/MyNUAOSiK87HQnwNQjygptiRvAcwgL8ziVJsAZdKDN8EU1QAigPcc8NT1ApDLFiSRsJcAkCe0+6Vo1QJcfMTi05SLA7TN/2fffJMC2qb9eodQ8QOFGEFf3th7ACn2SBZQWIMAon0Mx6N8kwFQ8a/0zBRjAHgU1xXB1JMBdpv7uXSEgwBffKkwDHjpAo/m8LvHBH8C3wgnrkfMwQLKMm8EuvyPA63s20Ht4IcAPE9yyRwE9QCjA8WsxZSTA1mDLBRjtJsByTa2wmvgnwAaA0u4KQyTACdJ6QUWeIUCBFrngNNEhwHJbVHUG0CPArSHbTA0iOEDVX3vriLE1QH8W6qz0ii9AhKVTayGrJ8CL0IzjlnA8QL8MWMkVYDhAZjraGQV6JsD+R3pbkds6QHYvpBarQR/A4ftSGiTRI8AIvCrO11YjwKdqVerQSyTA6Jvjmu2eIMA29Z4HcNwjwIKffCmsAyZA7z/+OPywJcA47Fy2LbAiwByn501mOiXABCDO7vgCJMBNDUfBwLIjwHoGqZ7BUxjA/pRJykLVO0BHGy0lwmYkQLmkcr4OTiPA61qmBp4aIMBSHgdZ/30nwBPS7EwQUSPADLWBca4jKEAqRBoMtQElwLznnpvQvDNApD0Rk5gFJsCshCVCxAkewLYOXB/xYijAwXNevESCPUCj3xUaL+chwB+9lU81jybAVvhs8NBBJ8BQPwpv/oUjwNQEtjathShAa7fqWHIJKMAHkoej2MEowA88tW7g4h/ANTp7e83yJsCHnTuC4c8cwDg0CYskREFA8xrATeTnOkDGjvzPlSkdQE6GwFqO9zRAdP99NQzfJsDv/cUVllUlwEFNP+3FbR/AZz7vgCduJcBoT3IooxM/QPzb7C2xuSXAFQ1TlCDhHMD7z64fgUsowANDeI20vDtAcmvo5beOKMDU8zGkC6QawIBX4hhgmCPArTSQwqIYJ8CXiXCAqFkkwGQDmeO9nCTAqcQ/uQmMJ8AzJLN4CIchwGW47w3O0S5A3sbVJmr/GsBxxN/9rKkmwAf6DWapJiXARaBqPUV9HcAgJ0Ej4ZEnwNAzlFnT9CnAzenUVdacJsB8X3ADOmcYwBVEpNqMgCXAgBEmOPpTIMA1Oc1qDYc/QOzBk5y57ijAG5btWYf6GcDjmF8fykI7QOxcqczazCHAtsCml5bXJsD8nO0JyPciwAYmCjgYyCTAh8gAidhII8CARDxvepQlwIiq9hXqpSfAtxE1VjIbLEAc1axjO+kgwBYIBNVOYyPAh4YLiu9pKkA90LW6gbEgQNbl5KUZIDlAQemX+ZVVO0AVLRJili86QPNye6LeJyTAInSovOg6KMCpo55cMgs9QDTU0k4wLiXAT+8Oy+/QJMCrDpqvBbkdwJ7vw+phUSPA3lTCc/66KcAkW8aYdrojwBSWyYq1UDlAWQASnw80IsC2lhNLxVM3QFU0VtMLXCLATsOKDRBvH8A51InI1igowPi+namwXiLA5+EliSRcJMADjLiuOvEhwDkF6twmkCrAE/CYTOKeHsDZDHOk3hEqwLV+GwFHRSLAmioG7l8tI8BXYKXoU8cmwH3un6wLExzAwYiDaHeUHMBRHQok+D8lwAfdngAlnjZAdQAYA2IHIsBhBpxMYSckwKQwUEh7mSTAXQiRzXtHI8BdRUPeYa0iwGQg+af3+iTA6nUBLtf6J8DegXCyVukjwHdawkHG5iXADRt0yNFnJsD5jatQ2qYmwI1TRFR35SHAnWNMtrxpGUBjESsrIq0hQHtXorVAHCXAheqcIT8uJMA7AgV3nsEkwNWEIUf0+yPAfYszL8FuJ8AElvfIaIkWwNbCaV5AOh7Aw508H/21I8Bkc3X+gx0nwLqBrBKGlSbAfMPkGVmrJMDQBSD//eInwIuc7u9pzzBAe8x5CHtxHUDULrZ4/4EjwPgRXZs1HipAvUcrXMCEHMBrlx65HVUlwHybFnGY/ThAT+yCuj5jJMD8kQ8qSfMnwIHVgrlcCB7AlSPzkY3sKcCSmJpp9Lw6QKD+dwWgqCPA9ZknmZhQJMC1UEWZSq8jwCygiCRMfyTA9r0nSS0dN0AgYRVKcqYmwAIiIjZSYSbA2c4A9Gv0JMDw/PgPH54iwO6/WDN3ER3AUVGZGvDfJcAGIAeDzVQ4QGr2dfuhOzdArgpaOPVYJsBg+PWlT642QBlDh9d8iyPAjGvx3WhII8CEL7utHxE5QM9F96QSZCTAZVs/ulcKQEARDFD5JWMdwDFWQllEvyLAuPibVZPEGMBHDZrnIrkqQGTF62BLMiPAA/IibI4pJcDjRVH2H8sjwPLKmJtZBCrA0NQDI3SpOUCZ5f4oz6g8QD7rXkbTRTdAMfB8wewoOEC8NxLpuJQ8QAYg237leSLA6bz39T5YJ8AHpIivPgckwGILBVR6syfAgu65Nd5NNkArlj+9rwE5QO41nMDWdifA1ENmCgN4I8CwppQzP0glwEfcRmiLYiXAQcZdQwisJMDqSBsJppYwQKTl1jLPsCHA3YdA8asAJ8Dq+87iMn0iwLKLEV5WlyHAzotBkmTWIcDVB6jAABElwEUiQhTWWzpA5Yx/TyjbJsAimEBcdRQkwCOLFAO3AyTAjr/GyVxKKcCO2fLyPoAkwG/HiqOMUzxAjwGIe/u9JMAlrbe1Shs5QETcflEnnCPA/6YlqNdxIcD9qaKB+9ogwL7UH1XrXCTAFvxrBo2eH8Aq85DoQIcjwBjkt84DoRzAESpHP8MKJcDX+2yDH7g0QDPejWJx3DFApeijUcEOL0DU/A+idVApwL0L4m/AQybA99rAnzxTI8DgibGvT4g7QDj6DssJXzZAAqNJsLVyJsC8/nKNc286QAIAVrIaCjBAzNzapywBJ8CPaIm11ZAdwE5Ga4LsdjRAZ+wvvK0sIsCYjtsiRS4+QAr69fPQ4hTAXUcMf/A/HcCN7Xd/XbMrQAqh8kQAZibAuXPjwlnwPUBfL4JrMRkmwEO50XylCyTARreXu+4lJcCsV2t9VOolwAZYTjaoJzFAFTSHLDPoJsB0hacDZYYiwFq+iO87DTdAQ0bSVQE1JcC8oAlz8UgpwGDjoBa2ViTAOLJn5zAbJ8DBzOHrFssuQELGBXp1miXAiwiDh2OHLsAWP8kc/U0lwEYoeyqC/CbA/YAMwW5NJsAGYIrvuxg/QCPymomw2DtA96gHTm1MJMBrMakBGgMjwHgvz4MjDhvAwBwiTgABJMBdEk21AvokwDZ3b/38wzRASsYS9KXTH8B9SizLXyonwGz8i4lkwSXAaFqeRGorIcAMmQUzYvcnwHg6ZFY0cSdArCcK9WaOMUCOkAWKt5YiwDaSEg3ZijJA4CDJamrwJsAK9OrT8I40QEL4fvV7vSfAYZyTAdLPJ8DNLQYzEeAnwL3MtC/WCybAJtegWwWQJcAcSiKB9/UnwODM1RTqSyXAIUSMd9OhJsDSPqFbuEEsQKeq+oCNASnAs8mNVEtBKcANeR/GbJs3QPN5uFlcWCLA9GF95hnAPED4bSfJ7uo7QF8GDDKV9zFAlyo2n700LkDpLfQY/H4QwGoRDdNrxyTAs8PAO9T4MUCrALfVZwIkwAjZvuSe+jhA/cgGUUUzJsCCK2VuAak2QNei7MG7lhzA3O2CFN/+IcCewyusdvMnQASmAvEXHzhAaR4QeD2qIsBJBWSIiG87QF4rqVPwsibAw7xZH+SsIcBYu5ckM+I2QJWe/2iIyiTA7rBT9xcaI8DNW6c6iOQjwEcNDrl5dyXAgijN5H1gJsCbbwCjhN0nwInyBrDucijAZrQdGwCKJMAKtEs6+zk+QNgr7MiLJBzAm1/0I0YaJsA67yH84owlQEApApfsqSDAbbqFSg+YJsCdfUJ1N6IkwMv9uiGx8TlAS0eRh4VlIcDfVpZlcIo/QHxuLBj2AhTAPv7Tf5NAK8BSc7tbaxs9QMKSmBxH2yfAE2nOgN25IsBhxhtOr24mwMUwmy0yLiPAWnrZ4P24JcAF/0+/OAYpwExCXg5+1yTA/JDGFK9xMEAGUnYoygU6QGgUIkZ0DCHAY/iseXZxGsBGtBw8v2AkwOhEghHNXzlAFODHGGZbJcAPcfy0mCUnwObd/lFBxj5AFqoKOjS9H8C774xEcRYnwJpskrdvMyPAGZQLBDzbOEBknwseta4gwNMNeMWR7SLAAXtWzdBIJsB+bR0+/1UvQDhJWizooiXA6xmEiV27O0D3rclT8TomwN/nlwUoUynAm/UMnxgSJcAzFd26EOQgwJEY3oBJtjRAB6cJ4EZSJ8Dk5VjHsBMewNDX2F6PICXAKsjNEMfJMUAbSdcmdsM2QF0mUqkuwiPABOpZH6NHLkClmECt6OcyQNWHOa4i2CHA5PsTrc53I8C0bU49vlAlwI2729NwSyPAgwEoRiXgIMCGQMqQv2ciwKM93ohjgCLAFigVn4juJ8DpcQ0anrYsQJ3x0YWYxz5Ay5SHDTuc9790zkV+XBkfwGD5NNncBiDAIQtmuSruPEBhqskscAowQLkNIEf41CLA0Yk+H+2qJMAgSj1bFFQmwN58HnOykSTAbLn4APCTJMDVSGDps64zQFS/8TkIGi5Au8O+R5JzNECMzpl9w98kwO7DUejUKiTAuiV/tpajJ8AGUC/hD0cgwKAW8PzK/BvAKF7ypA3BOUCmMDSlj6MnwErWj6/QnifAr+hazK0MOUCLZWi1TXIiwB1FeKSPpiNA+duDjl1AJsDL5T6HbyonwA5LbDh6lSLAUb1UqTngGcAuUWEH89ImwNqS2l/fFCPA3syfcG2hI8BOLshtIPEfwHiMO/AmaiHAZQgyFatjIMCVBtFkcggrwAYIkIWjUyTApfmSOsqXPEDKzdWRNG8kwGgw/xTyBCJAXx+8Q0r3JsBMVuV3ODkmwKO/YfpZSSTASFPKLUmFJsCOeXF8opMqQP4QGomSpTpArodKwlybJsC7upRspOkkwAc5lDGPNiDAyhtUAS27IMB+sXVrwMgdwJ8BTJTtCDlAXwbxNwfSLkBPeXvWIwYmwKYJIgTA8CRAa3OUAeJ7LUDahnHBJGImwLG91KbyEiXAkd+vEAZmJMDMbM9GamQmwL0J3Wi99CXAdkUMOVesJcB5IAyeYfYjwK1UtFm0IylA3N7VVyqBH8D5x1062OkbwG5Uh2CAzEBAriVc42dhH8CJUWtCyiIlwPMJIikmqSbAwHMIzR9VJcDdikOMBZskwAcKOfKlXDlAEi28gxiWO0Cu6nDuZ7ciwBkEJBiQvijAza/gkblqJ8BS6jsl13wowB7Y/V/ZmiPAlphE8+r4JcAbdh1Mz6smwGtlmZVEQyLAT79AUsCjNUBEDdvygTklwGk/uV3m+xLAfw37Zi62PkDUNSDrgSonwLfkgsCeSTZA7KXcy7FuI8BsI1dueyU0QHguKHR88iLA6vIqY836IMARQvh+ECg0QP5nGPMYaTlAmo1uGFSDI8CCrgGmahclwMtNczdOHTxAWYK3KO7FIMCBen9GrTsnwPtucNIlMSXAvARPv1LvJMDDtQcMcUwmwNr5/tWlcybA7Gj8L7tKKMAOTdE6hcQ8QLHC87eCZzdAGPwzY0LPP0DbhtGwUAcmwNDtvnqBSiXATHl8nYUCJsD2NWxFo9okwN/WvGv7ayTAI2N4ybYxI8AY30mi/IEqwFGs9sgK5yLAcPq3KtycJMAisKJ4EhUjwPyoDIYAPSTAFcvKYolqIsAABbpZjoQmQNwqgWWtLTxAkVhjVPeFH8BpGoG9G0sowOU/S339/SPArBq/S1JdJMB62yUkdJ8lwJnTXoKMhzpAV6YTKxcvI8CWSaWrrS06QIaZeQ1RNybAiqnTgLqSJcDp2BklybMlwEeHwZyD3CXAgijp8skKJcDxx30Y0fkmwANrr1jY+SXA4XIIp0VyJcBWNnmvmV8mwLvpG+mP7DZAZii8Y4TMJ8AIM1UHWA0YwJTZmaod3zFARk7MoGLVOkARQE/NSQ89QG+st4gkzCNAFdYJLFt9JsD+LZ7WuGcgwBgTZ9NfrSXATiipHe5AJcBwyHSeiCQlwOwyP7qnBkBAnJr9BhGBIcBMM21FWRwgwKwcQ8OAOR3AcphnOvYPLcBHa6QGNbYowHLBLhp8FyrAr2Hr+E1FJcDFg3wu57gowDgBGaL9jTlA5WtRtlf5OEAKgMc3LFYgwMIAOUMA6CTA634yjubDOUDPjCOa2c0gwKPF/W+rfSPA+b3T5XCxIsCKP/4HNGciwAY5+nNpuzFATFnnrl36I8DGQnS+eIMiwIHmtZnJwSXArTUmhT7fPkAKsz/V5ZQlwDtT3QGG8yLALbmVabBdIMBBNqbKxsEkwKlKPGc+5ybAxDTqTFJ+JsDaoTyB0vY9QN14lpsjeSjAj2fm9vUmGMBFuBMVVP8XwCeGVmD1qyTA7DnVNOkxFsB7JR4YOKoiwJ8t509P6yTAD0H+AOh9JsBiKI/kkbsjwGHNwel6Tj5AGmYUVW9lOkCvBbDzUCglwDmm1LXm+iHAkHZt5D4YIcAXrt6EMMIiwOQB9cF4TSbALg9BmJx5JcCuUgVbpTczQPpsYdc2zT1AbMpDZ0wkIcDVP8zZs7EmwBZSj3FK7SfA4qJ+pqLcNUASvs1feQAkQOOKzl/zUyXAV3X9D7Q7JsCRb4vPPLQxQPlneBIZmyjA39LFHh7SJsDTF0krQHYnwFxR3UvPbxfA3VqdKZSFIcAqfzBAgQosQGlT2SoCBDlA+7MetoP+JcD2M2Lo2ighwOHf1YU0ACXAdEbVzDTfHsCaT9iA4pYgwJCLpffDdSXAA0dDw8fyJ8AXkp+uTbIlwHpGmwUCHCLAKAwQXLbIIMAKWdXtvHY4QBUF0U+qrTNAJ8odkdz+IcCv8m5jKLknwHUP/KTJPyfA3pDQTRYcPEBMCsTnh/gkwERSP23d/CXA0YHwLjlqI8AyORsDspgowAIY15yxwCXAWI2YIvaHJcDS0T+T4RM4QA5eaLpqkSTAmBp4CLxfJcB7ve8vk9gnQLIF8tr+WD1AB6saZoFeEsDZQGz2drQhwI0gOZR/YyXA9ugeKzM0I8Cp2y6u4KohwFw5W6sotSfAkMVjojwGIcC1Eb6eYj4nwJqMKr1qCSbAu78IZk7iIcCHmJav1tgbwOrKR/ZShCjA/TYrDyKIL0CrGjxE1PEiwGwCQbRGuyXAGIvTBsd0JMBUD1cBMPklwGSzaPmWeijAwBANaJlAJMCYhsQe/O4/QJTJWh8mpCbAISiHAQ9/NEAwWU2m99ojwJiL10X7HSDAw9nqxSBKPUAxA1sZXjw2QPzvvQGTlybAMjLuhXxLH8CMUAlLIxIgwH9TdbvKwR/AK3pON84PNkC58Hj/YWsjwMgnp5T4ziXAJC/OWqbnJsD2Bh53eA87QLlsZxtNSSjA/OwQwQBQJsAZkUGoTasjwGogBhSJyCXAFvYOgrB1OkC8labnZJs6QAk0G2YvtB/AoZPUk8JgJcAmBcKQ4aAkwLlF4GabayLAudlVD3gMJsARkV0zReojwGoKPpwB/iDA+JZGtbUBKMDDY1k4sBIlwFEvnMfsRC1Abq+QEvx0M0C8E7WhhxgnwClH6hnBxinAppbeiM0AJcBthqCgtZUnwMQqnhP0KifAf6xqhecMJ8DCgWEb0QUkwDOz3SZ4YC5A/HYGvalgNkDjxOMkgxAjwNRlPncBgCLAzsa2QDnKI8A+nMLf3UwmwJSu+3G1Oh3Aw8dLmmTyJcDpmF5LUwklwHW3cGUPliLAsS3Hcb/3I8CzNS1HBZM8QIVcV8wF1jdA9joOuLhbIsBG9wETcRI8QPuNxk0HRyfATfm4WCY4IsBq4kbcNW0ZwP28dRQbJRXANuLhG9MCJMBKil1zHL8lwHtg8HdVWSTASt+tgInRH8BhJ4i6uJcmwP98PqwPuj1AF20bUrnZI8B1btxzKjQiwHJbjqGIxSHAauC0wOXlJsCh26PHlbkjwM5kIWBACCfAiUHBXeIcKcAy5XrdxcEgwDrTGpE8jiDAvQhGmMEHGMD+kycMYMwzQDMlqOWsLiTAPMMZZZzYKkDfPoAcgogkwNKhZhd+6yXAx64kso7wIMDWHqy5aX85QNgV9PHT0j5Ak5G9pSENI8Apa2Zp7PIowDNicmzUZC5A68fBQmLwJcBNSYCg3w8wQIhv/fHDIyDAhmjnKF4FKMBn8Gy9HV1AQHUVb+eTiTRAWRldfYQBIcBz2ZfPCZwmQAXzgbzb3CXALs0WXh/3JcBUqDlvJuYwQIqXexXI/yXAITvNmBObMkAKpdhdk0k6QAPnd50+akFAwAzALZpFFMBv+hT1lB0jwA0r5FtCIj9AoR5s+cTz4r9Aw1uHE9ciwOBx1ZRo6SDAJLb6DM/lJsDow3mdxH8mwAXZBGOofTlAvCEjrDlrJ8DF/NcKL4UwQBxFx4vnrSXA+XFOOi6qH8B/EpAK8R49QORahc2AzT1AnJWqRiIpOkBWHSoR/ygjwEMvzFEQTyTAFPXBhQX6I8ALObkQSIgcwJtHr/bUuOU/Cw3ca09wJcCMk5enAcgjwFT9dX20HCjAlKN1JbzyI8AUQTM1NfA2QMI1fhSAZS5AQ5OKSEbhI8Cs6biyimIjwDWYvmvIoz1A9ddF+rx4JcC3NKbaR4k2QC5pfHBCbTJADSCF970FD8C0AE2YdHkowPickyf9gjdAeRiTa0H/JMBh1RGNRdUcwFy45a1wWTlAcSime3PjI8DRVpRHcJkkwAitvFsZSzlAn4NsOmbJJcCBT9aIC4wkwIG5NILlej1Auyd9IF8/JcAh0+XysdMhwIvHoXe6JSTAXY3Ffdh7J8BckwsFaRUbwPa58UVXxyHAs99JqO81J8CGS30AzUQmwDeAWGkJ/x3ASpZ0zuikMUBrkMrRM6c/QEeA9gd+lSfAm1Lg9+zdJMAzEiVpWRAYwHAgugSZqyLAzbBJG8QCL0Aw3gsfUT8lwCD07oLd2ibAfSCbrsUBJ0CUnK9fMWUmwHRdTY1AbCpA6Kjmk1IUI8AUZmEiQHkjwN7jgswKESfA6OQu1IdsJcAT9qYRWN4uQKhGkFDIsCPAKLnqYlTtL0AMdVCLKNglwCGYlKjnMCHAYCyQhe64OUB0lLmKje4gwFzDMu1oLCfA0J38PxmGIsCtd7b+BfwkwHUMdhSgrCBApNgcFZlAPECT1BUJteAnwEZybpaA3iHAAXuROMrkOUDgVQLih5klwI1lK+juIibAwZNCoW58MkAfWRsq5eI6QMZEzIa6jzpA1XJ/kJOOJsBqIj639IkwQBKAfdJVRiDAIOAUJshlO0AmbRDXQQ0tQMyaF7Ly2zJA02gKQwgoJMDeoeAqiqwmwLivSGrhuTpAt2N2qJkzJ8ASsOJQ+1MhwPsu3tSyMBbALwBEt6A8NUB4RktamEMVwOcaPAMMsybAFtHaoPtpIMDF7r0xWWo4QIyHINVlEybAI9keNGIoJsDbtfIZXAUkwE1cZLjs3yrAJ07oK6dYJMAtvbWI+toowMTsfnrb7DpAZoUPXiSsKEAH+IRniPYjwKmHDJwakSjAIFa2KaMSKEDX9/bBStcpQJsmgT4rRjVAyvx1O5aePEDYC40pzU4jwJ+Gsva2USTA4BucPWGSG8APf3X9IPcjwACSvhkJeCfAbumhIsTRJsC50Abfd9obwNB55kIOlBzA4oh9SSFvJMBNXuUzsL0cwHcvY38NKiPA2zoKzOt5JMBlfGORBpgiwMEgOniCFyPAnFut4JkBKMBVsYTZaOcZwJqeukbX7SPAbcdwSr0+OEB7d6o3K3knwGFkS0lJUyLAdRIyAfYvKcDLvqgfrvM7QBzXPR40aCTAuog/gr4qP0C15KFULp4lwPn1WDJ2RSPAZ5Wa4+tyKMBAP5xGEwUmwDqM10+sWyHAN+B7sCRZJsAh8y5uefgjwDGQHdxUECbAIrCXIVgWIsC5LrHNpYE2QHjmuZsiIzxAFnCoyz28JMBUcHmJRqwowMSSTIdbiDNACDdj5B0TIMA9+HB3kSEpwHJsvTYDjCbAOByLWH3DJsCAi/Cf7NcmwPWwCRz8GzxAmHZ5OzoIJcDi3VYqjsU0QFDlIaNBSRnAJm+xPXRFI8C35bxFktwjwFzKMf5NZinAa1pgsAH7CUD5Be2MO9olwPViq5tJBTFAWe43ZXVBIcDWBvT6tOIhwAELelTTrifArnXGr2h5JsD6UyE+RkwowHvrAb31ASbA/GVV4VjuJMCdH+RRabskwKF8uI5zMCPAvQrsmy4nJMBMClIprl0jwBLgfGNk1ybA4nvhaNuxOkDyS7tFDXUkwBjfL76Y9jBAsgBhb6ObNEDTNsGO5HcjwMLA/gxXRibAvmKGV7q1EsCdkSA+u+0lwGsSfoeeUyfALV3I45iEIcDHAfdyl1gjwCrs3KcSDxJAO9M4akzvHsB1zePo/lohwC0QS5ITaijAhADTpGW/P0C9iFYeaKMgwOa0oXkNnzJAiSSgaXeOPkB3WS1+mbIlwAev1el/rCLAqSh4YhiiI8AdQrqUi1MkwFxF9hzX+CTAGyEAIpQLOEBZYFjPNmU0QBjXnOUuPStA55yhH9UHJcDKOKsmpNcqwCZ4xQNJ7jdAn4nHyStWJ8BWlkADIDkowGOD8y3JpzVAv4iZxnReO0DNWJ0vEYQkwHUZvuyjiSnA3ynXu7HgNkBNn3bvLdQvQJmdFCrslyPASYt3U6/TKMDq/cEmPxghwCFjQBt/QSXAP61AHk3WIsCugTB4R8QkwMiob2l9mCLANppJsk4fNED/znOfPsgkwLuibfhOuCHAfTs+gGZNOUC3+8Y5geMiwBO1/AAbgyHAaS+ZzGEpJMAgpphY+ko+QFiGHdI/ziTAreBfFUeS5L8d9CB8KH0mwFMkWnjReSfAFBJsFyzrOEARxyzzmEAlwKeJinPd+zFAbcOFd4x0M0B+WppdRsgmQHAElzunQyXAQB3uBCv1JcDMoaVRUZ8pwOW3ijPHqRXAZkVKvDOnKMCZFWAzJtUkQE0l2J5MRSTARGsqkH3IMkBipuacEIsmwNNrnTER6TtAOFCM0krZI8Ar6SM4T/4nQBRyckGBkiXA9AIobPYlOEAD7kHfWNUmwGyRBX33UCXAFQ02/GF2P0BsF7oakzIiwN22xtcuXDBAqSXmrRSZIcAryeh4u4wlwGUgqFvc8ibAJug4nSqeK0CvEEIUjiYnwJI2/0VFgSXAitSAIl9KJMBpAxzHJpEjwK5EubLudxPA8aqe0uF2I8Dyf6iMEs8jwJXuKZCgKytASBCA4UP9JcAq0dcFjeUjwFtlvCWYtBJAjXzP9od2IsAcCXXJ5gknwPu24vp9qSTAvoJhqZT2MkAhz2Qmh789QIqk/t1K9SXApTIH2QRGJsAPFel534EjwDGeAJBKQx/Ay61tWIexI8C1LZxkyt8kwARMhtKzBiTAQ7xSddYkKMD9UqwewtM4QKVJ3vABoCfAKMsGUEPqHsCCLs3R6CkkwErqxWDRGybAGrJ1U1IQH8DaTRB6XvYtQB8qxABnDDRAvFgwxLYPIMCJL6m5YR0jwJXMWfiXeiTAmluNi5IRJcCmq6iq4JEiwBTu9ayyICLA0CQbnu9lJ0BrSJy7JC0iwHnD0fad2yPA2NAih4+zJcAB+m7bO8UjwBwBCnTfbiTABnCRbnaoO0A+G6Bhg94jwHvfkJ+GyCXAOE520jUuKcAChdhiPbYlwIxbUgV3VCXAfnkWvIdaMEDQIFHbZLUhwH0CUYvTJjRAdh1HKtXLIcB5zWW4eVU1QF1DtoatKRjAfARnQL+sNkCmVHrAj60mwCeWezmDczhATpCCZDFQHkDuHaY15ukkwGOZUoThcCXAsnGLw0ucJcAn12y1cLglwNcPmfoXLSbA+g7x8iRgJsCD7UbaBD80QHRxNGoVjyPAkAQk+S5HPkDe0zb0gkomwKSZ5Imm8ibATPNAa35MJMDB4EFZOlgkwIjibBb+lCTAC2CRsjQHJMA1FFFTg7whwOb+S/Yb7RnA6Gq5cqzoOECTlA5OWN0+QDAKZsHkRy9AuYiRewueI8A8kq5jVNkjwOI6hGW2cyfAUPthwZ9zKMAiMS5uzrQ5QNXVO9MhWjVAE9qPWJW+KcBrRzjYHXslwGVSRxrcGifAooTXDHAdI8AQ0C5MhYg7QLqPLrIEOCfAwByM2gGOIcDfm4RV+4EkwEQhsoMw7yTATET6LjkEKkDK2zRwJfcjwEZPtPVbGCLAJvQ5SjT+KcCJ7zWpWBMnwAwVhZwvoiHAM74F1gf0JMA+YuWqovIjwChPPwvg0z9A4l+AzCn9IMDxPs6RTWogwHfkwZjZyiPA1ZYdaqvFJMD6PXungmEjwJuNzfaCliTAnesLEIohMUBrGTBh4YYWwGYMA6LLGCTAWbnQx6YuJ8CJxbHsbZUiwABAnLhX2R/AxdUC6XREMkCTjWFL9b0jQM8RmG4tfCPAI92J5KbqI8AtsrexYYglwGuL2zxMbCPAYc3sZXUCG8DSlDxGYTcjwGnof9KUniLAJadHCnLlJMDWrbNcBRk6QEE5zwdXXirAJK6T8+KDL0DTSmqNL845QNHMTNfOjzlAhv0H+OHVN0BbddjnYGkyQGXjYjMcfT9AwN6wImUoKcDx4yLTq1QmwEZLAaZQkSfAghR2U/JkJsD+SKjtX0k4QKaLiuYwbR3AUTAt28doJsBMECA03ccnwLQhrgU+1CfA9y3BjAgEJ8BDrgKkKFgkwO1rmxwMWCDA8y8/tSrWNEAyXv09Z/k6QJ6pYBC6GSfAWFbGW9bkJsBMBuGR7JIyQOdP+O5L1yfAcNrfDp+EJcCIAPK/lUgfwJfiYibeWz9AVjdhKN7PJMDw0WKyUUAhwKPTGHI4VCTAnp8+lChFH8DUh9VDjcglwKTdMhw4tgHA3CQJC+vDIMDS8VLNMzkmwIYOzRBysiTA5oc9Y96kN0Dq2qOYDmEowFWQlDFwxCbAfFqAHHwLJ8DgMJ1DQ7klwGs6TPYcQTZA36DpTg2gNkCQIKm0wdwiwA9tPK9R2jJAT0sAvVwfNEC8JGDXuxwgwBcp7jEX/BbAjWLcfQpZL0DQGe/nfSMlwKLFcQzMiT1A7TSIwaLWJsDFq2OWZCAnwP4DxIOCQT1AxuShn7kLNkCuYwwTyasiwBx0b+VKRi5AGjNqpe0FMED7rAshdR8owM6/mkE3hDBAmBIX2wr6JUBW2vlEgOQjwIr4EvbPrSPAaUHdfB46JsAB+9Ip7Ko9QL+8wCy/PiTAN0DY1Y9LIMB4/QJYLA0nwG2XAjExJz1ApsM8qfeeJMBc3emajy4mwEbh7KM+rTtABgCuuE1qJsA8UicJNlYmwBsubr7TJEBAOcTh1MAzJsARI/eA5JwewF7nO6MSOCbAmnPse1lsM0DF5/A9O2UmwMi5lX5dehvAsJOht8yzHsA0rB3bMxgowKIBQv5ghCDAyv2wpliGJcA2fK2xZ0c8QAb8oOm2zybAo6J4ok2oN0BSEp3NrwhBQGG0qpJpyz1AyvpjbmcxJMBKUhCHl+AjwAUYDWxs8CTAhLNCnv/lIsBeZiptCrwhwEemgXLomiXANPvjpgc5F8BEI8fgTo0lwG5WMrRr3CHA38/X7RnoIsCCDvnzJ9EvQIplKd/CuyXAXVganOjmEEAtQSKBr6UlwB8CT1D3bifAFJiGpKNSJsBgpNV74ko6QBtgHC9LpiXAS6HIwuwZJMA8mow+A4wjwLCUt1aOoSXASGxFlhPEJMBaCiBnBPAfwJN8ohw7hiTAn1IbccG/KMBEZ2SgfZMjwMypV9SrcybA1yzwow62JMCk/5sBMfIdwMWmCRn2USXAl14z2xkUJMDDfoeK8gczQOWOKM/mFyPAF38c1181N0CPwFIUP2IhwNyZEaXaLSfA4nVa/CntJsCPYmpU268cwHNytDje5iPAa07MynBeKMDWkPGsN7kmwMybby/2vSbA/YdLKPORIMBxhqNtEYsqwEc0geRbOiLA36tU5lO6NkBIQnMQYWM5QJ0z9k3srDtAljhDAhuzKMD6rdAo68sqQPcRdbQLNyfAoKr5hszKH8DcgakeYhQmwJfv8hHKByXAhJDpUOq8OkCLVzH52xglwI2kzSjn8SjA4ukN/Oi3O0DCqCuoUrgmwOofwzPWKCbABDVMcdbSJ8D5vLPhODckwKQ/KaifdSTAo8vjlhUSL0BkTSPuZIcowCV22cU0OSfAUe6J1mVlN0DV6D+zxV4lwKYldyzBKR3AYJ2xfZzVOUCR+EEuUOshwDlC3tHOFyXAhZYZ4T0fJsBfSAQO1x4mwJ+1pUHI+ifAONJd8qPVJ8ACbcpIpCkbwFCCzSA3rTJAhiVyfBySMkBx4fC+zpE5QKqY18/RcCfAXmC6dfZYL0CFsdYE+qYmwOqFbrPvHDBAg0BDEDEDI8BLyH4bVNoXwGzcjFCO2hLA5N8bRPv7IcB5D6kgexA3QOsl2E4Y8CJAf+HqTL6KJkD8ed1r9BMlwAXmUG1A1SHAe9zQ4okCJ8DPJRcMqaocwKDhWtDyUixAWvSb9+3dJ8Bg897mM8sowKsYYwIWMjhAXA8fd3w7JsBXhQa5/YcnwIpmsWcpFSXAVPtg4N4PN0DChJ6SsYkSwCPt6NxLSSjAB5AZxdA8JMBXuiX+kD4lwHkI/d3ZvCHAvSPdeSB9NkBxVKHIox4lQGY73pCjaDJA9QRxaq0LNUC0mgajmCI7QL91yWD0HiHAYfjNDtnFKEAqv5kCDIklwCd7rdAwviDAndY+egl1MkDZfVifjRYmwA9gL7dafiRAG8xqJpp1IMABaOVNz+A7QKMMqEj03SPA80gf7YqcIEBPIkoqslIgwGbDG+YQYCbAZYH+uqbBIcCeMNl77aYmwNjsp2HUBTJA++ftF8meKMBBkMvAkwMWQKNteo8zNyDAxDUHiIptMEBpBOQGddInQGMM4YOxICjAZ0ugvqmlIcA6G9NAERshwGpjto4ANSDAsvQJVoInJcDc0SuT+m0kwCfUL26bwCXA4eBPfYzhP0BVd2qrMjolwAwIqTpfFiPAQ6fefQT8IsDqo9CSmKYkwGgsoqL3HSXAcwtnnl8NJ8AE3PrLXoQjwPLrCey01TZAUW4hK+1TEsA5l8dgiEwlwPV5yshDqCXArfoaH5fJKsD9Cva8qKwVwD1lJL0uizFAP0Z8ddvAO0CDn5MXZuYfQI9mYnuYCSTAkmFdCWz0IsACxp+qBSBAQJOVhFE3RB3AmXMlinKHN0AI1H4qfWsnwERmg8sDpUFACU0LWr23KUDmUwTLRTg7QFS+xIwpdzZAUt2F1VCTJcD2o5GBFVcmwAYnjl+2syTAgCgP5iW1JMAQq4WNTTM6QLKu1rBHFiHAoHYQPydtIcBYVOOEZR4jwCN1upb1ojpAVPD5XMheHMCMr9/oIdElwGj2nbvDySLAOX6hWNgPJ0D5si4D/molwGpZNEb/iCPASkPIcCalJMCkNUTMkYciwNInvaq8iiXAeH+AePpBEMDKo0DsVrUkwD2YDt7O0R3At+czdubDJMAlia286UMlwEHyrE0DBz5ACp9jRh2qIcAslABsfGA0QP8BcPnCNxzA9RyJ0Ej6JMA4VLAZ1WMlwFjYZz3z7i9AoXk18nieJMD/HduUVRYhwKiE/VYtxSfAozUDNDkoOkAuvXO7eGQkwPMUr/i8ByHAdrwc+1RqLECphP9vHTRBQC4Q+/F0TSLAh4SCkmFQLkDm77I6O/MiwObhPLIAEiDApCTvFNU4JcC81C9LSMslQK6nzIOApiPAmkUFf5ZDOUBfoTfyvzwZwHUpCqtrFR7Aoprs2e2DPkB5uK/yfuEjwARi+5npkCTAJ7VxSsfXJsB7WpvCfHYmwFqrDXGpiSHAwbLsYYGBOEB1M/P8sNoawGbFmKY8ph3ALgvoZQ6RJsDQ7xq9CXUjwIdaUdytiyjA+mUkfjF+OUAN/Zlw46MswOaYTXH4ISfAOoxiVgkvHcAq0oQqsYg7QGQ+A21ZcyZAW4l34sn3I8CdEdVmRWYZwGDrAyA0sSPAPoKAoL+JJMCdDB3v6gU/QE8KZsdbpybAy/957H7dJsAUydCIp6kkQLjofapMwyPAFltu/8O1JcA0ISUVsqEcwFeXIuo1PTdApZ8PYs7TJsAbNqoQ/JsvQONRNbcZ1CbADGIYt+EFJcCrZFMw9XgnwPgjposM5yLAOxa0T7w7J8BKVo/7/SIjwD84TYJeOTxAfJ8Tcws0OEC54nYe59shwFFLACi1+iHAqiwi9fXUJcD8muqyKvUlwAagOedSVCXAAFS0tmgyKcDmN/n4NqkiwLnek/PxWCjAT+03UwsbJcCEYekuITQlwOBxZKX7mirAWWsB+TWfIMBG+BPBox8kwIGVIygXvyXAU3hMhWZ7IsA+Lf0JfsMfwCKWahslgzZAijSUs1buI8DQr5YEpzIbwExejSp3gyPAqvEngb9HMUCTTSF3I+ckwJr4XcfAlCHA9iVSE9s9LkDRygW2a+shwL2uwJEJVCfARa2ztFwlJMDT99TOg6E4QBDpLWkiJSHAJuP2/Z3KJsCypJXv338kwPT3HUSkziXA1Xvhei+pI8B2eCJC8hQnwN5TDK2s5ibA8zKFgz9fJ8BZYjfknFM0QEAV/dAvhSfAAk7hV62WJcAtGaHOt9wgwGf9/AambSfA41o8Bha0N0AigMH29WQdwIt7r4Kh/zVA+fCGHNJPM0CWGr6Czu0lwKtX9RhJBSbAyh0ZeDPVMEDZn5kxWSYlwLOoqBQf+CJA4dkP0e3wJMCUVG/0OBcjwICD7z9QJiDAJt1BoEDrJMDo/homhcImwAqHPg7hNy1AJNDUvtDHNkCxUW5iEsUiwF7Qgv/RoyPAMocZ3xr2IsCN/9R3RBMZwC+KZnugmC5AVbTlARk7I8BW7rE1quYewICtYTgvPyhA46JJryEnKMDpkjZwGiwiwB3aSQ8lsipAN+BB1NXjN0C+vCXZIOI4QLCmkYa9HyXARqy3jDzlIsBzBjrWD+EqQKQczgsbvSbAp5zsdPvGMkBjfWmppYckwBlzUyxkXztAYo6ohwkHHcDXdaJrFZYhwCVizXHHNyDAJ3SrDS/5JMCplalJpLcmwItkpEiUcSXAT87qYo9VP0Cb6gW4kPY4QNOo+9HVoTNAGu5/fonYJ8CBrMbIAnUiwDR6p4cFSSXANao+hq1nIMBJcqjdwqo/QLzD83Yq0CxAKvoGLcNYI8D8UiX4bYAiwDUVkXYmMibA+t2AqU8vM0Ac/cNVspY1QEgA9ciytibAyYCFieKTJsD+Zo2c9v4pwKsz4sOoYibA0OqZ+yGrIsBm+/K5ZSM8QEkQ1LtV3B3AuATOH8AiKMCJxzhm0AAkwFVlYojoKSnAlkMVvAhrJsDV7b02VDskwE1KjZdXCSjAXW3OPWKVJMCe6NsRRwciwDOSN7DrXyfAv+j5LY9EOkCE1wwub8g2QNdQFg52IyjAocpoj4kzJ0D4U5+FsxogwN4/F/aifibAF8i5ZCxiIcDLLqH6CSQnwP3owSA1yDpAX7ZVajpAIsDCX9D32H4lwNcqQhaucSjAHr6l00WQJcAcgNjuIa4lwEo+wCI/rCDAo2zlZU60KEBhGLFlNR4mwOx6NmCzYiTACd+Ry9+3KUC6WVq6DtE+QIGnTxmxyCTAD6Y5KpYDIMCu70PmxFQkwAYJeNGfISjA6LUig1RlDsBXDG7K0IwlwAnwl7civSLA0Bb2hcUvK0Cg/1bKQ3k5QPJ8fdo9ADBAtvl0XFbeGMCVA8m4OucmwK2ZePz2iyHA7/LgIic35T/cg27mqeU8QFW30N9vnjJAAlbjy4SAJMBV9Z2rRHwkwFB0sziQIzpAOwIkK+4II8CaDMXknA8kwJ1+9BGGGjpAffTWXVk4I8ALPKvbUKQ6QOOnN6+1Mz5A5Wtw+UAOJcDr76OvZ6A/QAhUIPu0ziLArSPXDMJaI8AGs4wMNLwXwC+tlHhcihtAzHVDUkYwJMAgV6CrF/c7QN81IShxECRAtfqpzJcwJ8DsYYJ4hFgkwAoeEO0wVitAmco+SdgGI8Dci6IyCD8mQF8TLbDHmCLA9yEV7CmSJMC90SO0IGoqwA5PK3VE5jRAyqRPyVC+PkBKeCK7YQwlwEWebQRKeCPAjq8WTh+BJsAmCpWbWNsjwBoNdI/NTCLAkLOW4o0gIMByJpGCe7o+QGtULvGltiDApQrN+Ml8JcBF0aY+rEAkwOkgIM2pgC9AoHdqSu1nG8DqnkM0F65AQCH14n6wvRnAHDD1vAo3JcCCruViuzEIwKampvCODyTAk870ho2fJcCm1LgrGMslwFFzqa/WRjVA7Z5NgxsNJMAF526uXkInwIZ/oLBvhiXAPRkGBo+/MECI97eqlOEkwCd+fjWAFCXA1T4p/+JjI8D4xZEZ1yEmwOeuAvGDMCHA5iA2f7Z6O0CBDCdu2s8pwA9iS5jH4iHAD8yfiH/WJsCYb8wFjFw5QI3Xyo8/PzJAjR7ZlsoRI8BJjbNbXT4nwPOtMFN7WyTAkrKFR17+IMA3N4fcUYY5QD4pP9kr9zlAf8SJ+sQeJ8BadGYKfgcmwI08EdL71iHAabPqTXFINUDRWGhVjXwmwJBY3CYaBDlA70LQk0QLH8CPfcP2P44owN1YjRbHfiXAWyXW2rYqNkBx/iEGET4kwAPucZBWACXAnRrDPlYFIsBe82+Xs+M9QNDUq3KQlyDAWqcr+BrGIcD3BDc/uK0mwLQHxFV3ryZAMDDPz62BJMAItZpPWdolwCGXxQdyPSDA5PdFUuWJIsDT+dVK5r4qwAZ0yydyjDNAIEs6EYGFO0CD4a7z9wQ8QHzLClAjBR5AzBeSmHSMJsDiFWgRWxAmwB/oQ4BAgyTAavP/dyVDJsDOVXajfPckwJXIedewzxrAO6RBr4cgJsDHyffE34M3QPvCaMtH6ifAslcBRxQvJcB2PWqLVpIkwHgEbqDsSBvAm2mtb/ygOkAX7E8PKNclwGE0e6PqQyHAdHawsEelIMAV5Jje17IkwJS0X3hVvyfA6gMKXljRI8C8sgGdg38jwP+6jfhuOBXAnYlYOtkzIMBC4XOFdfw/QAb9KUo+6yDAUiGOvAewJMDb087BGzsiwILi+zI7CCxAqE/86F5sI8CjPUkFPwcmwKBI3o/qQSTA9AJCZ2mkPUDHagauh3InwK/dn/VhfzVAGjxS+tTWOkBezFfkZ1ogwM/GvbBoAiXAwPNr2FFoHcA57KYFfGMowMhiCSmhziTASwuMaI+0KMD32HTCvxIjwKT/CNHdhTtAQGQNqyEkJcDm42O7nMw4QL3WrUCO2STAVTrtN51NOkAkHfqmcDMmwOnI6siVDC9AdrIpdH+rKMDLxDz+p/0jwN2By3z2gybAgIZnAHUZIsCrXmIns04lwOzXvlqjPjVAhbPTHDLvJMCKTXrVUGcjwLUJe2lGdiTAB+qR9nDnOkDNExm/jQUiwFkkcgHokzxAxcINZ61/IMAZfesEwKgmwEzTT5dw1yLAdS+aNGWiL0Ck2fT6a4opQLs8y1L0NibAYoZAVPJpMEBOkt03+EQlwK/NT+wKgTdAjgB3C4TSJMDjCMHiBT42QLHz52AzLCXAGZ4sgMRXJ8APXJYzjv4lwPHgXZ0QNinAa+vgV1WZN0DTYUri01gkwI71pJNE+Pe/MNcEl6shHsAkmy9Qlwk7QDa6BCPAbyrAQ51WRfhEDcBJD+XD18UiwN8HGcDLlCXAWCP3+YMWJcC5ukcHvkIpwH3v2h9yUjJASP3RepOfJ8ATntN/VH84QGW6j1fg2SHAja0B9epSJsDgpbIq8IIkwEfNzFyJjitAnwla7V2tCkB2fY8A6I0owGIMw36TJifAiRlrBYDgJsAWg6IFFTs8QHajXl/u9CPA4Sd0KgqRJMDbzhMLLU06QOCXD00hhSjAYo0fPlNZJsDotSWzhqY6QIYvpQfW+CPAafmBgMrLJMAT4MW4eb0hwFpOTEaUySTAMD0Rp4EdJMCirWl6RZAjwAxEmgpTFDhACnYTU93tJsBlauj18eMmwOR3x9WQ0jxALTERokzdN0B/EhnpeFckwFybUD2uVDhA8hMcqohTQEC6/7eASZYmwNxQkJPO9yTAo4qUDmh/KMA8kvxd+YIhwAeEAf5AayPAErGbqryaI8BnViBUpAkiwFnBfXM8DirAmHrsGzAiOEDwAHyS7FYhwAVzb+s6fCfAtnfYSstiIsCFL7YhEyIpwF5pP4Dy9CXABfjxGBjTPEABYTnM/DA+QHURDaR7CzJATiqJRzWQKUDS34ky0AgewGj46nJJBTtAzNFCDMTYJMDk3ruqmQQ9QI46nI4CchnA34DpRoi5GcAppG4kfGskwL+81WwdnyDA9cxEgJ7qJ8D6mmxYbZU/QG/lbUu+ByjAqVshYrsbIMDJEbdEQz43QAmN/HTg9g/AJwJBbAoLI8CtoUKZ6kg/QNLQZxuxNyTAkmsWQXhlJMCWEMxqhL8qwEoDXJ5vdjVACLpri+WtJ8CEOxBqTC46QF5l4/gvYSXASWY+UG78H8BRSxEEBsskwHgJ4n7OUzxAegk6VXYsM0DN0VRDksEkwJ/zoBSoOCTA/lS8IuSmKMAF7LK/Hp4ZwPXf2AqYTSLALBN5Zi+MMkCqBNrR384lwMV4Y4N8miPAa4zgJ4pPJcDFmlVf/Rs2QNWBwBl4gi9AX/z57ArzJcAfgfQo338kwCWqPq+K/SbAnQYx83ikJ8BccRpJR1omwFGZW1to8zRAVgmtgBG0IsALupux9UYfwGflpKE4ljJA5ogG7e9sPECKiUOabhAiwKSVVN73WifAH8n2HLMOLkCjtE3mbwIgwAHP5YX6BibAh6Dp0diXJ8CSgqOC1pUiwLQmR135JTdAA9YAUkAQJcAEIz+2bBAjwOuL9MCQGSbA6VIHusGBKMCCzouScqAgwFHWmbIT5xvAdK+0rdJXJsDZoav+V4kbwG21v6ofhDpAyDY+cgR8JMAmkhcQKHQkwOezAvfeaRrAh9eLHavsJ8C8ZHsqRoImwDmoflkjpSLAKVJk0uh6NUCw2Me2xpEcwBTEKCo8XSXA4zyuI13aJ8DEkBvgb+ElwEmkVVR/6iHAihAI4lEDMkCoE5GJWYYqwP7LRsNvfCHAp1brLczxG8B2OojGIl8kwKVC8tmzpjxAHHEz1x0lJcCgLwigYuQmwBl6nK5niiXAkcMKK+dbOUDswGRu1iY1QE/RWgkh3DBAatn1aXmiJ0B2q5MCgBAzQCk8QR6GdSXAc/NKUPw1JMBv8M5GeL0iQF04JeGnkSjAMSLItAtqI8A2eSMI0GklwH7VzevCNTtAVGin+oOLJMAYRk3raX4xQKteXB6hiDtAhIw0AM1QNUARnynyDAQlwOcPLYQxISLAg2lXcFwrEcDsQXoOy1o3QI3H+3PYdjRAi9RTdyaeI8Arn9DAn3clwGkV7MifRSTAhneetOLhIMAgi7LhrvcjwNXU4h3SfBnA0PskXWZvOECqBbXEYwclwPWgHKvzSzRANQKtP2DqJsBTEzRAHWQnwH9ZS40kziXA1PR8siMSHMAXBzxk3+k3QNM0IoPW2CLA1gS5ISAoKMA+QuaIDfQ9QEhq4h11zybAgd/MH3vGJcBeiasRNg4mwFekU7huhzVAZcR/+nfTJMAqcaf6+vgkwEOi15QyPCnAEIJ11J7dIMAXYzrShNQdwAhPu555iCBA7QwPUlWJJMCT5gJCBS8owO59el+RojBAUwq1uNu8O0AnnY8kvMI8QEsALiVRJCrAS/E4s+ixN0BiyHNu5kpAQEUjHpIMjiLAqDmRMxkJIsD+8P3Z3uAnwAU+l3KA+DZAmrkHu4asJcCzNA0ivFgkwJqpS6EKUj1AF04HKzjXIMDAR17hISA+QDBNmS74MzxAhA3APYBWI8CwilHIEqEkwOuN/9VleCDAIriYowoMJsBRprIDMsUgwFxhSVfiFSXAud7R/YbCKMCwJlfS5V88QAUDdODtKCjA/miqKqQSQUCsmRzFjHEjwMImALGtVzZARnuKQYYuOEDEMrCmaxwyQLzGDltTXyPAuApZsSaRJsCOg+0CPJ85QPqOo5jzyCbAzymUhG7IJMBI7IOMHIYvQF6Kk7cj2CXAYvO9JmaYJMBVEr0d0/UhwHUSZIHRFxvALizXnm3vOkDY5I/Xda0gwFQCi/Tj6yXAzuSDljwIJcD9yIi+0DwlQIwovsi07jlAmeCq/RI5LECF5WJGuUklwJU41uKZ0zlAk6Su3m0EJcDaFKupiI4ZwMBkax7zqjJAD267Sf2iJcCauZ+4YPAmwOPBElDvYybAZnyHPyonK0BJD7suHGIlwD5wZAVXejlA5ezsRvB2OUAnkkaNFacmwM3c5s6z2yTAANi9GSiNKEDHcFajh+MjwG1NRbBCuiXAp3wmdAkBJsB7UFloWfs3QM/90wGL0yHAGAme97ZHPkBoCG5e5ZYkwOUYkxykQjhAkzMBrcpbJsBuMO/EZi8zQIgdfPmQujFAluOlA9AvJsDn/4pXTQk2QHs7QYwHijlAEVdqZgAcIMBcnUWTnHc3QE4T7kyGSiXAZ3vCVVHFM0CG7U+MHJ8iwJLkelv9pCbAuk5q5+zuJsBJpmHNKLwlwEDvxJWljipAq6rT7XlHN0A8uVWrIsknwPXyDKhr+iBAhJkfh+AUN0DM23ze5CIlwN3FiC4uGCXA+LR35qyBFsBS0QGfZh8yQJH49bOESB/A/h/fOtNbO0BJH3EqxT8mwJSlQ+4UwyTAvflwTMX1JsAptlxbDKYewD0aW3KDHSHAmZw7fGNnOUAp9USSjoIiwGIl93u/RiTAahiGIvp3PEBj7jyujbwzQBXlP52hryjA90i++CxHKMC9rPrQHwQxQFLkc/2VYzpA4OPLzV41LED0Vh7h6yEjwNlMl1QeQCfAjoPaaknNJMC0x0jy4CwowItBpZm1kSTAGwaDEfunPUB1ZVxIGx0jQBxdmbw2OSTAx3tqGKc4NkCk0VPwHYUkwFm9skRHPiZAG0cy9TY3N0BSKMHsJp08QEyk3X0uNynA+h0I5g5pIcDmFq1tpBs1QLuhN/Qw2CbARzNBEPsmJMDZwJzT0k0lwPVDJikRYzZA5OVDFwhiJ8AzasktKuQmwMt02AspuyPAgdKnQdgHH8B5yrV+N/0hwIVVME/QPCTAFiwBgFRrNUBWN4scTH8jwLTuNE2IKTlAjYJ56U/gKUCqby9PM041QNL8i4zDpC9AI7Sg2WovI8BJelNycUomwEPqpz54KibAj+UthiawIsDIghbwu88owCdCx+2ybjhAx9kAZJqrN0AFmCRFGJ8kwOku4G6C+y1A683V8LDrJcDVal9ZkC81QPMO6R8ftjxAzCo7vPFiI8C3pn9WVg4lwOFvVxLoOyvAfcC0m5xCH8DnaPjBBcwkwHUjv4kNHCbAM9yqfw6TI0Bpg6SYjZ0vQC+OvNkq8SXAAbdsIGP7NkC0oLwhCHYcwNe0PrMclyPADgbXVyw/NED1qgthRMgkwHtsxdgDfybA4lxOmcKoJsAyYVQ/BOsgwCj+PyL/BSXA1AkChDCUHcCBvF8NjGgnwKk23fYk5zJAlVB5lA3KJcCW3Zc2zgonwB5aom8CsyHApNTPXWIpQEAm/CWVVokhwDWknAJkvSXAJLKizu8qIcC1RA/njQUwQLS2zsAOX/q/8Sk4XHzrF8A6TPOetLoiwLGdguHyIzNAsQEB8W4qGsBUmaelCYU1QMq05UWsBkBA7Q+N362cIsBwONQD2d0jwJp69LcXSiPAvRc9Uz2sJsB+40LPhdAmwB2pWDdLvybA9BbRJN8SKMBbWC9q7HwmwK2QAN4pFSTAMcVUFLCQI8ACdQBzifE6QN+HNhEz7STAbP+gtNdmJMDV/aK1kac6QOpKhHOkQiLAaqUKYQA9I8C2VGZMTv8mwFsm+Alw2BnAKQ2aXcQAJsBOMi6ldNolQNegcPgG8SPAEdLiAIkrIUBooWaFr/wxQDB8KiEthiLAcAwE7ShiJMBi/5WYUQokwKB1K2xqzCJA5keBTb0NI8AtU81PBt4kwGPDPXaTlSbAINWrmymkI8AQn/rh0IgWwOKgRs3DATtAIKKzVOxaKcCsXKrWCrImwFFuzxImAg1AXZ4ubkhWJMCn1nhZtaolQOoD3FMEnibAu0vdXn5KJMBNj55o5PUwQCrzFmz4iSbAI7PlYI8UIUDuO5r7fdM4QD+evmJbNSTAerkpR7Z/OUDgI2HOHsw5QJ2ykP+UHyLAG01E9sAmJMCKCtV9hXskwDo5YZ1JujpAZ0mFc6QVJMB1GKm/v2gqwG2QUMaEmybAV4iEawLRJsCMHMydxjMXwFnFuohBxi5ATSsNvc9qKcARMo36mv45QG9Y02+3th3AFz1lEc+zLMA9wlxfbfwjwFqs+pH1JiTAT56uB7aCI8AKCu9JqjY7QDsdHbQUrCTAoMA/ZpPbJcAn/UpzNtMxQPn415hTKkBAq1RFQYS2H8D3rVGZldgkwEAffqb9ZCPAI/6oGPWEJMAmgv3lHg0kwIX9Ecm4rybAMw9l4djkJsCrAoki1eY+QEyxZ/sZTCXA4mTwXtWMMEBP2jxr2AgiwEKsMctV1hhAN0vVhzupJMB8O6cg9BkjwGQueCDaoDxA8jpQAe7qJcAqwZAbsh84QFs7MvgX0ybA/nXbfaBFKMBdzMZasOYkwOCQRB5URCbAAqwFC9P5JMDv+LFAmRUowD6f+iJ8BSLAyMnlDp3xP0BRvMssWS0qQB1jzteoVyXAoJ3AhYIKF8ApRllEgeUlwGoy8hOHUjtAwXsiZqG0O0CIwROL+hQmwIdcVRbqpibA5XTSrnPWJMCHpJhOwIYdwDwkqV/x/iDANFdH35RgJcA4U2cVh8wyQAApnFt11jBA2ZYqNnCFJsAIWzIn14UiwOpMCirilss/qYRsESErJcCemSi0C7wnwBNemXlcpCPAzWvY8F5IJcCOhtQvMislwE88T//plCTARcCeQJ4SI8ChZZWuZrUzQOirex3rfyfAeYRw7dhYJ8BJx2tUEP4kwPNOkcZulCLAuGQ5nfQ9IcDcsuEh1BwrwBJrfiyZ5jdAXHkUttjxIsCT665EFVYhwLeQ2kDLTSfACnEqQOBHJsDzawac3w0gwMz063ygnjpAQ1pA71MbKkAFaKF4H4kyQKAHcEzAyzVAT0AuliVPI8BTeuJ2CNUowNEQQ6NV8SXAbIgT1GUxPECXNCWx400owLPo7nA/BThAG9PLKluAI8CPU/jAVqUhwMxKTEDLYTNADbILhmF/JcDtxT4Dz0U2QIWZvArlgyPAvpd6fv5+I8DVC+7htHskwHAWZqGlsjtAZnF+maPJJsAq4mZ8yEoYwJVfWPp7Qh7Ab+5lrShsK0Bevy98xv0lwBq2dhvblifAp0xoCVaTJsAcfIuI9ckrwF0WooRx9ybA2tvTJN9HMUCodmVtz2ckwOV2FoJt8SXAlgeU+iqtJcDDrqHLdGEyQFIqq1h2nSfA7KzPPK3NKsCJZU6ycfMjwKRuIS2PkCHA/IVjb4z6MkCpS9gDETczQCGqDHRyCidA0OSfjVTULkCCCcxiyj4dwCqRpmmWZQ3AiE0cWSnCJcB4oXg5uHAyQPs/8wHpXx7A4XdljTTUNkBGlkpLOKgsQHttvkMpVCfAzVvZNCoCI8CD9sVilRgnQOCrk9anxi9AQfR0pcMzJMDNSnPE9uYmwJGQ9j1sbh3AFNrgQ0cFIMCwhFZ17+EnwLn2rHCiGCXAsTSwD3dGHsALxM2R3qIkwD650Th5WSbAeNYtRiKWIsBdMrcC858hwHRDGgkXL0BAvQLwaI6JI8AScrKcOLQ8QHCgz+0VtyLAfZXEAx79IcBYHXUayBImwCHRALtVPChACzMirU9IJcAx/qyFtxcQwB3hEC5nCyTAh/rlB5NIJsAUcE/b/yEmwEi2nFAUFDxAQ6y6TvB4JMCxTbEcjJ8lQHZSkheQpSDAOQ5EeDlTJ8AZCDO1Uj8kwKPKlKzexzlAReL5JJWZG8D4SnH8XeE9QKZUPUwOkxvA3JOUilxjI8Bf15s6Ja4+QAyM3R9MYCXAMRVqeWUbMkC1VCj6mzgmwBGEUTJ46yPANbZ9d6KMIsDQOVOylLQmwIAc1SNdHCbAcvO2tJZsJsALHcCNYOMxQM01VyPwQCXAUSs0vVYzOkA7ig1YhC0pwEQhoy6r8iLAWueBKtqcG0C04mOlPvIkQKqbA0XSgTNAU1pWp5gzJ8CycveJjCIowIMDr8/A+yTAA9cLSVIzJcBGfJCVCAUjwMYTAp5+Sh7AruT/wqZIJsDvfqYsruY7QHGduGH8tD1AIrMJlkC0JMAc3iY0TI4lwOWI7dyorTxAWOdoqeJWJsBkha2pX8oowBeeWaKDqSTAuuFVDLptJcBvfct0wgo+QPaMvi2jiTNAkzPreaWlHcB4Bj1DSwE5QHmnPUgGuCDAAyPsTUBzJ8BSUmtKmyUnwBBYiammECTAChd5r1u6JcDgI5TgXK08QL/Cv0+CgCfAn8Neo1GyKsAqCnEk+FMkwIqPvNunfD1AgIswx2KMPEDEekDOlQQnwGkUyFje6z1ACyiXrmMWLkAJ6SEZ9NwmwAmU/T3wNSDAAI41o/l0JcCYTt74zhciwGv7CSZQxTJAEs1QLpFvIcC8+YVxPXE1QBq1K1OYKSjA1boTrEyNNUDUTKtFPZAnwPzg1YPeBiLAyBp8ncZaM0BxC9h3LxY9QFweH85NXh3AJByOe0ypGcA85avCo3kkwIO1dpkTZyXAzeRFxqvIJsBcJBid1Q8mwG3UV3QtaiXAanCor/V6O0AH4nFuJq03QK+7fpwHQyDAGFs5LLexOUBrSQ4mL/EgwFoBRSkFDkBA37HtxiezFkCm8o0crYIjQP01SireNzFAxB4Smt6nJ8ANKDPo6Z0owKml5bQ6lSfAjPcnhGnuJcBOtx2U2KUhQM5Nw3iQTybA/EtAxyWnJ8AdqENH6hswQPwQXjjHHiTAp3ICFlHtEcC8cVRVa+IiwJB3U+BOeiTA4z7CmjB1HcCHI6IuCoQmwIWx5I8y8zpAfohJ1ffHPUDnB0inLLUbwHlxMw2xjSDAmwwiKQ40JcB3NFQgIjwkwDkAbiJI8CXAOuJUnkZmLsBT8iv+kvclwOYsWD8tXjBAXayW7ohJIsCc6M1EKGAqwLDJUw/qVSbAaLc8fdVhGcDQYqlD9+YjwCcz3W3nfCvAdK/4znvCI8DATYkH0sgkwPxXkYNe+hpAb5MoRj5+NkBwBASNJz4iwKXkZGckISFAhjHWo8avJsDlCbVOC9UtwEG+9oh26z9AZ349KpK5IMB386vHjZEmwIcrZNIpZybA2sGkTDGfJsBF9wzPgCcfwJoEi+WeESrA8hKlZ2tlJcCVTfLl3WwdwFvPOmhBtCbA6H4r4unOJ8C44GOw0SIjwBoB5YIO/CDAdn2O7cIEJ8AId8XGnSMvQJ1ApWgOWifAV/CHb6D3JsDL9Wgjgf0hwKlLWnxklyLApMjP8FN3OED/olDaZOsjwBegsQmHFinACQ5zRgBwIsB5R5zE3IglwJMxEuPE8CfA13cJE7PzKcDY0kfIrgwkwNolsoW9qSxAF8E+NCCgI8Cbfngi5lg4QNBciiwPFiHAHeiYgbHFIsATfy+W1rYlwNSaLVguuyDAMDarjzHTHcCimhA4/7IiwINkjdABlSbA9NPNDQLMJcBs/OSD3WMiwMdjlt4ADSDA4iha2rVdI8BR7PUkPQIZwKihCqVNtzNAOCpqRljYO0CduiBw0PglwNj7I7OxCyfAVG7/VoXeNUDk0hPjTygnwP0dqI+1KCLAGM0WfX46QEDxnQgYHxgiwMqP6yD6bT5A63LWZFRbJMDrXjmJoNsjwDcbtrHEbzpAPkT71OITIcBdHGSwpLciwLk9cP463RTASxMNDcc/I8A5PNRLdg8mwGCugs1uOCHAyuM1/RZ3G8DTjnQiGwYlwChlJSnwODtAXyFjoMgVOkAyvYncIEo1QEIzTw/kBDdATqUhXqB8QECFgcx+7UsjwB57U2p/dhrA+vx/G+Z+OkBqf2+APQYlwKr8cpFbnSTAq5RDbgGkJMCu8NTuMr8lwOaP4zTePThA1c28YHgQJcBotp516IAkwFdS9A9JriHAp9Z3h6sOL0AvkkMHMPchwK0OJDzRjiPAdof3O5s+IMCa7Jam6F4cwFa8i6J3GCXACIH/FEBNKcCyXzmisbIqwPXIoFYhriPAI6yzWaxXOEADIBhIU+syQEHD3IW83yTAiI/a9GfyPkC++Y3d8twiwJ/0G2wO0DlAXZdBCgz7KcAsNYyYou0fwCUEqR9XVjFAsxLiQPytNEBHilzMSL8hwFvzgek0oibAUcBK+pwKJcC2qEanlM4iwDBW1GzYKSfAA4whgqREH8CFUjZKXAwUwC942NnVLCPAs6LsV72gO0Dvn4O7yLUowIojz5KCBCbAmx8skRVuOUAz/R4HT4YoQGXju5RtHSHA6Lp2beC7JsCUY/LgFLkhwHJs4ZKoHDdAxpen0pcGNEDC+C0f4BElwDdAG4aOYidAjGK8zBVyFcCu2quA5YokwOK6pD9teSbAKC2dX6ZaJsCWYOB34NYkwNHu3pdK7TZA5wm3lxL/I8ANGBmcohcjwHfVSdSJDCbALcto3BleJsBoG/9FjqwnwO/grqP4NyTAS/XbtgCKI8A6Tvt0eCAowKYu+Fw4h0BAc77jGi26I8A64gnekgAmwMdKs0OqZCvAj893C4TxJMBq8/ngGMgjwOrE2ZtZQiPAK6azoMX+OUBN5LKdkyAiwD11rzsyQCTAzF3eI6RSNEDVPGVkDwEnwBm7Wy82UiPAcj/aqVE1PEBU1dVMIZoyQNnKobDVmSPA7Tn3OvMjKsDIbXNuMGsmwD+Urfx7rDZARu64BH/WJMBMLEN7MMk2QK4IYhwJOSjAqDorhCG+G8BGK7yZ5T8kwKasK0xWJjpARYJLk9qqJMBDx7sfodolwCEYwVVpKBzA4QsPKEa2JMCiJ9NJCZw+QF41030VbyTA7TFdpKWxJcAwK4BjSbs2QLeJD5RyBDlABPD6vjEKJcBK6YYC6+g3QIPkMshWnSfAbFbVIlTMJ8BNCQWY1egkwOkH8QETsjZAsP4epcqPKMBClyapy2wowCLnyX8sojpA/R3Jgq5TIUDwHWvhDlIxQNgXC60nDTdAZZIuNLdmIcB11jkuCnolwMuvOGK3IyLAad3EiyLFJsCivzsh26omwPnNczOwWiLARD/FVqTwJMAHpWOArxchwL2V6jlpFD9Awlz0NkkgOEBKsUfK4wQnwO61SgUWEybAakuIyiuCKcCRQyQgVKYjwPjmcipfZjdApa5UXkcJJcDriBYPnMsowKAVu5/ULxnAVFKydZFSIMADF44H+Xs7QKldMdmByCXAbXE/YSbbDcDNWt5oF2YhwFUwjPuHKybASZvHPmXuIcCYjcCUegYjwPwx3416miTADvqNi3IMHMCP21487wJAQMtnkGYlmSfAnMeNSsMuJMCZQyzlGNs7QCTx+XGnECHABTwWlgGfN0DxIzd3u1QjwJuwIin4ZyfACCe52/rvOEDxFBEvuS0mwNiNyae6GibARiXfutTrJ8DUXqhUv6IXwPbIoJ04Hy5A6BVbbOgUNEDOLHfWcpwhwEmjwx9w8iPANDwlElprKMAlxeOT6TE6QG/nJ/hrQRzAfqt4yO3oM0D/ARL5kHcmwP+HdL4ebyrAlk/YQ5R4IcC1P/u4yZ4mwNJTb1GbtCPAapL5DSIyJ8B9vtEbK7o6QA==",
          "dtype": "f8"
         },
         "xaxis": "x",
         "y": {
          "bdata": "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",
          "dtype": "f8"
         },
         "yaxis": "y"
        }
       ],
       "layout": {
        "height": 600,
        "legend": {
         "title": {
          "text": "color"
         },
         "tracegroupgap": 0
        },
        "template": {
         "data": {
          "bar": [
           {
            "error_x": {
             "color": "#2a3f5f"
            },
            "error_y": {
             "color": "#2a3f5f"
            },
            "marker": {
             "line": {
              "color": "#E5ECF6",
              "width": 0.5
             },
             "pattern": {
              "fillmode": "overlay",
              "size": 10,
              "solidity": 0.2
             }
            },
            "type": "bar"
           }
          ],
          "barpolar": [
           {
            "marker": {
             "line": {
              "color": "#E5ECF6",
              "width": 0.5
             },
             "pattern": {
              "fillmode": "overlay",
              "size": 10,
              "solidity": 0.2
             }
            },
            "type": "barpolar"
           }
          ],
          "carpet": [
           {
            "aaxis": {
             "endlinecolor": "#2a3f5f",
             "gridcolor": "white",
             "linecolor": "white",
             "minorgridcolor": "white",
             "startlinecolor": "#2a3f5f"
            },
            "baxis": {
             "endlinecolor": "#2a3f5f",
             "gridcolor": "white",
             "linecolor": "white",
             "minorgridcolor": "white",
             "startlinecolor": "#2a3f5f"
            },
            "type": "carpet"
           }
          ],
          "choropleth": [
           {
            "colorbar": {
             "outlinewidth": 0,
             "ticks": ""
            },
            "type": "choropleth"
           }
          ],
          "contour": [
           {
            "colorbar": {
             "outlinewidth": 0,
             "ticks": ""
            },
            "colorscale": [
             [
              0,
              "#0d0887"
             ],
             [
              0.1111111111111111,
              "#46039f"
             ],
             [
              0.2222222222222222,
              "#7201a8"
             ],
             [
              0.3333333333333333,
              "#9c179e"
             ],
             [
              0.4444444444444444,
              "#bd3786"
             ],
             [
              0.5555555555555556,
              "#d8576b"
             ],
             [
              0.6666666666666666,
              "#ed7953"
             ],
             [
              0.7777777777777778,
              "#fb9f3a"
             ],
             [
              0.8888888888888888,
              "#fdca26"
             ],
             [
              1,
              "#f0f921"
             ]
            ],
            "type": "contour"
           }
          ],
          "contourcarpet": [
           {
            "colorbar": {
             "outlinewidth": 0,
             "ticks": ""
            },
            "type": "contourcarpet"
           }
          ],
          "heatmap": [
           {
            "colorbar": {
             "outlinewidth": 0,
             "ticks": ""
            },
            "colorscale": [
             [
              0,
              "#0d0887"
             ],
             [
              0.1111111111111111,
              "#46039f"
             ],
             [
              0.2222222222222222,
              "#7201a8"
             ],
             [
              0.3333333333333333,
              "#9c179e"
             ],
             [
              0.4444444444444444,
              "#bd3786"
             ],
             [
              0.5555555555555556,
              "#d8576b"
             ],
             [
              0.6666666666666666,
              "#ed7953"
             ],
             [
              0.7777777777777778,
              "#fb9f3a"
             ],
             [
              0.8888888888888888,
              "#fdca26"
             ],
             [
              1,
              "#f0f921"
             ]
            ],
            "type": "heatmap"
           }
          ],
          "histogram": [
           {
            "marker": {
             "pattern": {
              "fillmode": "overlay",
              "size": 10,
              "solidity": 0.2
             }
            },
            "type": "histogram"
           }
          ],
          "histogram2d": [
           {
            "colorbar": {
             "outlinewidth": 0,
             "ticks": ""
            },
            "colorscale": [
             [
              0,
              "#0d0887"
             ],
             [
              0.1111111111111111,
              "#46039f"
             ],
             [
              0.2222222222222222,
              "#7201a8"
             ],
             [
              0.3333333333333333,
              "#9c179e"
             ],
             [
              0.4444444444444444,
              "#bd3786"
             ],
             [
              0.5555555555555556,
              "#d8576b"
             ],
             [
              0.6666666666666666,
              "#ed7953"
             ],
             [
              0.7777777777777778,
              "#fb9f3a"
             ],
             [
              0.8888888888888888,
              "#fdca26"
             ],
             [
              1,
              "#f0f921"
             ]
            ],
            "type": "histogram2d"
           }
          ],
          "histogram2dcontour": [
           {
            "colorbar": {
             "outlinewidth": 0,
             "ticks": ""
            },
            "colorscale": [
             [
              0,
              "#0d0887"
             ],
             [
              0.1111111111111111,
              "#46039f"
             ],
             [
              0.2222222222222222,
              "#7201a8"
             ],
             [
              0.3333333333333333,
              "#9c179e"
             ],
             [
              0.4444444444444444,
              "#bd3786"
             ],
             [
              0.5555555555555556,
              "#d8576b"
             ],
             [
              0.6666666666666666,
              "#ed7953"
             ],
             [
              0.7777777777777778,
              "#fb9f3a"
             ],
             [
              0.8888888888888888,
              "#fdca26"
             ],
             [
              1,
              "#f0f921"
             ]
            ],
            "type": "histogram2dcontour"
           }
          ],
          "mesh3d": [
           {
            "colorbar": {
             "outlinewidth": 0,
             "ticks": ""
            },
            "type": "mesh3d"
           }
          ],
          "parcoords": [
           {
            "line": {
             "colorbar": {
              "outlinewidth": 0,
              "ticks": ""
             }
            },
            "type": "parcoords"
           }
          ],
          "pie": [
           {
            "automargin": true,
            "type": "pie"
           }
          ],
          "scatter": [
           {
            "fillpattern": {
             "fillmode": "overlay",
             "size": 10,
             "solidity": 0.2
            },
            "type": "scatter"
           }
          ],
          "scatter3d": [
           {
            "line": {
             "colorbar": {
              "outlinewidth": 0,
              "ticks": ""
             }
            },
            "marker": {
             "colorbar": {
              "outlinewidth": 0,
              "ticks": ""
             }
            },
            "type": "scatter3d"
           }
          ],
          "scattercarpet": [
           {
            "marker": {
             "colorbar": {
              "outlinewidth": 0,
              "ticks": ""
             }
            },
            "type": "scattercarpet"
           }
          ],
          "scattergeo": [
           {
            "marker": {
             "colorbar": {
              "outlinewidth": 0,
              "ticks": ""
             }
            },
            "type": "scattergeo"
           }
          ],
          "scattergl": [
           {
            "marker": {
             "colorbar": {
              "outlinewidth": 0,
              "ticks": ""
             }
            },
            "type": "scattergl"
           }
          ],
          "scattermap": [
           {
            "marker": {
             "colorbar": {
              "outlinewidth": 0,
              "ticks": ""
             }
            },
            "type": "scattermap"
           }
          ],
          "scattermapbox": [
           {
            "marker": {
             "colorbar": {
              "outlinewidth": 0,
              "ticks": ""
             }
            },
            "type": "scattermapbox"
           }
          ],
          "scatterpolar": [
           {
            "marker": {
             "colorbar": {
              "outlinewidth": 0,
              "ticks": ""
             }
            },
            "type": "scatterpolar"
           }
          ],
          "scatterpolargl": [
           {
            "marker": {
             "colorbar": {
              "outlinewidth": 0,
              "ticks": ""
             }
            },
            "type": "scatterpolargl"
           }
          ],
          "scatterternary": [
           {
            "marker": {
             "colorbar": {
              "outlinewidth": 0,
              "ticks": ""
             }
            },
            "type": "scatterternary"
           }
          ],
          "surface": [
           {
            "colorbar": {
             "outlinewidth": 0,
             "ticks": ""
            },
            "colorscale": [
             [
              0,
              "#0d0887"
             ],
             [
              0.1111111111111111,
              "#46039f"
             ],
             [
              0.2222222222222222,
              "#7201a8"
             ],
             [
              0.3333333333333333,
              "#9c179e"
             ],
             [
              0.4444444444444444,
              "#bd3786"
             ],
             [
              0.5555555555555556,
              "#d8576b"
             ],
             [
              0.6666666666666666,
              "#ed7953"
             ],
             [
              0.7777777777777778,
              "#fb9f3a"
             ],
             [
              0.8888888888888888,
              "#fdca26"
             ],
             [
              1,
              "#f0f921"
             ]
            ],
            "type": "surface"
           }
          ],
          "table": [
           {
            "cells": {
             "fill": {
              "color": "#EBF0F8"
             },
             "line": {
              "color": "white"
             }
            },
            "header": {
             "fill": {
              "color": "#C8D4E3"
             },
             "line": {
              "color": "white"
             }
            },
            "type": "table"
           }
          ]
         },
         "layout": {
          "annotationdefaults": {
           "arrowcolor": "#2a3f5f",
           "arrowhead": 0,
           "arrowwidth": 1
          },
          "autotypenumbers": "strict",
          "coloraxis": {
           "colorbar": {
            "outlinewidth": 0,
            "ticks": ""
           }
          },
          "colorscale": {
           "diverging": [
            [
             0,
             "#8e0152"
            ],
            [
             0.1,
             "#c51b7d"
            ],
            [
             0.2,
             "#de77ae"
            ],
            [
             0.3,
             "#f1b6da"
            ],
            [
             0.4,
             "#fde0ef"
            ],
            [
             0.5,
             "#f7f7f7"
            ],
            [
             0.6,
             "#e6f5d0"
            ],
            [
             0.7,
             "#b8e186"
            ],
            [
             0.8,
             "#7fbc41"
            ],
            [
             0.9,
             "#4d9221"
            ],
            [
             1,
             "#276419"
            ]
           ],
           "sequential": [
            [
             0,
             "#0d0887"
            ],
            [
             0.1111111111111111,
             "#46039f"
            ],
            [
             0.2222222222222222,
             "#7201a8"
            ],
            [
             0.3333333333333333,
             "#9c179e"
            ],
            [
             0.4444444444444444,
             "#bd3786"
            ],
            [
             0.5555555555555556,
             "#d8576b"
            ],
            [
             0.6666666666666666,
             "#ed7953"
            ],
            [
             0.7777777777777778,
             "#fb9f3a"
            ],
            [
             0.8888888888888888,
             "#fdca26"
            ],
            [
             1,
             "#f0f921"
            ]
           ],
           "sequentialminus": [
            [
             0,
             "#0d0887"
            ],
            [
             0.1111111111111111,
             "#46039f"
            ],
            [
             0.2222222222222222,
             "#7201a8"
            ],
            [
             0.3333333333333333,
             "#9c179e"
            ],
            [
             0.4444444444444444,
             "#bd3786"
            ],
            [
             0.5555555555555556,
             "#d8576b"
            ],
            [
             0.6666666666666666,
             "#ed7953"
            ],
            [
             0.7777777777777778,
             "#fb9f3a"
            ],
            [
             0.8888888888888888,
             "#fdca26"
            ],
            [
             1,
             "#f0f921"
            ]
           ]
          },
          "colorway": [
           "#636efa",
           "#EF553B",
           "#00cc96",
           "#ab63fa",
           "#FFA15A",
           "#19d3f3",
           "#FF6692",
           "#B6E880",
           "#FF97FF",
           "#FECB52"
          ],
          "font": {
           "color": "#2a3f5f"
          },
          "geo": {
           "bgcolor": "white",
           "lakecolor": "white",
           "landcolor": "#E5ECF6",
           "showlakes": true,
           "showland": true,
           "subunitcolor": "white"
          },
          "hoverlabel": {
           "align": "left"
          },
          "hovermode": "closest",
          "mapbox": {
           "style": "light"
          },
          "paper_bgcolor": "white",
          "plot_bgcolor": "#E5ECF6",
          "polar": {
           "angularaxis": {
            "gridcolor": "white",
            "linecolor": "white",
            "ticks": ""
           },
           "bgcolor": "#E5ECF6",
           "radialaxis": {
            "gridcolor": "white",
            "linecolor": "white",
            "ticks": ""
           }
          },
          "scene": {
           "xaxis": {
            "backgroundcolor": "#E5ECF6",
            "gridcolor": "white",
            "gridwidth": 2,
            "linecolor": "white",
            "showbackground": true,
            "ticks": "",
            "zerolinecolor": "white"
           },
           "yaxis": {
            "backgroundcolor": "#E5ECF6",
            "gridcolor": "white",
            "gridwidth": 2,
            "linecolor": "white",
            "showbackground": true,
            "ticks": "",
            "zerolinecolor": "white"
           },
           "zaxis": {
            "backgroundcolor": "#E5ECF6",
            "gridcolor": "white",
            "gridwidth": 2,
            "linecolor": "white",
            "showbackground": true,
            "ticks": "",
            "zerolinecolor": "white"
           }
          },
          "shapedefaults": {
           "line": {
            "color": "#2a3f5f"
           }
          },
          "ternary": {
           "aaxis": {
            "gridcolor": "white",
            "linecolor": "white",
            "ticks": ""
           },
           "baxis": {
            "gridcolor": "white",
            "linecolor": "white",
            "ticks": ""
           },
           "bgcolor": "#E5ECF6",
           "caxis": {
            "gridcolor": "white",
            "linecolor": "white",
            "ticks": ""
           }
          },
          "title": {
           "x": 0.05
          },
          "xaxis": {
           "automargin": true,
           "gridcolor": "white",
           "linecolor": "white",
           "ticks": "",
           "title": {
            "standoff": 15
           },
           "zerolinecolor": "white",
           "zerolinewidth": 2
          },
          "yaxis": {
           "automargin": true,
           "gridcolor": "white",
           "linecolor": "white",
           "ticks": "",
           "title": {
            "standoff": 15
           },
           "zerolinecolor": "white",
           "zerolinewidth": 2
          }
         }
        },
        "title": {
         "text": "PBMC IFN gamma dataset"
        },
        "width": 600,
        "xaxis": {
         "anchor": "y",
         "domain": [
          0,
          1
         ],
         "title": {
          "text": "x"
         }
        },
        "yaxis": {
         "anchor": "x",
         "domain": [
          0,
          1
         ],
         "title": {
          "text": "y"
         }
        }
       }
      }
     },
     "metadata": {},
     "output_type": "display_data"
    },
    {
     "data": {
      "application/vnd.plotly.v1+json": {
       "config": {
        "plotlyServerURL": "https://plot.ly"
       },
       "data": [
        {
         "hovertemplate": "color=stim<br>x=%{x}<br>y=%{y}<extra></extra>",
         "legendgroup": "stim",
         "marker": {
          "color": "#636efa",
          "size": 5,
          "symbol": "circle"
         },
         "mode": "markers",
         "name": "stim",
         "showlegend": true,
         "type": "scattergl",
         "x": {
          "bdata": "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",
          "dtype": "f8"
         },
         "xaxis": "x",
         "y": {
          "bdata": "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",
          "dtype": "f8"
         },
         "yaxis": "y"
        },
        {
         "hovertemplate": "color=ctrl<br>x=%{x}<br>y=%{y}<extra></extra>",
         "legendgroup": "ctrl",
         "marker": {
          "color": "#EF553B",
          "size": 5,
          "symbol": "circle"
         },
         "mode": "markers",
         "name": "ctrl",
         "showlegend": true,
         "type": "scattergl",
         "x": {
          "bdata": "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",
          "dtype": "f8"
         },
         "xaxis": "x",
         "y": {
          "bdata": "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",
          "dtype": "f8"
         },
         "yaxis": "y"
        }
       ],
       "layout": {
        "height": 600,
        "legend": {
         "title": {
          "text": "color"
         },
         "tracegroupgap": 0
        },
        "template": {
         "data": {
          "bar": [
           {
            "error_x": {
             "color": "#2a3f5f"
            },
            "error_y": {
             "color": "#2a3f5f"
            },
            "marker": {
             "line": {
              "color": "#E5ECF6",
              "width": 0.5
             },
             "pattern": {
              "fillmode": "overlay",
              "size": 10,
              "solidity": 0.2
             }
            },
            "type": "bar"
           }
          ],
          "barpolar": [
           {
            "marker": {
             "line": {
              "color": "#E5ECF6",
              "width": 0.5
             },
             "pattern": {
              "fillmode": "overlay",
              "size": 10,
              "solidity": 0.2
             }
            },
            "type": "barpolar"
           }
          ],
          "carpet": [
           {
            "aaxis": {
             "endlinecolor": "#2a3f5f",
             "gridcolor": "white",
             "linecolor": "white",
             "minorgridcolor": "white",
             "startlinecolor": "#2a3f5f"
            },
            "baxis": {
             "endlinecolor": "#2a3f5f",
             "gridcolor": "white",
             "linecolor": "white",
             "minorgridcolor": "white",
             "startlinecolor": "#2a3f5f"
            },
            "type": "carpet"
           }
          ],
          "choropleth": [
           {
            "colorbar": {
             "outlinewidth": 0,
             "ticks": ""
            },
            "type": "choropleth"
           }
          ],
          "contour": [
           {
            "colorbar": {
             "outlinewidth": 0,
             "ticks": ""
            },
            "colorscale": [
             [
              0,
              "#0d0887"
             ],
             [
              0.1111111111111111,
              "#46039f"
             ],
             [
              0.2222222222222222,
              "#7201a8"
             ],
             [
              0.3333333333333333,
              "#9c179e"
             ],
             [
              0.4444444444444444,
              "#bd3786"
             ],
             [
              0.5555555555555556,
              "#d8576b"
             ],
             [
              0.6666666666666666,
              "#ed7953"
             ],
             [
              0.7777777777777778,
              "#fb9f3a"
             ],
             [
              0.8888888888888888,
              "#fdca26"
             ],
             [
              1,
              "#f0f921"
             ]
            ],
            "type": "contour"
           }
          ],
          "contourcarpet": [
           {
            "colorbar": {
             "outlinewidth": 0,
             "ticks": ""
            },
            "type": "contourcarpet"
           }
          ],
          "heatmap": [
           {
            "colorbar": {
             "outlinewidth": 0,
             "ticks": ""
            },
            "colorscale": [
             [
              0,
              "#0d0887"
             ],
             [
              0.1111111111111111,
              "#46039f"
             ],
             [
              0.2222222222222222,
              "#7201a8"
             ],
             [
              0.3333333333333333,
              "#9c179e"
             ],
             [
              0.4444444444444444,
              "#bd3786"
             ],
             [
              0.5555555555555556,
              "#d8576b"
             ],
             [
              0.6666666666666666,
              "#ed7953"
             ],
             [
              0.7777777777777778,
              "#fb9f3a"
             ],
             [
              0.8888888888888888,
              "#fdca26"
             ],
             [
              1,
              "#f0f921"
             ]
            ],
            "type": "heatmap"
           }
          ],
          "histogram": [
           {
            "marker": {
             "pattern": {
              "fillmode": "overlay",
              "size": 10,
              "solidity": 0.2
             }
            },
            "type": "histogram"
           }
          ],
          "histogram2d": [
           {
            "colorbar": {
             "outlinewidth": 0,
             "ticks": ""
            },
            "colorscale": [
             [
              0,
              "#0d0887"
             ],
             [
              0.1111111111111111,
              "#46039f"
             ],
             [
              0.2222222222222222,
              "#7201a8"
             ],
             [
              0.3333333333333333,
              "#9c179e"
             ],
             [
              0.4444444444444444,
              "#bd3786"
             ],
             [
              0.5555555555555556,
              "#d8576b"
             ],
             [
              0.6666666666666666,
              "#ed7953"
             ],
             [
              0.7777777777777778,
              "#fb9f3a"
             ],
             [
              0.8888888888888888,
              "#fdca26"
             ],
             [
              1,
              "#f0f921"
             ]
            ],
            "type": "histogram2d"
           }
          ],
          "histogram2dcontour": [
           {
            "colorbar": {
             "outlinewidth": 0,
             "ticks": ""
            },
            "colorscale": [
             [
              0,
              "#0d0887"
             ],
             [
              0.1111111111111111,
              "#46039f"
             ],
             [
              0.2222222222222222,
              "#7201a8"
             ],
             [
              0.3333333333333333,
              "#9c179e"
             ],
             [
              0.4444444444444444,
              "#bd3786"
             ],
             [
              0.5555555555555556,
              "#d8576b"
             ],
             [
              0.6666666666666666,
              "#ed7953"
             ],
             [
              0.7777777777777778,
              "#fb9f3a"
             ],
             [
              0.8888888888888888,
              "#fdca26"
             ],
             [
              1,
              "#f0f921"
             ]
            ],
            "type": "histogram2dcontour"
           }
          ],
          "mesh3d": [
           {
            "colorbar": {
             "outlinewidth": 0,
             "ticks": ""
            },
            "type": "mesh3d"
           }
          ],
          "parcoords": [
           {
            "line": {
             "colorbar": {
              "outlinewidth": 0,
              "ticks": ""
             }
            },
            "type": "parcoords"
           }
          ],
          "pie": [
           {
            "automargin": true,
            "type": "pie"
           }
          ],
          "scatter": [
           {
            "fillpattern": {
             "fillmode": "overlay",
             "size": 10,
             "solidity": 0.2
            },
            "type": "scatter"
           }
          ],
          "scatter3d": [
           {
            "line": {
             "colorbar": {
              "outlinewidth": 0,
              "ticks": ""
             }
            },
            "marker": {
             "colorbar": {
              "outlinewidth": 0,
              "ticks": ""
             }
            },
            "type": "scatter3d"
           }
          ],
          "scattercarpet": [
           {
            "marker": {
             "colorbar": {
              "outlinewidth": 0,
              "ticks": ""
             }
            },
            "type": "scattercarpet"
           }
          ],
          "scattergeo": [
           {
            "marker": {
             "colorbar": {
              "outlinewidth": 0,
              "ticks": ""
             }
            },
            "type": "scattergeo"
           }
          ],
          "scattergl": [
           {
            "marker": {
             "colorbar": {
              "outlinewidth": 0,
              "ticks": ""
             }
            },
            "type": "scattergl"
           }
          ],
          "scattermap": [
           {
            "marker": {
             "colorbar": {
              "outlinewidth": 0,
              "ticks": ""
             }
            },
            "type": "scattermap"
           }
          ],
          "scattermapbox": [
           {
            "marker": {
             "colorbar": {
              "outlinewidth": 0,
              "ticks": ""
             }
            },
            "type": "scattermapbox"
           }
          ],
          "scatterpolar": [
           {
            "marker": {
             "colorbar": {
              "outlinewidth": 0,
              "ticks": ""
             }
            },
            "type": "scatterpolar"
           }
          ],
          "scatterpolargl": [
           {
            "marker": {
             "colorbar": {
              "outlinewidth": 0,
              "ticks": ""
             }
            },
            "type": "scatterpolargl"
           }
          ],
          "scatterternary": [
           {
            "marker": {
             "colorbar": {
              "outlinewidth": 0,
              "ticks": ""
             }
            },
            "type": "scatterternary"
           }
          ],
          "surface": [
           {
            "colorbar": {
             "outlinewidth": 0,
             "ticks": ""
            },
            "colorscale": [
             [
              0,
              "#0d0887"
             ],
             [
              0.1111111111111111,
              "#46039f"
             ],
             [
              0.2222222222222222,
              "#7201a8"
             ],
             [
              0.3333333333333333,
              "#9c179e"
             ],
             [
              0.4444444444444444,
              "#bd3786"
             ],
             [
              0.5555555555555556,
              "#d8576b"
             ],
             [
              0.6666666666666666,
              "#ed7953"
             ],
             [
              0.7777777777777778,
              "#fb9f3a"
             ],
             [
              0.8888888888888888,
              "#fdca26"
             ],
             [
              1,
              "#f0f921"
             ]
            ],
            "type": "surface"
           }
          ],
          "table": [
           {
            "cells": {
             "fill": {
              "color": "#EBF0F8"
             },
             "line": {
              "color": "white"
             }
            },
            "header": {
             "fill": {
              "color": "#C8D4E3"
             },
             "line": {
              "color": "white"
             }
            },
            "type": "table"
           }
          ]
         },
         "layout": {
          "annotationdefaults": {
           "arrowcolor": "#2a3f5f",
           "arrowhead": 0,
           "arrowwidth": 1
          },
          "autotypenumbers": "strict",
          "coloraxis": {
           "colorbar": {
            "outlinewidth": 0,
            "ticks": ""
           }
          },
          "colorscale": {
           "diverging": [
            [
             0,
             "#8e0152"
            ],
            [
             0.1,
             "#c51b7d"
            ],
            [
             0.2,
             "#de77ae"
            ],
            [
             0.3,
             "#f1b6da"
            ],
            [
             0.4,
             "#fde0ef"
            ],
            [
             0.5,
             "#f7f7f7"
            ],
            [
             0.6,
             "#e6f5d0"
            ],
            [
             0.7,
             "#b8e186"
            ],
            [
             0.8,
             "#7fbc41"
            ],
            [
             0.9,
             "#4d9221"
            ],
            [
             1,
             "#276419"
            ]
           ],
           "sequential": [
            [
             0,
             "#0d0887"
            ],
            [
             0.1111111111111111,
             "#46039f"
            ],
            [
             0.2222222222222222,
             "#7201a8"
            ],
            [
             0.3333333333333333,
             "#9c179e"
            ],
            [
             0.4444444444444444,
             "#bd3786"
            ],
            [
             0.5555555555555556,
             "#d8576b"
            ],
            [
             0.6666666666666666,
             "#ed7953"
            ],
            [
             0.7777777777777778,
             "#fb9f3a"
            ],
            [
             0.8888888888888888,
             "#fdca26"
            ],
            [
             1,
             "#f0f921"
            ]
           ],
           "sequentialminus": [
            [
             0,
             "#0d0887"
            ],
            [
             0.1111111111111111,
             "#46039f"
            ],
            [
             0.2222222222222222,
             "#7201a8"
            ],
            [
             0.3333333333333333,
             "#9c179e"
            ],
            [
             0.4444444444444444,
             "#bd3786"
            ],
            [
             0.5555555555555556,
             "#d8576b"
            ],
            [
             0.6666666666666666,
             "#ed7953"
            ],
            [
             0.7777777777777778,
             "#fb9f3a"
            ],
            [
             0.8888888888888888,
             "#fdca26"
            ],
            [
             1,
             "#f0f921"
            ]
           ]
          },
          "colorway": [
           "#636efa",
           "#EF553B",
           "#00cc96",
           "#ab63fa",
           "#FFA15A",
           "#19d3f3",
           "#FF6692",
           "#B6E880",
           "#FF97FF",
           "#FECB52"
          ],
          "font": {
           "color": "#2a3f5f"
          },
          "geo": {
           "bgcolor": "white",
           "lakecolor": "white",
           "landcolor": "#E5ECF6",
           "showlakes": true,
           "showland": true,
           "subunitcolor": "white"
          },
          "hoverlabel": {
           "align": "left"
          },
          "hovermode": "closest",
          "mapbox": {
           "style": "light"
          },
          "paper_bgcolor": "white",
          "plot_bgcolor": "#E5ECF6",
          "polar": {
           "angularaxis": {
            "gridcolor": "white",
            "linecolor": "white",
            "ticks": ""
           },
           "bgcolor": "#E5ECF6",
           "radialaxis": {
            "gridcolor": "white",
            "linecolor": "white",
            "ticks": ""
           }
          },
          "scene": {
           "xaxis": {
            "backgroundcolor": "#E5ECF6",
            "gridcolor": "white",
            "gridwidth": 2,
            "linecolor": "white",
            "showbackground": true,
            "ticks": "",
            "zerolinecolor": "white"
           },
           "yaxis": {
            "backgroundcolor": "#E5ECF6",
            "gridcolor": "white",
            "gridwidth": 2,
            "linecolor": "white",
            "showbackground": true,
            "ticks": "",
            "zerolinecolor": "white"
           },
           "zaxis": {
            "backgroundcolor": "#E5ECF6",
            "gridcolor": "white",
            "gridwidth": 2,
            "linecolor": "white",
            "showbackground": true,
            "ticks": "",
            "zerolinecolor": "white"
           }
          },
          "shapedefaults": {
           "line": {
            "color": "#2a3f5f"
           }
          },
          "ternary": {
           "aaxis": {
            "gridcolor": "white",
            "linecolor": "white",
            "ticks": ""
           },
           "baxis": {
            "gridcolor": "white",
            "linecolor": "white",
            "ticks": ""
           },
           "bgcolor": "#E5ECF6",
           "caxis": {
            "gridcolor": "white",
            "linecolor": "white",
            "ticks": ""
           }
          },
          "title": {
           "x": 0.05
          },
          "xaxis": {
           "automargin": true,
           "gridcolor": "white",
           "linecolor": "white",
           "ticks": "",
           "title": {
            "standoff": 15
           },
           "zerolinecolor": "white",
           "zerolinewidth": 2
          },
          "yaxis": {
           "automargin": true,
           "gridcolor": "white",
           "linecolor": "white",
           "ticks": "",
           "title": {
            "standoff": 15
           },
           "zerolinecolor": "white",
           "zerolinewidth": 2
          }
         }
        },
        "title": {
         "text": "PBMC IFN gamma dataset"
        },
        "width": 600,
        "xaxis": {
         "anchor": "y",
         "domain": [
          0,
          1
         ],
         "title": {
          "text": "x"
         }
        },
        "yaxis": {
         "anchor": "x",
         "domain": [
          0,
          1
         ],
         "title": {
          "text": "y"
         }
        }
       }
      }
     },
     "metadata": {},
     "output_type": "display_data"
    }
   ],
   "source": [
    "for adata in [train_dataset.adata, val_dataset.adata]:\n",
    "    fig = px.scatter(\n",
    "        x=adata.obsm[\"X_pca\"][:, 0],\n",
    "        y=adata.obsm[\"X_pca\"][:, 1],\n",
    "        color=adata.obs[class_key],\n",
    "        title=\"PBMC IFN gamma dataset\",\n",
    "        width=600,\n",
    "        height=600,\n",
    "    )\n",
    "    fig.update_traces(marker=dict(size=5))\n",
    "    fig.show()"
   ]
  },
  {
   "cell_type": "markdown",
   "id": "f5936d43",
   "metadata": {},
   "source": [
    "# Train model"
   ]
  },
  {
   "cell_type": "code",
   "execution_count": 23,
   "id": "cb25f201",
   "metadata": {},
   "outputs": [],
   "source": [
    "n_genes = train_dataset.adata.shape[1]\n",
    "n_classes = train_dataset.adata.obs[class_key].nunique()\n",
    "\n",
    "d_hidden = 68\n",
    "n_epochs = 25\n",
    "lr = 1e-5"
   ]
  },
  {
   "cell_type": "code",
   "execution_count": 24,
   "id": "be156a7f",
   "metadata": {},
   "outputs": [
    {
     "name": "stderr",
     "output_type": "stream",
     "text": [
      "Training for 25 epochs: 100%|██████████| 25/25 [01:08<00:00,  2.72s/it, train_acc=1.0000, train_loss=0.0014, val_acc=0.9878, val_loss=0.0360]\n"
     ]
    }
   ],
   "source": [
    "cfg = Config(\n",
    "    d_input=n_genes,\n",
    "    d_hidden=d_hidden,\n",
    "    d_output=n_classes,\n",
    "    n_epochs=n_epochs,\n",
    "    lr=lr,\n",
    "    device=DEVICE,\n",
    "    batch_size=32,\n",
    ")\n",
    "model = ScBMLPClassifier(cfg)\n",
    "train_losses, val_losses = model.fit(train_dataset, val_dataset)"
   ]
  },
  {
   "cell_type": "code",
   "execution_count": 25,
   "id": "058a59f6",
   "metadata": {},
   "outputs": [
    {
     "data": {
      "application/vnd.plotly.v1+json": {
       "config": {
        "plotlyServerURL": "https://plot.ly"
       },
       "data": [
        {
         "hovertemplate": "Type=Train<br>Epoch=%{x}<br>Loss=%{y}<extra></extra>",
         "legendgroup": "Train",
         "line": {
          "color": "#636efa",
          "dash": "solid"
         },
         "marker": {
          "symbol": "circle"
         },
         "mode": "lines",
         "name": "Train",
         "orientation": "v",
         "showlegend": true,
         "type": "scatter",
         "x": {
          "bdata": "AAECAwQFBgcICQoLDA0ODxAREhMUFRYXGA==",
          "dtype": "i1"
         },
         "xaxis": "x",
         "y": {
          "bdata": "AAAAwHzuwT8AAADgB6KoPwAAAAA+67I/AAAAwIYcgz8AAABgBJt6PwAAAADiJq4/AAAAAGRXgj8AAADA/QFPPwAAAEDT5YU/AAAAoNvxaz8AAACAOZBDPwAAAEBfHns/AAAAgHUAhD8AAADAvJGaPwAAAKDwP2k/AAAAAP26Uj8AAABgH1eYPwAAAGC8zWw/AAAAAFrWXz8AAAAAoYJIPwAAAIAxl5g/AAAAIB4APj8AAABgErJdPwAAAMBhE1k/AAAAAOV6Vz8=",
          "dtype": "f8"
         },
         "yaxis": "y"
        },
        {
         "hovertemplate": "Type=Validation<br>Epoch=%{x}<br>Loss=%{y}<extra></extra>",
         "legendgroup": "Validation",
         "line": {
          "color": "#EF553B",
          "dash": "solid"
         },
         "marker": {
          "symbol": "circle"
         },
         "mode": "lines",
         "name": "Validation",
         "orientation": "v",
         "showlegend": true,
         "type": "scatter",
         "x": {
          "bdata": "AAECAwQFBgcICQoLDA0ODxAREhMUFRYXGA==",
          "dtype": "i1"
         },
         "xaxis": "x",
         "y": {
          "bdata": "AAAAANt9wz8AAABACfawPwAAAKB9h6g/AAAAwGszpT8AAAAgWIyjPwAAACDOhaI/AAAAQL8joj8AAADgAPihPwAAAKBBeqE/AAAA4I3FoT8AAACgjIihPwAAAKBLpKE/AAAAIInCoT8AAAAAtp2hPwAAACDarKE/AAAA4I/VoT8AAACAACaiPwAAAICQQ6I/AAAAoPQmoj8AAADg/2yiPwAAAGBYWKI/AAAAwA1aoj8AAABAlWaiPwAAAECdaKI/AAAAgCxpoj8=",
          "dtype": "f8"
         },
         "yaxis": "y"
        }
       ],
       "layout": {
        "legend": {
         "title": {
          "text": "Type"
         },
         "tracegroupgap": 0
        },
        "template": {
         "data": {
          "bar": [
           {
            "error_x": {
             "color": "#2a3f5f"
            },
            "error_y": {
             "color": "#2a3f5f"
            },
            "marker": {
             "line": {
              "color": "#E5ECF6",
              "width": 0.5
             },
             "pattern": {
              "fillmode": "overlay",
              "size": 10,
              "solidity": 0.2
             }
            },
            "type": "bar"
           }
          ],
          "barpolar": [
           {
            "marker": {
             "line": {
              "color": "#E5ECF6",
              "width": 0.5
             },
             "pattern": {
              "fillmode": "overlay",
              "size": 10,
              "solidity": 0.2
             }
            },
            "type": "barpolar"
           }
          ],
          "carpet": [
           {
            "aaxis": {
             "endlinecolor": "#2a3f5f",
             "gridcolor": "white",
             "linecolor": "white",
             "minorgridcolor": "white",
             "startlinecolor": "#2a3f5f"
            },
            "baxis": {
             "endlinecolor": "#2a3f5f",
             "gridcolor": "white",
             "linecolor": "white",
             "minorgridcolor": "white",
             "startlinecolor": "#2a3f5f"
            },
            "type": "carpet"
           }
          ],
          "choropleth": [
           {
            "colorbar": {
             "outlinewidth": 0,
             "ticks": ""
            },
            "type": "choropleth"
           }
          ],
          "contour": [
           {
            "colorbar": {
             "outlinewidth": 0,
             "ticks": ""
            },
            "colorscale": [
             [
              0,
              "#0d0887"
             ],
             [
              0.1111111111111111,
              "#46039f"
             ],
             [
              0.2222222222222222,
              "#7201a8"
             ],
             [
              0.3333333333333333,
              "#9c179e"
             ],
             [
              0.4444444444444444,
              "#bd3786"
             ],
             [
              0.5555555555555556,
              "#d8576b"
             ],
             [
              0.6666666666666666,
              "#ed7953"
             ],
             [
              0.7777777777777778,
              "#fb9f3a"
             ],
             [
              0.8888888888888888,
              "#fdca26"
             ],
             [
              1,
              "#f0f921"
             ]
            ],
            "type": "contour"
           }
          ],
          "contourcarpet": [
           {
            "colorbar": {
             "outlinewidth": 0,
             "ticks": ""
            },
            "type": "contourcarpet"
           }
          ],
          "heatmap": [
           {
            "colorbar": {
             "outlinewidth": 0,
             "ticks": ""
            },
            "colorscale": [
             [
              0,
              "#0d0887"
             ],
             [
              0.1111111111111111,
              "#46039f"
             ],
             [
              0.2222222222222222,
              "#7201a8"
             ],
             [
              0.3333333333333333,
              "#9c179e"
             ],
             [
              0.4444444444444444,
              "#bd3786"
             ],
             [
              0.5555555555555556,
              "#d8576b"
             ],
             [
              0.6666666666666666,
              "#ed7953"
             ],
             [
              0.7777777777777778,
              "#fb9f3a"
             ],
             [
              0.8888888888888888,
              "#fdca26"
             ],
             [
              1,
              "#f0f921"
             ]
            ],
            "type": "heatmap"
           }
          ],
          "histogram": [
           {
            "marker": {
             "pattern": {
              "fillmode": "overlay",
              "size": 10,
              "solidity": 0.2
             }
            },
            "type": "histogram"
           }
          ],
          "histogram2d": [
           {
            "colorbar": {
             "outlinewidth": 0,
             "ticks": ""
            },
            "colorscale": [
             [
              0,
              "#0d0887"
             ],
             [
              0.1111111111111111,
              "#46039f"
             ],
             [
              0.2222222222222222,
              "#7201a8"
             ],
             [
              0.3333333333333333,
              "#9c179e"
             ],
             [
              0.4444444444444444,
              "#bd3786"
             ],
             [
              0.5555555555555556,
              "#d8576b"
             ],
             [
              0.6666666666666666,
              "#ed7953"
             ],
             [
              0.7777777777777778,
              "#fb9f3a"
             ],
             [
              0.8888888888888888,
              "#fdca26"
             ],
             [
              1,
              "#f0f921"
             ]
            ],
            "type": "histogram2d"
           }
          ],
          "histogram2dcontour": [
           {
            "colorbar": {
             "outlinewidth": 0,
             "ticks": ""
            },
            "colorscale": [
             [
              0,
              "#0d0887"
             ],
             [
              0.1111111111111111,
              "#46039f"
             ],
             [
              0.2222222222222222,
              "#7201a8"
             ],
             [
              0.3333333333333333,
              "#9c179e"
             ],
             [
              0.4444444444444444,
              "#bd3786"
             ],
             [
              0.5555555555555556,
              "#d8576b"
             ],
             [
              0.6666666666666666,
              "#ed7953"
             ],
             [
              0.7777777777777778,
              "#fb9f3a"
             ],
             [
              0.8888888888888888,
              "#fdca26"
             ],
             [
              1,
              "#f0f921"
             ]
            ],
            "type": "histogram2dcontour"
           }
          ],
          "mesh3d": [
           {
            "colorbar": {
             "outlinewidth": 0,
             "ticks": ""
            },
            "type": "mesh3d"
           }
          ],
          "parcoords": [
           {
            "line": {
             "colorbar": {
              "outlinewidth": 0,
              "ticks": ""
             }
            },
            "type": "parcoords"
           }
          ],
          "pie": [
           {
            "automargin": true,
            "type": "pie"
           }
          ],
          "scatter": [
           {
            "fillpattern": {
             "fillmode": "overlay",
             "size": 10,
             "solidity": 0.2
            },
            "type": "scatter"
           }
          ],
          "scatter3d": [
           {
            "line": {
             "colorbar": {
              "outlinewidth": 0,
              "ticks": ""
             }
            },
            "marker": {
             "colorbar": {
              "outlinewidth": 0,
              "ticks": ""
             }
            },
            "type": "scatter3d"
           }
          ],
          "scattercarpet": [
           {
            "marker": {
             "colorbar": {
              "outlinewidth": 0,
              "ticks": ""
             }
            },
            "type": "scattercarpet"
           }
          ],
          "scattergeo": [
           {
            "marker": {
             "colorbar": {
              "outlinewidth": 0,
              "ticks": ""
             }
            },
            "type": "scattergeo"
           }
          ],
          "scattergl": [
           {
            "marker": {
             "colorbar": {
              "outlinewidth": 0,
              "ticks": ""
             }
            },
            "type": "scattergl"
           }
          ],
          "scattermap": [
           {
            "marker": {
             "colorbar": {
              "outlinewidth": 0,
              "ticks": ""
             }
            },
            "type": "scattermap"
           }
          ],
          "scattermapbox": [
           {
            "marker": {
             "colorbar": {
              "outlinewidth": 0,
              "ticks": ""
             }
            },
            "type": "scattermapbox"
           }
          ],
          "scatterpolar": [
           {
            "marker": {
             "colorbar": {
              "outlinewidth": 0,
              "ticks": ""
             }
            },
            "type": "scatterpolar"
           }
          ],
          "scatterpolargl": [
           {
            "marker": {
             "colorbar": {
              "outlinewidth": 0,
              "ticks": ""
             }
            },
            "type": "scatterpolargl"
           }
          ],
          "scatterternary": [
           {
            "marker": {
             "colorbar": {
              "outlinewidth": 0,
              "ticks": ""
             }
            },
            "type": "scatterternary"
           }
          ],
          "surface": [
           {
            "colorbar": {
             "outlinewidth": 0,
             "ticks": ""
            },
            "colorscale": [
             [
              0,
              "#0d0887"
             ],
             [
              0.1111111111111111,
              "#46039f"
             ],
             [
              0.2222222222222222,
              "#7201a8"
             ],
             [
              0.3333333333333333,
              "#9c179e"
             ],
             [
              0.4444444444444444,
              "#bd3786"
             ],
             [
              0.5555555555555556,
              "#d8576b"
             ],
             [
              0.6666666666666666,
              "#ed7953"
             ],
             [
              0.7777777777777778,
              "#fb9f3a"
             ],
             [
              0.8888888888888888,
              "#fdca26"
             ],
             [
              1,
              "#f0f921"
             ]
            ],
            "type": "surface"
           }
          ],
          "table": [
           {
            "cells": {
             "fill": {
              "color": "#EBF0F8"
             },
             "line": {
              "color": "white"
             }
            },
            "header": {
             "fill": {
              "color": "#C8D4E3"
             },
             "line": {
              "color": "white"
             }
            },
            "type": "table"
           }
          ]
         },
         "layout": {
          "annotationdefaults": {
           "arrowcolor": "#2a3f5f",
           "arrowhead": 0,
           "arrowwidth": 1
          },
          "autotypenumbers": "strict",
          "coloraxis": {
           "colorbar": {
            "outlinewidth": 0,
            "ticks": ""
           }
          },
          "colorscale": {
           "diverging": [
            [
             0,
             "#8e0152"
            ],
            [
             0.1,
             "#c51b7d"
            ],
            [
             0.2,
             "#de77ae"
            ],
            [
             0.3,
             "#f1b6da"
            ],
            [
             0.4,
             "#fde0ef"
            ],
            [
             0.5,
             "#f7f7f7"
            ],
            [
             0.6,
             "#e6f5d0"
            ],
            [
             0.7,
             "#b8e186"
            ],
            [
             0.8,
             "#7fbc41"
            ],
            [
             0.9,
             "#4d9221"
            ],
            [
             1,
             "#276419"
            ]
           ],
           "sequential": [
            [
             0,
             "#0d0887"
            ],
            [
             0.1111111111111111,
             "#46039f"
            ],
            [
             0.2222222222222222,
             "#7201a8"
            ],
            [
             0.3333333333333333,
             "#9c179e"
            ],
            [
             0.4444444444444444,
             "#bd3786"
            ],
            [
             0.5555555555555556,
             "#d8576b"
            ],
            [
             0.6666666666666666,
             "#ed7953"
            ],
            [
             0.7777777777777778,
             "#fb9f3a"
            ],
            [
             0.8888888888888888,
             "#fdca26"
            ],
            [
             1,
             "#f0f921"
            ]
           ],
           "sequentialminus": [
            [
             0,
             "#0d0887"
            ],
            [
             0.1111111111111111,
             "#46039f"
            ],
            [
             0.2222222222222222,
             "#7201a8"
            ],
            [
             0.3333333333333333,
             "#9c179e"
            ],
            [
             0.4444444444444444,
             "#bd3786"
            ],
            [
             0.5555555555555556,
             "#d8576b"
            ],
            [
             0.6666666666666666,
             "#ed7953"
            ],
            [
             0.7777777777777778,
             "#fb9f3a"
            ],
            [
             0.8888888888888888,
             "#fdca26"
            ],
            [
             1,
             "#f0f921"
            ]
           ]
          },
          "colorway": [
           "#636efa",
           "#EF553B",
           "#00cc96",
           "#ab63fa",
           "#FFA15A",
           "#19d3f3",
           "#FF6692",
           "#B6E880",
           "#FF97FF",
           "#FECB52"
          ],
          "font": {
           "color": "#2a3f5f"
          },
          "geo": {
           "bgcolor": "white",
           "lakecolor": "white",
           "landcolor": "#E5ECF6",
           "showlakes": true,
           "showland": true,
           "subunitcolor": "white"
          },
          "hoverlabel": {
           "align": "left"
          },
          "hovermode": "closest",
          "mapbox": {
           "style": "light"
          },
          "paper_bgcolor": "white",
          "plot_bgcolor": "#E5ECF6",
          "polar": {
           "angularaxis": {
            "gridcolor": "white",
            "linecolor": "white",
            "ticks": ""
           },
           "bgcolor": "#E5ECF6",
           "radialaxis": {
            "gridcolor": "white",
            "linecolor": "white",
            "ticks": ""
           }
          },
          "scene": {
           "xaxis": {
            "backgroundcolor": "#E5ECF6",
            "gridcolor": "white",
            "gridwidth": 2,
            "linecolor": "white",
            "showbackground": true,
            "ticks": "",
            "zerolinecolor": "white"
           },
           "yaxis": {
            "backgroundcolor": "#E5ECF6",
            "gridcolor": "white",
            "gridwidth": 2,
            "linecolor": "white",
            "showbackground": true,
            "ticks": "",
            "zerolinecolor": "white"
           },
           "zaxis": {
            "backgroundcolor": "#E5ECF6",
            "gridcolor": "white",
            "gridwidth": 2,
            "linecolor": "white",
            "showbackground": true,
            "ticks": "",
            "zerolinecolor": "white"
           }
          },
          "shapedefaults": {
           "line": {
            "color": "#2a3f5f"
           }
          },
          "ternary": {
           "aaxis": {
            "gridcolor": "white",
            "linecolor": "white",
            "ticks": ""
           },
           "baxis": {
            "gridcolor": "white",
            "linecolor": "white",
            "ticks": ""
           },
           "bgcolor": "#E5ECF6",
           "caxis": {
            "gridcolor": "white",
            "linecolor": "white",
            "ticks": ""
           }
          },
          "title": {
           "x": 0.05
          },
          "xaxis": {
           "automargin": true,
           "gridcolor": "white",
           "linecolor": "white",
           "ticks": "",
           "title": {
            "standoff": 15
           },
           "zerolinecolor": "white",
           "zerolinewidth": 2
          },
          "yaxis": {
           "automargin": true,
           "gridcolor": "white",
           "linecolor": "white",
           "ticks": "",
           "title": {
            "standoff": 15
           },
           "zerolinecolor": "white",
           "zerolinewidth": 2
          }
         }
        },
        "title": {
         "text": "Training and Validation Loss"
        },
        "xaxis": {
         "anchor": "y",
         "domain": [
          0,
          1
         ],
         "title": {
          "text": "Epoch"
         }
        },
        "yaxis": {
         "anchor": "x",
         "domain": [
          0,
          1
         ],
         "title": {
          "text": "Loss"
         }
        }
       }
      }
     },
     "metadata": {},
     "output_type": "display_data"
    }
   ],
   "source": [
    "# Combine train and val losses into a single plot\n",
    "loss_df = pd.DataFrame({\n",
    "    'Epoch': list(range(len(train_losses))) + list(range(len(val_losses))),\n",
    "    'Loss': train_losses + val_losses,\n",
    "    'Type': ['Train'] * len(train_losses) + ['Validation'] * len(val_losses)\n",
    "})\n",
    "\n",
    "px.line(loss_df, x='Epoch', y='Loss', color='Type', \n",
    "        title='Training and Validation Loss', \n",
    "        labels={'Loss': 'Loss', 'Epoch': 'Epoch'}).show()"
   ]
  },
  {
   "cell_type": "markdown",
   "id": "a9919041",
   "metadata": {},
   "source": [
    "# Weight interpretation"
   ]
  },
  {
   "cell_type": "code",
   "execution_count": 26,
   "id": "96317f7c",
   "metadata": {},
   "outputs": [],
   "source": [
    "def get_marker_gene_lists(\n",
    "    gene_names: np.ndarray,\n",
    "    vecs: np.ndarray,\n",
    "    n_top_comps: int = 1,\n",
    "    n_top_genes: int = 50,\n",
    ") -> np.ndarray:\n",
    "    \"\"\"Extract marker genes optimized for GO analysis.\"\"\"\n",
    "    gene_lists = []\n",
    "    for i in range(n_top_comps):\n",
    "        top_idxs = vecs[:,i].topk(n_top_genes).indices\n",
    "        top_genes = gene_names[top_idxs].tolist()\n",
    "        bottom_idxs = (-vecs[:,i]).topk(n_top_genes).indices\n",
    "        bottom_genes = gene_names[bottom_idxs].tolist()\n",
    "        gene_lists.append([top_genes, bottom_genes])\n",
    "    return np.array(gene_lists)"
   ]
  },
  {
   "cell_type": "code",
   "execution_count": 27,
   "id": "6b7c26c7",
   "metadata": {},
   "outputs": [],
   "source": [
    "adata = sc.concat([train_dataset.adata, val_dataset.adata])"
   ]
  },
  {
   "cell_type": "markdown",
   "id": "41ce8a05",
   "metadata": {},
   "source": [
    "## Bilinear"
   ]
  },
  {
   "cell_type": "markdown",
   "id": "1a122454",
   "metadata": {},
   "source": [
    "### Gene markers"
   ]
  },
  {
   "cell_type": "code",
   "execution_count": 28,
   "id": "ec353863",
   "metadata": {},
   "outputs": [],
   "source": [
    "# Binary classification ==> output directions yield the same results\n",
    "q = einops.einsum(model.w_p[0], model.w_l, model.w_r, \"hid, hid in1, hid in2 -> in1 in2\")\n",
    "q = 0.5 * (q + q.mT)  # symmetrize"
   ]
  },
  {
   "cell_type": "code",
   "execution_count": 29,
   "id": "39debace",
   "metadata": {},
   "outputs": [],
   "source": [
    "# Eigendecompose to get gene module weights\n",
    "_, vecs_bmlp = torch.linalg.eigh(q)\n",
    "vecs_bmlp = vecs_bmlp.flip([1])"
   ]
  },
  {
   "cell_type": "code",
   "execution_count": null,
   "id": "dcf5fc5e",
   "metadata": {},
   "outputs": [],
   "source": [
    "# Get gene names per module (i.e. component; \"comp\")\n",
    "n_top_comps = 3\n",
    "n_top_genes = 20\n",
    "gene_names = adata.var_names.values\n",
    "gene_lists_bmlp = get_marker_gene_lists(\n",
    "    gene_names, vecs_bmlp, n_top_comps=n_top_comps, n_top_genes=n_top_genes\n",
    ")  # [comp, top/bottom, gene]"
   ]
  },
  {
   "cell_type": "code",
   "execution_count": 30,
   "id": "628d2e92",
   "metadata": {},
   "outputs": [
    {
     "name": "stdout",
     "output_type": "stream",
     "text": [
      "==================== Component 0 ====================\n",
      "Top genes: ['IFI6' 'ISG15' 'IFIT3' 'LAG3' 'IFIT1' 'LY6E' 'IFI44' 'ISG20']...\n",
      "Bottom genes: ['ARL6IP5' 'EEF1A1' 'RPL6' 'FTH1' 'EIF3D' 'BTG1' 'VIM' 'STK17A']...\n",
      "==================== Component 1 ====================\n",
      "Top genes: ['MT2A' 'DDX6' 'NCL' 'USE1' 'ACAP1' 'PARL' 'DSTYK' 'EEF1B2']...\n",
      "Bottom genes: ['FGL2' 'SERTAD1' 'CST3' 'ZXDC' 'DNTTIP2' 'SNX6' 'PARP6' 'ARIH2']...\n",
      "==================== Component 2 ====================\n",
      "Top genes: ['COX7C' 'CBY1' 'PITHD1' 'FZR1' 'UQCRC2' 'GLIPR1' 'NR1D2' 'FEM1A']...\n",
      "Bottom genes: ['SEPHS1' 'DCUN1D1' 'PSME2' 'LSR' 'CXCL10' 'MPPE1' 'LGALS9' 'GPR183']...\n"
     ]
    }
   ],
   "source": [
    "for i in range(n_top_comps):\n",
    "    print(\"=\"*20, \"Component\", i, \"=\"*20)\n",
    "    print(f\"Top genes: {gene_lists_bmlp[i,0,:8]}...\")\n",
    "    print(f\"Bottom genes: {gene_lists_bmlp[i,1,:8]}...\")"
   ]
  },
  {
   "cell_type": "markdown",
   "id": "5aa55605",
   "metadata": {},
   "source": [
    "### GO analysis"
   ]
  },
  {
   "cell_type": "code",
   "execution_count": 35,
   "id": "c3b9568b",
   "metadata": {},
   "outputs": [
    {
     "name": "stdout",
     "output_type": "stream",
     "text": [
      "======================================== Component 0 ========================================\n"
     ]
    },
    {
     "data": {
      "text/html": [
       "<div>\n",
       "<style scoped>\n",
       "    .dataframe tbody tr th:only-of-type {\n",
       "        vertical-align: middle;\n",
       "    }\n",
       "\n",
       "    .dataframe tbody tr th {\n",
       "        vertical-align: top;\n",
       "    }\n",
       "\n",
       "    .dataframe thead th {\n",
       "        text-align: right;\n",
       "    }\n",
       "</style>\n",
       "<table border=\"1\" class=\"dataframe\">\n",
       "  <thead>\n",
       "    <tr style=\"text-align: right;\">\n",
       "      <th></th>\n",
       "      <th>Term</th>\n",
       "      <th>Genes</th>\n",
       "      <th>Gene_set</th>\n",
       "      <th>Adjusted P-value</th>\n",
       "    </tr>\n",
       "  </thead>\n",
       "  <tbody>\n",
       "    <tr>\n",
       "      <th>0</th>\n",
       "      <td>Interferon Alpha/Beta Signaling R-HSA-909733</td>\n",
       "      <td>ISG20;OAS1;STAT1;OAS3;MX1;IFI6;ISG15;IFIT1;IFI...</td>\n",
       "      <td>Reactome_2022</td>\n",
       "      <td>3.349047e-18</td>\n",
       "    </tr>\n",
       "    <tr>\n",
       "      <th>1</th>\n",
       "      <td>Interferon Signaling R-HSA-913531</td>\n",
       "      <td>ISG20;MT2A;OAS1;STAT1;OAS3;MX1;IFI6;EIF2AK2;IS...</td>\n",
       "      <td>Reactome_2022</td>\n",
       "      <td>4.121495e-18</td>\n",
       "    </tr>\n",
       "    <tr>\n",
       "      <th>2</th>\n",
       "      <td>Cytokine Signaling In Immune System R-HSA-1280215</td>\n",
       "      <td>ISG20;MT2A;OAS1;STAT1;OAS3;MX1;IFI6;EIF2AK2;IS...</td>\n",
       "      <td>Reactome_2022</td>\n",
       "      <td>1.013465e-11</td>\n",
       "    </tr>\n",
       "    <tr>\n",
       "      <th>3</th>\n",
       "      <td>Antiviral Mechanism By IFN-stimulated Genes R-...</td>\n",
       "      <td>OAS1;STAT1;OAS3;MX1;EIF2AK2;ISG15;IFIT1</td>\n",
       "      <td>Reactome_2022</td>\n",
       "      <td>2.975361e-11</td>\n",
       "    </tr>\n",
       "    <tr>\n",
       "      <th>4</th>\n",
       "      <td>Immune System R-HSA-168256</td>\n",
       "      <td>LAG3;STAT1;MX1;IFI6;EIF2AK2;ISG15;IFIT1;IFIT3;...</td>\n",
       "      <td>Reactome_2022</td>\n",
       "      <td>5.216679e-08</td>\n",
       "    </tr>\n",
       "  </tbody>\n",
       "</table>\n",
       "</div>"
      ],
      "text/plain": [
       "                                                Term  \\\n",
       "0       Interferon Alpha/Beta Signaling R-HSA-909733   \n",
       "1                  Interferon Signaling R-HSA-913531   \n",
       "2  Cytokine Signaling In Immune System R-HSA-1280215   \n",
       "3  Antiviral Mechanism By IFN-stimulated Genes R-...   \n",
       "4                         Immune System R-HSA-168256   \n",
       "\n",
       "                                               Genes       Gene_set  \\\n",
       "0  ISG20;OAS1;STAT1;OAS3;MX1;IFI6;ISG15;IFIT1;IFI...  Reactome_2022   \n",
       "1  ISG20;MT2A;OAS1;STAT1;OAS3;MX1;IFI6;EIF2AK2;IS...  Reactome_2022   \n",
       "2  ISG20;MT2A;OAS1;STAT1;OAS3;MX1;IFI6;EIF2AK2;IS...  Reactome_2022   \n",
       "3            OAS1;STAT1;OAS3;MX1;EIF2AK2;ISG15;IFIT1  Reactome_2022   \n",
       "4  LAG3;STAT1;MX1;IFI6;EIF2AK2;ISG15;IFIT1;IFIT3;...  Reactome_2022   \n",
       "\n",
       "   Adjusted P-value  \n",
       "0      3.349047e-18  \n",
       "1      4.121495e-18  \n",
       "2      1.013465e-11  \n",
       "3      2.975361e-11  \n",
       "4      5.216679e-08  "
      ]
     },
     "metadata": {},
     "output_type": "display_data"
    },
    {
     "data": {
      "text/html": [
       "<div>\n",
       "<style scoped>\n",
       "    .dataframe tbody tr th:only-of-type {\n",
       "        vertical-align: middle;\n",
       "    }\n",
       "\n",
       "    .dataframe tbody tr th {\n",
       "        vertical-align: top;\n",
       "    }\n",
       "\n",
       "    .dataframe thead th {\n",
       "        text-align: right;\n",
       "    }\n",
       "</style>\n",
       "<table border=\"1\" class=\"dataframe\">\n",
       "  <thead>\n",
       "    <tr style=\"text-align: right;\">\n",
       "      <th></th>\n",
       "      <th>Term</th>\n",
       "      <th>Genes</th>\n",
       "      <th>Gene_set</th>\n",
       "      <th>Adjusted P-value</th>\n",
       "    </tr>\n",
       "  </thead>\n",
       "  <tbody>\n",
       "    <tr>\n",
       "      <th>0</th>\n",
       "      <td>Translation R-HSA-72766</td>\n",
       "      <td>EEF1A1;RPS25;EEF1D;EIF3L;EIF3D;RPL6;RPL7</td>\n",
       "      <td>Reactome_2022</td>\n",
       "      <td>6.250253e-07</td>\n",
       "    </tr>\n",
       "    <tr>\n",
       "      <th>1</th>\n",
       "      <td>Eukaryotic Translation Elongation R-HSA-156842</td>\n",
       "      <td>EEF1A1;RPS25;EEF1D;RPL6;RPL7</td>\n",
       "      <td>Reactome_2022</td>\n",
       "      <td>1.139117e-06</td>\n",
       "    </tr>\n",
       "    <tr>\n",
       "      <th>2</th>\n",
       "      <td>Formation Of A Pool Of Free 40S Subunits R-HSA...</td>\n",
       "      <td>RPS25;EIF3L;EIF3D;RPL6;RPL7</td>\n",
       "      <td>Reactome_2022</td>\n",
       "      <td>1.167590e-06</td>\n",
       "    </tr>\n",
       "    <tr>\n",
       "      <th>3</th>\n",
       "      <td>L13a-mediated Translational Silencing Of Cerul...</td>\n",
       "      <td>RPS25;EIF3L;EIF3D;RPL6;RPL7</td>\n",
       "      <td>Reactome_2022</td>\n",
       "      <td>1.196904e-06</td>\n",
       "    </tr>\n",
       "    <tr>\n",
       "      <th>4</th>\n",
       "      <td>GTP Hydrolysis And Joining Of 60S Ribosomal Su...</td>\n",
       "      <td>RPS25;EIF3L;EIF3D;RPL6;RPL7</td>\n",
       "      <td>Reactome_2022</td>\n",
       "      <td>1.196904e-06</td>\n",
       "    </tr>\n",
       "  </tbody>\n",
       "</table>\n",
       "</div>"
      ],
      "text/plain": [
       "                                                Term  \\\n",
       "0                            Translation R-HSA-72766   \n",
       "1     Eukaryotic Translation Elongation R-HSA-156842   \n",
       "2  Formation Of A Pool Of Free 40S Subunits R-HSA...   \n",
       "3  L13a-mediated Translational Silencing Of Cerul...   \n",
       "4  GTP Hydrolysis And Joining Of 60S Ribosomal Su...   \n",
       "\n",
       "                                      Genes       Gene_set  Adjusted P-value  \n",
       "0  EEF1A1;RPS25;EEF1D;EIF3L;EIF3D;RPL6;RPL7  Reactome_2022      6.250253e-07  \n",
       "1              EEF1A1;RPS25;EEF1D;RPL6;RPL7  Reactome_2022      1.139117e-06  \n",
       "2               RPS25;EIF3L;EIF3D;RPL6;RPL7  Reactome_2022      1.167590e-06  \n",
       "3               RPS25;EIF3L;EIF3D;RPL6;RPL7  Reactome_2022      1.196904e-06  \n",
       "4               RPS25;EIF3L;EIF3D;RPL6;RPL7  Reactome_2022      1.196904e-06  "
      ]
     },
     "metadata": {},
     "output_type": "display_data"
    },
    {
     "name": "stdout",
     "output_type": "stream",
     "text": [
      "======================================== Component 1 ========================================\n"
     ]
    },
    {
     "data": {
      "text/html": [
       "<div>\n",
       "<style scoped>\n",
       "    .dataframe tbody tr th:only-of-type {\n",
       "        vertical-align: middle;\n",
       "    }\n",
       "\n",
       "    .dataframe tbody tr th {\n",
       "        vertical-align: top;\n",
       "    }\n",
       "\n",
       "    .dataframe thead th {\n",
       "        text-align: right;\n",
       "    }\n",
       "</style>\n",
       "<table border=\"1\" class=\"dataframe\">\n",
       "  <thead>\n",
       "    <tr style=\"text-align: right;\">\n",
       "      <th></th>\n",
       "      <th>Term</th>\n",
       "      <th>Genes</th>\n",
       "      <th>Gene_set</th>\n",
       "      <th>Adjusted P-value</th>\n",
       "    </tr>\n",
       "  </thead>\n",
       "  <tbody>\n",
       "    <tr>\n",
       "      <th>0</th>\n",
       "      <td>Metallothioneins Bind Metals R-HSA-5661231</td>\n",
       "      <td>MT2A</td>\n",
       "      <td>Reactome_2022</td>\n",
       "      <td>0.099573</td>\n",
       "    </tr>\n",
       "    <tr>\n",
       "      <th>1</th>\n",
       "      <td>Response To Metal Ions R-HSA-5660526</td>\n",
       "      <td>MT2A</td>\n",
       "      <td>Reactome_2022</td>\n",
       "      <td>0.099573</td>\n",
       "    </tr>\n",
       "    <tr>\n",
       "      <th>2</th>\n",
       "      <td>mRNA Decay By 5 To 3 Exoribonuclease R-HSA-430039</td>\n",
       "      <td>DDX6</td>\n",
       "      <td>Reactome_2022</td>\n",
       "      <td>0.099573</td>\n",
       "    </tr>\n",
       "    <tr>\n",
       "      <th>3</th>\n",
       "      <td>Response Of EIF2AK1 (HRI) To Heme Deficiency R...</td>\n",
       "      <td>EIF2AK1</td>\n",
       "      <td>Reactome_2022</td>\n",
       "      <td>0.099573</td>\n",
       "    </tr>\n",
       "    <tr>\n",
       "      <th>4</th>\n",
       "      <td>Processing Of SMDT1 R-HSA-8949664</td>\n",
       "      <td>PARL</td>\n",
       "      <td>Reactome_2022</td>\n",
       "      <td>0.099573</td>\n",
       "    </tr>\n",
       "  </tbody>\n",
       "</table>\n",
       "</div>"
      ],
      "text/plain": [
       "                                                Term    Genes       Gene_set  \\\n",
       "0         Metallothioneins Bind Metals R-HSA-5661231     MT2A  Reactome_2022   \n",
       "1               Response To Metal Ions R-HSA-5660526     MT2A  Reactome_2022   \n",
       "2  mRNA Decay By 5 To 3 Exoribonuclease R-HSA-430039     DDX6  Reactome_2022   \n",
       "3  Response Of EIF2AK1 (HRI) To Heme Deficiency R...  EIF2AK1  Reactome_2022   \n",
       "4                  Processing Of SMDT1 R-HSA-8949664     PARL  Reactome_2022   \n",
       "\n",
       "   Adjusted P-value  \n",
       "0          0.099573  \n",
       "1          0.099573  \n",
       "2          0.099573  \n",
       "3          0.099573  \n",
       "4          0.099573  "
      ]
     },
     "metadata": {},
     "output_type": "display_data"
    },
    {
     "data": {
      "text/html": [
       "<div>\n",
       "<style scoped>\n",
       "    .dataframe tbody tr th:only-of-type {\n",
       "        vertical-align: middle;\n",
       "    }\n",
       "\n",
       "    .dataframe tbody tr th {\n",
       "        vertical-align: top;\n",
       "    }\n",
       "\n",
       "    .dataframe thead th {\n",
       "        text-align: right;\n",
       "    }\n",
       "</style>\n",
       "<table border=\"1\" class=\"dataframe\">\n",
       "  <thead>\n",
       "    <tr style=\"text-align: right;\">\n",
       "      <th></th>\n",
       "      <th>Term</th>\n",
       "      <th>Genes</th>\n",
       "      <th>Gene_set</th>\n",
       "      <th>Adjusted P-value</th>\n",
       "    </tr>\n",
       "  </thead>\n",
       "  <tbody>\n",
       "    <tr>\n",
       "      <th>0</th>\n",
       "      <td>Post-translational Protein Phosphorylation R-H...</td>\n",
       "      <td>CST3;MIA3</td>\n",
       "      <td>Reactome_2022</td>\n",
       "      <td>0.122784</td>\n",
       "    </tr>\n",
       "    <tr>\n",
       "      <th>1</th>\n",
       "      <td>Regulation Of IGF Transport And Uptake By IGFB...</td>\n",
       "      <td>CST3;MIA3</td>\n",
       "      <td>Reactome_2022</td>\n",
       "      <td>0.122784</td>\n",
       "    </tr>\n",
       "    <tr>\n",
       "      <th>2</th>\n",
       "      <td>Aryl Hydrocarbon Receptor Signaling R-HSA-8937144</td>\n",
       "      <td>MIA3</td>\n",
       "      <td>Reactome_2022</td>\n",
       "      <td>0.122784</td>\n",
       "    </tr>\n",
       "    <tr>\n",
       "      <th>3</th>\n",
       "      <td>SLBP Independent Processing Of Histone Pre-mRN...</td>\n",
       "      <td>LSM10</td>\n",
       "      <td>Reactome_2022</td>\n",
       "      <td>0.122784</td>\n",
       "    </tr>\n",
       "    <tr>\n",
       "      <th>4</th>\n",
       "      <td>Regulation Of Gene Expression By Hypoxia-induc...</td>\n",
       "      <td>MIA3</td>\n",
       "      <td>Reactome_2022</td>\n",
       "      <td>0.122784</td>\n",
       "    </tr>\n",
       "  </tbody>\n",
       "</table>\n",
       "</div>"
      ],
      "text/plain": [
       "                                                Term      Genes  \\\n",
       "0  Post-translational Protein Phosphorylation R-H...  CST3;MIA3   \n",
       "1  Regulation Of IGF Transport And Uptake By IGFB...  CST3;MIA3   \n",
       "2  Aryl Hydrocarbon Receptor Signaling R-HSA-8937144       MIA3   \n",
       "3  SLBP Independent Processing Of Histone Pre-mRN...      LSM10   \n",
       "4  Regulation Of Gene Expression By Hypoxia-induc...       MIA3   \n",
       "\n",
       "        Gene_set  Adjusted P-value  \n",
       "0  Reactome_2022          0.122784  \n",
       "1  Reactome_2022          0.122784  \n",
       "2  Reactome_2022          0.122784  \n",
       "3  Reactome_2022          0.122784  \n",
       "4  Reactome_2022          0.122784  "
      ]
     },
     "metadata": {},
     "output_type": "display_data"
    },
    {
     "name": "stdout",
     "output_type": "stream",
     "text": [
      "======================================== Component 2 ========================================\n"
     ]
    },
    {
     "data": {
      "text/html": [
       "<div>\n",
       "<style scoped>\n",
       "    .dataframe tbody tr th:only-of-type {\n",
       "        vertical-align: middle;\n",
       "    }\n",
       "\n",
       "    .dataframe tbody tr th {\n",
       "        vertical-align: top;\n",
       "    }\n",
       "\n",
       "    .dataframe thead th {\n",
       "        text-align: right;\n",
       "    }\n",
       "</style>\n",
       "<table border=\"1\" class=\"dataframe\">\n",
       "  <thead>\n",
       "    <tr style=\"text-align: right;\">\n",
       "      <th></th>\n",
       "      <th>Term</th>\n",
       "      <th>Genes</th>\n",
       "      <th>Gene_set</th>\n",
       "      <th>Adjusted P-value</th>\n",
       "    </tr>\n",
       "  </thead>\n",
       "  <tbody>\n",
       "    <tr>\n",
       "      <th>0</th>\n",
       "      <td>Aberrant Regulation Of Mitotic Cell Cycle Due ...</td>\n",
       "      <td>FZR1;CDK4</td>\n",
       "      <td>Reactome_2022</td>\n",
       "      <td>0.042157</td>\n",
       "    </tr>\n",
       "    <tr>\n",
       "      <th>1</th>\n",
       "      <td>Diseases Of Mitotic Cell Cycle R-HSA-9675126</td>\n",
       "      <td>FZR1;CDK4</td>\n",
       "      <td>Reactome_2022</td>\n",
       "      <td>0.042157</td>\n",
       "    </tr>\n",
       "    <tr>\n",
       "      <th>2</th>\n",
       "      <td>RNA Polymerase II Transcription R-HSA-73857</td>\n",
       "      <td>POMC;FZR1;CDK4;NABP2;NR1D2;COX7C</td>\n",
       "      <td>Reactome_2022</td>\n",
       "      <td>0.059051</td>\n",
       "    </tr>\n",
       "    <tr>\n",
       "      <th>3</th>\n",
       "      <td>Gene Expression (Transcription) R-HSA-74160</td>\n",
       "      <td>POMC;FZR1;CDK4;NABP2;NR1D2;COX7C</td>\n",
       "      <td>Reactome_2022</td>\n",
       "      <td>0.064346</td>\n",
       "    </tr>\n",
       "    <tr>\n",
       "      <th>4</th>\n",
       "      <td>Senescence-Associated Secretory Phenotype (SAS...</td>\n",
       "      <td>FZR1;CDK4</td>\n",
       "      <td>Reactome_2022</td>\n",
       "      <td>0.064346</td>\n",
       "    </tr>\n",
       "  </tbody>\n",
       "</table>\n",
       "</div>"
      ],
      "text/plain": [
       "                                                Term  \\\n",
       "0  Aberrant Regulation Of Mitotic Cell Cycle Due ...   \n",
       "1       Diseases Of Mitotic Cell Cycle R-HSA-9675126   \n",
       "2        RNA Polymerase II Transcription R-HSA-73857   \n",
       "3        Gene Expression (Transcription) R-HSA-74160   \n",
       "4  Senescence-Associated Secretory Phenotype (SAS...   \n",
       "\n",
       "                              Genes       Gene_set  Adjusted P-value  \n",
       "0                         FZR1;CDK4  Reactome_2022          0.042157  \n",
       "1                         FZR1;CDK4  Reactome_2022          0.042157  \n",
       "2  POMC;FZR1;CDK4;NABP2;NR1D2;COX7C  Reactome_2022          0.059051  \n",
       "3  POMC;FZR1;CDK4;NABP2;NR1D2;COX7C  Reactome_2022          0.064346  \n",
       "4                         FZR1;CDK4  Reactome_2022          0.064346  "
      ]
     },
     "metadata": {},
     "output_type": "display_data"
    },
    {
     "data": {
      "text/html": [
       "<div>\n",
       "<style scoped>\n",
       "    .dataframe tbody tr th:only-of-type {\n",
       "        vertical-align: middle;\n",
       "    }\n",
       "\n",
       "    .dataframe tbody tr th {\n",
       "        vertical-align: top;\n",
       "    }\n",
       "\n",
       "    .dataframe thead th {\n",
       "        text-align: right;\n",
       "    }\n",
       "</style>\n",
       "<table border=\"1\" class=\"dataframe\">\n",
       "  <thead>\n",
       "    <tr style=\"text-align: right;\">\n",
       "      <th></th>\n",
       "      <th>Term</th>\n",
       "      <th>Genes</th>\n",
       "      <th>Gene_set</th>\n",
       "      <th>Adjusted P-value</th>\n",
       "    </tr>\n",
       "  </thead>\n",
       "  <tbody>\n",
       "    <tr>\n",
       "      <th>0</th>\n",
       "      <td>Regulation Of Expression Of SLITs And ROBOs R-...</td>\n",
       "      <td>PSME2;RNPS1;RPL15</td>\n",
       "      <td>Reactome_2022</td>\n",
       "      <td>0.119211</td>\n",
       "    </tr>\n",
       "    <tr>\n",
       "      <th>1</th>\n",
       "      <td>Signaling By ROBO Receptors R-HSA-376176</td>\n",
       "      <td>PSME2;RNPS1;RPL15</td>\n",
       "      <td>Reactome_2022</td>\n",
       "      <td>0.119211</td>\n",
       "    </tr>\n",
       "    <tr>\n",
       "      <th>2</th>\n",
       "      <td>VLDL Clearance R-HSA-8964046</td>\n",
       "      <td>LSR</td>\n",
       "      <td>Reactome_2022</td>\n",
       "      <td>0.160475</td>\n",
       "    </tr>\n",
       "    <tr>\n",
       "      <th>3</th>\n",
       "      <td>RUNX1 Regulates Transcription Of Genes Involve...</td>\n",
       "      <td>ELOF1</td>\n",
       "      <td>Reactome_2022</td>\n",
       "      <td>0.160475</td>\n",
       "    </tr>\n",
       "    <tr>\n",
       "      <th>4</th>\n",
       "      <td>MECP2 Regulates Transcription Factors R-HSA-90...</td>\n",
       "      <td>MECP2</td>\n",
       "      <td>Reactome_2022</td>\n",
       "      <td>0.160475</td>\n",
       "    </tr>\n",
       "  </tbody>\n",
       "</table>\n",
       "</div>"
      ],
      "text/plain": [
       "                                                Term              Genes  \\\n",
       "0  Regulation Of Expression Of SLITs And ROBOs R-...  PSME2;RNPS1;RPL15   \n",
       "1           Signaling By ROBO Receptors R-HSA-376176  PSME2;RNPS1;RPL15   \n",
       "2                       VLDL Clearance R-HSA-8964046                LSR   \n",
       "3  RUNX1 Regulates Transcription Of Genes Involve...              ELOF1   \n",
       "4  MECP2 Regulates Transcription Factors R-HSA-90...              MECP2   \n",
       "\n",
       "        Gene_set  Adjusted P-value  \n",
       "0  Reactome_2022          0.119211  \n",
       "1  Reactome_2022          0.119211  \n",
       "2  Reactome_2022          0.160475  \n",
       "3  Reactome_2022          0.160475  \n",
       "4  Reactome_2022          0.160475  "
      ]
     },
     "metadata": {},
     "output_type": "display_data"
    }
   ],
   "source": [
    "n_results = 5\n",
    "results_cols = [\"Term\", \"Genes\", \"Gene_set\", \"Adjusted P-value\"]\n",
    "\n",
    "for comp in range(n_top_comps):\n",
    "    print(\"=\"*40, \"Component\", comp, \"=\"*40)\n",
    "    for i in range(2):\n",
    "        enr = gp.enrichr(\n",
    "            gene_list=gene_lists_bmlp[comp, i].tolist(),\n",
    "            gene_sets=[\n",
    "                # \"GO_Biological_Process_2023\",\n",
    "                # \"KEGG_2021_Human\",\n",
    "                \"Reactome_2022\"\n",
    "            ],\n",
    "            cutoff=0.05,\n",
    "        )\n",
    "        display(enr.results.head(n_results)[results_cols])"
   ]
  },
  {
   "cell_type": "markdown",
   "id": "9dd4118d",
   "metadata": {},
   "source": [
    "## PCA"
   ]
  },
  {
   "cell_type": "markdown",
   "id": "931713b7",
   "metadata": {},
   "source": [
    "### Gene markers"
   ]
  },
  {
   "cell_type": "code",
   "execution_count": 36,
   "id": "045d682b",
   "metadata": {},
   "outputs": [],
   "source": [
    "cov = adata.X.T @ adata.X\n",
    "cov = torch.tensor(cov.toarray()).to(DEVICE)"
   ]
  },
  {
   "cell_type": "code",
   "execution_count": 37,
   "id": "e1fe628e",
   "metadata": {},
   "outputs": [],
   "source": [
    "# Eigendecompose to get gene module weights\n",
    "_, vecs_cov = torch.linalg.eigh(cov)\n",
    "vecs_cov = vecs_cov.flip([1])"
   ]
  },
  {
   "cell_type": "code",
   "execution_count": 38,
   "id": "93075fe1",
   "metadata": {},
   "outputs": [],
   "source": [
    "# Get gene names per module (i.e. component; \"comp\")\n",
    "n_top_comps = 3\n",
    "n_top_genes = 20\n",
    "gene_names = adata.var_names.values\n",
    "gene_lists_cov = get_marker_gene_lists(\n",
    "    gene_names, vecs_cov, n_top_comps=n_top_comps, n_top_genes=n_top_genes\n",
    ")  # [comp, top/bottom, gene]"
   ]
  },
  {
   "cell_type": "code",
   "execution_count": 39,
   "id": "3d5c251f",
   "metadata": {},
   "outputs": [
    {
     "name": "stdout",
     "output_type": "stream",
     "text": [
      "==================== Component 0 ====================\n",
      "Top genes: ['HBD' 'NRP1' 'GUCY1A3' 'LINC00900' 'ARHGAP22' 'LIPN' 'RP11-262H14.1'\n",
      " 'IDO2']...\n",
      "Bottom genes: ['MALAT1' 'B2M' 'TMSB4X' 'FTH1' 'HLA-B' 'RPS2' 'RPL10' 'RPL13']...\n",
      "==================== Component 1 ====================\n",
      "Top genes: ['FTL' 'FTH1' 'TIMP1' 'ISG15' 'SOD2' 'CXCL10' 'C15orf48' 'CCL2']...\n",
      "Bottom genes: ['RPL3' 'RPS6' 'RPL21' 'RPS18' 'RPL7' 'RPL13A' 'RPS3' 'RPL13']...\n",
      "==================== Component 2 ====================\n",
      "Top genes: ['ISG15' 'ISG20' 'IFIT3' 'IFI6' 'CXCL10' 'IFIT1' 'LY6E' 'TNFSF10']...\n",
      "Bottom genes: ['FTH1' 'FTL' 'TIMP1' 'ACTB' 'IL8' 'GAPDH' 'PFN1' 'S100A8']...\n"
     ]
    }
   ],
   "source": [
    "for i in range(n_top_comps):\n",
    "    print(\"=\"*20, \"Component\", i, \"=\"*20)\n",
    "    print(f\"Top genes: {gene_lists_cov[i,0,:8]}...\")\n",
    "    print(f\"Bottom genes: {gene_lists_cov[i,1,:8]}...\")"
   ]
  },
  {
   "cell_type": "markdown",
   "id": "6ff3319c",
   "metadata": {},
   "source": [
    "### GO analysis"
   ]
  },
  {
   "cell_type": "code",
   "execution_count": 41,
   "id": "309cdc2b",
   "metadata": {},
   "outputs": [
    {
     "name": "stdout",
     "output_type": "stream",
     "text": [
      "======================================== Component 0 ========================================\n"
     ]
    },
    {
     "data": {
      "text/html": [
       "<div>\n",
       "<style scoped>\n",
       "    .dataframe tbody tr th:only-of-type {\n",
       "        vertical-align: middle;\n",
       "    }\n",
       "\n",
       "    .dataframe tbody tr th {\n",
       "        vertical-align: top;\n",
       "    }\n",
       "\n",
       "    .dataframe thead th {\n",
       "        text-align: right;\n",
       "    }\n",
       "</style>\n",
       "<table border=\"1\" class=\"dataframe\">\n",
       "  <thead>\n",
       "    <tr style=\"text-align: right;\">\n",
       "      <th></th>\n",
       "      <th>Term</th>\n",
       "      <th>Genes</th>\n",
       "      <th>Gene_set</th>\n",
       "      <th>Adjusted P-value</th>\n",
       "    </tr>\n",
       "  </thead>\n",
       "  <tbody>\n",
       "    <tr>\n",
       "      <th>0</th>\n",
       "      <td>Transport And Synthesis Of PAPS R-HSA-174362</td>\n",
       "      <td>PAPSS2</td>\n",
       "      <td>Reactome_2022</td>\n",
       "      <td>0.129487</td>\n",
       "    </tr>\n",
       "    <tr>\n",
       "      <th>1</th>\n",
       "      <td>CHL1 Interactions R-HSA-447041</td>\n",
       "      <td>NRP1</td>\n",
       "      <td>Reactome_2022</td>\n",
       "      <td>0.129487</td>\n",
       "    </tr>\n",
       "    <tr>\n",
       "      <th>2</th>\n",
       "      <td>Tryptophan Catabolism R-HSA-71240</td>\n",
       "      <td>IDO2</td>\n",
       "      <td>Reactome_2022</td>\n",
       "      <td>0.129487</td>\n",
       "    </tr>\n",
       "    <tr>\n",
       "      <th>3</th>\n",
       "      <td>SEMA3A-Plexin Repulsion Signaling By Inhibitin...</td>\n",
       "      <td>NRP1</td>\n",
       "      <td>Reactome_2022</td>\n",
       "      <td>0.129487</td>\n",
       "    </tr>\n",
       "    <tr>\n",
       "      <th>4</th>\n",
       "      <td>Glycogen Breakdown (Glycogenolysis) R-HSA-70221</td>\n",
       "      <td>PYGL</td>\n",
       "      <td>Reactome_2022</td>\n",
       "      <td>0.129487</td>\n",
       "    </tr>\n",
       "  </tbody>\n",
       "</table>\n",
       "</div>"
      ],
      "text/plain": [
       "                                                Term   Genes       Gene_set  \\\n",
       "0       Transport And Synthesis Of PAPS R-HSA-174362  PAPSS2  Reactome_2022   \n",
       "1                     CHL1 Interactions R-HSA-447041    NRP1  Reactome_2022   \n",
       "2                  Tryptophan Catabolism R-HSA-71240    IDO2  Reactome_2022   \n",
       "3  SEMA3A-Plexin Repulsion Signaling By Inhibitin...    NRP1  Reactome_2022   \n",
       "4    Glycogen Breakdown (Glycogenolysis) R-HSA-70221    PYGL  Reactome_2022   \n",
       "\n",
       "   Adjusted P-value  \n",
       "0          0.129487  \n",
       "1          0.129487  \n",
       "2          0.129487  \n",
       "3          0.129487  \n",
       "4          0.129487  "
      ]
     },
     "metadata": {},
     "output_type": "display_data"
    },
    {
     "data": {
      "text/html": [
       "<div>\n",
       "<style scoped>\n",
       "    .dataframe tbody tr th:only-of-type {\n",
       "        vertical-align: middle;\n",
       "    }\n",
       "\n",
       "    .dataframe tbody tr th {\n",
       "        vertical-align: top;\n",
       "    }\n",
       "\n",
       "    .dataframe thead th {\n",
       "        text-align: right;\n",
       "    }\n",
       "</style>\n",
       "<table border=\"1\" class=\"dataframe\">\n",
       "  <thead>\n",
       "    <tr style=\"text-align: right;\">\n",
       "      <th></th>\n",
       "      <th>Term</th>\n",
       "      <th>Genes</th>\n",
       "      <th>Gene_set</th>\n",
       "      <th>Adjusted P-value</th>\n",
       "    </tr>\n",
       "  </thead>\n",
       "  <tbody>\n",
       "    <tr>\n",
       "      <th>0</th>\n",
       "      <td>Peptide Chain Elongation R-HSA-156902</td>\n",
       "      <td>RPS4X;RPS14;RPL3;RPL21;RPL32;RPS19;RPLP1;RPS6;...</td>\n",
       "      <td>Reactome_2022</td>\n",
       "      <td>2.429517e-20</td>\n",
       "    </tr>\n",
       "    <tr>\n",
       "      <th>1</th>\n",
       "      <td>Selenocysteine Synthesis R-HSA-2408557</td>\n",
       "      <td>RPS4X;RPS14;RPL3;RPL21;RPL32;RPS19;RPLP1;RPS6;...</td>\n",
       "      <td>Reactome_2022</td>\n",
       "      <td>2.429517e-20</td>\n",
       "    </tr>\n",
       "    <tr>\n",
       "      <th>2</th>\n",
       "      <td>Viral mRNA Translation R-HSA-192823</td>\n",
       "      <td>RPS4X;RPS14;RPL3;RPL21;RPL32;RPS19;RPLP1;RPS6;...</td>\n",
       "      <td>Reactome_2022</td>\n",
       "      <td>2.429517e-20</td>\n",
       "    </tr>\n",
       "    <tr>\n",
       "      <th>3</th>\n",
       "      <td>Eukaryotic Translation Elongation R-HSA-156842</td>\n",
       "      <td>RPS4X;RPS14;RPL3;RPL21;RPL32;RPS19;RPLP1;RPS6;...</td>\n",
       "      <td>Reactome_2022</td>\n",
       "      <td>2.429517e-20</td>\n",
       "    </tr>\n",
       "    <tr>\n",
       "      <th>4</th>\n",
       "      <td>Eukaryotic Translation Termination R-HSA-72764</td>\n",
       "      <td>RPS4X;RPS14;RPL3;RPL21;RPL32;RPS19;RPLP1;RPS6;...</td>\n",
       "      <td>Reactome_2022</td>\n",
       "      <td>2.429517e-20</td>\n",
       "    </tr>\n",
       "  </tbody>\n",
       "</table>\n",
       "</div>"
      ],
      "text/plain": [
       "                                             Term  \\\n",
       "0           Peptide Chain Elongation R-HSA-156902   \n",
       "1          Selenocysteine Synthesis R-HSA-2408557   \n",
       "2             Viral mRNA Translation R-HSA-192823   \n",
       "3  Eukaryotic Translation Elongation R-HSA-156842   \n",
       "4  Eukaryotic Translation Termination R-HSA-72764   \n",
       "\n",
       "                                               Genes       Gene_set  \\\n",
       "0  RPS4X;RPS14;RPL3;RPL21;RPL32;RPS19;RPLP1;RPS6;...  Reactome_2022   \n",
       "1  RPS4X;RPS14;RPL3;RPL21;RPL32;RPS19;RPLP1;RPS6;...  Reactome_2022   \n",
       "2  RPS4X;RPS14;RPL3;RPL21;RPL32;RPS19;RPLP1;RPS6;...  Reactome_2022   \n",
       "3  RPS4X;RPS14;RPL3;RPL21;RPL32;RPS19;RPLP1;RPS6;...  Reactome_2022   \n",
       "4  RPS4X;RPS14;RPL3;RPL21;RPL32;RPS19;RPLP1;RPS6;...  Reactome_2022   \n",
       "\n",
       "   Adjusted P-value  \n",
       "0      2.429517e-20  \n",
       "1      2.429517e-20  \n",
       "2      2.429517e-20  \n",
       "3      2.429517e-20  \n",
       "4      2.429517e-20  "
      ]
     },
     "metadata": {},
     "output_type": "display_data"
    },
    {
     "name": "stdout",
     "output_type": "stream",
     "text": [
      "======================================== Component 1 ========================================\n"
     ]
    },
    {
     "data": {
      "text/html": [
       "<div>\n",
       "<style scoped>\n",
       "    .dataframe tbody tr th:only-of-type {\n",
       "        vertical-align: middle;\n",
       "    }\n",
       "\n",
       "    .dataframe tbody tr th {\n",
       "        vertical-align: top;\n",
       "    }\n",
       "\n",
       "    .dataframe thead th {\n",
       "        text-align: right;\n",
       "    }\n",
       "</style>\n",
       "<table border=\"1\" class=\"dataframe\">\n",
       "  <thead>\n",
       "    <tr style=\"text-align: right;\">\n",
       "      <th></th>\n",
       "      <th>Term</th>\n",
       "      <th>Genes</th>\n",
       "      <th>Gene_set</th>\n",
       "      <th>Adjusted P-value</th>\n",
       "    </tr>\n",
       "  </thead>\n",
       "  <tbody>\n",
       "    <tr>\n",
       "      <th>0</th>\n",
       "      <td>Immune System R-HSA-168256</td>\n",
       "      <td>IFITM3;CD63;CXCL10;TYROBP;FCER1G;FTH1;HLA-DRA;...</td>\n",
       "      <td>Reactome_2022</td>\n",
       "      <td>0.000003</td>\n",
       "    </tr>\n",
       "    <tr>\n",
       "      <th>1</th>\n",
       "      <td>Neutrophil Degranulation R-HSA-6798695</td>\n",
       "      <td>CD63;TYROBP;FCER1G;FTH1;S100A11;FTL</td>\n",
       "      <td>Reactome_2022</td>\n",
       "      <td>0.000194</td>\n",
       "    </tr>\n",
       "    <tr>\n",
       "      <th>2</th>\n",
       "      <td>Interleukin-10 Signaling R-HSA-6783783</td>\n",
       "      <td>CXCL10;CCL2;TIMP1</td>\n",
       "      <td>Reactome_2022</td>\n",
       "      <td>0.000327</td>\n",
       "    </tr>\n",
       "    <tr>\n",
       "      <th>3</th>\n",
       "      <td>Innate Immune System R-HSA-168249</td>\n",
       "      <td>CD63;TYROBP;FCER1G;FTH1;ISG15;S100A11;FTL</td>\n",
       "      <td>Reactome_2022</td>\n",
       "      <td>0.000773</td>\n",
       "    </tr>\n",
       "    <tr>\n",
       "      <th>4</th>\n",
       "      <td>Cytokine Signaling In Immune System R-HSA-1280215</td>\n",
       "      <td>IFITM3;CXCL10;HLA-DRA;CCL2;ISG15;TIMP1</td>\n",
       "      <td>Reactome_2022</td>\n",
       "      <td>0.000773</td>\n",
       "    </tr>\n",
       "  </tbody>\n",
       "</table>\n",
       "</div>"
      ],
      "text/plain": [
       "                                                Term  \\\n",
       "0                         Immune System R-HSA-168256   \n",
       "1             Neutrophil Degranulation R-HSA-6798695   \n",
       "2             Interleukin-10 Signaling R-HSA-6783783   \n",
       "3                  Innate Immune System R-HSA-168249   \n",
       "4  Cytokine Signaling In Immune System R-HSA-1280215   \n",
       "\n",
       "                                               Genes       Gene_set  \\\n",
       "0  IFITM3;CD63;CXCL10;TYROBP;FCER1G;FTH1;HLA-DRA;...  Reactome_2022   \n",
       "1                CD63;TYROBP;FCER1G;FTH1;S100A11;FTL  Reactome_2022   \n",
       "2                                  CXCL10;CCL2;TIMP1  Reactome_2022   \n",
       "3          CD63;TYROBP;FCER1G;FTH1;ISG15;S100A11;FTL  Reactome_2022   \n",
       "4             IFITM3;CXCL10;HLA-DRA;CCL2;ISG15;TIMP1  Reactome_2022   \n",
       "\n",
       "   Adjusted P-value  \n",
       "0          0.000003  \n",
       "1          0.000194  \n",
       "2          0.000327  \n",
       "3          0.000773  \n",
       "4          0.000773  "
      ]
     },
     "metadata": {},
     "output_type": "display_data"
    },
    {
     "data": {
      "text/html": [
       "<div>\n",
       "<style scoped>\n",
       "    .dataframe tbody tr th:only-of-type {\n",
       "        vertical-align: middle;\n",
       "    }\n",
       "\n",
       "    .dataframe tbody tr th {\n",
       "        vertical-align: top;\n",
       "    }\n",
       "\n",
       "    .dataframe thead th {\n",
       "        text-align: right;\n",
       "    }\n",
       "</style>\n",
       "<table border=\"1\" class=\"dataframe\">\n",
       "  <thead>\n",
       "    <tr style=\"text-align: right;\">\n",
       "      <th></th>\n",
       "      <th>Term</th>\n",
       "      <th>Genes</th>\n",
       "      <th>Gene_set</th>\n",
       "      <th>Adjusted P-value</th>\n",
       "    </tr>\n",
       "  </thead>\n",
       "  <tbody>\n",
       "    <tr>\n",
       "      <th>0</th>\n",
       "      <td>Peptide Chain Elongation R-HSA-156902</td>\n",
       "      <td>RPL3;RPL21;RPL32;RPL34;RPS5;RPS6;RPL13A;RPS3A;...</td>\n",
       "      <td>Reactome_2022</td>\n",
       "      <td>2.192849e-36</td>\n",
       "    </tr>\n",
       "    <tr>\n",
       "      <th>1</th>\n",
       "      <td>Viral mRNA Translation R-HSA-192823</td>\n",
       "      <td>RPL3;RPL21;RPL32;RPL34;RPS5;RPS6;RPL13A;RPS3A;...</td>\n",
       "      <td>Reactome_2022</td>\n",
       "      <td>2.192849e-36</td>\n",
       "    </tr>\n",
       "    <tr>\n",
       "      <th>2</th>\n",
       "      <td>Selenocysteine Synthesis R-HSA-2408557</td>\n",
       "      <td>RPL3;RPL21;RPL32;RPL34;RPS5;RPS6;RPL13A;RPS3A;...</td>\n",
       "      <td>Reactome_2022</td>\n",
       "      <td>2.192849e-36</td>\n",
       "    </tr>\n",
       "    <tr>\n",
       "      <th>3</th>\n",
       "      <td>Eukaryotic Translation Elongation R-HSA-156842</td>\n",
       "      <td>RPL3;RPL21;RPL32;RPL34;RPS5;RPS6;RPL13A;RPS3A;...</td>\n",
       "      <td>Reactome_2022</td>\n",
       "      <td>2.192849e-36</td>\n",
       "    </tr>\n",
       "    <tr>\n",
       "      <th>4</th>\n",
       "      <td>Eukaryotic Translation Termination R-HSA-72764</td>\n",
       "      <td>RPL3;RPL21;RPL32;RPL34;RPS5;RPS6;RPL13A;RPS3A;...</td>\n",
       "      <td>Reactome_2022</td>\n",
       "      <td>2.192849e-36</td>\n",
       "    </tr>\n",
       "  </tbody>\n",
       "</table>\n",
       "</div>"
      ],
      "text/plain": [
       "                                             Term  \\\n",
       "0           Peptide Chain Elongation R-HSA-156902   \n",
       "1             Viral mRNA Translation R-HSA-192823   \n",
       "2          Selenocysteine Synthesis R-HSA-2408557   \n",
       "3  Eukaryotic Translation Elongation R-HSA-156842   \n",
       "4  Eukaryotic Translation Termination R-HSA-72764   \n",
       "\n",
       "                                               Genes       Gene_set  \\\n",
       "0  RPL3;RPL21;RPL32;RPL34;RPS5;RPS6;RPL13A;RPS3A;...  Reactome_2022   \n",
       "1  RPL3;RPL21;RPL32;RPL34;RPS5;RPS6;RPL13A;RPS3A;...  Reactome_2022   \n",
       "2  RPL3;RPL21;RPL32;RPL34;RPS5;RPS6;RPL13A;RPS3A;...  Reactome_2022   \n",
       "3  RPL3;RPL21;RPL32;RPL34;RPS5;RPS6;RPL13A;RPS3A;...  Reactome_2022   \n",
       "4  RPL3;RPL21;RPL32;RPL34;RPS5;RPS6;RPL13A;RPS3A;...  Reactome_2022   \n",
       "\n",
       "   Adjusted P-value  \n",
       "0      2.192849e-36  \n",
       "1      2.192849e-36  \n",
       "2      2.192849e-36  \n",
       "3      2.192849e-36  \n",
       "4      2.192849e-36  "
      ]
     },
     "metadata": {},
     "output_type": "display_data"
    },
    {
     "name": "stdout",
     "output_type": "stream",
     "text": [
      "======================================== Component 2 ========================================\n"
     ]
    },
    {
     "data": {
      "text/html": [
       "<div>\n",
       "<style scoped>\n",
       "    .dataframe tbody tr th:only-of-type {\n",
       "        vertical-align: middle;\n",
       "    }\n",
       "\n",
       "    .dataframe tbody tr th {\n",
       "        vertical-align: top;\n",
       "    }\n",
       "\n",
       "    .dataframe thead th {\n",
       "        text-align: right;\n",
       "    }\n",
       "</style>\n",
       "<table border=\"1\" class=\"dataframe\">\n",
       "  <thead>\n",
       "    <tr style=\"text-align: right;\">\n",
       "      <th></th>\n",
       "      <th>Term</th>\n",
       "      <th>Genes</th>\n",
       "      <th>Gene_set</th>\n",
       "      <th>Adjusted P-value</th>\n",
       "    </tr>\n",
       "  </thead>\n",
       "  <tbody>\n",
       "    <tr>\n",
       "      <th>0</th>\n",
       "      <td>Interferon Alpha/Beta Signaling R-HSA-909733</td>\n",
       "      <td>IFITM3;ISG20;RSAD2;OAS1;MX1;IFI6;IRF7;ISG15;IF...</td>\n",
       "      <td>Reactome_2022</td>\n",
       "      <td>1.913127e-20</td>\n",
       "    </tr>\n",
       "    <tr>\n",
       "      <th>1</th>\n",
       "      <td>Interferon Signaling R-HSA-913531</td>\n",
       "      <td>IFITM3;ISG20;MT2A;RSAD2;OAS1;MX1;IFI6;IRF7;ISG...</td>\n",
       "      <td>Reactome_2022</td>\n",
       "      <td>8.327103e-18</td>\n",
       "    </tr>\n",
       "    <tr>\n",
       "      <th>2</th>\n",
       "      <td>Cytokine Signaling In Immune System R-HSA-1280215</td>\n",
       "      <td>IFITM3;RSAD2;MX1;IFI6;ISG15;IFIT1;IFIT3;IFIT2;...</td>\n",
       "      <td>Reactome_2022</td>\n",
       "      <td>7.983423e-15</td>\n",
       "    </tr>\n",
       "    <tr>\n",
       "      <th>3</th>\n",
       "      <td>Immune System R-HSA-168256</td>\n",
       "      <td>IFITM3;RSAD2;MX1;IFI6;ISG15;IFIT1;IFIT3;IFIT2;...</td>\n",
       "      <td>Reactome_2022</td>\n",
       "      <td>6.965282e-09</td>\n",
       "    </tr>\n",
       "    <tr>\n",
       "      <th>4</th>\n",
       "      <td>Antiviral Mechanism By IFN-stimulated Genes R-...</td>\n",
       "      <td>OAS1;MX1;ISG15;IFIT1</td>\n",
       "      <td>Reactome_2022</td>\n",
       "      <td>5.028582e-05</td>\n",
       "    </tr>\n",
       "  </tbody>\n",
       "</table>\n",
       "</div>"
      ],
      "text/plain": [
       "                                                Term  \\\n",
       "0       Interferon Alpha/Beta Signaling R-HSA-909733   \n",
       "1                  Interferon Signaling R-HSA-913531   \n",
       "2  Cytokine Signaling In Immune System R-HSA-1280215   \n",
       "3                         Immune System R-HSA-168256   \n",
       "4  Antiviral Mechanism By IFN-stimulated Genes R-...   \n",
       "\n",
       "                                               Genes       Gene_set  \\\n",
       "0  IFITM3;ISG20;RSAD2;OAS1;MX1;IFI6;IRF7;ISG15;IF...  Reactome_2022   \n",
       "1  IFITM3;ISG20;MT2A;RSAD2;OAS1;MX1;IFI6;IRF7;ISG...  Reactome_2022   \n",
       "2  IFITM3;RSAD2;MX1;IFI6;ISG15;IFIT1;IFIT3;IFIT2;...  Reactome_2022   \n",
       "3  IFITM3;RSAD2;MX1;IFI6;ISG15;IFIT1;IFIT3;IFIT2;...  Reactome_2022   \n",
       "4                               OAS1;MX1;ISG15;IFIT1  Reactome_2022   \n",
       "\n",
       "   Adjusted P-value  \n",
       "0      1.913127e-20  \n",
       "1      8.327103e-18  \n",
       "2      7.983423e-15  \n",
       "3      6.965282e-09  \n",
       "4      5.028582e-05  "
      ]
     },
     "metadata": {},
     "output_type": "display_data"
    },
    {
     "data": {
      "text/html": [
       "<div>\n",
       "<style scoped>\n",
       "    .dataframe tbody tr th:only-of-type {\n",
       "        vertical-align: middle;\n",
       "    }\n",
       "\n",
       "    .dataframe tbody tr th {\n",
       "        vertical-align: top;\n",
       "    }\n",
       "\n",
       "    .dataframe thead th {\n",
       "        text-align: right;\n",
       "    }\n",
       "</style>\n",
       "<table border=\"1\" class=\"dataframe\">\n",
       "  <thead>\n",
       "    <tr style=\"text-align: right;\">\n",
       "      <th></th>\n",
       "      <th>Term</th>\n",
       "      <th>Genes</th>\n",
       "      <th>Gene_set</th>\n",
       "      <th>Adjusted P-value</th>\n",
       "    </tr>\n",
       "  </thead>\n",
       "  <tbody>\n",
       "    <tr>\n",
       "      <th>0</th>\n",
       "      <td>Scavenging By Class A Receptors R-HSA-3000480</td>\n",
       "      <td>FTH1;FTL</td>\n",
       "      <td>Reactome_2022</td>\n",
       "      <td>0.007335</td>\n",
       "    </tr>\n",
       "    <tr>\n",
       "      <th>1</th>\n",
       "      <td>Platelet Degranulation R-HSA-114608</td>\n",
       "      <td>CD63;TIMP1;PFN1</td>\n",
       "      <td>Reactome_2022</td>\n",
       "      <td>0.007335</td>\n",
       "    </tr>\n",
       "    <tr>\n",
       "      <th>2</th>\n",
       "      <td>Response To Elevated Platelet Cytosolic Ca2+ R...</td>\n",
       "      <td>CD63;TIMP1;PFN1</td>\n",
       "      <td>Reactome_2022</td>\n",
       "      <td>0.007335</td>\n",
       "    </tr>\n",
       "    <tr>\n",
       "      <th>3</th>\n",
       "      <td>Binding And Uptake Of Ligands By Scavenger Rec...</td>\n",
       "      <td>FTH1;FTL</td>\n",
       "      <td>Reactome_2022</td>\n",
       "      <td>0.014840</td>\n",
       "    </tr>\n",
       "    <tr>\n",
       "      <th>4</th>\n",
       "      <td>Neutrophil Degranulation R-HSA-6798695</td>\n",
       "      <td>CD63;FTH1;S100A8;FTL</td>\n",
       "      <td>Reactome_2022</td>\n",
       "      <td>0.016198</td>\n",
       "    </tr>\n",
       "  </tbody>\n",
       "</table>\n",
       "</div>"
      ],
      "text/plain": [
       "                                                Term                 Genes  \\\n",
       "0      Scavenging By Class A Receptors R-HSA-3000480              FTH1;FTL   \n",
       "1                Platelet Degranulation R-HSA-114608       CD63;TIMP1;PFN1   \n",
       "2  Response To Elevated Platelet Cytosolic Ca2+ R...       CD63;TIMP1;PFN1   \n",
       "3  Binding And Uptake Of Ligands By Scavenger Rec...              FTH1;FTL   \n",
       "4             Neutrophil Degranulation R-HSA-6798695  CD63;FTH1;S100A8;FTL   \n",
       "\n",
       "        Gene_set  Adjusted P-value  \n",
       "0  Reactome_2022          0.007335  \n",
       "1  Reactome_2022          0.007335  \n",
       "2  Reactome_2022          0.007335  \n",
       "3  Reactome_2022          0.014840  \n",
       "4  Reactome_2022          0.016198  "
      ]
     },
     "metadata": {},
     "output_type": "display_data"
    }
   ],
   "source": [
    "n_results = 5\n",
    "results_cols = [\"Term\", \"Genes\", \"Gene_set\", \"Adjusted P-value\"]\n",
    "\n",
    "for comp in range(n_top_comps):\n",
    "    print(\"=\"*40, \"Component\", comp, \"=\"*40)\n",
    "    for i in range(2):\n",
    "        enr = gp.enrichr(\n",
    "            gene_list=gene_lists_cov[comp, i].tolist(),\n",
    "            gene_sets=[\n",
    "                # \"GO_Biological_Process_2023\",\n",
    "                # \"KEGG_2021_Human\",\n",
    "                \"Reactome_2022\"\n",
    "            ],\n",
    "            cutoff=0.05,\n",
    "        )\n",
    "        display(enr.results.head(n_results)[results_cols])"
   ]
  }
 ],
 "metadata": {
  "kernelspec": {
   "display_name": "perturb-env",
   "language": "python",
   "name": "python3"
  },
  "language_info": {
   "codemirror_mode": {
    "name": "ipython",
    "version": 3
   },
   "file_extension": ".py",
   "mimetype": "text/x-python",
   "name": "python",
   "nbconvert_exporter": "python",
   "pygments_lexer": "ipython3",
   "version": "3.13.6"
  }
 },
 "nbformat": 4,
 "nbformat_minor": 5
}
