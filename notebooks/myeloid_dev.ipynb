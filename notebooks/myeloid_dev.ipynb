{
 "cells": [
  {
   "cell_type": "markdown",
   "id": "b4b2ce6b",
   "metadata": {},
   "source": [
    "# Notes"
   ]
  },
  {
   "cell_type": "markdown",
   "id": "3afbeea4",
   "metadata": {},
   "source": [
    "Main results:\n",
    "1. Cell type classification\n",
    "    - Should scale this up by demonstrating across datasets/batches for a more notable result\n",
    "\n",
    "2. Cell type marker calculation\n",
    "    - Not super unique though. How can we leverage separate output-specific weights? (segue)\n",
    "\n",
    "3. Hierarchical marker calculation\n",
    "    - Opportunity for hierarchical understanding?\n",
    "\n",
    "4. Dimension reduction\n",
    "    - Reconstructs PC space (altho not surprising since it was trained on K-means from top PCs in the first place)\n",
    "    - But also does so for the hierarchical case, which is much cooler"
   ]
  },
  {
   "cell_type": "markdown",
   "id": "6950be24",
   "metadata": {},
   "source": [
    "# Imports"
   ]
  },
  {
   "cell_type": "code",
   "execution_count": null,
   "id": "61e7e41b",
   "metadata": {},
   "outputs": [],
   "source": [
    "import scanpy as sc\n",
    "import numpy as np\n",
    "import plotly.express as px\n",
    "import pandas as pd\n",
    "import einops\n",
    "import torch\n",
    "\n",
    "from scripts.datasets import myeloid_classes\n",
    "from scripts.bmlp import ScBMLPClassifier, Config"
   ]
  },
  {
   "cell_type": "markdown",
   "id": "a8d9fe41",
   "metadata": {},
   "source": [
    "# Set params"
   ]
  },
  {
   "cell_type": "code",
   "execution_count": 10,
   "id": "45e1ee7c",
   "metadata": {},
   "outputs": [],
   "source": [
    "d_hidden = 64\n",
    "n_epochs = 100\n",
    "lr = 1e-4"
   ]
  },
  {
   "cell_type": "code",
   "execution_count": 11,
   "id": "600a6f54",
   "metadata": {},
   "outputs": [],
   "source": [
    "DEVICE = \"cpu\"  # faster than mps..."
   ]
  },
  {
   "cell_type": "markdown",
   "id": "1598193b",
   "metadata": {},
   "source": [
    "# Load data"
   ]
  },
  {
   "cell_type": "code",
   "execution_count": 12,
   "id": "05832730",
   "metadata": {},
   "outputs": [],
   "source": [
    "adata, train_dataset, val_dataset, test_dataset = myeloid_dev_type(device=DEVICE, n_cell_types=3)"
   ]
  },
  {
   "cell_type": "code",
   "execution_count": 13,
   "id": "0cabfe1c",
   "metadata": {},
   "outputs": [],
   "source": [
    "n_cells, n_genes = adata.shape\n",
    "n_cell_types = adata.obs[\"cell_type\"].nunique()"
   ]
  },
  {
   "cell_type": "markdown",
   "id": "7d8fd6ea",
   "metadata": {},
   "source": [
    "## Visualize"
   ]
  },
  {
   "cell_type": "code",
   "execution_count": 14,
   "id": "ebd3475e",
   "metadata": {},
   "outputs": [
    {
     "data": {
      "application/vnd.plotly.v1+json": {
       "config": {
        "plotlyServerURL": "https://plot.ly"
       },
       "data": [
        {
         "hovertemplate": "color=0<br>x=%{x}<br>y=%{y}<extra></extra>",
         "legendgroup": "0",
         "marker": {
          "color": "#636efa",
          "size": 5,
          "symbol": "circle"
         },
         "mode": "markers",
         "name": "0",
         "showlegend": true,
         "type": "scattergl",
         "x": {
          "bdata": "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",
          "dtype": "f4"
         },
         "xaxis": "x",
         "y": {
          "bdata": "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",
          "dtype": "f4"
         },
         "yaxis": "y"
        },
        {
         "hovertemplate": "color=2<br>x=%{x}<br>y=%{y}<extra></extra>",
         "legendgroup": "2",
         "marker": {
          "color": "#EF553B",
          "size": 5,
          "symbol": "circle"
         },
         "mode": "markers",
         "name": "2",
         "showlegend": true,
         "type": "scattergl",
         "x": {
          "bdata": "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",
          "dtype": "f4"
         },
         "xaxis": "x",
         "y": {
          "bdata": "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",
          "dtype": "f4"
         },
         "yaxis": "y"
        },
        {
         "hovertemplate": "color=1<br>x=%{x}<br>y=%{y}<extra></extra>",
         "legendgroup": "1",
         "marker": {
          "color": "#00cc96",
          "size": 5,
          "symbol": "circle"
         },
         "mode": "markers",
         "name": "1",
         "showlegend": true,
         "type": "scattergl",
         "x": {
          "bdata": "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",
          "dtype": "f4"
         },
         "xaxis": "x",
         "y": {
          "bdata": "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",
          "dtype": "f4"
         },
         "yaxis": "y"
        }
       ],
       "layout": {
        "height": 600,
        "legend": {
         "title": {
          "text": "color"
         },
         "tracegroupgap": 0
        },
        "template": {
         "data": {
          "bar": [
           {
            "error_x": {
             "color": "#2a3f5f"
            },
            "error_y": {
             "color": "#2a3f5f"
            },
            "marker": {
             "line": {
              "color": "#E5ECF6",
              "width": 0.5
             },
             "pattern": {
              "fillmode": "overlay",
              "size": 10,
              "solidity": 0.2
             }
            },
            "type": "bar"
           }
          ],
          "barpolar": [
           {
            "marker": {
             "line": {
              "color": "#E5ECF6",
              "width": 0.5
             },
             "pattern": {
              "fillmode": "overlay",
              "size": 10,
              "solidity": 0.2
             }
            },
            "type": "barpolar"
           }
          ],
          "carpet": [
           {
            "aaxis": {
             "endlinecolor": "#2a3f5f",
             "gridcolor": "white",
             "linecolor": "white",
             "minorgridcolor": "white",
             "startlinecolor": "#2a3f5f"
            },
            "baxis": {
             "endlinecolor": "#2a3f5f",
             "gridcolor": "white",
             "linecolor": "white",
             "minorgridcolor": "white",
             "startlinecolor": "#2a3f5f"
            },
            "type": "carpet"
           }
          ],
          "choropleth": [
           {
            "colorbar": {
             "outlinewidth": 0,
             "ticks": ""
            },
            "type": "choropleth"
           }
          ],
          "contour": [
           {
            "colorbar": {
             "outlinewidth": 0,
             "ticks": ""
            },
            "colorscale": [
             [
              0,
              "#0d0887"
             ],
             [
              0.1111111111111111,
              "#46039f"
             ],
             [
              0.2222222222222222,
              "#7201a8"
             ],
             [
              0.3333333333333333,
              "#9c179e"
             ],
             [
              0.4444444444444444,
              "#bd3786"
             ],
             [
              0.5555555555555556,
              "#d8576b"
             ],
             [
              0.6666666666666666,
              "#ed7953"
             ],
             [
              0.7777777777777778,
              "#fb9f3a"
             ],
             [
              0.8888888888888888,
              "#fdca26"
             ],
             [
              1,
              "#f0f921"
             ]
            ],
            "type": "contour"
           }
          ],
          "contourcarpet": [
           {
            "colorbar": {
             "outlinewidth": 0,
             "ticks": ""
            },
            "type": "contourcarpet"
           }
          ],
          "heatmap": [
           {
            "colorbar": {
             "outlinewidth": 0,
             "ticks": ""
            },
            "colorscale": [
             [
              0,
              "#0d0887"
             ],
             [
              0.1111111111111111,
              "#46039f"
             ],
             [
              0.2222222222222222,
              "#7201a8"
             ],
             [
              0.3333333333333333,
              "#9c179e"
             ],
             [
              0.4444444444444444,
              "#bd3786"
             ],
             [
              0.5555555555555556,
              "#d8576b"
             ],
             [
              0.6666666666666666,
              "#ed7953"
             ],
             [
              0.7777777777777778,
              "#fb9f3a"
             ],
             [
              0.8888888888888888,
              "#fdca26"
             ],
             [
              1,
              "#f0f921"
             ]
            ],
            "type": "heatmap"
           }
          ],
          "histogram": [
           {
            "marker": {
             "pattern": {
              "fillmode": "overlay",
              "size": 10,
              "solidity": 0.2
             }
            },
            "type": "histogram"
           }
          ],
          "histogram2d": [
           {
            "colorbar": {
             "outlinewidth": 0,
             "ticks": ""
            },
            "colorscale": [
             [
              0,
              "#0d0887"
             ],
             [
              0.1111111111111111,
              "#46039f"
             ],
             [
              0.2222222222222222,
              "#7201a8"
             ],
             [
              0.3333333333333333,
              "#9c179e"
             ],
             [
              0.4444444444444444,
              "#bd3786"
             ],
             [
              0.5555555555555556,
              "#d8576b"
             ],
             [
              0.6666666666666666,
              "#ed7953"
             ],
             [
              0.7777777777777778,
              "#fb9f3a"
             ],
             [
              0.8888888888888888,
              "#fdca26"
             ],
             [
              1,
              "#f0f921"
             ]
            ],
            "type": "histogram2d"
           }
          ],
          "histogram2dcontour": [
           {
            "colorbar": {
             "outlinewidth": 0,
             "ticks": ""
            },
            "colorscale": [
             [
              0,
              "#0d0887"
             ],
             [
              0.1111111111111111,
              "#46039f"
             ],
             [
              0.2222222222222222,
              "#7201a8"
             ],
             [
              0.3333333333333333,
              "#9c179e"
             ],
             [
              0.4444444444444444,
              "#bd3786"
             ],
             [
              0.5555555555555556,
              "#d8576b"
             ],
             [
              0.6666666666666666,
              "#ed7953"
             ],
             [
              0.7777777777777778,
              "#fb9f3a"
             ],
             [
              0.8888888888888888,
              "#fdca26"
             ],
             [
              1,
              "#f0f921"
             ]
            ],
            "type": "histogram2dcontour"
           }
          ],
          "mesh3d": [
           {
            "colorbar": {
             "outlinewidth": 0,
             "ticks": ""
            },
            "type": "mesh3d"
           }
          ],
          "parcoords": [
           {
            "line": {
             "colorbar": {
              "outlinewidth": 0,
              "ticks": ""
             }
            },
            "type": "parcoords"
           }
          ],
          "pie": [
           {
            "automargin": true,
            "type": "pie"
           }
          ],
          "scatter": [
           {
            "fillpattern": {
             "fillmode": "overlay",
             "size": 10,
             "solidity": 0.2
            },
            "type": "scatter"
           }
          ],
          "scatter3d": [
           {
            "line": {
             "colorbar": {
              "outlinewidth": 0,
              "ticks": ""
             }
            },
            "marker": {
             "colorbar": {
              "outlinewidth": 0,
              "ticks": ""
             }
            },
            "type": "scatter3d"
           }
          ],
          "scattercarpet": [
           {
            "marker": {
             "colorbar": {
              "outlinewidth": 0,
              "ticks": ""
             }
            },
            "type": "scattercarpet"
           }
          ],
          "scattergeo": [
           {
            "marker": {
             "colorbar": {
              "outlinewidth": 0,
              "ticks": ""
             }
            },
            "type": "scattergeo"
           }
          ],
          "scattergl": [
           {
            "marker": {
             "colorbar": {
              "outlinewidth": 0,
              "ticks": ""
             }
            },
            "type": "scattergl"
           }
          ],
          "scattermap": [
           {
            "marker": {
             "colorbar": {
              "outlinewidth": 0,
              "ticks": ""
             }
            },
            "type": "scattermap"
           }
          ],
          "scattermapbox": [
           {
            "marker": {
             "colorbar": {
              "outlinewidth": 0,
              "ticks": ""
             }
            },
            "type": "scattermapbox"
           }
          ],
          "scatterpolar": [
           {
            "marker": {
             "colorbar": {
              "outlinewidth": 0,
              "ticks": ""
             }
            },
            "type": "scatterpolar"
           }
          ],
          "scatterpolargl": [
           {
            "marker": {
             "colorbar": {
              "outlinewidth": 0,
              "ticks": ""
             }
            },
            "type": "scatterpolargl"
           }
          ],
          "scatterternary": [
           {
            "marker": {
             "colorbar": {
              "outlinewidth": 0,
              "ticks": ""
             }
            },
            "type": "scatterternary"
           }
          ],
          "surface": [
           {
            "colorbar": {
             "outlinewidth": 0,
             "ticks": ""
            },
            "colorscale": [
             [
              0,
              "#0d0887"
             ],
             [
              0.1111111111111111,
              "#46039f"
             ],
             [
              0.2222222222222222,
              "#7201a8"
             ],
             [
              0.3333333333333333,
              "#9c179e"
             ],
             [
              0.4444444444444444,
              "#bd3786"
             ],
             [
              0.5555555555555556,
              "#d8576b"
             ],
             [
              0.6666666666666666,
              "#ed7953"
             ],
             [
              0.7777777777777778,
              "#fb9f3a"
             ],
             [
              0.8888888888888888,
              "#fdca26"
             ],
             [
              1,
              "#f0f921"
             ]
            ],
            "type": "surface"
           }
          ],
          "table": [
           {
            "cells": {
             "fill": {
              "color": "#EBF0F8"
             },
             "line": {
              "color": "white"
             }
            },
            "header": {
             "fill": {
              "color": "#C8D4E3"
             },
             "line": {
              "color": "white"
             }
            },
            "type": "table"
           }
          ]
         },
         "layout": {
          "annotationdefaults": {
           "arrowcolor": "#2a3f5f",
           "arrowhead": 0,
           "arrowwidth": 1
          },
          "autotypenumbers": "strict",
          "coloraxis": {
           "colorbar": {
            "outlinewidth": 0,
            "ticks": ""
           }
          },
          "colorscale": {
           "diverging": [
            [
             0,
             "#8e0152"
            ],
            [
             0.1,
             "#c51b7d"
            ],
            [
             0.2,
             "#de77ae"
            ],
            [
             0.3,
             "#f1b6da"
            ],
            [
             0.4,
             "#fde0ef"
            ],
            [
             0.5,
             "#f7f7f7"
            ],
            [
             0.6,
             "#e6f5d0"
            ],
            [
             0.7,
             "#b8e186"
            ],
            [
             0.8,
             "#7fbc41"
            ],
            [
             0.9,
             "#4d9221"
            ],
            [
             1,
             "#276419"
            ]
           ],
           "sequential": [
            [
             0,
             "#0d0887"
            ],
            [
             0.1111111111111111,
             "#46039f"
            ],
            [
             0.2222222222222222,
             "#7201a8"
            ],
            [
             0.3333333333333333,
             "#9c179e"
            ],
            [
             0.4444444444444444,
             "#bd3786"
            ],
            [
             0.5555555555555556,
             "#d8576b"
            ],
            [
             0.6666666666666666,
             "#ed7953"
            ],
            [
             0.7777777777777778,
             "#fb9f3a"
            ],
            [
             0.8888888888888888,
             "#fdca26"
            ],
            [
             1,
             "#f0f921"
            ]
           ],
           "sequentialminus": [
            [
             0,
             "#0d0887"
            ],
            [
             0.1111111111111111,
             "#46039f"
            ],
            [
             0.2222222222222222,
             "#7201a8"
            ],
            [
             0.3333333333333333,
             "#9c179e"
            ],
            [
             0.4444444444444444,
             "#bd3786"
            ],
            [
             0.5555555555555556,
             "#d8576b"
            ],
            [
             0.6666666666666666,
             "#ed7953"
            ],
            [
             0.7777777777777778,
             "#fb9f3a"
            ],
            [
             0.8888888888888888,
             "#fdca26"
            ],
            [
             1,
             "#f0f921"
            ]
           ]
          },
          "colorway": [
           "#636efa",
           "#EF553B",
           "#00cc96",
           "#ab63fa",
           "#FFA15A",
           "#19d3f3",
           "#FF6692",
           "#B6E880",
           "#FF97FF",
           "#FECB52"
          ],
          "font": {
           "color": "#2a3f5f"
          },
          "geo": {
           "bgcolor": "white",
           "lakecolor": "white",
           "landcolor": "#E5ECF6",
           "showlakes": true,
           "showland": true,
           "subunitcolor": "white"
          },
          "hoverlabel": {
           "align": "left"
          },
          "hovermode": "closest",
          "mapbox": {
           "style": "light"
          },
          "paper_bgcolor": "white",
          "plot_bgcolor": "#E5ECF6",
          "polar": {
           "angularaxis": {
            "gridcolor": "white",
            "linecolor": "white",
            "ticks": ""
           },
           "bgcolor": "#E5ECF6",
           "radialaxis": {
            "gridcolor": "white",
            "linecolor": "white",
            "ticks": ""
           }
          },
          "scene": {
           "xaxis": {
            "backgroundcolor": "#E5ECF6",
            "gridcolor": "white",
            "gridwidth": 2,
            "linecolor": "white",
            "showbackground": true,
            "ticks": "",
            "zerolinecolor": "white"
           },
           "yaxis": {
            "backgroundcolor": "#E5ECF6",
            "gridcolor": "white",
            "gridwidth": 2,
            "linecolor": "white",
            "showbackground": true,
            "ticks": "",
            "zerolinecolor": "white"
           },
           "zaxis": {
            "backgroundcolor": "#E5ECF6",
            "gridcolor": "white",
            "gridwidth": 2,
            "linecolor": "white",
            "showbackground": true,
            "ticks": "",
            "zerolinecolor": "white"
           }
          },
          "shapedefaults": {
           "line": {
            "color": "#2a3f5f"
           }
          },
          "ternary": {
           "aaxis": {
            "gridcolor": "white",
            "linecolor": "white",
            "ticks": ""
           },
           "baxis": {
            "gridcolor": "white",
            "linecolor": "white",
            "ticks": ""
           },
           "bgcolor": "#E5ECF6",
           "caxis": {
            "gridcolor": "white",
            "linecolor": "white",
            "ticks": ""
           }
          },
          "title": {
           "x": 0.05
          },
          "xaxis": {
           "automargin": true,
           "gridcolor": "white",
           "linecolor": "white",
           "ticks": "",
           "title": {
            "standoff": 15
           },
           "zerolinecolor": "white",
           "zerolinewidth": 2
          },
          "yaxis": {
           "automargin": true,
           "gridcolor": "white",
           "linecolor": "white",
           "ticks": "",
           "title": {
            "standoff": 15
           },
           "zerolinecolor": "white",
           "zerolinewidth": 2
          }
         }
        },
        "title": {
         "text": "Myeloid progenitor differentiation data"
        },
        "width": 600,
        "xaxis": {
         "anchor": "y",
         "domain": [
          0,
          1
         ],
         "title": {
          "text": "x"
         }
        },
        "yaxis": {
         "anchor": "x",
         "domain": [
          0,
          1
         ],
         "title": {
          "text": "y"
         }
        }
       }
      }
     },
     "metadata": {},
     "output_type": "display_data"
    }
   ],
   "source": [
    "fig = px.scatter(\n",
    "    x=adata.obsm[\"X_pca\"][:, 0],\n",
    "    y=adata.obsm[\"X_pca\"][:, 1],\n",
    "    color=adata.obs[\"cell_type\"],\n",
    "    title=\"Myeloid progenitor differentiation data\",\n",
    "    width=600,\n",
    "    height=600,\n",
    ")\n",
    "fig.update_traces(marker=dict(size=5))\n",
    "fig.show()"
   ]
  },
  {
   "cell_type": "markdown",
   "id": "f9744eb3",
   "metadata": {},
   "source": [
    "# Train model"
   ]
  },
  {
   "cell_type": "code",
   "execution_count": 15,
   "id": "f22aefc1",
   "metadata": {},
   "outputs": [
    {
     "name": "stderr",
     "output_type": "stream",
     "text": [
      "Training for 100 epochs: 100%|██████████| 100/100 [00:09<00:00, 10.33it/s, train_acc=1.0000, train_loss=0.0001, val_acc=0.9193, val_loss=0.2326]\n",
      "Training for 100 epochs: 100%|██████████| 100/100 [00:09<00:00, 10.33it/s, train_acc=1.0000, train_loss=0.0001, val_acc=0.9193, val_loss=0.2326]\n"
     ]
    }
   ],
   "source": [
    "cfg = Config(\n",
    "    d_input=n_genes,\n",
    "    d_hidden=d_hidden,\n",
    "    d_output=n_cell_types,\n",
    "    n_epochs=n_epochs,\n",
    "    lr=lr,\n",
    "    device=DEVICE,\n",
    ")\n",
    "model = ScBMLPClassifier(cfg)\n",
    "train_losses, val_losses = model.fit(train_dataset, val_dataset)"
   ]
  },
  {
   "cell_type": "markdown",
   "id": "142e522c",
   "metadata": {},
   "source": [
    "## Plot loss"
   ]
  },
  {
   "cell_type": "code",
   "execution_count": 16,
   "id": "67ed3071",
   "metadata": {},
   "outputs": [
    {
     "data": {
      "application/vnd.plotly.v1+json": {
       "config": {
        "plotlyServerURL": "https://plot.ly"
       },
       "data": [
        {
         "hovertemplate": "Type=Train<br>Epoch=%{x}<br>Loss=%{y}<extra></extra>",
         "legendgroup": "Train",
         "line": {
          "color": "#636efa",
          "dash": "solid"
         },
         "marker": {
          "symbol": "circle"
         },
         "mode": "lines",
         "name": "Train",
         "orientation": "v",
         "showlegend": true,
         "type": "scatter",
         "x": {
          "bdata": "AAECAwQFBgcICQoLDA0ODxAREhMUFRYXGBkaGxwdHh8gISIjJCUmJygpKissLS4vMDEyMzQ1Njc4OTo7PD0+P0BBQkNERUZHSElKS0xNTk9QUVJTVFVWV1hZWltcXV5fYGFiYw==",
          "dtype": "i1"
         },
         "xaxis": "x",
         "y": {
          "bdata": "AAAAwONr4z8AAADgHJ7PPwAAAOC7ybE/AAAAQLCXoT8AAACgdYqePwAAAGBY6JA/AAAA4HbMgz8AAADAPMJ1PwAAAACCtXU/AAAA4ACMbj8AAADAow5bPwAAAEBXxFc/AAAAAPa6YD8AAACgBMNWPwAAAGBAFko/AAAAgFCVVD8AAADAtTtSPwAAAGDxnE8/AAAAQMkrUT8AAABAtg9KPwAAAAA4gk0/AAAAgIn/Kj8AAAAg1CVIPwAAAADPaD8/AAAA4EZNRD8AAADA4KU6PwAAAECKjTk/AAAAoJO6Oz8AAAAgCSw3PwAAAMDW4zk/AAAAgNYfLD8AAABABWkwPwAAAOAnkC0/AAAAAAyyMz8AAADAAmwtPwAAAGDmhS4/AAAAIFRtNT8AAADAdS4pPwAAACC7wyY/AAAAQH8HMD8AAACAuSARPwAAAMCJciI/AAAAwNJWJD8AAAAAPs8dPwAAAACL2ic/AAAAIHCxKz8AAADA60YpPwAAAICuiyM/AAAAYOEiJD8AAABA+80ePwAAAEDznyA/AAAAADIkHj8AAADgpLUXPwAAAODXjRw/AAAAwCEYHz8AAABA4MIVPwAAAIC+tRw/AAAAYKuHGz8AAAAgaRQePwAAAMDG4xM/AAAAIM+DED8AAAAgTlIXPwAAAOA7ABo/AAAAYHyKFj8AAAAgO/oaPwAAAKBDXxs/AAAAANiXID8AAAAgU1sNPwAAAMBFChg/AAAAoJ9vEz8AAAAggFcSPwAAAEBQCBc/AAAAwBtcFz8AAACAK7kYPwAAAACqbhg/AAAAIMTGEz8AAADg278UPwAAAAAJfBM/AAAAgB/iBz8AAACg6osUPwAAAKCYHBk/AAAAAJOpGz8AAACAEs4bPwAAAADc/Q0/AAAAYENSEz8AAABgK/saPwAAAMD3gRc/AAAAwLqAFD8AAABAoy4YPwAAAKDBnxI/AAAAQLR5Fj8AAABACS4dPwAAAGA8XRg/AAAA4Jd3ED8AAADgZJkYPwAAAIBqyw4/AAAAYDQXED8AAACAb1QdPwAAAEAzBxs/AAAA4IxaED8=",
          "dtype": "f8"
         },
         "yaxis": "y"
        },
        {
         "hovertemplate": "Type=Validation<br>Epoch=%{x}<br>Loss=%{y}<extra></extra>",
         "legendgroup": "Validation",
         "line": {
          "color": "#EF553B",
          "dash": "solid"
         },
         "marker": {
          "symbol": "circle"
         },
         "mode": "lines",
         "name": "Validation",
         "orientation": "v",
         "showlegend": true,
         "type": "scatter",
         "x": {
          "bdata": "AAECAwQFBgcICQoLDA0ODxAREhMUFRYXGBkaGxwdHh8gISIjJCUmJygpKissLS4vMDEyMzQ1Njc4OTo7PD0+P0BBQkNERUZHSElKS0xNTk9QUVJTVFVWV1hZWltcXV5fYGFiYw==",
          "dtype": "i1"
         },
         "xaxis": "x",
         "y": {
          "bdata": "AAAAINN14z8AAABgUObWPwAAAMCnRdM/AAAAINSs0T8AAAAANcTQPwAAACDaL9A/AAAAAGEM0D8AAABAPJjPPwAAAGAGWc8/AAAA4Lr+zj8AAAAAZ+LOPwAAAGAXvs4/AAAAoBiazj8AAACADYfOPwAAAODOZM4/AAAAoI1Uzj8AAABgT0DOPwAAAKC6Js4/AAAAwLEuzj8AAABAPBzOPwAAAEB7EM4/AAAAgJ4Dzj8AAABgGwbOPwAAAEAlAc4/AAAAwNQBzj8AAADgWgHOPwAAAABD/M0/AAAAYM71zT8AAAAgX/HNPwAAACAD9M0/AAAAYBHzzT8AAAAg7evNPwAAAKDH680/AAAAQDzlzT8AAADgR+rNPwAAAADX5s0/AAAAIDzkzT8AAAAght7NPwAAAIAr4c0/AAAAAMfizT8AAADgMuPNPwAAAAAU4c0/AAAAoN3jzT8AAABgfuLNPwAAAKDK4s0/AAAAoC/ezT8AAACAB97NPwAAACAS3M0/AAAAQKXczT8AAACAoN/NPwAAAADc380/AAAAIFfdzT8AAABAXd7NPwAAAIAV2s0/AAAAwLvZzT8AAADgjN3NPwAAAGCT2s0/AAAAgNvczT8AAADAQdvNPwAAAAB42c0/AAAAgOzUzT8AAABgGdfNPwAAAACX2M0/AAAAAFLXzT8AAAAAJtfNPwAAAIAW180/AAAAAJfUzT8AAACg1dPNPwAAAIA/0s0/AAAAAPHRzT8AAACAg9PNPwAAAMDv0M0/AAAAgJXOzT8AAACgA83NPwAAAIDRzs0/AAAAAKzOzT8AAADASMzNPwAAAOBay80/AAAAoFrMzT8AAAAgWMrNPwAAAKB2yc0/AAAA4FPJzT8AAABgysnNPwAAAMCUyc0/AAAAoGLJzT8AAACAdcnNPwAAAOC+yM0/AAAAwE7IzT8AAACA/8fNPwAAAOB5x80/AAAAQGTHzT8AAABAg8fNPwAAAGA+x80/AAAAgEzHzT8AAAAgT8fNPwAAAOBBx80/AAAAwBbHzT8AAAAgFMfNPwAAAIATx80/AAAAoBLHzT8=",
          "dtype": "f8"
         },
         "yaxis": "y"
        }
       ],
       "layout": {
        "legend": {
         "title": {
          "text": "Type"
         },
         "tracegroupgap": 0
        },
        "template": {
         "data": {
          "bar": [
           {
            "error_x": {
             "color": "#2a3f5f"
            },
            "error_y": {
             "color": "#2a3f5f"
            },
            "marker": {
             "line": {
              "color": "#E5ECF6",
              "width": 0.5
             },
             "pattern": {
              "fillmode": "overlay",
              "size": 10,
              "solidity": 0.2
             }
            },
            "type": "bar"
           }
          ],
          "barpolar": [
           {
            "marker": {
             "line": {
              "color": "#E5ECF6",
              "width": 0.5
             },
             "pattern": {
              "fillmode": "overlay",
              "size": 10,
              "solidity": 0.2
             }
            },
            "type": "barpolar"
           }
          ],
          "carpet": [
           {
            "aaxis": {
             "endlinecolor": "#2a3f5f",
             "gridcolor": "white",
             "linecolor": "white",
             "minorgridcolor": "white",
             "startlinecolor": "#2a3f5f"
            },
            "baxis": {
             "endlinecolor": "#2a3f5f",
             "gridcolor": "white",
             "linecolor": "white",
             "minorgridcolor": "white",
             "startlinecolor": "#2a3f5f"
            },
            "type": "carpet"
           }
          ],
          "choropleth": [
           {
            "colorbar": {
             "outlinewidth": 0,
             "ticks": ""
            },
            "type": "choropleth"
           }
          ],
          "contour": [
           {
            "colorbar": {
             "outlinewidth": 0,
             "ticks": ""
            },
            "colorscale": [
             [
              0,
              "#0d0887"
             ],
             [
              0.1111111111111111,
              "#46039f"
             ],
             [
              0.2222222222222222,
              "#7201a8"
             ],
             [
              0.3333333333333333,
              "#9c179e"
             ],
             [
              0.4444444444444444,
              "#bd3786"
             ],
             [
              0.5555555555555556,
              "#d8576b"
             ],
             [
              0.6666666666666666,
              "#ed7953"
             ],
             [
              0.7777777777777778,
              "#fb9f3a"
             ],
             [
              0.8888888888888888,
              "#fdca26"
             ],
             [
              1,
              "#f0f921"
             ]
            ],
            "type": "contour"
           }
          ],
          "contourcarpet": [
           {
            "colorbar": {
             "outlinewidth": 0,
             "ticks": ""
            },
            "type": "contourcarpet"
           }
          ],
          "heatmap": [
           {
            "colorbar": {
             "outlinewidth": 0,
             "ticks": ""
            },
            "colorscale": [
             [
              0,
              "#0d0887"
             ],
             [
              0.1111111111111111,
              "#46039f"
             ],
             [
              0.2222222222222222,
              "#7201a8"
             ],
             [
              0.3333333333333333,
              "#9c179e"
             ],
             [
              0.4444444444444444,
              "#bd3786"
             ],
             [
              0.5555555555555556,
              "#d8576b"
             ],
             [
              0.6666666666666666,
              "#ed7953"
             ],
             [
              0.7777777777777778,
              "#fb9f3a"
             ],
             [
              0.8888888888888888,
              "#fdca26"
             ],
             [
              1,
              "#f0f921"
             ]
            ],
            "type": "heatmap"
           }
          ],
          "histogram": [
           {
            "marker": {
             "pattern": {
              "fillmode": "overlay",
              "size": 10,
              "solidity": 0.2
             }
            },
            "type": "histogram"
           }
          ],
          "histogram2d": [
           {
            "colorbar": {
             "outlinewidth": 0,
             "ticks": ""
            },
            "colorscale": [
             [
              0,
              "#0d0887"
             ],
             [
              0.1111111111111111,
              "#46039f"
             ],
             [
              0.2222222222222222,
              "#7201a8"
             ],
             [
              0.3333333333333333,
              "#9c179e"
             ],
             [
              0.4444444444444444,
              "#bd3786"
             ],
             [
              0.5555555555555556,
              "#d8576b"
             ],
             [
              0.6666666666666666,
              "#ed7953"
             ],
             [
              0.7777777777777778,
              "#fb9f3a"
             ],
             [
              0.8888888888888888,
              "#fdca26"
             ],
             [
              1,
              "#f0f921"
             ]
            ],
            "type": "histogram2d"
           }
          ],
          "histogram2dcontour": [
           {
            "colorbar": {
             "outlinewidth": 0,
             "ticks": ""
            },
            "colorscale": [
             [
              0,
              "#0d0887"
             ],
             [
              0.1111111111111111,
              "#46039f"
             ],
             [
              0.2222222222222222,
              "#7201a8"
             ],
             [
              0.3333333333333333,
              "#9c179e"
             ],
             [
              0.4444444444444444,
              "#bd3786"
             ],
             [
              0.5555555555555556,
              "#d8576b"
             ],
             [
              0.6666666666666666,
              "#ed7953"
             ],
             [
              0.7777777777777778,
              "#fb9f3a"
             ],
             [
              0.8888888888888888,
              "#fdca26"
             ],
             [
              1,
              "#f0f921"
             ]
            ],
            "type": "histogram2dcontour"
           }
          ],
          "mesh3d": [
           {
            "colorbar": {
             "outlinewidth": 0,
             "ticks": ""
            },
            "type": "mesh3d"
           }
          ],
          "parcoords": [
           {
            "line": {
             "colorbar": {
              "outlinewidth": 0,
              "ticks": ""
             }
            },
            "type": "parcoords"
           }
          ],
          "pie": [
           {
            "automargin": true,
            "type": "pie"
           }
          ],
          "scatter": [
           {
            "fillpattern": {
             "fillmode": "overlay",
             "size": 10,
             "solidity": 0.2
            },
            "type": "scatter"
           }
          ],
          "scatter3d": [
           {
            "line": {
             "colorbar": {
              "outlinewidth": 0,
              "ticks": ""
             }
            },
            "marker": {
             "colorbar": {
              "outlinewidth": 0,
              "ticks": ""
             }
            },
            "type": "scatter3d"
           }
          ],
          "scattercarpet": [
           {
            "marker": {
             "colorbar": {
              "outlinewidth": 0,
              "ticks": ""
             }
            },
            "type": "scattercarpet"
           }
          ],
          "scattergeo": [
           {
            "marker": {
             "colorbar": {
              "outlinewidth": 0,
              "ticks": ""
             }
            },
            "type": "scattergeo"
           }
          ],
          "scattergl": [
           {
            "marker": {
             "colorbar": {
              "outlinewidth": 0,
              "ticks": ""
             }
            },
            "type": "scattergl"
           }
          ],
          "scattermap": [
           {
            "marker": {
             "colorbar": {
              "outlinewidth": 0,
              "ticks": ""
             }
            },
            "type": "scattermap"
           }
          ],
          "scattermapbox": [
           {
            "marker": {
             "colorbar": {
              "outlinewidth": 0,
              "ticks": ""
             }
            },
            "type": "scattermapbox"
           }
          ],
          "scatterpolar": [
           {
            "marker": {
             "colorbar": {
              "outlinewidth": 0,
              "ticks": ""
             }
            },
            "type": "scatterpolar"
           }
          ],
          "scatterpolargl": [
           {
            "marker": {
             "colorbar": {
              "outlinewidth": 0,
              "ticks": ""
             }
            },
            "type": "scatterpolargl"
           }
          ],
          "scatterternary": [
           {
            "marker": {
             "colorbar": {
              "outlinewidth": 0,
              "ticks": ""
             }
            },
            "type": "scatterternary"
           }
          ],
          "surface": [
           {
            "colorbar": {
             "outlinewidth": 0,
             "ticks": ""
            },
            "colorscale": [
             [
              0,
              "#0d0887"
             ],
             [
              0.1111111111111111,
              "#46039f"
             ],
             [
              0.2222222222222222,
              "#7201a8"
             ],
             [
              0.3333333333333333,
              "#9c179e"
             ],
             [
              0.4444444444444444,
              "#bd3786"
             ],
             [
              0.5555555555555556,
              "#d8576b"
             ],
             [
              0.6666666666666666,
              "#ed7953"
             ],
             [
              0.7777777777777778,
              "#fb9f3a"
             ],
             [
              0.8888888888888888,
              "#fdca26"
             ],
             [
              1,
              "#f0f921"
             ]
            ],
            "type": "surface"
           }
          ],
          "table": [
           {
            "cells": {
             "fill": {
              "color": "#EBF0F8"
             },
             "line": {
              "color": "white"
             }
            },
            "header": {
             "fill": {
              "color": "#C8D4E3"
             },
             "line": {
              "color": "white"
             }
            },
            "type": "table"
           }
          ]
         },
         "layout": {
          "annotationdefaults": {
           "arrowcolor": "#2a3f5f",
           "arrowhead": 0,
           "arrowwidth": 1
          },
          "autotypenumbers": "strict",
          "coloraxis": {
           "colorbar": {
            "outlinewidth": 0,
            "ticks": ""
           }
          },
          "colorscale": {
           "diverging": [
            [
             0,
             "#8e0152"
            ],
            [
             0.1,
             "#c51b7d"
            ],
            [
             0.2,
             "#de77ae"
            ],
            [
             0.3,
             "#f1b6da"
            ],
            [
             0.4,
             "#fde0ef"
            ],
            [
             0.5,
             "#f7f7f7"
            ],
            [
             0.6,
             "#e6f5d0"
            ],
            [
             0.7,
             "#b8e186"
            ],
            [
             0.8,
             "#7fbc41"
            ],
            [
             0.9,
             "#4d9221"
            ],
            [
             1,
             "#276419"
            ]
           ],
           "sequential": [
            [
             0,
             "#0d0887"
            ],
            [
             0.1111111111111111,
             "#46039f"
            ],
            [
             0.2222222222222222,
             "#7201a8"
            ],
            [
             0.3333333333333333,
             "#9c179e"
            ],
            [
             0.4444444444444444,
             "#bd3786"
            ],
            [
             0.5555555555555556,
             "#d8576b"
            ],
            [
             0.6666666666666666,
             "#ed7953"
            ],
            [
             0.7777777777777778,
             "#fb9f3a"
            ],
            [
             0.8888888888888888,
             "#fdca26"
            ],
            [
             1,
             "#f0f921"
            ]
           ],
           "sequentialminus": [
            [
             0,
             "#0d0887"
            ],
            [
             0.1111111111111111,
             "#46039f"
            ],
            [
             0.2222222222222222,
             "#7201a8"
            ],
            [
             0.3333333333333333,
             "#9c179e"
            ],
            [
             0.4444444444444444,
             "#bd3786"
            ],
            [
             0.5555555555555556,
             "#d8576b"
            ],
            [
             0.6666666666666666,
             "#ed7953"
            ],
            [
             0.7777777777777778,
             "#fb9f3a"
            ],
            [
             0.8888888888888888,
             "#fdca26"
            ],
            [
             1,
             "#f0f921"
            ]
           ]
          },
          "colorway": [
           "#636efa",
           "#EF553B",
           "#00cc96",
           "#ab63fa",
           "#FFA15A",
           "#19d3f3",
           "#FF6692",
           "#B6E880",
           "#FF97FF",
           "#FECB52"
          ],
          "font": {
           "color": "#2a3f5f"
          },
          "geo": {
           "bgcolor": "white",
           "lakecolor": "white",
           "landcolor": "#E5ECF6",
           "showlakes": true,
           "showland": true,
           "subunitcolor": "white"
          },
          "hoverlabel": {
           "align": "left"
          },
          "hovermode": "closest",
          "mapbox": {
           "style": "light"
          },
          "paper_bgcolor": "white",
          "plot_bgcolor": "#E5ECF6",
          "polar": {
           "angularaxis": {
            "gridcolor": "white",
            "linecolor": "white",
            "ticks": ""
           },
           "bgcolor": "#E5ECF6",
           "radialaxis": {
            "gridcolor": "white",
            "linecolor": "white",
            "ticks": ""
           }
          },
          "scene": {
           "xaxis": {
            "backgroundcolor": "#E5ECF6",
            "gridcolor": "white",
            "gridwidth": 2,
            "linecolor": "white",
            "showbackground": true,
            "ticks": "",
            "zerolinecolor": "white"
           },
           "yaxis": {
            "backgroundcolor": "#E5ECF6",
            "gridcolor": "white",
            "gridwidth": 2,
            "linecolor": "white",
            "showbackground": true,
            "ticks": "",
            "zerolinecolor": "white"
           },
           "zaxis": {
            "backgroundcolor": "#E5ECF6",
            "gridcolor": "white",
            "gridwidth": 2,
            "linecolor": "white",
            "showbackground": true,
            "ticks": "",
            "zerolinecolor": "white"
           }
          },
          "shapedefaults": {
           "line": {
            "color": "#2a3f5f"
           }
          },
          "ternary": {
           "aaxis": {
            "gridcolor": "white",
            "linecolor": "white",
            "ticks": ""
           },
           "baxis": {
            "gridcolor": "white",
            "linecolor": "white",
            "ticks": ""
           },
           "bgcolor": "#E5ECF6",
           "caxis": {
            "gridcolor": "white",
            "linecolor": "white",
            "ticks": ""
           }
          },
          "title": {
           "x": 0.05
          },
          "xaxis": {
           "automargin": true,
           "gridcolor": "white",
           "linecolor": "white",
           "ticks": "",
           "title": {
            "standoff": 15
           },
           "zerolinecolor": "white",
           "zerolinewidth": 2
          },
          "yaxis": {
           "automargin": true,
           "gridcolor": "white",
           "linecolor": "white",
           "ticks": "",
           "title": {
            "standoff": 15
           },
           "zerolinecolor": "white",
           "zerolinewidth": 2
          }
         }
        },
        "title": {
         "text": "Training and Validation Loss"
        },
        "xaxis": {
         "anchor": "y",
         "domain": [
          0,
          1
         ],
         "title": {
          "text": "Epoch"
         }
        },
        "yaxis": {
         "anchor": "x",
         "domain": [
          0,
          1
         ],
         "title": {
          "text": "Loss"
         }
        }
       }
      }
     },
     "metadata": {},
     "output_type": "display_data"
    }
   ],
   "source": [
    "# Combine train and val losses into a single plot\n",
    "loss_df = pd.DataFrame({\n",
    "    'Epoch': list(range(len(train_losses))) + list(range(len(val_losses))),\n",
    "    'Loss': train_losses + val_losses,\n",
    "    'Type': ['Train'] * len(train_losses) + ['Validation'] * len(val_losses)\n",
    "})\n",
    "\n",
    "px.line(loss_df, x='Epoch', y='Loss', color='Type', \n",
    "        title='Training and Validation Loss', \n",
    "        labels={'Loss': 'Loss', 'Epoch': 'Epoch'}).show()"
   ]
  },
  {
   "cell_type": "markdown",
   "id": "de6af2ba",
   "metadata": {},
   "source": [
    "# Interpret weights"
   ]
  },
  {
   "cell_type": "markdown",
   "id": "d15e19ba",
   "metadata": {},
   "source": [
    "## Investigate a particular $Q$ matrix (cell type)"
   ]
  },
  {
   "cell_type": "code",
   "execution_count": 9,
   "id": "d6324946",
   "metadata": {},
   "outputs": [],
   "source": [
    "cell_type = 0"
   ]
  },
  {
   "cell_type": "code",
   "execution_count": 10,
   "id": "f1a41dd7",
   "metadata": {},
   "outputs": [],
   "source": [
    "q = einops.einsum(model.w_p[cell_type], model.w_l, model.w_r, \"hid, hid in1, hid in2 -> in1 in2\")\n",
    "q = 0.5 * (q + q.mT)  # symmetrize"
   ]
  },
  {
   "cell_type": "code",
   "execution_count": 11,
   "id": "9e33c22f",
   "metadata": {},
   "outputs": [],
   "source": [
    "# px.imshow(\n",
    "#     q,\n",
    "#     color_continuous_scale='RdBu_r',\n",
    "#     color_continuous_midpoint=0,\n",
    "# )"
   ]
  },
  {
   "cell_type": "code",
   "execution_count": 12,
   "id": "f37996d2",
   "metadata": {},
   "outputs": [
    {
     "name": "stdout",
     "output_type": "stream",
     "text": [
      "WARNING: dendrogram data not found (using key=dendrogram_cell_type). Running `sc.tl.dendrogram` with default parameters. For fine tuning it is recommended to run `sc.tl.dendrogram` independently.\n"
     ]
    },
    {
     "data": {
      "image/png": "[encoded data removed]",
      "text/plain": [
       "<Figure size 563x250 with 6 Axes>"
      ]
     },
     "metadata": {},
     "output_type": "display_data"
    }
   ],
   "source": [
    "# Calculate gene markers for reference\n",
    "sc.tl.rank_genes_groups(adata, groupby=\"cell_type\", method=\"logreg\", n_genes=adata.shape[1])\n",
    "sc.pl.rank_genes_groups_dotplot(adata, n_genes=3, cmap=\"Greys\")"
   ]
  },
  {
   "cell_type": "code",
   "execution_count": 13,
   "id": "bff49840",
   "metadata": {},
   "outputs": [],
   "source": [
    "vals, vecs = torch.linalg.eigh(q)\n",
    "vals = vals.flip([0])\n",
    "vecs = vecs.flip([1])"
   ]
  },
  {
   "cell_type": "code",
   "execution_count": 14,
   "id": "4c0fd5f9",
   "metadata": {},
   "outputs": [
    {
     "data": {
      "application/vnd.plotly.v1+json": {
       "config": {
        "plotlyServerURL": "https://plot.ly"
       },
       "data": [
        {
         "bingroup": "x",
         "hovertemplate": "variable=0<br>value=%{x}<br>count=%{y}<extra></extra>",
         "legendgroup": "0",
         "marker": {
          "color": "#636efa",
          "pattern": {
           "shape": ""
          }
         },
         "name": "0",
         "nbinsx": 100,
         "orientation": "v",
         "showlegend": true,
         "type": "histogram",
         "x": {
          "bdata": "DqKPPeRT5Ty+Rtw8ZUbaPHeizjyUCMo8bvzIPKZsxzzt+MI8dke7PH4LtzxMBq88ECCuPLAOqjyQCp887A+cPK8UkTyjLpA8e8eKPKY5hTz/7n88YpN0PJVzbzzyJWQ8z2pePI+rWTz4xFI81l5JPMVSRDw4HTg8jJ8vPBuALjxwUic84acXPBZFEDxOCww8iDkJPO0ZBDzG4AE8py/6O++F8ztQhec7qErUO2PtwjsAt707aZm2O+fyqTu386I7htSSO1fBgjtKwXo7dwdwO0xvUDtrNUE72JI4O9d99TqP1vI6xIfdOicLqTqAJoM6vS8YOi2WxzlZsxg5/60oOHmaDjK5ZgMyqW3+MZFr7zGakNExvDbOMesByzGawL8x02a8MQ+DuzEDa68xV+aiMVfqnTEAvpwxX9qZMUx3mTFBFZUxBaqOMajfijGjaIQxiAmBMQN0cTH86m8xj+VvMczYbDHZTmoxH/hlMWr0XzF7oVwxC/RZMTWTTzGMBE4xeVJMMXDeSDEBjUgxgsdFMfRnRDH+6UMxyHBDMVlSPTEeszwxM1Y1MYEhNDHjYC8xajouMQc7LTHW1CsxrPgnMdx5IzFQuiIxMjcdMUQ3GzH1eRoxLPQYMV2kFzHSVhMxIDUQMfJ1DjHtzQ0xQE4LMTYZCjHc5ggxvbgHMdcVBzFmiwAx/0AAMWEi+TAWufgwyhbuMCJK7DB+jusw7+7nMG945DCmut4wFTHeMCsR3jDUbdwwV6fbMGx70jAS9s8wzgTNMPZMxjCxi8QwaJ3BMG98wDA5dLYwhlGyMIgLsDAOnq4wH1+uMGrSqTAQRKgwmoynMNvNpjCLdKMwE4+fMHyOnzDMXZ8w80ufMPRUnjBzgJcwM8eSMBC5kjC/zo0wj0eMMP66ijASioowU3mKMEdkiTAO6ocwy7OHMLtlhzCQEYcw/qyGMM+/hTCniIUwVnuFMBkNhTAX8IQwwmWEML12gzB6boMwfJiCMA5GgjA8HYIw4vuBMPMVgTA97oAw+OyAMHzhgDA1UIAwFACAMJenfjA5UX4wQkp+MErhfTC5qX0wm8V7MDCAezDYJXowxBx6MNTdeTBwo3kwf2J5MCpIeTC7sXgwO6p4MEDydzAz6ncw9Jp3MA6BdjAXoHUw2RN1MOXYdDBWAXQwvONzMCiuczBxlHMwyPFyMA+NcjACVnIw2FFxMNRRcTDBMXEwbhdxMLDqcDB+LnAwEl1vMO4abzCXB28wUuxtMKhUbTCgT20wRyptMPnkbDBD2Gww0IlsMLMCbDCaAGwwgWlrMKUjazAS+Wow799qMJvKajB/eWgwwmpoMPRFaDBWCWgwcO5nMOPPZzCHk2cw/M9mMLevZjDuEWYw1/BlMAprZTCDP2UwFzRlMOGIZDD01GMwa2RjMBYbYzApEGIw5dphMIG6YTDWkmEwPwZhMLuPYDCYZWAw0gNgMFXbXzBMFF8wm7ReMJAAXjBFsF0w755dMNSdXTCKL10wbeNcMAneXDBbHlwwwxZcMB6IWzCpfFsw+3VbMFV0WzA9FVswVVZaMG3IWTAFjlkwnHZZMHVvWTD+UVkwsRFZMFfPWDAFqFgwNqRXMDeBVzB1jVYwAV1WMIc9VjBCLVUwDvlUMOjrVDCotVQwB7JUMPmEVDA/dlQw+zpUMNn+UzAC8FMwAupTMGjiUzDzRFMw4e9SMFjmUjAH4VIw99FSMI5/UjD8ZVIwd5VRMHpVUTDb71AwWqhQMF+jUDBmnVAwdUdQMKQ8UDCUwU8we4xPMIDOTjAZL04wXPtNMDhUTTDWQk0waCtNMKD4TDDE9Ewwn3JMMOcXTDDz/UswbZhLMFd/SzBBS0sw0jZLMFj8SjChtUowRZNKMI2ISjCALkowxKZJMOSHSTBFfUkwq15JMDA+STA5AUkw2+pIMA5wSDDmYEgw6gVIMHfhRzDgvkcw2LNHMA1NRzDHE0cwPF9GMFQ5RjBXFkYw1t1FMFF5RTChVkUwoEVFMHguRTB/+0QwHtREMEW1RDDXr0Qwy5ZEMNg+RDBfI0QwWXNDMG5IQzCD/EIwCfdCMHKMQjC5bUIwhWFCMLhZQjDTJkIwbndBMMRCQTBj/kAw+tJAMEDIQDDR/j8wzME/ME2dPzBuIj8wFd0+MI9DPjCz8j0wyeA9MDouPTDPwzwwUbI8MP+WPDBQUTww/dM7MPnHOzALpTsweWA7MMcHOzCmBzswVQA7MHGpOjAToTowd2A6MApOOjABEjowUpw5MMNuOTCKZjkwnvQ4MIfAODD1fzgwh384MNRMODAg8TcwF803MJKuNzBIWTcwoEQ3MOXvNjDivTYwq7A2MA91NjA2ajYwghw2MEcYNjDk6DUwyXg1MK03NTAbQzQwRC40MFPnMzAMYDMwpUozMOcpMzAlzjIwRKgyMGWDMjCc8TEwGtYxMMLUMTA1szEwunsxMF1CMTAgBzEwUgAxMD3jMDB3rzAwXpgwMLB9MDCccDAwJjswMBIKMDA71i8wjc0vMH5jLzAnzy4w8rUtMD2wLTDJni0w6kgtMMQ3LTAg8iwwGZMsMBB/LDCRZywwQGUsMBUSLDCqCiwwCMsrMCkwKzCQ2iowbYIqMEsVKjAUuCkwOaApMJ2SKTANkSkwWXQpMGFPKTB8/Sgw2PMoMB7BKDB4qCgwBKYoMGOUKDDXeCgw828oMBtCKDDzFCgwGQIoMBi9JzAykicwvnknMB90JzCcVicwVE8nMLnsJjD+1yYwOoImMDZpJjCNRyYwyVolML4nJTCCACUwrOwkMGFoJDDO1CMwscsjMEWtIzBRdyMwDk8jMFBGIzBc+iIwqcQiMAckIjCBIiIwNyAiMMjEITDWqCEwGmkhMAosITBzCSEwjt8gMDynIDDcAiAwN9gfMIinHzCmkh8wslofMBJDHzCzCx8wXfMeMJM7HjCbHh4wYxgeMO8VHjAK/h0wbK0dMPOQHTCYTR0wLCEdMJUdHTCMCB0wIAMdMJnzHDCZtRwwWKkcMPtwHDDHbRwwjkgcMK3/GzAN4hsws9wbMIyRGzCzPxswisYaMOm1GjCARRowCDQaMJXOGTBHsRkwn4wZMPBzGTAdXxkwRFYZMKHrGDBV2hgwV5sYMB77FzAs7Rcw2uAXMBd5FzAFXhcwDVcXMPdGFzBlFRcwKe4WMDbjFjBqwBYwtp8WMHFXFjBlRRYwLR4WMPURFjAWDxYw2XsVMKEkFTDBFxUwSv4UMAnDFDAtsRQwJ2gUMHo9FDBgPBQwbNMTMOyaEzDdixMwAXcTMOP/EjCK2BIw6cASMIG7EjD0nRIwvYQSMM1eEjC0UhIwUzMSMGX4ETC44xEwycsRMLmwETDwghEw5RYRMFjrEDDBwRAweagQMAAvEDBNJxAwXCQQMKpqDzBlLA8wrssOMJaoDjB/jw4w5D8OMOw3DjBspw0wYZwNMO9zDTC8ZA0wfkoNMF8XDTC2wgwwKaQMMIidDDC0gAww9FAMMHUgDDDBHwwwrREMMBAPDDArAQww1MILMEJiCzCDPAswVxgLMJq/CjA9nQowUhkKMOcNCjDpCAoweO8JMBDvCTAaPgkw2zwJMAclCTBu5wgwBL4IMIxUCDAYQAgwVREIMN7tBzDn1wcwEiUHMF0jBzCPFQcw7vUGMLPoBjDQ4QYwrtQGMNKLBjCRggYwMmQGMFI6BjD38wUwj6gFMOeOBTBYDwUwSwYFMA3nBDAQvQQwS6cEMNJZBDCtOwQwNvgDMITUAzBJiwMwhQwDMPfTAjBqkQIwIU4CMAgrAjBWuAEwjpQBMDaCATB6agEwaUYBMF7wADBh7AAw5dMAMJ6nADA4fQAwnGAAMNdBADA8+f8vOJv/L4co/y9xI/8vLg7/L6EM/y97of4vvSD+L5jd/S80sf0v8zb9L/z5/C9mr/wvGKT8L4uF+y/KY/svdEX7LwUy+i85pvkvx235L8wO+S9p2PgveZn4Lyu69y/YWPcvNEH3LwLo9i9pjfYv+Mn1Lx1T9S+r8vQv53b0LwJ29C9aR/QvO+/zL+3J8y9osPMvRZnzL5Jf8y+svvIv4zzyL7z68S/irfEvd0fxL83q8C+BwfAvUKrwLxBM8C+G+O8v7PTvL0io7y9jk+8vI07vL+J07i97RO4vbTbuLyMS7i8Aye0veuXsL48j6y9vfuovfurpLyl86S9fWOkvqgXpLyYD6S9//OgvnZnoL5eH6C/bX+gvpTvoL9oZ6C+dEegv+9znLzrN5y94lecvU3fnL8+b5i+AY+Yv9kDmL9kp5i/1juUvsW7lL2tl5S9UAuUveOvkL7sy5C94L+QvYC3kL18N5C/q3+MvRqDjL4ZZ4y9sSOMvjz/jL6wX4y88g+Ev1XzhL99N4S80FOEv0cngL6004C9FWd8vERPfL86O3i/eQN4v4r3dL/GR3S//BN0vd6LcL+VX3C+bsdsveRTbL3jd2i9BndovNUnaL7vu2S/q19kv92TZL9uM2C+kTNgvi6vXL+6B1y9hGdcvb7zWL3SZ1i+6ZdYvfOTVLxrS1S+Py9Uvo7rVLzaN1S9pHdUv6OHUL1Ki1C9DU9QvbDDULwaX0y/ketIv0ljSL8J70S/LctEvUhLRL5DP0C+Oz9AvknHQL1DXzy8ESs8vXjHPL177zi+nuc4vBa/OLwyDzC+0gMwvZFvMLz0rzC9cecsvU0HLL9MKyy/SB8svUuDKLxXByi9Mu8ov2YzKL4F2yi/hgskvXGnJL9tgyS/ACMkvGwLJLwDtyC/RnsgvSHrIL1BjyC+2+ccvzqPHL1mfxy+Vf8cvSl3HL2/pxi88eMYvDRzGL+3zxS+cn8Uvy3jFLwshxS+AGcUvAu3EL38TxC/CL8MvXe7CL9fnwi9s5cIv0czCL2K/wi9ztsIvaBDCLzjdwS8IysEvVI7BL4pKwS/VKcEvax7BL04NwS/dy78vKDS/L9fUvi//jL4vHt29L2sdvS8S5Lwvun+8L+BBvC/iw7svgai7LzKguy9YAbsvdPm6LxnKui8irbovEZq6L8mWui9Pg7ovr0m6L9c1ui8i+bkv9Oe5L63QuS+4s7kvk5G5L+RCuS/PsLgvvvi3L+XIty+6qLcvmGW3L1I6ty93OLcvEuC2Lwx2ti8FdrYvJmu1LydmtS+D6LQvq8y0L4ZVtC8XSbQvt4WzLztQsy8nTrMvM/eyL2vKsi/WXbIvGe+xL7vgsS+azrEvnMCxL350sS9UELEvygqxL2GbsC+zwq8vKbWvL4Fsry+n8a4vmLmuL7eRri+Ia60vxBOtLyCurC9AoKwvVq2rL76Sqy8ufqsvYVerL837qi9DYKovEE2qLyQjqi93DqovQpepL8d6qS+XJakvTsaoL29dqC+U26cv6kSnL7wWpy8sCKcvkn+mL/xJpi+pSKYvk0SmL9wEpi9gjKUvux2lL3GmpC/eX6Qvik6kL6usoy9MhaMv8YeiL6OCoi94SKIv9jaiLyE0oi/KHaIvVtihL9vVoS+psaEvo5ihL+eRoS+JfaEvvAehL2k7oC96dZ8vddieLxgjni9pC54vi/+dL6nLnS/ehZ0vXGOdL31gnS9qXJ0vj9GcL8TQnC9RiZwvPGycL19mnC/+HpwvisKbL1+tmy/1i5svdsKaL25qmi/eUJovOE2aL0LomS9+WZkvY7WYL0YvmC95+Jcv3auXL6ZEly+F0ZYvOnGWL4Mmli8Or5UvKUOVL00FlS8t45QvNxWULxj0ky/N7ZMvNpmTL46Sky/vFJMvTVOSL8s1ki92K5IvpgqSLyr+kS9tIpEvIPeQLzngkC+j3ZAvN1KQLz8nkC83vY8v97uPLzR9jy+BGI8vqfSOL1vRji+Yco4vApeNL6mUjS8BkI0vskeML722iy+uXIsvWVSLLw9Niy92SYsv0xmLL001ii/ZL4ov0ieKL2gPii/mgIkvX/SHL1fEhy/kp4cvEpyHL5d1hy+ZSIcvVAiHLyR8hi/pWIYvQIaFL5dKhS/aLIUvBymEL3Ojgy8EgoMvLnqBL1gbgS/c/YAvy7SAL/uSgC+oFYAvwkR/L3bVfS+va30vywN9L3/4fC8Q6Xsv+n97L4rkeS+d43kvas55LwaeeC+VlXcvjBF3LxoVdS8X23QvNfhzL4eAcy9lBXMvmABzL+rici/rbHIvdGdxL27QcC9ToXAvEQVwLz2Tbi/R9G0vprNtL1WwbS8ugW0vaK9rL5Wmay8sY2svYp1qLx2Jai/ShmkvEGhpL34KaS9f/mgvFetoL0PMaC+tY2gvnDtoLx4zaC8kIGgvecxnL66aZy8fKWYvROhlL5R0ZS+huGQv2eJjL8HPYy9/IGMv+EBiL7VBYS/znGAvYWtgLw8jYC9KD18vJAReL+l+XS8/RV0vdYxcL4M6XC/5IlwvqwJbLybZWi8JZVovMuBZL+ncWS+SYVkv2UNZL19xVy+eb1Yv79xVL+BcVC8iBFQvPy5TL7SVUS9ZlFEv1KJQL4LpTy8aXU8v7i1NL0YoTS95sEwvUpVMLz1FTC8cKUwv9CFMLwjrSy/GG0svSeRKL6a0Si+laUov4wFKL1XJSS86nkkv22FJL8VFSS8EJEkvUNNHL/MERy+B50YvnbNGL5F/Ri8CIEYvWwNEL/qEQy8IIUMvH95CL89xQS/uS0AvXqo+L+JAPi8flj0v6tM8L394PC/R6jsvsBI7L5b4Oi8ltzovgzc6L8qnOS/ISTkvwiw5L58sOS8ZgzgvTmQ4LypAOC8TzzcvV9g2L5NoNS+Q9jQvE540Lx+2My/RiDMvkeoxLwFYMS8jyTAv6lEwL8smLy9MEi8v+IwuL6x4Li+r8C0vo5ItL16ELS9ZDy0vg/IrL0PyKy+ydSovngsqL9yPKS8+/igvy7MnLxF+Jy/gjSYvMPQlL8nkJS9RcCUvejwlLzwXJS+IDCQv+d8jL42MIy84xSIvk1sgL30SHi842h0vr2wcL8M4HC8iCxwvaYUbL8+EGy+ycRovILkZL1W+GC9CNxgv1yYYL1PuFy8qGhcvxBEWL/gMFi/j9BUv8s0VL8qvFC/rEBQv8tETL5WOEi/45hAvuUMPL0tGDi/TMA4vOwsOL35MDS/8ZQwv9VUML/NTDC/gTAwvs/ELL4axCy8McAsv+icLL9CgCi8+TAov79YJL1Y2CS9zCgkvIwAJL+sRBi81+wUv7VkFL2NKBC+eqgIvin8CL1lTAi9dJAIvCxgCLzgGAi/+2AEvhQYBLxKl/i5PUP4u0YX9Lu1v+y4rCvsuJoX6LlFJ+S6gC/ku4mf4LoS49y56KPYuAXf1Lj7x9C4vz/MugAbzLiYD8i6GH/EuV8bvLsHC7y65g+8uiSHvLjnv7i5/Ue4umqHsLtUw7C6mUesu1/TqLjNx6S5yQekuBQXpLrhK6C7yROguBBjmLsy75S67r+Qun6fkLpIu5C4jZuMuAjzjLgcY4S7P0OAukSDgLg/k3y71nd0uxuPcLm/i3C6t+tsuxjLbLuKs2i7T6dkuGvbYLpCH2C7SKNUuz87ULiJh0y5E5dIuyWvSLqrk0S6Zl9AuLYHQLpJ1zy7b9c0u1YPNLrcTzS7a1cgui6rILspPyC7uRMgu1efHLtUdxi68PcUuvgLFLpzOxC5oBcQuKsK/Lt5Nvi6c3b0urMe8Lituuy7FILsuBrm6LlOoui7zb7ou/DS6Lpk7uS4f+bgua824Lmi1ti5ppLYuPpa2LtAXti4gpbUuQj2yLmDKsC7ZY7AugWGwLpnxry61ZK8u7MCtLi/zqS51kKkuVLSoLkJ/pi5ft6QuU1ukLpdRpC65TqEu0AGhLgMOoC7ZAp4uwVycLqcvnC7hXpsuSNSaLjSGmi5wQ5ouwuuXLh4Rly44dZYuCjKWLg6xlS6iZ5Uu3VGVLkwxlS5CPJMuZdmRLt6zji7HyowucTOLLhOdii5EJIcuQhGHLvXVhi5DhIUucy6FLvJBgi73JoIui66BLmZ0gS6/aoEuEh6ALp+tfi5zJHQuPZVzLs+fcS7j7GsuLO1mLle+ZS5EFWQurpJhLmurYC6k0VsuFOhRLufmUS7zaVAuI9VJLn8rRi5cmkUubopCLuDbQS4aHTsuyr40Li+xNC4jzi4ucVouLrw8LS4aEigu7WsmLstWJi4q5yUug4glLhiZJC70gSIuVO4bLvZNFS7oIgYu5RsCLrH0AC6ZMf8tRQjfLWUO3C2F8tUtQaPOLW5Nvy1EyrEtgXOqLZnYoS03aGUtc19iLb2HVy1H+DMt3K4nLZFKES0qgQ8tMR4JLRtWBS0+UwMtlhsDLcxF/yyYev4sQfb3LMhX6Sysf+Isl/rPLBW6zCwDF8UsDDHCLK08vyw7RLssi6WzLNtjqywRAKYs9JmlLIVclyx735UsGAiULB4HjCzT4YssLBGGLJdteyz7+3Esr69dLJh9VSwM/Uos6JolLDHhHyzVHBUsHMcTLOqYASzNiQAsz+79K+KW+Ct+QNYre0jUK7iArytxa4YrItt4K93SRyvC+jcrWp03K1AgGytF7BkrIlzDKs0xTSrMKfkpKMjnKXS92SmxkbMpy6arqZz8OKovm5WqMWeZql3qr6qnYPGqgJf7qnwHGKtHcy2rsEcyq+ejMquK3VGr2BVlq1Nxe6uFg4KrSRGKq1KVo6uD6sCrAsPOq68u6au6MOmro/70q/rHCqxccxesMEsZrAgVKazl3Cmsn6Y1rBmRSawldlKssuRarAS1W6y1ymWsaYlvrIs1g6xhaI+sIKuXrPMLmKyQMJusSwuhrL+qoawsBaasAs61rP+StqxxAc2s0cjZrL8p56xJn/ms8eP+rOCJCa1KLBCtjeEYre0rIa1CbyStdoMkrZ3aOK2d/VKtWmHBrWWPyK0ZjsqtOfTMrdqL0K0JF9GtOu7Yrcj79a1Nm/et+m4Brm33Eq4JdhWuVogYrvRyG6558R+u8hMhrj0VJK5vuy6utPMxrsHUM64KnjeuYeo5rpq1Sa5t6E2ugCdPrsY9Uq5DdFOuQYRTrtyFU66wiFOuM1xZrv5cYK7wuGCuJYhlrjyzZa5VGWeuX6ZnrjSaa65UQW6uWl9xrh3Xca4Q23KuCQlzri5Dd65ssneuw916rkGIf66GlIKu9qGGrmnjhq46nIeuyh2Irns7iK5th4mu1JKKrj0KjK72eYyuXpuMrk4Uja49Ko6uaoaOruOWjq5uWI+upH6Qrhmpkq6GdJSurt2UrtXHla59Fpau8NWZrpDrma561ZquAP2arsyem66Vdp2uGhCergc4nq5GlJ6uj+Whrgo9oq6En6OuoeKkrh/upK7+8qSuKtClrjN3pq5mnamuCqKpruXMq647ia6uuZmurg3Trq6JXbCuGHKxrh8os66TdrSuSaS1roM/tq5+kbaublW3rsVguK75tLiu/Nu4rhuvua6jc7uuTjm8rj23vK7dIr2uJpu9rgpEv67Rm7+uT5jArid9wa71mMGua8rCrsLdwq6D88Ou+GTEruo1xq4m1cauRxTHrkW1x66AX8iuXqTIrqWpya68scmuYGzKrgvoyq5xd8uunUnMrlEiza6xYs+up+/PriOn1a7vbtaueWvXruED2K4jRtmu7evZrtdT2q7VXNqu89rarqwS2669ONyuWyDdrvkz3a5p5t2ueLPfrmsR4q6aQOOucmvjrpSn465q0OOuYAPkruSJ5K7hQuau1LTmrgfR6K5/JumuDknrrqzs66487eyuWx3troZD7q4/ZO6uxaXwrgfR8K46JvGubZ/xrt9J8q7VbPKur3PyrgO08q6UiPSuhiP1rqZL9a4Ow/aum4b3rhQC+K6k6PiuC1P5rhFl+q6Cmfquv9/6ro0R/K6xUfyujGX9rrSa/a6xmv+uQ0sAr9BQAa9YyAGvVvoBr3mZAq/B2QKvexoDryFAA69G4wOvQSAErxVGBK+gmASv1h8FrwqiBa9vnAaviecGryFWB68sQAivLo0KrzWvCq9QZwuvN3ALr+K/DK92lA2vA+sNr6y4Dq9+Sg+vkMgPr7q6EK8FJRGvPTARrzGVEa8N4hGv5mwTr6WjE68p5hOvQPETrwwZFK+PIRivifIYr1L9GK9vMBmvwHUZr7RsG68veRuvR4Ybr1yqG6/wuBuvkuUbryjaHK9QBB2vxJYdr4iYHa8XQx+vOH8fr1AyIK8MYCCvy/Egr9oQIa9wTiGvmjMkr7/UJa+7+SWvUmYmr2+8Jq+NzSavHFInr3wBKa+8Dimvajcprz5vKq+37CqvMYMrr4SnK696/yuvrQYsr8k5La/rWC2vU9gtr6lDLq8pqi6vzhcvr65uMK9ZJTGvcpoxr7JKM69GZTOvOIUzr7utM6+B4jSvhUo1r8HcNa+WbDevMlQ4rwNWOK8cYTivMeM4r+wtOa8EmjmvF6w6r/9hO6+dYzuv4EM8ryWaPK/SMD2vJD49rw33Pq9q+z+vnHhAryu9QK99G0Gv6l1Cr7iCQq8P8EKv2QhDrwhFQ6+YuEOvokJErwFvRK9z8kSvw3pFr1LpRa/I70WvKUBGr4ccR6+dfUevoK5Jr5RrS69CKEyvn3NMr2CSTq9rk06vCKlOrzawTq+d806vOlxPr1GKT689JVCvJo9Qr+evUK+asFCvptFQr+jrUK8cKVGvxL5RrwH9Ua8qCVKvzCxSr5PRUq85QFOv0ihVr5ZzVa/pjFavv+VWrwZvV69igFev4GFZr6azWa/pHVqvVYtar0fDWq/YJFyvllpcrx//XK/XVF2vGU1er6+GXq/AoV6vr7xer/x2X686hl+v0FFgr1dgYK+f0WCvcPVgr+44Ya+UhWGvF59hr/B7Yq8bnmKvCsVjrzXqY68EaGSv8cZkr6ryZK97bGWv+W9lryG1Zq/O32avhuFmr39qZ6+ZoWevdQpor42JaK9EFGmvRUFpr6Gbaa8oNWuvcq1rr6y5bK8wd22vR6hur6zVb6/UpnCvc+Vwr5rDca8m1XGvfBpyr2+dcq/l0HKvXPlzr78+dK8pFXWvoj91r8icda8mz3WvMVh2r6//d6/INnivEF94r7j9eK/H/XivVDx5rw7+ea8zcHqvgxd7r2Zfe6/F8nyvvQR9r+Vcfa+vqX2vJLp9r1LMfq8rcn+vCwqAr/StgK+UIoGvv1mBr5hLgq9beoKvg3qCr3fZgq8LNYOv3IWDr1XJg6+30oOvhO2DrzIKhK+2YYSvxqGErzW8hK+s8oSvWGeGrwsLh6+PEoevMESHr+BOh692coevfMWHr23zh6+l/IevWgGIr3zQiK904oiv0oeJr49Hiq/vUoqv8pCKr320iq8OHYuvUXqLr0CKi68KuIuvZsGLr1/hi68N/Yuvs6iMr9zXjK+164yv1mSNr2UUjq8B9o6vMxOPr64uj69WPo+vc+uPr20BkK+BVpCvnZGQr3JNka/cXJGvicGRr1nEka9w1JGv6kaSr/9Kkq/LH5Ov0ViTrwx4k6/lr5Ov0g2Ur+zflK/qH5WvTVyVr2PFla/rQ5av4IKWr8WQlq/IN5evvYSXr1t1mK/XfpivX4yYr1oEma9AJJmv2ZmZrwiqma/iPpqvTYuar3uYmq+xp5qvZL+ar+8mm69/KJuvTEWbr99Zm69Wi5uvOaCbr0sUnK/6IZyvJECcryV0nK+upZyvdRadrwM5na90R52vjRmer7lZnq93YZ6v0r2er1Ein6+3n5+vkwGgryUpoK9IUqCv/Iugr9fzoK8DuaGvj1Wir9F1oq8Rt6Kvo9Wir/Q1o6+UTKOvIXOjr7F8o6+dsqOvJxGkr4vDpK9o9KSvG02lr71xpa+djaWvDJmlr5X0pa+3/KWvmRCmr/Ebpq9tRKavw2Cmrza0pq9NWKev+GqnrxOMp682sKevrvqnr5lKqK8mHKmvM06pr+62qa9OwqmvV2uqr8Ohqq/hu6qvxMSqrzTJqq8B3KqvUHqrr857q68trKuvBLirrxtmrK/ffayvtEatr5Nira93h62vJMmtr09Srq/3fK+vg4Cvr/xesK8b0rCvCOCwr7L6sK97DrGvvHaxr6t7sa+gsbGvRLOxr4HGsa9V27GvKu2xr5kJsq/EL7KvHemyr7D4sq/uMLOvM32zr7mPs6+2xrOvvO+zr1FGta9MiLWvtc61r+j7ta/gybavY2q3r8NGuK8TrbivDLG4r93cuK97Fbmv7iS5r88oua9cMrmvml25r7xOuq/Subqvy8+6r7D1uq/0KLuvUGq7r8R2u69Hkruv+aS7r2zhu69X97uv9me8r5VyvK8Pfbyv9+28r3N9va9Tnb2vgdm9rwUDvq/sIb6viDm+r01Yvq8Ser6v1ra+r6Adv69EHr+vHUS/r4Fmv6+rrr+vEm/Ar5YIwa8BRsGvIHnBrxnmwa9m58KvcvzCrzQPw69NrcOvkrTDrxApxK+iX8SvDKHEr0/xxK+oFcWvy0LFr6pdxa9goMWvbKfFr0O8xa/r18WvUd3Fr0cExq946cavjgnHryRFx6/7o8evZt/Hry8xyK+1C8mvJBTJr5M2ya81PsmvpVzJr9tjya9VlsmvopnJr8Gmya87Qcqvcc7KryQ/y6+4Tsuvf4zLrxz0y6/Yc8yvjhrNr/Q6za9dQc2v11vNr3Foza8JsM2vlTLPr1rEz69XA9CvfAnQr9EW0K/W6NCv7A3Rr6VV0a/7kdGvX53Rr8YE0q87n9KvJvvSr+TX06/TLdSvv0jUrwlR1K8NbdSvcMzUr1gg1a/qLtWvAV/Vr0tg1a8v8tWv8hbWr/dX1q9kddav+KrWr8761q86c9evYNbXr24R2a8aFdmv3kDZr9Sr2a9SJdqvrE7ar0yL2q+OAduvsxLbr3Zy269jhNuvoZPbr/m226/jINyvkZbcr1+b3K96zNyv8szcr0Q23a8Clt2vDJzdr46v3a+hgd6vSYfer1jB3q+5696vyPLer38+36+6l9+vck3gr0+N4K+tl+CvjBXhr24a4a+JtOGvmrXhr2TL4a+I6uGv2B/ir1Y44q9g+OKvhUbjrzBL46+Rz+SvVtfkr7y85a+8CuavDDvmr+aA5q/jg+avFpjmrwmy5q/p4+avbOnnr0X156/6Peiv/0bor1GR6K9vu+ivSSTprznU6a9b9umvNffpr8au6q/G5uqvVhLrrwRq66+opeuv9QDsr48g7K8hJ+yvVlvsryGD7K99jeyvTO3sr4rw7K+M6O2vmCPurwa57q+zXe+v6O/vr2tG8K/RivCvCaTwr3kd8a/QHfGvaTXxr9VR8a++VvGv56fxr6jZ8a+w5fGvfunxrxDt8q+mLfOv1DPzr2Bc868kX/Ov4NPzrw/k86+QEPSvolb0ryCe9K9L1/Svu+z0r59h9a/FK/avYE/2ryB49q87mPavOvP2rzE9968dU/ev3H33rwnN+K81p/mvQBT6r8Yc+q+BMPqvhKD6r+Ib+6+GL/uv0Gr7r5O8+68e3/uvROT7r6v1+69PS/yvIbr8rzvb/K8mRP6vl/f+rxJEALAvSQCwb1sAsJ5bALC1ZwCwaYQAsMmPALBorgCwD8wAsNwMAbBljwGwgvEBsLUFArC8QgKwtEQCsIlmArDS1gKwkOYCsFn/ArBlVgOwcYUDsI/KA7Ae5wOwLf8DsLZHBLAdbgSwr3sEsGKHBLD2kwSwLL8EsLzfBLD67gSw0FEFsI7oBbBo7AWwPvAFsNf5BbALGgawxRsGsP5XBrA0iAawCZwGsHunBrCcHAewjSQHsOdAB7DvbwewP4oHsG6mB7BRwgewr88HsMHbB7ASVAiwAnMIsHySCLCFqgiwr9oIsNX/CLB/GgmwFBwJsO4fCbBMIgmwZkoJsPtPCbBBdAmwpnYJsDSQCbB9kQmwE5gJsD6dCbBY8AmwPGgKsGyxCrC65Aqw7vgKsDsuC7BxvAuwXNcLsJDZC7Ab9guwxSUMsGFqDLA+bAywep4MsHmoDLBi0Ayw3vkMsLBFDbA+Ug2w4MwNsDzWDbBcBg6w01MOsDGJDrA6mw6w1JwOsMrFDrDf0g6wIdYOsBUjD7CpJA+wiSUPsBZXD7CmVw+wx2gPsJVzD7ABlg+w0SAQsEUmELDsXBCwrWwQsISAELB4hhCwG8YQsCLfELBo6xCwSgURsHYQEbCCVBGw4nsRsI2ZEbBNzRGwVUgSsE9NErCnfBKwccISsHjxErAWFhOwijYTsLo+E7B3gxOw7qITsJG2E7BmuBOw+sUTsF7KE7BN4xOwNTgUsG5eFLBtYhSwWYgUsC+/FLBu4RSwb/sUsHOAFbBQphWwb7kVsFW6FbDZ/BWwmzgWsPBIFrB1TxawjWgWsC65FrBNxhawiwsXsK1pF7BVhhewPYcXsC3JF7A6Lxiw11kYsL2qGLBCzRiw3iAZsGcyGbAXXBmwW2MZsG1zGbAvnhmw1M0ZsATWGbAS5hmwtOkZsPH3GbAtCBqwORMasBZJGrA8jBqwzLgasO/6GrB6IRuwOXIbsO15G7CelxuwqL0bsArhG7C7Ixyws18csAhzHLCgiBywlIwcsI4NHbCxKB2w9y0dsOpHHbAccB2wGM0dsCJBHrDqVR6wSJAesJWWHrDanR6wAKcesHytHrCt9R6wlUEfsORoH7Amax+wTmwfsNmoH7AEuh+wkvMfsLIZILCTICCwFGkgsHwGIbAVKyGwkSshsIpQIbDvUiGw6lQhsGduIbD0siGw8PQhsMEcIrDBKCKwClUisLaHIrD1+SKw2gcjsPhQI7AtZyOwj2gjsJRyI7AyoiOwIOsjsIwIJLAgDiSwhzMksM07JLDGYSSwXbYksLPYJLCKdCWw/HQlsAJ/JbCQlSWw850lsIpvJrD+ryawNbEmsMG6JrDQ1CawUe4msAIEJ7BbQCewj0QnsFRQJ7D5diewTHcnsHECKLA5EiiwrjMosDudKLAH1iiwVlspsNB1KbDVhSmw+L0psITpKbCcBSqwIjQqsOx2KrCReSqwk3wqsFWaKrAY/yqwnAErsEcjK7DyOSuw4z8rsINIK7BTZiuwqY8rsCuvK7CV8yuw2HEssFKiLLBEqCywhbUssOLGLLBF3iyw9/cssLo8LbBd2C2waSsusME/LrBKuy6wPuwusPP2LrBMGy+w8CwvsEQvL7CDPy+wPVwvsKxfL7BXYy+w6n4vsNqeL7B9ri+wtt4vsHjiL7DzsjCwyAgxsJw0MbAIRzGwX4kxsNGRMbD1mjGwt6wxsJr6MbBgRDKwecgysHLPMrCf8jKw83YzsNqCM7BHpzOwMLIzsCDtM7BXPjSwNd00sEQENbAFDjWwWU01sHVONbC/UTWwGVM1sMqaNbD12TWwfgw2sOxeNrDLajaw6XE2sAu8NrBw2jawmOs2sCwJN7CBOjewx9k3sFn6N7CTDTiw8DQ4sDCAOLDPjjiwG5w4sJ76OLBpVjmw11g5sDt6ObCdpzmwNfQ5sOwQOrDnITqw+z06sGuCOrD2yjqwryc7sCxHO7DCUTuwecU7sBDMO7AG4juwtBI8sKpRPLDRWjywR3s8sGWrPLB85TywVPc8sCwVPbCnLD2wHjs9sIxjPbCJiD2wtJM9sJrWPbATAD6wRKQ+sD6oPrAjIz+whWU/sI5vP7DjdT+wGYA/sFSBP7C3vT+wxc0/sG8CQLButECwrAlBsORvQbBZc0GwAHxBsOi4QbD/xkGwZglCsCQNQrCpJkKwjyhCsM1XQrCRvUKwQcxCsMv9QrBppUOw3/RDsBUfRLDUIUSw2i9EsLxFRLBgpkSwxbNEsBLQRLAZPEWwsKtFsErxRbBlIUawS6JGsK2uRrD4skawWL9GsBHFRrAt90awSNFHsNDWR7C8QEiwd0ZIsMpISLAyU0iwMm5IsACzSLAr4kiwQ+JIsPboSLAC/kiwXGdJsKx0SbBKk0mwzyRKsFDCSrC3/kqwRjBLsGleS7CBaEuw4XFLsO+US7BdtkuwEehLsPEwTLCMMkywQnlMsC2JTLDK70yw/4ZNsMe6TbBBwU2wlMpNsLUITrAbFE6wfSdOsBiBTrDAtk6wKeJOsHTqTrBjBE+w1w9PsJ5GT7C0EFCwSlVQsMlvULC72VCwY+lQsOEDUbAiEVGwQdFRsGfoUbB3X1Kw7IBSsBY3U7B2QVOwUkdTsCtZU7CxYVOwTGtTsLSyU7D3vlOwcOVTsOQUVLAgVVSwN1VUsBRdVLCXclSwcqlUsA3eVLDC3lSwCTRVsKg9VbBtYlWwbdBVsL3gVbB5+lWwgkZWsJtTVrCkZVawdXNWsNStVrDkYlewy2lXsFqEV7D5ylewx/xXsISVWLBe11iwAfxYsOSgWbDd1Vmw+w5asM0oWrCkd1qw54xasGeTWrD9nFqwy9VasDP7WrDSMVuwj3RbsAsZXLALJVywAWFcsNFlXLCZZ1yw9fhcsMFmXbAsbl2w+JJdsBHvXbAD+12w+BhfsGUuX7DLQ1+wtExfsLR/X7AG+1+wAwpgsCZsYLCIbmCwSp9gsBmpYLAt4GCwQuVgsBU+YbAGfGGwwtxhsIY0YrD6O2KwcWxisGmdYrBF+WKwnDNjsHhpY7DEDGSwxZVksCHUZLAp8mSwqwplsKAPZbCZY2WwUhRmsNAlZrBSJ2awSldmsLzsZrA+KWewB0lnsOVPZ7CE52ew6hxosKFfaLCNCGmwrCNpsLoyabCqYmmwTJNpsN6dabDyYmqwsXBqsHuCarAnkWqwjdxqsPssa7Cmamuw0HJrsDUVbLAKGGywETZssMPrbLDbAW2wFVptsAvebbCUWG6wfTZvsDlnb7DshG+wiIpvsCCYb7BX9m+wyl1wsC2LcLCPsnCwodBwsB70cLBkLXGwY1dxsHLtcbCMAXKwCCRysHNOcrAGdHKwJbJysHkEc7CFL3Ow1YZzsLfPc7BO8HOw0flzsJcUdLCUgnSwd8F0sH0WdbCxbnWwsoB1sLscdrB3fXawp692sHnCdrA7/HewrxN4sF4UeLDVYXiwHGV4sM7meLBICnmw2yp5sK5TebAab3mwjJ55sIazebA8oHqw4NR6sMC1e7DtKnywPDt8sHhKfLDAm3yw9Z19sHnMfbA00H2wdmx+sDfhfrCJF3+wTSl/sHG6f7BqGICwAC+AsPRUgLArWICw4KeAsAG6gLBj3ICwBDaBsAxOgbDRkIGw6sGBsBMAgrCJOYKw2G6CsLOCgrBAs4KwIbWCsMbBgrAu04Kw2fSCsG4Ig7DIUIOwmIqDsOeSg7BjBoSwpKeEsEnMhLCbMIWwcEqFsFmbhbBSoYWwLN6FsHwdhrBIKIawImuGsLhxhrBaIYew0FKHsMpkh7AcnIewfPaHsBKFiLDM9IiwsBKJsOwsibDReImw6o2JsGuUibC204mwWI+KsAFvi7DufouwIrmLsK0HjLDjpoywElqNsCbdjbAcho6w59uOsOa2j7BChJGwSZOTsEagk7Dx9JOwyPaUsAx9lbBRE5ywW06fsE0OoLArqKCwGHarsOFDrbDRcq2waqevsAVcsLCJ87KwwGazsK36t7A6cbmwACK9sGb4vbBUyr+w+HHMsKnozbAbQ86whAjSsHSF1LAS3tWw/6PXsHfu47A+QOmwQ3DqsL1V7bCRR/CwuqbxsHzm8bD9jvOwtK71sKvP+LC5N/+w0XYDsTAgBbHtSwaxNN0GsYdNCLEdrwmx3b4KsWZtC7Ez4wuxuesPsfJDErHH9xSxdpcVsdBxGLE6jhmx6BEaseAGG7EeeCCxzhIhsS5jIbFGsiKxCzoksQEmLbEiJy2xCSowsbgmNLEYXzSxFV41sXzwNbGMpzaxt8A3sedLPbFCOkKxjsVFsTt2SLFh3EixwXZLsRCfS7HZt0uxviVRsTRAUbG2VVexgGxYseuUXbH66V2x4CdjsdI+Y7Gb2maxrg1ssRGXcLGOLnSxUGl6sf9mgLFNcoKxHL+CsXLTg7FvmIexoPmMsWGfj7FXf5GxPKORsS4FlrEJ/pexuLGYsdVembF5J56x0Y+lsWaXp7E2lKmxngKrsVForrH7MbmxFCm+sSLiybH3ssyxKhHNsUn+0rGhQ9SxKQjzsZIV+rF+af6xT3sFsqP+N7JG3Umy57osuEfHE7kkDMy5m0ckusdGi7p4Q6G6PXD2uo55/rrqtxG7soYmu/nsLLu6t0q7vVJ1u/0we7tGzZG7GMmau6Smp7tTmK67J8q4uyaQv7uYesy7XL7euyOu47uV++27obrzuz8y/LsqYAW8lVEJvH8SErw/fRW8G+cXvMHsIrw3aSe8JioyvEzUNbzo/j+8RupCvJ/bR7xWWlC81mBZvDk3XrwncWS81LlmvNgIerz9v3y822WAvI13i7y8V5C8bMiTvMK8nLxXbZ28yf6fvA66pLzy86W8aJGqvIXPrby5UK+8VAWyvKzwtLwLy7e88ELAvNthxbxgx+W87E9CvQ==",
          "dtype": "f4"
         },
         "xaxis": "x",
         "yaxis": "y"
        }
       ],
       "layout": {
        "barmode": "relative",
        "legend": {
         "title": {
          "text": "variable"
         },
         "tracegroupgap": 0
        },
        "template": {
         "data": {
          "bar": [
           {
            "error_x": {
             "color": "#2a3f5f"
            },
            "error_y": {
             "color": "#2a3f5f"
            },
            "marker": {
             "line": {
              "color": "#E5ECF6",
              "width": 0.5
             },
             "pattern": {
              "fillmode": "overlay",
              "size": 10,
              "solidity": 0.2
             }
            },
            "type": "bar"
           }
          ],
          "barpolar": [
           {
            "marker": {
             "line": {
              "color": "#E5ECF6",
              "width": 0.5
             },
             "pattern": {
              "fillmode": "overlay",
              "size": 10,
              "solidity": 0.2
             }
            },
            "type": "barpolar"
           }
          ],
          "carpet": [
           {
            "aaxis": {
             "endlinecolor": "#2a3f5f",
             "gridcolor": "white",
             "linecolor": "white",
             "minorgridcolor": "white",
             "startlinecolor": "#2a3f5f"
            },
            "baxis": {
             "endlinecolor": "#2a3f5f",
             "gridcolor": "white",
             "linecolor": "white",
             "minorgridcolor": "white",
             "startlinecolor": "#2a3f5f"
            },
            "type": "carpet"
           }
          ],
          "choropleth": [
           {
            "colorbar": {
             "outlinewidth": 0,
             "ticks": ""
            },
            "type": "choropleth"
           }
          ],
          "contour": [
           {
            "colorbar": {
             "outlinewidth": 0,
             "ticks": ""
            },
            "colorscale": [
             [
              0,
              "#0d0887"
             ],
             [
              0.1111111111111111,
              "#46039f"
             ],
             [
              0.2222222222222222,
              "#7201a8"
             ],
             [
              0.3333333333333333,
              "#9c179e"
             ],
             [
              0.4444444444444444,
              "#bd3786"
             ],
             [
              0.5555555555555556,
              "#d8576b"
             ],
             [
              0.6666666666666666,
              "#ed7953"
             ],
             [
              0.7777777777777778,
              "#fb9f3a"
             ],
             [
              0.8888888888888888,
              "#fdca26"
             ],
             [
              1,
              "#f0f921"
             ]
            ],
            "type": "contour"
           }
          ],
          "contourcarpet": [
           {
            "colorbar": {
             "outlinewidth": 0,
             "ticks": ""
            },
            "type": "contourcarpet"
           }
          ],
          "heatmap": [
           {
            "colorbar": {
             "outlinewidth": 0,
             "ticks": ""
            },
            "colorscale": [
             [
              0,
              "#0d0887"
             ],
             [
              0.1111111111111111,
              "#46039f"
             ],
             [
              0.2222222222222222,
              "#7201a8"
             ],
             [
              0.3333333333333333,
              "#9c179e"
             ],
             [
              0.4444444444444444,
              "#bd3786"
             ],
             [
              0.5555555555555556,
              "#d8576b"
             ],
             [
              0.6666666666666666,
              "#ed7953"
             ],
             [
              0.7777777777777778,
              "#fb9f3a"
             ],
             [
              0.8888888888888888,
              "#fdca26"
             ],
             [
              1,
              "#f0f921"
             ]
            ],
            "type": "heatmap"
           }
          ],
          "histogram": [
           {
            "marker": {
             "pattern": {
              "fillmode": "overlay",
              "size": 10,
              "solidity": 0.2
             }
            },
            "type": "histogram"
           }
          ],
          "histogram2d": [
           {
            "colorbar": {
             "outlinewidth": 0,
             "ticks": ""
            },
            "colorscale": [
             [
              0,
              "#0d0887"
             ],
             [
              0.1111111111111111,
              "#46039f"
             ],
             [
              0.2222222222222222,
              "#7201a8"
             ],
             [
              0.3333333333333333,
              "#9c179e"
             ],
             [
              0.4444444444444444,
              "#bd3786"
             ],
             [
              0.5555555555555556,
              "#d8576b"
             ],
             [
              0.6666666666666666,
              "#ed7953"
             ],
             [
              0.7777777777777778,
              "#fb9f3a"
             ],
             [
              0.8888888888888888,
              "#fdca26"
             ],
             [
              1,
              "#f0f921"
             ]
            ],
            "type": "histogram2d"
           }
          ],
          "histogram2dcontour": [
           {
            "colorbar": {
             "outlinewidth": 0,
             "ticks": ""
            },
            "colorscale": [
             [
              0,
              "#0d0887"
             ],
             [
              0.1111111111111111,
              "#46039f"
             ],
             [
              0.2222222222222222,
              "#7201a8"
             ],
             [
              0.3333333333333333,
              "#9c179e"
             ],
             [
              0.4444444444444444,
              "#bd3786"
             ],
             [
              0.5555555555555556,
              "#d8576b"
             ],
             [
              0.6666666666666666,
              "#ed7953"
             ],
             [
              0.7777777777777778,
              "#fb9f3a"
             ],
             [
              0.8888888888888888,
              "#fdca26"
             ],
             [
              1,
              "#f0f921"
             ]
            ],
            "type": "histogram2dcontour"
           }
          ],
          "mesh3d": [
           {
            "colorbar": {
             "outlinewidth": 0,
             "ticks": ""
            },
            "type": "mesh3d"
           }
          ],
          "parcoords": [
           {
            "line": {
             "colorbar": {
              "outlinewidth": 0,
              "ticks": ""
             }
            },
            "type": "parcoords"
           }
          ],
          "pie": [
           {
            "automargin": true,
            "type": "pie"
           }
          ],
          "scatter": [
           {
            "fillpattern": {
             "fillmode": "overlay",
             "size": 10,
             "solidity": 0.2
            },
            "type": "scatter"
           }
          ],
          "scatter3d": [
           {
            "line": {
             "colorbar": {
              "outlinewidth": 0,
              "ticks": ""
             }
            },
            "marker": {
             "colorbar": {
              "outlinewidth": 0,
              "ticks": ""
             }
            },
            "type": "scatter3d"
           }
          ],
          "scattercarpet": [
           {
            "marker": {
             "colorbar": {
              "outlinewidth": 0,
              "ticks": ""
             }
            },
            "type": "scattercarpet"
           }
          ],
          "scattergeo": [
           {
            "marker": {
             "colorbar": {
              "outlinewidth": 0,
              "ticks": ""
             }
            },
            "type": "scattergeo"
           }
          ],
          "scattergl": [
           {
            "marker": {
             "colorbar": {
              "outlinewidth": 0,
              "ticks": ""
             }
            },
            "type": "scattergl"
           }
          ],
          "scattermap": [
           {
            "marker": {
             "colorbar": {
              "outlinewidth": 0,
              "ticks": ""
             }
            },
            "type": "scattermap"
           }
          ],
          "scattermapbox": [
           {
            "marker": {
             "colorbar": {
              "outlinewidth": 0,
              "ticks": ""
             }
            },
            "type": "scattermapbox"
           }
          ],
          "scatterpolar": [
           {
            "marker": {
             "colorbar": {
              "outlinewidth": 0,
              "ticks": ""
             }
            },
            "type": "scatterpolar"
           }
          ],
          "scatterpolargl": [
           {
            "marker": {
             "colorbar": {
              "outlinewidth": 0,
              "ticks": ""
             }
            },
            "type": "scatterpolargl"
           }
          ],
          "scatterternary": [
           {
            "marker": {
             "colorbar": {
              "outlinewidth": 0,
              "ticks": ""
             }
            },
            "type": "scatterternary"
           }
          ],
          "surface": [
           {
            "colorbar": {
             "outlinewidth": 0,
             "ticks": ""
            },
            "colorscale": [
             [
              0,
              "#0d0887"
             ],
             [
              0.1111111111111111,
              "#46039f"
             ],
             [
              0.2222222222222222,
              "#7201a8"
             ],
             [
              0.3333333333333333,
              "#9c179e"
             ],
             [
              0.4444444444444444,
              "#bd3786"
             ],
             [
              0.5555555555555556,
              "#d8576b"
             ],
             [
              0.6666666666666666,
              "#ed7953"
             ],
             [
              0.7777777777777778,
              "#fb9f3a"
             ],
             [
              0.8888888888888888,
              "#fdca26"
             ],
             [
              1,
              "#f0f921"
             ]
            ],
            "type": "surface"
           }
          ],
          "table": [
           {
            "cells": {
             "fill": {
              "color": "#EBF0F8"
             },
             "line": {
              "color": "white"
             }
            },
            "header": {
             "fill": {
              "color": "#C8D4E3"
             },
             "line": {
              "color": "white"
             }
            },
            "type": "table"
           }
          ]
         },
         "layout": {
          "annotationdefaults": {
           "arrowcolor": "#2a3f5f",
           "arrowhead": 0,
           "arrowwidth": 1
          },
          "autotypenumbers": "strict",
          "coloraxis": {
           "colorbar": {
            "outlinewidth": 0,
            "ticks": ""
           }
          },
          "colorscale": {
           "diverging": [
            [
             0,
             "#8e0152"
            ],
            [
             0.1,
             "#c51b7d"
            ],
            [
             0.2,
             "#de77ae"
            ],
            [
             0.3,
             "#f1b6da"
            ],
            [
             0.4,
             "#fde0ef"
            ],
            [
             0.5,
             "#f7f7f7"
            ],
            [
             0.6,
             "#e6f5d0"
            ],
            [
             0.7,
             "#b8e186"
            ],
            [
             0.8,
             "#7fbc41"
            ],
            [
             0.9,
             "#4d9221"
            ],
            [
             1,
             "#276419"
            ]
           ],
           "sequential": [
            [
             0,
             "#0d0887"
            ],
            [
             0.1111111111111111,
             "#46039f"
            ],
            [
             0.2222222222222222,
             "#7201a8"
            ],
            [
             0.3333333333333333,
             "#9c179e"
            ],
            [
             0.4444444444444444,
             "#bd3786"
            ],
            [
             0.5555555555555556,
             "#d8576b"
            ],
            [
             0.6666666666666666,
             "#ed7953"
            ],
            [
             0.7777777777777778,
             "#fb9f3a"
            ],
            [
             0.8888888888888888,
             "#fdca26"
            ],
            [
             1,
             "#f0f921"
            ]
           ],
           "sequentialminus": [
            [
             0,
             "#0d0887"
            ],
            [
             0.1111111111111111,
             "#46039f"
            ],
            [
             0.2222222222222222,
             "#7201a8"
            ],
            [
             0.3333333333333333,
             "#9c179e"
            ],
            [
             0.4444444444444444,
             "#bd3786"
            ],
            [
             0.5555555555555556,
             "#d8576b"
            ],
            [
             0.6666666666666666,
             "#ed7953"
            ],
            [
             0.7777777777777778,
             "#fb9f3a"
            ],
            [
             0.8888888888888888,
             "#fdca26"
            ],
            [
             1,
             "#f0f921"
            ]
           ]
          },
          "colorway": [
           "#636efa",
           "#EF553B",
           "#00cc96",
           "#ab63fa",
           "#FFA15A",
           "#19d3f3",
           "#FF6692",
           "#B6E880",
           "#FF97FF",
           "#FECB52"
          ],
          "font": {
           "color": "#2a3f5f"
          },
          "geo": {
           "bgcolor": "white",
           "lakecolor": "white",
           "landcolor": "#E5ECF6",
           "showlakes": true,
           "showland": true,
           "subunitcolor": "white"
          },
          "hoverlabel": {
           "align": "left"
          },
          "hovermode": "closest",
          "mapbox": {
           "style": "light"
          },
          "paper_bgcolor": "white",
          "plot_bgcolor": "#E5ECF6",
          "polar": {
           "angularaxis": {
            "gridcolor": "white",
            "linecolor": "white",
            "ticks": ""
           },
           "bgcolor": "#E5ECF6",
           "radialaxis": {
            "gridcolor": "white",
            "linecolor": "white",
            "ticks": ""
           }
          },
          "scene": {
           "xaxis": {
            "backgroundcolor": "#E5ECF6",
            "gridcolor": "white",
            "gridwidth": 2,
            "linecolor": "white",
            "showbackground": true,
            "ticks": "",
            "zerolinecolor": "white"
           },
           "yaxis": {
            "backgroundcolor": "#E5ECF6",
            "gridcolor": "white",
            "gridwidth": 2,
            "linecolor": "white",
            "showbackground": true,
            "ticks": "",
            "zerolinecolor": "white"
           },
           "zaxis": {
            "backgroundcolor": "#E5ECF6",
            "gridcolor": "white",
            "gridwidth": 2,
            "linecolor": "white",
            "showbackground": true,
            "ticks": "",
            "zerolinecolor": "white"
           }
          },
          "shapedefaults": {
           "line": {
            "color": "#2a3f5f"
           }
          },
          "ternary": {
           "aaxis": {
            "gridcolor": "white",
            "linecolor": "white",
            "ticks": ""
           },
           "baxis": {
            "gridcolor": "white",
            "linecolor": "white",
            "ticks": ""
           },
           "bgcolor": "#E5ECF6",
           "caxis": {
            "gridcolor": "white",
            "linecolor": "white",
            "ticks": ""
           }
          },
          "title": {
           "x": 0.05
          },
          "xaxis": {
           "automargin": true,
           "gridcolor": "white",
           "linecolor": "white",
           "ticks": "",
           "title": {
            "standoff": 15
           },
           "zerolinecolor": "white",
           "zerolinewidth": 2
          },
          "yaxis": {
           "automargin": true,
           "gridcolor": "white",
           "linecolor": "white",
           "ticks": "",
           "title": {
            "standoff": 15
           },
           "zerolinecolor": "white",
           "zerolinewidth": 2
          }
         }
        },
        "title": {
         "text": "Eigenvalues of $Q$"
        },
        "xaxis": {
         "anchor": "y",
         "domain": [
          0,
          1
         ],
         "title": {
          "text": "value"
         }
        },
        "yaxis": {
         "anchor": "x",
         "domain": [
          0,
          1
         ],
         "title": {
          "text": "count"
         }
        }
       }
      }
     },
     "metadata": {},
     "output_type": "display_data"
    }
   ],
   "source": [
    "px.histogram(vals.flatten(), nbins=100, title=\"Eigenvalues of $Q$\").show()"
   ]
  },
  {
   "cell_type": "code",
   "execution_count": 15,
   "id": "e9c6e0a7",
   "metadata": {},
   "outputs": [
    {
     "name": "stdout",
     "output_type": "stream",
     "text": [
      "==================== Component 0 (0.07013331353664398) ====================\n",
      "['Ly6c2', 'Ckap4', 'Phb2', 'Elane', 'Ssr2', 'Hsp90b1', 'Isyna1', 'Srp19', 'Hspa5', 'Beta-s']\n",
      "['Apoe', 'Nrgn', 'Ptprcap', 'Mdga1', 'Gata2', 'Gnb2l1', 'Dapp1', 'Txnip', 'Cmtm4', 'Gpr56']\n",
      "==================== Component 1 (0.027994103729724884) ====================\n",
      "['Srp9', 'Tspo', 'Itm2b', 'Krtcap2', 'Hsd17b11', 'C1galt1c1', 'Pkn2', 'Plxnb2', 'Wasf2', 'Ccdc102a']\n",
      "['Gatsl3', 'Dusp16', 'Dusp3', 'Dock8', 'Zfml', 'Fbxl20', 'Ttll9', 'Flt3', 'Usp25', 'Eif3m']\n",
      "==================== Component 2 (0.026889201253652573) ====================\n",
      "['Plekha2', 'Ulk3', 'Ptprs', 'Mrps28', 'Anp32a', 'BC025067', 'Map4k3', 'Nop2', 'Gp5', 'Heatr1']\n",
      "['Syngr1', 'Ninl', 'Nxt1', 'Sh3bgrl3', 'Tapbpl', 'Itga2b', 'Arhgef3', 'Camsap1l1', 'Uhrf1bp1', 'Capn5']\n"
     ]
    }
   ],
   "source": [
    "n_top_genes = 10\n",
    "for i in range(3):  # top components\n",
    "    top_idxs = vecs[:,i].topk(n_top_genes).indices\n",
    "    top_genes = adata.var_names[top_idxs].tolist()\n",
    "    bottom_idxs = (-vecs[:,i]).topk(n_top_genes).indices\n",
    "    bottom_genes = adata.var_names[bottom_idxs].tolist()\n",
    "    print(\"=\"*20, f\"Component {i} ({vals[i]})\", \"=\"*20)\n",
    "    print(top_genes)\n",
    "    print(bottom_genes)"
   ]
  },
  {
   "cell_type": "code",
   "execution_count": 16,
   "id": "434cecc2",
   "metadata": {},
   "outputs": [],
   "source": [
    "# n_top_genes = 10\n",
    "# for c in range(n_cell_types):\n",
    "#     print(f\"Cell type {c}\")\n",
    "#     for i in range(n_genes-1, n_genes-4, -1):  # top components\n",
    "#         top_idxs = vecs[:,i].topk(n_top_genes).indices\n",
    "#         top_genes = adata.var_names[top_idxs].tolist()\n",
    "#         bottom_idxs = (-vecs[:,i]).topk(n_top_genes).indices\n",
    "#         bottom_genes = adata.var_names[bottom_idxs].tolist()\n",
    "#         print(\"=\"*20, f\"Component {i} ({vals[i]})\", \"=\"*20)\n",
    "#         print(top_genes)\n",
    "#         print(bottom_genes)\n",
    "#     print()"
   ]
  },
  {
   "cell_type": "markdown",
   "id": "8f4f7c02",
   "metadata": {},
   "source": [
    "Bottom components don't look that interesting."
   ]
  },
  {
   "cell_type": "code",
   "execution_count": 17,
   "id": "cfd69eb5",
   "metadata": {},
   "outputs": [
    {
     "data": {
      "image/png": "[encoded data removed]",
      "text/plain": [
       "<Figure size 563x250 with 6 Axes>"
      ]
     },
     "metadata": {},
     "output_type": "display_data"
    }
   ],
   "source": [
    "# Plot again for reference\n",
    "sc.pl.rank_genes_groups_dotplot(adata, n_genes=3, cmap=\"Greys\")"
   ]
  },
  {
   "cell_type": "markdown",
   "id": "d8ed6587",
   "metadata": {},
   "source": [
    "### Plot cells in $Q$ component space"
   ]
  },
  {
   "cell_type": "code",
   "execution_count": 18,
   "id": "c0010a47",
   "metadata": {},
   "outputs": [
    {
     "ename": "NameError",
     "evalue": "name 'vecs' is not defined",
     "output_type": "error",
     "traceback": [
      "\u001b[0;31m---------------------------------------------------------------------------\u001b[0m",
      "\u001b[0;31mNameError\u001b[0m                                 Traceback (most recent call last)",
      "Cell \u001b[0;32mIn[18], line 1\u001b[0m\n\u001b[0;32m----> 1\u001b[0m adata\u001b[38;5;241m.\u001b[39mobsm[\u001b[38;5;124m\"\u001b[39m\u001b[38;5;124mX_Q\u001b[39m\u001b[38;5;124m\"\u001b[39m] \u001b[38;5;241m=\u001b[39m adata\u001b[38;5;241m.\u001b[39mX \u001b[38;5;241m@\u001b[39m \u001b[43mvecs\u001b[49m[:, :\u001b[38;5;241m3\u001b[39m]\u001b[38;5;241m.\u001b[39mnumpy()  \u001b[38;5;66;03m# project into component space\u001b[39;00m\n\u001b[1;32m      3\u001b[0m fig \u001b[38;5;241m=\u001b[39m px\u001b[38;5;241m.\u001b[39mscatter(\n\u001b[1;32m      4\u001b[0m     x\u001b[38;5;241m=\u001b[39madata\u001b[38;5;241m.\u001b[39mobsm[\u001b[38;5;124m\"\u001b[39m\u001b[38;5;124mX_Q\u001b[39m\u001b[38;5;124m\"\u001b[39m][:, \u001b[38;5;241m0\u001b[39m],\n\u001b[1;32m      5\u001b[0m     y\u001b[38;5;241m=\u001b[39madata\u001b[38;5;241m.\u001b[39mobsm[\u001b[38;5;124m\"\u001b[39m\u001b[38;5;124mX_Q\u001b[39m\u001b[38;5;124m\"\u001b[39m][:, \u001b[38;5;241m1\u001b[39m],\n\u001b[0;32m   (...)\u001b[0m\n\u001b[1;32m      9\u001b[0m     height\u001b[38;5;241m=\u001b[39m\u001b[38;5;241m600\u001b[39m,\n\u001b[1;32m     10\u001b[0m )\n\u001b[1;32m     11\u001b[0m fig\u001b[38;5;241m.\u001b[39mupdate_traces(marker\u001b[38;5;241m=\u001b[39m\u001b[38;5;28mdict\u001b[39m(size\u001b[38;5;241m=\u001b[39m\u001b[38;5;241m5\u001b[39m))\n",
      "\u001b[0;31mNameError\u001b[0m: name 'vecs' is not defined"
     ]
    }
   ],
   "source": [
    "adata.obsm[\"X_Q\"] = adata.X @ vecs[:, :3].numpy()  # project into component space\n",
    "\n",
    "fig = px.scatter(\n",
    "    x=adata.obsm[\"X_Q\"][:, 0],\n",
    "    y=adata.obsm[\"X_Q\"][:, 1],\n",
    "    color=adata.obs[\"cell_type\"],\n",
    "    title=\"Myeloid progenitor differentiation data\",\n",
    "    width=600,\n",
    "    height=600,\n",
    ")\n",
    "fig.update_traces(marker=dict(size=5))\n",
    "fig.show()"
   ]
  },
  {
   "cell_type": "markdown",
   "id": "57488f39",
   "metadata": {},
   "source": [
    "# Iterate over output directions"
   ]
  },
  {
   "cell_type": "code",
   "execution_count": 19,
   "id": "d036e708",
   "metadata": {},
   "outputs": [],
   "source": [
    "b = einops.einsum(model.w_p, model.w_l, model.w_r, \"out hid, hid in1, hid in2 -> out in1 in2\")\n",
    "b = 0.5 * (b + b.mT)  # symmetrize"
   ]
  },
  {
   "cell_type": "markdown",
   "id": "e40294e8",
   "metadata": {},
   "source": [
    "## Print component markers"
   ]
  },
  {
   "cell_type": "code",
   "execution_count": 20,
   "id": "52dfa748",
   "metadata": {},
   "outputs": [
    {
     "name": "stdout",
     "output_type": "stream",
     "text": [
      "Cell type 0\n",
      "==================== Component 0 (0.12310803681612015) ====================\n",
      "['Hpn', 'Rrm2', 'Erp29', 'Ppm1g', 'Snd1', 'Ctsg', 'Prtn3', 'Fam132a', 'Cpox', 'P4hb']\n",
      "['Apoe', 'Serpina3f', 'S100a10', 'Ptprcap', 'Gata2', 'Ifitm1', 'Nrgn', 'Spns2', 'Txnip', 'Rps3']\n",
      "==================== Component 1 (0.0324581153690815) ====================\n",
      "['Rassf3', 'Grn', 'Pfkp', 'Sla', 'Acot7', 'Cdcrel-1', 'Pdlim2', 'Bambi', 'Tmem59', 'Ass1']\n",
      "['Hba-a2', 'Ublcp1', 'Spna1', 'Lmna', 'Prelid2', 'Dkkl1', 'Hbb-b1', 'Uhrf1bp1', 'Sec14l2', 'Clec2d']\n",
      "==================== Component 2 (0.028180202469229698) ====================\n",
      "['Pf4', 'Gp9', 'Mnda', 'Mll2', 'AK081788', 'Cxcl10', 'Hp', 'Slc24a6', 'Olfm1', 'Rps6ka2']\n",
      "['Tspan13', 'Plcl2', 'Elmo1', 'Txnl4a', 'Psmb2', 'Pccb', 'Cd63', 'Kit', 'Ctcf', 'Thrap3']\n",
      "\n",
      "Cell type 1\n",
      "==================== Component 0 (0.12310803681612015) ====================\n",
      "['Hpn', 'Rrm2', 'Erp29', 'Ppm1g', 'Snd1', 'Ctsg', 'Prtn3', 'Fam132a', 'Cpox', 'P4hb']\n",
      "['Apoe', 'Serpina3f', 'S100a10', 'Ptprcap', 'Gata2', 'Ifitm1', 'Nrgn', 'Spns2', 'Txnip', 'Rps3']\n",
      "==================== Component 1 (0.0324581153690815) ====================\n",
      "['Rassf3', 'Grn', 'Pfkp', 'Sla', 'Acot7', 'Cdcrel-1', 'Pdlim2', 'Bambi', 'Tmem59', 'Ass1']\n",
      "['Hba-a2', 'Ublcp1', 'Spna1', 'Lmna', 'Prelid2', 'Dkkl1', 'Hbb-b1', 'Uhrf1bp1', 'Sec14l2', 'Clec2d']\n",
      "==================== Component 2 (0.028180202469229698) ====================\n",
      "['Pf4', 'Gp9', 'Mnda', 'Mll2', 'AK081788', 'Cxcl10', 'Hp', 'Slc24a6', 'Olfm1', 'Rps6ka2']\n",
      "['Tspan13', 'Plcl2', 'Elmo1', 'Txnl4a', 'Psmb2', 'Pccb', 'Cd63', 'Kit', 'Ctcf', 'Thrap3']\n",
      "\n",
      "Cell type 1\n",
      "==================== Component 0 (0.08965029567480087) ====================\n",
      "['Mycn', 'Ddah2', 'Vim', 'Meis1', 'Ly6c2', 'Zbtb4', 'Mpl', 'Txnip', 'Cbr3', 'Pf4']\n",
      "['Mt2', 'Mrpl52', 'Car1', 'Cpox', 'Ermap', 'Blvrb', 'Aplp2', 'Eef1g', 'Rhd', 'Cct7']\n",
      "==================== Component 1 (0.03123318776488304) ====================\n",
      "['Beta-s', 'Ampd3', 'Ppap2a', 'Epb4.9', 'Hebp1', 'Uros', 'Hba-a2', '1300017J02Rik', 'Fads3', 'Aldh1a1']\n",
      "['AK042041', 'Eif2c3', 'Ass1', 'Rab11fip1', 'Lat', 'Timp2', 'Msi2', 'Crip1', 'Nrgn', 'Kdm5b']\n",
      "==================== Component 2 (0.025684820488095284) ====================\n",
      "['Vps13c', 'Cox17', 'Klrb1c', 'Psmb7', 'Ptprcap', 'Tmem165', 'Ylpm1', 'Hnrnpul1', 'Smc3', 'Birc6']\n",
      "['Sod2', 'H47', 'Tpd52', 'Ncln', 'Nop2', 'Eif3a', 'Mrps5', 'Atmin', 'Tecr', 'Pcyt1b']\n",
      "\n",
      "Cell type 2\n",
      "==================== Component 0 (0.08965029567480087) ====================\n",
      "['Mycn', 'Ddah2', 'Vim', 'Meis1', 'Ly6c2', 'Zbtb4', 'Mpl', 'Txnip', 'Cbr3', 'Pf4']\n",
      "['Mt2', 'Mrpl52', 'Car1', 'Cpox', 'Ermap', 'Blvrb', 'Aplp2', 'Eef1g', 'Rhd', 'Cct7']\n",
      "==================== Component 1 (0.03123318776488304) ====================\n",
      "['Beta-s', 'Ampd3', 'Ppap2a', 'Epb4.9', 'Hebp1', 'Uros', 'Hba-a2', '1300017J02Rik', 'Fads3', 'Aldh1a1']\n",
      "['AK042041', 'Eif2c3', 'Ass1', 'Rab11fip1', 'Lat', 'Timp2', 'Msi2', 'Crip1', 'Nrgn', 'Kdm5b']\n",
      "==================== Component 2 (0.025684820488095284) ====================\n",
      "['Vps13c', 'Cox17', 'Klrb1c', 'Psmb7', 'Ptprcap', 'Tmem165', 'Ylpm1', 'Hnrnpul1', 'Smc3', 'Birc6']\n",
      "['Sod2', 'H47', 'Tpd52', 'Ncln', 'Nop2', 'Eif3a', 'Mrps5', 'Atmin', 'Tecr', 'Pcyt1b']\n",
      "\n",
      "Cell type 2\n",
      "==================== Component 0 (0.10008622705936432) ====================\n",
      "['2210020M01Rik', 'Gata2', 'Isg20', 'Irg1', 'Mgll', 'Fam132a', 'Rhd', 'Slc14a1', 'Lmna', 'H2-Eb1']\n",
      "['H2afy', 'Ctsg', 'Prtn3', 'Elane', 'Mpo', 'Alas1', 'Pkm2', 'Calr', 'Ramp1', 'Emb']\n",
      "==================== Component 1 (0.04208136722445488) ====================\n",
      "['H2afy', 'Irf8', 'Flt3', 'Apobec3', 'Lcp1', 'Aes', 'Arhgap30', 'Emb', 'Sell', 'Litaf']\n",
      "['1190002H23Rik', 'B4galt6', 'Chd7', 'Cd63', 'Cebpe', 'Mogat2', 'Gpi1', 'Gstm1', 'Elane', 'Ltb4r1']\n",
      "==================== Component 2 (0.029149604961276054) ====================\n",
      "['Dnajc10', 'Atp8b2', 'Hip1r', 'Hoxa9', 'Bambi-ps1', 'Prkcd', 'Sfrs3', 'B4galt5', 'Gmfg', 'Gng10']\n",
      "['Prnd', 'Cars', 'Parp1', 'Hps3', 'Ebi3', 'Diap2', '5730508B09Rik', 'Polr1d', 'Gm672', 'Strap']\n",
      "\n",
      "==================== Component 0 (0.10008622705936432) ====================\n",
      "['2210020M01Rik', 'Gata2', 'Isg20', 'Irg1', 'Mgll', 'Fam132a', 'Rhd', 'Slc14a1', 'Lmna', 'H2-Eb1']\n",
      "['H2afy', 'Ctsg', 'Prtn3', 'Elane', 'Mpo', 'Alas1', 'Pkm2', 'Calr', 'Ramp1', 'Emb']\n",
      "==================== Component 1 (0.04208136722445488) ====================\n",
      "['H2afy', 'Irf8', 'Flt3', 'Apobec3', 'Lcp1', 'Aes', 'Arhgap30', 'Emb', 'Sell', 'Litaf']\n",
      "['1190002H23Rik', 'B4galt6', 'Chd7', 'Cd63', 'Cebpe', 'Mogat2', 'Gpi1', 'Gstm1', 'Elane', 'Ltb4r1']\n",
      "==================== Component 2 (0.029149604961276054) ====================\n",
      "['Dnajc10', 'Atp8b2', 'Hip1r', 'Hoxa9', 'Bambi-ps1', 'Prkcd', 'Sfrs3', 'B4galt5', 'Gmfg', 'Gng10']\n",
      "['Prnd', 'Cars', 'Parp1', 'Hps3', 'Ebi3', 'Diap2', '5730508B09Rik', 'Polr1d', 'Gm672', 'Strap']\n",
      "\n"
     ]
    }
   ],
   "source": [
    "n_top_genes = 10\n",
    "for c in range(n_cell_types):\n",
    "\n",
    "    print(f\"Cell type {c}\")\n",
    "\n",
    "    vals, vecs = torch.linalg.eigh(b[c])\n",
    "    vals = vals.flip([0])\n",
    "    vecs = vecs.flip([1])\n",
    "\n",
    "    for i in range(3):  # top components\n",
    "        top_idxs = vecs[:,i].topk(n_top_genes).indices\n",
    "        top_genes = adata.var_names[top_idxs].tolist()\n",
    "        bottom_idxs = (-vecs[:,i]).topk(n_top_genes).indices\n",
    "        bottom_genes = adata.var_names[bottom_idxs].tolist()\n",
    "        print(\"=\"*20, f\"Component {i} ({vals[i]})\", \"=\"*20)\n",
    "        print(top_genes)\n",
    "        print(bottom_genes)\n",
    "    print()"
   ]
  },
  {
   "cell_type": "code",
   "execution_count": 21,
   "id": "8863b84d",
   "metadata": {},
   "outputs": [
    {
     "data": {
      "image/png": "[encoded data removed]",
      "text/plain": [
       "<Figure size 563x250 with 6 Axes>"
      ]
     },
     "metadata": {},
     "output_type": "display_data"
    }
   ],
   "source": [
    "# Plot again for reference\n",
    "sc.pl.rank_genes_groups_dotplot(adata, n_genes=3, cmap=\"Greys\")"
   ]
  },
  {
   "cell_type": "markdown",
   "id": "513243b5",
   "metadata": {},
   "source": [
    "Wow. It actually works?\n",
    "\n",
    "But marker genes are grouped on one side of a component.\n",
    "- What does the other side mean?\n",
    "- Explore analytically."
   ]
  },
  {
   "cell_type": "markdown",
   "id": "f8ad7426",
   "metadata": {},
   "source": [
    "## Plot cells in component space"
   ]
  },
  {
   "cell_type": "code",
   "execution_count": 22,
   "id": "f358b9ec",
   "metadata": {},
   "outputs": [
    {
     "data": {
      "application/vnd.plotly.v1+json": {
       "config": {
        "plotlyServerURL": "https://plot.ly"
       },
       "data": [
        {
         "hovertemplate": "color=0<br>x=%{x}<br>y=%{y}<extra></extra>",
         "legendgroup": "0",
         "marker": {
          "color": "#636efa",
          "size": 5,
          "symbol": "circle"
         },
         "mode": "markers",
         "name": "0",
         "showlegend": true,
         "type": "scattergl",
         "x": {
          "bdata": "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",
          "dtype": "f4"
         },
         "xaxis": "x",
         "y": {
          "bdata": "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",
          "dtype": "f4"
         },
         "yaxis": "y"
        },
        {
         "hovertemplate": "color=2<br>x=%{x}<br>y=%{y}<extra></extra>",
         "legendgroup": "2",
         "marker": {
          "color": "#EF553B",
          "size": 5,
          "symbol": "circle"
         },
         "mode": "markers",
         "name": "2",
         "showlegend": true,
         "type": "scattergl",
         "x": {
          "bdata": "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",
          "dtype": "f4"
         },
         "xaxis": "x",
         "y": {
          "bdata": "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",
          "dtype": "f4"
         },
         "yaxis": "y"
        },
        {
         "hovertemplate": "color=1<br>x=%{x}<br>y=%{y}<extra></extra>",
         "legendgroup": "1",
         "marker": {
          "color": "#00cc96",
          "size": 5,
          "symbol": "circle"
         },
         "mode": "markers",
         "name": "1",
         "showlegend": true,
         "type": "scattergl",
         "x": {
          "bdata": "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",
          "dtype": "f4"
         },
         "xaxis": "x",
         "y": {
          "bdata": "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",
          "dtype": "f4"
         },
         "yaxis": "y"
        }
       ],
       "layout": {
        "height": 600,
        "legend": {
         "title": {
          "text": "color"
         },
         "tracegroupgap": 0
        },
        "template": {
         "data": {
          "bar": [
           {
            "error_x": {
             "color": "#2a3f5f"
            },
            "error_y": {
             "color": "#2a3f5f"
            },
            "marker": {
             "line": {
              "color": "#E5ECF6",
              "width": 0.5
             },
             "pattern": {
              "fillmode": "overlay",
              "size": 10,
              "solidity": 0.2
             }
            },
            "type": "bar"
           }
          ],
          "barpolar": [
           {
            "marker": {
             "line": {
              "color": "#E5ECF6",
              "width": 0.5
             },
             "pattern": {
              "fillmode": "overlay",
              "size": 10,
              "solidity": 0.2
             }
            },
            "type": "barpolar"
           }
          ],
          "carpet": [
           {
            "aaxis": {
             "endlinecolor": "#2a3f5f",
             "gridcolor": "white",
             "linecolor": "white",
             "minorgridcolor": "white",
             "startlinecolor": "#2a3f5f"
            },
            "baxis": {
             "endlinecolor": "#2a3f5f",
             "gridcolor": "white",
             "linecolor": "white",
             "minorgridcolor": "white",
             "startlinecolor": "#2a3f5f"
            },
            "type": "carpet"
           }
          ],
          "choropleth": [
           {
            "colorbar": {
             "outlinewidth": 0,
             "ticks": ""
            },
            "type": "choropleth"
           }
          ],
          "contour": [
           {
            "colorbar": {
             "outlinewidth": 0,
             "ticks": ""
            },
            "colorscale": [
             [
              0,
              "#0d0887"
             ],
             [
              0.1111111111111111,
              "#46039f"
             ],
             [
              0.2222222222222222,
              "#7201a8"
             ],
             [
              0.3333333333333333,
              "#9c179e"
             ],
             [
              0.4444444444444444,
              "#bd3786"
             ],
             [
              0.5555555555555556,
              "#d8576b"
             ],
             [
              0.6666666666666666,
              "#ed7953"
             ],
             [
              0.7777777777777778,
              "#fb9f3a"
             ],
             [
              0.8888888888888888,
              "#fdca26"
             ],
             [
              1,
              "#f0f921"
             ]
            ],
            "type": "contour"
           }
          ],
          "contourcarpet": [
           {
            "colorbar": {
             "outlinewidth": 0,
             "ticks": ""
            },
            "type": "contourcarpet"
           }
          ],
          "heatmap": [
           {
            "colorbar": {
             "outlinewidth": 0,
             "ticks": ""
            },
            "colorscale": [
             [
              0,
              "#0d0887"
             ],
             [
              0.1111111111111111,
              "#46039f"
             ],
             [
              0.2222222222222222,
              "#7201a8"
             ],
             [
              0.3333333333333333,
              "#9c179e"
             ],
             [
              0.4444444444444444,
              "#bd3786"
             ],
             [
              0.5555555555555556,
              "#d8576b"
             ],
             [
              0.6666666666666666,
              "#ed7953"
             ],
             [
              0.7777777777777778,
              "#fb9f3a"
             ],
             [
              0.8888888888888888,
              "#fdca26"
             ],
             [
              1,
              "#f0f921"
             ]
            ],
            "type": "heatmap"
           }
          ],
          "histogram": [
           {
            "marker": {
             "pattern": {
              "fillmode": "overlay",
              "size": 10,
              "solidity": 0.2
             }
            },
            "type": "histogram"
           }
          ],
          "histogram2d": [
           {
            "colorbar": {
             "outlinewidth": 0,
             "ticks": ""
            },
            "colorscale": [
             [
              0,
              "#0d0887"
             ],
             [
              0.1111111111111111,
              "#46039f"
             ],
             [
              0.2222222222222222,
              "#7201a8"
             ],
             [
              0.3333333333333333,
              "#9c179e"
             ],
             [
              0.4444444444444444,
              "#bd3786"
             ],
             [
              0.5555555555555556,
              "#d8576b"
             ],
             [
              0.6666666666666666,
              "#ed7953"
             ],
             [
              0.7777777777777778,
              "#fb9f3a"
             ],
             [
              0.8888888888888888,
              "#fdca26"
             ],
             [
              1,
              "#f0f921"
             ]
            ],
            "type": "histogram2d"
           }
          ],
          "histogram2dcontour": [
           {
            "colorbar": {
             "outlinewidth": 0,
             "ticks": ""
            },
            "colorscale": [
             [
              0,
              "#0d0887"
             ],
             [
              0.1111111111111111,
              "#46039f"
             ],
             [
              0.2222222222222222,
              "#7201a8"
             ],
             [
              0.3333333333333333,
              "#9c179e"
             ],
             [
              0.4444444444444444,
              "#bd3786"
             ],
             [
              0.5555555555555556,
              "#d8576b"
             ],
             [
              0.6666666666666666,
              "#ed7953"
             ],
             [
              0.7777777777777778,
              "#fb9f3a"
             ],
             [
              0.8888888888888888,
              "#fdca26"
             ],
             [
              1,
              "#f0f921"
             ]
            ],
            "type": "histogram2dcontour"
           }
          ],
          "mesh3d": [
           {
            "colorbar": {
             "outlinewidth": 0,
             "ticks": ""
            },
            "type": "mesh3d"
           }
          ],
          "parcoords": [
           {
            "line": {
             "colorbar": {
              "outlinewidth": 0,
              "ticks": ""
             }
            },
            "type": "parcoords"
           }
          ],
          "pie": [
           {
            "automargin": true,
            "type": "pie"
           }
          ],
          "scatter": [
           {
            "fillpattern": {
             "fillmode": "overlay",
             "size": 10,
             "solidity": 0.2
            },
            "type": "scatter"
           }
          ],
          "scatter3d": [
           {
            "line": {
             "colorbar": {
              "outlinewidth": 0,
              "ticks": ""
             }
            },
            "marker": {
             "colorbar": {
              "outlinewidth": 0,
              "ticks": ""
             }
            },
            "type": "scatter3d"
           }
          ],
          "scattercarpet": [
           {
            "marker": {
             "colorbar": {
              "outlinewidth": 0,
              "ticks": ""
             }
            },
            "type": "scattercarpet"
           }
          ],
          "scattergeo": [
           {
            "marker": {
             "colorbar": {
              "outlinewidth": 0,
              "ticks": ""
             }
            },
            "type": "scattergeo"
           }
          ],
          "scattergl": [
           {
            "marker": {
             "colorbar": {
              "outlinewidth": 0,
              "ticks": ""
             }
            },
            "type": "scattergl"
           }
          ],
          "scattermap": [
           {
            "marker": {
             "colorbar": {
              "outlinewidth": 0,
              "ticks": ""
             }
            },
            "type": "scattermap"
           }
          ],
          "scattermapbox": [
           {
            "marker": {
             "colorbar": {
              "outlinewidth": 0,
              "ticks": ""
             }
            },
            "type": "scattermapbox"
           }
          ],
          "scatterpolar": [
           {
            "marker": {
             "colorbar": {
              "outlinewidth": 0,
              "ticks": ""
             }
            },
            "type": "scatterpolar"
           }
          ],
          "scatterpolargl": [
           {
            "marker": {
             "colorbar": {
              "outlinewidth": 0,
              "ticks": ""
             }
            },
            "type": "scatterpolargl"
           }
          ],
          "scatterternary": [
           {
            "marker": {
             "colorbar": {
              "outlinewidth": 0,
              "ticks": ""
             }
            },
            "type": "scatterternary"
           }
          ],
          "surface": [
           {
            "colorbar": {
             "outlinewidth": 0,
             "ticks": ""
            },
            "colorscale": [
             [
              0,
              "#0d0887"
             ],
             [
              0.1111111111111111,
              "#46039f"
             ],
             [
              0.2222222222222222,
              "#7201a8"
             ],
             [
              0.3333333333333333,
              "#9c179e"
             ],
             [
              0.4444444444444444,
              "#bd3786"
             ],
             [
              0.5555555555555556,
              "#d8576b"
             ],
             [
              0.6666666666666666,
              "#ed7953"
             ],
             [
              0.7777777777777778,
              "#fb9f3a"
             ],
             [
              0.8888888888888888,
              "#fdca26"
             ],
             [
              1,
              "#f0f921"
             ]
            ],
            "type": "surface"
           }
          ],
          "table": [
           {
            "cells": {
             "fill": {
              "color": "#EBF0F8"
             },
             "line": {
              "color": "white"
             }
            },
            "header": {
             "fill": {
              "color": "#C8D4E3"
             },
             "line": {
              "color": "white"
             }
            },
            "type": "table"
           }
          ]
         },
         "layout": {
          "annotationdefaults": {
           "arrowcolor": "#2a3f5f",
           "arrowhead": 0,
           "arrowwidth": 1
          },
          "autotypenumbers": "strict",
          "coloraxis": {
           "colorbar": {
            "outlinewidth": 0,
            "ticks": ""
           }
          },
          "colorscale": {
           "diverging": [
            [
             0,
             "#8e0152"
            ],
            [
             0.1,
             "#c51b7d"
            ],
            [
             0.2,
             "#de77ae"
            ],
            [
             0.3,
             "#f1b6da"
            ],
            [
             0.4,
             "#fde0ef"
            ],
            [
             0.5,
             "#f7f7f7"
            ],
            [
             0.6,
             "#e6f5d0"
            ],
            [
             0.7,
             "#b8e186"
            ],
            [
             0.8,
             "#7fbc41"
            ],
            [
             0.9,
             "#4d9221"
            ],
            [
             1,
             "#276419"
            ]
           ],
           "sequential": [
            [
             0,
             "#0d0887"
            ],
            [
             0.1111111111111111,
             "#46039f"
            ],
            [
             0.2222222222222222,
             "#7201a8"
            ],
            [
             0.3333333333333333,
             "#9c179e"
            ],
            [
             0.4444444444444444,
             "#bd3786"
            ],
            [
             0.5555555555555556,
             "#d8576b"
            ],
            [
             0.6666666666666666,
             "#ed7953"
            ],
            [
             0.7777777777777778,
             "#fb9f3a"
            ],
            [
             0.8888888888888888,
             "#fdca26"
            ],
            [
             1,
             "#f0f921"
            ]
           ],
           "sequentialminus": [
            [
             0,
             "#0d0887"
            ],
            [
             0.1111111111111111,
             "#46039f"
            ],
            [
             0.2222222222222222,
             "#7201a8"
            ],
            [
             0.3333333333333333,
             "#9c179e"
            ],
            [
             0.4444444444444444,
             "#bd3786"
            ],
            [
             0.5555555555555556,
             "#d8576b"
            ],
            [
             0.6666666666666666,
             "#ed7953"
            ],
            [
             0.7777777777777778,
             "#fb9f3a"
            ],
            [
             0.8888888888888888,
             "#fdca26"
            ],
            [
             1,
             "#f0f921"
            ]
           ]
          },
          "colorway": [
           "#636efa",
           "#EF553B",
           "#00cc96",
           "#ab63fa",
           "#FFA15A",
           "#19d3f3",
           "#FF6692",
           "#B6E880",
           "#FF97FF",
           "#FECB52"
          ],
          "font": {
           "color": "#2a3f5f"
          },
          "geo": {
           "bgcolor": "white",
           "lakecolor": "white",
           "landcolor": "#E5ECF6",
           "showlakes": true,
           "showland": true,
           "subunitcolor": "white"
          },
          "hoverlabel": {
           "align": "left"
          },
          "hovermode": "closest",
          "mapbox": {
           "style": "light"
          },
          "paper_bgcolor": "white",
          "plot_bgcolor": "#E5ECF6",
          "polar": {
           "angularaxis": {
            "gridcolor": "white",
            "linecolor": "white",
            "ticks": ""
           },
           "bgcolor": "#E5ECF6",
           "radialaxis": {
            "gridcolor": "white",
            "linecolor": "white",
            "ticks": ""
           }
          },
          "scene": {
           "xaxis": {
            "backgroundcolor": "#E5ECF6",
            "gridcolor": "white",
            "gridwidth": 2,
            "linecolor": "white",
            "showbackground": true,
            "ticks": "",
            "zerolinecolor": "white"
           },
           "yaxis": {
            "backgroundcolor": "#E5ECF6",
            "gridcolor": "white",
            "gridwidth": 2,
            "linecolor": "white",
            "showbackground": true,
            "ticks": "",
            "zerolinecolor": "white"
           },
           "zaxis": {
            "backgroundcolor": "#E5ECF6",
            "gridcolor": "white",
            "gridwidth": 2,
            "linecolor": "white",
            "showbackground": true,
            "ticks": "",
            "zerolinecolor": "white"
           }
          },
          "shapedefaults": {
           "line": {
            "color": "#2a3f5f"
           }
          },
          "ternary": {
           "aaxis": {
            "gridcolor": "white",
            "linecolor": "white",
            "ticks": ""
           },
           "baxis": {
            "gridcolor": "white",
            "linecolor": "white",
            "ticks": ""
           },
           "bgcolor": "#E5ECF6",
           "caxis": {
            "gridcolor": "white",
            "linecolor": "white",
            "ticks": ""
           }
          },
          "title": {
           "x": 0.05
          },
          "xaxis": {
           "automargin": true,
           "gridcolor": "white",
           "linecolor": "white",
           "ticks": "",
           "title": {
            "standoff": 15
           },
           "zerolinecolor": "white",
           "zerolinewidth": 2
          },
          "yaxis": {
           "automargin": true,
           "gridcolor": "white",
           "linecolor": "white",
           "ticks": "",
           "title": {
            "standoff": 15
           },
           "zerolinecolor": "white",
           "zerolinewidth": 2
          }
         }
        },
        "title": {
         "text": "Cell type 0"
        },
        "width": 600,
        "xaxis": {
         "anchor": "y",
         "domain": [
          0,
          1
         ],
         "title": {
          "text": "x"
         }
        },
        "yaxis": {
         "anchor": "x",
         "domain": [
          0,
          1
         ],
         "title": {
          "text": "y"
         }
        }
       }
      }
     },
     "metadata": {},
     "output_type": "display_data"
    },
    {
     "data": {
      "application/vnd.plotly.v1+json": {
       "config": {
        "plotlyServerURL": "https://plot.ly"
       },
       "data": [
        {
         "hovertemplate": "color=0<br>x=%{x}<br>y=%{y}<extra></extra>",
         "legendgroup": "0",
         "marker": {
          "color": "#636efa",
          "size": 5,
          "symbol": "circle"
         },
         "mode": "markers",
         "name": "0",
         "showlegend": true,
         "type": "scattergl",
         "x": {
          "bdata": "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",
          "dtype": "f4"
         },
         "xaxis": "x",
         "y": {
          "bdata": "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",
          "dtype": "f4"
         },
         "yaxis": "y"
        },
        {
         "hovertemplate": "color=2<br>x=%{x}<br>y=%{y}<extra></extra>",
         "legendgroup": "2",
         "marker": {
          "color": "#EF553B",
          "size": 5,
          "symbol": "circle"
         },
         "mode": "markers",
         "name": "2",
         "showlegend": true,
         "type": "scattergl",
         "x": {
          "bdata": "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",
          "dtype": "f4"
         },
         "xaxis": "x",
         "y": {
          "bdata": "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",
          "dtype": "f4"
         },
         "yaxis": "y"
        },
        {
         "hovertemplate": "color=1<br>x=%{x}<br>y=%{y}<extra></extra>",
         "legendgroup": "1",
         "marker": {
          "color": "#00cc96",
          "size": 5,
          "symbol": "circle"
         },
         "mode": "markers",
         "name": "1",
         "showlegend": true,
         "type": "scattergl",
         "x": {
          "bdata": "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",
          "dtype": "f4"
         },
         "xaxis": "x",
         "y": {
          "bdata": "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",
          "dtype": "f4"
         },
         "yaxis": "y"
        }
       ],
       "layout": {
        "height": 600,
        "legend": {
         "title": {
          "text": "color"
         },
         "tracegroupgap": 0
        },
        "template": {
         "data": {
          "bar": [
           {
            "error_x": {
             "color": "#2a3f5f"
            },
            "error_y": {
             "color": "#2a3f5f"
            },
            "marker": {
             "line": {
              "color": "#E5ECF6",
              "width": 0.5
             },
             "pattern": {
              "fillmode": "overlay",
              "size": 10,
              "solidity": 0.2
             }
            },
            "type": "bar"
           }
          ],
          "barpolar": [
           {
            "marker": {
             "line": {
              "color": "#E5ECF6",
              "width": 0.5
             },
             "pattern": {
              "fillmode": "overlay",
              "size": 10,
              "solidity": 0.2
             }
            },
            "type": "barpolar"
           }
          ],
          "carpet": [
           {
            "aaxis": {
             "endlinecolor": "#2a3f5f",
             "gridcolor": "white",
             "linecolor": "white",
             "minorgridcolor": "white",
             "startlinecolor": "#2a3f5f"
            },
            "baxis": {
             "endlinecolor": "#2a3f5f",
             "gridcolor": "white",
             "linecolor": "white",
             "minorgridcolor": "white",
             "startlinecolor": "#2a3f5f"
            },
            "type": "carpet"
           }
          ],
          "choropleth": [
           {
            "colorbar": {
             "outlinewidth": 0,
             "ticks": ""
            },
            "type": "choropleth"
           }
          ],
          "contour": [
           {
            "colorbar": {
             "outlinewidth": 0,
             "ticks": ""
            },
            "colorscale": [
             [
              0,
              "#0d0887"
             ],
             [
              0.1111111111111111,
              "#46039f"
             ],
             [
              0.2222222222222222,
              "#7201a8"
             ],
             [
              0.3333333333333333,
              "#9c179e"
             ],
             [
              0.4444444444444444,
              "#bd3786"
             ],
             [
              0.5555555555555556,
              "#d8576b"
             ],
             [
              0.6666666666666666,
              "#ed7953"
             ],
             [
              0.7777777777777778,
              "#fb9f3a"
             ],
             [
              0.8888888888888888,
              "#fdca26"
             ],
             [
              1,
              "#f0f921"
             ]
            ],
            "type": "contour"
           }
          ],
          "contourcarpet": [
           {
            "colorbar": {
             "outlinewidth": 0,
             "ticks": ""
            },
            "type": "contourcarpet"
           }
          ],
          "heatmap": [
           {
            "colorbar": {
             "outlinewidth": 0,
             "ticks": ""
            },
            "colorscale": [
             [
              0,
              "#0d0887"
             ],
             [
              0.1111111111111111,
              "#46039f"
             ],
             [
              0.2222222222222222,
              "#7201a8"
             ],
             [
              0.3333333333333333,
              "#9c179e"
             ],
             [
              0.4444444444444444,
              "#bd3786"
             ],
             [
              0.5555555555555556,
              "#d8576b"
             ],
             [
              0.6666666666666666,
              "#ed7953"
             ],
             [
              0.7777777777777778,
              "#fb9f3a"
             ],
             [
              0.8888888888888888,
              "#fdca26"
             ],
             [
              1,
              "#f0f921"
             ]
            ],
            "type": "heatmap"
           }
          ],
          "histogram": [
           {
            "marker": {
             "pattern": {
              "fillmode": "overlay",
              "size": 10,
              "solidity": 0.2
             }
            },
            "type": "histogram"
           }
          ],
          "histogram2d": [
           {
            "colorbar": {
             "outlinewidth": 0,
             "ticks": ""
            },
            "colorscale": [
             [
              0,
              "#0d0887"
             ],
             [
              0.1111111111111111,
              "#46039f"
             ],
             [
              0.2222222222222222,
              "#7201a8"
             ],
             [
              0.3333333333333333,
              "#9c179e"
             ],
             [
              0.4444444444444444,
              "#bd3786"
             ],
             [
              0.5555555555555556,
              "#d8576b"
             ],
             [
              0.6666666666666666,
              "#ed7953"
             ],
             [
              0.7777777777777778,
              "#fb9f3a"
             ],
             [
              0.8888888888888888,
              "#fdca26"
             ],
             [
              1,
              "#f0f921"
             ]
            ],
            "type": "histogram2d"
           }
          ],
          "histogram2dcontour": [
           {
            "colorbar": {
             "outlinewidth": 0,
             "ticks": ""
            },
            "colorscale": [
             [
              0,
              "#0d0887"
             ],
             [
              0.1111111111111111,
              "#46039f"
             ],
             [
              0.2222222222222222,
              "#7201a8"
             ],
             [
              0.3333333333333333,
              "#9c179e"
             ],
             [
              0.4444444444444444,
              "#bd3786"
             ],
             [
              0.5555555555555556,
              "#d8576b"
             ],
             [
              0.6666666666666666,
              "#ed7953"
             ],
             [
              0.7777777777777778,
              "#fb9f3a"
             ],
             [
              0.8888888888888888,
              "#fdca26"
             ],
             [
              1,
              "#f0f921"
             ]
            ],
            "type": "histogram2dcontour"
           }
          ],
          "mesh3d": [
           {
            "colorbar": {
             "outlinewidth": 0,
             "ticks": ""
            },
            "type": "mesh3d"
           }
          ],
          "parcoords": [
           {
            "line": {
             "colorbar": {
              "outlinewidth": 0,
              "ticks": ""
             }
            },
            "type": "parcoords"
           }
          ],
          "pie": [
           {
            "automargin": true,
            "type": "pie"
           }
          ],
          "scatter": [
           {
            "fillpattern": {
             "fillmode": "overlay",
             "size": 10,
             "solidity": 0.2
            },
            "type": "scatter"
           }
          ],
          "scatter3d": [
           {
            "line": {
             "colorbar": {
              "outlinewidth": 0,
              "ticks": ""
             }
            },
            "marker": {
             "colorbar": {
              "outlinewidth": 0,
              "ticks": ""
             }
            },
            "type": "scatter3d"
           }
          ],
          "scattercarpet": [
           {
            "marker": {
             "colorbar": {
              "outlinewidth": 0,
              "ticks": ""
             }
            },
            "type": "scattercarpet"
           }
          ],
          "scattergeo": [
           {
            "marker": {
             "colorbar": {
              "outlinewidth": 0,
              "ticks": ""
             }
            },
            "type": "scattergeo"
           }
          ],
          "scattergl": [
           {
            "marker": {
             "colorbar": {
              "outlinewidth": 0,
              "ticks": ""
             }
            },
            "type": "scattergl"
           }
          ],
          "scattermap": [
           {
            "marker": {
             "colorbar": {
              "outlinewidth": 0,
              "ticks": ""
             }
            },
            "type": "scattermap"
           }
          ],
          "scattermapbox": [
           {
            "marker": {
             "colorbar": {
              "outlinewidth": 0,
              "ticks": ""
             }
            },
            "type": "scattermapbox"
           }
          ],
          "scatterpolar": [
           {
            "marker": {
             "colorbar": {
              "outlinewidth": 0,
              "ticks": ""
             }
            },
            "type": "scatterpolar"
           }
          ],
          "scatterpolargl": [
           {
            "marker": {
             "colorbar": {
              "outlinewidth": 0,
              "ticks": ""
             }
            },
            "type": "scatterpolargl"
           }
          ],
          "scatterternary": [
           {
            "marker": {
             "colorbar": {
              "outlinewidth": 0,
              "ticks": ""
             }
            },
            "type": "scatterternary"
           }
          ],
          "surface": [
           {
            "colorbar": {
             "outlinewidth": 0,
             "ticks": ""
            },
            "colorscale": [
             [
              0,
              "#0d0887"
             ],
             [
              0.1111111111111111,
              "#46039f"
             ],
             [
              0.2222222222222222,
              "#7201a8"
             ],
             [
              0.3333333333333333,
              "#9c179e"
             ],
             [
              0.4444444444444444,
              "#bd3786"
             ],
             [
              0.5555555555555556,
              "#d8576b"
             ],
             [
              0.6666666666666666,
              "#ed7953"
             ],
             [
              0.7777777777777778,
              "#fb9f3a"
             ],
             [
              0.8888888888888888,
              "#fdca26"
             ],
             [
              1,
              "#f0f921"
             ]
            ],
            "type": "surface"
           }
          ],
          "table": [
           {
            "cells": {
             "fill": {
              "color": "#EBF0F8"
             },
             "line": {
              "color": "white"
             }
            },
            "header": {
             "fill": {
              "color": "#C8D4E3"
             },
             "line": {
              "color": "white"
             }
            },
            "type": "table"
           }
          ]
         },
         "layout": {
          "annotationdefaults": {
           "arrowcolor": "#2a3f5f",
           "arrowhead": 0,
           "arrowwidth": 1
          },
          "autotypenumbers": "strict",
          "coloraxis": {
           "colorbar": {
            "outlinewidth": 0,
            "ticks": ""
           }
          },
          "colorscale": {
           "diverging": [
            [
             0,
             "#8e0152"
            ],
            [
             0.1,
             "#c51b7d"
            ],
            [
             0.2,
             "#de77ae"
            ],
            [
             0.3,
             "#f1b6da"
            ],
            [
             0.4,
             "#fde0ef"
            ],
            [
             0.5,
             "#f7f7f7"
            ],
            [
             0.6,
             "#e6f5d0"
            ],
            [
             0.7,
             "#b8e186"
            ],
            [
             0.8,
             "#7fbc41"
            ],
            [
             0.9,
             "#4d9221"
            ],
            [
             1,
             "#276419"
            ]
           ],
           "sequential": [
            [
             0,
             "#0d0887"
            ],
            [
             0.1111111111111111,
             "#46039f"
            ],
            [
             0.2222222222222222,
             "#7201a8"
            ],
            [
             0.3333333333333333,
             "#9c179e"
            ],
            [
             0.4444444444444444,
             "#bd3786"
            ],
            [
             0.5555555555555556,
             "#d8576b"
            ],
            [
             0.6666666666666666,
             "#ed7953"
            ],
            [
             0.7777777777777778,
             "#fb9f3a"
            ],
            [
             0.8888888888888888,
             "#fdca26"
            ],
            [
             1,
             "#f0f921"
            ]
           ],
           "sequentialminus": [
            [
             0,
             "#0d0887"
            ],
            [
             0.1111111111111111,
             "#46039f"
            ],
            [
             0.2222222222222222,
             "#7201a8"
            ],
            [
             0.3333333333333333,
             "#9c179e"
            ],
            [
             0.4444444444444444,
             "#bd3786"
            ],
            [
             0.5555555555555556,
             "#d8576b"
            ],
            [
             0.6666666666666666,
             "#ed7953"
            ],
            [
             0.7777777777777778,
             "#fb9f3a"
            ],
            [
             0.8888888888888888,
             "#fdca26"
            ],
            [
             1,
             "#f0f921"
            ]
           ]
          },
          "colorway": [
           "#636efa",
           "#EF553B",
           "#00cc96",
           "#ab63fa",
           "#FFA15A",
           "#19d3f3",
           "#FF6692",
           "#B6E880",
           "#FF97FF",
           "#FECB52"
          ],
          "font": {
           "color": "#2a3f5f"
          },
          "geo": {
           "bgcolor": "white",
           "lakecolor": "white",
           "landcolor": "#E5ECF6",
           "showlakes": true,
           "showland": true,
           "subunitcolor": "white"
          },
          "hoverlabel": {
           "align": "left"
          },
          "hovermode": "closest",
          "mapbox": {
           "style": "light"
          },
          "paper_bgcolor": "white",
          "plot_bgcolor": "#E5ECF6",
          "polar": {
           "angularaxis": {
            "gridcolor": "white",
            "linecolor": "white",
            "ticks": ""
           },
           "bgcolor": "#E5ECF6",
           "radialaxis": {
            "gridcolor": "white",
            "linecolor": "white",
            "ticks": ""
           }
          },
          "scene": {
           "xaxis": {
            "backgroundcolor": "#E5ECF6",
            "gridcolor": "white",
            "gridwidth": 2,
            "linecolor": "white",
            "showbackground": true,
            "ticks": "",
            "zerolinecolor": "white"
           },
           "yaxis": {
            "backgroundcolor": "#E5ECF6",
            "gridcolor": "white",
            "gridwidth": 2,
            "linecolor": "white",
            "showbackground": true,
            "ticks": "",
            "zerolinecolor": "white"
           },
           "zaxis": {
            "backgroundcolor": "#E5ECF6",
            "gridcolor": "white",
            "gridwidth": 2,
            "linecolor": "white",
            "showbackground": true,
            "ticks": "",
            "zerolinecolor": "white"
           }
          },
          "shapedefaults": {
           "line": {
            "color": "#2a3f5f"
           }
          },
          "ternary": {
           "aaxis": {
            "gridcolor": "white",
            "linecolor": "white",
            "ticks": ""
           },
           "baxis": {
            "gridcolor": "white",
            "linecolor": "white",
            "ticks": ""
           },
           "bgcolor": "#E5ECF6",
           "caxis": {
            "gridcolor": "white",
            "linecolor": "white",
            "ticks": ""
           }
          },
          "title": {
           "x": 0.05
          },
          "xaxis": {
           "automargin": true,
           "gridcolor": "white",
           "linecolor": "white",
           "ticks": "",
           "title": {
            "standoff": 15
           },
           "zerolinecolor": "white",
           "zerolinewidth": 2
          },
          "yaxis": {
           "automargin": true,
           "gridcolor": "white",
           "linecolor": "white",
           "ticks": "",
           "title": {
            "standoff": 15
           },
           "zerolinecolor": "white",
           "zerolinewidth": 2
          }
         }
        },
        "title": {
         "text": "Cell type 1"
        },
        "width": 600,
        "xaxis": {
         "anchor": "y",
         "domain": [
          0,
          1
         ],
         "title": {
          "text": "x"
         }
        },
        "yaxis": {
         "anchor": "x",
         "domain": [
          0,
          1
         ],
         "title": {
          "text": "y"
         }
        }
       }
      }
     },
     "metadata": {},
     "output_type": "display_data"
    },
    {
     "data": {
      "application/vnd.plotly.v1+json": {
       "config": {
        "plotlyServerURL": "https://plot.ly"
       },
       "data": [
        {
         "hovertemplate": "color=0<br>x=%{x}<br>y=%{y}<extra></extra>",
         "legendgroup": "0",
         "marker": {
          "color": "#636efa",
          "size": 5,
          "symbol": "circle"
         },
         "mode": "markers",
         "name": "0",
         "showlegend": true,
         "type": "scattergl",
         "x": {
          "bdata": "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",
          "dtype": "f4"
         },
         "xaxis": "x",
         "y": {
          "bdata": "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",
          "dtype": "f4"
         },
         "yaxis": "y"
        },
        {
         "hovertemplate": "color=2<br>x=%{x}<br>y=%{y}<extra></extra>",
         "legendgroup": "2",
         "marker": {
          "color": "#EF553B",
          "size": 5,
          "symbol": "circle"
         },
         "mode": "markers",
         "name": "2",
         "showlegend": true,
         "type": "scattergl",
         "x": {
          "bdata": "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",
          "dtype": "f4"
         },
         "xaxis": "x",
         "y": {
          "bdata": "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",
          "dtype": "f4"
         },
         "yaxis": "y"
        },
        {
         "hovertemplate": "color=1<br>x=%{x}<br>y=%{y}<extra></extra>",
         "legendgroup": "1",
         "marker": {
          "color": "#00cc96",
          "size": 5,
          "symbol": "circle"
         },
         "mode": "markers",
         "name": "1",
         "showlegend": true,
         "type": "scattergl",
         "x": {
          "bdata": "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",
          "dtype": "f4"
         },
         "xaxis": "x",
         "y": {
          "bdata": "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",
          "dtype": "f4"
         },
         "yaxis": "y"
        }
       ],
       "layout": {
        "height": 600,
        "legend": {
         "title": {
          "text": "color"
         },
         "tracegroupgap": 0
        },
        "template": {
         "data": {
          "bar": [
           {
            "error_x": {
             "color": "#2a3f5f"
            },
            "error_y": {
             "color": "#2a3f5f"
            },
            "marker": {
             "line": {
              "color": "#E5ECF6",
              "width": 0.5
             },
             "pattern": {
              "fillmode": "overlay",
              "size": 10,
              "solidity": 0.2
             }
            },
            "type": "bar"
           }
          ],
          "barpolar": [
           {
            "marker": {
             "line": {
              "color": "#E5ECF6",
              "width": 0.5
             },
             "pattern": {
              "fillmode": "overlay",
              "size": 10,
              "solidity": 0.2
             }
            },
            "type": "barpolar"
           }
          ],
          "carpet": [
           {
            "aaxis": {
             "endlinecolor": "#2a3f5f",
             "gridcolor": "white",
             "linecolor": "white",
             "minorgridcolor": "white",
             "startlinecolor": "#2a3f5f"
            },
            "baxis": {
             "endlinecolor": "#2a3f5f",
             "gridcolor": "white",
             "linecolor": "white",
             "minorgridcolor": "white",
             "startlinecolor": "#2a3f5f"
            },
            "type": "carpet"
           }
          ],
          "choropleth": [
           {
            "colorbar": {
             "outlinewidth": 0,
             "ticks": ""
            },
            "type": "choropleth"
           }
          ],
          "contour": [
           {
            "colorbar": {
             "outlinewidth": 0,
             "ticks": ""
            },
            "colorscale": [
             [
              0,
              "#0d0887"
             ],
             [
              0.1111111111111111,
              "#46039f"
             ],
             [
              0.2222222222222222,
              "#7201a8"
             ],
             [
              0.3333333333333333,
              "#9c179e"
             ],
             [
              0.4444444444444444,
              "#bd3786"
             ],
             [
              0.5555555555555556,
              "#d8576b"
             ],
             [
              0.6666666666666666,
              "#ed7953"
             ],
             [
              0.7777777777777778,
              "#fb9f3a"
             ],
             [
              0.8888888888888888,
              "#fdca26"
             ],
             [
              1,
              "#f0f921"
             ]
            ],
            "type": "contour"
           }
          ],
          "contourcarpet": [
           {
            "colorbar": {
             "outlinewidth": 0,
             "ticks": ""
            },
            "type": "contourcarpet"
           }
          ],
          "heatmap": [
           {
            "colorbar": {
             "outlinewidth": 0,
             "ticks": ""
            },
            "colorscale": [
             [
              0,
              "#0d0887"
             ],
             [
              0.1111111111111111,
              "#46039f"
             ],
             [
              0.2222222222222222,
              "#7201a8"
             ],
             [
              0.3333333333333333,
              "#9c179e"
             ],
             [
              0.4444444444444444,
              "#bd3786"
             ],
             [
              0.5555555555555556,
              "#d8576b"
             ],
             [
              0.6666666666666666,
              "#ed7953"
             ],
             [
              0.7777777777777778,
              "#fb9f3a"
             ],
             [
              0.8888888888888888,
              "#fdca26"
             ],
             [
              1,
              "#f0f921"
             ]
            ],
            "type": "heatmap"
           }
          ],
          "histogram": [
           {
            "marker": {
             "pattern": {
              "fillmode": "overlay",
              "size": 10,
              "solidity": 0.2
             }
            },
            "type": "histogram"
           }
          ],
          "histogram2d": [
           {
            "colorbar": {
             "outlinewidth": 0,
             "ticks": ""
            },
            "colorscale": [
             [
              0,
              "#0d0887"
             ],
             [
              0.1111111111111111,
              "#46039f"
             ],
             [
              0.2222222222222222,
              "#7201a8"
             ],
             [
              0.3333333333333333,
              "#9c179e"
             ],
             [
              0.4444444444444444,
              "#bd3786"
             ],
             [
              0.5555555555555556,
              "#d8576b"
             ],
             [
              0.6666666666666666,
              "#ed7953"
             ],
             [
              0.7777777777777778,
              "#fb9f3a"
             ],
             [
              0.8888888888888888,
              "#fdca26"
             ],
             [
              1,
              "#f0f921"
             ]
            ],
            "type": "histogram2d"
           }
          ],
          "histogram2dcontour": [
           {
            "colorbar": {
             "outlinewidth": 0,
             "ticks": ""
            },
            "colorscale": [
             [
              0,
              "#0d0887"
             ],
             [
              0.1111111111111111,
              "#46039f"
             ],
             [
              0.2222222222222222,
              "#7201a8"
             ],
             [
              0.3333333333333333,
              "#9c179e"
             ],
             [
              0.4444444444444444,
              "#bd3786"
             ],
             [
              0.5555555555555556,
              "#d8576b"
             ],
             [
              0.6666666666666666,
              "#ed7953"
             ],
             [
              0.7777777777777778,
              "#fb9f3a"
             ],
             [
              0.8888888888888888,
              "#fdca26"
             ],
             [
              1,
              "#f0f921"
             ]
            ],
            "type": "histogram2dcontour"
           }
          ],
          "mesh3d": [
           {
            "colorbar": {
             "outlinewidth": 0,
             "ticks": ""
            },
            "type": "mesh3d"
           }
          ],
          "parcoords": [
           {
            "line": {
             "colorbar": {
              "outlinewidth": 0,
              "ticks": ""
             }
            },
            "type": "parcoords"
           }
          ],
          "pie": [
           {
            "automargin": true,
            "type": "pie"
           }
          ],
          "scatter": [
           {
            "fillpattern": {
             "fillmode": "overlay",
             "size": 10,
             "solidity": 0.2
            },
            "type": "scatter"
           }
          ],
          "scatter3d": [
           {
            "line": {
             "colorbar": {
              "outlinewidth": 0,
              "ticks": ""
             }
            },
            "marker": {
             "colorbar": {
              "outlinewidth": 0,
              "ticks": ""
             }
            },
            "type": "scatter3d"
           }
          ],
          "scattercarpet": [
           {
            "marker": {
             "colorbar": {
              "outlinewidth": 0,
              "ticks": ""
             }
            },
            "type": "scattercarpet"
           }
          ],
          "scattergeo": [
           {
            "marker": {
             "colorbar": {
              "outlinewidth": 0,
              "ticks": ""
             }
            },
            "type": "scattergeo"
           }
          ],
          "scattergl": [
           {
            "marker": {
             "colorbar": {
              "outlinewidth": 0,
              "ticks": ""
             }
            },
            "type": "scattergl"
           }
          ],
          "scattermap": [
           {
            "marker": {
             "colorbar": {
              "outlinewidth": 0,
              "ticks": ""
             }
            },
            "type": "scattermap"
           }
          ],
          "scattermapbox": [
           {
            "marker": {
             "colorbar": {
              "outlinewidth": 0,
              "ticks": ""
             }
            },
            "type": "scattermapbox"
           }
          ],
          "scatterpolar": [
           {
            "marker": {
             "colorbar": {
              "outlinewidth": 0,
              "ticks": ""
             }
            },
            "type": "scatterpolar"
           }
          ],
          "scatterpolargl": [
           {
            "marker": {
             "colorbar": {
              "outlinewidth": 0,
              "ticks": ""
             }
            },
            "type": "scatterpolargl"
           }
          ],
          "scatterternary": [
           {
            "marker": {
             "colorbar": {
              "outlinewidth": 0,
              "ticks": ""
             }
            },
            "type": "scatterternary"
           }
          ],
          "surface": [
           {
            "colorbar": {
             "outlinewidth": 0,
             "ticks": ""
            },
            "colorscale": [
             [
              0,
              "#0d0887"
             ],
             [
              0.1111111111111111,
              "#46039f"
             ],
             [
              0.2222222222222222,
              "#7201a8"
             ],
             [
              0.3333333333333333,
              "#9c179e"
             ],
             [
              0.4444444444444444,
              "#bd3786"
             ],
             [
              0.5555555555555556,
              "#d8576b"
             ],
             [
              0.6666666666666666,
              "#ed7953"
             ],
             [
              0.7777777777777778,
              "#fb9f3a"
             ],
             [
              0.8888888888888888,
              "#fdca26"
             ],
             [
              1,
              "#f0f921"
             ]
            ],
            "type": "surface"
           }
          ],
          "table": [
           {
            "cells": {
             "fill": {
              "color": "#EBF0F8"
             },
             "line": {
              "color": "white"
             }
            },
            "header": {
             "fill": {
              "color": "#C8D4E3"
             },
             "line": {
              "color": "white"
             }
            },
            "type": "table"
           }
          ]
         },
         "layout": {
          "annotationdefaults": {
           "arrowcolor": "#2a3f5f",
           "arrowhead": 0,
           "arrowwidth": 1
          },
          "autotypenumbers": "strict",
          "coloraxis": {
           "colorbar": {
            "outlinewidth": 0,
            "ticks": ""
           }
          },
          "colorscale": {
           "diverging": [
            [
             0,
             "#8e0152"
            ],
            [
             0.1,
             "#c51b7d"
            ],
            [
             0.2,
             "#de77ae"
            ],
            [
             0.3,
             "#f1b6da"
            ],
            [
             0.4,
             "#fde0ef"
            ],
            [
             0.5,
             "#f7f7f7"
            ],
            [
             0.6,
             "#e6f5d0"
            ],
            [
             0.7,
             "#b8e186"
            ],
            [
             0.8,
             "#7fbc41"
            ],
            [
             0.9,
             "#4d9221"
            ],
            [
             1,
             "#276419"
            ]
           ],
           "sequential": [
            [
             0,
             "#0d0887"
            ],
            [
             0.1111111111111111,
             "#46039f"
            ],
            [
             0.2222222222222222,
             "#7201a8"
            ],
            [
             0.3333333333333333,
             "#9c179e"
            ],
            [
             0.4444444444444444,
             "#bd3786"
            ],
            [
             0.5555555555555556,
             "#d8576b"
            ],
            [
             0.6666666666666666,
             "#ed7953"
            ],
            [
             0.7777777777777778,
             "#fb9f3a"
            ],
            [
             0.8888888888888888,
             "#fdca26"
            ],
            [
             1,
             "#f0f921"
            ]
           ],
           "sequentialminus": [
            [
             0,
             "#0d0887"
            ],
            [
             0.1111111111111111,
             "#46039f"
            ],
            [
             0.2222222222222222,
             "#7201a8"
            ],
            [
             0.3333333333333333,
             "#9c179e"
            ],
            [
             0.4444444444444444,
             "#bd3786"
            ],
            [
             0.5555555555555556,
             "#d8576b"
            ],
            [
             0.6666666666666666,
             "#ed7953"
            ],
            [
             0.7777777777777778,
             "#fb9f3a"
            ],
            [
             0.8888888888888888,
             "#fdca26"
            ],
            [
             1,
             "#f0f921"
            ]
           ]
          },
          "colorway": [
           "#636efa",
           "#EF553B",
           "#00cc96",
           "#ab63fa",
           "#FFA15A",
           "#19d3f3",
           "#FF6692",
           "#B6E880",
           "#FF97FF",
           "#FECB52"
          ],
          "font": {
           "color": "#2a3f5f"
          },
          "geo": {
           "bgcolor": "white",
           "lakecolor": "white",
           "landcolor": "#E5ECF6",
           "showlakes": true,
           "showland": true,
           "subunitcolor": "white"
          },
          "hoverlabel": {
           "align": "left"
          },
          "hovermode": "closest",
          "mapbox": {
           "style": "light"
          },
          "paper_bgcolor": "white",
          "plot_bgcolor": "#E5ECF6",
          "polar": {
           "angularaxis": {
            "gridcolor": "white",
            "linecolor": "white",
            "ticks": ""
           },
           "bgcolor": "#E5ECF6",
           "radialaxis": {
            "gridcolor": "white",
            "linecolor": "white",
            "ticks": ""
           }
          },
          "scene": {
           "xaxis": {
            "backgroundcolor": "#E5ECF6",
            "gridcolor": "white",
            "gridwidth": 2,
            "linecolor": "white",
            "showbackground": true,
            "ticks": "",
            "zerolinecolor": "white"
           },
           "yaxis": {
            "backgroundcolor": "#E5ECF6",
            "gridcolor": "white",
            "gridwidth": 2,
            "linecolor": "white",
            "showbackground": true,
            "ticks": "",
            "zerolinecolor": "white"
           },
           "zaxis": {
            "backgroundcolor": "#E5ECF6",
            "gridcolor": "white",
            "gridwidth": 2,
            "linecolor": "white",
            "showbackground": true,
            "ticks": "",
            "zerolinecolor": "white"
           }
          },
          "shapedefaults": {
           "line": {
            "color": "#2a3f5f"
           }
          },
          "ternary": {
           "aaxis": {
            "gridcolor": "white",
            "linecolor": "white",
            "ticks": ""
           },
           "baxis": {
            "gridcolor": "white",
            "linecolor": "white",
            "ticks": ""
           },
           "bgcolor": "#E5ECF6",
           "caxis": {
            "gridcolor": "white",
            "linecolor": "white",
            "ticks": ""
           }
          },
          "title": {
           "x": 0.05
          },
          "xaxis": {
           "automargin": true,
           "gridcolor": "white",
           "linecolor": "white",
           "ticks": "",
           "title": {
            "standoff": 15
           },
           "zerolinecolor": "white",
           "zerolinewidth": 2
          },
          "yaxis": {
           "automargin": true,
           "gridcolor": "white",
           "linecolor": "white",
           "ticks": "",
           "title": {
            "standoff": 15
           },
           "zerolinecolor": "white",
           "zerolinewidth": 2
          }
         }
        },
        "title": {
         "text": "Cell type 2"
        },
        "width": 600,
        "xaxis": {
         "anchor": "y",
         "domain": [
          0,
          1
         ],
         "title": {
          "text": "x"
         }
        },
        "yaxis": {
         "anchor": "x",
         "domain": [
          0,
          1
         ],
         "title": {
          "text": "y"
         }
        }
       }
      }
     },
     "metadata": {},
     "output_type": "display_data"
    }
   ],
   "source": [
    "for c in range(n_cell_types):\n",
    "\n",
    "    vals, vecs = torch.linalg.eigh(b[c])\n",
    "    vals = vals.flip([0])\n",
    "    vecs = vecs.flip([1])\n",
    "\n",
    "    adata.obsm[\"X_Q\"] = adata.X @ vecs[:, :3].numpy()  # project into component space\n",
    "\n",
    "    fig = px.scatter(\n",
    "        x=adata.obsm[\"X_Q\"][:, 0],\n",
    "        y=adata.obsm[\"X_Q\"][:, 1],\n",
    "        color=adata.obs[\"cell_type\"],\n",
    "        title=f\"Cell type {c}\",\n",
    "        width=600,\n",
    "        height=600,\n",
    "    )\n",
    "    fig.update_traces(marker=dict(size=5))\n",
    "    fig.show()"
   ]
  },
  {
   "cell_type": "markdown",
   "id": "a5dc8c29",
   "metadata": {},
   "source": [
    "Looks like the first component nicely separates the cells in the given type from the others.\n",
    "- Cell type 0 components just happen to separate all three types radially quite nicely?\n",
    "\n",
    "Could also just plot type histograms if only the top component is important."
   ]
  },
  {
   "cell_type": "code",
   "execution_count": 23,
   "id": "069b42f6",
   "metadata": {},
   "outputs": [
    {
     "data": {
      "application/vnd.plotly.v1+json": {
       "config": {
        "plotlyServerURL": "https://plot.ly"
       },
       "data": [
        {
         "bingroup": "x",
         "hovertemplate": "cell_type=0<br>component=%{x}<br>count=%{y}<extra></extra>",
         "legendgroup": "0",
         "marker": {
          "color": "#636efa",
          "opacity": 0.7,
          "pattern": {
           "shape": ""
          }
         },
         "name": "0",
         "nbinsx": 30,
         "orientation": "v",
         "showlegend": true,
         "type": "histogram",
         "x": {
          "bdata": "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",
          "dtype": "f4"
         },
         "xaxis": "x",
         "yaxis": "y"
        },
        {
         "bingroup": "x",
         "hovertemplate": "cell_type=2<br>component=%{x}<br>count=%{y}<extra></extra>",
         "legendgroup": "2",
         "marker": {
          "color": "#EF553B",
          "opacity": 0.7,
          "pattern": {
           "shape": ""
          }
         },
         "name": "2",
         "nbinsx": 30,
         "orientation": "v",
         "showlegend": true,
         "type": "histogram",
         "x": {
          "bdata": "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",
          "dtype": "f4"
         },
         "xaxis": "x",
         "yaxis": "y"
        },
        {
         "bingroup": "x",
         "hovertemplate": "cell_type=1<br>component=%{x}<br>count=%{y}<extra></extra>",
         "legendgroup": "1",
         "marker": {
          "color": "#00cc96",
          "opacity": 0.7,
          "pattern": {
           "shape": ""
          }
         },
         "name": "1",
         "nbinsx": 30,
         "orientation": "v",
         "showlegend": true,
         "type": "histogram",
         "x": {
          "bdata": "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",
          "dtype": "f4"
         },
         "xaxis": "x",
         "yaxis": "y"
        }
       ],
       "layout": {
        "barmode": "overlay",
        "height": 300,
        "legend": {
         "title": {
          "text": "cell_type"
         },
         "tracegroupgap": 0
        },
        "template": {
         "data": {
          "bar": [
           {
            "error_x": {
             "color": "#2a3f5f"
            },
            "error_y": {
             "color": "#2a3f5f"
            },
            "marker": {
             "line": {
              "color": "#E5ECF6",
              "width": 0.5
             },
             "pattern": {
              "fillmode": "overlay",
              "size": 10,
              "solidity": 0.2
             }
            },
            "type": "bar"
           }
          ],
          "barpolar": [
           {
            "marker": {
             "line": {
              "color": "#E5ECF6",
              "width": 0.5
             },
             "pattern": {
              "fillmode": "overlay",
              "size": 10,
              "solidity": 0.2
             }
            },
            "type": "barpolar"
           }
          ],
          "carpet": [
           {
            "aaxis": {
             "endlinecolor": "#2a3f5f",
             "gridcolor": "white",
             "linecolor": "white",
             "minorgridcolor": "white",
             "startlinecolor": "#2a3f5f"
            },
            "baxis": {
             "endlinecolor": "#2a3f5f",
             "gridcolor": "white",
             "linecolor": "white",
             "minorgridcolor": "white",
             "startlinecolor": "#2a3f5f"
            },
            "type": "carpet"
           }
          ],
          "choropleth": [
           {
            "colorbar": {
             "outlinewidth": 0,
             "ticks": ""
            },
            "type": "choropleth"
           }
          ],
          "contour": [
           {
            "colorbar": {
             "outlinewidth": 0,
             "ticks": ""
            },
            "colorscale": [
             [
              0,
              "#0d0887"
             ],
             [
              0.1111111111111111,
              "#46039f"
             ],
             [
              0.2222222222222222,
              "#7201a8"
             ],
             [
              0.3333333333333333,
              "#9c179e"
             ],
             [
              0.4444444444444444,
              "#bd3786"
             ],
             [
              0.5555555555555556,
              "#d8576b"
             ],
             [
              0.6666666666666666,
              "#ed7953"
             ],
             [
              0.7777777777777778,
              "#fb9f3a"
             ],
             [
              0.8888888888888888,
              "#fdca26"
             ],
             [
              1,
              "#f0f921"
             ]
            ],
            "type": "contour"
           }
          ],
          "contourcarpet": [
           {
            "colorbar": {
             "outlinewidth": 0,
             "ticks": ""
            },
            "type": "contourcarpet"
           }
          ],
          "heatmap": [
           {
            "colorbar": {
             "outlinewidth": 0,
             "ticks": ""
            },
            "colorscale": [
             [
              0,
              "#0d0887"
             ],
             [
              0.1111111111111111,
              "#46039f"
             ],
             [
              0.2222222222222222,
              "#7201a8"
             ],
             [
              0.3333333333333333,
              "#9c179e"
             ],
             [
              0.4444444444444444,
              "#bd3786"
             ],
             [
              0.5555555555555556,
              "#d8576b"
             ],
             [
              0.6666666666666666,
              "#ed7953"
             ],
             [
              0.7777777777777778,
              "#fb9f3a"
             ],
             [
              0.8888888888888888,
              "#fdca26"
             ],
             [
              1,
              "#f0f921"
             ]
            ],
            "type": "heatmap"
           }
          ],
          "histogram": [
           {
            "marker": {
             "pattern": {
              "fillmode": "overlay",
              "size": 10,
              "solidity": 0.2
             }
            },
            "type": "histogram"
           }
          ],
          "histogram2d": [
           {
            "colorbar": {
             "outlinewidth": 0,
             "ticks": ""
            },
            "colorscale": [
             [
              0,
              "#0d0887"
             ],
             [
              0.1111111111111111,
              "#46039f"
             ],
             [
              0.2222222222222222,
              "#7201a8"
             ],
             [
              0.3333333333333333,
              "#9c179e"
             ],
             [
              0.4444444444444444,
              "#bd3786"
             ],
             [
              0.5555555555555556,
              "#d8576b"
             ],
             [
              0.6666666666666666,
              "#ed7953"
             ],
             [
              0.7777777777777778,
              "#fb9f3a"
             ],
             [
              0.8888888888888888,
              "#fdca26"
             ],
             [
              1,
              "#f0f921"
             ]
            ],
            "type": "histogram2d"
           }
          ],
          "histogram2dcontour": [
           {
            "colorbar": {
             "outlinewidth": 0,
             "ticks": ""
            },
            "colorscale": [
             [
              0,
              "#0d0887"
             ],
             [
              0.1111111111111111,
              "#46039f"
             ],
             [
              0.2222222222222222,
              "#7201a8"
             ],
             [
              0.3333333333333333,
              "#9c179e"
             ],
             [
              0.4444444444444444,
              "#bd3786"
             ],
             [
              0.5555555555555556,
              "#d8576b"
             ],
             [
              0.6666666666666666,
              "#ed7953"
             ],
             [
              0.7777777777777778,
              "#fb9f3a"
             ],
             [
              0.8888888888888888,
              "#fdca26"
             ],
             [
              1,
              "#f0f921"
             ]
            ],
            "type": "histogram2dcontour"
           }
          ],
          "mesh3d": [
           {
            "colorbar": {
             "outlinewidth": 0,
             "ticks": ""
            },
            "type": "mesh3d"
           }
          ],
          "parcoords": [
           {
            "line": {
             "colorbar": {
              "outlinewidth": 0,
              "ticks": ""
             }
            },
            "type": "parcoords"
           }
          ],
          "pie": [
           {
            "automargin": true,
            "type": "pie"
           }
          ],
          "scatter": [
           {
            "fillpattern": {
             "fillmode": "overlay",
             "size": 10,
             "solidity": 0.2
            },
            "type": "scatter"
           }
          ],
          "scatter3d": [
           {
            "line": {
             "colorbar": {
              "outlinewidth": 0,
              "ticks": ""
             }
            },
            "marker": {
             "colorbar": {
              "outlinewidth": 0,
              "ticks": ""
             }
            },
            "type": "scatter3d"
           }
          ],
          "scattercarpet": [
           {
            "marker": {
             "colorbar": {
              "outlinewidth": 0,
              "ticks": ""
             }
            },
            "type": "scattercarpet"
           }
          ],
          "scattergeo": [
           {
            "marker": {
             "colorbar": {
              "outlinewidth": 0,
              "ticks": ""
             }
            },
            "type": "scattergeo"
           }
          ],
          "scattergl": [
           {
            "marker": {
             "colorbar": {
              "outlinewidth": 0,
              "ticks": ""
             }
            },
            "type": "scattergl"
           }
          ],
          "scattermap": [
           {
            "marker": {
             "colorbar": {
              "outlinewidth": 0,
              "ticks": ""
             }
            },
            "type": "scattermap"
           }
          ],
          "scattermapbox": [
           {
            "marker": {
             "colorbar": {
              "outlinewidth": 0,
              "ticks": ""
             }
            },
            "type": "scattermapbox"
           }
          ],
          "scatterpolar": [
           {
            "marker": {
             "colorbar": {
              "outlinewidth": 0,
              "ticks": ""
             }
            },
            "type": "scatterpolar"
           }
          ],
          "scatterpolargl": [
           {
            "marker": {
             "colorbar": {
              "outlinewidth": 0,
              "ticks": ""
             }
            },
            "type": "scatterpolargl"
           }
          ],
          "scatterternary": [
           {
            "marker": {
             "colorbar": {
              "outlinewidth": 0,
              "ticks": ""
             }
            },
            "type": "scatterternary"
           }
          ],
          "surface": [
           {
            "colorbar": {
             "outlinewidth": 0,
             "ticks": ""
            },
            "colorscale": [
             [
              0,
              "#0d0887"
             ],
             [
              0.1111111111111111,
              "#46039f"
             ],
             [
              0.2222222222222222,
              "#7201a8"
             ],
             [
              0.3333333333333333,
              "#9c179e"
             ],
             [
              0.4444444444444444,
              "#bd3786"
             ],
             [
              0.5555555555555556,
              "#d8576b"
             ],
             [
              0.6666666666666666,
              "#ed7953"
             ],
             [
              0.7777777777777778,
              "#fb9f3a"
             ],
             [
              0.8888888888888888,
              "#fdca26"
             ],
             [
              1,
              "#f0f921"
             ]
            ],
            "type": "surface"
           }
          ],
          "table": [
           {
            "cells": {
             "fill": {
              "color": "#EBF0F8"
             },
             "line": {
              "color": "white"
             }
            },
            "header": {
             "fill": {
              "color": "#C8D4E3"
             },
             "line": {
              "color": "white"
             }
            },
            "type": "table"
           }
          ]
         },
         "layout": {
          "annotationdefaults": {
           "arrowcolor": "#2a3f5f",
           "arrowhead": 0,
           "arrowwidth": 1
          },
          "autotypenumbers": "strict",
          "coloraxis": {
           "colorbar": {
            "outlinewidth": 0,
            "ticks": ""
           }
          },
          "colorscale": {
           "diverging": [
            [
             0,
             "#8e0152"
            ],
            [
             0.1,
             "#c51b7d"
            ],
            [
             0.2,
             "#de77ae"
            ],
            [
             0.3,
             "#f1b6da"
            ],
            [
             0.4,
             "#fde0ef"
            ],
            [
             0.5,
             "#f7f7f7"
            ],
            [
             0.6,
             "#e6f5d0"
            ],
            [
             0.7,
             "#b8e186"
            ],
            [
             0.8,
             "#7fbc41"
            ],
            [
             0.9,
             "#4d9221"
            ],
            [
             1,
             "#276419"
            ]
           ],
           "sequential": [
            [
             0,
             "#0d0887"
            ],
            [
             0.1111111111111111,
             "#46039f"
            ],
            [
             0.2222222222222222,
             "#7201a8"
            ],
            [
             0.3333333333333333,
             "#9c179e"
            ],
            [
             0.4444444444444444,
             "#bd3786"
            ],
            [
             0.5555555555555556,
             "#d8576b"
            ],
            [
             0.6666666666666666,
             "#ed7953"
            ],
            [
             0.7777777777777778,
             "#fb9f3a"
            ],
            [
             0.8888888888888888,
             "#fdca26"
            ],
            [
             1,
             "#f0f921"
            ]
           ],
           "sequentialminus": [
            [
             0,
             "#0d0887"
            ],
            [
             0.1111111111111111,
             "#46039f"
            ],
            [
             0.2222222222222222,
             "#7201a8"
            ],
            [
             0.3333333333333333,
             "#9c179e"
            ],
            [
             0.4444444444444444,
             "#bd3786"
            ],
            [
             0.5555555555555556,
             "#d8576b"
            ],
            [
             0.6666666666666666,
             "#ed7953"
            ],
            [
             0.7777777777777778,
             "#fb9f3a"
            ],
            [
             0.8888888888888888,
             "#fdca26"
            ],
            [
             1,
             "#f0f921"
            ]
           ]
          },
          "colorway": [
           "#636efa",
           "#EF553B",
           "#00cc96",
           "#ab63fa",
           "#FFA15A",
           "#19d3f3",
           "#FF6692",
           "#B6E880",
           "#FF97FF",
           "#FECB52"
          ],
          "font": {
           "color": "#2a3f5f"
          },
          "geo": {
           "bgcolor": "white",
           "lakecolor": "white",
           "landcolor": "#E5ECF6",
           "showlakes": true,
           "showland": true,
           "subunitcolor": "white"
          },
          "hoverlabel": {
           "align": "left"
          },
          "hovermode": "closest",
          "mapbox": {
           "style": "light"
          },
          "paper_bgcolor": "white",
          "plot_bgcolor": "#E5ECF6",
          "polar": {
           "angularaxis": {
            "gridcolor": "white",
            "linecolor": "white",
            "ticks": ""
           },
           "bgcolor": "#E5ECF6",
           "radialaxis": {
            "gridcolor": "white",
            "linecolor": "white",
            "ticks": ""
           }
          },
          "scene": {
           "xaxis": {
            "backgroundcolor": "#E5ECF6",
            "gridcolor": "white",
            "gridwidth": 2,
            "linecolor": "white",
            "showbackground": true,
            "ticks": "",
            "zerolinecolor": "white"
           },
           "yaxis": {
            "backgroundcolor": "#E5ECF6",
            "gridcolor": "white",
            "gridwidth": 2,
            "linecolor": "white",
            "showbackground": true,
            "ticks": "",
            "zerolinecolor": "white"
           },
           "zaxis": {
            "backgroundcolor": "#E5ECF6",
            "gridcolor": "white",
            "gridwidth": 2,
            "linecolor": "white",
            "showbackground": true,
            "ticks": "",
            "zerolinecolor": "white"
           }
          },
          "shapedefaults": {
           "line": {
            "color": "#2a3f5f"
           }
          },
          "ternary": {
           "aaxis": {
            "gridcolor": "white",
            "linecolor": "white",
            "ticks": ""
           },
           "baxis": {
            "gridcolor": "white",
            "linecolor": "white",
            "ticks": ""
           },
           "bgcolor": "#E5ECF6",
           "caxis": {
            "gridcolor": "white",
            "linecolor": "white",
            "ticks": ""
           }
          },
          "title": {
           "x": 0.05
          },
          "xaxis": {
           "automargin": true,
           "gridcolor": "white",
           "linecolor": "white",
           "ticks": "",
           "title": {
            "standoff": 15
           },
           "zerolinecolor": "white",
           "zerolinewidth": 2
          },
          "yaxis": {
           "automargin": true,
           "gridcolor": "white",
           "linecolor": "white",
           "ticks": "",
           "title": {
            "standoff": 15
           },
           "zerolinecolor": "white",
           "zerolinewidth": 2
          }
         }
        },
        "title": {
         "text": "Cell type 0 component histograms"
        },
        "width": 600,
        "xaxis": {
         "anchor": "y",
         "domain": [
          0,
          1
         ],
         "title": {
          "text": "component"
         }
        },
        "yaxis": {
         "anchor": "x",
         "domain": [
          0,
          1
         ],
         "title": {
          "text": "count"
         }
        }
       }
      }
     },
     "metadata": {},
     "output_type": "display_data"
    },
    {
     "data": {
      "application/vnd.plotly.v1+json": {
       "config": {
        "plotlyServerURL": "https://plot.ly"
       },
       "data": [
        {
         "bingroup": "x",
         "hovertemplate": "cell_type=0<br>component=%{x}<br>count=%{y}<extra></extra>",
         "legendgroup": "0",
         "marker": {
          "color": "#636efa",
          "opacity": 0.7,
          "pattern": {
           "shape": ""
          }
         },
         "name": "0",
         "nbinsx": 30,
         "orientation": "v",
         "showlegend": true,
         "type": "histogram",
         "x": {
          "bdata": "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",
          "dtype": "f4"
         },
         "xaxis": "x",
         "yaxis": "y"
        },
        {
         "bingroup": "x",
         "hovertemplate": "cell_type=2<br>component=%{x}<br>count=%{y}<extra></extra>",
         "legendgroup": "2",
         "marker": {
          "color": "#EF553B",
          "opacity": 0.7,
          "pattern": {
           "shape": ""
          }
         },
         "name": "2",
         "nbinsx": 30,
         "orientation": "v",
         "showlegend": true,
         "type": "histogram",
         "x": {
          "bdata": "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",
          "dtype": "f4"
         },
         "xaxis": "x",
         "yaxis": "y"
        },
        {
         "bingroup": "x",
         "hovertemplate": "cell_type=1<br>component=%{x}<br>count=%{y}<extra></extra>",
         "legendgroup": "1",
         "marker": {
          "color": "#00cc96",
          "opacity": 0.7,
          "pattern": {
           "shape": ""
          }
         },
         "name": "1",
         "nbinsx": 30,
         "orientation": "v",
         "showlegend": true,
         "type": "histogram",
         "x": {
          "bdata": "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",
          "dtype": "f4"
         },
         "xaxis": "x",
         "yaxis": "y"
        }
       ],
       "layout": {
        "barmode": "overlay",
        "height": 300,
        "legend": {
         "title": {
          "text": "cell_type"
         },
         "tracegroupgap": 0
        },
        "template": {
         "data": {
          "bar": [
           {
            "error_x": {
             "color": "#2a3f5f"
            },
            "error_y": {
             "color": "#2a3f5f"
            },
            "marker": {
             "line": {
              "color": "#E5ECF6",
              "width": 0.5
             },
             "pattern": {
              "fillmode": "overlay",
              "size": 10,
              "solidity": 0.2
             }
            },
            "type": "bar"
           }
          ],
          "barpolar": [
           {
            "marker": {
             "line": {
              "color": "#E5ECF6",
              "width": 0.5
             },
             "pattern": {
              "fillmode": "overlay",
              "size": 10,
              "solidity": 0.2
             }
            },
            "type": "barpolar"
           }
          ],
          "carpet": [
           {
            "aaxis": {
             "endlinecolor": "#2a3f5f",
             "gridcolor": "white",
             "linecolor": "white",
             "minorgridcolor": "white",
             "startlinecolor": "#2a3f5f"
            },
            "baxis": {
             "endlinecolor": "#2a3f5f",
             "gridcolor": "white",
             "linecolor": "white",
             "minorgridcolor": "white",
             "startlinecolor": "#2a3f5f"
            },
            "type": "carpet"
           }
          ],
          "choropleth": [
           {
            "colorbar": {
             "outlinewidth": 0,
             "ticks": ""
            },
            "type": "choropleth"
           }
          ],
          "contour": [
           {
            "colorbar": {
             "outlinewidth": 0,
             "ticks": ""
            },
            "colorscale": [
             [
              0,
              "#0d0887"
             ],
             [
              0.1111111111111111,
              "#46039f"
             ],
             [
              0.2222222222222222,
              "#7201a8"
             ],
             [
              0.3333333333333333,
              "#9c179e"
             ],
             [
              0.4444444444444444,
              "#bd3786"
             ],
             [
              0.5555555555555556,
              "#d8576b"
             ],
             [
              0.6666666666666666,
              "#ed7953"
             ],
             [
              0.7777777777777778,
              "#fb9f3a"
             ],
             [
              0.8888888888888888,
              "#fdca26"
             ],
             [
              1,
              "#f0f921"
             ]
            ],
            "type": "contour"
           }
          ],
          "contourcarpet": [
           {
            "colorbar": {
             "outlinewidth": 0,
             "ticks": ""
            },
            "type": "contourcarpet"
           }
          ],
          "heatmap": [
           {
            "colorbar": {
             "outlinewidth": 0,
             "ticks": ""
            },
            "colorscale": [
             [
              0,
              "#0d0887"
             ],
             [
              0.1111111111111111,
              "#46039f"
             ],
             [
              0.2222222222222222,
              "#7201a8"
             ],
             [
              0.3333333333333333,
              "#9c179e"
             ],
             [
              0.4444444444444444,
              "#bd3786"
             ],
             [
              0.5555555555555556,
              "#d8576b"
             ],
             [
              0.6666666666666666,
              "#ed7953"
             ],
             [
              0.7777777777777778,
              "#fb9f3a"
             ],
             [
              0.8888888888888888,
              "#fdca26"
             ],
             [
              1,
              "#f0f921"
             ]
            ],
            "type": "heatmap"
           }
          ],
          "histogram": [
           {
            "marker": {
             "pattern": {
              "fillmode": "overlay",
              "size": 10,
              "solidity": 0.2
             }
            },
            "type": "histogram"
           }
          ],
          "histogram2d": [
           {
            "colorbar": {
             "outlinewidth": 0,
             "ticks": ""
            },
            "colorscale": [
             [
              0,
              "#0d0887"
             ],
             [
              0.1111111111111111,
              "#46039f"
             ],
             [
              0.2222222222222222,
              "#7201a8"
             ],
             [
              0.3333333333333333,
              "#9c179e"
             ],
             [
              0.4444444444444444,
              "#bd3786"
             ],
             [
              0.5555555555555556,
              "#d8576b"
             ],
             [
              0.6666666666666666,
              "#ed7953"
             ],
             [
              0.7777777777777778,
              "#fb9f3a"
             ],
             [
              0.8888888888888888,
              "#fdca26"
             ],
             [
              1,
              "#f0f921"
             ]
            ],
            "type": "histogram2d"
           }
          ],
          "histogram2dcontour": [
           {
            "colorbar": {
             "outlinewidth": 0,
             "ticks": ""
            },
            "colorscale": [
             [
              0,
              "#0d0887"
             ],
             [
              0.1111111111111111,
              "#46039f"
             ],
             [
              0.2222222222222222,
              "#7201a8"
             ],
             [
              0.3333333333333333,
              "#9c179e"
             ],
             [
              0.4444444444444444,
              "#bd3786"
             ],
             [
              0.5555555555555556,
              "#d8576b"
             ],
             [
              0.6666666666666666,
              "#ed7953"
             ],
             [
              0.7777777777777778,
              "#fb9f3a"
             ],
             [
              0.8888888888888888,
              "#fdca26"
             ],
             [
              1,
              "#f0f921"
             ]
            ],
            "type": "histogram2dcontour"
           }
          ],
          "mesh3d": [
           {
            "colorbar": {
             "outlinewidth": 0,
             "ticks": ""
            },
            "type": "mesh3d"
           }
          ],
          "parcoords": [
           {
            "line": {
             "colorbar": {
              "outlinewidth": 0,
              "ticks": ""
             }
            },
            "type": "parcoords"
           }
          ],
          "pie": [
           {
            "automargin": true,
            "type": "pie"
           }
          ],
          "scatter": [
           {
            "fillpattern": {
             "fillmode": "overlay",
             "size": 10,
             "solidity": 0.2
            },
            "type": "scatter"
           }
          ],
          "scatter3d": [
           {
            "line": {
             "colorbar": {
              "outlinewidth": 0,
              "ticks": ""
             }
            },
            "marker": {
             "colorbar": {
              "outlinewidth": 0,
              "ticks": ""
             }
            },
            "type": "scatter3d"
           }
          ],
          "scattercarpet": [
           {
            "marker": {
             "colorbar": {
              "outlinewidth": 0,
              "ticks": ""
             }
            },
            "type": "scattercarpet"
           }
          ],
          "scattergeo": [
           {
            "marker": {
             "colorbar": {
              "outlinewidth": 0,
              "ticks": ""
             }
            },
            "type": "scattergeo"
           }
          ],
          "scattergl": [
           {
            "marker": {
             "colorbar": {
              "outlinewidth": 0,
              "ticks": ""
             }
            },
            "type": "scattergl"
           }
          ],
          "scattermap": [
           {
            "marker": {
             "colorbar": {
              "outlinewidth": 0,
              "ticks": ""
             }
            },
            "type": "scattermap"
           }
          ],
          "scattermapbox": [
           {
            "marker": {
             "colorbar": {
              "outlinewidth": 0,
              "ticks": ""
             }
            },
            "type": "scattermapbox"
           }
          ],
          "scatterpolar": [
           {
            "marker": {
             "colorbar": {
              "outlinewidth": 0,
              "ticks": ""
             }
            },
            "type": "scatterpolar"
           }
          ],
          "scatterpolargl": [
           {
            "marker": {
             "colorbar": {
              "outlinewidth": 0,
              "ticks": ""
             }
            },
            "type": "scatterpolargl"
           }
          ],
          "scatterternary": [
           {
            "marker": {
             "colorbar": {
              "outlinewidth": 0,
              "ticks": ""
             }
            },
            "type": "scatterternary"
           }
          ],
          "surface": [
           {
            "colorbar": {
             "outlinewidth": 0,
             "ticks": ""
            },
            "colorscale": [
             [
              0,
              "#0d0887"
             ],
             [
              0.1111111111111111,
              "#46039f"
             ],
             [
              0.2222222222222222,
              "#7201a8"
             ],
             [
              0.3333333333333333,
              "#9c179e"
             ],
             [
              0.4444444444444444,
              "#bd3786"
             ],
             [
              0.5555555555555556,
              "#d8576b"
             ],
             [
              0.6666666666666666,
              "#ed7953"
             ],
             [
              0.7777777777777778,
              "#fb9f3a"
             ],
             [
              0.8888888888888888,
              "#fdca26"
             ],
             [
              1,
              "#f0f921"
             ]
            ],
            "type": "surface"
           }
          ],
          "table": [
           {
            "cells": {
             "fill": {
              "color": "#EBF0F8"
             },
             "line": {
              "color": "white"
             }
            },
            "header": {
             "fill": {
              "color": "#C8D4E3"
             },
             "line": {
              "color": "white"
             }
            },
            "type": "table"
           }
          ]
         },
         "layout": {
          "annotationdefaults": {
           "arrowcolor": "#2a3f5f",
           "arrowhead": 0,
           "arrowwidth": 1
          },
          "autotypenumbers": "strict",
          "coloraxis": {
           "colorbar": {
            "outlinewidth": 0,
            "ticks": ""
           }
          },
          "colorscale": {
           "diverging": [
            [
             0,
             "#8e0152"
            ],
            [
             0.1,
             "#c51b7d"
            ],
            [
             0.2,
             "#de77ae"
            ],
            [
             0.3,
             "#f1b6da"
            ],
            [
             0.4,
             "#fde0ef"
            ],
            [
             0.5,
             "#f7f7f7"
            ],
            [
             0.6,
             "#e6f5d0"
            ],
            [
             0.7,
             "#b8e186"
            ],
            [
             0.8,
             "#7fbc41"
            ],
            [
             0.9,
             "#4d9221"
            ],
            [
             1,
             "#276419"
            ]
           ],
           "sequential": [
            [
             0,
             "#0d0887"
            ],
            [
             0.1111111111111111,
             "#46039f"
            ],
            [
             0.2222222222222222,
             "#7201a8"
            ],
            [
             0.3333333333333333,
             "#9c179e"
            ],
            [
             0.4444444444444444,
             "#bd3786"
            ],
            [
             0.5555555555555556,
             "#d8576b"
            ],
            [
             0.6666666666666666,
             "#ed7953"
            ],
            [
             0.7777777777777778,
             "#fb9f3a"
            ],
            [
             0.8888888888888888,
             "#fdca26"
            ],
            [
             1,
             "#f0f921"
            ]
           ],
           "sequentialminus": [
            [
             0,
             "#0d0887"
            ],
            [
             0.1111111111111111,
             "#46039f"
            ],
            [
             0.2222222222222222,
             "#7201a8"
            ],
            [
             0.3333333333333333,
             "#9c179e"
            ],
            [
             0.4444444444444444,
             "#bd3786"
            ],
            [
             0.5555555555555556,
             "#d8576b"
            ],
            [
             0.6666666666666666,
             "#ed7953"
            ],
            [
             0.7777777777777778,
             "#fb9f3a"
            ],
            [
             0.8888888888888888,
             "#fdca26"
            ],
            [
             1,
             "#f0f921"
            ]
           ]
          },
          "colorway": [
           "#636efa",
           "#EF553B",
           "#00cc96",
           "#ab63fa",
           "#FFA15A",
           "#19d3f3",
           "#FF6692",
           "#B6E880",
           "#FF97FF",
           "#FECB52"
          ],
          "font": {
           "color": "#2a3f5f"
          },
          "geo": {
           "bgcolor": "white",
           "lakecolor": "white",
           "landcolor": "#E5ECF6",
           "showlakes": true,
           "showland": true,
           "subunitcolor": "white"
          },
          "hoverlabel": {
           "align": "left"
          },
          "hovermode": "closest",
          "mapbox": {
           "style": "light"
          },
          "paper_bgcolor": "white",
          "plot_bgcolor": "#E5ECF6",
          "polar": {
           "angularaxis": {
            "gridcolor": "white",
            "linecolor": "white",
            "ticks": ""
           },
           "bgcolor": "#E5ECF6",
           "radialaxis": {
            "gridcolor": "white",
            "linecolor": "white",
            "ticks": ""
           }
          },
          "scene": {
           "xaxis": {
            "backgroundcolor": "#E5ECF6",
            "gridcolor": "white",
            "gridwidth": 2,
            "linecolor": "white",
            "showbackground": true,
            "ticks": "",
            "zerolinecolor": "white"
           },
           "yaxis": {
            "backgroundcolor": "#E5ECF6",
            "gridcolor": "white",
            "gridwidth": 2,
            "linecolor": "white",
            "showbackground": true,
            "ticks": "",
            "zerolinecolor": "white"
           },
           "zaxis": {
            "backgroundcolor": "#E5ECF6",
            "gridcolor": "white",
            "gridwidth": 2,
            "linecolor": "white",
            "showbackground": true,
            "ticks": "",
            "zerolinecolor": "white"
           }
          },
          "shapedefaults": {
           "line": {
            "color": "#2a3f5f"
           }
          },
          "ternary": {
           "aaxis": {
            "gridcolor": "white",
            "linecolor": "white",
            "ticks": ""
           },
           "baxis": {
            "gridcolor": "white",
            "linecolor": "white",
            "ticks": ""
           },
           "bgcolor": "#E5ECF6",
           "caxis": {
            "gridcolor": "white",
            "linecolor": "white",
            "ticks": ""
           }
          },
          "title": {
           "x": 0.05
          },
          "xaxis": {
           "automargin": true,
           "gridcolor": "white",
           "linecolor": "white",
           "ticks": "",
           "title": {
            "standoff": 15
           },
           "zerolinecolor": "white",
           "zerolinewidth": 2
          },
          "yaxis": {
           "automargin": true,
           "gridcolor": "white",
           "linecolor": "white",
           "ticks": "",
           "title": {
            "standoff": 15
           },
           "zerolinecolor": "white",
           "zerolinewidth": 2
          }
         }
        },
        "title": {
         "text": "Cell type 1 component histograms"
        },
        "width": 600,
        "xaxis": {
         "anchor": "y",
         "domain": [
          0,
          1
         ],
         "title": {
          "text": "component"
         }
        },
        "yaxis": {
         "anchor": "x",
         "domain": [
          0,
          1
         ],
         "title": {
          "text": "count"
         }
        }
       }
      }
     },
     "metadata": {},
     "output_type": "display_data"
    },
    {
     "data": {
      "application/vnd.plotly.v1+json": {
       "config": {
        "plotlyServerURL": "https://plot.ly"
       },
       "data": [
        {
         "bingroup": "x",
         "hovertemplate": "cell_type=0<br>component=%{x}<br>count=%{y}<extra></extra>",
         "legendgroup": "0",
         "marker": {
          "color": "#636efa",
          "opacity": 0.7,
          "pattern": {
           "shape": ""
          }
         },
         "name": "0",
         "nbinsx": 30,
         "orientation": "v",
         "showlegend": true,
         "type": "histogram",
         "x": {
          "bdata": "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",
          "dtype": "f4"
         },
         "xaxis": "x",
         "yaxis": "y"
        },
        {
         "bingroup": "x",
         "hovertemplate": "cell_type=2<br>component=%{x}<br>count=%{y}<extra></extra>",
         "legendgroup": "2",
         "marker": {
          "color": "#EF553B",
          "opacity": 0.7,
          "pattern": {
           "shape": ""
          }
         },
         "name": "2",
         "nbinsx": 30,
         "orientation": "v",
         "showlegend": true,
         "type": "histogram",
         "x": {
          "bdata": "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",
          "dtype": "f4"
         },
         "xaxis": "x",
         "yaxis": "y"
        },
        {
         "bingroup": "x",
         "hovertemplate": "cell_type=1<br>component=%{x}<br>count=%{y}<extra></extra>",
         "legendgroup": "1",
         "marker": {
          "color": "#00cc96",
          "opacity": 0.7,
          "pattern": {
           "shape": ""
          }
         },
         "name": "1",
         "nbinsx": 30,
         "orientation": "v",
         "showlegend": true,
         "type": "histogram",
         "x": {
          "bdata": "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",
          "dtype": "f4"
         },
         "xaxis": "x",
         "yaxis": "y"
        }
       ],
       "layout": {
        "barmode": "overlay",
        "height": 300,
        "legend": {
         "title": {
          "text": "cell_type"
         },
         "tracegroupgap": 0
        },
        "template": {
         "data": {
          "bar": [
           {
            "error_x": {
             "color": "#2a3f5f"
            },
            "error_y": {
             "color": "#2a3f5f"
            },
            "marker": {
             "line": {
              "color": "#E5ECF6",
              "width": 0.5
             },
             "pattern": {
              "fillmode": "overlay",
              "size": 10,
              "solidity": 0.2
             }
            },
            "type": "bar"
           }
          ],
          "barpolar": [
           {
            "marker": {
             "line": {
              "color": "#E5ECF6",
              "width": 0.5
             },
             "pattern": {
              "fillmode": "overlay",
              "size": 10,
              "solidity": 0.2
             }
            },
            "type": "barpolar"
           }
          ],
          "carpet": [
           {
            "aaxis": {
             "endlinecolor": "#2a3f5f",
             "gridcolor": "white",
             "linecolor": "white",
             "minorgridcolor": "white",
             "startlinecolor": "#2a3f5f"
            },
            "baxis": {
             "endlinecolor": "#2a3f5f",
             "gridcolor": "white",
             "linecolor": "white",
             "minorgridcolor": "white",
             "startlinecolor": "#2a3f5f"
            },
            "type": "carpet"
           }
          ],
          "choropleth": [
           {
            "colorbar": {
             "outlinewidth": 0,
             "ticks": ""
            },
            "type": "choropleth"
           }
          ],
          "contour": [
           {
            "colorbar": {
             "outlinewidth": 0,
             "ticks": ""
            },
            "colorscale": [
             [
              0,
              "#0d0887"
             ],
             [
              0.1111111111111111,
              "#46039f"
             ],
             [
              0.2222222222222222,
              "#7201a8"
             ],
             [
              0.3333333333333333,
              "#9c179e"
             ],
             [
              0.4444444444444444,
              "#bd3786"
             ],
             [
              0.5555555555555556,
              "#d8576b"
             ],
             [
              0.6666666666666666,
              "#ed7953"
             ],
             [
              0.7777777777777778,
              "#fb9f3a"
             ],
             [
              0.8888888888888888,
              "#fdca26"
             ],
             [
              1,
              "#f0f921"
             ]
            ],
            "type": "contour"
           }
          ],
          "contourcarpet": [
           {
            "colorbar": {
             "outlinewidth": 0,
             "ticks": ""
            },
            "type": "contourcarpet"
           }
          ],
          "heatmap": [
           {
            "colorbar": {
             "outlinewidth": 0,
             "ticks": ""
            },
            "colorscale": [
             [
              0,
              "#0d0887"
             ],
             [
              0.1111111111111111,
              "#46039f"
             ],
             [
              0.2222222222222222,
              "#7201a8"
             ],
             [
              0.3333333333333333,
              "#9c179e"
             ],
             [
              0.4444444444444444,
              "#bd3786"
             ],
             [
              0.5555555555555556,
              "#d8576b"
             ],
             [
              0.6666666666666666,
              "#ed7953"
             ],
             [
              0.7777777777777778,
              "#fb9f3a"
             ],
             [
              0.8888888888888888,
              "#fdca26"
             ],
             [
              1,
              "#f0f921"
             ]
            ],
            "type": "heatmap"
           }
          ],
          "histogram": [
           {
            "marker": {
             "pattern": {
              "fillmode": "overlay",
              "size": 10,
              "solidity": 0.2
             }
            },
            "type": "histogram"
           }
          ],
          "histogram2d": [
           {
            "colorbar": {
             "outlinewidth": 0,
             "ticks": ""
            },
            "colorscale": [
             [
              0,
              "#0d0887"
             ],
             [
              0.1111111111111111,
              "#46039f"
             ],
             [
              0.2222222222222222,
              "#7201a8"
             ],
             [
              0.3333333333333333,
              "#9c179e"
             ],
             [
              0.4444444444444444,
              "#bd3786"
             ],
             [
              0.5555555555555556,
              "#d8576b"
             ],
             [
              0.6666666666666666,
              "#ed7953"
             ],
             [
              0.7777777777777778,
              "#fb9f3a"
             ],
             [
              0.8888888888888888,
              "#fdca26"
             ],
             [
              1,
              "#f0f921"
             ]
            ],
            "type": "histogram2d"
           }
          ],
          "histogram2dcontour": [
           {
            "colorbar": {
             "outlinewidth": 0,
             "ticks": ""
            },
            "colorscale": [
             [
              0,
              "#0d0887"
             ],
             [
              0.1111111111111111,
              "#46039f"
             ],
             [
              0.2222222222222222,
              "#7201a8"
             ],
             [
              0.3333333333333333,
              "#9c179e"
             ],
             [
              0.4444444444444444,
              "#bd3786"
             ],
             [
              0.5555555555555556,
              "#d8576b"
             ],
             [
              0.6666666666666666,
              "#ed7953"
             ],
             [
              0.7777777777777778,
              "#fb9f3a"
             ],
             [
              0.8888888888888888,
              "#fdca26"
             ],
             [
              1,
              "#f0f921"
             ]
            ],
            "type": "histogram2dcontour"
           }
          ],
          "mesh3d": [
           {
            "colorbar": {
             "outlinewidth": 0,
             "ticks": ""
            },
            "type": "mesh3d"
           }
          ],
          "parcoords": [
           {
            "line": {
             "colorbar": {
              "outlinewidth": 0,
              "ticks": ""
             }
            },
            "type": "parcoords"
           }
          ],
          "pie": [
           {
            "automargin": true,
            "type": "pie"
           }
          ],
          "scatter": [
           {
            "fillpattern": {
             "fillmode": "overlay",
             "size": 10,
             "solidity": 0.2
            },
            "type": "scatter"
           }
          ],
          "scatter3d": [
           {
            "line": {
             "colorbar": {
              "outlinewidth": 0,
              "ticks": ""
             }
            },
            "marker": {
             "colorbar": {
              "outlinewidth": 0,
              "ticks": ""
             }
            },
            "type": "scatter3d"
           }
          ],
          "scattercarpet": [
           {
            "marker": {
             "colorbar": {
              "outlinewidth": 0,
              "ticks": ""
             }
            },
            "type": "scattercarpet"
           }
          ],
          "scattergeo": [
           {
            "marker": {
             "colorbar": {
              "outlinewidth": 0,
              "ticks": ""
             }
            },
            "type": "scattergeo"
           }
          ],
          "scattergl": [
           {
            "marker": {
             "colorbar": {
              "outlinewidth": 0,
              "ticks": ""
             }
            },
            "type": "scattergl"
           }
          ],
          "scattermap": [
           {
            "marker": {
             "colorbar": {
              "outlinewidth": 0,
              "ticks": ""
             }
            },
            "type": "scattermap"
           }
          ],
          "scattermapbox": [
           {
            "marker": {
             "colorbar": {
              "outlinewidth": 0,
              "ticks": ""
             }
            },
            "type": "scattermapbox"
           }
          ],
          "scatterpolar": [
           {
            "marker": {
             "colorbar": {
              "outlinewidth": 0,
              "ticks": ""
             }
            },
            "type": "scatterpolar"
           }
          ],
          "scatterpolargl": [
           {
            "marker": {
             "colorbar": {
              "outlinewidth": 0,
              "ticks": ""
             }
            },
            "type": "scatterpolargl"
           }
          ],
          "scatterternary": [
           {
            "marker": {
             "colorbar": {
              "outlinewidth": 0,
              "ticks": ""
             }
            },
            "type": "scatterternary"
           }
          ],
          "surface": [
           {
            "colorbar": {
             "outlinewidth": 0,
             "ticks": ""
            },
            "colorscale": [
             [
              0,
              "#0d0887"
             ],
             [
              0.1111111111111111,
              "#46039f"
             ],
             [
              0.2222222222222222,
              "#7201a8"
             ],
             [
              0.3333333333333333,
              "#9c179e"
             ],
             [
              0.4444444444444444,
              "#bd3786"
             ],
             [
              0.5555555555555556,
              "#d8576b"
             ],
             [
              0.6666666666666666,
              "#ed7953"
             ],
             [
              0.7777777777777778,
              "#fb9f3a"
             ],
             [
              0.8888888888888888,
              "#fdca26"
             ],
             [
              1,
              "#f0f921"
             ]
            ],
            "type": "surface"
           }
          ],
          "table": [
           {
            "cells": {
             "fill": {
              "color": "#EBF0F8"
             },
             "line": {
              "color": "white"
             }
            },
            "header": {
             "fill": {
              "color": "#C8D4E3"
             },
             "line": {
              "color": "white"
             }
            },
            "type": "table"
           }
          ]
         },
         "layout": {
          "annotationdefaults": {
           "arrowcolor": "#2a3f5f",
           "arrowhead": 0,
           "arrowwidth": 1
          },
          "autotypenumbers": "strict",
          "coloraxis": {
           "colorbar": {
            "outlinewidth": 0,
            "ticks": ""
           }
          },
          "colorscale": {
           "diverging": [
            [
             0,
             "#8e0152"
            ],
            [
             0.1,
             "#c51b7d"
            ],
            [
             0.2,
             "#de77ae"
            ],
            [
             0.3,
             "#f1b6da"
            ],
            [
             0.4,
             "#fde0ef"
            ],
            [
             0.5,
             "#f7f7f7"
            ],
            [
             0.6,
             "#e6f5d0"
            ],
            [
             0.7,
             "#b8e186"
            ],
            [
             0.8,
             "#7fbc41"
            ],
            [
             0.9,
             "#4d9221"
            ],
            [
             1,
             "#276419"
            ]
           ],
           "sequential": [
            [
             0,
             "#0d0887"
            ],
            [
             0.1111111111111111,
             "#46039f"
            ],
            [
             0.2222222222222222,
             "#7201a8"
            ],
            [
             0.3333333333333333,
             "#9c179e"
            ],
            [
             0.4444444444444444,
             "#bd3786"
            ],
            [
             0.5555555555555556,
             "#d8576b"
            ],
            [
             0.6666666666666666,
             "#ed7953"
            ],
            [
             0.7777777777777778,
             "#fb9f3a"
            ],
            [
             0.8888888888888888,
             "#fdca26"
            ],
            [
             1,
             "#f0f921"
            ]
           ],
           "sequentialminus": [
            [
             0,
             "#0d0887"
            ],
            [
             0.1111111111111111,
             "#46039f"
            ],
            [
             0.2222222222222222,
             "#7201a8"
            ],
            [
             0.3333333333333333,
             "#9c179e"
            ],
            [
             0.4444444444444444,
             "#bd3786"
            ],
            [
             0.5555555555555556,
             "#d8576b"
            ],
            [
             0.6666666666666666,
             "#ed7953"
            ],
            [
             0.7777777777777778,
             "#fb9f3a"
            ],
            [
             0.8888888888888888,
             "#fdca26"
            ],
            [
             1,
             "#f0f921"
            ]
           ]
          },
          "colorway": [
           "#636efa",
           "#EF553B",
           "#00cc96",
           "#ab63fa",
           "#FFA15A",
           "#19d3f3",
           "#FF6692",
           "#B6E880",
           "#FF97FF",
           "#FECB52"
          ],
          "font": {
           "color": "#2a3f5f"
          },
          "geo": {
           "bgcolor": "white",
           "lakecolor": "white",
           "landcolor": "#E5ECF6",
           "showlakes": true,
           "showland": true,
           "subunitcolor": "white"
          },
          "hoverlabel": {
           "align": "left"
          },
          "hovermode": "closest",
          "mapbox": {
           "style": "light"
          },
          "paper_bgcolor": "white",
          "plot_bgcolor": "#E5ECF6",
          "polar": {
           "angularaxis": {
            "gridcolor": "white",
            "linecolor": "white",
            "ticks": ""
           },
           "bgcolor": "#E5ECF6",
           "radialaxis": {
            "gridcolor": "white",
            "linecolor": "white",
            "ticks": ""
           }
          },
          "scene": {
           "xaxis": {
            "backgroundcolor": "#E5ECF6",
            "gridcolor": "white",
            "gridwidth": 2,
            "linecolor": "white",
            "showbackground": true,
            "ticks": "",
            "zerolinecolor": "white"
           },
           "yaxis": {
            "backgroundcolor": "#E5ECF6",
            "gridcolor": "white",
            "gridwidth": 2,
            "linecolor": "white",
            "showbackground": true,
            "ticks": "",
            "zerolinecolor": "white"
           },
           "zaxis": {
            "backgroundcolor": "#E5ECF6",
            "gridcolor": "white",
            "gridwidth": 2,
            "linecolor": "white",
            "showbackground": true,
            "ticks": "",
            "zerolinecolor": "white"
           }
          },
          "shapedefaults": {
           "line": {
            "color": "#2a3f5f"
           }
          },
          "ternary": {
           "aaxis": {
            "gridcolor": "white",
            "linecolor": "white",
            "ticks": ""
           },
           "baxis": {
            "gridcolor": "white",
            "linecolor": "white",
            "ticks": ""
           },
           "bgcolor": "#E5ECF6",
           "caxis": {
            "gridcolor": "white",
            "linecolor": "white",
            "ticks": ""
           }
          },
          "title": {
           "x": 0.05
          },
          "xaxis": {
           "automargin": true,
           "gridcolor": "white",
           "linecolor": "white",
           "ticks": "",
           "title": {
            "standoff": 15
           },
           "zerolinecolor": "white",
           "zerolinewidth": 2
          },
          "yaxis": {
           "automargin": true,
           "gridcolor": "white",
           "linecolor": "white",
           "ticks": "",
           "title": {
            "standoff": 15
           },
           "zerolinecolor": "white",
           "zerolinewidth": 2
          }
         }
        },
        "title": {
         "text": "Cell type 2 component histograms"
        },
        "width": 600,
        "xaxis": {
         "anchor": "y",
         "domain": [
          0,
          1
         ],
         "title": {
          "text": "component"
         }
        },
        "yaxis": {
         "anchor": "x",
         "domain": [
          0,
          1
         ],
         "title": {
          "text": "count"
         }
        }
       }
      }
     },
     "metadata": {},
     "output_type": "display_data"
    }
   ],
   "source": [
    "for c in range(n_cell_types):\n",
    "\n",
    "    vals, vecs = torch.linalg.eigh(b[c])\n",
    "    vals = vals.flip([0])\n",
    "    vecs = vecs.flip([1])\n",
    "\n",
    "    adata.obsm[\"X_Q\"] = adata.X @ vecs[:, :3].numpy()  # project into component space\n",
    "\n",
    "    hist_df = pd.DataFrame({\n",
    "        \"component\": adata.obsm[\"X_Q\"][:, 0],\n",
    "        \"cell_type\": adata.obs[\"cell_type\"]\n",
    "    })\n",
    "    \n",
    "    fig = px.histogram(\n",
    "        hist_df,\n",
    "        x=\"component\",\n",
    "        color=\"cell_type\",\n",
    "        title=f\"Cell type {c} component histograms\",\n",
    "        opacity=0.7,\n",
    "        nbins=30,\n",
    "        barmode=\"overlay\",\n",
    "        width=600,\n",
    "        height=300,\n",
    "    )\n",
    "    fig.show()"
   ]
  },
  {
   "cell_type": "markdown",
   "id": "8294e164",
   "metadata": {},
   "source": [
    "Nice, the pattern is clear in the histograms of just the top components.\n",
    "\n",
    "What happens if we plot these cells in the space spanned by each cell type's top component?"
   ]
  },
  {
   "cell_type": "code",
   "execution_count": 24,
   "id": "b2822e9f",
   "metadata": {},
   "outputs": [
    {
     "data": {
      "application/vnd.plotly.v1+json": {
       "config": {
        "plotlyServerURL": "https://plot.ly"
       },
       "data": [
        {
         "hovertemplate": "color=0<br>x=%{x}<br>y=%{y}<br>z=%{z}<extra></extra>",
         "legendgroup": "0",
         "marker": {
          "color": "#636efa",
          "size": 5,
          "symbol": "circle"
         },
         "mode": "markers",
         "name": "0",
         "scene": "scene",
         "showlegend": true,
         "type": "scatter3d",
         "x": {
          "bdata": "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",
          "dtype": "f4"
         },
         "y": {
          "bdata": "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",
          "dtype": "f4"
         },
         "z": {
          "bdata": "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",
          "dtype": "f4"
         }
        },
        {
         "hovertemplate": "color=2<br>x=%{x}<br>y=%{y}<br>z=%{z}<extra></extra>",
         "legendgroup": "2",
         "marker": {
          "color": "#EF553B",
          "size": 5,
          "symbol": "circle"
         },
         "mode": "markers",
         "name": "2",
         "scene": "scene",
         "showlegend": true,
         "type": "scatter3d",
         "x": {
          "bdata": "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",
          "dtype": "f4"
         },
         "y": {
          "bdata": "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",
          "dtype": "f4"
         },
         "z": {
          "bdata": "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",
          "dtype": "f4"
         }
        },
        {
         "hovertemplate": "color=1<br>x=%{x}<br>y=%{y}<br>z=%{z}<extra></extra>",
         "legendgroup": "1",
         "marker": {
          "color": "#00cc96",
          "size": 5,
          "symbol": "circle"
         },
         "mode": "markers",
         "name": "1",
         "scene": "scene",
         "showlegend": true,
         "type": "scatter3d",
         "x": {
          "bdata": "6p5jwf7bZsGUM+XAIluawGiELsFRhhvBXOk9wbmJJsEKqzzBHIJTwcz61cDj/yrBGf0xwR4zP8EhkhPBHjEOwUzUF8GQcj7Bo9xzwSqm6MDVeurAUpghwRraWcEmqe/AmL4xwT6ZQsG/6NnAK6Y1wax/HMHqWRzBeoxdwUriT8E8TLvARhyZwLSU3sCeGjHB4AwjwY4PNMGMbRzBJBnzwERIEMG/6ZjAJyI+wdBfRsFe9gjBuXBQwd/HfcF9aBnBsAwswQomv8C60VrBDhxBwb4CMcEb4B3BNlPlwKZKq8C3bRTBuGMnwUxJFsFMER3BtQgBwQIdBcES1RLBsegzwZerXsER/STB6GRJwdDMOcFYug/BHb85wQh1zcBa8yHBmpsYwe/3FsGH5dHA6kHfwOC3QsGxStTAPLoMwe+KXcFK4krBtRuTwOWSEcHItknBUEXRwC+7KcEQBG3Bt0ZBwZWbnMBUKyjB8fEGwV4KDsHx20rBZ9wnwQODFcHSGjLBKD4wwcB4GME7YgDBgL8WwSlzIMHL5jPBZ/ECwTXvT8Fn2B3Byx00wQRdE8E9nFHBBcBWwf+nOsE6bB7BBRE1welpA8FcbS/BbTAtwQJtB8GqThXBsaFDwV4dIMFiBkDBTs/dwO5998DiwRvBTvUywYi90MCsJw7BtmorwUG7ycCdp0nBW3c2wTpOAMEuHvLA34EwwTiIAcGudDDBheMZwSLeDsHUGW3Bil0lwRDZEMHaTOrAyWkbwYIu28DF70nBg69EwTpHBsGZBy3B3zvzwI+jKsFpfTjBNAQXwW2s6MBe3RLBrPciwWoi/MD6MSzBVGfdwLzPUMFO9OnAwEBbwQPGSsGgXyXB0/VKwRM0OMGoNBDBF8UqwdOMLsHhVuPAE4NFwWhRD8EpJwfBP46pwHou6cAmIR7B6u/iwOHgg8AMxRPBOStFwSVPX8EcCUHBoCccwT09OsEIfwjBHro1wXcSscBFhgPBvqgxwZdyS8FFliDB5rXdwEfR1sDLPFfBTzUIwca2PcHykgTBjH0dwSQ7P8Hx87LAtWM8wdu4N8FqlynBIkoSwZpJJcG+8B7Bwc9dwboIR8F6ACzBmvHswIE7OcHNuhzBNyZZwYOc8MC4H0HBLl5HwSfPQMG1kTHB3OJbwaaR38Bp8jHBavLdwBtap8ChDzjBMq8QwZ8OCsERyjDBaHQ7wfKKpsCVCjTB0sRMwaxALMGgadrA+mEgwa6aH8HwrezANeQJwUeSPsGJih3ByaowwaBwHcGsTTjBrMVNwYrRKMFVpyrBn+00wXWkQ8GQ40jBBq9xwXl3DME4F0fBTqQqwVOA+sAfiETBuZcvweBVRMFFR0/BuQpIwTnqA8FP2fXAWbZRwfE/0cDT1y7BhNtbwcemV8F4QxvB4CwqwSjr6cB+EFnBeepAwTMaFsH06FDB95TnwMoVSsHvfN7APVwSwRfORcElU1fB+3E2wdOEnsCCtFDBzC4mwY+hIsG18k3BETHYwNwVSsG8dSbBnNJHwfoOOcEdFzbBq5nXwAY7GsH5uRnBmo0dwQYOccAm1EXBpd0cwTcxPsGh/NvACQ/9wBBhIcHgi07BRfA1wSSVAsGGxUHBckfOwKA3PsE8QyDBgErGwPY5NMEY3T/B1jrXwOrv+MC2qivBcHJHwRHuZ8FOQU7BRJkTwcfBJcHIqAjBU+IzwVSzGsGCUzTBtoZewRVMVsHCMCHBLLkmwawyYMFzDlDBy1HSwPolPcH9HczAPO4gwVq3OMFavU3BqcABwaUsFcEZxjjBkW5PwdGMSsE5RVbBNMLfwGiQR8GS7BzBKro7wf23HMG9BD3BCIpEwSAzvMDWCyTBRPYjwVOkP8Fw3wDBl74PwWwCGMGFBj7BBNihwLV2QcHb6zXBUnUIwWqyI8GfadLA91YgwYqHIsHjGCrBKr4KwUAlLMHuhCzB++0DwVgbSMGH/jTBmY04wcph+MDtagPBx6NZwWcgAMHJAfvA5D8ewZSD9cChOA3BKtopwVehRsHUK0rBCNtUwQfISMHSYVHBMPwxwRZmV8FB+FPB7LBQwUzjOMHbPAvBoV1CwZ4FT8Gfm2TBVn0swS3f1cD5ThXB4pYBwT8e/sD8iEHBopJhwTbzKMFxnEnBQmNJwRY/RsGwn2PBTWxNwWL2J8EvuhPBMutIwUr4RsGtGPjAtysewQw0+sB6CEbBZVo1wc0lR8FVMi/BNLUzwdxR98DKX+fAGdlJwURsEMFBLJXAsbdFwXvrCMEjAjjBv1ZEwcwmEcEjOTXB3bwjwYv7U8FbZhzBCOQMwT0qRsFMyyXBNQdbwVKFD8GXeLLA8SwnwdxARsGUf8DABPBIwZt99cCpgN7Apig7wTjp5cAXvzfBR29iwTRlf8GJqmnBwU30wPLfJMFw5M7AhkAYwcOEE8HFbTrBm+YtweD/O8H/+l/BYbTCwD7SJsEL9wLB7GVNwQlk28CgOjfBo3QGweSdT8HeVjrBJ3oqwT07FsErjFbBAy9LwURCAMFz/1HBhzpHwQefdcFN7DvBwpLdwEFfLsHKbg3BWzA8wQxrFsGUskzBZ6YkwTNYS8F11irBLNIhwa4USsFYCLTAeppZwTfOGMEu20TBp6s6wY9O/cDMpRXB+g0AwQJTPcFUD7/AtF4wwa5rMMEIpVvB3UE9wR34SsHaOU3BG/8mwUUkKsEMjvDAxt1Hwd9TScFpFgrB9lMfwdZTR8HxtDvB47tIwXJMUsHpc3jB0xtPwZipRsFIxWbB0F04wUlXXsHRiUPB9mcRwWTdQsF7WbTAIrcBwSQiCMHFoVfB2JESwbC2B8Hi0lfBmWEuweCeZsFcJc3A2qXbwCRy/cD+BwDBRMZvwYVyC8HyTP3ANiQbwfxVIMEvVd7Ax9EwwZ5CNcFTGiPBO23VwC7XBcHK1/LAoaPpwCyIQsFGQVPBxJE/waTQHcEpDTnBWXzWwCfEKcHWZETBsuzUwA5FIcHmlTvBZ4hEwaw0Q8Gr1ErBuJdFwRSddsGwoE7B2qQ6wUVZRcH2UD/B56hFwfOfU8ErbDHBwzQewe1fAcFiDynB5hbhwHjaMMG/rxHBwtdhwS4L2MB3e5zABKNiwbbsGMFUON7A3K3twGb10cDVBzjB0MFXwWm0V8EoWG/B+3Y9wXu+QsHe7WvB7nJWwYsmMcHJnhrBX1KmwDrB88A7bxzBHZmiwPDma8FeAV3BsgMdweKjAMFHkPvASnNKwXXzYsHR4UbBDPY9wb5EO8Esi8fAYndewSxCNcHME1jBrj9UwVZIBcEtEDrBG2xiwSJcH8FRh7HAY+IcwT2CR8FE3SnByCNFwXWaNMFE8CvBE6UFwQ4NIsFOekfBJPg2wYoQUsGdKC7B1LpDwcmz+cDwwjnBguhowQ7RUcHyZiPBDcYJwZRe98CXiAHBCLTtwPLYCMFnRzTBhd8jwTnOHMFafTHBBtdkwbKxJcGFbSvB3+k4wXyzt8AMOkDBwsHawBM0E8GBC0nBubDwwEfEWcGgezvBJYpGwVRHScHWirLA9KIHwWWwFMGIAEzBi0PnwDOmOMF9xSHBx2xLwZU/O8Gu9BbBcmo/wbyVN8EcIhnB9iopwRtrrMAztUPBKsZHwYIRH8F5oD/B7FZKwfd0NMHoZkPBQaxdwaxmNMFY3VfBdcdQwbX1XMGO1jfByDUjwUgVRsHozLfADV8dwbP6BcG+5ATBraxRwfUXGcHrT7bAQik9wRBORsG1FzfBf49Nwf6bSsG8dM/A4wgjwX4Z2cApDSLBNUNLwYQS88A0ViLBtglYwWrGH8F9mdHAGBcswcEF6cCpLxjBOI3KwGdeIMEd6Q/B3HVUwXFFKcE2dU7B/y4qwT0j5MCuzzzBLrwTwQTkPcHuJi7B3s1JwTSZJ8G6+KfAMgojwTRQG8EatwrBTsEuwS36X8GVeTjBXu8WwSzQMMEPnCXBGywewcYZHMEsQRrBygMJwR+xSsEmTFjBCZo1wXrBJcFpA0PB0ZQswYQqUsH06hzBc8JYwaqJuMA+myPBrmj4wCCfS8EgEG/BEprWwCu3C8EPCjLBtVQcwbC7L8GYVD7BnE5IwTnTJ8Ex0kTB8C8wwdcHdMGDRxfB6VU/wT3gssAce0HBAU4YwXQ3yMD2jibB0ukVwZh7DsG/EyXBRhwoweXVJMH2plTAM4kdwUUHQME12UzBDwUywUGnXcHGyyLBmidEwRQdRsFhKvrA7m8nwegTT8G52jrB/JBUwSz1GMEpM8bA8+kQwZCnIMFUzznBpXU6wSixGsHyTUzBWTG8wF5LJ8FMkkjB3blcwZia8MBFQxfBp/EZweFDKcGyrg3B/49Yweh1HMHU8g/BIhgfweVJHMF8VyHB204iwbfwecFoA1XBjMpEwQapPMFCdmPBXKf2wK/3DMH2iAfBVSLWwCoWLMFJHzHBHzjJwCzkYMGuOCvBBDPpvyMLWMHvSivBgBFjwVYBJsEupRDBdzwiwTewW8F6ixzBKsQlwTzW/8Bdrw3B8jqywNa2qcAuDDPBPzs1wd2KQ8GeSojAhvmWwBSHQcGZVFPBM/wxwaAt8MBEfqHAYpNgwdvZMMGsKS/BfO//wLZFT8GZRhvBWGEUwZowLsETnwLBEr0uwXhcQcE2AV3BRdMCwdJSQ8HwYxPBMvEMwbUoOMEdIPDAZ68OwdbsPMFzjSXBHMNZwXKyScE0+/TA4qRZwQ/RD8EbHiPBnsIvwWhA6sDVnS3BbgkIwWxD2sBgLzLBw6UywSCWWMFC3kjB7QtFwVZSXcHtKlPBBhQLwQh8ecHzYinBx7xLwV76SsGx5XLBdbA7weyDV8EQSknB/o9DwYR0ecFbnCnBY0CjwJT6MMFHzwnBVvhCwW/eNMHFwNrAxj24wH5+R8GDVAfBFjoPwc65WMHIAkXBEiM6wbQNRsEN4jvBPSUZwVQKLMERDh/BhDZLwafDPsHmFDfBJW8dwVmLkMCXpzHBkNWLwAB7EsFUMAvBP84ewW5x9cDZ57rAqSQ0wTdG0sBdYB/BYjYBwTiHQcGW0mLBud4Pwcgg3sBwlSnBm07qwAdSU8FcmODACsVSwc+69sCMjDvBGsc1wQknLMEYNzHBXa1CwQ==",
          "dtype": "f4"
         },
         "y": {
          "bdata": "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",
          "dtype": "f4"
         },
         "z": {
          "bdata": "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",
          "dtype": "f4"
         }
        }
       ],
       "layout": {
        "height": 600,
        "legend": {
         "title": {
          "text": "color"
         },
         "tracegroupgap": 0
        },
        "scene": {
         "domain": {
          "x": [
           0,
           1
          ],
          "y": [
           0,
           1
          ]
         },
         "xaxis": {
          "title": {
           "text": "x"
          }
         },
         "yaxis": {
          "title": {
           "text": "y"
          }
         },
         "zaxis": {
          "title": {
           "text": "z"
          }
         }
        },
        "template": {
         "data": {
          "bar": [
           {
            "error_x": {
             "color": "#2a3f5f"
            },
            "error_y": {
             "color": "#2a3f5f"
            },
            "marker": {
             "line": {
              "color": "#E5ECF6",
              "width": 0.5
             },
             "pattern": {
              "fillmode": "overlay",
              "size": 10,
              "solidity": 0.2
             }
            },
            "type": "bar"
           }
          ],
          "barpolar": [
           {
            "marker": {
             "line": {
              "color": "#E5ECF6",
              "width": 0.5
             },
             "pattern": {
              "fillmode": "overlay",
              "size": 10,
              "solidity": 0.2
             }
            },
            "type": "barpolar"
           }
          ],
          "carpet": [
           {
            "aaxis": {
             "endlinecolor": "#2a3f5f",
             "gridcolor": "white",
             "linecolor": "white",
             "minorgridcolor": "white",
             "startlinecolor": "#2a3f5f"
            },
            "baxis": {
             "endlinecolor": "#2a3f5f",
             "gridcolor": "white",
             "linecolor": "white",
             "minorgridcolor": "white",
             "startlinecolor": "#2a3f5f"
            },
            "type": "carpet"
           }
          ],
          "choropleth": [
           {
            "colorbar": {
             "outlinewidth": 0,
             "ticks": ""
            },
            "type": "choropleth"
           }
          ],
          "contour": [
           {
            "colorbar": {
             "outlinewidth": 0,
             "ticks": ""
            },
            "colorscale": [
             [
              0,
              "#0d0887"
             ],
             [
              0.1111111111111111,
              "#46039f"
             ],
             [
              0.2222222222222222,
              "#7201a8"
             ],
             [
              0.3333333333333333,
              "#9c179e"
             ],
             [
              0.4444444444444444,
              "#bd3786"
             ],
             [
              0.5555555555555556,
              "#d8576b"
             ],
             [
              0.6666666666666666,
              "#ed7953"
             ],
             [
              0.7777777777777778,
              "#fb9f3a"
             ],
             [
              0.8888888888888888,
              "#fdca26"
             ],
             [
              1,
              "#f0f921"
             ]
            ],
            "type": "contour"
           }
          ],
          "contourcarpet": [
           {
            "colorbar": {
             "outlinewidth": 0,
             "ticks": ""
            },
            "type": "contourcarpet"
           }
          ],
          "heatmap": [
           {
            "colorbar": {
             "outlinewidth": 0,
             "ticks": ""
            },
            "colorscale": [
             [
              0,
              "#0d0887"
             ],
             [
              0.1111111111111111,
              "#46039f"
             ],
             [
              0.2222222222222222,
              "#7201a8"
             ],
             [
              0.3333333333333333,
              "#9c179e"
             ],
             [
              0.4444444444444444,
              "#bd3786"
             ],
             [
              0.5555555555555556,
              "#d8576b"
             ],
             [
              0.6666666666666666,
              "#ed7953"
             ],
             [
              0.7777777777777778,
              "#fb9f3a"
             ],
             [
              0.8888888888888888,
              "#fdca26"
             ],
             [
              1,
              "#f0f921"
             ]
            ],
            "type": "heatmap"
           }
          ],
          "histogram": [
           {
            "marker": {
             "pattern": {
              "fillmode": "overlay",
              "size": 10,
              "solidity": 0.2
             }
            },
            "type": "histogram"
           }
          ],
          "histogram2d": [
           {
            "colorbar": {
             "outlinewidth": 0,
             "ticks": ""
            },
            "colorscale": [
             [
              0,
              "#0d0887"
             ],
             [
              0.1111111111111111,
              "#46039f"
             ],
             [
              0.2222222222222222,
              "#7201a8"
             ],
             [
              0.3333333333333333,
              "#9c179e"
             ],
             [
              0.4444444444444444,
              "#bd3786"
             ],
             [
              0.5555555555555556,
              "#d8576b"
             ],
             [
              0.6666666666666666,
              "#ed7953"
             ],
             [
              0.7777777777777778,
              "#fb9f3a"
             ],
             [
              0.8888888888888888,
              "#fdca26"
             ],
             [
              1,
              "#f0f921"
             ]
            ],
            "type": "histogram2d"
           }
          ],
          "histogram2dcontour": [
           {
            "colorbar": {
             "outlinewidth": 0,
             "ticks": ""
            },
            "colorscale": [
             [
              0,
              "#0d0887"
             ],
             [
              0.1111111111111111,
              "#46039f"
             ],
             [
              0.2222222222222222,
              "#7201a8"
             ],
             [
              0.3333333333333333,
              "#9c179e"
             ],
             [
              0.4444444444444444,
              "#bd3786"
             ],
             [
              0.5555555555555556,
              "#d8576b"
             ],
             [
              0.6666666666666666,
              "#ed7953"
             ],
             [
              0.7777777777777778,
              "#fb9f3a"
             ],
             [
              0.8888888888888888,
              "#fdca26"
             ],
             [
              1,
              "#f0f921"
             ]
            ],
            "type": "histogram2dcontour"
           }
          ],
          "mesh3d": [
           {
            "colorbar": {
             "outlinewidth": 0,
             "ticks": ""
            },
            "type": "mesh3d"
           }
          ],
          "parcoords": [
           {
            "line": {
             "colorbar": {
              "outlinewidth": 0,
              "ticks": ""
             }
            },
            "type": "parcoords"
           }
          ],
          "pie": [
           {
            "automargin": true,
            "type": "pie"
           }
          ],
          "scatter": [
           {
            "fillpattern": {
             "fillmode": "overlay",
             "size": 10,
             "solidity": 0.2
            },
            "type": "scatter"
           }
          ],
          "scatter3d": [
           {
            "line": {
             "colorbar": {
              "outlinewidth": 0,
              "ticks": ""
             }
            },
            "marker": {
             "colorbar": {
              "outlinewidth": 0,
              "ticks": ""
             }
            },
            "type": "scatter3d"
           }
          ],
          "scattercarpet": [
           {
            "marker": {
             "colorbar": {
              "outlinewidth": 0,
              "ticks": ""
             }
            },
            "type": "scattercarpet"
           }
          ],
          "scattergeo": [
           {
            "marker": {
             "colorbar": {
              "outlinewidth": 0,
              "ticks": ""
             }
            },
            "type": "scattergeo"
           }
          ],
          "scattergl": [
           {
            "marker": {
             "colorbar": {
              "outlinewidth": 0,
              "ticks": ""
             }
            },
            "type": "scattergl"
           }
          ],
          "scattermap": [
           {
            "marker": {
             "colorbar": {
              "outlinewidth": 0,
              "ticks": ""
             }
            },
            "type": "scattermap"
           }
          ],
          "scattermapbox": [
           {
            "marker": {
             "colorbar": {
              "outlinewidth": 0,
              "ticks": ""
             }
            },
            "type": "scattermapbox"
           }
          ],
          "scatterpolar": [
           {
            "marker": {
             "colorbar": {
              "outlinewidth": 0,
              "ticks": ""
             }
            },
            "type": "scatterpolar"
           }
          ],
          "scatterpolargl": [
           {
            "marker": {
             "colorbar": {
              "outlinewidth": 0,
              "ticks": ""
             }
            },
            "type": "scatterpolargl"
           }
          ],
          "scatterternary": [
           {
            "marker": {
             "colorbar": {
              "outlinewidth": 0,
              "ticks": ""
             }
            },
            "type": "scatterternary"
           }
          ],
          "surface": [
           {
            "colorbar": {
             "outlinewidth": 0,
             "ticks": ""
            },
            "colorscale": [
             [
              0,
              "#0d0887"
             ],
             [
              0.1111111111111111,
              "#46039f"
             ],
             [
              0.2222222222222222,
              "#7201a8"
             ],
             [
              0.3333333333333333,
              "#9c179e"
             ],
             [
              0.4444444444444444,
              "#bd3786"
             ],
             [
              0.5555555555555556,
              "#d8576b"
             ],
             [
              0.6666666666666666,
              "#ed7953"
             ],
             [
              0.7777777777777778,
              "#fb9f3a"
             ],
             [
              0.8888888888888888,
              "#fdca26"
             ],
             [
              1,
              "#f0f921"
             ]
            ],
            "type": "surface"
           }
          ],
          "table": [
           {
            "cells": {
             "fill": {
              "color": "#EBF0F8"
             },
             "line": {
              "color": "white"
             }
            },
            "header": {
             "fill": {
              "color": "#C8D4E3"
             },
             "line": {
              "color": "white"
             }
            },
            "type": "table"
           }
          ]
         },
         "layout": {
          "annotationdefaults": {
           "arrowcolor": "#2a3f5f",
           "arrowhead": 0,
           "arrowwidth": 1
          },
          "autotypenumbers": "strict",
          "coloraxis": {
           "colorbar": {
            "outlinewidth": 0,
            "ticks": ""
           }
          },
          "colorscale": {
           "diverging": [
            [
             0,
             "#8e0152"
            ],
            [
             0.1,
             "#c51b7d"
            ],
            [
             0.2,
             "#de77ae"
            ],
            [
             0.3,
             "#f1b6da"
            ],
            [
             0.4,
             "#fde0ef"
            ],
            [
             0.5,
             "#f7f7f7"
            ],
            [
             0.6,
             "#e6f5d0"
            ],
            [
             0.7,
             "#b8e186"
            ],
            [
             0.8,
             "#7fbc41"
            ],
            [
             0.9,
             "#4d9221"
            ],
            [
             1,
             "#276419"
            ]
           ],
           "sequential": [
            [
             0,
             "#0d0887"
            ],
            [
             0.1111111111111111,
             "#46039f"
            ],
            [
             0.2222222222222222,
             "#7201a8"
            ],
            [
             0.3333333333333333,
             "#9c179e"
            ],
            [
             0.4444444444444444,
             "#bd3786"
            ],
            [
             0.5555555555555556,
             "#d8576b"
            ],
            [
             0.6666666666666666,
             "#ed7953"
            ],
            [
             0.7777777777777778,
             "#fb9f3a"
            ],
            [
             0.8888888888888888,
             "#fdca26"
            ],
            [
             1,
             "#f0f921"
            ]
           ],
           "sequentialminus": [
            [
             0,
             "#0d0887"
            ],
            [
             0.1111111111111111,
             "#46039f"
            ],
            [
             0.2222222222222222,
             "#7201a8"
            ],
            [
             0.3333333333333333,
             "#9c179e"
            ],
            [
             0.4444444444444444,
             "#bd3786"
            ],
            [
             0.5555555555555556,
             "#d8576b"
            ],
            [
             0.6666666666666666,
             "#ed7953"
            ],
            [
             0.7777777777777778,
             "#fb9f3a"
            ],
            [
             0.8888888888888888,
             "#fdca26"
            ],
            [
             1,
             "#f0f921"
            ]
           ]
          },
          "colorway": [
           "#636efa",
           "#EF553B",
           "#00cc96",
           "#ab63fa",
           "#FFA15A",
           "#19d3f3",
           "#FF6692",
           "#B6E880",
           "#FF97FF",
           "#FECB52"
          ],
          "font": {
           "color": "#2a3f5f"
          },
          "geo": {
           "bgcolor": "white",
           "lakecolor": "white",
           "landcolor": "#E5ECF6",
           "showlakes": true,
           "showland": true,
           "subunitcolor": "white"
          },
          "hoverlabel": {
           "align": "left"
          },
          "hovermode": "closest",
          "mapbox": {
           "style": "light"
          },
          "paper_bgcolor": "white",
          "plot_bgcolor": "#E5ECF6",
          "polar": {
           "angularaxis": {
            "gridcolor": "white",
            "linecolor": "white",
            "ticks": ""
           },
           "bgcolor": "#E5ECF6",
           "radialaxis": {
            "gridcolor": "white",
            "linecolor": "white",
            "ticks": ""
           }
          },
          "scene": {
           "xaxis": {
            "backgroundcolor": "#E5ECF6",
            "gridcolor": "white",
            "gridwidth": 2,
            "linecolor": "white",
            "showbackground": true,
            "ticks": "",
            "zerolinecolor": "white"
           },
           "yaxis": {
            "backgroundcolor": "#E5ECF6",
            "gridcolor": "white",
            "gridwidth": 2,
            "linecolor": "white",
            "showbackground": true,
            "ticks": "",
            "zerolinecolor": "white"
           },
           "zaxis": {
            "backgroundcolor": "#E5ECF6",
            "gridcolor": "white",
            "gridwidth": 2,
            "linecolor": "white",
            "showbackground": true,
            "ticks": "",
            "zerolinecolor": "white"
           }
          },
          "shapedefaults": {
           "line": {
            "color": "#2a3f5f"
           }
          },
          "ternary": {
           "aaxis": {
            "gridcolor": "white",
            "linecolor": "white",
            "ticks": ""
           },
           "baxis": {
            "gridcolor": "white",
            "linecolor": "white",
            "ticks": ""
           },
           "bgcolor": "#E5ECF6",
           "caxis": {
            "gridcolor": "white",
            "linecolor": "white",
            "ticks": ""
           }
          },
          "title": {
           "x": 0.05
          },
          "xaxis": {
           "automargin": true,
           "gridcolor": "white",
           "linecolor": "white",
           "ticks": "",
           "title": {
            "standoff": 15
           },
           "zerolinecolor": "white",
           "zerolinewidth": 2
          },
          "yaxis": {
           "automargin": true,
           "gridcolor": "white",
           "linecolor": "white",
           "ticks": "",
           "title": {
            "standoff": 15
           },
           "zerolinecolor": "white",
           "zerolinewidth": 2
          }
         }
        },
        "title": {
         "text": "Top component space"
        },
        "width": 600
       }
      }
     },
     "metadata": {},
     "output_type": "display_data"
    }
   ],
   "source": [
    "top_vecs = []\n",
    "for c in range(n_cell_types):\n",
    "    _, vecs = torch.linalg.eigh(b[c])\n",
    "    top_vecs.append(vecs[:,0])\n",
    "top_vecs = torch.stack(top_vecs, dim=1)\n",
    "\n",
    "adata.obsm[\"X_Q_tops\"] = adata.X @ top_vecs.numpy()  # project into top component space\n",
    "\n",
    "fig = px.scatter_3d(\n",
    "    x=adata.obsm[\"X_Q_tops\"][:, 0],\n",
    "    y=adata.obsm[\"X_Q_tops\"][:, 1],\n",
    "    z=adata.obsm[\"X_Q_tops\"][:, 2],\n",
    "    color=adata.obs[\"cell_type\"],\n",
    "    title=f\"Top component space\",\n",
    "    width=600,\n",
    "    height=600,\n",
    ")\n",
    "fig.update_traces(marker=dict(size=5))\n",
    "fig.show()"
   ]
  },
  {
   "cell_type": "markdown",
   "id": "bf032237",
   "metadata": {},
   "source": [
    "Reconstructs PC space. Could provide dimension reduction capability.\n",
    "\n",
    "Could be trivial due to K-means' reliance on PCA."
   ]
  },
  {
   "cell_type": "markdown",
   "id": "8e2de4f3",
   "metadata": {},
   "source": [
    "# Phenotypic groups"
   ]
  },
  {
   "cell_type": "code",
   "execution_count": 21,
   "id": "a869d10d",
   "metadata": {},
   "outputs": [],
   "source": [
    "output_dir = torch.tensor([0.,1.,1.])  # differentiated types\n",
    "q = einops.einsum(output_dir, b, \"out, out in1 in2 -> in1 in2\")"
   ]
  },
  {
   "cell_type": "code",
   "execution_count": 22,
   "id": "be1625a3",
   "metadata": {},
   "outputs": [],
   "source": [
    "vals, vecs = torch.linalg.eigh(q)\n",
    "vals = vals.flip([0])\n",
    "vecs = vecs.flip([1])"
   ]
  },
  {
   "cell_type": "code",
   "execution_count": 23,
   "id": "1aeec148",
   "metadata": {},
   "outputs": [
    {
     "data": {
      "application/vnd.plotly.v1+json": {
       "config": {
        "plotlyServerURL": "https://plot.ly"
       },
       "data": [
        {
         "bingroup": "x",
         "hovertemplate": "variable=0<br>value=%{x}<br>count=%{y}<extra></extra>",
         "legendgroup": "0",
         "marker": {
          "color": "#636efa",
          "pattern": {
           "shape": ""
          }
         },
         "name": "0",
         "nbinsx": 100,
         "orientation": "v",
         "showlegend": true,
         "type": "histogram",
         "x": {
          "bdata": "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",
          "dtype": "f4"
         },
         "xaxis": "x",
         "yaxis": "y"
        }
       ],
       "layout": {
        "barmode": "relative",
        "legend": {
         "title": {
          "text": "variable"
         },
         "tracegroupgap": 0
        },
        "template": {
         "data": {
          "bar": [
           {
            "error_x": {
             "color": "#2a3f5f"
            },
            "error_y": {
             "color": "#2a3f5f"
            },
            "marker": {
             "line": {
              "color": "#E5ECF6",
              "width": 0.5
             },
             "pattern": {
              "fillmode": "overlay",
              "size": 10,
              "solidity": 0.2
             }
            },
            "type": "bar"
           }
          ],
          "barpolar": [
           {
            "marker": {
             "line": {
              "color": "#E5ECF6",
              "width": 0.5
             },
             "pattern": {
              "fillmode": "overlay",
              "size": 10,
              "solidity": 0.2
             }
            },
            "type": "barpolar"
           }
          ],
          "carpet": [
           {
            "aaxis": {
             "endlinecolor": "#2a3f5f",
             "gridcolor": "white",
             "linecolor": "white",
             "minorgridcolor": "white",
             "startlinecolor": "#2a3f5f"
            },
            "baxis": {
             "endlinecolor": "#2a3f5f",
             "gridcolor": "white",
             "linecolor": "white",
             "minorgridcolor": "white",
             "startlinecolor": "#2a3f5f"
            },
            "type": "carpet"
           }
          ],
          "choropleth": [
           {
            "colorbar": {
             "outlinewidth": 0,
             "ticks": ""
            },
            "type": "choropleth"
           }
          ],
          "contour": [
           {
            "colorbar": {
             "outlinewidth": 0,
             "ticks": ""
            },
            "colorscale": [
             [
              0,
              "#0d0887"
             ],
             [
              0.1111111111111111,
              "#46039f"
             ],
             [
              0.2222222222222222,
              "#7201a8"
             ],
             [
              0.3333333333333333,
              "#9c179e"
             ],
             [
              0.4444444444444444,
              "#bd3786"
             ],
             [
              0.5555555555555556,
              "#d8576b"
             ],
             [
              0.6666666666666666,
              "#ed7953"
             ],
             [
              0.7777777777777778,
              "#fb9f3a"
             ],
             [
              0.8888888888888888,
              "#fdca26"
             ],
             [
              1,
              "#f0f921"
             ]
            ],
            "type": "contour"
           }
          ],
          "contourcarpet": [
           {
            "colorbar": {
             "outlinewidth": 0,
             "ticks": ""
            },
            "type": "contourcarpet"
           }
          ],
          "heatmap": [
           {
            "colorbar": {
             "outlinewidth": 0,
             "ticks": ""
            },
            "colorscale": [
             [
              0,
              "#0d0887"
             ],
             [
              0.1111111111111111,
              "#46039f"
             ],
             [
              0.2222222222222222,
              "#7201a8"
             ],
             [
              0.3333333333333333,
              "#9c179e"
             ],
             [
              0.4444444444444444,
              "#bd3786"
             ],
             [
              0.5555555555555556,
              "#d8576b"
             ],
             [
              0.6666666666666666,
              "#ed7953"
             ],
             [
              0.7777777777777778,
              "#fb9f3a"
             ],
             [
              0.8888888888888888,
              "#fdca26"
             ],
             [
              1,
              "#f0f921"
             ]
            ],
            "type": "heatmap"
           }
          ],
          "histogram": [
           {
            "marker": {
             "pattern": {
              "fillmode": "overlay",
              "size": 10,
              "solidity": 0.2
             }
            },
            "type": "histogram"
           }
          ],
          "histogram2d": [
           {
            "colorbar": {
             "outlinewidth": 0,
             "ticks": ""
            },
            "colorscale": [
             [
              0,
              "#0d0887"
             ],
             [
              0.1111111111111111,
              "#46039f"
             ],
             [
              0.2222222222222222,
              "#7201a8"
             ],
             [
              0.3333333333333333,
              "#9c179e"
             ],
             [
              0.4444444444444444,
              "#bd3786"
             ],
             [
              0.5555555555555556,
              "#d8576b"
             ],
             [
              0.6666666666666666,
              "#ed7953"
             ],
             [
              0.7777777777777778,
              "#fb9f3a"
             ],
             [
              0.8888888888888888,
              "#fdca26"
             ],
             [
              1,
              "#f0f921"
             ]
            ],
            "type": "histogram2d"
           }
          ],
          "histogram2dcontour": [
           {
            "colorbar": {
             "outlinewidth": 0,
             "ticks": ""
            },
            "colorscale": [
             [
              0,
              "#0d0887"
             ],
             [
              0.1111111111111111,
              "#46039f"
             ],
             [
              0.2222222222222222,
              "#7201a8"
             ],
             [
              0.3333333333333333,
              "#9c179e"
             ],
             [
              0.4444444444444444,
              "#bd3786"
             ],
             [
              0.5555555555555556,
              "#d8576b"
             ],
             [
              0.6666666666666666,
              "#ed7953"
             ],
             [
              0.7777777777777778,
              "#fb9f3a"
             ],
             [
              0.8888888888888888,
              "#fdca26"
             ],
             [
              1,
              "#f0f921"
             ]
            ],
            "type": "histogram2dcontour"
           }
          ],
          "mesh3d": [
           {
            "colorbar": {
             "outlinewidth": 0,
             "ticks": ""
            },
            "type": "mesh3d"
           }
          ],
          "parcoords": [
           {
            "line": {
             "colorbar": {
              "outlinewidth": 0,
              "ticks": ""
             }
            },
            "type": "parcoords"
           }
          ],
          "pie": [
           {
            "automargin": true,
            "type": "pie"
           }
          ],
          "scatter": [
           {
            "fillpattern": {
             "fillmode": "overlay",
             "size": 10,
             "solidity": 0.2
            },
            "type": "scatter"
           }
          ],
          "scatter3d": [
           {
            "line": {
             "colorbar": {
              "outlinewidth": 0,
              "ticks": ""
             }
            },
            "marker": {
             "colorbar": {
              "outlinewidth": 0,
              "ticks": ""
             }
            },
            "type": "scatter3d"
           }
          ],
          "scattercarpet": [
           {
            "marker": {
             "colorbar": {
              "outlinewidth": 0,
              "ticks": ""
             }
            },
            "type": "scattercarpet"
           }
          ],
          "scattergeo": [
           {
            "marker": {
             "colorbar": {
              "outlinewidth": 0,
              "ticks": ""
             }
            },
            "type": "scattergeo"
           }
          ],
          "scattergl": [
           {
            "marker": {
             "colorbar": {
              "outlinewidth": 0,
              "ticks": ""
             }
            },
            "type": "scattergl"
           }
          ],
          "scattermap": [
           {
            "marker": {
             "colorbar": {
              "outlinewidth": 0,
              "ticks": ""
             }
            },
            "type": "scattermap"
           }
          ],
          "scattermapbox": [
           {
            "marker": {
             "colorbar": {
              "outlinewidth": 0,
              "ticks": ""
             }
            },
            "type": "scattermapbox"
           }
          ],
          "scatterpolar": [
           {
            "marker": {
             "colorbar": {
              "outlinewidth": 0,
              "ticks": ""
             }
            },
            "type": "scatterpolar"
           }
          ],
          "scatterpolargl": [
           {
            "marker": {
             "colorbar": {
              "outlinewidth": 0,
              "ticks": ""
             }
            },
            "type": "scatterpolargl"
           }
          ],
          "scatterternary": [
           {
            "marker": {
             "colorbar": {
              "outlinewidth": 0,
              "ticks": ""
             }
            },
            "type": "scatterternary"
           }
          ],
          "surface": [
           {
            "colorbar": {
             "outlinewidth": 0,
             "ticks": ""
            },
            "colorscale": [
             [
              0,
              "#0d0887"
             ],
             [
              0.1111111111111111,
              "#46039f"
             ],
             [
              0.2222222222222222,
              "#7201a8"
             ],
             [
              0.3333333333333333,
              "#9c179e"
             ],
             [
              0.4444444444444444,
              "#bd3786"
             ],
             [
              0.5555555555555556,
              "#d8576b"
             ],
             [
              0.6666666666666666,
              "#ed7953"
             ],
             [
              0.7777777777777778,
              "#fb9f3a"
             ],
             [
              0.8888888888888888,
              "#fdca26"
             ],
             [
              1,
              "#f0f921"
             ]
            ],
            "type": "surface"
           }
          ],
          "table": [
           {
            "cells": {
             "fill": {
              "color": "#EBF0F8"
             },
             "line": {
              "color": "white"
             }
            },
            "header": {
             "fill": {
              "color": "#C8D4E3"
             },
             "line": {
              "color": "white"
             }
            },
            "type": "table"
           }
          ]
         },
         "layout": {
          "annotationdefaults": {
           "arrowcolor": "#2a3f5f",
           "arrowhead": 0,
           "arrowwidth": 1
          },
          "autotypenumbers": "strict",
          "coloraxis": {
           "colorbar": {
            "outlinewidth": 0,
            "ticks": ""
           }
          },
          "colorscale": {
           "diverging": [
            [
             0,
             "#8e0152"
            ],
            [
             0.1,
             "#c51b7d"
            ],
            [
             0.2,
             "#de77ae"
            ],
            [
             0.3,
             "#f1b6da"
            ],
            [
             0.4,
             "#fde0ef"
            ],
            [
             0.5,
             "#f7f7f7"
            ],
            [
             0.6,
             "#e6f5d0"
            ],
            [
             0.7,
             "#b8e186"
            ],
            [
             0.8,
             "#7fbc41"
            ],
            [
             0.9,
             "#4d9221"
            ],
            [
             1,
             "#276419"
            ]
           ],
           "sequential": [
            [
             0,
             "#0d0887"
            ],
            [
             0.1111111111111111,
             "#46039f"
            ],
            [
             0.2222222222222222,
             "#7201a8"
            ],
            [
             0.3333333333333333,
             "#9c179e"
            ],
            [
             0.4444444444444444,
             "#bd3786"
            ],
            [
             0.5555555555555556,
             "#d8576b"
            ],
            [
             0.6666666666666666,
             "#ed7953"
            ],
            [
             0.7777777777777778,
             "#fb9f3a"
            ],
            [
             0.8888888888888888,
             "#fdca26"
            ],
            [
             1,
             "#f0f921"
            ]
           ],
           "sequentialminus": [
            [
             0,
             "#0d0887"
            ],
            [
             0.1111111111111111,
             "#46039f"
            ],
            [
             0.2222222222222222,
             "#7201a8"
            ],
            [
             0.3333333333333333,
             "#9c179e"
            ],
            [
             0.4444444444444444,
             "#bd3786"
            ],
            [
             0.5555555555555556,
             "#d8576b"
            ],
            [
             0.6666666666666666,
             "#ed7953"
            ],
            [
             0.7777777777777778,
             "#fb9f3a"
            ],
            [
             0.8888888888888888,
             "#fdca26"
            ],
            [
             1,
             "#f0f921"
            ]
           ]
          },
          "colorway": [
           "#636efa",
           "#EF553B",
           "#00cc96",
           "#ab63fa",
           "#FFA15A",
           "#19d3f3",
           "#FF6692",
           "#B6E880",
           "#FF97FF",
           "#FECB52"
          ],
          "font": {
           "color": "#2a3f5f"
          },
          "geo": {
           "bgcolor": "white",
           "lakecolor": "white",
           "landcolor": "#E5ECF6",
           "showlakes": true,
           "showland": true,
           "subunitcolor": "white"
          },
          "hoverlabel": {
           "align": "left"
          },
          "hovermode": "closest",
          "mapbox": {
           "style": "light"
          },
          "paper_bgcolor": "white",
          "plot_bgcolor": "#E5ECF6",
          "polar": {
           "angularaxis": {
            "gridcolor": "white",
            "linecolor": "white",
            "ticks": ""
           },
           "bgcolor": "#E5ECF6",
           "radialaxis": {
            "gridcolor": "white",
            "linecolor": "white",
            "ticks": ""
           }
          },
          "scene": {
           "xaxis": {
            "backgroundcolor": "#E5ECF6",
            "gridcolor": "white",
            "gridwidth": 2,
            "linecolor": "white",
            "showbackground": true,
            "ticks": "",
            "zerolinecolor": "white"
           },
           "yaxis": {
            "backgroundcolor": "#E5ECF6",
            "gridcolor": "white",
            "gridwidth": 2,
            "linecolor": "white",
            "showbackground": true,
            "ticks": "",
            "zerolinecolor": "white"
           },
           "zaxis": {
            "backgroundcolor": "#E5ECF6",
            "gridcolor": "white",
            "gridwidth": 2,
            "linecolor": "white",
            "showbackground": true,
            "ticks": "",
            "zerolinecolor": "white"
           }
          },
          "shapedefaults": {
           "line": {
            "color": "#2a3f5f"
           }
          },
          "ternary": {
           "aaxis": {
            "gridcolor": "white",
            "linecolor": "white",
            "ticks": ""
           },
           "baxis": {
            "gridcolor": "white",
            "linecolor": "white",
            "ticks": ""
           },
           "bgcolor": "#E5ECF6",
           "caxis": {
            "gridcolor": "white",
            "linecolor": "white",
            "ticks": ""
           }
          },
          "title": {
           "x": 0.05
          },
          "xaxis": {
           "automargin": true,
           "gridcolor": "white",
           "linecolor": "white",
           "ticks": "",
           "title": {
            "standoff": 15
           },
           "zerolinecolor": "white",
           "zerolinewidth": 2
          },
          "yaxis": {
           "automargin": true,
           "gridcolor": "white",
           "linecolor": "white",
           "ticks": "",
           "title": {
            "standoff": 15
           },
           "zerolinecolor": "white",
           "zerolinewidth": 2
          }
         }
        },
        "title": {
         "text": "Eigenvalues of $Q$"
        },
        "xaxis": {
         "anchor": "y",
         "domain": [
          0,
          1
         ],
         "title": {
          "text": "value"
         }
        },
        "yaxis": {
         "anchor": "x",
         "domain": [
          0,
          1
         ],
         "title": {
          "text": "count"
         }
        }
       }
      }
     },
     "metadata": {},
     "output_type": "display_data"
    }
   ],
   "source": [
    "px.histogram(vals.flatten(), nbins=100, title=\"Eigenvalues of $Q$\").show()"
   ]
  },
  {
   "cell_type": "code",
   "execution_count": 24,
   "id": "8738c3db",
   "metadata": {},
   "outputs": [
    {
     "name": "stdout",
     "output_type": "stream",
     "text": [
      "==================== Component 0 (0.08466169983148575) ====================\n",
      "['H2afy', 'Ly86', 'Pkm2', 'Irf8', 'Emb', 'Adssl1', 'Sdf2l1', 'Alas1', 'Mpo', 'Ctsg']\n",
      "['Car2', 'Rhd', 'Hemgn', 'Pdlim1', 'Blvrb', 'Sphk1', 'Cpox', 'Crip2', '2210023G05Rik', 'Ccne1']\n",
      "==================== Component 1 (0.04881025478243828) ====================\n",
      "['Apoe', 'Ddah2', 'Gata2', 'Txnip', 'Dlg3', 'Mycn', 'Gimap1', '2210020M01Rik', 'Ehd3', 'HDAC7']\n",
      "['Sh3pxd2b', 'Snrpd1', 'Cdk4', 'Hcfc1', 'P4hb', 'Ints8', 'Sod1', 'Psma7', 'Ppm1g', 'Tor3a']\n",
      "==================== Component 2 (0.038345642387866974) ====================\n",
      "['Tal1', 'Txn2', 'Neu1', 'Vat1', 'Rsu1', 'Mat2b', 'C530008M17Rik', 'Gstm4', 'Usp48', 'Lmcd1']\n",
      "['Xdh', 'Lmnb2', 'Hk2', 'Arl11', 'Nfya', 'Tyrobp', 'D230014K01Rik', 'Crebbp', 'Csf2rb2', 'Sfrs7']\n"
     ]
    }
   ],
   "source": [
    "n_top_genes = 10\n",
    "for i in range(3):  # top components\n",
    "    top_idxs = vecs[:,i].topk(n_top_genes).indices\n",
    "    top_genes = adata.var_names[top_idxs].tolist()\n",
    "    bottom_idxs = (-vecs[:,i]).topk(n_top_genes).indices\n",
    "    bottom_genes = adata.var_names[bottom_idxs].tolist()\n",
    "    print(\"=\"*20, f\"Component {i} ({vals[i]})\", \"=\"*20)\n",
    "    print(top_genes)\n",
    "    print(bottom_genes)"
   ]
  },
  {
   "cell_type": "markdown",
   "id": "ed789328",
   "metadata": {},
   "source": [
    "Not a good demonstration because `not(0)` = `(1,2)`, so really the markers for these two matrices should be the same?"
   ]
  },
  {
   "cell_type": "markdown",
   "id": "f7f49ca4",
   "metadata": {},
   "source": [
    "## Check for consistency btwn complimentary directions"
   ]
  },
  {
   "cell_type": "code",
   "execution_count": 25,
   "id": "3f844423",
   "metadata": {},
   "outputs": [],
   "source": [
    "# Differentiated vs undifferentiated\n",
    "output_dir = torch.tensor([0.,1.,1.])\n",
    "q = einops.einsum(output_dir, b, \"out, out in1 in2 -> in1 in2\")\n",
    "_, vecs = torch.linalg.eigh(q)\n",
    "genes_diff = vecs[:,-1]\n",
    "\n",
    "# Undifferentiated vs differentiated\n",
    "output_dir = torch.tensor([1.,0.,0.])\n",
    "q = einops.einsum(output_dir, b, \"out, out in1 in2 -> in1 in2\")\n",
    "_, vecs = torch.linalg.eigh(q)\n",
    "genes_undiff = vecs[:,-1]"
   ]
  },
  {
   "cell_type": "markdown",
   "id": "c17fcd0e",
   "metadata": {},
   "source": [
    "### Gene space"
   ]
  },
  {
   "cell_type": "code",
   "execution_count": 26,
   "id": "43879a0a",
   "metadata": {},
   "outputs": [
    {
     "data": {
      "application/vnd.plotly.v1+json": {
       "config": {
        "plotlyServerURL": "https://plot.ly"
       },
       "data": [
        {
         "hovertemplate": "<b>%{hovertext}</b><br><br>Differentiated Component=%{x}<br>Undifferentiated Component=%{y}<extra></extra>",
         "hovertext": [
          "0610007L01Rik",
          "0610009O20Rik",
          "0610010K14Rik",
          "0910001L09Rik",
          "1100001G20Rik",
          "1110002B05Rik",
          "1110004E09Rik",
          "1110007A13Rik",
          "1110007C09Rik",
          "1110013L07Rik",
          "1110020G09Rik",
          "1110034G24Rik",
          "1110038B12Rik",
          "1110049F12Rik",
          "1110059E24Rik",
          "1190002H23Rik",
          "1190007F08Rik",
          "1200002N14Rik",
          "1300001I01Rik",
          "1300017J02Rik",
          "1500001M20Rik",
          "1500012F01Rik",
          "1500032L24Rik",
          "1600014C10Rik",
          "1700001L05Rik",
          "1700012B09Rik",
          "1700017B05Rik",
          "1700020L24Rik",
          "1810009A15Rik",
          "1810011H11Rik",
          "1810027O10Rik",
          "1810030N24Rik",
          "1810031K17Rik",
          "1810033B17Rik",
          "1810037I17Rik",
          "2010002N04Rik",
          "2010011I20Rik",
          "2010106G01Rik",
          "2210016F16Rik",
          "2210020M01Rik",
          "2210023G05Rik",
          "2210404O07Rik",
          "2210411K11Rik",
          "2310003C23Rik",
          "2310003F16Rik",
          "2310005E10Rik",
          "2310014H01Rik",
          "2310022B05Rik",
          "2310028O11Rik",
          "2410006H16Rik",
          "2510002D24Rik",
          "2510003E04Rik",
          "2610018G03Rik",
          "2610024G14Rik",
          "2610029G23Rik",
          "2610029I01Rik",
          "2610035D17Rik",
          "2610101N10Rik",
          "2700094K13Rik",
          "2810004N23Rik",
          "2810417H13Rik",
          "2810474O19Rik",
          "2900010J23Rik",
          "2900010M23Rik",
          "2900026A02Rik",
          "2900073G15Rik",
          "3110003A17Rik",
          "3110056O03Rik",
          "4632415L05Rik",
          "4632428N05Rik",
          "4930473A06Rik",
          "4930486L24Rik",
          "4930503E24Rik",
          "4930534B04Rik",
          "4931406C07Rik",
          "5033406O09Rik",
          "5430435G22Rik",
          "5730469M10Rik",
          "5730508B09Rik",
          "5730528L13Rik",
          "5830405N20Rik",
          "5830432E09Rik",
          "6030458C11Rik",
          "6330416G13Rik",
          "6330503K22Rik",
          "6720456B07Rik",
          "8430419L09Rik",
          "8430427H17Rik",
          "9030617O03Rik",
          "9130206I24Rik",
          "9130208E07Rik",
          "9230105E10Rik",
          "9530068E07Rik",
          "9530077C05Rik",
          "9630033F20Rik",
          "9830001H06Rik",
          "A030009H04Rik",
          "A930001N09Rik",
          "AA987161",
          "AB124611",
          "AI467606",
          "AI504432",
          "AI848100",
          "AK003943",
          "AK004850",
          "AK005678",
          "AK005967",
          "AK011885",
          "AK012007",
          "AK015096",
          "AK019114",
          "AK020398",
          "AK028012",
          "AK031079",
          "AK031561",
          "AK032662",
          "AK040705",
          "AK041647",
          "AK042041",
          "AK042223",
          "AK046417",
          "AK051928",
          "AK052414",
          "AK052812",
          "AK053193",
          "AK076954",
          "AK079675",
          "AK080025",
          "AK080350",
          "AK081788",
          "AK081796",
          "AK084646",
          "AK085695",
          "AK087942",
          "AK089379",
          "AK142847",
          "AK144329",
          "AK146183",
          "AK150559",
          "AK152437",
          "AK153212",
          "AK153427",
          "AK153575",
          "AK154077",
          "AK158095",
          "AK163149",
          "AK164126",
          "AK169831",
          "AK172428",
          "AK182549",
          "AK185715",
          "AK188353",
          "AK189633",
          "AK197603",
          "AK202301",
          "AK210533",
          "AK211593",
          "AK217941",
          "AKAP95",
          "Aak1",
          "Abca3",
          "Abcb10",
          "Abcb1b",
          "Abcb4",
          "Abcb6",
          "Abcb9",
          "Abcc4",
          "Abcd1",
          "Abcd2",
          "Abce1",
          "Abcf1",
          "Abcg1",
          "Abcg2",
          "Abcg4",
          "Abhd14b",
          "Abhd15",
          "Abhd16a",
          "Abi2",
          "Ablim1",
          "Abr",
          "Abtb2",
          "Acadl",
          "Ache",
          "Acin1",
          "Aco1",
          "Acot1",
          "Acot13",
          "Acot7",
          "Acot9",
          "Acox3",
          "Acpl2",
          "Acsl1",
          "Acsl5",
          "Acsl6",
          "Acss1",
          "Acss2",
          "Actb",
          "Actl6a",
          "Actn1",
          "Actr2",
          "Actr3",
          "Acyp1",
          "Ada",
          "Adam15",
          "Adamts10",
          "Adamts3",
          "Adap1",
          "Adat3",
          "Adcy6",
          "Add1",
          "Add2",
          "Add3",
          "Adh5",
          "Adipor2",
          "Adk",
          "Adrbk1",
          "Adrbk2",
          "Adsl",
          "Adssl1",
          "Aes",
          "Afap1",
          "Afap1l1",
          "Aff3",
          "Aff4",
          "Afg3l2",
          "Afmid",
          "Agap1",
          "Agap2",
          "Agfg2",
          "Aggf1",
          "Agpat3",
          "Agpat4",
          "Agpat5",
          "Agps",
          "Agtrap",
          "Ahctf1",
          "Ahdc1",
          "Ahnak",
          "Ahsa1",
          "Aif1",
          "Aim2",
          "Ak2",
          "Ak3",
          "Akap13",
          "Akap8l",
          "Akap9",
          "Akr1a4",
          "Akt1",
          "Alad",
          "Alas1",
          "Alas2",
          "Alcam",
          "Aldh18a1",
          "Aldh1a1",
          "Aldh1a7",
          "Aldh1b1",
          "Aldh1l1",
          "Aldh2",
          "Aldh7a1",
          "Aldoa",
          "Alkbh8",
          "Allergin-1",
          "Alox5",
          "Alox5ap",
          "Amfr",
          "Ammecr1",
          "Ampd3",
          "Anapc1",
          "Anapc11",
          "Anapc13",
          "Anapc2",
          "Anapc5",
          "Angpt1",
          "Ank",
          "Ank1",
          "Ankrd11",
          "Ankrd13a",
          "Ankrd17",
          "Ankrd26",
          "Ankrd43",
          "Ankrd44",
          "Anln",
          "Ano10",
          "Ano6",
          "Anp32a",
          "Anp32b",
          "Anp32e",
          "Anxa2",
          "Anxa3",
          "Anxa5",
          "Anxa6",
          "Aoah",
          "Ap1b1",
          "Ap1m1",
          "Ap1s2",
          "Ap1s3",
          "Ap2a2",
          "Ap3s1",
          "Apba1",
          "Apbb1ip",
          "Apeh",
          "Apip",
          "Aplp2",
          "Apob48r",
          "Apobec3",
          "Apoe",
          "App",
          "Appl1",
          "Aprt",
          "Aqp1",
          "Aqp11",
          "Aqp9",
          "Aqr",
          "Arap2",
          "Arap3",
          "Arf1",
          "Arf4",
          "Arf5",
          "Arglu1",
          "Arhgap17",
          "Arhgap19",
          "Arhgap21",
          "Arhgap23",
          "Arhgap25",
          "Arhgap27",
          "Arhgap30",
          "Arhgap31",
          "Arhgap32",
          "Arhgap6",
          "Arhgap9",
          "Arhgdia",
          "Arhgdib",
          "Arhgdig",
          "Arhgef12",
          "Arhgef2",
          "Arhgef25",
          "Arhgef3",
          "Arhgef4",
          "Arhgef40",
          "Arhgef6",
          "Arid1a",
          "Arid1b",
          "Arid2",
          "Arid3a",
          "Arid3b",
          "Arid4b",
          "Arid5a",
          "Arid5b",
          "Arl11",
          "Arl4a",
          "Arl6ip1",
          "Arl8a",
          "Armc9",
          "Arpc1a",
          "Arpc1b",
          "Arpc2",
          "Arpc4",
          "Arrb1",
          "Arsb",
          "Arvcf",
          "As3mt",
          "Asah1",
          "Asap1",
          "Asf1b",
          "Ash1l",
          "Asns",
          "Asp",
          "Asph",
          "Ass1",
          "Asxl1",
          "Atad5",
          "Atf4",
          "Atf7ip",
          "Atg16l2",
          "Atg2b",
          "Atg4b",
          "Atic",
          "Atmin",
          "Atn1",
          "Atox1",
          "Atp10a",
          "Atp10d",
          "Atp11a",
          "Atp13a3",
          "Atp1a3",
          "Atp1b1",
          "Atp1b2",
          "Atp1b3",
          "Atp2a2",
          "Atp2a3",
          "Atp2b1",
          "Atp2b4",
          "Atp5a1",
          "Atp5b",
          "Atp5c1",
          "Atp5d",
          "Atp5f1",
          "Atp5g3",
          "Atp5h",
          "Atp5j2",
          "Atp5o",
          "Atp6ap2",
          "Atp6v0a1",
          "Atp6v0b",
          "Atp6v0c",
          "Atp6v0d1",
          "Atp6v1f",
          "Atp7b",
          "Atp8a1",
          "Atp8b2",
          "Atp8b4",
          "Atp8b5",
          "Atpase6",
          "Atpif1",
          "Atrip",
          "Atrnl1",
          "Atrx",
          "Aurka",
          "Aurkb",
          "Auts2",
          "Aven",
          "B230120H23Rik",
          "B230219D22Rik",
          "B330016D10Rik",
          "B430306N03Rik",
          "B4galnt1",
          "B4galt4",
          "B4galt5",
          "B4galt6",
          "BC002221",
          "BC003965",
          "BC005764",
          "BC019819",
          "BC021614",
          "BC021767",
          "BC024571",
          "BC025067",
          "BC029331",
          "BC031353",
          "BC033430",
          "BC035044",
          "BC048355",
          "BC051142",
          "BC057079",
          "BC064078",
          "BC096441",
          "Bag1",
          "Bag2",
          "Bahcc1",
          "Baiap2",
          "Bambi",
          "Bambi-ps1",
          "Banf1",
          "Basp1",
          "Bat2d",
          "Batf3",
          "Bax",
          "Baz1a",
          "Baz1b",
          "Baz2b",
          "Bcas2",
          "Bcas3",
          "Bcl11a",
          "Bcl2",
          "Bcl2l1",
          "Bcl2l11",
          "Bcl3",
          "Bcl9",
          "Bcl9l",
          "Bclaf1",
          "Bdh1",
          "Bdp1",
          "Beta-s",
          "Bex4",
          "Bex6",
          "Bhlha15",
          "Bin1",
          "Birc3",
          "Birc5",
          "Birc6",
          "Blm",
          "Blnk",
          "Blvra",
          "Blvrb",
          "Bmp1",
          "Bmp2k",
          "Bms1",
          "Bnip2",
          "Bod1l",
          "Bola2",
          "Bola3",
          "Boll",
          "Bptf",
          "Brd1",
          "Brd3",
          "Brd4",
          "Brd7",
          "Brf1",
          "Bri3bp",
          "Brix1",
          "Brpf3",
          "Bsg",
          "Bst2",
          "Btaf1",
          "Btbd3",
          "Btg1",
          "Btg2",
          "Btnl9",
          "Bub1b",
          "Bub3",
          "Butr1",
          "Bzrap1",
          "Bzw1",
          "Bzw2",
          "C184",
          "C1galt1",
          "C1galt1c1",
          "C1qb",
          "C1qbp",
          "C1qc",
          "C1qtnf6",
          "C1rl",
          "C230052I12Rik",
          "C230096C10Rik",
          "C3",
          "C330019G07Rik",
          "C530008M17Rik",
          "Cables1",
          "Cachd1",
          "Cacybp",
          "Cad",
          "Calcoco1",
          "Calm1",
          "Calm2",
          "Calr",
          "Camk1",
          "Camk1d",
          "Camk2a",
          "Camkk1",
          "Camkk2",
          "Camsap1l1",
          "Cand1",
          "Canx",
          "Cap1",
          "Capg",
          "Capn1",
          "Capn3",
          "Capn5",
          "Capns1",
          "Caprin1",
          "Caprin2",
          "Capzb",
          "Car1",
          "Car2",
          "Car9",
          "Card6",
          "Carhsp1",
          "Cars",
          "Casc5",
          "Casp1",
          "Casp11",
          "Casp3",
          "Casp6",
          "Casp7",
          "Cast",
          "Casz1",
          "Cbfa2t3",
          "Cbfb",
          "Cbl",
          "Cbr1",
          "Cbr3",
          "Cbx4",
          "Cbx5",
          "Cbx8",
          "Ccar1",
          "Ccbl1",
          "Ccbl2",
          "Ccdc102a",
          "Ccdc109b",
          "Ccdc125",
          "Ccdc135",
          "Ccdc163",
          "Ccdc23",
          "Ccdc32",
          "Ccdc48",
          "Ccdc50",
          "Ccdc69",
          "Ccdc74a",
          "Ccdc88a",
          "Ccdc88b",
          "Ccl5",
          "Ccl6",
          "Ccl9",
          "Ccnb1",
          "Ccnb2",
          "Ccnd1",
          "Ccnd2",
          "Ccne1",
          "Ccnf",
          "Ccng2",
          "Cct3",
          "Cct4",
          "Cct5",
          "Cct6a",
          "Cct7",
          "Cct8",
          "Cd14",
          "Cd160",
          "Cd1d2",
          "Cd2",
          "Cd244",
          "Cd248",
          "Cd24a",
          "Cd27",
          "Cd274",
          "Cd300a",
          "Cd300lb",
          "Cd300lg",
          "Cd302",
          "Cd34",
          "Cd48",
          "Cd52",
          "Cd53",
          "Cd55",
          "Cd59a",
          "Cd63",
          "Cd68",
          "Cd7",
          "Cd74",
          "Cd79b",
          "Cd81",
          "Cd82",
          "Cd9",
          "Cd93",
          "Cd99l2",
          "Cdc14a",
          "Cdc25b",
          "Cdc34",
          "Cdc37",
          "Cdc42",
          "Cdc42se1",
          "Cdc45",
          "Cdc6",
          "Cdca3",
          "Cdca7",
          "Cdca8",
          "Cdcrel-1",
          "Cdh1",
          "Cdk1",
          "Cdk12",
          "Cdk13",
          "Cdk18",
          "Cdk2ap2",
          "Cdk4",
          "Cdk5r1",
          "Cdk6",
          "Cdkn1a",
          "Cdkn3",
          "Cdr2",
          "Cds1",
          "Cdt1",
          "Cdv3",
          "Cdyl",
          "Ceacam1",
          "Cebpa",
          "Cebpe",
          "Cela1",
          "Celf1",
          "Celf2",
          "Celsr1",
          "Celsr3",
          "Cenp-a",
          "Cenpe",
          "Cenpf",
          "Cenph",
          "Cenpl",
          "Cenpn",
          "Cenpv",
          "Cep350",
          "Cep55",
          "Cercam",
          "Cerk",
          "Cfdp1",
          "Cfl1",
          "Cfp",
          "Cggbp1",
          "Chac2",
          "Chaf1b",
          "Chchd10",
          "Chchd2",
          "Chchd3",
          "Chd1",
          "Chd2",
          "Chd3",
          "Chd4",
          "Chd6",
          "Chd7",
          "Chd8",
          "Chi3l3",
          "Chpf",
          "Chst10",
          "Chst12",
          "Chst13",
          "Cic",
          "Cisd1",
          "Cisd3",
          "Cish",
          "Cit",
          "Cited2",
          "Cited4",
          "Ckap2l",
          "Ckap4",
          "Ckap5",
          "Ckb",
          "Clasp1",
          "Clca5",
          "Clcf1",
          "Clcn3",
          "Cldn13",
          "Cldn15",
          "Clec10a",
          "Clec11a",
          "Clec12a",
          "Clec2d",
          "Clec4d",
          "Clec4e",
          "Clec5a",
          "Clic1",
          "Clic4",
          "Clint1",
          "Clk2",
          "Clnk",
          "Clpp",
          "Clspn",
          "Clta",
          "Cltc",
          "Clu",
          "Clybl",
          "Cma1",
          "Cmah",
          "Cmpk2",
          "Cmtm3",
          "Cmtm4",
          "Cmtm7",
          "Cnbp",
          "Cnn2",
          "Cnn3",
          "Cnnm2",
          "Cnnm4",
          "Cnot1",
          "Cnp",
          "Cnpy2",
          "Cnpy3",
          "Cnr2",
          "Cobll1",
          "Col5a1",
          "Commd4",
          "Commd7",
          "Cope",
          "Copz2",
          "Coq9",
          "Coro1a",
          "Coro1b",
          "Coro2a",
          "Coro7",
          "Cox17",
          "Cox4i1",
          "Cox5a",
          "Cox5b",
          "Cox6a1",
          "Cox6a2",
          "Cox6b1",
          "Cox6b2",
          "Cox7c",
          "Cox8a",
          "Cpa3",
          "Cpne2",
          "Cpne3",
          "Cpox",
          "Cpsf2",
          "Cpt2",
          "Crebbp",
          "Creg1",
          "Creld2",
          "Crim1",
          "Crip1",
          "Crip2",
          "Cs",
          "Csda",
          "Csde1",
          "Csf1",
          "Csf1r",
          "Csf2ra",
          "Csf2rb",
          "Csf2rb2",
          "Csf3r",
          "Csgalnact2",
          "Csk",
          "Csnk1a1",
          "Csnk2b",
          "Csrnp1",
          "Csrp2",
          "Csrp3",
          "Cst3",
          "Cst7",
          "Ctage5",
          "Ctbp1",
          "Ctcf",
          "Ctdspl",
          "Ctla2a",
          "Ctnna1",
          "Ctnnb1",
          "Ctsc",
          "Ctsd",
          "Ctse",
          "Ctsg",
          "Ctsh",
          "Ctsl",
          "Ctss",
          "Ctsw",
          "Ctsz",
          "Cttn",
          "Cuedc1",
          "Cul4a",
          "Cul7",
          "Cul9",
          "Cux1",
          "Cxcl10",
          "Cxcr4",
          "Cxxc1",
          "Cyb5",
          "Cyb5b",
          "Cyb5r3",
          "Cyba",
          "Cybb",
          "Cyc1",
          "Cyfip1",
          "Cyfip2",
          "Cyhr1",
          "Cyp11a1",
          "Cyp27a1",
          "Cyp4f16",
          "Cyp4f18",
          "Cyth1",
          "Cyth3",
          "Cyth4",
          "Cytip",
          "D16H22S680E",
          "D17Wsu104e",
          "D17Wsu92e",
          "D18Ertd653e",
          "D230014K01Rik",
          "D4Wsu53e",
          "D6Mm5e",
          "D930016D06Rik",
          "DAPK2",
          "Daam1",
          "Dab2ip",
          "Dach1",
          "Dap",
          "Dap3",
          "Dapp1",
          "Darc",
          "Dazap1",
          "Dazap2",
          "Dbndd2",
          "Dbnl",
          "Dcaf4",
          "Dcaf7",
          "Dcaf8",
          "Dck",
          "Dclk2",
          "Dclre1a",
          "Dctn5",
          "Dctpp1",
          "Ddah2",
          "Ddb1",
          "Ddit4",
          "Ddost",
          "Ddx1",
          "Ddx17",
          "Ddx21",
          "Ddx23",
          "Ddx24",
          "Ddx27",
          "Ddx39",
          "Ddx3x",
          "Ddx46",
          "Ddx5",
          "Ddx58",
          "Ddx6",
          "Def6",
          "Def8",
          "Dek",
          "Dennd1b",
          "Dennd1c",
          "Dennd2d",
          "Dennd3",
          "Dennd4a",
          "Deptor",
          "Dgat2",
          "Dgkg",
          "Dhdh",
          "Dhrs11",
          "Dhrs3",
          "Dhrs4",
          "Dhrs7",
          "Dhx38",
          "Dia2",
          "Diap2",
          "Dido1",
          "Dio2",
          "Dis3",
          "Dkkl1",
          "Dlat",
          "Dlg3",
          "Dlgap5",
          "Dlst",
          "Dmkn",
          "Dmwd",
          "Dmxl1",
          "Dnahc8",
          "Dnaja3",
          "Dnaja4",
          "Dnajb1",
          "Dnajb11",
          "Dnajb2",
          "Dnajb3",
          "Dnajb9",
          "Dnajc10",
          "Dnajc11",
          "Dnajc19",
          "Dnajc2",
          "Dnajc3",
          "Dnajc6",
          "Dnajc8",
          "Dnhd1",
          "Dnmt1",
          "Dnmt3a",
          "Dnmt3b",
          "Dnpep",
          "Dntt",
          "Dnttip2",
          "Dock1",
          "Dock10",
          "Dock2",
          "Dock7",
          "Dock8",
          "Dok2",
          "Dok3",
          "Dopey2",
          "Dpp4",
          "Dpp9",
          "Dpy19l1",
          "Dpy19l3",
          "Dpysl2",
          "Drctnnb1a",
          "Drosha",
          "Dst",
          "Dstn",
          "Dstyk",
          "Dtl",
          "Dtnbp1",
          "Dtx3",
          "Dtx4",
          "Dus1l",
          "Dusp11",
          "Dusp16",
          "Dusp18",
          "Dusp22",
          "Dusp23",
          "Dusp3",
          "Dut",
          "Dym",
          "Dync1h1",
          "Dync1i2",
          "Dynlrb1",
          "Dyrk3",
          "E130012A19Rik",
          "E130308A19Rik",
          "E2f2",
          "E2f4",
          "E2f8",
          "E330016A19Rik",
          "ENSMUSG00000073540",
          "ENSMUSG00000073777",
          "Ebi3",
          "Ebna1bp2",
          "Ece1",
          "Echs1",
          "Ecm1",
          "Edem1",
          "Edem2",
          "Edf1",
          "Eef1b2",
          "Eef1d",
          "Eef1e1",
          "Eef1g",
          "Eef2",
          "Eepd1",
          "Efcab4a",
          "Efhd2",
          "Efnb1",
          "Eftud2",
          "Egfl7",
          "Egln3",
          "Egr1",
          "Ehd1",
          "Ehd3",
          "Ehmt2",
          "Eif1ax",
          "Eif2ak1",
          "Eif2b1",
          "Eif2b4",
          "Eif2c2",
          "Eif2c3",
          "Eif2d",
          "Eif2s2",
          "Eif3a",
          "Eif3b",
          "Eif3c",
          "Eif3d",
          "Eif3f",
          "Eif3g",
          "Eif3h",
          "Eif3i",
          "Eif3k",
          "Eif3m",
          "Eif4a1",
          "Eif4b",
          "Eif4e2",
          "Eif4e3",
          "Eif4ebp1",
          "Eif4ebp2",
          "Eif4enif1",
          "Eif4g1",
          "Eif4g2",
          "Eif4g3",
          "Eif5",
          "Eif5b",
          "Elane",
          "Elavl1",
          "Elf1",
          "Elk3",
          "Ell2",
          "Elmo1",
          "Elovl5",
          "Elovl7",
          "Eltd1",
          "Emb",
          "Emg1",
          "Emid1",
          "Emilin1",
          "Emilin2",
          "Eml4",
          "Emp3",
          "Endod1",
          "Ep400",
          "Epb4.1",
          "Epb4.1l2",
          "Epb4.1l4b",
          "Epb4.9",
          "Epdr1",
          "Ephx2",
          "Epn1",
          "Epor",
          "Eprs",
          "Eps15",
          "Epsti1",
          "Epx",
          "Erbb2ip",
          "Erc1",
          "Ermap",
          "Ern1",
          "Ero1l",
          "Ero1lb",
          "Erp29",
          "Erp44",
          "Esco2",
          "Espl1",
          "Esyt1",
          "Etf1",
          "Etfa",
          "Etfb",
          "Etfdh",
          "Etnk1",
          "Ets1",
          "Etv6",
          "Evi2b",
          "Evl",
          "Exoc3l2",
          "Exoc6",
          "Exosc2",
          "Exosc5",
          "Exosc7",
          "Exosc8",
          "Ext1",
          "Eya2",
          "Ezh2",
          "Ezr",
          "F10",
          "F13a1",
          "F2r",
          "F2rl3",
          "F5",
          "FKBP12-T1",
          "FKBP1b-B",
          "Faah",
          "Fabp5",
          "Fads1",
          "Fads3",
          "Fam101b",
          "Fam102a",
          "Fam105a",
          "Fam107b",
          "Fam108b",
          "Fam109b",
          "Fam110a",
          "Fam117a",
          "Fam129a",
          "Fam129c",
          "Fam132a",
          "Fam134a",
          "Fam134b",
          "Fam158a",
          "Fam160a2",
          "Fam162a",
          "Fam168b",
          "Fam174b",
          "Fam176b",
          "Fam184a",
          "Fam195a",
          "Fam195b",
          "Fam20c",
          "Fam26f",
          "Fam43a",
          "Fam46a",
          "Fam49b",
          "Fam53b",
          "Fam55b",
          "Fam55c",
          "Fam59a",
          "Fam64a",
          "Fam65a",
          "Fam65b",
          "Fam69b",
          "Fam78a",
          "Fam82a2",
          "Fam96b",
          "Fance",
          "Far2",
          "Fasn",
          "Fau",
          "Fba",
          "Fbp1",
          "Fbxl20",
          "Fbxl8",
          "Fbxo10",
          "Fbxo4",
          "Fbxo5",
          "Fbxo7",
          "Fbxo9",
          "Fbxw10",
          "Fcer1g",
          "Fcgr2b",
          "Fcgr3",
          "Fcgrt",
          "Fcho1",
          "Fchsd2",
          "Fcnb",
          "Fech",
          "Fen1",
          "Fermt3",
          "Fes",
          "Ffar2",
          "Fgd2",
          "Fgd3",
          "Fgf3",
          "Fgfrl1",
          "Fgl2",
          "Fh1",
          "Fhdc1",
          "Ficd",
          "Filip1l",
          "Fis1",
          "Fkbp11",
          "Fkbp2",
          "Fkbp4",
          "Fkbp5",
          "Fli1",
          "Flna",
          "Flnb",
          "Flot2",
          "Flt3",
          "Flt3l",
          "Fmnl3",
          "Fmr1",
          "Fnbp1",
          "Fnbp1l",
          "Fnbp4",
          "Fndc3a",
          "Fndc3b",
          "Fos",
          "Foxj1",
          "Foxn3",
          "Foxo1",
          "Foxp1",
          "Foxred2",
          "Fr1",
          "Frat1",
          "Frat2",
          "Frmd4a",
          "Fth1",
          "Ftl1",
          "Ftsj1",
          "Ftsj3",
          "Fubp1",
          "Fuca2",
          "Fut4",
          "Fut7",
          "Fut8",
          "Fxn",
          "Fxyd5",
          "Fyb",
          "Fyn",
          "Fyr",
          "G0s2",
          "G3bp2",
          "G6pc3",
          "G6pdx",
          "Gab2",
          "Gabarapl1",
          "Gabpb2",
          "Gadd45a",
          "Gadd45b",
          "Galc",
          "Galk1",
          "Galns",
          "Galnt1",
          "Galnt11",
          "Galnt12",
          "Galnt2",
          "Galnt6",
          "Gamt",
          "Ganab",
          "Gapt",
          "Gapvd1",
          "Gar1",
          "Gars",
          "Gart",
          "Gas5",
          "Gas7",
          "Gata1",
          "Gata2",
          "Gatad2b",
          "Gatm",
          "Gatsl3",
          "Gbp10",
          "Gbp2",
          "Gbx2",
          "Gcat",
          "Gch1",
          "Gclc",
          "Gclm",
          "Gda",
          "Gdf3",
          "Gdi2",
          "Gdpd1",
          "Gdpd3",
          "Gemin5",
          "Get4",
          "Gfer",
          "Gfi1",
          "Gfi1b",
          "Gfm1",
          "Gfod1",
          "Gfpt1",
          "Gga2",
          "Ggh",
          "Ggt5",
          "Ggta1",
          "Gigyf2",
          "Gimap1",
          "Gimap5",
          "Gimap6",
          "Gimap7",
          "Git2",
          "Gja1",
          "Gjb3",
          "Glb1",
          "Glb1l",
          "Glg1",
          "Glipr1",
          "Glipr2",
          "Glo1",
          "Glrx5",
          "Gltscr2",
          "Glud1",
          "Gm10653",
          "Gm14005",
          "Gm14085",
          "Gm15800",
          "Gm16515",
          "Gm1966",
          "Gm2058",
          "Gm2a",
          "Gm4759",
          "Gm4902",
          "Gm5057",
          "Gm5506",
          "Gm608",
          "Gm672",
          "Gm7694",
          "Gmfg",
          "Gmip",
          "Gmpr",
          "Gna14",
          "Gna15",
          "Gnai2",
          "Gnas",
          "Gnb2l1",
          "Gng10",
          "Gng11",
          "Gng12",
          "Gng2",
          "Gnl2",
          "Gnl3",
          "Gnl3l",
          "Gnpda2",
          "Gnptab",
          "Golga4",
          "Golm1",
          "Gorasp2",
          "Gp1ba",
          "Gp5",
          "Gp9",
          "Gpatch8",
          "Gpbp1",
          "Gpc1",
          "Gpc4",
          "Gpi1",
          "Gpn3",
          "Gpr132",
          "Gpr171",
          "Gpr18",
          "Gpr183",
          "Gpr56",
          "Gpr84",
          "Gpr97",
          "Gps2",
          "Gpt2",
          "Gpx1",
          "Gpx3",
          "Gpx4",
          "Gramd1b",
          "Gramd3",
          "Grap",
          "Grb10",
          "Grb2",
          "Grhpr",
          "Gria3",
          "Grina",
          "Grk6",
          "Grn",
          "Gsn",
          "Gspt1",
          "Gsr",
          "Gstm1",
          "Gstm4",
          "Gstm5",
          "Gstm7",
          "Gsto1",
          "Gstp1",
          "Gstt3",
          "Gtf2a2",
          "Gtf2f1",
          "Gtf2h1",
          "Gtf2h3",
          "Gtf2i",
          "Gtpbp1",
          "Guca1a",
          "Gucy1a3",
          "Guk1",
          "Gusb",
          "Gxylt1",
          "Gyg",
          "Gypa",
          "Gypc",
          "Gzma",
          "Gzmb",
          "Gzmm",
          "H13",
          "H1f0",
          "H1fx",
          "H2-Aa",
          "H2-Ab1",
          "H2-D1",
          "H2-DMa",
          "H2-DMb1",
          "H2-Eb1",
          "H2-K1",
          "H2-Ke2",
          "H2-M3",
          "H2-Oa",
          "H2-Ob",
          "H2-Q7",
          "H2-T10",
          "H2afj",
          "H2afv",
          "H2afx",
          "H2afy",
          "H3f3a",
          "H47",
          "HDAC7",
          "HLS2",
          "Haao",
          "Hadh",
          "Hadha",
          "Hagh",
          "Hars",
          "Hausp",
          "Hba-a2",
          "Hbb-b1",
          "Hcfc1",
          "Hck",
          "Hcst",
          "Hdac5",
          "Hdac6",
          "Hdc",
          "Hdgf",
          "Hdlbp",
          "Heatr1",
          "Heatr3",
          "Heatr5a",
          "Hebp1",
          "Hectd1",
          "Heg1",
          "Hells",
          "Hemgn",
          "Herc1",
          "Herc2",
          "Herpud1",
          "Hes1",
          "Hexa",
          "Hexb",
          "Hfe",
          "Hif3a",
          "Higd2a",
          "Hint1",
          "Hip1",
          "Hip1r",
          "Hipk1",
          "Hist1h2an",
          "Hivep2",
          "Hk1",
          "Hk2",
          "Hk3",
          "Hlf",
          "Hlx",
          "Hmbs",
          "Hmgb2",
          "Hmgb3",
          "Hmgcl",
          "Hmgn1",
          "Hmgn2",
          "Hmgn3",
          "Hmha1",
          "Hmmr",
          "Hmox1",
          "Hn1",
          "Hnf4a",
          "Hnrnpab",
          "Hnrnpc",
          "Hnrnpd",
          "Hnrnph1",
          "Hnrnpk",
          "Hnrnpm",
          "Hnrnpul1",
          "Hnrpdl",
          "Homer2",
          "Homer3",
          "Hoxa5",
          "Hoxa7",
          "Hoxa9",
          "Hp",
          "Hp1bp3",
          "Hpn",
          "Hprt",
          "Hps3",
          "Hras1",
          "Hs6st1",
          "Hsd11b1",
          "Hsd17b1",
          "Hsd17b10",
          "Hsd17b11",
          "Hsd17b12",
          "Hsp90ab1",
          "Hsp90b1",
          "Hspa14",
          "Hspa2",
          "Hspa4",
          "Hspa4l",
          "Hspa5",
          "Hspa8",
          "Hspbp1",
          "Hspd1",
          "Hspe1",
          "Hsph1",
          "HtrA2",
          "Huwe1",
          "Hyal1",
          "Hyal2",
          "Hyi",
          "Hyou1",
          "I830077J02Rik",
          "ISG12a",
          "Iars",
          "Iars2",
          "Ica1",
          "Icam2",
          "Icam4",
          "Id1",
          "Id2",
          "Idh1",
          "Idh2",
          "Idh3a",
          "Idh3b",
          "Ier3",
          "Ier3ip1",
          "Ier5",
          "Iffo2",
          "Ifi203",
          "Ifi27l2a",
          "Ifi30",
          "Ifih1",
          "Ifitm1",
          "Ifitm2",
          "Ifitm3",
          "Ifnar2",
          "Ifngr1",
          "Ifngr2",
          "Ifrd2",
          "Ift140",
          "Igf1r",
          "Igf2r",
          "Igfbp4",
          "Igsf3",
          "Igsf6",
          "Igtp",
          "Ikbke",
          "Ikzf1",
          "Ikzf2",
          "Il10ra",
          "Il12a",
          "Il15",
          "Il16",
          "Il17ra",
          "Il17rb",
          "Il1r1",
          "Il1rl1",
          "Il21r",
          "Il2rb",
          "Il31ra",
          "Il3ra",
          "Il4ra",
          "Il6ra",
          "Il6st",
          "Immt",
          "Imp3",
          "Imp4",
          "Impa2",
          "Impdh1",
          "Incenp",
          "Inf2",
          "Ing1",
          "Ino80d",
          "Inpp5d",
          "Integrin Alpha-4",
          "Ints8",
          "Ipmk",
          "Ipo4",
          "Ipo5",
          "Iqgap1",
          "Iqgap2",
          "Irak-M",
          "Irf1",
          "Irf2",
          "Irf2bp2",
          "Irf5",
          "Irf7",
          "Irf8",
          "Irf9",
          "Irg1",
          "Irgm1",
          "Isca1",
          "Isca2",
          "Isg15",
          "Isg20",
          "Isg20l2",
          "Isoc1",
          "Isyna1",
          "Itga2b",
          "Itga6",
          "Itgal",
          "Itgam",
          "Itgav",
          "Itgax",
          "Itgb1",
          "Itgb2",
          "Itgb3",
          "Itgb5",
          "Itgb7",
          "Itih5",
          "Itm2a",
          "Itm2b",
          "Itm2c",
          "Itpr1",
          "Itpr3",
          "Itpripl1",
          "Itpripl2",
          "Itsn1",
          "Iws1",
          "Jak1",
          "Jarid1a",
          "Jdp2",
          "Jmjd1c",
          "Jmy",
          "Jnk2",
          "Josd1",
          "Josd2",
          "Kalrn",
          "Kars",
          "Katnal1",
          "Kbtbd11",
          "Kcc1",
          "Kcnab2",
          "Kcng2",
          "Kcnip3",
          "Kcnk12",
          "Kcnk6",
          "Kcnn4",
          "Kcnq5",
          "Kctd1",
          "Kctd12",
          "Kctd14",
          "Kctd17",
          "Kctd20",
          "Kdelc2",
          "Kdelr2",
          "Kdm2a",
          "Kdm3a",
          "Kdm3b",
          "Kdm5b",
          "Kel",
          "Khdrbs1",
          "Khk",
          "Khsrp",
          "Kiaa0028",
          "Kif11",
          "Kif15",
          "Kif17",
          "Kif18b",
          "Kif1b",
          "Kif21b",
          "Kif22",
          "Kif23",
          "Kif2a",
          "Kif3a",
          "Kif4",
          "Kit",
          "Klf1",
          "Klf13",
          "Klf2",
          "Klf3",
          "Klf4",
          "Klf6",
          "Klf9",
          "Klhdc2",
          "Klhdc3",
          "Klhdc8b",
          "Klhl22",
          "Klhl36",
          "Klhl5",
          "Klk8",
          "Klrb1c",
          "Klrb1f",
          "Klrk1",
          "Kpc1",
          "Kpnb1",
          "Krt18",
          "Krtcap2",
          "Kti12",
          "Ktn1",
          "L1cam",
          "L3mbtl3",
          "LPCAT4",
          "Lair1",
          "Lamp1",
          "Lap3",
          "Laptm5",
          "Larp1",
          "Larp1b",
          "Larp7",
          "Lars",
          "Lass5",
          "Lat",
          "Lat2",
          "Lbh",
          "Lbp",
          "Lck",
          "Lcn2",
          "Lcp1",
          "Lcp2",
          "Ldb1",
          "Ldha",
          "Ldhb",
          "Ldlrad3",
          "Lefty1",
          "Leprot",
          "Lfng",
          "Lgals1",
          "Lgals3",
          "Lgals3bp",
          "Lgals9",
          "Lgmn",
          "Lias",
          "Lig1",
          "Lilrb3",
          "Limd1",
          "Limd2",
          "Lims1",
          "Litaf",
          "Lman1",
          "Lman2",
          "Lmcd1",
          "Lmna",
          "Lmnb1",
          "Lmnb2",
          "Lmo1",
          "Lmo2",
          "Lmo4",
          "Lonp1",
          "Lonp2",
          "Lpar2",
          "Lpar6",
          "Lpcat2",
          "Lpcat4",
          "Lpgat1",
          "Lphn1",
          "Lphn2",
          "Lpin1",
          "Lpin2",
          "Lpla2",
          "Lrg1",
          "Lrmp",
          "Lrp1",
          "Lrp4",
          "Lrp5",
          "Lrp8",
          "Lrpprc",
          "Lrrc1",
          "Lrrc14",
          "Lrrc24",
          "Lrrc33",
          "Lrrc58",
          "Lrrc8c",
          "Lrrfip1",
          "Lrrk2",
          "Lrwd1",
          "Lsm14a",
          "Lsm2",
          "Lsm4",
          "Lsp1",
          "Lta4h",
          "Ltb4r1",
          "Ltbr",
          "Luc7l",
          "Luc7l2",
          "Luc7l3",
          "Luzp1",
          "Lxn",
          "Ly6c2",
          "Ly6d",
          "Ly6e",
          "Ly86",
          "Ly9",
          "Lyar",
          "Lyl1",
          "Lysmd2",
          "Lyst",
          "Lyz1",
          "M-rdgB beta",
          "M6prbp1",
          "MRPL33",
          "MRPS11",
          "Macf1",
          "Mad2l1",
          "Maged2",
          "Magoh",
          "Magt1",
          "Malat1",
          "Malt1",
          "Maml3",
          "Man1a",
          "Man1c1",
          "Man2b1",
          "Manf",
          "Map1lc3b",
          "Map2k2",
          "Map3k14",
          "Map3k3",
          "Map3k5",
          "Map4",
          "Map4k3",
          "Map4k4",
          "Mapk14",
          "Mapk6",
          "Mapkapk2",
          "Mapkapk3",
          "Mapre1",
          "Marcksl1",
          "Mars",
          "Marveld1",
          "Mast2",
          "Mast4",
          "Mat2a",
          "Mat2b",
          "Matn2",
          "Mbd2",
          "Mbnl1",
          "Mboat1",
          "Mbp",
          "Mcf2l",
          "Mcm10",
          "Mcm2",
          "Mcm3",
          "Mcm4",
          "Mcm5",
          "Mcm6",
          "Mcm7",
          "Mcph1",
          "Mcpt4",
          "Mcpt8",
          "Mctp1",
          "Mdga1",
          "Mdh1",
          "Mdh2",
          "Mdn1",
          "Me2",
          "Mecr",
          "Med13l",
          "Med20",
          "Med25",
          "Med30",
          "Med7",
          "Mef2c",
          "Mefv",
          "Megf12",
          "Meis1",
          "Memo1",
          "Metap2",
          "Mett10d",
          "Mettl13",
          "Mfap1b",
          "Mfap3",
          "Mfge8",
          "Mfhas1",
          "Mfn1",
          "Mfsd10",
          "Mfsd2b",
          "Mfsd6",
          "Mgam",
          "Mgat4a",
          "Mgat5",
          "Mgl2",
          "Mgll",
          "Mgst1",
          "Mgst2",
          "Mgst3",
          "Mical1",
          "Mical3",
          "Micall2",
          "Mier1",
          "Mier3",
          "Minpp1",
          "Mipol1",
          "Mir142",
          "Mir1903",
          "Mki67",
          "Mki67ip",
          "Mkl1",
          "Mknk2",
          "Mkrn1",
          "Mlec",
          "Mll1",
          "Mll2",
          "Mll3",
          "Mllt3",
          "Mllt6",
          "Mmgt2",
          "Mmp14",
          "Mnda",
          "Mndal",
          "Mns1",
          "Mobkl2a",
          "Mogat2",
          "Mogs",
          "Morf4l2",
          "Mosc2",
          "Mospd3",
          "Mpeg1",
          "Mpl",
          "Mpnd",
          "Mpo",
          "Mpp4",
          "Mpp6",
          "Mras",
          "Mrgpre",
          "Mrp63",
          "Mrpl12",
          "Mrpl15",
          "Mrpl17",
          "Mrpl18",
          "Mrpl20",
          "Mrpl22",
          "Mrpl28",
          "Mrpl3",
          "Mrpl30",
          "Mrpl34",
          "Mrpl35",
          "Mrpl37",
          "Mrpl38",
          "Mrpl42",
          "Mrpl45",
          "Mrpl47",
          "Mrpl52",
          "Mrpl54",
          "Mrpl55",
          "Mrpl9",
          "Mrps22",
          "Mrps24",
          "Mrps26",
          "Mrps28",
          "Mrps36",
          "Mrps5",
          "Mrto4",
          "Mrvi1",
          "Ms4a4b",
          "Ms4a6b",
          "Ms4a6c",
          "Msh6",
          "Msi2",
          "Msn",
          "Mt1",
          "Mt2",
          "Mta1",
          "Mta2",
          "Mta3",
          "Mtch2",
          "Mtdh",
          "Mtfp1",
          "Mtfr1",
          "Mthfd1",
          "Mthfd2",
          "Mtmr14",
          "Mtss1",
          "Mtus1",
          "Mtx2",
          "Muc13",
          "Mutyh",
          "Myadm",
          "Myb",
          "Mybbp1a",
          "Myc",
          "Mycbp2",
          "Mycn",
          "Myct1",
          "Myeov2",
          "Myh10",
          "Myh9",
          "Myl12b",
          "Mylip",
          "Mylk3",
          "Mylpf",
          "Myo10",
          "Myo15b",
          "Myo1d",
          "Myo1f",
          "Myo1g",
          "Myo5b",
          "Myo7a",
          "Myst3",
          "N4bp2",
          "N4bp2l1",
          "N4bp3",
          "NAAA",
          "Naa25",
          "Naa50",
          "Nab1",
          "Naga",
          "Naglu",
          "Nags",
          "Naip1",
          "Naip2",
          "Nanos3",
          "Nap1l4",
          "Naprt1",
          "Napsa",
          "Narf",
          "Nasp",
          "Nat10",
          "Nat15",
          "Nat8l",
          "Nav1",
          "Nav2",
          "Ncam1",
          "Ncapd2",
          "Ncapg2",
          "Ncbp1",
          "Ncf1",
          "Ncf2",
          "Ncf4",
          "Nckap1",
          "Nckap5l",
          "Nckipsd",
          "Ncl",
          "Ncln",
          "Ncoa2",
          "Ncoa3",
          "Ncoa6",
          "Ncor1",
          "Ncs1",
          "Ndrg1",
          "Ndst1",
          "Ndst2",
          "Ndufa10",
          "Ndufa12",
          "Ndufa13",
          "Ndufa7",
          "Ndufb10",
          "Ndufb2",
          "Ndufb5",
          "Ndufb6",
          "Ndufb8",
          "Ndufb9",
          "Ndufc2",
          "Ndufs1",
          "Ndufs2",
          "Ndufs6",
          "Ndufs7",
          "Ndufv1",
          "Ndufv2",
          "Ndufv3",
          "Necap2",
          "Nedd4",
          "Nedd9",
          "Nefh",
          "Neil3",
          "Nek6",
          "Nenf",
          "Net1",
          "Neu1",
          "Neurl3",
          "Nfam1",
          "Nfat5",
          "Nfatc1",
          "Nfatc2",
          "Nfatc3",
          "Nfe2",
          "Nfe2l1",
          "Nfe2l2",
          "Nfia",
          "Nfic",
          "Nfil3",
          "Nfix",
          "Nfkb1",
          "Nfkbia",
          "Nfkbie",
          "Nfs1",
          "Nfya",
          "Ng23",
          "Ngly1",
          "Nhlrc2",
          "Nhsl2",
          "Nin",
          "Ninj1",
          "Ninl",
          "Nipsnap1",
          "Nkg7",
          "Nlgn2",
          "Nlrx1",
          "Nmd3",
          "Nme1",
          "Nme2",
          "Nme4",
          "Nmral1",
          "Noc3l",
          "Noc4l",
          "Nod1",
          "Nol11",
          "Nol7",
          "Nol9",
          "Nolc1",
          "Nop14",
          "Nop2",
          "Nop58",
          "Npc2",
          "Npl",
          "Npm2",
          "Nqo1",
          "Nr0b2",
          "Nr3c1",
          "Nrg2",
          "Nrgn",
          "Nrip1",
          "Nrp2",
          "Nrxn1",
          "Nsf",
          "Nsmce4a",
          "Nsun2",
          "Nt5c2",
          "Ntng2",
          "Nuak2",
          "Nucb1",
          "Nucb2",
          "Nucks1",
          "Nudc",
          "Nudt19",
          "Nudt3",
          "Nudt9",
          "Numa1",
          "Nup133",
          "Nup160",
          "Nup210",
          "Nup85",
          "Nup93",
          "Nupr1",
          "Nusap1",
          "Nxn",
          "Nxt1",
          "Oaf",
          "Oasl1",
          "Oat",
          "Ociad1",
          "Ocrl",
          "Odc1",
          "Ogfrl1",
          "Oip5",
          "Olfm1",
          "Olfr56",
          "Olr1",
          "Opa1",
          "Optn",
          "Orai2",
          "Orc2",
          "Orc3",
          "Orc5",
          "Orc6",
          "Ormdl3",
          "Os9",
          "Osbpl1a",
          "Osbpl3",
          "Osbpl5",
          "Osbpl8",
          "Ostc",
          "Ostf1",
          "Otub2",
          "Otud7b",
          "Oxr1",
          "P2rx1",
          "P2rx7",
          "P2ry1",
          "P2ry2",
          "P4hb",
          "PAPK-A",
          "Pa2g4",
          "Pabpc4",
          "Pabpn1",
          "Pacs1",
          "Pacsin2",
          "Padi4",
          "Paics",
          "Paip1",
          "Paip2",
          "Pak1",
          "Pak1ip1",
          "Palm",
          "Pam",
          "Pank1",
          "Panx1",
          "Papola",
          "Papss2",
          "Paqr7",
          "Paqr9",
          "Pard3b",
          "Park7",
          "Parm1",
          "Parp1",
          "Parp14",
          "Parp3",
          "Parp8",
          "Parvb",
          "Parvg",
          "Pbx1",
          "Pbx4",
          "Pcbp1",
          "Pcbp2",
          "Pccb",
          "Pcf11",
          "Pcgf2",
          "Pck2",
          "Pcm1",
          "Pcmtd2",
          "Pcna",
          "Pcnt",
          "Pcnx",
          "Pcp4l1",
          "Pcyt1a",
          "Pcyt1b",
          "Pdap1",
          "Pdcd11",
          "Pdcd4",
          "Pdcd6ip",
          "Pde2a",
          "Pde4d",
          "Pde5a",
          "Pde6d",
          "Pdgfrb",
          "Pdha1",
          "Pdhb",
          "Pdia2",
          "Pdia3",
          "Pdia4",
          "Pdia5",
          "Pdia6",
          "Pdlim1",
          "Pdlim2",
          "Pdlim7",
          "Pdrg1",
          "Pdxk",
          "Pea15a",
          "Pecam1",
          "Peci",
          "Pef1",
          "Peg13",
          "Peli2",
          "Peo1",
          "Per1",
          "Per3",
          "Pex11a",
          "Pf4",
          "Pfdn1",
          "Pfdn5",
          "Pfkfb3",
          "Pfkfb4",
          "Pfkm",
          "Pfkp",
          "Pgd",
          "Pglyrp1",
          "Pglyrp2",
          "Pgp",
          "Phactr2",
          "Phactr4",
          "Phb2",
          "Phc1",
          "Phf10",
          "Phf13",
          "Phf14",
          "Phf19",
          "Phf21a",
          "Phf3",
          "Phf5a",
          "Phgdh",
          "Phldb3",
          "Phospho1",
          "Phyhip",
          "Picalm",
          "Pigq",
          "Pik3ap1",
          "Pik3cd",
          "Pik3cg",
          "Pik3r2",
          "Pik3r5",
          "Pik3r6",
          "Pim1",
          "Pim2",
          "Pip4k2a",
          "Pip5k1b",
          "Pitpna",
          "Pitpnm2",
          "Pitrm1",
          "Pkhd1l1",
          "Pkib",
          "Pkig",
          "Pklr",
          "Pkm2",
          "Pkn2",
          "Pla2g12a",
          "Pla2g16",
          "Plaur",
          "Plbd1",
          "Plcb2",
          "Plcb3",
          "Plcg1",
          "Plcg2",
          "Plcl2",
          "Pld3",
          "Pld4",
          "Plek",
          "Plekha1",
          "Plekha2",
          "Plekhf1",
          "Plekhg2",
          "Plekhg3",
          "Plekhg5",
          "Plekho1",
          "Plod1",
          "Plod3",
          "Plscr1",
          "Plvap",
          "Plxdc1",
          "Plxnb2",
          "Plxnc1",
          "Plxnd1",
          "Pmepa1",
          "Pmf1",
          "Pml",
          "Pmm1",
          "Pnp",
          "Pnp2",
          "Pnpla2",
          "Pnrc1",
          "Pola2",
          "Poldip2",
          "Pole",
          "Pole3",
          "Polq",
          "Polr1a",
          "Polr1b",
          "Polr1c",
          "Polr1d",
          "Polr2e",
          "Polr2f",
          "Polr2j",
          "Polr3d",
          "Pon2",
          "Pop5",
          "Popdc2",
          "Por",
          "Pou2af1",
          "Pou2f2",
          "Ppa1",
          "Ppap2a",
          "Ppat",
          "Ppfia1",
          "Ppfia4",
          "Ppfibp1",
          "Ppfibp2",
          "Ppic",
          "Ppid",
          "Ppif",
          "Ppm1g",
          "Ppm1h",
          "Ppm1l",
          "Ppm1m",
          "Ppox",
          "Ppp1r12a",
          "Ppp1r13b",
          "Ppp1r14b",
          "Ppp1r15a",
          "Ppp1r15b",
          "Ppp1r3d",
          "Ppp1r9b",
          "Ppp2r1b",
          "Ppp2r4",
          "Ppp3cc",
          "Ppp6r1",
          "Ppp6r2",
          "Pprc1",
          "Pqlc3",
          "Pra1",
          "Prc1",
          "Prdm2",
          "Prdm5",
          "Prdx2",
          "Prdx3",
          "Prdx4",
          "Prdx5",
          "Prdx6",
          "Prelid2",
          "Prg2",
          "Prg3",
          "Prim2",
          "Prkaa1",
          "Prkab1",
          "Prkaca",
          "Prkag1",
          "Prkag2",
          "Prkar2b",
          "Prkca",
          "Prkcb",
          "Prkcd",
          "Prkce",
          "Prkch",
          "Prkcq",
          "Prkcsh",
          "Prkd2",
          "Prmt5",
          "Prnd",
          "Prodh",
          "Prom1",
          "Prorsd1",
          "Prpf19",
          "Prpf3",
          "Prpf4b",
          "Prpf8",
          "Prpsap1",
          "Prr13",
          "Prr5",
          "Prrc2b",
          "Prrg4",
          "Prss16",
          "Prss34",
          "Prss50",
          "Prssl1",
          "Prtn3",
          "Psap",
          "Psat1",
          "Psen2",
          "Psip1",
          "Psma7",
          "Psmb1",
          "Psmb10",
          "Psmb2",
          "Psmb3",
          "Psmb4",
          "Psmb6",
          "Psmb7",
          "Psmb8",
          "Psmb9",
          "Psmc1",
          "Psmc2",
          "Psmc3",
          "Psmd1",
          "Psmd11",
          "Psmd12",
          "Psmd2",
          "Psmd3",
          "Psmd4",
          "Psmd5",
          "Psmd7",
          "Psmd9",
          "Psme1",
          "Psme2",
          "Psme3",
          "Psmf1",
          "Psmg1",
          "Psmg2",
          "Pspc1",
          "Pstpip1",
          "Ptch1",
          "Ptdss2",
          "Ptger2",
          "Ptger3",
          "Ptgir",
          "Ptgr1",
          "Ptgs1",
          "Ptms",
          "Ptp4a2",
          "Ptp4a3",
          "Ptpn1",
          "Ptpn11",
          "Ptpn13",
          "Ptpn14",
          "Ptpn18",
          "Ptpn22",
          "Ptpn6",
          "Ptpn7",
          "Ptpra",
          "Ptprcap",
          "Ptpre",
          "Ptprs",
          "Ptpru",
          "Pttg1ip",
          "Pum1",
          "Pus1",
          "Pus7",
          "Pvr",
          "Pvrl1",
          "Pwp2",
          "Pycard",
          "Pycr2",
          "Pygl",
          "Qars",
          "Qdpr",
          "Rab11fip1",
          "Rab17",
          "Rab18",
          "Rab19",
          "Rab1b",
          "Rab22B",
          "Rab27a",
          "Rab27b",
          "Rab2a",
          "Rab32",
          "Rab35",
          "Rab37",
          "Rab3d",
          "Rab3il1",
          "Rab44",
          "Rab4a",
          "Rabgap1l",
          "Rabgef1",
          "Rac2",
          "Racgap1",
          "Rad21",
          "Rad23a",
          "Rad23b",
          "Rad50",
          "Ralgds",
          "Ralgps2",
          "Ramp1",
          "Ran",
          "Ranbp1",
          "Ranbp10",
          "Ranbp2",
          "Rangap1",
          "Rangrf",
          "Rap1b",
          "Rapgef2",
          "Rapgef3",
          "Rapgef5",
          "Rapgef6",
          "Rara",
          "Rarg",
          "Rasa2",
          "Rasa4",
          "Rasal3",
          "Rasgrp2",
          "Rassf2",
          "Rassf3",
          "Rassf4",
          "Rassf8",
          "Rbbp6",
          "Rbks",
          "Rbm16",
          "Rbm25",
          "Rbm27",
          "Rbm33",
          "Rbm39",
          "Rbm43",
          "Rbm5",
          "Rbm8a",
          "Rbmxrt",
          "Rbp1",
          "Rbpms",
          "Rcc2",
          "Rcl1",
          "Rcn3",
          "Rcor1",
          "Rcor2",
          "Rcsd1",
          "Rdh12",
          "Rdx",
          "Rec8",
          "Reck",
          "Recql4",
          "Reep2",
          "Reep5",
          "Reep6",
          "Rel",
          "Rela",
          "Relb",
          "Renbp",
          "Rest",
          "Rexo2",
          "Rfc2",
          "Rfc4",
          "Rfng",
          "Rftn1",
          "Rfx2",
          "Rgl1",
          "Rgs10",
          "Rgs12",
          "Rgs14",
          "Rgs18",
          "Rgs19",
          "Rgs2",
          "Rhag",
          "Rhbdd2",
          "Rhd",
          "Rhob",
          "Rhog",
          "Rhou",
          "Rin3",
          "Ripk3",
          "Rlf",
          "Rnaseh1",
          "Rnaseh2b",
          "Rnaseh2c",
          "Rnaset2a",
          "Rnf10",
          "Rnf125",
          "Rnf13",
          "Rnf130",
          "Rnf144a",
          "Rnf144b",
          "Rnf150",
          "Rnf180",
          "Rnf187",
          "Rnf213",
          "Rnf216",
          "Rnpep",
          "Rnpepl1",
          "Robld3",
          "Rod1",
          "Rogdi",
          "Rom1",
          "Romo1",
          "Rpa2",
          "Rpia",
          "Rpl13",
          "Rpl13a",
          "Rpl18",
          "Rpl23",
          "Rpl27a",
          "Rpl32",
          "Rpl37a",
          "Rpl4",
          "Rplp2",
          "Rpn1",
          "Rpn2",
          "Rprd1b",
          "Rps10",
          "Rps11",
          "Rps19",
          "Rps20",
          "Rps21",
          "Rps25",
          "Rps27l",
          "Rps3",
          "Rps3a",
          "Rps6ka1",
          "Rps6ka2",
          "Rps6ka5",
          "Rps8",
          "Rrad",
          "Rrbp1",
          "Rreb1",
          "Rrm1",
          "Rrm2",
          "Rrp1b",
          "Rrp9",
          "Rsbn1",
          "Rsl1d1",
          "Rsu1",
          "Rtkn",
          "Rtn4r",
          "Rtn4rl1",
          "Rtp4",
          "Rufy2",
          "Runx1",
          "Runx2",
          "Ruvbl1",
          "Ruvbl2",
          "Ryk",
          "S100a10",
          "S100a4",
          "S100a6",
          "S100a8",
          "S100a9",
          "S1pr1",
          "S1pr2",
          "S1pr3",
          "S1pr4",
          "SMC4",
          "Sae1",
          "Samd1",
          "Samd10",
          "Samd14",
          "Samhd1",
          "Samm50",
          "Samsn1",
          "Sars",
          "Sat1",
          "Satb1",
          "Sbk1",
          "Sbno1",
          "Scaf11",
          "Scamp2",
          "Scarf1",
          "Scd2",
          "Scin",
          "Scly",
          "Scnn1a",
          "Scpep1",
          "Scrn3",
          "Sdad1",
          "Sdc3",
          "Sdf2l1",
          "Sdha",
          "Sdhb",
          "Sdhc",
          "Sdhd",
          "Sdpr",
          "Sdsl",
          "Sec11c",
          "Sec14l2",
          "Sec22c",
          "Sec24d",
          "Sec31a",
          "Sec61a1",
          "Sec61b",
          "Sec63",
          "Secisbp2",
          "Sel1l",
          "Selenbp1",
          "Selk",
          "Sell",
          "Selm",
          "Selp",
          "Selplg",
          "Sema4a",
          "Senp6",
          "Senp7",
          "Sepw1",
          "Sepx1",
          "Serinc5",
          "Serp1",
          "Serpina3f",
          "Serpinb6b",
          "Serpine2",
          "Serpinf1",
          "Sertad1",
          "Sesn1",
          "Sesn3",
          "Sestd1",
          "Setd1a",
          "Setd2",
          "Setd8",
          "Sf3a2",
          "Sf3b1",
          "Sf3b2",
          "Sf3b3",
          "Sfmbt1",
          "Sfpi1",
          "Sfpq",
          "Sfrs18",
          "Sfrs3",
          "Sfrs7",
          "Sfswap",
          "Sfxn1",
          "Sfxn3",
          "Sgcb",
          "Sgk1",
          "Sgms2",
          "Sgpp1",
          "Sh2b2",
          "Sh2d2a",
          "Sh2d3c",
          "Sh2d4a",
          "Sh3bgrl3",
          "Sh3bp5",
          "Sh3glb1",
          "Sh3kbp1",
          "Sh3pxd2b",
          "Sh3tc1",
          "Shank3",
          "Shfm1",
          "Shisa5",
          "Shmt1",
          "Sigirr",
          "Siglec5",
          "Siglecg",
          "Sigmar1",
          "Sik1",
          "Sipa1l1",
          "Sirpa",
          "Sirt2",
          "Sirt7",
          "Siva1",
          "Skil",
          "Skiv2l2",
          "Sla",
          "Slain1",
          "Slbp",
          "Slc12a9",
          "Slc14a1",
          "Slc16a1",
          "Slc16a10",
          "Slc17a9",
          "Slc18a2",
          "Slc19a1",
          "Slc22a23",
          "Slc22a3",
          "Slc24a6",
          "Slc25a1",
          "Slc25a12",
          "Slc25a13",
          "Slc25a21",
          "Slc25a23",
          "Slc25a3",
          "Slc25a38",
          "Slc25a39",
          "Slc25a4",
          "Slc25a42",
          "Slc25a44",
          "Slc25a5",
          "Slc26a1",
          "Slc28a2",
          "Slc29a1",
          "Slc2a1",
          "Slc2a6",
          "Slc30a7",
          "Slc31a2",
          "Slc35b2",
          "Slc35b4",
          "Slc35c2",
          "Slc35e2",
          "Slc35e4",
          "Slc36a1",
          "Slc38a1",
          "Slc38a2",
          "Slc38a5",
          "Slc39a6",
          "Slc39a8",
          "Slc3a2",
          "Slc41a3",
          "Slc43a1",
          "Slc43a3",
          "Slc44a2",
          "Slc45a3",
          "Slc45a4",
          "Slc46a3",
          "Slc4a8",
          "Slc6a13",
          "Slc7a1",
          "Slc7a4",
          "Slc7a8",
          "Slc9a9",
          "Slco3a1",
          "Slco4a1",
          "Slfn2",
          "Slfn8",
          "Slfn9",
          "Slk",
          "Slmap",
          "Slmo2",
          "Slpi",
          "Smad1",
          "Smap1",
          "Smap2",
          "Smarca4",
          "Smarca5",
          "Smarcc1",
          "Smarcc2",
          "Smc1a",
          "Smc2",
          "Smc3",
          "Smchd1",
          "Smg1",
          "Smg6",
          "Smpd4",
          "Smtn",
          "Smyd2",
          "Smyd3",
          "Smyd5",
          "Snd1",
          "Snord49b",
          "Snrnp200",
          "Snrnp40",
          "Snrpa1",
          "Snrpb",
          "Snrpd1",
          "Snrpd2",
          "Snrpf",
          "Sntb2",
          "Snx1",
          "Snx10",
          "Snx18",
          "Snx20",
          "Snx3",
          "Snx30",
          "Snx5",
          "Snx9",
          "Soat1",
          "Soat2",
          "Socs1",
          "Sod1",
          "Sod2",
          "Son",
          "Sorbs1",
          "Sorbs3",
          "Sord",
          "Sorl1",
          "Sort1",
          "Sox12",
          "Sox13",
          "Sox4",
          "Sox6",
          "Sp100",
          "Sp110",
          "Spag5",
          "Spata13",
          "Spata24",
          "Spata6",
          "Spc24",
          "Spcs2",
          "Spcs3",
          "Specc1l",
          "Sphk1",
          "Spin1",
          "Spire1",
          "Spire2",
          "Spn",
          "Spna1",
          "Spna2",
          "Spnb1",
          "Spnb2",
          "Spns2",
          "Spns3",
          "Spon2",
          "Spop",
          "Spr",
          "Sqrdl",
          "Sqstm1",
          "Sra1",
          "Srcap",
          "Srgap2",
          "Srgap3",
          "Srgn",
          "Sri",
          "Srm",
          "Srp19",
          "Srp68",
          "Srp72",
          "Srp9",
          "Srpk2",
          "Srprb",
          "Srrm1",
          "Srrm2",
          "Srrt",
          "Srsf1",
          "Srsf2",
          "Srsf6",
          "Ssb",
          "Ssbp3",
          "Ssh1",
          "Ssh3",
          "Ssna1",
          "Ssr1",
          "Ssr2",
          "Ssr4",
          "Ssrp1",
          "Ssx2ip",
          "St14",
          "St3gal5",
          "St8sia4",
          "Stard10",
          "Stard5",
          "Stat1",
          "Stat3",
          "Stat4",
          "Stat5a",
          "Stat5b",
          "Stau2",
          "Steap3",
          "Stk10",
          "Stk38",
          "Stom",
          "Ston2",
          "Stra13",
          "Strap",
          "Strbp",
          "Stt3b",
          "Stx2",
          "Stx3",
          "Stxbp1",
          "Stxbp3a",
          "Stxbp5",
          "Sun2",
          "Supt16h",
          "Susd3",
          "Svip",
          "Syce2",
          "Syf2",
          "Syk",
          "Syne1",
          "Syne2",
          "Syngr1",
          "Synj2",
          "Sypl",
          "Sytl1",
          "Sytl4",
          "Tacc1",
          "Tacc2",
          "Tacstd2",
          "Taf1",
          "Taf12",
          "Taf9",
          "Tagln2",
          "Tal1",
          "Taldo1",
          "Taok3",
          "Tap1",
          "Tapbpl",
          "Tapt1",
          "Tars2",
          "Tarsl2",
          "Tax1bp1",
          "Tbc1d16",
          "Tbc1d17",
          "Tbc1d2",
          "Tbc1d22b",
          "Tbc1d4",
          "Tbc1d5",
          "Tbc1d9b",
          "Tbcb",
          "Tbccd1",
          "Tbkbp1",
          "Tbl1x",
          "Tbl1xr1",
          "Tbrg1",
          "Tbrg4",
          "Tbxa2r",
          "Tbxas1",
          "Tcb",
          "Tceb3",
          "Tcerg1",
          "Tcf12",
          "Tcf19",
          "Tcf20",
          "Tcf25",
          "Tcf3",
          "Tcf7",
          "Tcfe3",
          "Tcfec",
          "Tcirg1",
          "Tcn2",
          "Tcp11l2",
          "Tec",
          "Tecr",
          "Tep1",
          "Tet1",
          "Tet2",
          "Tfam",
          "Tfdp2",
          "Tfg",
          "Tfrc",
          "Tgfb1",
          "Tgfbi",
          "Tgfbr2",
          "Tgfbr3",
          "Tgm2",
          "Thap3",
          "Thoc4",
          "Thoc7",
          "Thop1",
          "Thra",
          "Thrap3",
          "Thumpd1",
          "Thy1",
          "Tiam1",
          "Ticam2",
          "Tie1",
          "Tifab",
          "Timeless",
          "Timm10",
          "Timp2",
          "Tinagl1",
          "Tirap",
          "Tjp2",
          "Tjp3",
          "Tk1",
          "Tkt",
          "Tle6",
          "Tlk1",
          "Tlr2",
          "Tm6sf1",
          "Tm7sf3",
          "Tm9sf3",
          "Tmbim6",
          "Tmc6",
          "Tmc8",
          "Tmcc2",
          "Tmed10",
          "Tmed3",
          "Tmed9",
          "Tmem109",
          "Tmem119",
          "Tmem131",
          "Tmem141",
          "Tmem147",
          "Tmem14c",
          "Tmem159",
          "Tmem160",
          "Tmem165",
          "Tmem173",
          "Tmem176a",
          "Tmem176b",
          "Tmem179b",
          "Tmem180",
          "Tmem184b",
          "Tmem2",
          "Tmem20",
          "Tmem205",
          "Tmem208",
          "Tmem229b",
          "Tmem29",
          "Tmem38b",
          "Tmem41a",
          "Tmem50a",
          "Tmem50b",
          "Tmem53",
          "Tmem56",
          "Tmem59",
          "Tmem70",
          "Tmem8",
          "Tmem9",
          "Tmem97",
          "Tmpo",
          "Tmsb10",
          "Tmx4",
          "Tnfaip2",
          "Tnfaip8",
          "Tnfaip8l2",
          "Tnfrsf13b",
          "Tnfrsf18",
          "Tnfrsf1a",
          "Tnfrsf1b",
          "Tnfrsf21",
          "Tnfrsf26",
          "Tnfsf14",
          "Tnfsf9",
          "Tnik",
          "Tnip1",
          "Tnk2",
          "Tnks1bp1",
          "Tnks2",
          "Tnni2",
          "Tnrc18",
          "Tnrc6a",
          "Tnrc6b",
          "Tns1",
          "Tns3",
          "Tns4",
          "Tom40",
          "Tomm22",
          "Tomm5",
          "Tomm6",
          "Tomm70a",
          "Tonsl",
          "Top2a",
          "Top2b",
          "Topbp1",
          "Tor1a",
          "Tor3a",
          "Tpcn1",
          "Tpd52",
          "Tpd52l2",
          "Tpm1",
          "Tpm2",
          "Tpm3",
          "Tpm4",
          "Tpp1",
          "Tpr",
          "Tprgl",
          "Tprkb",
          "Tpsb2",
          "Tpx2",
          "Traf3ip2",
          "Traf3ip3",
          "Traf4",
          "Trafd1",
          "Trak2",
          "Tram1",
          "Trappc5",
          "Trem1",
          "Trem3",
          "Treml1",
          "Treml2",
          "Trerf1",
          "Trf",
          "Trfr2",
          "Trib2",
          "Trim10",
          "Trim2",
          "Trim24",
          "Trim25",
          "Trim26",
          "Trim28",
          "Trim45",
          "Trim47",
          "Trim8",
          "Trip10",
          "Trip12",
          "Trip6",
          "Trmt1",
          "Trmt61a",
          "Trp53",
          "Trp53i11",
          "Trp53i13",
          "Trps1",
          "Trpv2",
          "Tsc22d4",
          "Tsen34",
          "Tsn",
          "Tsnax",
          "Tspan13",
          "Tspan2",
          "Tspan31",
          "Tspan32",
          "Tspan33",
          "Tspan5",
          "Tspo",
          "Tspo2",
          "Tspyl3",
          "Ttc15",
          "Ttc21b",
          "Ttc27",
          "Ttc3",
          "Ttc39c",
          "Ttll12",
          "Ttll9",
          "Ttyh2",
          "Tuba1a",
          "Tuba1b",
          "Tuba1c",
          "Tuba8",
          "Tubb2a",
          "Tubb5",
          "Tubb6",
          "Twf2",
          "Txn1",
          "Txn2",
          "Txndc16",
          "Txndc5",
          "Txnip",
          "Txnl1",
          "Txnl4a",
          "Txnrd1",
          "Txnrd2",
          "Tyms",
          "Tyrobp",
          "Uap1",
          "Uba1",
          "Uba2",
          "Ubac1",
          "Ubap2",
          "Ubash3b",
          "Ubb",
          "Ube2c",
          "Ube2e3",
          "Ube2l6",
          "Ube2q1",
          "Ube2r2",
          "Ublcp1",
          "Ubqln1",
          "Ubr5",
          "Ubr7",
          "Ubtd1",
          "Ubtf",
          "Ubxn2a",
          "Uchl1",
          "Uck2",
          "Ucp2",
          "Ugcg",
          "Ugcgl1",
          "Ugdh",
          "Ugt1a1",
          "Uhrf1",
          "Uhrf1bp1",
          "Uhrf1bp1l",
          "Ulk3",
          "Unc119",
          "Unc119b",
          "Unc93b1",
          "Ung",
          "Uqcr",
          "Uqcr10",
          "Uqcrc1",
          "Uqcrc2",
          "Uqcrfs1",
          "Uqcrq",
          "Urod",
          "Uros",
          "Use1",
          "Usp1",
          "Usp10",
          "Usp15",
          "Usp2",
          "Usp22",
          "Usp24",
          "Usp25",
          "Usp32",
          "Usp33",
          "Usp34",
          "Usp36",
          "Usp39",
          "Usp4",
          "Usp40",
          "Usp45",
          "Usp48",
          "Usp6nl",
          "Usp9x",
          "Utp14a",
          "Utp20",
          "Utrn",
          "Vamp2",
          "Vamp5",
          "Vamp8",
          "Vangl1",
          "Vars",
          "Vasp",
          "Vat1",
          "Vav1",
          "Vav3",
          "Vcam1",
          "Vcl",
          "Vdac1",
          "Vdr",
          "Vegfa",
          "Vegfb",
          "Vgll4",
          "Vill",
          "Vim",
          "Vopp1",
          "Vprbp",
          "Vps13c",
          "Vps28",
          "Vps35",
          "Vps53",
          "Vps72",
          "Vwa5a",
          "Vwf",
          "Wapal",
          "Was",
          "Wasf2",
          "Wbp2",
          "Wbp5",
          "Wbscr27",
          "Wdfy4",
          "Wdhd1",
          "Wdr1",
          "Wdr18",
          "Wdr4",
          "Wdr59",
          "Wdr60",
          "Wdr61",
          "Wdr65",
          "Wdr73",
          "Wdr74",
          "Wdr8",
          "Wdr81",
          "Wdr92",
          "Wdsub1",
          "Whsc1",
          "Whsc1l1",
          "Wipf1",
          "Wipi2",
          "Wls",
          "Wnk1",
          "Wrn",
          "Wsb1",
          "Xbp1",
          "Xcl1",
          "Xdh",
          "Xk",
          "Xkr8",
          "Xpc",
          "Xpnpep1",
          "Xrcc5",
          "Xrcc6",
          "Xrn2",
          "Ybx1",
          "Ydjc",
          "Ylpm1",
          "Ypel3",
          "Ypel5",
          "Ythdc1",
          "Ywhae",
          "Ywhaq",
          "Ywhaz",
          "Zbed3",
          "Zbtb1",
          "Zbtb10",
          "Zbtb16",
          "Zbtb20",
          "Zbtb38",
          "Zbtb4",
          "Zbtb46",
          "Zbtb7a",
          "Zc3h18",
          "Zc3h6",
          "Zc3hav1",
          "Zcchc11",
          "Zcchc6",
          "Zdhhc14",
          "Zdhhc20",
          "Zdhhc8",
          "Zdhhc9",
          "Zeb1",
          "Zfand2b",
          "Zfand3",
          "Zfhx2",
          "Zfhx3",
          "Zfml",
          "Zfp106",
          "Zfp207",
          "Zfp217",
          "Zfp238",
          "Zfp259",
          "Zfp326",
          "Zfp36",
          "Zfp36l2",
          "Zfp467",
          "Zfp507",
          "Zfp516",
          "Zfp579",
          "Zfp608",
          "Zfp637",
          "Zfp644",
          "Zfp706",
          "Zfp783",
          "Zfp800",
          "Zfp831",
          "Zfp90",
          "Zfp945",
          "Zfpm1",
          "Zg16",
          "Zkscan1",
          "Zmat3",
          "Zmiz1",
          "Zmynd11",
          "Zmynd8",
          "Znhit1",
          "Zswim4",
          "Zwint",
          "Zyx",
          "Zzef1",
          "calp80",
          "hnRNP A2/B1",
          "mFLJ00022",
          "mKIAA0007",
          "mKIAA0569",
          "mKIAA0621",
          "mKIAA1027",
          "mKIAA1575",
          "mKIAA1994",
          "rp9",
          "slc43a2"
         ],
         "legendgroup": "",
         "marker": {
          "color": "#636efa",
          "symbol": "circle"
         },
         "mode": "markers",
         "name": "",
         "showlegend": false,
         "type": "scattergl",
         "x": {
          "bdata": "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",
          "dtype": "f4"
         },
         "xaxis": "x",
         "y": {
          "bdata": "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",
          "dtype": "f4"
         },
         "yaxis": "y"
        }
       ],
       "layout": {
        "height": 600,
        "legend": {
         "tracegroupgap": 0
        },
        "template": {
         "data": {
          "bar": [
           {
            "error_x": {
             "color": "#2a3f5f"
            },
            "error_y": {
             "color": "#2a3f5f"
            },
            "marker": {
             "line": {
              "color": "#E5ECF6",
              "width": 0.5
             },
             "pattern": {
              "fillmode": "overlay",
              "size": 10,
              "solidity": 0.2
             }
            },
            "type": "bar"
           }
          ],
          "barpolar": [
           {
            "marker": {
             "line": {
              "color": "#E5ECF6",
              "width": 0.5
             },
             "pattern": {
              "fillmode": "overlay",
              "size": 10,
              "solidity": 0.2
             }
            },
            "type": "barpolar"
           }
          ],
          "carpet": [
           {
            "aaxis": {
             "endlinecolor": "#2a3f5f",
             "gridcolor": "white",
             "linecolor": "white",
             "minorgridcolor": "white",
             "startlinecolor": "#2a3f5f"
            },
            "baxis": {
             "endlinecolor": "#2a3f5f",
             "gridcolor": "white",
             "linecolor": "white",
             "minorgridcolor": "white",
             "startlinecolor": "#2a3f5f"
            },
            "type": "carpet"
           }
          ],
          "choropleth": [
           {
            "colorbar": {
             "outlinewidth": 0,
             "ticks": ""
            },
            "type": "choropleth"
           }
          ],
          "contour": [
           {
            "colorbar": {
             "outlinewidth": 0,
             "ticks": ""
            },
            "colorscale": [
             [
              0,
              "#0d0887"
             ],
             [
              0.1111111111111111,
              "#46039f"
             ],
             [
              0.2222222222222222,
              "#7201a8"
             ],
             [
              0.3333333333333333,
              "#9c179e"
             ],
             [
              0.4444444444444444,
              "#bd3786"
             ],
             [
              0.5555555555555556,
              "#d8576b"
             ],
             [
              0.6666666666666666,
              "#ed7953"
             ],
             [
              0.7777777777777778,
              "#fb9f3a"
             ],
             [
              0.8888888888888888,
              "#fdca26"
             ],
             [
              1,
              "#f0f921"
             ]
            ],
            "type": "contour"
           }
          ],
          "contourcarpet": [
           {
            "colorbar": {
             "outlinewidth": 0,
             "ticks": ""
            },
            "type": "contourcarpet"
           }
          ],
          "heatmap": [
           {
            "colorbar": {
             "outlinewidth": 0,
             "ticks": ""
            },
            "colorscale": [
             [
              0,
              "#0d0887"
             ],
             [
              0.1111111111111111,
              "#46039f"
             ],
             [
              0.2222222222222222,
              "#7201a8"
             ],
             [
              0.3333333333333333,
              "#9c179e"
             ],
             [
              0.4444444444444444,
              "#bd3786"
             ],
             [
              0.5555555555555556,
              "#d8576b"
             ],
             [
              0.6666666666666666,
              "#ed7953"
             ],
             [
              0.7777777777777778,
              "#fb9f3a"
             ],
             [
              0.8888888888888888,
              "#fdca26"
             ],
             [
              1,
              "#f0f921"
             ]
            ],
            "type": "heatmap"
           }
          ],
          "histogram": [
           {
            "marker": {
             "pattern": {
              "fillmode": "overlay",
              "size": 10,
              "solidity": 0.2
             }
            },
            "type": "histogram"
           }
          ],
          "histogram2d": [
           {
            "colorbar": {
             "outlinewidth": 0,
             "ticks": ""
            },
            "colorscale": [
             [
              0,
              "#0d0887"
             ],
             [
              0.1111111111111111,
              "#46039f"
             ],
             [
              0.2222222222222222,
              "#7201a8"
             ],
             [
              0.3333333333333333,
              "#9c179e"
             ],
             [
              0.4444444444444444,
              "#bd3786"
             ],
             [
              0.5555555555555556,
              "#d8576b"
             ],
             [
              0.6666666666666666,
              "#ed7953"
             ],
             [
              0.7777777777777778,
              "#fb9f3a"
             ],
             [
              0.8888888888888888,
              "#fdca26"
             ],
             [
              1,
              "#f0f921"
             ]
            ],
            "type": "histogram2d"
           }
          ],
          "histogram2dcontour": [
           {
            "colorbar": {
             "outlinewidth": 0,
             "ticks": ""
            },
            "colorscale": [
             [
              0,
              "#0d0887"
             ],
             [
              0.1111111111111111,
              "#46039f"
             ],
             [
              0.2222222222222222,
              "#7201a8"
             ],
             [
              0.3333333333333333,
              "#9c179e"
             ],
             [
              0.4444444444444444,
              "#bd3786"
             ],
             [
              0.5555555555555556,
              "#d8576b"
             ],
             [
              0.6666666666666666,
              "#ed7953"
             ],
             [
              0.7777777777777778,
              "#fb9f3a"
             ],
             [
              0.8888888888888888,
              "#fdca26"
             ],
             [
              1,
              "#f0f921"
             ]
            ],
            "type": "histogram2dcontour"
           }
          ],
          "mesh3d": [
           {
            "colorbar": {
             "outlinewidth": 0,
             "ticks": ""
            },
            "type": "mesh3d"
           }
          ],
          "parcoords": [
           {
            "line": {
             "colorbar": {
              "outlinewidth": 0,
              "ticks": ""
             }
            },
            "type": "parcoords"
           }
          ],
          "pie": [
           {
            "automargin": true,
            "type": "pie"
           }
          ],
          "scatter": [
           {
            "fillpattern": {
             "fillmode": "overlay",
             "size": 10,
             "solidity": 0.2
            },
            "type": "scatter"
           }
          ],
          "scatter3d": [
           {
            "line": {
             "colorbar": {
              "outlinewidth": 0,
              "ticks": ""
             }
            },
            "marker": {
             "colorbar": {
              "outlinewidth": 0,
              "ticks": ""
             }
            },
            "type": "scatter3d"
           }
          ],
          "scattercarpet": [
           {
            "marker": {
             "colorbar": {
              "outlinewidth": 0,
              "ticks": ""
             }
            },
            "type": "scattercarpet"
           }
          ],
          "scattergeo": [
           {
            "marker": {
             "colorbar": {
              "outlinewidth": 0,
              "ticks": ""
             }
            },
            "type": "scattergeo"
           }
          ],
          "scattergl": [
           {
            "marker": {
             "colorbar": {
              "outlinewidth": 0,
              "ticks": ""
             }
            },
            "type": "scattergl"
           }
          ],
          "scattermap": [
           {
            "marker": {
             "colorbar": {
              "outlinewidth": 0,
              "ticks": ""
             }
            },
            "type": "scattermap"
           }
          ],
          "scattermapbox": [
           {
            "marker": {
             "colorbar": {
              "outlinewidth": 0,
              "ticks": ""
             }
            },
            "type": "scattermapbox"
           }
          ],
          "scatterpolar": [
           {
            "marker": {
             "colorbar": {
              "outlinewidth": 0,
              "ticks": ""
             }
            },
            "type": "scatterpolar"
           }
          ],
          "scatterpolargl": [
           {
            "marker": {
             "colorbar": {
              "outlinewidth": 0,
              "ticks": ""
             }
            },
            "type": "scatterpolargl"
           }
          ],
          "scatterternary": [
           {
            "marker": {
             "colorbar": {
              "outlinewidth": 0,
              "ticks": ""
             }
            },
            "type": "scatterternary"
           }
          ],
          "surface": [
           {
            "colorbar": {
             "outlinewidth": 0,
             "ticks": ""
            },
            "colorscale": [
             [
              0,
              "#0d0887"
             ],
             [
              0.1111111111111111,
              "#46039f"
             ],
             [
              0.2222222222222222,
              "#7201a8"
             ],
             [
              0.3333333333333333,
              "#9c179e"
             ],
             [
              0.4444444444444444,
              "#bd3786"
             ],
             [
              0.5555555555555556,
              "#d8576b"
             ],
             [
              0.6666666666666666,
              "#ed7953"
             ],
             [
              0.7777777777777778,
              "#fb9f3a"
             ],
             [
              0.8888888888888888,
              "#fdca26"
             ],
             [
              1,
              "#f0f921"
             ]
            ],
            "type": "surface"
           }
          ],
          "table": [
           {
            "cells": {
             "fill": {
              "color": "#EBF0F8"
             },
             "line": {
              "color": "white"
             }
            },
            "header": {
             "fill": {
              "color": "#C8D4E3"
             },
             "line": {
              "color": "white"
             }
            },
            "type": "table"
           }
          ]
         },
         "layout": {
          "annotationdefaults": {
           "arrowcolor": "#2a3f5f",
           "arrowhead": 0,
           "arrowwidth": 1
          },
          "autotypenumbers": "strict",
          "coloraxis": {
           "colorbar": {
            "outlinewidth": 0,
            "ticks": ""
           }
          },
          "colorscale": {
           "diverging": [
            [
             0,
             "#8e0152"
            ],
            [
             0.1,
             "#c51b7d"
            ],
            [
             0.2,
             "#de77ae"
            ],
            [
             0.3,
             "#f1b6da"
            ],
            [
             0.4,
             "#fde0ef"
            ],
            [
             0.5,
             "#f7f7f7"
            ],
            [
             0.6,
             "#e6f5d0"
            ],
            [
             0.7,
             "#b8e186"
            ],
            [
             0.8,
             "#7fbc41"
            ],
            [
             0.9,
             "#4d9221"
            ],
            [
             1,
             "#276419"
            ]
           ],
           "sequential": [
            [
             0,
             "#0d0887"
            ],
            [
             0.1111111111111111,
             "#46039f"
            ],
            [
             0.2222222222222222,
             "#7201a8"
            ],
            [
             0.3333333333333333,
             "#9c179e"
            ],
            [
             0.4444444444444444,
             "#bd3786"
            ],
            [
             0.5555555555555556,
             "#d8576b"
            ],
            [
             0.6666666666666666,
             "#ed7953"
            ],
            [
             0.7777777777777778,
             "#fb9f3a"
            ],
            [
             0.8888888888888888,
             "#fdca26"
            ],
            [
             1,
             "#f0f921"
            ]
           ],
           "sequentialminus": [
            [
             0,
             "#0d0887"
            ],
            [
             0.1111111111111111,
             "#46039f"
            ],
            [
             0.2222222222222222,
             "#7201a8"
            ],
            [
             0.3333333333333333,
             "#9c179e"
            ],
            [
             0.4444444444444444,
             "#bd3786"
            ],
            [
             0.5555555555555556,
             "#d8576b"
            ],
            [
             0.6666666666666666,
             "#ed7953"
            ],
            [
             0.7777777777777778,
             "#fb9f3a"
            ],
            [
             0.8888888888888888,
             "#fdca26"
            ],
            [
             1,
             "#f0f921"
            ]
           ]
          },
          "colorway": [
           "#636efa",
           "#EF553B",
           "#00cc96",
           "#ab63fa",
           "#FFA15A",
           "#19d3f3",
           "#FF6692",
           "#B6E880",
           "#FF97FF",
           "#FECB52"
          ],
          "font": {
           "color": "#2a3f5f"
          },
          "geo": {
           "bgcolor": "white",
           "lakecolor": "white",
           "landcolor": "#E5ECF6",
           "showlakes": true,
           "showland": true,
           "subunitcolor": "white"
          },
          "hoverlabel": {
           "align": "left"
          },
          "hovermode": "closest",
          "mapbox": {
           "style": "light"
          },
          "paper_bgcolor": "white",
          "plot_bgcolor": "#E5ECF6",
          "polar": {
           "angularaxis": {
            "gridcolor": "white",
            "linecolor": "white",
            "ticks": ""
           },
           "bgcolor": "#E5ECF6",
           "radialaxis": {
            "gridcolor": "white",
            "linecolor": "white",
            "ticks": ""
           }
          },
          "scene": {
           "xaxis": {
            "backgroundcolor": "#E5ECF6",
            "gridcolor": "white",
            "gridwidth": 2,
            "linecolor": "white",
            "showbackground": true,
            "ticks": "",
            "zerolinecolor": "white"
           },
           "yaxis": {
            "backgroundcolor": "#E5ECF6",
            "gridcolor": "white",
            "gridwidth": 2,
            "linecolor": "white",
            "showbackground": true,
            "ticks": "",
            "zerolinecolor": "white"
           },
           "zaxis": {
            "backgroundcolor": "#E5ECF6",
            "gridcolor": "white",
            "gridwidth": 2,
            "linecolor": "white",
            "showbackground": true,
            "ticks": "",
            "zerolinecolor": "white"
           }
          },
          "shapedefaults": {
           "line": {
            "color": "#2a3f5f"
           }
          },
          "ternary": {
           "aaxis": {
            "gridcolor": "white",
            "linecolor": "white",
            "ticks": ""
           },
           "baxis": {
            "gridcolor": "white",
            "linecolor": "white",
            "ticks": ""
           },
           "bgcolor": "#E5ECF6",
           "caxis": {
            "gridcolor": "white",
            "linecolor": "white",
            "ticks": ""
           }
          },
          "title": {
           "x": 0.05
          },
          "xaxis": {
           "automargin": true,
           "gridcolor": "white",
           "linecolor": "white",
           "ticks": "",
           "title": {
            "standoff": 15
           },
           "zerolinecolor": "white",
           "zerolinewidth": 2
          },
          "yaxis": {
           "automargin": true,
           "gridcolor": "white",
           "linecolor": "white",
           "ticks": "",
           "title": {
            "standoff": 15
           },
           "zerolinecolor": "white",
           "zerolinewidth": 2
          }
         }
        },
        "title": {
         "text": "Differentiated vs Undifferentiated Components (genes)"
        },
        "width": 600,
        "xaxis": {
         "anchor": "y",
         "domain": [
          0,
          1
         ],
         "title": {
          "text": "Differentiated Component"
         }
        },
        "yaxis": {
         "anchor": "x",
         "domain": [
          0,
          1
         ],
         "title": {
          "text": "Undifferentiated Component"
         }
        }
       }
      }
     },
     "metadata": {},
     "output_type": "display_data"
    }
   ],
   "source": [
    "px.scatter(\n",
    "    x=genes_diff,\n",
    "    y=genes_undiff,\n",
    "    title=\"Differentiated vs Undifferentiated Components (genes)\",\n",
    "    labels={\"x\": \"Differentiated Component\", \"y\": \"Undifferentiated Component\"},\n",
    "    hover_name=adata.var_names,\n",
    "    width=600,\n",
    "    height=600,\n",
    ")"
   ]
  },
  {
   "cell_type": "markdown",
   "id": "13186c2b",
   "metadata": {},
   "source": [
    "Looks like basically no correlation. Why?\n",
    "\n",
    "Oh but it looks like a polytope:\n",
    "- Differentiated component separates the two lineage branches.\n",
    "- Undifferentiated components separates un/differentiated cells.\n",
    "\n",
    "**So when we select a subset of the output directions, the component space describes how to distinguish between them.**"
   ]
  },
  {
   "cell_type": "markdown",
   "id": "512222dc",
   "metadata": {},
   "source": [
    "### Cell space"
   ]
  },
  {
   "cell_type": "code",
   "execution_count": 27,
   "id": "ca0fda68",
   "metadata": {},
   "outputs": [],
   "source": [
    "cells_diff = adata.X @ genes_diff.numpy()\n",
    "cells_undiff = adata.X @ genes_undiff.numpy()"
   ]
  },
  {
   "cell_type": "code",
   "execution_count": 28,
   "id": "006c0f50",
   "metadata": {},
   "outputs": [
    {
     "data": {
      "application/vnd.plotly.v1+json": {
       "config": {
        "plotlyServerURL": "https://plot.ly"
       },
       "data": [
        {
         "hovertemplate": "color=0<br>Differentiated Component=%{x}<br>Undifferentiated Component=%{y}<extra></extra>",
         "legendgroup": "0",
         "marker": {
          "color": "#636efa",
          "symbol": "circle"
         },
         "mode": "markers",
         "name": "0",
         "showlegend": true,
         "type": "scattergl",
         "x": {
          "bdata": "DPhxPkjNAcDYhq5AVGoTvrSz7D++btFAsVZRP8a/5D9YG5ZAzFrdQLbtkECyQzlA+OxKQD/nu0BSp7VAzy+yP+aM6T+zw99ASIl6QOf1lMDzFz1AQLH8v4I3i77kynNAKXowwFKsE79osddAslolwGbklEAA+MQ8AKAaQM6vG77ZMwFBSw5oQDG2xUDG/uQ+vobwQIkbYkDvxF9AL2Q2wJDrpj8ELxZA8lvZPnRtA0CGDZW/WMPqP2CdfUAKG+lAsNQJQM3HoEAnQU1AyjJiP5sU9r/mFKRAA3m3vzm/bUAuDFrA2tA/v7Cq7D/rvt9AzobSQF4A4UC87u4/1JOsQDYXikDsjXdAXhU3QH4Coj4ySHZAQEuVQEGHjUA6c2rAsDuFQJogID42HcNAUdvFP5iOo0DAk9e/GF55QAIRu0A9cahA2EUHv/mUg0Bx8mRA5c0VP2YOJsDwxQPAMh2SQIhp6b/QmZo9bBCuQFijS0DweZI9xjn4vxQfxUAzkbJASDSWP1JkWUBclfxARqFhQMidmkB0BWRAv+lOQAU3CEAufn+/XTyVQBjqrr+90mZACnDhv7g3+D5MbDRA+D+FQFAjeUBZzg7A0tPBP8AhrL4wrtw/Ax6dQIDOwkAH6bE/EUTBQB4jzz7ZOe1AHLJDQOYPMz/XD6JAhVrGP2I86j5edo2+uZEHQP4RE0Akll9ApsQPQHXnHEAXN4JAuQ/aP85zIr8+dvY/nSKzQNZewkBMF9a+0HImwCIYe0AXqo5APg4BQD6TiUAUQJW/6QP3QLiRlT8I1Te+IgjxQPhuS8DvbYlAaMtqQPQGQ0B+KL1A5G9JQBXCLkAjXxrAIA9awCDPxECexY1ARruEQDbxKUBMM4hAXJoEQeiTP0BorMY+DeyJv1bgzkC/DsFArgYKQFdmhEAsWq9A2J5bwBUUpj5N8qNAvIvWP1BdnkBMJpBAQS/QQFlan0CIIbtAyYK0QCFYkkCyRb5AzhhcwCiyuUBIrRtAsIJsQOzMDD6SgYU/D3YNwPZNlkB8ZI1ADk1CQLbvLD8t2Qw/dok2QDnOV0AU1xw+3pxDQJN0ib+AT61A4Cy6PWXABsCyAgi+MhgvP7FMqEDKuQm/zjLwQB6TRD/5P6ZAZrMfwEGFzD+dLWE/FNysPUhbtUC8OrQ9zsjKQCKVhj/IhTlAush3voXgVD8r5QZAdIGPv1IaikCiHZpAekK2PuKdmkAjoI1AlB9MQKOd7j+Rw4NAiLaQQF80AUBkOwfAjM2jQKWRBUB8KpC9xKYFwPZgukAkc6/AlsCwPjBekr9sgoFA8iKLQBDPTD2k4ZC/PjSjv7el3z+lLqm+FYbRPvSGgD6k0R2/LoauQLKWmj/+c7lAfsrovrPVZEBnv8W/Y2oTQIWwUcAEnWRA5cmcPm+TbcDFDrBAYHrHwEuK2L8ozYA/TgvJQAy8g0CIWJZAdq/YP/irmkBvSUY+7QdiwMy5M0CS0Gw/6piSwJ5RyD9+WDu/55KVP0CWF74I+5ZAYi6xPqAxAT4KLplA7IwaQcofncDRGM9AnFKYPirg4T/h/pBAgNKsPCYXxD4W0plAQXiAQDfNAECTNkXAS38kP2wKvT/cx4RAKrJsv4fsWEDS8Kq+anO4QFzi1j9P6cQ/axHMQI5VnkBgMkfAZdeGQCADFb3O8ve/5/hwP4zb6b/OS9BA4h5dvgAIh8BqnPC/QK2KwNKXiUD25Mw/fuA9wODSfr5kPJ1A/qbTQIQlJj+HlZZAeFRvQArQNUAaaio/jAjmQMjT3z+s7o3A0AIKv8ayvz9AuVE/vFVRQF+QrL4jdBdA831gPxammUA+yp0/3veQQG4XN8B8yJBATrcRwMyq4D6LrYtAGDwyQGUdI7607uk/GZv7PzYRCsDINJhAYE/UP37VjUCo7CRABZVjwHPEcUA14JJA4zGVQHCEgcBV4pc/+i6YQNrMKb/LD6lAIHf2vAZ9AkFCjIO/OFuoQHhM/sAp+SzAZ3FyQH8TWL9+EAPAbs4kwEG3lUBi77ZAqLYvQGiI+r+DO8tANgaAQIO5Oj+K4HvAFu9NQCobBj5Tt4VAFsCyQMOREsDfuNu//JMPvzJ7776FNy9AkLtvwD8ZyEBPZZBAErGUQCxLUEDO8ilAiHkZwMbmI0A08xo/s4ueP1v4hcDKKKpAHFcjP0wRKED235JAgtEMwJXEsT54/shAs9CnP1mfZEAJBOO/5dWIQMbjMcDEGUe+oMXrPqG6bz8+kaI/SMfDvuQFnEAKiXPAwBn3v8dsgr+SOHdAB8mXQBRDZcDgeRJAAnSCvrUyeMCAaEVA2gqeQC0ulr/RBoFAxJMWvtEO5z7AL0+9rxyEQKIiukAiCiNBgGyBQCAZlUA6lcdAqFYoQI2DfkCqClc/1ZVXQANccL9xKy4/+hbOP8i69L68mmLA6DkDv2wrwj/Ygbw+IotZQHJ7d0C3iGm/pWKFP3ApskCOLeo/eQq5QDzJnEACVKw/2d6+P7YfnEBKC1RAtCRLwIwQqEDFDkbAXZcYwDxZ/UBnk76/svCVQJBei0Crr2lA1m9CvmccQkAefQg/utiBQJ2MtEAXRCZAsCGMP4PYWb81jre/bFKoQJ76IEAegGTAcFsSQO4+zj/meKZAaAf3P4uypECshLO+CgaHwARpij1EXYlAhimNQJuVjUB0KB4+Ury5P4ggSUAsVbVAd2XCQDGEf0AH64+/GjI+QO7yRkCgarc/8pyuQH19N7/Muic+GaCwv7xPjb8IBCBA33BTP0LeXECYqBbADCcJwEzlrEC5q6LAjqdcwJjQpEBuNcI/RjPGvyP6n0De360/jpW3QGCLjkCsTL0/AFRTQF3iC8BgP6lAcAYiQHG3vEDjJZQ/3rowwJOjnb98/3g/sxgfQFchjUDrknVAsp+OQEcnQz+tW15AdN1wQBjX3T8dksRAfPLWP9QfQUC6nyw/3Eh5v8C8KT+J/zTAgxMxQJ5kccDbHsQ/pH2mQAi6uEA8OnZAR9InQDoBiMAP6yPA6G5dPzKDokD20JlAB7ugQIo01UDGYtxA/VREP/ZlZUBgLLJAdoIrQGykpb/i1fs/tSYVwMxzpkAfeIK/v3KBQLB/2j8VZeo/JAF1QEOkyEDQWozAQubDQBT7lj77QRi/WEUDQN7RcUCQzN6/Kt2Nv0CvpEAKcJO/TjNNQNUpBMDMWPA/XBjKvwQirUBm6TXAUKyuQMlDb0Cvtdi/F84BP+AJtr+lBGq/RnEaP1ISjj/tZUBAU9+oQIv4RUA80alAzgCDP36qFcCClZo/VCORQCMitUDszYZAensMv/Jk7L+eDii/5BeWQH1FLL9IAYNAY6SKv3Bj2D+o28o/oqNCQCWM1j8CpYVADd6CQBAZHj3BCxNAfCcNv04mIkBkeAe/fB7ZPxct/b+CCNS/4fHrP8Bfk7+Vg52/x6WGQM4XFEAm8kBAZeWvP0z0jECKLG/AViSyQGABDMBYL4tA0Gu7v1Mf9D+KH6u/HRb0P2BU2b/ptcJAYebZPo7d5kAF7rdA6D4ewGbaLUCv0G1A/xl+P6cwK0BTaClA1xsqQJzA/T9tGQNAAp+qQIz4FMB+oNq9JmY0PwXtnz88R51AzqDQQJ44TT88cCy/QM47wLJCh0AOC5RA8v3iP8YXl0CMGU5AlopDQHBJlED+8AzA/JA3wOD/EUCeM1BAbkFHwMBbz0Dwn3A9iYLNP/58P7+7uXdAIZiDPw==",
          "dtype": "f4"
         },
         "xaxis": "x",
         "y": {
          "bdata": "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",
          "dtype": "f4"
         },
         "yaxis": "y"
        },
        {
         "hovertemplate": "color=2<br>Differentiated Component=%{x}<br>Undifferentiated Component=%{y}<extra></extra>",
         "legendgroup": "2",
         "marker": {
          "color": "#EF553B",
          "symbol": "circle"
         },
         "mode": "markers",
         "name": "2",
         "showlegend": true,
         "type": "scattergl",
         "x": {
          "bdata": "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",
          "dtype": "f4"
         },
         "xaxis": "x",
         "y": {
          "bdata": "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",
          "dtype": "f4"
         },
         "yaxis": "y"
        },
        {
         "hovertemplate": "color=1<br>Differentiated Component=%{x}<br>Undifferentiated Component=%{y}<extra></extra>",
         "legendgroup": "1",
         "marker": {
          "color": "#00cc96",
          "symbol": "circle"
         },
         "mode": "markers",
         "name": "1",
         "showlegend": true,
         "type": "scattergl",
         "x": {
          "bdata": "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",
          "dtype": "f4"
         },
         "xaxis": "x",
         "y": {
          "bdata": "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",
          "dtype": "f4"
         },
         "yaxis": "y"
        }
       ],
       "layout": {
        "height": 600,
        "legend": {
         "title": {
          "text": "color"
         },
         "tracegroupgap": 0
        },
        "template": {
         "data": {
          "bar": [
           {
            "error_x": {
             "color": "#2a3f5f"
            },
            "error_y": {
             "color": "#2a3f5f"
            },
            "marker": {
             "line": {
              "color": "#E5ECF6",
              "width": 0.5
             },
             "pattern": {
              "fillmode": "overlay",
              "size": 10,
              "solidity": 0.2
             }
            },
            "type": "bar"
           }
          ],
          "barpolar": [
           {
            "marker": {
             "line": {
              "color": "#E5ECF6",
              "width": 0.5
             },
             "pattern": {
              "fillmode": "overlay",
              "size": 10,
              "solidity": 0.2
             }
            },
            "type": "barpolar"
           }
          ],
          "carpet": [
           {
            "aaxis": {
             "endlinecolor": "#2a3f5f",
             "gridcolor": "white",
             "linecolor": "white",
             "minorgridcolor": "white",
             "startlinecolor": "#2a3f5f"
            },
            "baxis": {
             "endlinecolor": "#2a3f5f",
             "gridcolor": "white",
             "linecolor": "white",
             "minorgridcolor": "white",
             "startlinecolor": "#2a3f5f"
            },
            "type": "carpet"
           }
          ],
          "choropleth": [
           {
            "colorbar": {
             "outlinewidth": 0,
             "ticks": ""
            },
            "type": "choropleth"
           }
          ],
          "contour": [
           {
            "colorbar": {
             "outlinewidth": 0,
             "ticks": ""
            },
            "colorscale": [
             [
              0,
              "#0d0887"
             ],
             [
              0.1111111111111111,
              "#46039f"
             ],
             [
              0.2222222222222222,
              "#7201a8"
             ],
             [
              0.3333333333333333,
              "#9c179e"
             ],
             [
              0.4444444444444444,
              "#bd3786"
             ],
             [
              0.5555555555555556,
              "#d8576b"
             ],
             [
              0.6666666666666666,
              "#ed7953"
             ],
             [
              0.7777777777777778,
              "#fb9f3a"
             ],
             [
              0.8888888888888888,
              "#fdca26"
             ],
             [
              1,
              "#f0f921"
             ]
            ],
            "type": "contour"
           }
          ],
          "contourcarpet": [
           {
            "colorbar": {
             "outlinewidth": 0,
             "ticks": ""
            },
            "type": "contourcarpet"
           }
          ],
          "heatmap": [
           {
            "colorbar": {
             "outlinewidth": 0,
             "ticks": ""
            },
            "colorscale": [
             [
              0,
              "#0d0887"
             ],
             [
              0.1111111111111111,
              "#46039f"
             ],
             [
              0.2222222222222222,
              "#7201a8"
             ],
             [
              0.3333333333333333,
              "#9c179e"
             ],
             [
              0.4444444444444444,
              "#bd3786"
             ],
             [
              0.5555555555555556,
              "#d8576b"
             ],
             [
              0.6666666666666666,
              "#ed7953"
             ],
             [
              0.7777777777777778,
              "#fb9f3a"
             ],
             [
              0.8888888888888888,
              "#fdca26"
             ],
             [
              1,
              "#f0f921"
             ]
            ],
            "type": "heatmap"
           }
          ],
          "histogram": [
           {
            "marker": {
             "pattern": {
              "fillmode": "overlay",
              "size": 10,
              "solidity": 0.2
             }
            },
            "type": "histogram"
           }
          ],
          "histogram2d": [
           {
            "colorbar": {
             "outlinewidth": 0,
             "ticks": ""
            },
            "colorscale": [
             [
              0,
              "#0d0887"
             ],
             [
              0.1111111111111111,
              "#46039f"
             ],
             [
              0.2222222222222222,
              "#7201a8"
             ],
             [
              0.3333333333333333,
              "#9c179e"
             ],
             [
              0.4444444444444444,
              "#bd3786"
             ],
             [
              0.5555555555555556,
              "#d8576b"
             ],
             [
              0.6666666666666666,
              "#ed7953"
             ],
             [
              0.7777777777777778,
              "#fb9f3a"
             ],
             [
              0.8888888888888888,
              "#fdca26"
             ],
             [
              1,
              "#f0f921"
             ]
            ],
            "type": "histogram2d"
           }
          ],
          "histogram2dcontour": [
           {
            "colorbar": {
             "outlinewidth": 0,
             "ticks": ""
            },
            "colorscale": [
             [
              0,
              "#0d0887"
             ],
             [
              0.1111111111111111,
              "#46039f"
             ],
             [
              0.2222222222222222,
              "#7201a8"
             ],
             [
              0.3333333333333333,
              "#9c179e"
             ],
             [
              0.4444444444444444,
              "#bd3786"
             ],
             [
              0.5555555555555556,
              "#d8576b"
             ],
             [
              0.6666666666666666,
              "#ed7953"
             ],
             [
              0.7777777777777778,
              "#fb9f3a"
             ],
             [
              0.8888888888888888,
              "#fdca26"
             ],
             [
              1,
              "#f0f921"
             ]
            ],
            "type": "histogram2dcontour"
           }
          ],
          "mesh3d": [
           {
            "colorbar": {
             "outlinewidth": 0,
             "ticks": ""
            },
            "type": "mesh3d"
           }
          ],
          "parcoords": [
           {
            "line": {
             "colorbar": {
              "outlinewidth": 0,
              "ticks": ""
             }
            },
            "type": "parcoords"
           }
          ],
          "pie": [
           {
            "automargin": true,
            "type": "pie"
           }
          ],
          "scatter": [
           {
            "fillpattern": {
             "fillmode": "overlay",
             "size": 10,
             "solidity": 0.2
            },
            "type": "scatter"
           }
          ],
          "scatter3d": [
           {
            "line": {
             "colorbar": {
              "outlinewidth": 0,
              "ticks": ""
             }
            },
            "marker": {
             "colorbar": {
              "outlinewidth": 0,
              "ticks": ""
             }
            },
            "type": "scatter3d"
           }
          ],
          "scattercarpet": [
           {
            "marker": {
             "colorbar": {
              "outlinewidth": 0,
              "ticks": ""
             }
            },
            "type": "scattercarpet"
           }
          ],
          "scattergeo": [
           {
            "marker": {
             "colorbar": {
              "outlinewidth": 0,
              "ticks": ""
             }
            },
            "type": "scattergeo"
           }
          ],
          "scattergl": [
           {
            "marker": {
             "colorbar": {
              "outlinewidth": 0,
              "ticks": ""
             }
            },
            "type": "scattergl"
           }
          ],
          "scattermap": [
           {
            "marker": {
             "colorbar": {
              "outlinewidth": 0,
              "ticks": ""
             }
            },
            "type": "scattermap"
           }
          ],
          "scattermapbox": [
           {
            "marker": {
             "colorbar": {
              "outlinewidth": 0,
              "ticks": ""
             }
            },
            "type": "scattermapbox"
           }
          ],
          "scatterpolar": [
           {
            "marker": {
             "colorbar": {
              "outlinewidth": 0,
              "ticks": ""
             }
            },
            "type": "scatterpolar"
           }
          ],
          "scatterpolargl": [
           {
            "marker": {
             "colorbar": {
              "outlinewidth": 0,
              "ticks": ""
             }
            },
            "type": "scatterpolargl"
           }
          ],
          "scatterternary": [
           {
            "marker": {
             "colorbar": {
              "outlinewidth": 0,
              "ticks": ""
             }
            },
            "type": "scatterternary"
           }
          ],
          "surface": [
           {
            "colorbar": {
             "outlinewidth": 0,
             "ticks": ""
            },
            "colorscale": [
             [
              0,
              "#0d0887"
             ],
             [
              0.1111111111111111,
              "#46039f"
             ],
             [
              0.2222222222222222,
              "#7201a8"
             ],
             [
              0.3333333333333333,
              "#9c179e"
             ],
             [
              0.4444444444444444,
              "#bd3786"
             ],
             [
              0.5555555555555556,
              "#d8576b"
             ],
             [
              0.6666666666666666,
              "#ed7953"
             ],
             [
              0.7777777777777778,
              "#fb9f3a"
             ],
             [
              0.8888888888888888,
              "#fdca26"
             ],
             [
              1,
              "#f0f921"
             ]
            ],
            "type": "surface"
           }
          ],
          "table": [
           {
            "cells": {
             "fill": {
              "color": "#EBF0F8"
             },
             "line": {
              "color": "white"
             }
            },
            "header": {
             "fill": {
              "color": "#C8D4E3"
             },
             "line": {
              "color": "white"
             }
            },
            "type": "table"
           }
          ]
         },
         "layout": {
          "annotationdefaults": {
           "arrowcolor": "#2a3f5f",
           "arrowhead": 0,
           "arrowwidth": 1
          },
          "autotypenumbers": "strict",
          "coloraxis": {
           "colorbar": {
            "outlinewidth": 0,
            "ticks": ""
           }
          },
          "colorscale": {
           "diverging": [
            [
             0,
             "#8e0152"
            ],
            [
             0.1,
             "#c51b7d"
            ],
            [
             0.2,
             "#de77ae"
            ],
            [
             0.3,
             "#f1b6da"
            ],
            [
             0.4,
             "#fde0ef"
            ],
            [
             0.5,
             "#f7f7f7"
            ],
            [
             0.6,
             "#e6f5d0"
            ],
            [
             0.7,
             "#b8e186"
            ],
            [
             0.8,
             "#7fbc41"
            ],
            [
             0.9,
             "#4d9221"
            ],
            [
             1,
             "#276419"
            ]
           ],
           "sequential": [
            [
             0,
             "#0d0887"
            ],
            [
             0.1111111111111111,
             "#46039f"
            ],
            [
             0.2222222222222222,
             "#7201a8"
            ],
            [
             0.3333333333333333,
             "#9c179e"
            ],
            [
             0.4444444444444444,
             "#bd3786"
            ],
            [
             0.5555555555555556,
             "#d8576b"
            ],
            [
             0.6666666666666666,
             "#ed7953"
            ],
            [
             0.7777777777777778,
             "#fb9f3a"
            ],
            [
             0.8888888888888888,
             "#fdca26"
            ],
            [
             1,
             "#f0f921"
            ]
           ],
           "sequentialminus": [
            [
             0,
             "#0d0887"
            ],
            [
             0.1111111111111111,
             "#46039f"
            ],
            [
             0.2222222222222222,
             "#7201a8"
            ],
            [
             0.3333333333333333,
             "#9c179e"
            ],
            [
             0.4444444444444444,
             "#bd3786"
            ],
            [
             0.5555555555555556,
             "#d8576b"
            ],
            [
             0.6666666666666666,
             "#ed7953"
            ],
            [
             0.7777777777777778,
             "#fb9f3a"
            ],
            [
             0.8888888888888888,
             "#fdca26"
            ],
            [
             1,
             "#f0f921"
            ]
           ]
          },
          "colorway": [
           "#636efa",
           "#EF553B",
           "#00cc96",
           "#ab63fa",
           "#FFA15A",
           "#19d3f3",
           "#FF6692",
           "#B6E880",
           "#FF97FF",
           "#FECB52"
          ],
          "font": {
           "color": "#2a3f5f"
          },
          "geo": {
           "bgcolor": "white",
           "lakecolor": "white",
           "landcolor": "#E5ECF6",
           "showlakes": true,
           "showland": true,
           "subunitcolor": "white"
          },
          "hoverlabel": {
           "align": "left"
          },
          "hovermode": "closest",
          "mapbox": {
           "style": "light"
          },
          "paper_bgcolor": "white",
          "plot_bgcolor": "#E5ECF6",
          "polar": {
           "angularaxis": {
            "gridcolor": "white",
            "linecolor": "white",
            "ticks": ""
           },
           "bgcolor": "#E5ECF6",
           "radialaxis": {
            "gridcolor": "white",
            "linecolor": "white",
            "ticks": ""
           }
          },
          "scene": {
           "xaxis": {
            "backgroundcolor": "#E5ECF6",
            "gridcolor": "white",
            "gridwidth": 2,
            "linecolor": "white",
            "showbackground": true,
            "ticks": "",
            "zerolinecolor": "white"
           },
           "yaxis": {
            "backgroundcolor": "#E5ECF6",
            "gridcolor": "white",
            "gridwidth": 2,
            "linecolor": "white",
            "showbackground": true,
            "ticks": "",
            "zerolinecolor": "white"
           },
           "zaxis": {
            "backgroundcolor": "#E5ECF6",
            "gridcolor": "white",
            "gridwidth": 2,
            "linecolor": "white",
            "showbackground": true,
            "ticks": "",
            "zerolinecolor": "white"
           }
          },
          "shapedefaults": {
           "line": {
            "color": "#2a3f5f"
           }
          },
          "ternary": {
           "aaxis": {
            "gridcolor": "white",
            "linecolor": "white",
            "ticks": ""
           },
           "baxis": {
            "gridcolor": "white",
            "linecolor": "white",
            "ticks": ""
           },
           "bgcolor": "#E5ECF6",
           "caxis": {
            "gridcolor": "white",
            "linecolor": "white",
            "ticks": ""
           }
          },
          "title": {
           "x": 0.05
          },
          "xaxis": {
           "automargin": true,
           "gridcolor": "white",
           "linecolor": "white",
           "ticks": "",
           "title": {
            "standoff": 15
           },
           "zerolinecolor": "white",
           "zerolinewidth": 2
          },
          "yaxis": {
           "automargin": true,
           "gridcolor": "white",
           "linecolor": "white",
           "ticks": "",
           "title": {
            "standoff": 15
           },
           "zerolinecolor": "white",
           "zerolinewidth": 2
          }
         }
        },
        "title": {
         "text": "Differentiated vs Undifferentiated Components (cells)"
        },
        "width": 600,
        "xaxis": {
         "anchor": "y",
         "domain": [
          0,
          1
         ],
         "title": {
          "text": "Differentiated Component"
         }
        },
        "yaxis": {
         "anchor": "x",
         "domain": [
          0,
          1
         ],
         "title": {
          "text": "Undifferentiated Component"
         }
        }
       }
      }
     },
     "metadata": {},
     "output_type": "display_data"
    }
   ],
   "source": [
    "px.scatter(\n",
    "    x=cells_diff,\n",
    "    y=cells_undiff,\n",
    "    color=adata.obs[\"cell_type\"],\n",
    "    title=\"Differentiated vs Undifferentiated Components (cells)\",\n",
    "    labels={\"x\": \"Differentiated Component\", \"y\": \"Undifferentiated Component\"},\n",
    "    width=600,\n",
    "    height=600,\n",
    ")"
   ]
  },
  {
   "cell_type": "markdown",
   "id": "3839bea7",
   "metadata": {},
   "source": [
    "Hm, so maybe the training labels are leaking PC info in here.\n",
    "- Above result could be more trivial than I'd like."
   ]
  },
  {
   "cell_type": "markdown",
   "id": "8eec7f9c",
   "metadata": {},
   "source": [
    "# Contrastive directions"
   ]
  },
  {
   "cell_type": "code",
   "execution_count": 31,
   "id": "66738272",
   "metadata": {},
   "outputs": [],
   "source": [
    "output_dir = torch.tensor([1.,0.,0.])\n",
    "q = einops.einsum(output_dir, b, \"out, out in1 in2 -> in1 in2\")\n",
    "_, vecs = torch.linalg.eigh(q)\n",
    "genes_zero = vecs[:,-1]\n",
    "\n",
    "output_dir = torch.tensor([1.,-1.,-1.])  # negate other directions\n",
    "q = einops.einsum(output_dir, b, \"out, out in1 in2 -> in1 in2\")\n",
    "_, vecs = torch.linalg.eigh(q)\n",
    "genes_negative = vecs[:,-1]"
   ]
  },
  {
   "cell_type": "code",
   "execution_count": 32,
   "id": "d9950b7c",
   "metadata": {},
   "outputs": [
    {
     "data": {
      "application/vnd.plotly.v1+json": {
       "config": {
        "plotlyServerURL": "https://plot.ly"
       },
       "data": [
        {
         "hovertemplate": "<b>%{hovertext}</b><br><br>Without negating=%{x}<br>With negating=%{y}<extra></extra>",
         "hovertext": [
          "0610007L01Rik",
          "0610009O20Rik",
          "0610010K14Rik",
          "0910001L09Rik",
          "1100001G20Rik",
          "1110002B05Rik",
          "1110004E09Rik",
          "1110007A13Rik",
          "1110007C09Rik",
          "1110013L07Rik",
          "1110020G09Rik",
          "1110034G24Rik",
          "1110038B12Rik",
          "1110049F12Rik",
          "1110059E24Rik",
          "1190002H23Rik",
          "1190007F08Rik",
          "1200002N14Rik",
          "1300001I01Rik",
          "1300017J02Rik",
          "1500001M20Rik",
          "1500012F01Rik",
          "1500032L24Rik",
          "1600014C10Rik",
          "1700001L05Rik",
          "1700012B09Rik",
          "1700017B05Rik",
          "1700020L24Rik",
          "1810009A15Rik",
          "1810011H11Rik",
          "1810027O10Rik",
          "1810030N24Rik",
          "1810031K17Rik",
          "1810033B17Rik",
          "1810037I17Rik",
          "2010002N04Rik",
          "2010011I20Rik",
          "2010106G01Rik",
          "2210016F16Rik",
          "2210020M01Rik",
          "2210023G05Rik",
          "2210404O07Rik",
          "2210411K11Rik",
          "2310003C23Rik",
          "2310003F16Rik",
          "2310005E10Rik",
          "2310014H01Rik",
          "2310022B05Rik",
          "2310028O11Rik",
          "2410006H16Rik",
          "2510002D24Rik",
          "2510003E04Rik",
          "2610018G03Rik",
          "2610024G14Rik",
          "2610029G23Rik",
          "2610029I01Rik",
          "2610035D17Rik",
          "2610101N10Rik",
          "2700094K13Rik",
          "2810004N23Rik",
          "2810417H13Rik",
          "2810474O19Rik",
          "2900010J23Rik",
          "2900010M23Rik",
          "2900026A02Rik",
          "2900073G15Rik",
          "3110003A17Rik",
          "3110056O03Rik",
          "4632415L05Rik",
          "4632428N05Rik",
          "4930473A06Rik",
          "4930486L24Rik",
          "4930503E24Rik",
          "4930534B04Rik",
          "4931406C07Rik",
          "5033406O09Rik",
          "5430435G22Rik",
          "5730469M10Rik",
          "5730508B09Rik",
          "5730528L13Rik",
          "5830405N20Rik",
          "5830432E09Rik",
          "6030458C11Rik",
          "6330416G13Rik",
          "6330503K22Rik",
          "6720456B07Rik",
          "8430419L09Rik",
          "8430427H17Rik",
          "9030617O03Rik",
          "9130206I24Rik",
          "9130208E07Rik",
          "9230105E10Rik",
          "9530068E07Rik",
          "9530077C05Rik",
          "9630033F20Rik",
          "9830001H06Rik",
          "A030009H04Rik",
          "A930001N09Rik",
          "AA987161",
          "AB124611",
          "AI467606",
          "AI504432",
          "AI848100",
          "AK003943",
          "AK004850",
          "AK005678",
          "AK005967",
          "AK011885",
          "AK012007",
          "AK015096",
          "AK019114",
          "AK020398",
          "AK028012",
          "AK031079",
          "AK031561",
          "AK032662",
          "AK040705",
          "AK041647",
          "AK042041",
          "AK042223",
          "AK046417",
          "AK051928",
          "AK052414",
          "AK052812",
          "AK053193",
          "AK076954",
          "AK079675",
          "AK080025",
          "AK080350",
          "AK081788",
          "AK081796",
          "AK084646",
          "AK085695",
          "AK087942",
          "AK089379",
          "AK142847",
          "AK144329",
          "AK146183",
          "AK150559",
          "AK152437",
          "AK153212",
          "AK153427",
          "AK153575",
          "AK154077",
          "AK158095",
          "AK163149",
          "AK164126",
          "AK169831",
          "AK172428",
          "AK182549",
          "AK185715",
          "AK188353",
          "AK189633",
          "AK197603",
          "AK202301",
          "AK210533",
          "AK211593",
          "AK217941",
          "AKAP95",
          "Aak1",
          "Abca3",
          "Abcb10",
          "Abcb1b",
          "Abcb4",
          "Abcb6",
          "Abcb9",
          "Abcc4",
          "Abcd1",
          "Abcd2",
          "Abce1",
          "Abcf1",
          "Abcg1",
          "Abcg2",
          "Abcg4",
          "Abhd14b",
          "Abhd15",
          "Abhd16a",
          "Abi2",
          "Ablim1",
          "Abr",
          "Abtb2",
          "Acadl",
          "Ache",
          "Acin1",
          "Aco1",
          "Acot1",
          "Acot13",
          "Acot7",
          "Acot9",
          "Acox3",
          "Acpl2",
          "Acsl1",
          "Acsl5",
          "Acsl6",
          "Acss1",
          "Acss2",
          "Actb",
          "Actl6a",
          "Actn1",
          "Actr2",
          "Actr3",
          "Acyp1",
          "Ada",
          "Adam15",
          "Adamts10",
          "Adamts3",
          "Adap1",
          "Adat3",
          "Adcy6",
          "Add1",
          "Add2",
          "Add3",
          "Adh5",
          "Adipor2",
          "Adk",
          "Adrbk1",
          "Adrbk2",
          "Adsl",
          "Adssl1",
          "Aes",
          "Afap1",
          "Afap1l1",
          "Aff3",
          "Aff4",
          "Afg3l2",
          "Afmid",
          "Agap1",
          "Agap2",
          "Agfg2",
          "Aggf1",
          "Agpat3",
          "Agpat4",
          "Agpat5",
          "Agps",
          "Agtrap",
          "Ahctf1",
          "Ahdc1",
          "Ahnak",
          "Ahsa1",
          "Aif1",
          "Aim2",
          "Ak2",
          "Ak3",
          "Akap13",
          "Akap8l",
          "Akap9",
          "Akr1a4",
          "Akt1",
          "Alad",
          "Alas1",
          "Alas2",
          "Alcam",
          "Aldh18a1",
          "Aldh1a1",
          "Aldh1a7",
          "Aldh1b1",
          "Aldh1l1",
          "Aldh2",
          "Aldh7a1",
          "Aldoa",
          "Alkbh8",
          "Allergin-1",
          "Alox5",
          "Alox5ap",
          "Amfr",
          "Ammecr1",
          "Ampd3",
          "Anapc1",
          "Anapc11",
          "Anapc13",
          "Anapc2",
          "Anapc5",
          "Angpt1",
          "Ank",
          "Ank1",
          "Ankrd11",
          "Ankrd13a",
          "Ankrd17",
          "Ankrd26",
          "Ankrd43",
          "Ankrd44",
          "Anln",
          "Ano10",
          "Ano6",
          "Anp32a",
          "Anp32b",
          "Anp32e",
          "Anxa2",
          "Anxa3",
          "Anxa5",
          "Anxa6",
          "Aoah",
          "Ap1b1",
          "Ap1m1",
          "Ap1s2",
          "Ap1s3",
          "Ap2a2",
          "Ap3s1",
          "Apba1",
          "Apbb1ip",
          "Apeh",
          "Apip",
          "Aplp2",
          "Apob48r",
          "Apobec3",
          "Apoe",
          "App",
          "Appl1",
          "Aprt",
          "Aqp1",
          "Aqp11",
          "Aqp9",
          "Aqr",
          "Arap2",
          "Arap3",
          "Arf1",
          "Arf4",
          "Arf5",
          "Arglu1",
          "Arhgap17",
          "Arhgap19",
          "Arhgap21",
          "Arhgap23",
          "Arhgap25",
          "Arhgap27",
          "Arhgap30",
          "Arhgap31",
          "Arhgap32",
          "Arhgap6",
          "Arhgap9",
          "Arhgdia",
          "Arhgdib",
          "Arhgdig",
          "Arhgef12",
          "Arhgef2",
          "Arhgef25",
          "Arhgef3",
          "Arhgef4",
          "Arhgef40",
          "Arhgef6",
          "Arid1a",
          "Arid1b",
          "Arid2",
          "Arid3a",
          "Arid3b",
          "Arid4b",
          "Arid5a",
          "Arid5b",
          "Arl11",
          "Arl4a",
          "Arl6ip1",
          "Arl8a",
          "Armc9",
          "Arpc1a",
          "Arpc1b",
          "Arpc2",
          "Arpc4",
          "Arrb1",
          "Arsb",
          "Arvcf",
          "As3mt",
          "Asah1",
          "Asap1",
          "Asf1b",
          "Ash1l",
          "Asns",
          "Asp",
          "Asph",
          "Ass1",
          "Asxl1",
          "Atad5",
          "Atf4",
          "Atf7ip",
          "Atg16l2",
          "Atg2b",
          "Atg4b",
          "Atic",
          "Atmin",
          "Atn1",
          "Atox1",
          "Atp10a",
          "Atp10d",
          "Atp11a",
          "Atp13a3",
          "Atp1a3",
          "Atp1b1",
          "Atp1b2",
          "Atp1b3",
          "Atp2a2",
          "Atp2a3",
          "Atp2b1",
          "Atp2b4",
          "Atp5a1",
          "Atp5b",
          "Atp5c1",
          "Atp5d",
          "Atp5f1",
          "Atp5g3",
          "Atp5h",
          "Atp5j2",
          "Atp5o",
          "Atp6ap2",
          "Atp6v0a1",
          "Atp6v0b",
          "Atp6v0c",
          "Atp6v0d1",
          "Atp6v1f",
          "Atp7b",
          "Atp8a1",
          "Atp8b2",
          "Atp8b4",
          "Atp8b5",
          "Atpase6",
          "Atpif1",
          "Atrip",
          "Atrnl1",
          "Atrx",
          "Aurka",
          "Aurkb",
          "Auts2",
          "Aven",
          "B230120H23Rik",
          "B230219D22Rik",
          "B330016D10Rik",
          "B430306N03Rik",
          "B4galnt1",
          "B4galt4",
          "B4galt5",
          "B4galt6",
          "BC002221",
          "BC003965",
          "BC005764",
          "BC019819",
          "BC021614",
          "BC021767",
          "BC024571",
          "BC025067",
          "BC029331",
          "BC031353",
          "BC033430",
          "BC035044",
          "BC048355",
          "BC051142",
          "BC057079",
          "BC064078",
          "BC096441",
          "Bag1",
          "Bag2",
          "Bahcc1",
          "Baiap2",
          "Bambi",
          "Bambi-ps1",
          "Banf1",
          "Basp1",
          "Bat2d",
          "Batf3",
          "Bax",
          "Baz1a",
          "Baz1b",
          "Baz2b",
          "Bcas2",
          "Bcas3",
          "Bcl11a",
          "Bcl2",
          "Bcl2l1",
          "Bcl2l11",
          "Bcl3",
          "Bcl9",
          "Bcl9l",
          "Bclaf1",
          "Bdh1",
          "Bdp1",
          "Beta-s",
          "Bex4",
          "Bex6",
          "Bhlha15",
          "Bin1",
          "Birc3",
          "Birc5",
          "Birc6",
          "Blm",
          "Blnk",
          "Blvra",
          "Blvrb",
          "Bmp1",
          "Bmp2k",
          "Bms1",
          "Bnip2",
          "Bod1l",
          "Bola2",
          "Bola3",
          "Boll",
          "Bptf",
          "Brd1",
          "Brd3",
          "Brd4",
          "Brd7",
          "Brf1",
          "Bri3bp",
          "Brix1",
          "Brpf3",
          "Bsg",
          "Bst2",
          "Btaf1",
          "Btbd3",
          "Btg1",
          "Btg2",
          "Btnl9",
          "Bub1b",
          "Bub3",
          "Butr1",
          "Bzrap1",
          "Bzw1",
          "Bzw2",
          "C184",
          "C1galt1",
          "C1galt1c1",
          "C1qb",
          "C1qbp",
          "C1qc",
          "C1qtnf6",
          "C1rl",
          "C230052I12Rik",
          "C230096C10Rik",
          "C3",
          "C330019G07Rik",
          "C530008M17Rik",
          "Cables1",
          "Cachd1",
          "Cacybp",
          "Cad",
          "Calcoco1",
          "Calm1",
          "Calm2",
          "Calr",
          "Camk1",
          "Camk1d",
          "Camk2a",
          "Camkk1",
          "Camkk2",
          "Camsap1l1",
          "Cand1",
          "Canx",
          "Cap1",
          "Capg",
          "Capn1",
          "Capn3",
          "Capn5",
          "Capns1",
          "Caprin1",
          "Caprin2",
          "Capzb",
          "Car1",
          "Car2",
          "Car9",
          "Card6",
          "Carhsp1",
          "Cars",
          "Casc5",
          "Casp1",
          "Casp11",
          "Casp3",
          "Casp6",
          "Casp7",
          "Cast",
          "Casz1",
          "Cbfa2t3",
          "Cbfb",
          "Cbl",
          "Cbr1",
          "Cbr3",
          "Cbx4",
          "Cbx5",
          "Cbx8",
          "Ccar1",
          "Ccbl1",
          "Ccbl2",
          "Ccdc102a",
          "Ccdc109b",
          "Ccdc125",
          "Ccdc135",
          "Ccdc163",
          "Ccdc23",
          "Ccdc32",
          "Ccdc48",
          "Ccdc50",
          "Ccdc69",
          "Ccdc74a",
          "Ccdc88a",
          "Ccdc88b",
          "Ccl5",
          "Ccl6",
          "Ccl9",
          "Ccnb1",
          "Ccnb2",
          "Ccnd1",
          "Ccnd2",
          "Ccne1",
          "Ccnf",
          "Ccng2",
          "Cct3",
          "Cct4",
          "Cct5",
          "Cct6a",
          "Cct7",
          "Cct8",
          "Cd14",
          "Cd160",
          "Cd1d2",
          "Cd2",
          "Cd244",
          "Cd248",
          "Cd24a",
          "Cd27",
          "Cd274",
          "Cd300a",
          "Cd300lb",
          "Cd300lg",
          "Cd302",
          "Cd34",
          "Cd48",
          "Cd52",
          "Cd53",
          "Cd55",
          "Cd59a",
          "Cd63",
          "Cd68",
          "Cd7",
          "Cd74",
          "Cd79b",
          "Cd81",
          "Cd82",
          "Cd9",
          "Cd93",
          "Cd99l2",
          "Cdc14a",
          "Cdc25b",
          "Cdc34",
          "Cdc37",
          "Cdc42",
          "Cdc42se1",
          "Cdc45",
          "Cdc6",
          "Cdca3",
          "Cdca7",
          "Cdca8",
          "Cdcrel-1",
          "Cdh1",
          "Cdk1",
          "Cdk12",
          "Cdk13",
          "Cdk18",
          "Cdk2ap2",
          "Cdk4",
          "Cdk5r1",
          "Cdk6",
          "Cdkn1a",
          "Cdkn3",
          "Cdr2",
          "Cds1",
          "Cdt1",
          "Cdv3",
          "Cdyl",
          "Ceacam1",
          "Cebpa",
          "Cebpe",
          "Cela1",
          "Celf1",
          "Celf2",
          "Celsr1",
          "Celsr3",
          "Cenp-a",
          "Cenpe",
          "Cenpf",
          "Cenph",
          "Cenpl",
          "Cenpn",
          "Cenpv",
          "Cep350",
          "Cep55",
          "Cercam",
          "Cerk",
          "Cfdp1",
          "Cfl1",
          "Cfp",
          "Cggbp1",
          "Chac2",
          "Chaf1b",
          "Chchd10",
          "Chchd2",
          "Chchd3",
          "Chd1",
          "Chd2",
          "Chd3",
          "Chd4",
          "Chd6",
          "Chd7",
          "Chd8",
          "Chi3l3",
          "Chpf",
          "Chst10",
          "Chst12",
          "Chst13",
          "Cic",
          "Cisd1",
          "Cisd3",
          "Cish",
          "Cit",
          "Cited2",
          "Cited4",
          "Ckap2l",
          "Ckap4",
          "Ckap5",
          "Ckb",
          "Clasp1",
          "Clca5",
          "Clcf1",
          "Clcn3",
          "Cldn13",
          "Cldn15",
          "Clec10a",
          "Clec11a",
          "Clec12a",
          "Clec2d",
          "Clec4d",
          "Clec4e",
          "Clec5a",
          "Clic1",
          "Clic4",
          "Clint1",
          "Clk2",
          "Clnk",
          "Clpp",
          "Clspn",
          "Clta",
          "Cltc",
          "Clu",
          "Clybl",
          "Cma1",
          "Cmah",
          "Cmpk2",
          "Cmtm3",
          "Cmtm4",
          "Cmtm7",
          "Cnbp",
          "Cnn2",
          "Cnn3",
          "Cnnm2",
          "Cnnm4",
          "Cnot1",
          "Cnp",
          "Cnpy2",
          "Cnpy3",
          "Cnr2",
          "Cobll1",
          "Col5a1",
          "Commd4",
          "Commd7",
          "Cope",
          "Copz2",
          "Coq9",
          "Coro1a",
          "Coro1b",
          "Coro2a",
          "Coro7",
          "Cox17",
          "Cox4i1",
          "Cox5a",
          "Cox5b",
          "Cox6a1",
          "Cox6a2",
          "Cox6b1",
          "Cox6b2",
          "Cox7c",
          "Cox8a",
          "Cpa3",
          "Cpne2",
          "Cpne3",
          "Cpox",
          "Cpsf2",
          "Cpt2",
          "Crebbp",
          "Creg1",
          "Creld2",
          "Crim1",
          "Crip1",
          "Crip2",
          "Cs",
          "Csda",
          "Csde1",
          "Csf1",
          "Csf1r",
          "Csf2ra",
          "Csf2rb",
          "Csf2rb2",
          "Csf3r",
          "Csgalnact2",
          "Csk",
          "Csnk1a1",
          "Csnk2b",
          "Csrnp1",
          "Csrp2",
          "Csrp3",
          "Cst3",
          "Cst7",
          "Ctage5",
          "Ctbp1",
          "Ctcf",
          "Ctdspl",
          "Ctla2a",
          "Ctnna1",
          "Ctnnb1",
          "Ctsc",
          "Ctsd",
          "Ctse",
          "Ctsg",
          "Ctsh",
          "Ctsl",
          "Ctss",
          "Ctsw",
          "Ctsz",
          "Cttn",
          "Cuedc1",
          "Cul4a",
          "Cul7",
          "Cul9",
          "Cux1",
          "Cxcl10",
          "Cxcr4",
          "Cxxc1",
          "Cyb5",
          "Cyb5b",
          "Cyb5r3",
          "Cyba",
          "Cybb",
          "Cyc1",
          "Cyfip1",
          "Cyfip2",
          "Cyhr1",
          "Cyp11a1",
          "Cyp27a1",
          "Cyp4f16",
          "Cyp4f18",
          "Cyth1",
          "Cyth3",
          "Cyth4",
          "Cytip",
          "D16H22S680E",
          "D17Wsu104e",
          "D17Wsu92e",
          "D18Ertd653e",
          "D230014K01Rik",
          "D4Wsu53e",
          "D6Mm5e",
          "D930016D06Rik",
          "DAPK2",
          "Daam1",
          "Dab2ip",
          "Dach1",
          "Dap",
          "Dap3",
          "Dapp1",
          "Darc",
          "Dazap1",
          "Dazap2",
          "Dbndd2",
          "Dbnl",
          "Dcaf4",
          "Dcaf7",
          "Dcaf8",
          "Dck",
          "Dclk2",
          "Dclre1a",
          "Dctn5",
          "Dctpp1",
          "Ddah2",
          "Ddb1",
          "Ddit4",
          "Ddost",
          "Ddx1",
          "Ddx17",
          "Ddx21",
          "Ddx23",
          "Ddx24",
          "Ddx27",
          "Ddx39",
          "Ddx3x",
          "Ddx46",
          "Ddx5",
          "Ddx58",
          "Ddx6",
          "Def6",
          "Def8",
          "Dek",
          "Dennd1b",
          "Dennd1c",
          "Dennd2d",
          "Dennd3",
          "Dennd4a",
          "Deptor",
          "Dgat2",
          "Dgkg",
          "Dhdh",
          "Dhrs11",
          "Dhrs3",
          "Dhrs4",
          "Dhrs7",
          "Dhx38",
          "Dia2",
          "Diap2",
          "Dido1",
          "Dio2",
          "Dis3",
          "Dkkl1",
          "Dlat",
          "Dlg3",
          "Dlgap5",
          "Dlst",
          "Dmkn",
          "Dmwd",
          "Dmxl1",
          "Dnahc8",
          "Dnaja3",
          "Dnaja4",
          "Dnajb1",
          "Dnajb11",
          "Dnajb2",
          "Dnajb3",
          "Dnajb9",
          "Dnajc10",
          "Dnajc11",
          "Dnajc19",
          "Dnajc2",
          "Dnajc3",
          "Dnajc6",
          "Dnajc8",
          "Dnhd1",
          "Dnmt1",
          "Dnmt3a",
          "Dnmt3b",
          "Dnpep",
          "Dntt",
          "Dnttip2",
          "Dock1",
          "Dock10",
          "Dock2",
          "Dock7",
          "Dock8",
          "Dok2",
          "Dok3",
          "Dopey2",
          "Dpp4",
          "Dpp9",
          "Dpy19l1",
          "Dpy19l3",
          "Dpysl2",
          "Drctnnb1a",
          "Drosha",
          "Dst",
          "Dstn",
          "Dstyk",
          "Dtl",
          "Dtnbp1",
          "Dtx3",
          "Dtx4",
          "Dus1l",
          "Dusp11",
          "Dusp16",
          "Dusp18",
          "Dusp22",
          "Dusp23",
          "Dusp3",
          "Dut",
          "Dym",
          "Dync1h1",
          "Dync1i2",
          "Dynlrb1",
          "Dyrk3",
          "E130012A19Rik",
          "E130308A19Rik",
          "E2f2",
          "E2f4",
          "E2f8",
          "E330016A19Rik",
          "ENSMUSG00000073540",
          "ENSMUSG00000073777",
          "Ebi3",
          "Ebna1bp2",
          "Ece1",
          "Echs1",
          "Ecm1",
          "Edem1",
          "Edem2",
          "Edf1",
          "Eef1b2",
          "Eef1d",
          "Eef1e1",
          "Eef1g",
          "Eef2",
          "Eepd1",
          "Efcab4a",
          "Efhd2",
          "Efnb1",
          "Eftud2",
          "Egfl7",
          "Egln3",
          "Egr1",
          "Ehd1",
          "Ehd3",
          "Ehmt2",
          "Eif1ax",
          "Eif2ak1",
          "Eif2b1",
          "Eif2b4",
          "Eif2c2",
          "Eif2c3",
          "Eif2d",
          "Eif2s2",
          "Eif3a",
          "Eif3b",
          "Eif3c",
          "Eif3d",
          "Eif3f",
          "Eif3g",
          "Eif3h",
          "Eif3i",
          "Eif3k",
          "Eif3m",
          "Eif4a1",
          "Eif4b",
          "Eif4e2",
          "Eif4e3",
          "Eif4ebp1",
          "Eif4ebp2",
          "Eif4enif1",
          "Eif4g1",
          "Eif4g2",
          "Eif4g3",
          "Eif5",
          "Eif5b",
          "Elane",
          "Elavl1",
          "Elf1",
          "Elk3",
          "Ell2",
          "Elmo1",
          "Elovl5",
          "Elovl7",
          "Eltd1",
          "Emb",
          "Emg1",
          "Emid1",
          "Emilin1",
          "Emilin2",
          "Eml4",
          "Emp3",
          "Endod1",
          "Ep400",
          "Epb4.1",
          "Epb4.1l2",
          "Epb4.1l4b",
          "Epb4.9",
          "Epdr1",
          "Ephx2",
          "Epn1",
          "Epor",
          "Eprs",
          "Eps15",
          "Epsti1",
          "Epx",
          "Erbb2ip",
          "Erc1",
          "Ermap",
          "Ern1",
          "Ero1l",
          "Ero1lb",
          "Erp29",
          "Erp44",
          "Esco2",
          "Espl1",
          "Esyt1",
          "Etf1",
          "Etfa",
          "Etfb",
          "Etfdh",
          "Etnk1",
          "Ets1",
          "Etv6",
          "Evi2b",
          "Evl",
          "Exoc3l2",
          "Exoc6",
          "Exosc2",
          "Exosc5",
          "Exosc7",
          "Exosc8",
          "Ext1",
          "Eya2",
          "Ezh2",
          "Ezr",
          "F10",
          "F13a1",
          "F2r",
          "F2rl3",
          "F5",
          "FKBP12-T1",
          "FKBP1b-B",
          "Faah",
          "Fabp5",
          "Fads1",
          "Fads3",
          "Fam101b",
          "Fam102a",
          "Fam105a",
          "Fam107b",
          "Fam108b",
          "Fam109b",
          "Fam110a",
          "Fam117a",
          "Fam129a",
          "Fam129c",
          "Fam132a",
          "Fam134a",
          "Fam134b",
          "Fam158a",
          "Fam160a2",
          "Fam162a",
          "Fam168b",
          "Fam174b",
          "Fam176b",
          "Fam184a",
          "Fam195a",
          "Fam195b",
          "Fam20c",
          "Fam26f",
          "Fam43a",
          "Fam46a",
          "Fam49b",
          "Fam53b",
          "Fam55b",
          "Fam55c",
          "Fam59a",
          "Fam64a",
          "Fam65a",
          "Fam65b",
          "Fam69b",
          "Fam78a",
          "Fam82a2",
          "Fam96b",
          "Fance",
          "Far2",
          "Fasn",
          "Fau",
          "Fba",
          "Fbp1",
          "Fbxl20",
          "Fbxl8",
          "Fbxo10",
          "Fbxo4",
          "Fbxo5",
          "Fbxo7",
          "Fbxo9",
          "Fbxw10",
          "Fcer1g",
          "Fcgr2b",
          "Fcgr3",
          "Fcgrt",
          "Fcho1",
          "Fchsd2",
          "Fcnb",
          "Fech",
          "Fen1",
          "Fermt3",
          "Fes",
          "Ffar2",
          "Fgd2",
          "Fgd3",
          "Fgf3",
          "Fgfrl1",
          "Fgl2",
          "Fh1",
          "Fhdc1",
          "Ficd",
          "Filip1l",
          "Fis1",
          "Fkbp11",
          "Fkbp2",
          "Fkbp4",
          "Fkbp5",
          "Fli1",
          "Flna",
          "Flnb",
          "Flot2",
          "Flt3",
          "Flt3l",
          "Fmnl3",
          "Fmr1",
          "Fnbp1",
          "Fnbp1l",
          "Fnbp4",
          "Fndc3a",
          "Fndc3b",
          "Fos",
          "Foxj1",
          "Foxn3",
          "Foxo1",
          "Foxp1",
          "Foxred2",
          "Fr1",
          "Frat1",
          "Frat2",
          "Frmd4a",
          "Fth1",
          "Ftl1",
          "Ftsj1",
          "Ftsj3",
          "Fubp1",
          "Fuca2",
          "Fut4",
          "Fut7",
          "Fut8",
          "Fxn",
          "Fxyd5",
          "Fyb",
          "Fyn",
          "Fyr",
          "G0s2",
          "G3bp2",
          "G6pc3",
          "G6pdx",
          "Gab2",
          "Gabarapl1",
          "Gabpb2",
          "Gadd45a",
          "Gadd45b",
          "Galc",
          "Galk1",
          "Galns",
          "Galnt1",
          "Galnt11",
          "Galnt12",
          "Galnt2",
          "Galnt6",
          "Gamt",
          "Ganab",
          "Gapt",
          "Gapvd1",
          "Gar1",
          "Gars",
          "Gart",
          "Gas5",
          "Gas7",
          "Gata1",
          "Gata2",
          "Gatad2b",
          "Gatm",
          "Gatsl3",
          "Gbp10",
          "Gbp2",
          "Gbx2",
          "Gcat",
          "Gch1",
          "Gclc",
          "Gclm",
          "Gda",
          "Gdf3",
          "Gdi2",
          "Gdpd1",
          "Gdpd3",
          "Gemin5",
          "Get4",
          "Gfer",
          "Gfi1",
          "Gfi1b",
          "Gfm1",
          "Gfod1",
          "Gfpt1",
          "Gga2",
          "Ggh",
          "Ggt5",
          "Ggta1",
          "Gigyf2",
          "Gimap1",
          "Gimap5",
          "Gimap6",
          "Gimap7",
          "Git2",
          "Gja1",
          "Gjb3",
          "Glb1",
          "Glb1l",
          "Glg1",
          "Glipr1",
          "Glipr2",
          "Glo1",
          "Glrx5",
          "Gltscr2",
          "Glud1",
          "Gm10653",
          "Gm14005",
          "Gm14085",
          "Gm15800",
          "Gm16515",
          "Gm1966",
          "Gm2058",
          "Gm2a",
          "Gm4759",
          "Gm4902",
          "Gm5057",
          "Gm5506",
          "Gm608",
          "Gm672",
          "Gm7694",
          "Gmfg",
          "Gmip",
          "Gmpr",
          "Gna14",
          "Gna15",
          "Gnai2",
          "Gnas",
          "Gnb2l1",
          "Gng10",
          "Gng11",
          "Gng12",
          "Gng2",
          "Gnl2",
          "Gnl3",
          "Gnl3l",
          "Gnpda2",
          "Gnptab",
          "Golga4",
          "Golm1",
          "Gorasp2",
          "Gp1ba",
          "Gp5",
          "Gp9",
          "Gpatch8",
          "Gpbp1",
          "Gpc1",
          "Gpc4",
          "Gpi1",
          "Gpn3",
          "Gpr132",
          "Gpr171",
          "Gpr18",
          "Gpr183",
          "Gpr56",
          "Gpr84",
          "Gpr97",
          "Gps2",
          "Gpt2",
          "Gpx1",
          "Gpx3",
          "Gpx4",
          "Gramd1b",
          "Gramd3",
          "Grap",
          "Grb10",
          "Grb2",
          "Grhpr",
          "Gria3",
          "Grina",
          "Grk6",
          "Grn",
          "Gsn",
          "Gspt1",
          "Gsr",
          "Gstm1",
          "Gstm4",
          "Gstm5",
          "Gstm7",
          "Gsto1",
          "Gstp1",
          "Gstt3",
          "Gtf2a2",
          "Gtf2f1",
          "Gtf2h1",
          "Gtf2h3",
          "Gtf2i",
          "Gtpbp1",
          "Guca1a",
          "Gucy1a3",
          "Guk1",
          "Gusb",
          "Gxylt1",
          "Gyg",
          "Gypa",
          "Gypc",
          "Gzma",
          "Gzmb",
          "Gzmm",
          "H13",
          "H1f0",
          "H1fx",
          "H2-Aa",
          "H2-Ab1",
          "H2-D1",
          "H2-DMa",
          "H2-DMb1",
          "H2-Eb1",
          "H2-K1",
          "H2-Ke2",
          "H2-M3",
          "H2-Oa",
          "H2-Ob",
          "H2-Q7",
          "H2-T10",
          "H2afj",
          "H2afv",
          "H2afx",
          "H2afy",
          "H3f3a",
          "H47",
          "HDAC7",
          "HLS2",
          "Haao",
          "Hadh",
          "Hadha",
          "Hagh",
          "Hars",
          "Hausp",
          "Hba-a2",
          "Hbb-b1",
          "Hcfc1",
          "Hck",
          "Hcst",
          "Hdac5",
          "Hdac6",
          "Hdc",
          "Hdgf",
          "Hdlbp",
          "Heatr1",
          "Heatr3",
          "Heatr5a",
          "Hebp1",
          "Hectd1",
          "Heg1",
          "Hells",
          "Hemgn",
          "Herc1",
          "Herc2",
          "Herpud1",
          "Hes1",
          "Hexa",
          "Hexb",
          "Hfe",
          "Hif3a",
          "Higd2a",
          "Hint1",
          "Hip1",
          "Hip1r",
          "Hipk1",
          "Hist1h2an",
          "Hivep2",
          "Hk1",
          "Hk2",
          "Hk3",
          "Hlf",
          "Hlx",
          "Hmbs",
          "Hmgb2",
          "Hmgb3",
          "Hmgcl",
          "Hmgn1",
          "Hmgn2",
          "Hmgn3",
          "Hmha1",
          "Hmmr",
          "Hmox1",
          "Hn1",
          "Hnf4a",
          "Hnrnpab",
          "Hnrnpc",
          "Hnrnpd",
          "Hnrnph1",
          "Hnrnpk",
          "Hnrnpm",
          "Hnrnpul1",
          "Hnrpdl",
          "Homer2",
          "Homer3",
          "Hoxa5",
          "Hoxa7",
          "Hoxa9",
          "Hp",
          "Hp1bp3",
          "Hpn",
          "Hprt",
          "Hps3",
          "Hras1",
          "Hs6st1",
          "Hsd11b1",
          "Hsd17b1",
          "Hsd17b10",
          "Hsd17b11",
          "Hsd17b12",
          "Hsp90ab1",
          "Hsp90b1",
          "Hspa14",
          "Hspa2",
          "Hspa4",
          "Hspa4l",
          "Hspa5",
          "Hspa8",
          "Hspbp1",
          "Hspd1",
          "Hspe1",
          "Hsph1",
          "HtrA2",
          "Huwe1",
          "Hyal1",
          "Hyal2",
          "Hyi",
          "Hyou1",
          "I830077J02Rik",
          "ISG12a",
          "Iars",
          "Iars2",
          "Ica1",
          "Icam2",
          "Icam4",
          "Id1",
          "Id2",
          "Idh1",
          "Idh2",
          "Idh3a",
          "Idh3b",
          "Ier3",
          "Ier3ip1",
          "Ier5",
          "Iffo2",
          "Ifi203",
          "Ifi27l2a",
          "Ifi30",
          "Ifih1",
          "Ifitm1",
          "Ifitm2",
          "Ifitm3",
          "Ifnar2",
          "Ifngr1",
          "Ifngr2",
          "Ifrd2",
          "Ift140",
          "Igf1r",
          "Igf2r",
          "Igfbp4",
          "Igsf3",
          "Igsf6",
          "Igtp",
          "Ikbke",
          "Ikzf1",
          "Ikzf2",
          "Il10ra",
          "Il12a",
          "Il15",
          "Il16",
          "Il17ra",
          "Il17rb",
          "Il1r1",
          "Il1rl1",
          "Il21r",
          "Il2rb",
          "Il31ra",
          "Il3ra",
          "Il4ra",
          "Il6ra",
          "Il6st",
          "Immt",
          "Imp3",
          "Imp4",
          "Impa2",
          "Impdh1",
          "Incenp",
          "Inf2",
          "Ing1",
          "Ino80d",
          "Inpp5d",
          "Integrin Alpha-4",
          "Ints8",
          "Ipmk",
          "Ipo4",
          "Ipo5",
          "Iqgap1",
          "Iqgap2",
          "Irak-M",
          "Irf1",
          "Irf2",
          "Irf2bp2",
          "Irf5",
          "Irf7",
          "Irf8",
          "Irf9",
          "Irg1",
          "Irgm1",
          "Isca1",
          "Isca2",
          "Isg15",
          "Isg20",
          "Isg20l2",
          "Isoc1",
          "Isyna1",
          "Itga2b",
          "Itga6",
          "Itgal",
          "Itgam",
          "Itgav",
          "Itgax",
          "Itgb1",
          "Itgb2",
          "Itgb3",
          "Itgb5",
          "Itgb7",
          "Itih5",
          "Itm2a",
          "Itm2b",
          "Itm2c",
          "Itpr1",
          "Itpr3",
          "Itpripl1",
          "Itpripl2",
          "Itsn1",
          "Iws1",
          "Jak1",
          "Jarid1a",
          "Jdp2",
          "Jmjd1c",
          "Jmy",
          "Jnk2",
          "Josd1",
          "Josd2",
          "Kalrn",
          "Kars",
          "Katnal1",
          "Kbtbd11",
          "Kcc1",
          "Kcnab2",
          "Kcng2",
          "Kcnip3",
          "Kcnk12",
          "Kcnk6",
          "Kcnn4",
          "Kcnq5",
          "Kctd1",
          "Kctd12",
          "Kctd14",
          "Kctd17",
          "Kctd20",
          "Kdelc2",
          "Kdelr2",
          "Kdm2a",
          "Kdm3a",
          "Kdm3b",
          "Kdm5b",
          "Kel",
          "Khdrbs1",
          "Khk",
          "Khsrp",
          "Kiaa0028",
          "Kif11",
          "Kif15",
          "Kif17",
          "Kif18b",
          "Kif1b",
          "Kif21b",
          "Kif22",
          "Kif23",
          "Kif2a",
          "Kif3a",
          "Kif4",
          "Kit",
          "Klf1",
          "Klf13",
          "Klf2",
          "Klf3",
          "Klf4",
          "Klf6",
          "Klf9",
          "Klhdc2",
          "Klhdc3",
          "Klhdc8b",
          "Klhl22",
          "Klhl36",
          "Klhl5",
          "Klk8",
          "Klrb1c",
          "Klrb1f",
          "Klrk1",
          "Kpc1",
          "Kpnb1",
          "Krt18",
          "Krtcap2",
          "Kti12",
          "Ktn1",
          "L1cam",
          "L3mbtl3",
          "LPCAT4",
          "Lair1",
          "Lamp1",
          "Lap3",
          "Laptm5",
          "Larp1",
          "Larp1b",
          "Larp7",
          "Lars",
          "Lass5",
          "Lat",
          "Lat2",
          "Lbh",
          "Lbp",
          "Lck",
          "Lcn2",
          "Lcp1",
          "Lcp2",
          "Ldb1",
          "Ldha",
          "Ldhb",
          "Ldlrad3",
          "Lefty1",
          "Leprot",
          "Lfng",
          "Lgals1",
          "Lgals3",
          "Lgals3bp",
          "Lgals9",
          "Lgmn",
          "Lias",
          "Lig1",
          "Lilrb3",
          "Limd1",
          "Limd2",
          "Lims1",
          "Litaf",
          "Lman1",
          "Lman2",
          "Lmcd1",
          "Lmna",
          "Lmnb1",
          "Lmnb2",
          "Lmo1",
          "Lmo2",
          "Lmo4",
          "Lonp1",
          "Lonp2",
          "Lpar2",
          "Lpar6",
          "Lpcat2",
          "Lpcat4",
          "Lpgat1",
          "Lphn1",
          "Lphn2",
          "Lpin1",
          "Lpin2",
          "Lpla2",
          "Lrg1",
          "Lrmp",
          "Lrp1",
          "Lrp4",
          "Lrp5",
          "Lrp8",
          "Lrpprc",
          "Lrrc1",
          "Lrrc14",
          "Lrrc24",
          "Lrrc33",
          "Lrrc58",
          "Lrrc8c",
          "Lrrfip1",
          "Lrrk2",
          "Lrwd1",
          "Lsm14a",
          "Lsm2",
          "Lsm4",
          "Lsp1",
          "Lta4h",
          "Ltb4r1",
          "Ltbr",
          "Luc7l",
          "Luc7l2",
          "Luc7l3",
          "Luzp1",
          "Lxn",
          "Ly6c2",
          "Ly6d",
          "Ly6e",
          "Ly86",
          "Ly9",
          "Lyar",
          "Lyl1",
          "Lysmd2",
          "Lyst",
          "Lyz1",
          "M-rdgB beta",
          "M6prbp1",
          "MRPL33",
          "MRPS11",
          "Macf1",
          "Mad2l1",
          "Maged2",
          "Magoh",
          "Magt1",
          "Malat1",
          "Malt1",
          "Maml3",
          "Man1a",
          "Man1c1",
          "Man2b1",
          "Manf",
          "Map1lc3b",
          "Map2k2",
          "Map3k14",
          "Map3k3",
          "Map3k5",
          "Map4",
          "Map4k3",
          "Map4k4",
          "Mapk14",
          "Mapk6",
          "Mapkapk2",
          "Mapkapk3",
          "Mapre1",
          "Marcksl1",
          "Mars",
          "Marveld1",
          "Mast2",
          "Mast4",
          "Mat2a",
          "Mat2b",
          "Matn2",
          "Mbd2",
          "Mbnl1",
          "Mboat1",
          "Mbp",
          "Mcf2l",
          "Mcm10",
          "Mcm2",
          "Mcm3",
          "Mcm4",
          "Mcm5",
          "Mcm6",
          "Mcm7",
          "Mcph1",
          "Mcpt4",
          "Mcpt8",
          "Mctp1",
          "Mdga1",
          "Mdh1",
          "Mdh2",
          "Mdn1",
          "Me2",
          "Mecr",
          "Med13l",
          "Med20",
          "Med25",
          "Med30",
          "Med7",
          "Mef2c",
          "Mefv",
          "Megf12",
          "Meis1",
          "Memo1",
          "Metap2",
          "Mett10d",
          "Mettl13",
          "Mfap1b",
          "Mfap3",
          "Mfge8",
          "Mfhas1",
          "Mfn1",
          "Mfsd10",
          "Mfsd2b",
          "Mfsd6",
          "Mgam",
          "Mgat4a",
          "Mgat5",
          "Mgl2",
          "Mgll",
          "Mgst1",
          "Mgst2",
          "Mgst3",
          "Mical1",
          "Mical3",
          "Micall2",
          "Mier1",
          "Mier3",
          "Minpp1",
          "Mipol1",
          "Mir142",
          "Mir1903",
          "Mki67",
          "Mki67ip",
          "Mkl1",
          "Mknk2",
          "Mkrn1",
          "Mlec",
          "Mll1",
          "Mll2",
          "Mll3",
          "Mllt3",
          "Mllt6",
          "Mmgt2",
          "Mmp14",
          "Mnda",
          "Mndal",
          "Mns1",
          "Mobkl2a",
          "Mogat2",
          "Mogs",
          "Morf4l2",
          "Mosc2",
          "Mospd3",
          "Mpeg1",
          "Mpl",
          "Mpnd",
          "Mpo",
          "Mpp4",
          "Mpp6",
          "Mras",
          "Mrgpre",
          "Mrp63",
          "Mrpl12",
          "Mrpl15",
          "Mrpl17",
          "Mrpl18",
          "Mrpl20",
          "Mrpl22",
          "Mrpl28",
          "Mrpl3",
          "Mrpl30",
          "Mrpl34",
          "Mrpl35",
          "Mrpl37",
          "Mrpl38",
          "Mrpl42",
          "Mrpl45",
          "Mrpl47",
          "Mrpl52",
          "Mrpl54",
          "Mrpl55",
          "Mrpl9",
          "Mrps22",
          "Mrps24",
          "Mrps26",
          "Mrps28",
          "Mrps36",
          "Mrps5",
          "Mrto4",
          "Mrvi1",
          "Ms4a4b",
          "Ms4a6b",
          "Ms4a6c",
          "Msh6",
          "Msi2",
          "Msn",
          "Mt1",
          "Mt2",
          "Mta1",
          "Mta2",
          "Mta3",
          "Mtch2",
          "Mtdh",
          "Mtfp1",
          "Mtfr1",
          "Mthfd1",
          "Mthfd2",
          "Mtmr14",
          "Mtss1",
          "Mtus1",
          "Mtx2",
          "Muc13",
          "Mutyh",
          "Myadm",
          "Myb",
          "Mybbp1a",
          "Myc",
          "Mycbp2",
          "Mycn",
          "Myct1",
          "Myeov2",
          "Myh10",
          "Myh9",
          "Myl12b",
          "Mylip",
          "Mylk3",
          "Mylpf",
          "Myo10",
          "Myo15b",
          "Myo1d",
          "Myo1f",
          "Myo1g",
          "Myo5b",
          "Myo7a",
          "Myst3",
          "N4bp2",
          "N4bp2l1",
          "N4bp3",
          "NAAA",
          "Naa25",
          "Naa50",
          "Nab1",
          "Naga",
          "Naglu",
          "Nags",
          "Naip1",
          "Naip2",
          "Nanos3",
          "Nap1l4",
          "Naprt1",
          "Napsa",
          "Narf",
          "Nasp",
          "Nat10",
          "Nat15",
          "Nat8l",
          "Nav1",
          "Nav2",
          "Ncam1",
          "Ncapd2",
          "Ncapg2",
          "Ncbp1",
          "Ncf1",
          "Ncf2",
          "Ncf4",
          "Nckap1",
          "Nckap5l",
          "Nckipsd",
          "Ncl",
          "Ncln",
          "Ncoa2",
          "Ncoa3",
          "Ncoa6",
          "Ncor1",
          "Ncs1",
          "Ndrg1",
          "Ndst1",
          "Ndst2",
          "Ndufa10",
          "Ndufa12",
          "Ndufa13",
          "Ndufa7",
          "Ndufb10",
          "Ndufb2",
          "Ndufb5",
          "Ndufb6",
          "Ndufb8",
          "Ndufb9",
          "Ndufc2",
          "Ndufs1",
          "Ndufs2",
          "Ndufs6",
          "Ndufs7",
          "Ndufv1",
          "Ndufv2",
          "Ndufv3",
          "Necap2",
          "Nedd4",
          "Nedd9",
          "Nefh",
          "Neil3",
          "Nek6",
          "Nenf",
          "Net1",
          "Neu1",
          "Neurl3",
          "Nfam1",
          "Nfat5",
          "Nfatc1",
          "Nfatc2",
          "Nfatc3",
          "Nfe2",
          "Nfe2l1",
          "Nfe2l2",
          "Nfia",
          "Nfic",
          "Nfil3",
          "Nfix",
          "Nfkb1",
          "Nfkbia",
          "Nfkbie",
          "Nfs1",
          "Nfya",
          "Ng23",
          "Ngly1",
          "Nhlrc2",
          "Nhsl2",
          "Nin",
          "Ninj1",
          "Ninl",
          "Nipsnap1",
          "Nkg7",
          "Nlgn2",
          "Nlrx1",
          "Nmd3",
          "Nme1",
          "Nme2",
          "Nme4",
          "Nmral1",
          "Noc3l",
          "Noc4l",
          "Nod1",
          "Nol11",
          "Nol7",
          "Nol9",
          "Nolc1",
          "Nop14",
          "Nop2",
          "Nop58",
          "Npc2",
          "Npl",
          "Npm2",
          "Nqo1",
          "Nr0b2",
          "Nr3c1",
          "Nrg2",
          "Nrgn",
          "Nrip1",
          "Nrp2",
          "Nrxn1",
          "Nsf",
          "Nsmce4a",
          "Nsun2",
          "Nt5c2",
          "Ntng2",
          "Nuak2",
          "Nucb1",
          "Nucb2",
          "Nucks1",
          "Nudc",
          "Nudt19",
          "Nudt3",
          "Nudt9",
          "Numa1",
          "Nup133",
          "Nup160",
          "Nup210",
          "Nup85",
          "Nup93",
          "Nupr1",
          "Nusap1",
          "Nxn",
          "Nxt1",
          "Oaf",
          "Oasl1",
          "Oat",
          "Ociad1",
          "Ocrl",
          "Odc1",
          "Ogfrl1",
          "Oip5",
          "Olfm1",
          "Olfr56",
          "Olr1",
          "Opa1",
          "Optn",
          "Orai2",
          "Orc2",
          "Orc3",
          "Orc5",
          "Orc6",
          "Ormdl3",
          "Os9",
          "Osbpl1a",
          "Osbpl3",
          "Osbpl5",
          "Osbpl8",
          "Ostc",
          "Ostf1",
          "Otub2",
          "Otud7b",
          "Oxr1",
          "P2rx1",
          "P2rx7",
          "P2ry1",
          "P2ry2",
          "P4hb",
          "PAPK-A",
          "Pa2g4",
          "Pabpc4",
          "Pabpn1",
          "Pacs1",
          "Pacsin2",
          "Padi4",
          "Paics",
          "Paip1",
          "Paip2",
          "Pak1",
          "Pak1ip1",
          "Palm",
          "Pam",
          "Pank1",
          "Panx1",
          "Papola",
          "Papss2",
          "Paqr7",
          "Paqr9",
          "Pard3b",
          "Park7",
          "Parm1",
          "Parp1",
          "Parp14",
          "Parp3",
          "Parp8",
          "Parvb",
          "Parvg",
          "Pbx1",
          "Pbx4",
          "Pcbp1",
          "Pcbp2",
          "Pccb",
          "Pcf11",
          "Pcgf2",
          "Pck2",
          "Pcm1",
          "Pcmtd2",
          "Pcna",
          "Pcnt",
          "Pcnx",
          "Pcp4l1",
          "Pcyt1a",
          "Pcyt1b",
          "Pdap1",
          "Pdcd11",
          "Pdcd4",
          "Pdcd6ip",
          "Pde2a",
          "Pde4d",
          "Pde5a",
          "Pde6d",
          "Pdgfrb",
          "Pdha1",
          "Pdhb",
          "Pdia2",
          "Pdia3",
          "Pdia4",
          "Pdia5",
          "Pdia6",
          "Pdlim1",
          "Pdlim2",
          "Pdlim7",
          "Pdrg1",
          "Pdxk",
          "Pea15a",
          "Pecam1",
          "Peci",
          "Pef1",
          "Peg13",
          "Peli2",
          "Peo1",
          "Per1",
          "Per3",
          "Pex11a",
          "Pf4",
          "Pfdn1",
          "Pfdn5",
          "Pfkfb3",
          "Pfkfb4",
          "Pfkm",
          "Pfkp",
          "Pgd",
          "Pglyrp1",
          "Pglyrp2",
          "Pgp",
          "Phactr2",
          "Phactr4",
          "Phb2",
          "Phc1",
          "Phf10",
          "Phf13",
          "Phf14",
          "Phf19",
          "Phf21a",
          "Phf3",
          "Phf5a",
          "Phgdh",
          "Phldb3",
          "Phospho1",
          "Phyhip",
          "Picalm",
          "Pigq",
          "Pik3ap1",
          "Pik3cd",
          "Pik3cg",
          "Pik3r2",
          "Pik3r5",
          "Pik3r6",
          "Pim1",
          "Pim2",
          "Pip4k2a",
          "Pip5k1b",
          "Pitpna",
          "Pitpnm2",
          "Pitrm1",
          "Pkhd1l1",
          "Pkib",
          "Pkig",
          "Pklr",
          "Pkm2",
          "Pkn2",
          "Pla2g12a",
          "Pla2g16",
          "Plaur",
          "Plbd1",
          "Plcb2",
          "Plcb3",
          "Plcg1",
          "Plcg2",
          "Plcl2",
          "Pld3",
          "Pld4",
          "Plek",
          "Plekha1",
          "Plekha2",
          "Plekhf1",
          "Plekhg2",
          "Plekhg3",
          "Plekhg5",
          "Plekho1",
          "Plod1",
          "Plod3",
          "Plscr1",
          "Plvap",
          "Plxdc1",
          "Plxnb2",
          "Plxnc1",
          "Plxnd1",
          "Pmepa1",
          "Pmf1",
          "Pml",
          "Pmm1",
          "Pnp",
          "Pnp2",
          "Pnpla2",
          "Pnrc1",
          "Pola2",
          "Poldip2",
          "Pole",
          "Pole3",
          "Polq",
          "Polr1a",
          "Polr1b",
          "Polr1c",
          "Polr1d",
          "Polr2e",
          "Polr2f",
          "Polr2j",
          "Polr3d",
          "Pon2",
          "Pop5",
          "Popdc2",
          "Por",
          "Pou2af1",
          "Pou2f2",
          "Ppa1",
          "Ppap2a",
          "Ppat",
          "Ppfia1",
          "Ppfia4",
          "Ppfibp1",
          "Ppfibp2",
          "Ppic",
          "Ppid",
          "Ppif",
          "Ppm1g",
          "Ppm1h",
          "Ppm1l",
          "Ppm1m",
          "Ppox",
          "Ppp1r12a",
          "Ppp1r13b",
          "Ppp1r14b",
          "Ppp1r15a",
          "Ppp1r15b",
          "Ppp1r3d",
          "Ppp1r9b",
          "Ppp2r1b",
          "Ppp2r4",
          "Ppp3cc",
          "Ppp6r1",
          "Ppp6r2",
          "Pprc1",
          "Pqlc3",
          "Pra1",
          "Prc1",
          "Prdm2",
          "Prdm5",
          "Prdx2",
          "Prdx3",
          "Prdx4",
          "Prdx5",
          "Prdx6",
          "Prelid2",
          "Prg2",
          "Prg3",
          "Prim2",
          "Prkaa1",
          "Prkab1",
          "Prkaca",
          "Prkag1",
          "Prkag2",
          "Prkar2b",
          "Prkca",
          "Prkcb",
          "Prkcd",
          "Prkce",
          "Prkch",
          "Prkcq",
          "Prkcsh",
          "Prkd2",
          "Prmt5",
          "Prnd",
          "Prodh",
          "Prom1",
          "Prorsd1",
          "Prpf19",
          "Prpf3",
          "Prpf4b",
          "Prpf8",
          "Prpsap1",
          "Prr13",
          "Prr5",
          "Prrc2b",
          "Prrg4",
          "Prss16",
          "Prss34",
          "Prss50",
          "Prssl1",
          "Prtn3",
          "Psap",
          "Psat1",
          "Psen2",
          "Psip1",
          "Psma7",
          "Psmb1",
          "Psmb10",
          "Psmb2",
          "Psmb3",
          "Psmb4",
          "Psmb6",
          "Psmb7",
          "Psmb8",
          "Psmb9",
          "Psmc1",
          "Psmc2",
          "Psmc3",
          "Psmd1",
          "Psmd11",
          "Psmd12",
          "Psmd2",
          "Psmd3",
          "Psmd4",
          "Psmd5",
          "Psmd7",
          "Psmd9",
          "Psme1",
          "Psme2",
          "Psme3",
          "Psmf1",
          "Psmg1",
          "Psmg2",
          "Pspc1",
          "Pstpip1",
          "Ptch1",
          "Ptdss2",
          "Ptger2",
          "Ptger3",
          "Ptgir",
          "Ptgr1",
          "Ptgs1",
          "Ptms",
          "Ptp4a2",
          "Ptp4a3",
          "Ptpn1",
          "Ptpn11",
          "Ptpn13",
          "Ptpn14",
          "Ptpn18",
          "Ptpn22",
          "Ptpn6",
          "Ptpn7",
          "Ptpra",
          "Ptprcap",
          "Ptpre",
          "Ptprs",
          "Ptpru",
          "Pttg1ip",
          "Pum1",
          "Pus1",
          "Pus7",
          "Pvr",
          "Pvrl1",
          "Pwp2",
          "Pycard",
          "Pycr2",
          "Pygl",
          "Qars",
          "Qdpr",
          "Rab11fip1",
          "Rab17",
          "Rab18",
          "Rab19",
          "Rab1b",
          "Rab22B",
          "Rab27a",
          "Rab27b",
          "Rab2a",
          "Rab32",
          "Rab35",
          "Rab37",
          "Rab3d",
          "Rab3il1",
          "Rab44",
          "Rab4a",
          "Rabgap1l",
          "Rabgef1",
          "Rac2",
          "Racgap1",
          "Rad21",
          "Rad23a",
          "Rad23b",
          "Rad50",
          "Ralgds",
          "Ralgps2",
          "Ramp1",
          "Ran",
          "Ranbp1",
          "Ranbp10",
          "Ranbp2",
          "Rangap1",
          "Rangrf",
          "Rap1b",
          "Rapgef2",
          "Rapgef3",
          "Rapgef5",
          "Rapgef6",
          "Rara",
          "Rarg",
          "Rasa2",
          "Rasa4",
          "Rasal3",
          "Rasgrp2",
          "Rassf2",
          "Rassf3",
          "Rassf4",
          "Rassf8",
          "Rbbp6",
          "Rbks",
          "Rbm16",
          "Rbm25",
          "Rbm27",
          "Rbm33",
          "Rbm39",
          "Rbm43",
          "Rbm5",
          "Rbm8a",
          "Rbmxrt",
          "Rbp1",
          "Rbpms",
          "Rcc2",
          "Rcl1",
          "Rcn3",
          "Rcor1",
          "Rcor2",
          "Rcsd1",
          "Rdh12",
          "Rdx",
          "Rec8",
          "Reck",
          "Recql4",
          "Reep2",
          "Reep5",
          "Reep6",
          "Rel",
          "Rela",
          "Relb",
          "Renbp",
          "Rest",
          "Rexo2",
          "Rfc2",
          "Rfc4",
          "Rfng",
          "Rftn1",
          "Rfx2",
          "Rgl1",
          "Rgs10",
          "Rgs12",
          "Rgs14",
          "Rgs18",
          "Rgs19",
          "Rgs2",
          "Rhag",
          "Rhbdd2",
          "Rhd",
          "Rhob",
          "Rhog",
          "Rhou",
          "Rin3",
          "Ripk3",
          "Rlf",
          "Rnaseh1",
          "Rnaseh2b",
          "Rnaseh2c",
          "Rnaset2a",
          "Rnf10",
          "Rnf125",
          "Rnf13",
          "Rnf130",
          "Rnf144a",
          "Rnf144b",
          "Rnf150",
          "Rnf180",
          "Rnf187",
          "Rnf213",
          "Rnf216",
          "Rnpep",
          "Rnpepl1",
          "Robld3",
          "Rod1",
          "Rogdi",
          "Rom1",
          "Romo1",
          "Rpa2",
          "Rpia",
          "Rpl13",
          "Rpl13a",
          "Rpl18",
          "Rpl23",
          "Rpl27a",
          "Rpl32",
          "Rpl37a",
          "Rpl4",
          "Rplp2",
          "Rpn1",
          "Rpn2",
          "Rprd1b",
          "Rps10",
          "Rps11",
          "Rps19",
          "Rps20",
          "Rps21",
          "Rps25",
          "Rps27l",
          "Rps3",
          "Rps3a",
          "Rps6ka1",
          "Rps6ka2",
          "Rps6ka5",
          "Rps8",
          "Rrad",
          "Rrbp1",
          "Rreb1",
          "Rrm1",
          "Rrm2",
          "Rrp1b",
          "Rrp9",
          "Rsbn1",
          "Rsl1d1",
          "Rsu1",
          "Rtkn",
          "Rtn4r",
          "Rtn4rl1",
          "Rtp4",
          "Rufy2",
          "Runx1",
          "Runx2",
          "Ruvbl1",
          "Ruvbl2",
          "Ryk",
          "S100a10",
          "S100a4",
          "S100a6",
          "S100a8",
          "S100a9",
          "S1pr1",
          "S1pr2",
          "S1pr3",
          "S1pr4",
          "SMC4",
          "Sae1",
          "Samd1",
          "Samd10",
          "Samd14",
          "Samhd1",
          "Samm50",
          "Samsn1",
          "Sars",
          "Sat1",
          "Satb1",
          "Sbk1",
          "Sbno1",
          "Scaf11",
          "Scamp2",
          "Scarf1",
          "Scd2",
          "Scin",
          "Scly",
          "Scnn1a",
          "Scpep1",
          "Scrn3",
          "Sdad1",
          "Sdc3",
          "Sdf2l1",
          "Sdha",
          "Sdhb",
          "Sdhc",
          "Sdhd",
          "Sdpr",
          "Sdsl",
          "Sec11c",
          "Sec14l2",
          "Sec22c",
          "Sec24d",
          "Sec31a",
          "Sec61a1",
          "Sec61b",
          "Sec63",
          "Secisbp2",
          "Sel1l",
          "Selenbp1",
          "Selk",
          "Sell",
          "Selm",
          "Selp",
          "Selplg",
          "Sema4a",
          "Senp6",
          "Senp7",
          "Sepw1",
          "Sepx1",
          "Serinc5",
          "Serp1",
          "Serpina3f",
          "Serpinb6b",
          "Serpine2",
          "Serpinf1",
          "Sertad1",
          "Sesn1",
          "Sesn3",
          "Sestd1",
          "Setd1a",
          "Setd2",
          "Setd8",
          "Sf3a2",
          "Sf3b1",
          "Sf3b2",
          "Sf3b3",
          "Sfmbt1",
          "Sfpi1",
          "Sfpq",
          "Sfrs18",
          "Sfrs3",
          "Sfrs7",
          "Sfswap",
          "Sfxn1",
          "Sfxn3",
          "Sgcb",
          "Sgk1",
          "Sgms2",
          "Sgpp1",
          "Sh2b2",
          "Sh2d2a",
          "Sh2d3c",
          "Sh2d4a",
          "Sh3bgrl3",
          "Sh3bp5",
          "Sh3glb1",
          "Sh3kbp1",
          "Sh3pxd2b",
          "Sh3tc1",
          "Shank3",
          "Shfm1",
          "Shisa5",
          "Shmt1",
          "Sigirr",
          "Siglec5",
          "Siglecg",
          "Sigmar1",
          "Sik1",
          "Sipa1l1",
          "Sirpa",
          "Sirt2",
          "Sirt7",
          "Siva1",
          "Skil",
          "Skiv2l2",
          "Sla",
          "Slain1",
          "Slbp",
          "Slc12a9",
          "Slc14a1",
          "Slc16a1",
          "Slc16a10",
          "Slc17a9",
          "Slc18a2",
          "Slc19a1",
          "Slc22a23",
          "Slc22a3",
          "Slc24a6",
          "Slc25a1",
          "Slc25a12",
          "Slc25a13",
          "Slc25a21",
          "Slc25a23",
          "Slc25a3",
          "Slc25a38",
          "Slc25a39",
          "Slc25a4",
          "Slc25a42",
          "Slc25a44",
          "Slc25a5",
          "Slc26a1",
          "Slc28a2",
          "Slc29a1",
          "Slc2a1",
          "Slc2a6",
          "Slc30a7",
          "Slc31a2",
          "Slc35b2",
          "Slc35b4",
          "Slc35c2",
          "Slc35e2",
          "Slc35e4",
          "Slc36a1",
          "Slc38a1",
          "Slc38a2",
          "Slc38a5",
          "Slc39a6",
          "Slc39a8",
          "Slc3a2",
          "Slc41a3",
          "Slc43a1",
          "Slc43a3",
          "Slc44a2",
          "Slc45a3",
          "Slc45a4",
          "Slc46a3",
          "Slc4a8",
          "Slc6a13",
          "Slc7a1",
          "Slc7a4",
          "Slc7a8",
          "Slc9a9",
          "Slco3a1",
          "Slco4a1",
          "Slfn2",
          "Slfn8",
          "Slfn9",
          "Slk",
          "Slmap",
          "Slmo2",
          "Slpi",
          "Smad1",
          "Smap1",
          "Smap2",
          "Smarca4",
          "Smarca5",
          "Smarcc1",
          "Smarcc2",
          "Smc1a",
          "Smc2",
          "Smc3",
          "Smchd1",
          "Smg1",
          "Smg6",
          "Smpd4",
          "Smtn",
          "Smyd2",
          "Smyd3",
          "Smyd5",
          "Snd1",
          "Snord49b",
          "Snrnp200",
          "Snrnp40",
          "Snrpa1",
          "Snrpb",
          "Snrpd1",
          "Snrpd2",
          "Snrpf",
          "Sntb2",
          "Snx1",
          "Snx10",
          "Snx18",
          "Snx20",
          "Snx3",
          "Snx30",
          "Snx5",
          "Snx9",
          "Soat1",
          "Soat2",
          "Socs1",
          "Sod1",
          "Sod2",
          "Son",
          "Sorbs1",
          "Sorbs3",
          "Sord",
          "Sorl1",
          "Sort1",
          "Sox12",
          "Sox13",
          "Sox4",
          "Sox6",
          "Sp100",
          "Sp110",
          "Spag5",
          "Spata13",
          "Spata24",
          "Spata6",
          "Spc24",
          "Spcs2",
          "Spcs3",
          "Specc1l",
          "Sphk1",
          "Spin1",
          "Spire1",
          "Spire2",
          "Spn",
          "Spna1",
          "Spna2",
          "Spnb1",
          "Spnb2",
          "Spns2",
          "Spns3",
          "Spon2",
          "Spop",
          "Spr",
          "Sqrdl",
          "Sqstm1",
          "Sra1",
          "Srcap",
          "Srgap2",
          "Srgap3",
          "Srgn",
          "Sri",
          "Srm",
          "Srp19",
          "Srp68",
          "Srp72",
          "Srp9",
          "Srpk2",
          "Srprb",
          "Srrm1",
          "Srrm2",
          "Srrt",
          "Srsf1",
          "Srsf2",
          "Srsf6",
          "Ssb",
          "Ssbp3",
          "Ssh1",
          "Ssh3",
          "Ssna1",
          "Ssr1",
          "Ssr2",
          "Ssr4",
          "Ssrp1",
          "Ssx2ip",
          "St14",
          "St3gal5",
          "St8sia4",
          "Stard10",
          "Stard5",
          "Stat1",
          "Stat3",
          "Stat4",
          "Stat5a",
          "Stat5b",
          "Stau2",
          "Steap3",
          "Stk10",
          "Stk38",
          "Stom",
          "Ston2",
          "Stra13",
          "Strap",
          "Strbp",
          "Stt3b",
          "Stx2",
          "Stx3",
          "Stxbp1",
          "Stxbp3a",
          "Stxbp5",
          "Sun2",
          "Supt16h",
          "Susd3",
          "Svip",
          "Syce2",
          "Syf2",
          "Syk",
          "Syne1",
          "Syne2",
          "Syngr1",
          "Synj2",
          "Sypl",
          "Sytl1",
          "Sytl4",
          "Tacc1",
          "Tacc2",
          "Tacstd2",
          "Taf1",
          "Taf12",
          "Taf9",
          "Tagln2",
          "Tal1",
          "Taldo1",
          "Taok3",
          "Tap1",
          "Tapbpl",
          "Tapt1",
          "Tars2",
          "Tarsl2",
          "Tax1bp1",
          "Tbc1d16",
          "Tbc1d17",
          "Tbc1d2",
          "Tbc1d22b",
          "Tbc1d4",
          "Tbc1d5",
          "Tbc1d9b",
          "Tbcb",
          "Tbccd1",
          "Tbkbp1",
          "Tbl1x",
          "Tbl1xr1",
          "Tbrg1",
          "Tbrg4",
          "Tbxa2r",
          "Tbxas1",
          "Tcb",
          "Tceb3",
          "Tcerg1",
          "Tcf12",
          "Tcf19",
          "Tcf20",
          "Tcf25",
          "Tcf3",
          "Tcf7",
          "Tcfe3",
          "Tcfec",
          "Tcirg1",
          "Tcn2",
          "Tcp11l2",
          "Tec",
          "Tecr",
          "Tep1",
          "Tet1",
          "Tet2",
          "Tfam",
          "Tfdp2",
          "Tfg",
          "Tfrc",
          "Tgfb1",
          "Tgfbi",
          "Tgfbr2",
          "Tgfbr3",
          "Tgm2",
          "Thap3",
          "Thoc4",
          "Thoc7",
          "Thop1",
          "Thra",
          "Thrap3",
          "Thumpd1",
          "Thy1",
          "Tiam1",
          "Ticam2",
          "Tie1",
          "Tifab",
          "Timeless",
          "Timm10",
          "Timp2",
          "Tinagl1",
          "Tirap",
          "Tjp2",
          "Tjp3",
          "Tk1",
          "Tkt",
          "Tle6",
          "Tlk1",
          "Tlr2",
          "Tm6sf1",
          "Tm7sf3",
          "Tm9sf3",
          "Tmbim6",
          "Tmc6",
          "Tmc8",
          "Tmcc2",
          "Tmed10",
          "Tmed3",
          "Tmed9",
          "Tmem109",
          "Tmem119",
          "Tmem131",
          "Tmem141",
          "Tmem147",
          "Tmem14c",
          "Tmem159",
          "Tmem160",
          "Tmem165",
          "Tmem173",
          "Tmem176a",
          "Tmem176b",
          "Tmem179b",
          "Tmem180",
          "Tmem184b",
          "Tmem2",
          "Tmem20",
          "Tmem205",
          "Tmem208",
          "Tmem229b",
          "Tmem29",
          "Tmem38b",
          "Tmem41a",
          "Tmem50a",
          "Tmem50b",
          "Tmem53",
          "Tmem56",
          "Tmem59",
          "Tmem70",
          "Tmem8",
          "Tmem9",
          "Tmem97",
          "Tmpo",
          "Tmsb10",
          "Tmx4",
          "Tnfaip2",
          "Tnfaip8",
          "Tnfaip8l2",
          "Tnfrsf13b",
          "Tnfrsf18",
          "Tnfrsf1a",
          "Tnfrsf1b",
          "Tnfrsf21",
          "Tnfrsf26",
          "Tnfsf14",
          "Tnfsf9",
          "Tnik",
          "Tnip1",
          "Tnk2",
          "Tnks1bp1",
          "Tnks2",
          "Tnni2",
          "Tnrc18",
          "Tnrc6a",
          "Tnrc6b",
          "Tns1",
          "Tns3",
          "Tns4",
          "Tom40",
          "Tomm22",
          "Tomm5",
          "Tomm6",
          "Tomm70a",
          "Tonsl",
          "Top2a",
          "Top2b",
          "Topbp1",
          "Tor1a",
          "Tor3a",
          "Tpcn1",
          "Tpd52",
          "Tpd52l2",
          "Tpm1",
          "Tpm2",
          "Tpm3",
          "Tpm4",
          "Tpp1",
          "Tpr",
          "Tprgl",
          "Tprkb",
          "Tpsb2",
          "Tpx2",
          "Traf3ip2",
          "Traf3ip3",
          "Traf4",
          "Trafd1",
          "Trak2",
          "Tram1",
          "Trappc5",
          "Trem1",
          "Trem3",
          "Treml1",
          "Treml2",
          "Trerf1",
          "Trf",
          "Trfr2",
          "Trib2",
          "Trim10",
          "Trim2",
          "Trim24",
          "Trim25",
          "Trim26",
          "Trim28",
          "Trim45",
          "Trim47",
          "Trim8",
          "Trip10",
          "Trip12",
          "Trip6",
          "Trmt1",
          "Trmt61a",
          "Trp53",
          "Trp53i11",
          "Trp53i13",
          "Trps1",
          "Trpv2",
          "Tsc22d4",
          "Tsen34",
          "Tsn",
          "Tsnax",
          "Tspan13",
          "Tspan2",
          "Tspan31",
          "Tspan32",
          "Tspan33",
          "Tspan5",
          "Tspo",
          "Tspo2",
          "Tspyl3",
          "Ttc15",
          "Ttc21b",
          "Ttc27",
          "Ttc3",
          "Ttc39c",
          "Ttll12",
          "Ttll9",
          "Ttyh2",
          "Tuba1a",
          "Tuba1b",
          "Tuba1c",
          "Tuba8",
          "Tubb2a",
          "Tubb5",
          "Tubb6",
          "Twf2",
          "Txn1",
          "Txn2",
          "Txndc16",
          "Txndc5",
          "Txnip",
          "Txnl1",
          "Txnl4a",
          "Txnrd1",
          "Txnrd2",
          "Tyms",
          "Tyrobp",
          "Uap1",
          "Uba1",
          "Uba2",
          "Ubac1",
          "Ubap2",
          "Ubash3b",
          "Ubb",
          "Ube2c",
          "Ube2e3",
          "Ube2l6",
          "Ube2q1",
          "Ube2r2",
          "Ublcp1",
          "Ubqln1",
          "Ubr5",
          "Ubr7",
          "Ubtd1",
          "Ubtf",
          "Ubxn2a",
          "Uchl1",
          "Uck2",
          "Ucp2",
          "Ugcg",
          "Ugcgl1",
          "Ugdh",
          "Ugt1a1",
          "Uhrf1",
          "Uhrf1bp1",
          "Uhrf1bp1l",
          "Ulk3",
          "Unc119",
          "Unc119b",
          "Unc93b1",
          "Ung",
          "Uqcr",
          "Uqcr10",
          "Uqcrc1",
          "Uqcrc2",
          "Uqcrfs1",
          "Uqcrq",
          "Urod",
          "Uros",
          "Use1",
          "Usp1",
          "Usp10",
          "Usp15",
          "Usp2",
          "Usp22",
          "Usp24",
          "Usp25",
          "Usp32",
          "Usp33",
          "Usp34",
          "Usp36",
          "Usp39",
          "Usp4",
          "Usp40",
          "Usp45",
          "Usp48",
          "Usp6nl",
          "Usp9x",
          "Utp14a",
          "Utp20",
          "Utrn",
          "Vamp2",
          "Vamp5",
          "Vamp8",
          "Vangl1",
          "Vars",
          "Vasp",
          "Vat1",
          "Vav1",
          "Vav3",
          "Vcam1",
          "Vcl",
          "Vdac1",
          "Vdr",
          "Vegfa",
          "Vegfb",
          "Vgll4",
          "Vill",
          "Vim",
          "Vopp1",
          "Vprbp",
          "Vps13c",
          "Vps28",
          "Vps35",
          "Vps53",
          "Vps72",
          "Vwa5a",
          "Vwf",
          "Wapal",
          "Was",
          "Wasf2",
          "Wbp2",
          "Wbp5",
          "Wbscr27",
          "Wdfy4",
          "Wdhd1",
          "Wdr1",
          "Wdr18",
          "Wdr4",
          "Wdr59",
          "Wdr60",
          "Wdr61",
          "Wdr65",
          "Wdr73",
          "Wdr74",
          "Wdr8",
          "Wdr81",
          "Wdr92",
          "Wdsub1",
          "Whsc1",
          "Whsc1l1",
          "Wipf1",
          "Wipi2",
          "Wls",
          "Wnk1",
          "Wrn",
          "Wsb1",
          "Xbp1",
          "Xcl1",
          "Xdh",
          "Xk",
          "Xkr8",
          "Xpc",
          "Xpnpep1",
          "Xrcc5",
          "Xrcc6",
          "Xrn2",
          "Ybx1",
          "Ydjc",
          "Ylpm1",
          "Ypel3",
          "Ypel5",
          "Ythdc1",
          "Ywhae",
          "Ywhaq",
          "Ywhaz",
          "Zbed3",
          "Zbtb1",
          "Zbtb10",
          "Zbtb16",
          "Zbtb20",
          "Zbtb38",
          "Zbtb4",
          "Zbtb46",
          "Zbtb7a",
          "Zc3h18",
          "Zc3h6",
          "Zc3hav1",
          "Zcchc11",
          "Zcchc6",
          "Zdhhc14",
          "Zdhhc20",
          "Zdhhc8",
          "Zdhhc9",
          "Zeb1",
          "Zfand2b",
          "Zfand3",
          "Zfhx2",
          "Zfhx3",
          "Zfml",
          "Zfp106",
          "Zfp207",
          "Zfp217",
          "Zfp238",
          "Zfp259",
          "Zfp326",
          "Zfp36",
          "Zfp36l2",
          "Zfp467",
          "Zfp507",
          "Zfp516",
          "Zfp579",
          "Zfp608",
          "Zfp637",
          "Zfp644",
          "Zfp706",
          "Zfp783",
          "Zfp800",
          "Zfp831",
          "Zfp90",
          "Zfp945",
          "Zfpm1",
          "Zg16",
          "Zkscan1",
          "Zmat3",
          "Zmiz1",
          "Zmynd11",
          "Zmynd8",
          "Znhit1",
          "Zswim4",
          "Zwint",
          "Zyx",
          "Zzef1",
          "calp80",
          "hnRNP A2/B1",
          "mFLJ00022",
          "mKIAA0007",
          "mKIAA0569",
          "mKIAA0621",
          "mKIAA1027",
          "mKIAA1575",
          "mKIAA1994",
          "rp9",
          "slc43a2"
         ],
         "legendgroup": "",
         "marker": {
          "color": "#636efa",
          "symbol": "circle"
         },
         "mode": "markers",
         "name": "",
         "showlegend": false,
         "type": "scattergl",
         "x": {
          "bdata": "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",
          "dtype": "f4"
         },
         "xaxis": "x",
         "y": {
          "bdata": "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",
          "dtype": "f4"
         },
         "yaxis": "y"
        }
       ],
       "layout": {
        "height": 600,
        "legend": {
         "tracegroupgap": 0
        },
        "template": {
         "data": {
          "bar": [
           {
            "error_x": {
             "color": "#2a3f5f"
            },
            "error_y": {
             "color": "#2a3f5f"
            },
            "marker": {
             "line": {
              "color": "#E5ECF6",
              "width": 0.5
             },
             "pattern": {
              "fillmode": "overlay",
              "size": 10,
              "solidity": 0.2
             }
            },
            "type": "bar"
           }
          ],
          "barpolar": [
           {
            "marker": {
             "line": {
              "color": "#E5ECF6",
              "width": 0.5
             },
             "pattern": {
              "fillmode": "overlay",
              "size": 10,
              "solidity": 0.2
             }
            },
            "type": "barpolar"
           }
          ],
          "carpet": [
           {
            "aaxis": {
             "endlinecolor": "#2a3f5f",
             "gridcolor": "white",
             "linecolor": "white",
             "minorgridcolor": "white",
             "startlinecolor": "#2a3f5f"
            },
            "baxis": {
             "endlinecolor": "#2a3f5f",
             "gridcolor": "white",
             "linecolor": "white",
             "minorgridcolor": "white",
             "startlinecolor": "#2a3f5f"
            },
            "type": "carpet"
           }
          ],
          "choropleth": [
           {
            "colorbar": {
             "outlinewidth": 0,
             "ticks": ""
            },
            "type": "choropleth"
           }
          ],
          "contour": [
           {
            "colorbar": {
             "outlinewidth": 0,
             "ticks": ""
            },
            "colorscale": [
             [
              0,
              "#0d0887"
             ],
             [
              0.1111111111111111,
              "#46039f"
             ],
             [
              0.2222222222222222,
              "#7201a8"
             ],
             [
              0.3333333333333333,
              "#9c179e"
             ],
             [
              0.4444444444444444,
              "#bd3786"
             ],
             [
              0.5555555555555556,
              "#d8576b"
             ],
             [
              0.6666666666666666,
              "#ed7953"
             ],
             [
              0.7777777777777778,
              "#fb9f3a"
             ],
             [
              0.8888888888888888,
              "#fdca26"
             ],
             [
              1,
              "#f0f921"
             ]
            ],
            "type": "contour"
           }
          ],
          "contourcarpet": [
           {
            "colorbar": {
             "outlinewidth": 0,
             "ticks": ""
            },
            "type": "contourcarpet"
           }
          ],
          "heatmap": [
           {
            "colorbar": {
             "outlinewidth": 0,
             "ticks": ""
            },
            "colorscale": [
             [
              0,
              "#0d0887"
             ],
             [
              0.1111111111111111,
              "#46039f"
             ],
             [
              0.2222222222222222,
              "#7201a8"
             ],
             [
              0.3333333333333333,
              "#9c179e"
             ],
             [
              0.4444444444444444,
              "#bd3786"
             ],
             [
              0.5555555555555556,
              "#d8576b"
             ],
             [
              0.6666666666666666,
              "#ed7953"
             ],
             [
              0.7777777777777778,
              "#fb9f3a"
             ],
             [
              0.8888888888888888,
              "#fdca26"
             ],
             [
              1,
              "#f0f921"
             ]
            ],
            "type": "heatmap"
           }
          ],
          "histogram": [
           {
            "marker": {
             "pattern": {
              "fillmode": "overlay",
              "size": 10,
              "solidity": 0.2
             }
            },
            "type": "histogram"
           }
          ],
          "histogram2d": [
           {
            "colorbar": {
             "outlinewidth": 0,
             "ticks": ""
            },
            "colorscale": [
             [
              0,
              "#0d0887"
             ],
             [
              0.1111111111111111,
              "#46039f"
             ],
             [
              0.2222222222222222,
              "#7201a8"
             ],
             [
              0.3333333333333333,
              "#9c179e"
             ],
             [
              0.4444444444444444,
              "#bd3786"
             ],
             [
              0.5555555555555556,
              "#d8576b"
             ],
             [
              0.6666666666666666,
              "#ed7953"
             ],
             [
              0.7777777777777778,
              "#fb9f3a"
             ],
             [
              0.8888888888888888,
              "#fdca26"
             ],
             [
              1,
              "#f0f921"
             ]
            ],
            "type": "histogram2d"
           }
          ],
          "histogram2dcontour": [
           {
            "colorbar": {
             "outlinewidth": 0,
             "ticks": ""
            },
            "colorscale": [
             [
              0,
              "#0d0887"
             ],
             [
              0.1111111111111111,
              "#46039f"
             ],
             [
              0.2222222222222222,
              "#7201a8"
             ],
             [
              0.3333333333333333,
              "#9c179e"
             ],
             [
              0.4444444444444444,
              "#bd3786"
             ],
             [
              0.5555555555555556,
              "#d8576b"
             ],
             [
              0.6666666666666666,
              "#ed7953"
             ],
             [
              0.7777777777777778,
              "#fb9f3a"
             ],
             [
              0.8888888888888888,
              "#fdca26"
             ],
             [
              1,
              "#f0f921"
             ]
            ],
            "type": "histogram2dcontour"
           }
          ],
          "mesh3d": [
           {
            "colorbar": {
             "outlinewidth": 0,
             "ticks": ""
            },
            "type": "mesh3d"
           }
          ],
          "parcoords": [
           {
            "line": {
             "colorbar": {
              "outlinewidth": 0,
              "ticks": ""
             }
            },
            "type": "parcoords"
           }
          ],
          "pie": [
           {
            "automargin": true,
            "type": "pie"
           }
          ],
          "scatter": [
           {
            "fillpattern": {
             "fillmode": "overlay",
             "size": 10,
             "solidity": 0.2
            },
            "type": "scatter"
           }
          ],
          "scatter3d": [
           {
            "line": {
             "colorbar": {
              "outlinewidth": 0,
              "ticks": ""
             }
            },
            "marker": {
             "colorbar": {
              "outlinewidth": 0,
              "ticks": ""
             }
            },
            "type": "scatter3d"
           }
          ],
          "scattercarpet": [
           {
            "marker": {
             "colorbar": {
              "outlinewidth": 0,
              "ticks": ""
             }
            },
            "type": "scattercarpet"
           }
          ],
          "scattergeo": [
           {
            "marker": {
             "colorbar": {
              "outlinewidth": 0,
              "ticks": ""
             }
            },
            "type": "scattergeo"
           }
          ],
          "scattergl": [
           {
            "marker": {
             "colorbar": {
              "outlinewidth": 0,
              "ticks": ""
             }
            },
            "type": "scattergl"
           }
          ],
          "scattermap": [
           {
            "marker": {
             "colorbar": {
              "outlinewidth": 0,
              "ticks": ""
             }
            },
            "type": "scattermap"
           }
          ],
          "scattermapbox": [
           {
            "marker": {
             "colorbar": {
              "outlinewidth": 0,
              "ticks": ""
             }
            },
            "type": "scattermapbox"
           }
          ],
          "scatterpolar": [
           {
            "marker": {
             "colorbar": {
              "outlinewidth": 0,
              "ticks": ""
             }
            },
            "type": "scatterpolar"
           }
          ],
          "scatterpolargl": [
           {
            "marker": {
             "colorbar": {
              "outlinewidth": 0,
              "ticks": ""
             }
            },
            "type": "scatterpolargl"
           }
          ],
          "scatterternary": [
           {
            "marker": {
             "colorbar": {
              "outlinewidth": 0,
              "ticks": ""
             }
            },
            "type": "scatterternary"
           }
          ],
          "surface": [
           {
            "colorbar": {
             "outlinewidth": 0,
             "ticks": ""
            },
            "colorscale": [
             [
              0,
              "#0d0887"
             ],
             [
              0.1111111111111111,
              "#46039f"
             ],
             [
              0.2222222222222222,
              "#7201a8"
             ],
             [
              0.3333333333333333,
              "#9c179e"
             ],
             [
              0.4444444444444444,
              "#bd3786"
             ],
             [
              0.5555555555555556,
              "#d8576b"
             ],
             [
              0.6666666666666666,
              "#ed7953"
             ],
             [
              0.7777777777777778,
              "#fb9f3a"
             ],
             [
              0.8888888888888888,
              "#fdca26"
             ],
             [
              1,
              "#f0f921"
             ]
            ],
            "type": "surface"
           }
          ],
          "table": [
           {
            "cells": {
             "fill": {
              "color": "#EBF0F8"
             },
             "line": {
              "color": "white"
             }
            },
            "header": {
             "fill": {
              "color": "#C8D4E3"
             },
             "line": {
              "color": "white"
             }
            },
            "type": "table"
           }
          ]
         },
         "layout": {
          "annotationdefaults": {
           "arrowcolor": "#2a3f5f",
           "arrowhead": 0,
           "arrowwidth": 1
          },
          "autotypenumbers": "strict",
          "coloraxis": {
           "colorbar": {
            "outlinewidth": 0,
            "ticks": ""
           }
          },
          "colorscale": {
           "diverging": [
            [
             0,
             "#8e0152"
            ],
            [
             0.1,
             "#c51b7d"
            ],
            [
             0.2,
             "#de77ae"
            ],
            [
             0.3,
             "#f1b6da"
            ],
            [
             0.4,
             "#fde0ef"
            ],
            [
             0.5,
             "#f7f7f7"
            ],
            [
             0.6,
             "#e6f5d0"
            ],
            [
             0.7,
             "#b8e186"
            ],
            [
             0.8,
             "#7fbc41"
            ],
            [
             0.9,
             "#4d9221"
            ],
            [
             1,
             "#276419"
            ]
           ],
           "sequential": [
            [
             0,
             "#0d0887"
            ],
            [
             0.1111111111111111,
             "#46039f"
            ],
            [
             0.2222222222222222,
             "#7201a8"
            ],
            [
             0.3333333333333333,
             "#9c179e"
            ],
            [
             0.4444444444444444,
             "#bd3786"
            ],
            [
             0.5555555555555556,
             "#d8576b"
            ],
            [
             0.6666666666666666,
             "#ed7953"
            ],
            [
             0.7777777777777778,
             "#fb9f3a"
            ],
            [
             0.8888888888888888,
             "#fdca26"
            ],
            [
             1,
             "#f0f921"
            ]
           ],
           "sequentialminus": [
            [
             0,
             "#0d0887"
            ],
            [
             0.1111111111111111,
             "#46039f"
            ],
            [
             0.2222222222222222,
             "#7201a8"
            ],
            [
             0.3333333333333333,
             "#9c179e"
            ],
            [
             0.4444444444444444,
             "#bd3786"
            ],
            [
             0.5555555555555556,
             "#d8576b"
            ],
            [
             0.6666666666666666,
             "#ed7953"
            ],
            [
             0.7777777777777778,
             "#fb9f3a"
            ],
            [
             0.8888888888888888,
             "#fdca26"
            ],
            [
             1,
             "#f0f921"
            ]
           ]
          },
          "colorway": [
           "#636efa",
           "#EF553B",
           "#00cc96",
           "#ab63fa",
           "#FFA15A",
           "#19d3f3",
           "#FF6692",
           "#B6E880",
           "#FF97FF",
           "#FECB52"
          ],
          "font": {
           "color": "#2a3f5f"
          },
          "geo": {
           "bgcolor": "white",
           "lakecolor": "white",
           "landcolor": "#E5ECF6",
           "showlakes": true,
           "showland": true,
           "subunitcolor": "white"
          },
          "hoverlabel": {
           "align": "left"
          },
          "hovermode": "closest",
          "mapbox": {
           "style": "light"
          },
          "paper_bgcolor": "white",
          "plot_bgcolor": "#E5ECF6",
          "polar": {
           "angularaxis": {
            "gridcolor": "white",
            "linecolor": "white",
            "ticks": ""
           },
           "bgcolor": "#E5ECF6",
           "radialaxis": {
            "gridcolor": "white",
            "linecolor": "white",
            "ticks": ""
           }
          },
          "scene": {
           "xaxis": {
            "backgroundcolor": "#E5ECF6",
            "gridcolor": "white",
            "gridwidth": 2,
            "linecolor": "white",
            "showbackground": true,
            "ticks": "",
            "zerolinecolor": "white"
           },
           "yaxis": {
            "backgroundcolor": "#E5ECF6",
            "gridcolor": "white",
            "gridwidth": 2,
            "linecolor": "white",
            "showbackground": true,
            "ticks": "",
            "zerolinecolor": "white"
           },
           "zaxis": {
            "backgroundcolor": "#E5ECF6",
            "gridcolor": "white",
            "gridwidth": 2,
            "linecolor": "white",
            "showbackground": true,
            "ticks": "",
            "zerolinecolor": "white"
           }
          },
          "shapedefaults": {
           "line": {
            "color": "#2a3f5f"
           }
          },
          "ternary": {
           "aaxis": {
            "gridcolor": "white",
            "linecolor": "white",
            "ticks": ""
           },
           "baxis": {
            "gridcolor": "white",
            "linecolor": "white",
            "ticks": ""
           },
           "bgcolor": "#E5ECF6",
           "caxis": {
            "gridcolor": "white",
            "linecolor": "white",
            "ticks": ""
           }
          },
          "title": {
           "x": 0.05
          },
          "xaxis": {
           "automargin": true,
           "gridcolor": "white",
           "linecolor": "white",
           "ticks": "",
           "title": {
            "standoff": 15
           },
           "zerolinecolor": "white",
           "zerolinewidth": 2
          },
          "yaxis": {
           "automargin": true,
           "gridcolor": "white",
           "linecolor": "white",
           "ticks": "",
           "title": {
            "standoff": 15
           },
           "zerolinecolor": "white",
           "zerolinewidth": 2
          }
         }
        },
        "title": {
         "text": "Effect of negating outputs (genes)"
        },
        "width": 600,
        "xaxis": {
         "anchor": "y",
         "domain": [
          0,
          1
         ],
         "title": {
          "text": "Without negating"
         }
        },
        "yaxis": {
         "anchor": "x",
         "domain": [
          0,
          1
         ],
         "title": {
          "text": "With negating"
         }
        }
       }
      }
     },
     "metadata": {},
     "output_type": "display_data"
    }
   ],
   "source": [
    "px.scatter(\n",
    "    x=genes_zero,\n",
    "    y=genes_negative,\n",
    "    title=\"Effect of negating outputs (genes)\",\n",
    "    labels={\"x\": \"Without negating\", \"y\": \"With negating\"},\n",
    "    hover_name=adata.var_names,\n",
    "    width=600,\n",
    "    height=600,\n",
    ")"
   ]
  },
  {
   "cell_type": "code",
   "execution_count": 35,
   "id": "1592388b",
   "metadata": {},
   "outputs": [],
   "source": [
    "cells_zero = adata.X @ genes_zero.numpy()\n",
    "cells_negative = adata.X @ genes_negative.numpy()"
   ]
  },
  {
   "cell_type": "code",
   "execution_count": 36,
   "id": "a9ffaea1",
   "metadata": {},
   "outputs": [
    {
     "data": {
      "application/vnd.plotly.v1+json": {
       "config": {
        "plotlyServerURL": "https://plot.ly"
       },
       "data": [
        {
         "hovertemplate": "color=0<br>Without negating=%{x}<br>With negating=%{y}<extra></extra>",
         "legendgroup": "0",
         "marker": {
          "color": "#636efa",
          "symbol": "circle"
         },
         "mode": "markers",
         "name": "0",
         "showlegend": true,
         "type": "scattergl",
         "x": {
          "bdata": "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",
          "dtype": "f4"
         },
         "xaxis": "x",
         "y": {
          "bdata": "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",
          "dtype": "f4"
         },
         "yaxis": "y"
        },
        {
         "hovertemplate": "color=2<br>Without negating=%{x}<br>With negating=%{y}<extra></extra>",
         "legendgroup": "2",
         "marker": {
          "color": "#EF553B",
          "symbol": "circle"
         },
         "mode": "markers",
         "name": "2",
         "showlegend": true,
         "type": "scattergl",
         "x": {
          "bdata": "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",
          "dtype": "f4"
         },
         "xaxis": "x",
         "y": {
          "bdata": "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",
          "dtype": "f4"
         },
         "yaxis": "y"
        },
        {
         "hovertemplate": "color=1<br>Without negating=%{x}<br>With negating=%{y}<extra></extra>",
         "legendgroup": "1",
         "marker": {
          "color": "#00cc96",
          "symbol": "circle"
         },
         "mode": "markers",
         "name": "1",
         "showlegend": true,
         "type": "scattergl",
         "x": {
          "bdata": "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",
          "dtype": "f4"
         },
         "xaxis": "x",
         "y": {
          "bdata": "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",
          "dtype": "f4"
         },
         "yaxis": "y"
        }
       ],
       "layout": {
        "height": 600,
        "legend": {
         "title": {
          "text": "color"
         },
         "tracegroupgap": 0
        },
        "template": {
         "data": {
          "bar": [
           {
            "error_x": {
             "color": "#2a3f5f"
            },
            "error_y": {
             "color": "#2a3f5f"
            },
            "marker": {
             "line": {
              "color": "#E5ECF6",
              "width": 0.5
             },
             "pattern": {
              "fillmode": "overlay",
              "size": 10,
              "solidity": 0.2
             }
            },
            "type": "bar"
           }
          ],
          "barpolar": [
           {
            "marker": {
             "line": {
              "color": "#E5ECF6",
              "width": 0.5
             },
             "pattern": {
              "fillmode": "overlay",
              "size": 10,
              "solidity": 0.2
             }
            },
            "type": "barpolar"
           }
          ],
          "carpet": [
           {
            "aaxis": {
             "endlinecolor": "#2a3f5f",
             "gridcolor": "white",
             "linecolor": "white",
             "minorgridcolor": "white",
             "startlinecolor": "#2a3f5f"
            },
            "baxis": {
             "endlinecolor": "#2a3f5f",
             "gridcolor": "white",
             "linecolor": "white",
             "minorgridcolor": "white",
             "startlinecolor": "#2a3f5f"
            },
            "type": "carpet"
           }
          ],
          "choropleth": [
           {
            "colorbar": {
             "outlinewidth": 0,
             "ticks": ""
            },
            "type": "choropleth"
           }
          ],
          "contour": [
           {
            "colorbar": {
             "outlinewidth": 0,
             "ticks": ""
            },
            "colorscale": [
             [
              0,
              "#0d0887"
             ],
             [
              0.1111111111111111,
              "#46039f"
             ],
             [
              0.2222222222222222,
              "#7201a8"
             ],
             [
              0.3333333333333333,
              "#9c179e"
             ],
             [
              0.4444444444444444,
              "#bd3786"
             ],
             [
              0.5555555555555556,
              "#d8576b"
             ],
             [
              0.6666666666666666,
              "#ed7953"
             ],
             [
              0.7777777777777778,
              "#fb9f3a"
             ],
             [
              0.8888888888888888,
              "#fdca26"
             ],
             [
              1,
              "#f0f921"
             ]
            ],
            "type": "contour"
           }
          ],
          "contourcarpet": [
           {
            "colorbar": {
             "outlinewidth": 0,
             "ticks": ""
            },
            "type": "contourcarpet"
           }
          ],
          "heatmap": [
           {
            "colorbar": {
             "outlinewidth": 0,
             "ticks": ""
            },
            "colorscale": [
             [
              0,
              "#0d0887"
             ],
             [
              0.1111111111111111,
              "#46039f"
             ],
             [
              0.2222222222222222,
              "#7201a8"
             ],
             [
              0.3333333333333333,
              "#9c179e"
             ],
             [
              0.4444444444444444,
              "#bd3786"
             ],
             [
              0.5555555555555556,
              "#d8576b"
             ],
             [
              0.6666666666666666,
              "#ed7953"
             ],
             [
              0.7777777777777778,
              "#fb9f3a"
             ],
             [
              0.8888888888888888,
              "#fdca26"
             ],
             [
              1,
              "#f0f921"
             ]
            ],
            "type": "heatmap"
           }
          ],
          "histogram": [
           {
            "marker": {
             "pattern": {
              "fillmode": "overlay",
              "size": 10,
              "solidity": 0.2
             }
            },
            "type": "histogram"
           }
          ],
          "histogram2d": [
           {
            "colorbar": {
             "outlinewidth": 0,
             "ticks": ""
            },
            "colorscale": [
             [
              0,
              "#0d0887"
             ],
             [
              0.1111111111111111,
              "#46039f"
             ],
             [
              0.2222222222222222,
              "#7201a8"
             ],
             [
              0.3333333333333333,
              "#9c179e"
             ],
             [
              0.4444444444444444,
              "#bd3786"
             ],
             [
              0.5555555555555556,
              "#d8576b"
             ],
             [
              0.6666666666666666,
              "#ed7953"
             ],
             [
              0.7777777777777778,
              "#fb9f3a"
             ],
             [
              0.8888888888888888,
              "#fdca26"
             ],
             [
              1,
              "#f0f921"
             ]
            ],
            "type": "histogram2d"
           }
          ],
          "histogram2dcontour": [
           {
            "colorbar": {
             "outlinewidth": 0,
             "ticks": ""
            },
            "colorscale": [
             [
              0,
              "#0d0887"
             ],
             [
              0.1111111111111111,
              "#46039f"
             ],
             [
              0.2222222222222222,
              "#7201a8"
             ],
             [
              0.3333333333333333,
              "#9c179e"
             ],
             [
              0.4444444444444444,
              "#bd3786"
             ],
             [
              0.5555555555555556,
              "#d8576b"
             ],
             [
              0.6666666666666666,
              "#ed7953"
             ],
             [
              0.7777777777777778,
              "#fb9f3a"
             ],
             [
              0.8888888888888888,
              "#fdca26"
             ],
             [
              1,
              "#f0f921"
             ]
            ],
            "type": "histogram2dcontour"
           }
          ],
          "mesh3d": [
           {
            "colorbar": {
             "outlinewidth": 0,
             "ticks": ""
            },
            "type": "mesh3d"
           }
          ],
          "parcoords": [
           {
            "line": {
             "colorbar": {
              "outlinewidth": 0,
              "ticks": ""
             }
            },
            "type": "parcoords"
           }
          ],
          "pie": [
           {
            "automargin": true,
            "type": "pie"
           }
          ],
          "scatter": [
           {
            "fillpattern": {
             "fillmode": "overlay",
             "size": 10,
             "solidity": 0.2
            },
            "type": "scatter"
           }
          ],
          "scatter3d": [
           {
            "line": {
             "colorbar": {
              "outlinewidth": 0,
              "ticks": ""
             }
            },
            "marker": {
             "colorbar": {
              "outlinewidth": 0,
              "ticks": ""
             }
            },
            "type": "scatter3d"
           }
          ],
          "scattercarpet": [
           {
            "marker": {
             "colorbar": {
              "outlinewidth": 0,
              "ticks": ""
             }
            },
            "type": "scattercarpet"
           }
          ],
          "scattergeo": [
           {
            "marker": {
             "colorbar": {
              "outlinewidth": 0,
              "ticks": ""
             }
            },
            "type": "scattergeo"
           }
          ],
          "scattergl": [
           {
            "marker": {
             "colorbar": {
              "outlinewidth": 0,
              "ticks": ""
             }
            },
            "type": "scattergl"
           }
          ],
          "scattermap": [
           {
            "marker": {
             "colorbar": {
              "outlinewidth": 0,
              "ticks": ""
             }
            },
            "type": "scattermap"
           }
          ],
          "scattermapbox": [
           {
            "marker": {
             "colorbar": {
              "outlinewidth": 0,
              "ticks": ""
             }
            },
            "type": "scattermapbox"
           }
          ],
          "scatterpolar": [
           {
            "marker": {
             "colorbar": {
              "outlinewidth": 0,
              "ticks": ""
             }
            },
            "type": "scatterpolar"
           }
          ],
          "scatterpolargl": [
           {
            "marker": {
             "colorbar": {
              "outlinewidth": 0,
              "ticks": ""
             }
            },
            "type": "scatterpolargl"
           }
          ],
          "scatterternary": [
           {
            "marker": {
             "colorbar": {
              "outlinewidth": 0,
              "ticks": ""
             }
            },
            "type": "scatterternary"
           }
          ],
          "surface": [
           {
            "colorbar": {
             "outlinewidth": 0,
             "ticks": ""
            },
            "colorscale": [
             [
              0,
              "#0d0887"
             ],
             [
              0.1111111111111111,
              "#46039f"
             ],
             [
              0.2222222222222222,
              "#7201a8"
             ],
             [
              0.3333333333333333,
              "#9c179e"
             ],
             [
              0.4444444444444444,
              "#bd3786"
             ],
             [
              0.5555555555555556,
              "#d8576b"
             ],
             [
              0.6666666666666666,
              "#ed7953"
             ],
             [
              0.7777777777777778,
              "#fb9f3a"
             ],
             [
              0.8888888888888888,
              "#fdca26"
             ],
             [
              1,
              "#f0f921"
             ]
            ],
            "type": "surface"
           }
          ],
          "table": [
           {
            "cells": {
             "fill": {
              "color": "#EBF0F8"
             },
             "line": {
              "color": "white"
             }
            },
            "header": {
             "fill": {
              "color": "#C8D4E3"
             },
             "line": {
              "color": "white"
             }
            },
            "type": "table"
           }
          ]
         },
         "layout": {
          "annotationdefaults": {
           "arrowcolor": "#2a3f5f",
           "arrowhead": 0,
           "arrowwidth": 1
          },
          "autotypenumbers": "strict",
          "coloraxis": {
           "colorbar": {
            "outlinewidth": 0,
            "ticks": ""
           }
          },
          "colorscale": {
           "diverging": [
            [
             0,
             "#8e0152"
            ],
            [
             0.1,
             "#c51b7d"
            ],
            [
             0.2,
             "#de77ae"
            ],
            [
             0.3,
             "#f1b6da"
            ],
            [
             0.4,
             "#fde0ef"
            ],
            [
             0.5,
             "#f7f7f7"
            ],
            [
             0.6,
             "#e6f5d0"
            ],
            [
             0.7,
             "#b8e186"
            ],
            [
             0.8,
             "#7fbc41"
            ],
            [
             0.9,
             "#4d9221"
            ],
            [
             1,
             "#276419"
            ]
           ],
           "sequential": [
            [
             0,
             "#0d0887"
            ],
            [
             0.1111111111111111,
             "#46039f"
            ],
            [
             0.2222222222222222,
             "#7201a8"
            ],
            [
             0.3333333333333333,
             "#9c179e"
            ],
            [
             0.4444444444444444,
             "#bd3786"
            ],
            [
             0.5555555555555556,
             "#d8576b"
            ],
            [
             0.6666666666666666,
             "#ed7953"
            ],
            [
             0.7777777777777778,
             "#fb9f3a"
            ],
            [
             0.8888888888888888,
             "#fdca26"
            ],
            [
             1,
             "#f0f921"
            ]
           ],
           "sequentialminus": [
            [
             0,
             "#0d0887"
            ],
            [
             0.1111111111111111,
             "#46039f"
            ],
            [
             0.2222222222222222,
             "#7201a8"
            ],
            [
             0.3333333333333333,
             "#9c179e"
            ],
            [
             0.4444444444444444,
             "#bd3786"
            ],
            [
             0.5555555555555556,
             "#d8576b"
            ],
            [
             0.6666666666666666,
             "#ed7953"
            ],
            [
             0.7777777777777778,
             "#fb9f3a"
            ],
            [
             0.8888888888888888,
             "#fdca26"
            ],
            [
             1,
             "#f0f921"
            ]
           ]
          },
          "colorway": [
           "#636efa",
           "#EF553B",
           "#00cc96",
           "#ab63fa",
           "#FFA15A",
           "#19d3f3",
           "#FF6692",
           "#B6E880",
           "#FF97FF",
           "#FECB52"
          ],
          "font": {
           "color": "#2a3f5f"
          },
          "geo": {
           "bgcolor": "white",
           "lakecolor": "white",
           "landcolor": "#E5ECF6",
           "showlakes": true,
           "showland": true,
           "subunitcolor": "white"
          },
          "hoverlabel": {
           "align": "left"
          },
          "hovermode": "closest",
          "mapbox": {
           "style": "light"
          },
          "paper_bgcolor": "white",
          "plot_bgcolor": "#E5ECF6",
          "polar": {
           "angularaxis": {
            "gridcolor": "white",
            "linecolor": "white",
            "ticks": ""
           },
           "bgcolor": "#E5ECF6",
           "radialaxis": {
            "gridcolor": "white",
            "linecolor": "white",
            "ticks": ""
           }
          },
          "scene": {
           "xaxis": {
            "backgroundcolor": "#E5ECF6",
            "gridcolor": "white",
            "gridwidth": 2,
            "linecolor": "white",
            "showbackground": true,
            "ticks": "",
            "zerolinecolor": "white"
           },
           "yaxis": {
            "backgroundcolor": "#E5ECF6",
            "gridcolor": "white",
            "gridwidth": 2,
            "linecolor": "white",
            "showbackground": true,
            "ticks": "",
            "zerolinecolor": "white"
           },
           "zaxis": {
            "backgroundcolor": "#E5ECF6",
            "gridcolor": "white",
            "gridwidth": 2,
            "linecolor": "white",
            "showbackground": true,
            "ticks": "",
            "zerolinecolor": "white"
           }
          },
          "shapedefaults": {
           "line": {
            "color": "#2a3f5f"
           }
          },
          "ternary": {
           "aaxis": {
            "gridcolor": "white",
            "linecolor": "white",
            "ticks": ""
           },
           "baxis": {
            "gridcolor": "white",
            "linecolor": "white",
            "ticks": ""
           },
           "bgcolor": "#E5ECF6",
           "caxis": {
            "gridcolor": "white",
            "linecolor": "white",
            "ticks": ""
           }
          },
          "title": {
           "x": 0.05
          },
          "xaxis": {
           "automargin": true,
           "gridcolor": "white",
           "linecolor": "white",
           "ticks": "",
           "title": {
            "standoff": 15
           },
           "zerolinecolor": "white",
           "zerolinewidth": 2
          },
          "yaxis": {
           "automargin": true,
           "gridcolor": "white",
           "linecolor": "white",
           "ticks": "",
           "title": {
            "standoff": 15
           },
           "zerolinecolor": "white",
           "zerolinewidth": 2
          }
         }
        },
        "title": {
         "text": "Differentiated vs Undifferentiated Components (cells)"
        },
        "width": 600,
        "xaxis": {
         "anchor": "y",
         "domain": [
          0,
          1
         ],
         "title": {
          "text": "Without negating"
         }
        },
        "yaxis": {
         "anchor": "x",
         "domain": [
          0,
          1
         ],
         "title": {
          "text": "With negating"
         }
        }
       }
      }
     },
     "metadata": {},
     "output_type": "display_data"
    }
   ],
   "source": [
    "px.scatter(\n",
    "    x=cells_zero,\n",
    "    y=cells_negative,\n",
    "    color=adata.obs[\"cell_type\"],\n",
    "    title=\"Differentiated vs Undifferentiated Components (cells)\",\n",
    "    labels={\"x\": \"Without negating\", \"y\": \"With negating\"},\n",
    "    width=600,\n",
    "    height=600,\n",
    ")"
   ]
  },
  {
   "cell_type": "markdown",
   "id": "b89946b6",
   "metadata": {},
   "source": [
    "Cool, so negating the other directions doesn't rly do anything.\n",
    "- Should be an analytical reason for this. Could it be exploited, or is it trivial?"
   ]
  },
  {
   "cell_type": "markdown",
   "id": "e21b9da9",
   "metadata": {},
   "source": [
    "# Next steps"
   ]
  },
  {
   "cell_type": "markdown",
   "id": "63363e22",
   "metadata": {},
   "source": [
    "1. Use expert-annotated cell types to reduce potential PCA bias.\n",
    "2. Further explore dimension reduction capabilities.\n",
    "    - Task is critical here; classification with few classes allowed this to occur.\n",
    "3. Explore whether smooth changes in output space yield meaningful smooth changes in the gene network\n",
    "    - Need to define what type of gene network is being represented. It's not a gene regulatory network, is it?\n",
    "4. Apply this to a dataset focusing on healthy vs disease cells\n",
    "    - This is the promise of interpretability, since the underlying biology in that case would be unknown.\n",
    "    - In the case of myeloid dev here, we just did a validation by training on known biology (i.e. cell types)."
   ]
  }
 ],
 "metadata": {
  "kernelspec": {
   "display_name": "bmlp-env",
   "language": "python",
   "name": "python3"
  },
  "language_info": {
   "codemirror_mode": {
    "name": "ipython",
    "version": 3
   },
   "file_extension": ".py",
   "mimetype": "text/x-python",
   "name": "python",
   "nbconvert_exporter": "python",
   "pygments_lexer": "ipython3",
   "version": "3.9.23"
  }
 },
 "nbformat": 4,
 "nbformat_minor": 5
}
