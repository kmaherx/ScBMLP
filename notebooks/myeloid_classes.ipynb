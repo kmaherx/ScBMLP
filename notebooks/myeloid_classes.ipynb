{
 "cells": [
  {
   "cell_type": "markdown",
   "id": "b4b2ce6b",
   "metadata": {},
   "source": [
    "# Notes"
   ]
  },
  {
   "cell_type": "markdown",
   "id": "3afbeea4",
   "metadata": {},
   "source": [
    "Main results:\n",
    "1. Cell type classification\n",
    "    - Should scale this up by demonstrating across datasets/batches for a more notable result\n",
    "\n",
    "2. Cell type marker calculation\n",
    "    - Not super unique though. How can we leverage separate output-specific weights? (segue)\n",
    "\n",
    "3. Hierarchical marker calculation\n",
    "    - Opportunity for hierarchical understanding?\n",
    "\n",
    "4. Dimension reduction\n",
    "    - Reconstructs PC space (altho not surprising since it was trained on K-means from top PCs in the first place)\n",
    "    - But also does so for the hierarchical case, which is much cooler"
   ]
  },
  {
   "cell_type": "markdown",
   "id": "6950be24",
   "metadata": {},
   "source": [
    "# Imports"
   ]
  },
  {
   "cell_type": "code",
   "execution_count": 1,
   "id": "61e7e41b",
   "metadata": {},
   "outputs": [],
   "source": [
    "import scanpy as sc\n",
    "import numpy as np\n",
    "import plotly.express as px\n",
    "import pandas as pd\n",
    "import einops\n",
    "import torch\n",
    "\n",
    "from scripts.datasets import myeloid_classes\n",
    "from scripts.bmlp import ScBMLPClassifier, Config"
   ]
  },
  {
   "cell_type": "markdown",
   "id": "a8d9fe41",
   "metadata": {},
   "source": [
    "# Set params"
   ]
  },
  {
   "cell_type": "code",
   "execution_count": 3,
   "id": "600a6f54",
   "metadata": {},
   "outputs": [],
   "source": [
    "DEVICE = \"cpu\"  # faster than mps..."
   ]
  },
  {
   "cell_type": "markdown",
   "id": "1598193b",
   "metadata": {},
   "source": [
    "# Load data"
   ]
  },
  {
   "cell_type": "code",
   "execution_count": 4,
   "id": "05832730",
   "metadata": {},
   "outputs": [],
   "source": [
    "adata, train_dataset, val_dataset, test_dataset = myeloid_classes(device=DEVICE, n_cell_types=3, class_key=\"cell_type\")"
   ]
  },
  {
   "cell_type": "code",
   "execution_count": 5,
   "id": "0cabfe1c",
   "metadata": {},
   "outputs": [],
   "source": [
    "n_cells, n_genes = adata.shape\n",
    "n_cell_types = adata.obs[\"cell_type\"].nunique()"
   ]
  },
  {
   "cell_type": "markdown",
   "id": "7d8fd6ea",
   "metadata": {},
   "source": [
    "## Visualize"
   ]
  },
  {
   "cell_type": "code",
   "execution_count": 6,
   "id": "ebd3475e",
   "metadata": {},
   "outputs": [
    {
     "data": {
      "application/vnd.plotly.v1+json": {
       "config": {
        "plotlyServerURL": "https://plot.ly"
       },
       "data": [
        {
         "hovertemplate": "color=0<br>x=%{x}<br>y=%{y}<extra></extra>",
         "legendgroup": "0",
         "marker": {
          "color": "#636efa",
          "size": 5,
          "symbol": "circle"
         },
         "mode": "markers",
         "name": "0",
         "showlegend": true,
         "type": "scattergl",
         "x": {
          "bdata": "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",
          "dtype": "f4"
         },
         "xaxis": "x",
         "y": {
          "bdata": "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",
          "dtype": "f4"
         },
         "yaxis": "y"
        },
        {
         "hovertemplate": "color=2<br>x=%{x}<br>y=%{y}<extra></extra>",
         "legendgroup": "2",
         "marker": {
          "color": "#EF553B",
          "size": 5,
          "symbol": "circle"
         },
         "mode": "markers",
         "name": "2",
         "showlegend": true,
         "type": "scattergl",
         "x": {
          "bdata": "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",
          "dtype": "f4"
         },
         "xaxis": "x",
         "y": {
          "bdata": "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",
          "dtype": "f4"
         },
         "yaxis": "y"
        },
        {
         "hovertemplate": "color=1<br>x=%{x}<br>y=%{y}<extra></extra>",
         "legendgroup": "1",
         "marker": {
          "color": "#00cc96",
          "size": 5,
          "symbol": "circle"
         },
         "mode": "markers",
         "name": "1",
         "showlegend": true,
         "type": "scattergl",
         "x": {
          "bdata": "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",
          "dtype": "f4"
         },
         "xaxis": "x",
         "y": {
          "bdata": "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",
          "dtype": "f4"
         },
         "yaxis": "y"
        }
       ],
       "layout": {
        "height": 600,
        "legend": {
         "title": {
          "text": "color"
         },
         "tracegroupgap": 0
        },
        "template": {
         "data": {
          "bar": [
           {
            "error_x": {
             "color": "#2a3f5f"
            },
            "error_y": {
             "color": "#2a3f5f"
            },
            "marker": {
             "line": {
              "color": "#E5ECF6",
              "width": 0.5
             },
             "pattern": {
              "fillmode": "overlay",
              "size": 10,
              "solidity": 0.2
             }
            },
            "type": "bar"
           }
          ],
          "barpolar": [
           {
            "marker": {
             "line": {
              "color": "#E5ECF6",
              "width": 0.5
             },
             "pattern": {
              "fillmode": "overlay",
              "size": 10,
              "solidity": 0.2
             }
            },
            "type": "barpolar"
           }
          ],
          "carpet": [
           {
            "aaxis": {
             "endlinecolor": "#2a3f5f",
             "gridcolor": "white",
             "linecolor": "white",
             "minorgridcolor": "white",
             "startlinecolor": "#2a3f5f"
            },
            "baxis": {
             "endlinecolor": "#2a3f5f",
             "gridcolor": "white",
             "linecolor": "white",
             "minorgridcolor": "white",
             "startlinecolor": "#2a3f5f"
            },
            "type": "carpet"
           }
          ],
          "choropleth": [
           {
            "colorbar": {
             "outlinewidth": 0,
             "ticks": ""
            },
            "type": "choropleth"
           }
          ],
          "contour": [
           {
            "colorbar": {
             "outlinewidth": 0,
             "ticks": ""
            },
            "colorscale": [
             [
              0,
              "#0d0887"
             ],
             [
              0.1111111111111111,
              "#46039f"
             ],
             [
              0.2222222222222222,
              "#7201a8"
             ],
             [
              0.3333333333333333,
              "#9c179e"
             ],
             [
              0.4444444444444444,
              "#bd3786"
             ],
             [
              0.5555555555555556,
              "#d8576b"
             ],
             [
              0.6666666666666666,
              "#ed7953"
             ],
             [
              0.7777777777777778,
              "#fb9f3a"
             ],
             [
              0.8888888888888888,
              "#fdca26"
             ],
             [
              1,
              "#f0f921"
             ]
            ],
            "type": "contour"
           }
          ],
          "contourcarpet": [
           {
            "colorbar": {
             "outlinewidth": 0,
             "ticks": ""
            },
            "type": "contourcarpet"
           }
          ],
          "heatmap": [
           {
            "colorbar": {
             "outlinewidth": 0,
             "ticks": ""
            },
            "colorscale": [
             [
              0,
              "#0d0887"
             ],
             [
              0.1111111111111111,
              "#46039f"
             ],
             [
              0.2222222222222222,
              "#7201a8"
             ],
             [
              0.3333333333333333,
              "#9c179e"
             ],
             [
              0.4444444444444444,
              "#bd3786"
             ],
             [
              0.5555555555555556,
              "#d8576b"
             ],
             [
              0.6666666666666666,
              "#ed7953"
             ],
             [
              0.7777777777777778,
              "#fb9f3a"
             ],
             [
              0.8888888888888888,
              "#fdca26"
             ],
             [
              1,
              "#f0f921"
             ]
            ],
            "type": "heatmap"
           }
          ],
          "histogram": [
           {
            "marker": {
             "pattern": {
              "fillmode": "overlay",
              "size": 10,
              "solidity": 0.2
             }
            },
            "type": "histogram"
           }
          ],
          "histogram2d": [
           {
            "colorbar": {
             "outlinewidth": 0,
             "ticks": ""
            },
            "colorscale": [
             [
              0,
              "#0d0887"
             ],
             [
              0.1111111111111111,
              "#46039f"
             ],
             [
              0.2222222222222222,
              "#7201a8"
             ],
             [
              0.3333333333333333,
              "#9c179e"
             ],
             [
              0.4444444444444444,
              "#bd3786"
             ],
             [
              0.5555555555555556,
              "#d8576b"
             ],
             [
              0.6666666666666666,
              "#ed7953"
             ],
             [
              0.7777777777777778,
              "#fb9f3a"
             ],
             [
              0.8888888888888888,
              "#fdca26"
             ],
             [
              1,
              "#f0f921"
             ]
            ],
            "type": "histogram2d"
           }
          ],
          "histogram2dcontour": [
           {
            "colorbar": {
             "outlinewidth": 0,
             "ticks": ""
            },
            "colorscale": [
             [
              0,
              "#0d0887"
             ],
             [
              0.1111111111111111,
              "#46039f"
             ],
             [
              0.2222222222222222,
              "#7201a8"
             ],
             [
              0.3333333333333333,
              "#9c179e"
             ],
             [
              0.4444444444444444,
              "#bd3786"
             ],
             [
              0.5555555555555556,
              "#d8576b"
             ],
             [
              0.6666666666666666,
              "#ed7953"
             ],
             [
              0.7777777777777778,
              "#fb9f3a"
             ],
             [
              0.8888888888888888,
              "#fdca26"
             ],
             [
              1,
              "#f0f921"
             ]
            ],
            "type": "histogram2dcontour"
           }
          ],
          "mesh3d": [
           {
            "colorbar": {
             "outlinewidth": 0,
             "ticks": ""
            },
            "type": "mesh3d"
           }
          ],
          "parcoords": [
           {
            "line": {
             "colorbar": {
              "outlinewidth": 0,
              "ticks": ""
             }
            },
            "type": "parcoords"
           }
          ],
          "pie": [
           {
            "automargin": true,
            "type": "pie"
           }
          ],
          "scatter": [
           {
            "fillpattern": {
             "fillmode": "overlay",
             "size": 10,
             "solidity": 0.2
            },
            "type": "scatter"
           }
          ],
          "scatter3d": [
           {
            "line": {
             "colorbar": {
              "outlinewidth": 0,
              "ticks": ""
             }
            },
            "marker": {
             "colorbar": {
              "outlinewidth": 0,
              "ticks": ""
             }
            },
            "type": "scatter3d"
           }
          ],
          "scattercarpet": [
           {
            "marker": {
             "colorbar": {
              "outlinewidth": 0,
              "ticks": ""
             }
            },
            "type": "scattercarpet"
           }
          ],
          "scattergeo": [
           {
            "marker": {
             "colorbar": {
              "outlinewidth": 0,
              "ticks": ""
             }
            },
            "type": "scattergeo"
           }
          ],
          "scattergl": [
           {
            "marker": {
             "colorbar": {
              "outlinewidth": 0,
              "ticks": ""
             }
            },
            "type": "scattergl"
           }
          ],
          "scattermap": [
           {
            "marker": {
             "colorbar": {
              "outlinewidth": 0,
              "ticks": ""
             }
            },
            "type": "scattermap"
           }
          ],
          "scattermapbox": [
           {
            "marker": {
             "colorbar": {
              "outlinewidth": 0,
              "ticks": ""
             }
            },
            "type": "scattermapbox"
           }
          ],
          "scatterpolar": [
           {
            "marker": {
             "colorbar": {
              "outlinewidth": 0,
              "ticks": ""
             }
            },
            "type": "scatterpolar"
           }
          ],
          "scatterpolargl": [
           {
            "marker": {
             "colorbar": {
              "outlinewidth": 0,
              "ticks": ""
             }
            },
            "type": "scatterpolargl"
           }
          ],
          "scatterternary": [
           {
            "marker": {
             "colorbar": {
              "outlinewidth": 0,
              "ticks": ""
             }
            },
            "type": "scatterternary"
           }
          ],
          "surface": [
           {
            "colorbar": {
             "outlinewidth": 0,
             "ticks": ""
            },
            "colorscale": [
             [
              0,
              "#0d0887"
             ],
             [
              0.1111111111111111,
              "#46039f"
             ],
             [
              0.2222222222222222,
              "#7201a8"
             ],
             [
              0.3333333333333333,
              "#9c179e"
             ],
             [
              0.4444444444444444,
              "#bd3786"
             ],
             [
              0.5555555555555556,
              "#d8576b"
             ],
             [
              0.6666666666666666,
              "#ed7953"
             ],
             [
              0.7777777777777778,
              "#fb9f3a"
             ],
             [
              0.8888888888888888,
              "#fdca26"
             ],
             [
              1,
              "#f0f921"
             ]
            ],
            "type": "surface"
           }
          ],
          "table": [
           {
            "cells": {
             "fill": {
              "color": "#EBF0F8"
             },
             "line": {
              "color": "white"
             }
            },
            "header": {
             "fill": {
              "color": "#C8D4E3"
             },
             "line": {
              "color": "white"
             }
            },
            "type": "table"
           }
          ]
         },
         "layout": {
          "annotationdefaults": {
           "arrowcolor": "#2a3f5f",
           "arrowhead": 0,
           "arrowwidth": 1
          },
          "autotypenumbers": "strict",
          "coloraxis": {
           "colorbar": {
            "outlinewidth": 0,
            "ticks": ""
           }
          },
          "colorscale": {
           "diverging": [
            [
             0,
             "#8e0152"
            ],
            [
             0.1,
             "#c51b7d"
            ],
            [
             0.2,
             "#de77ae"
            ],
            [
             0.3,
             "#f1b6da"
            ],
            [
             0.4,
             "#fde0ef"
            ],
            [
             0.5,
             "#f7f7f7"
            ],
            [
             0.6,
             "#e6f5d0"
            ],
            [
             0.7,
             "#b8e186"
            ],
            [
             0.8,
             "#7fbc41"
            ],
            [
             0.9,
             "#4d9221"
            ],
            [
             1,
             "#276419"
            ]
           ],
           "sequential": [
            [
             0,
             "#0d0887"
            ],
            [
             0.1111111111111111,
             "#46039f"
            ],
            [
             0.2222222222222222,
             "#7201a8"
            ],
            [
             0.3333333333333333,
             "#9c179e"
            ],
            [
             0.4444444444444444,
             "#bd3786"
            ],
            [
             0.5555555555555556,
             "#d8576b"
            ],
            [
             0.6666666666666666,
             "#ed7953"
            ],
            [
             0.7777777777777778,
             "#fb9f3a"
            ],
            [
             0.8888888888888888,
             "#fdca26"
            ],
            [
             1,
             "#f0f921"
            ]
           ],
           "sequentialminus": [
            [
             0,
             "#0d0887"
            ],
            [
             0.1111111111111111,
             "#46039f"
            ],
            [
             0.2222222222222222,
             "#7201a8"
            ],
            [
             0.3333333333333333,
             "#9c179e"
            ],
            [
             0.4444444444444444,
             "#bd3786"
            ],
            [
             0.5555555555555556,
             "#d8576b"
            ],
            [
             0.6666666666666666,
             "#ed7953"
            ],
            [
             0.7777777777777778,
             "#fb9f3a"
            ],
            [
             0.8888888888888888,
             "#fdca26"
            ],
            [
             1,
             "#f0f921"
            ]
           ]
          },
          "colorway": [
           "#636efa",
           "#EF553B",
           "#00cc96",
           "#ab63fa",
           "#FFA15A",
           "#19d3f3",
           "#FF6692",
           "#B6E880",
           "#FF97FF",
           "#FECB52"
          ],
          "font": {
           "color": "#2a3f5f"
          },
          "geo": {
           "bgcolor": "white",
           "lakecolor": "white",
           "landcolor": "#E5ECF6",
           "showlakes": true,
           "showland": true,
           "subunitcolor": "white"
          },
          "hoverlabel": {
           "align": "left"
          },
          "hovermode": "closest",
          "mapbox": {
           "style": "light"
          },
          "paper_bgcolor": "white",
          "plot_bgcolor": "#E5ECF6",
          "polar": {
           "angularaxis": {
            "gridcolor": "white",
            "linecolor": "white",
            "ticks": ""
           },
           "bgcolor": "#E5ECF6",
           "radialaxis": {
            "gridcolor": "white",
            "linecolor": "white",
            "ticks": ""
           }
          },
          "scene": {
           "xaxis": {
            "backgroundcolor": "#E5ECF6",
            "gridcolor": "white",
            "gridwidth": 2,
            "linecolor": "white",
            "showbackground": true,
            "ticks": "",
            "zerolinecolor": "white"
           },
           "yaxis": {
            "backgroundcolor": "#E5ECF6",
            "gridcolor": "white",
            "gridwidth": 2,
            "linecolor": "white",
            "showbackground": true,
            "ticks": "",
            "zerolinecolor": "white"
           },
           "zaxis": {
            "backgroundcolor": "#E5ECF6",
            "gridcolor": "white",
            "gridwidth": 2,
            "linecolor": "white",
            "showbackground": true,
            "ticks": "",
            "zerolinecolor": "white"
           }
          },
          "shapedefaults": {
           "line": {
            "color": "#2a3f5f"
           }
          },
          "ternary": {
           "aaxis": {
            "gridcolor": "white",
            "linecolor": "white",
            "ticks": ""
           },
           "baxis": {
            "gridcolor": "white",
            "linecolor": "white",
            "ticks": ""
           },
           "bgcolor": "#E5ECF6",
           "caxis": {
            "gridcolor": "white",
            "linecolor": "white",
            "ticks": ""
           }
          },
          "title": {
           "x": 0.05
          },
          "xaxis": {
           "automargin": true,
           "gridcolor": "white",
           "linecolor": "white",
           "ticks": "",
           "title": {
            "standoff": 15
           },
           "zerolinecolor": "white",
           "zerolinewidth": 2
          },
          "yaxis": {
           "automargin": true,
           "gridcolor": "white",
           "linecolor": "white",
           "ticks": "",
           "title": {
            "standoff": 15
           },
           "zerolinecolor": "white",
           "zerolinewidth": 2
          }
         }
        },
        "title": {
         "text": "Myeloid progenitor differentiation data"
        },
        "width": 600,
        "xaxis": {
         "anchor": "y",
         "domain": [
          0,
          1
         ],
         "title": {
          "text": "x"
         }
        },
        "yaxis": {
         "anchor": "x",
         "domain": [
          0,
          1
         ],
         "title": {
          "text": "y"
         }
        }
       }
      }
     },
     "metadata": {},
     "output_type": "display_data"
    }
   ],
   "source": [
    "fig = px.scatter(\n",
    "    x=adata.obsm[\"X_pca\"][:, 0],\n",
    "    y=adata.obsm[\"X_pca\"][:, 1],\n",
    "    color=adata.obs[\"cell_type\"],\n",
    "    title=\"Myeloid progenitor differentiation data\",\n",
    "    width=600,\n",
    "    height=600,\n",
    ")\n",
    "fig.update_traces(marker=dict(size=5))\n",
    "fig.show()"
   ]
  },
  {
   "cell_type": "markdown",
   "id": "f9744eb3",
   "metadata": {},
   "source": [
    "# Train model"
   ]
  },
  {
   "cell_type": "code",
   "execution_count": 43,
   "id": "ba59c19c",
   "metadata": {},
   "outputs": [],
   "source": [
    "d_hidden = 64\n",
    "n_epochs = 100\n",
    "lr = 1e-5"
   ]
  },
  {
   "cell_type": "code",
   "execution_count": 44,
   "id": "f22aefc1",
   "metadata": {},
   "outputs": [
    {
     "name": "stderr",
     "output_type": "stream",
     "text": [
      "Training for 100 epochs:   0%|          | 0/100 [00:00<?, ?it/s]"
     ]
    },
    {
     "name": "stderr",
     "output_type": "stream",
     "text": [
      "Training for 100 epochs: 100%|██████████| 100/100 [00:12<00:00,  7.86it/s, train_acc=1.0000, train_loss=0.0066, val_acc=0.8949, val_loss=0.2756]\n"
     ]
    }
   ],
   "source": [
    "cfg = Config(\n",
    "    d_input=n_genes,\n",
    "    d_hidden=d_hidden,\n",
    "    d_output=n_cell_types,\n",
    "    n_epochs=n_epochs,\n",
    "    lr=lr,\n",
    "    device=DEVICE,\n",
    ")\n",
    "model = ScBMLPClassifier(cfg)\n",
    "train_losses, val_losses = model.fit(train_dataset, val_dataset)"
   ]
  },
  {
   "cell_type": "code",
   "execution_count": 45,
   "id": "67ed3071",
   "metadata": {},
   "outputs": [
    {
     "data": {
      "application/vnd.plotly.v1+json": {
       "config": {
        "plotlyServerURL": "https://plot.ly"
       },
       "data": [
        {
         "hovertemplate": "Type=Train<br>Epoch=%{x}<br>Loss=%{y}<extra></extra>",
         "legendgroup": "Train",
         "line": {
          "color": "#636efa",
          "dash": "solid"
         },
         "marker": {
          "symbol": "circle"
         },
         "mode": "lines",
         "name": "Train",
         "orientation": "v",
         "showlegend": true,
         "type": "scatter",
         "x": {
          "bdata": "AAECAwQFBgcICQoLDA0ODxAREhMUFRYXGBkaGxwdHh8gISIjJCUmJygpKissLS4vMDEyMzQ1Njc4OTo7PD0+P0BBQkNERUZHSElKS0xNTk9QUVJTVFVWV1hZWltcXV5fYGFiYw==",
          "dtype": "i1"
         },
         "xaxis": "x",
         "y": {
          "bdata": "AAAAYIgT8T8AAADgvKLvPwAAAOD3we0/AAAA4MP66j8AAAAAxOvoPwAAAGBSyec/AAAAQB/k4z8AAAAg8nbjPwAAAADMOdc/AAAAoBm51z8AAAAAGgjVPwAAAMAzG9Q/AAAAoBHA0D8AAACgviLFPwAAAABQC9Q/AAAAoAX8zz8AAACgJBrJPwAAAGAzY8k/AAAAwFHGxD8AAADAK2PAPwAAAICaabc/AAAAADHFuT8AAABAX9a3PwAAAMAnTbM/AAAAIDEssT8AAAAg06WuPwAAAGABO7g/AAAAYLdarT8AAAAgOM6sPwAAAEBISrE/AAAAQBAlqz8AAADgH1erPwAAAIAlb68/AAAAoGDcpD8AAACA9wqqPwAAAICeEKA/AAAAYJs0oz8AAADgvdmiPwAAAABfZaM/AAAAQLDnoT8AAABA87yZPwAAAEDfuZY/AAAAYBaGoD8AAADg4PSgPwAAAMDWqpg/AAAAgEUglz8AAAAgzLuWPwAAAODEPJk/AAAAwD1ikz8AAABASl2SPwAAACASxZ0/AAAAoPoMkD8AAABgilOUPwAAAMATGJg/AAAAwK/jlT8AAACAiaaBPwAAAOAra4I/AAAAgNVskj8AAABg2uWSPwAAAMAsCoA/AAAA4BXGjD8AAADAJ8mOPwAAAOAwh5E/AAAAgFOyhD8AAADgwHSCPwAAAEBx5II/AAAAIE0iiD8AAABgNp6FPwAAAKB1MYY/AAAA4Ixbhz8AAAAAHJaAPwAAAMBLFXg/AAAAYGxbdz8AAACgWRmAPwAAAOB+JYU/AAAAQFahfT8AAABgMWd1PwAAAGBIhoA/AAAAID4MgT8AAACA+DWEPwAAAOBJ8Xg/AAAAQLSBgD8AAAAA+J59PwAAAODC9Hw/AAAAoMA6fj8AAADgOvR2PwAAAGDFsHs/AAAAYMK/fD8AAABgvL+APwAAAMCXYn0/AAAAoFe1gT8AAABAF2CBPwAAAECusn0/AAAAwDaTeD8AAACAq9R7PwAAACAPcno/AAAAgBAbgT8AAABgAOeDPwAAAICOmHc/AAAAoAEyez8=",
          "dtype": "f8"
         },
         "yaxis": "y"
        },
        {
         "hovertemplate": "Type=Validation<br>Epoch=%{x}<br>Loss=%{y}<extra></extra>",
         "legendgroup": "Validation",
         "line": {
          "color": "#EF553B",
          "dash": "solid"
         },
         "marker": {
          "symbol": "circle"
         },
         "mode": "lines",
         "name": "Validation",
         "orientation": "v",
         "showlegend": true,
         "type": "scatter",
         "x": {
          "bdata": "AAECAwQFBgcICQoLDA0ODxAREhMUFRYXGBkaGxwdHh8gISIjJCUmJygpKissLS4vMDEyMzQ1Njc4OTo7PD0+P0BBQkNERUZHSElKS0xNTk9QUVJTVFVWV1hZWltcXV5fYGFiYw==",
          "dtype": "i1"
         },
         "xaxis": "x",
         "y": {
          "bdata": "AAAA4B4t8T8AAAAAAonwPwAAAOAOWO8/AAAAQEJa7T8AAADgmXPrPwAAAEDDiek/AAAAIGWd5z8AAABAdbblPwAAAKAa9+M/AAAAoOVf4j8AAADg3v3gPwAAACDLnN8/AAAAAHWr3T8AAADg7f/bPwAAAICCn9o/AAAAgOZl2T8AAACAhWjYPwAAAAB1ktc/AAAAgM/b1j8AAADgezXWPwAAAGD8q9U/AAAA4GM31T8AAADAbMjUPwAAAGAlcNQ/AAAAIFQZ1D8AAABgftfTPwAAAMDSlNM/AAAAQCle0z8AAACgNDLTPwAAAECwANM/AAAA4BDd0j8AAADgrLTSPwAAAGCHm9I/AAAAgLOC0j8AAABAfmPSPwAAAOB7VNI/AAAAgPs60j8AAABg6inSPwAAAKA+GtI/AAAAQN4G0j8AAADAB/3RPwAAAGBE8dE/AAAAoHjn0T8AAACAKODRPwAAAECp1tE/AAAAoBDR0T8AAAAAucfRPwAAAMDTv9E/AAAAYJG+0T8AAAAABrbRPwAAAEAetNE/AAAAwCCx0T8AAADg5K7RPwAAAKB8qdE/AAAAwC+p0T8AAACgzqfRPwAAAEDrpNE/AAAAIOik0T8AAABgWqPRPwAAAMB9odE/AAAAII+g0T8AAACAJJ/RPwAAAMCBn9E/AAAAwA+f0T8AAADgpJ3RPwAAAKAZntE/AAAAQDqd0T8AAACAg57RPwAAAMB+ndE/AAAAIFOh0T8AAAAA6J7RPwAAAKBpn9E/AAAAYPee0T8AAAAgDaDRPwAAAIAan9E/AAAA4DCg0T8AAAAARqDRPwAAACDZodE/AAAAYLmh0T8AAAAgcKHRPwAAAKDHodE/AAAAgPyh0T8AAABgBqLRPwAAAEDlotE/AAAAQHCi0T8AAADAXqPRPwAAAID1otE/AAAAwEyj0T8AAABAtqPRPwAAAOCxo9E/AAAAwNSj0T8AAACg2KPRPwAAACDeo9E/AAAAwO2j0T8AAAAg+aPRPwAAAGD4o9E/AAAAgACk0T8AAAAAAqTRPwAAAMAFpNE/AAAAAAWk0T8=",
          "dtype": "f8"
         },
         "yaxis": "y"
        }
       ],
       "layout": {
        "legend": {
         "title": {
          "text": "Type"
         },
         "tracegroupgap": 0
        },
        "template": {
         "data": {
          "bar": [
           {
            "error_x": {
             "color": "#2a3f5f"
            },
            "error_y": {
             "color": "#2a3f5f"
            },
            "marker": {
             "line": {
              "color": "#E5ECF6",
              "width": 0.5
             },
             "pattern": {
              "fillmode": "overlay",
              "size": 10,
              "solidity": 0.2
             }
            },
            "type": "bar"
           }
          ],
          "barpolar": [
           {
            "marker": {
             "line": {
              "color": "#E5ECF6",
              "width": 0.5
             },
             "pattern": {
              "fillmode": "overlay",
              "size": 10,
              "solidity": 0.2
             }
            },
            "type": "barpolar"
           }
          ],
          "carpet": [
           {
            "aaxis": {
             "endlinecolor": "#2a3f5f",
             "gridcolor": "white",
             "linecolor": "white",
             "minorgridcolor": "white",
             "startlinecolor": "#2a3f5f"
            },
            "baxis": {
             "endlinecolor": "#2a3f5f",
             "gridcolor": "white",
             "linecolor": "white",
             "minorgridcolor": "white",
             "startlinecolor": "#2a3f5f"
            },
            "type": "carpet"
           }
          ],
          "choropleth": [
           {
            "colorbar": {
             "outlinewidth": 0,
             "ticks": ""
            },
            "type": "choropleth"
           }
          ],
          "contour": [
           {
            "colorbar": {
             "outlinewidth": 0,
             "ticks": ""
            },
            "colorscale": [
             [
              0,
              "#0d0887"
             ],
             [
              0.1111111111111111,
              "#46039f"
             ],
             [
              0.2222222222222222,
              "#7201a8"
             ],
             [
              0.3333333333333333,
              "#9c179e"
             ],
             [
              0.4444444444444444,
              "#bd3786"
             ],
             [
              0.5555555555555556,
              "#d8576b"
             ],
             [
              0.6666666666666666,
              "#ed7953"
             ],
             [
              0.7777777777777778,
              "#fb9f3a"
             ],
             [
              0.8888888888888888,
              "#fdca26"
             ],
             [
              1,
              "#f0f921"
             ]
            ],
            "type": "contour"
           }
          ],
          "contourcarpet": [
           {
            "colorbar": {
             "outlinewidth": 0,
             "ticks": ""
            },
            "type": "contourcarpet"
           }
          ],
          "heatmap": [
           {
            "colorbar": {
             "outlinewidth": 0,
             "ticks": ""
            },
            "colorscale": [
             [
              0,
              "#0d0887"
             ],
             [
              0.1111111111111111,
              "#46039f"
             ],
             [
              0.2222222222222222,
              "#7201a8"
             ],
             [
              0.3333333333333333,
              "#9c179e"
             ],
             [
              0.4444444444444444,
              "#bd3786"
             ],
             [
              0.5555555555555556,
              "#d8576b"
             ],
             [
              0.6666666666666666,
              "#ed7953"
             ],
             [
              0.7777777777777778,
              "#fb9f3a"
             ],
             [
              0.8888888888888888,
              "#fdca26"
             ],
             [
              1,
              "#f0f921"
             ]
            ],
            "type": "heatmap"
           }
          ],
          "histogram": [
           {
            "marker": {
             "pattern": {
              "fillmode": "overlay",
              "size": 10,
              "solidity": 0.2
             }
            },
            "type": "histogram"
           }
          ],
          "histogram2d": [
           {
            "colorbar": {
             "outlinewidth": 0,
             "ticks": ""
            },
            "colorscale": [
             [
              0,
              "#0d0887"
             ],
             [
              0.1111111111111111,
              "#46039f"
             ],
             [
              0.2222222222222222,
              "#7201a8"
             ],
             [
              0.3333333333333333,
              "#9c179e"
             ],
             [
              0.4444444444444444,
              "#bd3786"
             ],
             [
              0.5555555555555556,
              "#d8576b"
             ],
             [
              0.6666666666666666,
              "#ed7953"
             ],
             [
              0.7777777777777778,
              "#fb9f3a"
             ],
             [
              0.8888888888888888,
              "#fdca26"
             ],
             [
              1,
              "#f0f921"
             ]
            ],
            "type": "histogram2d"
           }
          ],
          "histogram2dcontour": [
           {
            "colorbar": {
             "outlinewidth": 0,
             "ticks": ""
            },
            "colorscale": [
             [
              0,
              "#0d0887"
             ],
             [
              0.1111111111111111,
              "#46039f"
             ],
             [
              0.2222222222222222,
              "#7201a8"
             ],
             [
              0.3333333333333333,
              "#9c179e"
             ],
             [
              0.4444444444444444,
              "#bd3786"
             ],
             [
              0.5555555555555556,
              "#d8576b"
             ],
             [
              0.6666666666666666,
              "#ed7953"
             ],
             [
              0.7777777777777778,
              "#fb9f3a"
             ],
             [
              0.8888888888888888,
              "#fdca26"
             ],
             [
              1,
              "#f0f921"
             ]
            ],
            "type": "histogram2dcontour"
           }
          ],
          "mesh3d": [
           {
            "colorbar": {
             "outlinewidth": 0,
             "ticks": ""
            },
            "type": "mesh3d"
           }
          ],
          "parcoords": [
           {
            "line": {
             "colorbar": {
              "outlinewidth": 0,
              "ticks": ""
             }
            },
            "type": "parcoords"
           }
          ],
          "pie": [
           {
            "automargin": true,
            "type": "pie"
           }
          ],
          "scatter": [
           {
            "fillpattern": {
             "fillmode": "overlay",
             "size": 10,
             "solidity": 0.2
            },
            "type": "scatter"
           }
          ],
          "scatter3d": [
           {
            "line": {
             "colorbar": {
              "outlinewidth": 0,
              "ticks": ""
             }
            },
            "marker": {
             "colorbar": {
              "outlinewidth": 0,
              "ticks": ""
             }
            },
            "type": "scatter3d"
           }
          ],
          "scattercarpet": [
           {
            "marker": {
             "colorbar": {
              "outlinewidth": 0,
              "ticks": ""
             }
            },
            "type": "scattercarpet"
           }
          ],
          "scattergeo": [
           {
            "marker": {
             "colorbar": {
              "outlinewidth": 0,
              "ticks": ""
             }
            },
            "type": "scattergeo"
           }
          ],
          "scattergl": [
           {
            "marker": {
             "colorbar": {
              "outlinewidth": 0,
              "ticks": ""
             }
            },
            "type": "scattergl"
           }
          ],
          "scattermap": [
           {
            "marker": {
             "colorbar": {
              "outlinewidth": 0,
              "ticks": ""
             }
            },
            "type": "scattermap"
           }
          ],
          "scattermapbox": [
           {
            "marker": {
             "colorbar": {
              "outlinewidth": 0,
              "ticks": ""
             }
            },
            "type": "scattermapbox"
           }
          ],
          "scatterpolar": [
           {
            "marker": {
             "colorbar": {
              "outlinewidth": 0,
              "ticks": ""
             }
            },
            "type": "scatterpolar"
           }
          ],
          "scatterpolargl": [
           {
            "marker": {
             "colorbar": {
              "outlinewidth": 0,
              "ticks": ""
             }
            },
            "type": "scatterpolargl"
           }
          ],
          "scatterternary": [
           {
            "marker": {
             "colorbar": {
              "outlinewidth": 0,
              "ticks": ""
             }
            },
            "type": "scatterternary"
           }
          ],
          "surface": [
           {
            "colorbar": {
             "outlinewidth": 0,
             "ticks": ""
            },
            "colorscale": [
             [
              0,
              "#0d0887"
             ],
             [
              0.1111111111111111,
              "#46039f"
             ],
             [
              0.2222222222222222,
              "#7201a8"
             ],
             [
              0.3333333333333333,
              "#9c179e"
             ],
             [
              0.4444444444444444,
              "#bd3786"
             ],
             [
              0.5555555555555556,
              "#d8576b"
             ],
             [
              0.6666666666666666,
              "#ed7953"
             ],
             [
              0.7777777777777778,
              "#fb9f3a"
             ],
             [
              0.8888888888888888,
              "#fdca26"
             ],
             [
              1,
              "#f0f921"
             ]
            ],
            "type": "surface"
           }
          ],
          "table": [
           {
            "cells": {
             "fill": {
              "color": "#EBF0F8"
             },
             "line": {
              "color": "white"
             }
            },
            "header": {
             "fill": {
              "color": "#C8D4E3"
             },
             "line": {
              "color": "white"
             }
            },
            "type": "table"
           }
          ]
         },
         "layout": {
          "annotationdefaults": {
           "arrowcolor": "#2a3f5f",
           "arrowhead": 0,
           "arrowwidth": 1
          },
          "autotypenumbers": "strict",
          "coloraxis": {
           "colorbar": {
            "outlinewidth": 0,
            "ticks": ""
           }
          },
          "colorscale": {
           "diverging": [
            [
             0,
             "#8e0152"
            ],
            [
             0.1,
             "#c51b7d"
            ],
            [
             0.2,
             "#de77ae"
            ],
            [
             0.3,
             "#f1b6da"
            ],
            [
             0.4,
             "#fde0ef"
            ],
            [
             0.5,
             "#f7f7f7"
            ],
            [
             0.6,
             "#e6f5d0"
            ],
            [
             0.7,
             "#b8e186"
            ],
            [
             0.8,
             "#7fbc41"
            ],
            [
             0.9,
             "#4d9221"
            ],
            [
             1,
             "#276419"
            ]
           ],
           "sequential": [
            [
             0,
             "#0d0887"
            ],
            [
             0.1111111111111111,
             "#46039f"
            ],
            [
             0.2222222222222222,
             "#7201a8"
            ],
            [
             0.3333333333333333,
             "#9c179e"
            ],
            [
             0.4444444444444444,
             "#bd3786"
            ],
            [
             0.5555555555555556,
             "#d8576b"
            ],
            [
             0.6666666666666666,
             "#ed7953"
            ],
            [
             0.7777777777777778,
             "#fb9f3a"
            ],
            [
             0.8888888888888888,
             "#fdca26"
            ],
            [
             1,
             "#f0f921"
            ]
           ],
           "sequentialminus": [
            [
             0,
             "#0d0887"
            ],
            [
             0.1111111111111111,
             "#46039f"
            ],
            [
             0.2222222222222222,
             "#7201a8"
            ],
            [
             0.3333333333333333,
             "#9c179e"
            ],
            [
             0.4444444444444444,
             "#bd3786"
            ],
            [
             0.5555555555555556,
             "#d8576b"
            ],
            [
             0.6666666666666666,
             "#ed7953"
            ],
            [
             0.7777777777777778,
             "#fb9f3a"
            ],
            [
             0.8888888888888888,
             "#fdca26"
            ],
            [
             1,
             "#f0f921"
            ]
           ]
          },
          "colorway": [
           "#636efa",
           "#EF553B",
           "#00cc96",
           "#ab63fa",
           "#FFA15A",
           "#19d3f3",
           "#FF6692",
           "#B6E880",
           "#FF97FF",
           "#FECB52"
          ],
          "font": {
           "color": "#2a3f5f"
          },
          "geo": {
           "bgcolor": "white",
           "lakecolor": "white",
           "landcolor": "#E5ECF6",
           "showlakes": true,
           "showland": true,
           "subunitcolor": "white"
          },
          "hoverlabel": {
           "align": "left"
          },
          "hovermode": "closest",
          "mapbox": {
           "style": "light"
          },
          "paper_bgcolor": "white",
          "plot_bgcolor": "#E5ECF6",
          "polar": {
           "angularaxis": {
            "gridcolor": "white",
            "linecolor": "white",
            "ticks": ""
           },
           "bgcolor": "#E5ECF6",
           "radialaxis": {
            "gridcolor": "white",
            "linecolor": "white",
            "ticks": ""
           }
          },
          "scene": {
           "xaxis": {
            "backgroundcolor": "#E5ECF6",
            "gridcolor": "white",
            "gridwidth": 2,
            "linecolor": "white",
            "showbackground": true,
            "ticks": "",
            "zerolinecolor": "white"
           },
           "yaxis": {
            "backgroundcolor": "#E5ECF6",
            "gridcolor": "white",
            "gridwidth": 2,
            "linecolor": "white",
            "showbackground": true,
            "ticks": "",
            "zerolinecolor": "white"
           },
           "zaxis": {
            "backgroundcolor": "#E5ECF6",
            "gridcolor": "white",
            "gridwidth": 2,
            "linecolor": "white",
            "showbackground": true,
            "ticks": "",
            "zerolinecolor": "white"
           }
          },
          "shapedefaults": {
           "line": {
            "color": "#2a3f5f"
           }
          },
          "ternary": {
           "aaxis": {
            "gridcolor": "white",
            "linecolor": "white",
            "ticks": ""
           },
           "baxis": {
            "gridcolor": "white",
            "linecolor": "white",
            "ticks": ""
           },
           "bgcolor": "#E5ECF6",
           "caxis": {
            "gridcolor": "white",
            "linecolor": "white",
            "ticks": ""
           }
          },
          "title": {
           "x": 0.05
          },
          "xaxis": {
           "automargin": true,
           "gridcolor": "white",
           "linecolor": "white",
           "ticks": "",
           "title": {
            "standoff": 15
           },
           "zerolinecolor": "white",
           "zerolinewidth": 2
          },
          "yaxis": {
           "automargin": true,
           "gridcolor": "white",
           "linecolor": "white",
           "ticks": "",
           "title": {
            "standoff": 15
           },
           "zerolinecolor": "white",
           "zerolinewidth": 2
          }
         }
        },
        "title": {
         "text": "Training and Validation Loss"
        },
        "xaxis": {
         "anchor": "y",
         "domain": [
          0,
          1
         ],
         "title": {
          "text": "Epoch"
         }
        },
        "yaxis": {
         "anchor": "x",
         "domain": [
          0,
          1
         ],
         "title": {
          "text": "Loss"
         }
        }
       }
      }
     },
     "metadata": {},
     "output_type": "display_data"
    }
   ],
   "source": [
    "# Combine train and val losses into a single plot\n",
    "loss_df = pd.DataFrame({\n",
    "    'Epoch': list(range(len(train_losses))) + list(range(len(val_losses))),\n",
    "    'Loss': train_losses + val_losses,\n",
    "    'Type': ['Train'] * len(train_losses) + ['Validation'] * len(val_losses)\n",
    "})\n",
    "\n",
    "px.line(loss_df, x='Epoch', y='Loss', color='Type', \n",
    "        title='Training and Validation Loss', \n",
    "        labels={'Loss': 'Loss', 'Epoch': 'Epoch'}).show()"
   ]
  },
  {
   "cell_type": "markdown",
   "id": "de6af2ba",
   "metadata": {},
   "source": [
    "# Interpret weights"
   ]
  },
  {
   "cell_type": "markdown",
   "id": "d15e19ba",
   "metadata": {},
   "source": [
    "## Investigate a particular $Q$ matrix (cell type)"
   ]
  },
  {
   "cell_type": "code",
   "execution_count": 9,
   "id": "d6324946",
   "metadata": {},
   "outputs": [],
   "source": [
    "cell_type = 0"
   ]
  },
  {
   "cell_type": "code",
   "execution_count": 10,
   "id": "f1a41dd7",
   "metadata": {},
   "outputs": [],
   "source": [
    "q = einops.einsum(model.w_p[cell_type], model.w_l, model.w_r, \"hid, hid in1, hid in2 -> in1 in2\")\n",
    "q = 0.5 * (q + q.mT)  # symmetrize"
   ]
  },
  {
   "cell_type": "code",
   "execution_count": 11,
   "id": "9e33c22f",
   "metadata": {},
   "outputs": [],
   "source": [
    "# px.imshow(\n",
    "#     q,\n",
    "#     color_continuous_scale='RdBu_r',\n",
    "#     color_continuous_midpoint=0,\n",
    "# )"
   ]
  },
  {
   "cell_type": "code",
   "execution_count": 12,
   "id": "f37996d2",
   "metadata": {},
   "outputs": [
    {
     "name": "stdout",
     "output_type": "stream",
     "text": [
      "WARNING: dendrogram data not found (using key=dendrogram_cell_type). Running `sc.tl.dendrogram` with default parameters. For fine tuning it is recommended to run `sc.tl.dendrogram` independently.\n"
     ]
    },
    {
     "data": {
      "image/png": "[encoded data removed]",
      "text/plain": [
       "<Figure size 563x250 with 6 Axes>"
      ]
     },
     "metadata": {},
     "output_type": "display_data"
    }
   ],
   "source": [
    "# Calculate gene markers for reference\n",
    "sc.tl.rank_genes_groups(adata, groupby=\"cell_type\", method=\"logreg\", n_genes=adata.shape[1])\n",
    "sc.pl.rank_genes_groups_dotplot(adata, n_genes=3, cmap=\"Greys\")"
   ]
  },
  {
   "cell_type": "code",
   "execution_count": 13,
   "id": "bff49840",
   "metadata": {},
   "outputs": [],
   "source": [
    "vals, vecs = torch.linalg.eigh(q)\n",
    "vals = vals.flip([0])\n",
    "vecs = vecs.flip([1])"
   ]
  },
  {
   "cell_type": "code",
   "execution_count": 14,
   "id": "4c0fd5f9",
   "metadata": {},
   "outputs": [
    {
     "data": {
      "application/vnd.plotly.v1+json": {
       "config": {
        "plotlyServerURL": "https://plot.ly"
       },
       "data": [
        {
         "bingroup": "x",
         "hovertemplate": "variable=0<br>value=%{x}<br>count=%{y}<extra></extra>",
         "legendgroup": "0",
         "marker": {
          "color": "#636efa",
          "pattern": {
           "shape": ""
          }
         },
         "name": "0",
         "nbinsx": 100,
         "orientation": "v",
         "showlegend": true,
         "type": "histogram",
         "x": {
          "bdata": "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",
          "dtype": "f4"
         },
         "xaxis": "x",
         "yaxis": "y"
        }
       ],
       "layout": {
        "barmode": "relative",
        "legend": {
         "title": {
          "text": "variable"
         },
         "tracegroupgap": 0
        },
        "template": {
         "data": {
          "bar": [
           {
            "error_x": {
             "color": "#2a3f5f"
            },
            "error_y": {
             "color": "#2a3f5f"
            },
            "marker": {
             "line": {
              "color": "#E5ECF6",
              "width": 0.5
             },
             "pattern": {
              "fillmode": "overlay",
              "size": 10,
              "solidity": 0.2
             }
            },
            "type": "bar"
           }
          ],
          "barpolar": [
           {
            "marker": {
             "line": {
              "color": "#E5ECF6",
              "width": 0.5
             },
             "pattern": {
              "fillmode": "overlay",
              "size": 10,
              "solidity": 0.2
             }
            },
            "type": "barpolar"
           }
          ],
          "carpet": [
           {
            "aaxis": {
             "endlinecolor": "#2a3f5f",
             "gridcolor": "white",
             "linecolor": "white",
             "minorgridcolor": "white",
             "startlinecolor": "#2a3f5f"
            },
            "baxis": {
             "endlinecolor": "#2a3f5f",
             "gridcolor": "white",
             "linecolor": "white",
             "minorgridcolor": "white",
             "startlinecolor": "#2a3f5f"
            },
            "type": "carpet"
           }
          ],
          "choropleth": [
           {
            "colorbar": {
             "outlinewidth": 0,
             "ticks": ""
            },
            "type": "choropleth"
           }
          ],
          "contour": [
           {
            "colorbar": {
             "outlinewidth": 0,
             "ticks": ""
            },
            "colorscale": [
             [
              0,
              "#0d0887"
             ],
             [
              0.1111111111111111,
              "#46039f"
             ],
             [
              0.2222222222222222,
              "#7201a8"
             ],
             [
              0.3333333333333333,
              "#9c179e"
             ],
             [
              0.4444444444444444,
              "#bd3786"
             ],
             [
              0.5555555555555556,
              "#d8576b"
             ],
             [
              0.6666666666666666,
              "#ed7953"
             ],
             [
              0.7777777777777778,
              "#fb9f3a"
             ],
             [
              0.8888888888888888,
              "#fdca26"
             ],
             [
              1,
              "#f0f921"
             ]
            ],
            "type": "contour"
           }
          ],
          "contourcarpet": [
           {
            "colorbar": {
             "outlinewidth": 0,
             "ticks": ""
            },
            "type": "contourcarpet"
           }
          ],
          "heatmap": [
           {
            "colorbar": {
             "outlinewidth": 0,
             "ticks": ""
            },
            "colorscale": [
             [
              0,
              "#0d0887"
             ],
             [
              0.1111111111111111,
              "#46039f"
             ],
             [
              0.2222222222222222,
              "#7201a8"
             ],
             [
              0.3333333333333333,
              "#9c179e"
             ],
             [
              0.4444444444444444,
              "#bd3786"
             ],
             [
              0.5555555555555556,
              "#d8576b"
             ],
             [
              0.6666666666666666,
              "#ed7953"
             ],
             [
              0.7777777777777778,
              "#fb9f3a"
             ],
             [
              0.8888888888888888,
              "#fdca26"
             ],
             [
              1,
              "#f0f921"
             ]
            ],
            "type": "heatmap"
           }
          ],
          "histogram": [
           {
            "marker": {
             "pattern": {
              "fillmode": "overlay",
              "size": 10,
              "solidity": 0.2
             }
            },
            "type": "histogram"
           }
          ],
          "histogram2d": [
           {
            "colorbar": {
             "outlinewidth": 0,
             "ticks": ""
            },
            "colorscale": [
             [
              0,
              "#0d0887"
             ],
             [
              0.1111111111111111,
              "#46039f"
             ],
             [
              0.2222222222222222,
              "#7201a8"
             ],
             [
              0.3333333333333333,
              "#9c179e"
             ],
             [
              0.4444444444444444,
              "#bd3786"
             ],
             [
              0.5555555555555556,
              "#d8576b"
             ],
             [
              0.6666666666666666,
              "#ed7953"
             ],
             [
              0.7777777777777778,
              "#fb9f3a"
             ],
             [
              0.8888888888888888,
              "#fdca26"
             ],
             [
              1,
              "#f0f921"
             ]
            ],
            "type": "histogram2d"
           }
          ],
          "histogram2dcontour": [
           {
            "colorbar": {
             "outlinewidth": 0,
             "ticks": ""
            },
            "colorscale": [
             [
              0,
              "#0d0887"
             ],
             [
              0.1111111111111111,
              "#46039f"
             ],
             [
              0.2222222222222222,
              "#7201a8"
             ],
             [
              0.3333333333333333,
              "#9c179e"
             ],
             [
              0.4444444444444444,
              "#bd3786"
             ],
             [
              0.5555555555555556,
              "#d8576b"
             ],
             [
              0.6666666666666666,
              "#ed7953"
             ],
             [
              0.7777777777777778,
              "#fb9f3a"
             ],
             [
              0.8888888888888888,
              "#fdca26"
             ],
             [
              1,
              "#f0f921"
             ]
            ],
            "type": "histogram2dcontour"
           }
          ],
          "mesh3d": [
           {
            "colorbar": {
             "outlinewidth": 0,
             "ticks": ""
            },
            "type": "mesh3d"
           }
          ],
          "parcoords": [
           {
            "line": {
             "colorbar": {
              "outlinewidth": 0,
              "ticks": ""
             }
            },
            "type": "parcoords"
           }
          ],
          "pie": [
           {
            "automargin": true,
            "type": "pie"
           }
          ],
          "scatter": [
           {
            "fillpattern": {
             "fillmode": "overlay",
             "size": 10,
             "solidity": 0.2
            },
            "type": "scatter"
           }
          ],
          "scatter3d": [
           {
            "line": {
             "colorbar": {
              "outlinewidth": 0,
              "ticks": ""
             }
            },
            "marker": {
             "colorbar": {
              "outlinewidth": 0,
              "ticks": ""
             }
            },
            "type": "scatter3d"
           }
          ],
          "scattercarpet": [
           {
            "marker": {
             "colorbar": {
              "outlinewidth": 0,
              "ticks": ""
             }
            },
            "type": "scattercarpet"
           }
          ],
          "scattergeo": [
           {
            "marker": {
             "colorbar": {
              "outlinewidth": 0,
              "ticks": ""
             }
            },
            "type": "scattergeo"
           }
          ],
          "scattergl": [
           {
            "marker": {
             "colorbar": {
              "outlinewidth": 0,
              "ticks": ""
             }
            },
            "type": "scattergl"
           }
          ],
          "scattermap": [
           {
            "marker": {
             "colorbar": {
              "outlinewidth": 0,
              "ticks": ""
             }
            },
            "type": "scattermap"
           }
          ],
          "scattermapbox": [
           {
            "marker": {
             "colorbar": {
              "outlinewidth": 0,
              "ticks": ""
             }
            },
            "type": "scattermapbox"
           }
          ],
          "scatterpolar": [
           {
            "marker": {
             "colorbar": {
              "outlinewidth": 0,
              "ticks": ""
             }
            },
            "type": "scatterpolar"
           }
          ],
          "scatterpolargl": [
           {
            "marker": {
             "colorbar": {
              "outlinewidth": 0,
              "ticks": ""
             }
            },
            "type": "scatterpolargl"
           }
          ],
          "scatterternary": [
           {
            "marker": {
             "colorbar": {
              "outlinewidth": 0,
              "ticks": ""
             }
            },
            "type": "scatterternary"
           }
          ],
          "surface": [
           {
            "colorbar": {
             "outlinewidth": 0,
             "ticks": ""
            },
            "colorscale": [
             [
              0,
              "#0d0887"
             ],
             [
              0.1111111111111111,
              "#46039f"
             ],
             [
              0.2222222222222222,
              "#7201a8"
             ],
             [
              0.3333333333333333,
              "#9c179e"
             ],
             [
              0.4444444444444444,
              "#bd3786"
             ],
             [
              0.5555555555555556,
              "#d8576b"
             ],
             [
              0.6666666666666666,
              "#ed7953"
             ],
             [
              0.7777777777777778,
              "#fb9f3a"
             ],
             [
              0.8888888888888888,
              "#fdca26"
             ],
             [
              1,
              "#f0f921"
             ]
            ],
            "type": "surface"
           }
          ],
          "table": [
           {
            "cells": {
             "fill": {
              "color": "#EBF0F8"
             },
             "line": {
              "color": "white"
             }
            },
            "header": {
             "fill": {
              "color": "#C8D4E3"
             },
             "line": {
              "color": "white"
             }
            },
            "type": "table"
           }
          ]
         },
         "layout": {
          "annotationdefaults": {
           "arrowcolor": "#2a3f5f",
           "arrowhead": 0,
           "arrowwidth": 1
          },
          "autotypenumbers": "strict",
          "coloraxis": {
           "colorbar": {
            "outlinewidth": 0,
            "ticks": ""
           }
          },
          "colorscale": {
           "diverging": [
            [
             0,
             "#8e0152"
            ],
            [
             0.1,
             "#c51b7d"
            ],
            [
             0.2,
             "#de77ae"
            ],
            [
             0.3,
             "#f1b6da"
            ],
            [
             0.4,
             "#fde0ef"
            ],
            [
             0.5,
             "#f7f7f7"
            ],
            [
             0.6,
             "#e6f5d0"
            ],
            [
             0.7,
             "#b8e186"
            ],
            [
             0.8,
             "#7fbc41"
            ],
            [
             0.9,
             "#4d9221"
            ],
            [
             1,
             "#276419"
            ]
           ],
           "sequential": [
            [
             0,
             "#0d0887"
            ],
            [
             0.1111111111111111,
             "#46039f"
            ],
            [
             0.2222222222222222,
             "#7201a8"
            ],
            [
             0.3333333333333333,
             "#9c179e"
            ],
            [
             0.4444444444444444,
             "#bd3786"
            ],
            [
             0.5555555555555556,
             "#d8576b"
            ],
            [
             0.6666666666666666,
             "#ed7953"
            ],
            [
             0.7777777777777778,
             "#fb9f3a"
            ],
            [
             0.8888888888888888,
             "#fdca26"
            ],
            [
             1,
             "#f0f921"
            ]
           ],
           "sequentialminus": [
            [
             0,
             "#0d0887"
            ],
            [
             0.1111111111111111,
             "#46039f"
            ],
            [
             0.2222222222222222,
             "#7201a8"
            ],
            [
             0.3333333333333333,
             "#9c179e"
            ],
            [
             0.4444444444444444,
             "#bd3786"
            ],
            [
             0.5555555555555556,
             "#d8576b"
            ],
            [
             0.6666666666666666,
             "#ed7953"
            ],
            [
             0.7777777777777778,
             "#fb9f3a"
            ],
            [
             0.8888888888888888,
             "#fdca26"
            ],
            [
             1,
             "#f0f921"
            ]
           ]
          },
          "colorway": [
           "#636efa",
           "#EF553B",
           "#00cc96",
           "#ab63fa",
           "#FFA15A",
           "#19d3f3",
           "#FF6692",
           "#B6E880",
           "#FF97FF",
           "#FECB52"
          ],
          "font": {
           "color": "#2a3f5f"
          },
          "geo": {
           "bgcolor": "white",
           "lakecolor": "white",
           "landcolor": "#E5ECF6",
           "showlakes": true,
           "showland": true,
           "subunitcolor": "white"
          },
          "hoverlabel": {
           "align": "left"
          },
          "hovermode": "closest",
          "mapbox": {
           "style": "light"
          },
          "paper_bgcolor": "white",
          "plot_bgcolor": "#E5ECF6",
          "polar": {
           "angularaxis": {
            "gridcolor": "white",
            "linecolor": "white",
            "ticks": ""
           },
           "bgcolor": "#E5ECF6",
           "radialaxis": {
            "gridcolor": "white",
            "linecolor": "white",
            "ticks": ""
           }
          },
          "scene": {
           "xaxis": {
            "backgroundcolor": "#E5ECF6",
            "gridcolor": "white",
            "gridwidth": 2,
            "linecolor": "white",
            "showbackground": true,
            "ticks": "",
            "zerolinecolor": "white"
           },
           "yaxis": {
            "backgroundcolor": "#E5ECF6",
            "gridcolor": "white",
            "gridwidth": 2,
            "linecolor": "white",
            "showbackground": true,
            "ticks": "",
            "zerolinecolor": "white"
           },
           "zaxis": {
            "backgroundcolor": "#E5ECF6",
            "gridcolor": "white",
            "gridwidth": 2,
            "linecolor": "white",
            "showbackground": true,
            "ticks": "",
            "zerolinecolor": "white"
           }
          },
          "shapedefaults": {
           "line": {
            "color": "#2a3f5f"
           }
          },
          "ternary": {
           "aaxis": {
            "gridcolor": "white",
            "linecolor": "white",
            "ticks": ""
           },
           "baxis": {
            "gridcolor": "white",
            "linecolor": "white",
            "ticks": ""
           },
           "bgcolor": "#E5ECF6",
           "caxis": {
            "gridcolor": "white",
            "linecolor": "white",
            "ticks": ""
           }
          },
          "title": {
           "x": 0.05
          },
          "xaxis": {
           "automargin": true,
           "gridcolor": "white",
           "linecolor": "white",
           "ticks": "",
           "title": {
            "standoff": 15
           },
           "zerolinecolor": "white",
           "zerolinewidth": 2
          },
          "yaxis": {
           "automargin": true,
           "gridcolor": "white",
           "linecolor": "white",
           "ticks": "",
           "title": {
            "standoff": 15
           },
           "zerolinecolor": "white",
           "zerolinewidth": 2
          }
         }
        },
        "title": {
         "text": "Eigenvalues of $Q$"
        },
        "xaxis": {
         "anchor": "y",
         "domain": [
          0,
          1
         ],
         "title": {
          "text": "value"
         }
        },
        "yaxis": {
         "anchor": "x",
         "domain": [
          0,
          1
         ],
         "title": {
          "text": "count"
         }
        }
       }
      }
     },
     "metadata": {},
     "output_type": "display_data"
    }
   ],
   "source": [
    "px.histogram(vals.flatten(), nbins=100, title=\"Eigenvalues of $Q$\").show()"
   ]
  },
  {
   "cell_type": "code",
   "execution_count": 15,
   "id": "e9c6e0a7",
   "metadata": {},
   "outputs": [
    {
     "name": "stdout",
     "output_type": "stream",
     "text": [
      "==================== Component 0 (0.08624430000782013) ====================\n",
      "['Ccne1', 'Hp', 'Sphk1', '1190002H23Rik', 'Phb2', 'Pla2g12a', 'Mfhas1', 'Isyna1', 'Hba-a2', 'Asns']\n",
      "['Apoe', 'Nrgn', 'Gata2', 'Serpina3f', 'Ptprcap', 'Gpr56', 'Zyx', 'Akap13', 'S100a10', 'F2r']\n",
      "==================== Component 1 (0.02617865987122059) ====================\n",
      "['Csk', 'Psmg2', 'Peo1', 'Npl', 'Ndufv2', 'Abca3', 'Phf21a', 'Mospd3', 'Nudt3', 'Urod']\n",
      "['Mfsd6', 'Gata2', 'AK081796', 'Kif15', 'Fam129a', 'Dock10', '5830432E09Rik', 'Fasn', 'Atp5f1', 'Atp1b3']\n",
      "==================== Component 2 (0.025213707238435745) ====================\n",
      "['Rab37', 'H3f3a', 'Txnrd1', 'Tnks2', 'Wdr81', 'Rangrf', 'Hsd17b1', 'Fads3', 'Dclre1a', '2310005E10Rik']\n",
      "['Serp1', 'Tmem229b', 'Ccdc102a', 'Fxyd5', 'Bcl9', 'Rab11fip1', 'Fbxo9', 'Nudt9', 'Ftl1', 'Iars2']\n"
     ]
    }
   ],
   "source": [
    "n_top_genes = 10\n",
    "for i in range(3):  # top components\n",
    "    top_idxs = vecs[:,i].topk(n_top_genes).indices\n",
    "    top_genes = adata.var_names[top_idxs].tolist()\n",
    "    bottom_idxs = (-vecs[:,i]).topk(n_top_genes).indices\n",
    "    bottom_genes = adata.var_names[bottom_idxs].tolist()\n",
    "    print(\"=\"*20, f\"Component {i} ({vals[i]})\", \"=\"*20)\n",
    "    print(top_genes)\n",
    "    print(bottom_genes)"
   ]
  },
  {
   "cell_type": "code",
   "execution_count": 16,
   "id": "434cecc2",
   "metadata": {},
   "outputs": [],
   "source": [
    "# n_top_genes = 10\n",
    "# for c in range(n_cell_types):\n",
    "#     print(f\"Cell type {c}\")\n",
    "#     for i in range(n_genes-1, n_genes-4, -1):  # top components\n",
    "#         top_idxs = vecs[:,i].topk(n_top_genes).indices\n",
    "#         top_genes = adata.var_names[top_idxs].tolist()\n",
    "#         bottom_idxs = (-vecs[:,i]).topk(n_top_genes).indices\n",
    "#         bottom_genes = adata.var_names[bottom_idxs].tolist()\n",
    "#         print(\"=\"*20, f\"Component {i} ({vals[i]})\", \"=\"*20)\n",
    "#         print(top_genes)\n",
    "#         print(bottom_genes)\n",
    "#     print()"
   ]
  },
  {
   "cell_type": "markdown",
   "id": "8f4f7c02",
   "metadata": {},
   "source": [
    "Bottom components don't look that interesting."
   ]
  },
  {
   "cell_type": "code",
   "execution_count": 17,
   "id": "cfd69eb5",
   "metadata": {},
   "outputs": [
    {
     "data": {
      "image/png": "[encoded data removed]",
      "text/plain": [
       "<Figure size 563x250 with 6 Axes>"
      ]
     },
     "metadata": {},
     "output_type": "display_data"
    }
   ],
   "source": [
    "# Plot again for reference\n",
    "sc.pl.rank_genes_groups_dotplot(adata, n_genes=3, cmap=\"Greys\")"
   ]
  },
  {
   "cell_type": "markdown",
   "id": "d8ed6587",
   "metadata": {},
   "source": [
    "### Plot cells in $Q$ component space"
   ]
  },
  {
   "cell_type": "code",
   "execution_count": 18,
   "id": "c0010a47",
   "metadata": {},
   "outputs": [
    {
     "data": {
      "application/vnd.plotly.v1+json": {
       "config": {
        "plotlyServerURL": "https://plot.ly"
       },
       "data": [
        {
         "hovertemplate": "color=0<br>x=%{x}<br>y=%{y}<extra></extra>",
         "legendgroup": "0",
         "marker": {
          "color": "#636efa",
          "size": 5,
          "symbol": "circle"
         },
         "mode": "markers",
         "name": "0",
         "showlegend": true,
         "type": "scattergl",
         "x": {
          "bdata": "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",
          "dtype": "f4"
         },
         "xaxis": "x",
         "y": {
          "bdata": "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",
          "dtype": "f4"
         },
         "yaxis": "y"
        },
        {
         "hovertemplate": "color=2<br>x=%{x}<br>y=%{y}<extra></extra>",
         "legendgroup": "2",
         "marker": {
          "color": "#EF553B",
          "size": 5,
          "symbol": "circle"
         },
         "mode": "markers",
         "name": "2",
         "showlegend": true,
         "type": "scattergl",
         "x": {
          "bdata": "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",
          "dtype": "f4"
         },
         "xaxis": "x",
         "y": {
          "bdata": "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",
          "dtype": "f4"
         },
         "yaxis": "y"
        },
        {
         "hovertemplate": "color=1<br>x=%{x}<br>y=%{y}<extra></extra>",
         "legendgroup": "1",
         "marker": {
          "color": "#00cc96",
          "size": 5,
          "symbol": "circle"
         },
         "mode": "markers",
         "name": "1",
         "showlegend": true,
         "type": "scattergl",
         "x": {
          "bdata": "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",
          "dtype": "f4"
         },
         "xaxis": "x",
         "y": {
          "bdata": "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",
          "dtype": "f4"
         },
         "yaxis": "y"
        }
       ],
       "layout": {
        "height": 600,
        "legend": {
         "title": {
          "text": "color"
         },
         "tracegroupgap": 0
        },
        "template": {
         "data": {
          "bar": [
           {
            "error_x": {
             "color": "#2a3f5f"
            },
            "error_y": {
             "color": "#2a3f5f"
            },
            "marker": {
             "line": {
              "color": "#E5ECF6",
              "width": 0.5
             },
             "pattern": {
              "fillmode": "overlay",
              "size": 10,
              "solidity": 0.2
             }
            },
            "type": "bar"
           }
          ],
          "barpolar": [
           {
            "marker": {
             "line": {
              "color": "#E5ECF6",
              "width": 0.5
             },
             "pattern": {
              "fillmode": "overlay",
              "size": 10,
              "solidity": 0.2
             }
            },
            "type": "barpolar"
           }
          ],
          "carpet": [
           {
            "aaxis": {
             "endlinecolor": "#2a3f5f",
             "gridcolor": "white",
             "linecolor": "white",
             "minorgridcolor": "white",
             "startlinecolor": "#2a3f5f"
            },
            "baxis": {
             "endlinecolor": "#2a3f5f",
             "gridcolor": "white",
             "linecolor": "white",
             "minorgridcolor": "white",
             "startlinecolor": "#2a3f5f"
            },
            "type": "carpet"
           }
          ],
          "choropleth": [
           {
            "colorbar": {
             "outlinewidth": 0,
             "ticks": ""
            },
            "type": "choropleth"
           }
          ],
          "contour": [
           {
            "colorbar": {
             "outlinewidth": 0,
             "ticks": ""
            },
            "colorscale": [
             [
              0,
              "#0d0887"
             ],
             [
              0.1111111111111111,
              "#46039f"
             ],
             [
              0.2222222222222222,
              "#7201a8"
             ],
             [
              0.3333333333333333,
              "#9c179e"
             ],
             [
              0.4444444444444444,
              "#bd3786"
             ],
             [
              0.5555555555555556,
              "#d8576b"
             ],
             [
              0.6666666666666666,
              "#ed7953"
             ],
             [
              0.7777777777777778,
              "#fb9f3a"
             ],
             [
              0.8888888888888888,
              "#fdca26"
             ],
             [
              1,
              "#f0f921"
             ]
            ],
            "type": "contour"
           }
          ],
          "contourcarpet": [
           {
            "colorbar": {
             "outlinewidth": 0,
             "ticks": ""
            },
            "type": "contourcarpet"
           }
          ],
          "heatmap": [
           {
            "colorbar": {
             "outlinewidth": 0,
             "ticks": ""
            },
            "colorscale": [
             [
              0,
              "#0d0887"
             ],
             [
              0.1111111111111111,
              "#46039f"
             ],
             [
              0.2222222222222222,
              "#7201a8"
             ],
             [
              0.3333333333333333,
              "#9c179e"
             ],
             [
              0.4444444444444444,
              "#bd3786"
             ],
             [
              0.5555555555555556,
              "#d8576b"
             ],
             [
              0.6666666666666666,
              "#ed7953"
             ],
             [
              0.7777777777777778,
              "#fb9f3a"
             ],
             [
              0.8888888888888888,
              "#fdca26"
             ],
             [
              1,
              "#f0f921"
             ]
            ],
            "type": "heatmap"
           }
          ],
          "histogram": [
           {
            "marker": {
             "pattern": {
              "fillmode": "overlay",
              "size": 10,
              "solidity": 0.2
             }
            },
            "type": "histogram"
           }
          ],
          "histogram2d": [
           {
            "colorbar": {
             "outlinewidth": 0,
             "ticks": ""
            },
            "colorscale": [
             [
              0,
              "#0d0887"
             ],
             [
              0.1111111111111111,
              "#46039f"
             ],
             [
              0.2222222222222222,
              "#7201a8"
             ],
             [
              0.3333333333333333,
              "#9c179e"
             ],
             [
              0.4444444444444444,
              "#bd3786"
             ],
             [
              0.5555555555555556,
              "#d8576b"
             ],
             [
              0.6666666666666666,
              "#ed7953"
             ],
             [
              0.7777777777777778,
              "#fb9f3a"
             ],
             [
              0.8888888888888888,
              "#fdca26"
             ],
             [
              1,
              "#f0f921"
             ]
            ],
            "type": "histogram2d"
           }
          ],
          "histogram2dcontour": [
           {
            "colorbar": {
             "outlinewidth": 0,
             "ticks": ""
            },
            "colorscale": [
             [
              0,
              "#0d0887"
             ],
             [
              0.1111111111111111,
              "#46039f"
             ],
             [
              0.2222222222222222,
              "#7201a8"
             ],
             [
              0.3333333333333333,
              "#9c179e"
             ],
             [
              0.4444444444444444,
              "#bd3786"
             ],
             [
              0.5555555555555556,
              "#d8576b"
             ],
             [
              0.6666666666666666,
              "#ed7953"
             ],
             [
              0.7777777777777778,
              "#fb9f3a"
             ],
             [
              0.8888888888888888,
              "#fdca26"
             ],
             [
              1,
              "#f0f921"
             ]
            ],
            "type": "histogram2dcontour"
           }
          ],
          "mesh3d": [
           {
            "colorbar": {
             "outlinewidth": 0,
             "ticks": ""
            },
            "type": "mesh3d"
           }
          ],
          "parcoords": [
           {
            "line": {
             "colorbar": {
              "outlinewidth": 0,
              "ticks": ""
             }
            },
            "type": "parcoords"
           }
          ],
          "pie": [
           {
            "automargin": true,
            "type": "pie"
           }
          ],
          "scatter": [
           {
            "fillpattern": {
             "fillmode": "overlay",
             "size": 10,
             "solidity": 0.2
            },
            "type": "scatter"
           }
          ],
          "scatter3d": [
           {
            "line": {
             "colorbar": {
              "outlinewidth": 0,
              "ticks": ""
             }
            },
            "marker": {
             "colorbar": {
              "outlinewidth": 0,
              "ticks": ""
             }
            },
            "type": "scatter3d"
           }
          ],
          "scattercarpet": [
           {
            "marker": {
             "colorbar": {
              "outlinewidth": 0,
              "ticks": ""
             }
            },
            "type": "scattercarpet"
           }
          ],
          "scattergeo": [
           {
            "marker": {
             "colorbar": {
              "outlinewidth": 0,
              "ticks": ""
             }
            },
            "type": "scattergeo"
           }
          ],
          "scattergl": [
           {
            "marker": {
             "colorbar": {
              "outlinewidth": 0,
              "ticks": ""
             }
            },
            "type": "scattergl"
           }
          ],
          "scattermap": [
           {
            "marker": {
             "colorbar": {
              "outlinewidth": 0,
              "ticks": ""
             }
            },
            "type": "scattermap"
           }
          ],
          "scattermapbox": [
           {
            "marker": {
             "colorbar": {
              "outlinewidth": 0,
              "ticks": ""
             }
            },
            "type": "scattermapbox"
           }
          ],
          "scatterpolar": [
           {
            "marker": {
             "colorbar": {
              "outlinewidth": 0,
              "ticks": ""
             }
            },
            "type": "scatterpolar"
           }
          ],
          "scatterpolargl": [
           {
            "marker": {
             "colorbar": {
              "outlinewidth": 0,
              "ticks": ""
             }
            },
            "type": "scatterpolargl"
           }
          ],
          "scatterternary": [
           {
            "marker": {
             "colorbar": {
              "outlinewidth": 0,
              "ticks": ""
             }
            },
            "type": "scatterternary"
           }
          ],
          "surface": [
           {
            "colorbar": {
             "outlinewidth": 0,
             "ticks": ""
            },
            "colorscale": [
             [
              0,
              "#0d0887"
             ],
             [
              0.1111111111111111,
              "#46039f"
             ],
             [
              0.2222222222222222,
              "#7201a8"
             ],
             [
              0.3333333333333333,
              "#9c179e"
             ],
             [
              0.4444444444444444,
              "#bd3786"
             ],
             [
              0.5555555555555556,
              "#d8576b"
             ],
             [
              0.6666666666666666,
              "#ed7953"
             ],
             [
              0.7777777777777778,
              "#fb9f3a"
             ],
             [
              0.8888888888888888,
              "#fdca26"
             ],
             [
              1,
              "#f0f921"
             ]
            ],
            "type": "surface"
           }
          ],
          "table": [
           {
            "cells": {
             "fill": {
              "color": "#EBF0F8"
             },
             "line": {
              "color": "white"
             }
            },
            "header": {
             "fill": {
              "color": "#C8D4E3"
             },
             "line": {
              "color": "white"
             }
            },
            "type": "table"
           }
          ]
         },
         "layout": {
          "annotationdefaults": {
           "arrowcolor": "#2a3f5f",
           "arrowhead": 0,
           "arrowwidth": 1
          },
          "autotypenumbers": "strict",
          "coloraxis": {
           "colorbar": {
            "outlinewidth": 0,
            "ticks": ""
           }
          },
          "colorscale": {
           "diverging": [
            [
             0,
             "#8e0152"
            ],
            [
             0.1,
             "#c51b7d"
            ],
            [
             0.2,
             "#de77ae"
            ],
            [
             0.3,
             "#f1b6da"
            ],
            [
             0.4,
             "#fde0ef"
            ],
            [
             0.5,
             "#f7f7f7"
            ],
            [
             0.6,
             "#e6f5d0"
            ],
            [
             0.7,
             "#b8e186"
            ],
            [
             0.8,
             "#7fbc41"
            ],
            [
             0.9,
             "#4d9221"
            ],
            [
             1,
             "#276419"
            ]
           ],
           "sequential": [
            [
             0,
             "#0d0887"
            ],
            [
             0.1111111111111111,
             "#46039f"
            ],
            [
             0.2222222222222222,
             "#7201a8"
            ],
            [
             0.3333333333333333,
             "#9c179e"
            ],
            [
             0.4444444444444444,
             "#bd3786"
            ],
            [
             0.5555555555555556,
             "#d8576b"
            ],
            [
             0.6666666666666666,
             "#ed7953"
            ],
            [
             0.7777777777777778,
             "#fb9f3a"
            ],
            [
             0.8888888888888888,
             "#fdca26"
            ],
            [
             1,
             "#f0f921"
            ]
           ],
           "sequentialminus": [
            [
             0,
             "#0d0887"
            ],
            [
             0.1111111111111111,
             "#46039f"
            ],
            [
             0.2222222222222222,
             "#7201a8"
            ],
            [
             0.3333333333333333,
             "#9c179e"
            ],
            [
             0.4444444444444444,
             "#bd3786"
            ],
            [
             0.5555555555555556,
             "#d8576b"
            ],
            [
             0.6666666666666666,
             "#ed7953"
            ],
            [
             0.7777777777777778,
             "#fb9f3a"
            ],
            [
             0.8888888888888888,
             "#fdca26"
            ],
            [
             1,
             "#f0f921"
            ]
           ]
          },
          "colorway": [
           "#636efa",
           "#EF553B",
           "#00cc96",
           "#ab63fa",
           "#FFA15A",
           "#19d3f3",
           "#FF6692",
           "#B6E880",
           "#FF97FF",
           "#FECB52"
          ],
          "font": {
           "color": "#2a3f5f"
          },
          "geo": {
           "bgcolor": "white",
           "lakecolor": "white",
           "landcolor": "#E5ECF6",
           "showlakes": true,
           "showland": true,
           "subunitcolor": "white"
          },
          "hoverlabel": {
           "align": "left"
          },
          "hovermode": "closest",
          "mapbox": {
           "style": "light"
          },
          "paper_bgcolor": "white",
          "plot_bgcolor": "#E5ECF6",
          "polar": {
           "angularaxis": {
            "gridcolor": "white",
            "linecolor": "white",
            "ticks": ""
           },
           "bgcolor": "#E5ECF6",
           "radialaxis": {
            "gridcolor": "white",
            "linecolor": "white",
            "ticks": ""
           }
          },
          "scene": {
           "xaxis": {
            "backgroundcolor": "#E5ECF6",
            "gridcolor": "white",
            "gridwidth": 2,
            "linecolor": "white",
            "showbackground": true,
            "ticks": "",
            "zerolinecolor": "white"
           },
           "yaxis": {
            "backgroundcolor": "#E5ECF6",
            "gridcolor": "white",
            "gridwidth": 2,
            "linecolor": "white",
            "showbackground": true,
            "ticks": "",
            "zerolinecolor": "white"
           },
           "zaxis": {
            "backgroundcolor": "#E5ECF6",
            "gridcolor": "white",
            "gridwidth": 2,
            "linecolor": "white",
            "showbackground": true,
            "ticks": "",
            "zerolinecolor": "white"
           }
          },
          "shapedefaults": {
           "line": {
            "color": "#2a3f5f"
           }
          },
          "ternary": {
           "aaxis": {
            "gridcolor": "white",
            "linecolor": "white",
            "ticks": ""
           },
           "baxis": {
            "gridcolor": "white",
            "linecolor": "white",
            "ticks": ""
           },
           "bgcolor": "#E5ECF6",
           "caxis": {
            "gridcolor": "white",
            "linecolor": "white",
            "ticks": ""
           }
          },
          "title": {
           "x": 0.05
          },
          "xaxis": {
           "automargin": true,
           "gridcolor": "white",
           "linecolor": "white",
           "ticks": "",
           "title": {
            "standoff": 15
           },
           "zerolinecolor": "white",
           "zerolinewidth": 2
          },
          "yaxis": {
           "automargin": true,
           "gridcolor": "white",
           "linecolor": "white",
           "ticks": "",
           "title": {
            "standoff": 15
           },
           "zerolinecolor": "white",
           "zerolinewidth": 2
          }
         }
        },
        "title": {
         "text": "Myeloid progenitor differentiation data"
        },
        "width": 600,
        "xaxis": {
         "anchor": "y",
         "domain": [
          0,
          1
         ],
         "title": {
          "text": "x"
         }
        },
        "yaxis": {
         "anchor": "x",
         "domain": [
          0,
          1
         ],
         "title": {
          "text": "y"
         }
        }
       }
      }
     },
     "metadata": {},
     "output_type": "display_data"
    }
   ],
   "source": [
    "adata.obsm[\"X_Q\"] = adata.X @ vecs[:, :3].numpy()  # project into component space\n",
    "\n",
    "fig = px.scatter(\n",
    "    x=adata.obsm[\"X_Q\"][:, 0],\n",
    "    y=adata.obsm[\"X_Q\"][:, 1],\n",
    "    color=adata.obs[\"cell_type\"],\n",
    "    title=\"Myeloid progenitor differentiation data\",\n",
    "    width=600,\n",
    "    height=600,\n",
    ")\n",
    "fig.update_traces(marker=dict(size=5))\n",
    "fig.show()"
   ]
  },
  {
   "cell_type": "markdown",
   "id": "57488f39",
   "metadata": {},
   "source": [
    "# Iterate over output directions"
   ]
  },
  {
   "cell_type": "code",
   "execution_count": 50,
   "id": "d036e708",
   "metadata": {},
   "outputs": [],
   "source": [
    "b = einops.einsum(model.w_p, model.w_l, model.w_r, \"out hid, hid in1, hid in2 -> out in1 in2\")\n",
    "b = 0.5 * (b + b.mT)  # symmetrize"
   ]
  },
  {
   "cell_type": "markdown",
   "id": "e40294e8",
   "metadata": {},
   "source": [
    "## Print component markers"
   ]
  },
  {
   "cell_type": "code",
   "execution_count": 51,
   "id": "52dfa748",
   "metadata": {},
   "outputs": [
    {
     "name": "stdout",
     "output_type": "stream",
     "text": [
      "Cell type 0\n",
      "==================== Component 0 (0.0620792880654335) ====================\n",
      "['Apoe', 'Gata2', 'Ptprcap', 'Slc22a3', 'F2r', 'Dok2', 'Lat', 'Ifitm1', 'Gnb2l1', 'Pbx1']\n",
      "['Fbxo10', 'Pkhd1l1', 'Cachd1', 'Lman2', 'Igf2r', 'Ccne1', 'Gsr', 'Hbb-b1', 'Hexa', '1190002H23Rik']\n",
      "==================== Component 1 (0.026578856632113457) ====================\n",
      "['Sec22c', 'Atp6v0b', 'Ncapd2', 'Cnpy3', 'Spin1', 'AK041647', 'Hsp90ab1', 'Ctage5', 'Atp1b3', 'Stat3']\n",
      "['Elane', 'P4hb', 'Cd2', 'Dpp4', 'Slc18a2', 'Pdxk', 'Serpina3f', 'Rgs14', 'Pfkp', 'Sytl4']\n",
      "==================== Component 2 (0.02629852667450905) ====================\n",
      "['Angpt1', 'C230096C10Rik', 'Egln3', 'Ccnd1', 'Dnhd1', 'Uhrf1bp1', 'Eif2d', 'Khdrbs1', 'Srprb', 'Nfic']\n",
      "['Ffar2', 'Myadm', 'Mllt3', 'Mipol1', 'Tcfe3', 'Kdm2a', 'Icam2', 'Ak3', 'Akap13', 'Med30']\n",
      "\n",
      "Cell type 1\n",
      "==================== Component 0 (0.046267516911029816) ====================\n",
      "['Vim', 'Limd2', 'Ifitm1', 'Mpo', 'Slc44a2', 'Ptgr1', 'Gpc1', 'Fes', 'Tifab', 'Emb']\n",
      "['Mthfd1', 'Mt2', 'Minpp1', 'Ermap', 'Ybx1', 'Mcm5', 'Cox6b2', 'Slc38a5', 'Mcm7', 'Rhd']\n",
      "==================== Component 1 (0.02351003885269165) ====================\n",
      "['Fam162a', 'Prtn3', 'Anp32a', 'Hba-a2', 'Aldh1a1', 'Gm5506', 'Creld2', 'ISG12a', 'Fh1', 'Eif3h']\n",
      "['Dhx38', 'Spns2', 'Dnpep', 'Zc3h6', 'HDAC7', '5033406O09Rik', 'Uchl1', 'Prkd2', 'Tomm22', 'Fndc3a']\n",
      "==================== Component 2 (0.022592730820178986) ====================\n",
      "['Scarf1', 'Cdc45', 'Mtch2', 'AK189633', 'Vps35', 'Smc1a', 'Srrm1', 'Impa2', 'Aes', 'Klhdc2']\n",
      "['Btbd3', 'Pkhd1l1', 'Abhd16a', 'Dnajc11', 'Nedd4', 'Utp14a', 'Mfsd2b', 'Kif15', 'Uck2', 'Dcaf8']\n",
      "\n",
      "Cell type 2\n",
      "==================== Component 0 (0.055885620415210724) ====================\n",
      "['P4hb', 'Prtn3', 'Mpo', 'Ctsg', 'Elane', 'Alas1', 'Emb', 'Gpx1', 'Gpi1', 'Hexa']\n",
      "['Mcpt4', 'Cd248', 'Hpn', 'Fam132a', '2210020M01Rik', 'Lmna', 'Gata1', 'Aqp1', 'Butr1', 'Rhd']\n",
      "==================== Component 1 (0.027546102181077003) ====================\n",
      "['Elane', 'Pdia5', 'Gamt', 'Atp8b4', 'Prssl1', 'Ocrl', 'Il21r', 'Tmed3', 'Mt1', 'Rnaset2a']\n",
      "['Mnda', 'Rbm43', 'Rassf2', 'Rara', '2900010M23Rik', 'Limd1', 'AK163149', 'Ctsz', 'Ctss', 'H1fx']\n",
      "==================== Component 2 (0.025910217314958572) ====================\n",
      "['6330503K22Rik', 'AK041647', 'Hlf', 'Fam174b', 'Cnnm2', 'C230052I12Rik', 'Timp2', 'Snd1', 'AK163149', 'Ier3ip1']\n",
      "['Mrpl37', 'Pfkm', 'Lsm14a', 'Rps6ka2', 'Tcf7', 'Ppox', 'Prss16', 'H2-Ke2', 'Pde2a', 'Xdh']\n",
      "\n"
     ]
    }
   ],
   "source": [
    "n_top_genes = 10\n",
    "for c in range(n_cell_types):\n",
    "\n",
    "    print(f\"Cell type {c}\")\n",
    "\n",
    "    vals, vecs = torch.linalg.eigh(b[c])\n",
    "    vals = vals.flip([0])\n",
    "    vecs = vecs.flip([1])\n",
    "\n",
    "    for i in range(3):  # top components\n",
    "        top_idxs = vecs[:,i].topk(n_top_genes).indices\n",
    "        top_genes = adata.var_names[top_idxs].tolist()\n",
    "        bottom_idxs = (-vecs[:,i]).topk(n_top_genes).indices\n",
    "        bottom_genes = adata.var_names[bottom_idxs].tolist()\n",
    "        print(\"=\"*20, f\"Component {i} ({vals[i]})\", \"=\"*20)\n",
    "        print(top_genes)\n",
    "        print(bottom_genes)\n",
    "    print()"
   ]
  },
  {
   "cell_type": "code",
   "execution_count": 52,
   "id": "8863b84d",
   "metadata": {},
   "outputs": [
    {
     "data": {
      "image/png": "[encoded data removed]",
      "text/plain": [
       "<Figure size 563x250 with 6 Axes>"
      ]
     },
     "metadata": {},
     "output_type": "display_data"
    }
   ],
   "source": [
    "# Plot again for reference\n",
    "sc.pl.rank_genes_groups_dotplot(adata, n_genes=3, cmap=\"Greys\")"
   ]
  },
  {
   "cell_type": "markdown",
   "id": "513243b5",
   "metadata": {},
   "source": [
    "But marker genes are grouped on one side of a component.\n",
    "- What does the other side mean?\n",
    "- Explore analytically."
   ]
  },
  {
   "cell_type": "markdown",
   "id": "f8ad7426",
   "metadata": {},
   "source": [
    "## Plot cells in component space"
   ]
  },
  {
   "cell_type": "code",
   "execution_count": 53,
   "id": "f358b9ec",
   "metadata": {},
   "outputs": [
    {
     "data": {
      "application/vnd.plotly.v1+json": {
       "config": {
        "plotlyServerURL": "https://plot.ly"
       },
       "data": [
        {
         "hovertemplate": "color=0<br>x=%{x}<br>y=%{y}<extra></extra>",
         "legendgroup": "0",
         "marker": {
          "color": "#636efa",
          "size": 5,
          "symbol": "circle"
         },
         "mode": "markers",
         "name": "0",
         "showlegend": true,
         "type": "scattergl",
         "x": {
          "bdata": "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",
          "dtype": "f4"
         },
         "xaxis": "x",
         "y": {
          "bdata": "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",
          "dtype": "f4"
         },
         "yaxis": "y"
        },
        {
         "hovertemplate": "color=2<br>x=%{x}<br>y=%{y}<extra></extra>",
         "legendgroup": "2",
         "marker": {
          "color": "#EF553B",
          "size": 5,
          "symbol": "circle"
         },
         "mode": "markers",
         "name": "2",
         "showlegend": true,
         "type": "scattergl",
         "x": {
          "bdata": "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",
          "dtype": "f4"
         },
         "xaxis": "x",
         "y": {
          "bdata": "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",
          "dtype": "f4"
         },
         "yaxis": "y"
        },
        {
         "hovertemplate": "color=1<br>x=%{x}<br>y=%{y}<extra></extra>",
         "legendgroup": "1",
         "marker": {
          "color": "#00cc96",
          "size": 5,
          "symbol": "circle"
         },
         "mode": "markers",
         "name": "1",
         "showlegend": true,
         "type": "scattergl",
         "x": {
          "bdata": "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",
          "dtype": "f4"
         },
         "xaxis": "x",
         "y": {
          "bdata": "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",
          "dtype": "f4"
         },
         "yaxis": "y"
        }
       ],
       "layout": {
        "height": 600,
        "legend": {
         "title": {
          "text": "color"
         },
         "tracegroupgap": 0
        },
        "template": {
         "data": {
          "bar": [
           {
            "error_x": {
             "color": "#2a3f5f"
            },
            "error_y": {
             "color": "#2a3f5f"
            },
            "marker": {
             "line": {
              "color": "#E5ECF6",
              "width": 0.5
             },
             "pattern": {
              "fillmode": "overlay",
              "size": 10,
              "solidity": 0.2
             }
            },
            "type": "bar"
           }
          ],
          "barpolar": [
           {
            "marker": {
             "line": {
              "color": "#E5ECF6",
              "width": 0.5
             },
             "pattern": {
              "fillmode": "overlay",
              "size": 10,
              "solidity": 0.2
             }
            },
            "type": "barpolar"
           }
          ],
          "carpet": [
           {
            "aaxis": {
             "endlinecolor": "#2a3f5f",
             "gridcolor": "white",
             "linecolor": "white",
             "minorgridcolor": "white",
             "startlinecolor": "#2a3f5f"
            },
            "baxis": {
             "endlinecolor": "#2a3f5f",
             "gridcolor": "white",
             "linecolor": "white",
             "minorgridcolor": "white",
             "startlinecolor": "#2a3f5f"
            },
            "type": "carpet"
           }
          ],
          "choropleth": [
           {
            "colorbar": {
             "outlinewidth": 0,
             "ticks": ""
            },
            "type": "choropleth"
           }
          ],
          "contour": [
           {
            "colorbar": {
             "outlinewidth": 0,
             "ticks": ""
            },
            "colorscale": [
             [
              0,
              "#0d0887"
             ],
             [
              0.1111111111111111,
              "#46039f"
             ],
             [
              0.2222222222222222,
              "#7201a8"
             ],
             [
              0.3333333333333333,
              "#9c179e"
             ],
             [
              0.4444444444444444,
              "#bd3786"
             ],
             [
              0.5555555555555556,
              "#d8576b"
             ],
             [
              0.6666666666666666,
              "#ed7953"
             ],
             [
              0.7777777777777778,
              "#fb9f3a"
             ],
             [
              0.8888888888888888,
              "#fdca26"
             ],
             [
              1,
              "#f0f921"
             ]
            ],
            "type": "contour"
           }
          ],
          "contourcarpet": [
           {
            "colorbar": {
             "outlinewidth": 0,
             "ticks": ""
            },
            "type": "contourcarpet"
           }
          ],
          "heatmap": [
           {
            "colorbar": {
             "outlinewidth": 0,
             "ticks": ""
            },
            "colorscale": [
             [
              0,
              "#0d0887"
             ],
             [
              0.1111111111111111,
              "#46039f"
             ],
             [
              0.2222222222222222,
              "#7201a8"
             ],
             [
              0.3333333333333333,
              "#9c179e"
             ],
             [
              0.4444444444444444,
              "#bd3786"
             ],
             [
              0.5555555555555556,
              "#d8576b"
             ],
             [
              0.6666666666666666,
              "#ed7953"
             ],
             [
              0.7777777777777778,
              "#fb9f3a"
             ],
             [
              0.8888888888888888,
              "#fdca26"
             ],
             [
              1,
              "#f0f921"
             ]
            ],
            "type": "heatmap"
           }
          ],
          "histogram": [
           {
            "marker": {
             "pattern": {
              "fillmode": "overlay",
              "size": 10,
              "solidity": 0.2
             }
            },
            "type": "histogram"
           }
          ],
          "histogram2d": [
           {
            "colorbar": {
             "outlinewidth": 0,
             "ticks": ""
            },
            "colorscale": [
             [
              0,
              "#0d0887"
             ],
             [
              0.1111111111111111,
              "#46039f"
             ],
             [
              0.2222222222222222,
              "#7201a8"
             ],
             [
              0.3333333333333333,
              "#9c179e"
             ],
             [
              0.4444444444444444,
              "#bd3786"
             ],
             [
              0.5555555555555556,
              "#d8576b"
             ],
             [
              0.6666666666666666,
              "#ed7953"
             ],
             [
              0.7777777777777778,
              "#fb9f3a"
             ],
             [
              0.8888888888888888,
              "#fdca26"
             ],
             [
              1,
              "#f0f921"
             ]
            ],
            "type": "histogram2d"
           }
          ],
          "histogram2dcontour": [
           {
            "colorbar": {
             "outlinewidth": 0,
             "ticks": ""
            },
            "colorscale": [
             [
              0,
              "#0d0887"
             ],
             [
              0.1111111111111111,
              "#46039f"
             ],
             [
              0.2222222222222222,
              "#7201a8"
             ],
             [
              0.3333333333333333,
              "#9c179e"
             ],
             [
              0.4444444444444444,
              "#bd3786"
             ],
             [
              0.5555555555555556,
              "#d8576b"
             ],
             [
              0.6666666666666666,
              "#ed7953"
             ],
             [
              0.7777777777777778,
              "#fb9f3a"
             ],
             [
              0.8888888888888888,
              "#fdca26"
             ],
             [
              1,
              "#f0f921"
             ]
            ],
            "type": "histogram2dcontour"
           }
          ],
          "mesh3d": [
           {
            "colorbar": {
             "outlinewidth": 0,
             "ticks": ""
            },
            "type": "mesh3d"
           }
          ],
          "parcoords": [
           {
            "line": {
             "colorbar": {
              "outlinewidth": 0,
              "ticks": ""
             }
            },
            "type": "parcoords"
           }
          ],
          "pie": [
           {
            "automargin": true,
            "type": "pie"
           }
          ],
          "scatter": [
           {
            "fillpattern": {
             "fillmode": "overlay",
             "size": 10,
             "solidity": 0.2
            },
            "type": "scatter"
           }
          ],
          "scatter3d": [
           {
            "line": {
             "colorbar": {
              "outlinewidth": 0,
              "ticks": ""
             }
            },
            "marker": {
             "colorbar": {
              "outlinewidth": 0,
              "ticks": ""
             }
            },
            "type": "scatter3d"
           }
          ],
          "scattercarpet": [
           {
            "marker": {
             "colorbar": {
              "outlinewidth": 0,
              "ticks": ""
             }
            },
            "type": "scattercarpet"
           }
          ],
          "scattergeo": [
           {
            "marker": {
             "colorbar": {
              "outlinewidth": 0,
              "ticks": ""
             }
            },
            "type": "scattergeo"
           }
          ],
          "scattergl": [
           {
            "marker": {
             "colorbar": {
              "outlinewidth": 0,
              "ticks": ""
             }
            },
            "type": "scattergl"
           }
          ],
          "scattermap": [
           {
            "marker": {
             "colorbar": {
              "outlinewidth": 0,
              "ticks": ""
             }
            },
            "type": "scattermap"
           }
          ],
          "scattermapbox": [
           {
            "marker": {
             "colorbar": {
              "outlinewidth": 0,
              "ticks": ""
             }
            },
            "type": "scattermapbox"
           }
          ],
          "scatterpolar": [
           {
            "marker": {
             "colorbar": {
              "outlinewidth": 0,
              "ticks": ""
             }
            },
            "type": "scatterpolar"
           }
          ],
          "scatterpolargl": [
           {
            "marker": {
             "colorbar": {
              "outlinewidth": 0,
              "ticks": ""
             }
            },
            "type": "scatterpolargl"
           }
          ],
          "scatterternary": [
           {
            "marker": {
             "colorbar": {
              "outlinewidth": 0,
              "ticks": ""
             }
            },
            "type": "scatterternary"
           }
          ],
          "surface": [
           {
            "colorbar": {
             "outlinewidth": 0,
             "ticks": ""
            },
            "colorscale": [
             [
              0,
              "#0d0887"
             ],
             [
              0.1111111111111111,
              "#46039f"
             ],
             [
              0.2222222222222222,
              "#7201a8"
             ],
             [
              0.3333333333333333,
              "#9c179e"
             ],
             [
              0.4444444444444444,
              "#bd3786"
             ],
             [
              0.5555555555555556,
              "#d8576b"
             ],
             [
              0.6666666666666666,
              "#ed7953"
             ],
             [
              0.7777777777777778,
              "#fb9f3a"
             ],
             [
              0.8888888888888888,
              "#fdca26"
             ],
             [
              1,
              "#f0f921"
             ]
            ],
            "type": "surface"
           }
          ],
          "table": [
           {
            "cells": {
             "fill": {
              "color": "#EBF0F8"
             },
             "line": {
              "color": "white"
             }
            },
            "header": {
             "fill": {
              "color": "#C8D4E3"
             },
             "line": {
              "color": "white"
             }
            },
            "type": "table"
           }
          ]
         },
         "layout": {
          "annotationdefaults": {
           "arrowcolor": "#2a3f5f",
           "arrowhead": 0,
           "arrowwidth": 1
          },
          "autotypenumbers": "strict",
          "coloraxis": {
           "colorbar": {
            "outlinewidth": 0,
            "ticks": ""
           }
          },
          "colorscale": {
           "diverging": [
            [
             0,
             "#8e0152"
            ],
            [
             0.1,
             "#c51b7d"
            ],
            [
             0.2,
             "#de77ae"
            ],
            [
             0.3,
             "#f1b6da"
            ],
            [
             0.4,
             "#fde0ef"
            ],
            [
             0.5,
             "#f7f7f7"
            ],
            [
             0.6,
             "#e6f5d0"
            ],
            [
             0.7,
             "#b8e186"
            ],
            [
             0.8,
             "#7fbc41"
            ],
            [
             0.9,
             "#4d9221"
            ],
            [
             1,
             "#276419"
            ]
           ],
           "sequential": [
            [
             0,
             "#0d0887"
            ],
            [
             0.1111111111111111,
             "#46039f"
            ],
            [
             0.2222222222222222,
             "#7201a8"
            ],
            [
             0.3333333333333333,
             "#9c179e"
            ],
            [
             0.4444444444444444,
             "#bd3786"
            ],
            [
             0.5555555555555556,
             "#d8576b"
            ],
            [
             0.6666666666666666,
             "#ed7953"
            ],
            [
             0.7777777777777778,
             "#fb9f3a"
            ],
            [
             0.8888888888888888,
             "#fdca26"
            ],
            [
             1,
             "#f0f921"
            ]
           ],
           "sequentialminus": [
            [
             0,
             "#0d0887"
            ],
            [
             0.1111111111111111,
             "#46039f"
            ],
            [
             0.2222222222222222,
             "#7201a8"
            ],
            [
             0.3333333333333333,
             "#9c179e"
            ],
            [
             0.4444444444444444,
             "#bd3786"
            ],
            [
             0.5555555555555556,
             "#d8576b"
            ],
            [
             0.6666666666666666,
             "#ed7953"
            ],
            [
             0.7777777777777778,
             "#fb9f3a"
            ],
            [
             0.8888888888888888,
             "#fdca26"
            ],
            [
             1,
             "#f0f921"
            ]
           ]
          },
          "colorway": [
           "#636efa",
           "#EF553B",
           "#00cc96",
           "#ab63fa",
           "#FFA15A",
           "#19d3f3",
           "#FF6692",
           "#B6E880",
           "#FF97FF",
           "#FECB52"
          ],
          "font": {
           "color": "#2a3f5f"
          },
          "geo": {
           "bgcolor": "white",
           "lakecolor": "white",
           "landcolor": "#E5ECF6",
           "showlakes": true,
           "showland": true,
           "subunitcolor": "white"
          },
          "hoverlabel": {
           "align": "left"
          },
          "hovermode": "closest",
          "mapbox": {
           "style": "light"
          },
          "paper_bgcolor": "white",
          "plot_bgcolor": "#E5ECF6",
          "polar": {
           "angularaxis": {
            "gridcolor": "white",
            "linecolor": "white",
            "ticks": ""
           },
           "bgcolor": "#E5ECF6",
           "radialaxis": {
            "gridcolor": "white",
            "linecolor": "white",
            "ticks": ""
           }
          },
          "scene": {
           "xaxis": {
            "backgroundcolor": "#E5ECF6",
            "gridcolor": "white",
            "gridwidth": 2,
            "linecolor": "white",
            "showbackground": true,
            "ticks": "",
            "zerolinecolor": "white"
           },
           "yaxis": {
            "backgroundcolor": "#E5ECF6",
            "gridcolor": "white",
            "gridwidth": 2,
            "linecolor": "white",
            "showbackground": true,
            "ticks": "",
            "zerolinecolor": "white"
           },
           "zaxis": {
            "backgroundcolor": "#E5ECF6",
            "gridcolor": "white",
            "gridwidth": 2,
            "linecolor": "white",
            "showbackground": true,
            "ticks": "",
            "zerolinecolor": "white"
           }
          },
          "shapedefaults": {
           "line": {
            "color": "#2a3f5f"
           }
          },
          "ternary": {
           "aaxis": {
            "gridcolor": "white",
            "linecolor": "white",
            "ticks": ""
           },
           "baxis": {
            "gridcolor": "white",
            "linecolor": "white",
            "ticks": ""
           },
           "bgcolor": "#E5ECF6",
           "caxis": {
            "gridcolor": "white",
            "linecolor": "white",
            "ticks": ""
           }
          },
          "title": {
           "x": 0.05
          },
          "xaxis": {
           "automargin": true,
           "gridcolor": "white",
           "linecolor": "white",
           "ticks": "",
           "title": {
            "standoff": 15
           },
           "zerolinecolor": "white",
           "zerolinewidth": 2
          },
          "yaxis": {
           "automargin": true,
           "gridcolor": "white",
           "linecolor": "white",
           "ticks": "",
           "title": {
            "standoff": 15
           },
           "zerolinecolor": "white",
           "zerolinewidth": 2
          }
         }
        },
        "title": {
         "text": "Cell type 0"
        },
        "width": 600,
        "xaxis": {
         "anchor": "y",
         "domain": [
          0,
          1
         ],
         "title": {
          "text": "x"
         }
        },
        "yaxis": {
         "anchor": "x",
         "domain": [
          0,
          1
         ],
         "title": {
          "text": "y"
         }
        }
       }
      }
     },
     "metadata": {},
     "output_type": "display_data"
    },
    {
     "data": {
      "application/vnd.plotly.v1+json": {
       "config": {
        "plotlyServerURL": "https://plot.ly"
       },
       "data": [
        {
         "hovertemplate": "color=0<br>x=%{x}<br>y=%{y}<extra></extra>",
         "legendgroup": "0",
         "marker": {
          "color": "#636efa",
          "size": 5,
          "symbol": "circle"
         },
         "mode": "markers",
         "name": "0",
         "showlegend": true,
         "type": "scattergl",
         "x": {
          "bdata": "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",
          "dtype": "f4"
         },
         "xaxis": "x",
         "y": {
          "bdata": "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",
          "dtype": "f4"
         },
         "yaxis": "y"
        },
        {
         "hovertemplate": "color=2<br>x=%{x}<br>y=%{y}<extra></extra>",
         "legendgroup": "2",
         "marker": {
          "color": "#EF553B",
          "size": 5,
          "symbol": "circle"
         },
         "mode": "markers",
         "name": "2",
         "showlegend": true,
         "type": "scattergl",
         "x": {
          "bdata": "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",
          "dtype": "f4"
         },
         "xaxis": "x",
         "y": {
          "bdata": "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",
          "dtype": "f4"
         },
         "yaxis": "y"
        },
        {
         "hovertemplate": "color=1<br>x=%{x}<br>y=%{y}<extra></extra>",
         "legendgroup": "1",
         "marker": {
          "color": "#00cc96",
          "size": 5,
          "symbol": "circle"
         },
         "mode": "markers",
         "name": "1",
         "showlegend": true,
         "type": "scattergl",
         "x": {
          "bdata": "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",
          "dtype": "f4"
         },
         "xaxis": "x",
         "y": {
          "bdata": "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",
          "dtype": "f4"
         },
         "yaxis": "y"
        }
       ],
       "layout": {
        "height": 600,
        "legend": {
         "title": {
          "text": "color"
         },
         "tracegroupgap": 0
        },
        "template": {
         "data": {
          "bar": [
           {
            "error_x": {
             "color": "#2a3f5f"
            },
            "error_y": {
             "color": "#2a3f5f"
            },
            "marker": {
             "line": {
              "color": "#E5ECF6",
              "width": 0.5
             },
             "pattern": {
              "fillmode": "overlay",
              "size": 10,
              "solidity": 0.2
             }
            },
            "type": "bar"
           }
          ],
          "barpolar": [
           {
            "marker": {
             "line": {
              "color": "#E5ECF6",
              "width": 0.5
             },
             "pattern": {
              "fillmode": "overlay",
              "size": 10,
              "solidity": 0.2
             }
            },
            "type": "barpolar"
           }
          ],
          "carpet": [
           {
            "aaxis": {
             "endlinecolor": "#2a3f5f",
             "gridcolor": "white",
             "linecolor": "white",
             "minorgridcolor": "white",
             "startlinecolor": "#2a3f5f"
            },
            "baxis": {
             "endlinecolor": "#2a3f5f",
             "gridcolor": "white",
             "linecolor": "white",
             "minorgridcolor": "white",
             "startlinecolor": "#2a3f5f"
            },
            "type": "carpet"
           }
          ],
          "choropleth": [
           {
            "colorbar": {
             "outlinewidth": 0,
             "ticks": ""
            },
            "type": "choropleth"
           }
          ],
          "contour": [
           {
            "colorbar": {
             "outlinewidth": 0,
             "ticks": ""
            },
            "colorscale": [
             [
              0,
              "#0d0887"
             ],
             [
              0.1111111111111111,
              "#46039f"
             ],
             [
              0.2222222222222222,
              "#7201a8"
             ],
             [
              0.3333333333333333,
              "#9c179e"
             ],
             [
              0.4444444444444444,
              "#bd3786"
             ],
             [
              0.5555555555555556,
              "#d8576b"
             ],
             [
              0.6666666666666666,
              "#ed7953"
             ],
             [
              0.7777777777777778,
              "#fb9f3a"
             ],
             [
              0.8888888888888888,
              "#fdca26"
             ],
             [
              1,
              "#f0f921"
             ]
            ],
            "type": "contour"
           }
          ],
          "contourcarpet": [
           {
            "colorbar": {
             "outlinewidth": 0,
             "ticks": ""
            },
            "type": "contourcarpet"
           }
          ],
          "heatmap": [
           {
            "colorbar": {
             "outlinewidth": 0,
             "ticks": ""
            },
            "colorscale": [
             [
              0,
              "#0d0887"
             ],
             [
              0.1111111111111111,
              "#46039f"
             ],
             [
              0.2222222222222222,
              "#7201a8"
             ],
             [
              0.3333333333333333,
              "#9c179e"
             ],
             [
              0.4444444444444444,
              "#bd3786"
             ],
             [
              0.5555555555555556,
              "#d8576b"
             ],
             [
              0.6666666666666666,
              "#ed7953"
             ],
             [
              0.7777777777777778,
              "#fb9f3a"
             ],
             [
              0.8888888888888888,
              "#fdca26"
             ],
             [
              1,
              "#f0f921"
             ]
            ],
            "type": "heatmap"
           }
          ],
          "histogram": [
           {
            "marker": {
             "pattern": {
              "fillmode": "overlay",
              "size": 10,
              "solidity": 0.2
             }
            },
            "type": "histogram"
           }
          ],
          "histogram2d": [
           {
            "colorbar": {
             "outlinewidth": 0,
             "ticks": ""
            },
            "colorscale": [
             [
              0,
              "#0d0887"
             ],
             [
              0.1111111111111111,
              "#46039f"
             ],
             [
              0.2222222222222222,
              "#7201a8"
             ],
             [
              0.3333333333333333,
              "#9c179e"
             ],
             [
              0.4444444444444444,
              "#bd3786"
             ],
             [
              0.5555555555555556,
              "#d8576b"
             ],
             [
              0.6666666666666666,
              "#ed7953"
             ],
             [
              0.7777777777777778,
              "#fb9f3a"
             ],
             [
              0.8888888888888888,
              "#fdca26"
             ],
             [
              1,
              "#f0f921"
             ]
            ],
            "type": "histogram2d"
           }
          ],
          "histogram2dcontour": [
           {
            "colorbar": {
             "outlinewidth": 0,
             "ticks": ""
            },
            "colorscale": [
             [
              0,
              "#0d0887"
             ],
             [
              0.1111111111111111,
              "#46039f"
             ],
             [
              0.2222222222222222,
              "#7201a8"
             ],
             [
              0.3333333333333333,
              "#9c179e"
             ],
             [
              0.4444444444444444,
              "#bd3786"
             ],
             [
              0.5555555555555556,
              "#d8576b"
             ],
             [
              0.6666666666666666,
              "#ed7953"
             ],
             [
              0.7777777777777778,
              "#fb9f3a"
             ],
             [
              0.8888888888888888,
              "#fdca26"
             ],
             [
              1,
              "#f0f921"
             ]
            ],
            "type": "histogram2dcontour"
           }
          ],
          "mesh3d": [
           {
            "colorbar": {
             "outlinewidth": 0,
             "ticks": ""
            },
            "type": "mesh3d"
           }
          ],
          "parcoords": [
           {
            "line": {
             "colorbar": {
              "outlinewidth": 0,
              "ticks": ""
             }
            },
            "type": "parcoords"
           }
          ],
          "pie": [
           {
            "automargin": true,
            "type": "pie"
           }
          ],
          "scatter": [
           {
            "fillpattern": {
             "fillmode": "overlay",
             "size": 10,
             "solidity": 0.2
            },
            "type": "scatter"
           }
          ],
          "scatter3d": [
           {
            "line": {
             "colorbar": {
              "outlinewidth": 0,
              "ticks": ""
             }
            },
            "marker": {
             "colorbar": {
              "outlinewidth": 0,
              "ticks": ""
             }
            },
            "type": "scatter3d"
           }
          ],
          "scattercarpet": [
           {
            "marker": {
             "colorbar": {
              "outlinewidth": 0,
              "ticks": ""
             }
            },
            "type": "scattercarpet"
           }
          ],
          "scattergeo": [
           {
            "marker": {
             "colorbar": {
              "outlinewidth": 0,
              "ticks": ""
             }
            },
            "type": "scattergeo"
           }
          ],
          "scattergl": [
           {
            "marker": {
             "colorbar": {
              "outlinewidth": 0,
              "ticks": ""
             }
            },
            "type": "scattergl"
           }
          ],
          "scattermap": [
           {
            "marker": {
             "colorbar": {
              "outlinewidth": 0,
              "ticks": ""
             }
            },
            "type": "scattermap"
           }
          ],
          "scattermapbox": [
           {
            "marker": {
             "colorbar": {
              "outlinewidth": 0,
              "ticks": ""
             }
            },
            "type": "scattermapbox"
           }
          ],
          "scatterpolar": [
           {
            "marker": {
             "colorbar": {
              "outlinewidth": 0,
              "ticks": ""
             }
            },
            "type": "scatterpolar"
           }
          ],
          "scatterpolargl": [
           {
            "marker": {
             "colorbar": {
              "outlinewidth": 0,
              "ticks": ""
             }
            },
            "type": "scatterpolargl"
           }
          ],
          "scatterternary": [
           {
            "marker": {
             "colorbar": {
              "outlinewidth": 0,
              "ticks": ""
             }
            },
            "type": "scatterternary"
           }
          ],
          "surface": [
           {
            "colorbar": {
             "outlinewidth": 0,
             "ticks": ""
            },
            "colorscale": [
             [
              0,
              "#0d0887"
             ],
             [
              0.1111111111111111,
              "#46039f"
             ],
             [
              0.2222222222222222,
              "#7201a8"
             ],
             [
              0.3333333333333333,
              "#9c179e"
             ],
             [
              0.4444444444444444,
              "#bd3786"
             ],
             [
              0.5555555555555556,
              "#d8576b"
             ],
             [
              0.6666666666666666,
              "#ed7953"
             ],
             [
              0.7777777777777778,
              "#fb9f3a"
             ],
             [
              0.8888888888888888,
              "#fdca26"
             ],
             [
              1,
              "#f0f921"
             ]
            ],
            "type": "surface"
           }
          ],
          "table": [
           {
            "cells": {
             "fill": {
              "color": "#EBF0F8"
             },
             "line": {
              "color": "white"
             }
            },
            "header": {
             "fill": {
              "color": "#C8D4E3"
             },
             "line": {
              "color": "white"
             }
            },
            "type": "table"
           }
          ]
         },
         "layout": {
          "annotationdefaults": {
           "arrowcolor": "#2a3f5f",
           "arrowhead": 0,
           "arrowwidth": 1
          },
          "autotypenumbers": "strict",
          "coloraxis": {
           "colorbar": {
            "outlinewidth": 0,
            "ticks": ""
           }
          },
          "colorscale": {
           "diverging": [
            [
             0,
             "#8e0152"
            ],
            [
             0.1,
             "#c51b7d"
            ],
            [
             0.2,
             "#de77ae"
            ],
            [
             0.3,
             "#f1b6da"
            ],
            [
             0.4,
             "#fde0ef"
            ],
            [
             0.5,
             "#f7f7f7"
            ],
            [
             0.6,
             "#e6f5d0"
            ],
            [
             0.7,
             "#b8e186"
            ],
            [
             0.8,
             "#7fbc41"
            ],
            [
             0.9,
             "#4d9221"
            ],
            [
             1,
             "#276419"
            ]
           ],
           "sequential": [
            [
             0,
             "#0d0887"
            ],
            [
             0.1111111111111111,
             "#46039f"
            ],
            [
             0.2222222222222222,
             "#7201a8"
            ],
            [
             0.3333333333333333,
             "#9c179e"
            ],
            [
             0.4444444444444444,
             "#bd3786"
            ],
            [
             0.5555555555555556,
             "#d8576b"
            ],
            [
             0.6666666666666666,
             "#ed7953"
            ],
            [
             0.7777777777777778,
             "#fb9f3a"
            ],
            [
             0.8888888888888888,
             "#fdca26"
            ],
            [
             1,
             "#f0f921"
            ]
           ],
           "sequentialminus": [
            [
             0,
             "#0d0887"
            ],
            [
             0.1111111111111111,
             "#46039f"
            ],
            [
             0.2222222222222222,
             "#7201a8"
            ],
            [
             0.3333333333333333,
             "#9c179e"
            ],
            [
             0.4444444444444444,
             "#bd3786"
            ],
            [
             0.5555555555555556,
             "#d8576b"
            ],
            [
             0.6666666666666666,
             "#ed7953"
            ],
            [
             0.7777777777777778,
             "#fb9f3a"
            ],
            [
             0.8888888888888888,
             "#fdca26"
            ],
            [
             1,
             "#f0f921"
            ]
           ]
          },
          "colorway": [
           "#636efa",
           "#EF553B",
           "#00cc96",
           "#ab63fa",
           "#FFA15A",
           "#19d3f3",
           "#FF6692",
           "#B6E880",
           "#FF97FF",
           "#FECB52"
          ],
          "font": {
           "color": "#2a3f5f"
          },
          "geo": {
           "bgcolor": "white",
           "lakecolor": "white",
           "landcolor": "#E5ECF6",
           "showlakes": true,
           "showland": true,
           "subunitcolor": "white"
          },
          "hoverlabel": {
           "align": "left"
          },
          "hovermode": "closest",
          "mapbox": {
           "style": "light"
          },
          "paper_bgcolor": "white",
          "plot_bgcolor": "#E5ECF6",
          "polar": {
           "angularaxis": {
            "gridcolor": "white",
            "linecolor": "white",
            "ticks": ""
           },
           "bgcolor": "#E5ECF6",
           "radialaxis": {
            "gridcolor": "white",
            "linecolor": "white",
            "ticks": ""
           }
          },
          "scene": {
           "xaxis": {
            "backgroundcolor": "#E5ECF6",
            "gridcolor": "white",
            "gridwidth": 2,
            "linecolor": "white",
            "showbackground": true,
            "ticks": "",
            "zerolinecolor": "white"
           },
           "yaxis": {
            "backgroundcolor": "#E5ECF6",
            "gridcolor": "white",
            "gridwidth": 2,
            "linecolor": "white",
            "showbackground": true,
            "ticks": "",
            "zerolinecolor": "white"
           },
           "zaxis": {
            "backgroundcolor": "#E5ECF6",
            "gridcolor": "white",
            "gridwidth": 2,
            "linecolor": "white",
            "showbackground": true,
            "ticks": "",
            "zerolinecolor": "white"
           }
          },
          "shapedefaults": {
           "line": {
            "color": "#2a3f5f"
           }
          },
          "ternary": {
           "aaxis": {
            "gridcolor": "white",
            "linecolor": "white",
            "ticks": ""
           },
           "baxis": {
            "gridcolor": "white",
            "linecolor": "white",
            "ticks": ""
           },
           "bgcolor": "#E5ECF6",
           "caxis": {
            "gridcolor": "white",
            "linecolor": "white",
            "ticks": ""
           }
          },
          "title": {
           "x": 0.05
          },
          "xaxis": {
           "automargin": true,
           "gridcolor": "white",
           "linecolor": "white",
           "ticks": "",
           "title": {
            "standoff": 15
           },
           "zerolinecolor": "white",
           "zerolinewidth": 2
          },
          "yaxis": {
           "automargin": true,
           "gridcolor": "white",
           "linecolor": "white",
           "ticks": "",
           "title": {
            "standoff": 15
           },
           "zerolinecolor": "white",
           "zerolinewidth": 2
          }
         }
        },
        "title": {
         "text": "Cell type 1"
        },
        "width": 600,
        "xaxis": {
         "anchor": "y",
         "domain": [
          0,
          1
         ],
         "title": {
          "text": "x"
         }
        },
        "yaxis": {
         "anchor": "x",
         "domain": [
          0,
          1
         ],
         "title": {
          "text": "y"
         }
        }
       }
      }
     },
     "metadata": {},
     "output_type": "display_data"
    },
    {
     "data": {
      "application/vnd.plotly.v1+json": {
       "config": {
        "plotlyServerURL": "https://plot.ly"
       },
       "data": [
        {
         "hovertemplate": "color=0<br>x=%{x}<br>y=%{y}<extra></extra>",
         "legendgroup": "0",
         "marker": {
          "color": "#636efa",
          "size": 5,
          "symbol": "circle"
         },
         "mode": "markers",
         "name": "0",
         "showlegend": true,
         "type": "scattergl",
         "x": {
          "bdata": "YRmtwCjxlMAO4qw+zDW5wIDynL+62lk/EeduwHOjhb/amF8/TT7svnQe6MC4D0Q/lqtvwJb8CT8REkQ9SQ6ywESDq8BQaZRAQ1+YP1c2eMBK3GDAAczYwM7qyb/1yenAaFqpwPcdjMBF4QxAHjQkwCdOKEAYM43AeHNDPSg0CMHR2nm/015FQKaocUBshI/A9pFZQBAeyr/xzkXAwCU2wMnEZMBwxyvAwGkBwDv0v79KiFTA9R8jwEYqXsHYTHRAtnuFwKPRZMDJz5vAQOu4wDPQmMBQSQnBIro7wPWZZsCTzzrA/rHhwD39kcDI9cE/Ol5IPx5bA0DkhsW/XBkhQOg8ZcDuinjAoa9Gv1ZO9b+DDRHANjRUwMcP8D91/JbAhJftvwA+bcAP7UjAbMN+wCkoL0DTXQHB3RfrPzD8Hz8Uuag/PoqdwIsBiT/lr5S/ARFewKkxtMBiaoTANqxCQEEcmcDPNuLA0AkTQNQMez/Fz5bALtqTwP3Ywr/IAhO/DtZawGjwOD9SEoBA/MroP9dFl79D1XfAqLCyP6DfisA6yIfAdLZev2sCt8ADAq3Ac9kvwEo8AcCbMA3B0hMYwN9dX8CujH3AF0d+vxQvbb92YsPAvmIUvSPFNECw/uu+RMbmPxDDfcCXwy9AGqqQvwDHAsD3zY9AtKWHwOevusDdUJjALsekwBvNBcF5IPI/maJAwKW3br9O2mm/pGKrwAvNUMAubWHAdUCQwPJekz/kH/m/YKEQwIoZsMCPNii+hB+cwMxJKUB6+zzAlUetP/OFPsBGDS3A3NkwQNh0SMCQ+4Y/BqS1P1ptMcCN5S8/xDSOv3G/g77YS6bA3BKewMLHMEDE6F7Ajw+qwHilA8Ah2Cs/JJsVQMmr3sCs7O6//MCDwIJ8bEDKkYk/O5S8Pvk6DkBoTXw/Z9eHwB6ShcDZ66jAK939v0Goc0CgKjhAhF8kwKNTxr9cV32+MnqEP1Tgt7/guo6/54yWwCqcOEBO4rG/jGH6P5lprMAdEoDAuMBowA6Tw8AXnjE/dWKcwJSuusBGTg/A/brNP1Nue8DBnZjAKl61wAfuVsDaoUU/dtVEwHATqsA5pWPAnfWSwJx13T8Sn1rAWGgCwDBikcDyvjBAKbJQwKLLiMB/0XHA+iydwGzNJ0De6VfATMumvYSorcCD8YzAEtNjwJZy4L/Z9p/ARLAuwG/zAz6Ot+k+oUWcwDng/sAsL6o/fPDCvi/qqD6IiKQ+CQFvwL10r8DjJjDAqJ4pQKqioMCaKdPAmq6qwEiVFMC3lIvAGykWwLOqhMABRPjA/u2oP8jBpsB0HinAiOjmwAbHbMBuuoHAx6OQwHBTYb/PixbAlEcfwCREC8ALibc/nSKgwEs8rb+Hz4TAdiCNwO5Qh8BjKmzAjoiIwKKNXcAW+/zApSXCwMo6jMC3PNXAT309QLS0ij/NE4k/VqmqwJLT7L9Wy5XAkcRQwFVmcsBqDTHAUSewwNZVLMCNweLAg6OlwJt+g8DbvF3Akb2ZwFy3gMD+HqG+f7lPP6ODmMDgRCU8OsSnwKWJXsBNeKY/EPNKwFvElsBG6LQ/fV5NP56tNsAliYTATzunwDJxusAnCpTA5zSOwMAmh8Aky0DAFJpEP3DSs8DpG7vA3JlswG4xTkA2SpLAxBTAv33/lMCVSqnAQt9GwAVAwsCs2hpAm82nwLZz38BfhonACr12wBnjL8CzFJXAWGhhwFCym8CQOJPASdaWQMnFi8AvHyI+l+hnP0WNpT6Ov7HAs7PePzeyWcAua+S/sH1awDTUwsDJTkjAnzOZwB/lDsA1vZPAy5AUwE2AuL/DLwnB/uvyveA+iMBvKMw+AZ2UwPNb2cChr8LAGITyP14yoMAVdavADxKbwOd/pcBJlAtAZNFlwCM7MsDDGobAJe2wwAutYsCFekq+hZtNQJLepsAzMB7AGieGP5Aztr88TWlAb82HwGWzvD/zuvDAbhF6P+CZsMC7zI/AxIDEv4zupcCLwYPA820TwCLVTMA2RL6/FvVnv8LP5cBKX15A+DC3wEoSs8AR7oHAcITzvUBAqMAfqro/ohIGwNRQLsB9+x7AwIKVwG1Un8DFQhnAevWNwEZZyT6cXLrA7fKLv3xQQ8DBGdy/h380wIK/874YtoPA3TvIwMNSrcBfxP4++9eewBNszr/TX7HAuwipwGI1CcA+AdG9UIwnwOVnRMD3AU3AumSzwOyCysCey87AkzHawEuXhcABT7/A1OJ8wMC3GkCAAX7AQs9NwMOuncA6T1JAYZz5P1M5j8C8b5PAlGxTwGojh8AsBUu+faf+v0hPhcDzGJrAAclZwDDey8De5nDAAvc2QEvGDD/ndiLAuH8Bvz6YCsE7mNs+ozWXvzzAST6AeYbAWIu4wIfuHcBsFWnA+w/HwIawtsDuSjzAs36XwFPZhsDogqXAoFdvPja+/74hC8rAWJtUwA7GWUBU187A5OSHPnb7UkBzagq/W49iwMuEgj9mUeG/hv9EwBYtm7+rqDDAcp4mwLqVkUDv3b7Af83NP1DweED6JqI/YLibwCWxrsCuiqXATROGP0IRSsDqMoa/xttNwIZ+HMBt3W/ABoWswIKYL8Dcm7vAYCqNwK1QMcBzvi7AzJujv2wYNkC9i0PAvKCqwNO/A8BOrSVAJjGJP36KrMBqBJ3AlyRjwDgebz9AaJ+8BQP6P6y9vr+vQgnAUj/av8w+QT/+uV7A9L5IPlSimMCPUCfAqC7Qv2b8ZMDn1Pi/tw6KwGq5E79x9mfAoz9awKRs0b9J1FLA3E9PwFynGUAguEW/Nk5ewAhqC8C8fKTAQXxNQDqP+j9Sc7/A4VY3wM+nq8D/Axy/9vnZwLsLwkAooSjAM46zwOS/6b+Im63AWUm1wPF+9D+DxuK+4vg+vra6yL9dlcg+Omg7wIeztb+ZRQa/Y0UZwJYotz924IvAOCLVwOLOqcBrHlvAfTN6PgAAiMCQ5ZDAy6EUQA9QO0Bx058/7xGDwLLoiMCUlBnAC4UawG7D8T8qpw5AMgOBPfAmdr8Ymw2/zvWYwHhgIsBlQDU/NZGiwGlv87/n96nA5oeMwIozSkAAgH3AepKfP7uNl8DEL1fAKRaMvg6pRr85gnnAwOp8PMGRhMDspIfAAUMrwGrl68AoSqTA/Hv7wCujJT7PwmvA+7v+PxobtMDeB+jAiBl0wLrpjEAmvYjAScomPxIzzz3XcnbATmbAwL1Xm8AIvLrAduq6wLzycsCQEavA7FdGvqleMcBMWQ0+Z9gWwGOB1MD3PI/A3SZlvyNdNECEbJS/2x/TwFTBM8AMS7zAqBwsv7oy+cAkQwS/bk5dwDIV+sD+DwPAKHNTPhaOsMAgBx5Agh0gwOXtzsAumqbAblCswCEIHMB0i5fAIApRwLkQlsCl+KTA5s3+v3T7j8B0yG/ArzyqvwqTwsCmkpg/oT8zwMfUp7/0TIPAtpU9QFKI9cDz4W/A76lewK1BfcAYuKTAsyrgv/LqpMCYvy1AY4AxwAu96r/VmaM+fIDIwFCXrcDvVhlATLg2wCcJvMDa1aLAk76Av7O5pMC/wJDAMB17QBdfm8A5HIvA6gWQwNM2KsAm/UFAYkA2PwAqe8CQn6XA6KTewIKp7T8bTTY/XguUv2Y/or8Le1JA5JOOvSq4hT/CeiXAQKN4wGG8qMAl7KHA6ZCFwObStr9XE0zArtK0wAZ/ycBfyRS9+KqYwA==",
          "dtype": "f4"
         },
         "xaxis": "x",
         "y": {
          "bdata": "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",
          "dtype": "f4"
         },
         "yaxis": "y"
        },
        {
         "hovertemplate": "color=2<br>x=%{x}<br>y=%{y}<extra></extra>",
         "legendgroup": "2",
         "marker": {
          "color": "#EF553B",
          "size": 5,
          "symbol": "circle"
         },
         "mode": "markers",
         "name": "2",
         "showlegend": true,
         "type": "scattergl",
         "x": {
          "bdata": "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",
          "dtype": "f4"
         },
         "xaxis": "x",
         "y": {
          "bdata": "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",
          "dtype": "f4"
         },
         "yaxis": "y"
        },
        {
         "hovertemplate": "color=1<br>x=%{x}<br>y=%{y}<extra></extra>",
         "legendgroup": "1",
         "marker": {
          "color": "#00cc96",
          "size": 5,
          "symbol": "circle"
         },
         "mode": "markers",
         "name": "1",
         "showlegend": true,
         "type": "scattergl",
         "x": {
          "bdata": "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",
          "dtype": "f4"
         },
         "xaxis": "x",
         "y": {
          "bdata": "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",
          "dtype": "f4"
         },
         "yaxis": "y"
        }
       ],
       "layout": {
        "height": 600,
        "legend": {
         "title": {
          "text": "color"
         },
         "tracegroupgap": 0
        },
        "template": {
         "data": {
          "bar": [
           {
            "error_x": {
             "color": "#2a3f5f"
            },
            "error_y": {
             "color": "#2a3f5f"
            },
            "marker": {
             "line": {
              "color": "#E5ECF6",
              "width": 0.5
             },
             "pattern": {
              "fillmode": "overlay",
              "size": 10,
              "solidity": 0.2
             }
            },
            "type": "bar"
           }
          ],
          "barpolar": [
           {
            "marker": {
             "line": {
              "color": "#E5ECF6",
              "width": 0.5
             },
             "pattern": {
              "fillmode": "overlay",
              "size": 10,
              "solidity": 0.2
             }
            },
            "type": "barpolar"
           }
          ],
          "carpet": [
           {
            "aaxis": {
             "endlinecolor": "#2a3f5f",
             "gridcolor": "white",
             "linecolor": "white",
             "minorgridcolor": "white",
             "startlinecolor": "#2a3f5f"
            },
            "baxis": {
             "endlinecolor": "#2a3f5f",
             "gridcolor": "white",
             "linecolor": "white",
             "minorgridcolor": "white",
             "startlinecolor": "#2a3f5f"
            },
            "type": "carpet"
           }
          ],
          "choropleth": [
           {
            "colorbar": {
             "outlinewidth": 0,
             "ticks": ""
            },
            "type": "choropleth"
           }
          ],
          "contour": [
           {
            "colorbar": {
             "outlinewidth": 0,
             "ticks": ""
            },
            "colorscale": [
             [
              0,
              "#0d0887"
             ],
             [
              0.1111111111111111,
              "#46039f"
             ],
             [
              0.2222222222222222,
              "#7201a8"
             ],
             [
              0.3333333333333333,
              "#9c179e"
             ],
             [
              0.4444444444444444,
              "#bd3786"
             ],
             [
              0.5555555555555556,
              "#d8576b"
             ],
             [
              0.6666666666666666,
              "#ed7953"
             ],
             [
              0.7777777777777778,
              "#fb9f3a"
             ],
             [
              0.8888888888888888,
              "#fdca26"
             ],
             [
              1,
              "#f0f921"
             ]
            ],
            "type": "contour"
           }
          ],
          "contourcarpet": [
           {
            "colorbar": {
             "outlinewidth": 0,
             "ticks": ""
            },
            "type": "contourcarpet"
           }
          ],
          "heatmap": [
           {
            "colorbar": {
             "outlinewidth": 0,
             "ticks": ""
            },
            "colorscale": [
             [
              0,
              "#0d0887"
             ],
             [
              0.1111111111111111,
              "#46039f"
             ],
             [
              0.2222222222222222,
              "#7201a8"
             ],
             [
              0.3333333333333333,
              "#9c179e"
             ],
             [
              0.4444444444444444,
              "#bd3786"
             ],
             [
              0.5555555555555556,
              "#d8576b"
             ],
             [
              0.6666666666666666,
              "#ed7953"
             ],
             [
              0.7777777777777778,
              "#fb9f3a"
             ],
             [
              0.8888888888888888,
              "#fdca26"
             ],
             [
              1,
              "#f0f921"
             ]
            ],
            "type": "heatmap"
           }
          ],
          "histogram": [
           {
            "marker": {
             "pattern": {
              "fillmode": "overlay",
              "size": 10,
              "solidity": 0.2
             }
            },
            "type": "histogram"
           }
          ],
          "histogram2d": [
           {
            "colorbar": {
             "outlinewidth": 0,
             "ticks": ""
            },
            "colorscale": [
             [
              0,
              "#0d0887"
             ],
             [
              0.1111111111111111,
              "#46039f"
             ],
             [
              0.2222222222222222,
              "#7201a8"
             ],
             [
              0.3333333333333333,
              "#9c179e"
             ],
             [
              0.4444444444444444,
              "#bd3786"
             ],
             [
              0.5555555555555556,
              "#d8576b"
             ],
             [
              0.6666666666666666,
              "#ed7953"
             ],
             [
              0.7777777777777778,
              "#fb9f3a"
             ],
             [
              0.8888888888888888,
              "#fdca26"
             ],
             [
              1,
              "#f0f921"
             ]
            ],
            "type": "histogram2d"
           }
          ],
          "histogram2dcontour": [
           {
            "colorbar": {
             "outlinewidth": 0,
             "ticks": ""
            },
            "colorscale": [
             [
              0,
              "#0d0887"
             ],
             [
              0.1111111111111111,
              "#46039f"
             ],
             [
              0.2222222222222222,
              "#7201a8"
             ],
             [
              0.3333333333333333,
              "#9c179e"
             ],
             [
              0.4444444444444444,
              "#bd3786"
             ],
             [
              0.5555555555555556,
              "#d8576b"
             ],
             [
              0.6666666666666666,
              "#ed7953"
             ],
             [
              0.7777777777777778,
              "#fb9f3a"
             ],
             [
              0.8888888888888888,
              "#fdca26"
             ],
             [
              1,
              "#f0f921"
             ]
            ],
            "type": "histogram2dcontour"
           }
          ],
          "mesh3d": [
           {
            "colorbar": {
             "outlinewidth": 0,
             "ticks": ""
            },
            "type": "mesh3d"
           }
          ],
          "parcoords": [
           {
            "line": {
             "colorbar": {
              "outlinewidth": 0,
              "ticks": ""
             }
            },
            "type": "parcoords"
           }
          ],
          "pie": [
           {
            "automargin": true,
            "type": "pie"
           }
          ],
          "scatter": [
           {
            "fillpattern": {
             "fillmode": "overlay",
             "size": 10,
             "solidity": 0.2
            },
            "type": "scatter"
           }
          ],
          "scatter3d": [
           {
            "line": {
             "colorbar": {
              "outlinewidth": 0,
              "ticks": ""
             }
            },
            "marker": {
             "colorbar": {
              "outlinewidth": 0,
              "ticks": ""
             }
            },
            "type": "scatter3d"
           }
          ],
          "scattercarpet": [
           {
            "marker": {
             "colorbar": {
              "outlinewidth": 0,
              "ticks": ""
             }
            },
            "type": "scattercarpet"
           }
          ],
          "scattergeo": [
           {
            "marker": {
             "colorbar": {
              "outlinewidth": 0,
              "ticks": ""
             }
            },
            "type": "scattergeo"
           }
          ],
          "scattergl": [
           {
            "marker": {
             "colorbar": {
              "outlinewidth": 0,
              "ticks": ""
             }
            },
            "type": "scattergl"
           }
          ],
          "scattermap": [
           {
            "marker": {
             "colorbar": {
              "outlinewidth": 0,
              "ticks": ""
             }
            },
            "type": "scattermap"
           }
          ],
          "scattermapbox": [
           {
            "marker": {
             "colorbar": {
              "outlinewidth": 0,
              "ticks": ""
             }
            },
            "type": "scattermapbox"
           }
          ],
          "scatterpolar": [
           {
            "marker": {
             "colorbar": {
              "outlinewidth": 0,
              "ticks": ""
             }
            },
            "type": "scatterpolar"
           }
          ],
          "scatterpolargl": [
           {
            "marker": {
             "colorbar": {
              "outlinewidth": 0,
              "ticks": ""
             }
            },
            "type": "scatterpolargl"
           }
          ],
          "scatterternary": [
           {
            "marker": {
             "colorbar": {
              "outlinewidth": 0,
              "ticks": ""
             }
            },
            "type": "scatterternary"
           }
          ],
          "surface": [
           {
            "colorbar": {
             "outlinewidth": 0,
             "ticks": ""
            },
            "colorscale": [
             [
              0,
              "#0d0887"
             ],
             [
              0.1111111111111111,
              "#46039f"
             ],
             [
              0.2222222222222222,
              "#7201a8"
             ],
             [
              0.3333333333333333,
              "#9c179e"
             ],
             [
              0.4444444444444444,
              "#bd3786"
             ],
             [
              0.5555555555555556,
              "#d8576b"
             ],
             [
              0.6666666666666666,
              "#ed7953"
             ],
             [
              0.7777777777777778,
              "#fb9f3a"
             ],
             [
              0.8888888888888888,
              "#fdca26"
             ],
             [
              1,
              "#f0f921"
             ]
            ],
            "type": "surface"
           }
          ],
          "table": [
           {
            "cells": {
             "fill": {
              "color": "#EBF0F8"
             },
             "line": {
              "color": "white"
             }
            },
            "header": {
             "fill": {
              "color": "#C8D4E3"
             },
             "line": {
              "color": "white"
             }
            },
            "type": "table"
           }
          ]
         },
         "layout": {
          "annotationdefaults": {
           "arrowcolor": "#2a3f5f",
           "arrowhead": 0,
           "arrowwidth": 1
          },
          "autotypenumbers": "strict",
          "coloraxis": {
           "colorbar": {
            "outlinewidth": 0,
            "ticks": ""
           }
          },
          "colorscale": {
           "diverging": [
            [
             0,
             "#8e0152"
            ],
            [
             0.1,
             "#c51b7d"
            ],
            [
             0.2,
             "#de77ae"
            ],
            [
             0.3,
             "#f1b6da"
            ],
            [
             0.4,
             "#fde0ef"
            ],
            [
             0.5,
             "#f7f7f7"
            ],
            [
             0.6,
             "#e6f5d0"
            ],
            [
             0.7,
             "#b8e186"
            ],
            [
             0.8,
             "#7fbc41"
            ],
            [
             0.9,
             "#4d9221"
            ],
            [
             1,
             "#276419"
            ]
           ],
           "sequential": [
            [
             0,
             "#0d0887"
            ],
            [
             0.1111111111111111,
             "#46039f"
            ],
            [
             0.2222222222222222,
             "#7201a8"
            ],
            [
             0.3333333333333333,
             "#9c179e"
            ],
            [
             0.4444444444444444,
             "#bd3786"
            ],
            [
             0.5555555555555556,
             "#d8576b"
            ],
            [
             0.6666666666666666,
             "#ed7953"
            ],
            [
             0.7777777777777778,
             "#fb9f3a"
            ],
            [
             0.8888888888888888,
             "#fdca26"
            ],
            [
             1,
             "#f0f921"
            ]
           ],
           "sequentialminus": [
            [
             0,
             "#0d0887"
            ],
            [
             0.1111111111111111,
             "#46039f"
            ],
            [
             0.2222222222222222,
             "#7201a8"
            ],
            [
             0.3333333333333333,
             "#9c179e"
            ],
            [
             0.4444444444444444,
             "#bd3786"
            ],
            [
             0.5555555555555556,
             "#d8576b"
            ],
            [
             0.6666666666666666,
             "#ed7953"
            ],
            [
             0.7777777777777778,
             "#fb9f3a"
            ],
            [
             0.8888888888888888,
             "#fdca26"
            ],
            [
             1,
             "#f0f921"
            ]
           ]
          },
          "colorway": [
           "#636efa",
           "#EF553B",
           "#00cc96",
           "#ab63fa",
           "#FFA15A",
           "#19d3f3",
           "#FF6692",
           "#B6E880",
           "#FF97FF",
           "#FECB52"
          ],
          "font": {
           "color": "#2a3f5f"
          },
          "geo": {
           "bgcolor": "white",
           "lakecolor": "white",
           "landcolor": "#E5ECF6",
           "showlakes": true,
           "showland": true,
           "subunitcolor": "white"
          },
          "hoverlabel": {
           "align": "left"
          },
          "hovermode": "closest",
          "mapbox": {
           "style": "light"
          },
          "paper_bgcolor": "white",
          "plot_bgcolor": "#E5ECF6",
          "polar": {
           "angularaxis": {
            "gridcolor": "white",
            "linecolor": "white",
            "ticks": ""
           },
           "bgcolor": "#E5ECF6",
           "radialaxis": {
            "gridcolor": "white",
            "linecolor": "white",
            "ticks": ""
           }
          },
          "scene": {
           "xaxis": {
            "backgroundcolor": "#E5ECF6",
            "gridcolor": "white",
            "gridwidth": 2,
            "linecolor": "white",
            "showbackground": true,
            "ticks": "",
            "zerolinecolor": "white"
           },
           "yaxis": {
            "backgroundcolor": "#E5ECF6",
            "gridcolor": "white",
            "gridwidth": 2,
            "linecolor": "white",
            "showbackground": true,
            "ticks": "",
            "zerolinecolor": "white"
           },
           "zaxis": {
            "backgroundcolor": "#E5ECF6",
            "gridcolor": "white",
            "gridwidth": 2,
            "linecolor": "white",
            "showbackground": true,
            "ticks": "",
            "zerolinecolor": "white"
           }
          },
          "shapedefaults": {
           "line": {
            "color": "#2a3f5f"
           }
          },
          "ternary": {
           "aaxis": {
            "gridcolor": "white",
            "linecolor": "white",
            "ticks": ""
           },
           "baxis": {
            "gridcolor": "white",
            "linecolor": "white",
            "ticks": ""
           },
           "bgcolor": "#E5ECF6",
           "caxis": {
            "gridcolor": "white",
            "linecolor": "white",
            "ticks": ""
           }
          },
          "title": {
           "x": 0.05
          },
          "xaxis": {
           "automargin": true,
           "gridcolor": "white",
           "linecolor": "white",
           "ticks": "",
           "title": {
            "standoff": 15
           },
           "zerolinecolor": "white",
           "zerolinewidth": 2
          },
          "yaxis": {
           "automargin": true,
           "gridcolor": "white",
           "linecolor": "white",
           "ticks": "",
           "title": {
            "standoff": 15
           },
           "zerolinecolor": "white",
           "zerolinewidth": 2
          }
         }
        },
        "title": {
         "text": "Cell type 2"
        },
        "width": 600,
        "xaxis": {
         "anchor": "y",
         "domain": [
          0,
          1
         ],
         "title": {
          "text": "x"
         }
        },
        "yaxis": {
         "anchor": "x",
         "domain": [
          0,
          1
         ],
         "title": {
          "text": "y"
         }
        }
       }
      }
     },
     "metadata": {},
     "output_type": "display_data"
    }
   ],
   "source": [
    "for c in range(n_cell_types):\n",
    "\n",
    "    vals, vecs = torch.linalg.eigh(b[c])\n",
    "    vals = vals.flip([0])\n",
    "    vecs = vecs.flip([1])\n",
    "\n",
    "    adata.obsm[\"X_Q\"] = adata.X @ vecs[:, :3].numpy()  # project into component space\n",
    "\n",
    "    fig = px.scatter(\n",
    "        x=adata.obsm[\"X_Q\"][:, 0],\n",
    "        y=adata.obsm[\"X_Q\"][:, 1],\n",
    "        color=adata.obs[\"cell_type\"],\n",
    "        title=f\"Cell type {c}\",\n",
    "        width=600,\n",
    "        height=600,\n",
    "    )\n",
    "    fig.update_traces(marker=dict(size=5))\n",
    "    fig.show()"
   ]
  },
  {
   "cell_type": "markdown",
   "id": "a5dc8c29",
   "metadata": {},
   "source": [
    "Looks like the first component nicely separates the cells in the given type from the others.\n",
    "- Cell type 0 components just happen to separate all three types radially quite nicely?\n",
    "\n",
    "Could also just plot type histograms if only the top component is important."
   ]
  },
  {
   "cell_type": "code",
   "execution_count": 54,
   "id": "069b42f6",
   "metadata": {},
   "outputs": [
    {
     "data": {
      "application/vnd.plotly.v1+json": {
       "config": {
        "plotlyServerURL": "https://plot.ly"
       },
       "data": [
        {
         "bingroup": "x",
         "hovertemplate": "cell_type=0<br>component=%{x}<br>count=%{y}<extra></extra>",
         "legendgroup": "0",
         "marker": {
          "color": "#636efa",
          "opacity": 0.7,
          "pattern": {
           "shape": ""
          }
         },
         "name": "0",
         "nbinsx": 30,
         "orientation": "v",
         "showlegend": true,
         "type": "histogram",
         "x": {
          "bdata": "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",
          "dtype": "f4"
         },
         "xaxis": "x",
         "yaxis": "y"
        },
        {
         "bingroup": "x",
         "hovertemplate": "cell_type=2<br>component=%{x}<br>count=%{y}<extra></extra>",
         "legendgroup": "2",
         "marker": {
          "color": "#EF553B",
          "opacity": 0.7,
          "pattern": {
           "shape": ""
          }
         },
         "name": "2",
         "nbinsx": 30,
         "orientation": "v",
         "showlegend": true,
         "type": "histogram",
         "x": {
          "bdata": "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",
          "dtype": "f4"
         },
         "xaxis": "x",
         "yaxis": "y"
        },
        {
         "bingroup": "x",
         "hovertemplate": "cell_type=1<br>component=%{x}<br>count=%{y}<extra></extra>",
         "legendgroup": "1",
         "marker": {
          "color": "#00cc96",
          "opacity": 0.7,
          "pattern": {
           "shape": ""
          }
         },
         "name": "1",
         "nbinsx": 30,
         "orientation": "v",
         "showlegend": true,
         "type": "histogram",
         "x": {
          "bdata": "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",
          "dtype": "f4"
         },
         "xaxis": "x",
         "yaxis": "y"
        }
       ],
       "layout": {
        "barmode": "overlay",
        "height": 300,
        "legend": {
         "title": {
          "text": "cell_type"
         },
         "tracegroupgap": 0
        },
        "template": {
         "data": {
          "bar": [
           {
            "error_x": {
             "color": "#2a3f5f"
            },
            "error_y": {
             "color": "#2a3f5f"
            },
            "marker": {
             "line": {
              "color": "#E5ECF6",
              "width": 0.5
             },
             "pattern": {
              "fillmode": "overlay",
              "size": 10,
              "solidity": 0.2
             }
            },
            "type": "bar"
           }
          ],
          "barpolar": [
           {
            "marker": {
             "line": {
              "color": "#E5ECF6",
              "width": 0.5
             },
             "pattern": {
              "fillmode": "overlay",
              "size": 10,
              "solidity": 0.2
             }
            },
            "type": "barpolar"
           }
          ],
          "carpet": [
           {
            "aaxis": {
             "endlinecolor": "#2a3f5f",
             "gridcolor": "white",
             "linecolor": "white",
             "minorgridcolor": "white",
             "startlinecolor": "#2a3f5f"
            },
            "baxis": {
             "endlinecolor": "#2a3f5f",
             "gridcolor": "white",
             "linecolor": "white",
             "minorgridcolor": "white",
             "startlinecolor": "#2a3f5f"
            },
            "type": "carpet"
           }
          ],
          "choropleth": [
           {
            "colorbar": {
             "outlinewidth": 0,
             "ticks": ""
            },
            "type": "choropleth"
           }
          ],
          "contour": [
           {
            "colorbar": {
             "outlinewidth": 0,
             "ticks": ""
            },
            "colorscale": [
             [
              0,
              "#0d0887"
             ],
             [
              0.1111111111111111,
              "#46039f"
             ],
             [
              0.2222222222222222,
              "#7201a8"
             ],
             [
              0.3333333333333333,
              "#9c179e"
             ],
             [
              0.4444444444444444,
              "#bd3786"
             ],
             [
              0.5555555555555556,
              "#d8576b"
             ],
             [
              0.6666666666666666,
              "#ed7953"
             ],
             [
              0.7777777777777778,
              "#fb9f3a"
             ],
             [
              0.8888888888888888,
              "#fdca26"
             ],
             [
              1,
              "#f0f921"
             ]
            ],
            "type": "contour"
           }
          ],
          "contourcarpet": [
           {
            "colorbar": {
             "outlinewidth": 0,
             "ticks": ""
            },
            "type": "contourcarpet"
           }
          ],
          "heatmap": [
           {
            "colorbar": {
             "outlinewidth": 0,
             "ticks": ""
            },
            "colorscale": [
             [
              0,
              "#0d0887"
             ],
             [
              0.1111111111111111,
              "#46039f"
             ],
             [
              0.2222222222222222,
              "#7201a8"
             ],
             [
              0.3333333333333333,
              "#9c179e"
             ],
             [
              0.4444444444444444,
              "#bd3786"
             ],
             [
              0.5555555555555556,
              "#d8576b"
             ],
             [
              0.6666666666666666,
              "#ed7953"
             ],
             [
              0.7777777777777778,
              "#fb9f3a"
             ],
             [
              0.8888888888888888,
              "#fdca26"
             ],
             [
              1,
              "#f0f921"
             ]
            ],
            "type": "heatmap"
           }
          ],
          "histogram": [
           {
            "marker": {
             "pattern": {
              "fillmode": "overlay",
              "size": 10,
              "solidity": 0.2
             }
            },
            "type": "histogram"
           }
          ],
          "histogram2d": [
           {
            "colorbar": {
             "outlinewidth": 0,
             "ticks": ""
            },
            "colorscale": [
             [
              0,
              "#0d0887"
             ],
             [
              0.1111111111111111,
              "#46039f"
             ],
             [
              0.2222222222222222,
              "#7201a8"
             ],
             [
              0.3333333333333333,
              "#9c179e"
             ],
             [
              0.4444444444444444,
              "#bd3786"
             ],
             [
              0.5555555555555556,
              "#d8576b"
             ],
             [
              0.6666666666666666,
              "#ed7953"
             ],
             [
              0.7777777777777778,
              "#fb9f3a"
             ],
             [
              0.8888888888888888,
              "#fdca26"
             ],
             [
              1,
              "#f0f921"
             ]
            ],
            "type": "histogram2d"
           }
          ],
          "histogram2dcontour": [
           {
            "colorbar": {
             "outlinewidth": 0,
             "ticks": ""
            },
            "colorscale": [
             [
              0,
              "#0d0887"
             ],
             [
              0.1111111111111111,
              "#46039f"
             ],
             [
              0.2222222222222222,
              "#7201a8"
             ],
             [
              0.3333333333333333,
              "#9c179e"
             ],
             [
              0.4444444444444444,
              "#bd3786"
             ],
             [
              0.5555555555555556,
              "#d8576b"
             ],
             [
              0.6666666666666666,
              "#ed7953"
             ],
             [
              0.7777777777777778,
              "#fb9f3a"
             ],
             [
              0.8888888888888888,
              "#fdca26"
             ],
             [
              1,
              "#f0f921"
             ]
            ],
            "type": "histogram2dcontour"
           }
          ],
          "mesh3d": [
           {
            "colorbar": {
             "outlinewidth": 0,
             "ticks": ""
            },
            "type": "mesh3d"
           }
          ],
          "parcoords": [
           {
            "line": {
             "colorbar": {
              "outlinewidth": 0,
              "ticks": ""
             }
            },
            "type": "parcoords"
           }
          ],
          "pie": [
           {
            "automargin": true,
            "type": "pie"
           }
          ],
          "scatter": [
           {
            "fillpattern": {
             "fillmode": "overlay",
             "size": 10,
             "solidity": 0.2
            },
            "type": "scatter"
           }
          ],
          "scatter3d": [
           {
            "line": {
             "colorbar": {
              "outlinewidth": 0,
              "ticks": ""
             }
            },
            "marker": {
             "colorbar": {
              "outlinewidth": 0,
              "ticks": ""
             }
            },
            "type": "scatter3d"
           }
          ],
          "scattercarpet": [
           {
            "marker": {
             "colorbar": {
              "outlinewidth": 0,
              "ticks": ""
             }
            },
            "type": "scattercarpet"
           }
          ],
          "scattergeo": [
           {
            "marker": {
             "colorbar": {
              "outlinewidth": 0,
              "ticks": ""
             }
            },
            "type": "scattergeo"
           }
          ],
          "scattergl": [
           {
            "marker": {
             "colorbar": {
              "outlinewidth": 0,
              "ticks": ""
             }
            },
            "type": "scattergl"
           }
          ],
          "scattermap": [
           {
            "marker": {
             "colorbar": {
              "outlinewidth": 0,
              "ticks": ""
             }
            },
            "type": "scattermap"
           }
          ],
          "scattermapbox": [
           {
            "marker": {
             "colorbar": {
              "outlinewidth": 0,
              "ticks": ""
             }
            },
            "type": "scattermapbox"
           }
          ],
          "scatterpolar": [
           {
            "marker": {
             "colorbar": {
              "outlinewidth": 0,
              "ticks": ""
             }
            },
            "type": "scatterpolar"
           }
          ],
          "scatterpolargl": [
           {
            "marker": {
             "colorbar": {
              "outlinewidth": 0,
              "ticks": ""
             }
            },
            "type": "scatterpolargl"
           }
          ],
          "scatterternary": [
           {
            "marker": {
             "colorbar": {
              "outlinewidth": 0,
              "ticks": ""
             }
            },
            "type": "scatterternary"
           }
          ],
          "surface": [
           {
            "colorbar": {
             "outlinewidth": 0,
             "ticks": ""
            },
            "colorscale": [
             [
              0,
              "#0d0887"
             ],
             [
              0.1111111111111111,
              "#46039f"
             ],
             [
              0.2222222222222222,
              "#7201a8"
             ],
             [
              0.3333333333333333,
              "#9c179e"
             ],
             [
              0.4444444444444444,
              "#bd3786"
             ],
             [
              0.5555555555555556,
              "#d8576b"
             ],
             [
              0.6666666666666666,
              "#ed7953"
             ],
             [
              0.7777777777777778,
              "#fb9f3a"
             ],
             [
              0.8888888888888888,
              "#fdca26"
             ],
             [
              1,
              "#f0f921"
             ]
            ],
            "type": "surface"
           }
          ],
          "table": [
           {
            "cells": {
             "fill": {
              "color": "#EBF0F8"
             },
             "line": {
              "color": "white"
             }
            },
            "header": {
             "fill": {
              "color": "#C8D4E3"
             },
             "line": {
              "color": "white"
             }
            },
            "type": "table"
           }
          ]
         },
         "layout": {
          "annotationdefaults": {
           "arrowcolor": "#2a3f5f",
           "arrowhead": 0,
           "arrowwidth": 1
          },
          "autotypenumbers": "strict",
          "coloraxis": {
           "colorbar": {
            "outlinewidth": 0,
            "ticks": ""
           }
          },
          "colorscale": {
           "diverging": [
            [
             0,
             "#8e0152"
            ],
            [
             0.1,
             "#c51b7d"
            ],
            [
             0.2,
             "#de77ae"
            ],
            [
             0.3,
             "#f1b6da"
            ],
            [
             0.4,
             "#fde0ef"
            ],
            [
             0.5,
             "#f7f7f7"
            ],
            [
             0.6,
             "#e6f5d0"
            ],
            [
             0.7,
             "#b8e186"
            ],
            [
             0.8,
             "#7fbc41"
            ],
            [
             0.9,
             "#4d9221"
            ],
            [
             1,
             "#276419"
            ]
           ],
           "sequential": [
            [
             0,
             "#0d0887"
            ],
            [
             0.1111111111111111,
             "#46039f"
            ],
            [
             0.2222222222222222,
             "#7201a8"
            ],
            [
             0.3333333333333333,
             "#9c179e"
            ],
            [
             0.4444444444444444,
             "#bd3786"
            ],
            [
             0.5555555555555556,
             "#d8576b"
            ],
            [
             0.6666666666666666,
             "#ed7953"
            ],
            [
             0.7777777777777778,
             "#fb9f3a"
            ],
            [
             0.8888888888888888,
             "#fdca26"
            ],
            [
             1,
             "#f0f921"
            ]
           ],
           "sequentialminus": [
            [
             0,
             "#0d0887"
            ],
            [
             0.1111111111111111,
             "#46039f"
            ],
            [
             0.2222222222222222,
             "#7201a8"
            ],
            [
             0.3333333333333333,
             "#9c179e"
            ],
            [
             0.4444444444444444,
             "#bd3786"
            ],
            [
             0.5555555555555556,
             "#d8576b"
            ],
            [
             0.6666666666666666,
             "#ed7953"
            ],
            [
             0.7777777777777778,
             "#fb9f3a"
            ],
            [
             0.8888888888888888,
             "#fdca26"
            ],
            [
             1,
             "#f0f921"
            ]
           ]
          },
          "colorway": [
           "#636efa",
           "#EF553B",
           "#00cc96",
           "#ab63fa",
           "#FFA15A",
           "#19d3f3",
           "#FF6692",
           "#B6E880",
           "#FF97FF",
           "#FECB52"
          ],
          "font": {
           "color": "#2a3f5f"
          },
          "geo": {
           "bgcolor": "white",
           "lakecolor": "white",
           "landcolor": "#E5ECF6",
           "showlakes": true,
           "showland": true,
           "subunitcolor": "white"
          },
          "hoverlabel": {
           "align": "left"
          },
          "hovermode": "closest",
          "mapbox": {
           "style": "light"
          },
          "paper_bgcolor": "white",
          "plot_bgcolor": "#E5ECF6",
          "polar": {
           "angularaxis": {
            "gridcolor": "white",
            "linecolor": "white",
            "ticks": ""
           },
           "bgcolor": "#E5ECF6",
           "radialaxis": {
            "gridcolor": "white",
            "linecolor": "white",
            "ticks": ""
           }
          },
          "scene": {
           "xaxis": {
            "backgroundcolor": "#E5ECF6",
            "gridcolor": "white",
            "gridwidth": 2,
            "linecolor": "white",
            "showbackground": true,
            "ticks": "",
            "zerolinecolor": "white"
           },
           "yaxis": {
            "backgroundcolor": "#E5ECF6",
            "gridcolor": "white",
            "gridwidth": 2,
            "linecolor": "white",
            "showbackground": true,
            "ticks": "",
            "zerolinecolor": "white"
           },
           "zaxis": {
            "backgroundcolor": "#E5ECF6",
            "gridcolor": "white",
            "gridwidth": 2,
            "linecolor": "white",
            "showbackground": true,
            "ticks": "",
            "zerolinecolor": "white"
           }
          },
          "shapedefaults": {
           "line": {
            "color": "#2a3f5f"
           }
          },
          "ternary": {
           "aaxis": {
            "gridcolor": "white",
            "linecolor": "white",
            "ticks": ""
           },
           "baxis": {
            "gridcolor": "white",
            "linecolor": "white",
            "ticks": ""
           },
           "bgcolor": "#E5ECF6",
           "caxis": {
            "gridcolor": "white",
            "linecolor": "white",
            "ticks": ""
           }
          },
          "title": {
           "x": 0.05
          },
          "xaxis": {
           "automargin": true,
           "gridcolor": "white",
           "linecolor": "white",
           "ticks": "",
           "title": {
            "standoff": 15
           },
           "zerolinecolor": "white",
           "zerolinewidth": 2
          },
          "yaxis": {
           "automargin": true,
           "gridcolor": "white",
           "linecolor": "white",
           "ticks": "",
           "title": {
            "standoff": 15
           },
           "zerolinecolor": "white",
           "zerolinewidth": 2
          }
         }
        },
        "title": {
         "text": "Cell type 0 component histograms"
        },
        "width": 600,
        "xaxis": {
         "anchor": "y",
         "domain": [
          0,
          1
         ],
         "title": {
          "text": "component"
         }
        },
        "yaxis": {
         "anchor": "x",
         "domain": [
          0,
          1
         ],
         "title": {
          "text": "count"
         }
        }
       }
      }
     },
     "metadata": {},
     "output_type": "display_data"
    },
    {
     "data": {
      "application/vnd.plotly.v1+json": {
       "config": {
        "plotlyServerURL": "https://plot.ly"
       },
       "data": [
        {
         "bingroup": "x",
         "hovertemplate": "cell_type=0<br>component=%{x}<br>count=%{y}<extra></extra>",
         "legendgroup": "0",
         "marker": {
          "color": "#636efa",
          "opacity": 0.7,
          "pattern": {
           "shape": ""
          }
         },
         "name": "0",
         "nbinsx": 30,
         "orientation": "v",
         "showlegend": true,
         "type": "histogram",
         "x": {
          "bdata": "jVfOQKHnqT9wPetAFh2iQP/MQ0DfC/1AiFBgQHIgsUCz05tAocceQfDSi0FFL3tAtpAnQfKAAUGnmQ1BuMP4QANiBEHARsZA0EZVQE3BsL+cRflAT5yyQBcvw752KxtBIx5vwEtMOEB2T/RAGw82wBJsjkA4SvpAclhOQKZb1kCyPVtBaoyDQGUv3kBIEnxA+avTQAx1AkEwnhBBqc0EwKSEuUA6jaZAZ2SjQN+Gq0CJksw/ogPZQAlKgUFlAPxAhr3yQGOxEEEAactAz8STQP4rpUA2un1B+Fu6v7pTHkFIsiW/YuO+QI2aD0EHIfhAmqAHQXmKBEHcWQJBVLlxQOt3GEG2jA5B2puwQGXsjD+t02pAOqEjQd7cI0HEzAHAPwEUQRKEhUAIy0ZBl7CyQJp9nkAiVV9AOTWSQKLLFEGW9V5AmoK6QEwiukBikQlBzhaKQJkAcb66Qqk/b+OnQMoajT+H7+5A+wULQUSCmECalIFAQMwDvyYvPkHqfidBJSBzQIDHbUDgXPxAeoljQLSqlUDd2TJB9TZxQH812UAosa9AmNURQby/qUDyXRNBNTOYvkbPMUDObklB29Y9QcD79UCsAHy+Kw+GQIL6OUBGxbxA9rDMQDqGvUAOI9U/vmghQf1l50CWEA5B4JPnQH0erz+M+blAnsrRQLl18EC0BpBABfDyQIkXMEHyL51AzgK9QO7PsUAlCh9BMQHNQFWD5z8saY1Ajw9nQb8zDUH2qSE/nqLvvy9lMUFcVsJAvrnvQPVlpEA/8YVAGhEJQWBk0EBMsoVAK44DQRqTdMAFjsJAJ1KDQFJTykBIts1A5tXTQGIoZEDkEM4//cWZvxzFo0B6jC9BAugHQcBfq0BMmpFA5i0xQZzvEUFv2wRAV3MWQH+80EA1beNAoVcdQFKBrUC91PFApIwDP2NeoUD6RF9B3LvBQFG0tkAIPcVAlTgtQe5xH0FlBxRBur4ZQfIr9EDrawtBJVgMQFnju0Dg4oNAhrh2QGKlk0D/68BAEC3Uv+hofkGQY5pAY3wbQWeb8UBZc5BAWiAaQHeO/EABIIVAFyYWQS6vkr02FANBijUbQLLMh74lD5BALfRrQANgm0D2Ifw/kFlWQc1zGj8ex5lAyFdMwB7axEDvUyVAfGyrQHlPmkDncwhAi7EmQSnZ3EAk8QBBMfMWQMt1fEAM4QFB0Jpcv9Kva0AUJLpAzrwFQZz1fUH9Ws9AdFl6QAfgREAMnP5A+gsuQW7V4kAFNLq/XJTxQCmD+UDoIO5AzqbrPwIZNUGRwjzA9ihdQLbpakAerVhBkB/RQBOGq0CPLL8/Q+rBQF6CMkAw1zZAG2bRQGD8X0DcPrK/1nT/QM6ggkBjsQBBHoqVQIIGkEDnNQhAApPmQNChOr4+jgVB9yeQQBZihMC2Nk9BQCD7v9DFkT2EaB9Bo2LfQMlBpUDbsM9AuZufQHmb50B+ZMxAUYULwB3lDUH/NaBA9Cqfv9FaZkDMYr5AUPldQNtUlkBipypB3ti0QOi8akDzfftAW4QuQU+AD8BvZyZBgf5+QNIAskCzjLJAUoH8P/+wgkAwIqtAWyGFQJBVyUBD6K2/jpStQGEt3EAhpjdBVJ9RP7Z8GUEypGNAWsvbQNyICkEncpFAz7NuQdlizEBY6+u/uV6uQOi/mEBPOglAfQzuP5ugDkCOsQtBKwqhQJ8jib+Klbk/148QwH1gCkHoLMJAeAadPtKii0AgHm5B/vHDQIdi2kBY3NxASdXHQI+ZpkCTBtdAfaDyQJ3BskArBC/ALHTvP/m190AqYQVAQgXtQI7Ws0BlPd9AQOAnQPs2uEAp3gtBoPXgQCdAp7+m3axAW7q2v6ZhmkAaDTBBIAGNP38bjkClAL1AEeboQCrvUb+ymPdAqO+oQE2JDEFXqOlAOZoowG87H0EBqLhAlAvnQIsCKMBFK4JArd3eQIj9gbwAYL9ABbRkQMdBAUGpQNZAZTsNQZFMFsD6bOE9DgX1QPW5VUDX5Mg/VPYFP6QJT0FAykFBHBgYQN2FP0BaOdpANW4oQb6s9EAhuae/KDmCQPvWhkACnLNAoX8oQXjFMcBaSRE/IB+kP8jjlkDh3rxAXg/RvppeMUGv6UFBvf7mQLIWuEAZQLBAg0VHv+AnPUCDSp5AbAv/QL4i378CpLdATsXlQF+OnkBi/E1BOgVRQFy5JUCDNiBBFk21QM7dBkEKsj2/smU7QTQeZsDNlMRAlKsRQcSYxkCJHJBAe7ZIQJB6wEB+o+K/VCi+v9yrj0DtvcNArW3vQK9rGcA2K7xAcypZQNsgFsChTqhAU9Q+QZx7/z/MSDdBzOI4QBCluEDtAPtA4vKTQJBBD0H8FVVBOqLiQF7likGYtutA9bj1QBCvjUDIr99A6pQ9QTW36L40iqA/oQXSQMyOoUA0KR6+n6UuQCbz7EC8y4pA4ldQQDoXnECQKIhAHWJ9QEDlt0Afsg1BkdANQV2+w0DwOyNAUinnQMl190CbWAVBbmANwMCgCkGemU/A06/avw2n9UAH/r0/ToS6QLYfm0CKUU9AJIqrQHxwMkHuiJtAOXUNQZCUPEEEcp9AxWaBQIyJnz1Eh1RA+VZHQfBtj0CZEpO/fvAZQY/2a0AsjidBnM+uQG9CjkDpw/8/J15wwMmnlkDSUKlAXMmcQORNPkH2b9VAc5yPQKYPoUA41hZBk10UQXS4FEFYpJ29uYy7QBUYZ0BklZ1Ah9kjQayMl0BiPDpAxqY0vxkitj994q1Agv+KQGg+r0Aw3+O/vh5jPkiTEkGbVMi/LqIiv5jIk0BQUpdAs8PvvRnJDkHjl9RATxDLQJ5lxkDpNb5AtdkGQext1r8EtANBnc4TQeXI3kAHRudAFYc/QETXCz6LjcpANAkqQUEXs0DU6vhArsLJQA4ciUBf1blAglDdQFR1kUCjgwVBoAWnQB4+WkAfs9RA23hSQBwT5kA1xES/JkTpQAT5+r/tIvBAENfuQIRA5EASZZdAVDzKQPD/KMAfMwfAHUMjQEJ610AAEdJAkHnkQOa3QkH0HQxBYVS+QI3J20CKmv9APrjXQIMWib/3x6NAhJebv/S80kC025k/e4ywQA4f10DeflJAsOfcQGp86EDN3TLACikpQeYjhUAKn9o/PwPFQJupOkEBrJM/kFXDQHX8JkGwYbE/N1OaQAl1UUBivzZB5W4XPzjatECEUTq+15GdQF6eykCVthhAHBLwQMCQSUBw/cVAFOivQI5WeUAb5iRB/5gZQfTQl0AdROpAOeMaQNpznUD+/eVAEIIWQQ1ApEAc6N9AnL3hQFbhj7+HFM5Al/WwQGHFvkAExhxBo8arP9zmPEGFXjpASj2SQFy2rECjUGhAVN3QQAyk30C2muxAIKK/QOg9i0AZjoxAMiLvP5/+hL+cVSNAzdaxQO5ro75wsRs9wnbcQFyT2EDq9jhAogyBQJ9+9ECoGFTAnRekQELF2kBf7BJBIrr7P6NS7kC9051AvjsZQONflkBH0dhAgnAFQM/fI0EjyeRAE0z2P4meH0EkFVxAE5DAQKq39UBkjyNB2yX5QHESEUHskJNA+UHUQMslJkDDWVxA/omnQP/efED0K7FA4W0MQX6XBECHy6FAtCcLQKWYhkBzQvBAhSOSQF5XEEENsC5AyA2pQIUsYECKWhzA73GePuTd+EDuhDNB/tprPpUFCkHZp7FAFkjPQEOoYUAjfiFA6uHRQA==",
          "dtype": "f4"
         },
         "xaxis": "x",
         "yaxis": "y"
        },
        {
         "bingroup": "x",
         "hovertemplate": "cell_type=2<br>component=%{x}<br>count=%{y}<extra></extra>",
         "legendgroup": "2",
         "marker": {
          "color": "#EF553B",
          "opacity": 0.7,
          "pattern": {
           "shape": ""
          }
         },
         "name": "2",
         "nbinsx": 30,
         "orientation": "v",
         "showlegend": true,
         "type": "histogram",
         "x": {
          "bdata": "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",
          "dtype": "f4"
         },
         "xaxis": "x",
         "yaxis": "y"
        },
        {
         "bingroup": "x",
         "hovertemplate": "cell_type=1<br>component=%{x}<br>count=%{y}<extra></extra>",
         "legendgroup": "1",
         "marker": {
          "color": "#00cc96",
          "opacity": 0.7,
          "pattern": {
           "shape": ""
          }
         },
         "name": "1",
         "nbinsx": 30,
         "orientation": "v",
         "showlegend": true,
         "type": "histogram",
         "x": {
          "bdata": "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",
          "dtype": "f4"
         },
         "xaxis": "x",
         "yaxis": "y"
        }
       ],
       "layout": {
        "barmode": "overlay",
        "height": 300,
        "legend": {
         "title": {
          "text": "cell_type"
         },
         "tracegroupgap": 0
        },
        "template": {
         "data": {
          "bar": [
           {
            "error_x": {
             "color": "#2a3f5f"
            },
            "error_y": {
             "color": "#2a3f5f"
            },
            "marker": {
             "line": {
              "color": "#E5ECF6",
              "width": 0.5
             },
             "pattern": {
              "fillmode": "overlay",
              "size": 10,
              "solidity": 0.2
             }
            },
            "type": "bar"
           }
          ],
          "barpolar": [
           {
            "marker": {
             "line": {
              "color": "#E5ECF6",
              "width": 0.5
             },
             "pattern": {
              "fillmode": "overlay",
              "size": 10,
              "solidity": 0.2
             }
            },
            "type": "barpolar"
           }
          ],
          "carpet": [
           {
            "aaxis": {
             "endlinecolor": "#2a3f5f",
             "gridcolor": "white",
             "linecolor": "white",
             "minorgridcolor": "white",
             "startlinecolor": "#2a3f5f"
            },
            "baxis": {
             "endlinecolor": "#2a3f5f",
             "gridcolor": "white",
             "linecolor": "white",
             "minorgridcolor": "white",
             "startlinecolor": "#2a3f5f"
            },
            "type": "carpet"
           }
          ],
          "choropleth": [
           {
            "colorbar": {
             "outlinewidth": 0,
             "ticks": ""
            },
            "type": "choropleth"
           }
          ],
          "contour": [
           {
            "colorbar": {
             "outlinewidth": 0,
             "ticks": ""
            },
            "colorscale": [
             [
              0,
              "#0d0887"
             ],
             [
              0.1111111111111111,
              "#46039f"
             ],
             [
              0.2222222222222222,
              "#7201a8"
             ],
             [
              0.3333333333333333,
              "#9c179e"
             ],
             [
              0.4444444444444444,
              "#bd3786"
             ],
             [
              0.5555555555555556,
              "#d8576b"
             ],
             [
              0.6666666666666666,
              "#ed7953"
             ],
             [
              0.7777777777777778,
              "#fb9f3a"
             ],
             [
              0.8888888888888888,
              "#fdca26"
             ],
             [
              1,
              "#f0f921"
             ]
            ],
            "type": "contour"
           }
          ],
          "contourcarpet": [
           {
            "colorbar": {
             "outlinewidth": 0,
             "ticks": ""
            },
            "type": "contourcarpet"
           }
          ],
          "heatmap": [
           {
            "colorbar": {
             "outlinewidth": 0,
             "ticks": ""
            },
            "colorscale": [
             [
              0,
              "#0d0887"
             ],
             [
              0.1111111111111111,
              "#46039f"
             ],
             [
              0.2222222222222222,
              "#7201a8"
             ],
             [
              0.3333333333333333,
              "#9c179e"
             ],
             [
              0.4444444444444444,
              "#bd3786"
             ],
             [
              0.5555555555555556,
              "#d8576b"
             ],
             [
              0.6666666666666666,
              "#ed7953"
             ],
             [
              0.7777777777777778,
              "#fb9f3a"
             ],
             [
              0.8888888888888888,
              "#fdca26"
             ],
             [
              1,
              "#f0f921"
             ]
            ],
            "type": "heatmap"
           }
          ],
          "histogram": [
           {
            "marker": {
             "pattern": {
              "fillmode": "overlay",
              "size": 10,
              "solidity": 0.2
             }
            },
            "type": "histogram"
           }
          ],
          "histogram2d": [
           {
            "colorbar": {
             "outlinewidth": 0,
             "ticks": ""
            },
            "colorscale": [
             [
              0,
              "#0d0887"
             ],
             [
              0.1111111111111111,
              "#46039f"
             ],
             [
              0.2222222222222222,
              "#7201a8"
             ],
             [
              0.3333333333333333,
              "#9c179e"
             ],
             [
              0.4444444444444444,
              "#bd3786"
             ],
             [
              0.5555555555555556,
              "#d8576b"
             ],
             [
              0.6666666666666666,
              "#ed7953"
             ],
             [
              0.7777777777777778,
              "#fb9f3a"
             ],
             [
              0.8888888888888888,
              "#fdca26"
             ],
             [
              1,
              "#f0f921"
             ]
            ],
            "type": "histogram2d"
           }
          ],
          "histogram2dcontour": [
           {
            "colorbar": {
             "outlinewidth": 0,
             "ticks": ""
            },
            "colorscale": [
             [
              0,
              "#0d0887"
             ],
             [
              0.1111111111111111,
              "#46039f"
             ],
             [
              0.2222222222222222,
              "#7201a8"
             ],
             [
              0.3333333333333333,
              "#9c179e"
             ],
             [
              0.4444444444444444,
              "#bd3786"
             ],
             [
              0.5555555555555556,
              "#d8576b"
             ],
             [
              0.6666666666666666,
              "#ed7953"
             ],
             [
              0.7777777777777778,
              "#fb9f3a"
             ],
             [
              0.8888888888888888,
              "#fdca26"
             ],
             [
              1,
              "#f0f921"
             ]
            ],
            "type": "histogram2dcontour"
           }
          ],
          "mesh3d": [
           {
            "colorbar": {
             "outlinewidth": 0,
             "ticks": ""
            },
            "type": "mesh3d"
           }
          ],
          "parcoords": [
           {
            "line": {
             "colorbar": {
              "outlinewidth": 0,
              "ticks": ""
             }
            },
            "type": "parcoords"
           }
          ],
          "pie": [
           {
            "automargin": true,
            "type": "pie"
           }
          ],
          "scatter": [
           {
            "fillpattern": {
             "fillmode": "overlay",
             "size": 10,
             "solidity": 0.2
            },
            "type": "scatter"
           }
          ],
          "scatter3d": [
           {
            "line": {
             "colorbar": {
              "outlinewidth": 0,
              "ticks": ""
             }
            },
            "marker": {
             "colorbar": {
              "outlinewidth": 0,
              "ticks": ""
             }
            },
            "type": "scatter3d"
           }
          ],
          "scattercarpet": [
           {
            "marker": {
             "colorbar": {
              "outlinewidth": 0,
              "ticks": ""
             }
            },
            "type": "scattercarpet"
           }
          ],
          "scattergeo": [
           {
            "marker": {
             "colorbar": {
              "outlinewidth": 0,
              "ticks": ""
             }
            },
            "type": "scattergeo"
           }
          ],
          "scattergl": [
           {
            "marker": {
             "colorbar": {
              "outlinewidth": 0,
              "ticks": ""
             }
            },
            "type": "scattergl"
           }
          ],
          "scattermap": [
           {
            "marker": {
             "colorbar": {
              "outlinewidth": 0,
              "ticks": ""
             }
            },
            "type": "scattermap"
           }
          ],
          "scattermapbox": [
           {
            "marker": {
             "colorbar": {
              "outlinewidth": 0,
              "ticks": ""
             }
            },
            "type": "scattermapbox"
           }
          ],
          "scatterpolar": [
           {
            "marker": {
             "colorbar": {
              "outlinewidth": 0,
              "ticks": ""
             }
            },
            "type": "scatterpolar"
           }
          ],
          "scatterpolargl": [
           {
            "marker": {
             "colorbar": {
              "outlinewidth": 0,
              "ticks": ""
             }
            },
            "type": "scatterpolargl"
           }
          ],
          "scatterternary": [
           {
            "marker": {
             "colorbar": {
              "outlinewidth": 0,
              "ticks": ""
             }
            },
            "type": "scatterternary"
           }
          ],
          "surface": [
           {
            "colorbar": {
             "outlinewidth": 0,
             "ticks": ""
            },
            "colorscale": [
             [
              0,
              "#0d0887"
             ],
             [
              0.1111111111111111,
              "#46039f"
             ],
             [
              0.2222222222222222,
              "#7201a8"
             ],
             [
              0.3333333333333333,
              "#9c179e"
             ],
             [
              0.4444444444444444,
              "#bd3786"
             ],
             [
              0.5555555555555556,
              "#d8576b"
             ],
             [
              0.6666666666666666,
              "#ed7953"
             ],
             [
              0.7777777777777778,
              "#fb9f3a"
             ],
             [
              0.8888888888888888,
              "#fdca26"
             ],
             [
              1,
              "#f0f921"
             ]
            ],
            "type": "surface"
           }
          ],
          "table": [
           {
            "cells": {
             "fill": {
              "color": "#EBF0F8"
             },
             "line": {
              "color": "white"
             }
            },
            "header": {
             "fill": {
              "color": "#C8D4E3"
             },
             "line": {
              "color": "white"
             }
            },
            "type": "table"
           }
          ]
         },
         "layout": {
          "annotationdefaults": {
           "arrowcolor": "#2a3f5f",
           "arrowhead": 0,
           "arrowwidth": 1
          },
          "autotypenumbers": "strict",
          "coloraxis": {
           "colorbar": {
            "outlinewidth": 0,
            "ticks": ""
           }
          },
          "colorscale": {
           "diverging": [
            [
             0,
             "#8e0152"
            ],
            [
             0.1,
             "#c51b7d"
            ],
            [
             0.2,
             "#de77ae"
            ],
            [
             0.3,
             "#f1b6da"
            ],
            [
             0.4,
             "#fde0ef"
            ],
            [
             0.5,
             "#f7f7f7"
            ],
            [
             0.6,
             "#e6f5d0"
            ],
            [
             0.7,
             "#b8e186"
            ],
            [
             0.8,
             "#7fbc41"
            ],
            [
             0.9,
             "#4d9221"
            ],
            [
             1,
             "#276419"
            ]
           ],
           "sequential": [
            [
             0,
             "#0d0887"
            ],
            [
             0.1111111111111111,
             "#46039f"
            ],
            [
             0.2222222222222222,
             "#7201a8"
            ],
            [
             0.3333333333333333,
             "#9c179e"
            ],
            [
             0.4444444444444444,
             "#bd3786"
            ],
            [
             0.5555555555555556,
             "#d8576b"
            ],
            [
             0.6666666666666666,
             "#ed7953"
            ],
            [
             0.7777777777777778,
             "#fb9f3a"
            ],
            [
             0.8888888888888888,
             "#fdca26"
            ],
            [
             1,
             "#f0f921"
            ]
           ],
           "sequentialminus": [
            [
             0,
             "#0d0887"
            ],
            [
             0.1111111111111111,
             "#46039f"
            ],
            [
             0.2222222222222222,
             "#7201a8"
            ],
            [
             0.3333333333333333,
             "#9c179e"
            ],
            [
             0.4444444444444444,
             "#bd3786"
            ],
            [
             0.5555555555555556,
             "#d8576b"
            ],
            [
             0.6666666666666666,
             "#ed7953"
            ],
            [
             0.7777777777777778,
             "#fb9f3a"
            ],
            [
             0.8888888888888888,
             "#fdca26"
            ],
            [
             1,
             "#f0f921"
            ]
           ]
          },
          "colorway": [
           "#636efa",
           "#EF553B",
           "#00cc96",
           "#ab63fa",
           "#FFA15A",
           "#19d3f3",
           "#FF6692",
           "#B6E880",
           "#FF97FF",
           "#FECB52"
          ],
          "font": {
           "color": "#2a3f5f"
          },
          "geo": {
           "bgcolor": "white",
           "lakecolor": "white",
           "landcolor": "#E5ECF6",
           "showlakes": true,
           "showland": true,
           "subunitcolor": "white"
          },
          "hoverlabel": {
           "align": "left"
          },
          "hovermode": "closest",
          "mapbox": {
           "style": "light"
          },
          "paper_bgcolor": "white",
          "plot_bgcolor": "#E5ECF6",
          "polar": {
           "angularaxis": {
            "gridcolor": "white",
            "linecolor": "white",
            "ticks": ""
           },
           "bgcolor": "#E5ECF6",
           "radialaxis": {
            "gridcolor": "white",
            "linecolor": "white",
            "ticks": ""
           }
          },
          "scene": {
           "xaxis": {
            "backgroundcolor": "#E5ECF6",
            "gridcolor": "white",
            "gridwidth": 2,
            "linecolor": "white",
            "showbackground": true,
            "ticks": "",
            "zerolinecolor": "white"
           },
           "yaxis": {
            "backgroundcolor": "#E5ECF6",
            "gridcolor": "white",
            "gridwidth": 2,
            "linecolor": "white",
            "showbackground": true,
            "ticks": "",
            "zerolinecolor": "white"
           },
           "zaxis": {
            "backgroundcolor": "#E5ECF6",
            "gridcolor": "white",
            "gridwidth": 2,
            "linecolor": "white",
            "showbackground": true,
            "ticks": "",
            "zerolinecolor": "white"
           }
          },
          "shapedefaults": {
           "line": {
            "color": "#2a3f5f"
           }
          },
          "ternary": {
           "aaxis": {
            "gridcolor": "white",
            "linecolor": "white",
            "ticks": ""
           },
           "baxis": {
            "gridcolor": "white",
            "linecolor": "white",
            "ticks": ""
           },
           "bgcolor": "#E5ECF6",
           "caxis": {
            "gridcolor": "white",
            "linecolor": "white",
            "ticks": ""
           }
          },
          "title": {
           "x": 0.05
          },
          "xaxis": {
           "automargin": true,
           "gridcolor": "white",
           "linecolor": "white",
           "ticks": "",
           "title": {
            "standoff": 15
           },
           "zerolinecolor": "white",
           "zerolinewidth": 2
          },
          "yaxis": {
           "automargin": true,
           "gridcolor": "white",
           "linecolor": "white",
           "ticks": "",
           "title": {
            "standoff": 15
           },
           "zerolinecolor": "white",
           "zerolinewidth": 2
          }
         }
        },
        "title": {
         "text": "Cell type 1 component histograms"
        },
        "width": 600,
        "xaxis": {
         "anchor": "y",
         "domain": [
          0,
          1
         ],
         "title": {
          "text": "component"
         }
        },
        "yaxis": {
         "anchor": "x",
         "domain": [
          0,
          1
         ],
         "title": {
          "text": "count"
         }
        }
       }
      }
     },
     "metadata": {},
     "output_type": "display_data"
    },
    {
     "data": {
      "application/vnd.plotly.v1+json": {
       "config": {
        "plotlyServerURL": "https://plot.ly"
       },
       "data": [
        {
         "bingroup": "x",
         "hovertemplate": "cell_type=0<br>component=%{x}<br>count=%{y}<extra></extra>",
         "legendgroup": "0",
         "marker": {
          "color": "#636efa",
          "opacity": 0.7,
          "pattern": {
           "shape": ""
          }
         },
         "name": "0",
         "nbinsx": 30,
         "orientation": "v",
         "showlegend": true,
         "type": "histogram",
         "x": {
          "bdata": "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",
          "dtype": "f4"
         },
         "xaxis": "x",
         "yaxis": "y"
        },
        {
         "bingroup": "x",
         "hovertemplate": "cell_type=2<br>component=%{x}<br>count=%{y}<extra></extra>",
         "legendgroup": "2",
         "marker": {
          "color": "#EF553B",
          "opacity": 0.7,
          "pattern": {
           "shape": ""
          }
         },
         "name": "2",
         "nbinsx": 30,
         "orientation": "v",
         "showlegend": true,
         "type": "histogram",
         "x": {
          "bdata": "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",
          "dtype": "f4"
         },
         "xaxis": "x",
         "yaxis": "y"
        },
        {
         "bingroup": "x",
         "hovertemplate": "cell_type=1<br>component=%{x}<br>count=%{y}<extra></extra>",
         "legendgroup": "1",
         "marker": {
          "color": "#00cc96",
          "opacity": 0.7,
          "pattern": {
           "shape": ""
          }
         },
         "name": "1",
         "nbinsx": 30,
         "orientation": "v",
         "showlegend": true,
         "type": "histogram",
         "x": {
          "bdata": "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",
          "dtype": "f4"
         },
         "xaxis": "x",
         "yaxis": "y"
        }
       ],
       "layout": {
        "barmode": "overlay",
        "height": 300,
        "legend": {
         "title": {
          "text": "cell_type"
         },
         "tracegroupgap": 0
        },
        "template": {
         "data": {
          "bar": [
           {
            "error_x": {
             "color": "#2a3f5f"
            },
            "error_y": {
             "color": "#2a3f5f"
            },
            "marker": {
             "line": {
              "color": "#E5ECF6",
              "width": 0.5
             },
             "pattern": {
              "fillmode": "overlay",
              "size": 10,
              "solidity": 0.2
             }
            },
            "type": "bar"
           }
          ],
          "barpolar": [
           {
            "marker": {
             "line": {
              "color": "#E5ECF6",
              "width": 0.5
             },
             "pattern": {
              "fillmode": "overlay",
              "size": 10,
              "solidity": 0.2
             }
            },
            "type": "barpolar"
           }
          ],
          "carpet": [
           {
            "aaxis": {
             "endlinecolor": "#2a3f5f",
             "gridcolor": "white",
             "linecolor": "white",
             "minorgridcolor": "white",
             "startlinecolor": "#2a3f5f"
            },
            "baxis": {
             "endlinecolor": "#2a3f5f",
             "gridcolor": "white",
             "linecolor": "white",
             "minorgridcolor": "white",
             "startlinecolor": "#2a3f5f"
            },
            "type": "carpet"
           }
          ],
          "choropleth": [
           {
            "colorbar": {
             "outlinewidth": 0,
             "ticks": ""
            },
            "type": "choropleth"
           }
          ],
          "contour": [
           {
            "colorbar": {
             "outlinewidth": 0,
             "ticks": ""
            },
            "colorscale": [
             [
              0,
              "#0d0887"
             ],
             [
              0.1111111111111111,
              "#46039f"
             ],
             [
              0.2222222222222222,
              "#7201a8"
             ],
             [
              0.3333333333333333,
              "#9c179e"
             ],
             [
              0.4444444444444444,
              "#bd3786"
             ],
             [
              0.5555555555555556,
              "#d8576b"
             ],
             [
              0.6666666666666666,
              "#ed7953"
             ],
             [
              0.7777777777777778,
              "#fb9f3a"
             ],
             [
              0.8888888888888888,
              "#fdca26"
             ],
             [
              1,
              "#f0f921"
             ]
            ],
            "type": "contour"
           }
          ],
          "contourcarpet": [
           {
            "colorbar": {
             "outlinewidth": 0,
             "ticks": ""
            },
            "type": "contourcarpet"
           }
          ],
          "heatmap": [
           {
            "colorbar": {
             "outlinewidth": 0,
             "ticks": ""
            },
            "colorscale": [
             [
              0,
              "#0d0887"
             ],
             [
              0.1111111111111111,
              "#46039f"
             ],
             [
              0.2222222222222222,
              "#7201a8"
             ],
             [
              0.3333333333333333,
              "#9c179e"
             ],
             [
              0.4444444444444444,
              "#bd3786"
             ],
             [
              0.5555555555555556,
              "#d8576b"
             ],
             [
              0.6666666666666666,
              "#ed7953"
             ],
             [
              0.7777777777777778,
              "#fb9f3a"
             ],
             [
              0.8888888888888888,
              "#fdca26"
             ],
             [
              1,
              "#f0f921"
             ]
            ],
            "type": "heatmap"
           }
          ],
          "histogram": [
           {
            "marker": {
             "pattern": {
              "fillmode": "overlay",
              "size": 10,
              "solidity": 0.2
             }
            },
            "type": "histogram"
           }
          ],
          "histogram2d": [
           {
            "colorbar": {
             "outlinewidth": 0,
             "ticks": ""
            },
            "colorscale": [
             [
              0,
              "#0d0887"
             ],
             [
              0.1111111111111111,
              "#46039f"
             ],
             [
              0.2222222222222222,
              "#7201a8"
             ],
             [
              0.3333333333333333,
              "#9c179e"
             ],
             [
              0.4444444444444444,
              "#bd3786"
             ],
             [
              0.5555555555555556,
              "#d8576b"
             ],
             [
              0.6666666666666666,
              "#ed7953"
             ],
             [
              0.7777777777777778,
              "#fb9f3a"
             ],
             [
              0.8888888888888888,
              "#fdca26"
             ],
             [
              1,
              "#f0f921"
             ]
            ],
            "type": "histogram2d"
           }
          ],
          "histogram2dcontour": [
           {
            "colorbar": {
             "outlinewidth": 0,
             "ticks": ""
            },
            "colorscale": [
             [
              0,
              "#0d0887"
             ],
             [
              0.1111111111111111,
              "#46039f"
             ],
             [
              0.2222222222222222,
              "#7201a8"
             ],
             [
              0.3333333333333333,
              "#9c179e"
             ],
             [
              0.4444444444444444,
              "#bd3786"
             ],
             [
              0.5555555555555556,
              "#d8576b"
             ],
             [
              0.6666666666666666,
              "#ed7953"
             ],
             [
              0.7777777777777778,
              "#fb9f3a"
             ],
             [
              0.8888888888888888,
              "#fdca26"
             ],
             [
              1,
              "#f0f921"
             ]
            ],
            "type": "histogram2dcontour"
           }
          ],
          "mesh3d": [
           {
            "colorbar": {
             "outlinewidth": 0,
             "ticks": ""
            },
            "type": "mesh3d"
           }
          ],
          "parcoords": [
           {
            "line": {
             "colorbar": {
              "outlinewidth": 0,
              "ticks": ""
             }
            },
            "type": "parcoords"
           }
          ],
          "pie": [
           {
            "automargin": true,
            "type": "pie"
           }
          ],
          "scatter": [
           {
            "fillpattern": {
             "fillmode": "overlay",
             "size": 10,
             "solidity": 0.2
            },
            "type": "scatter"
           }
          ],
          "scatter3d": [
           {
            "line": {
             "colorbar": {
              "outlinewidth": 0,
              "ticks": ""
             }
            },
            "marker": {
             "colorbar": {
              "outlinewidth": 0,
              "ticks": ""
             }
            },
            "type": "scatter3d"
           }
          ],
          "scattercarpet": [
           {
            "marker": {
             "colorbar": {
              "outlinewidth": 0,
              "ticks": ""
             }
            },
            "type": "scattercarpet"
           }
          ],
          "scattergeo": [
           {
            "marker": {
             "colorbar": {
              "outlinewidth": 0,
              "ticks": ""
             }
            },
            "type": "scattergeo"
           }
          ],
          "scattergl": [
           {
            "marker": {
             "colorbar": {
              "outlinewidth": 0,
              "ticks": ""
             }
            },
            "type": "scattergl"
           }
          ],
          "scattermap": [
           {
            "marker": {
             "colorbar": {
              "outlinewidth": 0,
              "ticks": ""
             }
            },
            "type": "scattermap"
           }
          ],
          "scattermapbox": [
           {
            "marker": {
             "colorbar": {
              "outlinewidth": 0,
              "ticks": ""
             }
            },
            "type": "scattermapbox"
           }
          ],
          "scatterpolar": [
           {
            "marker": {
             "colorbar": {
              "outlinewidth": 0,
              "ticks": ""
             }
            },
            "type": "scatterpolar"
           }
          ],
          "scatterpolargl": [
           {
            "marker": {
             "colorbar": {
              "outlinewidth": 0,
              "ticks": ""
             }
            },
            "type": "scatterpolargl"
           }
          ],
          "scatterternary": [
           {
            "marker": {
             "colorbar": {
              "outlinewidth": 0,
              "ticks": ""
             }
            },
            "type": "scatterternary"
           }
          ],
          "surface": [
           {
            "colorbar": {
             "outlinewidth": 0,
             "ticks": ""
            },
            "colorscale": [
             [
              0,
              "#0d0887"
             ],
             [
              0.1111111111111111,
              "#46039f"
             ],
             [
              0.2222222222222222,
              "#7201a8"
             ],
             [
              0.3333333333333333,
              "#9c179e"
             ],
             [
              0.4444444444444444,
              "#bd3786"
             ],
             [
              0.5555555555555556,
              "#d8576b"
             ],
             [
              0.6666666666666666,
              "#ed7953"
             ],
             [
              0.7777777777777778,
              "#fb9f3a"
             ],
             [
              0.8888888888888888,
              "#fdca26"
             ],
             [
              1,
              "#f0f921"
             ]
            ],
            "type": "surface"
           }
          ],
          "table": [
           {
            "cells": {
             "fill": {
              "color": "#EBF0F8"
             },
             "line": {
              "color": "white"
             }
            },
            "header": {
             "fill": {
              "color": "#C8D4E3"
             },
             "line": {
              "color": "white"
             }
            },
            "type": "table"
           }
          ]
         },
         "layout": {
          "annotationdefaults": {
           "arrowcolor": "#2a3f5f",
           "arrowhead": 0,
           "arrowwidth": 1
          },
          "autotypenumbers": "strict",
          "coloraxis": {
           "colorbar": {
            "outlinewidth": 0,
            "ticks": ""
           }
          },
          "colorscale": {
           "diverging": [
            [
             0,
             "#8e0152"
            ],
            [
             0.1,
             "#c51b7d"
            ],
            [
             0.2,
             "#de77ae"
            ],
            [
             0.3,
             "#f1b6da"
            ],
            [
             0.4,
             "#fde0ef"
            ],
            [
             0.5,
             "#f7f7f7"
            ],
            [
             0.6,
             "#e6f5d0"
            ],
            [
             0.7,
             "#b8e186"
            ],
            [
             0.8,
             "#7fbc41"
            ],
            [
             0.9,
             "#4d9221"
            ],
            [
             1,
             "#276419"
            ]
           ],
           "sequential": [
            [
             0,
             "#0d0887"
            ],
            [
             0.1111111111111111,
             "#46039f"
            ],
            [
             0.2222222222222222,
             "#7201a8"
            ],
            [
             0.3333333333333333,
             "#9c179e"
            ],
            [
             0.4444444444444444,
             "#bd3786"
            ],
            [
             0.5555555555555556,
             "#d8576b"
            ],
            [
             0.6666666666666666,
             "#ed7953"
            ],
            [
             0.7777777777777778,
             "#fb9f3a"
            ],
            [
             0.8888888888888888,
             "#fdca26"
            ],
            [
             1,
             "#f0f921"
            ]
           ],
           "sequentialminus": [
            [
             0,
             "#0d0887"
            ],
            [
             0.1111111111111111,
             "#46039f"
            ],
            [
             0.2222222222222222,
             "#7201a8"
            ],
            [
             0.3333333333333333,
             "#9c179e"
            ],
            [
             0.4444444444444444,
             "#bd3786"
            ],
            [
             0.5555555555555556,
             "#d8576b"
            ],
            [
             0.6666666666666666,
             "#ed7953"
            ],
            [
             0.7777777777777778,
             "#fb9f3a"
            ],
            [
             0.8888888888888888,
             "#fdca26"
            ],
            [
             1,
             "#f0f921"
            ]
           ]
          },
          "colorway": [
           "#636efa",
           "#EF553B",
           "#00cc96",
           "#ab63fa",
           "#FFA15A",
           "#19d3f3",
           "#FF6692",
           "#B6E880",
           "#FF97FF",
           "#FECB52"
          ],
          "font": {
           "color": "#2a3f5f"
          },
          "geo": {
           "bgcolor": "white",
           "lakecolor": "white",
           "landcolor": "#E5ECF6",
           "showlakes": true,
           "showland": true,
           "subunitcolor": "white"
          },
          "hoverlabel": {
           "align": "left"
          },
          "hovermode": "closest",
          "mapbox": {
           "style": "light"
          },
          "paper_bgcolor": "white",
          "plot_bgcolor": "#E5ECF6",
          "polar": {
           "angularaxis": {
            "gridcolor": "white",
            "linecolor": "white",
            "ticks": ""
           },
           "bgcolor": "#E5ECF6",
           "radialaxis": {
            "gridcolor": "white",
            "linecolor": "white",
            "ticks": ""
           }
          },
          "scene": {
           "xaxis": {
            "backgroundcolor": "#E5ECF6",
            "gridcolor": "white",
            "gridwidth": 2,
            "linecolor": "white",
            "showbackground": true,
            "ticks": "",
            "zerolinecolor": "white"
           },
           "yaxis": {
            "backgroundcolor": "#E5ECF6",
            "gridcolor": "white",
            "gridwidth": 2,
            "linecolor": "white",
            "showbackground": true,
            "ticks": "",
            "zerolinecolor": "white"
           },
           "zaxis": {
            "backgroundcolor": "#E5ECF6",
            "gridcolor": "white",
            "gridwidth": 2,
            "linecolor": "white",
            "showbackground": true,
            "ticks": "",
            "zerolinecolor": "white"
           }
          },
          "shapedefaults": {
           "line": {
            "color": "#2a3f5f"
           }
          },
          "ternary": {
           "aaxis": {
            "gridcolor": "white",
            "linecolor": "white",
            "ticks": ""
           },
           "baxis": {
            "gridcolor": "white",
            "linecolor": "white",
            "ticks": ""
           },
           "bgcolor": "#E5ECF6",
           "caxis": {
            "gridcolor": "white",
            "linecolor": "white",
            "ticks": ""
           }
          },
          "title": {
           "x": 0.05
          },
          "xaxis": {
           "automargin": true,
           "gridcolor": "white",
           "linecolor": "white",
           "ticks": "",
           "title": {
            "standoff": 15
           },
           "zerolinecolor": "white",
           "zerolinewidth": 2
          },
          "yaxis": {
           "automargin": true,
           "gridcolor": "white",
           "linecolor": "white",
           "ticks": "",
           "title": {
            "standoff": 15
           },
           "zerolinecolor": "white",
           "zerolinewidth": 2
          }
         }
        },
        "title": {
         "text": "Cell type 2 component histograms"
        },
        "width": 600,
        "xaxis": {
         "anchor": "y",
         "domain": [
          0,
          1
         ],
         "title": {
          "text": "component"
         }
        },
        "yaxis": {
         "anchor": "x",
         "domain": [
          0,
          1
         ],
         "title": {
          "text": "count"
         }
        }
       }
      }
     },
     "metadata": {},
     "output_type": "display_data"
    }
   ],
   "source": [
    "for c in range(n_cell_types):\n",
    "\n",
    "    vals, vecs = torch.linalg.eigh(b[c])\n",
    "    vals = vals.flip([0])\n",
    "    vecs = vecs.flip([1])\n",
    "\n",
    "    adata.obsm[\"X_Q\"] = adata.X @ vecs[:, :3].numpy()  # project into component space\n",
    "\n",
    "    hist_df = pd.DataFrame({\n",
    "        \"component\": adata.obsm[\"X_Q\"][:, 0],\n",
    "        \"cell_type\": adata.obs[\"cell_type\"]\n",
    "    })\n",
    "    \n",
    "    fig = px.histogram(\n",
    "        hist_df,\n",
    "        x=\"component\",\n",
    "        color=\"cell_type\",\n",
    "        title=f\"Cell type {c} component histograms\",\n",
    "        opacity=0.7,\n",
    "        nbins=30,\n",
    "        barmode=\"overlay\",\n",
    "        width=600,\n",
    "        height=300,\n",
    "    )\n",
    "    fig.show()"
   ]
  },
  {
   "cell_type": "markdown",
   "id": "8294e164",
   "metadata": {},
   "source": [
    "Nice, the pattern is clear in the histograms of just the top components.\n",
    "\n",
    "What happens if we plot these cells in the space spanned by each cell type's top component?"
   ]
  },
  {
   "cell_type": "code",
   "execution_count": 55,
   "id": "b2822e9f",
   "metadata": {},
   "outputs": [
    {
     "data": {
      "application/vnd.plotly.v1+json": {
       "config": {
        "plotlyServerURL": "https://plot.ly"
       },
       "data": [
        {
         "hovertemplate": "color=0<br>x=%{x}<br>y=%{y}<br>z=%{z}<extra></extra>",
         "legendgroup": "0",
         "marker": {
          "color": "#636efa",
          "size": 5,
          "symbol": "circle"
         },
         "mode": "markers",
         "name": "0",
         "scene": "scene",
         "showlegend": true,
         "type": "scatter3d",
         "x": {
          "bdata": "iXarPjhSiECvJaLAGC5GPyq5H78P15LAr1ArP+oL6r/5Q07Am8qLwOtaBcCI1/i/Og6Jv6PwbsC7n53Agc83P8KWkz4CGrbAZoUBwPBrVUBYVEC/dS4pQEmfjz/BfMQ+25agQDIYmz/XI6LAChA4QH84RcC8ppy/njILv2fEH0DZwrbAc5ykwKo9osDlJJ4/Y22RwKpcNcAcygPAZpJQQBHezr6mCY2/CaROv9YDFb9iT4A/J54mv23DkEAEwszAiu2XPlIYC8D0xko/h4/OPh+5/T/avlA/+yEOQKx8K8COxndAjdzeP6emnD4un2HAh7WbwBfvnsDwThrACN8+wBgCMcD6SUnAjLmhv6AVO7sJ/3W/hWqBv7+8vMCRv2VAhvclwHxi3T91p67AwBXiPq8dbsD1VV5AVslIwHQYg8CI4hrAiiy9P4MficDEJyTA2luEv+SJPUBcKfE/NDpawNzRVEALwMg/PYGswDGe3b8mTZA/PVcuQGFyVsAPKJPApuxOPzEFbcDahNDAerJ5wETyLsCi+3HA+rgqwOqNgz6UKmY+AYplwGp0/T/w9Bc+/kUfQNu3Kj86ZXU/M0dnwH6wpb8r8i9Ay17qv/Ae7L6bvnI/r501wLnbhsAVOoO+iMmawLhZXz/aQ6XAmzcWwMlyoD2JDFPA4GOIvzSU7z7X5Kc/zzupPmjNZr3e3mnA0ppLvm4PYb9eIWHAe05YPzXW3D9Ei1Q/1YkwwOSJZsDsy6U/+DkdQMBJGb+XXGnA2p4MvXq7ecCXoQhAX6q6wM5O6r7xqiw/M42xwE1Dg0DLOZPAd0fpv+lYg785A4bAJFiXv+ns0r+Fb1lAh3J4QDBUdMCs8xHA1GU5PyAOejyvPOy/oUmzwJPntz+GHvY+e94zP71RucDI2LfABfeVv0t4mMBgUJHAbGsrQPjnvD/OfyjAXyvJv0G1o8DKkJrA0fUrwJdYU8BTWX7AdGGAwFT5MsCi3irAibMwQGDZrMAmzKO/WqJPwLrhwD/tQNe+cUtWQDqRbb95Y0LApHoYPyh0Bj/+MqK/UswmwMNNi7/y4QZAEuY7P2jXyD/JOXnALQThP/cqi0BBxho+zajmP3fTiMA8DgE/p8GMwAJwB0AQbpbAd+pdQICadj7vMVw/viHTPgepkMB3CJ8+CcWHwDdCLz8VooI/jrcZQLLhCD7ZQHs97ATnP8g/I8CULIbAOtoAP0Do67wHnHPAEHfrv7Wwv7/bipPAF0TEv44AuL7KbjdAaOWGwGVsFL/pVDlAQ/ojQPbuR8APIKZA9xKLP14kyT8J6YC/TIldwHozpz/vJ4M/Wms5QOlKWD8EN9Y/JAcIvs9cAr+NLrk/9KExwPALKD/HuY3A7QohQM6rl7+NcYQ/0AoYvkY7dED7Sxu+dbysP4R/Z0BaoOm+v9WTQF1KNUBEoG0/J9KOwMGEdsBZb2rAYihgPywo/b/gg32//HhDQN6LdL+O8tm9ee+VQLKEDb+3DKE/QtmrPzJLAD9Obn6/36m3PxFLzD8n7lfAC4rGwCGGd0CCxJvAFg8BQMIuwb6RK1PA3IqpPmsdc7/U+ZrAKa0bwBS4FMC9UIBAIAPGP0Zysz8MJJC/7qFLQE2smb+SroE/SE6HwLQHvT/y9Ps/XmFRwLTLrsCfLodAfjPav709Wj/JDUhA7QNmP8GvN0Apm6zAt8IRP3zykUCjwB9AaXWZQD9vYMDa0sM/ax0tQHjSPkAO9DLAxt/RwF8YkT9uRJXA92o0wOinF8A4bqc/7tS1wFiOOj+htQ1ASJIVQPg3j73mCOA+CoGdP/Exxr4s/wq/J9GhP+D7AcBLvrM/hVs1wIxSeUAQ5lLAi+doQPSiMECAlou/VdnRv54H7D9b8xE+IgXSP52jlECmrZDAxMISP3zvz79auwnA4tOoQABfvb+0OzfAM5TNwHwef0BIt14/mCIwwPspHD8e3oXA8DWgP6BCt8BicDRAECtdwDz5oEBOhBxAt3gOwKpd1z+qXRxALd9EPz0VTMAgUmPAAAAevSZZbkAojMXA24Oav6KS2T88v1xAJG62v1JjI0AwipnAEtx0wP/GQUAZePc/AvcqQFOdhD8d+yO/vpY7QE2EgcAUVVK/VUxKwKQR4b9Elyy/hyfkP8FP2L9Yq5A/+ZDNPt77ikBZvGnAU6CVP3e/5b+sdijAvHBHQDdWhD02iIbAcsdsv6fC1L+fCkpA2VS/v5zNxEBHGktA3uDbPnG/Bb/ZFwBADODWP7AhZ8AGrT9AaBZVQGZa7z+H3YnA3suiwG0Bh0DgNWK8uB2DP24ZmkDSir6/RsxUwN4H8T9ZqaS/et+6Pzfl/T9IppE9lQVJwHaAqsDloqLArEcZwHY9W79N8GLA8vy4vya4PMDUJFY/2DhDv0HXI0DN2+o/BLZqPxi2AkBZt0RAvjn8PqYUD7+ZaZo/qtrNv3z2+r9AgyZAj9ydPij1rcBn8KE/UlgxwNiGtcBaSH+/cJ0WvfIgKMDieR3A7Zg8QLkWT8BUiVtAV3sSQFy978B8TTRAk3iJwL43j8BKCjjAnkocP9dtYb9INas/ZkSLwOmiGMChjO6/2ji6vt9HuT+rNRpAiiaIvtexAr9MKItAaJNTvmkpZr5YSmTAnf+lv4WsbcCYFyZA75aOQK5BxL0wdkvAncoswHE0mr8avys/69D8voDyL8Ds/abArZaYwG0gR8CGLOI/BjPUvmfOBMB9kR0/SfKiwOYeqD/8A1Q+fcHWPzDxwT/6oeu/8jQbP02JXcD4olRATzg0QEooScCDdzRAFc09QAJikcAZDhS/im9lQAd+FcAgbmc9Fu+swKo2ZsC+l9w+wImMv6tliUB+e0rA/pIpvhCy3sDCDMm/HbA6QBRCvT92lrY+BFkqP1CZg8A44UrAsisVwE9QFD7RaOq/uk3av+qFCsC/I1LALD0NvRE1HsAlu0c/MqFMQBKNuz/OczBA1DEfwFeHY0AnLy+/+Xu9wMgzvcD7nnbAtscvPksVlED2LTFAcGxXPT4jscDRFYTAlL04wKPhlMDgh5nAI/3HvtGadb8HXG7ALFNlvZyWHUCwtes/4mQlQP75ncAI/JQ/wG2LwAD+ED+AiW4/UrwOwO33WMCzTFNAVg2qwLB5zT6KiBpA9nmKv8goKb4JY/w/K/z0P0FsmMDxF3Y/zI0jwIwNC0B8Hoo/gCspQNkupsC11UpAA8JgwH+rTcAUYsc/Ltz2P/jSGkC0WpU+f0nmP6Y9BkAuNd8+AXqUwMK1Kj6uUVrAoIcVv2QKFECQFtm+THaIwL8IaMChnzDASq7QP8tbIkARO4U/ap1RwEYvGUD0RCvAGBgYQBTa0j9Fb+4+kVvQv00gKkDVE1fAAUUtwB2t+z//EM8/5F7xP50QAr/1Hw9A6HZVPqQlOUABywBAeDNqvuHdVEAFtDNAVuigv0Z4fT4ethrA3N2NPyq2esBCHGpAPlmFwPezKUD5PQnAJeD7P00N474F2vE/oro5P+p++T8cwqHAM3hHPywHOMBsnXPAU+aQQGCYWLxzPBzAYa6nvgB8w7sk3wS+KIz4vyuRjr6zRks/BbzBwOaGBEB2c08/iJjGPqJ1vr7sn4/AH8qewKRVlD/jOGU/goNwQI4Re8CJkozAJHeav/ihecDlFYPAGu4gwEGqIsA4zyFAsQ4pQMYU1j4uYF2/31cjQIsfK8BUC4e/WFKFPwDrfECnEP6/1z1iPw==",
          "dtype": "f4"
         },
         "y": {
          "bdata": "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",
          "dtype": "f4"
         },
         "z": {
          "bdata": "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",
          "dtype": "f4"
         }
        },
        {
         "hovertemplate": "color=2<br>x=%{x}<br>y=%{y}<br>z=%{z}<extra></extra>",
         "legendgroup": "2",
         "marker": {
          "color": "#EF553B",
          "size": 5,
          "symbol": "circle"
         },
         "mode": "markers",
         "name": "2",
         "scene": "scene",
         "showlegend": true,
         "type": "scatter3d",
         "x": {
          "bdata": "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",
          "dtype": "f4"
         },
         "y": {
          "bdata": "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",
          "dtype": "f4"
         },
         "z": {
          "bdata": "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",
          "dtype": "f4"
         }
        },
        {
         "hovertemplate": "color=1<br>x=%{x}<br>y=%{y}<br>z=%{z}<extra></extra>",
         "legendgroup": "1",
         "marker": {
          "color": "#00cc96",
          "size": 5,
          "symbol": "circle"
         },
         "mode": "markers",
         "name": "1",
         "scene": "scene",
         "showlegend": true,
         "type": "scatter3d",
         "x": {
          "bdata": "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",
          "dtype": "f4"
         },
         "y": {
          "bdata": "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",
          "dtype": "f4"
         },
         "z": {
          "bdata": "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",
          "dtype": "f4"
         }
        }
       ],
       "layout": {
        "height": 600,
        "legend": {
         "title": {
          "text": "color"
         },
         "tracegroupgap": 0
        },
        "scene": {
         "domain": {
          "x": [
           0,
           1
          ],
          "y": [
           0,
           1
          ]
         },
         "xaxis": {
          "title": {
           "text": "x"
          }
         },
         "yaxis": {
          "title": {
           "text": "y"
          }
         },
         "zaxis": {
          "title": {
           "text": "z"
          }
         }
        },
        "template": {
         "data": {
          "bar": [
           {
            "error_x": {
             "color": "#2a3f5f"
            },
            "error_y": {
             "color": "#2a3f5f"
            },
            "marker": {
             "line": {
              "color": "#E5ECF6",
              "width": 0.5
             },
             "pattern": {
              "fillmode": "overlay",
              "size": 10,
              "solidity": 0.2
             }
            },
            "type": "bar"
           }
          ],
          "barpolar": [
           {
            "marker": {
             "line": {
              "color": "#E5ECF6",
              "width": 0.5
             },
             "pattern": {
              "fillmode": "overlay",
              "size": 10,
              "solidity": 0.2
             }
            },
            "type": "barpolar"
           }
          ],
          "carpet": [
           {
            "aaxis": {
             "endlinecolor": "#2a3f5f",
             "gridcolor": "white",
             "linecolor": "white",
             "minorgridcolor": "white",
             "startlinecolor": "#2a3f5f"
            },
            "baxis": {
             "endlinecolor": "#2a3f5f",
             "gridcolor": "white",
             "linecolor": "white",
             "minorgridcolor": "white",
             "startlinecolor": "#2a3f5f"
            },
            "type": "carpet"
           }
          ],
          "choropleth": [
           {
            "colorbar": {
             "outlinewidth": 0,
             "ticks": ""
            },
            "type": "choropleth"
           }
          ],
          "contour": [
           {
            "colorbar": {
             "outlinewidth": 0,
             "ticks": ""
            },
            "colorscale": [
             [
              0,
              "#0d0887"
             ],
             [
              0.1111111111111111,
              "#46039f"
             ],
             [
              0.2222222222222222,
              "#7201a8"
             ],
             [
              0.3333333333333333,
              "#9c179e"
             ],
             [
              0.4444444444444444,
              "#bd3786"
             ],
             [
              0.5555555555555556,
              "#d8576b"
             ],
             [
              0.6666666666666666,
              "#ed7953"
             ],
             [
              0.7777777777777778,
              "#fb9f3a"
             ],
             [
              0.8888888888888888,
              "#fdca26"
             ],
             [
              1,
              "#f0f921"
             ]
            ],
            "type": "contour"
           }
          ],
          "contourcarpet": [
           {
            "colorbar": {
             "outlinewidth": 0,
             "ticks": ""
            },
            "type": "contourcarpet"
           }
          ],
          "heatmap": [
           {
            "colorbar": {
             "outlinewidth": 0,
             "ticks": ""
            },
            "colorscale": [
             [
              0,
              "#0d0887"
             ],
             [
              0.1111111111111111,
              "#46039f"
             ],
             [
              0.2222222222222222,
              "#7201a8"
             ],
             [
              0.3333333333333333,
              "#9c179e"
             ],
             [
              0.4444444444444444,
              "#bd3786"
             ],
             [
              0.5555555555555556,
              "#d8576b"
             ],
             [
              0.6666666666666666,
              "#ed7953"
             ],
             [
              0.7777777777777778,
              "#fb9f3a"
             ],
             [
              0.8888888888888888,
              "#fdca26"
             ],
             [
              1,
              "#f0f921"
             ]
            ],
            "type": "heatmap"
           }
          ],
          "histogram": [
           {
            "marker": {
             "pattern": {
              "fillmode": "overlay",
              "size": 10,
              "solidity": 0.2
             }
            },
            "type": "histogram"
           }
          ],
          "histogram2d": [
           {
            "colorbar": {
             "outlinewidth": 0,
             "ticks": ""
            },
            "colorscale": [
             [
              0,
              "#0d0887"
             ],
             [
              0.1111111111111111,
              "#46039f"
             ],
             [
              0.2222222222222222,
              "#7201a8"
             ],
             [
              0.3333333333333333,
              "#9c179e"
             ],
             [
              0.4444444444444444,
              "#bd3786"
             ],
             [
              0.5555555555555556,
              "#d8576b"
             ],
             [
              0.6666666666666666,
              "#ed7953"
             ],
             [
              0.7777777777777778,
              "#fb9f3a"
             ],
             [
              0.8888888888888888,
              "#fdca26"
             ],
             [
              1,
              "#f0f921"
             ]
            ],
            "type": "histogram2d"
           }
          ],
          "histogram2dcontour": [
           {
            "colorbar": {
             "outlinewidth": 0,
             "ticks": ""
            },
            "colorscale": [
             [
              0,
              "#0d0887"
             ],
             [
              0.1111111111111111,
              "#46039f"
             ],
             [
              0.2222222222222222,
              "#7201a8"
             ],
             [
              0.3333333333333333,
              "#9c179e"
             ],
             [
              0.4444444444444444,
              "#bd3786"
             ],
             [
              0.5555555555555556,
              "#d8576b"
             ],
             [
              0.6666666666666666,
              "#ed7953"
             ],
             [
              0.7777777777777778,
              "#fb9f3a"
             ],
             [
              0.8888888888888888,
              "#fdca26"
             ],
             [
              1,
              "#f0f921"
             ]
            ],
            "type": "histogram2dcontour"
           }
          ],
          "mesh3d": [
           {
            "colorbar": {
             "outlinewidth": 0,
             "ticks": ""
            },
            "type": "mesh3d"
           }
          ],
          "parcoords": [
           {
            "line": {
             "colorbar": {
              "outlinewidth": 0,
              "ticks": ""
             }
            },
            "type": "parcoords"
           }
          ],
          "pie": [
           {
            "automargin": true,
            "type": "pie"
           }
          ],
          "scatter": [
           {
            "fillpattern": {
             "fillmode": "overlay",
             "size": 10,
             "solidity": 0.2
            },
            "type": "scatter"
           }
          ],
          "scatter3d": [
           {
            "line": {
             "colorbar": {
              "outlinewidth": 0,
              "ticks": ""
             }
            },
            "marker": {
             "colorbar": {
              "outlinewidth": 0,
              "ticks": ""
             }
            },
            "type": "scatter3d"
           }
          ],
          "scattercarpet": [
           {
            "marker": {
             "colorbar": {
              "outlinewidth": 0,
              "ticks": ""
             }
            },
            "type": "scattercarpet"
           }
          ],
          "scattergeo": [
           {
            "marker": {
             "colorbar": {
              "outlinewidth": 0,
              "ticks": ""
             }
            },
            "type": "scattergeo"
           }
          ],
          "scattergl": [
           {
            "marker": {
             "colorbar": {
              "outlinewidth": 0,
              "ticks": ""
             }
            },
            "type": "scattergl"
           }
          ],
          "scattermap": [
           {
            "marker": {
             "colorbar": {
              "outlinewidth": 0,
              "ticks": ""
             }
            },
            "type": "scattermap"
           }
          ],
          "scattermapbox": [
           {
            "marker": {
             "colorbar": {
              "outlinewidth": 0,
              "ticks": ""
             }
            },
            "type": "scattermapbox"
           }
          ],
          "scatterpolar": [
           {
            "marker": {
             "colorbar": {
              "outlinewidth": 0,
              "ticks": ""
             }
            },
            "type": "scatterpolar"
           }
          ],
          "scatterpolargl": [
           {
            "marker": {
             "colorbar": {
              "outlinewidth": 0,
              "ticks": ""
             }
            },
            "type": "scatterpolargl"
           }
          ],
          "scatterternary": [
           {
            "marker": {
             "colorbar": {
              "outlinewidth": 0,
              "ticks": ""
             }
            },
            "type": "scatterternary"
           }
          ],
          "surface": [
           {
            "colorbar": {
             "outlinewidth": 0,
             "ticks": ""
            },
            "colorscale": [
             [
              0,
              "#0d0887"
             ],
             [
              0.1111111111111111,
              "#46039f"
             ],
             [
              0.2222222222222222,
              "#7201a8"
             ],
             [
              0.3333333333333333,
              "#9c179e"
             ],
             [
              0.4444444444444444,
              "#bd3786"
             ],
             [
              0.5555555555555556,
              "#d8576b"
             ],
             [
              0.6666666666666666,
              "#ed7953"
             ],
             [
              0.7777777777777778,
              "#fb9f3a"
             ],
             [
              0.8888888888888888,
              "#fdca26"
             ],
             [
              1,
              "#f0f921"
             ]
            ],
            "type": "surface"
           }
          ],
          "table": [
           {
            "cells": {
             "fill": {
              "color": "#EBF0F8"
             },
             "line": {
              "color": "white"
             }
            },
            "header": {
             "fill": {
              "color": "#C8D4E3"
             },
             "line": {
              "color": "white"
             }
            },
            "type": "table"
           }
          ]
         },
         "layout": {
          "annotationdefaults": {
           "arrowcolor": "#2a3f5f",
           "arrowhead": 0,
           "arrowwidth": 1
          },
          "autotypenumbers": "strict",
          "coloraxis": {
           "colorbar": {
            "outlinewidth": 0,
            "ticks": ""
           }
          },
          "colorscale": {
           "diverging": [
            [
             0,
             "#8e0152"
            ],
            [
             0.1,
             "#c51b7d"
            ],
            [
             0.2,
             "#de77ae"
            ],
            [
             0.3,
             "#f1b6da"
            ],
            [
             0.4,
             "#fde0ef"
            ],
            [
             0.5,
             "#f7f7f7"
            ],
            [
             0.6,
             "#e6f5d0"
            ],
            [
             0.7,
             "#b8e186"
            ],
            [
             0.8,
             "#7fbc41"
            ],
            [
             0.9,
             "#4d9221"
            ],
            [
             1,
             "#276419"
            ]
           ],
           "sequential": [
            [
             0,
             "#0d0887"
            ],
            [
             0.1111111111111111,
             "#46039f"
            ],
            [
             0.2222222222222222,
             "#7201a8"
            ],
            [
             0.3333333333333333,
             "#9c179e"
            ],
            [
             0.4444444444444444,
             "#bd3786"
            ],
            [
             0.5555555555555556,
             "#d8576b"
            ],
            [
             0.6666666666666666,
             "#ed7953"
            ],
            [
             0.7777777777777778,
             "#fb9f3a"
            ],
            [
             0.8888888888888888,
             "#fdca26"
            ],
            [
             1,
             "#f0f921"
            ]
           ],
           "sequentialminus": [
            [
             0,
             "#0d0887"
            ],
            [
             0.1111111111111111,
             "#46039f"
            ],
            [
             0.2222222222222222,
             "#7201a8"
            ],
            [
             0.3333333333333333,
             "#9c179e"
            ],
            [
             0.4444444444444444,
             "#bd3786"
            ],
            [
             0.5555555555555556,
             "#d8576b"
            ],
            [
             0.6666666666666666,
             "#ed7953"
            ],
            [
             0.7777777777777778,
             "#fb9f3a"
            ],
            [
             0.8888888888888888,
             "#fdca26"
            ],
            [
             1,
             "#f0f921"
            ]
           ]
          },
          "colorway": [
           "#636efa",
           "#EF553B",
           "#00cc96",
           "#ab63fa",
           "#FFA15A",
           "#19d3f3",
           "#FF6692",
           "#B6E880",
           "#FF97FF",
           "#FECB52"
          ],
          "font": {
           "color": "#2a3f5f"
          },
          "geo": {
           "bgcolor": "white",
           "lakecolor": "white",
           "landcolor": "#E5ECF6",
           "showlakes": true,
           "showland": true,
           "subunitcolor": "white"
          },
          "hoverlabel": {
           "align": "left"
          },
          "hovermode": "closest",
          "mapbox": {
           "style": "light"
          },
          "paper_bgcolor": "white",
          "plot_bgcolor": "#E5ECF6",
          "polar": {
           "angularaxis": {
            "gridcolor": "white",
            "linecolor": "white",
            "ticks": ""
           },
           "bgcolor": "#E5ECF6",
           "radialaxis": {
            "gridcolor": "white",
            "linecolor": "white",
            "ticks": ""
           }
          },
          "scene": {
           "xaxis": {
            "backgroundcolor": "#E5ECF6",
            "gridcolor": "white",
            "gridwidth": 2,
            "linecolor": "white",
            "showbackground": true,
            "ticks": "",
            "zerolinecolor": "white"
           },
           "yaxis": {
            "backgroundcolor": "#E5ECF6",
            "gridcolor": "white",
            "gridwidth": 2,
            "linecolor": "white",
            "showbackground": true,
            "ticks": "",
            "zerolinecolor": "white"
           },
           "zaxis": {
            "backgroundcolor": "#E5ECF6",
            "gridcolor": "white",
            "gridwidth": 2,
            "linecolor": "white",
            "showbackground": true,
            "ticks": "",
            "zerolinecolor": "white"
           }
          },
          "shapedefaults": {
           "line": {
            "color": "#2a3f5f"
           }
          },
          "ternary": {
           "aaxis": {
            "gridcolor": "white",
            "linecolor": "white",
            "ticks": ""
           },
           "baxis": {
            "gridcolor": "white",
            "linecolor": "white",
            "ticks": ""
           },
           "bgcolor": "#E5ECF6",
           "caxis": {
            "gridcolor": "white",
            "linecolor": "white",
            "ticks": ""
           }
          },
          "title": {
           "x": 0.05
          },
          "xaxis": {
           "automargin": true,
           "gridcolor": "white",
           "linecolor": "white",
           "ticks": "",
           "title": {
            "standoff": 15
           },
           "zerolinecolor": "white",
           "zerolinewidth": 2
          },
          "yaxis": {
           "automargin": true,
           "gridcolor": "white",
           "linecolor": "white",
           "ticks": "",
           "title": {
            "standoff": 15
           },
           "zerolinecolor": "white",
           "zerolinewidth": 2
          }
         }
        },
        "title": {
         "text": "Top component space"
        },
        "width": 600
       }
      }
     },
     "metadata": {},
     "output_type": "display_data"
    }
   ],
   "source": [
    "top_vecs = []\n",
    "for c in range(n_cell_types):\n",
    "    _, vecs = torch.linalg.eigh(b[c])\n",
    "    top_vecs.append(vecs[:,0])\n",
    "top_vecs = torch.stack(top_vecs, dim=1)\n",
    "\n",
    "adata.obsm[\"X_Q_tops\"] = adata.X @ top_vecs.numpy()  # project into top component space\n",
    "\n",
    "fig = px.scatter_3d(\n",
    "    x=adata.obsm[\"X_Q_tops\"][:, 0],\n",
    "    y=adata.obsm[\"X_Q_tops\"][:, 1],\n",
    "    z=adata.obsm[\"X_Q_tops\"][:, 2],\n",
    "    color=adata.obs[\"cell_type\"],\n",
    "    title=f\"Top component space\",\n",
    "    width=600,\n",
    "    height=600,\n",
    ")\n",
    "fig.update_traces(marker=dict(size=5))\n",
    "fig.show()"
   ]
  },
  {
   "cell_type": "markdown",
   "id": "bf032237",
   "metadata": {},
   "source": [
    "Reconstructs PC space. Could provide dimension reduction capability.\n",
    "\n",
    "Could be trivial due to K-means' reliance on PCA."
   ]
  },
  {
   "cell_type": "markdown",
   "id": "8e2de4f3",
   "metadata": {},
   "source": [
    "# Phenotypic groups"
   ]
  },
  {
   "cell_type": "code",
   "execution_count": 25,
   "id": "a869d10d",
   "metadata": {},
   "outputs": [],
   "source": [
    "output_dir = torch.tensor([0.,1.,1.])  # differentiated types\n",
    "q = einops.einsum(output_dir, b, \"out, out in1 in2 -> in1 in2\")"
   ]
  },
  {
   "cell_type": "code",
   "execution_count": 26,
   "id": "be1625a3",
   "metadata": {},
   "outputs": [],
   "source": [
    "vals, vecs = torch.linalg.eigh(q)\n",
    "vals = vals.flip([0])\n",
    "vecs = vecs.flip([1])"
   ]
  },
  {
   "cell_type": "code",
   "execution_count": 27,
   "id": "1aeec148",
   "metadata": {},
   "outputs": [
    {
     "data": {
      "application/vnd.plotly.v1+json": {
       "config": {
        "plotlyServerURL": "https://plot.ly"
       },
       "data": [
        {
         "bingroup": "x",
         "hovertemplate": "variable=0<br>value=%{x}<br>count=%{y}<extra></extra>",
         "legendgroup": "0",
         "marker": {
          "color": "#636efa",
          "pattern": {
           "shape": ""
          }
         },
         "name": "0",
         "nbinsx": 100,
         "orientation": "v",
         "showlegend": true,
         "type": "histogram",
         "x": {
          "bdata": "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",
          "dtype": "f4"
         },
         "xaxis": "x",
         "yaxis": "y"
        }
       ],
       "layout": {
        "barmode": "relative",
        "legend": {
         "title": {
          "text": "variable"
         },
         "tracegroupgap": 0
        },
        "template": {
         "data": {
          "bar": [
           {
            "error_x": {
             "color": "#2a3f5f"
            },
            "error_y": {
             "color": "#2a3f5f"
            },
            "marker": {
             "line": {
              "color": "#E5ECF6",
              "width": 0.5
             },
             "pattern": {
              "fillmode": "overlay",
              "size": 10,
              "solidity": 0.2
             }
            },
            "type": "bar"
           }
          ],
          "barpolar": [
           {
            "marker": {
             "line": {
              "color": "#E5ECF6",
              "width": 0.5
             },
             "pattern": {
              "fillmode": "overlay",
              "size": 10,
              "solidity": 0.2
             }
            },
            "type": "barpolar"
           }
          ],
          "carpet": [
           {
            "aaxis": {
             "endlinecolor": "#2a3f5f",
             "gridcolor": "white",
             "linecolor": "white",
             "minorgridcolor": "white",
             "startlinecolor": "#2a3f5f"
            },
            "baxis": {
             "endlinecolor": "#2a3f5f",
             "gridcolor": "white",
             "linecolor": "white",
             "minorgridcolor": "white",
             "startlinecolor": "#2a3f5f"
            },
            "type": "carpet"
           }
          ],
          "choropleth": [
           {
            "colorbar": {
             "outlinewidth": 0,
             "ticks": ""
            },
            "type": "choropleth"
           }
          ],
          "contour": [
           {
            "colorbar": {
             "outlinewidth": 0,
             "ticks": ""
            },
            "colorscale": [
             [
              0,
              "#0d0887"
             ],
             [
              0.1111111111111111,
              "#46039f"
             ],
             [
              0.2222222222222222,
              "#7201a8"
             ],
             [
              0.3333333333333333,
              "#9c179e"
             ],
             [
              0.4444444444444444,
              "#bd3786"
             ],
             [
              0.5555555555555556,
              "#d8576b"
             ],
             [
              0.6666666666666666,
              "#ed7953"
             ],
             [
              0.7777777777777778,
              "#fb9f3a"
             ],
             [
              0.8888888888888888,
              "#fdca26"
             ],
             [
              1,
              "#f0f921"
             ]
            ],
            "type": "contour"
           }
          ],
          "contourcarpet": [
           {
            "colorbar": {
             "outlinewidth": 0,
             "ticks": ""
            },
            "type": "contourcarpet"
           }
          ],
          "heatmap": [
           {
            "colorbar": {
             "outlinewidth": 0,
             "ticks": ""
            },
            "colorscale": [
             [
              0,
              "#0d0887"
             ],
             [
              0.1111111111111111,
              "#46039f"
             ],
             [
              0.2222222222222222,
              "#7201a8"
             ],
             [
              0.3333333333333333,
              "#9c179e"
             ],
             [
              0.4444444444444444,
              "#bd3786"
             ],
             [
              0.5555555555555556,
              "#d8576b"
             ],
             [
              0.6666666666666666,
              "#ed7953"
             ],
             [
              0.7777777777777778,
              "#fb9f3a"
             ],
             [
              0.8888888888888888,
              "#fdca26"
             ],
             [
              1,
              "#f0f921"
             ]
            ],
            "type": "heatmap"
           }
          ],
          "histogram": [
           {
            "marker": {
             "pattern": {
              "fillmode": "overlay",
              "size": 10,
              "solidity": 0.2
             }
            },
            "type": "histogram"
           }
          ],
          "histogram2d": [
           {
            "colorbar": {
             "outlinewidth": 0,
             "ticks": ""
            },
            "colorscale": [
             [
              0,
              "#0d0887"
             ],
             [
              0.1111111111111111,
              "#46039f"
             ],
             [
              0.2222222222222222,
              "#7201a8"
             ],
             [
              0.3333333333333333,
              "#9c179e"
             ],
             [
              0.4444444444444444,
              "#bd3786"
             ],
             [
              0.5555555555555556,
              "#d8576b"
             ],
             [
              0.6666666666666666,
              "#ed7953"
             ],
             [
              0.7777777777777778,
              "#fb9f3a"
             ],
             [
              0.8888888888888888,
              "#fdca26"
             ],
             [
              1,
              "#f0f921"
             ]
            ],
            "type": "histogram2d"
           }
          ],
          "histogram2dcontour": [
           {
            "colorbar": {
             "outlinewidth": 0,
             "ticks": ""
            },
            "colorscale": [
             [
              0,
              "#0d0887"
             ],
             [
              0.1111111111111111,
              "#46039f"
             ],
             [
              0.2222222222222222,
              "#7201a8"
             ],
             [
              0.3333333333333333,
              "#9c179e"
             ],
             [
              0.4444444444444444,
              "#bd3786"
             ],
             [
              0.5555555555555556,
              "#d8576b"
             ],
             [
              0.6666666666666666,
              "#ed7953"
             ],
             [
              0.7777777777777778,
              "#fb9f3a"
             ],
             [
              0.8888888888888888,
              "#fdca26"
             ],
             [
              1,
              "#f0f921"
             ]
            ],
            "type": "histogram2dcontour"
           }
          ],
          "mesh3d": [
           {
            "colorbar": {
             "outlinewidth": 0,
             "ticks": ""
            },
            "type": "mesh3d"
           }
          ],
          "parcoords": [
           {
            "line": {
             "colorbar": {
              "outlinewidth": 0,
              "ticks": ""
             }
            },
            "type": "parcoords"
           }
          ],
          "pie": [
           {
            "automargin": true,
            "type": "pie"
           }
          ],
          "scatter": [
           {
            "fillpattern": {
             "fillmode": "overlay",
             "size": 10,
             "solidity": 0.2
            },
            "type": "scatter"
           }
          ],
          "scatter3d": [
           {
            "line": {
             "colorbar": {
              "outlinewidth": 0,
              "ticks": ""
             }
            },
            "marker": {
             "colorbar": {
              "outlinewidth": 0,
              "ticks": ""
             }
            },
            "type": "scatter3d"
           }
          ],
          "scattercarpet": [
           {
            "marker": {
             "colorbar": {
              "outlinewidth": 0,
              "ticks": ""
             }
            },
            "type": "scattercarpet"
           }
          ],
          "scattergeo": [
           {
            "marker": {
             "colorbar": {
              "outlinewidth": 0,
              "ticks": ""
             }
            },
            "type": "scattergeo"
           }
          ],
          "scattergl": [
           {
            "marker": {
             "colorbar": {
              "outlinewidth": 0,
              "ticks": ""
             }
            },
            "type": "scattergl"
           }
          ],
          "scattermap": [
           {
            "marker": {
             "colorbar": {
              "outlinewidth": 0,
              "ticks": ""
             }
            },
            "type": "scattermap"
           }
          ],
          "scattermapbox": [
           {
            "marker": {
             "colorbar": {
              "outlinewidth": 0,
              "ticks": ""
             }
            },
            "type": "scattermapbox"
           }
          ],
          "scatterpolar": [
           {
            "marker": {
             "colorbar": {
              "outlinewidth": 0,
              "ticks": ""
             }
            },
            "type": "scatterpolar"
           }
          ],
          "scatterpolargl": [
           {
            "marker": {
             "colorbar": {
              "outlinewidth": 0,
              "ticks": ""
             }
            },
            "type": "scatterpolargl"
           }
          ],
          "scatterternary": [
           {
            "marker": {
             "colorbar": {
              "outlinewidth": 0,
              "ticks": ""
             }
            },
            "type": "scatterternary"
           }
          ],
          "surface": [
           {
            "colorbar": {
             "outlinewidth": 0,
             "ticks": ""
            },
            "colorscale": [
             [
              0,
              "#0d0887"
             ],
             [
              0.1111111111111111,
              "#46039f"
             ],
             [
              0.2222222222222222,
              "#7201a8"
             ],
             [
              0.3333333333333333,
              "#9c179e"
             ],
             [
              0.4444444444444444,
              "#bd3786"
             ],
             [
              0.5555555555555556,
              "#d8576b"
             ],
             [
              0.6666666666666666,
              "#ed7953"
             ],
             [
              0.7777777777777778,
              "#fb9f3a"
             ],
             [
              0.8888888888888888,
              "#fdca26"
             ],
             [
              1,
              "#f0f921"
             ]
            ],
            "type": "surface"
           }
          ],
          "table": [
           {
            "cells": {
             "fill": {
              "color": "#EBF0F8"
             },
             "line": {
              "color": "white"
             }
            },
            "header": {
             "fill": {
              "color": "#C8D4E3"
             },
             "line": {
              "color": "white"
             }
            },
            "type": "table"
           }
          ]
         },
         "layout": {
          "annotationdefaults": {
           "arrowcolor": "#2a3f5f",
           "arrowhead": 0,
           "arrowwidth": 1
          },
          "autotypenumbers": "strict",
          "coloraxis": {
           "colorbar": {
            "outlinewidth": 0,
            "ticks": ""
           }
          },
          "colorscale": {
           "diverging": [
            [
             0,
             "#8e0152"
            ],
            [
             0.1,
             "#c51b7d"
            ],
            [
             0.2,
             "#de77ae"
            ],
            [
             0.3,
             "#f1b6da"
            ],
            [
             0.4,
             "#fde0ef"
            ],
            [
             0.5,
             "#f7f7f7"
            ],
            [
             0.6,
             "#e6f5d0"
            ],
            [
             0.7,
             "#b8e186"
            ],
            [
             0.8,
             "#7fbc41"
            ],
            [
             0.9,
             "#4d9221"
            ],
            [
             1,
             "#276419"
            ]
           ],
           "sequential": [
            [
             0,
             "#0d0887"
            ],
            [
             0.1111111111111111,
             "#46039f"
            ],
            [
             0.2222222222222222,
             "#7201a8"
            ],
            [
             0.3333333333333333,
             "#9c179e"
            ],
            [
             0.4444444444444444,
             "#bd3786"
            ],
            [
             0.5555555555555556,
             "#d8576b"
            ],
            [
             0.6666666666666666,
             "#ed7953"
            ],
            [
             0.7777777777777778,
             "#fb9f3a"
            ],
            [
             0.8888888888888888,
             "#fdca26"
            ],
            [
             1,
             "#f0f921"
            ]
           ],
           "sequentialminus": [
            [
             0,
             "#0d0887"
            ],
            [
             0.1111111111111111,
             "#46039f"
            ],
            [
             0.2222222222222222,
             "#7201a8"
            ],
            [
             0.3333333333333333,
             "#9c179e"
            ],
            [
             0.4444444444444444,
             "#bd3786"
            ],
            [
             0.5555555555555556,
             "#d8576b"
            ],
            [
             0.6666666666666666,
             "#ed7953"
            ],
            [
             0.7777777777777778,
             "#fb9f3a"
            ],
            [
             0.8888888888888888,
             "#fdca26"
            ],
            [
             1,
             "#f0f921"
            ]
           ]
          },
          "colorway": [
           "#636efa",
           "#EF553B",
           "#00cc96",
           "#ab63fa",
           "#FFA15A",
           "#19d3f3",
           "#FF6692",
           "#B6E880",
           "#FF97FF",
           "#FECB52"
          ],
          "font": {
           "color": "#2a3f5f"
          },
          "geo": {
           "bgcolor": "white",
           "lakecolor": "white",
           "landcolor": "#E5ECF6",
           "showlakes": true,
           "showland": true,
           "subunitcolor": "white"
          },
          "hoverlabel": {
           "align": "left"
          },
          "hovermode": "closest",
          "mapbox": {
           "style": "light"
          },
          "paper_bgcolor": "white",
          "plot_bgcolor": "#E5ECF6",
          "polar": {
           "angularaxis": {
            "gridcolor": "white",
            "linecolor": "white",
            "ticks": ""
           },
           "bgcolor": "#E5ECF6",
           "radialaxis": {
            "gridcolor": "white",
            "linecolor": "white",
            "ticks": ""
           }
          },
          "scene": {
           "xaxis": {
            "backgroundcolor": "#E5ECF6",
            "gridcolor": "white",
            "gridwidth": 2,
            "linecolor": "white",
            "showbackground": true,
            "ticks": "",
            "zerolinecolor": "white"
           },
           "yaxis": {
            "backgroundcolor": "#E5ECF6",
            "gridcolor": "white",
            "gridwidth": 2,
            "linecolor": "white",
            "showbackground": true,
            "ticks": "",
            "zerolinecolor": "white"
           },
           "zaxis": {
            "backgroundcolor": "#E5ECF6",
            "gridcolor": "white",
            "gridwidth": 2,
            "linecolor": "white",
            "showbackground": true,
            "ticks": "",
            "zerolinecolor": "white"
           }
          },
          "shapedefaults": {
           "line": {
            "color": "#2a3f5f"
           }
          },
          "ternary": {
           "aaxis": {
            "gridcolor": "white",
            "linecolor": "white",
            "ticks": ""
           },
           "baxis": {
            "gridcolor": "white",
            "linecolor": "white",
            "ticks": ""
           },
           "bgcolor": "#E5ECF6",
           "caxis": {
            "gridcolor": "white",
            "linecolor": "white",
            "ticks": ""
           }
          },
          "title": {
           "x": 0.05
          },
          "xaxis": {
           "automargin": true,
           "gridcolor": "white",
           "linecolor": "white",
           "ticks": "",
           "title": {
            "standoff": 15
           },
           "zerolinecolor": "white",
           "zerolinewidth": 2
          },
          "yaxis": {
           "automargin": true,
           "gridcolor": "white",
           "linecolor": "white",
           "ticks": "",
           "title": {
            "standoff": 15
           },
           "zerolinecolor": "white",
           "zerolinewidth": 2
          }
         }
        },
        "title": {
         "text": "Eigenvalues of $Q$"
        },
        "xaxis": {
         "anchor": "y",
         "domain": [
          0,
          1
         ],
         "title": {
          "text": "value"
         }
        },
        "yaxis": {
         "anchor": "x",
         "domain": [
          0,
          1
         ],
         "title": {
          "text": "count"
         }
        }
       }
      }
     },
     "metadata": {},
     "output_type": "display_data"
    }
   ],
   "source": [
    "px.histogram(vals.flatten(), nbins=100, title=\"Eigenvalues of $Q$\").show()"
   ]
  },
  {
   "cell_type": "code",
   "execution_count": 28,
   "id": "8738c3db",
   "metadata": {},
   "outputs": [
    {
     "name": "stdout",
     "output_type": "stream",
     "text": [
      "==================== Component 0 (0.0766754224896431) ====================\n",
      "['Adssl1', 'Emb', 'Vim', 'Igfbp4', 'Lgals1', 'Gm14005', 'H2afy', 'Mpo', 'Fxyd5', 'Dtx4']\n",
      "['Blvrb', 'Lmna', 'Pklr', 'Car2', 'Zfpm1', 'Cyth3', 'Sphk1', 'Xrcc5', 'Ell2', 'Cpox']\n",
      "==================== Component 1 (0.04178326949477196) ====================\n",
      "['Ncf1', 'Lpcat2', '5730528L13Rik', 'Arsb', 'Cars', 'Csgalnact2', 'Arid4b', 'Tuba8', 'Med7', 'Rab44']\n",
      "['Ifnar2', 'Sell', 'Tmem109', 'Hmgb2', 'Ddx21', 'Psmb4', 'Gmip', 'Birc6', 'Mybbp1a', 'Dennd1b']\n",
      "==================== Component 2 (0.03960025683045387) ====================\n",
      "['Sod1', 'Ugt1a1', 'Aif1', 'Atp2a2', 'Qdpr', 'Il4ra', 'Rpl4', 'Mbd2', 'Nme4', 'Vamp2']\n",
      "['Alox5', 'Tspyl3', 'Stx3', 'Timeless', 'Lrp1', 'Gata2', 'Rab27a', 'Zswim4', 'Il1r1', 'Nupr1']\n"
     ]
    }
   ],
   "source": [
    "n_top_genes = 10\n",
    "for i in range(3):  # top components\n",
    "    top_idxs = vecs[:,i].topk(n_top_genes).indices\n",
    "    top_genes = adata.var_names[top_idxs].tolist()\n",
    "    bottom_idxs = (-vecs[:,i]).topk(n_top_genes).indices\n",
    "    bottom_genes = adata.var_names[bottom_idxs].tolist()\n",
    "    print(\"=\"*20, f\"Component {i} ({vals[i]})\", \"=\"*20)\n",
    "    print(top_genes)\n",
    "    print(bottom_genes)"
   ]
  },
  {
   "cell_type": "markdown",
   "id": "ed789328",
   "metadata": {},
   "source": [
    "Not a good demonstration because `not(0)` = `(1,2)`, so really the markers for these two matrices should be the same?"
   ]
  },
  {
   "cell_type": "markdown",
   "id": "f7f49ca4",
   "metadata": {},
   "source": [
    "## Check for consistency btwn complimentary directions"
   ]
  },
  {
   "cell_type": "code",
   "execution_count": 29,
   "id": "3f844423",
   "metadata": {},
   "outputs": [],
   "source": [
    "# Differentiated vs undifferentiated\n",
    "output_dir = torch.tensor([0.,1.,1.])\n",
    "q = einops.einsum(output_dir, b, \"out, out in1 in2 -> in1 in2\")\n",
    "_, vecs = torch.linalg.eigh(q)\n",
    "genes_diff = vecs[:,-1]\n",
    "\n",
    "# Undifferentiated vs differentiated\n",
    "output_dir = torch.tensor([1.,0.,0.])\n",
    "q = einops.einsum(output_dir, b, \"out, out in1 in2 -> in1 in2\")\n",
    "_, vecs = torch.linalg.eigh(q)\n",
    "genes_undiff = vecs[:,-1]"
   ]
  },
  {
   "cell_type": "markdown",
   "id": "c17fcd0e",
   "metadata": {},
   "source": [
    "### Gene space"
   ]
  },
  {
   "cell_type": "code",
   "execution_count": 30,
   "id": "43879a0a",
   "metadata": {},
   "outputs": [
    {
     "data": {
      "application/vnd.plotly.v1+json": {
       "config": {
        "plotlyServerURL": "https://plot.ly"
       },
       "data": [
        {
         "hovertemplate": "<b>%{hovertext}</b><br><br>Differentiated Component=%{x}<br>Undifferentiated Component=%{y}<extra></extra>",
         "hovertext": [
          "0610007L01Rik",
          "0610009O20Rik",
          "0610010K14Rik",
          "0910001L09Rik",
          "1100001G20Rik",
          "1110002B05Rik",
          "1110004E09Rik",
          "1110007A13Rik",
          "1110007C09Rik",
          "1110013L07Rik",
          "1110020G09Rik",
          "1110034G24Rik",
          "1110038B12Rik",
          "1110049F12Rik",
          "1110059E24Rik",
          "1190002H23Rik",
          "1190007F08Rik",
          "1200002N14Rik",
          "1300001I01Rik",
          "1300017J02Rik",
          "1500001M20Rik",
          "1500012F01Rik",
          "1500032L24Rik",
          "1600014C10Rik",
          "1700001L05Rik",
          "1700012B09Rik",
          "1700017B05Rik",
          "1700020L24Rik",
          "1810009A15Rik",
          "1810011H11Rik",
          "1810027O10Rik",
          "1810030N24Rik",
          "1810031K17Rik",
          "1810033B17Rik",
          "1810037I17Rik",
          "2010002N04Rik",
          "2010011I20Rik",
          "2010106G01Rik",
          "2210016F16Rik",
          "2210020M01Rik",
          "2210023G05Rik",
          "2210404O07Rik",
          "2210411K11Rik",
          "2310003C23Rik",
          "2310003F16Rik",
          "2310005E10Rik",
          "2310014H01Rik",
          "2310022B05Rik",
          "2310028O11Rik",
          "2410006H16Rik",
          "2510002D24Rik",
          "2510003E04Rik",
          "2610018G03Rik",
          "2610024G14Rik",
          "2610029G23Rik",
          "2610029I01Rik",
          "2610035D17Rik",
          "2610101N10Rik",
          "2700094K13Rik",
          "2810004N23Rik",
          "2810417H13Rik",
          "2810474O19Rik",
          "2900010J23Rik",
          "2900010M23Rik",
          "2900026A02Rik",
          "2900073G15Rik",
          "3110003A17Rik",
          "3110056O03Rik",
          "4632415L05Rik",
          "4632428N05Rik",
          "4930473A06Rik",
          "4930486L24Rik",
          "4930503E24Rik",
          "4930534B04Rik",
          "4931406C07Rik",
          "5033406O09Rik",
          "5430435G22Rik",
          "5730469M10Rik",
          "5730508B09Rik",
          "5730528L13Rik",
          "5830405N20Rik",
          "5830432E09Rik",
          "6030458C11Rik",
          "6330416G13Rik",
          "6330503K22Rik",
          "6720456B07Rik",
          "8430419L09Rik",
          "8430427H17Rik",
          "9030617O03Rik",
          "9130206I24Rik",
          "9130208E07Rik",
          "9230105E10Rik",
          "9530068E07Rik",
          "9530077C05Rik",
          "9630033F20Rik",
          "9830001H06Rik",
          "A030009H04Rik",
          "A930001N09Rik",
          "AA987161",
          "AB124611",
          "AI467606",
          "AI504432",
          "AI848100",
          "AK003943",
          "AK004850",
          "AK005678",
          "AK005967",
          "AK011885",
          "AK012007",
          "AK015096",
          "AK019114",
          "AK020398",
          "AK028012",
          "AK031079",
          "AK031561",
          "AK032662",
          "AK040705",
          "AK041647",
          "AK042041",
          "AK042223",
          "AK046417",
          "AK051928",
          "AK052414",
          "AK052812",
          "AK053193",
          "AK076954",
          "AK079675",
          "AK080025",
          "AK080350",
          "AK081788",
          "AK081796",
          "AK084646",
          "AK085695",
          "AK087942",
          "AK089379",
          "AK142847",
          "AK144329",
          "AK146183",
          "AK150559",
          "AK152437",
          "AK153212",
          "AK153427",
          "AK153575",
          "AK154077",
          "AK158095",
          "AK163149",
          "AK164126",
          "AK169831",
          "AK172428",
          "AK182549",
          "AK185715",
          "AK188353",
          "AK189633",
          "AK197603",
          "AK202301",
          "AK210533",
          "AK211593",
          "AK217941",
          "AKAP95",
          "Aak1",
          "Abca3",
          "Abcb10",
          "Abcb1b",
          "Abcb4",
          "Abcb6",
          "Abcb9",
          "Abcc4",
          "Abcd1",
          "Abcd2",
          "Abce1",
          "Abcf1",
          "Abcg1",
          "Abcg2",
          "Abcg4",
          "Abhd14b",
          "Abhd15",
          "Abhd16a",
          "Abi2",
          "Ablim1",
          "Abr",
          "Abtb2",
          "Acadl",
          "Ache",
          "Acin1",
          "Aco1",
          "Acot1",
          "Acot13",
          "Acot7",
          "Acot9",
          "Acox3",
          "Acpl2",
          "Acsl1",
          "Acsl5",
          "Acsl6",
          "Acss1",
          "Acss2",
          "Actb",
          "Actl6a",
          "Actn1",
          "Actr2",
          "Actr3",
          "Acyp1",
          "Ada",
          "Adam15",
          "Adamts10",
          "Adamts3",
          "Adap1",
          "Adat3",
          "Adcy6",
          "Add1",
          "Add2",
          "Add3",
          "Adh5",
          "Adipor2",
          "Adk",
          "Adrbk1",
          "Adrbk2",
          "Adsl",
          "Adssl1",
          "Aes",
          "Afap1",
          "Afap1l1",
          "Aff3",
          "Aff4",
          "Afg3l2",
          "Afmid",
          "Agap1",
          "Agap2",
          "Agfg2",
          "Aggf1",
          "Agpat3",
          "Agpat4",
          "Agpat5",
          "Agps",
          "Agtrap",
          "Ahctf1",
          "Ahdc1",
          "Ahnak",
          "Ahsa1",
          "Aif1",
          "Aim2",
          "Ak2",
          "Ak3",
          "Akap13",
          "Akap8l",
          "Akap9",
          "Akr1a4",
          "Akt1",
          "Alad",
          "Alas1",
          "Alas2",
          "Alcam",
          "Aldh18a1",
          "Aldh1a1",
          "Aldh1a7",
          "Aldh1b1",
          "Aldh1l1",
          "Aldh2",
          "Aldh7a1",
          "Aldoa",
          "Alkbh8",
          "Allergin-1",
          "Alox5",
          "Alox5ap",
          "Amfr",
          "Ammecr1",
          "Ampd3",
          "Anapc1",
          "Anapc11",
          "Anapc13",
          "Anapc2",
          "Anapc5",
          "Angpt1",
          "Ank",
          "Ank1",
          "Ankrd11",
          "Ankrd13a",
          "Ankrd17",
          "Ankrd26",
          "Ankrd43",
          "Ankrd44",
          "Anln",
          "Ano10",
          "Ano6",
          "Anp32a",
          "Anp32b",
          "Anp32e",
          "Anxa2",
          "Anxa3",
          "Anxa5",
          "Anxa6",
          "Aoah",
          "Ap1b1",
          "Ap1m1",
          "Ap1s2",
          "Ap1s3",
          "Ap2a2",
          "Ap3s1",
          "Apba1",
          "Apbb1ip",
          "Apeh",
          "Apip",
          "Aplp2",
          "Apob48r",
          "Apobec3",
          "Apoe",
          "App",
          "Appl1",
          "Aprt",
          "Aqp1",
          "Aqp11",
          "Aqp9",
          "Aqr",
          "Arap2",
          "Arap3",
          "Arf1",
          "Arf4",
          "Arf5",
          "Arglu1",
          "Arhgap17",
          "Arhgap19",
          "Arhgap21",
          "Arhgap23",
          "Arhgap25",
          "Arhgap27",
          "Arhgap30",
          "Arhgap31",
          "Arhgap32",
          "Arhgap6",
          "Arhgap9",
          "Arhgdia",
          "Arhgdib",
          "Arhgdig",
          "Arhgef12",
          "Arhgef2",
          "Arhgef25",
          "Arhgef3",
          "Arhgef4",
          "Arhgef40",
          "Arhgef6",
          "Arid1a",
          "Arid1b",
          "Arid2",
          "Arid3a",
          "Arid3b",
          "Arid4b",
          "Arid5a",
          "Arid5b",
          "Arl11",
          "Arl4a",
          "Arl6ip1",
          "Arl8a",
          "Armc9",
          "Arpc1a",
          "Arpc1b",
          "Arpc2",
          "Arpc4",
          "Arrb1",
          "Arsb",
          "Arvcf",
          "As3mt",
          "Asah1",
          "Asap1",
          "Asf1b",
          "Ash1l",
          "Asns",
          "Asp",
          "Asph",
          "Ass1",
          "Asxl1",
          "Atad5",
          "Atf4",
          "Atf7ip",
          "Atg16l2",
          "Atg2b",
          "Atg4b",
          "Atic",
          "Atmin",
          "Atn1",
          "Atox1",
          "Atp10a",
          "Atp10d",
          "Atp11a",
          "Atp13a3",
          "Atp1a3",
          "Atp1b1",
          "Atp1b2",
          "Atp1b3",
          "Atp2a2",
          "Atp2a3",
          "Atp2b1",
          "Atp2b4",
          "Atp5a1",
          "Atp5b",
          "Atp5c1",
          "Atp5d",
          "Atp5f1",
          "Atp5g3",
          "Atp5h",
          "Atp5j2",
          "Atp5o",
          "Atp6ap2",
          "Atp6v0a1",
          "Atp6v0b",
          "Atp6v0c",
          "Atp6v0d1",
          "Atp6v1f",
          "Atp7b",
          "Atp8a1",
          "Atp8b2",
          "Atp8b4",
          "Atp8b5",
          "Atpase6",
          "Atpif1",
          "Atrip",
          "Atrnl1",
          "Atrx",
          "Aurka",
          "Aurkb",
          "Auts2",
          "Aven",
          "B230120H23Rik",
          "B230219D22Rik",
          "B330016D10Rik",
          "B430306N03Rik",
          "B4galnt1",
          "B4galt4",
          "B4galt5",
          "B4galt6",
          "BC002221",
          "BC003965",
          "BC005764",
          "BC019819",
          "BC021614",
          "BC021767",
          "BC024571",
          "BC025067",
          "BC029331",
          "BC031353",
          "BC033430",
          "BC035044",
          "BC048355",
          "BC051142",
          "BC057079",
          "BC064078",
          "BC096441",
          "Bag1",
          "Bag2",
          "Bahcc1",
          "Baiap2",
          "Bambi",
          "Bambi-ps1",
          "Banf1",
          "Basp1",
          "Bat2d",
          "Batf3",
          "Bax",
          "Baz1a",
          "Baz1b",
          "Baz2b",
          "Bcas2",
          "Bcas3",
          "Bcl11a",
          "Bcl2",
          "Bcl2l1",
          "Bcl2l11",
          "Bcl3",
          "Bcl9",
          "Bcl9l",
          "Bclaf1",
          "Bdh1",
          "Bdp1",
          "Beta-s",
          "Bex4",
          "Bex6",
          "Bhlha15",
          "Bin1",
          "Birc3",
          "Birc5",
          "Birc6",
          "Blm",
          "Blnk",
          "Blvra",
          "Blvrb",
          "Bmp1",
          "Bmp2k",
          "Bms1",
          "Bnip2",
          "Bod1l",
          "Bola2",
          "Bola3",
          "Boll",
          "Bptf",
          "Brd1",
          "Brd3",
          "Brd4",
          "Brd7",
          "Brf1",
          "Bri3bp",
          "Brix1",
          "Brpf3",
          "Bsg",
          "Bst2",
          "Btaf1",
          "Btbd3",
          "Btg1",
          "Btg2",
          "Btnl9",
          "Bub1b",
          "Bub3",
          "Butr1",
          "Bzrap1",
          "Bzw1",
          "Bzw2",
          "C184",
          "C1galt1",
          "C1galt1c1",
          "C1qb",
          "C1qbp",
          "C1qc",
          "C1qtnf6",
          "C1rl",
          "C230052I12Rik",
          "C230096C10Rik",
          "C3",
          "C330019G07Rik",
          "C530008M17Rik",
          "Cables1",
          "Cachd1",
          "Cacybp",
          "Cad",
          "Calcoco1",
          "Calm1",
          "Calm2",
          "Calr",
          "Camk1",
          "Camk1d",
          "Camk2a",
          "Camkk1",
          "Camkk2",
          "Camsap1l1",
          "Cand1",
          "Canx",
          "Cap1",
          "Capg",
          "Capn1",
          "Capn3",
          "Capn5",
          "Capns1",
          "Caprin1",
          "Caprin2",
          "Capzb",
          "Car1",
          "Car2",
          "Car9",
          "Card6",
          "Carhsp1",
          "Cars",
          "Casc5",
          "Casp1",
          "Casp11",
          "Casp3",
          "Casp6",
          "Casp7",
          "Cast",
          "Casz1",
          "Cbfa2t3",
          "Cbfb",
          "Cbl",
          "Cbr1",
          "Cbr3",
          "Cbx4",
          "Cbx5",
          "Cbx8",
          "Ccar1",
          "Ccbl1",
          "Ccbl2",
          "Ccdc102a",
          "Ccdc109b",
          "Ccdc125",
          "Ccdc135",
          "Ccdc163",
          "Ccdc23",
          "Ccdc32",
          "Ccdc48",
          "Ccdc50",
          "Ccdc69",
          "Ccdc74a",
          "Ccdc88a",
          "Ccdc88b",
          "Ccl5",
          "Ccl6",
          "Ccl9",
          "Ccnb1",
          "Ccnb2",
          "Ccnd1",
          "Ccnd2",
          "Ccne1",
          "Ccnf",
          "Ccng2",
          "Cct3",
          "Cct4",
          "Cct5",
          "Cct6a",
          "Cct7",
          "Cct8",
          "Cd14",
          "Cd160",
          "Cd1d2",
          "Cd2",
          "Cd244",
          "Cd248",
          "Cd24a",
          "Cd27",
          "Cd274",
          "Cd300a",
          "Cd300lb",
          "Cd300lg",
          "Cd302",
          "Cd34",
          "Cd48",
          "Cd52",
          "Cd53",
          "Cd55",
          "Cd59a",
          "Cd63",
          "Cd68",
          "Cd7",
          "Cd74",
          "Cd79b",
          "Cd81",
          "Cd82",
          "Cd9",
          "Cd93",
          "Cd99l2",
          "Cdc14a",
          "Cdc25b",
          "Cdc34",
          "Cdc37",
          "Cdc42",
          "Cdc42se1",
          "Cdc45",
          "Cdc6",
          "Cdca3",
          "Cdca7",
          "Cdca8",
          "Cdcrel-1",
          "Cdh1",
          "Cdk1",
          "Cdk12",
          "Cdk13",
          "Cdk18",
          "Cdk2ap2",
          "Cdk4",
          "Cdk5r1",
          "Cdk6",
          "Cdkn1a",
          "Cdkn3",
          "Cdr2",
          "Cds1",
          "Cdt1",
          "Cdv3",
          "Cdyl",
          "Ceacam1",
          "Cebpa",
          "Cebpe",
          "Cela1",
          "Celf1",
          "Celf2",
          "Celsr1",
          "Celsr3",
          "Cenp-a",
          "Cenpe",
          "Cenpf",
          "Cenph",
          "Cenpl",
          "Cenpn",
          "Cenpv",
          "Cep350",
          "Cep55",
          "Cercam",
          "Cerk",
          "Cfdp1",
          "Cfl1",
          "Cfp",
          "Cggbp1",
          "Chac2",
          "Chaf1b",
          "Chchd10",
          "Chchd2",
          "Chchd3",
          "Chd1",
          "Chd2",
          "Chd3",
          "Chd4",
          "Chd6",
          "Chd7",
          "Chd8",
          "Chi3l3",
          "Chpf",
          "Chst10",
          "Chst12",
          "Chst13",
          "Cic",
          "Cisd1",
          "Cisd3",
          "Cish",
          "Cit",
          "Cited2",
          "Cited4",
          "Ckap2l",
          "Ckap4",
          "Ckap5",
          "Ckb",
          "Clasp1",
          "Clca5",
          "Clcf1",
          "Clcn3",
          "Cldn13",
          "Cldn15",
          "Clec10a",
          "Clec11a",
          "Clec12a",
          "Clec2d",
          "Clec4d",
          "Clec4e",
          "Clec5a",
          "Clic1",
          "Clic4",
          "Clint1",
          "Clk2",
          "Clnk",
          "Clpp",
          "Clspn",
          "Clta",
          "Cltc",
          "Clu",
          "Clybl",
          "Cma1",
          "Cmah",
          "Cmpk2",
          "Cmtm3",
          "Cmtm4",
          "Cmtm7",
          "Cnbp",
          "Cnn2",
          "Cnn3",
          "Cnnm2",
          "Cnnm4",
          "Cnot1",
          "Cnp",
          "Cnpy2",
          "Cnpy3",
          "Cnr2",
          "Cobll1",
          "Col5a1",
          "Commd4",
          "Commd7",
          "Cope",
          "Copz2",
          "Coq9",
          "Coro1a",
          "Coro1b",
          "Coro2a",
          "Coro7",
          "Cox17",
          "Cox4i1",
          "Cox5a",
          "Cox5b",
          "Cox6a1",
          "Cox6a2",
          "Cox6b1",
          "Cox6b2",
          "Cox7c",
          "Cox8a",
          "Cpa3",
          "Cpne2",
          "Cpne3",
          "Cpox",
          "Cpsf2",
          "Cpt2",
          "Crebbp",
          "Creg1",
          "Creld2",
          "Crim1",
          "Crip1",
          "Crip2",
          "Cs",
          "Csda",
          "Csde1",
          "Csf1",
          "Csf1r",
          "Csf2ra",
          "Csf2rb",
          "Csf2rb2",
          "Csf3r",
          "Csgalnact2",
          "Csk",
          "Csnk1a1",
          "Csnk2b",
          "Csrnp1",
          "Csrp2",
          "Csrp3",
          "Cst3",
          "Cst7",
          "Ctage5",
          "Ctbp1",
          "Ctcf",
          "Ctdspl",
          "Ctla2a",
          "Ctnna1",
          "Ctnnb1",
          "Ctsc",
          "Ctsd",
          "Ctse",
          "Ctsg",
          "Ctsh",
          "Ctsl",
          "Ctss",
          "Ctsw",
          "Ctsz",
          "Cttn",
          "Cuedc1",
          "Cul4a",
          "Cul7",
          "Cul9",
          "Cux1",
          "Cxcl10",
          "Cxcr4",
          "Cxxc1",
          "Cyb5",
          "Cyb5b",
          "Cyb5r3",
          "Cyba",
          "Cybb",
          "Cyc1",
          "Cyfip1",
          "Cyfip2",
          "Cyhr1",
          "Cyp11a1",
          "Cyp27a1",
          "Cyp4f16",
          "Cyp4f18",
          "Cyth1",
          "Cyth3",
          "Cyth4",
          "Cytip",
          "D16H22S680E",
          "D17Wsu104e",
          "D17Wsu92e",
          "D18Ertd653e",
          "D230014K01Rik",
          "D4Wsu53e",
          "D6Mm5e",
          "D930016D06Rik",
          "DAPK2",
          "Daam1",
          "Dab2ip",
          "Dach1",
          "Dap",
          "Dap3",
          "Dapp1",
          "Darc",
          "Dazap1",
          "Dazap2",
          "Dbndd2",
          "Dbnl",
          "Dcaf4",
          "Dcaf7",
          "Dcaf8",
          "Dck",
          "Dclk2",
          "Dclre1a",
          "Dctn5",
          "Dctpp1",
          "Ddah2",
          "Ddb1",
          "Ddit4",
          "Ddost",
          "Ddx1",
          "Ddx17",
          "Ddx21",
          "Ddx23",
          "Ddx24",
          "Ddx27",
          "Ddx39",
          "Ddx3x",
          "Ddx46",
          "Ddx5",
          "Ddx58",
          "Ddx6",
          "Def6",
          "Def8",
          "Dek",
          "Dennd1b",
          "Dennd1c",
          "Dennd2d",
          "Dennd3",
          "Dennd4a",
          "Deptor",
          "Dgat2",
          "Dgkg",
          "Dhdh",
          "Dhrs11",
          "Dhrs3",
          "Dhrs4",
          "Dhrs7",
          "Dhx38",
          "Dia2",
          "Diap2",
          "Dido1",
          "Dio2",
          "Dis3",
          "Dkkl1",
          "Dlat",
          "Dlg3",
          "Dlgap5",
          "Dlst",
          "Dmkn",
          "Dmwd",
          "Dmxl1",
          "Dnahc8",
          "Dnaja3",
          "Dnaja4",
          "Dnajb1",
          "Dnajb11",
          "Dnajb2",
          "Dnajb3",
          "Dnajb9",
          "Dnajc10",
          "Dnajc11",
          "Dnajc19",
          "Dnajc2",
          "Dnajc3",
          "Dnajc6",
          "Dnajc8",
          "Dnhd1",
          "Dnmt1",
          "Dnmt3a",
          "Dnmt3b",
          "Dnpep",
          "Dntt",
          "Dnttip2",
          "Dock1",
          "Dock10",
          "Dock2",
          "Dock7",
          "Dock8",
          "Dok2",
          "Dok3",
          "Dopey2",
          "Dpp4",
          "Dpp9",
          "Dpy19l1",
          "Dpy19l3",
          "Dpysl2",
          "Drctnnb1a",
          "Drosha",
          "Dst",
          "Dstn",
          "Dstyk",
          "Dtl",
          "Dtnbp1",
          "Dtx3",
          "Dtx4",
          "Dus1l",
          "Dusp11",
          "Dusp16",
          "Dusp18",
          "Dusp22",
          "Dusp23",
          "Dusp3",
          "Dut",
          "Dym",
          "Dync1h1",
          "Dync1i2",
          "Dynlrb1",
          "Dyrk3",
          "E130012A19Rik",
          "E130308A19Rik",
          "E2f2",
          "E2f4",
          "E2f8",
          "E330016A19Rik",
          "ENSMUSG00000073540",
          "ENSMUSG00000073777",
          "Ebi3",
          "Ebna1bp2",
          "Ece1",
          "Echs1",
          "Ecm1",
          "Edem1",
          "Edem2",
          "Edf1",
          "Eef1b2",
          "Eef1d",
          "Eef1e1",
          "Eef1g",
          "Eef2",
          "Eepd1",
          "Efcab4a",
          "Efhd2",
          "Efnb1",
          "Eftud2",
          "Egfl7",
          "Egln3",
          "Egr1",
          "Ehd1",
          "Ehd3",
          "Ehmt2",
          "Eif1ax",
          "Eif2ak1",
          "Eif2b1",
          "Eif2b4",
          "Eif2c2",
          "Eif2c3",
          "Eif2d",
          "Eif2s2",
          "Eif3a",
          "Eif3b",
          "Eif3c",
          "Eif3d",
          "Eif3f",
          "Eif3g",
          "Eif3h",
          "Eif3i",
          "Eif3k",
          "Eif3m",
          "Eif4a1",
          "Eif4b",
          "Eif4e2",
          "Eif4e3",
          "Eif4ebp1",
          "Eif4ebp2",
          "Eif4enif1",
          "Eif4g1",
          "Eif4g2",
          "Eif4g3",
          "Eif5",
          "Eif5b",
          "Elane",
          "Elavl1",
          "Elf1",
          "Elk3",
          "Ell2",
          "Elmo1",
          "Elovl5",
          "Elovl7",
          "Eltd1",
          "Emb",
          "Emg1",
          "Emid1",
          "Emilin1",
          "Emilin2",
          "Eml4",
          "Emp3",
          "Endod1",
          "Ep400",
          "Epb4.1",
          "Epb4.1l2",
          "Epb4.1l4b",
          "Epb4.9",
          "Epdr1",
          "Ephx2",
          "Epn1",
          "Epor",
          "Eprs",
          "Eps15",
          "Epsti1",
          "Epx",
          "Erbb2ip",
          "Erc1",
          "Ermap",
          "Ern1",
          "Ero1l",
          "Ero1lb",
          "Erp29",
          "Erp44",
          "Esco2",
          "Espl1",
          "Esyt1",
          "Etf1",
          "Etfa",
          "Etfb",
          "Etfdh",
          "Etnk1",
          "Ets1",
          "Etv6",
          "Evi2b",
          "Evl",
          "Exoc3l2",
          "Exoc6",
          "Exosc2",
          "Exosc5",
          "Exosc7",
          "Exosc8",
          "Ext1",
          "Eya2",
          "Ezh2",
          "Ezr",
          "F10",
          "F13a1",
          "F2r",
          "F2rl3",
          "F5",
          "FKBP12-T1",
          "FKBP1b-B",
          "Faah",
          "Fabp5",
          "Fads1",
          "Fads3",
          "Fam101b",
          "Fam102a",
          "Fam105a",
          "Fam107b",
          "Fam108b",
          "Fam109b",
          "Fam110a",
          "Fam117a",
          "Fam129a",
          "Fam129c",
          "Fam132a",
          "Fam134a",
          "Fam134b",
          "Fam158a",
          "Fam160a2",
          "Fam162a",
          "Fam168b",
          "Fam174b",
          "Fam176b",
          "Fam184a",
          "Fam195a",
          "Fam195b",
          "Fam20c",
          "Fam26f",
          "Fam43a",
          "Fam46a",
          "Fam49b",
          "Fam53b",
          "Fam55b",
          "Fam55c",
          "Fam59a",
          "Fam64a",
          "Fam65a",
          "Fam65b",
          "Fam69b",
          "Fam78a",
          "Fam82a2",
          "Fam96b",
          "Fance",
          "Far2",
          "Fasn",
          "Fau",
          "Fba",
          "Fbp1",
          "Fbxl20",
          "Fbxl8",
          "Fbxo10",
          "Fbxo4",
          "Fbxo5",
          "Fbxo7",
          "Fbxo9",
          "Fbxw10",
          "Fcer1g",
          "Fcgr2b",
          "Fcgr3",
          "Fcgrt",
          "Fcho1",
          "Fchsd2",
          "Fcnb",
          "Fech",
          "Fen1",
          "Fermt3",
          "Fes",
          "Ffar2",
          "Fgd2",
          "Fgd3",
          "Fgf3",
          "Fgfrl1",
          "Fgl2",
          "Fh1",
          "Fhdc1",
          "Ficd",
          "Filip1l",
          "Fis1",
          "Fkbp11",
          "Fkbp2",
          "Fkbp4",
          "Fkbp5",
          "Fli1",
          "Flna",
          "Flnb",
          "Flot2",
          "Flt3",
          "Flt3l",
          "Fmnl3",
          "Fmr1",
          "Fnbp1",
          "Fnbp1l",
          "Fnbp4",
          "Fndc3a",
          "Fndc3b",
          "Fos",
          "Foxj1",
          "Foxn3",
          "Foxo1",
          "Foxp1",
          "Foxred2",
          "Fr1",
          "Frat1",
          "Frat2",
          "Frmd4a",
          "Fth1",
          "Ftl1",
          "Ftsj1",
          "Ftsj3",
          "Fubp1",
          "Fuca2",
          "Fut4",
          "Fut7",
          "Fut8",
          "Fxn",
          "Fxyd5",
          "Fyb",
          "Fyn",
          "Fyr",
          "G0s2",
          "G3bp2",
          "G6pc3",
          "G6pdx",
          "Gab2",
          "Gabarapl1",
          "Gabpb2",
          "Gadd45a",
          "Gadd45b",
          "Galc",
          "Galk1",
          "Galns",
          "Galnt1",
          "Galnt11",
          "Galnt12",
          "Galnt2",
          "Galnt6",
          "Gamt",
          "Ganab",
          "Gapt",
          "Gapvd1",
          "Gar1",
          "Gars",
          "Gart",
          "Gas5",
          "Gas7",
          "Gata1",
          "Gata2",
          "Gatad2b",
          "Gatm",
          "Gatsl3",
          "Gbp10",
          "Gbp2",
          "Gbx2",
          "Gcat",
          "Gch1",
          "Gclc",
          "Gclm",
          "Gda",
          "Gdf3",
          "Gdi2",
          "Gdpd1",
          "Gdpd3",
          "Gemin5",
          "Get4",
          "Gfer",
          "Gfi1",
          "Gfi1b",
          "Gfm1",
          "Gfod1",
          "Gfpt1",
          "Gga2",
          "Ggh",
          "Ggt5",
          "Ggta1",
          "Gigyf2",
          "Gimap1",
          "Gimap5",
          "Gimap6",
          "Gimap7",
          "Git2",
          "Gja1",
          "Gjb3",
          "Glb1",
          "Glb1l",
          "Glg1",
          "Glipr1",
          "Glipr2",
          "Glo1",
          "Glrx5",
          "Gltscr2",
          "Glud1",
          "Gm10653",
          "Gm14005",
          "Gm14085",
          "Gm15800",
          "Gm16515",
          "Gm1966",
          "Gm2058",
          "Gm2a",
          "Gm4759",
          "Gm4902",
          "Gm5057",
          "Gm5506",
          "Gm608",
          "Gm672",
          "Gm7694",
          "Gmfg",
          "Gmip",
          "Gmpr",
          "Gna14",
          "Gna15",
          "Gnai2",
          "Gnas",
          "Gnb2l1",
          "Gng10",
          "Gng11",
          "Gng12",
          "Gng2",
          "Gnl2",
          "Gnl3",
          "Gnl3l",
          "Gnpda2",
          "Gnptab",
          "Golga4",
          "Golm1",
          "Gorasp2",
          "Gp1ba",
          "Gp5",
          "Gp9",
          "Gpatch8",
          "Gpbp1",
          "Gpc1",
          "Gpc4",
          "Gpi1",
          "Gpn3",
          "Gpr132",
          "Gpr171",
          "Gpr18",
          "Gpr183",
          "Gpr56",
          "Gpr84",
          "Gpr97",
          "Gps2",
          "Gpt2",
          "Gpx1",
          "Gpx3",
          "Gpx4",
          "Gramd1b",
          "Gramd3",
          "Grap",
          "Grb10",
          "Grb2",
          "Grhpr",
          "Gria3",
          "Grina",
          "Grk6",
          "Grn",
          "Gsn",
          "Gspt1",
          "Gsr",
          "Gstm1",
          "Gstm4",
          "Gstm5",
          "Gstm7",
          "Gsto1",
          "Gstp1",
          "Gstt3",
          "Gtf2a2",
          "Gtf2f1",
          "Gtf2h1",
          "Gtf2h3",
          "Gtf2i",
          "Gtpbp1",
          "Guca1a",
          "Gucy1a3",
          "Guk1",
          "Gusb",
          "Gxylt1",
          "Gyg",
          "Gypa",
          "Gypc",
          "Gzma",
          "Gzmb",
          "Gzmm",
          "H13",
          "H1f0",
          "H1fx",
          "H2-Aa",
          "H2-Ab1",
          "H2-D1",
          "H2-DMa",
          "H2-DMb1",
          "H2-Eb1",
          "H2-K1",
          "H2-Ke2",
          "H2-M3",
          "H2-Oa",
          "H2-Ob",
          "H2-Q7",
          "H2-T10",
          "H2afj",
          "H2afv",
          "H2afx",
          "H2afy",
          "H3f3a",
          "H47",
          "HDAC7",
          "HLS2",
          "Haao",
          "Hadh",
          "Hadha",
          "Hagh",
          "Hars",
          "Hausp",
          "Hba-a2",
          "Hbb-b1",
          "Hcfc1",
          "Hck",
          "Hcst",
          "Hdac5",
          "Hdac6",
          "Hdc",
          "Hdgf",
          "Hdlbp",
          "Heatr1",
          "Heatr3",
          "Heatr5a",
          "Hebp1",
          "Hectd1",
          "Heg1",
          "Hells",
          "Hemgn",
          "Herc1",
          "Herc2",
          "Herpud1",
          "Hes1",
          "Hexa",
          "Hexb",
          "Hfe",
          "Hif3a",
          "Higd2a",
          "Hint1",
          "Hip1",
          "Hip1r",
          "Hipk1",
          "Hist1h2an",
          "Hivep2",
          "Hk1",
          "Hk2",
          "Hk3",
          "Hlf",
          "Hlx",
          "Hmbs",
          "Hmgb2",
          "Hmgb3",
          "Hmgcl",
          "Hmgn1",
          "Hmgn2",
          "Hmgn3",
          "Hmha1",
          "Hmmr",
          "Hmox1",
          "Hn1",
          "Hnf4a",
          "Hnrnpab",
          "Hnrnpc",
          "Hnrnpd",
          "Hnrnph1",
          "Hnrnpk",
          "Hnrnpm",
          "Hnrnpul1",
          "Hnrpdl",
          "Homer2",
          "Homer3",
          "Hoxa5",
          "Hoxa7",
          "Hoxa9",
          "Hp",
          "Hp1bp3",
          "Hpn",
          "Hprt",
          "Hps3",
          "Hras1",
          "Hs6st1",
          "Hsd11b1",
          "Hsd17b1",
          "Hsd17b10",
          "Hsd17b11",
          "Hsd17b12",
          "Hsp90ab1",
          "Hsp90b1",
          "Hspa14",
          "Hspa2",
          "Hspa4",
          "Hspa4l",
          "Hspa5",
          "Hspa8",
          "Hspbp1",
          "Hspd1",
          "Hspe1",
          "Hsph1",
          "HtrA2",
          "Huwe1",
          "Hyal1",
          "Hyal2",
          "Hyi",
          "Hyou1",
          "I830077J02Rik",
          "ISG12a",
          "Iars",
          "Iars2",
          "Ica1",
          "Icam2",
          "Icam4",
          "Id1",
          "Id2",
          "Idh1",
          "Idh2",
          "Idh3a",
          "Idh3b",
          "Ier3",
          "Ier3ip1",
          "Ier5",
          "Iffo2",
          "Ifi203",
          "Ifi27l2a",
          "Ifi30",
          "Ifih1",
          "Ifitm1",
          "Ifitm2",
          "Ifitm3",
          "Ifnar2",
          "Ifngr1",
          "Ifngr2",
          "Ifrd2",
          "Ift140",
          "Igf1r",
          "Igf2r",
          "Igfbp4",
          "Igsf3",
          "Igsf6",
          "Igtp",
          "Ikbke",
          "Ikzf1",
          "Ikzf2",
          "Il10ra",
          "Il12a",
          "Il15",
          "Il16",
          "Il17ra",
          "Il17rb",
          "Il1r1",
          "Il1rl1",
          "Il21r",
          "Il2rb",
          "Il31ra",
          "Il3ra",
          "Il4ra",
          "Il6ra",
          "Il6st",
          "Immt",
          "Imp3",
          "Imp4",
          "Impa2",
          "Impdh1",
          "Incenp",
          "Inf2",
          "Ing1",
          "Ino80d",
          "Inpp5d",
          "Integrin Alpha-4",
          "Ints8",
          "Ipmk",
          "Ipo4",
          "Ipo5",
          "Iqgap1",
          "Iqgap2",
          "Irak-M",
          "Irf1",
          "Irf2",
          "Irf2bp2",
          "Irf5",
          "Irf7",
          "Irf8",
          "Irf9",
          "Irg1",
          "Irgm1",
          "Isca1",
          "Isca2",
          "Isg15",
          "Isg20",
          "Isg20l2",
          "Isoc1",
          "Isyna1",
          "Itga2b",
          "Itga6",
          "Itgal",
          "Itgam",
          "Itgav",
          "Itgax",
          "Itgb1",
          "Itgb2",
          "Itgb3",
          "Itgb5",
          "Itgb7",
          "Itih5",
          "Itm2a",
          "Itm2b",
          "Itm2c",
          "Itpr1",
          "Itpr3",
          "Itpripl1",
          "Itpripl2",
          "Itsn1",
          "Iws1",
          "Jak1",
          "Jarid1a",
          "Jdp2",
          "Jmjd1c",
          "Jmy",
          "Jnk2",
          "Josd1",
          "Josd2",
          "Kalrn",
          "Kars",
          "Katnal1",
          "Kbtbd11",
          "Kcc1",
          "Kcnab2",
          "Kcng2",
          "Kcnip3",
          "Kcnk12",
          "Kcnk6",
          "Kcnn4",
          "Kcnq5",
          "Kctd1",
          "Kctd12",
          "Kctd14",
          "Kctd17",
          "Kctd20",
          "Kdelc2",
          "Kdelr2",
          "Kdm2a",
          "Kdm3a",
          "Kdm3b",
          "Kdm5b",
          "Kel",
          "Khdrbs1",
          "Khk",
          "Khsrp",
          "Kiaa0028",
          "Kif11",
          "Kif15",
          "Kif17",
          "Kif18b",
          "Kif1b",
          "Kif21b",
          "Kif22",
          "Kif23",
          "Kif2a",
          "Kif3a",
          "Kif4",
          "Kit",
          "Klf1",
          "Klf13",
          "Klf2",
          "Klf3",
          "Klf4",
          "Klf6",
          "Klf9",
          "Klhdc2",
          "Klhdc3",
          "Klhdc8b",
          "Klhl22",
          "Klhl36",
          "Klhl5",
          "Klk8",
          "Klrb1c",
          "Klrb1f",
          "Klrk1",
          "Kpc1",
          "Kpnb1",
          "Krt18",
          "Krtcap2",
          "Kti12",
          "Ktn1",
          "L1cam",
          "L3mbtl3",
          "LPCAT4",
          "Lair1",
          "Lamp1",
          "Lap3",
          "Laptm5",
          "Larp1",
          "Larp1b",
          "Larp7",
          "Lars",
          "Lass5",
          "Lat",
          "Lat2",
          "Lbh",
          "Lbp",
          "Lck",
          "Lcn2",
          "Lcp1",
          "Lcp2",
          "Ldb1",
          "Ldha",
          "Ldhb",
          "Ldlrad3",
          "Lefty1",
          "Leprot",
          "Lfng",
          "Lgals1",
          "Lgals3",
          "Lgals3bp",
          "Lgals9",
          "Lgmn",
          "Lias",
          "Lig1",
          "Lilrb3",
          "Limd1",
          "Limd2",
          "Lims1",
          "Litaf",
          "Lman1",
          "Lman2",
          "Lmcd1",
          "Lmna",
          "Lmnb1",
          "Lmnb2",
          "Lmo1",
          "Lmo2",
          "Lmo4",
          "Lonp1",
          "Lonp2",
          "Lpar2",
          "Lpar6",
          "Lpcat2",
          "Lpcat4",
          "Lpgat1",
          "Lphn1",
          "Lphn2",
          "Lpin1",
          "Lpin2",
          "Lpla2",
          "Lrg1",
          "Lrmp",
          "Lrp1",
          "Lrp4",
          "Lrp5",
          "Lrp8",
          "Lrpprc",
          "Lrrc1",
          "Lrrc14",
          "Lrrc24",
          "Lrrc33",
          "Lrrc58",
          "Lrrc8c",
          "Lrrfip1",
          "Lrrk2",
          "Lrwd1",
          "Lsm14a",
          "Lsm2",
          "Lsm4",
          "Lsp1",
          "Lta4h",
          "Ltb4r1",
          "Ltbr",
          "Luc7l",
          "Luc7l2",
          "Luc7l3",
          "Luzp1",
          "Lxn",
          "Ly6c2",
          "Ly6d",
          "Ly6e",
          "Ly86",
          "Ly9",
          "Lyar",
          "Lyl1",
          "Lysmd2",
          "Lyst",
          "Lyz1",
          "M-rdgB beta",
          "M6prbp1",
          "MRPL33",
          "MRPS11",
          "Macf1",
          "Mad2l1",
          "Maged2",
          "Magoh",
          "Magt1",
          "Malat1",
          "Malt1",
          "Maml3",
          "Man1a",
          "Man1c1",
          "Man2b1",
          "Manf",
          "Map1lc3b",
          "Map2k2",
          "Map3k14",
          "Map3k3",
          "Map3k5",
          "Map4",
          "Map4k3",
          "Map4k4",
          "Mapk14",
          "Mapk6",
          "Mapkapk2",
          "Mapkapk3",
          "Mapre1",
          "Marcksl1",
          "Mars",
          "Marveld1",
          "Mast2",
          "Mast4",
          "Mat2a",
          "Mat2b",
          "Matn2",
          "Mbd2",
          "Mbnl1",
          "Mboat1",
          "Mbp",
          "Mcf2l",
          "Mcm10",
          "Mcm2",
          "Mcm3",
          "Mcm4",
          "Mcm5",
          "Mcm6",
          "Mcm7",
          "Mcph1",
          "Mcpt4",
          "Mcpt8",
          "Mctp1",
          "Mdga1",
          "Mdh1",
          "Mdh2",
          "Mdn1",
          "Me2",
          "Mecr",
          "Med13l",
          "Med20",
          "Med25",
          "Med30",
          "Med7",
          "Mef2c",
          "Mefv",
          "Megf12",
          "Meis1",
          "Memo1",
          "Metap2",
          "Mett10d",
          "Mettl13",
          "Mfap1b",
          "Mfap3",
          "Mfge8",
          "Mfhas1",
          "Mfn1",
          "Mfsd10",
          "Mfsd2b",
          "Mfsd6",
          "Mgam",
          "Mgat4a",
          "Mgat5",
          "Mgl2",
          "Mgll",
          "Mgst1",
          "Mgst2",
          "Mgst3",
          "Mical1",
          "Mical3",
          "Micall2",
          "Mier1",
          "Mier3",
          "Minpp1",
          "Mipol1",
          "Mir142",
          "Mir1903",
          "Mki67",
          "Mki67ip",
          "Mkl1",
          "Mknk2",
          "Mkrn1",
          "Mlec",
          "Mll1",
          "Mll2",
          "Mll3",
          "Mllt3",
          "Mllt6",
          "Mmgt2",
          "Mmp14",
          "Mnda",
          "Mndal",
          "Mns1",
          "Mobkl2a",
          "Mogat2",
          "Mogs",
          "Morf4l2",
          "Mosc2",
          "Mospd3",
          "Mpeg1",
          "Mpl",
          "Mpnd",
          "Mpo",
          "Mpp4",
          "Mpp6",
          "Mras",
          "Mrgpre",
          "Mrp63",
          "Mrpl12",
          "Mrpl15",
          "Mrpl17",
          "Mrpl18",
          "Mrpl20",
          "Mrpl22",
          "Mrpl28",
          "Mrpl3",
          "Mrpl30",
          "Mrpl34",
          "Mrpl35",
          "Mrpl37",
          "Mrpl38",
          "Mrpl42",
          "Mrpl45",
          "Mrpl47",
          "Mrpl52",
          "Mrpl54",
          "Mrpl55",
          "Mrpl9",
          "Mrps22",
          "Mrps24",
          "Mrps26",
          "Mrps28",
          "Mrps36",
          "Mrps5",
          "Mrto4",
          "Mrvi1",
          "Ms4a4b",
          "Ms4a6b",
          "Ms4a6c",
          "Msh6",
          "Msi2",
          "Msn",
          "Mt1",
          "Mt2",
          "Mta1",
          "Mta2",
          "Mta3",
          "Mtch2",
          "Mtdh",
          "Mtfp1",
          "Mtfr1",
          "Mthfd1",
          "Mthfd2",
          "Mtmr14",
          "Mtss1",
          "Mtus1",
          "Mtx2",
          "Muc13",
          "Mutyh",
          "Myadm",
          "Myb",
          "Mybbp1a",
          "Myc",
          "Mycbp2",
          "Mycn",
          "Myct1",
          "Myeov2",
          "Myh10",
          "Myh9",
          "Myl12b",
          "Mylip",
          "Mylk3",
          "Mylpf",
          "Myo10",
          "Myo15b",
          "Myo1d",
          "Myo1f",
          "Myo1g",
          "Myo5b",
          "Myo7a",
          "Myst3",
          "N4bp2",
          "N4bp2l1",
          "N4bp3",
          "NAAA",
          "Naa25",
          "Naa50",
          "Nab1",
          "Naga",
          "Naglu",
          "Nags",
          "Naip1",
          "Naip2",
          "Nanos3",
          "Nap1l4",
          "Naprt1",
          "Napsa",
          "Narf",
          "Nasp",
          "Nat10",
          "Nat15",
          "Nat8l",
          "Nav1",
          "Nav2",
          "Ncam1",
          "Ncapd2",
          "Ncapg2",
          "Ncbp1",
          "Ncf1",
          "Ncf2",
          "Ncf4",
          "Nckap1",
          "Nckap5l",
          "Nckipsd",
          "Ncl",
          "Ncln",
          "Ncoa2",
          "Ncoa3",
          "Ncoa6",
          "Ncor1",
          "Ncs1",
          "Ndrg1",
          "Ndst1",
          "Ndst2",
          "Ndufa10",
          "Ndufa12",
          "Ndufa13",
          "Ndufa7",
          "Ndufb10",
          "Ndufb2",
          "Ndufb5",
          "Ndufb6",
          "Ndufb8",
          "Ndufb9",
          "Ndufc2",
          "Ndufs1",
          "Ndufs2",
          "Ndufs6",
          "Ndufs7",
          "Ndufv1",
          "Ndufv2",
          "Ndufv3",
          "Necap2",
          "Nedd4",
          "Nedd9",
          "Nefh",
          "Neil3",
          "Nek6",
          "Nenf",
          "Net1",
          "Neu1",
          "Neurl3",
          "Nfam1",
          "Nfat5",
          "Nfatc1",
          "Nfatc2",
          "Nfatc3",
          "Nfe2",
          "Nfe2l1",
          "Nfe2l2",
          "Nfia",
          "Nfic",
          "Nfil3",
          "Nfix",
          "Nfkb1",
          "Nfkbia",
          "Nfkbie",
          "Nfs1",
          "Nfya",
          "Ng23",
          "Ngly1",
          "Nhlrc2",
          "Nhsl2",
          "Nin",
          "Ninj1",
          "Ninl",
          "Nipsnap1",
          "Nkg7",
          "Nlgn2",
          "Nlrx1",
          "Nmd3",
          "Nme1",
          "Nme2",
          "Nme4",
          "Nmral1",
          "Noc3l",
          "Noc4l",
          "Nod1",
          "Nol11",
          "Nol7",
          "Nol9",
          "Nolc1",
          "Nop14",
          "Nop2",
          "Nop58",
          "Npc2",
          "Npl",
          "Npm2",
          "Nqo1",
          "Nr0b2",
          "Nr3c1",
          "Nrg2",
          "Nrgn",
          "Nrip1",
          "Nrp2",
          "Nrxn1",
          "Nsf",
          "Nsmce4a",
          "Nsun2",
          "Nt5c2",
          "Ntng2",
          "Nuak2",
          "Nucb1",
          "Nucb2",
          "Nucks1",
          "Nudc",
          "Nudt19",
          "Nudt3",
          "Nudt9",
          "Numa1",
          "Nup133",
          "Nup160",
          "Nup210",
          "Nup85",
          "Nup93",
          "Nupr1",
          "Nusap1",
          "Nxn",
          "Nxt1",
          "Oaf",
          "Oasl1",
          "Oat",
          "Ociad1",
          "Ocrl",
          "Odc1",
          "Ogfrl1",
          "Oip5",
          "Olfm1",
          "Olfr56",
          "Olr1",
          "Opa1",
          "Optn",
          "Orai2",
          "Orc2",
          "Orc3",
          "Orc5",
          "Orc6",
          "Ormdl3",
          "Os9",
          "Osbpl1a",
          "Osbpl3",
          "Osbpl5",
          "Osbpl8",
          "Ostc",
          "Ostf1",
          "Otub2",
          "Otud7b",
          "Oxr1",
          "P2rx1",
          "P2rx7",
          "P2ry1",
          "P2ry2",
          "P4hb",
          "PAPK-A",
          "Pa2g4",
          "Pabpc4",
          "Pabpn1",
          "Pacs1",
          "Pacsin2",
          "Padi4",
          "Paics",
          "Paip1",
          "Paip2",
          "Pak1",
          "Pak1ip1",
          "Palm",
          "Pam",
          "Pank1",
          "Panx1",
          "Papola",
          "Papss2",
          "Paqr7",
          "Paqr9",
          "Pard3b",
          "Park7",
          "Parm1",
          "Parp1",
          "Parp14",
          "Parp3",
          "Parp8",
          "Parvb",
          "Parvg",
          "Pbx1",
          "Pbx4",
          "Pcbp1",
          "Pcbp2",
          "Pccb",
          "Pcf11",
          "Pcgf2",
          "Pck2",
          "Pcm1",
          "Pcmtd2",
          "Pcna",
          "Pcnt",
          "Pcnx",
          "Pcp4l1",
          "Pcyt1a",
          "Pcyt1b",
          "Pdap1",
          "Pdcd11",
          "Pdcd4",
          "Pdcd6ip",
          "Pde2a",
          "Pde4d",
          "Pde5a",
          "Pde6d",
          "Pdgfrb",
          "Pdha1",
          "Pdhb",
          "Pdia2",
          "Pdia3",
          "Pdia4",
          "Pdia5",
          "Pdia6",
          "Pdlim1",
          "Pdlim2",
          "Pdlim7",
          "Pdrg1",
          "Pdxk",
          "Pea15a",
          "Pecam1",
          "Peci",
          "Pef1",
          "Peg13",
          "Peli2",
          "Peo1",
          "Per1",
          "Per3",
          "Pex11a",
          "Pf4",
          "Pfdn1",
          "Pfdn5",
          "Pfkfb3",
          "Pfkfb4",
          "Pfkm",
          "Pfkp",
          "Pgd",
          "Pglyrp1",
          "Pglyrp2",
          "Pgp",
          "Phactr2",
          "Phactr4",
          "Phb2",
          "Phc1",
          "Phf10",
          "Phf13",
          "Phf14",
          "Phf19",
          "Phf21a",
          "Phf3",
          "Phf5a",
          "Phgdh",
          "Phldb3",
          "Phospho1",
          "Phyhip",
          "Picalm",
          "Pigq",
          "Pik3ap1",
          "Pik3cd",
          "Pik3cg",
          "Pik3r2",
          "Pik3r5",
          "Pik3r6",
          "Pim1",
          "Pim2",
          "Pip4k2a",
          "Pip5k1b",
          "Pitpna",
          "Pitpnm2",
          "Pitrm1",
          "Pkhd1l1",
          "Pkib",
          "Pkig",
          "Pklr",
          "Pkm2",
          "Pkn2",
          "Pla2g12a",
          "Pla2g16",
          "Plaur",
          "Plbd1",
          "Plcb2",
          "Plcb3",
          "Plcg1",
          "Plcg2",
          "Plcl2",
          "Pld3",
          "Pld4",
          "Plek",
          "Plekha1",
          "Plekha2",
          "Plekhf1",
          "Plekhg2",
          "Plekhg3",
          "Plekhg5",
          "Plekho1",
          "Plod1",
          "Plod3",
          "Plscr1",
          "Plvap",
          "Plxdc1",
          "Plxnb2",
          "Plxnc1",
          "Plxnd1",
          "Pmepa1",
          "Pmf1",
          "Pml",
          "Pmm1",
          "Pnp",
          "Pnp2",
          "Pnpla2",
          "Pnrc1",
          "Pola2",
          "Poldip2",
          "Pole",
          "Pole3",
          "Polq",
          "Polr1a",
          "Polr1b",
          "Polr1c",
          "Polr1d",
          "Polr2e",
          "Polr2f",
          "Polr2j",
          "Polr3d",
          "Pon2",
          "Pop5",
          "Popdc2",
          "Por",
          "Pou2af1",
          "Pou2f2",
          "Ppa1",
          "Ppap2a",
          "Ppat",
          "Ppfia1",
          "Ppfia4",
          "Ppfibp1",
          "Ppfibp2",
          "Ppic",
          "Ppid",
          "Ppif",
          "Ppm1g",
          "Ppm1h",
          "Ppm1l",
          "Ppm1m",
          "Ppox",
          "Ppp1r12a",
          "Ppp1r13b",
          "Ppp1r14b",
          "Ppp1r15a",
          "Ppp1r15b",
          "Ppp1r3d",
          "Ppp1r9b",
          "Ppp2r1b",
          "Ppp2r4",
          "Ppp3cc",
          "Ppp6r1",
          "Ppp6r2",
          "Pprc1",
          "Pqlc3",
          "Pra1",
          "Prc1",
          "Prdm2",
          "Prdm5",
          "Prdx2",
          "Prdx3",
          "Prdx4",
          "Prdx5",
          "Prdx6",
          "Prelid2",
          "Prg2",
          "Prg3",
          "Prim2",
          "Prkaa1",
          "Prkab1",
          "Prkaca",
          "Prkag1",
          "Prkag2",
          "Prkar2b",
          "Prkca",
          "Prkcb",
          "Prkcd",
          "Prkce",
          "Prkch",
          "Prkcq",
          "Prkcsh",
          "Prkd2",
          "Prmt5",
          "Prnd",
          "Prodh",
          "Prom1",
          "Prorsd1",
          "Prpf19",
          "Prpf3",
          "Prpf4b",
          "Prpf8",
          "Prpsap1",
          "Prr13",
          "Prr5",
          "Prrc2b",
          "Prrg4",
          "Prss16",
          "Prss34",
          "Prss50",
          "Prssl1",
          "Prtn3",
          "Psap",
          "Psat1",
          "Psen2",
          "Psip1",
          "Psma7",
          "Psmb1",
          "Psmb10",
          "Psmb2",
          "Psmb3",
          "Psmb4",
          "Psmb6",
          "Psmb7",
          "Psmb8",
          "Psmb9",
          "Psmc1",
          "Psmc2",
          "Psmc3",
          "Psmd1",
          "Psmd11",
          "Psmd12",
          "Psmd2",
          "Psmd3",
          "Psmd4",
          "Psmd5",
          "Psmd7",
          "Psmd9",
          "Psme1",
          "Psme2",
          "Psme3",
          "Psmf1",
          "Psmg1",
          "Psmg2",
          "Pspc1",
          "Pstpip1",
          "Ptch1",
          "Ptdss2",
          "Ptger2",
          "Ptger3",
          "Ptgir",
          "Ptgr1",
          "Ptgs1",
          "Ptms",
          "Ptp4a2",
          "Ptp4a3",
          "Ptpn1",
          "Ptpn11",
          "Ptpn13",
          "Ptpn14",
          "Ptpn18",
          "Ptpn22",
          "Ptpn6",
          "Ptpn7",
          "Ptpra",
          "Ptprcap",
          "Ptpre",
          "Ptprs",
          "Ptpru",
          "Pttg1ip",
          "Pum1",
          "Pus1",
          "Pus7",
          "Pvr",
          "Pvrl1",
          "Pwp2",
          "Pycard",
          "Pycr2",
          "Pygl",
          "Qars",
          "Qdpr",
          "Rab11fip1",
          "Rab17",
          "Rab18",
          "Rab19",
          "Rab1b",
          "Rab22B",
          "Rab27a",
          "Rab27b",
          "Rab2a",
          "Rab32",
          "Rab35",
          "Rab37",
          "Rab3d",
          "Rab3il1",
          "Rab44",
          "Rab4a",
          "Rabgap1l",
          "Rabgef1",
          "Rac2",
          "Racgap1",
          "Rad21",
          "Rad23a",
          "Rad23b",
          "Rad50",
          "Ralgds",
          "Ralgps2",
          "Ramp1",
          "Ran",
          "Ranbp1",
          "Ranbp10",
          "Ranbp2",
          "Rangap1",
          "Rangrf",
          "Rap1b",
          "Rapgef2",
          "Rapgef3",
          "Rapgef5",
          "Rapgef6",
          "Rara",
          "Rarg",
          "Rasa2",
          "Rasa4",
          "Rasal3",
          "Rasgrp2",
          "Rassf2",
          "Rassf3",
          "Rassf4",
          "Rassf8",
          "Rbbp6",
          "Rbks",
          "Rbm16",
          "Rbm25",
          "Rbm27",
          "Rbm33",
          "Rbm39",
          "Rbm43",
          "Rbm5",
          "Rbm8a",
          "Rbmxrt",
          "Rbp1",
          "Rbpms",
          "Rcc2",
          "Rcl1",
          "Rcn3",
          "Rcor1",
          "Rcor2",
          "Rcsd1",
          "Rdh12",
          "Rdx",
          "Rec8",
          "Reck",
          "Recql4",
          "Reep2",
          "Reep5",
          "Reep6",
          "Rel",
          "Rela",
          "Relb",
          "Renbp",
          "Rest",
          "Rexo2",
          "Rfc2",
          "Rfc4",
          "Rfng",
          "Rftn1",
          "Rfx2",
          "Rgl1",
          "Rgs10",
          "Rgs12",
          "Rgs14",
          "Rgs18",
          "Rgs19",
          "Rgs2",
          "Rhag",
          "Rhbdd2",
          "Rhd",
          "Rhob",
          "Rhog",
          "Rhou",
          "Rin3",
          "Ripk3",
          "Rlf",
          "Rnaseh1",
          "Rnaseh2b",
          "Rnaseh2c",
          "Rnaset2a",
          "Rnf10",
          "Rnf125",
          "Rnf13",
          "Rnf130",
          "Rnf144a",
          "Rnf144b",
          "Rnf150",
          "Rnf180",
          "Rnf187",
          "Rnf213",
          "Rnf216",
          "Rnpep",
          "Rnpepl1",
          "Robld3",
          "Rod1",
          "Rogdi",
          "Rom1",
          "Romo1",
          "Rpa2",
          "Rpia",
          "Rpl13",
          "Rpl13a",
          "Rpl18",
          "Rpl23",
          "Rpl27a",
          "Rpl32",
          "Rpl37a",
          "Rpl4",
          "Rplp2",
          "Rpn1",
          "Rpn2",
          "Rprd1b",
          "Rps10",
          "Rps11",
          "Rps19",
          "Rps20",
          "Rps21",
          "Rps25",
          "Rps27l",
          "Rps3",
          "Rps3a",
          "Rps6ka1",
          "Rps6ka2",
          "Rps6ka5",
          "Rps8",
          "Rrad",
          "Rrbp1",
          "Rreb1",
          "Rrm1",
          "Rrm2",
          "Rrp1b",
          "Rrp9",
          "Rsbn1",
          "Rsl1d1",
          "Rsu1",
          "Rtkn",
          "Rtn4r",
          "Rtn4rl1",
          "Rtp4",
          "Rufy2",
          "Runx1",
          "Runx2",
          "Ruvbl1",
          "Ruvbl2",
          "Ryk",
          "S100a10",
          "S100a4",
          "S100a6",
          "S100a8",
          "S100a9",
          "S1pr1",
          "S1pr2",
          "S1pr3",
          "S1pr4",
          "SMC4",
          "Sae1",
          "Samd1",
          "Samd10",
          "Samd14",
          "Samhd1",
          "Samm50",
          "Samsn1",
          "Sars",
          "Sat1",
          "Satb1",
          "Sbk1",
          "Sbno1",
          "Scaf11",
          "Scamp2",
          "Scarf1",
          "Scd2",
          "Scin",
          "Scly",
          "Scnn1a",
          "Scpep1",
          "Scrn3",
          "Sdad1",
          "Sdc3",
          "Sdf2l1",
          "Sdha",
          "Sdhb",
          "Sdhc",
          "Sdhd",
          "Sdpr",
          "Sdsl",
          "Sec11c",
          "Sec14l2",
          "Sec22c",
          "Sec24d",
          "Sec31a",
          "Sec61a1",
          "Sec61b",
          "Sec63",
          "Secisbp2",
          "Sel1l",
          "Selenbp1",
          "Selk",
          "Sell",
          "Selm",
          "Selp",
          "Selplg",
          "Sema4a",
          "Senp6",
          "Senp7",
          "Sepw1",
          "Sepx1",
          "Serinc5",
          "Serp1",
          "Serpina3f",
          "Serpinb6b",
          "Serpine2",
          "Serpinf1",
          "Sertad1",
          "Sesn1",
          "Sesn3",
          "Sestd1",
          "Setd1a",
          "Setd2",
          "Setd8",
          "Sf3a2",
          "Sf3b1",
          "Sf3b2",
          "Sf3b3",
          "Sfmbt1",
          "Sfpi1",
          "Sfpq",
          "Sfrs18",
          "Sfrs3",
          "Sfrs7",
          "Sfswap",
          "Sfxn1",
          "Sfxn3",
          "Sgcb",
          "Sgk1",
          "Sgms2",
          "Sgpp1",
          "Sh2b2",
          "Sh2d2a",
          "Sh2d3c",
          "Sh2d4a",
          "Sh3bgrl3",
          "Sh3bp5",
          "Sh3glb1",
          "Sh3kbp1",
          "Sh3pxd2b",
          "Sh3tc1",
          "Shank3",
          "Shfm1",
          "Shisa5",
          "Shmt1",
          "Sigirr",
          "Siglec5",
          "Siglecg",
          "Sigmar1",
          "Sik1",
          "Sipa1l1",
          "Sirpa",
          "Sirt2",
          "Sirt7",
          "Siva1",
          "Skil",
          "Skiv2l2",
          "Sla",
          "Slain1",
          "Slbp",
          "Slc12a9",
          "Slc14a1",
          "Slc16a1",
          "Slc16a10",
          "Slc17a9",
          "Slc18a2",
          "Slc19a1",
          "Slc22a23",
          "Slc22a3",
          "Slc24a6",
          "Slc25a1",
          "Slc25a12",
          "Slc25a13",
          "Slc25a21",
          "Slc25a23",
          "Slc25a3",
          "Slc25a38",
          "Slc25a39",
          "Slc25a4",
          "Slc25a42",
          "Slc25a44",
          "Slc25a5",
          "Slc26a1",
          "Slc28a2",
          "Slc29a1",
          "Slc2a1",
          "Slc2a6",
          "Slc30a7",
          "Slc31a2",
          "Slc35b2",
          "Slc35b4",
          "Slc35c2",
          "Slc35e2",
          "Slc35e4",
          "Slc36a1",
          "Slc38a1",
          "Slc38a2",
          "Slc38a5",
          "Slc39a6",
          "Slc39a8",
          "Slc3a2",
          "Slc41a3",
          "Slc43a1",
          "Slc43a3",
          "Slc44a2",
          "Slc45a3",
          "Slc45a4",
          "Slc46a3",
          "Slc4a8",
          "Slc6a13",
          "Slc7a1",
          "Slc7a4",
          "Slc7a8",
          "Slc9a9",
          "Slco3a1",
          "Slco4a1",
          "Slfn2",
          "Slfn8",
          "Slfn9",
          "Slk",
          "Slmap",
          "Slmo2",
          "Slpi",
          "Smad1",
          "Smap1",
          "Smap2",
          "Smarca4",
          "Smarca5",
          "Smarcc1",
          "Smarcc2",
          "Smc1a",
          "Smc2",
          "Smc3",
          "Smchd1",
          "Smg1",
          "Smg6",
          "Smpd4",
          "Smtn",
          "Smyd2",
          "Smyd3",
          "Smyd5",
          "Snd1",
          "Snord49b",
          "Snrnp200",
          "Snrnp40",
          "Snrpa1",
          "Snrpb",
          "Snrpd1",
          "Snrpd2",
          "Snrpf",
          "Sntb2",
          "Snx1",
          "Snx10",
          "Snx18",
          "Snx20",
          "Snx3",
          "Snx30",
          "Snx5",
          "Snx9",
          "Soat1",
          "Soat2",
          "Socs1",
          "Sod1",
          "Sod2",
          "Son",
          "Sorbs1",
          "Sorbs3",
          "Sord",
          "Sorl1",
          "Sort1",
          "Sox12",
          "Sox13",
          "Sox4",
          "Sox6",
          "Sp100",
          "Sp110",
          "Spag5",
          "Spata13",
          "Spata24",
          "Spata6",
          "Spc24",
          "Spcs2",
          "Spcs3",
          "Specc1l",
          "Sphk1",
          "Spin1",
          "Spire1",
          "Spire2",
          "Spn",
          "Spna1",
          "Spna2",
          "Spnb1",
          "Spnb2",
          "Spns2",
          "Spns3",
          "Spon2",
          "Spop",
          "Spr",
          "Sqrdl",
          "Sqstm1",
          "Sra1",
          "Srcap",
          "Srgap2",
          "Srgap3",
          "Srgn",
          "Sri",
          "Srm",
          "Srp19",
          "Srp68",
          "Srp72",
          "Srp9",
          "Srpk2",
          "Srprb",
          "Srrm1",
          "Srrm2",
          "Srrt",
          "Srsf1",
          "Srsf2",
          "Srsf6",
          "Ssb",
          "Ssbp3",
          "Ssh1",
          "Ssh3",
          "Ssna1",
          "Ssr1",
          "Ssr2",
          "Ssr4",
          "Ssrp1",
          "Ssx2ip",
          "St14",
          "St3gal5",
          "St8sia4",
          "Stard10",
          "Stard5",
          "Stat1",
          "Stat3",
          "Stat4",
          "Stat5a",
          "Stat5b",
          "Stau2",
          "Steap3",
          "Stk10",
          "Stk38",
          "Stom",
          "Ston2",
          "Stra13",
          "Strap",
          "Strbp",
          "Stt3b",
          "Stx2",
          "Stx3",
          "Stxbp1",
          "Stxbp3a",
          "Stxbp5",
          "Sun2",
          "Supt16h",
          "Susd3",
          "Svip",
          "Syce2",
          "Syf2",
          "Syk",
          "Syne1",
          "Syne2",
          "Syngr1",
          "Synj2",
          "Sypl",
          "Sytl1",
          "Sytl4",
          "Tacc1",
          "Tacc2",
          "Tacstd2",
          "Taf1",
          "Taf12",
          "Taf9",
          "Tagln2",
          "Tal1",
          "Taldo1",
          "Taok3",
          "Tap1",
          "Tapbpl",
          "Tapt1",
          "Tars2",
          "Tarsl2",
          "Tax1bp1",
          "Tbc1d16",
          "Tbc1d17",
          "Tbc1d2",
          "Tbc1d22b",
          "Tbc1d4",
          "Tbc1d5",
          "Tbc1d9b",
          "Tbcb",
          "Tbccd1",
          "Tbkbp1",
          "Tbl1x",
          "Tbl1xr1",
          "Tbrg1",
          "Tbrg4",
          "Tbxa2r",
          "Tbxas1",
          "Tcb",
          "Tceb3",
          "Tcerg1",
          "Tcf12",
          "Tcf19",
          "Tcf20",
          "Tcf25",
          "Tcf3",
          "Tcf7",
          "Tcfe3",
          "Tcfec",
          "Tcirg1",
          "Tcn2",
          "Tcp11l2",
          "Tec",
          "Tecr",
          "Tep1",
          "Tet1",
          "Tet2",
          "Tfam",
          "Tfdp2",
          "Tfg",
          "Tfrc",
          "Tgfb1",
          "Tgfbi",
          "Tgfbr2",
          "Tgfbr3",
          "Tgm2",
          "Thap3",
          "Thoc4",
          "Thoc7",
          "Thop1",
          "Thra",
          "Thrap3",
          "Thumpd1",
          "Thy1",
          "Tiam1",
          "Ticam2",
          "Tie1",
          "Tifab",
          "Timeless",
          "Timm10",
          "Timp2",
          "Tinagl1",
          "Tirap",
          "Tjp2",
          "Tjp3",
          "Tk1",
          "Tkt",
          "Tle6",
          "Tlk1",
          "Tlr2",
          "Tm6sf1",
          "Tm7sf3",
          "Tm9sf3",
          "Tmbim6",
          "Tmc6",
          "Tmc8",
          "Tmcc2",
          "Tmed10",
          "Tmed3",
          "Tmed9",
          "Tmem109",
          "Tmem119",
          "Tmem131",
          "Tmem141",
          "Tmem147",
          "Tmem14c",
          "Tmem159",
          "Tmem160",
          "Tmem165",
          "Tmem173",
          "Tmem176a",
          "Tmem176b",
          "Tmem179b",
          "Tmem180",
          "Tmem184b",
          "Tmem2",
          "Tmem20",
          "Tmem205",
          "Tmem208",
          "Tmem229b",
          "Tmem29",
          "Tmem38b",
          "Tmem41a",
          "Tmem50a",
          "Tmem50b",
          "Tmem53",
          "Tmem56",
          "Tmem59",
          "Tmem70",
          "Tmem8",
          "Tmem9",
          "Tmem97",
          "Tmpo",
          "Tmsb10",
          "Tmx4",
          "Tnfaip2",
          "Tnfaip8",
          "Tnfaip8l2",
          "Tnfrsf13b",
          "Tnfrsf18",
          "Tnfrsf1a",
          "Tnfrsf1b",
          "Tnfrsf21",
          "Tnfrsf26",
          "Tnfsf14",
          "Tnfsf9",
          "Tnik",
          "Tnip1",
          "Tnk2",
          "Tnks1bp1",
          "Tnks2",
          "Tnni2",
          "Tnrc18",
          "Tnrc6a",
          "Tnrc6b",
          "Tns1",
          "Tns3",
          "Tns4",
          "Tom40",
          "Tomm22",
          "Tomm5",
          "Tomm6",
          "Tomm70a",
          "Tonsl",
          "Top2a",
          "Top2b",
          "Topbp1",
          "Tor1a",
          "Tor3a",
          "Tpcn1",
          "Tpd52",
          "Tpd52l2",
          "Tpm1",
          "Tpm2",
          "Tpm3",
          "Tpm4",
          "Tpp1",
          "Tpr",
          "Tprgl",
          "Tprkb",
          "Tpsb2",
          "Tpx2",
          "Traf3ip2",
          "Traf3ip3",
          "Traf4",
          "Trafd1",
          "Trak2",
          "Tram1",
          "Trappc5",
          "Trem1",
          "Trem3",
          "Treml1",
          "Treml2",
          "Trerf1",
          "Trf",
          "Trfr2",
          "Trib2",
          "Trim10",
          "Trim2",
          "Trim24",
          "Trim25",
          "Trim26",
          "Trim28",
          "Trim45",
          "Trim47",
          "Trim8",
          "Trip10",
          "Trip12",
          "Trip6",
          "Trmt1",
          "Trmt61a",
          "Trp53",
          "Trp53i11",
          "Trp53i13",
          "Trps1",
          "Trpv2",
          "Tsc22d4",
          "Tsen34",
          "Tsn",
          "Tsnax",
          "Tspan13",
          "Tspan2",
          "Tspan31",
          "Tspan32",
          "Tspan33",
          "Tspan5",
          "Tspo",
          "Tspo2",
          "Tspyl3",
          "Ttc15",
          "Ttc21b",
          "Ttc27",
          "Ttc3",
          "Ttc39c",
          "Ttll12",
          "Ttll9",
          "Ttyh2",
          "Tuba1a",
          "Tuba1b",
          "Tuba1c",
          "Tuba8",
          "Tubb2a",
          "Tubb5",
          "Tubb6",
          "Twf2",
          "Txn1",
          "Txn2",
          "Txndc16",
          "Txndc5",
          "Txnip",
          "Txnl1",
          "Txnl4a",
          "Txnrd1",
          "Txnrd2",
          "Tyms",
          "Tyrobp",
          "Uap1",
          "Uba1",
          "Uba2",
          "Ubac1",
          "Ubap2",
          "Ubash3b",
          "Ubb",
          "Ube2c",
          "Ube2e3",
          "Ube2l6",
          "Ube2q1",
          "Ube2r2",
          "Ublcp1",
          "Ubqln1",
          "Ubr5",
          "Ubr7",
          "Ubtd1",
          "Ubtf",
          "Ubxn2a",
          "Uchl1",
          "Uck2",
          "Ucp2",
          "Ugcg",
          "Ugcgl1",
          "Ugdh",
          "Ugt1a1",
          "Uhrf1",
          "Uhrf1bp1",
          "Uhrf1bp1l",
          "Ulk3",
          "Unc119",
          "Unc119b",
          "Unc93b1",
          "Ung",
          "Uqcr",
          "Uqcr10",
          "Uqcrc1",
          "Uqcrc2",
          "Uqcrfs1",
          "Uqcrq",
          "Urod",
          "Uros",
          "Use1",
          "Usp1",
          "Usp10",
          "Usp15",
          "Usp2",
          "Usp22",
          "Usp24",
          "Usp25",
          "Usp32",
          "Usp33",
          "Usp34",
          "Usp36",
          "Usp39",
          "Usp4",
          "Usp40",
          "Usp45",
          "Usp48",
          "Usp6nl",
          "Usp9x",
          "Utp14a",
          "Utp20",
          "Utrn",
          "Vamp2",
          "Vamp5",
          "Vamp8",
          "Vangl1",
          "Vars",
          "Vasp",
          "Vat1",
          "Vav1",
          "Vav3",
          "Vcam1",
          "Vcl",
          "Vdac1",
          "Vdr",
          "Vegfa",
          "Vegfb",
          "Vgll4",
          "Vill",
          "Vim",
          "Vopp1",
          "Vprbp",
          "Vps13c",
          "Vps28",
          "Vps35",
          "Vps53",
          "Vps72",
          "Vwa5a",
          "Vwf",
          "Wapal",
          "Was",
          "Wasf2",
          "Wbp2",
          "Wbp5",
          "Wbscr27",
          "Wdfy4",
          "Wdhd1",
          "Wdr1",
          "Wdr18",
          "Wdr4",
          "Wdr59",
          "Wdr60",
          "Wdr61",
          "Wdr65",
          "Wdr73",
          "Wdr74",
          "Wdr8",
          "Wdr81",
          "Wdr92",
          "Wdsub1",
          "Whsc1",
          "Whsc1l1",
          "Wipf1",
          "Wipi2",
          "Wls",
          "Wnk1",
          "Wrn",
          "Wsb1",
          "Xbp1",
          "Xcl1",
          "Xdh",
          "Xk",
          "Xkr8",
          "Xpc",
          "Xpnpep1",
          "Xrcc5",
          "Xrcc6",
          "Xrn2",
          "Ybx1",
          "Ydjc",
          "Ylpm1",
          "Ypel3",
          "Ypel5",
          "Ythdc1",
          "Ywhae",
          "Ywhaq",
          "Ywhaz",
          "Zbed3",
          "Zbtb1",
          "Zbtb10",
          "Zbtb16",
          "Zbtb20",
          "Zbtb38",
          "Zbtb4",
          "Zbtb46",
          "Zbtb7a",
          "Zc3h18",
          "Zc3h6",
          "Zc3hav1",
          "Zcchc11",
          "Zcchc6",
          "Zdhhc14",
          "Zdhhc20",
          "Zdhhc8",
          "Zdhhc9",
          "Zeb1",
          "Zfand2b",
          "Zfand3",
          "Zfhx2",
          "Zfhx3",
          "Zfml",
          "Zfp106",
          "Zfp207",
          "Zfp217",
          "Zfp238",
          "Zfp259",
          "Zfp326",
          "Zfp36",
          "Zfp36l2",
          "Zfp467",
          "Zfp507",
          "Zfp516",
          "Zfp579",
          "Zfp608",
          "Zfp637",
          "Zfp644",
          "Zfp706",
          "Zfp783",
          "Zfp800",
          "Zfp831",
          "Zfp90",
          "Zfp945",
          "Zfpm1",
          "Zg16",
          "Zkscan1",
          "Zmat3",
          "Zmiz1",
          "Zmynd11",
          "Zmynd8",
          "Znhit1",
          "Zswim4",
          "Zwint",
          "Zyx",
          "Zzef1",
          "calp80",
          "hnRNP A2/B1",
          "mFLJ00022",
          "mKIAA0007",
          "mKIAA0569",
          "mKIAA0621",
          "mKIAA1027",
          "mKIAA1575",
          "mKIAA1994",
          "rp9",
          "slc43a2"
         ],
         "legendgroup": "",
         "marker": {
          "color": "#636efa",
          "symbol": "circle"
         },
         "mode": "markers",
         "name": "",
         "showlegend": false,
         "type": "scattergl",
         "x": {
          "bdata": "QxQhvBwRqbyAcJu8AFBuuaDBjDxAtTI8AKOLuvRBirtQUkI7xHr+u71ywLwAVvE6NxSFvJVhgTxQgfi73XGPO+qhGb3yDDU7E12hvPpU3TuVzdK7JIIUO9hjuDs0YSQ8Fi1Su4YdzjwfZJi86nntO6XSCLxx8P87iIioPEz8Q71j/zu8UDnEOlImJDzIXiA8fPLIusFUMbxhmNO8SvCUvAfM17x0ryu87pBcvCuRn7kr0Y+8E9wMvCmVNDynZLi8T9qZu8gahLtu2Sa8WsUEvb2Pt7s94Za8DTa6vGdmXrrbky279XYauw9l+7qKQ568KJtfu44MM7onkLa7QnqxvK+vfrwoziO8mBY/PHOtp7zw5ZC8SjqHPMryEzxRXha8pB95vGvXYzyTeZU7xO6KvEU2szyasBq9jAq8vJCkobp/MAE94gMRPE0jgrzbLi08mUA1u8Wn9TtIvJW8G4vKPAR/oDy6Gxw8J4EYPBzT+zs8Ruo85mK4vMB7Cj12vAQ7TtMAPSB3RzvlhKa7GzZ+O71+cbtbylU8LqZ8OwOcFrw1AdW7j1qMvLqDUTy3kpi7aNqmO9HZwzuZAec8tgsXPNbkM7ztHoI8fFaeuwkuFDy+8Ka72ZedPJTn9by6ySq70b52PADiY7ryAUo8a39ZuUEDYjvZdxM87Wghu/cXDzxbOwW8AxeSPKmnrLwBR468jB0nvRQTQDzAfS+74RFpPL8h8juhIKo7GVsSPIyWhTwU0gU9NqxQPPfUj7wYMoG8niqlvBIwyLwRFYi76UynPOYDo7v4Ffq7ouunPD8WoLpn/J88zoBzvH6qiLwv3Oa892U5ujUZHrtVb0i8iJIMvA71Hby+F4e74+j/O1UGHr1Q4EK7Oj6/u8ZtmDssjvM7E8wePPrB6rlrPbq8WMVPPLNx0rzQxZK8x3kQu/CGszx8YKm8x2DLPAVF/zkqNyY8LcCMu3jdoLwLvy88KgL7O97vE73cC548Z9jevFq2/zx68oc8SWjVuzMyljyO8e+8HGEIveVQ1bsrE2a8D6+0u2UigjzCCSq8XoyWO6GfArz+7YY8lx0ZvdKttDykiho9ZeuHu9U0mrwiNKs8LbOpvG8nqrulI167E3ugvPaH7rvGK787d6/APN3tCToNBjU8tZiLPMRrCLuxD2U9eeHRvJz3qTyOfaM82f2xvHsFPrxE27e7UI6FO/m3E7y05BO88f+eu35LLbtn9wq9E4zTvJRq1LrUAKE8dDkpO/ft/LyG0s08Y7btOw7fuDuEjPm7NvxlPFOn6rv/sii8l8CgPEHTqLvP5u06EbbJOxCvyDws2S29hfoMPXzU5jth2I48gp+bvJqxeTv/jGq8JAWGPFzkozyuFFc8VuWDvGawgDzpXww8vcsRPQ5J7bssX807vt+mvNnu2LwnaAK9tLcZvCZkz7sVVXi8lFjXvH63zryW0sA8Qn0eubmuD70q2yu8iGi+vAFz4rxrDoK83ZMDvJ33QLvZoAO7WLVzu3l4BD37Gzm5ZRA3PJ04UDxCPEs8Z38WPQjryDxNauo6hXEcPGUuCbwEF8q8yHzqOxveWjyR/u+8ADr5O23WkTxtHK47zpuAO6DlwrxSRgm9GfmmO1lKwLvztlY7/xkhPcKZUbxzGd679VwWvUeIzLzpxHG8K2OGvH3omzzZXTC82fCyucrXR7w4lzQ8w26mugkoCDy7kA28XD4xvEp25btcIY+8qhE9PNUliDyewAU8SM6+O/rewDuTELQ78LWlPJw3Hj2syHm8RSWNvCdEDTwz1F+8oCwXPLNnnTpLAhG8BbSsOzKWHbxTg2U8qAgvvCbDGD0fnic7o+G8O2mdgzwZckG8AYNMPKyN0bxdOOq5ruMjOx0lQrw4nPa86r4+PI9hQTwx8NI8zZ6Ku4n32juYtAW9J9rVPGnzgTwn0Su8+ifXvDALLDwKJCS9ZhKuud0lVLs39NS5VeqSu66bPbxjCqk8aIC0u06xTzzicwG9ClGNu9/kk7zURdC6Niqnuhskajzvb0I8M9JQu5DDozsr+H68fkkmPE3/nzzxVCO9ymk0PF3AHzwt/uW6XvqRPHg/Z7yZ+BY7eG6pvJQ2Prwtgne8xKZNvNcqwbzP9xU7+ECIO/e5DbzegnE7tcSVvBhGYjys7j68inKku5MqzTpobde7U0q+vFgZijzPhfs8pFesO8cNJjyWasS8AAhBvIuk2zwOy6o7XuRCPMNUnDz+fB28fFX+u6Ll2DmMzB68UwaBu5f/kzwn4x09u2cLPZR4kjwzFuQ80FufvOoiBjtuCCY9JFk3vHnXoTq9ZDK8BII6PPBOsLydb1g7x0DFu+GmsLur3AQ9XimmPKdl/Tu6wB08DAJFPHZzqDtGYZ28F+3EvIwpIDvlmbG7sFLcPPxIITyUhoe56v8EPI4dn7qZq6A7X6eCPI9ETTxuXqS7T6rjOVaKqrscix+8Qp62vATFijqytUe7zRxEvMtUZTw7Jmw6HXNCPPav9bwajBC6K0SavJJSxrwMYCu9AvoePIg8dzw1N0Q8YcWHPDH7Q7t3LzQ8DMfLO/wXFTu2wtK8huVuvRyTZjxKRp87ZLKkPIl1qzsxkPm8qcvXPOntzbzaLti7xzTCPFXJuzt7ER88X7y+vHiE9zr7tHq8j9LUuyyMurzAXve75RvavCmUkbwCwDM8hD6oPC2Dmjygu068NXv2OwEqMLw8BRe8hcgjvBCNuDxyYHS8tn+5vMOXGTxuCYo7yo7lPORPPry+wBg7yb7eOiSGbTxpSdQ8sm4uO3rrwbx7QFs8Bjw0u5qww7j11jO7GwoEvQB+QLs+c+y8CT9Wu6mzPDsbnyc8idwGPb5BMLxc1HE7EYU1PMBclboldzs8Z5glvOZkmbxsUkG7zHNyO4DcCL3e+Vg7ZYvGu7PSVLscuJE8DUEBvF47PLxG5Ae7ugMWvYuCYL3B2488kbmxPIKuSbtlpqQ8NsyjvCnX/jzBogM9FjgsvVVENbozkXe7qsPpu6sLCTxNzxy8OYBWu9Plb7l5w0a8A/X4upAZ6ThPL2684t+Vu/Z+DDuU7Yq6t3/WO/VVxLs7JgU8dhDgPJhmSjxeJ++8TM8OvS6NaLsV2mM8MhnCPEUofbzAOg69WdacvHA03rmLtQi68/pXO4G0zDw8jda8rZUMvKXfJjy0xRs9ckv1vLkcYjwnk7W7j3e2vPdePb1yXN26BJrLOgGxYryakao7LqixPKgESTzL5O47b+vhukQAVzxStcm8rEfFu+TRX7p4LGw791eUO12/TDxnGic8aYUvPFK/5jzsLcg7NM1qPOXUprzW7kS8M1O0vPohjjuHdi87nhp2uyMoUby74sg8i39fvFlfvrxfrRM7tnslPYg7crxg9CM8pNwLvIOZD7yVMZW8XtFDPDXMgDzRewc7OaIyvFjqubxOz+k8bekCvIlPM7x0s4O7qa0PvD6Cm7wltNs71lZmvGxXAbvn9oS8lf6iuyl4LLymVwA9+1SJvN/a2jmXHNc8Ha7NvJp/Rbwb8Z2827YDPW8OzzxpxzG8v5onvXEeCr1cLdQ89oIHO12LqDuTNqe8H9a0OKFiMLy3osm5NOeau5je+DsWtzi9N4KdPBHOMLwW8IW7YfrsuSrmg7z9WMY7PuAOPUs/Jrw81RM7Qwd1vP/hgLxtAnK83mV0vB1WCLyg0Wg7rCv4u5txB7uJznO8v60EvIlDUzsOPg882osnvUQeBbxWmbU8JPZzPB8ABzwdLqO8ixPTu0Ca7zt+h788lhbCPIm39rxwf6m7AmLTPKbZ6bqsH/88EQKgu0houjvXTKg7hnk+vENvFL06x7o8Sa3SPNYWejzi58k8tmGMunXpQry5DS08bOu0PLwyujxQ7xG92BQPvJyJaTxsK5O6BiRdO/1y4bsZm/U7ymCEvIclijytlt+8D2sgO73qhLviVIm8ZcFLPMUmbjzqKrI8y1cgO10R6zlaIFo8g0sHvFwl/ztoO1Q6NQafvAFNG7xBssI87sm2u5q3IjybyAq9RSVaO6o5STw87fg75gd7vCD70rwfo4s8PoyovL87gTyht8Y8DK4GvVLiqrtObbC8ov3PvNuYdbtnooa7BNBsPEhP+Lympai8SJWZuv8757sq94m8PHeTPNmDSr3zWvs7OVdJvG3/rDzihnK8pQioPAWNiDuipck7tkUQvYjgAb1OeRi8JEGMPPf/hLvs4Qw98x3qPCuwwDzm9MS8P081PJajQ7x4Num8AA7sO1GD1boQpSM87/m8Ol5vGztamkM73hp/PL4o37wlgc28XqBOO2WxcroW/SE8Z3tevLoi0Tsca8Q8CUVxvO+Zu7vpmAw9q6nZO3njs7z0ApY8IRQJu7uO6TwH7se7ci1bPLPfb7tW9AG6Mmh0PApQNrztsGe8oxe9PBsGI7xstxC6NPFMPBs/pbwMMAU8L7HwPKQ6mjug1YK6uT2SPOpUB7tF3OO7C80QvB37fboGxjI85BWTOioWV70Nzx48ZQhcPB5kOLsoPPU7f1e+OziPxrs+oTs7Hva8vNhWL7yJ94m8frQuvOL/t7sCDpK5sVV3vJxU6TtLTeO8wQjxu3lPFbtHA8+7mxoVPLhJGDx4u6q8hUmrvOYrl7wHZe+7nksvvAkQdrs7Lx87ENYrOz6EwzlvpEk8soy/u0c2Nzxv0dS5+DkQvFZtpDy7fC28eMTmu+nB/LvsOFu84FvFvFNOErztuwk8heodvKXXeDxF6US8Ib4XPKpw4bv5Mr47ApllOjDsBrpP4eg7axZQvD0UYbwcB507cjthPDSOnzs54k26HM+gukUmzjvHaLS8zh9yPGhuojx8irG8wyJRPHg3xLwrLAg6UoVgvDXpEr3TaoC7DW7DO9j1/bvJM/a8cHfZPDsZi7xq1VK84i/jOpK9xryVILe8y9YtuiZOKrmasKM82qg0u6xb8jvLXVM8yw88vBjLP7yQb4k848SYPIVx1bsWc4a8DaJIu+6aNLyIS0q6AbxxOxNUh7ux0nS8++l2PPJHhjxzODE8rfCUPJcforsoFU28n6nHOvxZ3TynMEm8Cd+vu24xqjvzAm68Ds6dPLl2hTsNmci7wBwhvDviqDlanqc8gVCnPOpLlbwv2Lw7VJhzvM4WPj3VRuO8XkiVvMw8rrzsguY7AMsGvBOR1DwOjRU8zLAgvLmrPrydRca8Nhevu4/XoDsV0268gKuDPKG84Lyc1Jm7ec2bvNaiCL3gmNA8odXXO5Q0iDyWLsg8Kw2WO6aSkTxhvlI8k1cDPNcDNzxCyZ88sY9LvL1D2Lu8vAs8b9CgvONYRb2oeKy65vj7O5g58joqge+7dPJ5vMF8n7zzOli8IJt9PC7Tjby6EZ28vd+jO5mA2Lvi4XA7pRa6vKYT7rzcRxs8po26vJahPrzQlJy8Bo1FO3zQa7w7Z/K7v2p9vDAGC72x3da71bgEvKhJ8byD/Sa7a2qCu2CngLxcaGq8G9ymvPm2oLzm7M48mWFqvFt2Obs0BJ68J4CCvNDTI7s7roG8FE2+u88bnbxPadg8bBKlPEpVf7xWoh09NpxMvRmkczx3g7W7fcKNPOgiJjy1xk09Et8yvNusi7vOxtE8SeJdvFNCmzxd2947xas0vMgnvTvlNwm8IUmaPF1rLjuXjsC8/WcXvNSClLyQ/yW941G2vP7F/rwLGXS8oZevO2VVJjyvACy8m1Uuu3piEb1Ivk48Qi2PPJ0sMz1p79U8pqgGvAR6U7wNjKM70dTEu9DQPztAfIy8UlaMvOpYA7zgrDu8DRzqu3Jp6Tx0Pqc70vesO2aOYDzV5yW814uGvGGjbTxrjTO8oKxwO+42hLxaVAm8K9OdPHxWJLrAtwY8kww5PStoXbw7A7k8iWMxvFqniDyH5hi8/Gxiu8nsoLr9MGW7LlSpu/FDVzyp7R275wDgPGkGUTsHdAu7MEZhO5ezGjxtqNm6a+yAu4q537yLDzG9iv+6vASoLDocEbe8X8rovFHS4zuKhJ07Wj06vMQJSLxE3TC8iJGmvMwb67u9mUo8QmPCu8vBA7yHT1E6CroiPZzxDr1jLEe859vFvGyNBbxsfK88T7VWPHsVBTzuR5u7h/M6O0CyiLvOmSi8/Dbquvzk4jxZyE26hdVivBYVuzzgKM47dfciPJ5DIbt9Ogi9kFneupfcpDqGOMw7DLlVvBbC4zzOJRU991Y3PZB6KD3Be3C8lGhLvBJ11rt687A821Q6vPQ0OLqDl4u83XU7PQ8rOTtTZgQ9PCqgO8DMsjwV6cy7joEkPbqzLbwOhZS7tfGhO7UnTjyI3Dk7QwAmPWj2Gbx1tCq86ENLurd1uTxHIVc875TSPCN0urt4bLM8X/R0vEpSXzywUDi63tDnPAxLrzwPEh+8vXYJPGo4sjzIjHe6CGuKO4Q9DLxR1Jc4+9IKPd83Ejxz8i47QoOjulkRrbwvU0U7d8nvvJ/6RjwgCAK9EHA8vShHQ7y8RFo8WCVfO4G+BrvM3zO87m0DvFQqPz3kIk683LmIOrfyp7ztrRo82L7GPN67zDyGGrY8uj1gvJEEMr0MKji8WrcGvceBRjt8CdY7dInLO/mBkztutFc7YswXPLTvFLw1P948t2J4vOfl8Ds5gYS7JYSPPDrdPLxmquM6Bqy7u5H4UryOvji8zJt2PAHEEL3/IU48eZGPvITeHrwj1R88gNIYvb6TFLoF0/Q8j3LKPHHXErzQ4J+7QUXKvGCl2zwX1ku7Y0yOPOlfyDvBE8+7a7kCPMu97TvWnaG8HUzVPMgS0Lzx1du8mjcrO3tsfrwvsIS8PCsEPSkMnDwchDg8CEpGvLpEa7z4s607gcYWvMnBirzD/bW77r76O8eQ6DyYgxq8eWCCvDFyrLshwhk7kmWnuo8bFb1IdSK9ZElFvCXumjznQ0+7O8hFPdXrkjy7gQo71JDdu+BFszwLdse8ElfVPEeXfzyc3Gq7Q1i/u2mAJDz/O+i8Rm7kO0eRbDun+hA9pX9/PJmTLTyuBA69gVPdO2FM9bqIovy8PfCqO3gOprvYCog8iCJGPEqx0jyJPLK7gUWdvOkKr7y8Rp27JsLauwj3rjzdNMa8nyFrPKl/GrwLdJW6VZUpuhB0fryXyko7xdYtPVgC4rzfnZY7SqzzvADkqDtqd+m7Z9DUOutlBLstf708dFJZuxLNhTzhseW7uJKJO+OKyzsgFNE8cooFuhzvjrsiQg87V3oLOyi84LwMLag8nYibvB6uKjzJ3TG8zJeLOmtoNrq6gZg716rCuz94EDzlAjo91sJcPEXU/bvop6o8BSWmvAzMv7u3j6E8+w7LvI4SpLyGNj47Do38Ozi0iTyApcC8Fw2DPECZlDxTHBa8F1qEPG2HUzyvCfQ8mQYaOKJVWrqP07c8oBPYu0mYLbqOeos8qD1GO5vYm7wTf5o8CDsOvPMrCDoCg+48D0csPCZdPDtSOwY8zu9mvF9yOjysp7k8kc2FvB6vrbulHQk8NjoSvFKh2rxYSSA8jqtBPYo7MDzTAFs8JtQ1PBisIDzEe7g8Yng4OY6HRjwcqDK5JlxgvMRhATvc2/a8rHqavID337tyc0w7pUwBPF6B+DwJICG6Vuq0PG0HubwR5SO83IPPvJw+tLxV+xy80e8rvKReJrzI726746/mPEMDpLy0gse88viAPKINzTyFKWI8oRqYPJxprzwOCCc87DUju9oAhjwdn727XTxmPOacTrwWkUG8mX1Xu3qMJby3JRa86zHWPKHLDT3rxM88M87BPOX83Lyfu5m8FC/gu1X187qJecS8g8vNPC2v5DsWUZa6tq5pOyhiHrsdYKm7t1AevC8AZbym8b685kCauiMWMDzDpjK8A0UGu2U7IbyDvVW8MjUqu7Y57jlDZKm5Wg6VPOjijrxvKxM9IxtlvJBGC708m4K8kCdYPFF1szq3b3m8vl4zPJA18TuLc6i7lDh+PPqmBjs5mT88GwMXPS54QrxVA5E8dwWuvC68Kb1F+qU85BqLvLuCv7x0sH+8nCmivAIS2jxBN0m87CUcPKUe9Ly+jxi8u+AOvCQMIT22M+k7RHV2vGylPbyRICa7tiSXO5ULhTzTkma8s+y2PB4jobtTScM7H1CQO3exp7mUyAY89EX7uyZFE7vmEr660584PPtwMjw8Df+75+CBvKyUH7tsqOE7QBlzPMwMnTrrb/m6eZNPPMc8dLtL3M28Yzz8OpbnLLrqjPK8B3hIPUGvBL2vUxo9IAvgu8bIuzy1yR48fC84upjyr7vxi726rQJgPKBnkDwP2C+6GQgtPExGTDwqqJ+8fAJzPNikWTrJv3e88ODBPCcB/zxqKvA8fGViPBjt6TstN9K8yHiiO1XhiTyCMDs8eFh7vLZwDTzZftg6P+SYvPsDubxsido7ZBC5vCo28zuqFyC8IhCCPJSRFTxd5Y081WCLPFhpE7nfQkm8U8EBPdnhEbxfzQS9LSbZPK/BjbtCADs8uSsXvHtvlbx08Mi8ILmUvNasO71u8xy86fIVuxDRvbzbS/A7LLaePEmEZLtYxuA8Hcs1PGx7rzzq7EU8ap+YOmcCuLumxJU8sToGvMIew7w1odq7RK+pPIB3hjz6QsE8dWZdO9u2tTs1oqk8tIUuPI3Bhzz3KCS8BPNGvFSSADyyDUC85A4SvW6BXTuZERS8fKT2Ow4BETdi7m26j8zvvFlmg7tJHzE6aLzpPBdGAL0LcQE9uX/WPAcQSDzd/AK9gWqTPG+3ITt+pd888mZRvCJIuDwst1A6vquCu5cAHD3XvWa8/dG7O3VKCjw4cbq7rLOSvEuK1rySe/S81YjzvCA/Gzuf6uq7IteYPPSJBj3ZXO+6U8iYPC2VwzzWF5S8Anu1PIBui7z5Hv67slz6O/vvirzYFe68NKmDvCnRujxgzRW9Owv0uyrJVjwmPg290dW0u6QtkLzHy7I8H2lkO8dHFDx3pNW7M1GEO7GMW7pDA7c77DAmujR7BjxredK73N6QvCHfjTyYrCs85Imguw+KlDvTIvk8UIaHvNdpsTucuDc8SFruu6VDKT2scx+6bpB/vJjvQ7psawe9M0nMPExyvDuDawU9AcVLPPFWMD3mYKY85wHdPD9ukDzaYGQ8k5agvPt6JDt4pjw869u0udECdrwyQhG9tSNJPJQiSD2xjvI6BsZ/vLRKQr0oNsG7w5AdPNiCxrqCF1s8iD3jO25ACz3v9p+8IqZHO7WvpzwrMji7wYHCvKo9ab0EGdC37ypOPEXefjz9wQS8DTQ+ux1FwLyIz6O7Dk1KvLd0yjjpnhe8cw0iPHFhsjx39X86FiWaPO5zo7z8lEc8E6U9PeRmKTwQZoU7WP6WuPKsGjztk5i7OG0IPBr6kLwZXmU7rwlYvA7eors+WsM8AqKdOsBMErw3ZW08+sSDPPprTDs6bA44Io8bPBH/UjtQS7A83KOqPAO0Lzw5GeI86Umvu0zlmrudv768ms4cPN+5ZztTSyI9G517PFRjyTu/yw49m7XIPHSxWbxRK7c5HlVVPKmF1zxu3Ro96k9AvA+hozywy0M8mzu6vJ3YE7x1v8C8j7ILPJR0SjzRkAM7jXn4Oy1kz7tuL308EcHKu7QZIzwwkHs7WiRcPA9QzTtX1Rc7gOCrPM22szyhRQm7q05ku4uaiDxPEpc7nImouytbGLm34vI8T+gPPJh6kDtLORC8DDHfvLE9IbtEK5q8Y0iuO6L3yTr88bG8CKr3PFGTm7ydupa7udZTPNUMUrwvffa7rUvhvBw9mLzg2bC7WwqOvJ7cjbxaV2G8wZMxvbTRirvfDa87o/vlvEFxD7tlYyE8qjANvCengbxXXZe8dn9RvFkpCb37/DC84f3qu1lTL7yxYsK8uBmIvDNCZTvsu6485m8VPIadKzyeffW8dd6IvJUcVrzbyaa8yr86vKD5lDxBYww8jvkLvbbzlbyfLI08Rw+UuzF+ijsX7w09UE0gPKRT5zxTnws9RHKAvEAgmTzscjE8veCBO5nyGD1Wd+w7HH0jPJrdgrzVIJQ7sp7nvP8Xmrunz3e5yKKNPEO+7bsBCOQ6r1YhO/avBbxsro28YREWPXkeSrwthPa7vIfwOckhzLwcakK86aszOoU5Hr2/C3M7fvO8PNjeRL14qbu7Bc+VPAZyvjpmbUq8F+PhvLzOi7wgz7E86eK6uMhVijzKxD896g2nO//RzjxCqdA8I5ZLO3pemzxhZhG8YDakufs+MTsMKP87vKJpu+shQbykPEa8VxAqPAf1yrpyve26HRrBvGf6F7todSc6cxYFPVYzCrxbg6Y8BuE4vTLbE7vw9Bi7kZ+vuy0vUjzotke8sAAgvJOblrzdbsm8INY1PKcIY7zSpLI8uBmsPJJMars5KCw95VxZvNeS5rwqdGY8vkwVvVMdLb2Qaq684AeMvEwHwbzu/MA5jBO8uTBu2ru8xp+7Bi7mvH55vDxF8gw7b0U4vLFi2jwwRyM8JoaaO6ahj7uIvao8IYMavE5K3Tug+Gi8xJDWuwk+XTyfkVw7yTwsvBBSM70B9SA8dv6ZPJ3jGjy6rjc7ppdPOtBgAjx4X6q7HUygvHej9TzNcX08cS+UO/sI+Dv5PIW8hIuIPLUQhbt3EJ88J9QlvOvD1Lyb9GQ7999rPOFyB7sACyM8CCtYvLadPjydmWY6oA8pvKmLETzRxRq8+BfWPH1LL7wxG7O8A9nou/53ijyGqcC7dcZGvJOa47wYbrw87s0tvCNj4TuSNge8LPJRvKFjbTxgr+E8YpNVOt29tTsmb8Y7gkQMO30zlDvwI6S8sgTBPEAJu7sZqXY8EiThPEE01zxqDXk80cPxu5x0srwBb8G8qmewOyuFKDywTMy89eXtvDJRzjvoSm68+ITFu/GK07wGAjC9BejcvAXIkLu9gDi8UQhDvH1k6byZHJ+7tj/BvEgvgbyAozq9uCLWO2B8/rwlLXs7HVCRPKh6r7w0Kga9+vXhPBT15zsFZcs8mosdvEkDGDzA8zk8/oO3u7/+Cbzx4IU8PdDpvCk4E72pgdU60HpJPAyMq7ssKjs8TQxlO2GI9Du4GiC9O/k+u1nchrwlyg68QhuQvFAQEzsiZRW7b49GPMVUgLxq1os8Ps8Du7N4Dzw1I9c56PRqvBS8xLyJBTS7gki1vLb687ufdka7FtuUuzFQvzzRRym8cUETvTmTMbwu58e6x30tu7pAATzPsNw64Ty2PAYIVjx0LtY8qr+DvPaLnDySuV288wOSPAAdYDxbUrS8z66zPLHNQjw/tkK83asZvLos9rs9rDC8y3GwPNAxnTw2bjO8EHiRPCfcGbywxgw6H43vuxc5+Tu2Jdy8S49ru4qZOryIPEq8y1E1usUHajuxZpQ7jk6XPMLeF7wuN448ZZ4JuwmDebxw9Ju8iwdSvGfq4LuejNM7yTu2vOIDCbwmiDy8fRkxPOOUhzu6l7A8u4qouU0Lqrxm2eO6zXqxvOnfXbtI2O27foa+vCwBrryB5nC81z7cu9hGsLwlbze8rGCpO9emejwx0bs84uqJvGJ1lrynMTs8pJ4bu0OYvDyoQVC8j37CO+w0qDwKNBC9SW0mvB2u87zDusO8715mu7WnMbyY2YY8hDy9usW1XDx+RkM87sDoPGn89rxvwAo9Xg6BPJJ5obzLMAO7kOCEu9aeiTwxTMY7xLwWvIUKkDvHzWc7ncJ4vHW5Nbwlbc86G/RNPOQ2QrxRTKC6wJSOPAXihbxB0FC8seKEvJ0J87sgL967Df1xvBd8djvook67i4tXvAMb+rzXc1W8guufvOLyUTsxpYk8EfM9vFASJDuGSTy6RNXsvF54yzwOcq07ai2XPGiborj+g0u5X+nLu6tsH7w2bqW8WcKjuUurw7wb30I8ExopPElI3jt0/OY8WYbJvMFH5zz/Uqk89hHUu2CygTzDSBe776UFPL/JMrwZ2HS8UoOIPE2pKDwmMe+7eqBuvLNfOrzEUEY6jxUZvJ5j4Lzr+287DYFtu7YepbypaPa8td+BPIo85jzd5E07GhhLvJW6rrund6u7D+MvvEvdWrxiE5a8DsmAvLvZDjw4ATk8gnWYPGP0Q7uA5ly8/z6wOyQfsTx6cti7Pwqeu0N1lbxSk7+8107Ru5O2CjxtyFg8GT37OyvKOLyWFwY60h+TPAqFizt+tp87y2gDvFa8N7x5Nxy8eoy8u7aR1rzXy5u8ioZKPMioxLs2B2i9Wo/NPNFxy7r9mBO9XQcqvOpJZjz9bNA7HM2gPDSAKzrBpxY80E3dPMnB97w2ZgS8NDS5PKgWN7zIIAo8YCk4PA/o7jx02Na7UfUsPO0g2ru8A008gtg9vPcDCT0YDjG8XsevvIUghLwiUx88eVGJO/MdvjwAr048tPUVvMCILbx7Gpe8NK3YvG8pyTsUloA7NjusPCJ60Dv/o8q8y88KvQoJBzqkZLq8Ynfau5d7P7z4q468KNnCOyI0OLvLQBG82z2au0iyNzuSEJK8MbMIu64tGzxc81470ArWPOVjAT0vBp+8hetgO42cL7t5CNY7vX0rO/q7vTulGxu6h+IkPbavOTuMBaC4/2R4uvFXlTwgd928wW2MuqqZjrylqpa75ZoWvPX+prwbWo88Z5oLOUT4pTxi0OC88p8HvG8Q1Lz2bqU8MNvXO0NyorzUkRC9iqqWPIhfUztvdYg6/ipvO1Kokjt9mYe8IXMHvPLHfTzwuAk9J6oavI/qa7zZLF08vm5kvC/7nbs8zI+6lUkLvMHKs7ym27a7cn7ePK55mLy4JSI8+P2oPO6NoDzUOCQ8Vs9BvH4WWbxwiHo8YlLBupcgYDueL4M8bSStO6p5Izw5DUG6El6mvNMsVjscS406UP6BvKZDI7zEpK25txtEPBF38Twbd0e8eo2qOxlMczsoe968NlRLPGBHJj3q7Z883hTJPEA1Czs5Mby5u3Y1PCg65bs9wlI8hoySvKqjU7wOTdo7ZL+HvDZvxTvuJdE8rzW7O/yeXjuHpaG7u1XGvLD/krwubQY8KM3FvK6Dcrho8M279uHTvGybpDvOSSi8QM3CO44pXTxZlO47fQpOvE29WLxIJgo8186cvCAGADxnt7Y8ApLavJWE67wz5sI7KA2YPIwlmbrxQLY7BCUePAonkDqXcZ08vex1u41mHDydyYi8omQXPHAHiby3E6U8B6DWPObNtDwK90E8WSFFu7ASgbw70CE8O21XuUZjsDolPFY8fWOcPKAE77vvQHG84fMMPObnGDyz8pW8JooZO0LMBL1dgva7BTcavCqhlzkHoAe9iW6FPMkOB7w+vgW812qCPKd+pjxP5yM8T41Auo2/Az2L4u48aqU1vBvGuzoVhpE8ZDQQO6n7pDySCfu8TlA0vIE6FLwaUJI7IkzzPMJ307zoYAW8arF8vHk137m2DZk80+oQPB2NDz2DCgA654PjvIZkhDoJDuA6P7SxuyjlJDwh7QW4GWuOO3FJUzy1IiA8y4LFuruWCD2b4Jy6SMmzu5A1iDx47pw7oxCHPN5QszxR//u7Dk3OPCoVqzySF+G7VcWHvK3amLwAgU+81zFbPOGYlzoe5O68jcAbutWPzjxJeyi8VpCburL6ojw6gaM8UZ9IvJ+bb7wn1bu77xsRvBH7oTzV1MA86uSGPIqUgryy94K8IHcVvMJZ9LuV91+8sjJ3PColzrtdKqk6Uo0du9LMCj2xYIQ8FDmmuosstLxnsNK7id+xvNG3XbzP8ns7uB21vLqFhrvFN4K8WgPtvFf0izrXHA88gBs2PIsHfDs1GOy815WYvFVnI72NXZ47kMiCunNDtDxQnb48brKUO6kSibs/87w8dWxru7IZqLvwvNA85s+CPN9kWzz4+A87I8GjPM9wq7qyDBI9esc9vNXuCDzYg/A5DOe1vFkAibzqv5o8tS3qu1TjsztpNfM7vxgZPRLcirzstXe8bWY5PIGanrx0NSS8YiQBORy7zLsJfqm8HXM1u6v/p7y55KO8UAeNuyDCfblE1g48BbmjPFT1lbsZoGg7OJV/vEM/kjtB+cE7x1UovAH4+btm+Ja8s1bQu1lfMrwbMqI8cwaQO8/aujwh4xW8dmGyPMdyezyFJm07YOucvCUKMbxxFhY8fVTQO3UgJrzbhxq7fz/OO+364DzWYYg8e/VcvGu4GbyCHRs8ZpE8PJK067uZwG+8L4Tlul/FrLrg1fY6JDQEOzzX87scB0+7xpmWPDQTRDzheNE7bfL9PIiqAjyY9j+8u2E6Oy8X87vbuPY7AeidvFr+aLyhsFo7GJ+QvBqLirw1ALs7hmKAO9L5tbrSFmS8MJEIvZeetbtArJE8Ro/du9Plnzou1qO8zDn7PAIJMDyV4bG8+PeSvG1p+Tv6lxE9aZg4PDwM87xNAmG7pyK3vGfMVzwtU7I6/e3XO/MA3byPX/k7mVPbO0imzjvm3+g7iGQ9vK2xjLzOtm88t+vgO/ibN70Oooo8xjOkPLrdpjp3IGo70zn/PBopeDzFejo7c+rDunSIY7wb5Qc9EudevAE3f7rpSbU7NLaGvK4eSDyzU8Q84Xe0vCnEjTtE2ZY8/D+xOjMsFDxt+by8FrW1Ox9h1ryR0zY8IVTAOlrsRLypzji8b7zZPPYFdbyUGiG8gk96PCNTETzgl5q8qhaiO622Q7t6vga876wfO2n4ejzCsji85hFWPB3RzrvlME48RPV2vEFJBz0l8DE8quOIvPfZebwzJNs8LTAEPKwNEDw84ZQ8iugpO1nYCDuYnqg7t7+5PE4/xTkIMgy8SaGCu914xTyaf7s8dvJKvK9TLLytelW8P2yzu398ujw21LU7tAiuvPcExrwKjb+7iEW/vMTTtTt1K028C8YkPDEjHbuIOq67+4brvC2ScLyly/k7vOIhvfPFoTv0gXg8tMvBvPvckjpHx868m+DevJbLCLxR08k8RfiduwcXP7zU0Yi8WLrdu4gVDj0uwHi7x9O2PE5rAztLrYY8XHW4PIHO2juFXDg8ACENPRdWf7z4/so8QAVbPGuftTznxRQ7LlBJvfS7gDy2Qh07etWvOrz1nLxOfPe6nVamux/zxjzQZ6W7Iw5mvFzRjbso1Ps8G5IGO+t0eDyFasu8McY6vMzEHLzdJQE815GhPMBRkLzQSbw8JBjYO+LJ3DsYDLS6VRCyvH8oBz1qeTI87IoqvRPpFb3q/968eDVUuz4L7LoY2Nm8qlXuO90akryoDAa9nNf/vGqJI7wlZdm89e5zuXMo+boyRuy7o8HDvOTUT7rYj/87zFMqPLhDb7xAT4e7O93FO0xIGjraKiW8YFc8O7+qNbtZzci8jH9cvKlvv7vlB3o8MZEBPHOk4buq9aU8FBOZvFuk1DymuiA9PdTGu+PDLbtq9Ne8n/0nvEjpk7sW6qK76oKsPCTynby+92M8C330PK1ZXbwJhgA88fWcOyJHKbzaU108Q8B8PDQ2uTx+Ecg8Gj8svJnPlzxrAY28SFpGPEP8bLx8yhC7m9RWvT3C7rsdVDi9DZIEvH9Ip7ynpaa80M6bO/EaQ7yO7yM86EVHvHaCbjtkXcO7Otz2PB6mk7tcfvO88tdDOuhxRbx7ij+88sObu6jgYTzZCBg9HmwnvPXjnjxFld64+2nlO99E1bsdDa258iy0PMFXCDvBcFS8vedRvLDCybwZjaA7I1X9u22AXjqhnHA7Y+XavFzMLLsaFCw8aee4vF7ncDsP0hQ7ILGTup0dSTx6+zO8xrE0POrZ17zfmZM7e8SpvNzu8TwoA7e83tuVu2jpyLlu8J28IPiivC6Hojy3TcA7zrEePKbdpLuw7dy4zen+udA2l7yPMBi5kN+bvOkPwTrc9xi9i4xYu8gyGrxH4828JPkPO/CNUjy8YZO8Xf23PKRAF7xaHss8LexbvM4CnzzEAi27mDoYO47nxbxw5iO8K9wTPeM5FTywd6q63FnwPBeLFTyMuLA88Z/NvC3u6rwOT3i8SmDTOyGG8ryxuhW8fI53vB34abwOuVc6Yaayu4ZKB704c6e8JQBNO9tSfzyWZI88FGOROwsvxTwsjUO7MqirPMxlITzuhw07wdCevEUsEzwjMfu7xt4SvFn43LxkAd67W3s6PK0qRzym5Oa6PZK2vPWD57tLF967A4gcPEX7AL1xc028G7cAvUnARrtoxou8JMHHPDbjOD1XW6k7pfGIuwo6VbtupaM8bVdnu4jpizy8q0g6s71xvDOkl7x3q4K6e2PiupjEeDwuqmC87NVtvCmoarzibqM7xI2wu3rKR7tRfsu7XWvcvCPANrx5euE5sGXDuxtuV7vT5So6EIslPAQ+bzxHPAo9UC0jvAYSODxm7YW7tBeXOlBIcTvPLgk8EcUEu5IMQTznsIy5xn6ZO1xXXLymEIk7iGyYPEKBszwdzcW7e1o3PCnVPrzAcIc85q6BO0cOIDsVCbg7xHKLO5hVJ7zjWbk7mCytvCPgM7qAQea7BmyEO+xawzx0Xwa7lMk6PHcE1TxNXxc9RbBHPCIXAr2fkdo8RTbHuidDAz24v6Q6KFuMPJunCLovmJ88nxWevHqs0Tt8fGw6FEqvOhcQDzzCJSO7+KDcvAOQLrzUlbK8DpkgOi3xB72y/Bc8LgAOvHeONTxATKQ8N9+1vBWkpTwml0e7VhKKO/7pZjvjfNo8og0tO3K9djzA4Ng82oTROj7u+Tv6Zi+7UW5Wu3PDaLxVapU7DPMaO2EkLDy/6n080U4nvPms2Ttd3c48p9oDPOeSeTydJIO8WGvWurWQLjzS8UO8ankVvQILlrzOFgA8MO/EOgU2LDynAmA8rO8mPU7Wmbwce4Y8bXzRvLkVhTuy7Ky6JT6/PCrIvbvtmYC8YF9AvAxrUzwBS3A8GwEIPGXMgLxj2JY8qd+POysa8bucA7e8s0PhOye+jTzf9zs6+7UIO9Um4Twe8787bJUqO3PLijy9qKU82axJvEaltzqpdgK9RWSYvLUV0TnXHZI8VM+avFtTALyRcmM8mzSMvILvNDyYuLc7TqSSPKElB71QyJ+8XyvMvP9QJbxQDiq8F4e4u+kxNDwmayK8beanO2i+nzyJUR28ofpruyDbuby0CMw8BvWRvLCSz7yJIQa9t1bvPLBx0jx2mCu9PJCyPAJIJ7wCDEu723E+vA/OQ7xHlPs7dBu5vF5g6jwfIQe8kgAiO2o5B7uLbtc7KfGvu9ZCdjuMh6W7p58MuzUBzTy7Zoq7Bu20u6ddMDqiKrw84M4UvKWBELzGGpk7Y4tOu/tX07ywUUs7xhfvPIAddbzsycC8V/kZuwUGX7yWrwC9fGiQPOHmuzuTB7k6gehyvAojwLxBFo07SomTPNVl/rvpkc67fQYAO92JrzzL5UQ8AYFSPOCsijvEenk6kgifu6o/8rx8SGq8yC6CPP8+Dzycrbw8MtoUO5QNh7xgpy08PYxHOm0JnbzhSJE6ZUG9PG09tDv6gJ68+ZEvve+8tbyX+8C8CtnLuyvtULoidvy8iz0kvO3bIDyZKKm8GKEGvVNE0LvshGW6j0BuPOx6n7suCEs8F4uXPF0ilLsQBmm7S2ZzvFFej7vcgWi85NqYOpCjTrxZKIK8nB/fuh9DjDyfZ3M6SdrYu8OS9zsty8A8CyI2vRDVw7sRN088LEKhvPuuZToYYLA7XYNMPFoFkjy0iHS8rV/xvLHcvjsTnLE8aZwlPPQrhrz4Kdk88ek7O2kbST20udE7hZ6Yu+3OUzm/Qsq71fS9u3g1q7xsobW6Shn5O722pbtQAcW7OeW0O9Udyjta6wC8Rrgou1Arv7zEXKI8i56MOvyRSjtmtHC7YAz6u1LaU7xC/8m87cDRu5kUH7y904e7oTH1uriJHry8Ncg6fxOCvBvyOLxc7zw8zXmJvHFJ3zu1BrW8Jx6DPCeTuDs3HIQ72ycAu6VW8TyI6ok8aDGXu75OjLzzaC08f4GAPI2uFbtJKFK9vg7Ju6p/6rylsHG8wyMXOzS/KDzjma670qdSPE5Ndruxgas8Q5mHPObeI7uO2x08/eRTPF5d8jtzO/o7BoeIO2j2qzsPRTg7ItyJvCd1nDuRf4C8tpu0PI3tIrzOLVu6EMqZvLUVPLyKLag81jkCO15XkjvjR5y8EvBuu+XFsbwfuow8oBfuO8SQBzxksSq7uqRYvJPUlbv4jb28iUauOxuXBroQY2O8Rtq4PNdM2zrcUAO8fviKPGk+HDwPoTA8x4CWvNpHHDu68jk8ouC7vJrElbz+E3O8ABnCOrj/pzrhuFu9GhyGO/F/GL0dt1K8zFtVvE9ROjuv1Gs7DlbePDB7f7t2goy8NNeUPNxDvryMnDi7eYYxvKHiQTxOxB+7wiirPCXN1rspg8s7/XD6u2Nu57t9UqK8EcWMPA==",
          "dtype": "f4"
         },
         "xaxis": "x",
         "y": {
          "bdata": "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",
          "dtype": "f4"
         },
         "yaxis": "y"
        }
       ],
       "layout": {
        "height": 600,
        "legend": {
         "tracegroupgap": 0
        },
        "template": {
         "data": {
          "bar": [
           {
            "error_x": {
             "color": "#2a3f5f"
            },
            "error_y": {
             "color": "#2a3f5f"
            },
            "marker": {
             "line": {
              "color": "#E5ECF6",
              "width": 0.5
             },
             "pattern": {
              "fillmode": "overlay",
              "size": 10,
              "solidity": 0.2
             }
            },
            "type": "bar"
           }
          ],
          "barpolar": [
           {
            "marker": {
             "line": {
              "color": "#E5ECF6",
              "width": 0.5
             },
             "pattern": {
              "fillmode": "overlay",
              "size": 10,
              "solidity": 0.2
             }
            },
            "type": "barpolar"
           }
          ],
          "carpet": [
           {
            "aaxis": {
             "endlinecolor": "#2a3f5f",
             "gridcolor": "white",
             "linecolor": "white",
             "minorgridcolor": "white",
             "startlinecolor": "#2a3f5f"
            },
            "baxis": {
             "endlinecolor": "#2a3f5f",
             "gridcolor": "white",
             "linecolor": "white",
             "minorgridcolor": "white",
             "startlinecolor": "#2a3f5f"
            },
            "type": "carpet"
           }
          ],
          "choropleth": [
           {
            "colorbar": {
             "outlinewidth": 0,
             "ticks": ""
            },
            "type": "choropleth"
           }
          ],
          "contour": [
           {
            "colorbar": {
             "outlinewidth": 0,
             "ticks": ""
            },
            "colorscale": [
             [
              0,
              "#0d0887"
             ],
             [
              0.1111111111111111,
              "#46039f"
             ],
             [
              0.2222222222222222,
              "#7201a8"
             ],
             [
              0.3333333333333333,
              "#9c179e"
             ],
             [
              0.4444444444444444,
              "#bd3786"
             ],
             [
              0.5555555555555556,
              "#d8576b"
             ],
             [
              0.6666666666666666,
              "#ed7953"
             ],
             [
              0.7777777777777778,
              "#fb9f3a"
             ],
             [
              0.8888888888888888,
              "#fdca26"
             ],
             [
              1,
              "#f0f921"
             ]
            ],
            "type": "contour"
           }
          ],
          "contourcarpet": [
           {
            "colorbar": {
             "outlinewidth": 0,
             "ticks": ""
            },
            "type": "contourcarpet"
           }
          ],
          "heatmap": [
           {
            "colorbar": {
             "outlinewidth": 0,
             "ticks": ""
            },
            "colorscale": [
             [
              0,
              "#0d0887"
             ],
             [
              0.1111111111111111,
              "#46039f"
             ],
             [
              0.2222222222222222,
              "#7201a8"
             ],
             [
              0.3333333333333333,
              "#9c179e"
             ],
             [
              0.4444444444444444,
              "#bd3786"
             ],
             [
              0.5555555555555556,
              "#d8576b"
             ],
             [
              0.6666666666666666,
              "#ed7953"
             ],
             [
              0.7777777777777778,
              "#fb9f3a"
             ],
             [
              0.8888888888888888,
              "#fdca26"
             ],
             [
              1,
              "#f0f921"
             ]
            ],
            "type": "heatmap"
           }
          ],
          "histogram": [
           {
            "marker": {
             "pattern": {
              "fillmode": "overlay",
              "size": 10,
              "solidity": 0.2
             }
            },
            "type": "histogram"
           }
          ],
          "histogram2d": [
           {
            "colorbar": {
             "outlinewidth": 0,
             "ticks": ""
            },
            "colorscale": [
             [
              0,
              "#0d0887"
             ],
             [
              0.1111111111111111,
              "#46039f"
             ],
             [
              0.2222222222222222,
              "#7201a8"
             ],
             [
              0.3333333333333333,
              "#9c179e"
             ],
             [
              0.4444444444444444,
              "#bd3786"
             ],
             [
              0.5555555555555556,
              "#d8576b"
             ],
             [
              0.6666666666666666,
              "#ed7953"
             ],
             [
              0.7777777777777778,
              "#fb9f3a"
             ],
             [
              0.8888888888888888,
              "#fdca26"
             ],
             [
              1,
              "#f0f921"
             ]
            ],
            "type": "histogram2d"
           }
          ],
          "histogram2dcontour": [
           {
            "colorbar": {
             "outlinewidth": 0,
             "ticks": ""
            },
            "colorscale": [
             [
              0,
              "#0d0887"
             ],
             [
              0.1111111111111111,
              "#46039f"
             ],
             [
              0.2222222222222222,
              "#7201a8"
             ],
             [
              0.3333333333333333,
              "#9c179e"
             ],
             [
              0.4444444444444444,
              "#bd3786"
             ],
             [
              0.5555555555555556,
              "#d8576b"
             ],
             [
              0.6666666666666666,
              "#ed7953"
             ],
             [
              0.7777777777777778,
              "#fb9f3a"
             ],
             [
              0.8888888888888888,
              "#fdca26"
             ],
             [
              1,
              "#f0f921"
             ]
            ],
            "type": "histogram2dcontour"
           }
          ],
          "mesh3d": [
           {
            "colorbar": {
             "outlinewidth": 0,
             "ticks": ""
            },
            "type": "mesh3d"
           }
          ],
          "parcoords": [
           {
            "line": {
             "colorbar": {
              "outlinewidth": 0,
              "ticks": ""
             }
            },
            "type": "parcoords"
           }
          ],
          "pie": [
           {
            "automargin": true,
            "type": "pie"
           }
          ],
          "scatter": [
           {
            "fillpattern": {
             "fillmode": "overlay",
             "size": 10,
             "solidity": 0.2
            },
            "type": "scatter"
           }
          ],
          "scatter3d": [
           {
            "line": {
             "colorbar": {
              "outlinewidth": 0,
              "ticks": ""
             }
            },
            "marker": {
             "colorbar": {
              "outlinewidth": 0,
              "ticks": ""
             }
            },
            "type": "scatter3d"
           }
          ],
          "scattercarpet": [
           {
            "marker": {
             "colorbar": {
              "outlinewidth": 0,
              "ticks": ""
             }
            },
            "type": "scattercarpet"
           }
          ],
          "scattergeo": [
           {
            "marker": {
             "colorbar": {
              "outlinewidth": 0,
              "ticks": ""
             }
            },
            "type": "scattergeo"
           }
          ],
          "scattergl": [
           {
            "marker": {
             "colorbar": {
              "outlinewidth": 0,
              "ticks": ""
             }
            },
            "type": "scattergl"
           }
          ],
          "scattermap": [
           {
            "marker": {
             "colorbar": {
              "outlinewidth": 0,
              "ticks": ""
             }
            },
            "type": "scattermap"
           }
          ],
          "scattermapbox": [
           {
            "marker": {
             "colorbar": {
              "outlinewidth": 0,
              "ticks": ""
             }
            },
            "type": "scattermapbox"
           }
          ],
          "scatterpolar": [
           {
            "marker": {
             "colorbar": {
              "outlinewidth": 0,
              "ticks": ""
             }
            },
            "type": "scatterpolar"
           }
          ],
          "scatterpolargl": [
           {
            "marker": {
             "colorbar": {
              "outlinewidth": 0,
              "ticks": ""
             }
            },
            "type": "scatterpolargl"
           }
          ],
          "scatterternary": [
           {
            "marker": {
             "colorbar": {
              "outlinewidth": 0,
              "ticks": ""
             }
            },
            "type": "scatterternary"
           }
          ],
          "surface": [
           {
            "colorbar": {
             "outlinewidth": 0,
             "ticks": ""
            },
            "colorscale": [
             [
              0,
              "#0d0887"
             ],
             [
              0.1111111111111111,
              "#46039f"
             ],
             [
              0.2222222222222222,
              "#7201a8"
             ],
             [
              0.3333333333333333,
              "#9c179e"
             ],
             [
              0.4444444444444444,
              "#bd3786"
             ],
             [
              0.5555555555555556,
              "#d8576b"
             ],
             [
              0.6666666666666666,
              "#ed7953"
             ],
             [
              0.7777777777777778,
              "#fb9f3a"
             ],
             [
              0.8888888888888888,
              "#fdca26"
             ],
             [
              1,
              "#f0f921"
             ]
            ],
            "type": "surface"
           }
          ],
          "table": [
           {
            "cells": {
             "fill": {
              "color": "#EBF0F8"
             },
             "line": {
              "color": "white"
             }
            },
            "header": {
             "fill": {
              "color": "#C8D4E3"
             },
             "line": {
              "color": "white"
             }
            },
            "type": "table"
           }
          ]
         },
         "layout": {
          "annotationdefaults": {
           "arrowcolor": "#2a3f5f",
           "arrowhead": 0,
           "arrowwidth": 1
          },
          "autotypenumbers": "strict",
          "coloraxis": {
           "colorbar": {
            "outlinewidth": 0,
            "ticks": ""
           }
          },
          "colorscale": {
           "diverging": [
            [
             0,
             "#8e0152"
            ],
            [
             0.1,
             "#c51b7d"
            ],
            [
             0.2,
             "#de77ae"
            ],
            [
             0.3,
             "#f1b6da"
            ],
            [
             0.4,
             "#fde0ef"
            ],
            [
             0.5,
             "#f7f7f7"
            ],
            [
             0.6,
             "#e6f5d0"
            ],
            [
             0.7,
             "#b8e186"
            ],
            [
             0.8,
             "#7fbc41"
            ],
            [
             0.9,
             "#4d9221"
            ],
            [
             1,
             "#276419"
            ]
           ],
           "sequential": [
            [
             0,
             "#0d0887"
            ],
            [
             0.1111111111111111,
             "#46039f"
            ],
            [
             0.2222222222222222,
             "#7201a8"
            ],
            [
             0.3333333333333333,
             "#9c179e"
            ],
            [
             0.4444444444444444,
             "#bd3786"
            ],
            [
             0.5555555555555556,
             "#d8576b"
            ],
            [
             0.6666666666666666,
             "#ed7953"
            ],
            [
             0.7777777777777778,
             "#fb9f3a"
            ],
            [
             0.8888888888888888,
             "#fdca26"
            ],
            [
             1,
             "#f0f921"
            ]
           ],
           "sequentialminus": [
            [
             0,
             "#0d0887"
            ],
            [
             0.1111111111111111,
             "#46039f"
            ],
            [
             0.2222222222222222,
             "#7201a8"
            ],
            [
             0.3333333333333333,
             "#9c179e"
            ],
            [
             0.4444444444444444,
             "#bd3786"
            ],
            [
             0.5555555555555556,
             "#d8576b"
            ],
            [
             0.6666666666666666,
             "#ed7953"
            ],
            [
             0.7777777777777778,
             "#fb9f3a"
            ],
            [
             0.8888888888888888,
             "#fdca26"
            ],
            [
             1,
             "#f0f921"
            ]
           ]
          },
          "colorway": [
           "#636efa",
           "#EF553B",
           "#00cc96",
           "#ab63fa",
           "#FFA15A",
           "#19d3f3",
           "#FF6692",
           "#B6E880",
           "#FF97FF",
           "#FECB52"
          ],
          "font": {
           "color": "#2a3f5f"
          },
          "geo": {
           "bgcolor": "white",
           "lakecolor": "white",
           "landcolor": "#E5ECF6",
           "showlakes": true,
           "showland": true,
           "subunitcolor": "white"
          },
          "hoverlabel": {
           "align": "left"
          },
          "hovermode": "closest",
          "mapbox": {
           "style": "light"
          },
          "paper_bgcolor": "white",
          "plot_bgcolor": "#E5ECF6",
          "polar": {
           "angularaxis": {
            "gridcolor": "white",
            "linecolor": "white",
            "ticks": ""
           },
           "bgcolor": "#E5ECF6",
           "radialaxis": {
            "gridcolor": "white",
            "linecolor": "white",
            "ticks": ""
           }
          },
          "scene": {
           "xaxis": {
            "backgroundcolor": "#E5ECF6",
            "gridcolor": "white",
            "gridwidth": 2,
            "linecolor": "white",
            "showbackground": true,
            "ticks": "",
            "zerolinecolor": "white"
           },
           "yaxis": {
            "backgroundcolor": "#E5ECF6",
            "gridcolor": "white",
            "gridwidth": 2,
            "linecolor": "white",
            "showbackground": true,
            "ticks": "",
            "zerolinecolor": "white"
           },
           "zaxis": {
            "backgroundcolor": "#E5ECF6",
            "gridcolor": "white",
            "gridwidth": 2,
            "linecolor": "white",
            "showbackground": true,
            "ticks": "",
            "zerolinecolor": "white"
           }
          },
          "shapedefaults": {
           "line": {
            "color": "#2a3f5f"
           }
          },
          "ternary": {
           "aaxis": {
            "gridcolor": "white",
            "linecolor": "white",
            "ticks": ""
           },
           "baxis": {
            "gridcolor": "white",
            "linecolor": "white",
            "ticks": ""
           },
           "bgcolor": "#E5ECF6",
           "caxis": {
            "gridcolor": "white",
            "linecolor": "white",
            "ticks": ""
           }
          },
          "title": {
           "x": 0.05
          },
          "xaxis": {
           "automargin": true,
           "gridcolor": "white",
           "linecolor": "white",
           "ticks": "",
           "title": {
            "standoff": 15
           },
           "zerolinecolor": "white",
           "zerolinewidth": 2
          },
          "yaxis": {
           "automargin": true,
           "gridcolor": "white",
           "linecolor": "white",
           "ticks": "",
           "title": {
            "standoff": 15
           },
           "zerolinecolor": "white",
           "zerolinewidth": 2
          }
         }
        },
        "title": {
         "text": "Differentiated vs Undifferentiated Components (genes)"
        },
        "width": 600,
        "xaxis": {
         "anchor": "y",
         "domain": [
          0,
          1
         ],
         "title": {
          "text": "Differentiated Component"
         }
        },
        "yaxis": {
         "anchor": "x",
         "domain": [
          0,
          1
         ],
         "title": {
          "text": "Undifferentiated Component"
         }
        }
       }
      }
     },
     "metadata": {},
     "output_type": "display_data"
    }
   ],
   "source": [
    "px.scatter(\n",
    "    x=genes_diff,\n",
    "    y=genes_undiff,\n",
    "    title=\"Differentiated vs Undifferentiated Components (genes)\",\n",
    "    labels={\"x\": \"Differentiated Component\", \"y\": \"Undifferentiated Component\"},\n",
    "    hover_name=adata.var_names,\n",
    "    width=600,\n",
    "    height=600,\n",
    ")"
   ]
  },
  {
   "cell_type": "markdown",
   "id": "13186c2b",
   "metadata": {},
   "source": [
    "Looks like basically no correlation. Why?\n",
    "\n",
    "Oh but it looks like a polytope:\n",
    "- Differentiated component separates the two lineage branches.\n",
    "- Undifferentiated components separates un/differentiated cells.\n",
    "\n",
    "**So when we select a subset of the output directions, the component space describes how to distinguish between them.**"
   ]
  },
  {
   "cell_type": "markdown",
   "id": "512222dc",
   "metadata": {},
   "source": [
    "### Cell space"
   ]
  },
  {
   "cell_type": "code",
   "execution_count": 31,
   "id": "ca0fda68",
   "metadata": {},
   "outputs": [],
   "source": [
    "cells_diff = adata.X @ genes_diff.numpy()\n",
    "cells_undiff = adata.X @ genes_undiff.numpy()"
   ]
  },
  {
   "cell_type": "code",
   "execution_count": 32,
   "id": "006c0f50",
   "metadata": {},
   "outputs": [
    {
     "data": {
      "application/vnd.plotly.v1+json": {
       "config": {
        "plotlyServerURL": "https://plot.ly"
       },
       "data": [
        {
         "hovertemplate": "color=0<br>Differentiated Component=%{x}<br>Undifferentiated Component=%{y}<extra></extra>",
         "legendgroup": "0",
         "marker": {
          "color": "#636efa",
          "symbol": "circle"
         },
         "mode": "markers",
         "name": "0",
         "showlegend": true,
         "type": "scattergl",
         "x": {
          "bdata": "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",
          "dtype": "f4"
         },
         "xaxis": "x",
         "y": {
          "bdata": "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",
          "dtype": "f4"
         },
         "yaxis": "y"
        },
        {
         "hovertemplate": "color=2<br>Differentiated Component=%{x}<br>Undifferentiated Component=%{y}<extra></extra>",
         "legendgroup": "2",
         "marker": {
          "color": "#EF553B",
          "symbol": "circle"
         },
         "mode": "markers",
         "name": "2",
         "showlegend": true,
         "type": "scattergl",
         "x": {
          "bdata": "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",
          "dtype": "f4"
         },
         "xaxis": "x",
         "y": {
          "bdata": "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",
          "dtype": "f4"
         },
         "yaxis": "y"
        },
        {
         "hovertemplate": "color=1<br>Differentiated Component=%{x}<br>Undifferentiated Component=%{y}<extra></extra>",
         "legendgroup": "1",
         "marker": {
          "color": "#00cc96",
          "symbol": "circle"
         },
         "mode": "markers",
         "name": "1",
         "showlegend": true,
         "type": "scattergl",
         "x": {
          "bdata": "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",
          "dtype": "f4"
         },
         "xaxis": "x",
         "y": {
          "bdata": "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",
          "dtype": "f4"
         },
         "yaxis": "y"
        }
       ],
       "layout": {
        "height": 600,
        "legend": {
         "title": {
          "text": "color"
         },
         "tracegroupgap": 0
        },
        "template": {
         "data": {
          "bar": [
           {
            "error_x": {
             "color": "#2a3f5f"
            },
            "error_y": {
             "color": "#2a3f5f"
            },
            "marker": {
             "line": {
              "color": "#E5ECF6",
              "width": 0.5
             },
             "pattern": {
              "fillmode": "overlay",
              "size": 10,
              "solidity": 0.2
             }
            },
            "type": "bar"
           }
          ],
          "barpolar": [
           {
            "marker": {
             "line": {
              "color": "#E5ECF6",
              "width": 0.5
             },
             "pattern": {
              "fillmode": "overlay",
              "size": 10,
              "solidity": 0.2
             }
            },
            "type": "barpolar"
           }
          ],
          "carpet": [
           {
            "aaxis": {
             "endlinecolor": "#2a3f5f",
             "gridcolor": "white",
             "linecolor": "white",
             "minorgridcolor": "white",
             "startlinecolor": "#2a3f5f"
            },
            "baxis": {
             "endlinecolor": "#2a3f5f",
             "gridcolor": "white",
             "linecolor": "white",
             "minorgridcolor": "white",
             "startlinecolor": "#2a3f5f"
            },
            "type": "carpet"
           }
          ],
          "choropleth": [
           {
            "colorbar": {
             "outlinewidth": 0,
             "ticks": ""
            },
            "type": "choropleth"
           }
          ],
          "contour": [
           {
            "colorbar": {
             "outlinewidth": 0,
             "ticks": ""
            },
            "colorscale": [
             [
              0,
              "#0d0887"
             ],
             [
              0.1111111111111111,
              "#46039f"
             ],
             [
              0.2222222222222222,
              "#7201a8"
             ],
             [
              0.3333333333333333,
              "#9c179e"
             ],
             [
              0.4444444444444444,
              "#bd3786"
             ],
             [
              0.5555555555555556,
              "#d8576b"
             ],
             [
              0.6666666666666666,
              "#ed7953"
             ],
             [
              0.7777777777777778,
              "#fb9f3a"
             ],
             [
              0.8888888888888888,
              "#fdca26"
             ],
             [
              1,
              "#f0f921"
             ]
            ],
            "type": "contour"
           }
          ],
          "contourcarpet": [
           {
            "colorbar": {
             "outlinewidth": 0,
             "ticks": ""
            },
            "type": "contourcarpet"
           }
          ],
          "heatmap": [
           {
            "colorbar": {
             "outlinewidth": 0,
             "ticks": ""
            },
            "colorscale": [
             [
              0,
              "#0d0887"
             ],
             [
              0.1111111111111111,
              "#46039f"
             ],
             [
              0.2222222222222222,
              "#7201a8"
             ],
             [
              0.3333333333333333,
              "#9c179e"
             ],
             [
              0.4444444444444444,
              "#bd3786"
             ],
             [
              0.5555555555555556,
              "#d8576b"
             ],
             [
              0.6666666666666666,
              "#ed7953"
             ],
             [
              0.7777777777777778,
              "#fb9f3a"
             ],
             [
              0.8888888888888888,
              "#fdca26"
             ],
             [
              1,
              "#f0f921"
             ]
            ],
            "type": "heatmap"
           }
          ],
          "histogram": [
           {
            "marker": {
             "pattern": {
              "fillmode": "overlay",
              "size": 10,
              "solidity": 0.2
             }
            },
            "type": "histogram"
           }
          ],
          "histogram2d": [
           {
            "colorbar": {
             "outlinewidth": 0,
             "ticks": ""
            },
            "colorscale": [
             [
              0,
              "#0d0887"
             ],
             [
              0.1111111111111111,
              "#46039f"
             ],
             [
              0.2222222222222222,
              "#7201a8"
             ],
             [
              0.3333333333333333,
              "#9c179e"
             ],
             [
              0.4444444444444444,
              "#bd3786"
             ],
             [
              0.5555555555555556,
              "#d8576b"
             ],
             [
              0.6666666666666666,
              "#ed7953"
             ],
             [
              0.7777777777777778,
              "#fb9f3a"
             ],
             [
              0.8888888888888888,
              "#fdca26"
             ],
             [
              1,
              "#f0f921"
             ]
            ],
            "type": "histogram2d"
           }
          ],
          "histogram2dcontour": [
           {
            "colorbar": {
             "outlinewidth": 0,
             "ticks": ""
            },
            "colorscale": [
             [
              0,
              "#0d0887"
             ],
             [
              0.1111111111111111,
              "#46039f"
             ],
             [
              0.2222222222222222,
              "#7201a8"
             ],
             [
              0.3333333333333333,
              "#9c179e"
             ],
             [
              0.4444444444444444,
              "#bd3786"
             ],
             [
              0.5555555555555556,
              "#d8576b"
             ],
             [
              0.6666666666666666,
              "#ed7953"
             ],
             [
              0.7777777777777778,
              "#fb9f3a"
             ],
             [
              0.8888888888888888,
              "#fdca26"
             ],
             [
              1,
              "#f0f921"
             ]
            ],
            "type": "histogram2dcontour"
           }
          ],
          "mesh3d": [
           {
            "colorbar": {
             "outlinewidth": 0,
             "ticks": ""
            },
            "type": "mesh3d"
           }
          ],
          "parcoords": [
           {
            "line": {
             "colorbar": {
              "outlinewidth": 0,
              "ticks": ""
             }
            },
            "type": "parcoords"
           }
          ],
          "pie": [
           {
            "automargin": true,
            "type": "pie"
           }
          ],
          "scatter": [
           {
            "fillpattern": {
             "fillmode": "overlay",
             "size": 10,
             "solidity": 0.2
            },
            "type": "scatter"
           }
          ],
          "scatter3d": [
           {
            "line": {
             "colorbar": {
              "outlinewidth": 0,
              "ticks": ""
             }
            },
            "marker": {
             "colorbar": {
              "outlinewidth": 0,
              "ticks": ""
             }
            },
            "type": "scatter3d"
           }
          ],
          "scattercarpet": [
           {
            "marker": {
             "colorbar": {
              "outlinewidth": 0,
              "ticks": ""
             }
            },
            "type": "scattercarpet"
           }
          ],
          "scattergeo": [
           {
            "marker": {
             "colorbar": {
              "outlinewidth": 0,
              "ticks": ""
             }
            },
            "type": "scattergeo"
           }
          ],
          "scattergl": [
           {
            "marker": {
             "colorbar": {
              "outlinewidth": 0,
              "ticks": ""
             }
            },
            "type": "scattergl"
           }
          ],
          "scattermap": [
           {
            "marker": {
             "colorbar": {
              "outlinewidth": 0,
              "ticks": ""
             }
            },
            "type": "scattermap"
           }
          ],
          "scattermapbox": [
           {
            "marker": {
             "colorbar": {
              "outlinewidth": 0,
              "ticks": ""
             }
            },
            "type": "scattermapbox"
           }
          ],
          "scatterpolar": [
           {
            "marker": {
             "colorbar": {
              "outlinewidth": 0,
              "ticks": ""
             }
            },
            "type": "scatterpolar"
           }
          ],
          "scatterpolargl": [
           {
            "marker": {
             "colorbar": {
              "outlinewidth": 0,
              "ticks": ""
             }
            },
            "type": "scatterpolargl"
           }
          ],
          "scatterternary": [
           {
            "marker": {
             "colorbar": {
              "outlinewidth": 0,
              "ticks": ""
             }
            },
            "type": "scatterternary"
           }
          ],
          "surface": [
           {
            "colorbar": {
             "outlinewidth": 0,
             "ticks": ""
            },
            "colorscale": [
             [
              0,
              "#0d0887"
             ],
             [
              0.1111111111111111,
              "#46039f"
             ],
             [
              0.2222222222222222,
              "#7201a8"
             ],
             [
              0.3333333333333333,
              "#9c179e"
             ],
             [
              0.4444444444444444,
              "#bd3786"
             ],
             [
              0.5555555555555556,
              "#d8576b"
             ],
             [
              0.6666666666666666,
              "#ed7953"
             ],
             [
              0.7777777777777778,
              "#fb9f3a"
             ],
             [
              0.8888888888888888,
              "#fdca26"
             ],
             [
              1,
              "#f0f921"
             ]
            ],
            "type": "surface"
           }
          ],
          "table": [
           {
            "cells": {
             "fill": {
              "color": "#EBF0F8"
             },
             "line": {
              "color": "white"
             }
            },
            "header": {
             "fill": {
              "color": "#C8D4E3"
             },
             "line": {
              "color": "white"
             }
            },
            "type": "table"
           }
          ]
         },
         "layout": {
          "annotationdefaults": {
           "arrowcolor": "#2a3f5f",
           "arrowhead": 0,
           "arrowwidth": 1
          },
          "autotypenumbers": "strict",
          "coloraxis": {
           "colorbar": {
            "outlinewidth": 0,
            "ticks": ""
           }
          },
          "colorscale": {
           "diverging": [
            [
             0,
             "#8e0152"
            ],
            [
             0.1,
             "#c51b7d"
            ],
            [
             0.2,
             "#de77ae"
            ],
            [
             0.3,
             "#f1b6da"
            ],
            [
             0.4,
             "#fde0ef"
            ],
            [
             0.5,
             "#f7f7f7"
            ],
            [
             0.6,
             "#e6f5d0"
            ],
            [
             0.7,
             "#b8e186"
            ],
            [
             0.8,
             "#7fbc41"
            ],
            [
             0.9,
             "#4d9221"
            ],
            [
             1,
             "#276419"
            ]
           ],
           "sequential": [
            [
             0,
             "#0d0887"
            ],
            [
             0.1111111111111111,
             "#46039f"
            ],
            [
             0.2222222222222222,
             "#7201a8"
            ],
            [
             0.3333333333333333,
             "#9c179e"
            ],
            [
             0.4444444444444444,
             "#bd3786"
            ],
            [
             0.5555555555555556,
             "#d8576b"
            ],
            [
             0.6666666666666666,
             "#ed7953"
            ],
            [
             0.7777777777777778,
             "#fb9f3a"
            ],
            [
             0.8888888888888888,
             "#fdca26"
            ],
            [
             1,
             "#f0f921"
            ]
           ],
           "sequentialminus": [
            [
             0,
             "#0d0887"
            ],
            [
             0.1111111111111111,
             "#46039f"
            ],
            [
             0.2222222222222222,
             "#7201a8"
            ],
            [
             0.3333333333333333,
             "#9c179e"
            ],
            [
             0.4444444444444444,
             "#bd3786"
            ],
            [
             0.5555555555555556,
             "#d8576b"
            ],
            [
             0.6666666666666666,
             "#ed7953"
            ],
            [
             0.7777777777777778,
             "#fb9f3a"
            ],
            [
             0.8888888888888888,
             "#fdca26"
            ],
            [
             1,
             "#f0f921"
            ]
           ]
          },
          "colorway": [
           "#636efa",
           "#EF553B",
           "#00cc96",
           "#ab63fa",
           "#FFA15A",
           "#19d3f3",
           "#FF6692",
           "#B6E880",
           "#FF97FF",
           "#FECB52"
          ],
          "font": {
           "color": "#2a3f5f"
          },
          "geo": {
           "bgcolor": "white",
           "lakecolor": "white",
           "landcolor": "#E5ECF6",
           "showlakes": true,
           "showland": true,
           "subunitcolor": "white"
          },
          "hoverlabel": {
           "align": "left"
          },
          "hovermode": "closest",
          "mapbox": {
           "style": "light"
          },
          "paper_bgcolor": "white",
          "plot_bgcolor": "#E5ECF6",
          "polar": {
           "angularaxis": {
            "gridcolor": "white",
            "linecolor": "white",
            "ticks": ""
           },
           "bgcolor": "#E5ECF6",
           "radialaxis": {
            "gridcolor": "white",
            "linecolor": "white",
            "ticks": ""
           }
          },
          "scene": {
           "xaxis": {
            "backgroundcolor": "#E5ECF6",
            "gridcolor": "white",
            "gridwidth": 2,
            "linecolor": "white",
            "showbackground": true,
            "ticks": "",
            "zerolinecolor": "white"
           },
           "yaxis": {
            "backgroundcolor": "#E5ECF6",
            "gridcolor": "white",
            "gridwidth": 2,
            "linecolor": "white",
            "showbackground": true,
            "ticks": "",
            "zerolinecolor": "white"
           },
           "zaxis": {
            "backgroundcolor": "#E5ECF6",
            "gridcolor": "white",
            "gridwidth": 2,
            "linecolor": "white",
            "showbackground": true,
            "ticks": "",
            "zerolinecolor": "white"
           }
          },
          "shapedefaults": {
           "line": {
            "color": "#2a3f5f"
           }
          },
          "ternary": {
           "aaxis": {
            "gridcolor": "white",
            "linecolor": "white",
            "ticks": ""
           },
           "baxis": {
            "gridcolor": "white",
            "linecolor": "white",
            "ticks": ""
           },
           "bgcolor": "#E5ECF6",
           "caxis": {
            "gridcolor": "white",
            "linecolor": "white",
            "ticks": ""
           }
          },
          "title": {
           "x": 0.05
          },
          "xaxis": {
           "automargin": true,
           "gridcolor": "white",
           "linecolor": "white",
           "ticks": "",
           "title": {
            "standoff": 15
           },
           "zerolinecolor": "white",
           "zerolinewidth": 2
          },
          "yaxis": {
           "automargin": true,
           "gridcolor": "white",
           "linecolor": "white",
           "ticks": "",
           "title": {
            "standoff": 15
           },
           "zerolinecolor": "white",
           "zerolinewidth": 2
          }
         }
        },
        "title": {
         "text": "Differentiated vs Undifferentiated Components (cells)"
        },
        "width": 600,
        "xaxis": {
         "anchor": "y",
         "domain": [
          0,
          1
         ],
         "title": {
          "text": "Differentiated Component"
         }
        },
        "yaxis": {
         "anchor": "x",
         "domain": [
          0,
          1
         ],
         "title": {
          "text": "Undifferentiated Component"
         }
        }
       }
      }
     },
     "metadata": {},
     "output_type": "display_data"
    }
   ],
   "source": [
    "px.scatter(\n",
    "    x=cells_diff,\n",
    "    y=cells_undiff,\n",
    "    color=adata.obs[\"cell_type\"],\n",
    "    title=\"Differentiated vs Undifferentiated Components (cells)\",\n",
    "    labels={\"x\": \"Differentiated Component\", \"y\": \"Undifferentiated Component\"},\n",
    "    width=600,\n",
    "    height=600,\n",
    ")"
   ]
  },
  {
   "cell_type": "markdown",
   "id": "3839bea7",
   "metadata": {},
   "source": [
    "Hm, so maybe the training labels are leaking PC info in here.\n",
    "- Above result could be more trivial than I'd like."
   ]
  },
  {
   "cell_type": "markdown",
   "id": "8eec7f9c",
   "metadata": {},
   "source": [
    "# Contrastive directions"
   ]
  },
  {
   "cell_type": "code",
   "execution_count": 46,
   "id": "66738272",
   "metadata": {},
   "outputs": [],
   "source": [
    "output_dir = torch.tensor([1.,0.,0.])\n",
    "q = einops.einsum(output_dir, b, \"out, out in1 in2 -> in1 in2\")\n",
    "_, vecs = torch.linalg.eigh(q)\n",
    "genes_zero = vecs[:,-1]\n",
    "\n",
    "output_dir = torch.tensor([1.,-1.,-1.])  # negate other directions\n",
    "q = einops.einsum(output_dir, b, \"out, out in1 in2 -> in1 in2\")\n",
    "_, vecs = torch.linalg.eigh(q)\n",
    "genes_negative = vecs[:,-1]"
   ]
  },
  {
   "cell_type": "code",
   "execution_count": 47,
   "id": "d9950b7c",
   "metadata": {},
   "outputs": [
    {
     "data": {
      "application/vnd.plotly.v1+json": {
       "config": {
        "plotlyServerURL": "https://plot.ly"
       },
       "data": [
        {
         "hovertemplate": "<b>%{hovertext}</b><br><br>Without negating=%{x}<br>With negating=%{y}<extra></extra>",
         "hovertext": [
          "0610007L01Rik",
          "0610009O20Rik",
          "0610010K14Rik",
          "0910001L09Rik",
          "1100001G20Rik",
          "1110002B05Rik",
          "1110004E09Rik",
          "1110007A13Rik",
          "1110007C09Rik",
          "1110013L07Rik",
          "1110020G09Rik",
          "1110034G24Rik",
          "1110038B12Rik",
          "1110049F12Rik",
          "1110059E24Rik",
          "1190002H23Rik",
          "1190007F08Rik",
          "1200002N14Rik",
          "1300001I01Rik",
          "1300017J02Rik",
          "1500001M20Rik",
          "1500012F01Rik",
          "1500032L24Rik",
          "1600014C10Rik",
          "1700001L05Rik",
          "1700012B09Rik",
          "1700017B05Rik",
          "1700020L24Rik",
          "1810009A15Rik",
          "1810011H11Rik",
          "1810027O10Rik",
          "1810030N24Rik",
          "1810031K17Rik",
          "1810033B17Rik",
          "1810037I17Rik",
          "2010002N04Rik",
          "2010011I20Rik",
          "2010106G01Rik",
          "2210016F16Rik",
          "2210020M01Rik",
          "2210023G05Rik",
          "2210404O07Rik",
          "2210411K11Rik",
          "2310003C23Rik",
          "2310003F16Rik",
          "2310005E10Rik",
          "2310014H01Rik",
          "2310022B05Rik",
          "2310028O11Rik",
          "2410006H16Rik",
          "2510002D24Rik",
          "2510003E04Rik",
          "2610018G03Rik",
          "2610024G14Rik",
          "2610029G23Rik",
          "2610029I01Rik",
          "2610035D17Rik",
          "2610101N10Rik",
          "2700094K13Rik",
          "2810004N23Rik",
          "2810417H13Rik",
          "2810474O19Rik",
          "2900010J23Rik",
          "2900010M23Rik",
          "2900026A02Rik",
          "2900073G15Rik",
          "3110003A17Rik",
          "3110056O03Rik",
          "4632415L05Rik",
          "4632428N05Rik",
          "4930473A06Rik",
          "4930486L24Rik",
          "4930503E24Rik",
          "4930534B04Rik",
          "4931406C07Rik",
          "5033406O09Rik",
          "5430435G22Rik",
          "5730469M10Rik",
          "5730508B09Rik",
          "5730528L13Rik",
          "5830405N20Rik",
          "5830432E09Rik",
          "6030458C11Rik",
          "6330416G13Rik",
          "6330503K22Rik",
          "6720456B07Rik",
          "8430419L09Rik",
          "8430427H17Rik",
          "9030617O03Rik",
          "9130206I24Rik",
          "9130208E07Rik",
          "9230105E10Rik",
          "9530068E07Rik",
          "9530077C05Rik",
          "9630033F20Rik",
          "9830001H06Rik",
          "A030009H04Rik",
          "A930001N09Rik",
          "AA987161",
          "AB124611",
          "AI467606",
          "AI504432",
          "AI848100",
          "AK003943",
          "AK004850",
          "AK005678",
          "AK005967",
          "AK011885",
          "AK012007",
          "AK015096",
          "AK019114",
          "AK020398",
          "AK028012",
          "AK031079",
          "AK031561",
          "AK032662",
          "AK040705",
          "AK041647",
          "AK042041",
          "AK042223",
          "AK046417",
          "AK051928",
          "AK052414",
          "AK052812",
          "AK053193",
          "AK076954",
          "AK079675",
          "AK080025",
          "AK080350",
          "AK081788",
          "AK081796",
          "AK084646",
          "AK085695",
          "AK087942",
          "AK089379",
          "AK142847",
          "AK144329",
          "AK146183",
          "AK150559",
          "AK152437",
          "AK153212",
          "AK153427",
          "AK153575",
          "AK154077",
          "AK158095",
          "AK163149",
          "AK164126",
          "AK169831",
          "AK172428",
          "AK182549",
          "AK185715",
          "AK188353",
          "AK189633",
          "AK197603",
          "AK202301",
          "AK210533",
          "AK211593",
          "AK217941",
          "AKAP95",
          "Aak1",
          "Abca3",
          "Abcb10",
          "Abcb1b",
          "Abcb4",
          "Abcb6",
          "Abcb9",
          "Abcc4",
          "Abcd1",
          "Abcd2",
          "Abce1",
          "Abcf1",
          "Abcg1",
          "Abcg2",
          "Abcg4",
          "Abhd14b",
          "Abhd15",
          "Abhd16a",
          "Abi2",
          "Ablim1",
          "Abr",
          "Abtb2",
          "Acadl",
          "Ache",
          "Acin1",
          "Aco1",
          "Acot1",
          "Acot13",
          "Acot7",
          "Acot9",
          "Acox3",
          "Acpl2",
          "Acsl1",
          "Acsl5",
          "Acsl6",
          "Acss1",
          "Acss2",
          "Actb",
          "Actl6a",
          "Actn1",
          "Actr2",
          "Actr3",
          "Acyp1",
          "Ada",
          "Adam15",
          "Adamts10",
          "Adamts3",
          "Adap1",
          "Adat3",
          "Adcy6",
          "Add1",
          "Add2",
          "Add3",
          "Adh5",
          "Adipor2",
          "Adk",
          "Adrbk1",
          "Adrbk2",
          "Adsl",
          "Adssl1",
          "Aes",
          "Afap1",
          "Afap1l1",
          "Aff3",
          "Aff4",
          "Afg3l2",
          "Afmid",
          "Agap1",
          "Agap2",
          "Agfg2",
          "Aggf1",
          "Agpat3",
          "Agpat4",
          "Agpat5",
          "Agps",
          "Agtrap",
          "Ahctf1",
          "Ahdc1",
          "Ahnak",
          "Ahsa1",
          "Aif1",
          "Aim2",
          "Ak2",
          "Ak3",
          "Akap13",
          "Akap8l",
          "Akap9",
          "Akr1a4",
          "Akt1",
          "Alad",
          "Alas1",
          "Alas2",
          "Alcam",
          "Aldh18a1",
          "Aldh1a1",
          "Aldh1a7",
          "Aldh1b1",
          "Aldh1l1",
          "Aldh2",
          "Aldh7a1",
          "Aldoa",
          "Alkbh8",
          "Allergin-1",
          "Alox5",
          "Alox5ap",
          "Amfr",
          "Ammecr1",
          "Ampd3",
          "Anapc1",
          "Anapc11",
          "Anapc13",
          "Anapc2",
          "Anapc5",
          "Angpt1",
          "Ank",
          "Ank1",
          "Ankrd11",
          "Ankrd13a",
          "Ankrd17",
          "Ankrd26",
          "Ankrd43",
          "Ankrd44",
          "Anln",
          "Ano10",
          "Ano6",
          "Anp32a",
          "Anp32b",
          "Anp32e",
          "Anxa2",
          "Anxa3",
          "Anxa5",
          "Anxa6",
          "Aoah",
          "Ap1b1",
          "Ap1m1",
          "Ap1s2",
          "Ap1s3",
          "Ap2a2",
          "Ap3s1",
          "Apba1",
          "Apbb1ip",
          "Apeh",
          "Apip",
          "Aplp2",
          "Apob48r",
          "Apobec3",
          "Apoe",
          "App",
          "Appl1",
          "Aprt",
          "Aqp1",
          "Aqp11",
          "Aqp9",
          "Aqr",
          "Arap2",
          "Arap3",
          "Arf1",
          "Arf4",
          "Arf5",
          "Arglu1",
          "Arhgap17",
          "Arhgap19",
          "Arhgap21",
          "Arhgap23",
          "Arhgap25",
          "Arhgap27",
          "Arhgap30",
          "Arhgap31",
          "Arhgap32",
          "Arhgap6",
          "Arhgap9",
          "Arhgdia",
          "Arhgdib",
          "Arhgdig",
          "Arhgef12",
          "Arhgef2",
          "Arhgef25",
          "Arhgef3",
          "Arhgef4",
          "Arhgef40",
          "Arhgef6",
          "Arid1a",
          "Arid1b",
          "Arid2",
          "Arid3a",
          "Arid3b",
          "Arid4b",
          "Arid5a",
          "Arid5b",
          "Arl11",
          "Arl4a",
          "Arl6ip1",
          "Arl8a",
          "Armc9",
          "Arpc1a",
          "Arpc1b",
          "Arpc2",
          "Arpc4",
          "Arrb1",
          "Arsb",
          "Arvcf",
          "As3mt",
          "Asah1",
          "Asap1",
          "Asf1b",
          "Ash1l",
          "Asns",
          "Asp",
          "Asph",
          "Ass1",
          "Asxl1",
          "Atad5",
          "Atf4",
          "Atf7ip",
          "Atg16l2",
          "Atg2b",
          "Atg4b",
          "Atic",
          "Atmin",
          "Atn1",
          "Atox1",
          "Atp10a",
          "Atp10d",
          "Atp11a",
          "Atp13a3",
          "Atp1a3",
          "Atp1b1",
          "Atp1b2",
          "Atp1b3",
          "Atp2a2",
          "Atp2a3",
          "Atp2b1",
          "Atp2b4",
          "Atp5a1",
          "Atp5b",
          "Atp5c1",
          "Atp5d",
          "Atp5f1",
          "Atp5g3",
          "Atp5h",
          "Atp5j2",
          "Atp5o",
          "Atp6ap2",
          "Atp6v0a1",
          "Atp6v0b",
          "Atp6v0c",
          "Atp6v0d1",
          "Atp6v1f",
          "Atp7b",
          "Atp8a1",
          "Atp8b2",
          "Atp8b4",
          "Atp8b5",
          "Atpase6",
          "Atpif1",
          "Atrip",
          "Atrnl1",
          "Atrx",
          "Aurka",
          "Aurkb",
          "Auts2",
          "Aven",
          "B230120H23Rik",
          "B230219D22Rik",
          "B330016D10Rik",
          "B430306N03Rik",
          "B4galnt1",
          "B4galt4",
          "B4galt5",
          "B4galt6",
          "BC002221",
          "BC003965",
          "BC005764",
          "BC019819",
          "BC021614",
          "BC021767",
          "BC024571",
          "BC025067",
          "BC029331",
          "BC031353",
          "BC033430",
          "BC035044",
          "BC048355",
          "BC051142",
          "BC057079",
          "BC064078",
          "BC096441",
          "Bag1",
          "Bag2",
          "Bahcc1",
          "Baiap2",
          "Bambi",
          "Bambi-ps1",
          "Banf1",
          "Basp1",
          "Bat2d",
          "Batf3",
          "Bax",
          "Baz1a",
          "Baz1b",
          "Baz2b",
          "Bcas2",
          "Bcas3",
          "Bcl11a",
          "Bcl2",
          "Bcl2l1",
          "Bcl2l11",
          "Bcl3",
          "Bcl9",
          "Bcl9l",
          "Bclaf1",
          "Bdh1",
          "Bdp1",
          "Beta-s",
          "Bex4",
          "Bex6",
          "Bhlha15",
          "Bin1",
          "Birc3",
          "Birc5",
          "Birc6",
          "Blm",
          "Blnk",
          "Blvra",
          "Blvrb",
          "Bmp1",
          "Bmp2k",
          "Bms1",
          "Bnip2",
          "Bod1l",
          "Bola2",
          "Bola3",
          "Boll",
          "Bptf",
          "Brd1",
          "Brd3",
          "Brd4",
          "Brd7",
          "Brf1",
          "Bri3bp",
          "Brix1",
          "Brpf3",
          "Bsg",
          "Bst2",
          "Btaf1",
          "Btbd3",
          "Btg1",
          "Btg2",
          "Btnl9",
          "Bub1b",
          "Bub3",
          "Butr1",
          "Bzrap1",
          "Bzw1",
          "Bzw2",
          "C184",
          "C1galt1",
          "C1galt1c1",
          "C1qb",
          "C1qbp",
          "C1qc",
          "C1qtnf6",
          "C1rl",
          "C230052I12Rik",
          "C230096C10Rik",
          "C3",
          "C330019G07Rik",
          "C530008M17Rik",
          "Cables1",
          "Cachd1",
          "Cacybp",
          "Cad",
          "Calcoco1",
          "Calm1",
          "Calm2",
          "Calr",
          "Camk1",
          "Camk1d",
          "Camk2a",
          "Camkk1",
          "Camkk2",
          "Camsap1l1",
          "Cand1",
          "Canx",
          "Cap1",
          "Capg",
          "Capn1",
          "Capn3",
          "Capn5",
          "Capns1",
          "Caprin1",
          "Caprin2",
          "Capzb",
          "Car1",
          "Car2",
          "Car9",
          "Card6",
          "Carhsp1",
          "Cars",
          "Casc5",
          "Casp1",
          "Casp11",
          "Casp3",
          "Casp6",
          "Casp7",
          "Cast",
          "Casz1",
          "Cbfa2t3",
          "Cbfb",
          "Cbl",
          "Cbr1",
          "Cbr3",
          "Cbx4",
          "Cbx5",
          "Cbx8",
          "Ccar1",
          "Ccbl1",
          "Ccbl2",
          "Ccdc102a",
          "Ccdc109b",
          "Ccdc125",
          "Ccdc135",
          "Ccdc163",
          "Ccdc23",
          "Ccdc32",
          "Ccdc48",
          "Ccdc50",
          "Ccdc69",
          "Ccdc74a",
          "Ccdc88a",
          "Ccdc88b",
          "Ccl5",
          "Ccl6",
          "Ccl9",
          "Ccnb1",
          "Ccnb2",
          "Ccnd1",
          "Ccnd2",
          "Ccne1",
          "Ccnf",
          "Ccng2",
          "Cct3",
          "Cct4",
          "Cct5",
          "Cct6a",
          "Cct7",
          "Cct8",
          "Cd14",
          "Cd160",
          "Cd1d2",
          "Cd2",
          "Cd244",
          "Cd248",
          "Cd24a",
          "Cd27",
          "Cd274",
          "Cd300a",
          "Cd300lb",
          "Cd300lg",
          "Cd302",
          "Cd34",
          "Cd48",
          "Cd52",
          "Cd53",
          "Cd55",
          "Cd59a",
          "Cd63",
          "Cd68",
          "Cd7",
          "Cd74",
          "Cd79b",
          "Cd81",
          "Cd82",
          "Cd9",
          "Cd93",
          "Cd99l2",
          "Cdc14a",
          "Cdc25b",
          "Cdc34",
          "Cdc37",
          "Cdc42",
          "Cdc42se1",
          "Cdc45",
          "Cdc6",
          "Cdca3",
          "Cdca7",
          "Cdca8",
          "Cdcrel-1",
          "Cdh1",
          "Cdk1",
          "Cdk12",
          "Cdk13",
          "Cdk18",
          "Cdk2ap2",
          "Cdk4",
          "Cdk5r1",
          "Cdk6",
          "Cdkn1a",
          "Cdkn3",
          "Cdr2",
          "Cds1",
          "Cdt1",
          "Cdv3",
          "Cdyl",
          "Ceacam1",
          "Cebpa",
          "Cebpe",
          "Cela1",
          "Celf1",
          "Celf2",
          "Celsr1",
          "Celsr3",
          "Cenp-a",
          "Cenpe",
          "Cenpf",
          "Cenph",
          "Cenpl",
          "Cenpn",
          "Cenpv",
          "Cep350",
          "Cep55",
          "Cercam",
          "Cerk",
          "Cfdp1",
          "Cfl1",
          "Cfp",
          "Cggbp1",
          "Chac2",
          "Chaf1b",
          "Chchd10",
          "Chchd2",
          "Chchd3",
          "Chd1",
          "Chd2",
          "Chd3",
          "Chd4",
          "Chd6",
          "Chd7",
          "Chd8",
          "Chi3l3",
          "Chpf",
          "Chst10",
          "Chst12",
          "Chst13",
          "Cic",
          "Cisd1",
          "Cisd3",
          "Cish",
          "Cit",
          "Cited2",
          "Cited4",
          "Ckap2l",
          "Ckap4",
          "Ckap5",
          "Ckb",
          "Clasp1",
          "Clca5",
          "Clcf1",
          "Clcn3",
          "Cldn13",
          "Cldn15",
          "Clec10a",
          "Clec11a",
          "Clec12a",
          "Clec2d",
          "Clec4d",
          "Clec4e",
          "Clec5a",
          "Clic1",
          "Clic4",
          "Clint1",
          "Clk2",
          "Clnk",
          "Clpp",
          "Clspn",
          "Clta",
          "Cltc",
          "Clu",
          "Clybl",
          "Cma1",
          "Cmah",
          "Cmpk2",
          "Cmtm3",
          "Cmtm4",
          "Cmtm7",
          "Cnbp",
          "Cnn2",
          "Cnn3",
          "Cnnm2",
          "Cnnm4",
          "Cnot1",
          "Cnp",
          "Cnpy2",
          "Cnpy3",
          "Cnr2",
          "Cobll1",
          "Col5a1",
          "Commd4",
          "Commd7",
          "Cope",
          "Copz2",
          "Coq9",
          "Coro1a",
          "Coro1b",
          "Coro2a",
          "Coro7",
          "Cox17",
          "Cox4i1",
          "Cox5a",
          "Cox5b",
          "Cox6a1",
          "Cox6a2",
          "Cox6b1",
          "Cox6b2",
          "Cox7c",
          "Cox8a",
          "Cpa3",
          "Cpne2",
          "Cpne3",
          "Cpox",
          "Cpsf2",
          "Cpt2",
          "Crebbp",
          "Creg1",
          "Creld2",
          "Crim1",
          "Crip1",
          "Crip2",
          "Cs",
          "Csda",
          "Csde1",
          "Csf1",
          "Csf1r",
          "Csf2ra",
          "Csf2rb",
          "Csf2rb2",
          "Csf3r",
          "Csgalnact2",
          "Csk",
          "Csnk1a1",
          "Csnk2b",
          "Csrnp1",
          "Csrp2",
          "Csrp3",
          "Cst3",
          "Cst7",
          "Ctage5",
          "Ctbp1",
          "Ctcf",
          "Ctdspl",
          "Ctla2a",
          "Ctnna1",
          "Ctnnb1",
          "Ctsc",
          "Ctsd",
          "Ctse",
          "Ctsg",
          "Ctsh",
          "Ctsl",
          "Ctss",
          "Ctsw",
          "Ctsz",
          "Cttn",
          "Cuedc1",
          "Cul4a",
          "Cul7",
          "Cul9",
          "Cux1",
          "Cxcl10",
          "Cxcr4",
          "Cxxc1",
          "Cyb5",
          "Cyb5b",
          "Cyb5r3",
          "Cyba",
          "Cybb",
          "Cyc1",
          "Cyfip1",
          "Cyfip2",
          "Cyhr1",
          "Cyp11a1",
          "Cyp27a1",
          "Cyp4f16",
          "Cyp4f18",
          "Cyth1",
          "Cyth3",
          "Cyth4",
          "Cytip",
          "D16H22S680E",
          "D17Wsu104e",
          "D17Wsu92e",
          "D18Ertd653e",
          "D230014K01Rik",
          "D4Wsu53e",
          "D6Mm5e",
          "D930016D06Rik",
          "DAPK2",
          "Daam1",
          "Dab2ip",
          "Dach1",
          "Dap",
          "Dap3",
          "Dapp1",
          "Darc",
          "Dazap1",
          "Dazap2",
          "Dbndd2",
          "Dbnl",
          "Dcaf4",
          "Dcaf7",
          "Dcaf8",
          "Dck",
          "Dclk2",
          "Dclre1a",
          "Dctn5",
          "Dctpp1",
          "Ddah2",
          "Ddb1",
          "Ddit4",
          "Ddost",
          "Ddx1",
          "Ddx17",
          "Ddx21",
          "Ddx23",
          "Ddx24",
          "Ddx27",
          "Ddx39",
          "Ddx3x",
          "Ddx46",
          "Ddx5",
          "Ddx58",
          "Ddx6",
          "Def6",
          "Def8",
          "Dek",
          "Dennd1b",
          "Dennd1c",
          "Dennd2d",
          "Dennd3",
          "Dennd4a",
          "Deptor",
          "Dgat2",
          "Dgkg",
          "Dhdh",
          "Dhrs11",
          "Dhrs3",
          "Dhrs4",
          "Dhrs7",
          "Dhx38",
          "Dia2",
          "Diap2",
          "Dido1",
          "Dio2",
          "Dis3",
          "Dkkl1",
          "Dlat",
          "Dlg3",
          "Dlgap5",
          "Dlst",
          "Dmkn",
          "Dmwd",
          "Dmxl1",
          "Dnahc8",
          "Dnaja3",
          "Dnaja4",
          "Dnajb1",
          "Dnajb11",
          "Dnajb2",
          "Dnajb3",
          "Dnajb9",
          "Dnajc10",
          "Dnajc11",
          "Dnajc19",
          "Dnajc2",
          "Dnajc3",
          "Dnajc6",
          "Dnajc8",
          "Dnhd1",
          "Dnmt1",
          "Dnmt3a",
          "Dnmt3b",
          "Dnpep",
          "Dntt",
          "Dnttip2",
          "Dock1",
          "Dock10",
          "Dock2",
          "Dock7",
          "Dock8",
          "Dok2",
          "Dok3",
          "Dopey2",
          "Dpp4",
          "Dpp9",
          "Dpy19l1",
          "Dpy19l3",
          "Dpysl2",
          "Drctnnb1a",
          "Drosha",
          "Dst",
          "Dstn",
          "Dstyk",
          "Dtl",
          "Dtnbp1",
          "Dtx3",
          "Dtx4",
          "Dus1l",
          "Dusp11",
          "Dusp16",
          "Dusp18",
          "Dusp22",
          "Dusp23",
          "Dusp3",
          "Dut",
          "Dym",
          "Dync1h1",
          "Dync1i2",
          "Dynlrb1",
          "Dyrk3",
          "E130012A19Rik",
          "E130308A19Rik",
          "E2f2",
          "E2f4",
          "E2f8",
          "E330016A19Rik",
          "ENSMUSG00000073540",
          "ENSMUSG00000073777",
          "Ebi3",
          "Ebna1bp2",
          "Ece1",
          "Echs1",
          "Ecm1",
          "Edem1",
          "Edem2",
          "Edf1",
          "Eef1b2",
          "Eef1d",
          "Eef1e1",
          "Eef1g",
          "Eef2",
          "Eepd1",
          "Efcab4a",
          "Efhd2",
          "Efnb1",
          "Eftud2",
          "Egfl7",
          "Egln3",
          "Egr1",
          "Ehd1",
          "Ehd3",
          "Ehmt2",
          "Eif1ax",
          "Eif2ak1",
          "Eif2b1",
          "Eif2b4",
          "Eif2c2",
          "Eif2c3",
          "Eif2d",
          "Eif2s2",
          "Eif3a",
          "Eif3b",
          "Eif3c",
          "Eif3d",
          "Eif3f",
          "Eif3g",
          "Eif3h",
          "Eif3i",
          "Eif3k",
          "Eif3m",
          "Eif4a1",
          "Eif4b",
          "Eif4e2",
          "Eif4e3",
          "Eif4ebp1",
          "Eif4ebp2",
          "Eif4enif1",
          "Eif4g1",
          "Eif4g2",
          "Eif4g3",
          "Eif5",
          "Eif5b",
          "Elane",
          "Elavl1",
          "Elf1",
          "Elk3",
          "Ell2",
          "Elmo1",
          "Elovl5",
          "Elovl7",
          "Eltd1",
          "Emb",
          "Emg1",
          "Emid1",
          "Emilin1",
          "Emilin2",
          "Eml4",
          "Emp3",
          "Endod1",
          "Ep400",
          "Epb4.1",
          "Epb4.1l2",
          "Epb4.1l4b",
          "Epb4.9",
          "Epdr1",
          "Ephx2",
          "Epn1",
          "Epor",
          "Eprs",
          "Eps15",
          "Epsti1",
          "Epx",
          "Erbb2ip",
          "Erc1",
          "Ermap",
          "Ern1",
          "Ero1l",
          "Ero1lb",
          "Erp29",
          "Erp44",
          "Esco2",
          "Espl1",
          "Esyt1",
          "Etf1",
          "Etfa",
          "Etfb",
          "Etfdh",
          "Etnk1",
          "Ets1",
          "Etv6",
          "Evi2b",
          "Evl",
          "Exoc3l2",
          "Exoc6",
          "Exosc2",
          "Exosc5",
          "Exosc7",
          "Exosc8",
          "Ext1",
          "Eya2",
          "Ezh2",
          "Ezr",
          "F10",
          "F13a1",
          "F2r",
          "F2rl3",
          "F5",
          "FKBP12-T1",
          "FKBP1b-B",
          "Faah",
          "Fabp5",
          "Fads1",
          "Fads3",
          "Fam101b",
          "Fam102a",
          "Fam105a",
          "Fam107b",
          "Fam108b",
          "Fam109b",
          "Fam110a",
          "Fam117a",
          "Fam129a",
          "Fam129c",
          "Fam132a",
          "Fam134a",
          "Fam134b",
          "Fam158a",
          "Fam160a2",
          "Fam162a",
          "Fam168b",
          "Fam174b",
          "Fam176b",
          "Fam184a",
          "Fam195a",
          "Fam195b",
          "Fam20c",
          "Fam26f",
          "Fam43a",
          "Fam46a",
          "Fam49b",
          "Fam53b",
          "Fam55b",
          "Fam55c",
          "Fam59a",
          "Fam64a",
          "Fam65a",
          "Fam65b",
          "Fam69b",
          "Fam78a",
          "Fam82a2",
          "Fam96b",
          "Fance",
          "Far2",
          "Fasn",
          "Fau",
          "Fba",
          "Fbp1",
          "Fbxl20",
          "Fbxl8",
          "Fbxo10",
          "Fbxo4",
          "Fbxo5",
          "Fbxo7",
          "Fbxo9",
          "Fbxw10",
          "Fcer1g",
          "Fcgr2b",
          "Fcgr3",
          "Fcgrt",
          "Fcho1",
          "Fchsd2",
          "Fcnb",
          "Fech",
          "Fen1",
          "Fermt3",
          "Fes",
          "Ffar2",
          "Fgd2",
          "Fgd3",
          "Fgf3",
          "Fgfrl1",
          "Fgl2",
          "Fh1",
          "Fhdc1",
          "Ficd",
          "Filip1l",
          "Fis1",
          "Fkbp11",
          "Fkbp2",
          "Fkbp4",
          "Fkbp5",
          "Fli1",
          "Flna",
          "Flnb",
          "Flot2",
          "Flt3",
          "Flt3l",
          "Fmnl3",
          "Fmr1",
          "Fnbp1",
          "Fnbp1l",
          "Fnbp4",
          "Fndc3a",
          "Fndc3b",
          "Fos",
          "Foxj1",
          "Foxn3",
          "Foxo1",
          "Foxp1",
          "Foxred2",
          "Fr1",
          "Frat1",
          "Frat2",
          "Frmd4a",
          "Fth1",
          "Ftl1",
          "Ftsj1",
          "Ftsj3",
          "Fubp1",
          "Fuca2",
          "Fut4",
          "Fut7",
          "Fut8",
          "Fxn",
          "Fxyd5",
          "Fyb",
          "Fyn",
          "Fyr",
          "G0s2",
          "G3bp2",
          "G6pc3",
          "G6pdx",
          "Gab2",
          "Gabarapl1",
          "Gabpb2",
          "Gadd45a",
          "Gadd45b",
          "Galc",
          "Galk1",
          "Galns",
          "Galnt1",
          "Galnt11",
          "Galnt12",
          "Galnt2",
          "Galnt6",
          "Gamt",
          "Ganab",
          "Gapt",
          "Gapvd1",
          "Gar1",
          "Gars",
          "Gart",
          "Gas5",
          "Gas7",
          "Gata1",
          "Gata2",
          "Gatad2b",
          "Gatm",
          "Gatsl3",
          "Gbp10",
          "Gbp2",
          "Gbx2",
          "Gcat",
          "Gch1",
          "Gclc",
          "Gclm",
          "Gda",
          "Gdf3",
          "Gdi2",
          "Gdpd1",
          "Gdpd3",
          "Gemin5",
          "Get4",
          "Gfer",
          "Gfi1",
          "Gfi1b",
          "Gfm1",
          "Gfod1",
          "Gfpt1",
          "Gga2",
          "Ggh",
          "Ggt5",
          "Ggta1",
          "Gigyf2",
          "Gimap1",
          "Gimap5",
          "Gimap6",
          "Gimap7",
          "Git2",
          "Gja1",
          "Gjb3",
          "Glb1",
          "Glb1l",
          "Glg1",
          "Glipr1",
          "Glipr2",
          "Glo1",
          "Glrx5",
          "Gltscr2",
          "Glud1",
          "Gm10653",
          "Gm14005",
          "Gm14085",
          "Gm15800",
          "Gm16515",
          "Gm1966",
          "Gm2058",
          "Gm2a",
          "Gm4759",
          "Gm4902",
          "Gm5057",
          "Gm5506",
          "Gm608",
          "Gm672",
          "Gm7694",
          "Gmfg",
          "Gmip",
          "Gmpr",
          "Gna14",
          "Gna15",
          "Gnai2",
          "Gnas",
          "Gnb2l1",
          "Gng10",
          "Gng11",
          "Gng12",
          "Gng2",
          "Gnl2",
          "Gnl3",
          "Gnl3l",
          "Gnpda2",
          "Gnptab",
          "Golga4",
          "Golm1",
          "Gorasp2",
          "Gp1ba",
          "Gp5",
          "Gp9",
          "Gpatch8",
          "Gpbp1",
          "Gpc1",
          "Gpc4",
          "Gpi1",
          "Gpn3",
          "Gpr132",
          "Gpr171",
          "Gpr18",
          "Gpr183",
          "Gpr56",
          "Gpr84",
          "Gpr97",
          "Gps2",
          "Gpt2",
          "Gpx1",
          "Gpx3",
          "Gpx4",
          "Gramd1b",
          "Gramd3",
          "Grap",
          "Grb10",
          "Grb2",
          "Grhpr",
          "Gria3",
          "Grina",
          "Grk6",
          "Grn",
          "Gsn",
          "Gspt1",
          "Gsr",
          "Gstm1",
          "Gstm4",
          "Gstm5",
          "Gstm7",
          "Gsto1",
          "Gstp1",
          "Gstt3",
          "Gtf2a2",
          "Gtf2f1",
          "Gtf2h1",
          "Gtf2h3",
          "Gtf2i",
          "Gtpbp1",
          "Guca1a",
          "Gucy1a3",
          "Guk1",
          "Gusb",
          "Gxylt1",
          "Gyg",
          "Gypa",
          "Gypc",
          "Gzma",
          "Gzmb",
          "Gzmm",
          "H13",
          "H1f0",
          "H1fx",
          "H2-Aa",
          "H2-Ab1",
          "H2-D1",
          "H2-DMa",
          "H2-DMb1",
          "H2-Eb1",
          "H2-K1",
          "H2-Ke2",
          "H2-M3",
          "H2-Oa",
          "H2-Ob",
          "H2-Q7",
          "H2-T10",
          "H2afj",
          "H2afv",
          "H2afx",
          "H2afy",
          "H3f3a",
          "H47",
          "HDAC7",
          "HLS2",
          "Haao",
          "Hadh",
          "Hadha",
          "Hagh",
          "Hars",
          "Hausp",
          "Hba-a2",
          "Hbb-b1",
          "Hcfc1",
          "Hck",
          "Hcst",
          "Hdac5",
          "Hdac6",
          "Hdc",
          "Hdgf",
          "Hdlbp",
          "Heatr1",
          "Heatr3",
          "Heatr5a",
          "Hebp1",
          "Hectd1",
          "Heg1",
          "Hells",
          "Hemgn",
          "Herc1",
          "Herc2",
          "Herpud1",
          "Hes1",
          "Hexa",
          "Hexb",
          "Hfe",
          "Hif3a",
          "Higd2a",
          "Hint1",
          "Hip1",
          "Hip1r",
          "Hipk1",
          "Hist1h2an",
          "Hivep2",
          "Hk1",
          "Hk2",
          "Hk3",
          "Hlf",
          "Hlx",
          "Hmbs",
          "Hmgb2",
          "Hmgb3",
          "Hmgcl",
          "Hmgn1",
          "Hmgn2",
          "Hmgn3",
          "Hmha1",
          "Hmmr",
          "Hmox1",
          "Hn1",
          "Hnf4a",
          "Hnrnpab",
          "Hnrnpc",
          "Hnrnpd",
          "Hnrnph1",
          "Hnrnpk",
          "Hnrnpm",
          "Hnrnpul1",
          "Hnrpdl",
          "Homer2",
          "Homer3",
          "Hoxa5",
          "Hoxa7",
          "Hoxa9",
          "Hp",
          "Hp1bp3",
          "Hpn",
          "Hprt",
          "Hps3",
          "Hras1",
          "Hs6st1",
          "Hsd11b1",
          "Hsd17b1",
          "Hsd17b10",
          "Hsd17b11",
          "Hsd17b12",
          "Hsp90ab1",
          "Hsp90b1",
          "Hspa14",
          "Hspa2",
          "Hspa4",
          "Hspa4l",
          "Hspa5",
          "Hspa8",
          "Hspbp1",
          "Hspd1",
          "Hspe1",
          "Hsph1",
          "HtrA2",
          "Huwe1",
          "Hyal1",
          "Hyal2",
          "Hyi",
          "Hyou1",
          "I830077J02Rik",
          "ISG12a",
          "Iars",
          "Iars2",
          "Ica1",
          "Icam2",
          "Icam4",
          "Id1",
          "Id2",
          "Idh1",
          "Idh2",
          "Idh3a",
          "Idh3b",
          "Ier3",
          "Ier3ip1",
          "Ier5",
          "Iffo2",
          "Ifi203",
          "Ifi27l2a",
          "Ifi30",
          "Ifih1",
          "Ifitm1",
          "Ifitm2",
          "Ifitm3",
          "Ifnar2",
          "Ifngr1",
          "Ifngr2",
          "Ifrd2",
          "Ift140",
          "Igf1r",
          "Igf2r",
          "Igfbp4",
          "Igsf3",
          "Igsf6",
          "Igtp",
          "Ikbke",
          "Ikzf1",
          "Ikzf2",
          "Il10ra",
          "Il12a",
          "Il15",
          "Il16",
          "Il17ra",
          "Il17rb",
          "Il1r1",
          "Il1rl1",
          "Il21r",
          "Il2rb",
          "Il31ra",
          "Il3ra",
          "Il4ra",
          "Il6ra",
          "Il6st",
          "Immt",
          "Imp3",
          "Imp4",
          "Impa2",
          "Impdh1",
          "Incenp",
          "Inf2",
          "Ing1",
          "Ino80d",
          "Inpp5d",
          "Integrin Alpha-4",
          "Ints8",
          "Ipmk",
          "Ipo4",
          "Ipo5",
          "Iqgap1",
          "Iqgap2",
          "Irak-M",
          "Irf1",
          "Irf2",
          "Irf2bp2",
          "Irf5",
          "Irf7",
          "Irf8",
          "Irf9",
          "Irg1",
          "Irgm1",
          "Isca1",
          "Isca2",
          "Isg15",
          "Isg20",
          "Isg20l2",
          "Isoc1",
          "Isyna1",
          "Itga2b",
          "Itga6",
          "Itgal",
          "Itgam",
          "Itgav",
          "Itgax",
          "Itgb1",
          "Itgb2",
          "Itgb3",
          "Itgb5",
          "Itgb7",
          "Itih5",
          "Itm2a",
          "Itm2b",
          "Itm2c",
          "Itpr1",
          "Itpr3",
          "Itpripl1",
          "Itpripl2",
          "Itsn1",
          "Iws1",
          "Jak1",
          "Jarid1a",
          "Jdp2",
          "Jmjd1c",
          "Jmy",
          "Jnk2",
          "Josd1",
          "Josd2",
          "Kalrn",
          "Kars",
          "Katnal1",
          "Kbtbd11",
          "Kcc1",
          "Kcnab2",
          "Kcng2",
          "Kcnip3",
          "Kcnk12",
          "Kcnk6",
          "Kcnn4",
          "Kcnq5",
          "Kctd1",
          "Kctd12",
          "Kctd14",
          "Kctd17",
          "Kctd20",
          "Kdelc2",
          "Kdelr2",
          "Kdm2a",
          "Kdm3a",
          "Kdm3b",
          "Kdm5b",
          "Kel",
          "Khdrbs1",
          "Khk",
          "Khsrp",
          "Kiaa0028",
          "Kif11",
          "Kif15",
          "Kif17",
          "Kif18b",
          "Kif1b",
          "Kif21b",
          "Kif22",
          "Kif23",
          "Kif2a",
          "Kif3a",
          "Kif4",
          "Kit",
          "Klf1",
          "Klf13",
          "Klf2",
          "Klf3",
          "Klf4",
          "Klf6",
          "Klf9",
          "Klhdc2",
          "Klhdc3",
          "Klhdc8b",
          "Klhl22",
          "Klhl36",
          "Klhl5",
          "Klk8",
          "Klrb1c",
          "Klrb1f",
          "Klrk1",
          "Kpc1",
          "Kpnb1",
          "Krt18",
          "Krtcap2",
          "Kti12",
          "Ktn1",
          "L1cam",
          "L3mbtl3",
          "LPCAT4",
          "Lair1",
          "Lamp1",
          "Lap3",
          "Laptm5",
          "Larp1",
          "Larp1b",
          "Larp7",
          "Lars",
          "Lass5",
          "Lat",
          "Lat2",
          "Lbh",
          "Lbp",
          "Lck",
          "Lcn2",
          "Lcp1",
          "Lcp2",
          "Ldb1",
          "Ldha",
          "Ldhb",
          "Ldlrad3",
          "Lefty1",
          "Leprot",
          "Lfng",
          "Lgals1",
          "Lgals3",
          "Lgals3bp",
          "Lgals9",
          "Lgmn",
          "Lias",
          "Lig1",
          "Lilrb3",
          "Limd1",
          "Limd2",
          "Lims1",
          "Litaf",
          "Lman1",
          "Lman2",
          "Lmcd1",
          "Lmna",
          "Lmnb1",
          "Lmnb2",
          "Lmo1",
          "Lmo2",
          "Lmo4",
          "Lonp1",
          "Lonp2",
          "Lpar2",
          "Lpar6",
          "Lpcat2",
          "Lpcat4",
          "Lpgat1",
          "Lphn1",
          "Lphn2",
          "Lpin1",
          "Lpin2",
          "Lpla2",
          "Lrg1",
          "Lrmp",
          "Lrp1",
          "Lrp4",
          "Lrp5",
          "Lrp8",
          "Lrpprc",
          "Lrrc1",
          "Lrrc14",
          "Lrrc24",
          "Lrrc33",
          "Lrrc58",
          "Lrrc8c",
          "Lrrfip1",
          "Lrrk2",
          "Lrwd1",
          "Lsm14a",
          "Lsm2",
          "Lsm4",
          "Lsp1",
          "Lta4h",
          "Ltb4r1",
          "Ltbr",
          "Luc7l",
          "Luc7l2",
          "Luc7l3",
          "Luzp1",
          "Lxn",
          "Ly6c2",
          "Ly6d",
          "Ly6e",
          "Ly86",
          "Ly9",
          "Lyar",
          "Lyl1",
          "Lysmd2",
          "Lyst",
          "Lyz1",
          "M-rdgB beta",
          "M6prbp1",
          "MRPL33",
          "MRPS11",
          "Macf1",
          "Mad2l1",
          "Maged2",
          "Magoh",
          "Magt1",
          "Malat1",
          "Malt1",
          "Maml3",
          "Man1a",
          "Man1c1",
          "Man2b1",
          "Manf",
          "Map1lc3b",
          "Map2k2",
          "Map3k14",
          "Map3k3",
          "Map3k5",
          "Map4",
          "Map4k3",
          "Map4k4",
          "Mapk14",
          "Mapk6",
          "Mapkapk2",
          "Mapkapk3",
          "Mapre1",
          "Marcksl1",
          "Mars",
          "Marveld1",
          "Mast2",
          "Mast4",
          "Mat2a",
          "Mat2b",
          "Matn2",
          "Mbd2",
          "Mbnl1",
          "Mboat1",
          "Mbp",
          "Mcf2l",
          "Mcm10",
          "Mcm2",
          "Mcm3",
          "Mcm4",
          "Mcm5",
          "Mcm6",
          "Mcm7",
          "Mcph1",
          "Mcpt4",
          "Mcpt8",
          "Mctp1",
          "Mdga1",
          "Mdh1",
          "Mdh2",
          "Mdn1",
          "Me2",
          "Mecr",
          "Med13l",
          "Med20",
          "Med25",
          "Med30",
          "Med7",
          "Mef2c",
          "Mefv",
          "Megf12",
          "Meis1",
          "Memo1",
          "Metap2",
          "Mett10d",
          "Mettl13",
          "Mfap1b",
          "Mfap3",
          "Mfge8",
          "Mfhas1",
          "Mfn1",
          "Mfsd10",
          "Mfsd2b",
          "Mfsd6",
          "Mgam",
          "Mgat4a",
          "Mgat5",
          "Mgl2",
          "Mgll",
          "Mgst1",
          "Mgst2",
          "Mgst3",
          "Mical1",
          "Mical3",
          "Micall2",
          "Mier1",
          "Mier3",
          "Minpp1",
          "Mipol1",
          "Mir142",
          "Mir1903",
          "Mki67",
          "Mki67ip",
          "Mkl1",
          "Mknk2",
          "Mkrn1",
          "Mlec",
          "Mll1",
          "Mll2",
          "Mll3",
          "Mllt3",
          "Mllt6",
          "Mmgt2",
          "Mmp14",
          "Mnda",
          "Mndal",
          "Mns1",
          "Mobkl2a",
          "Mogat2",
          "Mogs",
          "Morf4l2",
          "Mosc2",
          "Mospd3",
          "Mpeg1",
          "Mpl",
          "Mpnd",
          "Mpo",
          "Mpp4",
          "Mpp6",
          "Mras",
          "Mrgpre",
          "Mrp63",
          "Mrpl12",
          "Mrpl15",
          "Mrpl17",
          "Mrpl18",
          "Mrpl20",
          "Mrpl22",
          "Mrpl28",
          "Mrpl3",
          "Mrpl30",
          "Mrpl34",
          "Mrpl35",
          "Mrpl37",
          "Mrpl38",
          "Mrpl42",
          "Mrpl45",
          "Mrpl47",
          "Mrpl52",
          "Mrpl54",
          "Mrpl55",
          "Mrpl9",
          "Mrps22",
          "Mrps24",
          "Mrps26",
          "Mrps28",
          "Mrps36",
          "Mrps5",
          "Mrto4",
          "Mrvi1",
          "Ms4a4b",
          "Ms4a6b",
          "Ms4a6c",
          "Msh6",
          "Msi2",
          "Msn",
          "Mt1",
          "Mt2",
          "Mta1",
          "Mta2",
          "Mta3",
          "Mtch2",
          "Mtdh",
          "Mtfp1",
          "Mtfr1",
          "Mthfd1",
          "Mthfd2",
          "Mtmr14",
          "Mtss1",
          "Mtus1",
          "Mtx2",
          "Muc13",
          "Mutyh",
          "Myadm",
          "Myb",
          "Mybbp1a",
          "Myc",
          "Mycbp2",
          "Mycn",
          "Myct1",
          "Myeov2",
          "Myh10",
          "Myh9",
          "Myl12b",
          "Mylip",
          "Mylk3",
          "Mylpf",
          "Myo10",
          "Myo15b",
          "Myo1d",
          "Myo1f",
          "Myo1g",
          "Myo5b",
          "Myo7a",
          "Myst3",
          "N4bp2",
          "N4bp2l1",
          "N4bp3",
          "NAAA",
          "Naa25",
          "Naa50",
          "Nab1",
          "Naga",
          "Naglu",
          "Nags",
          "Naip1",
          "Naip2",
          "Nanos3",
          "Nap1l4",
          "Naprt1",
          "Napsa",
          "Narf",
          "Nasp",
          "Nat10",
          "Nat15",
          "Nat8l",
          "Nav1",
          "Nav2",
          "Ncam1",
          "Ncapd2",
          "Ncapg2",
          "Ncbp1",
          "Ncf1",
          "Ncf2",
          "Ncf4",
          "Nckap1",
          "Nckap5l",
          "Nckipsd",
          "Ncl",
          "Ncln",
          "Ncoa2",
          "Ncoa3",
          "Ncoa6",
          "Ncor1",
          "Ncs1",
          "Ndrg1",
          "Ndst1",
          "Ndst2",
          "Ndufa10",
          "Ndufa12",
          "Ndufa13",
          "Ndufa7",
          "Ndufb10",
          "Ndufb2",
          "Ndufb5",
          "Ndufb6",
          "Ndufb8",
          "Ndufb9",
          "Ndufc2",
          "Ndufs1",
          "Ndufs2",
          "Ndufs6",
          "Ndufs7",
          "Ndufv1",
          "Ndufv2",
          "Ndufv3",
          "Necap2",
          "Nedd4",
          "Nedd9",
          "Nefh",
          "Neil3",
          "Nek6",
          "Nenf",
          "Net1",
          "Neu1",
          "Neurl3",
          "Nfam1",
          "Nfat5",
          "Nfatc1",
          "Nfatc2",
          "Nfatc3",
          "Nfe2",
          "Nfe2l1",
          "Nfe2l2",
          "Nfia",
          "Nfic",
          "Nfil3",
          "Nfix",
          "Nfkb1",
          "Nfkbia",
          "Nfkbie",
          "Nfs1",
          "Nfya",
          "Ng23",
          "Ngly1",
          "Nhlrc2",
          "Nhsl2",
          "Nin",
          "Ninj1",
          "Ninl",
          "Nipsnap1",
          "Nkg7",
          "Nlgn2",
          "Nlrx1",
          "Nmd3",
          "Nme1",
          "Nme2",
          "Nme4",
          "Nmral1",
          "Noc3l",
          "Noc4l",
          "Nod1",
          "Nol11",
          "Nol7",
          "Nol9",
          "Nolc1",
          "Nop14",
          "Nop2",
          "Nop58",
          "Npc2",
          "Npl",
          "Npm2",
          "Nqo1",
          "Nr0b2",
          "Nr3c1",
          "Nrg2",
          "Nrgn",
          "Nrip1",
          "Nrp2",
          "Nrxn1",
          "Nsf",
          "Nsmce4a",
          "Nsun2",
          "Nt5c2",
          "Ntng2",
          "Nuak2",
          "Nucb1",
          "Nucb2",
          "Nucks1",
          "Nudc",
          "Nudt19",
          "Nudt3",
          "Nudt9",
          "Numa1",
          "Nup133",
          "Nup160",
          "Nup210",
          "Nup85",
          "Nup93",
          "Nupr1",
          "Nusap1",
          "Nxn",
          "Nxt1",
          "Oaf",
          "Oasl1",
          "Oat",
          "Ociad1",
          "Ocrl",
          "Odc1",
          "Ogfrl1",
          "Oip5",
          "Olfm1",
          "Olfr56",
          "Olr1",
          "Opa1",
          "Optn",
          "Orai2",
          "Orc2",
          "Orc3",
          "Orc5",
          "Orc6",
          "Ormdl3",
          "Os9",
          "Osbpl1a",
          "Osbpl3",
          "Osbpl5",
          "Osbpl8",
          "Ostc",
          "Ostf1",
          "Otub2",
          "Otud7b",
          "Oxr1",
          "P2rx1",
          "P2rx7",
          "P2ry1",
          "P2ry2",
          "P4hb",
          "PAPK-A",
          "Pa2g4",
          "Pabpc4",
          "Pabpn1",
          "Pacs1",
          "Pacsin2",
          "Padi4",
          "Paics",
          "Paip1",
          "Paip2",
          "Pak1",
          "Pak1ip1",
          "Palm",
          "Pam",
          "Pank1",
          "Panx1",
          "Papola",
          "Papss2",
          "Paqr7",
          "Paqr9",
          "Pard3b",
          "Park7",
          "Parm1",
          "Parp1",
          "Parp14",
          "Parp3",
          "Parp8",
          "Parvb",
          "Parvg",
          "Pbx1",
          "Pbx4",
          "Pcbp1",
          "Pcbp2",
          "Pccb",
          "Pcf11",
          "Pcgf2",
          "Pck2",
          "Pcm1",
          "Pcmtd2",
          "Pcna",
          "Pcnt",
          "Pcnx",
          "Pcp4l1",
          "Pcyt1a",
          "Pcyt1b",
          "Pdap1",
          "Pdcd11",
          "Pdcd4",
          "Pdcd6ip",
          "Pde2a",
          "Pde4d",
          "Pde5a",
          "Pde6d",
          "Pdgfrb",
          "Pdha1",
          "Pdhb",
          "Pdia2",
          "Pdia3",
          "Pdia4",
          "Pdia5",
          "Pdia6",
          "Pdlim1",
          "Pdlim2",
          "Pdlim7",
          "Pdrg1",
          "Pdxk",
          "Pea15a",
          "Pecam1",
          "Peci",
          "Pef1",
          "Peg13",
          "Peli2",
          "Peo1",
          "Per1",
          "Per3",
          "Pex11a",
          "Pf4",
          "Pfdn1",
          "Pfdn5",
          "Pfkfb3",
          "Pfkfb4",
          "Pfkm",
          "Pfkp",
          "Pgd",
          "Pglyrp1",
          "Pglyrp2",
          "Pgp",
          "Phactr2",
          "Phactr4",
          "Phb2",
          "Phc1",
          "Phf10",
          "Phf13",
          "Phf14",
          "Phf19",
          "Phf21a",
          "Phf3",
          "Phf5a",
          "Phgdh",
          "Phldb3",
          "Phospho1",
          "Phyhip",
          "Picalm",
          "Pigq",
          "Pik3ap1",
          "Pik3cd",
          "Pik3cg",
          "Pik3r2",
          "Pik3r5",
          "Pik3r6",
          "Pim1",
          "Pim2",
          "Pip4k2a",
          "Pip5k1b",
          "Pitpna",
          "Pitpnm2",
          "Pitrm1",
          "Pkhd1l1",
          "Pkib",
          "Pkig",
          "Pklr",
          "Pkm2",
          "Pkn2",
          "Pla2g12a",
          "Pla2g16",
          "Plaur",
          "Plbd1",
          "Plcb2",
          "Plcb3",
          "Plcg1",
          "Plcg2",
          "Plcl2",
          "Pld3",
          "Pld4",
          "Plek",
          "Plekha1",
          "Plekha2",
          "Plekhf1",
          "Plekhg2",
          "Plekhg3",
          "Plekhg5",
          "Plekho1",
          "Plod1",
          "Plod3",
          "Plscr1",
          "Plvap",
          "Plxdc1",
          "Plxnb2",
          "Plxnc1",
          "Plxnd1",
          "Pmepa1",
          "Pmf1",
          "Pml",
          "Pmm1",
          "Pnp",
          "Pnp2",
          "Pnpla2",
          "Pnrc1",
          "Pola2",
          "Poldip2",
          "Pole",
          "Pole3",
          "Polq",
          "Polr1a",
          "Polr1b",
          "Polr1c",
          "Polr1d",
          "Polr2e",
          "Polr2f",
          "Polr2j",
          "Polr3d",
          "Pon2",
          "Pop5",
          "Popdc2",
          "Por",
          "Pou2af1",
          "Pou2f2",
          "Ppa1",
          "Ppap2a",
          "Ppat",
          "Ppfia1",
          "Ppfia4",
          "Ppfibp1",
          "Ppfibp2",
          "Ppic",
          "Ppid",
          "Ppif",
          "Ppm1g",
          "Ppm1h",
          "Ppm1l",
          "Ppm1m",
          "Ppox",
          "Ppp1r12a",
          "Ppp1r13b",
          "Ppp1r14b",
          "Ppp1r15a",
          "Ppp1r15b",
          "Ppp1r3d",
          "Ppp1r9b",
          "Ppp2r1b",
          "Ppp2r4",
          "Ppp3cc",
          "Ppp6r1",
          "Ppp6r2",
          "Pprc1",
          "Pqlc3",
          "Pra1",
          "Prc1",
          "Prdm2",
          "Prdm5",
          "Prdx2",
          "Prdx3",
          "Prdx4",
          "Prdx5",
          "Prdx6",
          "Prelid2",
          "Prg2",
          "Prg3",
          "Prim2",
          "Prkaa1",
          "Prkab1",
          "Prkaca",
          "Prkag1",
          "Prkag2",
          "Prkar2b",
          "Prkca",
          "Prkcb",
          "Prkcd",
          "Prkce",
          "Prkch",
          "Prkcq",
          "Prkcsh",
          "Prkd2",
          "Prmt5",
          "Prnd",
          "Prodh",
          "Prom1",
          "Prorsd1",
          "Prpf19",
          "Prpf3",
          "Prpf4b",
          "Prpf8",
          "Prpsap1",
          "Prr13",
          "Prr5",
          "Prrc2b",
          "Prrg4",
          "Prss16",
          "Prss34",
          "Prss50",
          "Prssl1",
          "Prtn3",
          "Psap",
          "Psat1",
          "Psen2",
          "Psip1",
          "Psma7",
          "Psmb1",
          "Psmb10",
          "Psmb2",
          "Psmb3",
          "Psmb4",
          "Psmb6",
          "Psmb7",
          "Psmb8",
          "Psmb9",
          "Psmc1",
          "Psmc2",
          "Psmc3",
          "Psmd1",
          "Psmd11",
          "Psmd12",
          "Psmd2",
          "Psmd3",
          "Psmd4",
          "Psmd5",
          "Psmd7",
          "Psmd9",
          "Psme1",
          "Psme2",
          "Psme3",
          "Psmf1",
          "Psmg1",
          "Psmg2",
          "Pspc1",
          "Pstpip1",
          "Ptch1",
          "Ptdss2",
          "Ptger2",
          "Ptger3",
          "Ptgir",
          "Ptgr1",
          "Ptgs1",
          "Ptms",
          "Ptp4a2",
          "Ptp4a3",
          "Ptpn1",
          "Ptpn11",
          "Ptpn13",
          "Ptpn14",
          "Ptpn18",
          "Ptpn22",
          "Ptpn6",
          "Ptpn7",
          "Ptpra",
          "Ptprcap",
          "Ptpre",
          "Ptprs",
          "Ptpru",
          "Pttg1ip",
          "Pum1",
          "Pus1",
          "Pus7",
          "Pvr",
          "Pvrl1",
          "Pwp2",
          "Pycard",
          "Pycr2",
          "Pygl",
          "Qars",
          "Qdpr",
          "Rab11fip1",
          "Rab17",
          "Rab18",
          "Rab19",
          "Rab1b",
          "Rab22B",
          "Rab27a",
          "Rab27b",
          "Rab2a",
          "Rab32",
          "Rab35",
          "Rab37",
          "Rab3d",
          "Rab3il1",
          "Rab44",
          "Rab4a",
          "Rabgap1l",
          "Rabgef1",
          "Rac2",
          "Racgap1",
          "Rad21",
          "Rad23a",
          "Rad23b",
          "Rad50",
          "Ralgds",
          "Ralgps2",
          "Ramp1",
          "Ran",
          "Ranbp1",
          "Ranbp10",
          "Ranbp2",
          "Rangap1",
          "Rangrf",
          "Rap1b",
          "Rapgef2",
          "Rapgef3",
          "Rapgef5",
          "Rapgef6",
          "Rara",
          "Rarg",
          "Rasa2",
          "Rasa4",
          "Rasal3",
          "Rasgrp2",
          "Rassf2",
          "Rassf3",
          "Rassf4",
          "Rassf8",
          "Rbbp6",
          "Rbks",
          "Rbm16",
          "Rbm25",
          "Rbm27",
          "Rbm33",
          "Rbm39",
          "Rbm43",
          "Rbm5",
          "Rbm8a",
          "Rbmxrt",
          "Rbp1",
          "Rbpms",
          "Rcc2",
          "Rcl1",
          "Rcn3",
          "Rcor1",
          "Rcor2",
          "Rcsd1",
          "Rdh12",
          "Rdx",
          "Rec8",
          "Reck",
          "Recql4",
          "Reep2",
          "Reep5",
          "Reep6",
          "Rel",
          "Rela",
          "Relb",
          "Renbp",
          "Rest",
          "Rexo2",
          "Rfc2",
          "Rfc4",
          "Rfng",
          "Rftn1",
          "Rfx2",
          "Rgl1",
          "Rgs10",
          "Rgs12",
          "Rgs14",
          "Rgs18",
          "Rgs19",
          "Rgs2",
          "Rhag",
          "Rhbdd2",
          "Rhd",
          "Rhob",
          "Rhog",
          "Rhou",
          "Rin3",
          "Ripk3",
          "Rlf",
          "Rnaseh1",
          "Rnaseh2b",
          "Rnaseh2c",
          "Rnaset2a",
          "Rnf10",
          "Rnf125",
          "Rnf13",
          "Rnf130",
          "Rnf144a",
          "Rnf144b",
          "Rnf150",
          "Rnf180",
          "Rnf187",
          "Rnf213",
          "Rnf216",
          "Rnpep",
          "Rnpepl1",
          "Robld3",
          "Rod1",
          "Rogdi",
          "Rom1",
          "Romo1",
          "Rpa2",
          "Rpia",
          "Rpl13",
          "Rpl13a",
          "Rpl18",
          "Rpl23",
          "Rpl27a",
          "Rpl32",
          "Rpl37a",
          "Rpl4",
          "Rplp2",
          "Rpn1",
          "Rpn2",
          "Rprd1b",
          "Rps10",
          "Rps11",
          "Rps19",
          "Rps20",
          "Rps21",
          "Rps25",
          "Rps27l",
          "Rps3",
          "Rps3a",
          "Rps6ka1",
          "Rps6ka2",
          "Rps6ka5",
          "Rps8",
          "Rrad",
          "Rrbp1",
          "Rreb1",
          "Rrm1",
          "Rrm2",
          "Rrp1b",
          "Rrp9",
          "Rsbn1",
          "Rsl1d1",
          "Rsu1",
          "Rtkn",
          "Rtn4r",
          "Rtn4rl1",
          "Rtp4",
          "Rufy2",
          "Runx1",
          "Runx2",
          "Ruvbl1",
          "Ruvbl2",
          "Ryk",
          "S100a10",
          "S100a4",
          "S100a6",
          "S100a8",
          "S100a9",
          "S1pr1",
          "S1pr2",
          "S1pr3",
          "S1pr4",
          "SMC4",
          "Sae1",
          "Samd1",
          "Samd10",
          "Samd14",
          "Samhd1",
          "Samm50",
          "Samsn1",
          "Sars",
          "Sat1",
          "Satb1",
          "Sbk1",
          "Sbno1",
          "Scaf11",
          "Scamp2",
          "Scarf1",
          "Scd2",
          "Scin",
          "Scly",
          "Scnn1a",
          "Scpep1",
          "Scrn3",
          "Sdad1",
          "Sdc3",
          "Sdf2l1",
          "Sdha",
          "Sdhb",
          "Sdhc",
          "Sdhd",
          "Sdpr",
          "Sdsl",
          "Sec11c",
          "Sec14l2",
          "Sec22c",
          "Sec24d",
          "Sec31a",
          "Sec61a1",
          "Sec61b",
          "Sec63",
          "Secisbp2",
          "Sel1l",
          "Selenbp1",
          "Selk",
          "Sell",
          "Selm",
          "Selp",
          "Selplg",
          "Sema4a",
          "Senp6",
          "Senp7",
          "Sepw1",
          "Sepx1",
          "Serinc5",
          "Serp1",
          "Serpina3f",
          "Serpinb6b",
          "Serpine2",
          "Serpinf1",
          "Sertad1",
          "Sesn1",
          "Sesn3",
          "Sestd1",
          "Setd1a",
          "Setd2",
          "Setd8",
          "Sf3a2",
          "Sf3b1",
          "Sf3b2",
          "Sf3b3",
          "Sfmbt1",
          "Sfpi1",
          "Sfpq",
          "Sfrs18",
          "Sfrs3",
          "Sfrs7",
          "Sfswap",
          "Sfxn1",
          "Sfxn3",
          "Sgcb",
          "Sgk1",
          "Sgms2",
          "Sgpp1",
          "Sh2b2",
          "Sh2d2a",
          "Sh2d3c",
          "Sh2d4a",
          "Sh3bgrl3",
          "Sh3bp5",
          "Sh3glb1",
          "Sh3kbp1",
          "Sh3pxd2b",
          "Sh3tc1",
          "Shank3",
          "Shfm1",
          "Shisa5",
          "Shmt1",
          "Sigirr",
          "Siglec5",
          "Siglecg",
          "Sigmar1",
          "Sik1",
          "Sipa1l1",
          "Sirpa",
          "Sirt2",
          "Sirt7",
          "Siva1",
          "Skil",
          "Skiv2l2",
          "Sla",
          "Slain1",
          "Slbp",
          "Slc12a9",
          "Slc14a1",
          "Slc16a1",
          "Slc16a10",
          "Slc17a9",
          "Slc18a2",
          "Slc19a1",
          "Slc22a23",
          "Slc22a3",
          "Slc24a6",
          "Slc25a1",
          "Slc25a12",
          "Slc25a13",
          "Slc25a21",
          "Slc25a23",
          "Slc25a3",
          "Slc25a38",
          "Slc25a39",
          "Slc25a4",
          "Slc25a42",
          "Slc25a44",
          "Slc25a5",
          "Slc26a1",
          "Slc28a2",
          "Slc29a1",
          "Slc2a1",
          "Slc2a6",
          "Slc30a7",
          "Slc31a2",
          "Slc35b2",
          "Slc35b4",
          "Slc35c2",
          "Slc35e2",
          "Slc35e4",
          "Slc36a1",
          "Slc38a1",
          "Slc38a2",
          "Slc38a5",
          "Slc39a6",
          "Slc39a8",
          "Slc3a2",
          "Slc41a3",
          "Slc43a1",
          "Slc43a3",
          "Slc44a2",
          "Slc45a3",
          "Slc45a4",
          "Slc46a3",
          "Slc4a8",
          "Slc6a13",
          "Slc7a1",
          "Slc7a4",
          "Slc7a8",
          "Slc9a9",
          "Slco3a1",
          "Slco4a1",
          "Slfn2",
          "Slfn8",
          "Slfn9",
          "Slk",
          "Slmap",
          "Slmo2",
          "Slpi",
          "Smad1",
          "Smap1",
          "Smap2",
          "Smarca4",
          "Smarca5",
          "Smarcc1",
          "Smarcc2",
          "Smc1a",
          "Smc2",
          "Smc3",
          "Smchd1",
          "Smg1",
          "Smg6",
          "Smpd4",
          "Smtn",
          "Smyd2",
          "Smyd3",
          "Smyd5",
          "Snd1",
          "Snord49b",
          "Snrnp200",
          "Snrnp40",
          "Snrpa1",
          "Snrpb",
          "Snrpd1",
          "Snrpd2",
          "Snrpf",
          "Sntb2",
          "Snx1",
          "Snx10",
          "Snx18",
          "Snx20",
          "Snx3",
          "Snx30",
          "Snx5",
          "Snx9",
          "Soat1",
          "Soat2",
          "Socs1",
          "Sod1",
          "Sod2",
          "Son",
          "Sorbs1",
          "Sorbs3",
          "Sord",
          "Sorl1",
          "Sort1",
          "Sox12",
          "Sox13",
          "Sox4",
          "Sox6",
          "Sp100",
          "Sp110",
          "Spag5",
          "Spata13",
          "Spata24",
          "Spata6",
          "Spc24",
          "Spcs2",
          "Spcs3",
          "Specc1l",
          "Sphk1",
          "Spin1",
          "Spire1",
          "Spire2",
          "Spn",
          "Spna1",
          "Spna2",
          "Spnb1",
          "Spnb2",
          "Spns2",
          "Spns3",
          "Spon2",
          "Spop",
          "Spr",
          "Sqrdl",
          "Sqstm1",
          "Sra1",
          "Srcap",
          "Srgap2",
          "Srgap3",
          "Srgn",
          "Sri",
          "Srm",
          "Srp19",
          "Srp68",
          "Srp72",
          "Srp9",
          "Srpk2",
          "Srprb",
          "Srrm1",
          "Srrm2",
          "Srrt",
          "Srsf1",
          "Srsf2",
          "Srsf6",
          "Ssb",
          "Ssbp3",
          "Ssh1",
          "Ssh3",
          "Ssna1",
          "Ssr1",
          "Ssr2",
          "Ssr4",
          "Ssrp1",
          "Ssx2ip",
          "St14",
          "St3gal5",
          "St8sia4",
          "Stard10",
          "Stard5",
          "Stat1",
          "Stat3",
          "Stat4",
          "Stat5a",
          "Stat5b",
          "Stau2",
          "Steap3",
          "Stk10",
          "Stk38",
          "Stom",
          "Ston2",
          "Stra13",
          "Strap",
          "Strbp",
          "Stt3b",
          "Stx2",
          "Stx3",
          "Stxbp1",
          "Stxbp3a",
          "Stxbp5",
          "Sun2",
          "Supt16h",
          "Susd3",
          "Svip",
          "Syce2",
          "Syf2",
          "Syk",
          "Syne1",
          "Syne2",
          "Syngr1",
          "Synj2",
          "Sypl",
          "Sytl1",
          "Sytl4",
          "Tacc1",
          "Tacc2",
          "Tacstd2",
          "Taf1",
          "Taf12",
          "Taf9",
          "Tagln2",
          "Tal1",
          "Taldo1",
          "Taok3",
          "Tap1",
          "Tapbpl",
          "Tapt1",
          "Tars2",
          "Tarsl2",
          "Tax1bp1",
          "Tbc1d16",
          "Tbc1d17",
          "Tbc1d2",
          "Tbc1d22b",
          "Tbc1d4",
          "Tbc1d5",
          "Tbc1d9b",
          "Tbcb",
          "Tbccd1",
          "Tbkbp1",
          "Tbl1x",
          "Tbl1xr1",
          "Tbrg1",
          "Tbrg4",
          "Tbxa2r",
          "Tbxas1",
          "Tcb",
          "Tceb3",
          "Tcerg1",
          "Tcf12",
          "Tcf19",
          "Tcf20",
          "Tcf25",
          "Tcf3",
          "Tcf7",
          "Tcfe3",
          "Tcfec",
          "Tcirg1",
          "Tcn2",
          "Tcp11l2",
          "Tec",
          "Tecr",
          "Tep1",
          "Tet1",
          "Tet2",
          "Tfam",
          "Tfdp2",
          "Tfg",
          "Tfrc",
          "Tgfb1",
          "Tgfbi",
          "Tgfbr2",
          "Tgfbr3",
          "Tgm2",
          "Thap3",
          "Thoc4",
          "Thoc7",
          "Thop1",
          "Thra",
          "Thrap3",
          "Thumpd1",
          "Thy1",
          "Tiam1",
          "Ticam2",
          "Tie1",
          "Tifab",
          "Timeless",
          "Timm10",
          "Timp2",
          "Tinagl1",
          "Tirap",
          "Tjp2",
          "Tjp3",
          "Tk1",
          "Tkt",
          "Tle6",
          "Tlk1",
          "Tlr2",
          "Tm6sf1",
          "Tm7sf3",
          "Tm9sf3",
          "Tmbim6",
          "Tmc6",
          "Tmc8",
          "Tmcc2",
          "Tmed10",
          "Tmed3",
          "Tmed9",
          "Tmem109",
          "Tmem119",
          "Tmem131",
          "Tmem141",
          "Tmem147",
          "Tmem14c",
          "Tmem159",
          "Tmem160",
          "Tmem165",
          "Tmem173",
          "Tmem176a",
          "Tmem176b",
          "Tmem179b",
          "Tmem180",
          "Tmem184b",
          "Tmem2",
          "Tmem20",
          "Tmem205",
          "Tmem208",
          "Tmem229b",
          "Tmem29",
          "Tmem38b",
          "Tmem41a",
          "Tmem50a",
          "Tmem50b",
          "Tmem53",
          "Tmem56",
          "Tmem59",
          "Tmem70",
          "Tmem8",
          "Tmem9",
          "Tmem97",
          "Tmpo",
          "Tmsb10",
          "Tmx4",
          "Tnfaip2",
          "Tnfaip8",
          "Tnfaip8l2",
          "Tnfrsf13b",
          "Tnfrsf18",
          "Tnfrsf1a",
          "Tnfrsf1b",
          "Tnfrsf21",
          "Tnfrsf26",
          "Tnfsf14",
          "Tnfsf9",
          "Tnik",
          "Tnip1",
          "Tnk2",
          "Tnks1bp1",
          "Tnks2",
          "Tnni2",
          "Tnrc18",
          "Tnrc6a",
          "Tnrc6b",
          "Tns1",
          "Tns3",
          "Tns4",
          "Tom40",
          "Tomm22",
          "Tomm5",
          "Tomm6",
          "Tomm70a",
          "Tonsl",
          "Top2a",
          "Top2b",
          "Topbp1",
          "Tor1a",
          "Tor3a",
          "Tpcn1",
          "Tpd52",
          "Tpd52l2",
          "Tpm1",
          "Tpm2",
          "Tpm3",
          "Tpm4",
          "Tpp1",
          "Tpr",
          "Tprgl",
          "Tprkb",
          "Tpsb2",
          "Tpx2",
          "Traf3ip2",
          "Traf3ip3",
          "Traf4",
          "Trafd1",
          "Trak2",
          "Tram1",
          "Trappc5",
          "Trem1",
          "Trem3",
          "Treml1",
          "Treml2",
          "Trerf1",
          "Trf",
          "Trfr2",
          "Trib2",
          "Trim10",
          "Trim2",
          "Trim24",
          "Trim25",
          "Trim26",
          "Trim28",
          "Trim45",
          "Trim47",
          "Trim8",
          "Trip10",
          "Trip12",
          "Trip6",
          "Trmt1",
          "Trmt61a",
          "Trp53",
          "Trp53i11",
          "Trp53i13",
          "Trps1",
          "Trpv2",
          "Tsc22d4",
          "Tsen34",
          "Tsn",
          "Tsnax",
          "Tspan13",
          "Tspan2",
          "Tspan31",
          "Tspan32",
          "Tspan33",
          "Tspan5",
          "Tspo",
          "Tspo2",
          "Tspyl3",
          "Ttc15",
          "Ttc21b",
          "Ttc27",
          "Ttc3",
          "Ttc39c",
          "Ttll12",
          "Ttll9",
          "Ttyh2",
          "Tuba1a",
          "Tuba1b",
          "Tuba1c",
          "Tuba8",
          "Tubb2a",
          "Tubb5",
          "Tubb6",
          "Twf2",
          "Txn1",
          "Txn2",
          "Txndc16",
          "Txndc5",
          "Txnip",
          "Txnl1",
          "Txnl4a",
          "Txnrd1",
          "Txnrd2",
          "Tyms",
          "Tyrobp",
          "Uap1",
          "Uba1",
          "Uba2",
          "Ubac1",
          "Ubap2",
          "Ubash3b",
          "Ubb",
          "Ube2c",
          "Ube2e3",
          "Ube2l6",
          "Ube2q1",
          "Ube2r2",
          "Ublcp1",
          "Ubqln1",
          "Ubr5",
          "Ubr7",
          "Ubtd1",
          "Ubtf",
          "Ubxn2a",
          "Uchl1",
          "Uck2",
          "Ucp2",
          "Ugcg",
          "Ugcgl1",
          "Ugdh",
          "Ugt1a1",
          "Uhrf1",
          "Uhrf1bp1",
          "Uhrf1bp1l",
          "Ulk3",
          "Unc119",
          "Unc119b",
          "Unc93b1",
          "Ung",
          "Uqcr",
          "Uqcr10",
          "Uqcrc1",
          "Uqcrc2",
          "Uqcrfs1",
          "Uqcrq",
          "Urod",
          "Uros",
          "Use1",
          "Usp1",
          "Usp10",
          "Usp15",
          "Usp2",
          "Usp22",
          "Usp24",
          "Usp25",
          "Usp32",
          "Usp33",
          "Usp34",
          "Usp36",
          "Usp39",
          "Usp4",
          "Usp40",
          "Usp45",
          "Usp48",
          "Usp6nl",
          "Usp9x",
          "Utp14a",
          "Utp20",
          "Utrn",
          "Vamp2",
          "Vamp5",
          "Vamp8",
          "Vangl1",
          "Vars",
          "Vasp",
          "Vat1",
          "Vav1",
          "Vav3",
          "Vcam1",
          "Vcl",
          "Vdac1",
          "Vdr",
          "Vegfa",
          "Vegfb",
          "Vgll4",
          "Vill",
          "Vim",
          "Vopp1",
          "Vprbp",
          "Vps13c",
          "Vps28",
          "Vps35",
          "Vps53",
          "Vps72",
          "Vwa5a",
          "Vwf",
          "Wapal",
          "Was",
          "Wasf2",
          "Wbp2",
          "Wbp5",
          "Wbscr27",
          "Wdfy4",
          "Wdhd1",
          "Wdr1",
          "Wdr18",
          "Wdr4",
          "Wdr59",
          "Wdr60",
          "Wdr61",
          "Wdr65",
          "Wdr73",
          "Wdr74",
          "Wdr8",
          "Wdr81",
          "Wdr92",
          "Wdsub1",
          "Whsc1",
          "Whsc1l1",
          "Wipf1",
          "Wipi2",
          "Wls",
          "Wnk1",
          "Wrn",
          "Wsb1",
          "Xbp1",
          "Xcl1",
          "Xdh",
          "Xk",
          "Xkr8",
          "Xpc",
          "Xpnpep1",
          "Xrcc5",
          "Xrcc6",
          "Xrn2",
          "Ybx1",
          "Ydjc",
          "Ylpm1",
          "Ypel3",
          "Ypel5",
          "Ythdc1",
          "Ywhae",
          "Ywhaq",
          "Ywhaz",
          "Zbed3",
          "Zbtb1",
          "Zbtb10",
          "Zbtb16",
          "Zbtb20",
          "Zbtb38",
          "Zbtb4",
          "Zbtb46",
          "Zbtb7a",
          "Zc3h18",
          "Zc3h6",
          "Zc3hav1",
          "Zcchc11",
          "Zcchc6",
          "Zdhhc14",
          "Zdhhc20",
          "Zdhhc8",
          "Zdhhc9",
          "Zeb1",
          "Zfand2b",
          "Zfand3",
          "Zfhx2",
          "Zfhx3",
          "Zfml",
          "Zfp106",
          "Zfp207",
          "Zfp217",
          "Zfp238",
          "Zfp259",
          "Zfp326",
          "Zfp36",
          "Zfp36l2",
          "Zfp467",
          "Zfp507",
          "Zfp516",
          "Zfp579",
          "Zfp608",
          "Zfp637",
          "Zfp644",
          "Zfp706",
          "Zfp783",
          "Zfp800",
          "Zfp831",
          "Zfp90",
          "Zfp945",
          "Zfpm1",
          "Zg16",
          "Zkscan1",
          "Zmat3",
          "Zmiz1",
          "Zmynd11",
          "Zmynd8",
          "Znhit1",
          "Zswim4",
          "Zwint",
          "Zyx",
          "Zzef1",
          "calp80",
          "hnRNP A2/B1",
          "mFLJ00022",
          "mKIAA0007",
          "mKIAA0569",
          "mKIAA0621",
          "mKIAA1027",
          "mKIAA1575",
          "mKIAA1994",
          "rp9",
          "slc43a2"
         ],
         "legendgroup": "",
         "marker": {
          "color": "#636efa",
          "symbol": "circle"
         },
         "mode": "markers",
         "name": "",
         "showlegend": false,
         "type": "scattergl",
         "x": {
          "bdata": "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",
          "dtype": "f4"
         },
         "xaxis": "x",
         "y": {
          "bdata": "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",
          "dtype": "f4"
         },
         "yaxis": "y"
        }
       ],
       "layout": {
        "height": 600,
        "legend": {
         "tracegroupgap": 0
        },
        "template": {
         "data": {
          "bar": [
           {
            "error_x": {
             "color": "#2a3f5f"
            },
            "error_y": {
             "color": "#2a3f5f"
            },
            "marker": {
             "line": {
              "color": "#E5ECF6",
              "width": 0.5
             },
             "pattern": {
              "fillmode": "overlay",
              "size": 10,
              "solidity": 0.2
             }
            },
            "type": "bar"
           }
          ],
          "barpolar": [
           {
            "marker": {
             "line": {
              "color": "#E5ECF6",
              "width": 0.5
             },
             "pattern": {
              "fillmode": "overlay",
              "size": 10,
              "solidity": 0.2
             }
            },
            "type": "barpolar"
           }
          ],
          "carpet": [
           {
            "aaxis": {
             "endlinecolor": "#2a3f5f",
             "gridcolor": "white",
             "linecolor": "white",
             "minorgridcolor": "white",
             "startlinecolor": "#2a3f5f"
            },
            "baxis": {
             "endlinecolor": "#2a3f5f",
             "gridcolor": "white",
             "linecolor": "white",
             "minorgridcolor": "white",
             "startlinecolor": "#2a3f5f"
            },
            "type": "carpet"
           }
          ],
          "choropleth": [
           {
            "colorbar": {
             "outlinewidth": 0,
             "ticks": ""
            },
            "type": "choropleth"
           }
          ],
          "contour": [
           {
            "colorbar": {
             "outlinewidth": 0,
             "ticks": ""
            },
            "colorscale": [
             [
              0,
              "#0d0887"
             ],
             [
              0.1111111111111111,
              "#46039f"
             ],
             [
              0.2222222222222222,
              "#7201a8"
             ],
             [
              0.3333333333333333,
              "#9c179e"
             ],
             [
              0.4444444444444444,
              "#bd3786"
             ],
             [
              0.5555555555555556,
              "#d8576b"
             ],
             [
              0.6666666666666666,
              "#ed7953"
             ],
             [
              0.7777777777777778,
              "#fb9f3a"
             ],
             [
              0.8888888888888888,
              "#fdca26"
             ],
             [
              1,
              "#f0f921"
             ]
            ],
            "type": "contour"
           }
          ],
          "contourcarpet": [
           {
            "colorbar": {
             "outlinewidth": 0,
             "ticks": ""
            },
            "type": "contourcarpet"
           }
          ],
          "heatmap": [
           {
            "colorbar": {
             "outlinewidth": 0,
             "ticks": ""
            },
            "colorscale": [
             [
              0,
              "#0d0887"
             ],
             [
              0.1111111111111111,
              "#46039f"
             ],
             [
              0.2222222222222222,
              "#7201a8"
             ],
             [
              0.3333333333333333,
              "#9c179e"
             ],
             [
              0.4444444444444444,
              "#bd3786"
             ],
             [
              0.5555555555555556,
              "#d8576b"
             ],
             [
              0.6666666666666666,
              "#ed7953"
             ],
             [
              0.7777777777777778,
              "#fb9f3a"
             ],
             [
              0.8888888888888888,
              "#fdca26"
             ],
             [
              1,
              "#f0f921"
             ]
            ],
            "type": "heatmap"
           }
          ],
          "histogram": [
           {
            "marker": {
             "pattern": {
              "fillmode": "overlay",
              "size": 10,
              "solidity": 0.2
             }
            },
            "type": "histogram"
           }
          ],
          "histogram2d": [
           {
            "colorbar": {
             "outlinewidth": 0,
             "ticks": ""
            },
            "colorscale": [
             [
              0,
              "#0d0887"
             ],
             [
              0.1111111111111111,
              "#46039f"
             ],
             [
              0.2222222222222222,
              "#7201a8"
             ],
             [
              0.3333333333333333,
              "#9c179e"
             ],
             [
              0.4444444444444444,
              "#bd3786"
             ],
             [
              0.5555555555555556,
              "#d8576b"
             ],
             [
              0.6666666666666666,
              "#ed7953"
             ],
             [
              0.7777777777777778,
              "#fb9f3a"
             ],
             [
              0.8888888888888888,
              "#fdca26"
             ],
             [
              1,
              "#f0f921"
             ]
            ],
            "type": "histogram2d"
           }
          ],
          "histogram2dcontour": [
           {
            "colorbar": {
             "outlinewidth": 0,
             "ticks": ""
            },
            "colorscale": [
             [
              0,
              "#0d0887"
             ],
             [
              0.1111111111111111,
              "#46039f"
             ],
             [
              0.2222222222222222,
              "#7201a8"
             ],
             [
              0.3333333333333333,
              "#9c179e"
             ],
             [
              0.4444444444444444,
              "#bd3786"
             ],
             [
              0.5555555555555556,
              "#d8576b"
             ],
             [
              0.6666666666666666,
              "#ed7953"
             ],
             [
              0.7777777777777778,
              "#fb9f3a"
             ],
             [
              0.8888888888888888,
              "#fdca26"
             ],
             [
              1,
              "#f0f921"
             ]
            ],
            "type": "histogram2dcontour"
           }
          ],
          "mesh3d": [
           {
            "colorbar": {
             "outlinewidth": 0,
             "ticks": ""
            },
            "type": "mesh3d"
           }
          ],
          "parcoords": [
           {
            "line": {
             "colorbar": {
              "outlinewidth": 0,
              "ticks": ""
             }
            },
            "type": "parcoords"
           }
          ],
          "pie": [
           {
            "automargin": true,
            "type": "pie"
           }
          ],
          "scatter": [
           {
            "fillpattern": {
             "fillmode": "overlay",
             "size": 10,
             "solidity": 0.2
            },
            "type": "scatter"
           }
          ],
          "scatter3d": [
           {
            "line": {
             "colorbar": {
              "outlinewidth": 0,
              "ticks": ""
             }
            },
            "marker": {
             "colorbar": {
              "outlinewidth": 0,
              "ticks": ""
             }
            },
            "type": "scatter3d"
           }
          ],
          "scattercarpet": [
           {
            "marker": {
             "colorbar": {
              "outlinewidth": 0,
              "ticks": ""
             }
            },
            "type": "scattercarpet"
           }
          ],
          "scattergeo": [
           {
            "marker": {
             "colorbar": {
              "outlinewidth": 0,
              "ticks": ""
             }
            },
            "type": "scattergeo"
           }
          ],
          "scattergl": [
           {
            "marker": {
             "colorbar": {
              "outlinewidth": 0,
              "ticks": ""
             }
            },
            "type": "scattergl"
           }
          ],
          "scattermap": [
           {
            "marker": {
             "colorbar": {
              "outlinewidth": 0,
              "ticks": ""
             }
            },
            "type": "scattermap"
           }
          ],
          "scattermapbox": [
           {
            "marker": {
             "colorbar": {
              "outlinewidth": 0,
              "ticks": ""
             }
            },
            "type": "scattermapbox"
           }
          ],
          "scatterpolar": [
           {
            "marker": {
             "colorbar": {
              "outlinewidth": 0,
              "ticks": ""
             }
            },
            "type": "scatterpolar"
           }
          ],
          "scatterpolargl": [
           {
            "marker": {
             "colorbar": {
              "outlinewidth": 0,
              "ticks": ""
             }
            },
            "type": "scatterpolargl"
           }
          ],
          "scatterternary": [
           {
            "marker": {
             "colorbar": {
              "outlinewidth": 0,
              "ticks": ""
             }
            },
            "type": "scatterternary"
           }
          ],
          "surface": [
           {
            "colorbar": {
             "outlinewidth": 0,
             "ticks": ""
            },
            "colorscale": [
             [
              0,
              "#0d0887"
             ],
             [
              0.1111111111111111,
              "#46039f"
             ],
             [
              0.2222222222222222,
              "#7201a8"
             ],
             [
              0.3333333333333333,
              "#9c179e"
             ],
             [
              0.4444444444444444,
              "#bd3786"
             ],
             [
              0.5555555555555556,
              "#d8576b"
             ],
             [
              0.6666666666666666,
              "#ed7953"
             ],
             [
              0.7777777777777778,
              "#fb9f3a"
             ],
             [
              0.8888888888888888,
              "#fdca26"
             ],
             [
              1,
              "#f0f921"
             ]
            ],
            "type": "surface"
           }
          ],
          "table": [
           {
            "cells": {
             "fill": {
              "color": "#EBF0F8"
             },
             "line": {
              "color": "white"
             }
            },
            "header": {
             "fill": {
              "color": "#C8D4E3"
             },
             "line": {
              "color": "white"
             }
            },
            "type": "table"
           }
          ]
         },
         "layout": {
          "annotationdefaults": {
           "arrowcolor": "#2a3f5f",
           "arrowhead": 0,
           "arrowwidth": 1
          },
          "autotypenumbers": "strict",
          "coloraxis": {
           "colorbar": {
            "outlinewidth": 0,
            "ticks": ""
           }
          },
          "colorscale": {
           "diverging": [
            [
             0,
             "#8e0152"
            ],
            [
             0.1,
             "#c51b7d"
            ],
            [
             0.2,
             "#de77ae"
            ],
            [
             0.3,
             "#f1b6da"
            ],
            [
             0.4,
             "#fde0ef"
            ],
            [
             0.5,
             "#f7f7f7"
            ],
            [
             0.6,
             "#e6f5d0"
            ],
            [
             0.7,
             "#b8e186"
            ],
            [
             0.8,
             "#7fbc41"
            ],
            [
             0.9,
             "#4d9221"
            ],
            [
             1,
             "#276419"
            ]
           ],
           "sequential": [
            [
             0,
             "#0d0887"
            ],
            [
             0.1111111111111111,
             "#46039f"
            ],
            [
             0.2222222222222222,
             "#7201a8"
            ],
            [
             0.3333333333333333,
             "#9c179e"
            ],
            [
             0.4444444444444444,
             "#bd3786"
            ],
            [
             0.5555555555555556,
             "#d8576b"
            ],
            [
             0.6666666666666666,
             "#ed7953"
            ],
            [
             0.7777777777777778,
             "#fb9f3a"
            ],
            [
             0.8888888888888888,
             "#fdca26"
            ],
            [
             1,
             "#f0f921"
            ]
           ],
           "sequentialminus": [
            [
             0,
             "#0d0887"
            ],
            [
             0.1111111111111111,
             "#46039f"
            ],
            [
             0.2222222222222222,
             "#7201a8"
            ],
            [
             0.3333333333333333,
             "#9c179e"
            ],
            [
             0.4444444444444444,
             "#bd3786"
            ],
            [
             0.5555555555555556,
             "#d8576b"
            ],
            [
             0.6666666666666666,
             "#ed7953"
            ],
            [
             0.7777777777777778,
             "#fb9f3a"
            ],
            [
             0.8888888888888888,
             "#fdca26"
            ],
            [
             1,
             "#f0f921"
            ]
           ]
          },
          "colorway": [
           "#636efa",
           "#EF553B",
           "#00cc96",
           "#ab63fa",
           "#FFA15A",
           "#19d3f3",
           "#FF6692",
           "#B6E880",
           "#FF97FF",
           "#FECB52"
          ],
          "font": {
           "color": "#2a3f5f"
          },
          "geo": {
           "bgcolor": "white",
           "lakecolor": "white",
           "landcolor": "#E5ECF6",
           "showlakes": true,
           "showland": true,
           "subunitcolor": "white"
          },
          "hoverlabel": {
           "align": "left"
          },
          "hovermode": "closest",
          "mapbox": {
           "style": "light"
          },
          "paper_bgcolor": "white",
          "plot_bgcolor": "#E5ECF6",
          "polar": {
           "angularaxis": {
            "gridcolor": "white",
            "linecolor": "white",
            "ticks": ""
           },
           "bgcolor": "#E5ECF6",
           "radialaxis": {
            "gridcolor": "white",
            "linecolor": "white",
            "ticks": ""
           }
          },
          "scene": {
           "xaxis": {
            "backgroundcolor": "#E5ECF6",
            "gridcolor": "white",
            "gridwidth": 2,
            "linecolor": "white",
            "showbackground": true,
            "ticks": "",
            "zerolinecolor": "white"
           },
           "yaxis": {
            "backgroundcolor": "#E5ECF6",
            "gridcolor": "white",
            "gridwidth": 2,
            "linecolor": "white",
            "showbackground": true,
            "ticks": "",
            "zerolinecolor": "white"
           },
           "zaxis": {
            "backgroundcolor": "#E5ECF6",
            "gridcolor": "white",
            "gridwidth": 2,
            "linecolor": "white",
            "showbackground": true,
            "ticks": "",
            "zerolinecolor": "white"
           }
          },
          "shapedefaults": {
           "line": {
            "color": "#2a3f5f"
           }
          },
          "ternary": {
           "aaxis": {
            "gridcolor": "white",
            "linecolor": "white",
            "ticks": ""
           },
           "baxis": {
            "gridcolor": "white",
            "linecolor": "white",
            "ticks": ""
           },
           "bgcolor": "#E5ECF6",
           "caxis": {
            "gridcolor": "white",
            "linecolor": "white",
            "ticks": ""
           }
          },
          "title": {
           "x": 0.05
          },
          "xaxis": {
           "automargin": true,
           "gridcolor": "white",
           "linecolor": "white",
           "ticks": "",
           "title": {
            "standoff": 15
           },
           "zerolinecolor": "white",
           "zerolinewidth": 2
          },
          "yaxis": {
           "automargin": true,
           "gridcolor": "white",
           "linecolor": "white",
           "ticks": "",
           "title": {
            "standoff": 15
           },
           "zerolinecolor": "white",
           "zerolinewidth": 2
          }
         }
        },
        "title": {
         "text": "Effect of negating outputs (genes)"
        },
        "width": 600,
        "xaxis": {
         "anchor": "y",
         "domain": [
          0,
          1
         ],
         "title": {
          "text": "Without negating"
         }
        },
        "yaxis": {
         "anchor": "x",
         "domain": [
          0,
          1
         ],
         "title": {
          "text": "With negating"
         }
        }
       }
      }
     },
     "metadata": {},
     "output_type": "display_data"
    }
   ],
   "source": [
    "px.scatter(\n",
    "    x=genes_zero,\n",
    "    y=genes_negative,\n",
    "    title=\"Effect of negating outputs (genes)\",\n",
    "    labels={\"x\": \"Without negating\", \"y\": \"With negating\"},\n",
    "    hover_name=adata.var_names,\n",
    "    width=600,\n",
    "    height=600,\n",
    ")"
   ]
  },
  {
   "cell_type": "code",
   "execution_count": 48,
   "id": "1592388b",
   "metadata": {},
   "outputs": [],
   "source": [
    "cells_zero = adata.X @ genes_zero.numpy()\n",
    "cells_negative = adata.X @ genes_negative.numpy()"
   ]
  },
  {
   "cell_type": "code",
   "execution_count": 49,
   "id": "a9ffaea1",
   "metadata": {},
   "outputs": [
    {
     "data": {
      "application/vnd.plotly.v1+json": {
       "config": {
        "plotlyServerURL": "https://plot.ly"
       },
       "data": [
        {
         "hovertemplate": "color=0<br>Without negating=%{x}<br>With negating=%{y}<extra></extra>",
         "legendgroup": "0",
         "marker": {
          "color": "#636efa",
          "symbol": "circle"
         },
         "mode": "markers",
         "name": "0",
         "showlegend": true,
         "type": "scattergl",
         "x": {
          "bdata": "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",
          "dtype": "f4"
         },
         "xaxis": "x",
         "y": {
          "bdata": "9VRPwQzgAMG36SPBhbddwfQLssAuqdbAh4AFwR6uJMEmD9XAz/AswR14c8Ej8gLBFQZdwaTNHcHCcAzBIN2AwZ0vW8E/Yb3AOMTpwP313sAySE3BB1Ncwb1CxcD2M2DBtBTIwDIaDcGV9RTBcauDwGxV58CpcE/Bcw3LwMWJP8E3hlfBDSfpwDEaE8E0+j3BaSYhwTu7P8Gas3LBKG/mwFHgQ8FMZijBYq8ewSjENsFsvRfBFGlJwZW7bsGzvQXBa50ZwQlJa8EoDCHBT/MowZU/OsFb22PB1a6swF8TUsG2XvbAD0RbwXDIUcEEJBrBUF8nwTkHLMFoN0XBOGzUwI8jd8ELTITBTNwjwXJLJMEfBfzAnWppwVueP8H6ibLAq29SwYiqPcFCSXbBWPMBweZO2MDnCWLBHXP6wGEdPMF32d3AlPJQwbTAwcBURUXBPSpHwVYzJcGVuirB23zJwNeV6sAM/WnBMs0Rwd5ytcAR3D3BLYLfwPEyacFELzzBZl7MwCl/DMHcz5TA5nW1wBNq8cAvZVLBRsnowAAmgcHF8DPBXgUSwXGCT8EPWW7BNTDrwBMOH8H7L3fBTy02wRrfQcE4UATBXzS8wNNwAcEpEGvBciAbwfoS78C5lO7A67I9wX7ndcFBZBnBCX85welQxsDzddHAkEdEwXVtVcF2JS7BUu9jwXb9UcHBMOLAoSIIwdwFCsH+sx3BSRxhwY41A8FzcR/BhXFMwcmJ+cCJOgfBdxDSwIVTdsEUHPXA1Z9IweT3AcEh1A/B8300wbV4TsEBCzPBVnUmwRiJ8cCA5bDAK8DTwH8GHcG+fPzAS5Q4wca4vMAlRjXBR1vKwBPAx8DDPzvBXFkOwZ1yLsG1YgrBIwbhwASMC8G3F/rA42T+wEXF0MAXNwbBmzkEwUVGCcH6GhjB2D4VwdN5UMF7mHvBzTcvwYY038CK8QXBHdoiwRXAF8FTRSvBGNU7weUkPMGjEUDBc94gwdShEMHFP0HBSWzLwNP1YMElQlnBc1HdwCiDfsHtOQbBf7BkwR6sTMGJayHBNybBwG1oTcFtYyfBW99hwVmdEcEwJAjB34r0wDtTBcEXOiXBy2mswJaexMD+fwPBTiY/wZlO58B+eQPB0+bowGRJdMFDiD7BFsFAwa33+sA3YQDBAftPwXJ+acF4MgPBKBQkwes4GsGJV2fBpRGDwBfMBMFoO53As4pXwcLzWMEjFSPBYv/cwFUi0MBbwF7BUmxxwWPPQMF418LAY7UFwcaigcE9M1TBjPIswbWdOMEkYPDAPDLkwHd2Q8GSg1PBKigBwVFHQ8EA3hLB0311wSHDx8BNMETB8fo7wQ6zDsGrJNPAHRg8weloTsH+KhHBN+hSwbaEpcD/kDPBB+lewSMA1MAe5l/B46oTwZ7EyMBow2nB0pzkwADV68C6o1XBbpUGwfRO18CL8e3APxKkv/PBVMGwcDPB03TqwM0qbcEFD0HBbHr4wF9L88DG7WzBde3rwEOGP8Gp6x/BjfdQwVDB+8AXwgzBZF8KwSoo38A25yHBSaRKwXPvRMGl+AfB6io0we8vIsFbworAyWfrwH/ZRcG08wbBcN8/wRwtbMG33zDBCKISwYrNKsHlm0fB2ycuwYRGWcHFfAXBy6Jtwc6T5cDqVgnBVLwJwfK1bMHEgjTB6iylwPGMAsGpgBnB5m1jwQEqHcHh9hzBzQHFwEEC8sA1bCLBTDbswPBVOMHo9WPBjY0DwSphXsHe6xXBaDkYwagmAsGDlU3BaAlFwRAVBMH3I7zAbw6bwBR7d8EVYQXBxysjwV+yNMGJmBjB47GzwNahI8FTAXDBdksSwaHKkMAH7BzB3BnPwIzoN8EjJXbBOp/SwIq3M8Fu5R7BFLNCwRlMz8CrJO7AYJNKwWnksMA09lTBPAuVwBZUUsEYxxTB8t2nwAPK3sD2VhTBHrYMwbwRqcDPLwrBGPogwezyEcFHgEbB+0sjwZVB3cAPY+/AxIsowY8l/cAhjwfBwxH7wD/IVcEmCFrB5EOwwFOWB8FvERPBGdpFwZQgWMHfZcjAnVCzwOGJIcELPZ3ACM1nwWSe08Co3AnBF8ckwUD4QsGV1DjBNTj7wEhGG8EriHrBkhInwYSWPsHEPgjBpaOzwGeku8Bl3UbBtzdvwe32x8Au0ObA1Eg8wbsjzsDDokbBFVUywZf3IsFd+DTBestLwZc9JMGdiebAB4VgwSVQycBY3DXBSIZ9wdavUcHM1lPByHEXwWnuz8A4zf/A9u/CwBELPMEBk9zA0cjNwIFd6sDXflDB+VEgwT4e8sCAFOfAiTSAwcfJGcFHYIvBmLIzwSmxY8HNgljBoDHQwOMpQ8HxDiLB/7w1wcKSgMFRziHBFXgYwYuw38AbmUrBwuxmwTiOE8GzpdTAFu1qwdoWWMFQcd7Ae6ngwOtCR8GBE2DBhoe/wEGxGMHXOinBMlQvwQg/t8CuV13BSNQowVuOBcFKAevAQrguwZsJB8GJ+UDBGOvtwA4y/sARgrHA6b4IwQ8fz8BNHjDBaGITwd+iAcFgRtrAy+lPwQK3hME8B0XBgz0WwReKRsFC0STBpJNIwUBHA8FsHh7BWjtVwQI9J8Gs/wPBRy5FwVePycA/Lw/BNqsVwag92sDbSvzAFhAFwfoFLMF9dwnBy6EIwQWNH8FTs2fBETlawSf6B8HLRx3BgGUBwWHPRMHJyt7AcVAIwYBQ18BtrEjBkPQewdCXOcHDLQrB/ESKwBP3JsGf1h/BnjkjwYoZHMEwDePA1Kf7wLZiR8EM8JzAYf7gwFIH0sCa/trAnvUMwSazMcF351DBmd/dwL1fCcEP0F/BJ+NVwabEzMDQsEDBy09YwZnqEcGwvwLBJBUvwXYXBsEzODvBM8lcwSxJC8FBaCTBWdYswVFMH8HhwQTBRWs0wR96LsGBIzrBiFHnwOgh8sBZvFTBOcc2wZsiZMEncALBgwIYwbb508DGOFnBwxsQwRFOHcG1BcHAqwVPwUWyosCun+DAKSbwwIx7u8ALTh/Br3dGwRvkOMGdDyPBwa9cwaKARcENMljBSZhXwQk1+sCnMhfBxQO6wDeuEsFps+bAYqn8wNs2IcFeUV7Ag1wJwaftE8HIzPnAdYfwwFBKD8GDbd3Aov4twYzhdMElNeLAoQRZwQVgIsHoGv7A8L+MwLpwNcH14CfBdOQNwWowB8FlqdfAbAv4wLu6CsGD0/LAauBOwXBeKcGxeyvB3clCwcrzC8GCjD/BHM4QwbRKFsFDggTBP7MrwUqpUsENA2TBGdUgwS8pBMHRLkHBhYNvwYmEpMA1mVLB/aAOwXNuU8E1k1rBANgSwfvEU8ES3w/BUOn+wEOPNMG+rOnAC5o4wYZYXMFrji7BuwdQwduYJsHeF0PB+dntwFJN4sDcXC3BD40XwaFDBcGRN/7AFKsxwQ8OOMHQDeHAgP8FwWE4MMF+vajA0ogjwdpOW8G78lbBkTogwcW5hMHv2T7Bu2oFwTfJPcETuxfBWd3DwAtQNME6Kb3ApcUCwRLE18CBfdDAvTkiwdz+VMEg4cbAnh8owaTAdcEwn0vB/wDAwBtBKsFQIyDBxbtWwZMv18ANQOTAKkgiwX09EMG4bCzBa7tjwT/y98BdmDXBAcQEwUA1YMEe7ADBDYMlwU3728DR2ILAMQoCwUQ1WMG7DCHBf34KwfyRAMHjblfBhTbewDEDIMF4SczAG5JYwQ==",
          "dtype": "f4"
         },
         "yaxis": "y"
        },
        {
         "hovertemplate": "color=2<br>Without negating=%{x}<br>With negating=%{y}<extra></extra>",
         "legendgroup": "2",
         "marker": {
          "color": "#EF553B",
          "symbol": "circle"
         },
         "mode": "markers",
         "name": "2",
         "showlegend": true,
         "type": "scattergl",
         "x": {
          "bdata": "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",
          "dtype": "f4"
         },
         "xaxis": "x",
         "y": {
          "bdata": "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",
          "dtype": "f4"
         },
         "yaxis": "y"
        },
        {
         "hovertemplate": "color=1<br>Without negating=%{x}<br>With negating=%{y}<extra></extra>",
         "legendgroup": "1",
         "marker": {
          "color": "#00cc96",
          "symbol": "circle"
         },
         "mode": "markers",
         "name": "1",
         "showlegend": true,
         "type": "scattergl",
         "x": {
          "bdata": "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",
          "dtype": "f4"
         },
         "xaxis": "x",
         "y": {
          "bdata": "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",
          "dtype": "f4"
         },
         "yaxis": "y"
        }
       ],
       "layout": {
        "height": 600,
        "legend": {
         "title": {
          "text": "color"
         },
         "tracegroupgap": 0
        },
        "template": {
         "data": {
          "bar": [
           {
            "error_x": {
             "color": "#2a3f5f"
            },
            "error_y": {
             "color": "#2a3f5f"
            },
            "marker": {
             "line": {
              "color": "#E5ECF6",
              "width": 0.5
             },
             "pattern": {
              "fillmode": "overlay",
              "size": 10,
              "solidity": 0.2
             }
            },
            "type": "bar"
           }
          ],
          "barpolar": [
           {
            "marker": {
             "line": {
              "color": "#E5ECF6",
              "width": 0.5
             },
             "pattern": {
              "fillmode": "overlay",
              "size": 10,
              "solidity": 0.2
             }
            },
            "type": "barpolar"
           }
          ],
          "carpet": [
           {
            "aaxis": {
             "endlinecolor": "#2a3f5f",
             "gridcolor": "white",
             "linecolor": "white",
             "minorgridcolor": "white",
             "startlinecolor": "#2a3f5f"
            },
            "baxis": {
             "endlinecolor": "#2a3f5f",
             "gridcolor": "white",
             "linecolor": "white",
             "minorgridcolor": "white",
             "startlinecolor": "#2a3f5f"
            },
            "type": "carpet"
           }
          ],
          "choropleth": [
           {
            "colorbar": {
             "outlinewidth": 0,
             "ticks": ""
            },
            "type": "choropleth"
           }
          ],
          "contour": [
           {
            "colorbar": {
             "outlinewidth": 0,
             "ticks": ""
            },
            "colorscale": [
             [
              0,
              "#0d0887"
             ],
             [
              0.1111111111111111,
              "#46039f"
             ],
             [
              0.2222222222222222,
              "#7201a8"
             ],
             [
              0.3333333333333333,
              "#9c179e"
             ],
             [
              0.4444444444444444,
              "#bd3786"
             ],
             [
              0.5555555555555556,
              "#d8576b"
             ],
             [
              0.6666666666666666,
              "#ed7953"
             ],
             [
              0.7777777777777778,
              "#fb9f3a"
             ],
             [
              0.8888888888888888,
              "#fdca26"
             ],
             [
              1,
              "#f0f921"
             ]
            ],
            "type": "contour"
           }
          ],
          "contourcarpet": [
           {
            "colorbar": {
             "outlinewidth": 0,
             "ticks": ""
            },
            "type": "contourcarpet"
           }
          ],
          "heatmap": [
           {
            "colorbar": {
             "outlinewidth": 0,
             "ticks": ""
            },
            "colorscale": [
             [
              0,
              "#0d0887"
             ],
             [
              0.1111111111111111,
              "#46039f"
             ],
             [
              0.2222222222222222,
              "#7201a8"
             ],
             [
              0.3333333333333333,
              "#9c179e"
             ],
             [
              0.4444444444444444,
              "#bd3786"
             ],
             [
              0.5555555555555556,
              "#d8576b"
             ],
             [
              0.6666666666666666,
              "#ed7953"
             ],
             [
              0.7777777777777778,
              "#fb9f3a"
             ],
             [
              0.8888888888888888,
              "#fdca26"
             ],
             [
              1,
              "#f0f921"
             ]
            ],
            "type": "heatmap"
           }
          ],
          "histogram": [
           {
            "marker": {
             "pattern": {
              "fillmode": "overlay",
              "size": 10,
              "solidity": 0.2
             }
            },
            "type": "histogram"
           }
          ],
          "histogram2d": [
           {
            "colorbar": {
             "outlinewidth": 0,
             "ticks": ""
            },
            "colorscale": [
             [
              0,
              "#0d0887"
             ],
             [
              0.1111111111111111,
              "#46039f"
             ],
             [
              0.2222222222222222,
              "#7201a8"
             ],
             [
              0.3333333333333333,
              "#9c179e"
             ],
             [
              0.4444444444444444,
              "#bd3786"
             ],
             [
              0.5555555555555556,
              "#d8576b"
             ],
             [
              0.6666666666666666,
              "#ed7953"
             ],
             [
              0.7777777777777778,
              "#fb9f3a"
             ],
             [
              0.8888888888888888,
              "#fdca26"
             ],
             [
              1,
              "#f0f921"
             ]
            ],
            "type": "histogram2d"
           }
          ],
          "histogram2dcontour": [
           {
            "colorbar": {
             "outlinewidth": 0,
             "ticks": ""
            },
            "colorscale": [
             [
              0,
              "#0d0887"
             ],
             [
              0.1111111111111111,
              "#46039f"
             ],
             [
              0.2222222222222222,
              "#7201a8"
             ],
             [
              0.3333333333333333,
              "#9c179e"
             ],
             [
              0.4444444444444444,
              "#bd3786"
             ],
             [
              0.5555555555555556,
              "#d8576b"
             ],
             [
              0.6666666666666666,
              "#ed7953"
             ],
             [
              0.7777777777777778,
              "#fb9f3a"
             ],
             [
              0.8888888888888888,
              "#fdca26"
             ],
             [
              1,
              "#f0f921"
             ]
            ],
            "type": "histogram2dcontour"
           }
          ],
          "mesh3d": [
           {
            "colorbar": {
             "outlinewidth": 0,
             "ticks": ""
            },
            "type": "mesh3d"
           }
          ],
          "parcoords": [
           {
            "line": {
             "colorbar": {
              "outlinewidth": 0,
              "ticks": ""
             }
            },
            "type": "parcoords"
           }
          ],
          "pie": [
           {
            "automargin": true,
            "type": "pie"
           }
          ],
          "scatter": [
           {
            "fillpattern": {
             "fillmode": "overlay",
             "size": 10,
             "solidity": 0.2
            },
            "type": "scatter"
           }
          ],
          "scatter3d": [
           {
            "line": {
             "colorbar": {
              "outlinewidth": 0,
              "ticks": ""
             }
            },
            "marker": {
             "colorbar": {
              "outlinewidth": 0,
              "ticks": ""
             }
            },
            "type": "scatter3d"
           }
          ],
          "scattercarpet": [
           {
            "marker": {
             "colorbar": {
              "outlinewidth": 0,
              "ticks": ""
             }
            },
            "type": "scattercarpet"
           }
          ],
          "scattergeo": [
           {
            "marker": {
             "colorbar": {
              "outlinewidth": 0,
              "ticks": ""
             }
            },
            "type": "scattergeo"
           }
          ],
          "scattergl": [
           {
            "marker": {
             "colorbar": {
              "outlinewidth": 0,
              "ticks": ""
             }
            },
            "type": "scattergl"
           }
          ],
          "scattermap": [
           {
            "marker": {
             "colorbar": {
              "outlinewidth": 0,
              "ticks": ""
             }
            },
            "type": "scattermap"
           }
          ],
          "scattermapbox": [
           {
            "marker": {
             "colorbar": {
              "outlinewidth": 0,
              "ticks": ""
             }
            },
            "type": "scattermapbox"
           }
          ],
          "scatterpolar": [
           {
            "marker": {
             "colorbar": {
              "outlinewidth": 0,
              "ticks": ""
             }
            },
            "type": "scatterpolar"
           }
          ],
          "scatterpolargl": [
           {
            "marker": {
             "colorbar": {
              "outlinewidth": 0,
              "ticks": ""
             }
            },
            "type": "scatterpolargl"
           }
          ],
          "scatterternary": [
           {
            "marker": {
             "colorbar": {
              "outlinewidth": 0,
              "ticks": ""
             }
            },
            "type": "scatterternary"
           }
          ],
          "surface": [
           {
            "colorbar": {
             "outlinewidth": 0,
             "ticks": ""
            },
            "colorscale": [
             [
              0,
              "#0d0887"
             ],
             [
              0.1111111111111111,
              "#46039f"
             ],
             [
              0.2222222222222222,
              "#7201a8"
             ],
             [
              0.3333333333333333,
              "#9c179e"
             ],
             [
              0.4444444444444444,
              "#bd3786"
             ],
             [
              0.5555555555555556,
              "#d8576b"
             ],
             [
              0.6666666666666666,
              "#ed7953"
             ],
             [
              0.7777777777777778,
              "#fb9f3a"
             ],
             [
              0.8888888888888888,
              "#fdca26"
             ],
             [
              1,
              "#f0f921"
             ]
            ],
            "type": "surface"
           }
          ],
          "table": [
           {
            "cells": {
             "fill": {
              "color": "#EBF0F8"
             },
             "line": {
              "color": "white"
             }
            },
            "header": {
             "fill": {
              "color": "#C8D4E3"
             },
             "line": {
              "color": "white"
             }
            },
            "type": "table"
           }
          ]
         },
         "layout": {
          "annotationdefaults": {
           "arrowcolor": "#2a3f5f",
           "arrowhead": 0,
           "arrowwidth": 1
          },
          "autotypenumbers": "strict",
          "coloraxis": {
           "colorbar": {
            "outlinewidth": 0,
            "ticks": ""
           }
          },
          "colorscale": {
           "diverging": [
            [
             0,
             "#8e0152"
            ],
            [
             0.1,
             "#c51b7d"
            ],
            [
             0.2,
             "#de77ae"
            ],
            [
             0.3,
             "#f1b6da"
            ],
            [
             0.4,
             "#fde0ef"
            ],
            [
             0.5,
             "#f7f7f7"
            ],
            [
             0.6,
             "#e6f5d0"
            ],
            [
             0.7,
             "#b8e186"
            ],
            [
             0.8,
             "#7fbc41"
            ],
            [
             0.9,
             "#4d9221"
            ],
            [
             1,
             "#276419"
            ]
           ],
           "sequential": [
            [
             0,
             "#0d0887"
            ],
            [
             0.1111111111111111,
             "#46039f"
            ],
            [
             0.2222222222222222,
             "#7201a8"
            ],
            [
             0.3333333333333333,
             "#9c179e"
            ],
            [
             0.4444444444444444,
             "#bd3786"
            ],
            [
             0.5555555555555556,
             "#d8576b"
            ],
            [
             0.6666666666666666,
             "#ed7953"
            ],
            [
             0.7777777777777778,
             "#fb9f3a"
            ],
            [
             0.8888888888888888,
             "#fdca26"
            ],
            [
             1,
             "#f0f921"
            ]
           ],
           "sequentialminus": [
            [
             0,
             "#0d0887"
            ],
            [
             0.1111111111111111,
             "#46039f"
            ],
            [
             0.2222222222222222,
             "#7201a8"
            ],
            [
             0.3333333333333333,
             "#9c179e"
            ],
            [
             0.4444444444444444,
             "#bd3786"
            ],
            [
             0.5555555555555556,
             "#d8576b"
            ],
            [
             0.6666666666666666,
             "#ed7953"
            ],
            [
             0.7777777777777778,
             "#fb9f3a"
            ],
            [
             0.8888888888888888,
             "#fdca26"
            ],
            [
             1,
             "#f0f921"
            ]
           ]
          },
          "colorway": [
           "#636efa",
           "#EF553B",
           "#00cc96",
           "#ab63fa",
           "#FFA15A",
           "#19d3f3",
           "#FF6692",
           "#B6E880",
           "#FF97FF",
           "#FECB52"
          ],
          "font": {
           "color": "#2a3f5f"
          },
          "geo": {
           "bgcolor": "white",
           "lakecolor": "white",
           "landcolor": "#E5ECF6",
           "showlakes": true,
           "showland": true,
           "subunitcolor": "white"
          },
          "hoverlabel": {
           "align": "left"
          },
          "hovermode": "closest",
          "mapbox": {
           "style": "light"
          },
          "paper_bgcolor": "white",
          "plot_bgcolor": "#E5ECF6",
          "polar": {
           "angularaxis": {
            "gridcolor": "white",
            "linecolor": "white",
            "ticks": ""
           },
           "bgcolor": "#E5ECF6",
           "radialaxis": {
            "gridcolor": "white",
            "linecolor": "white",
            "ticks": ""
           }
          },
          "scene": {
           "xaxis": {
            "backgroundcolor": "#E5ECF6",
            "gridcolor": "white",
            "gridwidth": 2,
            "linecolor": "white",
            "showbackground": true,
            "ticks": "",
            "zerolinecolor": "white"
           },
           "yaxis": {
            "backgroundcolor": "#E5ECF6",
            "gridcolor": "white",
            "gridwidth": 2,
            "linecolor": "white",
            "showbackground": true,
            "ticks": "",
            "zerolinecolor": "white"
           },
           "zaxis": {
            "backgroundcolor": "#E5ECF6",
            "gridcolor": "white",
            "gridwidth": 2,
            "linecolor": "white",
            "showbackground": true,
            "ticks": "",
            "zerolinecolor": "white"
           }
          },
          "shapedefaults": {
           "line": {
            "color": "#2a3f5f"
           }
          },
          "ternary": {
           "aaxis": {
            "gridcolor": "white",
            "linecolor": "white",
            "ticks": ""
           },
           "baxis": {
            "gridcolor": "white",
            "linecolor": "white",
            "ticks": ""
           },
           "bgcolor": "#E5ECF6",
           "caxis": {
            "gridcolor": "white",
            "linecolor": "white",
            "ticks": ""
           }
          },
          "title": {
           "x": 0.05
          },
          "xaxis": {
           "automargin": true,
           "gridcolor": "white",
           "linecolor": "white",
           "ticks": "",
           "title": {
            "standoff": 15
           },
           "zerolinecolor": "white",
           "zerolinewidth": 2
          },
          "yaxis": {
           "automargin": true,
           "gridcolor": "white",
           "linecolor": "white",
           "ticks": "",
           "title": {
            "standoff": 15
           },
           "zerolinecolor": "white",
           "zerolinewidth": 2
          }
         }
        },
        "title": {
         "text": "Differentiated vs Undifferentiated Components (cells)"
        },
        "width": 600,
        "xaxis": {
         "anchor": "y",
         "domain": [
          0,
          1
         ],
         "title": {
          "text": "Without negating"
         }
        },
        "yaxis": {
         "anchor": "x",
         "domain": [
          0,
          1
         ],
         "title": {
          "text": "With negating"
         }
        }
       }
      }
     },
     "metadata": {},
     "output_type": "display_data"
    }
   ],
   "source": [
    "px.scatter(\n",
    "    x=cells_zero,\n",
    "    y=cells_negative,\n",
    "    color=adata.obs[\"cell_type\"],\n",
    "    title=\"Differentiated vs Undifferentiated Components (cells)\",\n",
    "    labels={\"x\": \"Without negating\", \"y\": \"With negating\"},\n",
    "    width=600,\n",
    "    height=600,\n",
    ")"
   ]
  },
  {
   "cell_type": "markdown",
   "id": "b89946b6",
   "metadata": {},
   "source": [
    "Cool, so negating the other directions doesn't rly do anything.\n",
    "- Should be an analytical reason for this. Could it be exploited, or is it trivial?"
   ]
  },
  {
   "cell_type": "markdown",
   "id": "e21b9da9",
   "metadata": {},
   "source": [
    "# Next steps"
   ]
  },
  {
   "cell_type": "markdown",
   "id": "63363e22",
   "metadata": {},
   "source": [
    "1. Use expert-annotated cell types to reduce potential PCA bias.\n",
    "2. Further explore dimension reduction capabilities.\n",
    "    - Task is critical here; classification with few classes allowed this to occur.\n",
    "3. Explore whether smooth changes in output space yield meaningful smooth changes in the gene network\n",
    "    - Need to define what type of gene network is being represented. It's not a gene regulatory network, is it?\n",
    "4. Apply this to a dataset focusing on healthy vs disease cells\n",
    "    - This is the promise of interpretability, since the underlying biology in that case would be unknown.\n",
    "    - In the case of myeloid dev here, we just did a validation by training on known biology (i.e. cell types)."
   ]
  }
 ],
 "metadata": {
  "kernelspec": {
   "display_name": "bmlp-env",
   "language": "python",
   "name": "python3"
  },
  "language_info": {
   "codemirror_mode": {
    "name": "ipython",
    "version": 3
   },
   "file_extension": ".py",
   "mimetype": "text/x-python",
   "name": "python",
   "nbconvert_exporter": "python",
   "pygments_lexer": "ipython3",
   "version": "3.9.23"
  }
 },
 "nbformat": 4,
 "nbformat_minor": 5
}
