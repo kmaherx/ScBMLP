{
 "cells": [
  {
   "cell_type": "markdown",
   "id": "5228784d",
   "metadata": {},
   "source": [
    "# Imports"
   ]
  },
  {
   "cell_type": "code",
   "execution_count": 1,
   "id": "a26fc587",
   "metadata": {},
   "outputs": [],
   "source": [
    "from scripts.datasets import simulation_classes\n",
    "from scripts.bmlp import ScBMLPClassifier, Config\n",
    "\n",
    "import scanpy as sc\n",
    "import numpy as np\n",
    "import plotly.express as px\n",
    "import pandas as pd\n",
    "import einops\n",
    "import torch"
   ]
  },
  {
   "cell_type": "markdown",
   "id": "19cd1cef",
   "metadata": {},
   "source": [
    "# Set params"
   ]
  },
  {
   "cell_type": "code",
   "execution_count": 2,
   "id": "a3570c6e",
   "metadata": {},
   "outputs": [],
   "source": [
    "DEVICE = \"cpu\"  # faster than mps..."
   ]
  },
  {
   "cell_type": "markdown",
   "id": "82326793",
   "metadata": {},
   "source": [
    "# Load data"
   ]
  },
  {
   "cell_type": "code",
   "execution_count": 3,
   "id": "c8873a05",
   "metadata": {},
   "outputs": [],
   "source": [
    "class_key = \"cell_type\"\n",
    "adata, train_dataset, val_dataset, test_dataset = simulation_classes(\n",
    "    device=DEVICE, n_cell_types=5, class_key=class_key\n",
    ")"
   ]
  },
  {
   "cell_type": "code",
   "execution_count": 4,
   "id": "0b5f65af",
   "metadata": {},
   "outputs": [],
   "source": [
    "n_cells, n_genes = adata.shape\n",
    "n_cell_types = adata.obs[\"cell_type\"].nunique()"
   ]
  },
  {
   "cell_type": "markdown",
   "id": "069644e9",
   "metadata": {},
   "source": [
    "## Visualize"
   ]
  },
  {
   "cell_type": "code",
   "execution_count": 5,
   "id": "7b09d8d1",
   "metadata": {},
   "outputs": [
    {
     "data": {
      "application/vnd.plotly.v1+json": {
       "config": {
        "plotlyServerURL": "https://plot.ly"
       },
       "data": [
        {
         "hovertemplate": "color=1<br>x=%{x}<br>y=%{y}<extra></extra>",
         "legendgroup": "1",
         "marker": {
          "color": "#636efa",
          "size": 5,
          "symbol": "circle"
         },
         "mode": "markers",
         "name": "1",
         "orientation": "v",
         "showlegend": true,
         "type": "scatter",
         "x": {
          "bdata": "QAXNwdIexMFh/MnBDyDLwfnDycE9K9DBf9S+wRRC0cHiccXBz6fgwU7pxsGAUs3By9TSwYAvysGvlMjBzUDKwXit1MEHqL3Bf9TEwSX40cH6E7TB76O+wbKfycF1c8nB3qXDwZ77z8G6nMzBBbzGwdi9w8Ekh77B3bS3wQhQxsFM38nBF87JwZvbysH+19LBu5zNwWb+z8HszM3BNHvTwQH+xsFR+MXBxfvFwQPxvcFH9d/BU+HawZ+QycEFJ8jBp1HcwQz6wcHHBsvBk7HBwUqPycGAaczByUCzwa/txsGHv9DBh27JwVt4xsEgRMfBWi7Jwe/AxMH0ccbBYVfOwSknxsFKuNDB/47GwcXH1cEuL7zBSO+8wWpcusE2gtDBDVPMwQHfycGqfsnBV6vMwQpq1MEh0b/BSt3JwTJkwMGnqM3BHHzEwbbc08F8BczBRorHwZwqyMFJNdnB4kPGweTP0cHmsb3BpqnGwUCzzcFS39/B3OPOwZZjx8GAAcrB+i7VwfKO08GFIdHB8tPGwU6pz8F0BcvBX0m8wUlyuMElLdHBrf7HwfJWyMF8TtPBcJrIwbzD0cG1HdfB7wLEwQFkyMEExtTBOyPXwemey8E8jdXBHrTJwZFi18FrFdbBLRTBwQeUyMEsldPBFCrVwbJQyMHqYdbBMmLDwdHxxMEIacnBoTnXwbsMw8HBXtDBEYvIwdkZ18FgKMPBsQ3HwUM708HVPMjBvKDEwfau2MGqkL7BBdHRweo9yMFXCcvB/XbKwVbR1cGBb9DBYvjFwcJQwMHqCcfByVzPwU5Qx8HNvM7BouPZwbPgzcH84cnBwwfBweIvzMFqacTBeK7EwRQ50cHcqMXBQJDCwdlUz8G2rc3BSlDKwcHdzcEjfsvBXoHFwRpGtcEv2sHBtrDNwdKy3cH5/NHBJU7JwZrR1sGGmM3BxenMwaVG2sHXzsnBUwfEwQH/zMGKicLBqCDNwV6px8E10MjBu17XwdtFvsFUT9HB7Y3WwQHyxsGcBtDBLLTIwWokz8FTCs3B5H/Qwauu0MGbOMnBEZbOwVzTy8E=",
          "dtype": "f4"
         },
         "xaxis": "x",
         "y": {
          "bdata": "44gfQgANIkLjGCFCZFMiQjxxI0LHGSdCF8YnQjB0IEJz/SRCsIomQtivJkKKOB5CmTYsQj9kIEIXfidCplEaQoL5KULRViNCpsEgQrGlIUIm4BxCp3snQpkKJELVcCdCabgdQiO9IULnBCFCuTMoQl/VJULcGSRCd0gnQihtJELu1SFCMOIjQjkVKUJv+x9CeiUmQgRmIEKGnSJCyFwgQm9cJEIZgRtCRd8rQsu8JEJJhCNCHuQlQqSBHUKhZyJC2EYjQjM4IEKBZixCbw0eQgrHKkKCcyZCJA0lQsqZI0KPbyRCm7seQvCZHkLlCCJCFp8jQhaqI0JdFyRCVJYnQqN0KUJjJShCwIwhQiDvJEJzcCJCiMcgQiLFJEJiKiRCGe4mQpH+IkIg8CRCIl4gQnsBJUIcqiNC7UwiQnoVIEIwtCRCHqwdQpmHJ0JetipC3MUiQmDrI0J9xyRC6/8nQoqoJEKbQx1CslAeQhwLKELSdCVC5TImQlUnJ0IESSJCvzArQnWFIkIY5CJCvNIhQoaPJ0IQECBCz44kQqfyHkKm2iRCUy0lQjvAI0KDNSVCvOIkQiHIJEIPtyRCtSEiQgiRIUIOEiJCPfEiQsAoHULFDCJC/MckQm4jIkIAwB9CL6MgQp/xIEJiDx9C20YhQv+8JkISLyxCvYsgQq0zIUKkcSRCRmIiQk8+H0LVpCFCES8gQn70HUJcFSFCZ+YZQlMAJ0ILVCFCFYwhQtXXHUINLCVCe8EkQmheJULnniZC228iQhJeJkLE3yFCRPgjQh7XHUI7LyVCoKEiQhp3JUIeCSZCrqAlQoKDIUI+5SFC7h8nQqehI0ITCyNCeGIiQqEPIkLlbSFCWOomQvgKH0LcnSFCylQjQo6RJELsOyJClWQkQn5XIUJQByNCQv8jQobYKELHnSVClZYhQgp2I0LaGh5CVJshQhogI0JzyiNCzmwiQsoEHkJ0piNCxrUqQnUFJUJn0yVCo9kmQmLtJkLLFSFC1JQiQizNJEJV4itCvF8fQhExKkKcQSBC+KkqQgKVH0KiGR5CgGgYQhTRJ0I=",
          "dtype": "f4"
         },
         "yaxis": "y"
        },
        {
         "hovertemplate": "color=3<br>x=%{x}<br>y=%{y}<extra></extra>",
         "legendgroup": "3",
         "marker": {
          "color": "#EF553B",
          "size": 5,
          "symbol": "circle"
         },
         "mode": "markers",
         "name": "3",
         "orientation": "v",
         "showlegend": true,
         "type": "scatter",
         "x": {
          "bdata": "GzHOwVcZ4MFiz8jB4i/PwWYbysH+f87BsYTNwQChz8F0EMfB/WPIweiazMGU48XBfoTJwYFO3sF2ZsPBhr/NwZkK0sFDALvBJDXDwdFpvcFkv9LB0Lm/we5208Hbk9PBn1jSwWzAzMGux8nBHNzAwZ2r18FXUcnB5I3IwV87yMFd0cvBZJvVwXzF0MEocdDBj03FwTG9z8Fw7MrBUDHJwcrJz8HG6s/ByAvHwX5K1cHPs8fBfNvCwXmHy8GFkcHBqAjCwb+JysHRt8rB8s3QwaxCzMGaBtnBBzrPwUqfvsFtr9HBUVTSwczkxMHrDtbBiofTwaodysGlrcLBZsLFwSkn0sEL8cPB7ejAwSaW1sF1NMbBZFzMwT9av8EhRtDBcVbMwbJ6x8G8v8zBsvfRwbQ4ysFEjNLB5N7KwReEyMGL4cLB3V3LwQFUxcHkw8TBJQLPwfDSzcGMLMfBd1XKwVqrt8EdT9HBhfnKweRAyMG9Y9HBeFjOwbfC3MHcVcbB+ETRwRpMycFSL8bBcy3JwSFn0cEgEtHBz/zFwZJLzsFdgczBAxbTwQGntsHmAdHB83TVwTjz0sFU0NTBRmvYwbl2y8Fy9c3BN3bAwYJEwsHRJ83BbbzKwQovvcFDOdHBS77HwYMr08FiWsLB5MfLweA408HxvsnBBSTNwVcezsFkLcTBH6DNwS2EwsGYlMrB5PvRwc2NysEPPcLBSQDPwWN4zsETq8TBg0/LwcN2zcHY9L/BsBTFwUy9zMEOPNLBB07QwXetyMHEQ8fBF4TRwcJbzsHUpcXB3UXMwX/52MFEWtXBRZjTwRR9zcHXfNnByFzFwWT+1sFleMzBdgzXwX+/w8GEE8LBjNPVwc8c18EgJtbBZYO6wZKwyMGiV8vB4LHNwQfQx8H6FcbBlWPKwY9Lw8ErIdHBtMvAwXGKzMGIk8bBK47RwfEZx8FK2NXBh83IwetnwMGTm8rBfB3OwdxO0cFKXdDBt6K+wY5Qx8Egkc3BIgrPwZ46v8Fq49LBw2PTwbgIzMHhms3BowPJwYyo0sGToM/BGPHEwaEFvsE=",
          "dtype": "f4"
         },
         "xaxis": "x",
         "y": {
          "bdata": "3fzEwZiNwcHhC7/B6c7LweAFvsGtDcPBHATEwS8gx8Hb6snBsbW/wTWCvcHWf77BYtjRwZsDxcGpoMXB+mPSwfqtw8GIkcHB6X3HwWvTw8FoELrBzHDNwWtjz8EF7M/BJzvTwQea18EUtc7Bj3/QwQ8EwsHqyM/Be6jOwUVrxMF8fc3B52TEwSjAz8H29b3BeLvPwVz/0cGNdsjBUYfEwS8wz8Fk9M7B3HrFweWKysEPQL3B2LLIwd1hxcGjw83B9S/KwSSby8HkELvBpBLEwZ1E1sHN2r3Bn7W+wQCpzMH2RcLBtDvRwXNJxcEvG7zBkOTNwVK2ucFjdM7BVM7BwVU3ysHLTtPBqFvKwWjQxcEaP9PB4zzAwVnTwsF7msbB3OW3wUTMwsFIjMrBBizEwfPd0MGt0L/BxVyrwcpUv8HD8svBTLHXwSsU2cEwmsXBwLXCwW4l1sElpdHB40HIwV1Vv8HZu7/Bt/jLwfEazcGVF8TBzjfHwec2s8HFLsvBpG3FwT9uz8HnycDB9GO6wYXlxcF+o8fBHN/EwUUZy8EGc8PBQ87PwXBvwcE5S9XBMZ7IwdRtxsGku77B75vEwbcD0MFRMdLBLDXNwUKRwMEyItPB0MvbwRE1zcF+4bTBJtfFwaOczMGIwcPBlOvHwXWVusGGm8zBTgjNwauswMHt37vB+27Wwf8h18FFkbfB5ELKwbUrvsHaMNLBN0TGwTklwMHHEbbBw1nRwdMau8GNW8/BJxC+wc9UxcH7S8fB3CO4wU7ixMGuWMnByjrMwfAZzcHlVb3Bsr7FwUGpwMFovsPBN4jMwajSy8HlwMnB5JPLwR+T0MHlvsfBmy3JwXFAycHtZ8XBDdu7wVm6w8G8/MPBT9a5wU/eusEmDcfB8F7Lwaom1MEIsNLBhXXRwcGLu8H+78bB7Mm7wfHT0sFTT9DBV7LHwXmTz8FNn8PBiPvHwbFuvcHbRLnB33XKwY6Uy8Fuc9bB1mDPwZ0Yv8EU1cHBPG7HwXv2xMEcbM3BvsrCweERz8HuXcXBkxm8wStRyMFv3tLBNxnPwQvvu8E=",
          "dtype": "f4"
         },
         "yaxis": "y"
        },
        {
         "hovertemplate": "color=2<br>x=%{x}<br>y=%{y}<extra></extra>",
         "legendgroup": "2",
         "marker": {
          "color": "#00cc96",
          "size": 5,
          "symbol": "circle"
         },
         "mode": "markers",
         "name": "2",
         "orientation": "v",
         "showlegend": true,
         "type": "scatter",
         "x": {
          "bdata": "yqsxQtOnMULJnzdCUHM2QiYGNEL6GDtCUyY3QvH0MULe7DNCEgM1QsILO0Ly8zNCN+MzQvw8MkI85jBCEDo4QkghM0I7LTZC/qc1QrV3O0JJ3TNC6P81QkNXNULgVzVCud0vQr4oM0LZXzdCuPc1Qhh2NkICsDZChHIxQmZpMkLOwjBCJ0cvQoSjNkI5az5Coww1Qr10MEK2iDJCmi87QsjjMkJ6ND1CADE2QmK8MEKqGi9CrbM1QhnRO0JHKzNCe8M8QqrJLkI93TNCn3c3QpnsMkJvVDJCszA2QsSBNEL7AjBCmz0wQi5iMkJRey9CrG44QsHtNULNBT5CpcI6QjibNELjYjJC9Jc8QlWQMkKj1jlCX782QmpsNUJ5vThCtaE5Qtw2MEJ5+jRC7IkzQgI9MEIboy1Cr6czQtoiNkIKUDVCY4E0Qt3EMkIALDVCxOAzQjtrPUKcYzlCo4s4QqNnNUIUrDhCAbo5QpYxN0LwyDJC8ewvQl7+N0IzpDZC2eM1Qs4/PEL1ATZChMUzQjHiMUIY7jVCxeAsQvYgN0I0BDRC42gzQqUINUL54DFCy208QiCDNELbRzNCBBo4QgB8N0IwlzBCAW42Qo1aOEJI6zZCAWozQqHwN0IXHjRCUIsvQr8mPELDbTJCO145QjfZMkLR9T1CQOc2Qk6IM0LTiy5CyME4QqG8J0IRsjJCYJ45QinhOkJzGTtCmhA0Qi1FNEIsXzJCJIMvQm6kMULdgTtC6bE5QkBpPEJDgjRCYUYzQrX/PEJLuDVCFf40Qt1JL0IXXDJCLAs0Qg4GPUKT6DNCPZc1QqbGMUK/ojRCObUxQuI6MULFODdC6d0wQj4fNEJqMTtCths5Qu2wM0L8+TlCUPkvQrCyOUJkizNCr+w3QjldNELmujFCZokyQlcTMkKK4TJCQSk0QsliOULRZTRCXa81QuWeNUJAvzVCt6E3QnbmNEI5LzlCEmE1QhLxN0LEqThCS9EzQqLVOkL4bDdC2qIzQvX5OEJAnjdCQ0QvQhVrMULq2TlCVT80QtwsMULxoTdCw242Qh+QNUI=",
          "dtype": "f4"
         },
         "xaxis": "x",
         "y": {
          "bdata": "jCiXQVhrqEFlHJpBUWauQXV1okFfyqlBznGoQccKokH8+6RBCq2gQYALp0EHY6ZByqOjQcwzp0Gl1Z9Br1OpQSn5o0FFJKhBXVWkQd8WmkGs1aVBvWqjQde1rUHDrZ9B9/OuQanjnEEdMbFBR5OpQRdxqEFnOZVBMe6YQdSVsEEKyLFBa4iqQR++pEGTyKVBZW6kQfTjnUE4NJlBj7KXQaO3oUG7lZ5B2cekQaVjqkF6CJRBC4StQQcVqEGy5qBB1w+mQfOpr0FjR7BBwd+hQd8wlEEkiqdBN1SwQSGsoEGKCahBFhKiQdjBo0Heq6tBxsW4QQ7Sl0E/Z65BHv6tQRjIsUG+Ip5BWGemQV0mq0GvIaRBXPKwQb3FpEGqI5tBjDqXQY4mm0HxQqNBK3KoQeY+rUGqxqJBQH6hQXLupUEALaVBkMqzQWZtokFRBqlBLHunQbKbrkEaZaJBQ1GvQRCqpEHZVKpBIDyxQZaHnUEFeq1BlZaqQeOLrEEc2qpBnc6jQQwdl0FV77JBqvCeQSzMrkHPC7BBKVq0QdxmtkENvbRB5UWrQUcVoEHGT69BhKy0QdeRoUGe1alB9bOdQXlPsEF3UqVBdYKzQRDelEHl8a5BP1uQQZAlpEE+CZ5B/bGcQaz/p0F2GLBBW9SsQc8UnkGeyaJBKqOaQZGHokFuHaNBkWGnQau0pkEp1qZB+a6iQR4wq0G2SqZB+2ytQbR3qkGvuq9BTZSdQXk/lkEBypVBtjmsQSaIqkHy7qtBV1SdQUh+oEGKi6JBiDWhQSlrtkHLN6JBZ3CpQY8CnUGBF6dBsLaqQZQfpkFOQKJBtl2nQXzio0GOJ6dBg7aqQfFIo0GXXalBBNqqQbqhpEE7rZxBd0mfQfaXrEFNIKNB5aiVQY7XokG0JadBo8aqQeTdo0F1qZ5BfDquQeX0qkGOmKpBem+pQUXyoEHn2KhBr02lQVkmpUFsTbFBBImnQWEsqkGlSJ5BUvqxQe4XqkGpUKNBD/mlQbj7nUEIGoxBygyQQa/1oEEckbJBJcujQbbRrUEjKbJBZB6pQdJunUE=",
          "dtype": "f4"
         },
         "yaxis": "y"
        },
        {
         "hovertemplate": "color=0<br>x=%{x}<br>y=%{y}<extra></extra>",
         "legendgroup": "0",
         "marker": {
          "color": "#ab63fa",
          "size": 5,
          "symbol": "circle"
         },
         "mode": "markers",
         "name": "0",
         "orientation": "v",
         "showlegend": true,
         "type": "scatter",
         "x": {
          "bdata": "x62DwZ2ngMEqDXrBqJmIwXggesGHs4bB1K+IwRtyacG65YbBAWmIwdsrfMGpR4HB8FVswR71c8FZR3HBcoyIwYm/h8GGFnTBy8qDwTk/iMGyfG/Bf6+IwUfvf8F2pX/BHzCGwSkMiMEYfXjBo8V2wUXBgcFjEnLB8PmFwbi4gcEKyYDBlTOGwds0iMHwX4XBzAqEwWAPgsE2hoHBahlrwd5Oj8HQcoHBkYBywcSfb8EplWrBiqN+wcm5hcGsVmTBgql9waH0hcGBFIPBucyJwXAPZsFs64TB7x58wRDri8FMm4XB+ImCwUKrisHXLo7BoZp8wTQRgME+aITBRFx6wZkjgcEMXoXBh9qDwSspicG5UY3Bj0t7wWzxhcF3nIPBn6OEwZygecFmXnvBIDFvwSq3hcEl1YjBDymHwelpi8Fsv1zBHaGNwQHSicE5RHnBDhSGwb6nfsEKBoXBbymAwdqadMG852jBqlOBwRSYhMFaH3zBPkOSwQuyf8GBcHPBrCN0wT7bhsEAcobBZhFmwdo2k8G3gYzB9GJ0wfEOecHOcXXB4Bt2wbVHiMEgwoDB1r98wfEbecHNxInBisWAwbBkU8FpyoTBRhF2wRXKe8Ey1YDBC1RiwW3QcsGIN4/Bi0+CwbSnh8GitGbBkbVqwaAecsFLj37BkoeFwcsIksGrLobBvJxjwSE1hsF3KnjBkOZlwRDme8E7OIzBu+mIwUuzfcHdMI3BwT+AwSLsdMFiFYfBcr+KwQ9agsEQcZDBiNSCwYWdgcEh/ZPBadKKwTQHkcHMh4XBKpCLwUKRc8G1aXvBt498wQ9ViMFmXobB16WHwb1ucMGquYXBMG2HweOQecEl/orBHGRywSVYhsEnHYDBgClvwdzOf8HxzoDBgHR+wf8Tg8FSwXrB/COEwRhogsFW9YzB8hiOwZafiMHoEXHB+BmAwZePb8HcDZHBhSKCwZYKh8EcOXzBK4p5wd46gMEdeILBC6Jewc9sgsH2gHzBEi+AwXCMkMHlVoHBkGuCwUmGc8HoS4jBZ9t6wTu8csF4SYPBgm59wQE7gcE=",
          "dtype": "f4"
         },
         "xaxis": "x",
         "y": {
          "bdata": "RB3YwFR06cDZ6dPAC4rFwKoavcBlHPPAYQ/PwCUhxMBXh9vAsv77wKNRxsB8rsrAlajcwCOIlMAl6/nA1AnrwKRn7cDrFsjASfPOwFVQm8DpLdPAQUPjwCL45MDOTurAhgTdwDZx28AMuqbAdi7CwDaK1cDLYszAUZGewJuW0cBc9gfBf9TCwHRJpsANcgjBE6DFwMCRw8CiocXAqYfowFEi4MDWCejA4Af8wBzSqMD0brLAuJjswC0BBMEd/d/AU6kDwbUop8CDpuvAqMUFwbFHo8DR4/fADd8NwcPV5cCyKe7AriIDwU9H4sDA08DAueaowJm03MCwRQvBHEGVwFE0t8CiW3PAu/LAwBDK2cDAa+jAIuflwNz3sMChfrzAxqPvwPDB4cBV3ODA/nr3wGlRA8G7b/LAPwgCwdgk2MBl8u/AVtTJwOGg48BSd/7A1dTGwGqNAsGrbQDBviqtwOrsv8AoJQHBGtqrwBoVtcAIK73A9NPjwL1I38DqBcLAjkaLwAPu8MA8qtTAQ+CrwA9JscDJMAfBh0nDwK102cDq4urA6+m9wKK/2sA80bPATNwSwWoJ7cBQRdjAtfSvwOH1qcAv9AHBaUHqwKKExcB4O8bAxULHwFDw4cAr4+vA23//wBtA/cA1mKTAyxgDwT+z8MBTrtnAp5btwAu33cBlUQjBRxvmwIzBzsA/utPAwcnxwP+9AcH8KJnAupTjwJn02MA7+gfBTBvKwBmOlcDCQczAxD6+wImy9sC4GfTAuT8JwdPNz8DPIfnAq9bJwNJP4MDfe8vAxXH8wOO2T8AFUQLB7YABwQ5b7sBpIOrA01DhwLhz4sDvANHAN7/awBD/68BsaNvA6szdwHHz4MALdcjABqj8wKZ71sCMRcHAaED7wCDd7MDva+PA9azvwI9U48Dlc8jA0zDwwL3bBMHf59/AZRTnwMVDrcA6bsnAUyXXwFb888C2863AOnm7wBuj6sBOF9rA6t/qwOE64cBze+DAtMjNwIsl5cDRJ9XA0krAwLuJ5sDBpKvAsJMBwU1J48DCeL/AZG6awHPo58A=",
          "dtype": "f4"
         },
         "yaxis": "y"
        },
        {
         "hovertemplate": "color=4<br>x=%{x}<br>y=%{y}<extra></extra>",
         "legendgroup": "4",
         "marker": {
          "color": "#FFA15A",
          "size": 5,
          "symbol": "circle"
         },
         "mode": "markers",
         "name": "4",
         "orientation": "v",
         "showlegend": true,
         "type": "scatter",
         "x": {
          "bdata": "IGquQa4upUF95apBnz6lQWFJrEHmca9B7BiyQYd9uUGel6pBQxK2QZFLskG1EK9BHoGyQbz5nkGvGrRBYfu0QcPwokFMs6BBYOaqQU1UskEYo61BPNGxQZvcq0Gh2qJBz9WtQW2UpEGSqbJBMIGiQVlkrUHGF7NBkI6qQVbmq0GgNKdB8Lm6QchvsUE/n6pBWBWoQfOjpkGCqKpB6oOkQZYzp0Fpwr5B5bG2QbSCrEH2sa5B6X+wQcGtrUH2YbNB8zGqQQyzrEGzVbJBvfuoQQwZpkFdqadBvqm6QYLNpUFSYrNBBi2iQZh5rkFrgK1BV6SkQZBkr0HRWaNBAhO8QVhIqkFcmqhBFeKzQRIvr0HUPrtBmxa+QdxsukFwu6lBeRC3QQllqUHUSrBBeHa1Qdzuu0FR5bVBfnilQbB+o0EUip9BCumZQUr8pUHI3atBNgSsQVkHuEFsxKlB8GieQe4er0HoHKNB5na3QdIxtUHZcrJBn9ivQbDdrUFHWa1BrJOvQQHQrEHfjLNB55GrQX6urUF/b51BukCvQTQZrUGuDqZBu866QXpzqEF5jrVBiVerQRcVrkG3haxBl5G3QbcFs0FZnLhB0ZS9QbOZrUEXPqlBZuytQQPps0HukJ9BQwqvQRQTqkFMzLFBBASoQU5QtEFkrqVBCgGyQXyJr0H4YqhBrzG0QceEpUEEPKJBzFunQaaLqEF52LdB6/qbQWRtrUEszKtBh/GwQfzGpkGnAaJBPHO1QXLwqEFoZJtBcbizQaixtUG0y6dBBR6qQTG1sUGzt6ZBl/CwQYU0tUG9hqJBdwerQavEqkFf6aRBu8yhQRnfokHNBLVBxeWvQdFnuEGX2qVBdKi7QdjDuEFd+r5B1W2rQfZpp0EjGKpBW4i1QfAXvEHj97FB9CS1QVKLp0EGvbZB1quqQYWRpUFe67xB242tQdqQsEE6661BRxG1QSEntUGNfLBBpo60QXm1qUF33bBBiYq0QQ4Dr0Gbl7ZBI9KvQYdhnUFmK69B9MOfQTqmqUF5EKdBMoilQXQ6n0FiladBYiTAQaJntEE=",
          "dtype": "f4"
         },
         "xaxis": "x",
         "y": {
          "bdata": "mJXzwcIw+MGyUeDBEMPtwfzU9cGAdufBNtb4wQ4P7sE2PPPBhVzqwc84+cFYWOvBnFXrwbzo8sF4m+jBVvLtwe0I9cFz5evB7onuwUTK68HvW/jB7vfwwemp5sFsv+LBGsvtwTt788G/Lu/B84/3wQjU7sGZn/nBw2Howe5l7MF+gebBLw7cwY7E88H8DfjBO07wwXSGAcIqAvPB2jrqwcIi58FuPPzBSt3xwWwv8sEbkuPBQ9L7wfKU4cEUuPbBibLxwUXL7cEug+jBoqvvwSWh7MFkuO/BbrztwZzH88FG6PLBokfpwRNj48GNaubBUq7gwW8l88GYi+TBxfbtwZHp5sEJD+/B2XnewSDO98GCLPHBMJbiwezX7MGIGu3BLQrqweKP98EudezBMxbswTx78cFnwunBCXXmwfqQ78HWiPDBPBLswTcV8sElUvnBvP/1wV2s68ENgu7BEBz0wcKz2cEjq/3BYDLswQ3o58Ee7e/Bb9vqwduJ98HzI+bBnzP2wZRP68EwhfTBjZvwwWXo8cH/UejBzvPywWE08sF5xu7BVCnzwRMR9MFSTOzBk1vswZmR7cE4iwDCdHbpwchi7cH3dPHBIyb0wQPs5cHg1PHB9PLkwS6778EEYfnB6Q7uwW3u68EzLuvBUqT2wTz1/MGVuOvBtAPcwekp8MHg1eTBc7f0wS856cEnJ+jB0Z3zwdqw6MGpTfTBhBH2wb+P/MFNq+XBGSvzwYmjAcLDdubBzOvqwT5G8MHYa+7Bf7nxwZ+S/8FqlPnB8tH3wUVR7cH7IPfB+wv3wR7D78GxuPnBHPXowXFc4sHQU/PBy0Pswcso78EN8uXBuUX9wTSf58Gm0fbB1UDlwR9O7cFlvu7B5u/3wYA08MHOT+3BWArrwY9u4cF3xuzBWvfhwbX66cHC8eXBqV7jwawF+MGazuTBbhn4wRqZ7sHlrujB3M7ywYaM9cEsQPvBqkTdwZQ07cHewejBTO72we3J58H3jPLB1Lb7wedt9MH6DezBoO/qwWVB6cGaUvrBom/7wc/z78E4Y/vBDlXowaQ76ME=",
          "dtype": "f4"
         },
         "yaxis": "y"
        }
       ],
       "layout": {
        "height": 600,
        "legend": {
         "title": {
          "text": "color"
         },
         "tracegroupgap": 0
        },
        "template": {
         "data": {
          "bar": [
           {
            "error_x": {
             "color": "#2a3f5f"
            },
            "error_y": {
             "color": "#2a3f5f"
            },
            "marker": {
             "line": {
              "color": "#E5ECF6",
              "width": 0.5
             },
             "pattern": {
              "fillmode": "overlay",
              "size": 10,
              "solidity": 0.2
             }
            },
            "type": "bar"
           }
          ],
          "barpolar": [
           {
            "marker": {
             "line": {
              "color": "#E5ECF6",
              "width": 0.5
             },
             "pattern": {
              "fillmode": "overlay",
              "size": 10,
              "solidity": 0.2
             }
            },
            "type": "barpolar"
           }
          ],
          "carpet": [
           {
            "aaxis": {
             "endlinecolor": "#2a3f5f",
             "gridcolor": "white",
             "linecolor": "white",
             "minorgridcolor": "white",
             "startlinecolor": "#2a3f5f"
            },
            "baxis": {
             "endlinecolor": "#2a3f5f",
             "gridcolor": "white",
             "linecolor": "white",
             "minorgridcolor": "white",
             "startlinecolor": "#2a3f5f"
            },
            "type": "carpet"
           }
          ],
          "choropleth": [
           {
            "colorbar": {
             "outlinewidth": 0,
             "ticks": ""
            },
            "type": "choropleth"
           }
          ],
          "contour": [
           {
            "colorbar": {
             "outlinewidth": 0,
             "ticks": ""
            },
            "colorscale": [
             [
              0,
              "#0d0887"
             ],
             [
              0.1111111111111111,
              "#46039f"
             ],
             [
              0.2222222222222222,
              "#7201a8"
             ],
             [
              0.3333333333333333,
              "#9c179e"
             ],
             [
              0.4444444444444444,
              "#bd3786"
             ],
             [
              0.5555555555555556,
              "#d8576b"
             ],
             [
              0.6666666666666666,
              "#ed7953"
             ],
             [
              0.7777777777777778,
              "#fb9f3a"
             ],
             [
              0.8888888888888888,
              "#fdca26"
             ],
             [
              1,
              "#f0f921"
             ]
            ],
            "type": "contour"
           }
          ],
          "contourcarpet": [
           {
            "colorbar": {
             "outlinewidth": 0,
             "ticks": ""
            },
            "type": "contourcarpet"
           }
          ],
          "heatmap": [
           {
            "colorbar": {
             "outlinewidth": 0,
             "ticks": ""
            },
            "colorscale": [
             [
              0,
              "#0d0887"
             ],
             [
              0.1111111111111111,
              "#46039f"
             ],
             [
              0.2222222222222222,
              "#7201a8"
             ],
             [
              0.3333333333333333,
              "#9c179e"
             ],
             [
              0.4444444444444444,
              "#bd3786"
             ],
             [
              0.5555555555555556,
              "#d8576b"
             ],
             [
              0.6666666666666666,
              "#ed7953"
             ],
             [
              0.7777777777777778,
              "#fb9f3a"
             ],
             [
              0.8888888888888888,
              "#fdca26"
             ],
             [
              1,
              "#f0f921"
             ]
            ],
            "type": "heatmap"
           }
          ],
          "histogram": [
           {
            "marker": {
             "pattern": {
              "fillmode": "overlay",
              "size": 10,
              "solidity": 0.2
             }
            },
            "type": "histogram"
           }
          ],
          "histogram2d": [
           {
            "colorbar": {
             "outlinewidth": 0,
             "ticks": ""
            },
            "colorscale": [
             [
              0,
              "#0d0887"
             ],
             [
              0.1111111111111111,
              "#46039f"
             ],
             [
              0.2222222222222222,
              "#7201a8"
             ],
             [
              0.3333333333333333,
              "#9c179e"
             ],
             [
              0.4444444444444444,
              "#bd3786"
             ],
             [
              0.5555555555555556,
              "#d8576b"
             ],
             [
              0.6666666666666666,
              "#ed7953"
             ],
             [
              0.7777777777777778,
              "#fb9f3a"
             ],
             [
              0.8888888888888888,
              "#fdca26"
             ],
             [
              1,
              "#f0f921"
             ]
            ],
            "type": "histogram2d"
           }
          ],
          "histogram2dcontour": [
           {
            "colorbar": {
             "outlinewidth": 0,
             "ticks": ""
            },
            "colorscale": [
             [
              0,
              "#0d0887"
             ],
             [
              0.1111111111111111,
              "#46039f"
             ],
             [
              0.2222222222222222,
              "#7201a8"
             ],
             [
              0.3333333333333333,
              "#9c179e"
             ],
             [
              0.4444444444444444,
              "#bd3786"
             ],
             [
              0.5555555555555556,
              "#d8576b"
             ],
             [
              0.6666666666666666,
              "#ed7953"
             ],
             [
              0.7777777777777778,
              "#fb9f3a"
             ],
             [
              0.8888888888888888,
              "#fdca26"
             ],
             [
              1,
              "#f0f921"
             ]
            ],
            "type": "histogram2dcontour"
           }
          ],
          "mesh3d": [
           {
            "colorbar": {
             "outlinewidth": 0,
             "ticks": ""
            },
            "type": "mesh3d"
           }
          ],
          "parcoords": [
           {
            "line": {
             "colorbar": {
              "outlinewidth": 0,
              "ticks": ""
             }
            },
            "type": "parcoords"
           }
          ],
          "pie": [
           {
            "automargin": true,
            "type": "pie"
           }
          ],
          "scatter": [
           {
            "fillpattern": {
             "fillmode": "overlay",
             "size": 10,
             "solidity": 0.2
            },
            "type": "scatter"
           }
          ],
          "scatter3d": [
           {
            "line": {
             "colorbar": {
              "outlinewidth": 0,
              "ticks": ""
             }
            },
            "marker": {
             "colorbar": {
              "outlinewidth": 0,
              "ticks": ""
             }
            },
            "type": "scatter3d"
           }
          ],
          "scattercarpet": [
           {
            "marker": {
             "colorbar": {
              "outlinewidth": 0,
              "ticks": ""
             }
            },
            "type": "scattercarpet"
           }
          ],
          "scattergeo": [
           {
            "marker": {
             "colorbar": {
              "outlinewidth": 0,
              "ticks": ""
             }
            },
            "type": "scattergeo"
           }
          ],
          "scattergl": [
           {
            "marker": {
             "colorbar": {
              "outlinewidth": 0,
              "ticks": ""
             }
            },
            "type": "scattergl"
           }
          ],
          "scattermap": [
           {
            "marker": {
             "colorbar": {
              "outlinewidth": 0,
              "ticks": ""
             }
            },
            "type": "scattermap"
           }
          ],
          "scattermapbox": [
           {
            "marker": {
             "colorbar": {
              "outlinewidth": 0,
              "ticks": ""
             }
            },
            "type": "scattermapbox"
           }
          ],
          "scatterpolar": [
           {
            "marker": {
             "colorbar": {
              "outlinewidth": 0,
              "ticks": ""
             }
            },
            "type": "scatterpolar"
           }
          ],
          "scatterpolargl": [
           {
            "marker": {
             "colorbar": {
              "outlinewidth": 0,
              "ticks": ""
             }
            },
            "type": "scatterpolargl"
           }
          ],
          "scatterternary": [
           {
            "marker": {
             "colorbar": {
              "outlinewidth": 0,
              "ticks": ""
             }
            },
            "type": "scatterternary"
           }
          ],
          "surface": [
           {
            "colorbar": {
             "outlinewidth": 0,
             "ticks": ""
            },
            "colorscale": [
             [
              0,
              "#0d0887"
             ],
             [
              0.1111111111111111,
              "#46039f"
             ],
             [
              0.2222222222222222,
              "#7201a8"
             ],
             [
              0.3333333333333333,
              "#9c179e"
             ],
             [
              0.4444444444444444,
              "#bd3786"
             ],
             [
              0.5555555555555556,
              "#d8576b"
             ],
             [
              0.6666666666666666,
              "#ed7953"
             ],
             [
              0.7777777777777778,
              "#fb9f3a"
             ],
             [
              0.8888888888888888,
              "#fdca26"
             ],
             [
              1,
              "#f0f921"
             ]
            ],
            "type": "surface"
           }
          ],
          "table": [
           {
            "cells": {
             "fill": {
              "color": "#EBF0F8"
             },
             "line": {
              "color": "white"
             }
            },
            "header": {
             "fill": {
              "color": "#C8D4E3"
             },
             "line": {
              "color": "white"
             }
            },
            "type": "table"
           }
          ]
         },
         "layout": {
          "annotationdefaults": {
           "arrowcolor": "#2a3f5f",
           "arrowhead": 0,
           "arrowwidth": 1
          },
          "autotypenumbers": "strict",
          "coloraxis": {
           "colorbar": {
            "outlinewidth": 0,
            "ticks": ""
           }
          },
          "colorscale": {
           "diverging": [
            [
             0,
             "#8e0152"
            ],
            [
             0.1,
             "#c51b7d"
            ],
            [
             0.2,
             "#de77ae"
            ],
            [
             0.3,
             "#f1b6da"
            ],
            [
             0.4,
             "#fde0ef"
            ],
            [
             0.5,
             "#f7f7f7"
            ],
            [
             0.6,
             "#e6f5d0"
            ],
            [
             0.7,
             "#b8e186"
            ],
            [
             0.8,
             "#7fbc41"
            ],
            [
             0.9,
             "#4d9221"
            ],
            [
             1,
             "#276419"
            ]
           ],
           "sequential": [
            [
             0,
             "#0d0887"
            ],
            [
             0.1111111111111111,
             "#46039f"
            ],
            [
             0.2222222222222222,
             "#7201a8"
            ],
            [
             0.3333333333333333,
             "#9c179e"
            ],
            [
             0.4444444444444444,
             "#bd3786"
            ],
            [
             0.5555555555555556,
             "#d8576b"
            ],
            [
             0.6666666666666666,
             "#ed7953"
            ],
            [
             0.7777777777777778,
             "#fb9f3a"
            ],
            [
             0.8888888888888888,
             "#fdca26"
            ],
            [
             1,
             "#f0f921"
            ]
           ],
           "sequentialminus": [
            [
             0,
             "#0d0887"
            ],
            [
             0.1111111111111111,
             "#46039f"
            ],
            [
             0.2222222222222222,
             "#7201a8"
            ],
            [
             0.3333333333333333,
             "#9c179e"
            ],
            [
             0.4444444444444444,
             "#bd3786"
            ],
            [
             0.5555555555555556,
             "#d8576b"
            ],
            [
             0.6666666666666666,
             "#ed7953"
            ],
            [
             0.7777777777777778,
             "#fb9f3a"
            ],
            [
             0.8888888888888888,
             "#fdca26"
            ],
            [
             1,
             "#f0f921"
            ]
           ]
          },
          "colorway": [
           "#636efa",
           "#EF553B",
           "#00cc96",
           "#ab63fa",
           "#FFA15A",
           "#19d3f3",
           "#FF6692",
           "#B6E880",
           "#FF97FF",
           "#FECB52"
          ],
          "font": {
           "color": "#2a3f5f"
          },
          "geo": {
           "bgcolor": "white",
           "lakecolor": "white",
           "landcolor": "#E5ECF6",
           "showlakes": true,
           "showland": true,
           "subunitcolor": "white"
          },
          "hoverlabel": {
           "align": "left"
          },
          "hovermode": "closest",
          "mapbox": {
           "style": "light"
          },
          "paper_bgcolor": "white",
          "plot_bgcolor": "#E5ECF6",
          "polar": {
           "angularaxis": {
            "gridcolor": "white",
            "linecolor": "white",
            "ticks": ""
           },
           "bgcolor": "#E5ECF6",
           "radialaxis": {
            "gridcolor": "white",
            "linecolor": "white",
            "ticks": ""
           }
          },
          "scene": {
           "xaxis": {
            "backgroundcolor": "#E5ECF6",
            "gridcolor": "white",
            "gridwidth": 2,
            "linecolor": "white",
            "showbackground": true,
            "ticks": "",
            "zerolinecolor": "white"
           },
           "yaxis": {
            "backgroundcolor": "#E5ECF6",
            "gridcolor": "white",
            "gridwidth": 2,
            "linecolor": "white",
            "showbackground": true,
            "ticks": "",
            "zerolinecolor": "white"
           },
           "zaxis": {
            "backgroundcolor": "#E5ECF6",
            "gridcolor": "white",
            "gridwidth": 2,
            "linecolor": "white",
            "showbackground": true,
            "ticks": "",
            "zerolinecolor": "white"
           }
          },
          "shapedefaults": {
           "line": {
            "color": "#2a3f5f"
           }
          },
          "ternary": {
           "aaxis": {
            "gridcolor": "white",
            "linecolor": "white",
            "ticks": ""
           },
           "baxis": {
            "gridcolor": "white",
            "linecolor": "white",
            "ticks": ""
           },
           "bgcolor": "#E5ECF6",
           "caxis": {
            "gridcolor": "white",
            "linecolor": "white",
            "ticks": ""
           }
          },
          "title": {
           "x": 0.05
          },
          "xaxis": {
           "automargin": true,
           "gridcolor": "white",
           "linecolor": "white",
           "ticks": "",
           "title": {
            "standoff": 15
           },
           "zerolinecolor": "white",
           "zerolinewidth": 2
          },
          "yaxis": {
           "automargin": true,
           "gridcolor": "white",
           "linecolor": "white",
           "ticks": "",
           "title": {
            "standoff": 15
           },
           "zerolinecolor": "white",
           "zerolinewidth": 2
          }
         }
        },
        "title": {
         "text": "Myeloid progenitor differentiation data"
        },
        "width": 600,
        "xaxis": {
         "anchor": "y",
         "domain": [
          0,
          1
         ],
         "title": {
          "text": "x"
         }
        },
        "yaxis": {
         "anchor": "x",
         "domain": [
          0,
          1
         ],
         "title": {
          "text": "y"
         }
        }
       }
      }
     },
     "metadata": {},
     "output_type": "display_data"
    }
   ],
   "source": [
    "sc.pp.pca(adata, n_comps=2)\n",
    "fig = px.scatter(\n",
    "    x=adata.obsm[\"X_pca\"][:, 0],\n",
    "    y=adata.obsm[\"X_pca\"][:, 1],\n",
    "    color=adata.obs[\"cell_type\"],\n",
    "    title=\"Myeloid progenitor differentiation data\",\n",
    "    width=600,\n",
    "    height=600,\n",
    ")\n",
    "fig.update_traces(marker=dict(size=5))\n",
    "fig.show()"
   ]
  },
  {
   "cell_type": "markdown",
   "id": "1dcaf621",
   "metadata": {},
   "source": [
    "# Train model"
   ]
  },
  {
   "cell_type": "code",
   "execution_count": 6,
   "id": "cc28cbd7",
   "metadata": {},
   "outputs": [],
   "source": [
    "d_hidden = 64\n",
    "n_epochs = 100\n",
    "lr = 1e-5"
   ]
  },
  {
   "cell_type": "code",
   "execution_count": 7,
   "id": "1de08dbd",
   "metadata": {},
   "outputs": [
    {
     "name": "stderr",
     "output_type": "stream",
     "text": [
      "Training for 100 epochs: 100%|██████████| 100/100 [00:01<00:00, 93.41it/s, train_acc=1.0000, train_loss=0.0037, val_acc=1.0000, val_loss=0.0139]\n"
     ]
    }
   ],
   "source": [
    "cfg = Config(\n",
    "    d_input=n_genes,\n",
    "    d_hidden=d_hidden,\n",
    "    d_output=n_cell_types,\n",
    "    n_epochs=n_epochs,\n",
    "    lr=lr,\n",
    "    device=DEVICE,\n",
    ")\n",
    "model = ScBMLPClassifier(cfg)\n",
    "train_losses, val_losses = model.fit(train_dataset, val_dataset)"
   ]
  },
  {
   "cell_type": "code",
   "execution_count": 8,
   "id": "68d0bbaa",
   "metadata": {},
   "outputs": [
    {
     "data": {
      "application/vnd.plotly.v1+json": {
       "config": {
        "plotlyServerURL": "https://plot.ly"
       },
       "data": [
        {
         "hovertemplate": "Type=Train<br>Epoch=%{x}<br>Loss=%{y}<extra></extra>",
         "legendgroup": "Train",
         "line": {
          "color": "#636efa",
          "dash": "solid"
         },
         "marker": {
          "symbol": "circle"
         },
         "mode": "lines",
         "name": "Train",
         "orientation": "v",
         "showlegend": true,
         "type": "scatter",
         "x": {
          "bdata": "AAECAwQFBgcICQoLDA0ODxAREhMUFRYXGBkaGxwdHh8gISIjJCUmJygpKissLS4vMDEyMzQ1Njc4OTo7PD0+P0BBQkNERUZHSElKS0xNTk9QUVJTVFVWV1hZWltcXV5fYGFiYw==",
          "dtype": "i1"
         },
         "xaxis": "x",
         "y": {
          "bdata": "AAAAgE/yHkAAAADgpo8cQAAAAOBK2hVAAAAAoPJDEEAAAADgVfkLQAAAACAKWgFAAAAAgBLu8z8AAABA/2/rPwAAAKC/nN0/AAAAQLrQzT8AAACgYBrTPwAAAOBTNs8/AAAA4PB2rj8AAABgu+G7PwAAAKDL0rE/AAAAwEmouD8AAABgigy1PwAAAGA2nLY/AAAAIM5Ruz8AAACgMLOkPwAAAGAd/rM/AAAA4Ov7qT8AAACgA1isPwAAACA1l6I/AAAAYG+hoj8AAADAHm+QPwAAAIChgac/AAAAwOvYhT8AAACghgmXPwAAACCiyZQ/AAAAoDoFhz8AAABA0R2PPwAAAGBjKI8/AAAAwLkAlT8AAAAAYXWLPwAAAGD/RYc/AAAAQLTNoz8AAABAy2h9PwAAAMCay3o/AAAAwJFRjj8AAABA1JmJPwAAAECe438/AAAAgH4cfz8AAADgkn53PwAAAKBom38/AAAAoJEVfz8AAAAg3HaFPwAAAIBS1Xc/AAAAAMM2gj8AAABAFVpuPwAAACALunA/AAAAwEllkD8AAADAJUGaPwAAAOC0XnY/AAAAAPNyfz8AAABAdU18PwAAAMAtMZA/AAAAwL89gT8AAADAord0PwAAAOBl4mw/AAAAQO6JhT8AAADglptmPwAAACDov3o/AAAAIFAXhz8AAACAOllwPwAAAIBNUYM/AAAA4PMSdD8AAAAAOBF5PwAAAECLQnA/AAAAAFJMZz8AAABgm2lsPwAAAMCVy2Q/AAAAAMAugT8AAADgA3BePwAAAGByU3I/AAAAwKqvZj8AAABg1CKLPwAAAABDuXw/AAAAIF+dcT8AAADgIe1wPwAAAOC2j4Y/AAAAQGHEaj8AAABght9wPwAAAACxp3Y/AAAAQNKgcT8AAABAnmdzPwAAACDHzGI/AAAAoISajT8AAAAAVOeCPwAAAAB15Xo/AAAAYE1XeD8AAACgZKh0PwAAAIAUyGc/AAAAoORGdD8AAABAJhNnPwAAAKBb+WM/AAAA4H1heT8AAACAd8JqPwAAAKAABXo/AAAAQGadbj8=",
          "dtype": "f8"
         },
         "yaxis": "y"
        },
        {
         "hovertemplate": "Type=Validation<br>Epoch=%{x}<br>Loss=%{y}<extra></extra>",
         "legendgroup": "Validation",
         "line": {
          "color": "#EF553B",
          "dash": "solid"
         },
         "marker": {
          "symbol": "circle"
         },
         "mode": "lines",
         "name": "Validation",
         "orientation": "v",
         "showlegend": true,
         "type": "scatter",
         "x": {
          "bdata": "AAECAwQFBgcICQoLDA0ODxAREhMUFRYXGBkaGxwdHh8gISIjJCUmJygpKissLS4vMDEyMzQ1Njc4OTo7PD0+P0BBQkNERUZHSElKS0xNTk9QUVJTVFVWV1hZWltcXV5fYGFiYw==",
          "dtype": "i1"
         },
         "xaxis": "x",
         "y": {
          "bdata": "AAAA4Nd9IEAAAAAAFFIbQAAAAMB07hVAAAAAIMnPEEAAAABgMJcIQAAAAKAAwgBAAAAAQFWX9T8AAAAgmazrPwAAAEDzhuI/AAAA4FKU2j8AAABAtEbUPwAAAEAgENA/AAAA4BJbyj8AAACASi3GPwAAAAAc/sI/AAAAoOegwD8AAAAAkF+9PwAAAECcHro/AAAAIHGitz8AAACgBGK1PwAAAEA0l7M/AAAAAIz9sT8AAACAXKqwPwAAAGBS0a4/AAAAgI3KrD8AAAAA1fiqPwAAAOA7gqk/AAAAgEjppz8AAABAypymPwAAAODWgKU/AAAAQEJ8pD8AAACgIXejPwAAAMA1oKI/AAAAAF7OoT8AAABgiQ+hPwAAAGBIaaA/AAAAALyGnz8AAACAlE6ePwAAAGB5OJ0/AAAAQKtEnD8AAABAq1ubPwAAAKBhfpo/AAAAIHu0mT8AAADg3v2YPwAAACBSTJg/AAAAwLujlz8AAACAIAiXPwAAAADZbpY/AAAAAIvklT8AAAAghF6VPwAAAOAf6JQ/AAAAAOB1lD8AAADgxQ6UPwAAAKAjoZM/AAAAAKRIkz8AAACAD+ySPwAAAMCymZI/AAAA4PhJkj8AAABAkvqRPwAAAMBVtZE/AAAAQEt3kT8AAACA7jSRPwAAAADD/ZA/AAAA4IHKkD8AAACgeJSQPwAAACA6Y5A/AAAAAEQ1kD8AAAAAcgiQPwAAAKC8wo8/AAAAYFV3jz8AAABgzymPPwAAAEAL544/AAAAwO6mjj8AAADAeHGOPwAAAIArO44/AAAA4HAIjj8AAABAHt2NPwAAAEDHr40/AAAAwISIjT8AAAAg/GGNPwAAAEBaQ40/AAAAQNokjT8AAABgcwmNPwAAAOAJ8Yw/AAAAYGPajD8AAACgRsiMPwAAAECHtow/AAAA4ESojD8AAADgF5uMPwAAAIBukIw/AAAA4GOHjD8AAAAAI4CMPwAAAMDUeYw/AAAAIP50jD8AAACgh3GMPwAAAABdb4w/AAAAwIVujD8AAACgOm6MPwAAAOAtbow/AAAAwCxujD8=",
          "dtype": "f8"
         },
         "yaxis": "y"
        }
       ],
       "layout": {
        "legend": {
         "title": {
          "text": "Type"
         },
         "tracegroupgap": 0
        },
        "template": {
         "data": {
          "bar": [
           {
            "error_x": {
             "color": "#2a3f5f"
            },
            "error_y": {
             "color": "#2a3f5f"
            },
            "marker": {
             "line": {
              "color": "#E5ECF6",
              "width": 0.5
             },
             "pattern": {
              "fillmode": "overlay",
              "size": 10,
              "solidity": 0.2
             }
            },
            "type": "bar"
           }
          ],
          "barpolar": [
           {
            "marker": {
             "line": {
              "color": "#E5ECF6",
              "width": 0.5
             },
             "pattern": {
              "fillmode": "overlay",
              "size": 10,
              "solidity": 0.2
             }
            },
            "type": "barpolar"
           }
          ],
          "carpet": [
           {
            "aaxis": {
             "endlinecolor": "#2a3f5f",
             "gridcolor": "white",
             "linecolor": "white",
             "minorgridcolor": "white",
             "startlinecolor": "#2a3f5f"
            },
            "baxis": {
             "endlinecolor": "#2a3f5f",
             "gridcolor": "white",
             "linecolor": "white",
             "minorgridcolor": "white",
             "startlinecolor": "#2a3f5f"
            },
            "type": "carpet"
           }
          ],
          "choropleth": [
           {
            "colorbar": {
             "outlinewidth": 0,
             "ticks": ""
            },
            "type": "choropleth"
           }
          ],
          "contour": [
           {
            "colorbar": {
             "outlinewidth": 0,
             "ticks": ""
            },
            "colorscale": [
             [
              0,
              "#0d0887"
             ],
             [
              0.1111111111111111,
              "#46039f"
             ],
             [
              0.2222222222222222,
              "#7201a8"
             ],
             [
              0.3333333333333333,
              "#9c179e"
             ],
             [
              0.4444444444444444,
              "#bd3786"
             ],
             [
              0.5555555555555556,
              "#d8576b"
             ],
             [
              0.6666666666666666,
              "#ed7953"
             ],
             [
              0.7777777777777778,
              "#fb9f3a"
             ],
             [
              0.8888888888888888,
              "#fdca26"
             ],
             [
              1,
              "#f0f921"
             ]
            ],
            "type": "contour"
           }
          ],
          "contourcarpet": [
           {
            "colorbar": {
             "outlinewidth": 0,
             "ticks": ""
            },
            "type": "contourcarpet"
           }
          ],
          "heatmap": [
           {
            "colorbar": {
             "outlinewidth": 0,
             "ticks": ""
            },
            "colorscale": [
             [
              0,
              "#0d0887"
             ],
             [
              0.1111111111111111,
              "#46039f"
             ],
             [
              0.2222222222222222,
              "#7201a8"
             ],
             [
              0.3333333333333333,
              "#9c179e"
             ],
             [
              0.4444444444444444,
              "#bd3786"
             ],
             [
              0.5555555555555556,
              "#d8576b"
             ],
             [
              0.6666666666666666,
              "#ed7953"
             ],
             [
              0.7777777777777778,
              "#fb9f3a"
             ],
             [
              0.8888888888888888,
              "#fdca26"
             ],
             [
              1,
              "#f0f921"
             ]
            ],
            "type": "heatmap"
           }
          ],
          "histogram": [
           {
            "marker": {
             "pattern": {
              "fillmode": "overlay",
              "size": 10,
              "solidity": 0.2
             }
            },
            "type": "histogram"
           }
          ],
          "histogram2d": [
           {
            "colorbar": {
             "outlinewidth": 0,
             "ticks": ""
            },
            "colorscale": [
             [
              0,
              "#0d0887"
             ],
             [
              0.1111111111111111,
              "#46039f"
             ],
             [
              0.2222222222222222,
              "#7201a8"
             ],
             [
              0.3333333333333333,
              "#9c179e"
             ],
             [
              0.4444444444444444,
              "#bd3786"
             ],
             [
              0.5555555555555556,
              "#d8576b"
             ],
             [
              0.6666666666666666,
              "#ed7953"
             ],
             [
              0.7777777777777778,
              "#fb9f3a"
             ],
             [
              0.8888888888888888,
              "#fdca26"
             ],
             [
              1,
              "#f0f921"
             ]
            ],
            "type": "histogram2d"
           }
          ],
          "histogram2dcontour": [
           {
            "colorbar": {
             "outlinewidth": 0,
             "ticks": ""
            },
            "colorscale": [
             [
              0,
              "#0d0887"
             ],
             [
              0.1111111111111111,
              "#46039f"
             ],
             [
              0.2222222222222222,
              "#7201a8"
             ],
             [
              0.3333333333333333,
              "#9c179e"
             ],
             [
              0.4444444444444444,
              "#bd3786"
             ],
             [
              0.5555555555555556,
              "#d8576b"
             ],
             [
              0.6666666666666666,
              "#ed7953"
             ],
             [
              0.7777777777777778,
              "#fb9f3a"
             ],
             [
              0.8888888888888888,
              "#fdca26"
             ],
             [
              1,
              "#f0f921"
             ]
            ],
            "type": "histogram2dcontour"
           }
          ],
          "mesh3d": [
           {
            "colorbar": {
             "outlinewidth": 0,
             "ticks": ""
            },
            "type": "mesh3d"
           }
          ],
          "parcoords": [
           {
            "line": {
             "colorbar": {
              "outlinewidth": 0,
              "ticks": ""
             }
            },
            "type": "parcoords"
           }
          ],
          "pie": [
           {
            "automargin": true,
            "type": "pie"
           }
          ],
          "scatter": [
           {
            "fillpattern": {
             "fillmode": "overlay",
             "size": 10,
             "solidity": 0.2
            },
            "type": "scatter"
           }
          ],
          "scatter3d": [
           {
            "line": {
             "colorbar": {
              "outlinewidth": 0,
              "ticks": ""
             }
            },
            "marker": {
             "colorbar": {
              "outlinewidth": 0,
              "ticks": ""
             }
            },
            "type": "scatter3d"
           }
          ],
          "scattercarpet": [
           {
            "marker": {
             "colorbar": {
              "outlinewidth": 0,
              "ticks": ""
             }
            },
            "type": "scattercarpet"
           }
          ],
          "scattergeo": [
           {
            "marker": {
             "colorbar": {
              "outlinewidth": 0,
              "ticks": ""
             }
            },
            "type": "scattergeo"
           }
          ],
          "scattergl": [
           {
            "marker": {
             "colorbar": {
              "outlinewidth": 0,
              "ticks": ""
             }
            },
            "type": "scattergl"
           }
          ],
          "scattermap": [
           {
            "marker": {
             "colorbar": {
              "outlinewidth": 0,
              "ticks": ""
             }
            },
            "type": "scattermap"
           }
          ],
          "scattermapbox": [
           {
            "marker": {
             "colorbar": {
              "outlinewidth": 0,
              "ticks": ""
             }
            },
            "type": "scattermapbox"
           }
          ],
          "scatterpolar": [
           {
            "marker": {
             "colorbar": {
              "outlinewidth": 0,
              "ticks": ""
             }
            },
            "type": "scatterpolar"
           }
          ],
          "scatterpolargl": [
           {
            "marker": {
             "colorbar": {
              "outlinewidth": 0,
              "ticks": ""
             }
            },
            "type": "scatterpolargl"
           }
          ],
          "scatterternary": [
           {
            "marker": {
             "colorbar": {
              "outlinewidth": 0,
              "ticks": ""
             }
            },
            "type": "scatterternary"
           }
          ],
          "surface": [
           {
            "colorbar": {
             "outlinewidth": 0,
             "ticks": ""
            },
            "colorscale": [
             [
              0,
              "#0d0887"
             ],
             [
              0.1111111111111111,
              "#46039f"
             ],
             [
              0.2222222222222222,
              "#7201a8"
             ],
             [
              0.3333333333333333,
              "#9c179e"
             ],
             [
              0.4444444444444444,
              "#bd3786"
             ],
             [
              0.5555555555555556,
              "#d8576b"
             ],
             [
              0.6666666666666666,
              "#ed7953"
             ],
             [
              0.7777777777777778,
              "#fb9f3a"
             ],
             [
              0.8888888888888888,
              "#fdca26"
             ],
             [
              1,
              "#f0f921"
             ]
            ],
            "type": "surface"
           }
          ],
          "table": [
           {
            "cells": {
             "fill": {
              "color": "#EBF0F8"
             },
             "line": {
              "color": "white"
             }
            },
            "header": {
             "fill": {
              "color": "#C8D4E3"
             },
             "line": {
              "color": "white"
             }
            },
            "type": "table"
           }
          ]
         },
         "layout": {
          "annotationdefaults": {
           "arrowcolor": "#2a3f5f",
           "arrowhead": 0,
           "arrowwidth": 1
          },
          "autotypenumbers": "strict",
          "coloraxis": {
           "colorbar": {
            "outlinewidth": 0,
            "ticks": ""
           }
          },
          "colorscale": {
           "diverging": [
            [
             0,
             "#8e0152"
            ],
            [
             0.1,
             "#c51b7d"
            ],
            [
             0.2,
             "#de77ae"
            ],
            [
             0.3,
             "#f1b6da"
            ],
            [
             0.4,
             "#fde0ef"
            ],
            [
             0.5,
             "#f7f7f7"
            ],
            [
             0.6,
             "#e6f5d0"
            ],
            [
             0.7,
             "#b8e186"
            ],
            [
             0.8,
             "#7fbc41"
            ],
            [
             0.9,
             "#4d9221"
            ],
            [
             1,
             "#276419"
            ]
           ],
           "sequential": [
            [
             0,
             "#0d0887"
            ],
            [
             0.1111111111111111,
             "#46039f"
            ],
            [
             0.2222222222222222,
             "#7201a8"
            ],
            [
             0.3333333333333333,
             "#9c179e"
            ],
            [
             0.4444444444444444,
             "#bd3786"
            ],
            [
             0.5555555555555556,
             "#d8576b"
            ],
            [
             0.6666666666666666,
             "#ed7953"
            ],
            [
             0.7777777777777778,
             "#fb9f3a"
            ],
            [
             0.8888888888888888,
             "#fdca26"
            ],
            [
             1,
             "#f0f921"
            ]
           ],
           "sequentialminus": [
            [
             0,
             "#0d0887"
            ],
            [
             0.1111111111111111,
             "#46039f"
            ],
            [
             0.2222222222222222,
             "#7201a8"
            ],
            [
             0.3333333333333333,
             "#9c179e"
            ],
            [
             0.4444444444444444,
             "#bd3786"
            ],
            [
             0.5555555555555556,
             "#d8576b"
            ],
            [
             0.6666666666666666,
             "#ed7953"
            ],
            [
             0.7777777777777778,
             "#fb9f3a"
            ],
            [
             0.8888888888888888,
             "#fdca26"
            ],
            [
             1,
             "#f0f921"
            ]
           ]
          },
          "colorway": [
           "#636efa",
           "#EF553B",
           "#00cc96",
           "#ab63fa",
           "#FFA15A",
           "#19d3f3",
           "#FF6692",
           "#B6E880",
           "#FF97FF",
           "#FECB52"
          ],
          "font": {
           "color": "#2a3f5f"
          },
          "geo": {
           "bgcolor": "white",
           "lakecolor": "white",
           "landcolor": "#E5ECF6",
           "showlakes": true,
           "showland": true,
           "subunitcolor": "white"
          },
          "hoverlabel": {
           "align": "left"
          },
          "hovermode": "closest",
          "mapbox": {
           "style": "light"
          },
          "paper_bgcolor": "white",
          "plot_bgcolor": "#E5ECF6",
          "polar": {
           "angularaxis": {
            "gridcolor": "white",
            "linecolor": "white",
            "ticks": ""
           },
           "bgcolor": "#E5ECF6",
           "radialaxis": {
            "gridcolor": "white",
            "linecolor": "white",
            "ticks": ""
           }
          },
          "scene": {
           "xaxis": {
            "backgroundcolor": "#E5ECF6",
            "gridcolor": "white",
            "gridwidth": 2,
            "linecolor": "white",
            "showbackground": true,
            "ticks": "",
            "zerolinecolor": "white"
           },
           "yaxis": {
            "backgroundcolor": "#E5ECF6",
            "gridcolor": "white",
            "gridwidth": 2,
            "linecolor": "white",
            "showbackground": true,
            "ticks": "",
            "zerolinecolor": "white"
           },
           "zaxis": {
            "backgroundcolor": "#E5ECF6",
            "gridcolor": "white",
            "gridwidth": 2,
            "linecolor": "white",
            "showbackground": true,
            "ticks": "",
            "zerolinecolor": "white"
           }
          },
          "shapedefaults": {
           "line": {
            "color": "#2a3f5f"
           }
          },
          "ternary": {
           "aaxis": {
            "gridcolor": "white",
            "linecolor": "white",
            "ticks": ""
           },
           "baxis": {
            "gridcolor": "white",
            "linecolor": "white",
            "ticks": ""
           },
           "bgcolor": "#E5ECF6",
           "caxis": {
            "gridcolor": "white",
            "linecolor": "white",
            "ticks": ""
           }
          },
          "title": {
           "x": 0.05
          },
          "xaxis": {
           "automargin": true,
           "gridcolor": "white",
           "linecolor": "white",
           "ticks": "",
           "title": {
            "standoff": 15
           },
           "zerolinecolor": "white",
           "zerolinewidth": 2
          },
          "yaxis": {
           "automargin": true,
           "gridcolor": "white",
           "linecolor": "white",
           "ticks": "",
           "title": {
            "standoff": 15
           },
           "zerolinecolor": "white",
           "zerolinewidth": 2
          }
         }
        },
        "title": {
         "text": "Training and Validation Loss"
        },
        "xaxis": {
         "anchor": "y",
         "domain": [
          0,
          1
         ],
         "title": {
          "text": "Epoch"
         }
        },
        "yaxis": {
         "anchor": "x",
         "domain": [
          0,
          1
         ],
         "title": {
          "text": "Loss"
         }
        }
       }
      }
     },
     "metadata": {},
     "output_type": "display_data"
    }
   ],
   "source": [
    "# Combine train and val losses into a single plot\n",
    "loss_df = pd.DataFrame({\n",
    "    'Epoch': list(range(len(train_losses))) + list(range(len(val_losses))),\n",
    "    'Loss': train_losses + val_losses,\n",
    "    'Type': ['Train'] * len(train_losses) + ['Validation'] * len(val_losses)\n",
    "})\n",
    "\n",
    "px.line(loss_df, x='Epoch', y='Loss', color='Type', \n",
    "        title='Training and Validation Loss', \n",
    "        labels={'Loss': 'Loss', 'Epoch': 'Epoch'}).show()"
   ]
  },
  {
   "cell_type": "markdown",
   "id": "38f248fd",
   "metadata": {},
   "source": [
    "# Weight interpretation"
   ]
  },
  {
   "cell_type": "code",
   "execution_count": 9,
   "id": "006336db",
   "metadata": {},
   "outputs": [
    {
     "name": "stdout",
     "output_type": "stream",
     "text": [
      "torch.Size([5, 100, 100])\n",
      "Number of transcriptional scales: 5\n",
      "Number of genes: 100\n"
     ]
    }
   ],
   "source": [
    "b = einops.einsum(model.w_p, model.w_l, model.w_r, \"out hid, hid in1, hid in2 -> out in1 in2\")\n",
    "b = 0.5 * (b + b.mT)  # symmetrize\n",
    "\n",
    "print(b.shape)\n",
    "print(f\"Number of transcriptional scales: {b.shape[0]}\")\n",
    "print(f\"Number of genes: {b.shape[1]}\")"
   ]
  },
  {
   "cell_type": "markdown",
   "id": "a7335c62",
   "metadata": {},
   "source": [
    "## Per frequency"
   ]
  },
  {
   "cell_type": "code",
   "execution_count": 21,
   "id": "0e046b51",
   "metadata": {},
   "outputs": [],
   "source": [
    "def get_comps(adata, class_idx):\n",
    "    vals, vecs = torch.linalg.eigh(b[class_idx])\n",
    "    vals = vals.flip([0])\n",
    "    vecs = vecs.flip([1])\n",
    "    return vals, vecs\n",
    "\n",
    "\n",
    "def print_marker_genes(adata, b, class_idx, n_top_comps=1, n_top_genes=10):\n",
    "    vals, vecs = get_comps(adata, class_idx)\n",
    "    for i in range(n_top_comps):  # top components\n",
    "        top_idxs = vecs[:,i].topk(n_top_genes).indices\n",
    "        top_genes = adata.var_names[top_idxs].tolist()\n",
    "        bottom_idxs = (-vecs[:,i]).topk(n_top_genes).indices\n",
    "        bottom_genes = adata.var_names[bottom_idxs].tolist()\n",
    "        print(top_genes)\n",
    "        print(bottom_genes)\n",
    "    print()\n",
    "\n",
    "\n",
    "def plot_scatter(adata, color):\n",
    "    fig = px.scatter(\n",
    "        x=adata.obsm[\"X_pca\"][:, 0],\n",
    "        y=adata.obsm[\"X_pca\"][:, 1],\n",
    "        color=color,\n",
    "        labels={\"x\": \"PC1\", \"y\": \"PC2\"},\n",
    "        color_continuous_scale='RdBu_r',\n",
    "        color_continuous_midpoint=0,\n",
    "        width=600,\n",
    "        height=600,\n",
    "    )\n",
    "    fig.update_traces(marker=dict(size=3))\n",
    "    fig.show()"
   ]
  },
  {
   "cell_type": "code",
   "execution_count": 22,
   "id": "3d98a213",
   "metadata": {},
   "outputs": [
    {
     "name": "stdout",
     "output_type": "stream",
     "text": [
      "==================== Cell type 0 ====================\n",
      "['97', '68', '30', '55', '34', '63', '4', '67', '99', '94']\n",
      "['33', '22', '2', '49', '91', '18', '53', '83', '37', '6']\n",
      "\n",
      "==================== Cell type 1 ====================\n",
      "['80', '59', '82', '62', '29', '16', '11', '39', '13', '1']\n",
      "['64', '86', '48', '92', '56', '44', '74', '41', '22', '58']\n",
      "\n",
      "==================== Cell type 2 ====================\n",
      "['90', '4', '79', '7', '3', '5', '11', '13', '1', '80']\n",
      "['87', '30', '84', '71', '92', '99', '26', '51', '41', '81']\n",
      "\n",
      "==================== Cell type 3 ====================\n",
      "['4', '92', '93', '74', '97', '84', '76', '19', '89', '57']\n",
      "['49', '85', '21', '87', '27', '46', '33', '24', '31', '94']\n",
      "\n",
      "==================== Cell type 4 ====================\n",
      "['25', '77', '49', '27', '83', '91', '73', '53', '65', '33']\n",
      "['43', '92', '39', '4', '37', '63', '34', '30', '62', '78']\n",
      "\n"
     ]
    }
   ],
   "source": [
    "n_classes = adata.obs[class_key].nunique()\n",
    "for i in range(n_classes):\n",
    "    print(\"=\"*20, f\"Cell type {i}\", \"=\"*20)\n",
    "    print_marker_genes(adata, b, i)"
   ]
  },
  {
   "cell_type": "code",
   "execution_count": 35,
   "id": "a52c9f86",
   "metadata": {},
   "outputs": [
    {
     "data": {
      "application/vnd.plotly.v1+json": {
       "config": {
        "plotlyServerURL": "https://plot.ly"
       },
       "data": [
        {
         "hovertemplate": "PC1=%{x}<br>PC2=%{y}<br>color=%{marker.color}<extra></extra>",
         "legendgroup": "",
         "marker": {
          "color": {
           "bdata": "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",
           "dtype": "f8"
          },
          "coloraxis": "coloraxis",
          "size": 3,
          "symbol": "circle"
         },
         "mode": "markers",
         "name": "",
         "orientation": "v",
         "showlegend": false,
         "type": "scatter",
         "x": {
          "bdata": "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",
          "dtype": "f4"
         },
         "xaxis": "x",
         "y": {
          "bdata": "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",
          "dtype": "f4"
         },
         "yaxis": "y"
        }
       ],
       "layout": {
        "coloraxis": {
         "cmid": 0,
         "colorbar": {
          "title": {
           "text": "color"
          }
         },
         "colorscale": [
          [
           0,
           "rgb(5,48,97)"
          ],
          [
           0.1,
           "rgb(33,102,172)"
          ],
          [
           0.2,
           "rgb(67,147,195)"
          ],
          [
           0.3,
           "rgb(146,197,222)"
          ],
          [
           0.4,
           "rgb(209,229,240)"
          ],
          [
           0.5,
           "rgb(247,247,247)"
          ],
          [
           0.6,
           "rgb(253,219,199)"
          ],
          [
           0.7,
           "rgb(244,165,130)"
          ],
          [
           0.8,
           "rgb(214,96,77)"
          ],
          [
           0.9,
           "rgb(178,24,43)"
          ],
          [
           1,
           "rgb(103,0,31)"
          ]
         ]
        },
        "height": 600,
        "legend": {
         "tracegroupgap": 0
        },
        "margin": {
         "t": 60
        },
        "template": {
         "data": {
          "bar": [
           {
            "error_x": {
             "color": "#2a3f5f"
            },
            "error_y": {
             "color": "#2a3f5f"
            },
            "marker": {
             "line": {
              "color": "#E5ECF6",
              "width": 0.5
             },
             "pattern": {
              "fillmode": "overlay",
              "size": 10,
              "solidity": 0.2
             }
            },
            "type": "bar"
           }
          ],
          "barpolar": [
           {
            "marker": {
             "line": {
              "color": "#E5ECF6",
              "width": 0.5
             },
             "pattern": {
              "fillmode": "overlay",
              "size": 10,
              "solidity": 0.2
             }
            },
            "type": "barpolar"
           }
          ],
          "carpet": [
           {
            "aaxis": {
             "endlinecolor": "#2a3f5f",
             "gridcolor": "white",
             "linecolor": "white",
             "minorgridcolor": "white",
             "startlinecolor": "#2a3f5f"
            },
            "baxis": {
             "endlinecolor": "#2a3f5f",
             "gridcolor": "white",
             "linecolor": "white",
             "minorgridcolor": "white",
             "startlinecolor": "#2a3f5f"
            },
            "type": "carpet"
           }
          ],
          "choropleth": [
           {
            "colorbar": {
             "outlinewidth": 0,
             "ticks": ""
            },
            "type": "choropleth"
           }
          ],
          "contour": [
           {
            "colorbar": {
             "outlinewidth": 0,
             "ticks": ""
            },
            "colorscale": [
             [
              0,
              "#0d0887"
             ],
             [
              0.1111111111111111,
              "#46039f"
             ],
             [
              0.2222222222222222,
              "#7201a8"
             ],
             [
              0.3333333333333333,
              "#9c179e"
             ],
             [
              0.4444444444444444,
              "#bd3786"
             ],
             [
              0.5555555555555556,
              "#d8576b"
             ],
             [
              0.6666666666666666,
              "#ed7953"
             ],
             [
              0.7777777777777778,
              "#fb9f3a"
             ],
             [
              0.8888888888888888,
              "#fdca26"
             ],
             [
              1,
              "#f0f921"
             ]
            ],
            "type": "contour"
           }
          ],
          "contourcarpet": [
           {
            "colorbar": {
             "outlinewidth": 0,
             "ticks": ""
            },
            "type": "contourcarpet"
           }
          ],
          "heatmap": [
           {
            "colorbar": {
             "outlinewidth": 0,
             "ticks": ""
            },
            "colorscale": [
             [
              0,
              "#0d0887"
             ],
             [
              0.1111111111111111,
              "#46039f"
             ],
             [
              0.2222222222222222,
              "#7201a8"
             ],
             [
              0.3333333333333333,
              "#9c179e"
             ],
             [
              0.4444444444444444,
              "#bd3786"
             ],
             [
              0.5555555555555556,
              "#d8576b"
             ],
             [
              0.6666666666666666,
              "#ed7953"
             ],
             [
              0.7777777777777778,
              "#fb9f3a"
             ],
             [
              0.8888888888888888,
              "#fdca26"
             ],
             [
              1,
              "#f0f921"
             ]
            ],
            "type": "heatmap"
           }
          ],
          "histogram": [
           {
            "marker": {
             "pattern": {
              "fillmode": "overlay",
              "size": 10,
              "solidity": 0.2
             }
            },
            "type": "histogram"
           }
          ],
          "histogram2d": [
           {
            "colorbar": {
             "outlinewidth": 0,
             "ticks": ""
            },
            "colorscale": [
             [
              0,
              "#0d0887"
             ],
             [
              0.1111111111111111,
              "#46039f"
             ],
             [
              0.2222222222222222,
              "#7201a8"
             ],
             [
              0.3333333333333333,
              "#9c179e"
             ],
             [
              0.4444444444444444,
              "#bd3786"
             ],
             [
              0.5555555555555556,
              "#d8576b"
             ],
             [
              0.6666666666666666,
              "#ed7953"
             ],
             [
              0.7777777777777778,
              "#fb9f3a"
             ],
             [
              0.8888888888888888,
              "#fdca26"
             ],
             [
              1,
              "#f0f921"
             ]
            ],
            "type": "histogram2d"
           }
          ],
          "histogram2dcontour": [
           {
            "colorbar": {
             "outlinewidth": 0,
             "ticks": ""
            },
            "colorscale": [
             [
              0,
              "#0d0887"
             ],
             [
              0.1111111111111111,
              "#46039f"
             ],
             [
              0.2222222222222222,
              "#7201a8"
             ],
             [
              0.3333333333333333,
              "#9c179e"
             ],
             [
              0.4444444444444444,
              "#bd3786"
             ],
             [
              0.5555555555555556,
              "#d8576b"
             ],
             [
              0.6666666666666666,
              "#ed7953"
             ],
             [
              0.7777777777777778,
              "#fb9f3a"
             ],
             [
              0.8888888888888888,
              "#fdca26"
             ],
             [
              1,
              "#f0f921"
             ]
            ],
            "type": "histogram2dcontour"
           }
          ],
          "mesh3d": [
           {
            "colorbar": {
             "outlinewidth": 0,
             "ticks": ""
            },
            "type": "mesh3d"
           }
          ],
          "parcoords": [
           {
            "line": {
             "colorbar": {
              "outlinewidth": 0,
              "ticks": ""
             }
            },
            "type": "parcoords"
           }
          ],
          "pie": [
           {
            "automargin": true,
            "type": "pie"
           }
          ],
          "scatter": [
           {
            "fillpattern": {
             "fillmode": "overlay",
             "size": 10,
             "solidity": 0.2
            },
            "type": "scatter"
           }
          ],
          "scatter3d": [
           {
            "line": {
             "colorbar": {
              "outlinewidth": 0,
              "ticks": ""
             }
            },
            "marker": {
             "colorbar": {
              "outlinewidth": 0,
              "ticks": ""
             }
            },
            "type": "scatter3d"
           }
          ],
          "scattercarpet": [
           {
            "marker": {
             "colorbar": {
              "outlinewidth": 0,
              "ticks": ""
             }
            },
            "type": "scattercarpet"
           }
          ],
          "scattergeo": [
           {
            "marker": {
             "colorbar": {
              "outlinewidth": 0,
              "ticks": ""
             }
            },
            "type": "scattergeo"
           }
          ],
          "scattergl": [
           {
            "marker": {
             "colorbar": {
              "outlinewidth": 0,
              "ticks": ""
             }
            },
            "type": "scattergl"
           }
          ],
          "scattermap": [
           {
            "marker": {
             "colorbar": {
              "outlinewidth": 0,
              "ticks": ""
             }
            },
            "type": "scattermap"
           }
          ],
          "scattermapbox": [
           {
            "marker": {
             "colorbar": {
              "outlinewidth": 0,
              "ticks": ""
             }
            },
            "type": "scattermapbox"
           }
          ],
          "scatterpolar": [
           {
            "marker": {
             "colorbar": {
              "outlinewidth": 0,
              "ticks": ""
             }
            },
            "type": "scatterpolar"
           }
          ],
          "scatterpolargl": [
           {
            "marker": {
             "colorbar": {
              "outlinewidth": 0,
              "ticks": ""
             }
            },
            "type": "scatterpolargl"
           }
          ],
          "scatterternary": [
           {
            "marker": {
             "colorbar": {
              "outlinewidth": 0,
              "ticks": ""
             }
            },
            "type": "scatterternary"
           }
          ],
          "surface": [
           {
            "colorbar": {
             "outlinewidth": 0,
             "ticks": ""
            },
            "colorscale": [
             [
              0,
              "#0d0887"
             ],
             [
              0.1111111111111111,
              "#46039f"
             ],
             [
              0.2222222222222222,
              "#7201a8"
             ],
             [
              0.3333333333333333,
              "#9c179e"
             ],
             [
              0.4444444444444444,
              "#bd3786"
             ],
             [
              0.5555555555555556,
              "#d8576b"
             ],
             [
              0.6666666666666666,
              "#ed7953"
             ],
             [
              0.7777777777777778,
              "#fb9f3a"
             ],
             [
              0.8888888888888888,
              "#fdca26"
             ],
             [
              1,
              "#f0f921"
             ]
            ],
            "type": "surface"
           }
          ],
          "table": [
           {
            "cells": {
             "fill": {
              "color": "#EBF0F8"
             },
             "line": {
              "color": "white"
             }
            },
            "header": {
             "fill": {
              "color": "#C8D4E3"
             },
             "line": {
              "color": "white"
             }
            },
            "type": "table"
           }
          ]
         },
         "layout": {
          "annotationdefaults": {
           "arrowcolor": "#2a3f5f",
           "arrowhead": 0,
           "arrowwidth": 1
          },
          "autotypenumbers": "strict",
          "coloraxis": {
           "colorbar": {
            "outlinewidth": 0,
            "ticks": ""
           }
          },
          "colorscale": {
           "diverging": [
            [
             0,
             "#8e0152"
            ],
            [
             0.1,
             "#c51b7d"
            ],
            [
             0.2,
             "#de77ae"
            ],
            [
             0.3,
             "#f1b6da"
            ],
            [
             0.4,
             "#fde0ef"
            ],
            [
             0.5,
             "#f7f7f7"
            ],
            [
             0.6,
             "#e6f5d0"
            ],
            [
             0.7,
             "#b8e186"
            ],
            [
             0.8,
             "#7fbc41"
            ],
            [
             0.9,
             "#4d9221"
            ],
            [
             1,
             "#276419"
            ]
           ],
           "sequential": [
            [
             0,
             "#0d0887"
            ],
            [
             0.1111111111111111,
             "#46039f"
            ],
            [
             0.2222222222222222,
             "#7201a8"
            ],
            [
             0.3333333333333333,
             "#9c179e"
            ],
            [
             0.4444444444444444,
             "#bd3786"
            ],
            [
             0.5555555555555556,
             "#d8576b"
            ],
            [
             0.6666666666666666,
             "#ed7953"
            ],
            [
             0.7777777777777778,
             "#fb9f3a"
            ],
            [
             0.8888888888888888,
             "#fdca26"
            ],
            [
             1,
             "#f0f921"
            ]
           ],
           "sequentialminus": [
            [
             0,
             "#0d0887"
            ],
            [
             0.1111111111111111,
             "#46039f"
            ],
            [
             0.2222222222222222,
             "#7201a8"
            ],
            [
             0.3333333333333333,
             "#9c179e"
            ],
            [
             0.4444444444444444,
             "#bd3786"
            ],
            [
             0.5555555555555556,
             "#d8576b"
            ],
            [
             0.6666666666666666,
             "#ed7953"
            ],
            [
             0.7777777777777778,
             "#fb9f3a"
            ],
            [
             0.8888888888888888,
             "#fdca26"
            ],
            [
             1,
             "#f0f921"
            ]
           ]
          },
          "colorway": [
           "#636efa",
           "#EF553B",
           "#00cc96",
           "#ab63fa",
           "#FFA15A",
           "#19d3f3",
           "#FF6692",
           "#B6E880",
           "#FF97FF",
           "#FECB52"
          ],
          "font": {
           "color": "#2a3f5f"
          },
          "geo": {
           "bgcolor": "white",
           "lakecolor": "white",
           "landcolor": "#E5ECF6",
           "showlakes": true,
           "showland": true,
           "subunitcolor": "white"
          },
          "hoverlabel": {
           "align": "left"
          },
          "hovermode": "closest",
          "mapbox": {
           "style": "light"
          },
          "paper_bgcolor": "white",
          "plot_bgcolor": "#E5ECF6",
          "polar": {
           "angularaxis": {
            "gridcolor": "white",
            "linecolor": "white",
            "ticks": ""
           },
           "bgcolor": "#E5ECF6",
           "radialaxis": {
            "gridcolor": "white",
            "linecolor": "white",
            "ticks": ""
           }
          },
          "scene": {
           "xaxis": {
            "backgroundcolor": "#E5ECF6",
            "gridcolor": "white",
            "gridwidth": 2,
            "linecolor": "white",
            "showbackground": true,
            "ticks": "",
            "zerolinecolor": "white"
           },
           "yaxis": {
            "backgroundcolor": "#E5ECF6",
            "gridcolor": "white",
            "gridwidth": 2,
            "linecolor": "white",
            "showbackground": true,
            "ticks": "",
            "zerolinecolor": "white"
           },
           "zaxis": {
            "backgroundcolor": "#E5ECF6",
            "gridcolor": "white",
            "gridwidth": 2,
            "linecolor": "white",
            "showbackground": true,
            "ticks": "",
            "zerolinecolor": "white"
           }
          },
          "shapedefaults": {
           "line": {
            "color": "#2a3f5f"
           }
          },
          "ternary": {
           "aaxis": {
            "gridcolor": "white",
            "linecolor": "white",
            "ticks": ""
           },
           "baxis": {
            "gridcolor": "white",
            "linecolor": "white",
            "ticks": ""
           },
           "bgcolor": "#E5ECF6",
           "caxis": {
            "gridcolor": "white",
            "linecolor": "white",
            "ticks": ""
           }
          },
          "title": {
           "x": 0.05
          },
          "xaxis": {
           "automargin": true,
           "gridcolor": "white",
           "linecolor": "white",
           "ticks": "",
           "title": {
            "standoff": 15
           },
           "zerolinecolor": "white",
           "zerolinewidth": 2
          },
          "yaxis": {
           "automargin": true,
           "gridcolor": "white",
           "linecolor": "white",
           "ticks": "",
           "title": {
            "standoff": 15
           },
           "zerolinecolor": "white",
           "zerolinewidth": 2
          }
         }
        },
        "width": 600,
        "xaxis": {
         "anchor": "y",
         "domain": [
          0,
          1
         ],
         "title": {
          "text": "PC1"
         }
        },
        "yaxis": {
         "anchor": "x",
         "domain": [
          0,
          1
         ],
         "title": {
          "text": "PC2"
         }
        }
       }
      }
     },
     "metadata": {},
     "output_type": "display_data"
    }
   ],
   "source": [
    "bmlp_marker_genes = [\"68\"]\n",
    "for gene in bmlp_marker_genes:\n",
    "    plot_scatter(adata, adata[:,gene].X.flatten())"
   ]
  }
 ],
 "metadata": {
  "kernelspec": {
   "display_name": "bmlp-env",
   "language": "python",
   "name": "python3"
  },
  "language_info": {
   "codemirror_mode": {
    "name": "ipython",
    "version": 3
   },
   "file_extension": ".py",
   "mimetype": "text/x-python",
   "name": "python",
   "nbconvert_exporter": "python",
   "pygments_lexer": "ipython3",
   "version": "3.9.23"
  }
 },
 "nbformat": 4,
 "nbformat_minor": 5
}
