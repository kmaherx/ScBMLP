{
 "cells": [
  {
   "cell_type": "markdown",
   "id": "b4b2ce6b",
   "metadata": {},
   "source": [
    "# Notes"
   ]
  },
  {
   "cell_type": "markdown",
   "id": "3afbeea4",
   "metadata": {},
   "source": [
    "Main results:\n",
    "1. Cell type classification\n",
    "    - Should scale this up by demonstrating across datasets/batches for a more notable result\n",
    "\n",
    "2. Cell type marker calculation\n",
    "    - Not super unique though. How can we leverage separate output-specific weights? (segue)\n",
    "\n",
    "3. Hierarchical marker calculation\n",
    "    - Opportunity for hierarchical understanding?\n",
    "\n",
    "4. Dimension reduction\n",
    "    - Reconstructs PC space (altho not surprising since it was trained on K-means from top PCs in the first place)\n",
    "    - But also does so for the hierarchical case, which is much cooler"
   ]
  },
  {
   "cell_type": "markdown",
   "id": "6950be24",
   "metadata": {},
   "source": [
    "# Imports"
   ]
  },
  {
   "cell_type": "code",
   "execution_count": null,
   "id": "61e7e41b",
   "metadata": {},
   "outputs": [],
   "source": [
    "# Allow Python to find the bmlp module\n",
    "import sys\n",
    "import os\n",
    "sys.path.append(os.getcwd())\n",
    "\n",
    "import scanpy as sc\n",
    "import numpy as np\n",
    "import plotly.express as px\n",
    "import pandas as pd\n",
    "import einops\n",
    "\n",
    "from datasets import myeloid_dev_type\n",
    "from bmlp import ScBMLP, Config\n",
    "import torch"
   ]
  },
  {
   "cell_type": "markdown",
   "id": "a8d9fe41",
   "metadata": {},
   "source": [
    "# Set params"
   ]
  },
  {
   "cell_type": "code",
   "execution_count": 2,
   "id": "45e1ee7c",
   "metadata": {},
   "outputs": [],
   "source": [
    "d_hidden = 64\n",
    "n_epochs = 100\n",
    "lr = 1e-5"
   ]
  },
  {
   "cell_type": "code",
   "execution_count": 3,
   "id": "600a6f54",
   "metadata": {},
   "outputs": [],
   "source": [
    "DEVICE = \"cpu\"  # faster than mps..."
   ]
  },
  {
   "cell_type": "markdown",
   "id": "1598193b",
   "metadata": {},
   "source": [
    "# Load data"
   ]
  },
  {
   "cell_type": "code",
   "execution_count": null,
   "id": "05832730",
   "metadata": {},
   "outputs": [
    {
     "name": "stderr",
     "output_type": "stream",
     "text": [
      "/Users/kamal/envs/mi/lib/python3.11/site-packages/threadpoolctl.py:1226: RuntimeWarning: \n",
      "Found Intel OpenMP ('libiomp') and LLVM OpenMP ('libomp') loaded at\n",
      "the same time. Both libraries are known to be incompatible and this\n",
      "can cause random crashes or deadlocks on Linux when loaded in the\n",
      "same Python program.\n",
      "Using threadpoolctl may cause crashes or deadlocks. For more\n",
      "information and possible workarounds, please see\n",
      "    https://github.com/joblib/threadpoolctl/blob/master/multiple_openmp.md\n",
      "\n",
      "  warnings.warn(msg, RuntimeWarning)\n"
     ]
    }
   ],
   "source": [
    "adata, train_dataset, val_dataset, test_dataset = myeloid_dev_type(device=DEVICE, n_cell_types=3)"
   ]
  },
  {
   "cell_type": "code",
   "execution_count": 5,
   "id": "0cabfe1c",
   "metadata": {},
   "outputs": [],
   "source": [
    "n_cells, n_genes = adata.shape\n",
    "n_cell_types = adata.obs[\"cell_type\"].nunique()"
   ]
  },
  {
   "cell_type": "markdown",
   "id": "7d8fd6ea",
   "metadata": {},
   "source": [
    "## Visualize"
   ]
  },
  {
   "cell_type": "code",
   "execution_count": 6,
   "id": "ebd3475e",
   "metadata": {},
   "outputs": [
    {
     "data": {
      "application/vnd.plotly.v1+json": {
       "config": {
        "plotlyServerURL": "https://plot.ly"
       },
       "data": [
        {
         "hovertemplate": "color=0<br>x=%{x}<br>y=%{y}<extra></extra>",
         "legendgroup": "0",
         "marker": {
          "color": "#636efa",
          "size": 5,
          "symbol": "circle"
         },
         "mode": "markers",
         "name": "0",
         "showlegend": true,
         "type": "scattergl",
         "x": {
          "bdata": "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",
          "dtype": "f4"
         },
         "xaxis": "x",
         "y": {
          "bdata": "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",
          "dtype": "f4"
         },
         "yaxis": "y"
        },
        {
         "hovertemplate": "color=2<br>x=%{x}<br>y=%{y}<extra></extra>",
         "legendgroup": "2",
         "marker": {
          "color": "#EF553B",
          "size": 5,
          "symbol": "circle"
         },
         "mode": "markers",
         "name": "2",
         "showlegend": true,
         "type": "scattergl",
         "x": {
          "bdata": "mVpCQfGQ+ECT1jBBSxEVQfEtGEHno0pB/R0eQWIMH0GpES5B54wZQfQCREHfPhVBeO4qQSrA7EDYTwxB/RAFQRGNKEGNhSZBvKwvQaF9YUGO/wFBEIybQNFBsECWdTZBT095QCLtFkF45FZB3GotQZdCUkH+HVdBmXw7QUKPY0HtuDVBLIkfQSBNZEHp1mRBWDAmQYarcUEMNx5Bi0AyQYz+JEGkth9BjO8LQfOPCkGVdkFBSo0ZQdGZLkFYBEJBW+dVQdDQPUG70eZAlHxlQTPl80B/fzZBvAhFQaxuKUH1Jz9BZMU+QRXUJ0Fa3FFBuhZGQaT9+UB6n81AOIL6QB2rLUEgiv1Ax7lGQUV0BkEK+A1Bn0PUQNHYLkGOu+tARQECQc4dFkFGLytBwhQaQTFTK0HUUgJB76EUQY7uXkES4SVBm8AxQaGeFkHVw1dBIQVYQSHxNUGp9gpBZP4vQUJWI0HjUBhBzh/OQE5h10BukQtBEBkrQRtDEEGLshZBwezgQKn5VUELMRtB9mRYQSUoKEGQ/AFBhWETQVUpXEE352lBj+dOQYGLJ0HnxzdBKPMnQbI5HEHwNVpB3RQnQQQqKUFFsEJB9XwhQSFqTEHaGSFBky4MQa49NkHaRhlB4DI7QZZtD0Eey4FB2b0hQSFeXEEwVUhBgT/6QLWaREHa2QFB3I/8QPz2BkETnjxBufazQCUpHUG1py9BmqW0QBiaWEHnQyxBX0GbQNMLAEGY9Q5BPUELQWRyEEFvQfhAWa1RQQVpOEEjagNBOWd3QbHxD0H72h5Bw4ABQUK1BkF9KCJByN0SQWjONUG2pTdBoqkFQcf8M0EchxxB70niQB4mYEA/CGdBEJvxQC2e1UC0oTJBabiFQX4x+UA50TlB2aA6QSs1zEBu4GRBMrEYQe2A/kAknhdBoo4lQeMsSUEwVyhB0RdgQSONKUFAgyRBKDVIQUiQDkGGuh9B0PthQTZk7ED6nQZBwfc6QbK6z0D3H1NB2aPmQJXvHEHI2mJBTq5/QRx3S0GX5+ZAcE0sQUF4z0BV/dBA84kEQQrLZEHceNJAADZeQceDM0HK8GBBAd8bQS5GbkF9oRlB3JIOQU/ICkEFgD1BVdkxQcXWQkGstuxAdDghQQi5F0EXGk5BTBTIQI7VBkElzRdBl9EoQUFYL0GJPRFB/AhNQX1xa0HRyzpBvHdOQZC56kAO9XZBxIcIQY/3KEGJ7+dAp2kIQfxcKkE4rxxB0FwgQeRbZkESICxBUw4bQf8d6kBz3hZBupgMQYWe00DuSB5BVDEFQQEySEE4dN9A610uQaqla0GN4jFBsxdMQa6nAEHBE8pAZO47QT44IUE8gdNA7W85QUhPS0FrgQdBxTccQRZuAkELOO9APA0pQY3/1UDR0+9ArbM/QbyFBUHpAJ5AxstHQTtA9UAOFg5BVZQQQf9CJ0FjklZB9DxRQVvj2EBdazhBJzQYQVFnEEGdohFBzq4rQZbgK0Hnxi5BgCdRQRTmQUHKuj1BhmuJQFR6z0DqzkdBvgVzQXeMdUFsxyBB155QQaPbGUEvTExB6kAIQb4pakCTz1VBJn00QR8bK0Hp0D1BEI0YQavYSEEYiRdBuRk8QRW510C0KBhBXoBUQW5c1UBm9i5BMiLxQF+RWEHbFg9BidMUQTG3KkGUrkpB6/A0QUi6RUFWqjNBqq6pQIcmNEHGBShBGVYuQWrf1UDINgxBFAIrQZQh50CCykVBpKwzQVOM3UDOthBB6fBFQbEzo0DjltpA7a5NQRSw0EAHhDhB7jQ5QVPTzEDTNxFBr4xBQd7YakFF8BNBykUoQTga/UAjyC5B9RZFQRv/GUGa9BlB/FUsQa+W7EDXQtlAR1vgQGyvOUHYZuJAEVj8QMBLb0HJniFBSBI4QdmlAEEwkUFBx+RFQf68GkGP9yJBBBhDQYen3kCOqkxBCL0HQQruUEFCB1hBIxFnQfAm+kCg7TpB3qVLQdU++UA25BBBhh0sQeDdLUEhBAVBnYJ6QQ5WUUEqMepA7r07QVxjNkGijw9Bs+U6QUGcWEEwC79A5lpWQXtbOEGlxEhBcjx8QcDaykAjYOFAhXwnQYNNMkHYIDtBpjASQXVDH0HU2s9A+IAmQQDrF0HOQlxBrs3oQIxEgUGUYyhB/ZNCQYpFiEB0XytBexc6QdasOEGiLxlBVOUuQQQdTUG+T/lAEFE1QesiKEHGuwFBuvsUQTTcQUHxDRpBJBk0QZkeSkGUOT1BS9jgQHwYAkFzVCJBtE5EQUqvQ0FkhAlBEi8wQZdBd0EU3kdBxgsiQQM9M0FMGjFBbjINQTIoD0H1TwlBle0tQeqzAUHyZBxB805sQXGpMEGG3idBD0oXQVHaw0BErAtBb4X2QEGsakF65ihB/Kg6QShH+0BoaOtAG0kLQQ04JkGL/QRBe5cHQTA0IkEkEuZAnsQBQXROGUFyMwxB9hQgQQGkBUEsi4JBcsAJQdCcSUFSZA5BYU0MQdEzR0Fh5aJARFMQQbx+L0G4dpJAskwaQY3mI0EkGwlBeUQJQVc28EDu2kRBtef1QPfvXEFS+ABBO+FcQemq4kCxExdBeqIJQVXMXEGAjR1BYvxTQTvkL0FODxZBCkoJQQ6D7UBoDDlBnsQtQcLovkBwj/VAXvo0QWWjGUGnpyhBIzpZQce+EkHe5DhBog0KQXAdIUFjcUBBhbojQao2xkDKHCJB3JIwQRD5BkFzsq9ABk8NQcCKRUH1hDlBFd0CQSjuX0HFnAtBPVVaQba3JkFJ+SdBNRhHQbno2UD9xC5BexEMQQOc5kCbXUhB/1ZLQf1VQEE1Kh1B6xYJQdx2LUGsJ5lA5T4cQdJtJkEF5xtBvZArQajCV0H1WABBkvMwQXetKkHXXftAuB0mQX6qoUBzLl1BylXoQBT3BUFyAtJAK99FQfzxyUCkANpAppwHQTKCSkGI/qpAl3zCQLk8GkF1MiNB9vcTQVaUIEGS4v9AHC4qQcpy/kBZz0hBR9BpQPsJM0F2JQ9B7W0qQVGSeUCH9w1BY3PzQA6sWkE9qgRBo81oQfQILEFUW/1AgsEXQTW2Y0EIri1Bcs4SQXEgHEHeZw5BsyL7QE/2fUGz1gBBa0s9QfUaS0FUoCZBBVv3QGAgH0GlSRBBWugEQUR2eEGHaAVBpBb0QBYODkHje0JB6JQMQc1dREGgVCZBw3cwQbTwC0G8LlJB4UFkQSQXTkHsDiZBpJf6QJBhUEHu6B9BeY8OQb7KMEH7MBRB5os2QaViN0FufS9BczwsQRElV0H2JxlBiBEGQR15UEHkxu5ANF5FQd34W0CM5VJBrUQfQWFWLUGbrFNBT/I3QfbfQkHWrTNBgBdJQQolO0G20cVApkhtQehPEEHKdwtBlDwjQXy85kD/TBBBmH49QZUtP0Exzu1A3fUzQQm8VUFUQ15BvqxUQVmIX0FwUOtAkNTpQOIbfUEjv+RAd/biQBxYBEEwJuVAtwYxQSqZR0G84kpBshKEQTbHXEEpfTNBCw1IQccRAEGqfy1B27NOQYSNy0CgaxhBD2MLQWsgHEFxPx1B279WQbCyT0FsJRtBtZ3/QF6MA0FIKFtBsswiQf3bREGjrxRBPFclQT/bREGKlR9Bjgv5QGnuE0FhTRJB245uQYvJJEHo3oVB3D1aQeau1UAe2shA84vpQPHZOUHkQ4ZBTyVGQfVFFEEBkoBBVgRQQehZUEGWUi9BzcJQQXkTMEGXqhhB8ktHQdsfIUG8IiFB7FNkQbahPkHti0RBSKM9QVQLI0FVgi1BYbctQRBm9ECV7AJBe5YPQT2PtEDVxutALqkWQRSqCEHQ4jJBCqEyQQInl0DNpFBB7iKSQPpdAkG0yhlB1kIxQbHqU0FLtQ5BqOEKQSFWvECbVAZB31MSQVyoLUFTZUBBnc7rQOPlEEGX5jtBSHcYQe8EQkFz+ERBmBNbQZskK0GEJfpABEMIQSJqJ0H6NEdBI0JcQdf2HEGKMRZBaSVLQY2EL0Fl/exADkQSQbECK0FuncBAu/MkQSr8akF+oCxB6Q8HQf7yx0B1PYhBZEj3QO5yNkEv6zFBWxVnQayTMkHFSBlBAMUuQcXAK0Ed+PxALKJAQR07K0HQcSRBYvMqQbfhJEF8miRBNmBMQZVE+EBReWtBRJo2QUG3D0FXyRZBw7QEQfWlKEHqlxtB5uXdQO/1ZUFzfSRBxgIcQfI0vEBAcydBUsZRQcMsFEGViBdBrPLZQEsvLkHg+UBBKfkUQeZ3RUG0HUpBztYVQT90GkEemTdB15VtQapMZUGtK7FAgvBEQTDSTEFKzZ5AbsI1Qf3LQEFhzAtBEgorQTXvUkHbOxFBUjcdQRV+NUE0HT9BNpksQXfWf0BU/iVBadluQUGPYEGzpspANz4aQQYKSEFRCRFBiJc9QZxPW0EWRipBjKRGQfY2EkEWiEZBfOcwQdqwMkEpHmdBQDZSQelED0EG0yNBCjYFQdYXFEEAuCNB5aMiQbS3WUHRqHNBEEQaQavW6kCn01lBj+w0QXgvLkF0klRB4xXkQCRxJkGKxQ1B+pLSQFQizUCoaPxApnhEQYoIFUHuHMRAOZZOQf1hDEEq6TpBr2ooQW4QL0Fucn9BB7lQQaYWWkFSLcdAUgpZQS9s2EBKDiNB3nZKQcYVTEHDGx9BrdRgQeBU/UAw/1dBFU0aQdGNXEHWvz1BHwMwQd6AZUFOT0NBATwWQWE5K0EGExlBW4osQS1LTkHR8gpBNDN1QRpJBUFAxxFBxdwHQaTOVEGCUTlB8GgJQfrxIkHwXvxApjYjQTa8AEH1WilBOdXsQM3yC0Gj6bFAKWd/Qf5HZkETxlNB1r9IQWcMC0Hz6DZBIoFWQeaiKEFPSEhBNSMeQf+lN0GvUCpBihRcQeRfEkF+BSxBg+cMQdDcVEEXEyNBUzraQDn3AEGzdm9B/Vb2QPmSOUEX99VAvbsEQZpA7kBXiw9Bz0WnQIKsZUEwjhtBhFwuQcWxMUHwwCZBYJEEQVi+nECTRCBBDitRQWMNMkHtwPhAd1Y/QUc2EEFLtv1ANbK2QEkFu0CrW9xAd6szQecM8UCFlUtBtrgrQfEAHEFoAUdBsl47QVM3/0ASGq1ALsrsQOqpkUAIgw5BMBJWQbk8oEAhR11BLU26QHQz6EBjNd9AB65vQRYTBUFBYRtBhcQRQSGpLkHEZrhAjaBOQTlYC0HB4l5A58qvQCqBL0FOqFlA+a4iQQ7TZkEmudRA/VLKQMjEzkBkVFtBeRAKQaMqK0FGi+tAsJoBQWIvC0GO/cdAXxpBQfQ/VkFZAQVBiQiZQLdwbUFkBCZBeyDDQDd5cEF0Sz1BzzPwQMg8OEH8nGNBEJUTQWnfQkA1bxtBD04uQUlD5EDEBBxB21oEQfyb6UDGHgRBoF4TQfsXA0EDrb5A5KomQal1VkFgWvtAWT3nQBTDp0BavF1B+bkIQbgxr0CqaEJB8XqHQbJuLUHlNB9B97ncQF7MPUHwJMdAv6cRQQyhEUF0EkhB7rcWQb8sL0EI2BRBlT5pQfNyEUGd0CpBCCgFQe2KBUGZWgpBkBQKQTtQLUHvoktBg3PxQO1TUkEcAR9BP65MQaHIt0BS8jxBgoIMQVNKG0G0aglB1U0OQf++Q0EG2jZB9EJ+QYKHYkHiZAlBj4kAQccj9kBVBP9A89QqQebb8UAG8g9BsbAHQZ5UfUFn1C5BMFEkQQ==",
          "dtype": "f4"
         },
         "xaxis": "x",
         "y": {
          "bdata": "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",
          "dtype": "f4"
         },
         "yaxis": "y"
        },
        {
         "hovertemplate": "color=1<br>x=%{x}<br>y=%{y}<extra></extra>",
         "legendgroup": "1",
         "marker": {
          "color": "#00cc96",
          "size": 5,
          "symbol": "circle"
         },
         "mode": "markers",
         "name": "1",
         "showlegend": true,
         "type": "scattergl",
         "x": {
          "bdata": "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",
          "dtype": "f4"
         },
         "xaxis": "x",
         "y": {
          "bdata": "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",
          "dtype": "f4"
         },
         "yaxis": "y"
        }
       ],
       "layout": {
        "height": 600,
        "legend": {
         "title": {
          "text": "color"
         },
         "tracegroupgap": 0
        },
        "template": {
         "data": {
          "bar": [
           {
            "error_x": {
             "color": "#2a3f5f"
            },
            "error_y": {
             "color": "#2a3f5f"
            },
            "marker": {
             "line": {
              "color": "#E5ECF6",
              "width": 0.5
             },
             "pattern": {
              "fillmode": "overlay",
              "size": 10,
              "solidity": 0.2
             }
            },
            "type": "bar"
           }
          ],
          "barpolar": [
           {
            "marker": {
             "line": {
              "color": "#E5ECF6",
              "width": 0.5
             },
             "pattern": {
              "fillmode": "overlay",
              "size": 10,
              "solidity": 0.2
             }
            },
            "type": "barpolar"
           }
          ],
          "carpet": [
           {
            "aaxis": {
             "endlinecolor": "#2a3f5f",
             "gridcolor": "white",
             "linecolor": "white",
             "minorgridcolor": "white",
             "startlinecolor": "#2a3f5f"
            },
            "baxis": {
             "endlinecolor": "#2a3f5f",
             "gridcolor": "white",
             "linecolor": "white",
             "minorgridcolor": "white",
             "startlinecolor": "#2a3f5f"
            },
            "type": "carpet"
           }
          ],
          "choropleth": [
           {
            "colorbar": {
             "outlinewidth": 0,
             "ticks": ""
            },
            "type": "choropleth"
           }
          ],
          "contour": [
           {
            "colorbar": {
             "outlinewidth": 0,
             "ticks": ""
            },
            "colorscale": [
             [
              0,
              "#0d0887"
             ],
             [
              0.1111111111111111,
              "#46039f"
             ],
             [
              0.2222222222222222,
              "#7201a8"
             ],
             [
              0.3333333333333333,
              "#9c179e"
             ],
             [
              0.4444444444444444,
              "#bd3786"
             ],
             [
              0.5555555555555556,
              "#d8576b"
             ],
             [
              0.6666666666666666,
              "#ed7953"
             ],
             [
              0.7777777777777778,
              "#fb9f3a"
             ],
             [
              0.8888888888888888,
              "#fdca26"
             ],
             [
              1,
              "#f0f921"
             ]
            ],
            "type": "contour"
           }
          ],
          "contourcarpet": [
           {
            "colorbar": {
             "outlinewidth": 0,
             "ticks": ""
            },
            "type": "contourcarpet"
           }
          ],
          "heatmap": [
           {
            "colorbar": {
             "outlinewidth": 0,
             "ticks": ""
            },
            "colorscale": [
             [
              0,
              "#0d0887"
             ],
             [
              0.1111111111111111,
              "#46039f"
             ],
             [
              0.2222222222222222,
              "#7201a8"
             ],
             [
              0.3333333333333333,
              "#9c179e"
             ],
             [
              0.4444444444444444,
              "#bd3786"
             ],
             [
              0.5555555555555556,
              "#d8576b"
             ],
             [
              0.6666666666666666,
              "#ed7953"
             ],
             [
              0.7777777777777778,
              "#fb9f3a"
             ],
             [
              0.8888888888888888,
              "#fdca26"
             ],
             [
              1,
              "#f0f921"
             ]
            ],
            "type": "heatmap"
           }
          ],
          "histogram": [
           {
            "marker": {
             "pattern": {
              "fillmode": "overlay",
              "size": 10,
              "solidity": 0.2
             }
            },
            "type": "histogram"
           }
          ],
          "histogram2d": [
           {
            "colorbar": {
             "outlinewidth": 0,
             "ticks": ""
            },
            "colorscale": [
             [
              0,
              "#0d0887"
             ],
             [
              0.1111111111111111,
              "#46039f"
             ],
             [
              0.2222222222222222,
              "#7201a8"
             ],
             [
              0.3333333333333333,
              "#9c179e"
             ],
             [
              0.4444444444444444,
              "#bd3786"
             ],
             [
              0.5555555555555556,
              "#d8576b"
             ],
             [
              0.6666666666666666,
              "#ed7953"
             ],
             [
              0.7777777777777778,
              "#fb9f3a"
             ],
             [
              0.8888888888888888,
              "#fdca26"
             ],
             [
              1,
              "#f0f921"
             ]
            ],
            "type": "histogram2d"
           }
          ],
          "histogram2dcontour": [
           {
            "colorbar": {
             "outlinewidth": 0,
             "ticks": ""
            },
            "colorscale": [
             [
              0,
              "#0d0887"
             ],
             [
              0.1111111111111111,
              "#46039f"
             ],
             [
              0.2222222222222222,
              "#7201a8"
             ],
             [
              0.3333333333333333,
              "#9c179e"
             ],
             [
              0.4444444444444444,
              "#bd3786"
             ],
             [
              0.5555555555555556,
              "#d8576b"
             ],
             [
              0.6666666666666666,
              "#ed7953"
             ],
             [
              0.7777777777777778,
              "#fb9f3a"
             ],
             [
              0.8888888888888888,
              "#fdca26"
             ],
             [
              1,
              "#f0f921"
             ]
            ],
            "type": "histogram2dcontour"
           }
          ],
          "mesh3d": [
           {
            "colorbar": {
             "outlinewidth": 0,
             "ticks": ""
            },
            "type": "mesh3d"
           }
          ],
          "parcoords": [
           {
            "line": {
             "colorbar": {
              "outlinewidth": 0,
              "ticks": ""
             }
            },
            "type": "parcoords"
           }
          ],
          "pie": [
           {
            "automargin": true,
            "type": "pie"
           }
          ],
          "scatter": [
           {
            "fillpattern": {
             "fillmode": "overlay",
             "size": 10,
             "solidity": 0.2
            },
            "type": "scatter"
           }
          ],
          "scatter3d": [
           {
            "line": {
             "colorbar": {
              "outlinewidth": 0,
              "ticks": ""
             }
            },
            "marker": {
             "colorbar": {
              "outlinewidth": 0,
              "ticks": ""
             }
            },
            "type": "scatter3d"
           }
          ],
          "scattercarpet": [
           {
            "marker": {
             "colorbar": {
              "outlinewidth": 0,
              "ticks": ""
             }
            },
            "type": "scattercarpet"
           }
          ],
          "scattergeo": [
           {
            "marker": {
             "colorbar": {
              "outlinewidth": 0,
              "ticks": ""
             }
            },
            "type": "scattergeo"
           }
          ],
          "scattergl": [
           {
            "marker": {
             "colorbar": {
              "outlinewidth": 0,
              "ticks": ""
             }
            },
            "type": "scattergl"
           }
          ],
          "scattermap": [
           {
            "marker": {
             "colorbar": {
              "outlinewidth": 0,
              "ticks": ""
             }
            },
            "type": "scattermap"
           }
          ],
          "scattermapbox": [
           {
            "marker": {
             "colorbar": {
              "outlinewidth": 0,
              "ticks": ""
             }
            },
            "type": "scattermapbox"
           }
          ],
          "scatterpolar": [
           {
            "marker": {
             "colorbar": {
              "outlinewidth": 0,
              "ticks": ""
             }
            },
            "type": "scatterpolar"
           }
          ],
          "scatterpolargl": [
           {
            "marker": {
             "colorbar": {
              "outlinewidth": 0,
              "ticks": ""
             }
            },
            "type": "scatterpolargl"
           }
          ],
          "scatterternary": [
           {
            "marker": {
             "colorbar": {
              "outlinewidth": 0,
              "ticks": ""
             }
            },
            "type": "scatterternary"
           }
          ],
          "surface": [
           {
            "colorbar": {
             "outlinewidth": 0,
             "ticks": ""
            },
            "colorscale": [
             [
              0,
              "#0d0887"
             ],
             [
              0.1111111111111111,
              "#46039f"
             ],
             [
              0.2222222222222222,
              "#7201a8"
             ],
             [
              0.3333333333333333,
              "#9c179e"
             ],
             [
              0.4444444444444444,
              "#bd3786"
             ],
             [
              0.5555555555555556,
              "#d8576b"
             ],
             [
              0.6666666666666666,
              "#ed7953"
             ],
             [
              0.7777777777777778,
              "#fb9f3a"
             ],
             [
              0.8888888888888888,
              "#fdca26"
             ],
             [
              1,
              "#f0f921"
             ]
            ],
            "type": "surface"
           }
          ],
          "table": [
           {
            "cells": {
             "fill": {
              "color": "#EBF0F8"
             },
             "line": {
              "color": "white"
             }
            },
            "header": {
             "fill": {
              "color": "#C8D4E3"
             },
             "line": {
              "color": "white"
             }
            },
            "type": "table"
           }
          ]
         },
         "layout": {
          "annotationdefaults": {
           "arrowcolor": "#2a3f5f",
           "arrowhead": 0,
           "arrowwidth": 1
          },
          "autotypenumbers": "strict",
          "coloraxis": {
           "colorbar": {
            "outlinewidth": 0,
            "ticks": ""
           }
          },
          "colorscale": {
           "diverging": [
            [
             0,
             "#8e0152"
            ],
            [
             0.1,
             "#c51b7d"
            ],
            [
             0.2,
             "#de77ae"
            ],
            [
             0.3,
             "#f1b6da"
            ],
            [
             0.4,
             "#fde0ef"
            ],
            [
             0.5,
             "#f7f7f7"
            ],
            [
             0.6,
             "#e6f5d0"
            ],
            [
             0.7,
             "#b8e186"
            ],
            [
             0.8,
             "#7fbc41"
            ],
            [
             0.9,
             "#4d9221"
            ],
            [
             1,
             "#276419"
            ]
           ],
           "sequential": [
            [
             0,
             "#0d0887"
            ],
            [
             0.1111111111111111,
             "#46039f"
            ],
            [
             0.2222222222222222,
             "#7201a8"
            ],
            [
             0.3333333333333333,
             "#9c179e"
            ],
            [
             0.4444444444444444,
             "#bd3786"
            ],
            [
             0.5555555555555556,
             "#d8576b"
            ],
            [
             0.6666666666666666,
             "#ed7953"
            ],
            [
             0.7777777777777778,
             "#fb9f3a"
            ],
            [
             0.8888888888888888,
             "#fdca26"
            ],
            [
             1,
             "#f0f921"
            ]
           ],
           "sequentialminus": [
            [
             0,
             "#0d0887"
            ],
            [
             0.1111111111111111,
             "#46039f"
            ],
            [
             0.2222222222222222,
             "#7201a8"
            ],
            [
             0.3333333333333333,
             "#9c179e"
            ],
            [
             0.4444444444444444,
             "#bd3786"
            ],
            [
             0.5555555555555556,
             "#d8576b"
            ],
            [
             0.6666666666666666,
             "#ed7953"
            ],
            [
             0.7777777777777778,
             "#fb9f3a"
            ],
            [
             0.8888888888888888,
             "#fdca26"
            ],
            [
             1,
             "#f0f921"
            ]
           ]
          },
          "colorway": [
           "#636efa",
           "#EF553B",
           "#00cc96",
           "#ab63fa",
           "#FFA15A",
           "#19d3f3",
           "#FF6692",
           "#B6E880",
           "#FF97FF",
           "#FECB52"
          ],
          "font": {
           "color": "#2a3f5f"
          },
          "geo": {
           "bgcolor": "white",
           "lakecolor": "white",
           "landcolor": "#E5ECF6",
           "showlakes": true,
           "showland": true,
           "subunitcolor": "white"
          },
          "hoverlabel": {
           "align": "left"
          },
          "hovermode": "closest",
          "mapbox": {
           "style": "light"
          },
          "paper_bgcolor": "white",
          "plot_bgcolor": "#E5ECF6",
          "polar": {
           "angularaxis": {
            "gridcolor": "white",
            "linecolor": "white",
            "ticks": ""
           },
           "bgcolor": "#E5ECF6",
           "radialaxis": {
            "gridcolor": "white",
            "linecolor": "white",
            "ticks": ""
           }
          },
          "scene": {
           "xaxis": {
            "backgroundcolor": "#E5ECF6",
            "gridcolor": "white",
            "gridwidth": 2,
            "linecolor": "white",
            "showbackground": true,
            "ticks": "",
            "zerolinecolor": "white"
           },
           "yaxis": {
            "backgroundcolor": "#E5ECF6",
            "gridcolor": "white",
            "gridwidth": 2,
            "linecolor": "white",
            "showbackground": true,
            "ticks": "",
            "zerolinecolor": "white"
           },
           "zaxis": {
            "backgroundcolor": "#E5ECF6",
            "gridcolor": "white",
            "gridwidth": 2,
            "linecolor": "white",
            "showbackground": true,
            "ticks": "",
            "zerolinecolor": "white"
           }
          },
          "shapedefaults": {
           "line": {
            "color": "#2a3f5f"
           }
          },
          "ternary": {
           "aaxis": {
            "gridcolor": "white",
            "linecolor": "white",
            "ticks": ""
           },
           "baxis": {
            "gridcolor": "white",
            "linecolor": "white",
            "ticks": ""
           },
           "bgcolor": "#E5ECF6",
           "caxis": {
            "gridcolor": "white",
            "linecolor": "white",
            "ticks": ""
           }
          },
          "title": {
           "x": 0.05
          },
          "xaxis": {
           "automargin": true,
           "gridcolor": "white",
           "linecolor": "white",
           "ticks": "",
           "title": {
            "standoff": 15
           },
           "zerolinecolor": "white",
           "zerolinewidth": 2
          },
          "yaxis": {
           "automargin": true,
           "gridcolor": "white",
           "linecolor": "white",
           "ticks": "",
           "title": {
            "standoff": 15
           },
           "zerolinecolor": "white",
           "zerolinewidth": 2
          }
         }
        },
        "title": {
         "text": "Myeloid progenitor differentiation data"
        },
        "width": 600,
        "xaxis": {
         "anchor": "y",
         "domain": [
          0,
          1
         ],
         "title": {
          "text": "x"
         }
        },
        "yaxis": {
         "anchor": "x",
         "domain": [
          0,
          1
         ],
         "title": {
          "text": "y"
         }
        }
       }
      }
     },
     "metadata": {},
     "output_type": "display_data"
    }
   ],
   "source": [
    "fig = px.scatter(\n",
    "    x=adata.obsm[\"X_pca\"][:, 0],\n",
    "    y=adata.obsm[\"X_pca\"][:, 1],\n",
    "    color=adata.obs[\"cell_type\"],\n",
    "    title=\"Myeloid progenitor differentiation data\",\n",
    "    width=600,\n",
    "    height=600,\n",
    ")\n",
    "fig.update_traces(marker=dict(size=5))\n",
    "fig.show()"
   ]
  },
  {
   "cell_type": "markdown",
   "id": "f9744eb3",
   "metadata": {},
   "source": [
    "# Train model"
   ]
  },
  {
   "cell_type": "code",
   "execution_count": 7,
   "id": "f22aefc1",
   "metadata": {},
   "outputs": [
    {
     "name": "stderr",
     "output_type": "stream",
     "text": [
      "Training for 100 epochs: 100%|██████████| 100/100 [00:20<00:00,  4.93it/s, train_acc=1, train_loss=0.000849, val_acc=0.888, val_loss=0.297]\n"
     ]
    }
   ],
   "source": [
    "cfg = Config(\n",
    "    d_input=n_genes,\n",
    "    d_hidden=d_hidden,\n",
    "    d_output=n_cell_types,\n",
    "    n_epochs=n_epochs,\n",
    "    lr=lr,\n",
    "    device=DEVICE,\n",
    ")\n",
    "model = ScBMLP(cfg)\n",
    "train_losses, val_losses = model.fit(train_dataset, val_dataset)"
   ]
  },
  {
   "cell_type": "markdown",
   "id": "142e522c",
   "metadata": {},
   "source": [
    "## Plot loss"
   ]
  },
  {
   "cell_type": "code",
   "execution_count": 8,
   "id": "67ed3071",
   "metadata": {},
   "outputs": [
    {
     "data": {
      "application/vnd.plotly.v1+json": {
       "config": {
        "plotlyServerURL": "https://plot.ly"
       },
       "data": [
        {
         "hovertemplate": "Type=Train<br>Epoch=%{x}<br>Loss=%{y}<extra></extra>",
         "legendgroup": "Train",
         "line": {
          "color": "#636efa",
          "dash": "solid"
         },
         "marker": {
          "symbol": "circle"
         },
         "mode": "lines",
         "name": "Train",
         "orientation": "v",
         "showlegend": true,
         "type": "scatter",
         "x": {
          "bdata": "AAECAwQFBgcICQoLDA0ODxAREhMUFRYXGBkaGxwdHh8gISIjJCUmJygpKissLS4vMDEyMzQ1Njc4OTo7PD0+P0BBQkNERUZHSElKS0xNTk9QUVJTVFVWV1hZWltcXV5fYGFiYw==",
          "dtype": "i1"
         },
         "xaxis": "x",
         "y": {
          "bdata": "AAAAYLwH8T8AAAAAvq3wPwAAACAD6ew/AAAAgAA36j8AAABAQcDmPwAAAEANeuM/AAAAgERV4z8AAABAacDhPwAAAED/0do/AAAAoB/t2T8AAAAgNaLUPwAAAKDjmtE/AAAAoGpD1D8AAABgyRzRPwAAAOBPvtA/AAAAAACmyD8AAABgQYXKPwAAAIA6UMQ/AAAAIFg1yT8AAACgyTjGPwAAAIBNl7U/AAAAwCA3wj8AAACAR/i6PwAAAAB2crc/AAAAQIPFpT8AAAAAwry0PwAAAKBUqLI/AAAAoGYxvj8AAACggMOuPwAAAGB6eaw/AAAAoD2CrD8AAACAOT6mPwAAAODjhqo/AAAAwA0WnT8AAAAAqfmlPwAAAGCgdJ0/AAAAIBMdlD8AAABA5P6gPwAAAEBRFoE/AAAAgHuohT8AAAAAeiqSPwAAACBAGJY/AAAAIE4mkj8AAADgTPuHPwAAAMDrJ40/AAAA4PwaeD8AAACgHlSIPwAAAGCPqoQ/AAAAYAr7fz8AAAAAJIqAPwAAACASo3U/AAAAQCqPhj8AAABgL3J7PwAAAKBCwog/AAAAQC7efz8AAADgOap8PwAAACBRMnI/AAAAQAi8dT8AAABAuPd1PwAAACCDV34/AAAAIDwIeT8AAAAAGvx1PwAAAOB/DoE/AAAAoNIBcz8AAAAAy35yPwAAAIAm0Ww/AAAAYN6MdD8AAADAD411PwAAAMC9om8/AAAAAK9HbD8AAACANL5rPwAAAKDVAmc/AAAAwB/RYz8AAACghqViPwAAAICvIWY/AAAAgPjiXj8AAAAgYtZSPwAAAEBZ5m0/AAAAwD0FWT8AAABABU1lPwAAACAaDWY/AAAAAGrdYz8AAABgk9ZXPwAAAEBmPFc/AAAAQKcbYj8AAADgQd1bPwAAAOAD21Y/AAAAAGHNWj8AAADghhxPPwAAAACFelc/AAAAoAmrVz8AAACAxTlaPwAAACDwZ1c/AAAA4OAkUT8AAAAApa9PPwAAAMDu21A/AAAAYHpRVD8AAABgCgNSPwAAAEBQZEY/AAAAwDrRSz8=",
          "dtype": "f8"
         },
         "yaxis": "y"
        },
        {
         "hovertemplate": "Type=Validation<br>Epoch=%{x}<br>Loss=%{y}<extra></extra>",
         "legendgroup": "Validation",
         "line": {
          "color": "#EF553B",
          "dash": "solid"
         },
         "marker": {
          "symbol": "circle"
         },
         "mode": "lines",
         "name": "Validation",
         "orientation": "v",
         "showlegend": true,
         "type": "scatter",
         "x": {
          "bdata": "AAECAwQFBgcICQoLDA0ODxAREhMUFRYXGBkaGxwdHh8gISIjJCUmJygpKissLS4vMDEyMzQ1Njc4OTo7PD0+P0BBQkNERUZHSElKS0xNTk9QUVJTVFVWV1hZWltcXV5fYGFiYw==",
          "dtype": "i1"
         },
         "xaxis": "x",
         "y": {
          "bdata": "AAAAQPtR8T8AAABAecDwPwAAAGBt5e8/AAAAoHjr7T8AAAAA5/PrPwAAAEDBB+o/AAAAoIsQ6D8AAACATBrmPwAAAGD8O+Q/AAAAYHST4j8AAACguyPhPwAAAKAB6d8/AAAAgDv73T8AAADgxl7cPwAAAICsB9s/AAAAAOnh2T8AAACgS+3YPwAAACAaF9g/AAAAYN1k1z8AAADgtsPWPwAAAMCVOtY/AAAAgPa+1T8AAADgWFXVPwAAAICT99Q/AAAAIKSh1D8AAAAgSlLUPwAAAIAtG9Q/AAAAQNvZ0z8AAAAguKjTPwAAAECzd9M/AAAAwPtS0z8AAADANi3TPwAAAGDPEdM/AAAAQKLy0j8AAAAgVt/SPwAAAMClwdI/AAAAgDyo0j8AAABAWaHSPwAAACDljtI/AAAAwBN/0j8AAADghHDSPwAAAMDoadI/AAAAAEFd0j8AAACAe1bSPwAAAOCES9I/AAAAAItJ0j8AAACAV0DSPwAAAIBVPNI/AAAAgD490j8AAAAgqjXSPwAAAEC1MtI/AAAAYB410j8AAACAnjHSPwAAAKAiLtI/AAAAwEM10j8AAAAA0DHSPwAAAODjOdI/AAAAwGw80j8AAACgcjvSPwAAAAC7O9I/AAAAAJE80j8AAAAgxEPSPwAAAGD3QdI/AAAAQCFD0j8AAACANUjSPwAAAIBgR9I/AAAAIGVM0j8AAABAkkrSPwAAAGAKWtI/AAAAoKtW0j8AAAAAWFzSPwAAACBiYdI/AAAA4Jlo0j8AAADAuGzSPwAAAIBWbdI/AAAAoO9x0j8AAABA+HrSPwAAAACSftI/AAAAYFGE0j8AAABgXIzSPwAAAGDijdI/AAAAoCaR0j8AAACAFJrSPwAAAGBio9I/AAAAwMim0j8AAAAAq63SPwAAAMCrr9I/AAAA4KO10j8AAADgib/SPwAAAOA4xNI/AAAAQIfH0j8AAABAatbSPwAAACDe29I/AAAAgP3h0j8AAABgK+nSPwAAACB08tI/AAAAABX10j8AAACgKP3SPwAAAMBNBdM/AAAA4OQI0z8=",
          "dtype": "f8"
         },
         "yaxis": "y"
        }
       ],
       "layout": {
        "legend": {
         "title": {
          "text": "Type"
         },
         "tracegroupgap": 0
        },
        "template": {
         "data": {
          "bar": [
           {
            "error_x": {
             "color": "#2a3f5f"
            },
            "error_y": {
             "color": "#2a3f5f"
            },
            "marker": {
             "line": {
              "color": "#E5ECF6",
              "width": 0.5
             },
             "pattern": {
              "fillmode": "overlay",
              "size": 10,
              "solidity": 0.2
             }
            },
            "type": "bar"
           }
          ],
          "barpolar": [
           {
            "marker": {
             "line": {
              "color": "#E5ECF6",
              "width": 0.5
             },
             "pattern": {
              "fillmode": "overlay",
              "size": 10,
              "solidity": 0.2
             }
            },
            "type": "barpolar"
           }
          ],
          "carpet": [
           {
            "aaxis": {
             "endlinecolor": "#2a3f5f",
             "gridcolor": "white",
             "linecolor": "white",
             "minorgridcolor": "white",
             "startlinecolor": "#2a3f5f"
            },
            "baxis": {
             "endlinecolor": "#2a3f5f",
             "gridcolor": "white",
             "linecolor": "white",
             "minorgridcolor": "white",
             "startlinecolor": "#2a3f5f"
            },
            "type": "carpet"
           }
          ],
          "choropleth": [
           {
            "colorbar": {
             "outlinewidth": 0,
             "ticks": ""
            },
            "type": "choropleth"
           }
          ],
          "contour": [
           {
            "colorbar": {
             "outlinewidth": 0,
             "ticks": ""
            },
            "colorscale": [
             [
              0,
              "#0d0887"
             ],
             [
              0.1111111111111111,
              "#46039f"
             ],
             [
              0.2222222222222222,
              "#7201a8"
             ],
             [
              0.3333333333333333,
              "#9c179e"
             ],
             [
              0.4444444444444444,
              "#bd3786"
             ],
             [
              0.5555555555555556,
              "#d8576b"
             ],
             [
              0.6666666666666666,
              "#ed7953"
             ],
             [
              0.7777777777777778,
              "#fb9f3a"
             ],
             [
              0.8888888888888888,
              "#fdca26"
             ],
             [
              1,
              "#f0f921"
             ]
            ],
            "type": "contour"
           }
          ],
          "contourcarpet": [
           {
            "colorbar": {
             "outlinewidth": 0,
             "ticks": ""
            },
            "type": "contourcarpet"
           }
          ],
          "heatmap": [
           {
            "colorbar": {
             "outlinewidth": 0,
             "ticks": ""
            },
            "colorscale": [
             [
              0,
              "#0d0887"
             ],
             [
              0.1111111111111111,
              "#46039f"
             ],
             [
              0.2222222222222222,
              "#7201a8"
             ],
             [
              0.3333333333333333,
              "#9c179e"
             ],
             [
              0.4444444444444444,
              "#bd3786"
             ],
             [
              0.5555555555555556,
              "#d8576b"
             ],
             [
              0.6666666666666666,
              "#ed7953"
             ],
             [
              0.7777777777777778,
              "#fb9f3a"
             ],
             [
              0.8888888888888888,
              "#fdca26"
             ],
             [
              1,
              "#f0f921"
             ]
            ],
            "type": "heatmap"
           }
          ],
          "histogram": [
           {
            "marker": {
             "pattern": {
              "fillmode": "overlay",
              "size": 10,
              "solidity": 0.2
             }
            },
            "type": "histogram"
           }
          ],
          "histogram2d": [
           {
            "colorbar": {
             "outlinewidth": 0,
             "ticks": ""
            },
            "colorscale": [
             [
              0,
              "#0d0887"
             ],
             [
              0.1111111111111111,
              "#46039f"
             ],
             [
              0.2222222222222222,
              "#7201a8"
             ],
             [
              0.3333333333333333,
              "#9c179e"
             ],
             [
              0.4444444444444444,
              "#bd3786"
             ],
             [
              0.5555555555555556,
              "#d8576b"
             ],
             [
              0.6666666666666666,
              "#ed7953"
             ],
             [
              0.7777777777777778,
              "#fb9f3a"
             ],
             [
              0.8888888888888888,
              "#fdca26"
             ],
             [
              1,
              "#f0f921"
             ]
            ],
            "type": "histogram2d"
           }
          ],
          "histogram2dcontour": [
           {
            "colorbar": {
             "outlinewidth": 0,
             "ticks": ""
            },
            "colorscale": [
             [
              0,
              "#0d0887"
             ],
             [
              0.1111111111111111,
              "#46039f"
             ],
             [
              0.2222222222222222,
              "#7201a8"
             ],
             [
              0.3333333333333333,
              "#9c179e"
             ],
             [
              0.4444444444444444,
              "#bd3786"
             ],
             [
              0.5555555555555556,
              "#d8576b"
             ],
             [
              0.6666666666666666,
              "#ed7953"
             ],
             [
              0.7777777777777778,
              "#fb9f3a"
             ],
             [
              0.8888888888888888,
              "#fdca26"
             ],
             [
              1,
              "#f0f921"
             ]
            ],
            "type": "histogram2dcontour"
           }
          ],
          "mesh3d": [
           {
            "colorbar": {
             "outlinewidth": 0,
             "ticks": ""
            },
            "type": "mesh3d"
           }
          ],
          "parcoords": [
           {
            "line": {
             "colorbar": {
              "outlinewidth": 0,
              "ticks": ""
             }
            },
            "type": "parcoords"
           }
          ],
          "pie": [
           {
            "automargin": true,
            "type": "pie"
           }
          ],
          "scatter": [
           {
            "fillpattern": {
             "fillmode": "overlay",
             "size": 10,
             "solidity": 0.2
            },
            "type": "scatter"
           }
          ],
          "scatter3d": [
           {
            "line": {
             "colorbar": {
              "outlinewidth": 0,
              "ticks": ""
             }
            },
            "marker": {
             "colorbar": {
              "outlinewidth": 0,
              "ticks": ""
             }
            },
            "type": "scatter3d"
           }
          ],
          "scattercarpet": [
           {
            "marker": {
             "colorbar": {
              "outlinewidth": 0,
              "ticks": ""
             }
            },
            "type": "scattercarpet"
           }
          ],
          "scattergeo": [
           {
            "marker": {
             "colorbar": {
              "outlinewidth": 0,
              "ticks": ""
             }
            },
            "type": "scattergeo"
           }
          ],
          "scattergl": [
           {
            "marker": {
             "colorbar": {
              "outlinewidth": 0,
              "ticks": ""
             }
            },
            "type": "scattergl"
           }
          ],
          "scattermap": [
           {
            "marker": {
             "colorbar": {
              "outlinewidth": 0,
              "ticks": ""
             }
            },
            "type": "scattermap"
           }
          ],
          "scattermapbox": [
           {
            "marker": {
             "colorbar": {
              "outlinewidth": 0,
              "ticks": ""
             }
            },
            "type": "scattermapbox"
           }
          ],
          "scatterpolar": [
           {
            "marker": {
             "colorbar": {
              "outlinewidth": 0,
              "ticks": ""
             }
            },
            "type": "scatterpolar"
           }
          ],
          "scatterpolargl": [
           {
            "marker": {
             "colorbar": {
              "outlinewidth": 0,
              "ticks": ""
             }
            },
            "type": "scatterpolargl"
           }
          ],
          "scatterternary": [
           {
            "marker": {
             "colorbar": {
              "outlinewidth": 0,
              "ticks": ""
             }
            },
            "type": "scatterternary"
           }
          ],
          "surface": [
           {
            "colorbar": {
             "outlinewidth": 0,
             "ticks": ""
            },
            "colorscale": [
             [
              0,
              "#0d0887"
             ],
             [
              0.1111111111111111,
              "#46039f"
             ],
             [
              0.2222222222222222,
              "#7201a8"
             ],
             [
              0.3333333333333333,
              "#9c179e"
             ],
             [
              0.4444444444444444,
              "#bd3786"
             ],
             [
              0.5555555555555556,
              "#d8576b"
             ],
             [
              0.6666666666666666,
              "#ed7953"
             ],
             [
              0.7777777777777778,
              "#fb9f3a"
             ],
             [
              0.8888888888888888,
              "#fdca26"
             ],
             [
              1,
              "#f0f921"
             ]
            ],
            "type": "surface"
           }
          ],
          "table": [
           {
            "cells": {
             "fill": {
              "color": "#EBF0F8"
             },
             "line": {
              "color": "white"
             }
            },
            "header": {
             "fill": {
              "color": "#C8D4E3"
             },
             "line": {
              "color": "white"
             }
            },
            "type": "table"
           }
          ]
         },
         "layout": {
          "annotationdefaults": {
           "arrowcolor": "#2a3f5f",
           "arrowhead": 0,
           "arrowwidth": 1
          },
          "autotypenumbers": "strict",
          "coloraxis": {
           "colorbar": {
            "outlinewidth": 0,
            "ticks": ""
           }
          },
          "colorscale": {
           "diverging": [
            [
             0,
             "#8e0152"
            ],
            [
             0.1,
             "#c51b7d"
            ],
            [
             0.2,
             "#de77ae"
            ],
            [
             0.3,
             "#f1b6da"
            ],
            [
             0.4,
             "#fde0ef"
            ],
            [
             0.5,
             "#f7f7f7"
            ],
            [
             0.6,
             "#e6f5d0"
            ],
            [
             0.7,
             "#b8e186"
            ],
            [
             0.8,
             "#7fbc41"
            ],
            [
             0.9,
             "#4d9221"
            ],
            [
             1,
             "#276419"
            ]
           ],
           "sequential": [
            [
             0,
             "#0d0887"
            ],
            [
             0.1111111111111111,
             "#46039f"
            ],
            [
             0.2222222222222222,
             "#7201a8"
            ],
            [
             0.3333333333333333,
             "#9c179e"
            ],
            [
             0.4444444444444444,
             "#bd3786"
            ],
            [
             0.5555555555555556,
             "#d8576b"
            ],
            [
             0.6666666666666666,
             "#ed7953"
            ],
            [
             0.7777777777777778,
             "#fb9f3a"
            ],
            [
             0.8888888888888888,
             "#fdca26"
            ],
            [
             1,
             "#f0f921"
            ]
           ],
           "sequentialminus": [
            [
             0,
             "#0d0887"
            ],
            [
             0.1111111111111111,
             "#46039f"
            ],
            [
             0.2222222222222222,
             "#7201a8"
            ],
            [
             0.3333333333333333,
             "#9c179e"
            ],
            [
             0.4444444444444444,
             "#bd3786"
            ],
            [
             0.5555555555555556,
             "#d8576b"
            ],
            [
             0.6666666666666666,
             "#ed7953"
            ],
            [
             0.7777777777777778,
             "#fb9f3a"
            ],
            [
             0.8888888888888888,
             "#fdca26"
            ],
            [
             1,
             "#f0f921"
            ]
           ]
          },
          "colorway": [
           "#636efa",
           "#EF553B",
           "#00cc96",
           "#ab63fa",
           "#FFA15A",
           "#19d3f3",
           "#FF6692",
           "#B6E880",
           "#FF97FF",
           "#FECB52"
          ],
          "font": {
           "color": "#2a3f5f"
          },
          "geo": {
           "bgcolor": "white",
           "lakecolor": "white",
           "landcolor": "#E5ECF6",
           "showlakes": true,
           "showland": true,
           "subunitcolor": "white"
          },
          "hoverlabel": {
           "align": "left"
          },
          "hovermode": "closest",
          "mapbox": {
           "style": "light"
          },
          "paper_bgcolor": "white",
          "plot_bgcolor": "#E5ECF6",
          "polar": {
           "angularaxis": {
            "gridcolor": "white",
            "linecolor": "white",
            "ticks": ""
           },
           "bgcolor": "#E5ECF6",
           "radialaxis": {
            "gridcolor": "white",
            "linecolor": "white",
            "ticks": ""
           }
          },
          "scene": {
           "xaxis": {
            "backgroundcolor": "#E5ECF6",
            "gridcolor": "white",
            "gridwidth": 2,
            "linecolor": "white",
            "showbackground": true,
            "ticks": "",
            "zerolinecolor": "white"
           },
           "yaxis": {
            "backgroundcolor": "#E5ECF6",
            "gridcolor": "white",
            "gridwidth": 2,
            "linecolor": "white",
            "showbackground": true,
            "ticks": "",
            "zerolinecolor": "white"
           },
           "zaxis": {
            "backgroundcolor": "#E5ECF6",
            "gridcolor": "white",
            "gridwidth": 2,
            "linecolor": "white",
            "showbackground": true,
            "ticks": "",
            "zerolinecolor": "white"
           }
          },
          "shapedefaults": {
           "line": {
            "color": "#2a3f5f"
           }
          },
          "ternary": {
           "aaxis": {
            "gridcolor": "white",
            "linecolor": "white",
            "ticks": ""
           },
           "baxis": {
            "gridcolor": "white",
            "linecolor": "white",
            "ticks": ""
           },
           "bgcolor": "#E5ECF6",
           "caxis": {
            "gridcolor": "white",
            "linecolor": "white",
            "ticks": ""
           }
          },
          "title": {
           "x": 0.05
          },
          "xaxis": {
           "automargin": true,
           "gridcolor": "white",
           "linecolor": "white",
           "ticks": "",
           "title": {
            "standoff": 15
           },
           "zerolinecolor": "white",
           "zerolinewidth": 2
          },
          "yaxis": {
           "automargin": true,
           "gridcolor": "white",
           "linecolor": "white",
           "ticks": "",
           "title": {
            "standoff": 15
           },
           "zerolinecolor": "white",
           "zerolinewidth": 2
          }
         }
        },
        "title": {
         "text": "Training and Validation Loss"
        },
        "xaxis": {
         "anchor": "y",
         "domain": [
          0,
          1
         ],
         "title": {
          "text": "Epoch"
         }
        },
        "yaxis": {
         "anchor": "x",
         "domain": [
          0,
          1
         ],
         "title": {
          "text": "Loss"
         }
        }
       }
      }
     },
     "metadata": {},
     "output_type": "display_data"
    }
   ],
   "source": [
    "# Combine train and val losses into a single plot\n",
    "loss_df = pd.DataFrame({\n",
    "    'Epoch': list(range(len(train_losses))) + list(range(len(val_losses))),\n",
    "    'Loss': train_losses + val_losses,\n",
    "    'Type': ['Train'] * len(train_losses) + ['Validation'] * len(val_losses)\n",
    "})\n",
    "\n",
    "px.line(loss_df, x='Epoch', y='Loss', color='Type', \n",
    "        title='Training and Validation Loss', \n",
    "        labels={'Loss': 'Loss', 'Epoch': 'Epoch'}).show()"
   ]
  },
  {
   "cell_type": "markdown",
   "id": "de6af2ba",
   "metadata": {},
   "source": [
    "# Interpret weights"
   ]
  },
  {
   "cell_type": "markdown",
   "id": "d15e19ba",
   "metadata": {},
   "source": [
    "## Investigate a particular $Q$ matrix (cell type)"
   ]
  },
  {
   "cell_type": "code",
   "execution_count": 9,
   "id": "d6324946",
   "metadata": {},
   "outputs": [],
   "source": [
    "cell_type = 0"
   ]
  },
  {
   "cell_type": "code",
   "execution_count": 10,
   "id": "f1a41dd7",
   "metadata": {},
   "outputs": [],
   "source": [
    "q = einops.einsum(model.w_p[cell_type], model.w_l, model.w_r, \"hid, hid in1, hid in2 -> in1 in2\")\n",
    "q = 0.5 * (q + q.mT)  # symmetrize"
   ]
  },
  {
   "cell_type": "code",
   "execution_count": 11,
   "id": "9e33c22f",
   "metadata": {},
   "outputs": [],
   "source": [
    "# px.imshow(\n",
    "#     q,\n",
    "#     color_continuous_scale='RdBu_r',\n",
    "#     color_continuous_midpoint=0,\n",
    "# )"
   ]
  },
  {
   "cell_type": "code",
   "execution_count": 12,
   "id": "f37996d2",
   "metadata": {},
   "outputs": [
    {
     "name": "stdout",
     "output_type": "stream",
     "text": [
      "WARNING: dendrogram data not found (using key=dendrogram_cell_type). Running `sc.tl.dendrogram` with default parameters. For fine tuning it is recommended to run `sc.tl.dendrogram` independently.\n"
     ]
    },
    {
     "data": {
      "image/png": "[encoded data removed]",
      "text/plain": [
       "<Figure size 563x250 with 6 Axes>"
      ]
     },
     "metadata": {},
     "output_type": "display_data"
    }
   ],
   "source": [
    "# Calculate gene markers for reference\n",
    "sc.tl.rank_genes_groups(adata, groupby=\"cell_type\", method=\"logreg\", n_genes=adata.shape[1])\n",
    "sc.pl.rank_genes_groups_dotplot(adata, n_genes=3, cmap=\"Greys\")"
   ]
  },
  {
   "cell_type": "code",
   "execution_count": 13,
   "id": "bff49840",
   "metadata": {},
   "outputs": [],
   "source": [
    "vals, vecs = torch.linalg.eigh(q)\n",
    "vals = vals.flip([0])\n",
    "vecs = vecs.flip([1])"
   ]
  },
  {
   "cell_type": "code",
   "execution_count": 14,
   "id": "4c0fd5f9",
   "metadata": {},
   "outputs": [
    {
     "data": {
      "application/vnd.plotly.v1+json": {
       "config": {
        "plotlyServerURL": "https://plot.ly"
       },
       "data": [
        {
         "bingroup": "x",
         "hovertemplate": "variable=0<br>value=%{x}<br>count=%{y}<extra></extra>",
         "legendgroup": "0",
         "marker": {
          "color": "#636efa",
          "pattern": {
           "shape": ""
          }
         },
         "name": "0",
         "nbinsx": 100,
         "orientation": "v",
         "showlegend": true,
         "type": "histogram",
         "x": {
          "bdata": "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",
          "dtype": "f4"
         },
         "xaxis": "x",
         "yaxis": "y"
        }
       ],
       "layout": {
        "barmode": "relative",
        "legend": {
         "title": {
          "text": "variable"
         },
         "tracegroupgap": 0
        },
        "template": {
         "data": {
          "bar": [
           {
            "error_x": {
             "color": "#2a3f5f"
            },
            "error_y": {
             "color": "#2a3f5f"
            },
            "marker": {
             "line": {
              "color": "#E5ECF6",
              "width": 0.5
             },
             "pattern": {
              "fillmode": "overlay",
              "size": 10,
              "solidity": 0.2
             }
            },
            "type": "bar"
           }
          ],
          "barpolar": [
           {
            "marker": {
             "line": {
              "color": "#E5ECF6",
              "width": 0.5
             },
             "pattern": {
              "fillmode": "overlay",
              "size": 10,
              "solidity": 0.2
             }
            },
            "type": "barpolar"
           }
          ],
          "carpet": [
           {
            "aaxis": {
             "endlinecolor": "#2a3f5f",
             "gridcolor": "white",
             "linecolor": "white",
             "minorgridcolor": "white",
             "startlinecolor": "#2a3f5f"
            },
            "baxis": {
             "endlinecolor": "#2a3f5f",
             "gridcolor": "white",
             "linecolor": "white",
             "minorgridcolor": "white",
             "startlinecolor": "#2a3f5f"
            },
            "type": "carpet"
           }
          ],
          "choropleth": [
           {
            "colorbar": {
             "outlinewidth": 0,
             "ticks": ""
            },
            "type": "choropleth"
           }
          ],
          "contour": [
           {
            "colorbar": {
             "outlinewidth": 0,
             "ticks": ""
            },
            "colorscale": [
             [
              0,
              "#0d0887"
             ],
             [
              0.1111111111111111,
              "#46039f"
             ],
             [
              0.2222222222222222,
              "#7201a8"
             ],
             [
              0.3333333333333333,
              "#9c179e"
             ],
             [
              0.4444444444444444,
              "#bd3786"
             ],
             [
              0.5555555555555556,
              "#d8576b"
             ],
             [
              0.6666666666666666,
              "#ed7953"
             ],
             [
              0.7777777777777778,
              "#fb9f3a"
             ],
             [
              0.8888888888888888,
              "#fdca26"
             ],
             [
              1,
              "#f0f921"
             ]
            ],
            "type": "contour"
           }
          ],
          "contourcarpet": [
           {
            "colorbar": {
             "outlinewidth": 0,
             "ticks": ""
            },
            "type": "contourcarpet"
           }
          ],
          "heatmap": [
           {
            "colorbar": {
             "outlinewidth": 0,
             "ticks": ""
            },
            "colorscale": [
             [
              0,
              "#0d0887"
             ],
             [
              0.1111111111111111,
              "#46039f"
             ],
             [
              0.2222222222222222,
              "#7201a8"
             ],
             [
              0.3333333333333333,
              "#9c179e"
             ],
             [
              0.4444444444444444,
              "#bd3786"
             ],
             [
              0.5555555555555556,
              "#d8576b"
             ],
             [
              0.6666666666666666,
              "#ed7953"
             ],
             [
              0.7777777777777778,
              "#fb9f3a"
             ],
             [
              0.8888888888888888,
              "#fdca26"
             ],
             [
              1,
              "#f0f921"
             ]
            ],
            "type": "heatmap"
           }
          ],
          "histogram": [
           {
            "marker": {
             "pattern": {
              "fillmode": "overlay",
              "size": 10,
              "solidity": 0.2
             }
            },
            "type": "histogram"
           }
          ],
          "histogram2d": [
           {
            "colorbar": {
             "outlinewidth": 0,
             "ticks": ""
            },
            "colorscale": [
             [
              0,
              "#0d0887"
             ],
             [
              0.1111111111111111,
              "#46039f"
             ],
             [
              0.2222222222222222,
              "#7201a8"
             ],
             [
              0.3333333333333333,
              "#9c179e"
             ],
             [
              0.4444444444444444,
              "#bd3786"
             ],
             [
              0.5555555555555556,
              "#d8576b"
             ],
             [
              0.6666666666666666,
              "#ed7953"
             ],
             [
              0.7777777777777778,
              "#fb9f3a"
             ],
             [
              0.8888888888888888,
              "#fdca26"
             ],
             [
              1,
              "#f0f921"
             ]
            ],
            "type": "histogram2d"
           }
          ],
          "histogram2dcontour": [
           {
            "colorbar": {
             "outlinewidth": 0,
             "ticks": ""
            },
            "colorscale": [
             [
              0,
              "#0d0887"
             ],
             [
              0.1111111111111111,
              "#46039f"
             ],
             [
              0.2222222222222222,
              "#7201a8"
             ],
             [
              0.3333333333333333,
              "#9c179e"
             ],
             [
              0.4444444444444444,
              "#bd3786"
             ],
             [
              0.5555555555555556,
              "#d8576b"
             ],
             [
              0.6666666666666666,
              "#ed7953"
             ],
             [
              0.7777777777777778,
              "#fb9f3a"
             ],
             [
              0.8888888888888888,
              "#fdca26"
             ],
             [
              1,
              "#f0f921"
             ]
            ],
            "type": "histogram2dcontour"
           }
          ],
          "mesh3d": [
           {
            "colorbar": {
             "outlinewidth": 0,
             "ticks": ""
            },
            "type": "mesh3d"
           }
          ],
          "parcoords": [
           {
            "line": {
             "colorbar": {
              "outlinewidth": 0,
              "ticks": ""
             }
            },
            "type": "parcoords"
           }
          ],
          "pie": [
           {
            "automargin": true,
            "type": "pie"
           }
          ],
          "scatter": [
           {
            "fillpattern": {
             "fillmode": "overlay",
             "size": 10,
             "solidity": 0.2
            },
            "type": "scatter"
           }
          ],
          "scatter3d": [
           {
            "line": {
             "colorbar": {
              "outlinewidth": 0,
              "ticks": ""
             }
            },
            "marker": {
             "colorbar": {
              "outlinewidth": 0,
              "ticks": ""
             }
            },
            "type": "scatter3d"
           }
          ],
          "scattercarpet": [
           {
            "marker": {
             "colorbar": {
              "outlinewidth": 0,
              "ticks": ""
             }
            },
            "type": "scattercarpet"
           }
          ],
          "scattergeo": [
           {
            "marker": {
             "colorbar": {
              "outlinewidth": 0,
              "ticks": ""
             }
            },
            "type": "scattergeo"
           }
          ],
          "scattergl": [
           {
            "marker": {
             "colorbar": {
              "outlinewidth": 0,
              "ticks": ""
             }
            },
            "type": "scattergl"
           }
          ],
          "scattermap": [
           {
            "marker": {
             "colorbar": {
              "outlinewidth": 0,
              "ticks": ""
             }
            },
            "type": "scattermap"
           }
          ],
          "scattermapbox": [
           {
            "marker": {
             "colorbar": {
              "outlinewidth": 0,
              "ticks": ""
             }
            },
            "type": "scattermapbox"
           }
          ],
          "scatterpolar": [
           {
            "marker": {
             "colorbar": {
              "outlinewidth": 0,
              "ticks": ""
             }
            },
            "type": "scatterpolar"
           }
          ],
          "scatterpolargl": [
           {
            "marker": {
             "colorbar": {
              "outlinewidth": 0,
              "ticks": ""
             }
            },
            "type": "scatterpolargl"
           }
          ],
          "scatterternary": [
           {
            "marker": {
             "colorbar": {
              "outlinewidth": 0,
              "ticks": ""
             }
            },
            "type": "scatterternary"
           }
          ],
          "surface": [
           {
            "colorbar": {
             "outlinewidth": 0,
             "ticks": ""
            },
            "colorscale": [
             [
              0,
              "#0d0887"
             ],
             [
              0.1111111111111111,
              "#46039f"
             ],
             [
              0.2222222222222222,
              "#7201a8"
             ],
             [
              0.3333333333333333,
              "#9c179e"
             ],
             [
              0.4444444444444444,
              "#bd3786"
             ],
             [
              0.5555555555555556,
              "#d8576b"
             ],
             [
              0.6666666666666666,
              "#ed7953"
             ],
             [
              0.7777777777777778,
              "#fb9f3a"
             ],
             [
              0.8888888888888888,
              "#fdca26"
             ],
             [
              1,
              "#f0f921"
             ]
            ],
            "type": "surface"
           }
          ],
          "table": [
           {
            "cells": {
             "fill": {
              "color": "#EBF0F8"
             },
             "line": {
              "color": "white"
             }
            },
            "header": {
             "fill": {
              "color": "#C8D4E3"
             },
             "line": {
              "color": "white"
             }
            },
            "type": "table"
           }
          ]
         },
         "layout": {
          "annotationdefaults": {
           "arrowcolor": "#2a3f5f",
           "arrowhead": 0,
           "arrowwidth": 1
          },
          "autotypenumbers": "strict",
          "coloraxis": {
           "colorbar": {
            "outlinewidth": 0,
            "ticks": ""
           }
          },
          "colorscale": {
           "diverging": [
            [
             0,
             "#8e0152"
            ],
            [
             0.1,
             "#c51b7d"
            ],
            [
             0.2,
             "#de77ae"
            ],
            [
             0.3,
             "#f1b6da"
            ],
            [
             0.4,
             "#fde0ef"
            ],
            [
             0.5,
             "#f7f7f7"
            ],
            [
             0.6,
             "#e6f5d0"
            ],
            [
             0.7,
             "#b8e186"
            ],
            [
             0.8,
             "#7fbc41"
            ],
            [
             0.9,
             "#4d9221"
            ],
            [
             1,
             "#276419"
            ]
           ],
           "sequential": [
            [
             0,
             "#0d0887"
            ],
            [
             0.1111111111111111,
             "#46039f"
            ],
            [
             0.2222222222222222,
             "#7201a8"
            ],
            [
             0.3333333333333333,
             "#9c179e"
            ],
            [
             0.4444444444444444,
             "#bd3786"
            ],
            [
             0.5555555555555556,
             "#d8576b"
            ],
            [
             0.6666666666666666,
             "#ed7953"
            ],
            [
             0.7777777777777778,
             "#fb9f3a"
            ],
            [
             0.8888888888888888,
             "#fdca26"
            ],
            [
             1,
             "#f0f921"
            ]
           ],
           "sequentialminus": [
            [
             0,
             "#0d0887"
            ],
            [
             0.1111111111111111,
             "#46039f"
            ],
            [
             0.2222222222222222,
             "#7201a8"
            ],
            [
             0.3333333333333333,
             "#9c179e"
            ],
            [
             0.4444444444444444,
             "#bd3786"
            ],
            [
             0.5555555555555556,
             "#d8576b"
            ],
            [
             0.6666666666666666,
             "#ed7953"
            ],
            [
             0.7777777777777778,
             "#fb9f3a"
            ],
            [
             0.8888888888888888,
             "#fdca26"
            ],
            [
             1,
             "#f0f921"
            ]
           ]
          },
          "colorway": [
           "#636efa",
           "#EF553B",
           "#00cc96",
           "#ab63fa",
           "#FFA15A",
           "#19d3f3",
           "#FF6692",
           "#B6E880",
           "#FF97FF",
           "#FECB52"
          ],
          "font": {
           "color": "#2a3f5f"
          },
          "geo": {
           "bgcolor": "white",
           "lakecolor": "white",
           "landcolor": "#E5ECF6",
           "showlakes": true,
           "showland": true,
           "subunitcolor": "white"
          },
          "hoverlabel": {
           "align": "left"
          },
          "hovermode": "closest",
          "mapbox": {
           "style": "light"
          },
          "paper_bgcolor": "white",
          "plot_bgcolor": "#E5ECF6",
          "polar": {
           "angularaxis": {
            "gridcolor": "white",
            "linecolor": "white",
            "ticks": ""
           },
           "bgcolor": "#E5ECF6",
           "radialaxis": {
            "gridcolor": "white",
            "linecolor": "white",
            "ticks": ""
           }
          },
          "scene": {
           "xaxis": {
            "backgroundcolor": "#E5ECF6",
            "gridcolor": "white",
            "gridwidth": 2,
            "linecolor": "white",
            "showbackground": true,
            "ticks": "",
            "zerolinecolor": "white"
           },
           "yaxis": {
            "backgroundcolor": "#E5ECF6",
            "gridcolor": "white",
            "gridwidth": 2,
            "linecolor": "white",
            "showbackground": true,
            "ticks": "",
            "zerolinecolor": "white"
           },
           "zaxis": {
            "backgroundcolor": "#E5ECF6",
            "gridcolor": "white",
            "gridwidth": 2,
            "linecolor": "white",
            "showbackground": true,
            "ticks": "",
            "zerolinecolor": "white"
           }
          },
          "shapedefaults": {
           "line": {
            "color": "#2a3f5f"
           }
          },
          "ternary": {
           "aaxis": {
            "gridcolor": "white",
            "linecolor": "white",
            "ticks": ""
           },
           "baxis": {
            "gridcolor": "white",
            "linecolor": "white",
            "ticks": ""
           },
           "bgcolor": "#E5ECF6",
           "caxis": {
            "gridcolor": "white",
            "linecolor": "white",
            "ticks": ""
           }
          },
          "title": {
           "x": 0.05
          },
          "xaxis": {
           "automargin": true,
           "gridcolor": "white",
           "linecolor": "white",
           "ticks": "",
           "title": {
            "standoff": 15
           },
           "zerolinecolor": "white",
           "zerolinewidth": 2
          },
          "yaxis": {
           "automargin": true,
           "gridcolor": "white",
           "linecolor": "white",
           "ticks": "",
           "title": {
            "standoff": 15
           },
           "zerolinecolor": "white",
           "zerolinewidth": 2
          }
         }
        },
        "title": {
         "text": "Eigenvalues of $Q$"
        },
        "xaxis": {
         "anchor": "y",
         "domain": [
          0,
          1
         ],
         "title": {
          "text": "value"
         }
        },
        "yaxis": {
         "anchor": "x",
         "domain": [
          0,
          1
         ],
         "title": {
          "text": "count"
         }
        }
       }
      }
     },
     "metadata": {},
     "output_type": "display_data"
    }
   ],
   "source": [
    "px.histogram(vals.flatten(), nbins=100, title=\"Eigenvalues of $Q$\").show()"
   ]
  },
  {
   "cell_type": "code",
   "execution_count": 15,
   "id": "e9c6e0a7",
   "metadata": {},
   "outputs": [
    {
     "name": "stdout",
     "output_type": "stream",
     "text": [
      "==================== Component 0 (0.07013331353664398) ====================\n",
      "['Ly6c2', 'Ckap4', 'Phb2', 'Elane', 'Ssr2', 'Hsp90b1', 'Isyna1', 'Srp19', 'Hspa5', 'Beta-s']\n",
      "['Apoe', 'Nrgn', 'Ptprcap', 'Mdga1', 'Gata2', 'Gnb2l1', 'Dapp1', 'Txnip', 'Cmtm4', 'Gpr56']\n",
      "==================== Component 1 (0.027994103729724884) ====================\n",
      "['Srp9', 'Tspo', 'Itm2b', 'Krtcap2', 'Hsd17b11', 'C1galt1c1', 'Pkn2', 'Plxnb2', 'Wasf2', 'Ccdc102a']\n",
      "['Gatsl3', 'Dusp16', 'Dusp3', 'Dock8', 'Zfml', 'Fbxl20', 'Ttll9', 'Flt3', 'Usp25', 'Eif3m']\n",
      "==================== Component 2 (0.026889201253652573) ====================\n",
      "['Plekha2', 'Ulk3', 'Ptprs', 'Mrps28', 'Anp32a', 'BC025067', 'Map4k3', 'Nop2', 'Gp5', 'Heatr1']\n",
      "['Syngr1', 'Ninl', 'Nxt1', 'Sh3bgrl3', 'Tapbpl', 'Itga2b', 'Arhgef3', 'Camsap1l1', 'Uhrf1bp1', 'Capn5']\n"
     ]
    }
   ],
   "source": [
    "n_top_genes = 10\n",
    "for i in range(3):  # top components\n",
    "    top_idxs = vecs[:,i].topk(n_top_genes).indices\n",
    "    top_genes = adata.var_names[top_idxs].tolist()\n",
    "    bottom_idxs = (-vecs[:,i]).topk(n_top_genes).indices\n",
    "    bottom_genes = adata.var_names[bottom_idxs].tolist()\n",
    "    print(\"=\"*20, f\"Component {i} ({vals[i]})\", \"=\"*20)\n",
    "    print(top_genes)\n",
    "    print(bottom_genes)"
   ]
  },
  {
   "cell_type": "code",
   "execution_count": 16,
   "id": "434cecc2",
   "metadata": {},
   "outputs": [],
   "source": [
    "# n_top_genes = 10\n",
    "# for c in range(n_cell_types):\n",
    "#     print(f\"Cell type {c}\")\n",
    "#     for i in range(n_genes-1, n_genes-4, -1):  # top components\n",
    "#         top_idxs = vecs[:,i].topk(n_top_genes).indices\n",
    "#         top_genes = adata.var_names[top_idxs].tolist()\n",
    "#         bottom_idxs = (-vecs[:,i]).topk(n_top_genes).indices\n",
    "#         bottom_genes = adata.var_names[bottom_idxs].tolist()\n",
    "#         print(\"=\"*20, f\"Component {i} ({vals[i]})\", \"=\"*20)\n",
    "#         print(top_genes)\n",
    "#         print(bottom_genes)\n",
    "#     print()"
   ]
  },
  {
   "cell_type": "markdown",
   "id": "8f4f7c02",
   "metadata": {},
   "source": [
    "Bottom components don't look that interesting."
   ]
  },
  {
   "cell_type": "code",
   "execution_count": 17,
   "id": "cfd69eb5",
   "metadata": {},
   "outputs": [
    {
     "data": {
      "image/png": "[encoded data removed]",
      "text/plain": [
       "<Figure size 563x250 with 6 Axes>"
      ]
     },
     "metadata": {},
     "output_type": "display_data"
    }
   ],
   "source": [
    "# Plot again for reference\n",
    "sc.pl.rank_genes_groups_dotplot(adata, n_genes=3, cmap=\"Greys\")"
   ]
  },
  {
   "cell_type": "markdown",
   "id": "d8ed6587",
   "metadata": {},
   "source": [
    "## Plot cells in $Q$ component space"
   ]
  },
  {
   "cell_type": "code",
   "execution_count": 18,
   "id": "c0010a47",
   "metadata": {},
   "outputs": [
    {
     "data": {
      "application/vnd.plotly.v1+json": {
       "config": {
        "plotlyServerURL": "https://plot.ly"
       },
       "data": [
        {
         "hovertemplate": "color=0<br>x=%{x}<br>y=%{y}<extra></extra>",
         "legendgroup": "0",
         "marker": {
          "color": "#636efa",
          "size": 5,
          "symbol": "circle"
         },
         "mode": "markers",
         "name": "0",
         "showlegend": true,
         "type": "scattergl",
         "x": {
          "bdata": "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",
          "dtype": "f4"
         },
         "xaxis": "x",
         "y": {
          "bdata": "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",
          "dtype": "f4"
         },
         "yaxis": "y"
        },
        {
         "hovertemplate": "color=2<br>x=%{x}<br>y=%{y}<extra></extra>",
         "legendgroup": "2",
         "marker": {
          "color": "#EF553B",
          "size": 5,
          "symbol": "circle"
         },
         "mode": "markers",
         "name": "2",
         "showlegend": true,
         "type": "scattergl",
         "x": {
          "bdata": "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",
          "dtype": "f4"
         },
         "xaxis": "x",
         "y": {
          "bdata": "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",
          "dtype": "f4"
         },
         "yaxis": "y"
        },
        {
         "hovertemplate": "color=1<br>x=%{x}<br>y=%{y}<extra></extra>",
         "legendgroup": "1",
         "marker": {
          "color": "#00cc96",
          "size": 5,
          "symbol": "circle"
         },
         "mode": "markers",
         "name": "1",
         "showlegend": true,
         "type": "scattergl",
         "x": {
          "bdata": "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",
          "dtype": "f4"
         },
         "xaxis": "x",
         "y": {
          "bdata": "lISYwA8MOcDtJlvAna+Sv7wUBsDx4Mq/hb04wKSyQsDudRvANl8IwL8Nuj4NfqW/HeQQwAKWWsAiS0zAG66tv5a/vb9w+nTAY5t6wGEB27+XnBfA5SSHv80nPsDLgxfA2/BVwK+sRr+Skpu/Fkfiv8qUAMDqQb+/pD6FwJ1yNMDDJPS/WteJPzTkmL/nbAHAGicYwCiMJMCjNq6/H+zJv4axGb924l++N/tzwKtfCcBSBX2/IM87wM+djsDMid2/mJWCwKGs97601YrATC9GwMAZD8CoPPi/XrOYv09b6r5WVZy/5F0gwG/Grb/ceTjAAOtEu9ucUr52uOe/VjFewAs5eMCA8ou/QlAwwHTXnb+aUWO/dLTIv+VAVL7ks6C/u9crwLqupr92Aei+Cd+4v17nN8CiP7q9CS2uvwgtS8Afv3LAO1oxP55Zij4gtCLARlW1voHjHcBwTJfAM4IGwHrlxb8+hT3AzxbMvw7Rir8n1gfABw0IwHzm7L/yYpC+RVY1wNDfLMCb76i/jqgLwPQ9UL80t+G/gk4ov8lZacBemMa/MtouwNjm1r86QiLAlGVawPGFN8AEjq2/DZzOv6ZMNr+AGTLAhkIVwPezcb+oq/K/6JJ0v2eJyr+ELh3AR77Hv+NT6r/s5gnAzH2JvxDwi77Nm2++0DQTwCcalL8mfwbAarnQv3/idb8GY2e/rlvSv4KBlr/XvlbAfrYGwLCZEb9uBlzAYugpwEUBfL+nUgHAaDuOvxa3A8AkgTHACCYwwIOKK8DPTDfAtS6IPzLzt79pZci/9jLtvy/KPb+oU8i7iKkAwBut/b4FayTAiACWPU92FsBly6Y+BiYcwMYMtb8q1QXAXR/Hv8Fnm7/CTbS/Q/fOv8ODWL/26Ay+tmYMwMirRb90SPS+xoXMPxsAg77KR1G/wreUPoitLb9kZ7u/DPEfwKxUO8C9VAvANE7gv2zgPsAGKjw/pdjbv1IR/j0t0GQ/kKxtv5OxHsBdPNO/5n5cv0T97L5wCiXAaZOTv2NgLMDjR3e/BU7Tv8iopL/Tuzg/cowFwN7c+7+eUTzAwZa+v1zZmr+nNWa/VoHYv/agU8AlJ4q/RDrYveBhkr+eyD3A58H9vyWRFL/c0Ie/EkBXwLwOC8AIOwjAXT5CwDspIb+Rwci/QPPbPvOrdD/B2se/IPRcvZ9A17/I9K6/XJUPwDyjDcDGKte/B8MSwCDg2L/3VYQ/vIotwGpmfL9yUmC/BPVEvxmFB7+hMea/Ava6vnZDEMBjJ7+/TOKXwCsfI8AFFiLA6MgCwFSuHMBvci/AUnmFwFYNwb92BUHAM3VAwGD+LL/BHBPAaUy9v2yWGMA/ZILAIuEYwL/Fqb/F+im/uEslwKgdH74mAxTAYxYQwN4wGsA49ca/K84swEZbML/ZxyXAHYYhwNLRp7+9QWfAYkR7vzpKNcDAUSG/Qs6Wv/T0K8CM1RPAvf4NwM7ISL/gGSTAorkRwIHA7b8Os/G/uki9voxS+L/D35C/QpsVwE5XDsCRqE3ALJrZv6djJMDJ0wLA8qufv+habL7/tiXABmFdv0wKJsBUUPu9MHYAwMpbLsDc+DLAREy+v7OMor8oh0vAZ/EWvyAxkr/m1TfA+j59Ps2CLcAWQSzApUEXPgyblr9QwW3AcQYnwLx3McDvFlfAtuXCv+DaJ8D9HAzAz9ikvwz7aL8szx/Av4MWwNu0UMARvdW/GfYxwFIBuL+1QhTAHnBGv6wHor8TsUE/c2avv/SvCsC65ifAFA/DvwhW3r9fmQDA2AsGwHOzacCBfCzAz7ERvvlQW8DPoJu/VvGMv/TntL7uaza/WpkjwGOTOr++CwfAsbN/v2izJcDAv2y7bg+gv6IuAMChDjXA+BMkP+Vob8AUIzXARPjcvmB/db00aA6/oqX0v8K01r+/FVbA7j2Tv4Fp/L8+6/K/L8Y8vxBIHsAYMu6/9SBZv4goQ79cisy/wH9EwNFtf7/K/Da+vJPzv7AHw7/r2ADAHkdBwFxLMsA4jpfAPO2nwA2lBMB1oyLAlMsKwG+ESMA5igHAij4AwCu2CsBwW+4+m9ynv5uAU8AgfFvAoK0HwEJchL4dcxnAQTqXvgIE1b972jDAmypVwA6Sv79EM2HAdPrEv+aYLMD6kizArqJHwGCdw78c7tO/5V2+v7omZsA8Ylu/EU33v5g4KL+y0lLAvsgIwKWnCsA2w0bAo4/MvwE1Mb8KTLW/zMEnwHvsvL5K1hE/0YEawOx6WL/A4K+/aFPHv5k2DL/GwwnAzkEVwCU3KsBTSd6/7ON4v7OzY8BLIJU+/OVLwIt4n7/UZ8g9N1vBv1icMcD+e2S/+ahLwGOJKz/q7P+/rET2v4cJF79XfLe+qI98wLcKT8C19YHArf4jv9Yb+L9sxbu/0/FDPzjbJcBsRxLALH6Lv9+Kh79fumDAeOxivKwLw78C+E6/rL38v9xpG8DnJFHAwo0pv5yZMMDJ+B3ArXuHv7CD8r7EgiDAoJtswDgsh7+otFXAk08nwOOYLsDAUBnAzJnKv/NY9798chK/Rb8dwF5RD8AHH0nAvMnpvw5Ywb/+NNO/SogGwFrOWMBAdSC8FD8xwHCU0b+YuVPAqv8GwGbq/71SOsK/jqy3vrIaNcBWCCU/Hn2nvziApr9fDQ3AMVjmv7wBO8BC1DTAX9Okv+zBccAMdjy//oEkwHu7PsAEln+/F4n6v/fvBMCUZDTA400hwNsCWMAWoYzACVB9wDHZlMC240TAa/3Kv97QLcCdISzAqXEcwJ9gOsA85TA/FpgpwMoPu78PfyrApuHiv/WJnr+uE2nAiF+2v34tkcDz15I+y4Ehv9sHBMBDmZ2/PNBiwBBQkb/fqyC/SzEfwEB/FcD6Loq/mS8AwOF4979sUpy/vC1jv505Jr9/BZu+jjM/v7J0JsBE72zANHzFv1HraMComA3AJD7tv3LWub/syzTA2grXvoCVZL9afNW/nywLwGE2VMDIb72/hq8LwMytd8BHdhDA4nhAwLWGG8DmXx/AAPx2wDEFwL/S9hLA0krWv/pyeb9H3RXAb6uZv1jkKMAWIQO/LStCwDcb8D1UIm++Aad2wOT4iL/WzTS/sGdjPT/0Rr8yFuK/sq40wAoj27/6E4rAt/YFwKJMNcCszZHA8tRFwAd/RMDqp4y/WpUDv4W/NL7YzO6/9DjCPtyLisBH82DA+G/1v5TVxL+jj58+2UBnwDoTScAhGjHAOAQOwEGoSMAVE5G/9shuwHQLPMBr4VbAEhZjwCvalr+yX2LAgt9mwMmgf75LF4i+zY0GwKTXE8DAETLAzkcpwC8fyL/aJkbAbpUyv0xnB8Bp+RHAAEttwOZ4P8AePyvAmmsRwCYftr92J7a/OilEwGSyYMDTN8a/ePIXv49MHr9CaBW/1KPmv2iUp7+UZR3AC77zv7Yvur8pBEnA6dtxwDmlsb/UBfG/15N6v2ABob9gzvG/8txSv+yUd79r7RLAbjKIvp/4w79Gd6O/QagNwGImfr/OnLE+eg0FPksnCL8bjBjAYbflv7j+VL/tAQnAiwtjwPfdpb9zrwTAL6U2wP4Hvr8Gj/W/hh0AwByiyz4kBB/ADZIbwMsHoL6Zv0DA4sYzwOezFsBOajvAQAlkwPacKsBfazjAYuXev5mVQMDfqbm/63czwCvm/79tuQM+z/Suv/sjBMDGdcm/Lw4wwP0Azr+G/te9B/zQv7xUC8DqRZe/VsofwFQIJcBMYKe/7eqSvxw72b/RDhLAfnrTv9VOpb8Hg03AEPVewOqY0L+OYWc+iSQDwJSz9T7MavS/PF8Wv0cBF8DjnWm/iXASwOhVu79yVDPAl/+Zv7TKT76dIwzAhD2uv6gLfb/ryx7Atn7iv3m9kL/OL9Q+u2wIwMTm0r9S+bm9oPgYwNdmKcC8SrC/MIubv2gsBsCaav2/oEIgwEOiBcCiitS/yX6mv7St7r8ftVbArEsMv5/Wvb8sTCTANvY8wCJc3b/mMrC/1iNlwF8O2r6t+Ra/0Y8Jv3ZLHcDuW1XAzx2Vv9Hr878suRDAs7v+v1v1rr9wSVDAZDX2v6RSor+gQxnA/YA3wMz3iMAgJaS/cDhRwFuKwj72XA2/LDWmv2+ehb9Ge6W/vDKQv51hTb+BLhq/SLaYv/pA6L/QOw6/dFduvxNxU8A31D7A1DsMwFfLTsC6g9a/B/k/wC5lIMC7eoq/olfTvz6jCsAEwR3A+nERwELt+L9Ep9+9nJyRvzbfQsDzqkXAckEgwBZFb78CwC3AyHwHvZUxNL+l1f2/btY4wIdOkb/ktKW/tP2uv3wWlb99b6i/M6JJwAQzzb8tyiS/thnSv31pGMDDAn+/1xD3v3XrZMBTHQXALkAcwCqXFMCPI3LAw+Gpv3p1LsBxAxfAdPagv9wu1L9OKhbASlgUvxvZWsC2vu+/4MQWv5pMTMAmcsi/YuIywETd/r8uC6q/MQcHv0ICFsC43HC/Nm8VwLCUu74cIJC/1I5QP5e+b77gLdS/bLgVwLyCBMDlNui+PI0dv3BAXcD6ey7ATHM2wBlPpb/cSIK/MnZVwPZkF8CyZku/3v2svyjvOsB2oou/7Aj3v75QXL998gfAc/Gtv5wWR8AIBovACA/5PvTjFMB0KHW/mKHav10E/L8MkA0+CLKrvypGOcDJ8jLACXRSwOp7xr8mAdu+rVkvwIwSVcA5v8K/rMPqv/xUbL/L5K6/KBCkPkF92r8uuSXASX4GwL4pE8D/oOC/PSUKwNwaXMC53DLAd0kOwMPaOsCZFjXAcccuwC5ST8BEuDrAjWjCv+RpU8Bm6T3AHNvwvxtccMC0Dc6/m6dUPyWeK8AMqB7A9bszwG9bA8Cz4Ae/ZA/WPQt9NcDDBSDAhY2+v2KAcsC9QFfAlkz9vzB0U8DKg9a/6CVQv6aQDMAo3/K+VW0nwIaS9b9IWgXAM13/v2BWI73Op+e/xxQ5v4BkD8C5q1a/+F1lv1Ak674oc1A/TrsYwJaSyL/DhQjAbrG9v4R0hL7PpHTArgr+v95jgb8+8r6/+Z+/v7lOUsBoO6S/rqQ1wPISM7+Dyuu/ZZ2tv6ygAsCRyZm/t0MYwA==",
          "dtype": "f4"
         },
         "yaxis": "y"
        }
       ],
       "layout": {
        "height": 600,
        "legend": {
         "title": {
          "text": "color"
         },
         "tracegroupgap": 0
        },
        "template": {
         "data": {
          "bar": [
           {
            "error_x": {
             "color": "#2a3f5f"
            },
            "error_y": {
             "color": "#2a3f5f"
            },
            "marker": {
             "line": {
              "color": "#E5ECF6",
              "width": 0.5
             },
             "pattern": {
              "fillmode": "overlay",
              "size": 10,
              "solidity": 0.2
             }
            },
            "type": "bar"
           }
          ],
          "barpolar": [
           {
            "marker": {
             "line": {
              "color": "#E5ECF6",
              "width": 0.5
             },
             "pattern": {
              "fillmode": "overlay",
              "size": 10,
              "solidity": 0.2
             }
            },
            "type": "barpolar"
           }
          ],
          "carpet": [
           {
            "aaxis": {
             "endlinecolor": "#2a3f5f",
             "gridcolor": "white",
             "linecolor": "white",
             "minorgridcolor": "white",
             "startlinecolor": "#2a3f5f"
            },
            "baxis": {
             "endlinecolor": "#2a3f5f",
             "gridcolor": "white",
             "linecolor": "white",
             "minorgridcolor": "white",
             "startlinecolor": "#2a3f5f"
            },
            "type": "carpet"
           }
          ],
          "choropleth": [
           {
            "colorbar": {
             "outlinewidth": 0,
             "ticks": ""
            },
            "type": "choropleth"
           }
          ],
          "contour": [
           {
            "colorbar": {
             "outlinewidth": 0,
             "ticks": ""
            },
            "colorscale": [
             [
              0,
              "#0d0887"
             ],
             [
              0.1111111111111111,
              "#46039f"
             ],
             [
              0.2222222222222222,
              "#7201a8"
             ],
             [
              0.3333333333333333,
              "#9c179e"
             ],
             [
              0.4444444444444444,
              "#bd3786"
             ],
             [
              0.5555555555555556,
              "#d8576b"
             ],
             [
              0.6666666666666666,
              "#ed7953"
             ],
             [
              0.7777777777777778,
              "#fb9f3a"
             ],
             [
              0.8888888888888888,
              "#fdca26"
             ],
             [
              1,
              "#f0f921"
             ]
            ],
            "type": "contour"
           }
          ],
          "contourcarpet": [
           {
            "colorbar": {
             "outlinewidth": 0,
             "ticks": ""
            },
            "type": "contourcarpet"
           }
          ],
          "heatmap": [
           {
            "colorbar": {
             "outlinewidth": 0,
             "ticks": ""
            },
            "colorscale": [
             [
              0,
              "#0d0887"
             ],
             [
              0.1111111111111111,
              "#46039f"
             ],
             [
              0.2222222222222222,
              "#7201a8"
             ],
             [
              0.3333333333333333,
              "#9c179e"
             ],
             [
              0.4444444444444444,
              "#bd3786"
             ],
             [
              0.5555555555555556,
              "#d8576b"
             ],
             [
              0.6666666666666666,
              "#ed7953"
             ],
             [
              0.7777777777777778,
              "#fb9f3a"
             ],
             [
              0.8888888888888888,
              "#fdca26"
             ],
             [
              1,
              "#f0f921"
             ]
            ],
            "type": "heatmap"
           }
          ],
          "histogram": [
           {
            "marker": {
             "pattern": {
              "fillmode": "overlay",
              "size": 10,
              "solidity": 0.2
             }
            },
            "type": "histogram"
           }
          ],
          "histogram2d": [
           {
            "colorbar": {
             "outlinewidth": 0,
             "ticks": ""
            },
            "colorscale": [
             [
              0,
              "#0d0887"
             ],
             [
              0.1111111111111111,
              "#46039f"
             ],
             [
              0.2222222222222222,
              "#7201a8"
             ],
             [
              0.3333333333333333,
              "#9c179e"
             ],
             [
              0.4444444444444444,
              "#bd3786"
             ],
             [
              0.5555555555555556,
              "#d8576b"
             ],
             [
              0.6666666666666666,
              "#ed7953"
             ],
             [
              0.7777777777777778,
              "#fb9f3a"
             ],
             [
              0.8888888888888888,
              "#fdca26"
             ],
             [
              1,
              "#f0f921"
             ]
            ],
            "type": "histogram2d"
           }
          ],
          "histogram2dcontour": [
           {
            "colorbar": {
             "outlinewidth": 0,
             "ticks": ""
            },
            "colorscale": [
             [
              0,
              "#0d0887"
             ],
             [
              0.1111111111111111,
              "#46039f"
             ],
             [
              0.2222222222222222,
              "#7201a8"
             ],
             [
              0.3333333333333333,
              "#9c179e"
             ],
             [
              0.4444444444444444,
              "#bd3786"
             ],
             [
              0.5555555555555556,
              "#d8576b"
             ],
             [
              0.6666666666666666,
              "#ed7953"
             ],
             [
              0.7777777777777778,
              "#fb9f3a"
             ],
             [
              0.8888888888888888,
              "#fdca26"
             ],
             [
              1,
              "#f0f921"
             ]
            ],
            "type": "histogram2dcontour"
           }
          ],
          "mesh3d": [
           {
            "colorbar": {
             "outlinewidth": 0,
             "ticks": ""
            },
            "type": "mesh3d"
           }
          ],
          "parcoords": [
           {
            "line": {
             "colorbar": {
              "outlinewidth": 0,
              "ticks": ""
             }
            },
            "type": "parcoords"
           }
          ],
          "pie": [
           {
            "automargin": true,
            "type": "pie"
           }
          ],
          "scatter": [
           {
            "fillpattern": {
             "fillmode": "overlay",
             "size": 10,
             "solidity": 0.2
            },
            "type": "scatter"
           }
          ],
          "scatter3d": [
           {
            "line": {
             "colorbar": {
              "outlinewidth": 0,
              "ticks": ""
             }
            },
            "marker": {
             "colorbar": {
              "outlinewidth": 0,
              "ticks": ""
             }
            },
            "type": "scatter3d"
           }
          ],
          "scattercarpet": [
           {
            "marker": {
             "colorbar": {
              "outlinewidth": 0,
              "ticks": ""
             }
            },
            "type": "scattercarpet"
           }
          ],
          "scattergeo": [
           {
            "marker": {
             "colorbar": {
              "outlinewidth": 0,
              "ticks": ""
             }
            },
            "type": "scattergeo"
           }
          ],
          "scattergl": [
           {
            "marker": {
             "colorbar": {
              "outlinewidth": 0,
              "ticks": ""
             }
            },
            "type": "scattergl"
           }
          ],
          "scattermap": [
           {
            "marker": {
             "colorbar": {
              "outlinewidth": 0,
              "ticks": ""
             }
            },
            "type": "scattermap"
           }
          ],
          "scattermapbox": [
           {
            "marker": {
             "colorbar": {
              "outlinewidth": 0,
              "ticks": ""
             }
            },
            "type": "scattermapbox"
           }
          ],
          "scatterpolar": [
           {
            "marker": {
             "colorbar": {
              "outlinewidth": 0,
              "ticks": ""
             }
            },
            "type": "scatterpolar"
           }
          ],
          "scatterpolargl": [
           {
            "marker": {
             "colorbar": {
              "outlinewidth": 0,
              "ticks": ""
             }
            },
            "type": "scatterpolargl"
           }
          ],
          "scatterternary": [
           {
            "marker": {
             "colorbar": {
              "outlinewidth": 0,
              "ticks": ""
             }
            },
            "type": "scatterternary"
           }
          ],
          "surface": [
           {
            "colorbar": {
             "outlinewidth": 0,
             "ticks": ""
            },
            "colorscale": [
             [
              0,
              "#0d0887"
             ],
             [
              0.1111111111111111,
              "#46039f"
             ],
             [
              0.2222222222222222,
              "#7201a8"
             ],
             [
              0.3333333333333333,
              "#9c179e"
             ],
             [
              0.4444444444444444,
              "#bd3786"
             ],
             [
              0.5555555555555556,
              "#d8576b"
             ],
             [
              0.6666666666666666,
              "#ed7953"
             ],
             [
              0.7777777777777778,
              "#fb9f3a"
             ],
             [
              0.8888888888888888,
              "#fdca26"
             ],
             [
              1,
              "#f0f921"
             ]
            ],
            "type": "surface"
           }
          ],
          "table": [
           {
            "cells": {
             "fill": {
              "color": "#EBF0F8"
             },
             "line": {
              "color": "white"
             }
            },
            "header": {
             "fill": {
              "color": "#C8D4E3"
             },
             "line": {
              "color": "white"
             }
            },
            "type": "table"
           }
          ]
         },
         "layout": {
          "annotationdefaults": {
           "arrowcolor": "#2a3f5f",
           "arrowhead": 0,
           "arrowwidth": 1
          },
          "autotypenumbers": "strict",
          "coloraxis": {
           "colorbar": {
            "outlinewidth": 0,
            "ticks": ""
           }
          },
          "colorscale": {
           "diverging": [
            [
             0,
             "#8e0152"
            ],
            [
             0.1,
             "#c51b7d"
            ],
            [
             0.2,
             "#de77ae"
            ],
            [
             0.3,
             "#f1b6da"
            ],
            [
             0.4,
             "#fde0ef"
            ],
            [
             0.5,
             "#f7f7f7"
            ],
            [
             0.6,
             "#e6f5d0"
            ],
            [
             0.7,
             "#b8e186"
            ],
            [
             0.8,
             "#7fbc41"
            ],
            [
             0.9,
             "#4d9221"
            ],
            [
             1,
             "#276419"
            ]
           ],
           "sequential": [
            [
             0,
             "#0d0887"
            ],
            [
             0.1111111111111111,
             "#46039f"
            ],
            [
             0.2222222222222222,
             "#7201a8"
            ],
            [
             0.3333333333333333,
             "#9c179e"
            ],
            [
             0.4444444444444444,
             "#bd3786"
            ],
            [
             0.5555555555555556,
             "#d8576b"
            ],
            [
             0.6666666666666666,
             "#ed7953"
            ],
            [
             0.7777777777777778,
             "#fb9f3a"
            ],
            [
             0.8888888888888888,
             "#fdca26"
            ],
            [
             1,
             "#f0f921"
            ]
           ],
           "sequentialminus": [
            [
             0,
             "#0d0887"
            ],
            [
             0.1111111111111111,
             "#46039f"
            ],
            [
             0.2222222222222222,
             "#7201a8"
            ],
            [
             0.3333333333333333,
             "#9c179e"
            ],
            [
             0.4444444444444444,
             "#bd3786"
            ],
            [
             0.5555555555555556,
             "#d8576b"
            ],
            [
             0.6666666666666666,
             "#ed7953"
            ],
            [
             0.7777777777777778,
             "#fb9f3a"
            ],
            [
             0.8888888888888888,
             "#fdca26"
            ],
            [
             1,
             "#f0f921"
            ]
           ]
          },
          "colorway": [
           "#636efa",
           "#EF553B",
           "#00cc96",
           "#ab63fa",
           "#FFA15A",
           "#19d3f3",
           "#FF6692",
           "#B6E880",
           "#FF97FF",
           "#FECB52"
          ],
          "font": {
           "color": "#2a3f5f"
          },
          "geo": {
           "bgcolor": "white",
           "lakecolor": "white",
           "landcolor": "#E5ECF6",
           "showlakes": true,
           "showland": true,
           "subunitcolor": "white"
          },
          "hoverlabel": {
           "align": "left"
          },
          "hovermode": "closest",
          "mapbox": {
           "style": "light"
          },
          "paper_bgcolor": "white",
          "plot_bgcolor": "#E5ECF6",
          "polar": {
           "angularaxis": {
            "gridcolor": "white",
            "linecolor": "white",
            "ticks": ""
           },
           "bgcolor": "#E5ECF6",
           "radialaxis": {
            "gridcolor": "white",
            "linecolor": "white",
            "ticks": ""
           }
          },
          "scene": {
           "xaxis": {
            "backgroundcolor": "#E5ECF6",
            "gridcolor": "white",
            "gridwidth": 2,
            "linecolor": "white",
            "showbackground": true,
            "ticks": "",
            "zerolinecolor": "white"
           },
           "yaxis": {
            "backgroundcolor": "#E5ECF6",
            "gridcolor": "white",
            "gridwidth": 2,
            "linecolor": "white",
            "showbackground": true,
            "ticks": "",
            "zerolinecolor": "white"
           },
           "zaxis": {
            "backgroundcolor": "#E5ECF6",
            "gridcolor": "white",
            "gridwidth": 2,
            "linecolor": "white",
            "showbackground": true,
            "ticks": "",
            "zerolinecolor": "white"
           }
          },
          "shapedefaults": {
           "line": {
            "color": "#2a3f5f"
           }
          },
          "ternary": {
           "aaxis": {
            "gridcolor": "white",
            "linecolor": "white",
            "ticks": ""
           },
           "baxis": {
            "gridcolor": "white",
            "linecolor": "white",
            "ticks": ""
           },
           "bgcolor": "#E5ECF6",
           "caxis": {
            "gridcolor": "white",
            "linecolor": "white",
            "ticks": ""
           }
          },
          "title": {
           "x": 0.05
          },
          "xaxis": {
           "automargin": true,
           "gridcolor": "white",
           "linecolor": "white",
           "ticks": "",
           "title": {
            "standoff": 15
           },
           "zerolinecolor": "white",
           "zerolinewidth": 2
          },
          "yaxis": {
           "automargin": true,
           "gridcolor": "white",
           "linecolor": "white",
           "ticks": "",
           "title": {
            "standoff": 15
           },
           "zerolinecolor": "white",
           "zerolinewidth": 2
          }
         }
        },
        "title": {
         "text": "Myeloid progenitor differentiation data"
        },
        "width": 600,
        "xaxis": {
         "anchor": "y",
         "domain": [
          0,
          1
         ],
         "title": {
          "text": "x"
         }
        },
        "yaxis": {
         "anchor": "x",
         "domain": [
          0,
          1
         ],
         "title": {
          "text": "y"
         }
        }
       }
      }
     },
     "metadata": {},
     "output_type": "display_data"
    }
   ],
   "source": [
    "adata.obsm[\"X_Q\"] = adata.X @ vecs[:, :3].numpy()  # project into component space\n",
    "\n",
    "fig = px.scatter(\n",
    "    x=adata.obsm[\"X_Q\"][:, 0],\n",
    "    y=adata.obsm[\"X_Q\"][:, 1],\n",
    "    color=adata.obs[\"cell_type\"],\n",
    "    title=\"Myeloid progenitor differentiation data\",\n",
    "    width=600,\n",
    "    height=600,\n",
    ")\n",
    "fig.update_traces(marker=dict(size=5))\n",
    "fig.show()"
   ]
  },
  {
   "cell_type": "markdown",
   "id": "57488f39",
   "metadata": {},
   "source": [
    "# Iterate over output directions"
   ]
  },
  {
   "cell_type": "code",
   "execution_count": 19,
   "id": "d036e708",
   "metadata": {},
   "outputs": [],
   "source": [
    "b = einops.einsum(model.w_p, model.w_l, model.w_r, \"out hid, hid in1, hid in2 -> out in1 in2\")\n",
    "b = 0.5 * (b + b.mT)  # symmetrize"
   ]
  },
  {
   "cell_type": "markdown",
   "id": "e40294e8",
   "metadata": {},
   "source": [
    "## Print component markers"
   ]
  },
  {
   "cell_type": "code",
   "execution_count": 20,
   "id": "52dfa748",
   "metadata": {},
   "outputs": [
    {
     "name": "stdout",
     "output_type": "stream",
     "text": [
      "Cell type 0\n",
      "==================== Component 0 (0.07013331353664398) ====================\n",
      "['Ly6c2', 'Ckap4', 'Phb2', 'Elane', 'Ssr2', 'Hsp90b1', 'Isyna1', 'Srp19', 'Hspa5', 'Beta-s']\n",
      "['Apoe', 'Nrgn', 'Ptprcap', 'Mdga1', 'Gata2', 'Gnb2l1', 'Dapp1', 'Txnip', 'Cmtm4', 'Gpr56']\n",
      "==================== Component 1 (0.027994103729724884) ====================\n",
      "['Srp9', 'Tspo', 'Itm2b', 'Krtcap2', 'Hsd17b11', 'C1galt1c1', 'Pkn2', 'Plxnb2', 'Wasf2', 'Ccdc102a']\n",
      "['Gatsl3', 'Dusp16', 'Dusp3', 'Dock8', 'Zfml', 'Fbxl20', 'Ttll9', 'Flt3', 'Usp25', 'Eif3m']\n",
      "==================== Component 2 (0.026889201253652573) ====================\n",
      "['Plekha2', 'Ulk3', 'Ptprs', 'Mrps28', 'Anp32a', 'BC025067', 'Map4k3', 'Nop2', 'Gp5', 'Heatr1']\n",
      "['Syngr1', 'Ninl', 'Nxt1', 'Sh3bgrl3', 'Tapbpl', 'Itga2b', 'Arhgef3', 'Camsap1l1', 'Uhrf1bp1', 'Capn5']\n",
      "\n",
      "Cell type 1\n",
      "==================== Component 0 (0.06861147284507751) ====================\n",
      "['Tpsb2', 'Vim', 'Sh2d2a', 'Coro1a', 'Hsd11b1', 'Scin', 'Pik3cg', 'Slpi', 'P2rx7', 'Dennd1c']\n",
      "['Mt2', 'Mt1', 'Atp1b2', 'Ermap', 'Gclm', 'Mthfd1', 'Ccdc23', 'Atpif1', 'Abcb4', 'Blvrb']\n",
      "==================== Component 1 (0.02711085043847561) ====================\n",
      "['Myb', 'Osbpl1a', 'Gata2', 'D4Wsu53e', 'Tmem165', 'Tmem109', 'Laptm5', 'Fam184a', 'Fkbp5', 'Bcas3']\n",
      "['Cachd1', 'Sec14l2', 'Herpud1', 'Itsn1', 'Abcg4', 'Mier3', 'AK040705', 'Hebp1', 'Acsl6', 'Cercam']\n",
      "==================== Component 2 (0.025575608015060425) ====================\n",
      "['Myst3', 'Trak2', 'Slc38a5', 'N4bp3', 'Slbp', 'Pex11a', 'Spire2', 'Btg1', 'Rapgef6', 'Gtf2a2']\n",
      "['Aff3', '2900026A02Rik', 'Tubb5', 'Trip6', 'Sfswap', 'Capzb', 'Lefty1', 'Tet2', 'BC021614', 'Reep6']\n",
      "\n",
      "Cell type 2\n",
      "==================== Component 0 (0.08945789933204651) ====================\n",
      "['Tpsb2', 'Gfi1b', 'Car2', 'Xrcc5', 'Il2rb', 'Cdcrel-1', 'Ccl5', 'Sphk1', 'Isg20', 'Ptpn13']\n",
      "['H2afy', 'Mpo', 'Calr', 'Ctsg', 'Prtn3', 'Gpx1', 'Arpc1b', 'Alas1', 'Mlec', 'Mapkapk2']\n",
      "==================== Component 1 (0.02981645241379738) ====================\n",
      "['Flt3', 'Gm7694', 'Myadm', 'Cd27', 'Rbpms', 'Ran', 'Gdi2', 'Cd79b', 'Parp1', 'Ptp4a3']\n",
      "['Fcgr3', 'Fam101b', 'Igsf6', 'Tmx4', 'Gfi1', 'Clint1', 'Elane', 'Naa25', 'Birc5', 'Far2']\n",
      "==================== Component 2 (0.026978902518749237) ====================\n",
      "['Pglyrp1', 'Cebpe', 'Kcnip3', 'Pam', 'Fut4', 'Car9', 'Trmt1', 'Sf3b1', 'Zfand2b', 'Mgam']\n",
      "['Zfp507', 'Mkrn1', 'Sdhb', 'Litaf', 'Cd99l2', 'Tbxa2r', 'Phf19', 'Ddit4', 'E2f4', 'Pkn2']\n",
      "\n"
     ]
    }
   ],
   "source": [
    "n_top_genes = 10\n",
    "for c in range(n_cell_types):\n",
    "\n",
    "    print(f\"Cell type {c}\")\n",
    "\n",
    "    vals, vecs = torch.linalg.eigh(b[c])\n",
    "    vals = vals.flip([0])\n",
    "    vecs = vecs.flip([1])\n",
    "\n",
    "    for i in range(3):  # top components\n",
    "        top_idxs = vecs[:,i].topk(n_top_genes).indices\n",
    "        top_genes = adata.var_names[top_idxs].tolist()\n",
    "        bottom_idxs = (-vecs[:,i]).topk(n_top_genes).indices\n",
    "        bottom_genes = adata.var_names[bottom_idxs].tolist()\n",
    "        print(\"=\"*20, f\"Component {i} ({vals[i]})\", \"=\"*20)\n",
    "        print(top_genes)\n",
    "        print(bottom_genes)\n",
    "    print()"
   ]
  },
  {
   "cell_type": "code",
   "execution_count": 21,
   "id": "8863b84d",
   "metadata": {},
   "outputs": [
    {
     "data": {
      "image/png": "[encoded data removed]",
      "text/plain": [
       "<Figure size 563x250 with 6 Axes>"
      ]
     },
     "metadata": {},
     "output_type": "display_data"
    }
   ],
   "source": [
    "# Plot again for reference\n",
    "sc.pl.rank_genes_groups_dotplot(adata, n_genes=3, cmap=\"Greys\")"
   ]
  },
  {
   "cell_type": "markdown",
   "id": "513243b5",
   "metadata": {},
   "source": [
    "Wow. It actually works?\n",
    "\n",
    "But marker genes are grouped on one side of a component.\n",
    "- What does the other side mean?\n",
    "- Explore analytically."
   ]
  },
  {
   "cell_type": "markdown",
   "id": "f8ad7426",
   "metadata": {},
   "source": [
    "## Plot cells in component space"
   ]
  },
  {
   "cell_type": "code",
   "execution_count": 22,
   "id": "f358b9ec",
   "metadata": {},
   "outputs": [
    {
     "data": {
      "application/vnd.plotly.v1+json": {
       "config": {
        "plotlyServerURL": "https://plot.ly"
       },
       "data": [
        {
         "hovertemplate": "color=0<br>x=%{x}<br>y=%{y}<extra></extra>",
         "legendgroup": "0",
         "marker": {
          "color": "#636efa",
          "size": 5,
          "symbol": "circle"
         },
         "mode": "markers",
         "name": "0",
         "showlegend": true,
         "type": "scattergl",
         "x": {
          "bdata": "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",
          "dtype": "f4"
         },
         "xaxis": "x",
         "y": {
          "bdata": "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",
          "dtype": "f4"
         },
         "yaxis": "y"
        },
        {
         "hovertemplate": "color=2<br>x=%{x}<br>y=%{y}<extra></extra>",
         "legendgroup": "2",
         "marker": {
          "color": "#EF553B",
          "size": 5,
          "symbol": "circle"
         },
         "mode": "markers",
         "name": "2",
         "showlegend": true,
         "type": "scattergl",
         "x": {
          "bdata": "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",
          "dtype": "f4"
         },
         "xaxis": "x",
         "y": {
          "bdata": "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",
          "dtype": "f4"
         },
         "yaxis": "y"
        },
        {
         "hovertemplate": "color=1<br>x=%{x}<br>y=%{y}<extra></extra>",
         "legendgroup": "1",
         "marker": {
          "color": "#00cc96",
          "size": 5,
          "symbol": "circle"
         },
         "mode": "markers",
         "name": "1",
         "showlegend": true,
         "type": "scattergl",
         "x": {
          "bdata": "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",
          "dtype": "f4"
         },
         "xaxis": "x",
         "y": {
          "bdata": "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",
          "dtype": "f4"
         },
         "yaxis": "y"
        }
       ],
       "layout": {
        "height": 600,
        "legend": {
         "title": {
          "text": "color"
         },
         "tracegroupgap": 0
        },
        "template": {
         "data": {
          "bar": [
           {
            "error_x": {
             "color": "#2a3f5f"
            },
            "error_y": {
             "color": "#2a3f5f"
            },
            "marker": {
             "line": {
              "color": "#E5ECF6",
              "width": 0.5
             },
             "pattern": {
              "fillmode": "overlay",
              "size": 10,
              "solidity": 0.2
             }
            },
            "type": "bar"
           }
          ],
          "barpolar": [
           {
            "marker": {
             "line": {
              "color": "#E5ECF6",
              "width": 0.5
             },
             "pattern": {
              "fillmode": "overlay",
              "size": 10,
              "solidity": 0.2
             }
            },
            "type": "barpolar"
           }
          ],
          "carpet": [
           {
            "aaxis": {
             "endlinecolor": "#2a3f5f",
             "gridcolor": "white",
             "linecolor": "white",
             "minorgridcolor": "white",
             "startlinecolor": "#2a3f5f"
            },
            "baxis": {
             "endlinecolor": "#2a3f5f",
             "gridcolor": "white",
             "linecolor": "white",
             "minorgridcolor": "white",
             "startlinecolor": "#2a3f5f"
            },
            "type": "carpet"
           }
          ],
          "choropleth": [
           {
            "colorbar": {
             "outlinewidth": 0,
             "ticks": ""
            },
            "type": "choropleth"
           }
          ],
          "contour": [
           {
            "colorbar": {
             "outlinewidth": 0,
             "ticks": ""
            },
            "colorscale": [
             [
              0,
              "#0d0887"
             ],
             [
              0.1111111111111111,
              "#46039f"
             ],
             [
              0.2222222222222222,
              "#7201a8"
             ],
             [
              0.3333333333333333,
              "#9c179e"
             ],
             [
              0.4444444444444444,
              "#bd3786"
             ],
             [
              0.5555555555555556,
              "#d8576b"
             ],
             [
              0.6666666666666666,
              "#ed7953"
             ],
             [
              0.7777777777777778,
              "#fb9f3a"
             ],
             [
              0.8888888888888888,
              "#fdca26"
             ],
             [
              1,
              "#f0f921"
             ]
            ],
            "type": "contour"
           }
          ],
          "contourcarpet": [
           {
            "colorbar": {
             "outlinewidth": 0,
             "ticks": ""
            },
            "type": "contourcarpet"
           }
          ],
          "heatmap": [
           {
            "colorbar": {
             "outlinewidth": 0,
             "ticks": ""
            },
            "colorscale": [
             [
              0,
              "#0d0887"
             ],
             [
              0.1111111111111111,
              "#46039f"
             ],
             [
              0.2222222222222222,
              "#7201a8"
             ],
             [
              0.3333333333333333,
              "#9c179e"
             ],
             [
              0.4444444444444444,
              "#bd3786"
             ],
             [
              0.5555555555555556,
              "#d8576b"
             ],
             [
              0.6666666666666666,
              "#ed7953"
             ],
             [
              0.7777777777777778,
              "#fb9f3a"
             ],
             [
              0.8888888888888888,
              "#fdca26"
             ],
             [
              1,
              "#f0f921"
             ]
            ],
            "type": "heatmap"
           }
          ],
          "histogram": [
           {
            "marker": {
             "pattern": {
              "fillmode": "overlay",
              "size": 10,
              "solidity": 0.2
             }
            },
            "type": "histogram"
           }
          ],
          "histogram2d": [
           {
            "colorbar": {
             "outlinewidth": 0,
             "ticks": ""
            },
            "colorscale": [
             [
              0,
              "#0d0887"
             ],
             [
              0.1111111111111111,
              "#46039f"
             ],
             [
              0.2222222222222222,
              "#7201a8"
             ],
             [
              0.3333333333333333,
              "#9c179e"
             ],
             [
              0.4444444444444444,
              "#bd3786"
             ],
             [
              0.5555555555555556,
              "#d8576b"
             ],
             [
              0.6666666666666666,
              "#ed7953"
             ],
             [
              0.7777777777777778,
              "#fb9f3a"
             ],
             [
              0.8888888888888888,
              "#fdca26"
             ],
             [
              1,
              "#f0f921"
             ]
            ],
            "type": "histogram2d"
           }
          ],
          "histogram2dcontour": [
           {
            "colorbar": {
             "outlinewidth": 0,
             "ticks": ""
            },
            "colorscale": [
             [
              0,
              "#0d0887"
             ],
             [
              0.1111111111111111,
              "#46039f"
             ],
             [
              0.2222222222222222,
              "#7201a8"
             ],
             [
              0.3333333333333333,
              "#9c179e"
             ],
             [
              0.4444444444444444,
              "#bd3786"
             ],
             [
              0.5555555555555556,
              "#d8576b"
             ],
             [
              0.6666666666666666,
              "#ed7953"
             ],
             [
              0.7777777777777778,
              "#fb9f3a"
             ],
             [
              0.8888888888888888,
              "#fdca26"
             ],
             [
              1,
              "#f0f921"
             ]
            ],
            "type": "histogram2dcontour"
           }
          ],
          "mesh3d": [
           {
            "colorbar": {
             "outlinewidth": 0,
             "ticks": ""
            },
            "type": "mesh3d"
           }
          ],
          "parcoords": [
           {
            "line": {
             "colorbar": {
              "outlinewidth": 0,
              "ticks": ""
             }
            },
            "type": "parcoords"
           }
          ],
          "pie": [
           {
            "automargin": true,
            "type": "pie"
           }
          ],
          "scatter": [
           {
            "fillpattern": {
             "fillmode": "overlay",
             "size": 10,
             "solidity": 0.2
            },
            "type": "scatter"
           }
          ],
          "scatter3d": [
           {
            "line": {
             "colorbar": {
              "outlinewidth": 0,
              "ticks": ""
             }
            },
            "marker": {
             "colorbar": {
              "outlinewidth": 0,
              "ticks": ""
             }
            },
            "type": "scatter3d"
           }
          ],
          "scattercarpet": [
           {
            "marker": {
             "colorbar": {
              "outlinewidth": 0,
              "ticks": ""
             }
            },
            "type": "scattercarpet"
           }
          ],
          "scattergeo": [
           {
            "marker": {
             "colorbar": {
              "outlinewidth": 0,
              "ticks": ""
             }
            },
            "type": "scattergeo"
           }
          ],
          "scattergl": [
           {
            "marker": {
             "colorbar": {
              "outlinewidth": 0,
              "ticks": ""
             }
            },
            "type": "scattergl"
           }
          ],
          "scattermap": [
           {
            "marker": {
             "colorbar": {
              "outlinewidth": 0,
              "ticks": ""
             }
            },
            "type": "scattermap"
           }
          ],
          "scattermapbox": [
           {
            "marker": {
             "colorbar": {
              "outlinewidth": 0,
              "ticks": ""
             }
            },
            "type": "scattermapbox"
           }
          ],
          "scatterpolar": [
           {
            "marker": {
             "colorbar": {
              "outlinewidth": 0,
              "ticks": ""
             }
            },
            "type": "scatterpolar"
           }
          ],
          "scatterpolargl": [
           {
            "marker": {
             "colorbar": {
              "outlinewidth": 0,
              "ticks": ""
             }
            },
            "type": "scatterpolargl"
           }
          ],
          "scatterternary": [
           {
            "marker": {
             "colorbar": {
              "outlinewidth": 0,
              "ticks": ""
             }
            },
            "type": "scatterternary"
           }
          ],
          "surface": [
           {
            "colorbar": {
             "outlinewidth": 0,
             "ticks": ""
            },
            "colorscale": [
             [
              0,
              "#0d0887"
             ],
             [
              0.1111111111111111,
              "#46039f"
             ],
             [
              0.2222222222222222,
              "#7201a8"
             ],
             [
              0.3333333333333333,
              "#9c179e"
             ],
             [
              0.4444444444444444,
              "#bd3786"
             ],
             [
              0.5555555555555556,
              "#d8576b"
             ],
             [
              0.6666666666666666,
              "#ed7953"
             ],
             [
              0.7777777777777778,
              "#fb9f3a"
             ],
             [
              0.8888888888888888,
              "#fdca26"
             ],
             [
              1,
              "#f0f921"
             ]
            ],
            "type": "surface"
           }
          ],
          "table": [
           {
            "cells": {
             "fill": {
              "color": "#EBF0F8"
             },
             "line": {
              "color": "white"
             }
            },
            "header": {
             "fill": {
              "color": "#C8D4E3"
             },
             "line": {
              "color": "white"
             }
            },
            "type": "table"
           }
          ]
         },
         "layout": {
          "annotationdefaults": {
           "arrowcolor": "#2a3f5f",
           "arrowhead": 0,
           "arrowwidth": 1
          },
          "autotypenumbers": "strict",
          "coloraxis": {
           "colorbar": {
            "outlinewidth": 0,
            "ticks": ""
           }
          },
          "colorscale": {
           "diverging": [
            [
             0,
             "#8e0152"
            ],
            [
             0.1,
             "#c51b7d"
            ],
            [
             0.2,
             "#de77ae"
            ],
            [
             0.3,
             "#f1b6da"
            ],
            [
             0.4,
             "#fde0ef"
            ],
            [
             0.5,
             "#f7f7f7"
            ],
            [
             0.6,
             "#e6f5d0"
            ],
            [
             0.7,
             "#b8e186"
            ],
            [
             0.8,
             "#7fbc41"
            ],
            [
             0.9,
             "#4d9221"
            ],
            [
             1,
             "#276419"
            ]
           ],
           "sequential": [
            [
             0,
             "#0d0887"
            ],
            [
             0.1111111111111111,
             "#46039f"
            ],
            [
             0.2222222222222222,
             "#7201a8"
            ],
            [
             0.3333333333333333,
             "#9c179e"
            ],
            [
             0.4444444444444444,
             "#bd3786"
            ],
            [
             0.5555555555555556,
             "#d8576b"
            ],
            [
             0.6666666666666666,
             "#ed7953"
            ],
            [
             0.7777777777777778,
             "#fb9f3a"
            ],
            [
             0.8888888888888888,
             "#fdca26"
            ],
            [
             1,
             "#f0f921"
            ]
           ],
           "sequentialminus": [
            [
             0,
             "#0d0887"
            ],
            [
             0.1111111111111111,
             "#46039f"
            ],
            [
             0.2222222222222222,
             "#7201a8"
            ],
            [
             0.3333333333333333,
             "#9c179e"
            ],
            [
             0.4444444444444444,
             "#bd3786"
            ],
            [
             0.5555555555555556,
             "#d8576b"
            ],
            [
             0.6666666666666666,
             "#ed7953"
            ],
            [
             0.7777777777777778,
             "#fb9f3a"
            ],
            [
             0.8888888888888888,
             "#fdca26"
            ],
            [
             1,
             "#f0f921"
            ]
           ]
          },
          "colorway": [
           "#636efa",
           "#EF553B",
           "#00cc96",
           "#ab63fa",
           "#FFA15A",
           "#19d3f3",
           "#FF6692",
           "#B6E880",
           "#FF97FF",
           "#FECB52"
          ],
          "font": {
           "color": "#2a3f5f"
          },
          "geo": {
           "bgcolor": "white",
           "lakecolor": "white",
           "landcolor": "#E5ECF6",
           "showlakes": true,
           "showland": true,
           "subunitcolor": "white"
          },
          "hoverlabel": {
           "align": "left"
          },
          "hovermode": "closest",
          "mapbox": {
           "style": "light"
          },
          "paper_bgcolor": "white",
          "plot_bgcolor": "#E5ECF6",
          "polar": {
           "angularaxis": {
            "gridcolor": "white",
            "linecolor": "white",
            "ticks": ""
           },
           "bgcolor": "#E5ECF6",
           "radialaxis": {
            "gridcolor": "white",
            "linecolor": "white",
            "ticks": ""
           }
          },
          "scene": {
           "xaxis": {
            "backgroundcolor": "#E5ECF6",
            "gridcolor": "white",
            "gridwidth": 2,
            "linecolor": "white",
            "showbackground": true,
            "ticks": "",
            "zerolinecolor": "white"
           },
           "yaxis": {
            "backgroundcolor": "#E5ECF6",
            "gridcolor": "white",
            "gridwidth": 2,
            "linecolor": "white",
            "showbackground": true,
            "ticks": "",
            "zerolinecolor": "white"
           },
           "zaxis": {
            "backgroundcolor": "#E5ECF6",
            "gridcolor": "white",
            "gridwidth": 2,
            "linecolor": "white",
            "showbackground": true,
            "ticks": "",
            "zerolinecolor": "white"
           }
          },
          "shapedefaults": {
           "line": {
            "color": "#2a3f5f"
           }
          },
          "ternary": {
           "aaxis": {
            "gridcolor": "white",
            "linecolor": "white",
            "ticks": ""
           },
           "baxis": {
            "gridcolor": "white",
            "linecolor": "white",
            "ticks": ""
           },
           "bgcolor": "#E5ECF6",
           "caxis": {
            "gridcolor": "white",
            "linecolor": "white",
            "ticks": ""
           }
          },
          "title": {
           "x": 0.05
          },
          "xaxis": {
           "automargin": true,
           "gridcolor": "white",
           "linecolor": "white",
           "ticks": "",
           "title": {
            "standoff": 15
           },
           "zerolinecolor": "white",
           "zerolinewidth": 2
          },
          "yaxis": {
           "automargin": true,
           "gridcolor": "white",
           "linecolor": "white",
           "ticks": "",
           "title": {
            "standoff": 15
           },
           "zerolinecolor": "white",
           "zerolinewidth": 2
          }
         }
        },
        "title": {
         "text": "Cell type 0"
        },
        "width": 600,
        "xaxis": {
         "anchor": "y",
         "domain": [
          0,
          1
         ],
         "title": {
          "text": "x"
         }
        },
        "yaxis": {
         "anchor": "x",
         "domain": [
          0,
          1
         ],
         "title": {
          "text": "y"
         }
        }
       }
      }
     },
     "metadata": {},
     "output_type": "display_data"
    },
    {
     "data": {
      "application/vnd.plotly.v1+json": {
       "config": {
        "plotlyServerURL": "https://plot.ly"
       },
       "data": [
        {
         "hovertemplate": "color=0<br>x=%{x}<br>y=%{y}<extra></extra>",
         "legendgroup": "0",
         "marker": {
          "color": "#636efa",
          "size": 5,
          "symbol": "circle"
         },
         "mode": "markers",
         "name": "0",
         "showlegend": true,
         "type": "scattergl",
         "x": {
          "bdata": "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",
          "dtype": "f4"
         },
         "xaxis": "x",
         "y": {
          "bdata": "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",
          "dtype": "f4"
         },
         "yaxis": "y"
        },
        {
         "hovertemplate": "color=2<br>x=%{x}<br>y=%{y}<extra></extra>",
         "legendgroup": "2",
         "marker": {
          "color": "#EF553B",
          "size": 5,
          "symbol": "circle"
         },
         "mode": "markers",
         "name": "2",
         "showlegend": true,
         "type": "scattergl",
         "x": {
          "bdata": "cx8TQerm20BrEwBBLZ3UQHyeuEDgwvlAaDIHQUlL5EDI4vVAwfbbQNkBIkE2zr9Ao8j8QBUSxUB8+g9BBlGmQE0oDkGzsPBAsp/7QHhuFEHgOrhAoNpJQPgHIUA6/tVA1YMIQJHO00B6HQRBTLsAQYbYFkECECRBt6n5QNmhFEG85whB9invQPDzG0EazuhAxNHlQBWNK0EY9+1Abr2ZQMDkDEGqkKVAUe+lQIL8qUC3Q/RAokPmQHpwxEChhdpAdPwOQRSP0kC/6qhAzSYRQVwwtkDjpwBBpKUCQSHex0C3a85ATEsGQQwA4kC8JPtAnP4DQURVr0BKQ4lASKvsQC/hB0G2oI9Ab7EgQdUExkAc+wFBEfyuQBUF1kBFcodAkGLVQLvC70CJDQNBpKTNQLLlDUFu1gFBtp3eQKSmKUG7NgdBrvL8QDSLyUD7vw9BY9syQYLB70AY+MNArKf4QHky9kAsStRA+E6NQNIsnkC9mr1Aemq6QIlRm0CIH7pACpKnQC3hDkG2WstAfvEKQcE36UDaHbhACWG7QDEoGEH7sDBBSR4mQUxp/EBMFeRAU8/NQCX5xkAENApB9v3PQFHJtkCeYclAKlrXQLnsDEHz3NNAagmkQEy+80AOfPNATA3YQCvWukBpxjBBPizaQB8d80AcFdVANKijQAEeCUG0JtNAa3qZQMit3EBGavpAw8y0QHWf5kDa7/hAwxSDQFv6+UAWyOpAVMmcQGwRmUBQxepA4KXeQOLXhUARibNArIUAQXT9BEHvq8ZAV7M6QSEasEDoU6ZAqBC2QIvYm0DsTdNAJkivQLRQ3UCbdP9AC2aGQNDcD0HTw/VA0R+IQL3eB0CowENBRw3wQFvfkUCVSuJARvRIQQ5g2UB2RQZBUvoVQQxAi0BgXiRBLp3bQEJCvEDuDf9AbK7jQI0bIUHO3M5A1x8zQQL82kB2iwJB1CgeQcX6tUCR3+ZAdn0yQTvkb0AvQLxAhEcHQcBykEBHehNB0M2xQLf76UDZ5wFBb7czQX52BkHRDqxAdLnGQP/BhUCsE49AtHvNQDisKEGpcaBAeXQeQUasBUHyNhRBSJLTQFkeE0EtmeFAtDS/QBeFvkA64bhA4HTgQC6Y3kA0m6NAus2qQAzlEEFMSAdBTWSWQI2610ChQQFB18PQQNWNvkCl9OhAYznmQCBCGkHy8PFAIVobQXoPuEA/7zlB+MCrQLADzkBPjKdAgGDHQLAK40BLU7FAJFjyQFNUJkG8MtRAeuXLQLP5zECcacpAWZarQI1GqUBDdd5A9nbcQGxl20DZ+XNAPPQIQYTrGUFVMdZAwLUCQQD06kA0qWBAOiTpQERGz0A6EJhA1j6/QC4OGUH3YYhANBSsQEcJsED3N5BAWXbLQO7grkCdMpNALaoGQYLwp0A7umZA2yQFQSRro0A8kelAaOIAQTQtGkHY1glBVCklQYH7sED1IftAil/FQCtC4kCwT95AafDnQKIL6UBYLdhA618UQQvtG0HxKwhBZO4UQEOQkUDnUNdA+AQfQdMbEUF93+NARqoNQXfWEUEUsCdBEvWbQOYIOEA7pSBBMHwJQZ0TAUHTl/VAGrPDQKj++UDjatxAzTHpQA+zfUAIz7BABYgZQcXedECEWPdAylatQFj0M0EsL9tAxO/vQPRpC0EEoUNBgKbzQATNBUGg2wNB4WBKQPfGAUHnPOtA/KoSQeDpgEBGA99AnTDjQGCfjUABKgtBbTjuQAN3sEBKNZ9A6ysBQQQPRkBycqFAIBgKQcDldUBdoutAKrz0QDUOgkDfS7hAfEcFQVZ6GUEzf9pAg57tQLPwv0AY0eJARW0EQWEI4UB8kttATQz7QMDVxUDWh8BAs5WUQOosEkGewI9AB+nQQJVhJ0Hg+OVA2ssEQejEiUDJzQhB9M/7QDsR1UCFbdtAcHwWQZ3DlECzUxJBou+vQOr2CkGXYO1A4DIpQaoKmEBeYAlBWIzzQCwmhUBZkcVArBHzQD9F8UDwibhAq9E9QZYBEkGfj51A3+z7QODmBEGMN5RAJ08QQcLlHkHjl5NAtxALQW7D90AuyQxB2rc1QXDv5kBWX5JAbIHIQHVfBEFNxwdB7mC2QIpLzUDv1ZxA86vcQGxCyUBsYDJBtg+SQBV3MEE6+PFAXLwDQYBml0Apr7tABa7JQKoozUCUsc9Auu0CQdbjDUGHgsBAlEbIQEb4xUBnSYlA3RK3QM6nC0FTuhBBRIcpQdptIkHodSBBQe5sQIrY8EAm+hFBtF08QWy3DkEpgPRAr60FQRmYPUHWZhtB46EJQY+BvkCW5xpB7r0EQdNHBkHd79hAAq7xQAoorkCkeK5AyDwTQSDvCEGnKsRAu5LGQHCAikBurexAdDXNQDL8LUEIU/VAIBsHQQT6p0BtIcdA3dnlQF7RB0FViN1AIYK3QJy67EA8ncJAjN66QErPCUEqngJB/lzdQLA8g0D2bzFBqOUIQZlY0UA8ArhAeJW0QHGgJUHOb1hAAImoQG/e3kDw4DlARBfnQKQfB0E0j6VAUQCiQIzC00C6HSFB5izsQJgZN0HDdMVA4VUQQciSxkCcltRAVonZQDTKFUHKjLVAA8wOQUigCUEsp/tAIRkZQYNcoEDUyAFBarvmQIxrn0CtY9BAWvzTQDrm6UDzAhFBUZMUQTiX3ECrcwlBnFnEQO4rz0CSxhFBfbIGQUgDWkBeNPRAjYL0QC9lr0Cml5hA2W65QIKYF0FlTMlAlK2cQPQgOEFhLNNAPtofQQA98EAhxNZABALwQETMd0ASlvxAmQ4MQcIAhUBN6w9By3IKQat9EEH6Y+lA1LySQCZe4EBSQnlA0KTYQGb7A0FGfNlAQ+0KQa2pBUHWtb5AWzMPQY7/1EBTy95AmlTXQJjnekCTkTBBAITKQEeeqkD/VLxAX/UGQbb7k0Bd84VA2nGdQCLVEUFhzIFASmiOQCx160B12ABBDES7QAxhs0DmtsFALSsJQRaTwEBdvwtBC5BTQL3tB0F3nbVAUm/wQH5ORUBKnbFAXmmWQD+eKUHUvLpAL2cyQUq//kDUE4hAdrjaQNGmC0GFz/VAyTgGQQYa5EB4jslAgJOGQBNhO0Fb0s9AXGwOQYU6G0Ft371A0PGxQHk56UCEXL9A0He2QFVhH0FIar9A3f+qQCvNAEEgryxBqDLRQJzqDEEJI9RA0goJQfLwwEDpuiRBwHMWQe3GEkHX0M5AljKSQDVd5kDo7ttAjczdQLYr+EBRispAigIMQUvcCEHBV+RAIeW1QGjmCEGffq5AlGzEQD2cE0Gn7cNAfCADQSFFL0DU6w1B4cD0QA3I/UCNtg1B5gsHQRpXFkFodu5AjRobQSja+kD+m41AKaUGQVa45EDb0ZRALKoJQdihiEAg+7dApGDYQJE26UC6h6ZAcIAFQQerJ0EN6B1B9G0XQXwNBUFE1ylAHu+mQBIzRkE8q8ZAdjK4QODu0UDEO9tAodoVQXufKEGUWyxB7ltaQeltM0FNwBpB1H4VQfPupEBHy+BAZNX9QMzfrUCm5NpATdCHQBVLqUDuYMJABV0KQQQLDkGjmNZAmny0QFKEoUCrdzlBhwSgQPTgBUGiseBA5qT2QBXH5kA3WPdACDbKQOT2AkEd7/pAwIQhQSgXx0DAJD1Bk68XQRa9uUBVN75ALZi9QJkmC0EaKj9Bq+IZQX4G10ADfB1B7UMWQVACFUEN4Q5B4XMLQRo//EBO1NdAIfsEQdKKtUB56vpACFseQZDW6ECdifBAobr2QFepj0DqPglB6t/TQJeU1UCfobdAiQnmQFql5kB2W+ZAog0IQT0rxEBglBtBBwz8QL2yhEBB+SBBOaV6QJRf30BLAiBBwYLBQMr9EkEw+r9AZ6nVQPfkX0BrAdBAxkXdQKpZAEH4wOlAYJ7UQHJvy0B6C9dAQa3OQFcFFUEaoABBf3omQcB67UDhCadAoN+UQEY36kCc4wpBzkAhQWaD1ED+07pAyMIIQevYyUBP3ZZAq8qcQBYY9kCeJoxAmO/sQOSBIEHgDuJAyTKvQPRJpkDnrDRBGmqEQHskBEEVHP5AyXEiQe4P7kB+fOxA+PwRQRhA+UCttLtAnoUKQT5e20BxhQ5BbPjhQJ6gxEBZorlAmDQPQcCArEBcNxRBJav7QHGA/kD7te5AEjXMQI5lEUHI0OdAv1eGQMtXJkGW9A5B6mEMQZeI0EC8499AiYAWQQ7BxED53b9AmpqQQEx/AkH52v1ARwDVQFLmEkHWbfBAL+qsQFoKtkC8IA5BSeQRQXX5IUEO4E5AjDvuQBUT70B4Y4JAyGz0QFxk4UA2yaVABprOQOxYGUFT+IlAGgyeQNz60EBPJ9VA8gbYQBN5LEAH3gJB4FUVQTkMFUE034JA5RbOQDriEkGVI8pA3jP6QGwSBUFkIZVAcloTQTIivUBgYAFBaHXiQBbq5kDOWAtB9a/mQARGxUDpWNxAzW6YQCGumED8XL9ASuuuQASGEUGsKytBlwHLQKYYlkAacQ5Bri4FQRSoAEGBvvxAkGCKQFD29kCBZ8xAFyigQPe6bECln75AF5YRQROxskBIwVhAETwLQUdIzkDgUdhAg/3dQHz26UAhKTNBbB8NQaAjF0FI6HBAVt0EQatct0DOSLlAof8CQQXqBEEkw7xAc3A1QaH2mUCrcwpBzqSpQJ16I0GcrOtAWgn1QKEmMEEhExpBVR/SQHRVw0DSIMpATsDKQJr5BUGbO7VAeDcbQSGboUD4EdlAOoKoQO2fCkGBzQFBNprtQDz0ukCm/KtAsmqsQO4ZfUClDddARvmNQJoRn0BTYpxAvlM+QYF7GEF/YRBBQh/iQFpMi0CYBgFBVXoTQXTb2UBUEf1AuI0JQQssE0EjGRxBI2spQQMx3kAkUw9B7eQAQQpOMkFGkQZBILWIQDaiv0AfhyZBNuCjQLDMC0F/O5FAzJjYQDqmvUA2m8tA4ruPQBLaOEFRid5A1ZSuQMbTBEE+WOlAN6HlQAu9rkCzpK1AyvYCQThwEkEEQ7lAuUUbQeFd30B3r7pAFthaQAeWbkBKl5BATd/jQKhG1UAfRDtBtb8EQUUHBEFf+AxBBGAYQdc9rUCHwEpAv5izQEeca0AXt6xAB+EmQcL+NECWmC9BkrBxQCxOqkAplLNA4bQ9QR7YxUA0wONAtWDmQP+QAkEOnj9AXkEZQabo0UBIATNAUzWNQA24B0FpjAZAWIfJQPB5JkH6mI9AFuB8QFRvu0DsYRxBQNTXQFQfBUFbDbVAvGrCQOF4x0DM5pxAwyvwQD5MKUEsiZ1AA7dAQOUYSkFi0gtBghzAQL2yLkGUIhNBtpa9QEwI0UDVQx5BiEH2QAAoc0ASNNlA+1P/QNPby0D6QOhALsTJQC/fukBVoKVACn67QIDApkD07m1AHPK4QE8GCkFrBZFAntKDQNxqZ0DKSCVBJgi0QMTZdEDzKhNBVgNDQdbiC0ELvfRAwvyRQL6OEEFJ1ZtAigyhQO+yuEAbGClBmPbdQKW1DUFiKblAzB4UQW7tyEAPngxB7Ci5QGkMoEAUwaFARrykQHIA4UDviQJBGxKgQJuyBUF2WMpAFfoiQbQNTkBE/Q1BRQfmQPUjvkBkyKVAvDupQKu9/UB38xJBt9BCQXVXJUHZteVAfBC/QAqFjEDe571Awn3vQCjslEBWH79Av0nGQJhMSkHi8RNB8t4DQQ==",
          "dtype": "f4"
         },
         "xaxis": "x",
         "y": {
          "bdata": "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",
          "dtype": "f4"
         },
         "yaxis": "y"
        },
        {
         "hovertemplate": "color=1<br>x=%{x}<br>y=%{y}<extra></extra>",
         "legendgroup": "1",
         "marker": {
          "color": "#00cc96",
          "size": 5,
          "symbol": "circle"
         },
         "mode": "markers",
         "name": "1",
         "showlegend": true,
         "type": "scattergl",
         "x": {
          "bdata": "KXVYwco+bsH7IhDBjT6hwNxTRMHwiirBXWRAwaZVO8HZcELBnMVRwYDoDcEUMivBewpBwZi1WsGl5CPBhG0pwWccIcEZuTrBYHJnwXHAEMFr+RfB9l4vwU5uT8GUiwzBOyA1wTOyQ8GuLwDBBR0xwW1KLMFMBkHB8Gdlwe0dTcFWdInAGEHUwGU6HsEp30PBNpxRwQcTL8Hurx7By/0ewewINcFUEHbAWwlDwSHrS8FHax3Bc3pjwazWZMGuaEXBBVg+wdEPDcHAKmLBKV9DwWayPcGmhCjBAr0AwSt62sAAFhvBUItCwWwLJMF5XjnBW68jwVLeH8GP4iLBcJRHwSrgWcHVQS/BXMpGweHGNsFf7CjB8vA+wcDZ6sDQuDDBmwI7wT5PK8Fk0hHBYsIWwQD6TMHgyfjAAGwwwfJSX8FhfEnBq4+ZwEupJcFah1nBKVrfwJbULMESFlbBsMNNwdLBX8B6SDzBT5QrwYBpMcGu8U7BdHs7wZg8IsEMADfB1gY3wcLEJcF4XiXB+pM8wSi2OMFrBTnBsHYXwVrfWcGbZybBhfk5wbV/JMHh8FrBWkVawfdIT8F16EXBmj1DwW1VDsGGmDzBqppIwVxjGMHuWzTBDg1MwR22M8Hy5UzBQuQfwQpSKsEG8D7BvlAzwcvZ+sBdmjHBTa41wQqhBcGlb0rBOIRDwfurJcGO0xHB2utCwcNyCsFmGjPBaswrwRiIGsHtg2zBDec+wfF/EcFtwgzBbXE3wVS4/cCvwD3BV+xRwWjr/8BIeyvBQO8PwXHTVMGNNjfBicUkwaynHsE4zSTBsEQhwV2uHMEHmy7Bg/v+wMiVX8FV3wLBlLhlweq8QMGHuT7B4OBGwY54UcGAsyDBEVJKwWXoRsE6NO7AXulTwa1UJsEzPB7BOIzYwDPr68Dr5izB45jxwLD4w8CNMzbBL75WwWDeW8GCmVTBrLQ2wcjpRMHEnxDBJVE/wbrf4sDP9BjBsqA2wRivPsGmsSTBKwD7wFkv98B9IVzBR7IpwTl0SsF4VxPBBB88wRlMWMHvsdzAQ9NJwfR3RcFQDD3BeEQVwRQeKsFStjHBTbtWwblSTsFctkjB9w4bwRjZPsGdXiXBcd1HwTEj9sCSzEjB3Bs9wVciP8FwyE7Bn+tTwfHT4sBhWDzBONvfwAqB3cCN5UfByUM1wY+BJcERBUXBseZWwb5CscCUBEHBc89Swcx8UcE+fQfBjsE/wUQFQsET4wvBMVgowW9RPsFjQzjB4Is4wStjNMFKezjBW7tKwb6ENcEK7DTBQUNMwXsDX8HpNU/BTUdawQqpJcF01FTBsvBIwcbdJcE8G0rBaNAxwRzDRMGhgV/BvjxlwdF+JMHKaCPBl21GwU389cA1ozDB1IRhwdegaMFsaD/BVr9Cwaz4DcHk3VTBKfFDwV9EKMGGiVHBdtsPwQyrVcGwePzAvR4owSBWT8HLgVfBAhJJwV5pDcFA8VnB9E87waR8LcFwclnB9NH9wIxkTcF+oy3BB5BTwYHMQ8EYuD3BzI32wH4kMsGUdDrBsMwwwarwpMAQa1PBDY1DwQVUTcFwiBnBSNMnwS7OLMESy1LBwJxMwdebI8EokEjBfCvXwPsIMcGcLivB94ABwYiKPcFmFT/B63XswCvIDcHzoETBGJNCwXw0ZcFLkGPB6uIqwSfQO8ExNSTBC+ZBwRCaLcEdw0rBIxxcwR+bWsHBQjzBC7tLweszX8HPUVfBTL0BwTAHQcH1yezAkbtAwWmGQsEWNVnBDQEwwSM5J8GqZELBQmhlwWUCRMEb9VjBsxwDwTaCX8EFlDfBvN9Awd7eMsFIg0PBnMBXwWIX1cAtq0LBUpdFwbYcT8E+EBbBXmAywUGSNMFW2FDBuNn5wKUrRMFi4lTBCQ8awSAcMMHM5xPBhFQkwUj8MsFdrzTBvPIkwXqsScFhYkzB7FUfwRLxOcHoJjbBbE83wT3oK8GMui/BFHNZwXr9FsH8MP7ADjA4waJBEMGpGRnBueE3wbHnTMHktjzB3NlOwTisV8H/CEzBT4c2wWSTYMEIeGrBxOtfwQu0R8GRkinBNz1cwfwKYMGuP1jBYhI/wbYQ+sDCHjfBThQewZ5cEMGzbGTBkHtkwSZFPME/vljBd2hHwV5ISMFuylzBb9hRwWmEKcGIozzBKkZVwVjyS8GETR/BctEgwS2LGcF5gTzBkI1CwQaFVME3zjLBls9LwYedHME5sQHB7vNNwcM7HMFiKO7AvpJcwVYmNsGwfkjBBsFIwdKPIMF1ATrBSoNOwW6vYcEwSCXB2fYuweInT8HT6zrBpOtYwdaPHsHg7d7AOYxBwfI2T8FOuQzBfTRSwUaf8cAAwQnBJIROwR9AzcAjcFjBbetfwRA6X8GRv1/BeCYVwfkmNsEtIw/BNWAywaP0NMFWNEjB6BxKwQpuXsFJ/1bBHFvpwIw6J8GR9ynByWFKwTej/sDKk03Ba9AkwepRXMEM20DBmkBHwUT3MsFDM1/BettGwUNs+MDuRU/BCfJbwWercsGlJk/BsEwBwcAESsFviAPBXgpRwVyHSMHQFFzBVxtZwcjEVsG1wEXB1uMtwapMRcEYAMbAmXxTwdaJJsHvxULBqgtUwc4cC8FtmCvBagTiwARUTsHxFADBF7I/wQnhSMH4EWjBdKBWwV/JSsH+Fl/BFtA6wdwNNsGckODAerxIwdscX8EPoSPBA2QswSLGVcFy5UbBZFJQwah4UME0nHPBgKBOwfCjQMHZfmDBntBOwbrMXsG+m0rBlmMhwUDBUcG2OPfAMAwlwdbh2cBZZFbBX9EzwXyyI8FLpV7BMlI9wQrRZMFv8gbBongKwS8vKMF6tfvA7AFiwUjtBcEdVBbBFL4wwZNuN8GURxnB+CZGwUrlOcFTNz7BlJrLwJ0TIsEPYRbBNMsHwbogPcER4FXBp6I4wcraKMEILjjBt/UgwTVjM8H3nlTBXqsXwbe0QsG7V0vBj7RIwd0lTcGtBVXBF4JTwT/hccE+8lnBVD1Nwe4zRsH1G1DB9nVOwajNWcGF1FXBYatAwbo0KcEyVjrBVqwHwQB2KcE7YCDB1iFbwdjCCMHUW+PAji5lwcYdB8ElTxPBgLoAwRZP1sAMgUTBN7JgwToVWsEpXmfBivtWwX+lWcEGrGnBdpNIwelOL8EabUnBpznzwL4kAMHEbEfBOCj1wDGuZ8HOdmbByC8fwYX8EMGA5CjB9zRYwUHkXsHrMU3BteFRwSkmTcFyCuTAVCJYwZr8QsH6uVrBtpxdwQK5G8EMcEXBv1tlwcdaQcGs8+7AgYk9wU3nScGMi0PB/kRKwadINMFLAj7BjXUjwWDXPMGhb1XBXXtYwXwCTMHCh03BJ8BcwQ4ADsG2/T/BrGduwfghXcFDY0XBudYjwVQJK8EQNBrBkiEaweerJcGrqj7BaaU7wXmmRsGMHjfB+xlewfYkScEdRzjBntFBwbauCcHMH0TB0z0CwclSKsETEljBfcEpwf+qWMGL3FTBaixawRfIScFlYgXBQ68ewRwGNcFAdVfB+mwLweTjR8EjPCrBLK9VwfjXP8FH2DDBkr9Nwd38QcEzAjDBolw+wbteA8HZPlLBiXZQwZyrP8H5okTB0m1cwaddRsEyql/BOLhfwYYSTME5wlnBSv1fwagqYMHrMUXBBKNCwSvuOcGWhQfB+VQvwZYA/cDcSiTB9CxSwbE5IMERnqHA3N87wbeeacHVVUnBHMtfwXTTUMHxuc3AsXkxwfG7wcBXYkTBOD1FwQs1DsGqshjBropkwWJLNMGGOwjBPd08wYcODsHw4zfBsl7owIU8ScGofy/BBlVIwc9YSMFAdFXB6p4wwfgq78CkUkfB2ncuwdoUScH5bzXBb6NawWTXKMEq9KzAL2xPwXZBQcFm/TTBqGFMwe3JU8FoXkvBIXc8wXUhQcHMREbBLPxFwT3AOcHsNDDB89gPweErQMGV+ljBUY9KwZ31QcH88kXBsfVKwb2+X8FljyfBGpxYwbwrE8HxDEHB84MCwSKGS8GC9F/B7nLpwLT7IMHEpUPBYHMywbUARMFAhlLBFglPweHOSMFy40/BJCBLwRbnZsHZpinBkIFdwcE7A8FogT3Btb05wZ5mC8FgOC/BXhk3waONJ8GE4zvBAOc3wfhqOMGfhrXAc7kfwYJnUMFWQlnBKpRJwQidasHqBkzB4YlRwVA9VMHyFyXBChw+wVLYVMFx1DrBA2dhwQY3P8HUMgvB5pEswWMAKMEZaUrBahJYwRNEKsGz40nBbWIMwWyoNsEBTkzB+ThpwWzPCcFlYDzBNpImwWm1M8FnGzbBIL9owb4cOcGokSnBcKhFwfnRKcHI5CbBTHhEwbPUccGYskbB9k9Kwa7RTcHKqmDBq4MnwR74I8FOGSvB3pkTwQqtS8F1uFjBHIPdwLKTVcFjVzHBqEqywG5nYME6q1HBBsxvwZTnNsGUnyHB2Nk9wRT5WsGwizbBmZNVwcR3H8FUiSrBk/vUwPY57cC3jlnB2LhFwb9BQsFqz7vAYrH8wAZlVsFl6VrBd2NHwfqMCMGb+/LAZBpewbsnPMHGvEfBfdYnwVrpWcEhnyTB6/I0wa4FOsG2KhHBnGg/wYE0Y8EkwWTBKtYRwX+2U8EtaB3BSjE3wZxJTsGqJi3B45guwZd7TcF9WDTBEwVRwZ3BScG6CA7BV/FVwUgZIsFTxy7B6cQ3wbIVIcFatynBW+wUwRoSx8B7VUjBFos5wWCpW8FVuEnBnhlawX7yU8HVIFrB1p8dwWzad8Ga6ELBIAdPwWkQPMG+XVXBIINMwb65VMG0ilLB8VJLwVb+csFseC7BVqHwwNF7P8EvDjDBOF5SwaYkIsH9mg7BvX0EwfPnS8HvOyDBZdkhwXafW8H0JVnBltlCwW0DSsHYzj3BDygewWk9KMFZZSvBSoJQwVTMPcFgtUrBAQMswbLyo8ABgDnBF3SwwK75McHRUhnBTCgpwQu5GcFqHqfAa8pQwfRYw8AKKUDBMvb8wB3bYsEE/F/Bg0MgwZAt7sCKfDPBo68KwXgLWcFuPBrBB29dwQ72FcFEME3B4jhGwSPDOsFH81bBUKlZwQ==",
          "dtype": "f4"
         },
         "xaxis": "x",
         "y": {
          "bdata": "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",
          "dtype": "f4"
         },
         "yaxis": "y"
        }
       ],
       "layout": {
        "height": 600,
        "legend": {
         "title": {
          "text": "color"
         },
         "tracegroupgap": 0
        },
        "template": {
         "data": {
          "bar": [
           {
            "error_x": {
             "color": "#2a3f5f"
            },
            "error_y": {
             "color": "#2a3f5f"
            },
            "marker": {
             "line": {
              "color": "#E5ECF6",
              "width": 0.5
             },
             "pattern": {
              "fillmode": "overlay",
              "size": 10,
              "solidity": 0.2
             }
            },
            "type": "bar"
           }
          ],
          "barpolar": [
           {
            "marker": {
             "line": {
              "color": "#E5ECF6",
              "width": 0.5
             },
             "pattern": {
              "fillmode": "overlay",
              "size": 10,
              "solidity": 0.2
             }
            },
            "type": "barpolar"
           }
          ],
          "carpet": [
           {
            "aaxis": {
             "endlinecolor": "#2a3f5f",
             "gridcolor": "white",
             "linecolor": "white",
             "minorgridcolor": "white",
             "startlinecolor": "#2a3f5f"
            },
            "baxis": {
             "endlinecolor": "#2a3f5f",
             "gridcolor": "white",
             "linecolor": "white",
             "minorgridcolor": "white",
             "startlinecolor": "#2a3f5f"
            },
            "type": "carpet"
           }
          ],
          "choropleth": [
           {
            "colorbar": {
             "outlinewidth": 0,
             "ticks": ""
            },
            "type": "choropleth"
           }
          ],
          "contour": [
           {
            "colorbar": {
             "outlinewidth": 0,
             "ticks": ""
            },
            "colorscale": [
             [
              0,
              "#0d0887"
             ],
             [
              0.1111111111111111,
              "#46039f"
             ],
             [
              0.2222222222222222,
              "#7201a8"
             ],
             [
              0.3333333333333333,
              "#9c179e"
             ],
             [
              0.4444444444444444,
              "#bd3786"
             ],
             [
              0.5555555555555556,
              "#d8576b"
             ],
             [
              0.6666666666666666,
              "#ed7953"
             ],
             [
              0.7777777777777778,
              "#fb9f3a"
             ],
             [
              0.8888888888888888,
              "#fdca26"
             ],
             [
              1,
              "#f0f921"
             ]
            ],
            "type": "contour"
           }
          ],
          "contourcarpet": [
           {
            "colorbar": {
             "outlinewidth": 0,
             "ticks": ""
            },
            "type": "contourcarpet"
           }
          ],
          "heatmap": [
           {
            "colorbar": {
             "outlinewidth": 0,
             "ticks": ""
            },
            "colorscale": [
             [
              0,
              "#0d0887"
             ],
             [
              0.1111111111111111,
              "#46039f"
             ],
             [
              0.2222222222222222,
              "#7201a8"
             ],
             [
              0.3333333333333333,
              "#9c179e"
             ],
             [
              0.4444444444444444,
              "#bd3786"
             ],
             [
              0.5555555555555556,
              "#d8576b"
             ],
             [
              0.6666666666666666,
              "#ed7953"
             ],
             [
              0.7777777777777778,
              "#fb9f3a"
             ],
             [
              0.8888888888888888,
              "#fdca26"
             ],
             [
              1,
              "#f0f921"
             ]
            ],
            "type": "heatmap"
           }
          ],
          "histogram": [
           {
            "marker": {
             "pattern": {
              "fillmode": "overlay",
              "size": 10,
              "solidity": 0.2
             }
            },
            "type": "histogram"
           }
          ],
          "histogram2d": [
           {
            "colorbar": {
             "outlinewidth": 0,
             "ticks": ""
            },
            "colorscale": [
             [
              0,
              "#0d0887"
             ],
             [
              0.1111111111111111,
              "#46039f"
             ],
             [
              0.2222222222222222,
              "#7201a8"
             ],
             [
              0.3333333333333333,
              "#9c179e"
             ],
             [
              0.4444444444444444,
              "#bd3786"
             ],
             [
              0.5555555555555556,
              "#d8576b"
             ],
             [
              0.6666666666666666,
              "#ed7953"
             ],
             [
              0.7777777777777778,
              "#fb9f3a"
             ],
             [
              0.8888888888888888,
              "#fdca26"
             ],
             [
              1,
              "#f0f921"
             ]
            ],
            "type": "histogram2d"
           }
          ],
          "histogram2dcontour": [
           {
            "colorbar": {
             "outlinewidth": 0,
             "ticks": ""
            },
            "colorscale": [
             [
              0,
              "#0d0887"
             ],
             [
              0.1111111111111111,
              "#46039f"
             ],
             [
              0.2222222222222222,
              "#7201a8"
             ],
             [
              0.3333333333333333,
              "#9c179e"
             ],
             [
              0.4444444444444444,
              "#bd3786"
             ],
             [
              0.5555555555555556,
              "#d8576b"
             ],
             [
              0.6666666666666666,
              "#ed7953"
             ],
             [
              0.7777777777777778,
              "#fb9f3a"
             ],
             [
              0.8888888888888888,
              "#fdca26"
             ],
             [
              1,
              "#f0f921"
             ]
            ],
            "type": "histogram2dcontour"
           }
          ],
          "mesh3d": [
           {
            "colorbar": {
             "outlinewidth": 0,
             "ticks": ""
            },
            "type": "mesh3d"
           }
          ],
          "parcoords": [
           {
            "line": {
             "colorbar": {
              "outlinewidth": 0,
              "ticks": ""
             }
            },
            "type": "parcoords"
           }
          ],
          "pie": [
           {
            "automargin": true,
            "type": "pie"
           }
          ],
          "scatter": [
           {
            "fillpattern": {
             "fillmode": "overlay",
             "size": 10,
             "solidity": 0.2
            },
            "type": "scatter"
           }
          ],
          "scatter3d": [
           {
            "line": {
             "colorbar": {
              "outlinewidth": 0,
              "ticks": ""
             }
            },
            "marker": {
             "colorbar": {
              "outlinewidth": 0,
              "ticks": ""
             }
            },
            "type": "scatter3d"
           }
          ],
          "scattercarpet": [
           {
            "marker": {
             "colorbar": {
              "outlinewidth": 0,
              "ticks": ""
             }
            },
            "type": "scattercarpet"
           }
          ],
          "scattergeo": [
           {
            "marker": {
             "colorbar": {
              "outlinewidth": 0,
              "ticks": ""
             }
            },
            "type": "scattergeo"
           }
          ],
          "scattergl": [
           {
            "marker": {
             "colorbar": {
              "outlinewidth": 0,
              "ticks": ""
             }
            },
            "type": "scattergl"
           }
          ],
          "scattermap": [
           {
            "marker": {
             "colorbar": {
              "outlinewidth": 0,
              "ticks": ""
             }
            },
            "type": "scattermap"
           }
          ],
          "scattermapbox": [
           {
            "marker": {
             "colorbar": {
              "outlinewidth": 0,
              "ticks": ""
             }
            },
            "type": "scattermapbox"
           }
          ],
          "scatterpolar": [
           {
            "marker": {
             "colorbar": {
              "outlinewidth": 0,
              "ticks": ""
             }
            },
            "type": "scatterpolar"
           }
          ],
          "scatterpolargl": [
           {
            "marker": {
             "colorbar": {
              "outlinewidth": 0,
              "ticks": ""
             }
            },
            "type": "scatterpolargl"
           }
          ],
          "scatterternary": [
           {
            "marker": {
             "colorbar": {
              "outlinewidth": 0,
              "ticks": ""
             }
            },
            "type": "scatterternary"
           }
          ],
          "surface": [
           {
            "colorbar": {
             "outlinewidth": 0,
             "ticks": ""
            },
            "colorscale": [
             [
              0,
              "#0d0887"
             ],
             [
              0.1111111111111111,
              "#46039f"
             ],
             [
              0.2222222222222222,
              "#7201a8"
             ],
             [
              0.3333333333333333,
              "#9c179e"
             ],
             [
              0.4444444444444444,
              "#bd3786"
             ],
             [
              0.5555555555555556,
              "#d8576b"
             ],
             [
              0.6666666666666666,
              "#ed7953"
             ],
             [
              0.7777777777777778,
              "#fb9f3a"
             ],
             [
              0.8888888888888888,
              "#fdca26"
             ],
             [
              1,
              "#f0f921"
             ]
            ],
            "type": "surface"
           }
          ],
          "table": [
           {
            "cells": {
             "fill": {
              "color": "#EBF0F8"
             },
             "line": {
              "color": "white"
             }
            },
            "header": {
             "fill": {
              "color": "#C8D4E3"
             },
             "line": {
              "color": "white"
             }
            },
            "type": "table"
           }
          ]
         },
         "layout": {
          "annotationdefaults": {
           "arrowcolor": "#2a3f5f",
           "arrowhead": 0,
           "arrowwidth": 1
          },
          "autotypenumbers": "strict",
          "coloraxis": {
           "colorbar": {
            "outlinewidth": 0,
            "ticks": ""
           }
          },
          "colorscale": {
           "diverging": [
            [
             0,
             "#8e0152"
            ],
            [
             0.1,
             "#c51b7d"
            ],
            [
             0.2,
             "#de77ae"
            ],
            [
             0.3,
             "#f1b6da"
            ],
            [
             0.4,
             "#fde0ef"
            ],
            [
             0.5,
             "#f7f7f7"
            ],
            [
             0.6,
             "#e6f5d0"
            ],
            [
             0.7,
             "#b8e186"
            ],
            [
             0.8,
             "#7fbc41"
            ],
            [
             0.9,
             "#4d9221"
            ],
            [
             1,
             "#276419"
            ]
           ],
           "sequential": [
            [
             0,
             "#0d0887"
            ],
            [
             0.1111111111111111,
             "#46039f"
            ],
            [
             0.2222222222222222,
             "#7201a8"
            ],
            [
             0.3333333333333333,
             "#9c179e"
            ],
            [
             0.4444444444444444,
             "#bd3786"
            ],
            [
             0.5555555555555556,
             "#d8576b"
            ],
            [
             0.6666666666666666,
             "#ed7953"
            ],
            [
             0.7777777777777778,
             "#fb9f3a"
            ],
            [
             0.8888888888888888,
             "#fdca26"
            ],
            [
             1,
             "#f0f921"
            ]
           ],
           "sequentialminus": [
            [
             0,
             "#0d0887"
            ],
            [
             0.1111111111111111,
             "#46039f"
            ],
            [
             0.2222222222222222,
             "#7201a8"
            ],
            [
             0.3333333333333333,
             "#9c179e"
            ],
            [
             0.4444444444444444,
             "#bd3786"
            ],
            [
             0.5555555555555556,
             "#d8576b"
            ],
            [
             0.6666666666666666,
             "#ed7953"
            ],
            [
             0.7777777777777778,
             "#fb9f3a"
            ],
            [
             0.8888888888888888,
             "#fdca26"
            ],
            [
             1,
             "#f0f921"
            ]
           ]
          },
          "colorway": [
           "#636efa",
           "#EF553B",
           "#00cc96",
           "#ab63fa",
           "#FFA15A",
           "#19d3f3",
           "#FF6692",
           "#B6E880",
           "#FF97FF",
           "#FECB52"
          ],
          "font": {
           "color": "#2a3f5f"
          },
          "geo": {
           "bgcolor": "white",
           "lakecolor": "white",
           "landcolor": "#E5ECF6",
           "showlakes": true,
           "showland": true,
           "subunitcolor": "white"
          },
          "hoverlabel": {
           "align": "left"
          },
          "hovermode": "closest",
          "mapbox": {
           "style": "light"
          },
          "paper_bgcolor": "white",
          "plot_bgcolor": "#E5ECF6",
          "polar": {
           "angularaxis": {
            "gridcolor": "white",
            "linecolor": "white",
            "ticks": ""
           },
           "bgcolor": "#E5ECF6",
           "radialaxis": {
            "gridcolor": "white",
            "linecolor": "white",
            "ticks": ""
           }
          },
          "scene": {
           "xaxis": {
            "backgroundcolor": "#E5ECF6",
            "gridcolor": "white",
            "gridwidth": 2,
            "linecolor": "white",
            "showbackground": true,
            "ticks": "",
            "zerolinecolor": "white"
           },
           "yaxis": {
            "backgroundcolor": "#E5ECF6",
            "gridcolor": "white",
            "gridwidth": 2,
            "linecolor": "white",
            "showbackground": true,
            "ticks": "",
            "zerolinecolor": "white"
           },
           "zaxis": {
            "backgroundcolor": "#E5ECF6",
            "gridcolor": "white",
            "gridwidth": 2,
            "linecolor": "white",
            "showbackground": true,
            "ticks": "",
            "zerolinecolor": "white"
           }
          },
          "shapedefaults": {
           "line": {
            "color": "#2a3f5f"
           }
          },
          "ternary": {
           "aaxis": {
            "gridcolor": "white",
            "linecolor": "white",
            "ticks": ""
           },
           "baxis": {
            "gridcolor": "white",
            "linecolor": "white",
            "ticks": ""
           },
           "bgcolor": "#E5ECF6",
           "caxis": {
            "gridcolor": "white",
            "linecolor": "white",
            "ticks": ""
           }
          },
          "title": {
           "x": 0.05
          },
          "xaxis": {
           "automargin": true,
           "gridcolor": "white",
           "linecolor": "white",
           "ticks": "",
           "title": {
            "standoff": 15
           },
           "zerolinecolor": "white",
           "zerolinewidth": 2
          },
          "yaxis": {
           "automargin": true,
           "gridcolor": "white",
           "linecolor": "white",
           "ticks": "",
           "title": {
            "standoff": 15
           },
           "zerolinecolor": "white",
           "zerolinewidth": 2
          }
         }
        },
        "title": {
         "text": "Cell type 1"
        },
        "width": 600,
        "xaxis": {
         "anchor": "y",
         "domain": [
          0,
          1
         ],
         "title": {
          "text": "x"
         }
        },
        "yaxis": {
         "anchor": "x",
         "domain": [
          0,
          1
         ],
         "title": {
          "text": "y"
         }
        }
       }
      }
     },
     "metadata": {},
     "output_type": "display_data"
    },
    {
     "data": {
      "application/vnd.plotly.v1+json": {
       "config": {
        "plotlyServerURL": "https://plot.ly"
       },
       "data": [
        {
         "hovertemplate": "color=0<br>x=%{x}<br>y=%{y}<extra></extra>",
         "legendgroup": "0",
         "marker": {
          "color": "#636efa",
          "size": 5,
          "symbol": "circle"
         },
         "mode": "markers",
         "name": "0",
         "showlegend": true,
         "type": "scattergl",
         "x": {
          "bdata": "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",
          "dtype": "f4"
         },
         "xaxis": "x",
         "y": {
          "bdata": "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",
          "dtype": "f4"
         },
         "yaxis": "y"
        },
        {
         "hovertemplate": "color=2<br>x=%{x}<br>y=%{y}<extra></extra>",
         "legendgroup": "2",
         "marker": {
          "color": "#EF553B",
          "size": 5,
          "symbol": "circle"
         },
         "mode": "markers",
         "name": "2",
         "showlegend": true,
         "type": "scattergl",
         "x": {
          "bdata": "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",
          "dtype": "f4"
         },
         "xaxis": "x",
         "y": {
          "bdata": "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",
          "dtype": "f4"
         },
         "yaxis": "y"
        },
        {
         "hovertemplate": "color=1<br>x=%{x}<br>y=%{y}<extra></extra>",
         "legendgroup": "1",
         "marker": {
          "color": "#00cc96",
          "size": 5,
          "symbol": "circle"
         },
         "mode": "markers",
         "name": "1",
         "showlegend": true,
         "type": "scattergl",
         "x": {
          "bdata": "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",
          "dtype": "f4"
         },
         "xaxis": "x",
         "y": {
          "bdata": "ffaNv6vaxb8KvYM+igq4vufnbL+v5Sm/iPMAvyBeML+TAQq/gm33vX7k773y7QG/qN/PPqqcsL9q15C+lg3uvqXKPr9M9qQ+3GCfvg8tij6YyDu/wIZzvx0pHcAVQdU+vggDP8A9Gb8voBK/dtGQv+6YVb8IyWO/L1wpP3ZdAb/Pbtw/wyzMv105PD+tCOG/ZCTGvWHmGsDA0aW9HMydvtIXrb8ZwyW/vSWsv8iHSr/CSOA+uiJsvxodnL8bOHe/w1t7PpuTOr/i1Uu/YHQUv+SlkL/IT8C+xyhQv4QpX75el8C/28y4vqxsdL6SLJ6/OZ9Gv4fkh7++OdW+hhwEv89bPj57d4K/JT9lP55UAb5gGAw9z8sYP7b4hL85faa/SoQdv8B6wb962oe+PoWCvx+11b5Zuai9S305v98A17+Z7ZS/sEyCvCqfz77okZ+/4h6JPgLHtb7yiIO/2Yr9v4imTz/qj+y/NrJqv+1IiL/u24W/8Hl3vy0Gg78JoAHA/XHTvz2z4r6FvUK+2nqcvkkUIj7eegq/z4ALvxhBcr8l0C+/PmYiwBeu3L633xjAYLEkv7g9RL+e1b2+jKN+v+Xv4j5ZXk+/tNotP4OANr9cLMa+1fLDv2y2Er+PZo2/NE+Wvpwl+b6EOga/FLzgv+vHYL9zW4O+qx2qvgZwZ79w7Ei/12p8v9uoFb74oV6/865Dv3szEL+qsca+vKKCv7A2q793Z3S/3nKLPnauQ7+lhIi/lKJ/vxhdDsCsudC+UpVRv2rEn70iYQ2/7eAiv7qHZr8tioW/eGwOP0zo6j5+1LG+SqcSv+ddhb8kuSm/X5OBPvObVL/MQD0+4i46v4TT47+oIxTA+i/Dv/ppqr5MEE4/H0aavyL5V72nE8I+M48HwNJEsj6QQpW/9/n7PtBPaz/Appm/PO3KvXwNRj84Lxm9EDegPMfhBsDwUKS/ROHYPem0f78uZZ6+Fpaqv5AIVL/cz3m/hMDYvhlbDsCRg42/uiuKPgbZT781qy+/r9LdvsHVWb6A9yG/ym1Sv7I+nr9Oq4y/wIkYvcGGTb+CK7e+jSMhv15MQ7+84aO/TynlvyzCrb4pwUq/onA5vwzRP78Eqn8+Jv2avrgs6r5id56/dehsv+jcP79fvfW+b1R/v36NRj/cpo2/blZMvyPZ+r7oagQ/cXTbv3D2rr6jb4S/1+aFvwXvW78KrfK/jbbsviwck7+eWpK/tyeGvwKfqD4W0SY+/NxOPcZN17+BHg++wO2Lv93Skz6pjC+/3/p2P3hgQ792ydG/OtNIv7xWwb0A7Ci+Fvy+v7JkNr6yxOm+RQmvvpgnxb68sAO/ogSXvwXkkL+80sO/ON7tvgaIXr24B46/RQ7Cv4amiL5u61q/Fcq1v5zAmr/+pF0/PPGqvexMd77EmY+/SkIdP3moE8D8low+S1KAvhocFr8iZA4/9ud5PoqKJb+m0oW/PUwCvwSHir9nTNm/RJuwv/pYaL926Pu/EnyEv4H1xL/8cHO/aAQdv/qkBj8sMXS+CB6ZPezYU74KJ26/gKuou8leAz8+nbO/Vsuav3ZaJr9drzG/JDvBv3iHxr+rjKm/mLrqveSI7rzs5ZC/hgfKv5aLtL9cp2a/2hu2vytlhb+mh1+/8toUPxIA4b1MX2e/nlSHv7Uy8798iNO/etf1vozZqb+Lb44+KhmKv9agp7/vAmW/REchwIMhb7+sZpi+hTDFvqfy5L9oqxLACuopPvgFcb/GdUq/Um0Uv/7ik79kUnW/eJPDPr1b+75mO62/NpAvwGxl079rEZm/78K5vgGBh71TrZS/vfXFv+aeRL807Mi/Z8W0vy+V0j4qnrW/CDVIv1iQb74nRFA+9QKGv5BHE7+AzqC6cIcqv+LdCj+wwIM+FkODv4H2t789u5K/eJ3ePGyOWL9AhOG9o2Gwv1jSo78sWCq/yUAFPyJ7rL8p/0a+rfHTv+sfSL9iQGS/Gy0VwMhgGr8xbkHAAprAv7bZzr7a+ga/GWEhv9xDpr+KwhPAyG0Rv6rqa7+hOfq+COXFv/2NVr+S7Ki/mBY1vzS427/0/Ua/DYQawPyrib/cEE+/yjD8voRKtr4cISU+yLeOP1UyMb5OM6A9eb9sv3l/Wr+IOMO/gvd2v8E1S7+Pw1K/58qmv0kKeb8yxa2+hPLGvzPcw79wC9488kzmvSj48j4B9EK/2NBQv/Dvur9Q2H0+lgKhv9H8Cz/oR/C9ofJQv4hBkb9cEAm/LMWAvwF/4L86ZSU+UQXsv7oODr8FtAq/5ZmPPuSC9L+vQQi/N87fvldgG7+oSvi/eGyRv4oBnb+gyFe/eOLcvjlwz72d41K/CrN5vz5Zrb980X++uHp8vwDvk7xz6xW/BVR9v05rmL9qN1+/A+qBPlv6mT4tC48/yzvGv72AnT7CeQy/Mm14v8Kkp7/sxRu/t1u0vn1as7+toqG+J6EgwN3L8T+JXRS/Pu/Dv6aHCz0I1pa/t2G6v+amGz6k6o+/uIvKviJsJj827Vy/YvO3vx17G8A9SsC/dd6XPqirqb92R0a/iRC9PWQqZb8Oedm/RqF/Pn2A0b/arNS/u6SZPzAMSzwbibg/YmrJv1Pt9b8qE1o+uuyNvsW3rT6ofae+8it+P1QOUL9vwCm+ukezv2O4Vb/AYLi+uvlkvR5air9uPBDAshL1PWYeZ74cgig+fKg/v1Ra/b30taS/npAcv0JSyb8Rb3m/R2/xvg/rVr+kNSHAtxtFvzonar6Slra/Q+2+v3BwD8A8DFW/FrVfP7txqL8bDUw+FF/ZvcQ/nz1zGUS/bae1voYInz4YAZK/JlQkwDpg/L+RGAnAQCEHv3SXuL4+lMU+mRINwIDp676l0u2/dGDEvtHX7r7WKi0/qLRWv1j2RL+e/RjAXMKvvfOxpL0aWXg+jJ3SPowUlr8uTh6/PmjDv/hBrr9B5KO+5wG9PhjrwL9EOIa+RorQv1t9Ar9gUW+94Cr0vX47Yb9g/pS/V8K3vsen6r/rHaC/UskovvPG/79Li1e/nBo9vybB1r/l31e/BHewv+TUU7767yq/NJcPvvyR8L5i/J6/HdjHvyppZr/p7lC/o+/wvyyzcr++bcu/hCFsvsBSiL8jmK+/TX/Pv9DJ/L9VeDe/qgCGvx4YXb9qV42/8nq1vx58U76Athc9N0hZPuSCpL8BATG/p1n8vg0Kpr9Cloe/EFk7PbOmDr+8Oem+3j4uwBq7G8CuQUu+EwxNvwSyAr2Evyc/lIi4vtGquT4N+v6/Oajrv+9LJT9yB5C/WJaPv/FZAsCIzmY/A7DXvuh7t7+c3t+/s2lPv+OHqb8g+Xq/nxaGvlWPjr/zn1i/6U4wvjrQgL+8D5e/8EmHv2gf5r55IYi/GT+fv5zJ57/52qC+kJyHPsCXk7+/xIs/mJydP8mbhb9G2+E+VvhevpzNEr8SANC/QlBRv0n0yr8iSBO/YqBZvyAe5b2/j+2/39ChPx2/Or5QlF6/kUskP+woHcBYwaG/WvukvnKJW78c/nS+GuVev7OJQj/3hSu/uBJUP27OJ7+49oy/6Hunv6MSQ788OrS/GP10vpi9xb+kK3+/xgplPvCBwry0a0e/nhvmv0Tmor933gnAtpHyvxGQHL8vc7e/YV3/vzS7eb8rQne/5sf5vmDtor9AFVC/0KXUvGThUr84tdU9aYrovhy8172bTHW/sAP0vleeOT9lnMg+axdqv4Xetb8U7FK/oFqlv0RXkb/f5oA+Lk0+vxbYg75Adou+CAEKwOLvmL/8APW+eFcbvxJHTb/MtUy/ch6XPuIyy7/TwHK+nMOCP45IjL6cHPi+eoXdv3zICD7kysW/7FfxvxrPcz5CI0G+xQUlwP3O1L/0XW2/wAWRv18LeL6m6/i/h8JDvyQZOL9O/IS+7YKYv8h+DsCcjMa/EX0sv+I2S79AN4S9ud2Av0tDqb/oCQ6/0DDQPirxEMCjCUG/UNr+vxmsrL9ERcO/04spv/oX/79VJdW+tHGav8JfS75gW5W/k9KEv4DlDb9ZHe2/hbUjPqVLST+kXn09vwwlvqTMXL9SQUa/FSKRv2Eodr9RmoG/7wfzvgedzL/xKcE+wou6v+X8xb6iGizAw8qNv+vEgD7zztG/TLr7vxAE3L4cE4y/SqiFvxleZ79UEdI+8JxHv0P9LsB3zAK/Vuntv3DAk7/UvKq/Qsh0v8a97L/ut8C+9smJvy/Wvr8AptC/RDi8v76WoL/50ym/Ttnyvzo9IL5USgI/n8OIv/dG1L8up9y//peHP66MAMCoEMC/2oucvxdVIL87Keg+gitlv/uP979IymG/HMEBvwVGyzynkgm/UpTpPj47pb9CBpi//uSVv6Ljrr/4kCHAwgMwvy9Jdb8Y0tO/Xiw2v4vEhD72+yi/0Bv7PQd9jb+71rS+rpPCv0R0vL+4cNy/6Ax0vaqDxL9WEtm/4A8cwBOSgr84hzI/daZevwEe7r+bAWW/1DpYv5iVn7/g7D89aBzsPeJslz7oxT4+G4evvyBbVL++rSK/cGudPeagir9sJhrAFC6Gvgykcz0E4e2+p45lvgOiRL+OfZW/8zkNv3eEmb/xc6G+5hcfvz3+uL9X3uq+Tyvpv2Rvj7/BRLW/iIPBvrK9Vb9IpgG/uQ6sPiyMxT0qtUu/wJorv3LKoD5gik+/St6+v3rwcb8YUVq/jl7jv9t2A7+QOQnASeQDvievjj+iVqe/Vb4sPijuV78q5Lq/4wo1vrDlZL8yX7m/suafv0MyBb8695y+JGNDv02qHsC20Uo9r2uTvyQbzL8o4gnAoCyHv1ycQr+gDeY+Hgv5vw6iub9lfRTAGPMiPheH97+Nk5w+pLwbv0xIlL9A+6G8hLFOvjHCBr9SGew+K/SBvjrGrL6Z9JS/EZeLv84VFb8obs+/2kS6vRJiTL9aT2e/4qPQv1O5f79DRcO/Ll/4Pi1f678Is/Q9iCoCPiSIZL5g4YE/nSknvyxt4T40ray/2ctBv8rGDkBKauW/HpFCv2wT3r+oU82/wlSSv3Yx1j+kAfK/JZYOvn//5r6GyZy++s1BwKKuUT0qt8O/a4UNvwFRi79cVoi/W32Kvw==",
          "dtype": "f4"
         },
         "yaxis": "y"
        }
       ],
       "layout": {
        "height": 600,
        "legend": {
         "title": {
          "text": "color"
         },
         "tracegroupgap": 0
        },
        "template": {
         "data": {
          "bar": [
           {
            "error_x": {
             "color": "#2a3f5f"
            },
            "error_y": {
             "color": "#2a3f5f"
            },
            "marker": {
             "line": {
              "color": "#E5ECF6",
              "width": 0.5
             },
             "pattern": {
              "fillmode": "overlay",
              "size": 10,
              "solidity": 0.2
             }
            },
            "type": "bar"
           }
          ],
          "barpolar": [
           {
            "marker": {
             "line": {
              "color": "#E5ECF6",
              "width": 0.5
             },
             "pattern": {
              "fillmode": "overlay",
              "size": 10,
              "solidity": 0.2
             }
            },
            "type": "barpolar"
           }
          ],
          "carpet": [
           {
            "aaxis": {
             "endlinecolor": "#2a3f5f",
             "gridcolor": "white",
             "linecolor": "white",
             "minorgridcolor": "white",
             "startlinecolor": "#2a3f5f"
            },
            "baxis": {
             "endlinecolor": "#2a3f5f",
             "gridcolor": "white",
             "linecolor": "white",
             "minorgridcolor": "white",
             "startlinecolor": "#2a3f5f"
            },
            "type": "carpet"
           }
          ],
          "choropleth": [
           {
            "colorbar": {
             "outlinewidth": 0,
             "ticks": ""
            },
            "type": "choropleth"
           }
          ],
          "contour": [
           {
            "colorbar": {
             "outlinewidth": 0,
             "ticks": ""
            },
            "colorscale": [
             [
              0,
              "#0d0887"
             ],
             [
              0.1111111111111111,
              "#46039f"
             ],
             [
              0.2222222222222222,
              "#7201a8"
             ],
             [
              0.3333333333333333,
              "#9c179e"
             ],
             [
              0.4444444444444444,
              "#bd3786"
             ],
             [
              0.5555555555555556,
              "#d8576b"
             ],
             [
              0.6666666666666666,
              "#ed7953"
             ],
             [
              0.7777777777777778,
              "#fb9f3a"
             ],
             [
              0.8888888888888888,
              "#fdca26"
             ],
             [
              1,
              "#f0f921"
             ]
            ],
            "type": "contour"
           }
          ],
          "contourcarpet": [
           {
            "colorbar": {
             "outlinewidth": 0,
             "ticks": ""
            },
            "type": "contourcarpet"
           }
          ],
          "heatmap": [
           {
            "colorbar": {
             "outlinewidth": 0,
             "ticks": ""
            },
            "colorscale": [
             [
              0,
              "#0d0887"
             ],
             [
              0.1111111111111111,
              "#46039f"
             ],
             [
              0.2222222222222222,
              "#7201a8"
             ],
             [
              0.3333333333333333,
              "#9c179e"
             ],
             [
              0.4444444444444444,
              "#bd3786"
             ],
             [
              0.5555555555555556,
              "#d8576b"
             ],
             [
              0.6666666666666666,
              "#ed7953"
             ],
             [
              0.7777777777777778,
              "#fb9f3a"
             ],
             [
              0.8888888888888888,
              "#fdca26"
             ],
             [
              1,
              "#f0f921"
             ]
            ],
            "type": "heatmap"
           }
          ],
          "histogram": [
           {
            "marker": {
             "pattern": {
              "fillmode": "overlay",
              "size": 10,
              "solidity": 0.2
             }
            },
            "type": "histogram"
           }
          ],
          "histogram2d": [
           {
            "colorbar": {
             "outlinewidth": 0,
             "ticks": ""
            },
            "colorscale": [
             [
              0,
              "#0d0887"
             ],
             [
              0.1111111111111111,
              "#46039f"
             ],
             [
              0.2222222222222222,
              "#7201a8"
             ],
             [
              0.3333333333333333,
              "#9c179e"
             ],
             [
              0.4444444444444444,
              "#bd3786"
             ],
             [
              0.5555555555555556,
              "#d8576b"
             ],
             [
              0.6666666666666666,
              "#ed7953"
             ],
             [
              0.7777777777777778,
              "#fb9f3a"
             ],
             [
              0.8888888888888888,
              "#fdca26"
             ],
             [
              1,
              "#f0f921"
             ]
            ],
            "type": "histogram2d"
           }
          ],
          "histogram2dcontour": [
           {
            "colorbar": {
             "outlinewidth": 0,
             "ticks": ""
            },
            "colorscale": [
             [
              0,
              "#0d0887"
             ],
             [
              0.1111111111111111,
              "#46039f"
             ],
             [
              0.2222222222222222,
              "#7201a8"
             ],
             [
              0.3333333333333333,
              "#9c179e"
             ],
             [
              0.4444444444444444,
              "#bd3786"
             ],
             [
              0.5555555555555556,
              "#d8576b"
             ],
             [
              0.6666666666666666,
              "#ed7953"
             ],
             [
              0.7777777777777778,
              "#fb9f3a"
             ],
             [
              0.8888888888888888,
              "#fdca26"
             ],
             [
              1,
              "#f0f921"
             ]
            ],
            "type": "histogram2dcontour"
           }
          ],
          "mesh3d": [
           {
            "colorbar": {
             "outlinewidth": 0,
             "ticks": ""
            },
            "type": "mesh3d"
           }
          ],
          "parcoords": [
           {
            "line": {
             "colorbar": {
              "outlinewidth": 0,
              "ticks": ""
             }
            },
            "type": "parcoords"
           }
          ],
          "pie": [
           {
            "automargin": true,
            "type": "pie"
           }
          ],
          "scatter": [
           {
            "fillpattern": {
             "fillmode": "overlay",
             "size": 10,
             "solidity": 0.2
            },
            "type": "scatter"
           }
          ],
          "scatter3d": [
           {
            "line": {
             "colorbar": {
              "outlinewidth": 0,
              "ticks": ""
             }
            },
            "marker": {
             "colorbar": {
              "outlinewidth": 0,
              "ticks": ""
             }
            },
            "type": "scatter3d"
           }
          ],
          "scattercarpet": [
           {
            "marker": {
             "colorbar": {
              "outlinewidth": 0,
              "ticks": ""
             }
            },
            "type": "scattercarpet"
           }
          ],
          "scattergeo": [
           {
            "marker": {
             "colorbar": {
              "outlinewidth": 0,
              "ticks": ""
             }
            },
            "type": "scattergeo"
           }
          ],
          "scattergl": [
           {
            "marker": {
             "colorbar": {
              "outlinewidth": 0,
              "ticks": ""
             }
            },
            "type": "scattergl"
           }
          ],
          "scattermap": [
           {
            "marker": {
             "colorbar": {
              "outlinewidth": 0,
              "ticks": ""
             }
            },
            "type": "scattermap"
           }
          ],
          "scattermapbox": [
           {
            "marker": {
             "colorbar": {
              "outlinewidth": 0,
              "ticks": ""
             }
            },
            "type": "scattermapbox"
           }
          ],
          "scatterpolar": [
           {
            "marker": {
             "colorbar": {
              "outlinewidth": 0,
              "ticks": ""
             }
            },
            "type": "scatterpolar"
           }
          ],
          "scatterpolargl": [
           {
            "marker": {
             "colorbar": {
              "outlinewidth": 0,
              "ticks": ""
             }
            },
            "type": "scatterpolargl"
           }
          ],
          "scatterternary": [
           {
            "marker": {
             "colorbar": {
              "outlinewidth": 0,
              "ticks": ""
             }
            },
            "type": "scatterternary"
           }
          ],
          "surface": [
           {
            "colorbar": {
             "outlinewidth": 0,
             "ticks": ""
            },
            "colorscale": [
             [
              0,
              "#0d0887"
             ],
             [
              0.1111111111111111,
              "#46039f"
             ],
             [
              0.2222222222222222,
              "#7201a8"
             ],
             [
              0.3333333333333333,
              "#9c179e"
             ],
             [
              0.4444444444444444,
              "#bd3786"
             ],
             [
              0.5555555555555556,
              "#d8576b"
             ],
             [
              0.6666666666666666,
              "#ed7953"
             ],
             [
              0.7777777777777778,
              "#fb9f3a"
             ],
             [
              0.8888888888888888,
              "#fdca26"
             ],
             [
              1,
              "#f0f921"
             ]
            ],
            "type": "surface"
           }
          ],
          "table": [
           {
            "cells": {
             "fill": {
              "color": "#EBF0F8"
             },
             "line": {
              "color": "white"
             }
            },
            "header": {
             "fill": {
              "color": "#C8D4E3"
             },
             "line": {
              "color": "white"
             }
            },
            "type": "table"
           }
          ]
         },
         "layout": {
          "annotationdefaults": {
           "arrowcolor": "#2a3f5f",
           "arrowhead": 0,
           "arrowwidth": 1
          },
          "autotypenumbers": "strict",
          "coloraxis": {
           "colorbar": {
            "outlinewidth": 0,
            "ticks": ""
           }
          },
          "colorscale": {
           "diverging": [
            [
             0,
             "#8e0152"
            ],
            [
             0.1,
             "#c51b7d"
            ],
            [
             0.2,
             "#de77ae"
            ],
            [
             0.3,
             "#f1b6da"
            ],
            [
             0.4,
             "#fde0ef"
            ],
            [
             0.5,
             "#f7f7f7"
            ],
            [
             0.6,
             "#e6f5d0"
            ],
            [
             0.7,
             "#b8e186"
            ],
            [
             0.8,
             "#7fbc41"
            ],
            [
             0.9,
             "#4d9221"
            ],
            [
             1,
             "#276419"
            ]
           ],
           "sequential": [
            [
             0,
             "#0d0887"
            ],
            [
             0.1111111111111111,
             "#46039f"
            ],
            [
             0.2222222222222222,
             "#7201a8"
            ],
            [
             0.3333333333333333,
             "#9c179e"
            ],
            [
             0.4444444444444444,
             "#bd3786"
            ],
            [
             0.5555555555555556,
             "#d8576b"
            ],
            [
             0.6666666666666666,
             "#ed7953"
            ],
            [
             0.7777777777777778,
             "#fb9f3a"
            ],
            [
             0.8888888888888888,
             "#fdca26"
            ],
            [
             1,
             "#f0f921"
            ]
           ],
           "sequentialminus": [
            [
             0,
             "#0d0887"
            ],
            [
             0.1111111111111111,
             "#46039f"
            ],
            [
             0.2222222222222222,
             "#7201a8"
            ],
            [
             0.3333333333333333,
             "#9c179e"
            ],
            [
             0.4444444444444444,
             "#bd3786"
            ],
            [
             0.5555555555555556,
             "#d8576b"
            ],
            [
             0.6666666666666666,
             "#ed7953"
            ],
            [
             0.7777777777777778,
             "#fb9f3a"
            ],
            [
             0.8888888888888888,
             "#fdca26"
            ],
            [
             1,
             "#f0f921"
            ]
           ]
          },
          "colorway": [
           "#636efa",
           "#EF553B",
           "#00cc96",
           "#ab63fa",
           "#FFA15A",
           "#19d3f3",
           "#FF6692",
           "#B6E880",
           "#FF97FF",
           "#FECB52"
          ],
          "font": {
           "color": "#2a3f5f"
          },
          "geo": {
           "bgcolor": "white",
           "lakecolor": "white",
           "landcolor": "#E5ECF6",
           "showlakes": true,
           "showland": true,
           "subunitcolor": "white"
          },
          "hoverlabel": {
           "align": "left"
          },
          "hovermode": "closest",
          "mapbox": {
           "style": "light"
          },
          "paper_bgcolor": "white",
          "plot_bgcolor": "#E5ECF6",
          "polar": {
           "angularaxis": {
            "gridcolor": "white",
            "linecolor": "white",
            "ticks": ""
           },
           "bgcolor": "#E5ECF6",
           "radialaxis": {
            "gridcolor": "white",
            "linecolor": "white",
            "ticks": ""
           }
          },
          "scene": {
           "xaxis": {
            "backgroundcolor": "#E5ECF6",
            "gridcolor": "white",
            "gridwidth": 2,
            "linecolor": "white",
            "showbackground": true,
            "ticks": "",
            "zerolinecolor": "white"
           },
           "yaxis": {
            "backgroundcolor": "#E5ECF6",
            "gridcolor": "white",
            "gridwidth": 2,
            "linecolor": "white",
            "showbackground": true,
            "ticks": "",
            "zerolinecolor": "white"
           },
           "zaxis": {
            "backgroundcolor": "#E5ECF6",
            "gridcolor": "white",
            "gridwidth": 2,
            "linecolor": "white",
            "showbackground": true,
            "ticks": "",
            "zerolinecolor": "white"
           }
          },
          "shapedefaults": {
           "line": {
            "color": "#2a3f5f"
           }
          },
          "ternary": {
           "aaxis": {
            "gridcolor": "white",
            "linecolor": "white",
            "ticks": ""
           },
           "baxis": {
            "gridcolor": "white",
            "linecolor": "white",
            "ticks": ""
           },
           "bgcolor": "#E5ECF6",
           "caxis": {
            "gridcolor": "white",
            "linecolor": "white",
            "ticks": ""
           }
          },
          "title": {
           "x": 0.05
          },
          "xaxis": {
           "automargin": true,
           "gridcolor": "white",
           "linecolor": "white",
           "ticks": "",
           "title": {
            "standoff": 15
           },
           "zerolinecolor": "white",
           "zerolinewidth": 2
          },
          "yaxis": {
           "automargin": true,
           "gridcolor": "white",
           "linecolor": "white",
           "ticks": "",
           "title": {
            "standoff": 15
           },
           "zerolinecolor": "white",
           "zerolinewidth": 2
          }
         }
        },
        "title": {
         "text": "Cell type 2"
        },
        "width": 600,
        "xaxis": {
         "anchor": "y",
         "domain": [
          0,
          1
         ],
         "title": {
          "text": "x"
         }
        },
        "yaxis": {
         "anchor": "x",
         "domain": [
          0,
          1
         ],
         "title": {
          "text": "y"
         }
        }
       }
      }
     },
     "metadata": {},
     "output_type": "display_data"
    }
   ],
   "source": [
    "for c in range(n_cell_types):\n",
    "\n",
    "    vals, vecs = torch.linalg.eigh(b[c])\n",
    "    vals = vals.flip([0])\n",
    "    vecs = vecs.flip([1])\n",
    "\n",
    "    adata.obsm[\"X_Q\"] = adata.X @ vecs[:, :3].numpy()  # project into component space\n",
    "\n",
    "    fig = px.scatter(\n",
    "        x=adata.obsm[\"X_Q\"][:, 0],\n",
    "        y=adata.obsm[\"X_Q\"][:, 1],\n",
    "        color=adata.obs[\"cell_type\"],\n",
    "        title=f\"Cell type {c}\",\n",
    "        width=600,\n",
    "        height=600,\n",
    "    )\n",
    "    fig.update_traces(marker=dict(size=5))\n",
    "    fig.show()"
   ]
  },
  {
   "cell_type": "markdown",
   "id": "a5dc8c29",
   "metadata": {},
   "source": [
    "Looks like the first component nicely separates the cells in the given type from the others.\n",
    "- Cell type 0 components just happen to separate all three types radially quite nicely?\n",
    "\n",
    "Could also just plot type histograms if only the top component is important."
   ]
  },
  {
   "cell_type": "code",
   "execution_count": 23,
   "id": "069b42f6",
   "metadata": {},
   "outputs": [
    {
     "data": {
      "application/vnd.plotly.v1+json": {
       "config": {
        "plotlyServerURL": "https://plot.ly"
       },
       "data": [
        {
         "bingroup": "x",
         "hovertemplate": "cell_type=0<br>component=%{x}<br>count=%{y}<extra></extra>",
         "legendgroup": "0",
         "marker": {
          "color": "#636efa",
          "opacity": 0.7,
          "pattern": {
           "shape": ""
          }
         },
         "name": "0",
         "nbinsx": 30,
         "orientation": "v",
         "showlegend": true,
         "type": "histogram",
         "x": {
          "bdata": "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",
          "dtype": "f4"
         },
         "xaxis": "x",
         "yaxis": "y"
        },
        {
         "bingroup": "x",
         "hovertemplate": "cell_type=2<br>component=%{x}<br>count=%{y}<extra></extra>",
         "legendgroup": "2",
         "marker": {
          "color": "#EF553B",
          "opacity": 0.7,
          "pattern": {
           "shape": ""
          }
         },
         "name": "2",
         "nbinsx": 30,
         "orientation": "v",
         "showlegend": true,
         "type": "histogram",
         "x": {
          "bdata": "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",
          "dtype": "f4"
         },
         "xaxis": "x",
         "yaxis": "y"
        },
        {
         "bingroup": "x",
         "hovertemplate": "cell_type=1<br>component=%{x}<br>count=%{y}<extra></extra>",
         "legendgroup": "1",
         "marker": {
          "color": "#00cc96",
          "opacity": 0.7,
          "pattern": {
           "shape": ""
          }
         },
         "name": "1",
         "nbinsx": 30,
         "orientation": "v",
         "showlegend": true,
         "type": "histogram",
         "x": {
          "bdata": "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",
          "dtype": "f4"
         },
         "xaxis": "x",
         "yaxis": "y"
        }
       ],
       "layout": {
        "barmode": "overlay",
        "height": 300,
        "legend": {
         "title": {
          "text": "cell_type"
         },
         "tracegroupgap": 0
        },
        "template": {
         "data": {
          "bar": [
           {
            "error_x": {
             "color": "#2a3f5f"
            },
            "error_y": {
             "color": "#2a3f5f"
            },
            "marker": {
             "line": {
              "color": "#E5ECF6",
              "width": 0.5
             },
             "pattern": {
              "fillmode": "overlay",
              "size": 10,
              "solidity": 0.2
             }
            },
            "type": "bar"
           }
          ],
          "barpolar": [
           {
            "marker": {
             "line": {
              "color": "#E5ECF6",
              "width": 0.5
             },
             "pattern": {
              "fillmode": "overlay",
              "size": 10,
              "solidity": 0.2
             }
            },
            "type": "barpolar"
           }
          ],
          "carpet": [
           {
            "aaxis": {
             "endlinecolor": "#2a3f5f",
             "gridcolor": "white",
             "linecolor": "white",
             "minorgridcolor": "white",
             "startlinecolor": "#2a3f5f"
            },
            "baxis": {
             "endlinecolor": "#2a3f5f",
             "gridcolor": "white",
             "linecolor": "white",
             "minorgridcolor": "white",
             "startlinecolor": "#2a3f5f"
            },
            "type": "carpet"
           }
          ],
          "choropleth": [
           {
            "colorbar": {
             "outlinewidth": 0,
             "ticks": ""
            },
            "type": "choropleth"
           }
          ],
          "contour": [
           {
            "colorbar": {
             "outlinewidth": 0,
             "ticks": ""
            },
            "colorscale": [
             [
              0,
              "#0d0887"
             ],
             [
              0.1111111111111111,
              "#46039f"
             ],
             [
              0.2222222222222222,
              "#7201a8"
             ],
             [
              0.3333333333333333,
              "#9c179e"
             ],
             [
              0.4444444444444444,
              "#bd3786"
             ],
             [
              0.5555555555555556,
              "#d8576b"
             ],
             [
              0.6666666666666666,
              "#ed7953"
             ],
             [
              0.7777777777777778,
              "#fb9f3a"
             ],
             [
              0.8888888888888888,
              "#fdca26"
             ],
             [
              1,
              "#f0f921"
             ]
            ],
            "type": "contour"
           }
          ],
          "contourcarpet": [
           {
            "colorbar": {
             "outlinewidth": 0,
             "ticks": ""
            },
            "type": "contourcarpet"
           }
          ],
          "heatmap": [
           {
            "colorbar": {
             "outlinewidth": 0,
             "ticks": ""
            },
            "colorscale": [
             [
              0,
              "#0d0887"
             ],
             [
              0.1111111111111111,
              "#46039f"
             ],
             [
              0.2222222222222222,
              "#7201a8"
             ],
             [
              0.3333333333333333,
              "#9c179e"
             ],
             [
              0.4444444444444444,
              "#bd3786"
             ],
             [
              0.5555555555555556,
              "#d8576b"
             ],
             [
              0.6666666666666666,
              "#ed7953"
             ],
             [
              0.7777777777777778,
              "#fb9f3a"
             ],
             [
              0.8888888888888888,
              "#fdca26"
             ],
             [
              1,
              "#f0f921"
             ]
            ],
            "type": "heatmap"
           }
          ],
          "histogram": [
           {
            "marker": {
             "pattern": {
              "fillmode": "overlay",
              "size": 10,
              "solidity": 0.2
             }
            },
            "type": "histogram"
           }
          ],
          "histogram2d": [
           {
            "colorbar": {
             "outlinewidth": 0,
             "ticks": ""
            },
            "colorscale": [
             [
              0,
              "#0d0887"
             ],
             [
              0.1111111111111111,
              "#46039f"
             ],
             [
              0.2222222222222222,
              "#7201a8"
             ],
             [
              0.3333333333333333,
              "#9c179e"
             ],
             [
              0.4444444444444444,
              "#bd3786"
             ],
             [
              0.5555555555555556,
              "#d8576b"
             ],
             [
              0.6666666666666666,
              "#ed7953"
             ],
             [
              0.7777777777777778,
              "#fb9f3a"
             ],
             [
              0.8888888888888888,
              "#fdca26"
             ],
             [
              1,
              "#f0f921"
             ]
            ],
            "type": "histogram2d"
           }
          ],
          "histogram2dcontour": [
           {
            "colorbar": {
             "outlinewidth": 0,
             "ticks": ""
            },
            "colorscale": [
             [
              0,
              "#0d0887"
             ],
             [
              0.1111111111111111,
              "#46039f"
             ],
             [
              0.2222222222222222,
              "#7201a8"
             ],
             [
              0.3333333333333333,
              "#9c179e"
             ],
             [
              0.4444444444444444,
              "#bd3786"
             ],
             [
              0.5555555555555556,
              "#d8576b"
             ],
             [
              0.6666666666666666,
              "#ed7953"
             ],
             [
              0.7777777777777778,
              "#fb9f3a"
             ],
             [
              0.8888888888888888,
              "#fdca26"
             ],
             [
              1,
              "#f0f921"
             ]
            ],
            "type": "histogram2dcontour"
           }
          ],
          "mesh3d": [
           {
            "colorbar": {
             "outlinewidth": 0,
             "ticks": ""
            },
            "type": "mesh3d"
           }
          ],
          "parcoords": [
           {
            "line": {
             "colorbar": {
              "outlinewidth": 0,
              "ticks": ""
             }
            },
            "type": "parcoords"
           }
          ],
          "pie": [
           {
            "automargin": true,
            "type": "pie"
           }
          ],
          "scatter": [
           {
            "fillpattern": {
             "fillmode": "overlay",
             "size": 10,
             "solidity": 0.2
            },
            "type": "scatter"
           }
          ],
          "scatter3d": [
           {
            "line": {
             "colorbar": {
              "outlinewidth": 0,
              "ticks": ""
             }
            },
            "marker": {
             "colorbar": {
              "outlinewidth": 0,
              "ticks": ""
             }
            },
            "type": "scatter3d"
           }
          ],
          "scattercarpet": [
           {
            "marker": {
             "colorbar": {
              "outlinewidth": 0,
              "ticks": ""
             }
            },
            "type": "scattercarpet"
           }
          ],
          "scattergeo": [
           {
            "marker": {
             "colorbar": {
              "outlinewidth": 0,
              "ticks": ""
             }
            },
            "type": "scattergeo"
           }
          ],
          "scattergl": [
           {
            "marker": {
             "colorbar": {
              "outlinewidth": 0,
              "ticks": ""
             }
            },
            "type": "scattergl"
           }
          ],
          "scattermap": [
           {
            "marker": {
             "colorbar": {
              "outlinewidth": 0,
              "ticks": ""
             }
            },
            "type": "scattermap"
           }
          ],
          "scattermapbox": [
           {
            "marker": {
             "colorbar": {
              "outlinewidth": 0,
              "ticks": ""
             }
            },
            "type": "scattermapbox"
           }
          ],
          "scatterpolar": [
           {
            "marker": {
             "colorbar": {
              "outlinewidth": 0,
              "ticks": ""
             }
            },
            "type": "scatterpolar"
           }
          ],
          "scatterpolargl": [
           {
            "marker": {
             "colorbar": {
              "outlinewidth": 0,
              "ticks": ""
             }
            },
            "type": "scatterpolargl"
           }
          ],
          "scatterternary": [
           {
            "marker": {
             "colorbar": {
              "outlinewidth": 0,
              "ticks": ""
             }
            },
            "type": "scatterternary"
           }
          ],
          "surface": [
           {
            "colorbar": {
             "outlinewidth": 0,
             "ticks": ""
            },
            "colorscale": [
             [
              0,
              "#0d0887"
             ],
             [
              0.1111111111111111,
              "#46039f"
             ],
             [
              0.2222222222222222,
              "#7201a8"
             ],
             [
              0.3333333333333333,
              "#9c179e"
             ],
             [
              0.4444444444444444,
              "#bd3786"
             ],
             [
              0.5555555555555556,
              "#d8576b"
             ],
             [
              0.6666666666666666,
              "#ed7953"
             ],
             [
              0.7777777777777778,
              "#fb9f3a"
             ],
             [
              0.8888888888888888,
              "#fdca26"
             ],
             [
              1,
              "#f0f921"
             ]
            ],
            "type": "surface"
           }
          ],
          "table": [
           {
            "cells": {
             "fill": {
              "color": "#EBF0F8"
             },
             "line": {
              "color": "white"
             }
            },
            "header": {
             "fill": {
              "color": "#C8D4E3"
             },
             "line": {
              "color": "white"
             }
            },
            "type": "table"
           }
          ]
         },
         "layout": {
          "annotationdefaults": {
           "arrowcolor": "#2a3f5f",
           "arrowhead": 0,
           "arrowwidth": 1
          },
          "autotypenumbers": "strict",
          "coloraxis": {
           "colorbar": {
            "outlinewidth": 0,
            "ticks": ""
           }
          },
          "colorscale": {
           "diverging": [
            [
             0,
             "#8e0152"
            ],
            [
             0.1,
             "#c51b7d"
            ],
            [
             0.2,
             "#de77ae"
            ],
            [
             0.3,
             "#f1b6da"
            ],
            [
             0.4,
             "#fde0ef"
            ],
            [
             0.5,
             "#f7f7f7"
            ],
            [
             0.6,
             "#e6f5d0"
            ],
            [
             0.7,
             "#b8e186"
            ],
            [
             0.8,
             "#7fbc41"
            ],
            [
             0.9,
             "#4d9221"
            ],
            [
             1,
             "#276419"
            ]
           ],
           "sequential": [
            [
             0,
             "#0d0887"
            ],
            [
             0.1111111111111111,
             "#46039f"
            ],
            [
             0.2222222222222222,
             "#7201a8"
            ],
            [
             0.3333333333333333,
             "#9c179e"
            ],
            [
             0.4444444444444444,
             "#bd3786"
            ],
            [
             0.5555555555555556,
             "#d8576b"
            ],
            [
             0.6666666666666666,
             "#ed7953"
            ],
            [
             0.7777777777777778,
             "#fb9f3a"
            ],
            [
             0.8888888888888888,
             "#fdca26"
            ],
            [
             1,
             "#f0f921"
            ]
           ],
           "sequentialminus": [
            [
             0,
             "#0d0887"
            ],
            [
             0.1111111111111111,
             "#46039f"
            ],
            [
             0.2222222222222222,
             "#7201a8"
            ],
            [
             0.3333333333333333,
             "#9c179e"
            ],
            [
             0.4444444444444444,
             "#bd3786"
            ],
            [
             0.5555555555555556,
             "#d8576b"
            ],
            [
             0.6666666666666666,
             "#ed7953"
            ],
            [
             0.7777777777777778,
             "#fb9f3a"
            ],
            [
             0.8888888888888888,
             "#fdca26"
            ],
            [
             1,
             "#f0f921"
            ]
           ]
          },
          "colorway": [
           "#636efa",
           "#EF553B",
           "#00cc96",
           "#ab63fa",
           "#FFA15A",
           "#19d3f3",
           "#FF6692",
           "#B6E880",
           "#FF97FF",
           "#FECB52"
          ],
          "font": {
           "color": "#2a3f5f"
          },
          "geo": {
           "bgcolor": "white",
           "lakecolor": "white",
           "landcolor": "#E5ECF6",
           "showlakes": true,
           "showland": true,
           "subunitcolor": "white"
          },
          "hoverlabel": {
           "align": "left"
          },
          "hovermode": "closest",
          "mapbox": {
           "style": "light"
          },
          "paper_bgcolor": "white",
          "plot_bgcolor": "#E5ECF6",
          "polar": {
           "angularaxis": {
            "gridcolor": "white",
            "linecolor": "white",
            "ticks": ""
           },
           "bgcolor": "#E5ECF6",
           "radialaxis": {
            "gridcolor": "white",
            "linecolor": "white",
            "ticks": ""
           }
          },
          "scene": {
           "xaxis": {
            "backgroundcolor": "#E5ECF6",
            "gridcolor": "white",
            "gridwidth": 2,
            "linecolor": "white",
            "showbackground": true,
            "ticks": "",
            "zerolinecolor": "white"
           },
           "yaxis": {
            "backgroundcolor": "#E5ECF6",
            "gridcolor": "white",
            "gridwidth": 2,
            "linecolor": "white",
            "showbackground": true,
            "ticks": "",
            "zerolinecolor": "white"
           },
           "zaxis": {
            "backgroundcolor": "#E5ECF6",
            "gridcolor": "white",
            "gridwidth": 2,
            "linecolor": "white",
            "showbackground": true,
            "ticks": "",
            "zerolinecolor": "white"
           }
          },
          "shapedefaults": {
           "line": {
            "color": "#2a3f5f"
           }
          },
          "ternary": {
           "aaxis": {
            "gridcolor": "white",
            "linecolor": "white",
            "ticks": ""
           },
           "baxis": {
            "gridcolor": "white",
            "linecolor": "white",
            "ticks": ""
           },
           "bgcolor": "#E5ECF6",
           "caxis": {
            "gridcolor": "white",
            "linecolor": "white",
            "ticks": ""
           }
          },
          "title": {
           "x": 0.05
          },
          "xaxis": {
           "automargin": true,
           "gridcolor": "white",
           "linecolor": "white",
           "ticks": "",
           "title": {
            "standoff": 15
           },
           "zerolinecolor": "white",
           "zerolinewidth": 2
          },
          "yaxis": {
           "automargin": true,
           "gridcolor": "white",
           "linecolor": "white",
           "ticks": "",
           "title": {
            "standoff": 15
           },
           "zerolinecolor": "white",
           "zerolinewidth": 2
          }
         }
        },
        "title": {
         "text": "Cell type 0 component histograms"
        },
        "width": 600,
        "xaxis": {
         "anchor": "y",
         "domain": [
          0,
          1
         ],
         "title": {
          "text": "component"
         }
        },
        "yaxis": {
         "anchor": "x",
         "domain": [
          0,
          1
         ],
         "title": {
          "text": "count"
         }
        }
       }
      }
     },
     "metadata": {},
     "output_type": "display_data"
    },
    {
     "data": {
      "application/vnd.plotly.v1+json": {
       "config": {
        "plotlyServerURL": "https://plot.ly"
       },
       "data": [
        {
         "bingroup": "x",
         "hovertemplate": "cell_type=0<br>component=%{x}<br>count=%{y}<extra></extra>",
         "legendgroup": "0",
         "marker": {
          "color": "#636efa",
          "opacity": 0.7,
          "pattern": {
           "shape": ""
          }
         },
         "name": "0",
         "nbinsx": 30,
         "orientation": "v",
         "showlegend": true,
         "type": "histogram",
         "x": {
          "bdata": "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",
          "dtype": "f4"
         },
         "xaxis": "x",
         "yaxis": "y"
        },
        {
         "bingroup": "x",
         "hovertemplate": "cell_type=2<br>component=%{x}<br>count=%{y}<extra></extra>",
         "legendgroup": "2",
         "marker": {
          "color": "#EF553B",
          "opacity": 0.7,
          "pattern": {
           "shape": ""
          }
         },
         "name": "2",
         "nbinsx": 30,
         "orientation": "v",
         "showlegend": true,
         "type": "histogram",
         "x": {
          "bdata": "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",
          "dtype": "f4"
         },
         "xaxis": "x",
         "yaxis": "y"
        },
        {
         "bingroup": "x",
         "hovertemplate": "cell_type=1<br>component=%{x}<br>count=%{y}<extra></extra>",
         "legendgroup": "1",
         "marker": {
          "color": "#00cc96",
          "opacity": 0.7,
          "pattern": {
           "shape": ""
          }
         },
         "name": "1",
         "nbinsx": 30,
         "orientation": "v",
         "showlegend": true,
         "type": "histogram",
         "x": {
          "bdata": "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",
          "dtype": "f4"
         },
         "xaxis": "x",
         "yaxis": "y"
        }
       ],
       "layout": {
        "barmode": "overlay",
        "height": 300,
        "legend": {
         "title": {
          "text": "cell_type"
         },
         "tracegroupgap": 0
        },
        "template": {
         "data": {
          "bar": [
           {
            "error_x": {
             "color": "#2a3f5f"
            },
            "error_y": {
             "color": "#2a3f5f"
            },
            "marker": {
             "line": {
              "color": "#E5ECF6",
              "width": 0.5
             },
             "pattern": {
              "fillmode": "overlay",
              "size": 10,
              "solidity": 0.2
             }
            },
            "type": "bar"
           }
          ],
          "barpolar": [
           {
            "marker": {
             "line": {
              "color": "#E5ECF6",
              "width": 0.5
             },
             "pattern": {
              "fillmode": "overlay",
              "size": 10,
              "solidity": 0.2
             }
            },
            "type": "barpolar"
           }
          ],
          "carpet": [
           {
            "aaxis": {
             "endlinecolor": "#2a3f5f",
             "gridcolor": "white",
             "linecolor": "white",
             "minorgridcolor": "white",
             "startlinecolor": "#2a3f5f"
            },
            "baxis": {
             "endlinecolor": "#2a3f5f",
             "gridcolor": "white",
             "linecolor": "white",
             "minorgridcolor": "white",
             "startlinecolor": "#2a3f5f"
            },
            "type": "carpet"
           }
          ],
          "choropleth": [
           {
            "colorbar": {
             "outlinewidth": 0,
             "ticks": ""
            },
            "type": "choropleth"
           }
          ],
          "contour": [
           {
            "colorbar": {
             "outlinewidth": 0,
             "ticks": ""
            },
            "colorscale": [
             [
              0,
              "#0d0887"
             ],
             [
              0.1111111111111111,
              "#46039f"
             ],
             [
              0.2222222222222222,
              "#7201a8"
             ],
             [
              0.3333333333333333,
              "#9c179e"
             ],
             [
              0.4444444444444444,
              "#bd3786"
             ],
             [
              0.5555555555555556,
              "#d8576b"
             ],
             [
              0.6666666666666666,
              "#ed7953"
             ],
             [
              0.7777777777777778,
              "#fb9f3a"
             ],
             [
              0.8888888888888888,
              "#fdca26"
             ],
             [
              1,
              "#f0f921"
             ]
            ],
            "type": "contour"
           }
          ],
          "contourcarpet": [
           {
            "colorbar": {
             "outlinewidth": 0,
             "ticks": ""
            },
            "type": "contourcarpet"
           }
          ],
          "heatmap": [
           {
            "colorbar": {
             "outlinewidth": 0,
             "ticks": ""
            },
            "colorscale": [
             [
              0,
              "#0d0887"
             ],
             [
              0.1111111111111111,
              "#46039f"
             ],
             [
              0.2222222222222222,
              "#7201a8"
             ],
             [
              0.3333333333333333,
              "#9c179e"
             ],
             [
              0.4444444444444444,
              "#bd3786"
             ],
             [
              0.5555555555555556,
              "#d8576b"
             ],
             [
              0.6666666666666666,
              "#ed7953"
             ],
             [
              0.7777777777777778,
              "#fb9f3a"
             ],
             [
              0.8888888888888888,
              "#fdca26"
             ],
             [
              1,
              "#f0f921"
             ]
            ],
            "type": "heatmap"
           }
          ],
          "histogram": [
           {
            "marker": {
             "pattern": {
              "fillmode": "overlay",
              "size": 10,
              "solidity": 0.2
             }
            },
            "type": "histogram"
           }
          ],
          "histogram2d": [
           {
            "colorbar": {
             "outlinewidth": 0,
             "ticks": ""
            },
            "colorscale": [
             [
              0,
              "#0d0887"
             ],
             [
              0.1111111111111111,
              "#46039f"
             ],
             [
              0.2222222222222222,
              "#7201a8"
             ],
             [
              0.3333333333333333,
              "#9c179e"
             ],
             [
              0.4444444444444444,
              "#bd3786"
             ],
             [
              0.5555555555555556,
              "#d8576b"
             ],
             [
              0.6666666666666666,
              "#ed7953"
             ],
             [
              0.7777777777777778,
              "#fb9f3a"
             ],
             [
              0.8888888888888888,
              "#fdca26"
             ],
             [
              1,
              "#f0f921"
             ]
            ],
            "type": "histogram2d"
           }
          ],
          "histogram2dcontour": [
           {
            "colorbar": {
             "outlinewidth": 0,
             "ticks": ""
            },
            "colorscale": [
             [
              0,
              "#0d0887"
             ],
             [
              0.1111111111111111,
              "#46039f"
             ],
             [
              0.2222222222222222,
              "#7201a8"
             ],
             [
              0.3333333333333333,
              "#9c179e"
             ],
             [
              0.4444444444444444,
              "#bd3786"
             ],
             [
              0.5555555555555556,
              "#d8576b"
             ],
             [
              0.6666666666666666,
              "#ed7953"
             ],
             [
              0.7777777777777778,
              "#fb9f3a"
             ],
             [
              0.8888888888888888,
              "#fdca26"
             ],
             [
              1,
              "#f0f921"
             ]
            ],
            "type": "histogram2dcontour"
           }
          ],
          "mesh3d": [
           {
            "colorbar": {
             "outlinewidth": 0,
             "ticks": ""
            },
            "type": "mesh3d"
           }
          ],
          "parcoords": [
           {
            "line": {
             "colorbar": {
              "outlinewidth": 0,
              "ticks": ""
             }
            },
            "type": "parcoords"
           }
          ],
          "pie": [
           {
            "automargin": true,
            "type": "pie"
           }
          ],
          "scatter": [
           {
            "fillpattern": {
             "fillmode": "overlay",
             "size": 10,
             "solidity": 0.2
            },
            "type": "scatter"
           }
          ],
          "scatter3d": [
           {
            "line": {
             "colorbar": {
              "outlinewidth": 0,
              "ticks": ""
             }
            },
            "marker": {
             "colorbar": {
              "outlinewidth": 0,
              "ticks": ""
             }
            },
            "type": "scatter3d"
           }
          ],
          "scattercarpet": [
           {
            "marker": {
             "colorbar": {
              "outlinewidth": 0,
              "ticks": ""
             }
            },
            "type": "scattercarpet"
           }
          ],
          "scattergeo": [
           {
            "marker": {
             "colorbar": {
              "outlinewidth": 0,
              "ticks": ""
             }
            },
            "type": "scattergeo"
           }
          ],
          "scattergl": [
           {
            "marker": {
             "colorbar": {
              "outlinewidth": 0,
              "ticks": ""
             }
            },
            "type": "scattergl"
           }
          ],
          "scattermap": [
           {
            "marker": {
             "colorbar": {
              "outlinewidth": 0,
              "ticks": ""
             }
            },
            "type": "scattermap"
           }
          ],
          "scattermapbox": [
           {
            "marker": {
             "colorbar": {
              "outlinewidth": 0,
              "ticks": ""
             }
            },
            "type": "scattermapbox"
           }
          ],
          "scatterpolar": [
           {
            "marker": {
             "colorbar": {
              "outlinewidth": 0,
              "ticks": ""
             }
            },
            "type": "scatterpolar"
           }
          ],
          "scatterpolargl": [
           {
            "marker": {
             "colorbar": {
              "outlinewidth": 0,
              "ticks": ""
             }
            },
            "type": "scatterpolargl"
           }
          ],
          "scatterternary": [
           {
            "marker": {
             "colorbar": {
              "outlinewidth": 0,
              "ticks": ""
             }
            },
            "type": "scatterternary"
           }
          ],
          "surface": [
           {
            "colorbar": {
             "outlinewidth": 0,
             "ticks": ""
            },
            "colorscale": [
             [
              0,
              "#0d0887"
             ],
             [
              0.1111111111111111,
              "#46039f"
             ],
             [
              0.2222222222222222,
              "#7201a8"
             ],
             [
              0.3333333333333333,
              "#9c179e"
             ],
             [
              0.4444444444444444,
              "#bd3786"
             ],
             [
              0.5555555555555556,
              "#d8576b"
             ],
             [
              0.6666666666666666,
              "#ed7953"
             ],
             [
              0.7777777777777778,
              "#fb9f3a"
             ],
             [
              0.8888888888888888,
              "#fdca26"
             ],
             [
              1,
              "#f0f921"
             ]
            ],
            "type": "surface"
           }
          ],
          "table": [
           {
            "cells": {
             "fill": {
              "color": "#EBF0F8"
             },
             "line": {
              "color": "white"
             }
            },
            "header": {
             "fill": {
              "color": "#C8D4E3"
             },
             "line": {
              "color": "white"
             }
            },
            "type": "table"
           }
          ]
         },
         "layout": {
          "annotationdefaults": {
           "arrowcolor": "#2a3f5f",
           "arrowhead": 0,
           "arrowwidth": 1
          },
          "autotypenumbers": "strict",
          "coloraxis": {
           "colorbar": {
            "outlinewidth": 0,
            "ticks": ""
           }
          },
          "colorscale": {
           "diverging": [
            [
             0,
             "#8e0152"
            ],
            [
             0.1,
             "#c51b7d"
            ],
            [
             0.2,
             "#de77ae"
            ],
            [
             0.3,
             "#f1b6da"
            ],
            [
             0.4,
             "#fde0ef"
            ],
            [
             0.5,
             "#f7f7f7"
            ],
            [
             0.6,
             "#e6f5d0"
            ],
            [
             0.7,
             "#b8e186"
            ],
            [
             0.8,
             "#7fbc41"
            ],
            [
             0.9,
             "#4d9221"
            ],
            [
             1,
             "#276419"
            ]
           ],
           "sequential": [
            [
             0,
             "#0d0887"
            ],
            [
             0.1111111111111111,
             "#46039f"
            ],
            [
             0.2222222222222222,
             "#7201a8"
            ],
            [
             0.3333333333333333,
             "#9c179e"
            ],
            [
             0.4444444444444444,
             "#bd3786"
            ],
            [
             0.5555555555555556,
             "#d8576b"
            ],
            [
             0.6666666666666666,
             "#ed7953"
            ],
            [
             0.7777777777777778,
             "#fb9f3a"
            ],
            [
             0.8888888888888888,
             "#fdca26"
            ],
            [
             1,
             "#f0f921"
            ]
           ],
           "sequentialminus": [
            [
             0,
             "#0d0887"
            ],
            [
             0.1111111111111111,
             "#46039f"
            ],
            [
             0.2222222222222222,
             "#7201a8"
            ],
            [
             0.3333333333333333,
             "#9c179e"
            ],
            [
             0.4444444444444444,
             "#bd3786"
            ],
            [
             0.5555555555555556,
             "#d8576b"
            ],
            [
             0.6666666666666666,
             "#ed7953"
            ],
            [
             0.7777777777777778,
             "#fb9f3a"
            ],
            [
             0.8888888888888888,
             "#fdca26"
            ],
            [
             1,
             "#f0f921"
            ]
           ]
          },
          "colorway": [
           "#636efa",
           "#EF553B",
           "#00cc96",
           "#ab63fa",
           "#FFA15A",
           "#19d3f3",
           "#FF6692",
           "#B6E880",
           "#FF97FF",
           "#FECB52"
          ],
          "font": {
           "color": "#2a3f5f"
          },
          "geo": {
           "bgcolor": "white",
           "lakecolor": "white",
           "landcolor": "#E5ECF6",
           "showlakes": true,
           "showland": true,
           "subunitcolor": "white"
          },
          "hoverlabel": {
           "align": "left"
          },
          "hovermode": "closest",
          "mapbox": {
           "style": "light"
          },
          "paper_bgcolor": "white",
          "plot_bgcolor": "#E5ECF6",
          "polar": {
           "angularaxis": {
            "gridcolor": "white",
            "linecolor": "white",
            "ticks": ""
           },
           "bgcolor": "#E5ECF6",
           "radialaxis": {
            "gridcolor": "white",
            "linecolor": "white",
            "ticks": ""
           }
          },
          "scene": {
           "xaxis": {
            "backgroundcolor": "#E5ECF6",
            "gridcolor": "white",
            "gridwidth": 2,
            "linecolor": "white",
            "showbackground": true,
            "ticks": "",
            "zerolinecolor": "white"
           },
           "yaxis": {
            "backgroundcolor": "#E5ECF6",
            "gridcolor": "white",
            "gridwidth": 2,
            "linecolor": "white",
            "showbackground": true,
            "ticks": "",
            "zerolinecolor": "white"
           },
           "zaxis": {
            "backgroundcolor": "#E5ECF6",
            "gridcolor": "white",
            "gridwidth": 2,
            "linecolor": "white",
            "showbackground": true,
            "ticks": "",
            "zerolinecolor": "white"
           }
          },
          "shapedefaults": {
           "line": {
            "color": "#2a3f5f"
           }
          },
          "ternary": {
           "aaxis": {
            "gridcolor": "white",
            "linecolor": "white",
            "ticks": ""
           },
           "baxis": {
            "gridcolor": "white",
            "linecolor": "white",
            "ticks": ""
           },
           "bgcolor": "#E5ECF6",
           "caxis": {
            "gridcolor": "white",
            "linecolor": "white",
            "ticks": ""
           }
          },
          "title": {
           "x": 0.05
          },
          "xaxis": {
           "automargin": true,
           "gridcolor": "white",
           "linecolor": "white",
           "ticks": "",
           "title": {
            "standoff": 15
           },
           "zerolinecolor": "white",
           "zerolinewidth": 2
          },
          "yaxis": {
           "automargin": true,
           "gridcolor": "white",
           "linecolor": "white",
           "ticks": "",
           "title": {
            "standoff": 15
           },
           "zerolinecolor": "white",
           "zerolinewidth": 2
          }
         }
        },
        "title": {
         "text": "Cell type 1 component histograms"
        },
        "width": 600,
        "xaxis": {
         "anchor": "y",
         "domain": [
          0,
          1
         ],
         "title": {
          "text": "component"
         }
        },
        "yaxis": {
         "anchor": "x",
         "domain": [
          0,
          1
         ],
         "title": {
          "text": "count"
         }
        }
       }
      }
     },
     "metadata": {},
     "output_type": "display_data"
    },
    {
     "data": {
      "application/vnd.plotly.v1+json": {
       "config": {
        "plotlyServerURL": "https://plot.ly"
       },
       "data": [
        {
         "bingroup": "x",
         "hovertemplate": "cell_type=0<br>component=%{x}<br>count=%{y}<extra></extra>",
         "legendgroup": "0",
         "marker": {
          "color": "#636efa",
          "opacity": 0.7,
          "pattern": {
           "shape": ""
          }
         },
         "name": "0",
         "nbinsx": 30,
         "orientation": "v",
         "showlegend": true,
         "type": "histogram",
         "x": {
          "bdata": "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",
          "dtype": "f4"
         },
         "xaxis": "x",
         "yaxis": "y"
        },
        {
         "bingroup": "x",
         "hovertemplate": "cell_type=2<br>component=%{x}<br>count=%{y}<extra></extra>",
         "legendgroup": "2",
         "marker": {
          "color": "#EF553B",
          "opacity": 0.7,
          "pattern": {
           "shape": ""
          }
         },
         "name": "2",
         "nbinsx": 30,
         "orientation": "v",
         "showlegend": true,
         "type": "histogram",
         "x": {
          "bdata": "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",
          "dtype": "f4"
         },
         "xaxis": "x",
         "yaxis": "y"
        },
        {
         "bingroup": "x",
         "hovertemplate": "cell_type=1<br>component=%{x}<br>count=%{y}<extra></extra>",
         "legendgroup": "1",
         "marker": {
          "color": "#00cc96",
          "opacity": 0.7,
          "pattern": {
           "shape": ""
          }
         },
         "name": "1",
         "nbinsx": 30,
         "orientation": "v",
         "showlegend": true,
         "type": "histogram",
         "x": {
          "bdata": "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",
          "dtype": "f4"
         },
         "xaxis": "x",
         "yaxis": "y"
        }
       ],
       "layout": {
        "barmode": "overlay",
        "height": 300,
        "legend": {
         "title": {
          "text": "cell_type"
         },
         "tracegroupgap": 0
        },
        "template": {
         "data": {
          "bar": [
           {
            "error_x": {
             "color": "#2a3f5f"
            },
            "error_y": {
             "color": "#2a3f5f"
            },
            "marker": {
             "line": {
              "color": "#E5ECF6",
              "width": 0.5
             },
             "pattern": {
              "fillmode": "overlay",
              "size": 10,
              "solidity": 0.2
             }
            },
            "type": "bar"
           }
          ],
          "barpolar": [
           {
            "marker": {
             "line": {
              "color": "#E5ECF6",
              "width": 0.5
             },
             "pattern": {
              "fillmode": "overlay",
              "size": 10,
              "solidity": 0.2
             }
            },
            "type": "barpolar"
           }
          ],
          "carpet": [
           {
            "aaxis": {
             "endlinecolor": "#2a3f5f",
             "gridcolor": "white",
             "linecolor": "white",
             "minorgridcolor": "white",
             "startlinecolor": "#2a3f5f"
            },
            "baxis": {
             "endlinecolor": "#2a3f5f",
             "gridcolor": "white",
             "linecolor": "white",
             "minorgridcolor": "white",
             "startlinecolor": "#2a3f5f"
            },
            "type": "carpet"
           }
          ],
          "choropleth": [
           {
            "colorbar": {
             "outlinewidth": 0,
             "ticks": ""
            },
            "type": "choropleth"
           }
          ],
          "contour": [
           {
            "colorbar": {
             "outlinewidth": 0,
             "ticks": ""
            },
            "colorscale": [
             [
              0,
              "#0d0887"
             ],
             [
              0.1111111111111111,
              "#46039f"
             ],
             [
              0.2222222222222222,
              "#7201a8"
             ],
             [
              0.3333333333333333,
              "#9c179e"
             ],
             [
              0.4444444444444444,
              "#bd3786"
             ],
             [
              0.5555555555555556,
              "#d8576b"
             ],
             [
              0.6666666666666666,
              "#ed7953"
             ],
             [
              0.7777777777777778,
              "#fb9f3a"
             ],
             [
              0.8888888888888888,
              "#fdca26"
             ],
             [
              1,
              "#f0f921"
             ]
            ],
            "type": "contour"
           }
          ],
          "contourcarpet": [
           {
            "colorbar": {
             "outlinewidth": 0,
             "ticks": ""
            },
            "type": "contourcarpet"
           }
          ],
          "heatmap": [
           {
            "colorbar": {
             "outlinewidth": 0,
             "ticks": ""
            },
            "colorscale": [
             [
              0,
              "#0d0887"
             ],
             [
              0.1111111111111111,
              "#46039f"
             ],
             [
              0.2222222222222222,
              "#7201a8"
             ],
             [
              0.3333333333333333,
              "#9c179e"
             ],
             [
              0.4444444444444444,
              "#bd3786"
             ],
             [
              0.5555555555555556,
              "#d8576b"
             ],
             [
              0.6666666666666666,
              "#ed7953"
             ],
             [
              0.7777777777777778,
              "#fb9f3a"
             ],
             [
              0.8888888888888888,
              "#fdca26"
             ],
             [
              1,
              "#f0f921"
             ]
            ],
            "type": "heatmap"
           }
          ],
          "histogram": [
           {
            "marker": {
             "pattern": {
              "fillmode": "overlay",
              "size": 10,
              "solidity": 0.2
             }
            },
            "type": "histogram"
           }
          ],
          "histogram2d": [
           {
            "colorbar": {
             "outlinewidth": 0,
             "ticks": ""
            },
            "colorscale": [
             [
              0,
              "#0d0887"
             ],
             [
              0.1111111111111111,
              "#46039f"
             ],
             [
              0.2222222222222222,
              "#7201a8"
             ],
             [
              0.3333333333333333,
              "#9c179e"
             ],
             [
              0.4444444444444444,
              "#bd3786"
             ],
             [
              0.5555555555555556,
              "#d8576b"
             ],
             [
              0.6666666666666666,
              "#ed7953"
             ],
             [
              0.7777777777777778,
              "#fb9f3a"
             ],
             [
              0.8888888888888888,
              "#fdca26"
             ],
             [
              1,
              "#f0f921"
             ]
            ],
            "type": "histogram2d"
           }
          ],
          "histogram2dcontour": [
           {
            "colorbar": {
             "outlinewidth": 0,
             "ticks": ""
            },
            "colorscale": [
             [
              0,
              "#0d0887"
             ],
             [
              0.1111111111111111,
              "#46039f"
             ],
             [
              0.2222222222222222,
              "#7201a8"
             ],
             [
              0.3333333333333333,
              "#9c179e"
             ],
             [
              0.4444444444444444,
              "#bd3786"
             ],
             [
              0.5555555555555556,
              "#d8576b"
             ],
             [
              0.6666666666666666,
              "#ed7953"
             ],
             [
              0.7777777777777778,
              "#fb9f3a"
             ],
             [
              0.8888888888888888,
              "#fdca26"
             ],
             [
              1,
              "#f0f921"
             ]
            ],
            "type": "histogram2dcontour"
           }
          ],
          "mesh3d": [
           {
            "colorbar": {
             "outlinewidth": 0,
             "ticks": ""
            },
            "type": "mesh3d"
           }
          ],
          "parcoords": [
           {
            "line": {
             "colorbar": {
              "outlinewidth": 0,
              "ticks": ""
             }
            },
            "type": "parcoords"
           }
          ],
          "pie": [
           {
            "automargin": true,
            "type": "pie"
           }
          ],
          "scatter": [
           {
            "fillpattern": {
             "fillmode": "overlay",
             "size": 10,
             "solidity": 0.2
            },
            "type": "scatter"
           }
          ],
          "scatter3d": [
           {
            "line": {
             "colorbar": {
              "outlinewidth": 0,
              "ticks": ""
             }
            },
            "marker": {
             "colorbar": {
              "outlinewidth": 0,
              "ticks": ""
             }
            },
            "type": "scatter3d"
           }
          ],
          "scattercarpet": [
           {
            "marker": {
             "colorbar": {
              "outlinewidth": 0,
              "ticks": ""
             }
            },
            "type": "scattercarpet"
           }
          ],
          "scattergeo": [
           {
            "marker": {
             "colorbar": {
              "outlinewidth": 0,
              "ticks": ""
             }
            },
            "type": "scattergeo"
           }
          ],
          "scattergl": [
           {
            "marker": {
             "colorbar": {
              "outlinewidth": 0,
              "ticks": ""
             }
            },
            "type": "scattergl"
           }
          ],
          "scattermap": [
           {
            "marker": {
             "colorbar": {
              "outlinewidth": 0,
              "ticks": ""
             }
            },
            "type": "scattermap"
           }
          ],
          "scattermapbox": [
           {
            "marker": {
             "colorbar": {
              "outlinewidth": 0,
              "ticks": ""
             }
            },
            "type": "scattermapbox"
           }
          ],
          "scatterpolar": [
           {
            "marker": {
             "colorbar": {
              "outlinewidth": 0,
              "ticks": ""
             }
            },
            "type": "scatterpolar"
           }
          ],
          "scatterpolargl": [
           {
            "marker": {
             "colorbar": {
              "outlinewidth": 0,
              "ticks": ""
             }
            },
            "type": "scatterpolargl"
           }
          ],
          "scatterternary": [
           {
            "marker": {
             "colorbar": {
              "outlinewidth": 0,
              "ticks": ""
             }
            },
            "type": "scatterternary"
           }
          ],
          "surface": [
           {
            "colorbar": {
             "outlinewidth": 0,
             "ticks": ""
            },
            "colorscale": [
             [
              0,
              "#0d0887"
             ],
             [
              0.1111111111111111,
              "#46039f"
             ],
             [
              0.2222222222222222,
              "#7201a8"
             ],
             [
              0.3333333333333333,
              "#9c179e"
             ],
             [
              0.4444444444444444,
              "#bd3786"
             ],
             [
              0.5555555555555556,
              "#d8576b"
             ],
             [
              0.6666666666666666,
              "#ed7953"
             ],
             [
              0.7777777777777778,
              "#fb9f3a"
             ],
             [
              0.8888888888888888,
              "#fdca26"
             ],
             [
              1,
              "#f0f921"
             ]
            ],
            "type": "surface"
           }
          ],
          "table": [
           {
            "cells": {
             "fill": {
              "color": "#EBF0F8"
             },
             "line": {
              "color": "white"
             }
            },
            "header": {
             "fill": {
              "color": "#C8D4E3"
             },
             "line": {
              "color": "white"
             }
            },
            "type": "table"
           }
          ]
         },
         "layout": {
          "annotationdefaults": {
           "arrowcolor": "#2a3f5f",
           "arrowhead": 0,
           "arrowwidth": 1
          },
          "autotypenumbers": "strict",
          "coloraxis": {
           "colorbar": {
            "outlinewidth": 0,
            "ticks": ""
           }
          },
          "colorscale": {
           "diverging": [
            [
             0,
             "#8e0152"
            ],
            [
             0.1,
             "#c51b7d"
            ],
            [
             0.2,
             "#de77ae"
            ],
            [
             0.3,
             "#f1b6da"
            ],
            [
             0.4,
             "#fde0ef"
            ],
            [
             0.5,
             "#f7f7f7"
            ],
            [
             0.6,
             "#e6f5d0"
            ],
            [
             0.7,
             "#b8e186"
            ],
            [
             0.8,
             "#7fbc41"
            ],
            [
             0.9,
             "#4d9221"
            ],
            [
             1,
             "#276419"
            ]
           ],
           "sequential": [
            [
             0,
             "#0d0887"
            ],
            [
             0.1111111111111111,
             "#46039f"
            ],
            [
             0.2222222222222222,
             "#7201a8"
            ],
            [
             0.3333333333333333,
             "#9c179e"
            ],
            [
             0.4444444444444444,
             "#bd3786"
            ],
            [
             0.5555555555555556,
             "#d8576b"
            ],
            [
             0.6666666666666666,
             "#ed7953"
            ],
            [
             0.7777777777777778,
             "#fb9f3a"
            ],
            [
             0.8888888888888888,
             "#fdca26"
            ],
            [
             1,
             "#f0f921"
            ]
           ],
           "sequentialminus": [
            [
             0,
             "#0d0887"
            ],
            [
             0.1111111111111111,
             "#46039f"
            ],
            [
             0.2222222222222222,
             "#7201a8"
            ],
            [
             0.3333333333333333,
             "#9c179e"
            ],
            [
             0.4444444444444444,
             "#bd3786"
            ],
            [
             0.5555555555555556,
             "#d8576b"
            ],
            [
             0.6666666666666666,
             "#ed7953"
            ],
            [
             0.7777777777777778,
             "#fb9f3a"
            ],
            [
             0.8888888888888888,
             "#fdca26"
            ],
            [
             1,
             "#f0f921"
            ]
           ]
          },
          "colorway": [
           "#636efa",
           "#EF553B",
           "#00cc96",
           "#ab63fa",
           "#FFA15A",
           "#19d3f3",
           "#FF6692",
           "#B6E880",
           "#FF97FF",
           "#FECB52"
          ],
          "font": {
           "color": "#2a3f5f"
          },
          "geo": {
           "bgcolor": "white",
           "lakecolor": "white",
           "landcolor": "#E5ECF6",
           "showlakes": true,
           "showland": true,
           "subunitcolor": "white"
          },
          "hoverlabel": {
           "align": "left"
          },
          "hovermode": "closest",
          "mapbox": {
           "style": "light"
          },
          "paper_bgcolor": "white",
          "plot_bgcolor": "#E5ECF6",
          "polar": {
           "angularaxis": {
            "gridcolor": "white",
            "linecolor": "white",
            "ticks": ""
           },
           "bgcolor": "#E5ECF6",
           "radialaxis": {
            "gridcolor": "white",
            "linecolor": "white",
            "ticks": ""
           }
          },
          "scene": {
           "xaxis": {
            "backgroundcolor": "#E5ECF6",
            "gridcolor": "white",
            "gridwidth": 2,
            "linecolor": "white",
            "showbackground": true,
            "ticks": "",
            "zerolinecolor": "white"
           },
           "yaxis": {
            "backgroundcolor": "#E5ECF6",
            "gridcolor": "white",
            "gridwidth": 2,
            "linecolor": "white",
            "showbackground": true,
            "ticks": "",
            "zerolinecolor": "white"
           },
           "zaxis": {
            "backgroundcolor": "#E5ECF6",
            "gridcolor": "white",
            "gridwidth": 2,
            "linecolor": "white",
            "showbackground": true,
            "ticks": "",
            "zerolinecolor": "white"
           }
          },
          "shapedefaults": {
           "line": {
            "color": "#2a3f5f"
           }
          },
          "ternary": {
           "aaxis": {
            "gridcolor": "white",
            "linecolor": "white",
            "ticks": ""
           },
           "baxis": {
            "gridcolor": "white",
            "linecolor": "white",
            "ticks": ""
           },
           "bgcolor": "#E5ECF6",
           "caxis": {
            "gridcolor": "white",
            "linecolor": "white",
            "ticks": ""
           }
          },
          "title": {
           "x": 0.05
          },
          "xaxis": {
           "automargin": true,
           "gridcolor": "white",
           "linecolor": "white",
           "ticks": "",
           "title": {
            "standoff": 15
           },
           "zerolinecolor": "white",
           "zerolinewidth": 2
          },
          "yaxis": {
           "automargin": true,
           "gridcolor": "white",
           "linecolor": "white",
           "ticks": "",
           "title": {
            "standoff": 15
           },
           "zerolinecolor": "white",
           "zerolinewidth": 2
          }
         }
        },
        "title": {
         "text": "Cell type 2 component histograms"
        },
        "width": 600,
        "xaxis": {
         "anchor": "y",
         "domain": [
          0,
          1
         ],
         "title": {
          "text": "component"
         }
        },
        "yaxis": {
         "anchor": "x",
         "domain": [
          0,
          1
         ],
         "title": {
          "text": "count"
         }
        }
       }
      }
     },
     "metadata": {},
     "output_type": "display_data"
    }
   ],
   "source": [
    "for c in range(n_cell_types):\n",
    "\n",
    "    vals, vecs = torch.linalg.eigh(b[c])\n",
    "    vals = vals.flip([0])\n",
    "    vecs = vecs.flip([1])\n",
    "\n",
    "    adata.obsm[\"X_Q\"] = adata.X @ vecs[:, :3].numpy()  # project into component space\n",
    "\n",
    "    hist_df = pd.DataFrame({\n",
    "        \"component\": adata.obsm[\"X_Q\"][:, 0],\n",
    "        \"cell_type\": adata.obs[\"cell_type\"]\n",
    "    })\n",
    "    \n",
    "    fig = px.histogram(\n",
    "        hist_df,\n",
    "        x=\"component\",\n",
    "        color=\"cell_type\",\n",
    "        title=f\"Cell type {c} component histograms\",\n",
    "        opacity=0.7,\n",
    "        nbins=30,\n",
    "        barmode=\"overlay\",\n",
    "        width=600,\n",
    "        height=300,\n",
    "    )\n",
    "    fig.show()"
   ]
  },
  {
   "cell_type": "markdown",
   "id": "8294e164",
   "metadata": {},
   "source": [
    "Nice, the pattern is clear in the histograms of just the top components.\n",
    "\n",
    "What happens if we plot these cells in the space spanned by each cell type's top component?"
   ]
  },
  {
   "cell_type": "code",
   "execution_count": 24,
   "id": "b2822e9f",
   "metadata": {},
   "outputs": [
    {
     "data": {
      "application/vnd.plotly.v1+json": {
       "config": {
        "plotlyServerURL": "https://plot.ly"
       },
       "data": [
        {
         "hovertemplate": "color=0<br>x=%{x}<br>y=%{y}<br>z=%{z}<extra></extra>",
         "legendgroup": "0",
         "marker": {
          "color": "#636efa",
          "size": 5,
          "symbol": "circle"
         },
         "mode": "markers",
         "name": "0",
         "scene": "scene",
         "showlegend": true,
         "type": "scatter3d",
         "x": {
          "bdata": "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",
          "dtype": "f4"
         },
         "y": {
          "bdata": "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",
          "dtype": "f4"
         },
         "z": {
          "bdata": "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",
          "dtype": "f4"
         }
        },
        {
         "hovertemplate": "color=2<br>x=%{x}<br>y=%{y}<br>z=%{z}<extra></extra>",
         "legendgroup": "2",
         "marker": {
          "color": "#EF553B",
          "size": 5,
          "symbol": "circle"
         },
         "mode": "markers",
         "name": "2",
         "scene": "scene",
         "showlegend": true,
         "type": "scatter3d",
         "x": {
          "bdata": "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",
          "dtype": "f4"
         },
         "y": {
          "bdata": "UtElwTwBAMFnxCLAY5CbwGoj6b+Na+6/SJXYwDNpP8Aol9DABL/6wKR1B8GoLuXATBzawL6yycAolurAj8SYwFTiG8FPa+PAqAcKwXUe/sCvIlzApjCnv/AB/T08XJzAuUDdP7EdusCnEd7AFJAHwfef58CUeBTBm1zWwNrc2cB8J+nADtcFwUGqnsAjhrHA66/EwOtg4sBhx6bAEsAlwLKaAsHYIpHAnc0hwF3cjb8o3ZjALrnSwN0J5cDgR/DAfNOXwHoZocAWe0A+wnvDwNI61MBzw9LA5ssPv+5XksD/pTLAO+ynwOV648AxFNLAA+/twJGkxMCnJJnAsv++wOFG08B/CIW/PvXxwFE0DcFKv/zA/JzSwJ/7qcAWo3bA/X0dwQhgxsDtfuDAPyiUwByUFcGKkQTBJu+ewEx9K8HSffbAEp2ywLXk2sDZD9LAvdD+wO/t+8CNFp7AY9U2wEff68ChdJ7AZyLyv6rTbT5tupvA8yQGwRYP07++G2/AJEbbwKj81cCOsQLBrvNkwNPoS8BA43LA/56GwLvr98CUbHJAEmUawWINCcH9qeDAfoPVwFwIvcA3rdbAhCQXvnd9M8AdTJHAndO1wIhR3L/gwAHBss6OwIXKAsF8td7Awd6JwICz9MCiJQ7BrgX3wAuMh8DlZzXA8z0DwRWa08DnAhDBHY3HwMilDME0bY/AU7LKwDKUz8DCtA7BSPVswNy3jcAK1avAAKDQwNZuAMCvyo7AT8a3wMHnusB+stLAMkvQwHlRccB0IczAjSAEwWMaycBK+1jA4ck1wG6KKcBEAADBHu6TwJrHi8D/79XAoFvbwA/VxcCNEPDAu0RYwDIgYL88YSjBBeEPwUW41MAkar7AfJYYwXZt6cBElujA1iuSwGWFu7/sR53AiikKwXl8+MD2vvfAV7VxwEN49cAQxNXAOD3HwFyndcDu1x3BbTQGwbbaAcHKo4TAtStJwREEFMAMNDzAWYwUwaRuQ8DmROfA0GXzwEu/v8Cr8X3ATokQwS9yssB/eJzAeLZswJQWcMCyTuvA1hUMwcej4MBHveXAmTwNwfozxMA68OHA+u37wDGl68BCSN3ArIL1wPnB4sBsZLXA3KewP9toFMB3GWHAgMqVwGTtKsGa4PjA1T+awKsBCcENvuTAKH73wHiSLMADaEfAojOBwI6sB8FOeSHBGA7zwBf1ssANAgrBF43MwKRy9MCV2JHAGrUBwZT84cAW1UnAWHZzwK58CcFOuVXAx9vzwMqWHcA+yLrAykTCv/HBMT/Tl9jADF8HwP5PpMAL67C/e8hfwLVI78Dz/MnAV0YPwUiZlcA0juO/mhkEwSha7cBAssHAoxnMv12kKMELdt+/VMiRwKLqD8Afm9LAtFyywOBfzcAhv+TAwoKCwHBNZ8DYbhW+GbPUwCmN6MBOg7DAddn4wEZW7cCd2g/AtlgnwQENrMD8eN7AJG7zwNSw/MBrmA7BFGiKwNXhHMFa/H/A4QrrwD9qEMFlFCLBShAXvxgMC8HKspjAW3qwwOD+YMBRotLAPrqrwNbZrMDx5CLBPw1AwIF6QL9TXOXAYnITwdH66cBYTLPAR0jRwKbjt8Bk4/HAujTHwPSeaMBNPMjAbRkWweTacsBoWInAZWnvwC1aG8F9HN3AbEUDwUrW8sBsnLDA8bCnwL1SzMDc6BnBr+KAP1RG98Bht6zAmhQJwF7TicD/Tti/Ho77wLcLbMDWlOzAblJTP3NjpsA3vr2/2sP+wImBqcAtprvAmGUNwZpy6b+v5W3AF+XswFTlqsAV7tPAD4HwP8njg8A5nBnBsS0Jwa+83sBaqxPBsAwIwWu+rMBU4RnBTKPKwAqnBsEeoyTBFi/swDp11MAp1q/Aa3zlwEx/E8H6F7vAgNsBwQ5AbMAmVhbB4lrwwBg2ycAJrNLAzzEYwSMmWcDy4+TAuryowBYHFMFDn9G+BsMSwZdPtcD6ZfnAXQnKPxYSTsBEuNDAt+rswOWTscBxx9a/Zs0XwdE8FsHu0YLA9t/+wNCA/MD9RAbBqd+PQEX2vsBovqvAKK0PwfECB8G7uN7A11YQwSGI6MDSF27A69kBwZpFkcBwdAXBbknlwBkyzz8AWULAlJ3EwA08xsCHXyvBIlybwEz2CMEne/TAGonLwHcK9cCbDpfAeUCewGm5A8G6RMvABhcGwRij+8ALDorAyTrRwNQpBsG8tOQ+fuZ3wBUL18CmXIM/YbknwRJUJcH3ZiPBzHQkPx1qBcEvL6fAARAvwQqOnsCRRdPAh8DWwH+oGsHWQyDBtLQDwdADjMD/MHzAuhYswXeFAsFhARXAGtSjwJCmoMDm2rjASMYFwbUbLMHQ97XASwYQwfuG3MAFZ9jA4nwPwTOhGsGQgA3BYoAAwawgEr0OggbBsGHnwL51AcGx1iLBnrf5v8jNp8B8g/DArpvRwHovwsCnd/fAPV4GwR5+C8D99dPAupsmwVLVsb8nMgfBrN+XwJfNOcHCCLE/B43fwFw3EsHSbqrAlLsGwXR9GcHxw1bAMBSAvCNh68Co+QzBB3XewC5ZJcHO9sjAsUm3wIUYEMFi8NTAXPL5wJAs28CIm1/A7Rj7wL+rE8A1MAPBzWQTwSgtCcF9sBbBXYWMwEqvx8DFLQvBuFhywJ5j+MDUbA7B1gz+wCufisDxWBDBxOUAwUY4zL0fkNTANlQSwVavOcChiyLBm5wtwfYfysD/bxHBW4eIwEQZ6j9Kg3q/jZWcwFSU58DuFojAJNMIwYrTFcFENT/AKRbvwMro+L9zCtXAojcBwU0czcA8aPDAMkLlwEZV+8Az1CzBM8MhwJrR78Bx6ZDA7UnJwOighL//4Q3Bhn+9wOL0FsGY0+TA+NAnwZYLyMBJ8u/A13ijwJg/zsCwxzXBstEDwQ8sf8D6Jf/ASQrLwKOVAsH4UzfACg47wLFi68CmU5DA2n57wPUqJcHWvAvBKxQKwSqhqcBMajk/ozTswNauHL9P4ePArazFvxhs38BDYX7A0PYcwX+bz8C3+LnAO0L1wG+YMMGAS5/AZpV9wAMQH8EDuGjAlKDMwIx+E8C1yK7AW9gZwddlDMG6bsvAmucuwPAWDMFFWuDA7GfgwIOkDMGXPObA9CnqwCuIv8DybJnA6FEHwQN0+cDOTfTAZTfZwJDUBsEUhPvA4sKJwHKQA8EC/xzBk4EYwVSVI8BqY/DAX9AwwF3YIMFQH4TAtwoTwG5MTMDQv/bAvqPXwD5zK8C33r/AGAYUwb719sDobsDAbWmywK7VI8HU0xc/ht/GwPcq6cDaMe7ASsYiwYbS/7+mdDXAcy7YwJGF88DUrsHACo0GwSyQGsGGQnnA6OkqwQDw+cDapO8+rqpkv4BB98BCRHfAmzARwZAYNUBhP+7Ab3wSwK5Z3L4xQvrAdBoTwWZC8MBzdATBKDPqwB2MUcBauD3AgRYDwSKJGsFPwQnBzJqbwMXxKsHhMNnAOqMowcUk+z/8TSHBkH8NwZkInUAMfjDBoZwkwSMw37+Me/LAWwUUweIeSUB4NQbB7HEQwOCX4r2qt17A1bLZwPkz7cDXjyfBCI6HwIjmRsByFQ7BbWWXv52q2sBS/gTByDYCwQYG0cB/lxLBG92ewClALsE6mCvB2GMdwZejyj+rBZLAJ6EuwBdZ0cBcFH3AR/9MwH3W7cColjPB8MTTwMugA8D8rNrAfGYxwRB8+cBYc/LAWVIkwZ9lCsHeAAjBONkBwevnL8AH3ifBsnoWwWiP+cANng/BV1WzwJS+SD9N0xbBRhEGwQT86cDqv+3AwcwMwUDF4MAd4tvAWI0MwUDW/sB6yCrBmqqswIR8ssAhzSTB4taGwIMSF8GIcGBAbjOGv0kBAMHR8LbAHZ8HwWWwhb/UzrzAjLLiwOasFcHEBqe/K5LVwDARysAAt9XAgaUGwRa24r5w+ebAzpgrwRTjg8CsuRHAkXm8wEO0FcE6PQ/BdNfewO1ywMCNK7rA4WP2wKyCm8AiKVvA+vLmvgzQ7MCXpmnAlMfCwP+FsMBzXQHBPsXZwHpDkb7aUgbBCvzZwB20BcH1jfnAY3gRwRi1CsGRYAbA56wQwb0u/8C0K4rA94D8wEqDs8DwQiHBhyHzwB/IAMHCEIrADsrtwHYfrcBbRtTAIV/uwLsVE8GGdyPB3m3NwGiI+sCetAnB0mjQP/OlJcFKyyLBGpIUwR71Z8AkRoHAUoKQwOR76sCFaOPAcKnbv0ozBsFkf7vA9HjzwArPp8AKNxTB4M64wGY9n8Cld/rA5v/owO3y5MC8MpbAmcW3P9/YaMBm7zzAVD3awEp8+sBklra/WsHiwBE7A8F+X4fA7o98wEJfB8FcNfrAp1H7wOozHUADHu7AQSQDweqMCsEeUmnAjVy5wIO3YMD1TRbBh5UTwV+HoMAgjCXAL2AGwVoKccDVVe/A60DjwGSYqsBextnAlbBEv/dF38DWsQjBEUQ5wO2pM8ByOqDApEWpwJBRFsFIDhrBKWzPwO1KUMBzYsnAV7QVwWPS0cAJP93A28S3wMb8EsG3ywTBvurYPmRndsD/D67A7o0kwfwpIcEfg6m/0GEKwYC528DvUNTAqIi3wJjIZsAsoAPB3Q4DwYqFD8HQW6vASV7RwFLx9sD0LaLAxj9+v0Zzq8DWndzA/JEhwV1p0MBCNAbBq6/TwAzQD8Fw5r/A2KbYwO7wycDX6hvByXj7wJDA1sA0K/HA52jJwMwlrMA7VYfALUjpwFaO1sBAvAbBZ3rrwNjXpMBvOuvAWNALwUbjoMCd7p7AcJKVwGb5tMAWLNrAN7MTwAUz7r+gyfvAUZfwwHwBGcEgZ/bA/5nYwNLQA8A6ItjAJNnFwJKu9MBKCBLBKhkFwdXt879WiBnBaDsDwRwmwcAomQzBduyzwK48EMGU/PvAzrdYPlspBMHG7c3AjkYbwSIOE8HGFBPA2nz8wLUm98AD8dXA4NbhwGffKsG+otDA9aQ5wIDP2cD5UJDAZhMcwZfnzMD9vo7A0RcKwRVsDsG2m8/AH4fywP6KHsEIsZjAvramv85BzMC1f20+nl95wLpB2sAa3APB1n2+wBIGucAUtF3A+VcHwecEbcA9i4A/PIcqwHvXWcArvR/A9A7iwA5GS7+ncQbB8N/7v90vncAbagvBVJYqwVNT9MBg9M7AOCz4wKDUGMHiT2U+NmzmwFgfC8HOsie/CtxDP2nBDcG8ML2+iG8GwZkID8EpXbnAhMIdP2xN7sBM/B7Bj3PKwNXHIsHaYpjAjtrdwIQn7sBksPPASqDNwE1TF8HaYgbAU+OAwFmpDsHHsy/BvXG5wHdn58CoWN/AIXf5wBPsN8AQkvjA7PK2wPq/uMA0mLDA1u3kwPB5DcFNgt/A1tYDwT3RdcCho7zAY/bkwLroKb9I6gq/XtvnwMaJ1cAej3DAgBBJwM7dTz9Y1Q3BgjK4wHk+nr+JQQnBaK3hwM4tO8GBfB7BDsDCwEtf1MA6tcjAK+73wIt4nMB26yTBqUPYwIq1CcEkqCTASrDRwKufr8BD2CnBWkP+wJC1Yj3MNJzAYGqFwP4n08BJtg3B6im9v6LE18A4y2bAanIawTa5a8Aza83AbKP5wI4YlMDGzwTAnjnXwKGi7sDPKQ3BNdv9wCkkF8EJaRDB6f/cwLvc9z5zNA7B2j7uwHuVmsCYZ14/c/n8wDJjEcGcFRHB2jAEwQ==",
          "dtype": "f4"
         },
         "z": {
          "bdata": "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",
          "dtype": "f4"
         }
        },
        {
         "hovertemplate": "color=1<br>x=%{x}<br>y=%{y}<br>z=%{z}<extra></extra>",
         "legendgroup": "1",
         "marker": {
          "color": "#00cc96",
          "size": 5,
          "symbol": "circle"
         },
         "mode": "markers",
         "name": "1",
         "scene": "scene",
         "showlegend": true,
         "type": "scatter3d",
         "x": {
          "bdata": "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",
          "dtype": "f4"
         },
         "y": {
          "bdata": "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",
          "dtype": "f4"
         },
         "z": {
          "bdata": "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",
          "dtype": "f4"
         }
        }
       ],
       "layout": {
        "height": 600,
        "legend": {
         "title": {
          "text": "color"
         },
         "tracegroupgap": 0
        },
        "scene": {
         "domain": {
          "x": [
           0,
           1
          ],
          "y": [
           0,
           1
          ]
         },
         "xaxis": {
          "title": {
           "text": "x"
          }
         },
         "yaxis": {
          "title": {
           "text": "y"
          }
         },
         "zaxis": {
          "title": {
           "text": "z"
          }
         }
        },
        "template": {
         "data": {
          "bar": [
           {
            "error_x": {
             "color": "#2a3f5f"
            },
            "error_y": {
             "color": "#2a3f5f"
            },
            "marker": {
             "line": {
              "color": "#E5ECF6",
              "width": 0.5
             },
             "pattern": {
              "fillmode": "overlay",
              "size": 10,
              "solidity": 0.2
             }
            },
            "type": "bar"
           }
          ],
          "barpolar": [
           {
            "marker": {
             "line": {
              "color": "#E5ECF6",
              "width": 0.5
             },
             "pattern": {
              "fillmode": "overlay",
              "size": 10,
              "solidity": 0.2
             }
            },
            "type": "barpolar"
           }
          ],
          "carpet": [
           {
            "aaxis": {
             "endlinecolor": "#2a3f5f",
             "gridcolor": "white",
             "linecolor": "white",
             "minorgridcolor": "white",
             "startlinecolor": "#2a3f5f"
            },
            "baxis": {
             "endlinecolor": "#2a3f5f",
             "gridcolor": "white",
             "linecolor": "white",
             "minorgridcolor": "white",
             "startlinecolor": "#2a3f5f"
            },
            "type": "carpet"
           }
          ],
          "choropleth": [
           {
            "colorbar": {
             "outlinewidth": 0,
             "ticks": ""
            },
            "type": "choropleth"
           }
          ],
          "contour": [
           {
            "colorbar": {
             "outlinewidth": 0,
             "ticks": ""
            },
            "colorscale": [
             [
              0,
              "#0d0887"
             ],
             [
              0.1111111111111111,
              "#46039f"
             ],
             [
              0.2222222222222222,
              "#7201a8"
             ],
             [
              0.3333333333333333,
              "#9c179e"
             ],
             [
              0.4444444444444444,
              "#bd3786"
             ],
             [
              0.5555555555555556,
              "#d8576b"
             ],
             [
              0.6666666666666666,
              "#ed7953"
             ],
             [
              0.7777777777777778,
              "#fb9f3a"
             ],
             [
              0.8888888888888888,
              "#fdca26"
             ],
             [
              1,
              "#f0f921"
             ]
            ],
            "type": "contour"
           }
          ],
          "contourcarpet": [
           {
            "colorbar": {
             "outlinewidth": 0,
             "ticks": ""
            },
            "type": "contourcarpet"
           }
          ],
          "heatmap": [
           {
            "colorbar": {
             "outlinewidth": 0,
             "ticks": ""
            },
            "colorscale": [
             [
              0,
              "#0d0887"
             ],
             [
              0.1111111111111111,
              "#46039f"
             ],
             [
              0.2222222222222222,
              "#7201a8"
             ],
             [
              0.3333333333333333,
              "#9c179e"
             ],
             [
              0.4444444444444444,
              "#bd3786"
             ],
             [
              0.5555555555555556,
              "#d8576b"
             ],
             [
              0.6666666666666666,
              "#ed7953"
             ],
             [
              0.7777777777777778,
              "#fb9f3a"
             ],
             [
              0.8888888888888888,
              "#fdca26"
             ],
             [
              1,
              "#f0f921"
             ]
            ],
            "type": "heatmap"
           }
          ],
          "histogram": [
           {
            "marker": {
             "pattern": {
              "fillmode": "overlay",
              "size": 10,
              "solidity": 0.2
             }
            },
            "type": "histogram"
           }
          ],
          "histogram2d": [
           {
            "colorbar": {
             "outlinewidth": 0,
             "ticks": ""
            },
            "colorscale": [
             [
              0,
              "#0d0887"
             ],
             [
              0.1111111111111111,
              "#46039f"
             ],
             [
              0.2222222222222222,
              "#7201a8"
             ],
             [
              0.3333333333333333,
              "#9c179e"
             ],
             [
              0.4444444444444444,
              "#bd3786"
             ],
             [
              0.5555555555555556,
              "#d8576b"
             ],
             [
              0.6666666666666666,
              "#ed7953"
             ],
             [
              0.7777777777777778,
              "#fb9f3a"
             ],
             [
              0.8888888888888888,
              "#fdca26"
             ],
             [
              1,
              "#f0f921"
             ]
            ],
            "type": "histogram2d"
           }
          ],
          "histogram2dcontour": [
           {
            "colorbar": {
             "outlinewidth": 0,
             "ticks": ""
            },
            "colorscale": [
             [
              0,
              "#0d0887"
             ],
             [
              0.1111111111111111,
              "#46039f"
             ],
             [
              0.2222222222222222,
              "#7201a8"
             ],
             [
              0.3333333333333333,
              "#9c179e"
             ],
             [
              0.4444444444444444,
              "#bd3786"
             ],
             [
              0.5555555555555556,
              "#d8576b"
             ],
             [
              0.6666666666666666,
              "#ed7953"
             ],
             [
              0.7777777777777778,
              "#fb9f3a"
             ],
             [
              0.8888888888888888,
              "#fdca26"
             ],
             [
              1,
              "#f0f921"
             ]
            ],
            "type": "histogram2dcontour"
           }
          ],
          "mesh3d": [
           {
            "colorbar": {
             "outlinewidth": 0,
             "ticks": ""
            },
            "type": "mesh3d"
           }
          ],
          "parcoords": [
           {
            "line": {
             "colorbar": {
              "outlinewidth": 0,
              "ticks": ""
             }
            },
            "type": "parcoords"
           }
          ],
          "pie": [
           {
            "automargin": true,
            "type": "pie"
           }
          ],
          "scatter": [
           {
            "fillpattern": {
             "fillmode": "overlay",
             "size": 10,
             "solidity": 0.2
            },
            "type": "scatter"
           }
          ],
          "scatter3d": [
           {
            "line": {
             "colorbar": {
              "outlinewidth": 0,
              "ticks": ""
             }
            },
            "marker": {
             "colorbar": {
              "outlinewidth": 0,
              "ticks": ""
             }
            },
            "type": "scatter3d"
           }
          ],
          "scattercarpet": [
           {
            "marker": {
             "colorbar": {
              "outlinewidth": 0,
              "ticks": ""
             }
            },
            "type": "scattercarpet"
           }
          ],
          "scattergeo": [
           {
            "marker": {
             "colorbar": {
              "outlinewidth": 0,
              "ticks": ""
             }
            },
            "type": "scattergeo"
           }
          ],
          "scattergl": [
           {
            "marker": {
             "colorbar": {
              "outlinewidth": 0,
              "ticks": ""
             }
            },
            "type": "scattergl"
           }
          ],
          "scattermap": [
           {
            "marker": {
             "colorbar": {
              "outlinewidth": 0,
              "ticks": ""
             }
            },
            "type": "scattermap"
           }
          ],
          "scattermapbox": [
           {
            "marker": {
             "colorbar": {
              "outlinewidth": 0,
              "ticks": ""
             }
            },
            "type": "scattermapbox"
           }
          ],
          "scatterpolar": [
           {
            "marker": {
             "colorbar": {
              "outlinewidth": 0,
              "ticks": ""
             }
            },
            "type": "scatterpolar"
           }
          ],
          "scatterpolargl": [
           {
            "marker": {
             "colorbar": {
              "outlinewidth": 0,
              "ticks": ""
             }
            },
            "type": "scatterpolargl"
           }
          ],
          "scatterternary": [
           {
            "marker": {
             "colorbar": {
              "outlinewidth": 0,
              "ticks": ""
             }
            },
            "type": "scatterternary"
           }
          ],
          "surface": [
           {
            "colorbar": {
             "outlinewidth": 0,
             "ticks": ""
            },
            "colorscale": [
             [
              0,
              "#0d0887"
             ],
             [
              0.1111111111111111,
              "#46039f"
             ],
             [
              0.2222222222222222,
              "#7201a8"
             ],
             [
              0.3333333333333333,
              "#9c179e"
             ],
             [
              0.4444444444444444,
              "#bd3786"
             ],
             [
              0.5555555555555556,
              "#d8576b"
             ],
             [
              0.6666666666666666,
              "#ed7953"
             ],
             [
              0.7777777777777778,
              "#fb9f3a"
             ],
             [
              0.8888888888888888,
              "#fdca26"
             ],
             [
              1,
              "#f0f921"
             ]
            ],
            "type": "surface"
           }
          ],
          "table": [
           {
            "cells": {
             "fill": {
              "color": "#EBF0F8"
             },
             "line": {
              "color": "white"
             }
            },
            "header": {
             "fill": {
              "color": "#C8D4E3"
             },
             "line": {
              "color": "white"
             }
            },
            "type": "table"
           }
          ]
         },
         "layout": {
          "annotationdefaults": {
           "arrowcolor": "#2a3f5f",
           "arrowhead": 0,
           "arrowwidth": 1
          },
          "autotypenumbers": "strict",
          "coloraxis": {
           "colorbar": {
            "outlinewidth": 0,
            "ticks": ""
           }
          },
          "colorscale": {
           "diverging": [
            [
             0,
             "#8e0152"
            ],
            [
             0.1,
             "#c51b7d"
            ],
            [
             0.2,
             "#de77ae"
            ],
            [
             0.3,
             "#f1b6da"
            ],
            [
             0.4,
             "#fde0ef"
            ],
            [
             0.5,
             "#f7f7f7"
            ],
            [
             0.6,
             "#e6f5d0"
            ],
            [
             0.7,
             "#b8e186"
            ],
            [
             0.8,
             "#7fbc41"
            ],
            [
             0.9,
             "#4d9221"
            ],
            [
             1,
             "#276419"
            ]
           ],
           "sequential": [
            [
             0,
             "#0d0887"
            ],
            [
             0.1111111111111111,
             "#46039f"
            ],
            [
             0.2222222222222222,
             "#7201a8"
            ],
            [
             0.3333333333333333,
             "#9c179e"
            ],
            [
             0.4444444444444444,
             "#bd3786"
            ],
            [
             0.5555555555555556,
             "#d8576b"
            ],
            [
             0.6666666666666666,
             "#ed7953"
            ],
            [
             0.7777777777777778,
             "#fb9f3a"
            ],
            [
             0.8888888888888888,
             "#fdca26"
            ],
            [
             1,
             "#f0f921"
            ]
           ],
           "sequentialminus": [
            [
             0,
             "#0d0887"
            ],
            [
             0.1111111111111111,
             "#46039f"
            ],
            [
             0.2222222222222222,
             "#7201a8"
            ],
            [
             0.3333333333333333,
             "#9c179e"
            ],
            [
             0.4444444444444444,
             "#bd3786"
            ],
            [
             0.5555555555555556,
             "#d8576b"
            ],
            [
             0.6666666666666666,
             "#ed7953"
            ],
            [
             0.7777777777777778,
             "#fb9f3a"
            ],
            [
             0.8888888888888888,
             "#fdca26"
            ],
            [
             1,
             "#f0f921"
            ]
           ]
          },
          "colorway": [
           "#636efa",
           "#EF553B",
           "#00cc96",
           "#ab63fa",
           "#FFA15A",
           "#19d3f3",
           "#FF6692",
           "#B6E880",
           "#FF97FF",
           "#FECB52"
          ],
          "font": {
           "color": "#2a3f5f"
          },
          "geo": {
           "bgcolor": "white",
           "lakecolor": "white",
           "landcolor": "#E5ECF6",
           "showlakes": true,
           "showland": true,
           "subunitcolor": "white"
          },
          "hoverlabel": {
           "align": "left"
          },
          "hovermode": "closest",
          "mapbox": {
           "style": "light"
          },
          "paper_bgcolor": "white",
          "plot_bgcolor": "#E5ECF6",
          "polar": {
           "angularaxis": {
            "gridcolor": "white",
            "linecolor": "white",
            "ticks": ""
           },
           "bgcolor": "#E5ECF6",
           "radialaxis": {
            "gridcolor": "white",
            "linecolor": "white",
            "ticks": ""
           }
          },
          "scene": {
           "xaxis": {
            "backgroundcolor": "#E5ECF6",
            "gridcolor": "white",
            "gridwidth": 2,
            "linecolor": "white",
            "showbackground": true,
            "ticks": "",
            "zerolinecolor": "white"
           },
           "yaxis": {
            "backgroundcolor": "#E5ECF6",
            "gridcolor": "white",
            "gridwidth": 2,
            "linecolor": "white",
            "showbackground": true,
            "ticks": "",
            "zerolinecolor": "white"
           },
           "zaxis": {
            "backgroundcolor": "#E5ECF6",
            "gridcolor": "white",
            "gridwidth": 2,
            "linecolor": "white",
            "showbackground": true,
            "ticks": "",
            "zerolinecolor": "white"
           }
          },
          "shapedefaults": {
           "line": {
            "color": "#2a3f5f"
           }
          },
          "ternary": {
           "aaxis": {
            "gridcolor": "white",
            "linecolor": "white",
            "ticks": ""
           },
           "baxis": {
            "gridcolor": "white",
            "linecolor": "white",
            "ticks": ""
           },
           "bgcolor": "#E5ECF6",
           "caxis": {
            "gridcolor": "white",
            "linecolor": "white",
            "ticks": ""
           }
          },
          "title": {
           "x": 0.05
          },
          "xaxis": {
           "automargin": true,
           "gridcolor": "white",
           "linecolor": "white",
           "ticks": "",
           "title": {
            "standoff": 15
           },
           "zerolinecolor": "white",
           "zerolinewidth": 2
          },
          "yaxis": {
           "automargin": true,
           "gridcolor": "white",
           "linecolor": "white",
           "ticks": "",
           "title": {
            "standoff": 15
           },
           "zerolinecolor": "white",
           "zerolinewidth": 2
          }
         }
        },
        "title": {
         "text": "Top component space"
        },
        "width": 600
       }
      }
     },
     "metadata": {},
     "output_type": "display_data"
    }
   ],
   "source": [
    "top_vecs = []\n",
    "for c in range(n_cell_types):\n",
    "    _, vecs = torch.linalg.eigh(b[c])\n",
    "    top_vecs.append(vecs[:,0])\n",
    "top_vecs = torch.stack(top_vecs, dim=1)\n",
    "\n",
    "adata.obsm[\"X_Q_tops\"] = adata.X @ top_vecs.numpy()  # project into top component space\n",
    "\n",
    "fig = px.scatter_3d(\n",
    "    x=adata.obsm[\"X_Q_tops\"][:, 0],\n",
    "    y=adata.obsm[\"X_Q_tops\"][:, 1],\n",
    "    z=adata.obsm[\"X_Q_tops\"][:, 2],\n",
    "    color=adata.obs[\"cell_type\"],\n",
    "    title=f\"Top component space\",\n",
    "    width=600,\n",
    "    height=600,\n",
    ")\n",
    "fig.update_traces(marker=dict(size=5))\n",
    "fig.show()"
   ]
  },
  {
   "cell_type": "markdown",
   "id": "bf032237",
   "metadata": {},
   "source": [
    "Reconstructs PC space. Could provide dimension reduction capability.\n",
    "\n",
    "Could be trivial due to K-means' reliance on PCA."
   ]
  },
  {
   "cell_type": "markdown",
   "id": "8e2de4f3",
   "metadata": {},
   "source": [
    "# Phenotypic groups"
   ]
  },
  {
   "cell_type": "code",
   "execution_count": 25,
   "id": "a869d10d",
   "metadata": {},
   "outputs": [],
   "source": [
    "output_dir = torch.tensor([0.,1.,1.])  # differentiated types\n",
    "q = einops.einsum(output_dir, b, \"out, out in1 in2 -> in1 in2\")"
   ]
  },
  {
   "cell_type": "code",
   "execution_count": 26,
   "id": "be1625a3",
   "metadata": {},
   "outputs": [],
   "source": [
    "vals, vecs = torch.linalg.eigh(q)\n",
    "vals = vals.flip([0])\n",
    "vecs = vecs.flip([1])"
   ]
  },
  {
   "cell_type": "code",
   "execution_count": 27,
   "id": "1aeec148",
   "metadata": {},
   "outputs": [
    {
     "data": {
      "application/vnd.plotly.v1+json": {
       "config": {
        "plotlyServerURL": "https://plot.ly"
       },
       "data": [
        {
         "bingroup": "x",
         "hovertemplate": "variable=0<br>value=%{x}<br>count=%{y}<extra></extra>",
         "legendgroup": "0",
         "marker": {
          "color": "#636efa",
          "pattern": {
           "shape": ""
          }
         },
         "name": "0",
         "nbinsx": 100,
         "orientation": "v",
         "showlegend": true,
         "type": "histogram",
         "x": {
          "bdata": "wofHPaJPOT12bys9xcQgPWtCGj1KNRg9wbYPPXgBCj2pFwc93rUDPUl78Dzv6uw8xO/kPJzI4DyqTN08zMHXPJJV0jyG6Ms8LYTFPFXewjx7qLo84Fa3PLJIsjwb0qU8J4WiPMSjmDw8jpc8rlmVPMEGkDxCvo48pYSNPIqMiDzsMX88rq1oPLyBZTyW5mA80GpRPEL1STzPGkQ8ltAyPM1WKDwydRk8D50RPEwBBDz+IOI70uPaOxuQxjsQ0L073/+dO6UlkzuZAY07PolnO/s2XzvFY0U7DDAvO63ZHzswaR47544bOy4Z+TpGkuc6pYrIOiWQNjpOmt04GdVaOPPKYDLRIksyOm5FMkQbNTJUAycy6ywmMlF2JTLurhAyBkALMpUXBTKodAEyhdj0MVp89DH0Pe8xMA/tMXcB7TExnNwxGmnQMerszTHkcs0xdla9MdI8vDHOELwxnim4MfxytDFvSrMxcwGuMcEirDHx8Kgx/+2oMQZUnzFJ2J4xl6GcMSAtnDE+wpcxeiqSMY8WkjHbRZEx0CqPMSSyjDHiQ4wxGDmMMevRijEFHIoxf1OHMaXShjHpb4Uxg2xzMahAcjHZynExMn5uMb1RajGmdmkxJAxpMdvUYTH7IGExpRdfMQivXjHA61gxMdNXMZA1VjE5pVExDWNPMc26STEM00QxXgo+MeI6OzFVkzgxgAI2MdI8NDFDBS4xbW8rMY6bKjE4bioxEA0qMQnyKTGriiYxjEomMYntJTF02CAxfD0cMdgIGTESZBcxzNUTMd+UETFBYBAxcfAFMVmyAzF2LQEx+K0AMaXE8DDfWeswe+HnMMKH4TBVrtwwODTaMIDk2TAivNkwncLYMIOI2DA29dYwSZnVMInn1DBmuNQwnO7TML+o0zBSutIw7a7SMNB70jARKNIw8PvRMPcfzzA0BM8w3lzOMLhXzTBAQc0wNpjMMGOJzDBE08owY0/JMNIyyTDy2cgwMtfIMDT+xzCDpMcwiILHMD3XxjCLtMYwlEbGMDI+xjCJ1cUwDsDFMGmdxTA9lMUwKHTFMPJUxTA8qMQw7hzEMIuuwzADMMMwcBTDMI70wjB0mcIwdxjCMD4GwjAPA8Iw9rjBMBirwTAcLsEw823AMLgFwDCrmL8wK26/MKw4vzBZ+L0wa8O9MH95vTBZIr0wOwa9MCqHvDDBGLwwvfy7MKe/uzAoebswEWq7MFLBujC8prowanG6MF1NujB0Rrowxo65MCVFuTDTMrkwV7K4MN50uDCFRLgwowC4MCe2tzALm7cwtT+3MHGVtjCsZrYw7kG2MPm+tTDyurUwT7K1MLu1tDBQf7QwJni0MG9stDBb9LMwyOGzML6BszBjGbMw2NSyMFmvsjDOcLIw+WmyMIxFsjCUDLIwkyCxMDxwsDAYULAwAxqwMO++rzBW064wfdCuMOGtrjDpoq4wtkmuMK81rjAEMq4w2BmuMKLvrTBjrq0wBICtMAdQrTDVa6wwLFqsMHMzrDBlEKww33CrMHNtqzC5NqswuzSqMFsaqjBq46kwqcepMKuuqTABgKkw13upMLRnqTB6OKkwjvCoMFm9qDAwm6gwSV+oMKJYqDALL6gwtSOoMLn+pzBWeacwRnKnMHgOpzCS/KYwFQumMOXkpTDMrqUwtFClMCFPpTCY4qQwaMKkMDLCpDAatKQwk4ekMDoGpDCUzKMw6cGjMHexozBMD6MwyOqiMDnYojCgu6Iw1biiMLOaojCJk6IwRVGiMO9DojBZNqIwzIuhMG9boTB856Awc+GgMLxQoDAKTqAwmTmgMALOnzACqp8wy6CfML1gnzAuE58w6JqeMFdvnjB8W54wAlWeMAE0njAa4J0wtpudME5+nTD1cJ0w4zidMFMMnTCB3JwwnMWcMI+rnDDLjpwwnEKcMNbCmzBirpswMKybMFoXmzDpEpswPfmaMEStmjD5Tpow4hSaMAATmjCb+JkwEXuZMPUrmTDCBpkwKuyYMJnDmDCqfJgw2G+YMIlEmDBRPJgw9i2YMLxXlzAqPpcwgRaXMKn8ljD90pYwI8OWMK5pljC9XZYwK02WMMhKljBWJJYwlA+WMNMLljC+uZUwg3KVMIhnlTBlT5UwtkyVMNH3lDBmz5QwA8SUMDWRlDBgapQwF2aUMEZSlDA2MZQw2y2UMJ/kkzAEoJMwWEuTMDwDkzCq8ZIwz66SMF9NkjDtH5IwRAWSMG78kTCc7ZEwGsyRMMeEkTBaWJEwcFWRMC1SkTClP5EwRj2RMBA1kTBPzpAwc0OQMGw7kDCm8o8wl/CPMADajzC40I8wCJGPMLAqjzDXlY4wAX+OMKATjjBT9I0w56iNMJqAjTCyaY0wKu+MMGVwjDC7EIww1QKMMMJQizDIJIswue+KME7KijArqoow4ZGKMPtzijCFWIow8iGKMHgUijBIBYowXrWJMOWeiTBjbYkw2E6JMG1EiTBrCokwzsOIMAyeiDCIXIgwoiqIMHMpiDCd9YcwGPWHMFG1hzDWs4cwtLCHMK2ZhzDvhIcwjWmHMOI3hzCAJYcwcA+HMJoOhzDQAIcwkV6GMG8ChjDJ04UwTbyFMP+7hTBd8oQwY+2EMJrShDAYpYQwMG+EMO9UhDA6PoQwpPyDMEbugzAgy4Mw+qqDMCuhgzBIkoMwA2yDMHQxgzDrs4Iwh26CMIUJgjDOBYIwdsmBMHm/gTDIpYEwCoGBME9HgTDNNoEwISGBMP0VgTCFAoEwyP6AMFD8gDAIw4AwZ7+AMLmngDAwkoAw+FeAMM5IgDBuAYAwvpN/ML5qfzDIMH8w+yp/MLsGfzAq+34wXvp+MFrIfTAdtX0w1TV9MEunfDDFoXwwNz18MHxIezCoDnswkd56MKHTejBZuXow0Kp6MKMTejA333kwMHB5MEmfeDAfhHgwzm94MLjZdzAkmHcwjJl2MPeUdjD6aXYwpzJ1MDQwdTAb53Qwhsp0MJ9xdDD3C3QwdAF0MOHjczB3ZnMwJ5tyMKKHcjCAf3Iw6SdyMILpcTAX2XEwj65xMIJrcTC9sHAwRKVwMHL2bzBWzW8wCppvMIR5bzAuZG8wGkBvMDUTbzBgC24wTdZtMJXQbTDyjG0w5ihtMDj+bDALWmswclFrMJ/YajCKoWowNGdqMC5lajChVmow0j1qMBITajAYEGowXu9pMN3IaTClYGkwHDtpMLoxaTBqI2kwN8FoMAiGaDB0TmgwUkxoMCkwaDBb62cwUG9nMFVpZzCeLWYwCc1lMDTJZTCgxWUwtpNlMCo+ZTA5MWUwf+FkMAXVZDBUomQwJopkMJpVZDAjUmQwNVxjMG43YzBgL2MwOABjMDB3YjB9/2Ew7OdhMBJVYTCAC2EwrchgMAm0YDB8ImAw9AdgME4BYDBbA18wIPFeMIOsXjB98V0wD7NdMN2VXTCtXV0wtPVcMDByXDDGV1ww2BlcMNm7WzCKs1sw6TpbMI56WjBKdlow+z5aMF3IWTDVhFkweXdZMJEBWTC91FgwudNYMFEAWDC571cw0cxXMPR8VzA/ZFcwrMlWMHkYVjAMA1YwdPtVMIjfVTC+sVUwyWxVMENeVTCjWlQwvPdTMCC+UzA0flMwEBNTMDPQUjCaoFIwj1dSMGgXUjCgtlEwq69RME+hUTDek1EweTZRMGYnUTAg7lAw98FQMBOrUDCiTFAwAYlPME0TTzDI/k4wI7dOMGexTjAcaE4wIbdNMFPUTDDpwkwwu7xMMGahTDBpkkwwbGFMMA5UTDCXGUww3eFLMGu+SzAdukswc4xLMCXNSjA5x0own3RKMBtZSjCPzUkwtMtJMMkoSTCgCEkwepZIMHfERzD1mkcw4o1HMBg1RzBGLUcws7hGMGqyRjAoVUYwbcJFMBN0RTCr9EQw1JREMGbWQzAxPEMwDqxCMLuTQjB0dUIwH91BMMa2QTAYnEEw+oNBMNxJQTBFp0AwYyJAMFX+PzCZgD8wwTc/ML4EPzBhvj4wM70+MFOvPjAxZT4ws0U+MKpFPjAJHT4w1QU+MPgkPTBG+TwwPvM8MKCEPDC9XzwwJAQ8MHH1OzCTfjswLFE7MDikOjBrjjowTj86MAkeOjDAFTowiwM6MDPROTBcsjkwRbA5MOadOTAi9Dgw7PA4MJi6ODApsDcw6qw3MCOdNzBKXTcwTAo3MPR6NjCtaTYwDC42MMuvNTDpcjUwPTY1ME4tNTDuQzQwDuEzMOzAMzArwDMwjr0zMFW5MzCjdTMwexUzMEeJMjDg3TEwTDkxMEMKMTAy9zAwduEwMGljMDAvYDAw6AEwMFP8LzC/+S8wePAvMB6gLzBCdC8wAv0uMF3HLjCKRy4w/jcuMHweLjCa+y0wl80tMHjFLTD3di0wQSAtMMUDLTDUqSwwsmUsMHAdLDBE7CswlrcrMC1+KzC7VSswmCsrMAmtKjBfPSowgncpMO8SKTDBDykwEtMoMO9aKDCgUygwoTkoMPcPKDDhCygwLYknMMolJzBaJCcwnNImMHR2JjBaWiYwrFcmMDcGJjAW2iUwVL4lMMYtJTDDHSUwM50kMPKFJDBFhCQwVPcjMLPzIzAxqSMwdIUjMI9VIzAt2CIwE6giMKZ3IjCmcCIw8GMiMLYmIjBn/SEwcOYhMA2aIDDglSAwDF8gMJ9aIDB+zx8wZMEfMAanHzDlmB8wRZYfMAe6HjB/tx4wtbUeMBmyHjDzmR4wilgeMMIzHjC8Ax4wE6gdMJyWHTCWfx0wl1YdMC4gHTAK/RwwqbQcMEmEHDC8IRww9OcbMJ7hGzA6tRswTGQbMKZdGzDYxBowAkEaMG4YGjBr4BkwZb4ZMPWqGTAWYRkwrw4ZMPD+GDBMDRgwIIsXMNc+FzDwCBcwUnIWMKI7FjC0LxYw+dEVMG6yFTClrhUwVaEVMG9UFTBPShUwMiAVMC0cFTCcshQwUQUUMCcEFDCf+BMw9uoTMFXWEzDUtRMwilMTMOElEzDO5BIwPsUSMB2gEjDrkBIw6AwSMIYIEjAQ1REw+vMQMJ+DEDB8YxAwAmAQMAZLEDCjMBAwZakPMCekDzAxlA8w9lcPMLI1DzA89w4wkuIOMLPYDjBOxg4wV8UOMAqgDjDdtQ0wcqkNMCR3DTC3IA0wqxANMJyhDDC3aQww8DoMMN6mCzAGkgswq1sLMCYiCzAE3gow5tgKMGfNCjAXjQowZokKMHwsCjANBgowVeIJMKrOCTCVxQkweS4JMBUVCTBulQgwDEMIMFsRCDCJAggwBc0HMKFiBzCTCgcw6r4GMFapBjAgbgYw81UGMABKBjClygUwu+8EMOnGBDCCmQQwe1YEMLT9AzCK7AMw9rADMGpWAzAwKgMw7MsCMCqpAjDcWgIwtzcCMK8WAjDvxwEwnKMBMH1mATBYKwEwm7oAMCOpADCQggAwXj8AMErX/y8UxP8vI7X/Lx8w/y/sDf8vO5T+LyY2/i93h/0vFpX8L1RO/C9E0fsvasf7L/aL+y/EcfsvR7T5L8P2+C+MufgvsBz4L8Py9y8/d/cvxGj3L+GR9i/5NvYv47L1L5lf9S/7y/QvOeLzL/zX8y+ttPMvKZ7zL4zC8i8+jfIvLnTyL7bF8S/GhvEvlmLxL8uc8C/Ol/Av4VHwLxEt7y82r+4v1YntL9yD7S+3C+0vAWXsLyBD7C+wLewvt+PrL5O86y+BYOovtljqL/zL6S/ZY+kvurXoL5dl6C8ro+cvmYvnL2OA5y99RucvehznL/vG5i+axOQvwL/kLxCh4i9tD+IvUdrhL13X4S93DeEv7APhL4eY4C8xDeAvWijeL6GG3S9hQ90vQWHbL+Yc2y+5h9ovQRDaLzz32S990tkv/jrZL0Ae2S+F/NgvuurYL9mN2C9gWtgvFx/YL3Sf1S/ca9Uvt2HVL2lY0y/Nr9IvkH7SL+BK0i8X39EvWbDRL1GR0S8CWtEvRjHRL+Up0S+nQNAvvR/QL5Yzzy9L0swvoVvMLzg1zC/NxssvEGnLLxwQyy/CxsovlJnKL/Rwyi9ztskvXaLJLzSWyS8QbckvuVvJLxSlyC9OH8gvcPDHL53exy9ZVccvUhvHLx/+xi8s6MYv9PzFLyXJxC/NEMQvYbfDL8ekwy9Y5MIvRsDCL2Jcwi96bcEv00DBLyH7vy/FtL8vbKu/LzYQvy+8u74vDre+L2LhvS+Hv70vQBO9L/wFvS/SArwvjiK7L4/EuS9un7kvgWy5L+xIuS8YKrkvMw25L+g6uC8K6LcvCWi3L49aty9yP7Yvt/e1L1+ttS//jLUvSCC1L7cHtS+0m7Qv3Qy0L+D+sy9TsLIvcPSxL8aCsS/gYbEvBBCxLzEUsC9rfa8vvHOvL0Rcry+yKq8vUMqtL6QCrS/4U6wvpNCrLwjPqy+vyKsv61urLzixqi9ojKovKoqqLx11qi8hNqovllepL69XqC+JGacvMpumL3o9pi/jK6YvNAOmL4zJpS90jaUvsBClL4IKpS9t9aMvGKGjLzKSoy+x6aIvz9WiL6WZoi/wSqIvO+OhLzLNoS/Yj6EvVI2hL05+oS+iFqEvts2gLz5zoC95NKAvMEqfLwj6ni/6WZwv6R6cL7K8my9Y3JovkKOaL2XymS997ZkvpN2ZL0CgmS8dSZkvyg+ZL7pvmC8s2JcvQ1yXLzPeli8th5YvswGWL52elS8rapUvb1uVL/jjlC9k65MvmuKTL8Pbky/IX5MvJ0aTLzcYky9R6ZEvaFqRL6dukC/3m48vhSuPL1XRji9eb44vStyNLz3IjS90N40vW8+LL4/Jiy9OlIsvecqKL3Cpii++BIovyy6IL/fdhy/VyocvPJ2HLwDbhi/vu4Yv4ZuGL6PYhS9yX4UvgPSELw2Lgy9NUYMvVjeDLzwmgy9KwYIvFm+CL7ASgi89IYAvBhCAL9EOgC+z1Hwv2q58L7YJfC8ZW3ov3y56L+/meS+o4XcvRYh2L3pidS/nv3QvUR1zL4bZcS9xp3Ev/WRwL1ZYbS9vj2wvBhtsL2Gqay89nWsvtKtqLz2maS/P5Ggv59xoL1eAZC+XSWQv1k1iL9hnYS8wWmEv5tNgLyBQYC8LF2AvArxfLzglXy8VjV4vnIddLwTGXC/l+VsvN59aLxUkWi85tVgvcHVXL49eVS8ZmlQvxIVTL7J4Uy9VLFEvKSVRL50TUC/WgEwvwU1MLwy6Sy+t4kovNjtKL8n5SS8TAEgv0spHLxxrRy/wQ0YvwNpFLwyuRS/dqkUvJRVFL10MRS+3BUQvD/pDLxe3Qy/0sUMvATxDL/eXQS9VQkEv3J4/LzIlPy9YGT8vxfU+L6ojPS/FHT0vZ2A8L63POy/opjsvgmo7L7RaOy+CKjsvN4Y6L09+Oi+nBTovWrA5L+6EOS/4djgvI8c3L+cSNy/ooDYviS42LxuOMy+9UzMv5xkzLySqMS90/i8vT8gvL67lLi94vC4vnyMuL3HGLS//WC0vmSQsL1zlKy9hBysvA7AqL+IAKi/iyykvq7gpL+94KC+VniUvjpElLyRHJS/MUCMvtxgiL43zIS/tVyAv48IeL+iMHi/YaR0vMcQbLwrnGi8OchovvSsaL6SqGS9Tqhkv+YgYL+tEGC8t9RcvEUIXL+VUFi/GXBUv7eIUL6Q7FC9BNRQvh+0TL12uEy99AxMvV5MSLzOMEi+XfhEvYnMQL7IAEC8mZg4vYzMOL+QIDi99Ag0vgggML8iOCS/CLQgvn1wHL9vXBi9TvwYvUiQGL479BS/lWwUvbqMEL0pWBC9FOgMvEZgCL0JjAi97WwAvKND+LjOX+i4Advku6KT4Lg3l9y4ImPcudyX3LmPY9i7jz/IuquTxLrqU8C74c+4unGTuLgxb7S5e9+suTnHpLjjX6C4pw+cuu8rmLn3I5C6HxeIu7a3hLu633y4T390uZ2DbLhi22i4Q+dkuArvXLrcC1y49sNUuFMzSLtw5zS4fockuMT/JLrPMyC6h5sEutPK+Lr1Yvi4CWL0ue0y9LqXYvC7HV7suzNm3LlFBty70+rUud0qxLpC8rS5fWq0uRW6mLg7fpC7GdJ8uNOKeLnKWmS57gpcuPE2WLhUjkS6G1IouMJeKLkwEiS5HN4cucRaHLsu8hi7+HYIuwwKBLloOfi4yV3ku5vJzLid5Zy7kLF8uwCJaLv7NPi5NoD4ucts9LnepMC6VsysuIyUXLvV4Ei5L6gkuCIIALlbY8S2rj+Et5EDILW5Zqy2hEZst45iFLTkVgi0USX8t3up9LSn3eS2yrFYtc9pPLbJeSi2uXUotRVQ+LaDINS15lywtP8wrLXGcKS169SItfU4ZLcJTGC3pIBMtx4wSLSyMCC0PtgctWzoGLcT1Ay3VGQMt+rP/LE4o9Cy0wc0sh1LJLETfxiyhsMQspsW6LEoPuizlFbIsUT6sLHDBqSxohKcsixCgLFvhlixoBogszxBtLF7oTixF0kosEQpDLOdRLCyo7x8sQDYVLE4r6Sv9HOgrukfQK8IgoivDzWorrd5pK2bnZitAk0ormbzeKpc+zipxDq8qI+mWKgy3lir4dW8qX2Jvqi3PuqpItvWqyuEWq1g1IKtJcDCrDp1fq7y4dKteJaWr4jSvq4xlz6tvVd2rBwUOrOypNKwsQkOsJcByrCbSc6zcVHisHQ6BrJ2Dgay2X4asRrWGrFAoj6wto5CsPPGYrHADnqyvYLSsJIO0rLdKvqxGqsesSeHHrCQ+yaxzAMuscdDTrKbN5qwI7easZ5vnrDTc56w2a/SshWH8rOaQDK3nPhStUb4WrXt7F62mFyOtIXglrUwWKK1h9DOtxitCrXrbU621nWqt786FrQbalK1JwpetcmPArcFb4a0w4QCuayAIrlvzG67lbB6uvwYwrvdZN646ijeuhkA5rt/AP66H3k2ugitWruMgW67is22ubQ1vrscrda6QkYKuQcqDrsR9hK5oMoeut4eLrt5ija5lJI6uiHuOrqWKjq5NMJGugeaTroymm65Qd5yun+CdrtD3oK5r+qOu/Z2kruazpK7oFKWubJSmrn7Gpq4tPqiuhIKorsrZq67w2ayuXRCxrixos67Kt7SuFgu3rp8/uK4V0bmu1Fa8rikbvq7E/L+uCurFrm7eya4f9cuuYPrMrmNKza48Ks6uIUzOrvdd0a4l99Ku7fvSriNV1a61+9eu+NDYrhVQ2a4R1tyuscfdrneo366uT+SunmLmrho05659deiusBLpriuI7K7iNe6uQSTyruOH865ZwvSuWpf1rvz29a4LjveuT3b5rs4n+q4KHf6u+q0Ar4WJAa/V7wGvvukErydfBa8+nwWv9UUHr2KDCK86UQqvBJkKr8yzCq83bwuvHs4Lr9RdDK9tjwyvf8wMr/lADa/DdA2vOxMOr6pED682yg+vo5kQrz2HEa+enBGvuNgRr+nKE6/KyxOvntcTr/1jFK+m9RSvlJkWr5zjFq/HoRivi14ZrxXRGa+5+BmvOWAar5DRGq9sNhuvbEkcr3dxHK89uxyv83sdr9t1Hq/RwR+vI2wirwKeIq869SKv5lkjr+aMI6+P/SWvDj0mrzWiJq/ALCevTm0nr+H3J68tOSivar4or2b1KK8HZSqvbTgrr45QLK8IVSyvwLgsr57LLK/sqi2vBPUurxJfL6+r1y+v4PAvrzoEMa+5QjGvuuYxr6UlMq8FqzOvXC00r7mMNK/EDDWviF01rwi2Na+hBzavBlQ3r57uN6/EHzivd/I4r60yOa98QDqvTyU7r4b0O68THTyvx0w8rzLDPK8LFD2vvMs+r5JKQK+wKUGvWVNBr02LQq9/2EKvbeFCr1WvQ6+/3kOvX+hErwfpRK+X60Sv/2lFr+EgRq8mLkavGrpGrzgpR686XUevGjZJr5jrSa9J+k2vFNlPr77xT68F8VCvPEtRr8uJUa8IElKv3jhSr45KUq/XTFKv/g5Tr6znVK+0AVWvTshVr6v6Va9341avewFYr+VQWK/UF1mvtY5Zr+jOWa/nY1uvuc5brzDsW69BnV2vjOldr0L9Xa9fHV6v/FNfrxG+X6858WKvxkRjr+FwZq8pqGavWShnr1uPaq9EbmyvSd9sr/fYba9jTG6vvmFwr/7hcK/f/XGv4N1zr0Tic68VYXSvAHZ0r2zVdK/EaHWv3Yt2r7vedq+O7Xive7p5r0a/ea9S83mvbYV6ryNLfa9Dkn2vtwl/r3yPf698jICvkDCBr595ga9S64GvGLqCr1DTgq8oDIOvZhyDr0vNg6+P9IOv+VSEryZhhK/tw4SvVN6Gr6fnhq/KjIev/6yHr16+h68CSomvK6KJr8bSia841omvv+iJr3mpi68VD4yvuZiMrx8nja8dbo2vtJmNr3sijq8Lio6vDaeOrz9akK+cf5CvLJOQr9CzkK8WWJGvGHCSryUdk698HZOvsyCTrx9Bk6/Oh5Ovu+qTr7ZYlK+hmpSvvwqWr2wdlq8gU5evHveXr5kSmK+QW5iv2niYr+KdmK8mFZmvt0yZryGHma9Kp5mvbqqZr27Jma/SZ5qvlHCar7Ommq91JJuvFVKbrwhUm6+3SZyvFnGcr735nK8jZp2vyQ+er9kkn6+pS5+v+76frxXMn6/g+p+vPS2grwf4oK+GDqGv12yhr4vpoa+4+6GvhMGirymxo69C26OvuAGkr53ZpK/4MKWvtqClryT2pa+m/qWvWsWmr08sp6+UpKev7JWprxXPqa+8Kaqvyzyqr4S7qq9+PKuviUmrr4GLq69szKuvntarr+FJrK8iXK2v5l6tr+Fhra+F1a6vGmWvr38rsK+HjLCvQZGwr8W2sK8uF7Gvjp6xr0s2sq/w1LKvk7izr+TQs6+gNbSvMJ+0r97CtK+2B7WvCh61rwt6ta+mwrWvKBy2r2oktq/ZO7avDri3r+Xzt6+zUrmv3nG5rwG+ua/ZwrmvlzC6r09cuq85p7qvuCK7r8Iju6+t3ruvwrW8r/M3va8Nib2vkuy9r7Y0vq9bBL+vG2/Ar2b0wK+9KsGvGKbBr5fKwa8G08GvjR3CrwZ+wq9g5cKvm4LDr7jow6/SE8Sv6CrEr3k9xK/sucSvzcvEr4jSxa9x7cWvKbzHr17Ex68+58evl/LHr1gIyK+la8ivzRfJr5uUya/018mvNnHKr2mwyq/CcMuv68XMr3dBza9zX82vZ5vNr0/kza+fOM6vOeXOr496z6+H5s+vVGnQr9ym0K/0fNGvN4bRr9OI0a9GlNGvQZjRr/Oj0q83N9OvE/3Tr4U71K9gltav5f/Wr+yJ16/98NevgRPYr1o42K8TUNivJmrYr/l32a84J9qvSkfar7yT2q8+NNuvIcPbr9hE3K9wdNyvA9ncrzvZ3K+7it2vnejdr4bp3a9TCt+v2xbfr1Q54K80VuGvBKrhrw6z4a/2xuGvZdrhr7Xz4a/fC+KvVn7irx2Q4q8F4eKvH3bjr5Zw5K+RuuSv19bkr7lB5q8+eOavM+TmryHn5q/KDeevnmHnr4GW5695b+mvP37pr/mO6a84N+qvWSLrr/qe66+7FOyvm57sr9xD7a8qXO2vFn7tr0a67q8/X++vzYXvr8vW769+7O+v1SXwr0Ut8K9gT/Gv7q7xr7uU8q8k0fKvy9Tyr8AN868P0vOvSgb0r0IT9K8nV/WvOWj1r94g9q/sJvavHCX4r6+X+K9atvivoQT5r96Y+a/NBPqvigj6ryts+q/bu/qvHvr6r70k+69dc/uvlhT8r8sm/K8RUPyv5Z78r/JG/a+Lav2v+v/9r0RZ/q/1Wv6v4jv/rzZB/6+yVP+vkJn/r1wMALC9dwCwkHoAsDCDAbBNlwGwQtkBsJnZAbA1AgKwNF0CsFSTArAyZQOwpXUDsKTVA7BW2gOweusDsPcOBLDIYASwZNMEsGI4BbCXfgWwpLkFsEQnBrDdKgawrnEGsMqTBrBhowawHswGsKLMBrAQ5gaw//cGsPAwB7BJoAewol4IsOp2CLAEaAmwDocJsGarCbBEygmw7OIJsL4GCrBrHwqwqCYKsK9uCrDNoQqwprEKsBjHCrBZygqwleYKsGg6C7ABVQuwxL8LsPbYC7Dr9Auw2PwLsJB6DLAMpgywid0MsIb8DLAgEw2wVyENsIsiDbCXWA2wyFsNsFhbDrCo4Q6wyA0PsHWmD7A2AxCw18gQsMjLELBm+hCwCg0RsAVAEbANiBGwYZsRsIDSEbCO1xGwtEASsFZVErDmXRKwyGkSsPp8ErCXjRKwV6cSsBHeErBa/xKw2EsTsK2dE7CVDhSwnkUUsOpFFLBDTBSw82gUsDh1FLAVhxSw4rgUsKpqFbBbdxWwQ7UVsGHOFbCZVRawp2YWsA56FrCF3BawjCgXsB8vF7AyYBewtbwXsCfuF7APGxiw1igYsMRnGLCF+Biwp0kZsIWNGbBojhmwaZIZsHOYGbAkphmwM7cZsK26GbDCXRqwcl4asFOmGrDBrhqwp9YasOj8GrDHaxuw3eMbsB3lG7CeTxywAHscsDiDHLDKmxywku8csH8CHbDCGh2wUkodsIxwHbBy7h2w0fkdsBk0HrAkxx6wXwEfsKESH7AAIh+wZUIfsBNKH7CUlB+wVPQfsIhAILD4RiCwpVIgsHZgILBKgCCwg0ghsFOeIbBypyGwshkisCE8IrDXRSKw/mgisOR8IrBfuyKwo7wisEXOIrAOGiOwdj8jsN52I7C34COwxA4ksJqjJLA55SSw4xUlsNEoJbBBMCWwaUslsHJoJbCPtyWwks0lsCXtJbA3RyawAPQmsKmDJ7DPtSewKQcosJ0pKLD0TCiwqlcosFWdKLCSzyiwL98osIIXKbCJKimw00QpsDNcKbD/bimwEbspsMTJKbAR3ymwiRcqsKKvKrBXNiuw7tQssD7nLLBL9iywnR8tsPJBLbBTeS2w6nktsCyzLbBl4i2wFvMtsBIfLrB2NS6wnFcusI97LrA1CS+wCYAvsEfRL7AvOTCwl8AwsOnGMLB6IzGwNy8xsG1AMbD1GDKwbCQysO56MrCbmjKwmsAysKjmMrCvCzOwGVszsF58M7DEhjOwPTg0sJg4NLBSdjSwScw0sFHbNLDddDWw07I1sC3YNbBKHTaw1102sO1jNrDWjDawHRM3sNYoN7BHMzew+jU3sISlN7AJ6zewrvY3sCMWOLD2LDiwhDc4sHefOLCCwjiw30Q5sLy3ObAp+Dmw/1s6sLj2OrCyOzuw2oI7sNjDO7Bo1zuwiA48sLIaPLDR3jywIPk8sJldPbBhYT2wsH89sEeEPbAghz2wd449sF66PbDyaj6w1PA+sOcCP7BrDD+wfBc/sC9wP7DM7j+wPwpAsFVAQLA5jECwg5BAsNOUQLDKpkCwWLNAsPGzQLDCuUCw1stAsMMZQbAtLkGwF1xBsGs7QrAK9EKwNiFDsBtXQ7D2YUOwJGlDsBlzQ7DG6EOwa2hFsNsTRrCYF0awjCRGsGVARrCouUawctlGsOhHR7DaVEewll1HsFZ4R7DcmUewFqVHsLWvR7DOwkewCzVIsOyGSLA5nEiwe6pIsBHPSLAt/EiwxDJJsENTSbAIokmwOUJKsMtSSrDSM0uwA1BLsFZqS7C070uwpR5MsM40TLCkR0ywl29MsI2PTLDvoUywj+pMsFNJTbBobE2wztFNsKPwTbDOCk6waRROsMk0TrBgwE6w8kNPsDaRT7DynE+ws/9PsPF+UbDbhVGwdo5RsCusUbA3UlKwNIxSsCWwUrDLtFKw3sRTsLrJU7DoGlSweUBUsIJ6VLCWE1WwjR1VsKJIVbCx01WwBP1VsGw5VrD0ZFaw04tWsAyNVrB+qVaw+8RWsJwBV7AGGlewKEJXsPqVV7B19lewBxJYsP4TWLD3ZViwkmlYsC94WLDYrViwcP1YsC9fWbC4cFmw1H1ZsOugWbCa2lmwvCNasKY/WrBDmFqw9pxasGfqWrAPw1uwb85bsAjeW7BZuVyw1uRcsGX7XLCvBl2wxS1dsD5EXbDPVF2wJbddsHHIXbCG112wBfxdsOp1XrCfiV6wYsJesCXjXrD4Al+w0glfsP9KYLDCZWCwznxgsHTBYLAl2mCwyuRgsMkvYbDxMGGwCD9hsIiCYbDsx2GwLNRhsFTyYbCNU2KwydlisK7pY7DlCGSwrFFksB54ZLDFsmSw+xhlsK8bZbCHPGWw6T1lsOeYZbAR5mWwS+ZlsLkvZrBzTmawqxVnsHwjZ7DWEWiw/2xosKiYaLDLvGiw98VosCbQaLCdL2mw/T1psAx/abAtgGmwioFpsGbQabCo82mwkgZqsKQ8arB+k2qw4rpqsNkYa7CxjGuwkJVrsNzJa7Dk0WywP+ZssIZgbbDjf22wNo9tsEfobbA9K26wsUZusLqLbrAnyG6wpdNusBQ5b7BfeW+wMr5vsL7Qb7C232+w8wRwsFoZcLC4GnCw+UZwsIF5cLDMl3CwSNFwsMLVcLB3H3GwRNRxsP3hcbCQMnKwlaFysKvvcrAT+HKw8Q9zsAwhc7CjVXOw1LJzsDXnc7A3kHSwkvJ0sF1xdbCAeXWwMOR1sP8jdrCthXaw88t2sIP0drBbfHew3ZJ3sLu3d7CLzXewm953sOvkd7B1+3ewGoh4sNDbeLAIU3mwo+B5sIXiebD0dXqwKId6sGfDerCIxHqwne96sOc2e7CJW3uw+ZB7sMZvfLBJw3yw+jB9sLpOfbCRdn6w0YF+sJiVfrAC6n6w8P5+sHYcf7AqZ3+wPJZ/sFoEgLBEU4Cwd2OAsEWNgLCVkICw7syAsBrogLDG6ICwvvaAsGQKgbBnCoGwFQuBsN4LgbAUVIGwRlmBsMx3gbCDhoGwYYqBsFSygbCXu4Gw5sSBsHHMgbBiB4KwljeCsCNtgrAZhoKwB6iCsF6xgrCd54KwYh2DsLSXg7DJm4OwSJ6DsKamg7AWs4OwVN6DsAUuhLCxMYSws1CEsIBjhLC9c4Sw3b+EsBHUhLCc7ISwnlKFsKdchbDXsoWwgrqFsKbqhbBS84WwXQyGsHAYhrCLMYawGD2GsBmVhrDUp4awfNaGsLL8hrDFKYewPziHsLdAh7AgbIewU3OHsMLRh7DV4IewnOqHsCAMiLBNKoiwySyIsPpZiLAHaoiw3nGIsOCOiLDMrYiwNsmIsJUMibBiG4mw/DWJsPxBibCMdomwrqKJsAO2ibAZt4mwAjOKsO03irANfoqwBbeKsM7SirD/QouwBW2LsM2xi7BQD4yw/hmMsNYsjLDER4ywhZGMsPiWjLBksYywpLWMsLO1jLCfA42w3Q6NsG8QjbBjP42wdVmNsIxwjbCilI2wr56NsMjHjbBt3I2wdfCNsDkAjrBVEY6wkTOOsPpYjrCwY46wiqmOsKOrjrAdGo+wNHqPsGfgj7AGCpCwMiCQsFgqkLDbPZCw3T2QsFU+kLCnnZCwc6KQsAPFkLBP7ZCw4FiRsPZ0kbDah5GwXgWSsMEZkrD9PZKwIVGSsPNykrB6lZKwiLaSsC28krCW45KwIBOTsPJ1k7DIsJOwLrOTsIPKk7Ac35OwwBCUsBcSlLC/OZSwC2mUsP5+lLDlCZWwwzWVsGE9lbDvPZWwXm+VsEGelbCltJWwOeuVsCPylbBLhZaw44aWsGLHlrA70JawztqWsKcil7CKW5ewMHWXsMh4l7B/uZewLM2XsJTXl7AY4pewefOXsJgjmLC7NZiwjXSYsGHBmLA6A5mw1RmZsKoxmbALOZmwImuZsG+JmbB3lpmwYp+ZsLDJmbD03JmwUDSasBlgmrDjzZqww9CasIP5mrDhCJuwahabsCFRm7Aph5uwsJ6bsJ6xm7A8uJuwAsibsDz2m7BeHZywHyGcsCY6nLBQb5ywjo+csLCqnLCOuZyw99GcsP3XnLAKVp2wFW+dsLrHnbA+7Z2wBu6dsIbynbBkGp6w31WesCZ/nrAfzJ6wI9CesJMFn7B/n5+wN6mfsDDen7Dg7Z+wihugsB8/oLD+RqCwf1WgsOuIoLCLwaCwds+gsAXaoLCX+6Cw9fygsFECobB1FKGwnaehsFnEobCa/KGwXRiisHEtorC4jqKwp+2isCbvorDLEqOwPyyjsLsyo7BcQqOw0KejsDXUo7C28KOwlxiksLojpLDmSaSwAHqksEKEpLBdsqSwNCilsLJOpbALeqWw3NalsHDypbCmHaawNCSmsLpLprDRW6aw1OqmsGj5prCpBaewUhansDRIp7BSfaewEpinsDmtp7ABx6ewk9unsP/fp7ApAaiwZRuosOk2qLC0Z6iw1nSosId2qLCS3aiwkv+osNEuqbDyPKmw3YqpsBeNqbCDv6mwD8epsEPtqbArbqqwxYeqsCqLqrAfBKuwk2WrsDSOq7BkoquwPLirsIvPq7A23quwSfGrsDiDrLDLlqyw45qssBMlrbC6Ma2wtDKtsA1FrbAmVq2wVpytsEifrbDb562w9y+usJtJrrB9xa6wiuyusLFJr7Cxj6+wgJOvsGbRr7DI4a+wNvavsHIWsLBjdbCw7quwsIyxsLCZ5LCwhxaxsKuDsbBclbGwLK6xsEjasbA+LbKwGZeysFqasrA6pLKw7rWysKf0srDOBLOwuBazsM9Xs7C/c7Ow1oqzsE3gs7CjerSwSIG0sPzctLAELbWwjZy1sMDmtbBEDbawjTO2sEhEtrBZSbawiFe2sIaptrDD37awOCa3sOkst7C2hLewHYW3sJSJt7Cc0bew19G3sPlPuLB5rLiw1wa5sO0gubAPMbmwn1y5sFSPubDOybmwlRW6sHFPurDpsbqwM9C6sFidu7BPnruwDc27sHIXvLCuRbywWZe8sOGjvLA4xrywCPq8sG8+vbADT72wKcS9sBBWvrARVr6wzGO+sGd5vrBVnr6wpqu+sK62vrCVu76wL+i+sMP6vrDZLb+wZGO/sJ+fv7AO5L+w20vAsHBiwLB0kMCwIP/AsAR0wbCRt8GwuePBsOqIwrDaYsOw76jDsI7Rw7CJEsSwZXvEsD+IxLCop8SwC7zEsJK9xLA3xsSwJ/PEsPsmxbCFT8Ww51nFsIDKxbDNRcawbVfGsMWPxrBKWMew1KnHsNwfyLBYMMiwDEvIsPCxyLBLvsiwZOrIsBruybAC9smwzU/KsCMCy7AtA8uw7xbLsIcZy7AhScuw+3/LsBPHy7BceMywZNjMsEFwzbCZD86wryvOsOKTzrBht86w/d7OsItRz7C4fs+w4pfPsHsI0LCFMtCwAo/QsCIR0bDrH9GwADbRsE7X0bCq2tKwxEfTsPhO07A3lNOwM5nTsC7Y07BmQdSwg2LUsHCx1LAW/dSwgJbVsDG01rDUT9ewLvfXsIcg2LDnqdiw1OPYsBk92bD2tNmwMsLZsP6G2rCBv9uw7CrcsGQM3rDcut6wnTrfsDVA4LC5ROGwfgXjsFf25bBjLuew14DnsG7G57CVK+qwSBbrsPd57bDuzvCwtOvwsFIn87A9lPSw7SoCsdCqArEQOgixTrgJsXFhErHNDhexD24XsQJxF7GyExmxy0IZsQvTHbHBXSux5VEusZdOMLFwRzKxETszsa3eNLGakjWxr/I3sWmWObEozz2xzqU/sT6QQLFStUKxadFFsTOuRrHlp0ex6F5LsVZiTLFaTE+xK7VPsWd7ULG2XFKxe2hZsdc6WrGZWlyx56RfschkZLFyqGixFV1rsWK+bbEjhG6xy0BysZ/jd7FvmHmx79p9sUvJfrGbWX+x5NuAsUJRgbEbW4Oxs8qFsbGAirElBouxFP+MsbGilbERNZmxalWZsWg0mrFWOJqxgsWesaGcn7H3DaCxrAWisdJjorGVpKSxh3Snsa+PqbErb6qxJvmqsbyvr7EENrGxJruzsakBtbHX9rqx6hjDsTrQxLGFCMexsyLIsR+XyLEsQ8qx/0HXsWK53LG+xeGx2v7osWy+7LGwCe+x2fvzsTng9LGfRPexa+z3sdpzALJc6ACySw8GssEXBrLXYgaya7cMsv1YGbIyTBqy82Ilshi/J7KAHS6yxXg5suOhPLIo6VyyG+tisspMfrL/XJ2ygMeJuOLjA7kARlC6W/rNumXH2bpwTA+70Z0Uu8M4ILtZyya7MvAzu18wR7tD52G7Qmh1u7tfgbszbom7ILWiu6+zvrsB69S7OTLhu+794rt6i/O7rqEPvAy8FLwwAj+8YABCvPo6RrzVvEi86F9bvKLlXLzp+2S8X6xnvMXHebzYeIO8j9uIvBgGkrwA/ZW8+oObvOGzobwbSKa8n3WsvJbWsLzzwrO8YNTCvK3RyryMY9S8rErbvPc+37wiX+C8hmzvvHUK+rwwvgC9NIkHvaNMC72jSQ69cDUPvWXUD73IJBW9Uwsbvf4fIL0jlSi9Ss0svVpROL0jMEu9jsDGvQ==",
          "dtype": "f4"
         },
         "xaxis": "x",
         "yaxis": "y"
        }
       ],
       "layout": {
        "barmode": "relative",
        "legend": {
         "title": {
          "text": "variable"
         },
         "tracegroupgap": 0
        },
        "template": {
         "data": {
          "bar": [
           {
            "error_x": {
             "color": "#2a3f5f"
            },
            "error_y": {
             "color": "#2a3f5f"
            },
            "marker": {
             "line": {
              "color": "#E5ECF6",
              "width": 0.5
             },
             "pattern": {
              "fillmode": "overlay",
              "size": 10,
              "solidity": 0.2
             }
            },
            "type": "bar"
           }
          ],
          "barpolar": [
           {
            "marker": {
             "line": {
              "color": "#E5ECF6",
              "width": 0.5
             },
             "pattern": {
              "fillmode": "overlay",
              "size": 10,
              "solidity": 0.2
             }
            },
            "type": "barpolar"
           }
          ],
          "carpet": [
           {
            "aaxis": {
             "endlinecolor": "#2a3f5f",
             "gridcolor": "white",
             "linecolor": "white",
             "minorgridcolor": "white",
             "startlinecolor": "#2a3f5f"
            },
            "baxis": {
             "endlinecolor": "#2a3f5f",
             "gridcolor": "white",
             "linecolor": "white",
             "minorgridcolor": "white",
             "startlinecolor": "#2a3f5f"
            },
            "type": "carpet"
           }
          ],
          "choropleth": [
           {
            "colorbar": {
             "outlinewidth": 0,
             "ticks": ""
            },
            "type": "choropleth"
           }
          ],
          "contour": [
           {
            "colorbar": {
             "outlinewidth": 0,
             "ticks": ""
            },
            "colorscale": [
             [
              0,
              "#0d0887"
             ],
             [
              0.1111111111111111,
              "#46039f"
             ],
             [
              0.2222222222222222,
              "#7201a8"
             ],
             [
              0.3333333333333333,
              "#9c179e"
             ],
             [
              0.4444444444444444,
              "#bd3786"
             ],
             [
              0.5555555555555556,
              "#d8576b"
             ],
             [
              0.6666666666666666,
              "#ed7953"
             ],
             [
              0.7777777777777778,
              "#fb9f3a"
             ],
             [
              0.8888888888888888,
              "#fdca26"
             ],
             [
              1,
              "#f0f921"
             ]
            ],
            "type": "contour"
           }
          ],
          "contourcarpet": [
           {
            "colorbar": {
             "outlinewidth": 0,
             "ticks": ""
            },
            "type": "contourcarpet"
           }
          ],
          "heatmap": [
           {
            "colorbar": {
             "outlinewidth": 0,
             "ticks": ""
            },
            "colorscale": [
             [
              0,
              "#0d0887"
             ],
             [
              0.1111111111111111,
              "#46039f"
             ],
             [
              0.2222222222222222,
              "#7201a8"
             ],
             [
              0.3333333333333333,
              "#9c179e"
             ],
             [
              0.4444444444444444,
              "#bd3786"
             ],
             [
              0.5555555555555556,
              "#d8576b"
             ],
             [
              0.6666666666666666,
              "#ed7953"
             ],
             [
              0.7777777777777778,
              "#fb9f3a"
             ],
             [
              0.8888888888888888,
              "#fdca26"
             ],
             [
              1,
              "#f0f921"
             ]
            ],
            "type": "heatmap"
           }
          ],
          "histogram": [
           {
            "marker": {
             "pattern": {
              "fillmode": "overlay",
              "size": 10,
              "solidity": 0.2
             }
            },
            "type": "histogram"
           }
          ],
          "histogram2d": [
           {
            "colorbar": {
             "outlinewidth": 0,
             "ticks": ""
            },
            "colorscale": [
             [
              0,
              "#0d0887"
             ],
             [
              0.1111111111111111,
              "#46039f"
             ],
             [
              0.2222222222222222,
              "#7201a8"
             ],
             [
              0.3333333333333333,
              "#9c179e"
             ],
             [
              0.4444444444444444,
              "#bd3786"
             ],
             [
              0.5555555555555556,
              "#d8576b"
             ],
             [
              0.6666666666666666,
              "#ed7953"
             ],
             [
              0.7777777777777778,
              "#fb9f3a"
             ],
             [
              0.8888888888888888,
              "#fdca26"
             ],
             [
              1,
              "#f0f921"
             ]
            ],
            "type": "histogram2d"
           }
          ],
          "histogram2dcontour": [
           {
            "colorbar": {
             "outlinewidth": 0,
             "ticks": ""
            },
            "colorscale": [
             [
              0,
              "#0d0887"
             ],
             [
              0.1111111111111111,
              "#46039f"
             ],
             [
              0.2222222222222222,
              "#7201a8"
             ],
             [
              0.3333333333333333,
              "#9c179e"
             ],
             [
              0.4444444444444444,
              "#bd3786"
             ],
             [
              0.5555555555555556,
              "#d8576b"
             ],
             [
              0.6666666666666666,
              "#ed7953"
             ],
             [
              0.7777777777777778,
              "#fb9f3a"
             ],
             [
              0.8888888888888888,
              "#fdca26"
             ],
             [
              1,
              "#f0f921"
             ]
            ],
            "type": "histogram2dcontour"
           }
          ],
          "mesh3d": [
           {
            "colorbar": {
             "outlinewidth": 0,
             "ticks": ""
            },
            "type": "mesh3d"
           }
          ],
          "parcoords": [
           {
            "line": {
             "colorbar": {
              "outlinewidth": 0,
              "ticks": ""
             }
            },
            "type": "parcoords"
           }
          ],
          "pie": [
           {
            "automargin": true,
            "type": "pie"
           }
          ],
          "scatter": [
           {
            "fillpattern": {
             "fillmode": "overlay",
             "size": 10,
             "solidity": 0.2
            },
            "type": "scatter"
           }
          ],
          "scatter3d": [
           {
            "line": {
             "colorbar": {
              "outlinewidth": 0,
              "ticks": ""
             }
            },
            "marker": {
             "colorbar": {
              "outlinewidth": 0,
              "ticks": ""
             }
            },
            "type": "scatter3d"
           }
          ],
          "scattercarpet": [
           {
            "marker": {
             "colorbar": {
              "outlinewidth": 0,
              "ticks": ""
             }
            },
            "type": "scattercarpet"
           }
          ],
          "scattergeo": [
           {
            "marker": {
             "colorbar": {
              "outlinewidth": 0,
              "ticks": ""
             }
            },
            "type": "scattergeo"
           }
          ],
          "scattergl": [
           {
            "marker": {
             "colorbar": {
              "outlinewidth": 0,
              "ticks": ""
             }
            },
            "type": "scattergl"
           }
          ],
          "scattermap": [
           {
            "marker": {
             "colorbar": {
              "outlinewidth": 0,
              "ticks": ""
             }
            },
            "type": "scattermap"
           }
          ],
          "scattermapbox": [
           {
            "marker": {
             "colorbar": {
              "outlinewidth": 0,
              "ticks": ""
             }
            },
            "type": "scattermapbox"
           }
          ],
          "scatterpolar": [
           {
            "marker": {
             "colorbar": {
              "outlinewidth": 0,
              "ticks": ""
             }
            },
            "type": "scatterpolar"
           }
          ],
          "scatterpolargl": [
           {
            "marker": {
             "colorbar": {
              "outlinewidth": 0,
              "ticks": ""
             }
            },
            "type": "scatterpolargl"
           }
          ],
          "scatterternary": [
           {
            "marker": {
             "colorbar": {
              "outlinewidth": 0,
              "ticks": ""
             }
            },
            "type": "scatterternary"
           }
          ],
          "surface": [
           {
            "colorbar": {
             "outlinewidth": 0,
             "ticks": ""
            },
            "colorscale": [
             [
              0,
              "#0d0887"
             ],
             [
              0.1111111111111111,
              "#46039f"
             ],
             [
              0.2222222222222222,
              "#7201a8"
             ],
             [
              0.3333333333333333,
              "#9c179e"
             ],
             [
              0.4444444444444444,
              "#bd3786"
             ],
             [
              0.5555555555555556,
              "#d8576b"
             ],
             [
              0.6666666666666666,
              "#ed7953"
             ],
             [
              0.7777777777777778,
              "#fb9f3a"
             ],
             [
              0.8888888888888888,
              "#fdca26"
             ],
             [
              1,
              "#f0f921"
             ]
            ],
            "type": "surface"
           }
          ],
          "table": [
           {
            "cells": {
             "fill": {
              "color": "#EBF0F8"
             },
             "line": {
              "color": "white"
             }
            },
            "header": {
             "fill": {
              "color": "#C8D4E3"
             },
             "line": {
              "color": "white"
             }
            },
            "type": "table"
           }
          ]
         },
         "layout": {
          "annotationdefaults": {
           "arrowcolor": "#2a3f5f",
           "arrowhead": 0,
           "arrowwidth": 1
          },
          "autotypenumbers": "strict",
          "coloraxis": {
           "colorbar": {
            "outlinewidth": 0,
            "ticks": ""
           }
          },
          "colorscale": {
           "diverging": [
            [
             0,
             "#8e0152"
            ],
            [
             0.1,
             "#c51b7d"
            ],
            [
             0.2,
             "#de77ae"
            ],
            [
             0.3,
             "#f1b6da"
            ],
            [
             0.4,
             "#fde0ef"
            ],
            [
             0.5,
             "#f7f7f7"
            ],
            [
             0.6,
             "#e6f5d0"
            ],
            [
             0.7,
             "#b8e186"
            ],
            [
             0.8,
             "#7fbc41"
            ],
            [
             0.9,
             "#4d9221"
            ],
            [
             1,
             "#276419"
            ]
           ],
           "sequential": [
            [
             0,
             "#0d0887"
            ],
            [
             0.1111111111111111,
             "#46039f"
            ],
            [
             0.2222222222222222,
             "#7201a8"
            ],
            [
             0.3333333333333333,
             "#9c179e"
            ],
            [
             0.4444444444444444,
             "#bd3786"
            ],
            [
             0.5555555555555556,
             "#d8576b"
            ],
            [
             0.6666666666666666,
             "#ed7953"
            ],
            [
             0.7777777777777778,
             "#fb9f3a"
            ],
            [
             0.8888888888888888,
             "#fdca26"
            ],
            [
             1,
             "#f0f921"
            ]
           ],
           "sequentialminus": [
            [
             0,
             "#0d0887"
            ],
            [
             0.1111111111111111,
             "#46039f"
            ],
            [
             0.2222222222222222,
             "#7201a8"
            ],
            [
             0.3333333333333333,
             "#9c179e"
            ],
            [
             0.4444444444444444,
             "#bd3786"
            ],
            [
             0.5555555555555556,
             "#d8576b"
            ],
            [
             0.6666666666666666,
             "#ed7953"
            ],
            [
             0.7777777777777778,
             "#fb9f3a"
            ],
            [
             0.8888888888888888,
             "#fdca26"
            ],
            [
             1,
             "#f0f921"
            ]
           ]
          },
          "colorway": [
           "#636efa",
           "#EF553B",
           "#00cc96",
           "#ab63fa",
           "#FFA15A",
           "#19d3f3",
           "#FF6692",
           "#B6E880",
           "#FF97FF",
           "#FECB52"
          ],
          "font": {
           "color": "#2a3f5f"
          },
          "geo": {
           "bgcolor": "white",
           "lakecolor": "white",
           "landcolor": "#E5ECF6",
           "showlakes": true,
           "showland": true,
           "subunitcolor": "white"
          },
          "hoverlabel": {
           "align": "left"
          },
          "hovermode": "closest",
          "mapbox": {
           "style": "light"
          },
          "paper_bgcolor": "white",
          "plot_bgcolor": "#E5ECF6",
          "polar": {
           "angularaxis": {
            "gridcolor": "white",
            "linecolor": "white",
            "ticks": ""
           },
           "bgcolor": "#E5ECF6",
           "radialaxis": {
            "gridcolor": "white",
            "linecolor": "white",
            "ticks": ""
           }
          },
          "scene": {
           "xaxis": {
            "backgroundcolor": "#E5ECF6",
            "gridcolor": "white",
            "gridwidth": 2,
            "linecolor": "white",
            "showbackground": true,
            "ticks": "",
            "zerolinecolor": "white"
           },
           "yaxis": {
            "backgroundcolor": "#E5ECF6",
            "gridcolor": "white",
            "gridwidth": 2,
            "linecolor": "white",
            "showbackground": true,
            "ticks": "",
            "zerolinecolor": "white"
           },
           "zaxis": {
            "backgroundcolor": "#E5ECF6",
            "gridcolor": "white",
            "gridwidth": 2,
            "linecolor": "white",
            "showbackground": true,
            "ticks": "",
            "zerolinecolor": "white"
           }
          },
          "shapedefaults": {
           "line": {
            "color": "#2a3f5f"
           }
          },
          "ternary": {
           "aaxis": {
            "gridcolor": "white",
            "linecolor": "white",
            "ticks": ""
           },
           "baxis": {
            "gridcolor": "white",
            "linecolor": "white",
            "ticks": ""
           },
           "bgcolor": "#E5ECF6",
           "caxis": {
            "gridcolor": "white",
            "linecolor": "white",
            "ticks": ""
           }
          },
          "title": {
           "x": 0.05
          },
          "xaxis": {
           "automargin": true,
           "gridcolor": "white",
           "linecolor": "white",
           "ticks": "",
           "title": {
            "standoff": 15
           },
           "zerolinecolor": "white",
           "zerolinewidth": 2
          },
          "yaxis": {
           "automargin": true,
           "gridcolor": "white",
           "linecolor": "white",
           "ticks": "",
           "title": {
            "standoff": 15
           },
           "zerolinecolor": "white",
           "zerolinewidth": 2
          }
         }
        },
        "title": {
         "text": "Eigenvalues of $Q$"
        },
        "xaxis": {
         "anchor": "y",
         "domain": [
          0,
          1
         ],
         "title": {
          "text": "value"
         }
        },
        "yaxis": {
         "anchor": "x",
         "domain": [
          0,
          1
         ],
         "title": {
          "text": "count"
         }
        }
       }
      }
     },
     "metadata": {},
     "output_type": "display_data"
    }
   ],
   "source": [
    "px.histogram(vals.flatten(), nbins=100, title=\"Eigenvalues of $Q$\").show()"
   ]
  },
  {
   "cell_type": "code",
   "execution_count": 28,
   "id": "8738c3db",
   "metadata": {},
   "outputs": [
    {
     "name": "stdout",
     "output_type": "stream",
     "text": [
      "==================== Component 0 (0.09742690622806549) ====================\n",
      "['Gfi1b', 'Car2', 'Slc38a5', 'Ttll12', 'Mt2', 'Ank1', 'Mthfd1', 'Xrcc5', 'Blvrb', 'Isg20']\n",
      "['Mpo', 'Plod3', 'H2afy', 'Rnaset2a', 'Ctsg', 'Arpc1b', 'Tifab', 'Prtn3', 'Mlec', 'FKBP12-T1']\n",
      "==================== Component 1 (0.045241959393024445) ====================\n",
      "['Tpsb2', 'Tns1', 'Celsr3', 'Arhgdig', 'Pdcd6ip', 'Pik3cg', 'Foxo1', 'Hemgn', 'Plekha1', 'Abca3']\n",
      "['H2afy', 'Ddx6', 'Dnahc8', 'Gpc4', 'Sdhb', 'AKAP95', 'Dctpp1', 'Fkbp4', 'Tmem160', 'Rad23b']\n",
      "==================== Component 2 (0.04185434430837631) ====================\n",
      "['Ets1', 'Ppp3cc', 'Tcp11l2', 'Matn2', 'BC051142', 'Tnik', 'Tgm2', 'Ncor1', 'Butr1', 'Rbmxrt']\n",
      "['Xpc', 'BC002221', 'Ran', 'Rhbdd2', 'Cyc1', 'Rassf8', 'Wdfy4', 'Prdx3', 'Brd3', '2810417H13Rik']\n"
     ]
    }
   ],
   "source": [
    "n_top_genes = 10\n",
    "for i in range(3):  # top components\n",
    "    top_idxs = vecs[:,i].topk(n_top_genes).indices\n",
    "    top_genes = adata.var_names[top_idxs].tolist()\n",
    "    bottom_idxs = (-vecs[:,i]).topk(n_top_genes).indices\n",
    "    bottom_genes = adata.var_names[bottom_idxs].tolist()\n",
    "    print(\"=\"*20, f\"Component {i} ({vals[i]})\", \"=\"*20)\n",
    "    print(top_genes)\n",
    "    print(bottom_genes)"
   ]
  },
  {
   "cell_type": "markdown",
   "id": "ed789328",
   "metadata": {},
   "source": [
    "Not a good demonstration because `not(0)` = `(1,2)`, so really the markers for these two matrices should be the same?"
   ]
  },
  {
   "cell_type": "markdown",
   "id": "f7f49ca4",
   "metadata": {},
   "source": [
    "## Check for consistency btwn complimentary directions"
   ]
  },
  {
   "cell_type": "code",
   "execution_count": 30,
   "id": "3f844423",
   "metadata": {},
   "outputs": [],
   "source": [
    "# Differentiated vs undifferentiated\n",
    "output_dir = torch.tensor([0.,1.,1.])\n",
    "q = einops.einsum(output_dir, b, \"out, out in1 in2 -> in1 in2\")\n",
    "_, vecs = torch.linalg.eigh(q)\n",
    "genes_diff = vecs[:,-1]\n",
    "\n",
    "# Undifferentiated vs differentiated\n",
    "output_dir = torch.tensor([1.,0.,0.])\n",
    "q = einops.einsum(output_dir, b, \"out, out in1 in2 -> in1 in2\")\n",
    "_, vecs = torch.linalg.eigh(q)\n",
    "genes_undiff = vecs[:,-1]"
   ]
  },
  {
   "cell_type": "markdown",
   "id": "c17fcd0e",
   "metadata": {},
   "source": [
    "### Gene space"
   ]
  },
  {
   "cell_type": "code",
   "execution_count": 36,
   "id": "43879a0a",
   "metadata": {},
   "outputs": [
    {
     "data": {
      "application/vnd.plotly.v1+json": {
       "config": {
        "plotlyServerURL": "https://plot.ly"
       },
       "data": [
        {
         "hovertemplate": "<b>%{hovertext}</b><br><br>Differentiated Component=%{x}<br>Undifferentiated Component=%{y}<extra></extra>",
         "hovertext": [
          "0610007L01Rik",
          "0610009O20Rik",
          "0610010K14Rik",
          "0910001L09Rik",
          "1100001G20Rik",
          "1110002B05Rik",
          "1110004E09Rik",
          "1110007A13Rik",
          "1110007C09Rik",
          "1110013L07Rik",
          "1110020G09Rik",
          "1110034G24Rik",
          "1110038B12Rik",
          "1110049F12Rik",
          "1110059E24Rik",
          "1190002H23Rik",
          "1190007F08Rik",
          "1200002N14Rik",
          "1300001I01Rik",
          "1300017J02Rik",
          "1500001M20Rik",
          "1500012F01Rik",
          "1500032L24Rik",
          "1600014C10Rik",
          "1700001L05Rik",
          "1700012B09Rik",
          "1700017B05Rik",
          "1700020L24Rik",
          "1810009A15Rik",
          "1810011H11Rik",
          "1810027O10Rik",
          "1810030N24Rik",
          "1810031K17Rik",
          "1810033B17Rik",
          "1810037I17Rik",
          "2010002N04Rik",
          "2010011I20Rik",
          "2010106G01Rik",
          "2210016F16Rik",
          "2210020M01Rik",
          "2210023G05Rik",
          "2210404O07Rik",
          "2210411K11Rik",
          "2310003C23Rik",
          "2310003F16Rik",
          "2310005E10Rik",
          "2310014H01Rik",
          "2310022B05Rik",
          "2310028O11Rik",
          "2410006H16Rik",
          "2510002D24Rik",
          "2510003E04Rik",
          "2610018G03Rik",
          "2610024G14Rik",
          "2610029G23Rik",
          "2610029I01Rik",
          "2610035D17Rik",
          "2610101N10Rik",
          "2700094K13Rik",
          "2810004N23Rik",
          "2810417H13Rik",
          "2810474O19Rik",
          "2900010J23Rik",
          "2900010M23Rik",
          "2900026A02Rik",
          "2900073G15Rik",
          "3110003A17Rik",
          "3110056O03Rik",
          "4632415L05Rik",
          "4632428N05Rik",
          "4930473A06Rik",
          "4930486L24Rik",
          "4930503E24Rik",
          "4930534B04Rik",
          "4931406C07Rik",
          "5033406O09Rik",
          "5430435G22Rik",
          "5730469M10Rik",
          "5730508B09Rik",
          "5730528L13Rik",
          "5830405N20Rik",
          "5830432E09Rik",
          "6030458C11Rik",
          "6330416G13Rik",
          "6330503K22Rik",
          "6720456B07Rik",
          "8430419L09Rik",
          "8430427H17Rik",
          "9030617O03Rik",
          "9130206I24Rik",
          "9130208E07Rik",
          "9230105E10Rik",
          "9530068E07Rik",
          "9530077C05Rik",
          "9630033F20Rik",
          "9830001H06Rik",
          "A030009H04Rik",
          "A930001N09Rik",
          "AA987161",
          "AB124611",
          "AI467606",
          "AI504432",
          "AI848100",
          "AK003943",
          "AK004850",
          "AK005678",
          "AK005967",
          "AK011885",
          "AK012007",
          "AK015096",
          "AK019114",
          "AK020398",
          "AK028012",
          "AK031079",
          "AK031561",
          "AK032662",
          "AK040705",
          "AK041647",
          "AK042041",
          "AK042223",
          "AK046417",
          "AK051928",
          "AK052414",
          "AK052812",
          "AK053193",
          "AK076954",
          "AK079675",
          "AK080025",
          "AK080350",
          "AK081788",
          "AK081796",
          "AK084646",
          "AK085695",
          "AK087942",
          "AK089379",
          "AK142847",
          "AK144329",
          "AK146183",
          "AK150559",
          "AK152437",
          "AK153212",
          "AK153427",
          "AK153575",
          "AK154077",
          "AK158095",
          "AK163149",
          "AK164126",
          "AK169831",
          "AK172428",
          "AK182549",
          "AK185715",
          "AK188353",
          "AK189633",
          "AK197603",
          "AK202301",
          "AK210533",
          "AK211593",
          "AK217941",
          "AKAP95",
          "Aak1",
          "Abca3",
          "Abcb10",
          "Abcb1b",
          "Abcb4",
          "Abcb6",
          "Abcb9",
          "Abcc4",
          "Abcd1",
          "Abcd2",
          "Abce1",
          "Abcf1",
          "Abcg1",
          "Abcg2",
          "Abcg4",
          "Abhd14b",
          "Abhd15",
          "Abhd16a",
          "Abi2",
          "Ablim1",
          "Abr",
          "Abtb2",
          "Acadl",
          "Ache",
          "Acin1",
          "Aco1",
          "Acot1",
          "Acot13",
          "Acot7",
          "Acot9",
          "Acox3",
          "Acpl2",
          "Acsl1",
          "Acsl5",
          "Acsl6",
          "Acss1",
          "Acss2",
          "Actb",
          "Actl6a",
          "Actn1",
          "Actr2",
          "Actr3",
          "Acyp1",
          "Ada",
          "Adam15",
          "Adamts10",
          "Adamts3",
          "Adap1",
          "Adat3",
          "Adcy6",
          "Add1",
          "Add2",
          "Add3",
          "Adh5",
          "Adipor2",
          "Adk",
          "Adrbk1",
          "Adrbk2",
          "Adsl",
          "Adssl1",
          "Aes",
          "Afap1",
          "Afap1l1",
          "Aff3",
          "Aff4",
          "Afg3l2",
          "Afmid",
          "Agap1",
          "Agap2",
          "Agfg2",
          "Aggf1",
          "Agpat3",
          "Agpat4",
          "Agpat5",
          "Agps",
          "Agtrap",
          "Ahctf1",
          "Ahdc1",
          "Ahnak",
          "Ahsa1",
          "Aif1",
          "Aim2",
          "Ak2",
          "Ak3",
          "Akap13",
          "Akap8l",
          "Akap9",
          "Akr1a4",
          "Akt1",
          "Alad",
          "Alas1",
          "Alas2",
          "Alcam",
          "Aldh18a1",
          "Aldh1a1",
          "Aldh1a7",
          "Aldh1b1",
          "Aldh1l1",
          "Aldh2",
          "Aldh7a1",
          "Aldoa",
          "Alkbh8",
          "Allergin-1",
          "Alox5",
          "Alox5ap",
          "Amfr",
          "Ammecr1",
          "Ampd3",
          "Anapc1",
          "Anapc11",
          "Anapc13",
          "Anapc2",
          "Anapc5",
          "Angpt1",
          "Ank",
          "Ank1",
          "Ankrd11",
          "Ankrd13a",
          "Ankrd17",
          "Ankrd26",
          "Ankrd43",
          "Ankrd44",
          "Anln",
          "Ano10",
          "Ano6",
          "Anp32a",
          "Anp32b",
          "Anp32e",
          "Anxa2",
          "Anxa3",
          "Anxa5",
          "Anxa6",
          "Aoah",
          "Ap1b1",
          "Ap1m1",
          "Ap1s2",
          "Ap1s3",
          "Ap2a2",
          "Ap3s1",
          "Apba1",
          "Apbb1ip",
          "Apeh",
          "Apip",
          "Aplp2",
          "Apob48r",
          "Apobec3",
          "Apoe",
          "App",
          "Appl1",
          "Aprt",
          "Aqp1",
          "Aqp11",
          "Aqp9",
          "Aqr",
          "Arap2",
          "Arap3",
          "Arf1",
          "Arf4",
          "Arf5",
          "Arglu1",
          "Arhgap17",
          "Arhgap19",
          "Arhgap21",
          "Arhgap23",
          "Arhgap25",
          "Arhgap27",
          "Arhgap30",
          "Arhgap31",
          "Arhgap32",
          "Arhgap6",
          "Arhgap9",
          "Arhgdia",
          "Arhgdib",
          "Arhgdig",
          "Arhgef12",
          "Arhgef2",
          "Arhgef25",
          "Arhgef3",
          "Arhgef4",
          "Arhgef40",
          "Arhgef6",
          "Arid1a",
          "Arid1b",
          "Arid2",
          "Arid3a",
          "Arid3b",
          "Arid4b",
          "Arid5a",
          "Arid5b",
          "Arl11",
          "Arl4a",
          "Arl6ip1",
          "Arl8a",
          "Armc9",
          "Arpc1a",
          "Arpc1b",
          "Arpc2",
          "Arpc4",
          "Arrb1",
          "Arsb",
          "Arvcf",
          "As3mt",
          "Asah1",
          "Asap1",
          "Asf1b",
          "Ash1l",
          "Asns",
          "Asp",
          "Asph",
          "Ass1",
          "Asxl1",
          "Atad5",
          "Atf4",
          "Atf7ip",
          "Atg16l2",
          "Atg2b",
          "Atg4b",
          "Atic",
          "Atmin",
          "Atn1",
          "Atox1",
          "Atp10a",
          "Atp10d",
          "Atp11a",
          "Atp13a3",
          "Atp1a3",
          "Atp1b1",
          "Atp1b2",
          "Atp1b3",
          "Atp2a2",
          "Atp2a3",
          "Atp2b1",
          "Atp2b4",
          "Atp5a1",
          "Atp5b",
          "Atp5c1",
          "Atp5d",
          "Atp5f1",
          "Atp5g3",
          "Atp5h",
          "Atp5j2",
          "Atp5o",
          "Atp6ap2",
          "Atp6v0a1",
          "Atp6v0b",
          "Atp6v0c",
          "Atp6v0d1",
          "Atp6v1f",
          "Atp7b",
          "Atp8a1",
          "Atp8b2",
          "Atp8b4",
          "Atp8b5",
          "Atpase6",
          "Atpif1",
          "Atrip",
          "Atrnl1",
          "Atrx",
          "Aurka",
          "Aurkb",
          "Auts2",
          "Aven",
          "B230120H23Rik",
          "B230219D22Rik",
          "B330016D10Rik",
          "B430306N03Rik",
          "B4galnt1",
          "B4galt4",
          "B4galt5",
          "B4galt6",
          "BC002221",
          "BC003965",
          "BC005764",
          "BC019819",
          "BC021614",
          "BC021767",
          "BC024571",
          "BC025067",
          "BC029331",
          "BC031353",
          "BC033430",
          "BC035044",
          "BC048355",
          "BC051142",
          "BC057079",
          "BC064078",
          "BC096441",
          "Bag1",
          "Bag2",
          "Bahcc1",
          "Baiap2",
          "Bambi",
          "Bambi-ps1",
          "Banf1",
          "Basp1",
          "Bat2d",
          "Batf3",
          "Bax",
          "Baz1a",
          "Baz1b",
          "Baz2b",
          "Bcas2",
          "Bcas3",
          "Bcl11a",
          "Bcl2",
          "Bcl2l1",
          "Bcl2l11",
          "Bcl3",
          "Bcl9",
          "Bcl9l",
          "Bclaf1",
          "Bdh1",
          "Bdp1",
          "Beta-s",
          "Bex4",
          "Bex6",
          "Bhlha15",
          "Bin1",
          "Birc3",
          "Birc5",
          "Birc6",
          "Blm",
          "Blnk",
          "Blvra",
          "Blvrb",
          "Bmp1",
          "Bmp2k",
          "Bms1",
          "Bnip2",
          "Bod1l",
          "Bola2",
          "Bola3",
          "Boll",
          "Bptf",
          "Brd1",
          "Brd3",
          "Brd4",
          "Brd7",
          "Brf1",
          "Bri3bp",
          "Brix1",
          "Brpf3",
          "Bsg",
          "Bst2",
          "Btaf1",
          "Btbd3",
          "Btg1",
          "Btg2",
          "Btnl9",
          "Bub1b",
          "Bub3",
          "Butr1",
          "Bzrap1",
          "Bzw1",
          "Bzw2",
          "C184",
          "C1galt1",
          "C1galt1c1",
          "C1qb",
          "C1qbp",
          "C1qc",
          "C1qtnf6",
          "C1rl",
          "C230052I12Rik",
          "C230096C10Rik",
          "C3",
          "C330019G07Rik",
          "C530008M17Rik",
          "Cables1",
          "Cachd1",
          "Cacybp",
          "Cad",
          "Calcoco1",
          "Calm1",
          "Calm2",
          "Calr",
          "Camk1",
          "Camk1d",
          "Camk2a",
          "Camkk1",
          "Camkk2",
          "Camsap1l1",
          "Cand1",
          "Canx",
          "Cap1",
          "Capg",
          "Capn1",
          "Capn3",
          "Capn5",
          "Capns1",
          "Caprin1",
          "Caprin2",
          "Capzb",
          "Car1",
          "Car2",
          "Car9",
          "Card6",
          "Carhsp1",
          "Cars",
          "Casc5",
          "Casp1",
          "Casp11",
          "Casp3",
          "Casp6",
          "Casp7",
          "Cast",
          "Casz1",
          "Cbfa2t3",
          "Cbfb",
          "Cbl",
          "Cbr1",
          "Cbr3",
          "Cbx4",
          "Cbx5",
          "Cbx8",
          "Ccar1",
          "Ccbl1",
          "Ccbl2",
          "Ccdc102a",
          "Ccdc109b",
          "Ccdc125",
          "Ccdc135",
          "Ccdc163",
          "Ccdc23",
          "Ccdc32",
          "Ccdc48",
          "Ccdc50",
          "Ccdc69",
          "Ccdc74a",
          "Ccdc88a",
          "Ccdc88b",
          "Ccl5",
          "Ccl6",
          "Ccl9",
          "Ccnb1",
          "Ccnb2",
          "Ccnd1",
          "Ccnd2",
          "Ccne1",
          "Ccnf",
          "Ccng2",
          "Cct3",
          "Cct4",
          "Cct5",
          "Cct6a",
          "Cct7",
          "Cct8",
          "Cd14",
          "Cd160",
          "Cd1d2",
          "Cd2",
          "Cd244",
          "Cd248",
          "Cd24a",
          "Cd27",
          "Cd274",
          "Cd300a",
          "Cd300lb",
          "Cd300lg",
          "Cd302",
          "Cd34",
          "Cd48",
          "Cd52",
          "Cd53",
          "Cd55",
          "Cd59a",
          "Cd63",
          "Cd68",
          "Cd7",
          "Cd74",
          "Cd79b",
          "Cd81",
          "Cd82",
          "Cd9",
          "Cd93",
          "Cd99l2",
          "Cdc14a",
          "Cdc25b",
          "Cdc34",
          "Cdc37",
          "Cdc42",
          "Cdc42se1",
          "Cdc45",
          "Cdc6",
          "Cdca3",
          "Cdca7",
          "Cdca8",
          "Cdcrel-1",
          "Cdh1",
          "Cdk1",
          "Cdk12",
          "Cdk13",
          "Cdk18",
          "Cdk2ap2",
          "Cdk4",
          "Cdk5r1",
          "Cdk6",
          "Cdkn1a",
          "Cdkn3",
          "Cdr2",
          "Cds1",
          "Cdt1",
          "Cdv3",
          "Cdyl",
          "Ceacam1",
          "Cebpa",
          "Cebpe",
          "Cela1",
          "Celf1",
          "Celf2",
          "Celsr1",
          "Celsr3",
          "Cenp-a",
          "Cenpe",
          "Cenpf",
          "Cenph",
          "Cenpl",
          "Cenpn",
          "Cenpv",
          "Cep350",
          "Cep55",
          "Cercam",
          "Cerk",
          "Cfdp1",
          "Cfl1",
          "Cfp",
          "Cggbp1",
          "Chac2",
          "Chaf1b",
          "Chchd10",
          "Chchd2",
          "Chchd3",
          "Chd1",
          "Chd2",
          "Chd3",
          "Chd4",
          "Chd6",
          "Chd7",
          "Chd8",
          "Chi3l3",
          "Chpf",
          "Chst10",
          "Chst12",
          "Chst13",
          "Cic",
          "Cisd1",
          "Cisd3",
          "Cish",
          "Cit",
          "Cited2",
          "Cited4",
          "Ckap2l",
          "Ckap4",
          "Ckap5",
          "Ckb",
          "Clasp1",
          "Clca5",
          "Clcf1",
          "Clcn3",
          "Cldn13",
          "Cldn15",
          "Clec10a",
          "Clec11a",
          "Clec12a",
          "Clec2d",
          "Clec4d",
          "Clec4e",
          "Clec5a",
          "Clic1",
          "Clic4",
          "Clint1",
          "Clk2",
          "Clnk",
          "Clpp",
          "Clspn",
          "Clta",
          "Cltc",
          "Clu",
          "Clybl",
          "Cma1",
          "Cmah",
          "Cmpk2",
          "Cmtm3",
          "Cmtm4",
          "Cmtm7",
          "Cnbp",
          "Cnn2",
          "Cnn3",
          "Cnnm2",
          "Cnnm4",
          "Cnot1",
          "Cnp",
          "Cnpy2",
          "Cnpy3",
          "Cnr2",
          "Cobll1",
          "Col5a1",
          "Commd4",
          "Commd7",
          "Cope",
          "Copz2",
          "Coq9",
          "Coro1a",
          "Coro1b",
          "Coro2a",
          "Coro7",
          "Cox17",
          "Cox4i1",
          "Cox5a",
          "Cox5b",
          "Cox6a1",
          "Cox6a2",
          "Cox6b1",
          "Cox6b2",
          "Cox7c",
          "Cox8a",
          "Cpa3",
          "Cpne2",
          "Cpne3",
          "Cpox",
          "Cpsf2",
          "Cpt2",
          "Crebbp",
          "Creg1",
          "Creld2",
          "Crim1",
          "Crip1",
          "Crip2",
          "Cs",
          "Csda",
          "Csde1",
          "Csf1",
          "Csf1r",
          "Csf2ra",
          "Csf2rb",
          "Csf2rb2",
          "Csf3r",
          "Csgalnact2",
          "Csk",
          "Csnk1a1",
          "Csnk2b",
          "Csrnp1",
          "Csrp2",
          "Csrp3",
          "Cst3",
          "Cst7",
          "Ctage5",
          "Ctbp1",
          "Ctcf",
          "Ctdspl",
          "Ctla2a",
          "Ctnna1",
          "Ctnnb1",
          "Ctsc",
          "Ctsd",
          "Ctse",
          "Ctsg",
          "Ctsh",
          "Ctsl",
          "Ctss",
          "Ctsw",
          "Ctsz",
          "Cttn",
          "Cuedc1",
          "Cul4a",
          "Cul7",
          "Cul9",
          "Cux1",
          "Cxcl10",
          "Cxcr4",
          "Cxxc1",
          "Cyb5",
          "Cyb5b",
          "Cyb5r3",
          "Cyba",
          "Cybb",
          "Cyc1",
          "Cyfip1",
          "Cyfip2",
          "Cyhr1",
          "Cyp11a1",
          "Cyp27a1",
          "Cyp4f16",
          "Cyp4f18",
          "Cyth1",
          "Cyth3",
          "Cyth4",
          "Cytip",
          "D16H22S680E",
          "D17Wsu104e",
          "D17Wsu92e",
          "D18Ertd653e",
          "D230014K01Rik",
          "D4Wsu53e",
          "D6Mm5e",
          "D930016D06Rik",
          "DAPK2",
          "Daam1",
          "Dab2ip",
          "Dach1",
          "Dap",
          "Dap3",
          "Dapp1",
          "Darc",
          "Dazap1",
          "Dazap2",
          "Dbndd2",
          "Dbnl",
          "Dcaf4",
          "Dcaf7",
          "Dcaf8",
          "Dck",
          "Dclk2",
          "Dclre1a",
          "Dctn5",
          "Dctpp1",
          "Ddah2",
          "Ddb1",
          "Ddit4",
          "Ddost",
          "Ddx1",
          "Ddx17",
          "Ddx21",
          "Ddx23",
          "Ddx24",
          "Ddx27",
          "Ddx39",
          "Ddx3x",
          "Ddx46",
          "Ddx5",
          "Ddx58",
          "Ddx6",
          "Def6",
          "Def8",
          "Dek",
          "Dennd1b",
          "Dennd1c",
          "Dennd2d",
          "Dennd3",
          "Dennd4a",
          "Deptor",
          "Dgat2",
          "Dgkg",
          "Dhdh",
          "Dhrs11",
          "Dhrs3",
          "Dhrs4",
          "Dhrs7",
          "Dhx38",
          "Dia2",
          "Diap2",
          "Dido1",
          "Dio2",
          "Dis3",
          "Dkkl1",
          "Dlat",
          "Dlg3",
          "Dlgap5",
          "Dlst",
          "Dmkn",
          "Dmwd",
          "Dmxl1",
          "Dnahc8",
          "Dnaja3",
          "Dnaja4",
          "Dnajb1",
          "Dnajb11",
          "Dnajb2",
          "Dnajb3",
          "Dnajb9",
          "Dnajc10",
          "Dnajc11",
          "Dnajc19",
          "Dnajc2",
          "Dnajc3",
          "Dnajc6",
          "Dnajc8",
          "Dnhd1",
          "Dnmt1",
          "Dnmt3a",
          "Dnmt3b",
          "Dnpep",
          "Dntt",
          "Dnttip2",
          "Dock1",
          "Dock10",
          "Dock2",
          "Dock7",
          "Dock8",
          "Dok2",
          "Dok3",
          "Dopey2",
          "Dpp4",
          "Dpp9",
          "Dpy19l1",
          "Dpy19l3",
          "Dpysl2",
          "Drctnnb1a",
          "Drosha",
          "Dst",
          "Dstn",
          "Dstyk",
          "Dtl",
          "Dtnbp1",
          "Dtx3",
          "Dtx4",
          "Dus1l",
          "Dusp11",
          "Dusp16",
          "Dusp18",
          "Dusp22",
          "Dusp23",
          "Dusp3",
          "Dut",
          "Dym",
          "Dync1h1",
          "Dync1i2",
          "Dynlrb1",
          "Dyrk3",
          "E130012A19Rik",
          "E130308A19Rik",
          "E2f2",
          "E2f4",
          "E2f8",
          "E330016A19Rik",
          "ENSMUSG00000073540",
          "ENSMUSG00000073777",
          "Ebi3",
          "Ebna1bp2",
          "Ece1",
          "Echs1",
          "Ecm1",
          "Edem1",
          "Edem2",
          "Edf1",
          "Eef1b2",
          "Eef1d",
          "Eef1e1",
          "Eef1g",
          "Eef2",
          "Eepd1",
          "Efcab4a",
          "Efhd2",
          "Efnb1",
          "Eftud2",
          "Egfl7",
          "Egln3",
          "Egr1",
          "Ehd1",
          "Ehd3",
          "Ehmt2",
          "Eif1ax",
          "Eif2ak1",
          "Eif2b1",
          "Eif2b4",
          "Eif2c2",
          "Eif2c3",
          "Eif2d",
          "Eif2s2",
          "Eif3a",
          "Eif3b",
          "Eif3c",
          "Eif3d",
          "Eif3f",
          "Eif3g",
          "Eif3h",
          "Eif3i",
          "Eif3k",
          "Eif3m",
          "Eif4a1",
          "Eif4b",
          "Eif4e2",
          "Eif4e3",
          "Eif4ebp1",
          "Eif4ebp2",
          "Eif4enif1",
          "Eif4g1",
          "Eif4g2",
          "Eif4g3",
          "Eif5",
          "Eif5b",
          "Elane",
          "Elavl1",
          "Elf1",
          "Elk3",
          "Ell2",
          "Elmo1",
          "Elovl5",
          "Elovl7",
          "Eltd1",
          "Emb",
          "Emg1",
          "Emid1",
          "Emilin1",
          "Emilin2",
          "Eml4",
          "Emp3",
          "Endod1",
          "Ep400",
          "Epb4.1",
          "Epb4.1l2",
          "Epb4.1l4b",
          "Epb4.9",
          "Epdr1",
          "Ephx2",
          "Epn1",
          "Epor",
          "Eprs",
          "Eps15",
          "Epsti1",
          "Epx",
          "Erbb2ip",
          "Erc1",
          "Ermap",
          "Ern1",
          "Ero1l",
          "Ero1lb",
          "Erp29",
          "Erp44",
          "Esco2",
          "Espl1",
          "Esyt1",
          "Etf1",
          "Etfa",
          "Etfb",
          "Etfdh",
          "Etnk1",
          "Ets1",
          "Etv6",
          "Evi2b",
          "Evl",
          "Exoc3l2",
          "Exoc6",
          "Exosc2",
          "Exosc5",
          "Exosc7",
          "Exosc8",
          "Ext1",
          "Eya2",
          "Ezh2",
          "Ezr",
          "F10",
          "F13a1",
          "F2r",
          "F2rl3",
          "F5",
          "FKBP12-T1",
          "FKBP1b-B",
          "Faah",
          "Fabp5",
          "Fads1",
          "Fads3",
          "Fam101b",
          "Fam102a",
          "Fam105a",
          "Fam107b",
          "Fam108b",
          "Fam109b",
          "Fam110a",
          "Fam117a",
          "Fam129a",
          "Fam129c",
          "Fam132a",
          "Fam134a",
          "Fam134b",
          "Fam158a",
          "Fam160a2",
          "Fam162a",
          "Fam168b",
          "Fam174b",
          "Fam176b",
          "Fam184a",
          "Fam195a",
          "Fam195b",
          "Fam20c",
          "Fam26f",
          "Fam43a",
          "Fam46a",
          "Fam49b",
          "Fam53b",
          "Fam55b",
          "Fam55c",
          "Fam59a",
          "Fam64a",
          "Fam65a",
          "Fam65b",
          "Fam69b",
          "Fam78a",
          "Fam82a2",
          "Fam96b",
          "Fance",
          "Far2",
          "Fasn",
          "Fau",
          "Fba",
          "Fbp1",
          "Fbxl20",
          "Fbxl8",
          "Fbxo10",
          "Fbxo4",
          "Fbxo5",
          "Fbxo7",
          "Fbxo9",
          "Fbxw10",
          "Fcer1g",
          "Fcgr2b",
          "Fcgr3",
          "Fcgrt",
          "Fcho1",
          "Fchsd2",
          "Fcnb",
          "Fech",
          "Fen1",
          "Fermt3",
          "Fes",
          "Ffar2",
          "Fgd2",
          "Fgd3",
          "Fgf3",
          "Fgfrl1",
          "Fgl2",
          "Fh1",
          "Fhdc1",
          "Ficd",
          "Filip1l",
          "Fis1",
          "Fkbp11",
          "Fkbp2",
          "Fkbp4",
          "Fkbp5",
          "Fli1",
          "Flna",
          "Flnb",
          "Flot2",
          "Flt3",
          "Flt3l",
          "Fmnl3",
          "Fmr1",
          "Fnbp1",
          "Fnbp1l",
          "Fnbp4",
          "Fndc3a",
          "Fndc3b",
          "Fos",
          "Foxj1",
          "Foxn3",
          "Foxo1",
          "Foxp1",
          "Foxred2",
          "Fr1",
          "Frat1",
          "Frat2",
          "Frmd4a",
          "Fth1",
          "Ftl1",
          "Ftsj1",
          "Ftsj3",
          "Fubp1",
          "Fuca2",
          "Fut4",
          "Fut7",
          "Fut8",
          "Fxn",
          "Fxyd5",
          "Fyb",
          "Fyn",
          "Fyr",
          "G0s2",
          "G3bp2",
          "G6pc3",
          "G6pdx",
          "Gab2",
          "Gabarapl1",
          "Gabpb2",
          "Gadd45a",
          "Gadd45b",
          "Galc",
          "Galk1",
          "Galns",
          "Galnt1",
          "Galnt11",
          "Galnt12",
          "Galnt2",
          "Galnt6",
          "Gamt",
          "Ganab",
          "Gapt",
          "Gapvd1",
          "Gar1",
          "Gars",
          "Gart",
          "Gas5",
          "Gas7",
          "Gata1",
          "Gata2",
          "Gatad2b",
          "Gatm",
          "Gatsl3",
          "Gbp10",
          "Gbp2",
          "Gbx2",
          "Gcat",
          "Gch1",
          "Gclc",
          "Gclm",
          "Gda",
          "Gdf3",
          "Gdi2",
          "Gdpd1",
          "Gdpd3",
          "Gemin5",
          "Get4",
          "Gfer",
          "Gfi1",
          "Gfi1b",
          "Gfm1",
          "Gfod1",
          "Gfpt1",
          "Gga2",
          "Ggh",
          "Ggt5",
          "Ggta1",
          "Gigyf2",
          "Gimap1",
          "Gimap5",
          "Gimap6",
          "Gimap7",
          "Git2",
          "Gja1",
          "Gjb3",
          "Glb1",
          "Glb1l",
          "Glg1",
          "Glipr1",
          "Glipr2",
          "Glo1",
          "Glrx5",
          "Gltscr2",
          "Glud1",
          "Gm10653",
          "Gm14005",
          "Gm14085",
          "Gm15800",
          "Gm16515",
          "Gm1966",
          "Gm2058",
          "Gm2a",
          "Gm4759",
          "Gm4902",
          "Gm5057",
          "Gm5506",
          "Gm608",
          "Gm672",
          "Gm7694",
          "Gmfg",
          "Gmip",
          "Gmpr",
          "Gna14",
          "Gna15",
          "Gnai2",
          "Gnas",
          "Gnb2l1",
          "Gng10",
          "Gng11",
          "Gng12",
          "Gng2",
          "Gnl2",
          "Gnl3",
          "Gnl3l",
          "Gnpda2",
          "Gnptab",
          "Golga4",
          "Golm1",
          "Gorasp2",
          "Gp1ba",
          "Gp5",
          "Gp9",
          "Gpatch8",
          "Gpbp1",
          "Gpc1",
          "Gpc4",
          "Gpi1",
          "Gpn3",
          "Gpr132",
          "Gpr171",
          "Gpr18",
          "Gpr183",
          "Gpr56",
          "Gpr84",
          "Gpr97",
          "Gps2",
          "Gpt2",
          "Gpx1",
          "Gpx3",
          "Gpx4",
          "Gramd1b",
          "Gramd3",
          "Grap",
          "Grb10",
          "Grb2",
          "Grhpr",
          "Gria3",
          "Grina",
          "Grk6",
          "Grn",
          "Gsn",
          "Gspt1",
          "Gsr",
          "Gstm1",
          "Gstm4",
          "Gstm5",
          "Gstm7",
          "Gsto1",
          "Gstp1",
          "Gstt3",
          "Gtf2a2",
          "Gtf2f1",
          "Gtf2h1",
          "Gtf2h3",
          "Gtf2i",
          "Gtpbp1",
          "Guca1a",
          "Gucy1a3",
          "Guk1",
          "Gusb",
          "Gxylt1",
          "Gyg",
          "Gypa",
          "Gypc",
          "Gzma",
          "Gzmb",
          "Gzmm",
          "H13",
          "H1f0",
          "H1fx",
          "H2-Aa",
          "H2-Ab1",
          "H2-D1",
          "H2-DMa",
          "H2-DMb1",
          "H2-Eb1",
          "H2-K1",
          "H2-Ke2",
          "H2-M3",
          "H2-Oa",
          "H2-Ob",
          "H2-Q7",
          "H2-T10",
          "H2afj",
          "H2afv",
          "H2afx",
          "H2afy",
          "H3f3a",
          "H47",
          "HDAC7",
          "HLS2",
          "Haao",
          "Hadh",
          "Hadha",
          "Hagh",
          "Hars",
          "Hausp",
          "Hba-a2",
          "Hbb-b1",
          "Hcfc1",
          "Hck",
          "Hcst",
          "Hdac5",
          "Hdac6",
          "Hdc",
          "Hdgf",
          "Hdlbp",
          "Heatr1",
          "Heatr3",
          "Heatr5a",
          "Hebp1",
          "Hectd1",
          "Heg1",
          "Hells",
          "Hemgn",
          "Herc1",
          "Herc2",
          "Herpud1",
          "Hes1",
          "Hexa",
          "Hexb",
          "Hfe",
          "Hif3a",
          "Higd2a",
          "Hint1",
          "Hip1",
          "Hip1r",
          "Hipk1",
          "Hist1h2an",
          "Hivep2",
          "Hk1",
          "Hk2",
          "Hk3",
          "Hlf",
          "Hlx",
          "Hmbs",
          "Hmgb2",
          "Hmgb3",
          "Hmgcl",
          "Hmgn1",
          "Hmgn2",
          "Hmgn3",
          "Hmha1",
          "Hmmr",
          "Hmox1",
          "Hn1",
          "Hnf4a",
          "Hnrnpab",
          "Hnrnpc",
          "Hnrnpd",
          "Hnrnph1",
          "Hnrnpk",
          "Hnrnpm",
          "Hnrnpul1",
          "Hnrpdl",
          "Homer2",
          "Homer3",
          "Hoxa5",
          "Hoxa7",
          "Hoxa9",
          "Hp",
          "Hp1bp3",
          "Hpn",
          "Hprt",
          "Hps3",
          "Hras1",
          "Hs6st1",
          "Hsd11b1",
          "Hsd17b1",
          "Hsd17b10",
          "Hsd17b11",
          "Hsd17b12",
          "Hsp90ab1",
          "Hsp90b1",
          "Hspa14",
          "Hspa2",
          "Hspa4",
          "Hspa4l",
          "Hspa5",
          "Hspa8",
          "Hspbp1",
          "Hspd1",
          "Hspe1",
          "Hsph1",
          "HtrA2",
          "Huwe1",
          "Hyal1",
          "Hyal2",
          "Hyi",
          "Hyou1",
          "I830077J02Rik",
          "ISG12a",
          "Iars",
          "Iars2",
          "Ica1",
          "Icam2",
          "Icam4",
          "Id1",
          "Id2",
          "Idh1",
          "Idh2",
          "Idh3a",
          "Idh3b",
          "Ier3",
          "Ier3ip1",
          "Ier5",
          "Iffo2",
          "Ifi203",
          "Ifi27l2a",
          "Ifi30",
          "Ifih1",
          "Ifitm1",
          "Ifitm2",
          "Ifitm3",
          "Ifnar2",
          "Ifngr1",
          "Ifngr2",
          "Ifrd2",
          "Ift140",
          "Igf1r",
          "Igf2r",
          "Igfbp4",
          "Igsf3",
          "Igsf6",
          "Igtp",
          "Ikbke",
          "Ikzf1",
          "Ikzf2",
          "Il10ra",
          "Il12a",
          "Il15",
          "Il16",
          "Il17ra",
          "Il17rb",
          "Il1r1",
          "Il1rl1",
          "Il21r",
          "Il2rb",
          "Il31ra",
          "Il3ra",
          "Il4ra",
          "Il6ra",
          "Il6st",
          "Immt",
          "Imp3",
          "Imp4",
          "Impa2",
          "Impdh1",
          "Incenp",
          "Inf2",
          "Ing1",
          "Ino80d",
          "Inpp5d",
          "Integrin Alpha-4",
          "Ints8",
          "Ipmk",
          "Ipo4",
          "Ipo5",
          "Iqgap1",
          "Iqgap2",
          "Irak-M",
          "Irf1",
          "Irf2",
          "Irf2bp2",
          "Irf5",
          "Irf7",
          "Irf8",
          "Irf9",
          "Irg1",
          "Irgm1",
          "Isca1",
          "Isca2",
          "Isg15",
          "Isg20",
          "Isg20l2",
          "Isoc1",
          "Isyna1",
          "Itga2b",
          "Itga6",
          "Itgal",
          "Itgam",
          "Itgav",
          "Itgax",
          "Itgb1",
          "Itgb2",
          "Itgb3",
          "Itgb5",
          "Itgb7",
          "Itih5",
          "Itm2a",
          "Itm2b",
          "Itm2c",
          "Itpr1",
          "Itpr3",
          "Itpripl1",
          "Itpripl2",
          "Itsn1",
          "Iws1",
          "Jak1",
          "Jarid1a",
          "Jdp2",
          "Jmjd1c",
          "Jmy",
          "Jnk2",
          "Josd1",
          "Josd2",
          "Kalrn",
          "Kars",
          "Katnal1",
          "Kbtbd11",
          "Kcc1",
          "Kcnab2",
          "Kcng2",
          "Kcnip3",
          "Kcnk12",
          "Kcnk6",
          "Kcnn4",
          "Kcnq5",
          "Kctd1",
          "Kctd12",
          "Kctd14",
          "Kctd17",
          "Kctd20",
          "Kdelc2",
          "Kdelr2",
          "Kdm2a",
          "Kdm3a",
          "Kdm3b",
          "Kdm5b",
          "Kel",
          "Khdrbs1",
          "Khk",
          "Khsrp",
          "Kiaa0028",
          "Kif11",
          "Kif15",
          "Kif17",
          "Kif18b",
          "Kif1b",
          "Kif21b",
          "Kif22",
          "Kif23",
          "Kif2a",
          "Kif3a",
          "Kif4",
          "Kit",
          "Klf1",
          "Klf13",
          "Klf2",
          "Klf3",
          "Klf4",
          "Klf6",
          "Klf9",
          "Klhdc2",
          "Klhdc3",
          "Klhdc8b",
          "Klhl22",
          "Klhl36",
          "Klhl5",
          "Klk8",
          "Klrb1c",
          "Klrb1f",
          "Klrk1",
          "Kpc1",
          "Kpnb1",
          "Krt18",
          "Krtcap2",
          "Kti12",
          "Ktn1",
          "L1cam",
          "L3mbtl3",
          "LPCAT4",
          "Lair1",
          "Lamp1",
          "Lap3",
          "Laptm5",
          "Larp1",
          "Larp1b",
          "Larp7",
          "Lars",
          "Lass5",
          "Lat",
          "Lat2",
          "Lbh",
          "Lbp",
          "Lck",
          "Lcn2",
          "Lcp1",
          "Lcp2",
          "Ldb1",
          "Ldha",
          "Ldhb",
          "Ldlrad3",
          "Lefty1",
          "Leprot",
          "Lfng",
          "Lgals1",
          "Lgals3",
          "Lgals3bp",
          "Lgals9",
          "Lgmn",
          "Lias",
          "Lig1",
          "Lilrb3",
          "Limd1",
          "Limd2",
          "Lims1",
          "Litaf",
          "Lman1",
          "Lman2",
          "Lmcd1",
          "Lmna",
          "Lmnb1",
          "Lmnb2",
          "Lmo1",
          "Lmo2",
          "Lmo4",
          "Lonp1",
          "Lonp2",
          "Lpar2",
          "Lpar6",
          "Lpcat2",
          "Lpcat4",
          "Lpgat1",
          "Lphn1",
          "Lphn2",
          "Lpin1",
          "Lpin2",
          "Lpla2",
          "Lrg1",
          "Lrmp",
          "Lrp1",
          "Lrp4",
          "Lrp5",
          "Lrp8",
          "Lrpprc",
          "Lrrc1",
          "Lrrc14",
          "Lrrc24",
          "Lrrc33",
          "Lrrc58",
          "Lrrc8c",
          "Lrrfip1",
          "Lrrk2",
          "Lrwd1",
          "Lsm14a",
          "Lsm2",
          "Lsm4",
          "Lsp1",
          "Lta4h",
          "Ltb4r1",
          "Ltbr",
          "Luc7l",
          "Luc7l2",
          "Luc7l3",
          "Luzp1",
          "Lxn",
          "Ly6c2",
          "Ly6d",
          "Ly6e",
          "Ly86",
          "Ly9",
          "Lyar",
          "Lyl1",
          "Lysmd2",
          "Lyst",
          "Lyz1",
          "M-rdgB beta",
          "M6prbp1",
          "MRPL33",
          "MRPS11",
          "Macf1",
          "Mad2l1",
          "Maged2",
          "Magoh",
          "Magt1",
          "Malat1",
          "Malt1",
          "Maml3",
          "Man1a",
          "Man1c1",
          "Man2b1",
          "Manf",
          "Map1lc3b",
          "Map2k2",
          "Map3k14",
          "Map3k3",
          "Map3k5",
          "Map4",
          "Map4k3",
          "Map4k4",
          "Mapk14",
          "Mapk6",
          "Mapkapk2",
          "Mapkapk3",
          "Mapre1",
          "Marcksl1",
          "Mars",
          "Marveld1",
          "Mast2",
          "Mast4",
          "Mat2a",
          "Mat2b",
          "Matn2",
          "Mbd2",
          "Mbnl1",
          "Mboat1",
          "Mbp",
          "Mcf2l",
          "Mcm10",
          "Mcm2",
          "Mcm3",
          "Mcm4",
          "Mcm5",
          "Mcm6",
          "Mcm7",
          "Mcph1",
          "Mcpt4",
          "Mcpt8",
          "Mctp1",
          "Mdga1",
          "Mdh1",
          "Mdh2",
          "Mdn1",
          "Me2",
          "Mecr",
          "Med13l",
          "Med20",
          "Med25",
          "Med30",
          "Med7",
          "Mef2c",
          "Mefv",
          "Megf12",
          "Meis1",
          "Memo1",
          "Metap2",
          "Mett10d",
          "Mettl13",
          "Mfap1b",
          "Mfap3",
          "Mfge8",
          "Mfhas1",
          "Mfn1",
          "Mfsd10",
          "Mfsd2b",
          "Mfsd6",
          "Mgam",
          "Mgat4a",
          "Mgat5",
          "Mgl2",
          "Mgll",
          "Mgst1",
          "Mgst2",
          "Mgst3",
          "Mical1",
          "Mical3",
          "Micall2",
          "Mier1",
          "Mier3",
          "Minpp1",
          "Mipol1",
          "Mir142",
          "Mir1903",
          "Mki67",
          "Mki67ip",
          "Mkl1",
          "Mknk2",
          "Mkrn1",
          "Mlec",
          "Mll1",
          "Mll2",
          "Mll3",
          "Mllt3",
          "Mllt6",
          "Mmgt2",
          "Mmp14",
          "Mnda",
          "Mndal",
          "Mns1",
          "Mobkl2a",
          "Mogat2",
          "Mogs",
          "Morf4l2",
          "Mosc2",
          "Mospd3",
          "Mpeg1",
          "Mpl",
          "Mpnd",
          "Mpo",
          "Mpp4",
          "Mpp6",
          "Mras",
          "Mrgpre",
          "Mrp63",
          "Mrpl12",
          "Mrpl15",
          "Mrpl17",
          "Mrpl18",
          "Mrpl20",
          "Mrpl22",
          "Mrpl28",
          "Mrpl3",
          "Mrpl30",
          "Mrpl34",
          "Mrpl35",
          "Mrpl37",
          "Mrpl38",
          "Mrpl42",
          "Mrpl45",
          "Mrpl47",
          "Mrpl52",
          "Mrpl54",
          "Mrpl55",
          "Mrpl9",
          "Mrps22",
          "Mrps24",
          "Mrps26",
          "Mrps28",
          "Mrps36",
          "Mrps5",
          "Mrto4",
          "Mrvi1",
          "Ms4a4b",
          "Ms4a6b",
          "Ms4a6c",
          "Msh6",
          "Msi2",
          "Msn",
          "Mt1",
          "Mt2",
          "Mta1",
          "Mta2",
          "Mta3",
          "Mtch2",
          "Mtdh",
          "Mtfp1",
          "Mtfr1",
          "Mthfd1",
          "Mthfd2",
          "Mtmr14",
          "Mtss1",
          "Mtus1",
          "Mtx2",
          "Muc13",
          "Mutyh",
          "Myadm",
          "Myb",
          "Mybbp1a",
          "Myc",
          "Mycbp2",
          "Mycn",
          "Myct1",
          "Myeov2",
          "Myh10",
          "Myh9",
          "Myl12b",
          "Mylip",
          "Mylk3",
          "Mylpf",
          "Myo10",
          "Myo15b",
          "Myo1d",
          "Myo1f",
          "Myo1g",
          "Myo5b",
          "Myo7a",
          "Myst3",
          "N4bp2",
          "N4bp2l1",
          "N4bp3",
          "NAAA",
          "Naa25",
          "Naa50",
          "Nab1",
          "Naga",
          "Naglu",
          "Nags",
          "Naip1",
          "Naip2",
          "Nanos3",
          "Nap1l4",
          "Naprt1",
          "Napsa",
          "Narf",
          "Nasp",
          "Nat10",
          "Nat15",
          "Nat8l",
          "Nav1",
          "Nav2",
          "Ncam1",
          "Ncapd2",
          "Ncapg2",
          "Ncbp1",
          "Ncf1",
          "Ncf2",
          "Ncf4",
          "Nckap1",
          "Nckap5l",
          "Nckipsd",
          "Ncl",
          "Ncln",
          "Ncoa2",
          "Ncoa3",
          "Ncoa6",
          "Ncor1",
          "Ncs1",
          "Ndrg1",
          "Ndst1",
          "Ndst2",
          "Ndufa10",
          "Ndufa12",
          "Ndufa13",
          "Ndufa7",
          "Ndufb10",
          "Ndufb2",
          "Ndufb5",
          "Ndufb6",
          "Ndufb8",
          "Ndufb9",
          "Ndufc2",
          "Ndufs1",
          "Ndufs2",
          "Ndufs6",
          "Ndufs7",
          "Ndufv1",
          "Ndufv2",
          "Ndufv3",
          "Necap2",
          "Nedd4",
          "Nedd9",
          "Nefh",
          "Neil3",
          "Nek6",
          "Nenf",
          "Net1",
          "Neu1",
          "Neurl3",
          "Nfam1",
          "Nfat5",
          "Nfatc1",
          "Nfatc2",
          "Nfatc3",
          "Nfe2",
          "Nfe2l1",
          "Nfe2l2",
          "Nfia",
          "Nfic",
          "Nfil3",
          "Nfix",
          "Nfkb1",
          "Nfkbia",
          "Nfkbie",
          "Nfs1",
          "Nfya",
          "Ng23",
          "Ngly1",
          "Nhlrc2",
          "Nhsl2",
          "Nin",
          "Ninj1",
          "Ninl",
          "Nipsnap1",
          "Nkg7",
          "Nlgn2",
          "Nlrx1",
          "Nmd3",
          "Nme1",
          "Nme2",
          "Nme4",
          "Nmral1",
          "Noc3l",
          "Noc4l",
          "Nod1",
          "Nol11",
          "Nol7",
          "Nol9",
          "Nolc1",
          "Nop14",
          "Nop2",
          "Nop58",
          "Npc2",
          "Npl",
          "Npm2",
          "Nqo1",
          "Nr0b2",
          "Nr3c1",
          "Nrg2",
          "Nrgn",
          "Nrip1",
          "Nrp2",
          "Nrxn1",
          "Nsf",
          "Nsmce4a",
          "Nsun2",
          "Nt5c2",
          "Ntng2",
          "Nuak2",
          "Nucb1",
          "Nucb2",
          "Nucks1",
          "Nudc",
          "Nudt19",
          "Nudt3",
          "Nudt9",
          "Numa1",
          "Nup133",
          "Nup160",
          "Nup210",
          "Nup85",
          "Nup93",
          "Nupr1",
          "Nusap1",
          "Nxn",
          "Nxt1",
          "Oaf",
          "Oasl1",
          "Oat",
          "Ociad1",
          "Ocrl",
          "Odc1",
          "Ogfrl1",
          "Oip5",
          "Olfm1",
          "Olfr56",
          "Olr1",
          "Opa1",
          "Optn",
          "Orai2",
          "Orc2",
          "Orc3",
          "Orc5",
          "Orc6",
          "Ormdl3",
          "Os9",
          "Osbpl1a",
          "Osbpl3",
          "Osbpl5",
          "Osbpl8",
          "Ostc",
          "Ostf1",
          "Otub2",
          "Otud7b",
          "Oxr1",
          "P2rx1",
          "P2rx7",
          "P2ry1",
          "P2ry2",
          "P4hb",
          "PAPK-A",
          "Pa2g4",
          "Pabpc4",
          "Pabpn1",
          "Pacs1",
          "Pacsin2",
          "Padi4",
          "Paics",
          "Paip1",
          "Paip2",
          "Pak1",
          "Pak1ip1",
          "Palm",
          "Pam",
          "Pank1",
          "Panx1",
          "Papola",
          "Papss2",
          "Paqr7",
          "Paqr9",
          "Pard3b",
          "Park7",
          "Parm1",
          "Parp1",
          "Parp14",
          "Parp3",
          "Parp8",
          "Parvb",
          "Parvg",
          "Pbx1",
          "Pbx4",
          "Pcbp1",
          "Pcbp2",
          "Pccb",
          "Pcf11",
          "Pcgf2",
          "Pck2",
          "Pcm1",
          "Pcmtd2",
          "Pcna",
          "Pcnt",
          "Pcnx",
          "Pcp4l1",
          "Pcyt1a",
          "Pcyt1b",
          "Pdap1",
          "Pdcd11",
          "Pdcd4",
          "Pdcd6ip",
          "Pde2a",
          "Pde4d",
          "Pde5a",
          "Pde6d",
          "Pdgfrb",
          "Pdha1",
          "Pdhb",
          "Pdia2",
          "Pdia3",
          "Pdia4",
          "Pdia5",
          "Pdia6",
          "Pdlim1",
          "Pdlim2",
          "Pdlim7",
          "Pdrg1",
          "Pdxk",
          "Pea15a",
          "Pecam1",
          "Peci",
          "Pef1",
          "Peg13",
          "Peli2",
          "Peo1",
          "Per1",
          "Per3",
          "Pex11a",
          "Pf4",
          "Pfdn1",
          "Pfdn5",
          "Pfkfb3",
          "Pfkfb4",
          "Pfkm",
          "Pfkp",
          "Pgd",
          "Pglyrp1",
          "Pglyrp2",
          "Pgp",
          "Phactr2",
          "Phactr4",
          "Phb2",
          "Phc1",
          "Phf10",
          "Phf13",
          "Phf14",
          "Phf19",
          "Phf21a",
          "Phf3",
          "Phf5a",
          "Phgdh",
          "Phldb3",
          "Phospho1",
          "Phyhip",
          "Picalm",
          "Pigq",
          "Pik3ap1",
          "Pik3cd",
          "Pik3cg",
          "Pik3r2",
          "Pik3r5",
          "Pik3r6",
          "Pim1",
          "Pim2",
          "Pip4k2a",
          "Pip5k1b",
          "Pitpna",
          "Pitpnm2",
          "Pitrm1",
          "Pkhd1l1",
          "Pkib",
          "Pkig",
          "Pklr",
          "Pkm2",
          "Pkn2",
          "Pla2g12a",
          "Pla2g16",
          "Plaur",
          "Plbd1",
          "Plcb2",
          "Plcb3",
          "Plcg1",
          "Plcg2",
          "Plcl2",
          "Pld3",
          "Pld4",
          "Plek",
          "Plekha1",
          "Plekha2",
          "Plekhf1",
          "Plekhg2",
          "Plekhg3",
          "Plekhg5",
          "Plekho1",
          "Plod1",
          "Plod3",
          "Plscr1",
          "Plvap",
          "Plxdc1",
          "Plxnb2",
          "Plxnc1",
          "Plxnd1",
          "Pmepa1",
          "Pmf1",
          "Pml",
          "Pmm1",
          "Pnp",
          "Pnp2",
          "Pnpla2",
          "Pnrc1",
          "Pola2",
          "Poldip2",
          "Pole",
          "Pole3",
          "Polq",
          "Polr1a",
          "Polr1b",
          "Polr1c",
          "Polr1d",
          "Polr2e",
          "Polr2f",
          "Polr2j",
          "Polr3d",
          "Pon2",
          "Pop5",
          "Popdc2",
          "Por",
          "Pou2af1",
          "Pou2f2",
          "Ppa1",
          "Ppap2a",
          "Ppat",
          "Ppfia1",
          "Ppfia4",
          "Ppfibp1",
          "Ppfibp2",
          "Ppic",
          "Ppid",
          "Ppif",
          "Ppm1g",
          "Ppm1h",
          "Ppm1l",
          "Ppm1m",
          "Ppox",
          "Ppp1r12a",
          "Ppp1r13b",
          "Ppp1r14b",
          "Ppp1r15a",
          "Ppp1r15b",
          "Ppp1r3d",
          "Ppp1r9b",
          "Ppp2r1b",
          "Ppp2r4",
          "Ppp3cc",
          "Ppp6r1",
          "Ppp6r2",
          "Pprc1",
          "Pqlc3",
          "Pra1",
          "Prc1",
          "Prdm2",
          "Prdm5",
          "Prdx2",
          "Prdx3",
          "Prdx4",
          "Prdx5",
          "Prdx6",
          "Prelid2",
          "Prg2",
          "Prg3",
          "Prim2",
          "Prkaa1",
          "Prkab1",
          "Prkaca",
          "Prkag1",
          "Prkag2",
          "Prkar2b",
          "Prkca",
          "Prkcb",
          "Prkcd",
          "Prkce",
          "Prkch",
          "Prkcq",
          "Prkcsh",
          "Prkd2",
          "Prmt5",
          "Prnd",
          "Prodh",
          "Prom1",
          "Prorsd1",
          "Prpf19",
          "Prpf3",
          "Prpf4b",
          "Prpf8",
          "Prpsap1",
          "Prr13",
          "Prr5",
          "Prrc2b",
          "Prrg4",
          "Prss16",
          "Prss34",
          "Prss50",
          "Prssl1",
          "Prtn3",
          "Psap",
          "Psat1",
          "Psen2",
          "Psip1",
          "Psma7",
          "Psmb1",
          "Psmb10",
          "Psmb2",
          "Psmb3",
          "Psmb4",
          "Psmb6",
          "Psmb7",
          "Psmb8",
          "Psmb9",
          "Psmc1",
          "Psmc2",
          "Psmc3",
          "Psmd1",
          "Psmd11",
          "Psmd12",
          "Psmd2",
          "Psmd3",
          "Psmd4",
          "Psmd5",
          "Psmd7",
          "Psmd9",
          "Psme1",
          "Psme2",
          "Psme3",
          "Psmf1",
          "Psmg1",
          "Psmg2",
          "Pspc1",
          "Pstpip1",
          "Ptch1",
          "Ptdss2",
          "Ptger2",
          "Ptger3",
          "Ptgir",
          "Ptgr1",
          "Ptgs1",
          "Ptms",
          "Ptp4a2",
          "Ptp4a3",
          "Ptpn1",
          "Ptpn11",
          "Ptpn13",
          "Ptpn14",
          "Ptpn18",
          "Ptpn22",
          "Ptpn6",
          "Ptpn7",
          "Ptpra",
          "Ptprcap",
          "Ptpre",
          "Ptprs",
          "Ptpru",
          "Pttg1ip",
          "Pum1",
          "Pus1",
          "Pus7",
          "Pvr",
          "Pvrl1",
          "Pwp2",
          "Pycard",
          "Pycr2",
          "Pygl",
          "Qars",
          "Qdpr",
          "Rab11fip1",
          "Rab17",
          "Rab18",
          "Rab19",
          "Rab1b",
          "Rab22B",
          "Rab27a",
          "Rab27b",
          "Rab2a",
          "Rab32",
          "Rab35",
          "Rab37",
          "Rab3d",
          "Rab3il1",
          "Rab44",
          "Rab4a",
          "Rabgap1l",
          "Rabgef1",
          "Rac2",
          "Racgap1",
          "Rad21",
          "Rad23a",
          "Rad23b",
          "Rad50",
          "Ralgds",
          "Ralgps2",
          "Ramp1",
          "Ran",
          "Ranbp1",
          "Ranbp10",
          "Ranbp2",
          "Rangap1",
          "Rangrf",
          "Rap1b",
          "Rapgef2",
          "Rapgef3",
          "Rapgef5",
          "Rapgef6",
          "Rara",
          "Rarg",
          "Rasa2",
          "Rasa4",
          "Rasal3",
          "Rasgrp2",
          "Rassf2",
          "Rassf3",
          "Rassf4",
          "Rassf8",
          "Rbbp6",
          "Rbks",
          "Rbm16",
          "Rbm25",
          "Rbm27",
          "Rbm33",
          "Rbm39",
          "Rbm43",
          "Rbm5",
          "Rbm8a",
          "Rbmxrt",
          "Rbp1",
          "Rbpms",
          "Rcc2",
          "Rcl1",
          "Rcn3",
          "Rcor1",
          "Rcor2",
          "Rcsd1",
          "Rdh12",
          "Rdx",
          "Rec8",
          "Reck",
          "Recql4",
          "Reep2",
          "Reep5",
          "Reep6",
          "Rel",
          "Rela",
          "Relb",
          "Renbp",
          "Rest",
          "Rexo2",
          "Rfc2",
          "Rfc4",
          "Rfng",
          "Rftn1",
          "Rfx2",
          "Rgl1",
          "Rgs10",
          "Rgs12",
          "Rgs14",
          "Rgs18",
          "Rgs19",
          "Rgs2",
          "Rhag",
          "Rhbdd2",
          "Rhd",
          "Rhob",
          "Rhog",
          "Rhou",
          "Rin3",
          "Ripk3",
          "Rlf",
          "Rnaseh1",
          "Rnaseh2b",
          "Rnaseh2c",
          "Rnaset2a",
          "Rnf10",
          "Rnf125",
          "Rnf13",
          "Rnf130",
          "Rnf144a",
          "Rnf144b",
          "Rnf150",
          "Rnf180",
          "Rnf187",
          "Rnf213",
          "Rnf216",
          "Rnpep",
          "Rnpepl1",
          "Robld3",
          "Rod1",
          "Rogdi",
          "Rom1",
          "Romo1",
          "Rpa2",
          "Rpia",
          "Rpl13",
          "Rpl13a",
          "Rpl18",
          "Rpl23",
          "Rpl27a",
          "Rpl32",
          "Rpl37a",
          "Rpl4",
          "Rplp2",
          "Rpn1",
          "Rpn2",
          "Rprd1b",
          "Rps10",
          "Rps11",
          "Rps19",
          "Rps20",
          "Rps21",
          "Rps25",
          "Rps27l",
          "Rps3",
          "Rps3a",
          "Rps6ka1",
          "Rps6ka2",
          "Rps6ka5",
          "Rps8",
          "Rrad",
          "Rrbp1",
          "Rreb1",
          "Rrm1",
          "Rrm2",
          "Rrp1b",
          "Rrp9",
          "Rsbn1",
          "Rsl1d1",
          "Rsu1",
          "Rtkn",
          "Rtn4r",
          "Rtn4rl1",
          "Rtp4",
          "Rufy2",
          "Runx1",
          "Runx2",
          "Ruvbl1",
          "Ruvbl2",
          "Ryk",
          "S100a10",
          "S100a4",
          "S100a6",
          "S100a8",
          "S100a9",
          "S1pr1",
          "S1pr2",
          "S1pr3",
          "S1pr4",
          "SMC4",
          "Sae1",
          "Samd1",
          "Samd10",
          "Samd14",
          "Samhd1",
          "Samm50",
          "Samsn1",
          "Sars",
          "Sat1",
          "Satb1",
          "Sbk1",
          "Sbno1",
          "Scaf11",
          "Scamp2",
          "Scarf1",
          "Scd2",
          "Scin",
          "Scly",
          "Scnn1a",
          "Scpep1",
          "Scrn3",
          "Sdad1",
          "Sdc3",
          "Sdf2l1",
          "Sdha",
          "Sdhb",
          "Sdhc",
          "Sdhd",
          "Sdpr",
          "Sdsl",
          "Sec11c",
          "Sec14l2",
          "Sec22c",
          "Sec24d",
          "Sec31a",
          "Sec61a1",
          "Sec61b",
          "Sec63",
          "Secisbp2",
          "Sel1l",
          "Selenbp1",
          "Selk",
          "Sell",
          "Selm",
          "Selp",
          "Selplg",
          "Sema4a",
          "Senp6",
          "Senp7",
          "Sepw1",
          "Sepx1",
          "Serinc5",
          "Serp1",
          "Serpina3f",
          "Serpinb6b",
          "Serpine2",
          "Serpinf1",
          "Sertad1",
          "Sesn1",
          "Sesn3",
          "Sestd1",
          "Setd1a",
          "Setd2",
          "Setd8",
          "Sf3a2",
          "Sf3b1",
          "Sf3b2",
          "Sf3b3",
          "Sfmbt1",
          "Sfpi1",
          "Sfpq",
          "Sfrs18",
          "Sfrs3",
          "Sfrs7",
          "Sfswap",
          "Sfxn1",
          "Sfxn3",
          "Sgcb",
          "Sgk1",
          "Sgms2",
          "Sgpp1",
          "Sh2b2",
          "Sh2d2a",
          "Sh2d3c",
          "Sh2d4a",
          "Sh3bgrl3",
          "Sh3bp5",
          "Sh3glb1",
          "Sh3kbp1",
          "Sh3pxd2b",
          "Sh3tc1",
          "Shank3",
          "Shfm1",
          "Shisa5",
          "Shmt1",
          "Sigirr",
          "Siglec5",
          "Siglecg",
          "Sigmar1",
          "Sik1",
          "Sipa1l1",
          "Sirpa",
          "Sirt2",
          "Sirt7",
          "Siva1",
          "Skil",
          "Skiv2l2",
          "Sla",
          "Slain1",
          "Slbp",
          "Slc12a9",
          "Slc14a1",
          "Slc16a1",
          "Slc16a10",
          "Slc17a9",
          "Slc18a2",
          "Slc19a1",
          "Slc22a23",
          "Slc22a3",
          "Slc24a6",
          "Slc25a1",
          "Slc25a12",
          "Slc25a13",
          "Slc25a21",
          "Slc25a23",
          "Slc25a3",
          "Slc25a38",
          "Slc25a39",
          "Slc25a4",
          "Slc25a42",
          "Slc25a44",
          "Slc25a5",
          "Slc26a1",
          "Slc28a2",
          "Slc29a1",
          "Slc2a1",
          "Slc2a6",
          "Slc30a7",
          "Slc31a2",
          "Slc35b2",
          "Slc35b4",
          "Slc35c2",
          "Slc35e2",
          "Slc35e4",
          "Slc36a1",
          "Slc38a1",
          "Slc38a2",
          "Slc38a5",
          "Slc39a6",
          "Slc39a8",
          "Slc3a2",
          "Slc41a3",
          "Slc43a1",
          "Slc43a3",
          "Slc44a2",
          "Slc45a3",
          "Slc45a4",
          "Slc46a3",
          "Slc4a8",
          "Slc6a13",
          "Slc7a1",
          "Slc7a4",
          "Slc7a8",
          "Slc9a9",
          "Slco3a1",
          "Slco4a1",
          "Slfn2",
          "Slfn8",
          "Slfn9",
          "Slk",
          "Slmap",
          "Slmo2",
          "Slpi",
          "Smad1",
          "Smap1",
          "Smap2",
          "Smarca4",
          "Smarca5",
          "Smarcc1",
          "Smarcc2",
          "Smc1a",
          "Smc2",
          "Smc3",
          "Smchd1",
          "Smg1",
          "Smg6",
          "Smpd4",
          "Smtn",
          "Smyd2",
          "Smyd3",
          "Smyd5",
          "Snd1",
          "Snord49b",
          "Snrnp200",
          "Snrnp40",
          "Snrpa1",
          "Snrpb",
          "Snrpd1",
          "Snrpd2",
          "Snrpf",
          "Sntb2",
          "Snx1",
          "Snx10",
          "Snx18",
          "Snx20",
          "Snx3",
          "Snx30",
          "Snx5",
          "Snx9",
          "Soat1",
          "Soat2",
          "Socs1",
          "Sod1",
          "Sod2",
          "Son",
          "Sorbs1",
          "Sorbs3",
          "Sord",
          "Sorl1",
          "Sort1",
          "Sox12",
          "Sox13",
          "Sox4",
          "Sox6",
          "Sp100",
          "Sp110",
          "Spag5",
          "Spata13",
          "Spata24",
          "Spata6",
          "Spc24",
          "Spcs2",
          "Spcs3",
          "Specc1l",
          "Sphk1",
          "Spin1",
          "Spire1",
          "Spire2",
          "Spn",
          "Spna1",
          "Spna2",
          "Spnb1",
          "Spnb2",
          "Spns2",
          "Spns3",
          "Spon2",
          "Spop",
          "Spr",
          "Sqrdl",
          "Sqstm1",
          "Sra1",
          "Srcap",
          "Srgap2",
          "Srgap3",
          "Srgn",
          "Sri",
          "Srm",
          "Srp19",
          "Srp68",
          "Srp72",
          "Srp9",
          "Srpk2",
          "Srprb",
          "Srrm1",
          "Srrm2",
          "Srrt",
          "Srsf1",
          "Srsf2",
          "Srsf6",
          "Ssb",
          "Ssbp3",
          "Ssh1",
          "Ssh3",
          "Ssna1",
          "Ssr1",
          "Ssr2",
          "Ssr4",
          "Ssrp1",
          "Ssx2ip",
          "St14",
          "St3gal5",
          "St8sia4",
          "Stard10",
          "Stard5",
          "Stat1",
          "Stat3",
          "Stat4",
          "Stat5a",
          "Stat5b",
          "Stau2",
          "Steap3",
          "Stk10",
          "Stk38",
          "Stom",
          "Ston2",
          "Stra13",
          "Strap",
          "Strbp",
          "Stt3b",
          "Stx2",
          "Stx3",
          "Stxbp1",
          "Stxbp3a",
          "Stxbp5",
          "Sun2",
          "Supt16h",
          "Susd3",
          "Svip",
          "Syce2",
          "Syf2",
          "Syk",
          "Syne1",
          "Syne2",
          "Syngr1",
          "Synj2",
          "Sypl",
          "Sytl1",
          "Sytl4",
          "Tacc1",
          "Tacc2",
          "Tacstd2",
          "Taf1",
          "Taf12",
          "Taf9",
          "Tagln2",
          "Tal1",
          "Taldo1",
          "Taok3",
          "Tap1",
          "Tapbpl",
          "Tapt1",
          "Tars2",
          "Tarsl2",
          "Tax1bp1",
          "Tbc1d16",
          "Tbc1d17",
          "Tbc1d2",
          "Tbc1d22b",
          "Tbc1d4",
          "Tbc1d5",
          "Tbc1d9b",
          "Tbcb",
          "Tbccd1",
          "Tbkbp1",
          "Tbl1x",
          "Tbl1xr1",
          "Tbrg1",
          "Tbrg4",
          "Tbxa2r",
          "Tbxas1",
          "Tcb",
          "Tceb3",
          "Tcerg1",
          "Tcf12",
          "Tcf19",
          "Tcf20",
          "Tcf25",
          "Tcf3",
          "Tcf7",
          "Tcfe3",
          "Tcfec",
          "Tcirg1",
          "Tcn2",
          "Tcp11l2",
          "Tec",
          "Tecr",
          "Tep1",
          "Tet1",
          "Tet2",
          "Tfam",
          "Tfdp2",
          "Tfg",
          "Tfrc",
          "Tgfb1",
          "Tgfbi",
          "Tgfbr2",
          "Tgfbr3",
          "Tgm2",
          "Thap3",
          "Thoc4",
          "Thoc7",
          "Thop1",
          "Thra",
          "Thrap3",
          "Thumpd1",
          "Thy1",
          "Tiam1",
          "Ticam2",
          "Tie1",
          "Tifab",
          "Timeless",
          "Timm10",
          "Timp2",
          "Tinagl1",
          "Tirap",
          "Tjp2",
          "Tjp3",
          "Tk1",
          "Tkt",
          "Tle6",
          "Tlk1",
          "Tlr2",
          "Tm6sf1",
          "Tm7sf3",
          "Tm9sf3",
          "Tmbim6",
          "Tmc6",
          "Tmc8",
          "Tmcc2",
          "Tmed10",
          "Tmed3",
          "Tmed9",
          "Tmem109",
          "Tmem119",
          "Tmem131",
          "Tmem141",
          "Tmem147",
          "Tmem14c",
          "Tmem159",
          "Tmem160",
          "Tmem165",
          "Tmem173",
          "Tmem176a",
          "Tmem176b",
          "Tmem179b",
          "Tmem180",
          "Tmem184b",
          "Tmem2",
          "Tmem20",
          "Tmem205",
          "Tmem208",
          "Tmem229b",
          "Tmem29",
          "Tmem38b",
          "Tmem41a",
          "Tmem50a",
          "Tmem50b",
          "Tmem53",
          "Tmem56",
          "Tmem59",
          "Tmem70",
          "Tmem8",
          "Tmem9",
          "Tmem97",
          "Tmpo",
          "Tmsb10",
          "Tmx4",
          "Tnfaip2",
          "Tnfaip8",
          "Tnfaip8l2",
          "Tnfrsf13b",
          "Tnfrsf18",
          "Tnfrsf1a",
          "Tnfrsf1b",
          "Tnfrsf21",
          "Tnfrsf26",
          "Tnfsf14",
          "Tnfsf9",
          "Tnik",
          "Tnip1",
          "Tnk2",
          "Tnks1bp1",
          "Tnks2",
          "Tnni2",
          "Tnrc18",
          "Tnrc6a",
          "Tnrc6b",
          "Tns1",
          "Tns3",
          "Tns4",
          "Tom40",
          "Tomm22",
          "Tomm5",
          "Tomm6",
          "Tomm70a",
          "Tonsl",
          "Top2a",
          "Top2b",
          "Topbp1",
          "Tor1a",
          "Tor3a",
          "Tpcn1",
          "Tpd52",
          "Tpd52l2",
          "Tpm1",
          "Tpm2",
          "Tpm3",
          "Tpm4",
          "Tpp1",
          "Tpr",
          "Tprgl",
          "Tprkb",
          "Tpsb2",
          "Tpx2",
          "Traf3ip2",
          "Traf3ip3",
          "Traf4",
          "Trafd1",
          "Trak2",
          "Tram1",
          "Trappc5",
          "Trem1",
          "Trem3",
          "Treml1",
          "Treml2",
          "Trerf1",
          "Trf",
          "Trfr2",
          "Trib2",
          "Trim10",
          "Trim2",
          "Trim24",
          "Trim25",
          "Trim26",
          "Trim28",
          "Trim45",
          "Trim47",
          "Trim8",
          "Trip10",
          "Trip12",
          "Trip6",
          "Trmt1",
          "Trmt61a",
          "Trp53",
          "Trp53i11",
          "Trp53i13",
          "Trps1",
          "Trpv2",
          "Tsc22d4",
          "Tsen34",
          "Tsn",
          "Tsnax",
          "Tspan13",
          "Tspan2",
          "Tspan31",
          "Tspan32",
          "Tspan33",
          "Tspan5",
          "Tspo",
          "Tspo2",
          "Tspyl3",
          "Ttc15",
          "Ttc21b",
          "Ttc27",
          "Ttc3",
          "Ttc39c",
          "Ttll12",
          "Ttll9",
          "Ttyh2",
          "Tuba1a",
          "Tuba1b",
          "Tuba1c",
          "Tuba8",
          "Tubb2a",
          "Tubb5",
          "Tubb6",
          "Twf2",
          "Txn1",
          "Txn2",
          "Txndc16",
          "Txndc5",
          "Txnip",
          "Txnl1",
          "Txnl4a",
          "Txnrd1",
          "Txnrd2",
          "Tyms",
          "Tyrobp",
          "Uap1",
          "Uba1",
          "Uba2",
          "Ubac1",
          "Ubap2",
          "Ubash3b",
          "Ubb",
          "Ube2c",
          "Ube2e3",
          "Ube2l6",
          "Ube2q1",
          "Ube2r2",
          "Ublcp1",
          "Ubqln1",
          "Ubr5",
          "Ubr7",
          "Ubtd1",
          "Ubtf",
          "Ubxn2a",
          "Uchl1",
          "Uck2",
          "Ucp2",
          "Ugcg",
          "Ugcgl1",
          "Ugdh",
          "Ugt1a1",
          "Uhrf1",
          "Uhrf1bp1",
          "Uhrf1bp1l",
          "Ulk3",
          "Unc119",
          "Unc119b",
          "Unc93b1",
          "Ung",
          "Uqcr",
          "Uqcr10",
          "Uqcrc1",
          "Uqcrc2",
          "Uqcrfs1",
          "Uqcrq",
          "Urod",
          "Uros",
          "Use1",
          "Usp1",
          "Usp10",
          "Usp15",
          "Usp2",
          "Usp22",
          "Usp24",
          "Usp25",
          "Usp32",
          "Usp33",
          "Usp34",
          "Usp36",
          "Usp39",
          "Usp4",
          "Usp40",
          "Usp45",
          "Usp48",
          "Usp6nl",
          "Usp9x",
          "Utp14a",
          "Utp20",
          "Utrn",
          "Vamp2",
          "Vamp5",
          "Vamp8",
          "Vangl1",
          "Vars",
          "Vasp",
          "Vat1",
          "Vav1",
          "Vav3",
          "Vcam1",
          "Vcl",
          "Vdac1",
          "Vdr",
          "Vegfa",
          "Vegfb",
          "Vgll4",
          "Vill",
          "Vim",
          "Vopp1",
          "Vprbp",
          "Vps13c",
          "Vps28",
          "Vps35",
          "Vps53",
          "Vps72",
          "Vwa5a",
          "Vwf",
          "Wapal",
          "Was",
          "Wasf2",
          "Wbp2",
          "Wbp5",
          "Wbscr27",
          "Wdfy4",
          "Wdhd1",
          "Wdr1",
          "Wdr18",
          "Wdr4",
          "Wdr59",
          "Wdr60",
          "Wdr61",
          "Wdr65",
          "Wdr73",
          "Wdr74",
          "Wdr8",
          "Wdr81",
          "Wdr92",
          "Wdsub1",
          "Whsc1",
          "Whsc1l1",
          "Wipf1",
          "Wipi2",
          "Wls",
          "Wnk1",
          "Wrn",
          "Wsb1",
          "Xbp1",
          "Xcl1",
          "Xdh",
          "Xk",
          "Xkr8",
          "Xpc",
          "Xpnpep1",
          "Xrcc5",
          "Xrcc6",
          "Xrn2",
          "Ybx1",
          "Ydjc",
          "Ylpm1",
          "Ypel3",
          "Ypel5",
          "Ythdc1",
          "Ywhae",
          "Ywhaq",
          "Ywhaz",
          "Zbed3",
          "Zbtb1",
          "Zbtb10",
          "Zbtb16",
          "Zbtb20",
          "Zbtb38",
          "Zbtb4",
          "Zbtb46",
          "Zbtb7a",
          "Zc3h18",
          "Zc3h6",
          "Zc3hav1",
          "Zcchc11",
          "Zcchc6",
          "Zdhhc14",
          "Zdhhc20",
          "Zdhhc8",
          "Zdhhc9",
          "Zeb1",
          "Zfand2b",
          "Zfand3",
          "Zfhx2",
          "Zfhx3",
          "Zfml",
          "Zfp106",
          "Zfp207",
          "Zfp217",
          "Zfp238",
          "Zfp259",
          "Zfp326",
          "Zfp36",
          "Zfp36l2",
          "Zfp467",
          "Zfp507",
          "Zfp516",
          "Zfp579",
          "Zfp608",
          "Zfp637",
          "Zfp644",
          "Zfp706",
          "Zfp783",
          "Zfp800",
          "Zfp831",
          "Zfp90",
          "Zfp945",
          "Zfpm1",
          "Zg16",
          "Zkscan1",
          "Zmat3",
          "Zmiz1",
          "Zmynd11",
          "Zmynd8",
          "Znhit1",
          "Zswim4",
          "Zwint",
          "Zyx",
          "Zzef1",
          "calp80",
          "hnRNP A2/B1",
          "mFLJ00022",
          "mKIAA0007",
          "mKIAA0569",
          "mKIAA0621",
          "mKIAA1027",
          "mKIAA1575",
          "mKIAA1994",
          "rp9",
          "slc43a2"
         ],
         "legendgroup": "",
         "marker": {
          "color": "#636efa",
          "symbol": "circle"
         },
         "mode": "markers",
         "name": "",
         "showlegend": false,
         "type": "scattergl",
         "x": {
          "bdata": "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",
          "dtype": "f4"
         },
         "xaxis": "x",
         "y": {
          "bdata": "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",
          "dtype": "f4"
         },
         "yaxis": "y"
        }
       ],
       "layout": {
        "height": 600,
        "legend": {
         "tracegroupgap": 0
        },
        "template": {
         "data": {
          "bar": [
           {
            "error_x": {
             "color": "#2a3f5f"
            },
            "error_y": {
             "color": "#2a3f5f"
            },
            "marker": {
             "line": {
              "color": "#E5ECF6",
              "width": 0.5
             },
             "pattern": {
              "fillmode": "overlay",
              "size": 10,
              "solidity": 0.2
             }
            },
            "type": "bar"
           }
          ],
          "barpolar": [
           {
            "marker": {
             "line": {
              "color": "#E5ECF6",
              "width": 0.5
             },
             "pattern": {
              "fillmode": "overlay",
              "size": 10,
              "solidity": 0.2
             }
            },
            "type": "barpolar"
           }
          ],
          "carpet": [
           {
            "aaxis": {
             "endlinecolor": "#2a3f5f",
             "gridcolor": "white",
             "linecolor": "white",
             "minorgridcolor": "white",
             "startlinecolor": "#2a3f5f"
            },
            "baxis": {
             "endlinecolor": "#2a3f5f",
             "gridcolor": "white",
             "linecolor": "white",
             "minorgridcolor": "white",
             "startlinecolor": "#2a3f5f"
            },
            "type": "carpet"
           }
          ],
          "choropleth": [
           {
            "colorbar": {
             "outlinewidth": 0,
             "ticks": ""
            },
            "type": "choropleth"
           }
          ],
          "contour": [
           {
            "colorbar": {
             "outlinewidth": 0,
             "ticks": ""
            },
            "colorscale": [
             [
              0,
              "#0d0887"
             ],
             [
              0.1111111111111111,
              "#46039f"
             ],
             [
              0.2222222222222222,
              "#7201a8"
             ],
             [
              0.3333333333333333,
              "#9c179e"
             ],
             [
              0.4444444444444444,
              "#bd3786"
             ],
             [
              0.5555555555555556,
              "#d8576b"
             ],
             [
              0.6666666666666666,
              "#ed7953"
             ],
             [
              0.7777777777777778,
              "#fb9f3a"
             ],
             [
              0.8888888888888888,
              "#fdca26"
             ],
             [
              1,
              "#f0f921"
             ]
            ],
            "type": "contour"
           }
          ],
          "contourcarpet": [
           {
            "colorbar": {
             "outlinewidth": 0,
             "ticks": ""
            },
            "type": "contourcarpet"
           }
          ],
          "heatmap": [
           {
            "colorbar": {
             "outlinewidth": 0,
             "ticks": ""
            },
            "colorscale": [
             [
              0,
              "#0d0887"
             ],
             [
              0.1111111111111111,
              "#46039f"
             ],
             [
              0.2222222222222222,
              "#7201a8"
             ],
             [
              0.3333333333333333,
              "#9c179e"
             ],
             [
              0.4444444444444444,
              "#bd3786"
             ],
             [
              0.5555555555555556,
              "#d8576b"
             ],
             [
              0.6666666666666666,
              "#ed7953"
             ],
             [
              0.7777777777777778,
              "#fb9f3a"
             ],
             [
              0.8888888888888888,
              "#fdca26"
             ],
             [
              1,
              "#f0f921"
             ]
            ],
            "type": "heatmap"
           }
          ],
          "histogram": [
           {
            "marker": {
             "pattern": {
              "fillmode": "overlay",
              "size": 10,
              "solidity": 0.2
             }
            },
            "type": "histogram"
           }
          ],
          "histogram2d": [
           {
            "colorbar": {
             "outlinewidth": 0,
             "ticks": ""
            },
            "colorscale": [
             [
              0,
              "#0d0887"
             ],
             [
              0.1111111111111111,
              "#46039f"
             ],
             [
              0.2222222222222222,
              "#7201a8"
             ],
             [
              0.3333333333333333,
              "#9c179e"
             ],
             [
              0.4444444444444444,
              "#bd3786"
             ],
             [
              0.5555555555555556,
              "#d8576b"
             ],
             [
              0.6666666666666666,
              "#ed7953"
             ],
             [
              0.7777777777777778,
              "#fb9f3a"
             ],
             [
              0.8888888888888888,
              "#fdca26"
             ],
             [
              1,
              "#f0f921"
             ]
            ],
            "type": "histogram2d"
           }
          ],
          "histogram2dcontour": [
           {
            "colorbar": {
             "outlinewidth": 0,
             "ticks": ""
            },
            "colorscale": [
             [
              0,
              "#0d0887"
             ],
             [
              0.1111111111111111,
              "#46039f"
             ],
             [
              0.2222222222222222,
              "#7201a8"
             ],
             [
              0.3333333333333333,
              "#9c179e"
             ],
             [
              0.4444444444444444,
              "#bd3786"
             ],
             [
              0.5555555555555556,
              "#d8576b"
             ],
             [
              0.6666666666666666,
              "#ed7953"
             ],
             [
              0.7777777777777778,
              "#fb9f3a"
             ],
             [
              0.8888888888888888,
              "#fdca26"
             ],
             [
              1,
              "#f0f921"
             ]
            ],
            "type": "histogram2dcontour"
           }
          ],
          "mesh3d": [
           {
            "colorbar": {
             "outlinewidth": 0,
             "ticks": ""
            },
            "type": "mesh3d"
           }
          ],
          "parcoords": [
           {
            "line": {
             "colorbar": {
              "outlinewidth": 0,
              "ticks": ""
             }
            },
            "type": "parcoords"
           }
          ],
          "pie": [
           {
            "automargin": true,
            "type": "pie"
           }
          ],
          "scatter": [
           {
            "fillpattern": {
             "fillmode": "overlay",
             "size": 10,
             "solidity": 0.2
            },
            "type": "scatter"
           }
          ],
          "scatter3d": [
           {
            "line": {
             "colorbar": {
              "outlinewidth": 0,
              "ticks": ""
             }
            },
            "marker": {
             "colorbar": {
              "outlinewidth": 0,
              "ticks": ""
             }
            },
            "type": "scatter3d"
           }
          ],
          "scattercarpet": [
           {
            "marker": {
             "colorbar": {
              "outlinewidth": 0,
              "ticks": ""
             }
            },
            "type": "scattercarpet"
           }
          ],
          "scattergeo": [
           {
            "marker": {
             "colorbar": {
              "outlinewidth": 0,
              "ticks": ""
             }
            },
            "type": "scattergeo"
           }
          ],
          "scattergl": [
           {
            "marker": {
             "colorbar": {
              "outlinewidth": 0,
              "ticks": ""
             }
            },
            "type": "scattergl"
           }
          ],
          "scattermap": [
           {
            "marker": {
             "colorbar": {
              "outlinewidth": 0,
              "ticks": ""
             }
            },
            "type": "scattermap"
           }
          ],
          "scattermapbox": [
           {
            "marker": {
             "colorbar": {
              "outlinewidth": 0,
              "ticks": ""
             }
            },
            "type": "scattermapbox"
           }
          ],
          "scatterpolar": [
           {
            "marker": {
             "colorbar": {
              "outlinewidth": 0,
              "ticks": ""
             }
            },
            "type": "scatterpolar"
           }
          ],
          "scatterpolargl": [
           {
            "marker": {
             "colorbar": {
              "outlinewidth": 0,
              "ticks": ""
             }
            },
            "type": "scatterpolargl"
           }
          ],
          "scatterternary": [
           {
            "marker": {
             "colorbar": {
              "outlinewidth": 0,
              "ticks": ""
             }
            },
            "type": "scatterternary"
           }
          ],
          "surface": [
           {
            "colorbar": {
             "outlinewidth": 0,
             "ticks": ""
            },
            "colorscale": [
             [
              0,
              "#0d0887"
             ],
             [
              0.1111111111111111,
              "#46039f"
             ],
             [
              0.2222222222222222,
              "#7201a8"
             ],
             [
              0.3333333333333333,
              "#9c179e"
             ],
             [
              0.4444444444444444,
              "#bd3786"
             ],
             [
              0.5555555555555556,
              "#d8576b"
             ],
             [
              0.6666666666666666,
              "#ed7953"
             ],
             [
              0.7777777777777778,
              "#fb9f3a"
             ],
             [
              0.8888888888888888,
              "#fdca26"
             ],
             [
              1,
              "#f0f921"
             ]
            ],
            "type": "surface"
           }
          ],
          "table": [
           {
            "cells": {
             "fill": {
              "color": "#EBF0F8"
             },
             "line": {
              "color": "white"
             }
            },
            "header": {
             "fill": {
              "color": "#C8D4E3"
             },
             "line": {
              "color": "white"
             }
            },
            "type": "table"
           }
          ]
         },
         "layout": {
          "annotationdefaults": {
           "arrowcolor": "#2a3f5f",
           "arrowhead": 0,
           "arrowwidth": 1
          },
          "autotypenumbers": "strict",
          "coloraxis": {
           "colorbar": {
            "outlinewidth": 0,
            "ticks": ""
           }
          },
          "colorscale": {
           "diverging": [
            [
             0,
             "#8e0152"
            ],
            [
             0.1,
             "#c51b7d"
            ],
            [
             0.2,
             "#de77ae"
            ],
            [
             0.3,
             "#f1b6da"
            ],
            [
             0.4,
             "#fde0ef"
            ],
            [
             0.5,
             "#f7f7f7"
            ],
            [
             0.6,
             "#e6f5d0"
            ],
            [
             0.7,
             "#b8e186"
            ],
            [
             0.8,
             "#7fbc41"
            ],
            [
             0.9,
             "#4d9221"
            ],
            [
             1,
             "#276419"
            ]
           ],
           "sequential": [
            [
             0,
             "#0d0887"
            ],
            [
             0.1111111111111111,
             "#46039f"
            ],
            [
             0.2222222222222222,
             "#7201a8"
            ],
            [
             0.3333333333333333,
             "#9c179e"
            ],
            [
             0.4444444444444444,
             "#bd3786"
            ],
            [
             0.5555555555555556,
             "#d8576b"
            ],
            [
             0.6666666666666666,
             "#ed7953"
            ],
            [
             0.7777777777777778,
             "#fb9f3a"
            ],
            [
             0.8888888888888888,
             "#fdca26"
            ],
            [
             1,
             "#f0f921"
            ]
           ],
           "sequentialminus": [
            [
             0,
             "#0d0887"
            ],
            [
             0.1111111111111111,
             "#46039f"
            ],
            [
             0.2222222222222222,
             "#7201a8"
            ],
            [
             0.3333333333333333,
             "#9c179e"
            ],
            [
             0.4444444444444444,
             "#bd3786"
            ],
            [
             0.5555555555555556,
             "#d8576b"
            ],
            [
             0.6666666666666666,
             "#ed7953"
            ],
            [
             0.7777777777777778,
             "#fb9f3a"
            ],
            [
             0.8888888888888888,
             "#fdca26"
            ],
            [
             1,
             "#f0f921"
            ]
           ]
          },
          "colorway": [
           "#636efa",
           "#EF553B",
           "#00cc96",
           "#ab63fa",
           "#FFA15A",
           "#19d3f3",
           "#FF6692",
           "#B6E880",
           "#FF97FF",
           "#FECB52"
          ],
          "font": {
           "color": "#2a3f5f"
          },
          "geo": {
           "bgcolor": "white",
           "lakecolor": "white",
           "landcolor": "#E5ECF6",
           "showlakes": true,
           "showland": true,
           "subunitcolor": "white"
          },
          "hoverlabel": {
           "align": "left"
          },
          "hovermode": "closest",
          "mapbox": {
           "style": "light"
          },
          "paper_bgcolor": "white",
          "plot_bgcolor": "#E5ECF6",
          "polar": {
           "angularaxis": {
            "gridcolor": "white",
            "linecolor": "white",
            "ticks": ""
           },
           "bgcolor": "#E5ECF6",
           "radialaxis": {
            "gridcolor": "white",
            "linecolor": "white",
            "ticks": ""
           }
          },
          "scene": {
           "xaxis": {
            "backgroundcolor": "#E5ECF6",
            "gridcolor": "white",
            "gridwidth": 2,
            "linecolor": "white",
            "showbackground": true,
            "ticks": "",
            "zerolinecolor": "white"
           },
           "yaxis": {
            "backgroundcolor": "#E5ECF6",
            "gridcolor": "white",
            "gridwidth": 2,
            "linecolor": "white",
            "showbackground": true,
            "ticks": "",
            "zerolinecolor": "white"
           },
           "zaxis": {
            "backgroundcolor": "#E5ECF6",
            "gridcolor": "white",
            "gridwidth": 2,
            "linecolor": "white",
            "showbackground": true,
            "ticks": "",
            "zerolinecolor": "white"
           }
          },
          "shapedefaults": {
           "line": {
            "color": "#2a3f5f"
           }
          },
          "ternary": {
           "aaxis": {
            "gridcolor": "white",
            "linecolor": "white",
            "ticks": ""
           },
           "baxis": {
            "gridcolor": "white",
            "linecolor": "white",
            "ticks": ""
           },
           "bgcolor": "#E5ECF6",
           "caxis": {
            "gridcolor": "white",
            "linecolor": "white",
            "ticks": ""
           }
          },
          "title": {
           "x": 0.05
          },
          "xaxis": {
           "automargin": true,
           "gridcolor": "white",
           "linecolor": "white",
           "ticks": "",
           "title": {
            "standoff": 15
           },
           "zerolinecolor": "white",
           "zerolinewidth": 2
          },
          "yaxis": {
           "automargin": true,
           "gridcolor": "white",
           "linecolor": "white",
           "ticks": "",
           "title": {
            "standoff": 15
           },
           "zerolinecolor": "white",
           "zerolinewidth": 2
          }
         }
        },
        "title": {
         "text": "Differentiated vs Undifferentiated Components (genes)"
        },
        "width": 600,
        "xaxis": {
         "anchor": "y",
         "domain": [
          0,
          1
         ],
         "title": {
          "text": "Differentiated Component"
         }
        },
        "yaxis": {
         "anchor": "x",
         "domain": [
          0,
          1
         ],
         "title": {
          "text": "Undifferentiated Component"
         }
        }
       }
      }
     },
     "metadata": {},
     "output_type": "display_data"
    }
   ],
   "source": [
    "px.scatter(\n",
    "    x=genes_diff,\n",
    "    y=genes_undiff,\n",
    "    title=\"Differentiated vs Undifferentiated Components (genes)\",\n",
    "    labels={\"x\": \"Differentiated Component\", \"y\": \"Undifferentiated Component\"},\n",
    "    hover_name=adata.var_names,\n",
    "    width=600,\n",
    "    height=600,\n",
    ")"
   ]
  },
  {
   "cell_type": "markdown",
   "id": "13186c2b",
   "metadata": {},
   "source": [
    "Looks like basically no correlation. Why?\n",
    "\n",
    "Oh but it looks like a polytope:\n",
    "- Differentiated component separates the two lineage branches.\n",
    "- Undifferentiated components separates un/differentiated cells.\n",
    "\n",
    "**So when we select a subset of the output directions, the component space describes how to distinguish between them.**"
   ]
  },
  {
   "cell_type": "markdown",
   "id": "512222dc",
   "metadata": {},
   "source": [
    "### Cell space"
   ]
  },
  {
   "cell_type": "code",
   "execution_count": 34,
   "id": "ca0fda68",
   "metadata": {},
   "outputs": [],
   "source": [
    "cells_diff = adata.X @ genes_diff.numpy()\n",
    "cells_undiff = adata.X @ genes_undiff.numpy()"
   ]
  },
  {
   "cell_type": "code",
   "execution_count": 35,
   "id": "006c0f50",
   "metadata": {},
   "outputs": [
    {
     "data": {
      "application/vnd.plotly.v1+json": {
       "config": {
        "plotlyServerURL": "https://plot.ly"
       },
       "data": [
        {
         "hovertemplate": "color=0<br>Differentiated Component=%{x}<br>Undifferentiated Component=%{y}<extra></extra>",
         "legendgroup": "0",
         "marker": {
          "color": "#636efa",
          "symbol": "circle"
         },
         "mode": "markers",
         "name": "0",
         "showlegend": true,
         "type": "scattergl",
         "x": {
          "bdata": "0NuWPxvOjEC1NTPA5RawP4Bm8r0WbZfARr4aPyMwD8BhFELAwrGfwFuEvr+Vt8u/1Te4vz67csDmjmfAeYWDPwiBfz77rmzAmcQ1wBvwR0BvoUK+m6UjQPkpGEB82XS/C09mQFvsKECOgK/AiHFWQIjI27+iVzo+Sd2gv3lDRkB+PozAwGqSwI8OyMBWgRRAWuKvwDkP5b+3kfG/GuREQPABN77lk5+/6S9Ovjy9Vb8k2+w/dIiUvdW0FUAkJ7PATua3v6XR1L/eOhw+6jsIP58gS0DvCN2/km4uQIActb/n4i5AteUiQEiPcL+9mZvASW7CwA9cicBKV5C/zftxwKFSBMDH7Ze/KQmiv3zCazw4kCu/GhLJv6X7X8CYOhBABlRrv3tZ8j6PCpLASYxNPx5DOMCkep5AOd5YwJ9YJcDX1C3AyDDkP4MEZcANSVnAgTWwPw9nQECnQAxAtJ6twAU5PkBl4jZAn7WLwE2jH8Cpev4/eWJdQHNQiMAq/YLATDGMP9/1TcB4g6PARhZWwLSbQcBbA+C/oThrwOJc+T27x9Y//HEIwGhUOUBXiha/KbrYP8AdNT/UbT+/ABIlwOk0x79AGhZAyPCSv7c/xz9+toA/emFvwGRwWMDSLQa/DamGwHAFK77y3aTAoTMjwO6KWD+3RJrAbnwkPz3s4D9M6EBAfvwHPyzt3j2NvDnAl3SqP7OyI8CEmlvA3b2xP+6Y3T8OqRxAxpg4wLFvOsAgiZ0/IHoWQCGvgr98ThPAmrUBPhiKTMDbUk5ARmS+wHcA9r6pKrE/bhqtwKgiNkBhaH7APUABwJTSgb9FgarAPjACwLTyDsAaZIRAWoGmQEIZVMAdvZi/6eb/vsiwp7+LEjPAZ7yMwFpMbL9z8/g+LTm+P0k+psDIOX3AqCU5PSbojcCOOyvAVrY8QO/nFEBYUme/CXOLvrTsvcBE043AlzpbwK8Aw7/4BYvAMI6fwEmsLMCDo4nAo5BhQEZ9t8AJBRTAihY1wHoMkj8P04I/4Z5OQNFzJMCPA27AXwCuv8K/sj96tuW9zmDkv/un3L69f6s/HFwRwNFASkDFiazAhm3ePtsWNUDc0h8/yGumP2uGjMBVlwZAO4qVwGe5hj9TL7nAZ4xHQCZ3tD67XLk/7ogDP1QGSMB+DhU/lpCNwDtGxD8BEBc/zT7kP1cudD8hhGM+g3LePzEqYcDIgTbA2FxmPwXUIMA/HYfAzpe0v2//A8D9QEbA1IgBvu8Zvj4JsURAayuOwE7gxz9u+dI/j4c9QA+So8CRopNA5PyGvit4LkA787s/EPIswD9QrT/ywfU/ZDY7QNiXBT9NURlAGqdLv+KTBz8IiAtAErwBwGVu/z4l6xLA3sv8P1wWOb/YnSVA7LSevo0aoEDCcwK/IA1hP3RGb0ArgEnAuEeEQBKUa0BxA8++mteiwI9+TMB6RzDAjHXOP5jRxL+vHqG+YhdRQPNVxr/otbE+SLKZQE/tKz9iRmdAqBlxPHdU6T8+zC7A7DRVP0TcWj+pt1HA7R3ewNZmwEB9y2rA02tmQPvS7L61AGbAEzcdQJIpXz/Lqm/ABBEIwLkzgj7je4FAM8TqP2mAtD+Z+bS/F0FMQNf+xr9wKqw/GR1dwOLHeT+pZOI/8I1ewBRhnsDT6WNAy+0gwA+NlT9rsodA2Wr5P8/sekDZKJHAm+yeP69QnkCrpjBAmBaaQHvFI8C+8A4/cyInQEKH9z/bdxbALVugwDTMhD9f9IPAsGt5v22/BMBikjg/1zOcwP7ZBb+eGnhAsGoOQIIIOz91h6s+aBNJP1Lvxj5WRQTAviiAPW/5dsBoQR0/DysuwLWHn0AtJz/A2rZcQC1xIEDKjcG/l4Lkvw6PmT+6vQc9vN51P/YGVUCs5qjAXPcSQFfskr8zJEK/yr1oQLpiU78l9mTABfmiwBGcnkC2vpU/YJFowDk5aT9vAYHAfgOSP6Y+tsCESQ5As6SQwNZj1UBOyIBADRUewNFRmT/+shRAF+0fQCChaMDjFGLAthWgPh7CZ0C3Z8PATkMpwDGJ2j++MINA1S0bwOIikj+6IZ3Ab0c1wGO8Y0BD/DZAhSIaQPBaxj93WYi/dkdoQGBKn8BTS9y/QBNbwFuCsr+QTAm/iUCXQFTav78gGRw/1RIsQEVT0EArqRLAodjcP9sQMb9rf6O/n4J9QBrIFj8BgnXA8iEsvuHa2b976i5AM9YxwN42mkDYAUJA5+gaQFNiQr/BEM8+7yFMP5QWq8DeLmNApeo0QDFuMEDoJELAAZ6fwK+ypkABoV++QuWSP50KckBglzHAI04FwIReEEDv+Ye/phf9P3vVLUBosnM/3VHDv/oxnMAQG8vA2W3Bv9phe7+O93XADHcJwKn9IsCoSNI/qT3QvxDEg0A9ZeM/UgrAP7NzKkAo3EVAO/S5P5Xt6L7fXoA/UplFwGoM0r+I83E/Sh3CPq+PiMDtfyW/aiSAwG5C1cAFe5C/LAUPP58+U8DkfPe+nb86QGb8LMADGDxAUvMrQJzwt8CXfh5AwxQnwGyxwcBHgizAd8gNQBP39r9lSw9AcFU4wO7t3r8wTii/SiLTPw8rmz/Oki5Am+ASwK5YQr9gcMVAAW7fPvyYGD3XrADAxJRPv03JjMDqWLQ/SzaUQB+B/D91CJbAyGIqwKfBBcAF9BdAxaaXP4hhAcBCVZrAoGiZwAH4P8DOLihAzmc8v0h3nr723ho/PDy4wAVFkz8FMN4/5GLKPwYthUDJFBfACLkMPd4xLsCK/XhAgg8SQMGP5b8G5TpAe7xnQNQLiMBxZ6q/su9HQByhg8B8MQM/jRp/wC7IoMCq6c+9EDiZvxtJWkC+vNe/y2+zP1NRwcAl94W/5m9GQDb8NUBa9sw/+rB/PgHxJcDdjRTAoLjFv1uMvL59t/2/AtgAwCpRdb/5PGjA2R2PPypw/L+k5FA/OBAsQOdf3T8FqVZAiUA9wP5jakCOzNw+Dt5ywIR8bMB2Opq/zEp6PzlPYUABSk1AdSSrP2QNm8DFUJDAcTQswBOKdcBnfIjA0XbQP4sryr88IE7AXOdov6A/XkBnoABAO+mXQPXzhMCvwUtA8LKiwKSoKEBKfFQ/uH5JwM5UIMCnTZtAOeCIwIAY0D/H7BxAPDZiPoQPKMBTbG1AWm8JQEDFscBWcAVA/Hg+wHjWS0Ce/i8/5asTQHXClsDgRXZAEUiNwJicGMC73StAFUIPQN3IL0BdkCNA5G16P4eA4z8HhHQ/uAKWwGex+D6sSIzAE0cPQEzAPUDc90e/J9BLwFURa8CLju+/BcF0QGdjbUBtWgpAobIhwEMiNEATDOC/zvAzQHwEmb0YdlG9wHqfv8szwj6AyWPAtXcEwDC48D+YM6C+xE6tP+tc/D0xWYFAfN7SPrXGYkBSSYRAgWVpPzk/WUA1XitAIfgMwKr+6j1RCgjAwG3fu3XqSMCjkR9AKk6vwOFHfEAoDifAebpkQKSuyr3pBx1A8X2rP6rBSEAWXtjAbea7P30xgcBbWnHATu55QJayGsBiLT3ARDMivkaen73ro/Q+YOKNv3UIWD7Ia3U/YpGbwIrBmED3epI+uX+OPyLDRz6f6MfAlkyEwEIO8j9dMIk/N0+SQBcsSMAjHhfAJn08v3ueS8BUjonAW+OJvy1eLsAUNCdAyR2OQO+5PT92Br6/n29FQK0hb8A8c8W8WLP5PbZLYkCBtmXA+/5BQA==",
          "dtype": "f4"
         },
         "xaxis": "x",
         "y": {
          "bdata": "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",
          "dtype": "f4"
         },
         "yaxis": "y"
        },
        {
         "hovertemplate": "color=2<br>Differentiated Component=%{x}<br>Undifferentiated Component=%{y}<extra></extra>",
         "legendgroup": "2",
         "marker": {
          "color": "#EF553B",
          "symbol": "circle"
         },
         "mode": "markers",
         "name": "2",
         "showlegend": true,
         "type": "scattergl",
         "x": {
          "bdata": "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",
          "dtype": "f4"
         },
         "xaxis": "x",
         "y": {
          "bdata": "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",
          "dtype": "f4"
         },
         "yaxis": "y"
        },
        {
         "hovertemplate": "color=1<br>Differentiated Component=%{x}<br>Undifferentiated Component=%{y}<extra></extra>",
         "legendgroup": "1",
         "marker": {
          "color": "#00cc96",
          "symbol": "circle"
         },
         "mode": "markers",
         "name": "1",
         "showlegend": true,
         "type": "scattergl",
         "x": {
          "bdata": "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",
          "dtype": "f4"
         },
         "xaxis": "x",
         "y": {
          "bdata": "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",
          "dtype": "f4"
         },
         "yaxis": "y"
        }
       ],
       "layout": {
        "height": 600,
        "legend": {
         "title": {
          "text": "color"
         },
         "tracegroupgap": 0
        },
        "template": {
         "data": {
          "bar": [
           {
            "error_x": {
             "color": "#2a3f5f"
            },
            "error_y": {
             "color": "#2a3f5f"
            },
            "marker": {
             "line": {
              "color": "#E5ECF6",
              "width": 0.5
             },
             "pattern": {
              "fillmode": "overlay",
              "size": 10,
              "solidity": 0.2
             }
            },
            "type": "bar"
           }
          ],
          "barpolar": [
           {
            "marker": {
             "line": {
              "color": "#E5ECF6",
              "width": 0.5
             },
             "pattern": {
              "fillmode": "overlay",
              "size": 10,
              "solidity": 0.2
             }
            },
            "type": "barpolar"
           }
          ],
          "carpet": [
           {
            "aaxis": {
             "endlinecolor": "#2a3f5f",
             "gridcolor": "white",
             "linecolor": "white",
             "minorgridcolor": "white",
             "startlinecolor": "#2a3f5f"
            },
            "baxis": {
             "endlinecolor": "#2a3f5f",
             "gridcolor": "white",
             "linecolor": "white",
             "minorgridcolor": "white",
             "startlinecolor": "#2a3f5f"
            },
            "type": "carpet"
           }
          ],
          "choropleth": [
           {
            "colorbar": {
             "outlinewidth": 0,
             "ticks": ""
            },
            "type": "choropleth"
           }
          ],
          "contour": [
           {
            "colorbar": {
             "outlinewidth": 0,
             "ticks": ""
            },
            "colorscale": [
             [
              0,
              "#0d0887"
             ],
             [
              0.1111111111111111,
              "#46039f"
             ],
             [
              0.2222222222222222,
              "#7201a8"
             ],
             [
              0.3333333333333333,
              "#9c179e"
             ],
             [
              0.4444444444444444,
              "#bd3786"
             ],
             [
              0.5555555555555556,
              "#d8576b"
             ],
             [
              0.6666666666666666,
              "#ed7953"
             ],
             [
              0.7777777777777778,
              "#fb9f3a"
             ],
             [
              0.8888888888888888,
              "#fdca26"
             ],
             [
              1,
              "#f0f921"
             ]
            ],
            "type": "contour"
           }
          ],
          "contourcarpet": [
           {
            "colorbar": {
             "outlinewidth": 0,
             "ticks": ""
            },
            "type": "contourcarpet"
           }
          ],
          "heatmap": [
           {
            "colorbar": {
             "outlinewidth": 0,
             "ticks": ""
            },
            "colorscale": [
             [
              0,
              "#0d0887"
             ],
             [
              0.1111111111111111,
              "#46039f"
             ],
             [
              0.2222222222222222,
              "#7201a8"
             ],
             [
              0.3333333333333333,
              "#9c179e"
             ],
             [
              0.4444444444444444,
              "#bd3786"
             ],
             [
              0.5555555555555556,
              "#d8576b"
             ],
             [
              0.6666666666666666,
              "#ed7953"
             ],
             [
              0.7777777777777778,
              "#fb9f3a"
             ],
             [
              0.8888888888888888,
              "#fdca26"
             ],
             [
              1,
              "#f0f921"
             ]
            ],
            "type": "heatmap"
           }
          ],
          "histogram": [
           {
            "marker": {
             "pattern": {
              "fillmode": "overlay",
              "size": 10,
              "solidity": 0.2
             }
            },
            "type": "histogram"
           }
          ],
          "histogram2d": [
           {
            "colorbar": {
             "outlinewidth": 0,
             "ticks": ""
            },
            "colorscale": [
             [
              0,
              "#0d0887"
             ],
             [
              0.1111111111111111,
              "#46039f"
             ],
             [
              0.2222222222222222,
              "#7201a8"
             ],
             [
              0.3333333333333333,
              "#9c179e"
             ],
             [
              0.4444444444444444,
              "#bd3786"
             ],
             [
              0.5555555555555556,
              "#d8576b"
             ],
             [
              0.6666666666666666,
              "#ed7953"
             ],
             [
              0.7777777777777778,
              "#fb9f3a"
             ],
             [
              0.8888888888888888,
              "#fdca26"
             ],
             [
              1,
              "#f0f921"
             ]
            ],
            "type": "histogram2d"
           }
          ],
          "histogram2dcontour": [
           {
            "colorbar": {
             "outlinewidth": 0,
             "ticks": ""
            },
            "colorscale": [
             [
              0,
              "#0d0887"
             ],
             [
              0.1111111111111111,
              "#46039f"
             ],
             [
              0.2222222222222222,
              "#7201a8"
             ],
             [
              0.3333333333333333,
              "#9c179e"
             ],
             [
              0.4444444444444444,
              "#bd3786"
             ],
             [
              0.5555555555555556,
              "#d8576b"
             ],
             [
              0.6666666666666666,
              "#ed7953"
             ],
             [
              0.7777777777777778,
              "#fb9f3a"
             ],
             [
              0.8888888888888888,
              "#fdca26"
             ],
             [
              1,
              "#f0f921"
             ]
            ],
            "type": "histogram2dcontour"
           }
          ],
          "mesh3d": [
           {
            "colorbar": {
             "outlinewidth": 0,
             "ticks": ""
            },
            "type": "mesh3d"
           }
          ],
          "parcoords": [
           {
            "line": {
             "colorbar": {
              "outlinewidth": 0,
              "ticks": ""
             }
            },
            "type": "parcoords"
           }
          ],
          "pie": [
           {
            "automargin": true,
            "type": "pie"
           }
          ],
          "scatter": [
           {
            "fillpattern": {
             "fillmode": "overlay",
             "size": 10,
             "solidity": 0.2
            },
            "type": "scatter"
           }
          ],
          "scatter3d": [
           {
            "line": {
             "colorbar": {
              "outlinewidth": 0,
              "ticks": ""
             }
            },
            "marker": {
             "colorbar": {
              "outlinewidth": 0,
              "ticks": ""
             }
            },
            "type": "scatter3d"
           }
          ],
          "scattercarpet": [
           {
            "marker": {
             "colorbar": {
              "outlinewidth": 0,
              "ticks": ""
             }
            },
            "type": "scattercarpet"
           }
          ],
          "scattergeo": [
           {
            "marker": {
             "colorbar": {
              "outlinewidth": 0,
              "ticks": ""
             }
            },
            "type": "scattergeo"
           }
          ],
          "scattergl": [
           {
            "marker": {
             "colorbar": {
              "outlinewidth": 0,
              "ticks": ""
             }
            },
            "type": "scattergl"
           }
          ],
          "scattermap": [
           {
            "marker": {
             "colorbar": {
              "outlinewidth": 0,
              "ticks": ""
             }
            },
            "type": "scattermap"
           }
          ],
          "scattermapbox": [
           {
            "marker": {
             "colorbar": {
              "outlinewidth": 0,
              "ticks": ""
             }
            },
            "type": "scattermapbox"
           }
          ],
          "scatterpolar": [
           {
            "marker": {
             "colorbar": {
              "outlinewidth": 0,
              "ticks": ""
             }
            },
            "type": "scatterpolar"
           }
          ],
          "scatterpolargl": [
           {
            "marker": {
             "colorbar": {
              "outlinewidth": 0,
              "ticks": ""
             }
            },
            "type": "scatterpolargl"
           }
          ],
          "scatterternary": [
           {
            "marker": {
             "colorbar": {
              "outlinewidth": 0,
              "ticks": ""
             }
            },
            "type": "scatterternary"
           }
          ],
          "surface": [
           {
            "colorbar": {
             "outlinewidth": 0,
             "ticks": ""
            },
            "colorscale": [
             [
              0,
              "#0d0887"
             ],
             [
              0.1111111111111111,
              "#46039f"
             ],
             [
              0.2222222222222222,
              "#7201a8"
             ],
             [
              0.3333333333333333,
              "#9c179e"
             ],
             [
              0.4444444444444444,
              "#bd3786"
             ],
             [
              0.5555555555555556,
              "#d8576b"
             ],
             [
              0.6666666666666666,
              "#ed7953"
             ],
             [
              0.7777777777777778,
              "#fb9f3a"
             ],
             [
              0.8888888888888888,
              "#fdca26"
             ],
             [
              1,
              "#f0f921"
             ]
            ],
            "type": "surface"
           }
          ],
          "table": [
           {
            "cells": {
             "fill": {
              "color": "#EBF0F8"
             },
             "line": {
              "color": "white"
             }
            },
            "header": {
             "fill": {
              "color": "#C8D4E3"
             },
             "line": {
              "color": "white"
             }
            },
            "type": "table"
           }
          ]
         },
         "layout": {
          "annotationdefaults": {
           "arrowcolor": "#2a3f5f",
           "arrowhead": 0,
           "arrowwidth": 1
          },
          "autotypenumbers": "strict",
          "coloraxis": {
           "colorbar": {
            "outlinewidth": 0,
            "ticks": ""
           }
          },
          "colorscale": {
           "diverging": [
            [
             0,
             "#8e0152"
            ],
            [
             0.1,
             "#c51b7d"
            ],
            [
             0.2,
             "#de77ae"
            ],
            [
             0.3,
             "#f1b6da"
            ],
            [
             0.4,
             "#fde0ef"
            ],
            [
             0.5,
             "#f7f7f7"
            ],
            [
             0.6,
             "#e6f5d0"
            ],
            [
             0.7,
             "#b8e186"
            ],
            [
             0.8,
             "#7fbc41"
            ],
            [
             0.9,
             "#4d9221"
            ],
            [
             1,
             "#276419"
            ]
           ],
           "sequential": [
            [
             0,
             "#0d0887"
            ],
            [
             0.1111111111111111,
             "#46039f"
            ],
            [
             0.2222222222222222,
             "#7201a8"
            ],
            [
             0.3333333333333333,
             "#9c179e"
            ],
            [
             0.4444444444444444,
             "#bd3786"
            ],
            [
             0.5555555555555556,
             "#d8576b"
            ],
            [
             0.6666666666666666,
             "#ed7953"
            ],
            [
             0.7777777777777778,
             "#fb9f3a"
            ],
            [
             0.8888888888888888,
             "#fdca26"
            ],
            [
             1,
             "#f0f921"
            ]
           ],
           "sequentialminus": [
            [
             0,
             "#0d0887"
            ],
            [
             0.1111111111111111,
             "#46039f"
            ],
            [
             0.2222222222222222,
             "#7201a8"
            ],
            [
             0.3333333333333333,
             "#9c179e"
            ],
            [
             0.4444444444444444,
             "#bd3786"
            ],
            [
             0.5555555555555556,
             "#d8576b"
            ],
            [
             0.6666666666666666,
             "#ed7953"
            ],
            [
             0.7777777777777778,
             "#fb9f3a"
            ],
            [
             0.8888888888888888,
             "#fdca26"
            ],
            [
             1,
             "#f0f921"
            ]
           ]
          },
          "colorway": [
           "#636efa",
           "#EF553B",
           "#00cc96",
           "#ab63fa",
           "#FFA15A",
           "#19d3f3",
           "#FF6692",
           "#B6E880",
           "#FF97FF",
           "#FECB52"
          ],
          "font": {
           "color": "#2a3f5f"
          },
          "geo": {
           "bgcolor": "white",
           "lakecolor": "white",
           "landcolor": "#E5ECF6",
           "showlakes": true,
           "showland": true,
           "subunitcolor": "white"
          },
          "hoverlabel": {
           "align": "left"
          },
          "hovermode": "closest",
          "mapbox": {
           "style": "light"
          },
          "paper_bgcolor": "white",
          "plot_bgcolor": "#E5ECF6",
          "polar": {
           "angularaxis": {
            "gridcolor": "white",
            "linecolor": "white",
            "ticks": ""
           },
           "bgcolor": "#E5ECF6",
           "radialaxis": {
            "gridcolor": "white",
            "linecolor": "white",
            "ticks": ""
           }
          },
          "scene": {
           "xaxis": {
            "backgroundcolor": "#E5ECF6",
            "gridcolor": "white",
            "gridwidth": 2,
            "linecolor": "white",
            "showbackground": true,
            "ticks": "",
            "zerolinecolor": "white"
           },
           "yaxis": {
            "backgroundcolor": "#E5ECF6",
            "gridcolor": "white",
            "gridwidth": 2,
            "linecolor": "white",
            "showbackground": true,
            "ticks": "",
            "zerolinecolor": "white"
           },
           "zaxis": {
            "backgroundcolor": "#E5ECF6",
            "gridcolor": "white",
            "gridwidth": 2,
            "linecolor": "white",
            "showbackground": true,
            "ticks": "",
            "zerolinecolor": "white"
           }
          },
          "shapedefaults": {
           "line": {
            "color": "#2a3f5f"
           }
          },
          "ternary": {
           "aaxis": {
            "gridcolor": "white",
            "linecolor": "white",
            "ticks": ""
           },
           "baxis": {
            "gridcolor": "white",
            "linecolor": "white",
            "ticks": ""
           },
           "bgcolor": "#E5ECF6",
           "caxis": {
            "gridcolor": "white",
            "linecolor": "white",
            "ticks": ""
           }
          },
          "title": {
           "x": 0.05
          },
          "xaxis": {
           "automargin": true,
           "gridcolor": "white",
           "linecolor": "white",
           "ticks": "",
           "title": {
            "standoff": 15
           },
           "zerolinecolor": "white",
           "zerolinewidth": 2
          },
          "yaxis": {
           "automargin": true,
           "gridcolor": "white",
           "linecolor": "white",
           "ticks": "",
           "title": {
            "standoff": 15
           },
           "zerolinecolor": "white",
           "zerolinewidth": 2
          }
         }
        },
        "title": {
         "text": "Differentiated vs Undifferentiated Components (cells)"
        },
        "width": 600,
        "xaxis": {
         "anchor": "y",
         "domain": [
          0,
          1
         ],
         "title": {
          "text": "Differentiated Component"
         }
        },
        "yaxis": {
         "anchor": "x",
         "domain": [
          0,
          1
         ],
         "title": {
          "text": "Undifferentiated Component"
         }
        }
       }
      }
     },
     "metadata": {},
     "output_type": "display_data"
    }
   ],
   "source": [
    "px.scatter(\n",
    "    x=cells_diff,\n",
    "    y=cells_undiff,\n",
    "    color=adata.obs[\"cell_type\"],\n",
    "    title=\"Differentiated vs Undifferentiated Components (cells)\",\n",
    "    labels={\"x\": \"Differentiated Component\", \"y\": \"Undifferentiated Component\"},\n",
    "    width=600,\n",
    "    height=600,\n",
    ")"
   ]
  },
  {
   "cell_type": "markdown",
   "id": "3839bea7",
   "metadata": {},
   "source": [
    "Hm, so maybe the training labels are leaking PC info in here.\n",
    "- Above result could be more trivial than I'd like."
   ]
  },
  {
   "cell_type": "markdown",
   "id": "e21b9da9",
   "metadata": {},
   "source": [
    "# Next steps"
   ]
  },
  {
   "cell_type": "markdown",
   "id": "63363e22",
   "metadata": {},
   "source": [
    "1. Use expert-annotated cell types to reduce potential PCA bias.\n",
    "2. Further explore dimension reduction capabilities.\n",
    "    - Task is critical here; classification with few classes allowed this to occur.\n",
    "3. Explore whether smooth changes in output space yield meaningful smooth changes in the gene network\n",
    "    - Need to define what type of gene network is being represented. It's not a gene regulatory network, is it?\n",
    "4. Apply this to a dataset focusing on healthy vs disease cells\n",
    "    - This is the promise of interpretability, since the underlying biology in that case would be unknown.\n",
    "    - In the case of myeloid dev here, we just did a validation by training on known biology (i.e. cell types)."
   ]
  }
 ],
 "metadata": {
  "kernelspec": {
   "display_name": "Python 3",
   "language": "python",
   "name": "python3"
  },
  "language_info": {
   "codemirror_mode": {
    "name": "ipython",
    "version": 3
   },
   "file_extension": ".py",
   "mimetype": "text/x-python",
   "name": "python",
   "nbconvert_exporter": "python",
   "pygments_lexer": "ipython3",
   "version": "3.11.13"
  }
 },
 "nbformat": 4,
 "nbformat_minor": 5
}
