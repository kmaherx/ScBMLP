{
 "cells": [
  {
   "cell_type": "markdown",
   "id": "12ceb61f",
   "metadata": {},
   "source": [
    "# Imports"
   ]
  },
  {
   "cell_type": "code",
   "execution_count": null,
   "id": "69f5c343",
   "metadata": {},
   "outputs": [],
   "source": [
    "from typing import Tuple, List, Dict, Any\n",
    "\n",
    "import pertpy as pt\n",
    "import scanpy as sc\n",
    "import numpy as np\n",
    "import plotly.express as px\n",
    "import pandas as pd\n",
    "import einops\n",
    "import gseapy as gp\n",
    "from gseapy import enrichr\n",
    "\n",
    "from scripts.datasets import get_regression_datasets\n",
    "from scripts.bmlp import ScBMLPRegressor, Config\n",
    "import torch"
   ]
  },
  {
   "cell_type": "markdown",
   "id": "62699730",
   "metadata": {},
   "source": [
    "# Set params"
   ]
  },
  {
   "cell_type": "code",
   "execution_count": 2,
   "id": "d0b46646",
   "metadata": {},
   "outputs": [],
   "source": [
    "DEVICE = \"cpu\"  # faster than mps..."
   ]
  },
  {
   "cell_type": "markdown",
   "id": "6cb96058",
   "metadata": {},
   "source": [
    "# Load data"
   ]
  },
  {
   "cell_type": "markdown",
   "id": "a0bc6fb6",
   "metadata": {},
   "source": [
    "## Load and format"
   ]
  },
  {
   "cell_type": "code",
   "execution_count": 3,
   "id": "0559c1a9",
   "metadata": {},
   "outputs": [],
   "source": [
    "adata = pt.data.srivatsan_2020_sciplex2()"
   ]
  },
  {
   "cell_type": "code",
   "execution_count": 4,
   "id": "48c78fcc",
   "metadata": {},
   "outputs": [
    {
     "data": {
      "text/plain": [
       "AnnData object with n_obs × n_vars = 24262 × 58347\n",
       "    obs: 'ncounts', 'hash_umis', 'pval_demultiplexing', 'qval_demultiplexing', 'top_to_second_best_ratio', 'top_oligo', 'perturbation', 'dose_value', 'well', 'celltype', 'cell_line', 'cancer', 'disease', 'tissue_type', 'organism', 'perturbation_type', 'ngenes', 'percent_mito', 'percent_ribo', 'nperts', 'chembl-ID'\n",
       "    var: 'ensembl_id', 'ncounts', 'ncells'"
      ]
     },
     "execution_count": 4,
     "metadata": {},
     "output_type": "execute_result"
    }
   ],
   "source": [
    "adata"
   ]
  },
  {
   "cell_type": "code",
   "execution_count": 5,
   "id": "1aef9917",
   "metadata": {},
   "outputs": [
    {
     "data": {
      "text/plain": [
       "np.float32(5636.0)"
      ]
     },
     "execution_count": 5,
     "metadata": {},
     "output_type": "execute_result"
    }
   ],
   "source": [
    "adata.X.max()"
   ]
  },
  {
   "cell_type": "code",
   "execution_count": 6,
   "id": "1c7a2d08",
   "metadata": {},
   "outputs": [],
   "source": [
    "sc.pp.filter_cells(adata, min_counts=100)\n",
    "sc.pp.filter_genes(adata, min_cells=100)\n",
    "sc.pp.normalize_total(adata)\n",
    "sc.pp.log1p(adata)\n",
    "sc.pp.highly_variable_genes(adata, n_top_genes=10_000, subset=True)"
   ]
  },
  {
   "cell_type": "code",
   "execution_count": 7,
   "id": "78c17e52",
   "metadata": {},
   "outputs": [
    {
     "data": {
      "text/plain": [
       "AnnData object with n_obs × n_vars = 24262 × 10000\n",
       "    obs: 'ncounts', 'hash_umis', 'pval_demultiplexing', 'qval_demultiplexing', 'top_to_second_best_ratio', 'top_oligo', 'perturbation', 'dose_value', 'well', 'celltype', 'cell_line', 'cancer', 'disease', 'tissue_type', 'organism', 'perturbation_type', 'ngenes', 'percent_mito', 'percent_ribo', 'nperts', 'chembl-ID', 'n_counts'\n",
       "    var: 'ensembl_id', 'ncounts', 'ncells', 'n_cells', 'highly_variable', 'means', 'dispersions', 'dispersions_norm'\n",
       "    uns: 'log1p', 'hvg'"
      ]
     },
     "execution_count": 7,
     "metadata": {},
     "output_type": "execute_result"
    }
   ],
   "source": [
    "adata"
   ]
  },
  {
   "cell_type": "code",
   "execution_count": 19,
   "id": "eb88ff9f",
   "metadata": {},
   "outputs": [
    {
     "data": {
      "text/html": [
       "<div>\n",
       "<style scoped>\n",
       "    .dataframe tbody tr th:only-of-type {\n",
       "        vertical-align: middle;\n",
       "    }\n",
       "\n",
       "    .dataframe tbody tr th {\n",
       "        vertical-align: top;\n",
       "    }\n",
       "\n",
       "    .dataframe thead th {\n",
       "        text-align: right;\n",
       "    }\n",
       "</style>\n",
       "<table border=\"1\" class=\"dataframe\">\n",
       "  <thead>\n",
       "    <tr style=\"text-align: right;\">\n",
       "      <th></th>\n",
       "      <th>ncounts</th>\n",
       "      <th>hash_umis</th>\n",
       "      <th>pval_demultiplexing</th>\n",
       "      <th>qval_demultiplexing</th>\n",
       "      <th>top_to_second_best_ratio</th>\n",
       "      <th>top_oligo</th>\n",
       "      <th>perturbation</th>\n",
       "      <th>dose_value</th>\n",
       "      <th>well</th>\n",
       "      <th>celltype</th>\n",
       "      <th>...</th>\n",
       "      <th>disease</th>\n",
       "      <th>tissue_type</th>\n",
       "      <th>organism</th>\n",
       "      <th>perturbation_type</th>\n",
       "      <th>ngenes</th>\n",
       "      <th>percent_mito</th>\n",
       "      <th>percent_ribo</th>\n",
       "      <th>nperts</th>\n",
       "      <th>chembl-ID</th>\n",
       "      <th>n_counts</th>\n",
       "    </tr>\n",
       "    <tr>\n",
       "      <th>cell_barcode</th>\n",
       "      <th></th>\n",
       "      <th></th>\n",
       "      <th></th>\n",
       "      <th></th>\n",
       "      <th></th>\n",
       "      <th></th>\n",
       "      <th></th>\n",
       "      <th></th>\n",
       "      <th></th>\n",
       "      <th></th>\n",
       "      <th></th>\n",
       "      <th></th>\n",
       "      <th></th>\n",
       "      <th></th>\n",
       "      <th></th>\n",
       "      <th></th>\n",
       "      <th></th>\n",
       "      <th></th>\n",
       "      <th></th>\n",
       "      <th></th>\n",
       "      <th></th>\n",
       "    </tr>\n",
       "  </thead>\n",
       "  <tbody>\n",
       "    <tr>\n",
       "      <th>A01_A01_RT_384</th>\n",
       "      <td>1939</td>\n",
       "      <td>NaN</td>\n",
       "      <td>NaN</td>\n",
       "      <td>NaN</td>\n",
       "      <td>NaN</td>\n",
       "      <td>NaN</td>\n",
       "      <td>control</td>\n",
       "      <td>NaN</td>\n",
       "      <td>NaN</td>\n",
       "      <td>alveolar basal epithelial cells</td>\n",
       "      <td>...</td>\n",
       "      <td>lung adenocarcinoma</td>\n",
       "      <td>cell_line</td>\n",
       "      <td>human</td>\n",
       "      <td>drug</td>\n",
       "      <td>1258</td>\n",
       "      <td>11.913358</td>\n",
       "      <td>1.856627</td>\n",
       "      <td>1</td>\n",
       "      <td>NaN</td>\n",
       "      <td>1939.0</td>\n",
       "    </tr>\n",
       "    <tr>\n",
       "      <th>A01_A01_RT_389</th>\n",
       "      <td>1234</td>\n",
       "      <td>8.0</td>\n",
       "      <td>1.000000e+00</td>\n",
       "      <td>1.000000e+00</td>\n",
       "      <td>7.000000</td>\n",
       "      <td>Dex_0.1_BC07</td>\n",
       "      <td>Dex</td>\n",
       "      <td>0.1</td>\n",
       "      <td>BC07</td>\n",
       "      <td>alveolar basal epithelial cells</td>\n",
       "      <td>...</td>\n",
       "      <td>lung adenocarcinoma</td>\n",
       "      <td>cell_line</td>\n",
       "      <td>human</td>\n",
       "      <td>drug</td>\n",
       "      <td>813</td>\n",
       "      <td>17.828201</td>\n",
       "      <td>1.620746</td>\n",
       "      <td>1</td>\n",
       "      <td>NaN</td>\n",
       "      <td>1234.0</td>\n",
       "    </tr>\n",
       "    <tr>\n",
       "      <th>A01_A01_RT_390</th>\n",
       "      <td>3430</td>\n",
       "      <td>16.0</td>\n",
       "      <td>1.404159e-140</td>\n",
       "      <td>3.650813e-139</td>\n",
       "      <td>15.005464</td>\n",
       "      <td>Nutlin_0.5_AB02</td>\n",
       "      <td>Nutlin</td>\n",
       "      <td>0.5</td>\n",
       "      <td>AB02</td>\n",
       "      <td>alveolar basal epithelial cells</td>\n",
       "      <td>...</td>\n",
       "      <td>lung adenocarcinoma</td>\n",
       "      <td>cell_line</td>\n",
       "      <td>human</td>\n",
       "      <td>drug</td>\n",
       "      <td>2014</td>\n",
       "      <td>8.921283</td>\n",
       "      <td>1.078717</td>\n",
       "      <td>1</td>\n",
       "      <td>CHEMBL407632;CHEMBL191334</td>\n",
       "      <td>3430.0</td>\n",
       "    </tr>\n",
       "    <tr>\n",
       "      <th>A01_A01_RT_396</th>\n",
       "      <td>6512</td>\n",
       "      <td>35.0</td>\n",
       "      <td>0.000000e+00</td>\n",
       "      <td>0.000000e+00</td>\n",
       "      <td>2.379168</td>\n",
       "      <td>Dex_50_BC10</td>\n",
       "      <td>Dex</td>\n",
       "      <td>50</td>\n",
       "      <td>BC10</td>\n",
       "      <td>alveolar basal epithelial cells</td>\n",
       "      <td>...</td>\n",
       "      <td>lung adenocarcinoma</td>\n",
       "      <td>cell_line</td>\n",
       "      <td>human</td>\n",
       "      <td>drug</td>\n",
       "      <td>3222</td>\n",
       "      <td>4.545455</td>\n",
       "      <td>1.320639</td>\n",
       "      <td>1</td>\n",
       "      <td>NaN</td>\n",
       "      <td>6512.0</td>\n",
       "    </tr>\n",
       "    <tr>\n",
       "      <th>A01_A01_RT_397</th>\n",
       "      <td>5354</td>\n",
       "      <td>15.0</td>\n",
       "      <td>5.487454e-276</td>\n",
       "      <td>2.030358e-274</td>\n",
       "      <td>5.789614</td>\n",
       "      <td>BMS_0.5_AH10</td>\n",
       "      <td>BMS</td>\n",
       "      <td>0.5</td>\n",
       "      <td>AH10</td>\n",
       "      <td>alveolar basal epithelial cells</td>\n",
       "      <td>...</td>\n",
       "      <td>lung adenocarcinoma</td>\n",
       "      <td>cell_line</td>\n",
       "      <td>human</td>\n",
       "      <td>drug</td>\n",
       "      <td>2804</td>\n",
       "      <td>11.953679</td>\n",
       "      <td>1.849085</td>\n",
       "      <td>1</td>\n",
       "      <td>NaN</td>\n",
       "      <td>5354.0</td>\n",
       "    </tr>\n",
       "    <tr>\n",
       "      <th>...</th>\n",
       "      <td>...</td>\n",
       "      <td>...</td>\n",
       "      <td>...</td>\n",
       "      <td>...</td>\n",
       "      <td>...</td>\n",
       "      <td>...</td>\n",
       "      <td>...</td>\n",
       "      <td>...</td>\n",
       "      <td>...</td>\n",
       "      <td>...</td>\n",
       "      <td>...</td>\n",
       "      <td>...</td>\n",
       "      <td>...</td>\n",
       "      <td>...</td>\n",
       "      <td>...</td>\n",
       "      <td>...</td>\n",
       "      <td>...</td>\n",
       "      <td>...</td>\n",
       "      <td>...</td>\n",
       "      <td>...</td>\n",
       "      <td>...</td>\n",
       "    </tr>\n",
       "    <tr>\n",
       "      <th>H12_B02_RT_752</th>\n",
       "      <td>12956</td>\n",
       "      <td>63.0</td>\n",
       "      <td>0.000000e+00</td>\n",
       "      <td>0.000000e+00</td>\n",
       "      <td>4.731265</td>\n",
       "      <td>BMS_0.1_BG07</td>\n",
       "      <td>BMS</td>\n",
       "      <td>0.1</td>\n",
       "      <td>BG07</td>\n",
       "      <td>alveolar basal epithelial cells</td>\n",
       "      <td>...</td>\n",
       "      <td>lung adenocarcinoma</td>\n",
       "      <td>cell_line</td>\n",
       "      <td>human</td>\n",
       "      <td>drug</td>\n",
       "      <td>4762</td>\n",
       "      <td>8.891633</td>\n",
       "      <td>1.011115</td>\n",
       "      <td>1</td>\n",
       "      <td>NaN</td>\n",
       "      <td>12956.0</td>\n",
       "    </tr>\n",
       "    <tr>\n",
       "      <th>H12_B02_RT_753</th>\n",
       "      <td>6199</td>\n",
       "      <td>85.0</td>\n",
       "      <td>0.000000e+00</td>\n",
       "      <td>0.000000e+00</td>\n",
       "      <td>81.158163</td>\n",
       "      <td>Nutlin_0.1_AA07</td>\n",
       "      <td>Nutlin</td>\n",
       "      <td>0.1</td>\n",
       "      <td>AA07</td>\n",
       "      <td>alveolar basal epithelial cells</td>\n",
       "      <td>...</td>\n",
       "      <td>lung adenocarcinoma</td>\n",
       "      <td>cell_line</td>\n",
       "      <td>human</td>\n",
       "      <td>drug</td>\n",
       "      <td>3078</td>\n",
       "      <td>6.065495</td>\n",
       "      <td>1.839006</td>\n",
       "      <td>1</td>\n",
       "      <td>CHEMBL407632;CHEMBL191334</td>\n",
       "      <td>6199.0</td>\n",
       "    </tr>\n",
       "    <tr>\n",
       "      <th>H12_B02_RT_760</th>\n",
       "      <td>5190</td>\n",
       "      <td>50.0</td>\n",
       "      <td>0.000000e+00</td>\n",
       "      <td>0.000000e+00</td>\n",
       "      <td>38.865385</td>\n",
       "      <td>Dex_5_AC12</td>\n",
       "      <td>Dex</td>\n",
       "      <td>5</td>\n",
       "      <td>AC12</td>\n",
       "      <td>alveolar basal epithelial cells</td>\n",
       "      <td>...</td>\n",
       "      <td>lung adenocarcinoma</td>\n",
       "      <td>cell_line</td>\n",
       "      <td>human</td>\n",
       "      <td>drug</td>\n",
       "      <td>2591</td>\n",
       "      <td>12.003854</td>\n",
       "      <td>2.312139</td>\n",
       "      <td>1</td>\n",
       "      <td>NaN</td>\n",
       "      <td>5190.0</td>\n",
       "    </tr>\n",
       "    <tr>\n",
       "      <th>H12_B02_RT_761</th>\n",
       "      <td>7978</td>\n",
       "      <td>143.0</td>\n",
       "      <td>0.000000e+00</td>\n",
       "      <td>0.000000e+00</td>\n",
       "      <td>1.161462</td>\n",
       "      <td>SAHA_10_BE03</td>\n",
       "      <td>SAHA</td>\n",
       "      <td>10</td>\n",
       "      <td>BE03</td>\n",
       "      <td>alveolar basal epithelial cells</td>\n",
       "      <td>...</td>\n",
       "      <td>lung adenocarcinoma</td>\n",
       "      <td>cell_line</td>\n",
       "      <td>human</td>\n",
       "      <td>drug</td>\n",
       "      <td>3988</td>\n",
       "      <td>3.271497</td>\n",
       "      <td>2.406618</td>\n",
       "      <td>1</td>\n",
       "      <td>NaN</td>\n",
       "      <td>7978.0</td>\n",
       "    </tr>\n",
       "    <tr>\n",
       "      <th>H12_B02_RT_763</th>\n",
       "      <td>3563</td>\n",
       "      <td>50.0</td>\n",
       "      <td>0.000000e+00</td>\n",
       "      <td>0.000000e+00</td>\n",
       "      <td>47.812207</td>\n",
       "      <td>Nutlin_0.1_AB03</td>\n",
       "      <td>Nutlin</td>\n",
       "      <td>0.1</td>\n",
       "      <td>AB03</td>\n",
       "      <td>alveolar basal epithelial cells</td>\n",
       "      <td>...</td>\n",
       "      <td>lung adenocarcinoma</td>\n",
       "      <td>cell_line</td>\n",
       "      <td>human</td>\n",
       "      <td>drug</td>\n",
       "      <td>2023</td>\n",
       "      <td>12.433343</td>\n",
       "      <td>1.178782</td>\n",
       "      <td>1</td>\n",
       "      <td>CHEMBL407632;CHEMBL191334</td>\n",
       "      <td>3563.0</td>\n",
       "    </tr>\n",
       "  </tbody>\n",
       "</table>\n",
       "<p>24262 rows × 22 columns</p>\n",
       "</div>"
      ],
      "text/plain": [
       "                ncounts  hash_umis  pval_demultiplexing  qval_demultiplexing  \\\n",
       "cell_barcode                                                                   \n",
       "A01_A01_RT_384     1939        NaN                  NaN                  NaN   \n",
       "A01_A01_RT_389     1234        8.0         1.000000e+00         1.000000e+00   \n",
       "A01_A01_RT_390     3430       16.0        1.404159e-140        3.650813e-139   \n",
       "A01_A01_RT_396     6512       35.0         0.000000e+00         0.000000e+00   \n",
       "A01_A01_RT_397     5354       15.0        5.487454e-276        2.030358e-274   \n",
       "...                 ...        ...                  ...                  ...   \n",
       "H12_B02_RT_752    12956       63.0         0.000000e+00         0.000000e+00   \n",
       "H12_B02_RT_753     6199       85.0         0.000000e+00         0.000000e+00   \n",
       "H12_B02_RT_760     5190       50.0         0.000000e+00         0.000000e+00   \n",
       "H12_B02_RT_761     7978      143.0         0.000000e+00         0.000000e+00   \n",
       "H12_B02_RT_763     3563       50.0         0.000000e+00         0.000000e+00   \n",
       "\n",
       "                top_to_second_best_ratio        top_oligo perturbation  \\\n",
       "cell_barcode                                                             \n",
       "A01_A01_RT_384                       NaN              NaN      control   \n",
       "A01_A01_RT_389                  7.000000     Dex_0.1_BC07          Dex   \n",
       "A01_A01_RT_390                 15.005464  Nutlin_0.5_AB02       Nutlin   \n",
       "A01_A01_RT_396                  2.379168      Dex_50_BC10          Dex   \n",
       "A01_A01_RT_397                  5.789614     BMS_0.5_AH10          BMS   \n",
       "...                                  ...              ...          ...   \n",
       "H12_B02_RT_752                  4.731265     BMS_0.1_BG07          BMS   \n",
       "H12_B02_RT_753                 81.158163  Nutlin_0.1_AA07       Nutlin   \n",
       "H12_B02_RT_760                 38.865385       Dex_5_AC12          Dex   \n",
       "H12_B02_RT_761                  1.161462     SAHA_10_BE03         SAHA   \n",
       "H12_B02_RT_763                 47.812207  Nutlin_0.1_AB03       Nutlin   \n",
       "\n",
       "               dose_value  well                         celltype  ...  \\\n",
       "cell_barcode                                                      ...   \n",
       "A01_A01_RT_384        NaN   NaN  alveolar basal epithelial cells  ...   \n",
       "A01_A01_RT_389        0.1  BC07  alveolar basal epithelial cells  ...   \n",
       "A01_A01_RT_390        0.5  AB02  alveolar basal epithelial cells  ...   \n",
       "A01_A01_RT_396         50  BC10  alveolar basal epithelial cells  ...   \n",
       "A01_A01_RT_397        0.5  AH10  alveolar basal epithelial cells  ...   \n",
       "...                   ...   ...                              ...  ...   \n",
       "H12_B02_RT_752        0.1  BG07  alveolar basal epithelial cells  ...   \n",
       "H12_B02_RT_753        0.1  AA07  alveolar basal epithelial cells  ...   \n",
       "H12_B02_RT_760          5  AC12  alveolar basal epithelial cells  ...   \n",
       "H12_B02_RT_761         10  BE03  alveolar basal epithelial cells  ...   \n",
       "H12_B02_RT_763        0.1  AB03  alveolar basal epithelial cells  ...   \n",
       "\n",
       "                            disease  tissue_type organism perturbation_type  \\\n",
       "cell_barcode                                                                  \n",
       "A01_A01_RT_384  lung adenocarcinoma    cell_line    human              drug   \n",
       "A01_A01_RT_389  lung adenocarcinoma    cell_line    human              drug   \n",
       "A01_A01_RT_390  lung adenocarcinoma    cell_line    human              drug   \n",
       "A01_A01_RT_396  lung adenocarcinoma    cell_line    human              drug   \n",
       "A01_A01_RT_397  lung adenocarcinoma    cell_line    human              drug   \n",
       "...                             ...          ...      ...               ...   \n",
       "H12_B02_RT_752  lung adenocarcinoma    cell_line    human              drug   \n",
       "H12_B02_RT_753  lung adenocarcinoma    cell_line    human              drug   \n",
       "H12_B02_RT_760  lung adenocarcinoma    cell_line    human              drug   \n",
       "H12_B02_RT_761  lung adenocarcinoma    cell_line    human              drug   \n",
       "H12_B02_RT_763  lung adenocarcinoma    cell_line    human              drug   \n",
       "\n",
       "               ngenes percent_mito  percent_ribo  nperts  \\\n",
       "cell_barcode                                               \n",
       "A01_A01_RT_384   1258    11.913358      1.856627       1   \n",
       "A01_A01_RT_389    813    17.828201      1.620746       1   \n",
       "A01_A01_RT_390   2014     8.921283      1.078717       1   \n",
       "A01_A01_RT_396   3222     4.545455      1.320639       1   \n",
       "A01_A01_RT_397   2804    11.953679      1.849085       1   \n",
       "...               ...          ...           ...     ...   \n",
       "H12_B02_RT_752   4762     8.891633      1.011115       1   \n",
       "H12_B02_RT_753   3078     6.065495      1.839006       1   \n",
       "H12_B02_RT_760   2591    12.003854      2.312139       1   \n",
       "H12_B02_RT_761   3988     3.271497      2.406618       1   \n",
       "H12_B02_RT_763   2023    12.433343      1.178782       1   \n",
       "\n",
       "                                chembl-ID  n_counts  \n",
       "cell_barcode                                         \n",
       "A01_A01_RT_384                        NaN    1939.0  \n",
       "A01_A01_RT_389                        NaN    1234.0  \n",
       "A01_A01_RT_390  CHEMBL407632;CHEMBL191334    3430.0  \n",
       "A01_A01_RT_396                        NaN    6512.0  \n",
       "A01_A01_RT_397                        NaN    5354.0  \n",
       "...                                   ...       ...  \n",
       "H12_B02_RT_752                        NaN   12956.0  \n",
       "H12_B02_RT_753  CHEMBL407632;CHEMBL191334    6199.0  \n",
       "H12_B02_RT_760                        NaN    5190.0  \n",
       "H12_B02_RT_761                        NaN    7978.0  \n",
       "H12_B02_RT_763  CHEMBL407632;CHEMBL191334    3563.0  \n",
       "\n",
       "[24262 rows x 22 columns]"
      ]
     },
     "execution_count": 19,
     "metadata": {},
     "output_type": "execute_result"
    }
   ],
   "source": [
    "adata.obs"
   ]
  },
  {
   "cell_type": "code",
   "execution_count": 9,
   "id": "eea9fd1c",
   "metadata": {},
   "outputs": [
    {
     "data": {
      "text/plain": [
       "perturbation\n",
       "Dex        8064\n",
       "Nutlin     5956\n",
       "SAHA       5530\n",
       "BMS        4183\n",
       "control     529\n",
       "Name: count, dtype: int64"
      ]
     },
     "execution_count": 9,
     "metadata": {},
     "output_type": "execute_result"
    }
   ],
   "source": [
    "adata.obs[\"perturbation\"].value_counts()"
   ]
  },
  {
   "cell_type": "code",
   "execution_count": 10,
   "id": "567a901e",
   "metadata": {},
   "outputs": [],
   "source": [
    "random_state = 1\n",
    "class_key = \"perturbation\"\n",
    "train_dataset, val_dataset, test_dataset = get_classification_datasets(\n",
    "    adata, class_key, random_state=random_state, device=DEVICE,\n",
    ")"
   ]
  },
  {
   "cell_type": "code",
   "execution_count": 11,
   "id": "29741499",
   "metadata": {},
   "outputs": [
    {
     "data": {
      "text/plain": [
       "AnnData object with n_obs × n_vars = 16983 × 10000\n",
       "    obs: 'ncounts', 'hash_umis', 'pval_demultiplexing', 'qval_demultiplexing', 'top_to_second_best_ratio', 'top_oligo', 'perturbation', 'dose_value', 'well', 'celltype', 'cell_line', 'cancer', 'disease', 'tissue_type', 'organism', 'perturbation_type', 'ngenes', 'percent_mito', 'percent_ribo', 'nperts', 'chembl-ID', 'n_counts'\n",
       "    var: 'ensembl_id', 'ncounts', 'ncells', 'n_cells', 'highly_variable', 'means', 'dispersions', 'dispersions_norm'\n",
       "    uns: 'log1p', 'hvg'"
      ]
     },
     "execution_count": 11,
     "metadata": {},
     "output_type": "execute_result"
    }
   ],
   "source": [
    "train_dataset.adata"
   ]
  },
  {
   "cell_type": "markdown",
   "id": "93bf930f",
   "metadata": {},
   "source": [
    "## Visualize"
   ]
  },
  {
   "cell_type": "code",
   "execution_count": 30,
   "id": "0bbfecdc",
   "metadata": {},
   "outputs": [
    {
     "data": {
      "application/vnd.plotly.v1+json": {
       "config": {
        "plotlyServerURL": "https://plot.ly"
       },
       "data": [
        {
         "hovertemplate": "color=Dex<br>x=%{x}<br>y=%{y}<extra></extra>",
         "legendgroup": "Dex",
         "marker": {
          "color": "#636efa",
          "size": 5,
          "symbol": "circle"
         },
         "mode": "markers",
         "name": "Dex",
         "showlegend": true,
         "type": "scattergl",
         "x": {
          "bdata": "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",
          "dtype": "f4"
         },
         "xaxis": "x",
         "y": {
          "bdata": "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",
          "dtype": "f4"
         },
         "yaxis": "y"
        },
        {
         "hovertemplate": "color=BMS<br>x=%{x}<br>y=%{y}<extra></extra>",
         "legendgroup": "BMS",
         "marker": {
          "color": "#EF553B",
          "size": 5,
          "symbol": "circle"
         },
         "mode": "markers",
         "name": "BMS",
         "showlegend": true,
         "type": "scattergl",
         "x": {
          "bdata": "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",
          "dtype": "f4"
         },
         "xaxis": "x",
         "y": {
          "bdata": "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",
          "dtype": "f4"
         },
         "yaxis": "y"
        },
        {
         "hovertemplate": "color=SAHA<br>x=%{x}<br>y=%{y}<extra></extra>",
         "legendgroup": "SAHA",
         "marker": {
          "color": "#00cc96",
          "size": 5,
          "symbol": "circle"
         },
         "mode": "markers",
         "name": "SAHA",
         "showlegend": true,
         "type": "scattergl",
         "x": {
          "bdata": "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",
          "dtype": "f4"
         },
         "xaxis": "x",
         "y": {
          "bdata": "hy0kQAjNtcCbs+7AtGCFPzymv8AduGxAcK74PpiZ7MDMEi5AHHa3P/W0CEAk8fM/oCS1vm/jXD/2xolAgNKMvbObdr86yohA4PmAQBwwvz+JuiO/wT2uPwBsi0BM/6G/4F/RP7igkj8pTIBAQWHDPljf375sGro/gPLcwOFX2D4UJCa/Q8AKQJRhHr/A1QO+AErMPZPqp7+YUg8/YG1hQJxPAECKTsLA2Qp+QKfrBkD9EO0/eBYIwNtr3ECwghO+gCeSPsAMR0D+A6y/ALK3vHiMJEA4KSI/AY6HvtAYKT8mKi3AnI7FwNnNX0Cxw+g/ROuPPw5e/D+MzfbAdJb8PweU1EDIKSQ/fXFgv5ii4L4Eb1q/LEaCP+iyyT8SXYVAACCNP+DhA8DQpci+ASgSvSQhyj9MnyjA0FpWPzRflj84JLk/CPBxP2tsEEDaO49AQEflPWTxEL+4MdQ/VF6LwNDQQT9x5cjAsldfQOm4CD9j8dzAVIaYP+mtTkCzQ+/A4BL8vgy1TL9UBapAEme9v33xRb8Bzci+IxnwwNyB5j8gLyc/4e32wIHJBD/wbjE/GYuuvqypiD/v+fu+tGZyQLQaxD+xOdi+08rWv0TuL0Bg9pk+weFzPs69SEDobwu/+FYQwOxpxD9BsW4/D9wAwPDf0j5dffrAkTb1Prg2yj+gWCI+kGFOP7CxvD74lg9AAMj0PoEj/z76Z+y+0KaZP/x7AsGA1iW+wF3QwF4AQEA6o4NADqQAwPHQyz5CzufAnPPIwG8QMECwK6w+kSTGPtzSn7+Q7ou/vfi+wIqxoEAvDSBAgBmIvQCoHD5V9O3AMCFIQHSAhj8IiIQ/WQSlP/SzNEDvMWc/lfZ0QP1UgsA8TIJAAJYXQOtOqcALKx9ABvYRQMASEL42krrA8HOTwLDjMz9uFHBAejfjP5ofQ0DL5dnAZCSwP2bGYkC6COnAGEgLQN+/PkCkA94/0KYJvmVL6UA772RA8BkuP5ia2r8KtmzAGuiWwObN/8DOZYW/9tM/QNfi8r5V8m5A8Tqovp5GK0B5sSE/WH9rPwpzsr/OxipAjyPtwNKj+T9AZG8+MvJRQAnpkEBQmcA/8LOhP9mu/j96YShAsF7IPvC9Jj/+6b3AGUDswIGzVT0Ea22/gP0LPyroAUBYphI/hNfXQNQA+D+gdZ8+9NCHQMi6qT9xIdvA7fzkPyBkKT84SHo/YHqDvv9K3z5YZt/AQPUWvk8R9L9RdN3A+nSVv/MRyMDoKA+/VRdjQFVOo8CGuAVAxJrgP0AECj/YV10/kOCNvpqKtUAr0dy/AEkdvmhlTj9cI5jAsPZiP1sRy8Bpz9vAbseQQHkMsz9Bn5k/IK4QQOPM7sCXa2JAwPusPii8cT+8eCi/LHuAP6cOHEDgyhQ/K5wNwEka+D8t2I9AzadvQOjF1b9FXfnAvDy1wEKqIUBETAlAcjcSQFCVLb9wxsA+ZNrTwFiWqL6PvJzAMAO0PyACDkDcdhi/geQJvUue3j/hv3Q/4pNUQMEv+T4NOfg/UpjdQCbFJEDxucq+BCnKPyYpqcCDQq3AsDt0v30Qbr8r/83ATA+nwGxq7sChh2s/C2iDwOnqWkDr7+Q/oNIuQDvBAsCOfUFAHEIaQAZGq8C8KJs/TVGqwDGdUUAQf8c/Rj6ywIE4EkCgDdI+oFa+vpCK5L5hkwo/2U9/wIgYyT/Ys2Q/mBOuQACpoL2NQcU/lX5gvx8V7j8UBUxA0Z58vtEC7cDh8G6+9ZWLPy+1SEAA1X++6C6XvwKCBcEC20TAAO5FvqiEhL5wc6A/3zr0wKyfoz9wvDq+8CAmP0TS0z+zDK7AKPbXP74Ym0ChWSzAkOIsP0DFC74F7MPAWJexP6zCvMDxnuPAMJMLQA26YUCUWR5AcdHoPqgWtj/l/gpAHXyAP4CR373ty8Q/gL2LPaxfs8CmKLjADqtsQEyPzcCwJhY/wh9GQDXpob8PLIJAKIE5P0nClL9oSFFAMlWsv/P93MCgUbm+ALORvFwXYEAeg6a/HCGsQN0f8MDtILw/ffcZv2hMBUBxjqe+DzThPpMkjMD2ZlFABNs5QPJVJEDF2kZA//EZQNCZucD92H9A4Pw8P6IqAEDcJrlAqXXJQLCNpj6gZyFAhqnNwAJ17D3dZL4/3HUnQKQaLr8cVD5AEGclvvzWncC4X2k/8PcWP5oWucBQPgFA6CCTvlEYlb/I93o/8FeaQMrzj788nlm/xgYVQIgiCr+3j4VAqDAwQOCUTr8Qluk/pJMYQDCXSsDjKVpAsFGzPgAwwj7s5g1AKHWHPwDOqL0LwJzAwCj4P6XMJsA1/8vAgHmTP6E1b75BHgs/OFmFPzoc1MDYy3E/51/SwHBS0j4O7svA4CLrPzBrpL4AcvO8uYKVP5DPRj/wdKA+gr/twIxKycA/W+e9AHauPkQACUBoKZE/bG2CP19bdL+WeIC/LTY/v0cgKUDBPqg/ANSjuwCQ8joAp30/AYAWuZ+Xar7OHYtAE1QnQJS7fUB8wts/0J2kPj/fYD+C729Awiv5PsSVxMBY7r3AdyccQHDbBz99p5s/vfuQP9Z+tsAdu8DAfSG5P7ASUz+hyUW+SSBvv05jJkARQLs+MPQ4QEwa+j+Bfc0+T1e7wFL/5sDxXjhA82zgPxQsYEDou08/IKKCQFmZwsCBLGQ/KcdCP6HuUT/Z3ka/IO+kPkDLgb4Ays892tcRQJjZRz9hTzK+LJ2VPyAUQ75RC0BATHD9P7lG28DZLxs/TCqSP8e8DMBYz/s/1bo0QP1Vvz8BFPC9aMh0QOllcD+ASC29eSpuP0iP5j+p7/rAbfHLwFDNOkC/JfC//U+MPya928CPe8TAUOzvPrbrI0CO64JAlcjkwEI06cCatYRAQA8EQPnMlD+UOhtANm7zv6kBNT+8Oqo/YkvFwJ5oFEBBE9g9qLI9v8ZdP0Azw4hAZgfPwBmFFECYm8DAcEwrP1VP5j+e3V5A/8+Lu33PqD9cu6lAc6g2QDEQ475xGIk/cSQ8vjOMy8CBIKW9G6AjwF55W0A+BoFAeKxGP2vV38CwtajArIhNQOBhQ7/ZyOXAxBBrQDg6CD9MFKY/JqfSwNkfCD+w0OvAyZHBvpSkrD8lM/e/3HGiP/Au6T+8P/o/3Iq2P3EXjT8A+ShAbOqDPwCuRr9cDg9AcOwGP+7uusDYCJk/xEHEP/jbgEBU4jS/ysIAQLGser6BZDs9XPwnQLhfMD9wlhS/+fsyPwYAN0D6QmBA6NjOwEyNWUCoUWBA6ttuQFHIFz9pD+vAAU28P5C1z8DxJ2A/1c5jQIIiFEAk+mBAuq1SQIWHhT+p/2ZAGV3hvqIsdUBwjg9AwEP5PWDTd0CFp5dASYQSv8BByz/QTn9A8XGpP9kjhcDx2Ss/6OuUQE2L0MBbS5c/zitGwJi1uj9pb0s/gmf0wLZzDEC8qOvAkI8Hv2BnLEAYccE///DsPkgPUj/ALSg/PigIQPYiAUArTAHAZXzOP8lTPj8bed3A5JLuP0bbAEDklhBAYB3sPwDyIj2Qli0/RAntPwi4Dz82exZAdBUGQJdiFkCo+41APi0FwCAPvD9I5J++QWL/PS/VXT8wAy2/4D1Mvy8rF0BwQYU+CK1CPwoSIEC/+fHAgYfrPUT/yr8VdyxAEL4pwLCdij8A8vk8gIZ6PgALYT8iIARAcO53QCyCsD+gANI+kv06QNQSIkAvv87AQVmAPWAAFsAAlFu93wvhQGSlAEBhksQ+4Vh/QCSD4MBw6+8/irnvwEWNmz+spqM/WWBSv5lV4MBlGOM/fIWGP/SSocAp3HS/v8qJQMxr0sCiSANAIAqlwPXvLkAE3NbA+Y3dP2A+Gz40fZs/adLlP9KKAMHZ8k8/KANwQOzzKL9yvaVAOLx9QDDhCD9k1VO/bB7EP+ARiz4nQThAqKu+P7r4hr9DNcTAYMmdPmHfD0DM7gnAKSuovsEifL88m2RAYmIoQAJQIUClnh1AAEuKvpGjz8Awxro/vuMSQFFSZUC/V+TARdcfwNR6pcBQpHY/4KmxP9Wj6T+o6YJAKP4VwLCm+r/45+w/mrgNQARFqUCy5gFAKH/WPz4+DECRoGc/Ogqdv5ppz79oBM3A0ZmlvjUh7UC5/yRAe17NwI2sMED3d2VA+YtaP0reYUCZAsq/CHfkvwCIH7tCYxpAACyUvg7a2L9AP6U9wDLWvc+B90DWrOzATNcSQIdEUUBiRotA6+Lev8Y6IkBGQ9nAII7UvsKivEAZ/hTAOJOPP01LsUBkTpQ/Lp6vv8LECUDD2A5ALRPYP5YfE0DBcPs9AGhdQN6AaUBrgBJAkIeSPxpVFkB6yTFAzOVLQLALMb+Z+Ji/vsFUQM6578BNJmVA1ekcwPpjg7+MedM/itw4QFjmxUDaKeDALCi8Pzi2Uj85vnI/6/ysQDi0yT/EiVO/xMufPwEAnLf7EOs/id3mwGBndz+T9HO/CXREwNjYaD97pZe/DKWHv8CxQL5wbZU/zB2ywKbnAUDy8hpAwADNPoB5uT3IgoQ/LB/SP9x3+r8QmSI/xHnZv/m+I0DQh5++E0hvQIEpnb3nVxZAewD2v3BPOD9ozjTA/sVZQKKGG0D0AKc/qbtAQK7pM0CwKjs/8PwJv7HmYj95RmQ/fT+fP4ol30C8TihAxkQGQCfCP0BUoz+/RMYfQPBMFD98Nd/ADwqywDngDT84t9DAUz+MQNjz4b6n/P6+eFrdPxwe9D9AbTu/FNfgP4gpvz9DzeLAbJj+P4/LoMBwHNXAwPyDPwUgsz8wg00/ZX6gP1gFsD/Bm0JAXGXNwMjeOT/BaU6+SQgvP4Q6xD9Qrki+dIjXwEEPKj9uxqjAnKS7wCEVDkD0jeTAwH2yvVQswMCQCKE/bL/CP4lWqL50XnxAdEt5QGB89T8cl7TAwHQ+vgILWkBWQHK/IOkBvnH4277Qd1JAaGQzP8RKV78xW/E+JMQiQECNAkAgAP7AckdVQDiZ6j+E5dw/GF14Pwt24MCMo50/runlwJsJfUAfCZxAp5vqv7S6lD8iDLXAkFOIPkxhEL9ebQBA+BuWP5hig0APV+2/jeJEv38/a0BrRRTAABZKvYhlmz9VuTi/gDFLQNh5sD8wKqs+cSNgP+HqDcHZggFAEDvzPnJPaUDQV1Y/CVeXPxXUmD8wLT5A4J6AP9D24cAU72hAmck8PwZbBsDglQ8/ccO4vqqvNsDoAFa/JMHdP6AKvcByb5RAuJAOPwCluD48oo1ACS48QGhe7sB4NyxA7RvqP34iVECcp39AW9vKwMvMXUA7oiRAIJpIP2BcLEBEaWe/GGJZPwQ2TL84fLE/NLbQwHcjdEB9uV5AdD2BP1y4PECMP94/nuUeQMX9a0DQRX2/nBwQQFD6pz6lFsU/z03wP6jXVj/stdlAAPN5QOvF3sBAEqc/eKIswGzlEcAqiOFA8DL9PqzRR7/8ebI/tHJ6wHKzD0CsyNXAg53jP57zCcA45NrAIds0PwDgU73QnO4/ZDdjQGQgC0CIWmg/xkTWv5jzAEB4bRo/epK8wDCW68AwwJS+F7xVQF3jvsA4m25AqgBnvxfBeEAG9+XAAKEgvwgQ0j9O6v/AQxO/v5/Wm8CUKa0/zavDv7I6NUAcIrDAFIu0PwKJ3z7RZsA+actuP1oQDUCXDvI/gknhPt+fw8C4N5G/pBO5P6MpysCoAOzAwBW3vWDDoD+YnlhAWEc0v0wczj/Uuci/G6LSwFuPssA82he/CWoxPyzXK79wKeU/cf1bQHJSt0Bpzk8/Ol8EQHDDPECJa3G/lvVXQBwQoj+wcX8/gEzXP+GLNL4MyrI/OgqjQNxUAEDRTz5AoTsSQIBxID853ANAkOUcQNxFrb/2zcnAYPQdP7QbNL9cxfo/QVeOP0sOb0ALztLA4MjcP/D3mj7CHgdAIA8VwOCwWr5s8QhAoZZTQHDs7T6UzPM/mXAJQarAwUAEibDAOHWhP2DLuD9mnOk/fMneP+nQcUAAF7S8wtMDwN7l3cDuelJAhkUJQN2B8MAwUZtAWKYIQJhspD9UeZJAYA/hP+auDkBWGtq/TCDKwDL7y8DEALQ/77I8QLIfhb/xMRg/9GPwP9TetMDkPQHAT48twPQ2C0AlbN4/nMu3wF5DAUBoOJQ/COEPP0jzhECcuHq/SqUcQIzOZkCMRvs/CpYYQHoPK0DyCpJANKftPzE1dkCIgG4/cL85Pz0eikD8+SBA8+6ZQAx8RkCuTsTAjBdbQArezcDwG/c/FKUtv0BTJr9Olw1AlQnQwPrz68Akos4/rmkoQDCIrD8zrABATK1vQIgcoUD8IMg/FGeFwHkL3b4Q8V4/aOi5P5Bwej8o3lFAEztFQGFCXUD2pIZAhLiIP7gMtT8tOCBAAGbrvJNU/D/MYIk/wKdnP2I8C0B/XzVACH4+vzPPRkDJRP4/HHwOQBbcxMBs0Ic/VHVTQE4pRECSTwFA+81aQIP8tcDA1sC/hQ7CvwxZ3MAw02FA/DXcwHI8hb8MCcTATrf2v4BnIT6ULSu/CefVP1km9T8AQAy82LyBP3GMxr7FQZU/rV48QBjMKT+ccerArKu2wP9LYrwQO/++MGK1Psk4Y0A19oVAdpXCQJvsq8Comwa/qj6ywIWasT+m0jNAXzrZv2h3xT89btA/qF8Bv32IjD8qCk1ATNe6QHbiyEDI89s/GKBAQDWl1MCc2jVAvnARQIBuKz3w6XhATZmXP2lSlUBObrdAcuuMvwTfxj8xTdU+mHPNPyDOzj4xRGtArgWBQKMA6T+QAEU/kQflvuB0yL46jR/AULo2P5gxI7+BxFw9IB4qvkHR270KjmhA43/RwEgxmj/AXSBAtk6kv8EZN0BkFLNAiOMrv+Du2D7EGMw/hGtHQJdKGECJ6sA/UMJJvuEoZj5A75w+gXzWwOQpzUAxMsQ/vIVhv4Cyjb3ZXKM/xchhQAzBpz8x9Hy+/7J7PykuHj+AibA/MNNxvsEPMcC0/4ZAjKxYQHRBEEDMGxhAIOC+wDOQHkCnDiTAAf/NwOg2b0DRQGO/7ImRv/T/lL/IfKU/aBd+QLslH0C4y9lASJOVPzyfFUB/m+bA1gMuQJYbSUAoviU/V6F2wCR7R78AHiu+943gwMD3sL3bLD5A/bjdwC1yhD+wWNQ/RFomv3Q12j91sYtAFfakP8ovBEBA4M8+GGUmP4bpKcCA0w9AzE1bv8B7xr4g7pJAnDunP/BhQz/977VAlk/QwGE5l75BRPLAaOmYwOBMxsAabtnArLYXvyjEST/oJl2/P7i3wFitoD/5o6K+JuiDQHl0dj/Aeiw/FO7bQOD4lj78ulhAsMuEP7AOp768MhxACDBrPwkAj0B9tZLAnJ3YwENV6EAArqe8AKytO4LhecAvDklAHX+fP7KbJkBwPAPAmITYPwLQq0BwayA/276fQC117kBFQaBAmeJjP/Ghmz6BwGW+cHmcPyRupz9gtRQ/yOUfP30W0j+61OHAwOafP+iKysCwfuq+tggoQHLBIUBT/PXAx0x0QPFnwT7NqHK/AcSAPIUkF0CjygTAMImHPwwJoUB4fiQ/UhjSwDifxUCoEvc/Aueov9bXN0CLqoVAgCvkPS4aw8C0kAe/vNzdPw/zcr6Y9BQ/oLX/PkCu2cAR4E5AKCtWP+MZBEDQLxs/kJPmPlD7MT9jx41AqJLSP4jdXj84ptU/cFWrvkLvqsDse6s/j6PZwLX49T/HBGhAuYKcv5f0y8AoE7W+Oz+UwPwyyz9Lhea/H6WPvgIL6sDYxJk/CtYrQCDDIj7WCYtApffHP0HAKD8QHtG+RKP0P5X+AsA7E2pAbUf/PyPcQEBA3z0/ScjYPwOK8L9gYoG/gX62P7TAwT8cxfg/FGKVPx6nJUAobQJAXA9xv37c58AkGdA/CKroP6GMqMBMkJlA1GiLP4BYuUDQkN8+EINmPw7hSkDAKIi+eCItP4aFir+IY7q+mJTAwGm3lj/AH8O+voeFQHDeGT/94ZNAU7H6wNQVD78fJl2+vqY+QOi+x76wPsc/siMtQOEB9T98vKc/XSAcQGCqAr7p5Nc/QAqpPym6FkDQU34/kDMwvyhackDcj4dAubHiwP7PpED5LwFBcGXFP2HT4T6+Kw1ADTTRwAAwDb/kHsfA4ZbPPz7x6L+gaaI+YrhnPj6Y679sg68/EOU+vohKiL/Qv/4+OTpUQLE5ID/su0pAIQWrPvMg6UAijxlAaIgJQDAmEj+Xl6pA4NX0Pio5BkEG2tnA8fbSwMb6hUBOBZZAjnpTQGHlwj5FzZNA6qb8v6yq2T8xWmBAIfUYP7nxcT/sY8DA6VfbP2SN4T+ISZXAUFikPh6+usBmOqhAL03vPrAktb7OgpdAFhcSQIwnhj8P124/SNuGP/gOhD+wlbQ+YeMkwK1MI78nRA5AlfwdQC7SVkCnzuy+EobawJ+Ks0C8IB5AMMKbPxhS7z+g/JI/Fj5DQH3pb7+ZgQpAvHaBP7c6lz/QXk1AkhtWQLUSrT/49kI/gI+JP0o5hEBKvXNAEMFOP3rVzsBkj6s/Gp4UQCQapD8TdyhAKP4JP8SYGUA5pNTA0BpRvrVz379cCOdA6MWqP9iT1cBQZaA+OM9pP9P6JUAApgjAh2I0QNCr8T8wtNK+kmrHwIACj76QASE/4Mb5vggnWz8QzVQ/Wxe5wDCgED9xKf0+QElQPxcIx8BORkLAgjgrwL9YYD+/6ju/QMkjQIjzjj8omUk/AEXKwPa4L0CQgfY+nDnzwDnC5MCHUtrAHuQLQDGzxcBhTMc/MFvyPx9vt0BMHYs/bt8/QAgyMj8zUty/pc0Ov6qV1sCwC5RAYFWwv0nK6T8UwR5AcGG9P1BMBr4A9qQ/URP7wPDIiz6TZNbAE2FdwMLfIUBc2opAqie0wHxTacATS31AR+ooQAh5vz8IKMPAvM6uP5jC/T+cSM0/VE0qQGK+skBDu9fAMCrhwLh40j98MsQ/75b6P+QsnT92dNJAgS/xwO0F3kBXZdfAhYPZP1SgIECADoU/DkbHv1a+hEAh7lw+hw/WvwT/yMDAehg+zXZlQFz3Db/59EJA7DFtQHQ9xsAAzwdAXFrbPw3ZiUAKyC1AAKqcvbCrWj9ZZ6W+bl4PQAErwz15K3G/1N2oP6G5Tr5EQOfAMqecvwjcK0CVpDBA6/3kwPEv9D4AjFu8EuIPQFXknEBIj7i/4GEav1mC1sDIaCI/7rawQNeVQUBavw/A95ELQBh2IT9E6FdA0j2zwHLU0cAFOhtAgca3viF4I0AHIXJANAi+P+DiHsCgTDg/Ai4fQJAuCz93qam+pL+pwCCxHD5Sg2BAeoDGwADlW72tPve/Pf6vP+DsPj9kubnASSf+wD9k4j+JBZW/sMPHPnUrtD8jKR5AAhMWQNGV0T/QGss/gOMIPa4h5MCLbKvAzHu+PxLjk0CHGfvAwlhBQHlvYD/sHLs/8Hy6PqAKAj6DpD5A1xefQBxFVb9g5xRALwmMwJAKO74QYL0/mcbiP6IhxsBCuTFAtDCCP+0jMb8d6HVARDDiPxHrsT8G50NAICedPwEzWz+Bfp6+3Wl7QML8ucAefgVAgC7JP2CP1L6fG+e+43v0wFyR8T8CZYO/UcHEvwDo5sByPDxARKL3P+jMQD/ghJE/DHnuPxCvQL4RqUo/uPpWP3R4GUCxteo/epZoQLV/Y0AGkt/AagsIwOSt+z+470ZAqlynv3Qyuj/s5xtArAO4v9b1HUA8srM/0LO4v32gbb8xcio/yBGSPwAc0L+hOc8/YNQDPsXRGUCf4lw+OD44P30uLkDJZwnBfP3DP6A1MkDIpdk/NPP7PyA3yD/I50LAiCqEv9xcaL9G10BA8nQ/QMhQnr7yQOPATEBaQAiLAsB1S7Y/MEieP0BVRr6rR6vAbaIawPkIzz8cuUNASIEXv7mchb+Rw7I/doCPv+Qg0j/Yg0y/ME3HvzP8NECQh1FAApLLQMYp1MDi7O+/YHeOP/ayA0CEvIG/HbPgP/GUXEAuu8y/gPrXP4VE1MDIaAI/EBG5Pluc2sBxTtw/m3LZP/zWDMBgqhrAkZf3v30Aoj/w8lg/7HaUPwyIBL/wO1A/ytGHv/yTQEAhWGa/kBTqPuWaN0DzhCtAkuulwAhJIT8kNsY/hTKPP8CTtT7f6O3AkP2oP+g9aT/MB4a/aYacwBiLLb+As3lA1r8xQM73KkBIduU/456iQCdnv0BTe7vAjdHCP6n1JEApIVI/HGnrP+B6c78CdzTAQxpQQJC86sAxW97ATlZLwBzKdMBr8wNAIEkgvnJIvsC3EIhA4dKyv5AcXz8eFqRAexbPwA7EX0Dtg4U/GDVFP9qgJ0BC428/tTyPP2X288BrsPnAMC6tvi6FHEAokRhA6BgXQFHfuD/qGUhAEG7hwCleXT9Io5xAcOJ7QCHwXz+gMeg+cCvDv2yOqEAVb/g/cGQ1vrwZ0cChPAg/XR6xwAEo8zs6fDJAARrcvIE5dr2ALUw+2D/ZvtpHG0BFvhzAw1oKwCKJFUArQYG/gcVlPwDq9712iSHAYZ1+P+lPhUAx2KxAwZWJvSCuK0AmfypAf7zhPrbdo8Di+kFAsN6QPgFDaT+A8mg+ABc/PuGqAkCI7x3AtptCwJrUXMCE1GlAKt44QJTduT8BEJQ92E7wwHzEi0CQQ7o+IIWJvhWuEUByOjhAkU/IPo+MSUCwUas/0UC6wDgBmkAAWke9oG+pP9VAK0Coqgg/6HmHP6zJmz9IsENAtUpXQGi8Fj8xLt3A5IgvQMWyA7/AcrA9DkHUwHR40D+APIo+IcsBPzyX3z+tZw+/OO8FP8ZvYEDwfbk/fTnIP4cmwMCB2Iq9IZxiP/jIWT8RP41AVAUAwe5mysCkWE1AxNjoP4DL4j50JYm/0MOVPvQoIECAHaw+Ug+dQCXiZUBo1o4/WHW9P22Q6T+BbT49GNZKQDFrK79CiIFAWCypv0C+M75uMBdAOK7HP0Gecz6oDNI/uMixvghBy77E69w/+CZ8QLg14sA4VYm+OLmuPx+71sAQIaq+KD6ZQCgKFEBozPE/eoQLQMLFgL8Y27w/sHcbv+j6j748wDJAOIqMv5SWuz/1RKQ/MAhFv40FfkD0Wso/I8bzv1h1ij96wNXAUC2uvmTfkUAlt8Q/MFVDQPHUX79UdRtAgoshQGqbx8Bw2k8/fsLdv6bqKUB7t6e/ZJCev6xSFr/O5UFA0KfRPgCLpbxA4yY/+N70wMhJ3cBM3bU/86TswPhqST+tEc0/HG+6P+Y0CEAQxJ0/0J/TwMHYnb369rvAwd2jvf7wVkB4bghA8HgaQJGvFcDY0p7AWBSyvh4+Q0AR4U6/6zXTwCHZyT7hemI/+ArOP/jqfj8ZTNvA8eD4wGAON0ANlMw/ErYRwDi1gz/8ybI/YHxtvpLH279gUAA/2RXBwBgEML/K8au/z190PzGS8L74IEI/2HezP5AarT5NwPA/5FCswA6ftUDyofXADtNDQMWQkEBY87I/EJCQPhdRwMBc3b0/h0L/P/Wi0sCci5tAWj08QMBU6z4AMhq/nIYLQOs138CvMzxAAASaO9Az5z/zXgtALRgfQADOHTxRKSO/NgUzQKFI88D+yaFACEp6P/gJL8DmhgNAuB4AQJDfxT4sdpk/mT35QFQkTkBbj9o/HuPMwCS61T94BObAm6evwIHlJL1A6WRASG7PwPgGUj/SXKRABYSeP9qNxsB72tPApyziv+jOcD+BvHM+dI+OQAB4hrsdVe4/aFwQP8Kk+MDglwy/QWPmwLi3EkAow5s/ATRwP7CHuT/AgDM+PYjOP05wO0A9JXvAgdKlPgDI5DuOTDBAmN/eP49eV0DYRzs/xHSOPyfaf0DdbVVAoKy4QBR3QL8gOy++oL6LPhnYSL8UXEPA7DjGP6Kz6T7gWy4/iEW2Px5fB0AMaFFAhYrvP5x6i0AlPQq/kFfVPrBW4T9OwxLAOYv1wN8WaUCwppZAUC0zQEpAxb+8K4a/n/RzvmhbqEB5keLAgKpnP2/bVUCKsqRAiFkSQEvOTUBoq9A/0GltP4xQmD+uILBAlG/LP5TLQECySDJAoWCqP+ebzsCGoda/AG6jP7XiB0CK7MTATZWGPxCGBT8CBvG9BEH3wADz97zi9N8/KcPcwG3pAb82FEtApAkZQAAYeLseaAVAkGwtP6Flqr84Hfk/fk9FQCHW88ASWDXAzSrBP0m0aj+Dc93AkONRQLb8R8A+/khArNmvP1iqBEBYUJ++yT0JP55pnMAc0QBAwLETPuEwo7783/rAVRvsPybxLEBB+vA/7cdjQIFZ/z8EOAFAOqXLwABdNkBAW78+YoIyQLiW+D+U5rQ/8Bd3P/UEsb97qzhAWWnbvoDjLL0Bags+YGsjP8Q1xT8cl2vAv2CavwLkG0BAKOo97Ggyv3KpwMDkbP7AjBuwwDLEMkCahy5A5qTwwEZ3P0DQPJE+GpAQQLI9lcBg0Qw+1LW2PxhAhUAcAQ5AHz/1P4GOYT6G1xNACgtpP7FaCT9hHmY/nBEaQFIK/cBwujM/NMyDv6wtgT/FYNo/zDNFv3eFx8Dv6sXAW8LnP8AA1j2IBwo/16MIwEA5Cj9A+qO9cK0zP250qUBcVk6/QNH/vWhIGkBRyt4/ZgkEQDgogD9TiwrAKxBFQHD21T6UtAq/FcbFP4C4Uz/SOSvApl7NwH17DsAow9c/TWo2QAgzysAgp48+liM5QML7S0BOuGVAtbBdQFjzOkAJ+N/AOQoJP9DvJ76qQiTAClpBQCRBqMB4U1y/4e6Ev3AzJT/K0QLA/4NeQIHnFj8z49LApoDLQBn958DQbNY+Kt2yvzI+OECQlZI+oNMOPix3RcCRAiJALLSxv3HRZr58JNTAiPm6vroAEECw9tnAbnXWwDWssT+gFplAIH4DPqIA8cAxj/s/Rvw1QLr1EcAwtCFAjK8sQMw+gj/0xihAbkM/QAhbED+YjtTAnl8CQAGgKT245Ec/cnk/QP265z+ISStAAE4fvIorwcBoLJ6+qQ9NP/G8lT5c2m5Ac1lqQADj/7w6erNAUBAbP0KQG0DAszO+6h9QQMAUKj5sN+rATIrFv5C5pj6Yl7g/STTkP1kvHD+EE5A/7FHrwLjiFz9AecXAqAJDP8rkKEDaLYpAXMYjQLKAEEDhjzBAMVfzPoQRqT/l4Bm/FHqZQLGGGz8LFz5A2TNSPwx82MCsxwa/sAx3P+ZUp0AWoOrAS8FFQACZaT6dRszA+PmevtS9/j+U8Yq/jv2Fv/zelj9SsDhAqAUpP9F1bT9gVU5AcFFFQDTEzz/AYae9FOxAvz3kbL+SLtvAIPNXQEGymL6A6zs+IPVLP/TLwz+B18o+0JVDvrM47b8NUALAA3FxQACgTb2ED8fAn18FQDFbTUD50CZAgJaTPyoUq7/Yclg/NBvgP7tn+EAB6cc/UFWkwLMl+sCYdY8/gECOPTgpQED2ScFAroqAQIrF574wSbI/5N3MwIymsj/0wqE/uo/RwO4wFkArnydAdr3NwAiiw8BBQrQ/ptfHwBHGgUCdMbfADB6lQI1c4MDQm+DAwJSaPfHvn76NteQ/ACv/PL7aBkD54d0/YC63wBB6Kj+iYHU+hSCxP4DYlb6AGm0/y2CkQOpDdUD+HT5AQJVfv7qhvkDW/RxAPn+QwGIcwUAducA/OTTmP2K0VUC+LCFAcOniPlTAtD/Dha3A1mZuwDCWGL6eUmhAGlQQQEyFsT+YUCs/+HCVPwjzT78g5fI/sMoPPx7d1MCyNQhAxjaIQODlWEDtQ7w/3dYJQHAhTkCxD1C/MB6dPr9pzMA7/H9AAG+8PTzxtz9TSytA0QRBQPJFKUA621RA3oumQPg7Fz8p6b7AUCw3vrpfGUDANcy/JqAQQE8l5b+5DHY/tEuIQLxQmMA4Kbw/OEofP5AthT543xBAr97yP2cOyL83JTBA61wnQIcRN0ALD/K/GDAbQGA39j6l4+E/bGiEP9z1uz91bprAN5gCQLCllD/beFRAEB5nvyirzsBhn3U/mQDZvqjCz8DTbO4/dFlLQLXz/sDsFYS/Mom6v0GNHkB18FRAKvkiQP80o8BQNJk/mBksQICPED4oquY/AOanPNRQG7+Czh1AUNTvPqAgNUDHs5W/uPyfvzhaIEAAbyE/snDFQMF83D/A1ra9EcUkQCBZKj6MRCBA5cfMvxJG3z+JluzAANn6P9ycnz+l2Kk/X05sPwBTqjx0KXlAPK7TPzEvWb4wBDw/4PTUPzNeD0CI9zY/RAGIv+FjlT6VkOBAkIZyQM8U1L9A2Em+2jAIQJhfYD9oZMY/wbuRPqBxDb61jCRAk25FQI6UH0Bo/9o/BizGwMgQrj/wlqzAGP7XwAAgPjz91x5AnKQpwMTAqD+sSEa/H2+bwGDf2j958lpA2Oi+P9TskT//gtg89TejP0uF5kBo5De/nXPpwBc+bz9hQ+HAYC1jPqBhXz/bxkhAMF19QP78DEBqFpS/iLVIQCC//T9M+YQ/+//gwISWoj+Bd39AQTNLvntk6cCifqtAlC7SP0hdSj841KU/Muw7QCH2IT60JUdAFP7KwLZ9ysCwojm/oCC0vn/3eT+4vhY/sHTGPwFb/D1oRVk/KDSOP6iOqT+MPJBA0vGLv9iXOz+qpt7AIEAZP3jpUj+gZBBAhocmQLQOlz9J06pAwKjkP8iFPD8YVNvAABHZP/6Bhr+M/t5AQCC+wJfLN8AosNk/awljQIDxnr6wv9s/oFYSP5SUocB6uZtA/LoOQCRcGEAigcbAsw+Ev//1i0CWxc7Arvi6wECbA74ZKnM/4B5SP9Pzy8AUkLFAyIJvPxbRgkD4Ms6+lEI7v7+YGkCEXtg/JeoGQPhduUAIywc/zPbVP6T0lD9gHlI/TQUhQE+TDsDoniU/mcABP6osmcC4kTtA0S4DPwROIkAgexBAoJ5HPuWd6cCqoKXAyF1gwLLq7cBASuQ9csuhQIAwiz3wV1U/mso2QE5MPcBxWiC/IEe3P6DY0D+OfzxAob5ZvsVefUBYHrfAWHqtQLb2gL+m1oVAHDVFQID6Rz7AQxw+bNrwP1jR5z8mrb+/F70JQOiEFb9k6cU/67iCwIiUVb8g2xg+GUitP18Aa0BIKDY/44z6PxAKgz4MIQtAYPn7wLgIqT9lTs/As/rKwCE/uD/AQxBAgi8xwAjbqz8+gDvA8DUQPwYt5b/RSO4+/Eccv/gbLD/0tLM/iAMIQPBVTkA0Hvo/FIMJQOBEgj4p0M2/4QxVP+uU2MBBacA9OpLMv04hQEC0/AxA3aNsQMnnDT8LPF1ArezoP9OI9T/sxDxAvG7zP1mGwj901+c/9A0rvzBO78DHkSJAxaf4wDwVuT+YPES/EOSYP8ge4z94LSW/+NS/vmZ0u8DllSi/sU2mP81MxMDy1ou/I1U2QAX0BcA3l0RAMEbbwGTNpz/QzgNANJMswOa210CwS7c/UdU3vm8ALEBAjbg9w1V5QFh17z//53o9wGrePrj1hz8GPARAGWJgPwap2L/epYC/+kIUwMSV4sAgKitAoGZqPli6kz/ble6/6PU8P8dUfz+EjxbAXVvMv6zEBUCk8qjAUCBcvtjo5D8RxZY+x7bewIVSRr9U194/OQvowEBGk72M8BhAsMMRP4x7vz9IV14/sHo9P9y01z/kuy9AWYMOPz7AQEBNs9/AsEUtQPWiwz/qdCRAuFQGP9HlCEA0Vos/bcbVPxCgE0Dda/HA3EOuP7wBmT/A8v6+QMh4P/NsOkCVi1tAM6VUQABfM71g9ss++EDNvuikqD8HopVAm4zDv9Asij8/EeXAZknrwAw7rkDxdntAUrE9QJGenz8cE54/wXtQQJ4dF0Buc6vAonMQQPifij8cxShAoGHxP+GxucBg07U+yJdIP0AQBj64kFI/vU67P/J21cDo1lU/9FhEQGxjxT/YeZFAgWVfvzi/esDNPYI/NJWWv9DwKr7oU1w/BohvQG4LxkB4ShlA8JqEv1TmhL+qeXZAGNFVQLQuzD8Brf+9bW3mPzCu5MBgGp0/jv48QACDoLxPhbPA3tkiQHIcgEBLrrVAQADIwCBHD0B63WpAjWBowO0vtcDw/J5AkANdvuwc9j/8QMY/K0/lwH9ebECF37Y//sDtQOFmCkCAXBRAUGOMQNxbqD/IQhU/WMIUQGqcEkBV0ew/qUphP8mAo0C+ZiJAsB3lvhrnE0BgFuHAaLGSv8zKgT99GFdAVoe4wPBMpT74g5E/TXqrwBR6kEC2+RhAlBauwDxrw8ABgWFAcazNPsLoAUCpI4O+ZMpKv31TP0DgShg+IPMVP8BZEECSHDRA7AWMQDCy4T9gBDw/SNBIQNBIXz+QXs0+PlyEvwQL7j/HIOe+oNxoPqXL7j+/gws/XC7ewIyOlT+Y3rc/yJQkPwgK0cCYo5A/AkNQQBR7AkDwRRG/MYgdvv1N+cCQNog/OG/sP1u7I0AFbRzAHVTXP7SioT8b0XZAFXDSPzV+t7+KvkFAoH3QwPGPzz5pHfI/GMVEP/Rh5T/ACE0/guYtQLXWAb+YxkdAzsbWQBD2E0CAfnQ+wKTiwHalGkABzvi94NpKPtetiEC0MdY/CT8KQGKXxr++5hdAxxjbwIPIur/mXQDAyDIBP2zS5D8bvqRAYj67QAAUqDzBKxq/hy92P5nT3r+8KcQ/RCAoQJAAxb5sGXJArMRJQIDlZL78ZkbAKG2svuASXD5gC9c/QbLxvjSNlkChPRy/U7T1P6gH7D9AWMA+ICAeQHSZOkCA3BA92Cq3P+pulb+4aDFANEc8QJXYvsDUxbQ/vBuFP3HfL74bIWdAgZDGP6I5YD50Nas/fSESv1AWVb44jHi/5AE+v/4yB0Acbe0/laWeP4CLiT65c/HAQu4OQDX1zMCA0O7Aw/wsv9jlz79BaYk+O81wQKAUdT54iQA/cBlTQFCwvcDdedo/0qLCv9KS4MDchvM/3GTCP2bvOcAckDlAyCAqQAr5iEBRPHk/Vv4yQF9DdD56KylA4JCkPwJS6z4UE/Y/9emMPzx4FEC7s8rAUTsNQBMkq79wEMrAwNHYPZbm5sBTZBRAYE+fPvzE1sAwo1dAOBmDQB6plEBex6XAABQuvdiaU0CxxN8/mEpnQJtAVkAXCFdAkGo2v3HsYkBA8dM/wTyyPcgZ2sCIH6NA4FanvuABjT9a29fA8LLBPxn9Ej/4mjhAwMULPgxowD/R65tAl+3rvzyPKkBk//0/2ovWv1Bnwj9Y8bw/AFI6vJiZtMBfRhXANbYvQEQgBEAosK0/sPPIPpYhxsDwZoi/YMCDP2h3z8BV25NA7JUiQGEC1MCyGKRAiDpqQGSQwz/RIu3A5qQeQGFj3z7GwMzAO2QCQAB2Xj/kzM4/kirywIH8fj47/+HAoH1qPjn3kD8E8AXBhOCHQOzkvD98QfXA6HQMwIR0yD8lXKE/3emmP7mi/D/rq4lAgKdDQAocgECKFoi/4IYLQPTptz8VN5lA/e9UQFxM+D/tATS/UF7UvrBBusBI61RAS739vx0MLUDlADRATCApv1Sbiz/pnJg/6LaeP6uMckAAASs/rclnv+77tMCWHgRAmafDvkHF2L22tg5AhT3ZP/lXYD91g6E/PCbtwMKwPUBQKPw+XfyzwEBFdD+cOSa/MDcGvxVGsz/BMAO+fynUwG7LD8DQxxk/XHbQPzy3UkCq0AdAoKw2PuvGOUA/vMDAlhkOQMG4dr9Lkj3A6kMRwBRnjUBhKUY+xyJkPxWzqD9kAhRAAsT+v+DdRj7i4oNAkCiUv3fCFUA9sW2/h0/dwN8ZRkA+YYdAfxlfPvqfbEA0S97A0O9Gv1rsdz+1Y+e/gOewvYpCC0ASnhdArjCfQN/qgsAlB/8/t/IMQIaIA0DorUU/iGknP9z9H78RQOjAUPLaPvRwgT/I1bu+CkrVwJ5Dt8ByhvTAgCg6vdBs4MBAY5g9irSFQMBEc78deNs/pkwlQCMj3cBWAr7Arr5ev1wc1sCwfCRAGfmuviEw8j/GZcXAqnCiQFEgVL+6jA9AgdDoPQnov0Dph60/9ZDYwKisZECRya3AjQNQQB1Ka0Bwi4I/+m9pv2EdWz8Hq+/AGIMNvyk248C+GvPAcN2pP3hyDT9UU44/Ib85PrlUBcGygDBADH6/wAQNmT/6y5S/KYWDP9kM377mYhlAAbLdPVQ/wUBBd5g9dCkzvz21vsBw2iQ/WG82v846sb8mpDtAwGiQP+nEXMCOMvfAKFhKP34BGEAJLN7Aih47QNb6IMC5Xl4/cdM6QL0XoD8OxN/ACDsiP47HM0BsjirAEvTkP1C2T0Coi4A/YOK2P/FA+T4wpS9AJEu+P3BAuj9sqQRAk2L/wNg8bkDJqNPAhk0ZQIHePb3IaLE/HPKwPxEGc0DGbUVAVN02QCquC0BdoURAG3uAwOZtBECylSZAdcvhv9EgZr4XjwvAiJbHPwGqnjymlxhAvHWYQGwBwT+yyAvAgY24PwG0zbyKQ/o/wi4HQFhjlkCQqMDAAXIRPxtGBcA+GrpAmPyxv00ylz+AnXhAi5xxQL5pqUBAiqzAPGscQHZTRMA+DwdAWS4OP0T4mj8XezvAVPxUQPA+rb8Enrq/6ZlbP6q/EsDRI78/6CfiwE3eu8BJhH5AxTT0PwIzGkBBzxw/pDKeP+UXBb90AZI/6HTTP7wKrr/mswNA/Bu3QP9/7DxgwBbA3FKCPwDZtbxIiCo/bM6DwGNGVECJP8U/uq5DQNkNbD+oQd0/qEY8P5TV/z8IGy5AwaCqPp49NkC14t/A5hm9wMiNBz9iWqVA4BaZPgAnkDx4VoO+BEwjQMA+rz/BSFxAfEUjQEafnUCQt60/eMSTPw6sYkCi3N8/OkkQQO+lwMB+UApA0/JIQGHh4z8E4bW/HNYXQGjvnz/3Cl5AVYKRP8C8nL1NgSlA0qDRwPBV4D6I1xk/oM8Pv+rDA8BoWItAYdRvP3hq975IUw9AlZvjP6GSmT5QpSFA4dhcP5MHtcAQNghAMbR2Pww8ScAIaya/cGdmvq+7K0BQzM8/MK7GvgBUqr2+99HAZuazwICpBT54Cbg/oAnpvjBa0D8eBdrAcn6Rv7RaoD9tfd0/gJ+qP8Snyz88ckBA4BmQQNG7/T68R6q/4c9ZPuhkCUAvjTlAFR7nP8DxJD8iSL+/uFihvgC4AEBp7ovAooXkwKN2XEDw9i5A/BUNQKSQqT9/pGM/q0wmQEUg7cAAiM8+IR7bQDQfk8AHqx1Avp0UQICvKL12lFVAgcyKvc2d5sDaTRhAuK8lPz4HEUDhB+zAWpYFQEiWfz8pBtzAqNefQCCzRz7RQMk/oCwCPxm4wz/pJsM/4EQkQOVQhEAsR4o/Zko0QBl/zz/AFqU9oJRTP2AZHb85RnC/WGxTv7quA0DcHZI/fDe9P/PWKECPZY5AbMDVP8Cn4MCZQmlAKJVqQIA5YD+Mo4RAedGGviCQBT5AtwG+MV35vkAzrr7vE3Q/FHvUP0UvDsBYeIu+oa5fPwBzqT1LSoW/y0XmwCtMV0DeuA5AVXkyQKBwsT8oWjA/8NgqQLm9jD/ADD4+foMOQPCV1b6z4srAaHEZPxKUGUAwlGc/H1ZDQLlahr4ANuC/3vlWQFQgyD95Zki/CECjP/FLaD+cseLAyOTcPyYbM0ABzR89nQyDwIC5iUDVhBK/QwCvwL7t48BTLy1AflaYQOrELEAUWb8/LjdaQCxQxsBg4bu+zSscQDOOs8AY3yo/BRqDQFw0OEAEEpU/gpg0QJVniz990fXAOP8RwNTt7L9lj3hAEcuqQDmMV0CgO/q/DFiAP1H2Ir++CcW/d+e1wKnrZj8w1cI+aY1yP5s0GUA+P5BADcNGv6xJpECuhjzAn1a4wIDM/D9xfeg/vZbWwEBloD6uWa3APB8BwcB2Nz5kL3pADOSyPxD2Ab/IfIE/IMgJQPkkq75xSP4+JvcTwFCyFT9wbebA610IQPAeST8OHJZAMJGKvvyJAECpIKLACp49QMrjR0CN9U9A8acdQLKNEUAEXKs/Jw4WQD1XgEDmjpC/4HyUP1CYfj/ymStAWWdEP/88fT+s5Di/wL2hPzEVlb6BpHo9CP60wC0uqsCyIK/AFPuyP5LlikDgjJw+ywDLwB+o6j8MzgfAp/tiP7AEUr7Ysce/cMICQC52EUBFP3hAsqKvwD6li0BossPAoJlHPyhZEkDyls/AwFi8QACXWD+JJNc/9Ou9vwD6K76xfXA//JcBQIX8rMCIQN8/U5OAQIGNr8AB+F8+yh94QNij0z+OmfO/cJWwwM54AkAATG0+zD0lQOG6Yj/wdrE+SJAAQPCpQUChYUpANObowHFRxz6QFMHAcBZyvswgDkBFiUBAZOW0PzGX4T4lX55AGZn8v6bINUAaE0BAiJEEQCXQD7/sahlAUS6bPgSWyj9Kze/AlDKxPzpAEUCQ+Eg/ALNBPQ97vL8cVZA/rjTmwHAsDj/UQeI/ALtwPxUL+j+1Yvw/rLumP6++kT8Bi9E8MPsivkV+TUDc4otApLngP1ECOj9kCRpAmJpLPwD7OD9rxJ/A2fzYPzXm0z8saOrAkNL1PnsKYkCGAfvAyQkxPwC0f7xOTyxAAKs/vaBMzT85wHM/N5lbQPAmJsCn3MrAQDe1P9lOH7/xBLo/4cyGPjzVuT+JSm8/qJExv+A/BkBAvcI+cIeFwIhV9z8Urpo/C3iJv1SllD9YaMY/WFv5wDGTcz+dy7A/QDvJwOv3rUBMjZ2/0Tn5PhxoYUBYbLi+3Zgbv0izjT+cV5A/+SP+P8D90j4A9Yw+OGuSP1DBoT56xFdA6MZKP8AdAD5iKCRAZohOQMBjB77w1dg+vrA8QEA1nz2seT1AIKUbPtQjDEBilLjA",
          "dtype": "f4"
         },
         "yaxis": "y"
        },
        {
         "hovertemplate": "color=Nutlin<br>x=%{x}<br>y=%{y}<extra></extra>",
         "legendgroup": "Nutlin",
         "marker": {
          "color": "#ab63fa",
          "size": 5,
          "symbol": "circle"
         },
         "mode": "markers",
         "name": "Nutlin",
         "showlegend": true,
         "type": "scattergl",
         "x": {
          "bdata": "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",
          "dtype": "f4"
         },
         "xaxis": "x",
         "y": {
          "bdata": "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",
          "dtype": "f4"
         },
         "yaxis": "y"
        },
        {
         "hovertemplate": "color=control<br>x=%{x}<br>y=%{y}<extra></extra>",
         "legendgroup": "control",
         "marker": {
          "color": "#FFA15A",
          "size": 5,
          "symbol": "circle"
         },
         "mode": "markers",
         "name": "control",
         "showlegend": true,
         "type": "scattergl",
         "x": {
          "bdata": "PX46Pos2pr/1Arq+wquzv0vEC8DFE0c/sVv2vgz6pz4kCK0+VukHwJNrDz+0hOo+jjxZv6XShb8bXZS+jtT+v5wlFb4TIEk/Qf1bv82nCUCQ8uS/0RPFPUawGUCm9YO/gVmhQOgmlj1NItm/ZxjiO1x/Jr/5BHa/xMaNv7wVzL/pxQC9j6LWv22GAUARs62/X3gMwChhcT+KoU0/gIOhv/dxv7++Hf2/xGQqvIRGD8BN+b+9aBIZv0loD79J1BhAF9p2wGQpW8B1Jou/0Jmbv9SpO7/4/jhA2aXvv7rABMC56Za+dAyCQGISsj7z71A/7AM1v6omLL7So5a+1pXrPIae9r81l7G/0bq9vxZy4L+at6a/mWJtPiFSnL8mUgq/iIIcPcc63r8PVdK/un7aPxTA+r4iWcS/+ZHCvz7WHMBXjNQ/KUTsv5oKzb/1iSU+XlyWv3ATab+XJgW/ciLEv5gZKz+RkPW/zb2Sv2Nax784CBvAtAKWv7lJyb/d592/Aql5QGiyW78ep6+/CUQ1vwLBlr6lbyvAnhhVvyLIMb95wTVAzStxv71xR79Gg5K+Qqjcv3Bkdr9ZNbK/yjHSv4EKIL8dyQu/VW1XQJe/l7/ROxbASqPevxcOEcC4v0nA62Jev2JhCcBbZT9ADna1v7kIl75cGaW/r4QAwLeYOL/9pX7AVHCIv0+MgL94HxlATEyIQPMylz47vMK/+jDsP8c8Kr/NKci/YZOhvs+2N79y8yVAppx9QNomFMDBkYQ9DM4svyfDgED0ntW/XYtEvgo5G8AchGbAWnskvxXPv75llC+/+2bSv0Qk/z/FhwRA+icJwPDzwb6cQx+/WUYNvxcASb/W9ua/rK0qwMhxw709wVpAS+8+v/oiub/+cXC/QDQiwN7OzL/eK50+y1m3vwAJIMCGHwPAMwYFwJVrwr2t7r2+GDfKvyv8FT9jrC6/iaJ0vzJZ374AdWk+gElBwA2Kmb7PDMC/JiYJwJ9vPL9rtJC/Ej7Sv94EcD+MtU0/q2Afv6zN+L8N5Q5AxKeUv4kyc8Ac/Im/Edasv6GlK8AgHx2/5WeQP92c/bsUIXq/NOIdwK+GAr+E2L2/Q1xvvsxpo7+qw2y+dZ/Fv0COj71fJtS/NIXfv027GL+zZYm/Tnbmv/K4HcAlL0RA+S3HPlmpnb/ZQh/AfQFrv7WfQL8dUrO/eg5pv3IPx7/ecs6/IYmuvk4HE8EBBQG/8frAvvArGr+ZS6+/zdEQv+Wkgb3aovy+e7SVPjZlHcA2R4W+5gH7vvio1b+EMAE/jbTDv81Yeb9aN6G//iqcOkVM1L+j0Oq++uFJv0vNdb9vpgJA1jzGv76WKkDBnaO/SH4LwNlwJsC5CTm/ZOSnv3bdIr+oAc+/AzDXv1i/D794Csu//78uvw8DoD9fc3W/+hdywIm9UT8jPWjAk0R2wBFfc78H/dW/7KwMwJWLmr/ZsHC/DEGYvzLkzL7QZllAL4aZv2dn7L8lLAPAqfaRvjltv7/IFd2/UMgYwNGDBL/E0su+PjJMvyJMGcDedFc/UPmXv1loCr/K24q/qNRSv7nVb79PbEK/AV5Yvy646r+WH6W/zauYv8G0ur5blwRAurE5vmCgxb81rDq/BqcSv8LtfL/hwnK+SvN9PiXF0r9zIXC/Fw9vQNBaaUD9V0o/mUyYPr04akD6QDxAiDYFwLHzLL8H8Ou/kJ2LPlvymb+PDeO/kRbsvvLgjb8bvRO/H8QdvyEFW0Ck4na/w1LWPpStrr5U8Yu/gr4vwCxzWb84gX4/Xc1dv5vwpL+lyg/AlVEGwCsc3b8Z35c9xwYIvUz+A75clAXAxgupPoRmXr9rOGi+ftS1vztWTLnEEGY/9+DYP16XjEAFADe/rmYMwNHIJL+E111AN9wgQORRKz/aJqM/hhppv8dGdMDa2/Q+51ygv+MP6L9p5OS/0B/RvyYJd0Bm7h3A0QnRPw==",
          "dtype": "f4"
         },
         "xaxis": "x",
         "y": {
          "bdata": "wCfrwCtPxcBnDdbAvULAwEy7zcDN4ao/lVHEwC4S2cCfAO8++qPdwK6m0cCIQ9/AQl+6wOUM98D2A97AUyS+wMBj08CDxuO/byIBweDXrb5gau3AB4bdwOXI3kDpZLTAnBWZP9LH08BL88XAgubSwKb1v8A9h9jA8snpwISxusC5sbXAec/VwFsbAkDsA8vA7R6lwNkSt8CjnLfA9NbhwKjQ3sDDdMrA0mrTwKmK58Aaj97A4JjKwIofycALbKm/oZnIwE6tyMDgBgbBfKvgwFhoi8DAXzZAvqjZwKZtxsBIQsjA6G4tQL7n08BMqMvAOPeqwK1b+sDczMTA7FbAwFfNvMBvzLzA20/9wKFJ5sDXV8XA/QrCwGX6zcCo5ZnAHcnPwFcoysCps77Aa60VwMCdDMHLKdHA4tuzwIGL58Blh5LAD43XwIozhsAtIvjAiObLwAsGmcCy++zA37/gwDnUr8CRm8HAwjTFwIBxv8A6TPLAEfXGwKPfuMDVdrbAAMSYO72XwsD49wHB/MrCwHwsw8AZNMbAyBXYwMt08sDm/kpAxmzlwLDjusBPjfPAh+nAwC34zMDhwq/AdwXfwBwFpMCH2N3AAHaxvDzis8Aop9vABNftwMTN0sAPwtbAnSzuwNt0wMD4ZLo/Me63wIKmBMGz3v/AP0znwN6c1MDq5dLACmLXwLTiqsBlvxzAxC0qv0lEuMC7es7AJG9GQPSYzMAENuHAy7PowNt3xsCYqqA/LJKDP4c+z8BE0u/AdI3bwBdmkb9kPtvAj9H0wNeOsMC5YuDAxMvWwHzO98BY0trALD7owBxYSL9Y7XDAbjzEwKR47MA94ATBmEjewOxLzcBcv+PA7UKvwI8SocAaLKNAeM/IwH3x0cCe3dnA4nnRwPa108DWocfASA64wLJL0sCPF9nAebWxwPzu1sBk0P3AraDHwDs4zsCAu8HAHqHbwCfUwsCIBYY/XabKwCLvt8AtzOLAMHbBwPuX6MAqVLnAO5HQwDjyvj9EKrxA32XJwJKAxMDG3BpAEA3hwOLRysCals3ANxDbwENe6sDZEOfAgOFePhzX3sDDw77A7OS8wGz908CmjcjAyu/CwO8nxsDkjtjAUhAEwZBby8BMSvLALoHUwMgE5MBF3+HAfgGTwB55wcB3vUjA5krSwL9/s8AzDtnAfjICwVy63MB1wMbATDz/QHwE+sAcss/Ai/zEwE7Z1L/xquHATC7iwDNF/8Dm1sXA5HK9wP/25sDmy57ASmjawEfOx8D1P9HAiFyywNC3/sB8ptDAnVrQwOGRtsCkAA3BsNK1wGSl68C7V9zAt8a4wK1IscAke8U/NWTnwLSeFcBMG9/Agmi/wNkX7cCtI73AZh0FwYk228Cmud3Aq3XZwNN9xsAhXu/Az+DtwKGgqkB4AFq/Jn7WwN/NvsABXPHAY6zmwMTyzsCeJfvADLbGwMzZtsBCaejAqqXKwOChzj6wesc+ACwJwbSx28DswrHA6VKiwJ9oCMFxJsTACNLAwPe458Bwtrm+gtDewHCyvMD+heDAvBi1wGiM+8Dgo97AMZ/lwFTIssBSjtDAuHWzwPkVxMCbdMbAJ8XgwLNNyMBoPbZAj2SSwH35tcCGnejAfMbUwIdXmMCC7sfAj5nhwMVg0sBcFtPAXOArwDHvED8Fs+bAaI3zwGCYSz4KTyXARyLMwBbB4MBdZvTAfk3JwI2WzMDIRNbA+CHowKCb18B6rc7AwympwLMxCcB9fMvA0gnbwLi31MDeQMHA8kPKwDKv5sByr+S/4ET3wKAi2cDkSNPAbCzVwDKas8BaTsPArmXpwLeQ9sD/qtHAoBvqwBbh58BpSRnAKd7LwLvy4MDbk31AvAyhwICvGD51EvPAURm3wBBp58BAkZm+Pw7qvV5u28D4eIe+yTLdwOqassBAfS9Asma1wPwf5MD4FdvAlTDIwMz7EsC/77rAcCmCPg==",
          "dtype": "f4"
         },
         "yaxis": "y"
        }
       ],
       "layout": {
        "height": 600,
        "legend": {
         "title": {
          "text": "color"
         },
         "tracegroupgap": 0
        },
        "margin": {
         "t": 60
        },
        "template": {
         "data": {
          "bar": [
           {
            "error_x": {
             "color": "#2a3f5f"
            },
            "error_y": {
             "color": "#2a3f5f"
            },
            "marker": {
             "line": {
              "color": "#E5ECF6",
              "width": 0.5
             },
             "pattern": {
              "fillmode": "overlay",
              "size": 10,
              "solidity": 0.2
             }
            },
            "type": "bar"
           }
          ],
          "barpolar": [
           {
            "marker": {
             "line": {
              "color": "#E5ECF6",
              "width": 0.5
             },
             "pattern": {
              "fillmode": "overlay",
              "size": 10,
              "solidity": 0.2
             }
            },
            "type": "barpolar"
           }
          ],
          "carpet": [
           {
            "aaxis": {
             "endlinecolor": "#2a3f5f",
             "gridcolor": "white",
             "linecolor": "white",
             "minorgridcolor": "white",
             "startlinecolor": "#2a3f5f"
            },
            "baxis": {
             "endlinecolor": "#2a3f5f",
             "gridcolor": "white",
             "linecolor": "white",
             "minorgridcolor": "white",
             "startlinecolor": "#2a3f5f"
            },
            "type": "carpet"
           }
          ],
          "choropleth": [
           {
            "colorbar": {
             "outlinewidth": 0,
             "ticks": ""
            },
            "type": "choropleth"
           }
          ],
          "contour": [
           {
            "colorbar": {
             "outlinewidth": 0,
             "ticks": ""
            },
            "colorscale": [
             [
              0,
              "#0d0887"
             ],
             [
              0.1111111111111111,
              "#46039f"
             ],
             [
              0.2222222222222222,
              "#7201a8"
             ],
             [
              0.3333333333333333,
              "#9c179e"
             ],
             [
              0.4444444444444444,
              "#bd3786"
             ],
             [
              0.5555555555555556,
              "#d8576b"
             ],
             [
              0.6666666666666666,
              "#ed7953"
             ],
             [
              0.7777777777777778,
              "#fb9f3a"
             ],
             [
              0.8888888888888888,
              "#fdca26"
             ],
             [
              1,
              "#f0f921"
             ]
            ],
            "type": "contour"
           }
          ],
          "contourcarpet": [
           {
            "colorbar": {
             "outlinewidth": 0,
             "ticks": ""
            },
            "type": "contourcarpet"
           }
          ],
          "heatmap": [
           {
            "colorbar": {
             "outlinewidth": 0,
             "ticks": ""
            },
            "colorscale": [
             [
              0,
              "#0d0887"
             ],
             [
              0.1111111111111111,
              "#46039f"
             ],
             [
              0.2222222222222222,
              "#7201a8"
             ],
             [
              0.3333333333333333,
              "#9c179e"
             ],
             [
              0.4444444444444444,
              "#bd3786"
             ],
             [
              0.5555555555555556,
              "#d8576b"
             ],
             [
              0.6666666666666666,
              "#ed7953"
             ],
             [
              0.7777777777777778,
              "#fb9f3a"
             ],
             [
              0.8888888888888888,
              "#fdca26"
             ],
             [
              1,
              "#f0f921"
             ]
            ],
            "type": "heatmap"
           }
          ],
          "histogram": [
           {
            "marker": {
             "pattern": {
              "fillmode": "overlay",
              "size": 10,
              "solidity": 0.2
             }
            },
            "type": "histogram"
           }
          ],
          "histogram2d": [
           {
            "colorbar": {
             "outlinewidth": 0,
             "ticks": ""
            },
            "colorscale": [
             [
              0,
              "#0d0887"
             ],
             [
              0.1111111111111111,
              "#46039f"
             ],
             [
              0.2222222222222222,
              "#7201a8"
             ],
             [
              0.3333333333333333,
              "#9c179e"
             ],
             [
              0.4444444444444444,
              "#bd3786"
             ],
             [
              0.5555555555555556,
              "#d8576b"
             ],
             [
              0.6666666666666666,
              "#ed7953"
             ],
             [
              0.7777777777777778,
              "#fb9f3a"
             ],
             [
              0.8888888888888888,
              "#fdca26"
             ],
             [
              1,
              "#f0f921"
             ]
            ],
            "type": "histogram2d"
           }
          ],
          "histogram2dcontour": [
           {
            "colorbar": {
             "outlinewidth": 0,
             "ticks": ""
            },
            "colorscale": [
             [
              0,
              "#0d0887"
             ],
             [
              0.1111111111111111,
              "#46039f"
             ],
             [
              0.2222222222222222,
              "#7201a8"
             ],
             [
              0.3333333333333333,
              "#9c179e"
             ],
             [
              0.4444444444444444,
              "#bd3786"
             ],
             [
              0.5555555555555556,
              "#d8576b"
             ],
             [
              0.6666666666666666,
              "#ed7953"
             ],
             [
              0.7777777777777778,
              "#fb9f3a"
             ],
             [
              0.8888888888888888,
              "#fdca26"
             ],
             [
              1,
              "#f0f921"
             ]
            ],
            "type": "histogram2dcontour"
           }
          ],
          "mesh3d": [
           {
            "colorbar": {
             "outlinewidth": 0,
             "ticks": ""
            },
            "type": "mesh3d"
           }
          ],
          "parcoords": [
           {
            "line": {
             "colorbar": {
              "outlinewidth": 0,
              "ticks": ""
             }
            },
            "type": "parcoords"
           }
          ],
          "pie": [
           {
            "automargin": true,
            "type": "pie"
           }
          ],
          "scatter": [
           {
            "fillpattern": {
             "fillmode": "overlay",
             "size": 10,
             "solidity": 0.2
            },
            "type": "scatter"
           }
          ],
          "scatter3d": [
           {
            "line": {
             "colorbar": {
              "outlinewidth": 0,
              "ticks": ""
             }
            },
            "marker": {
             "colorbar": {
              "outlinewidth": 0,
              "ticks": ""
             }
            },
            "type": "scatter3d"
           }
          ],
          "scattercarpet": [
           {
            "marker": {
             "colorbar": {
              "outlinewidth": 0,
              "ticks": ""
             }
            },
            "type": "scattercarpet"
           }
          ],
          "scattergeo": [
           {
            "marker": {
             "colorbar": {
              "outlinewidth": 0,
              "ticks": ""
             }
            },
            "type": "scattergeo"
           }
          ],
          "scattergl": [
           {
            "marker": {
             "colorbar": {
              "outlinewidth": 0,
              "ticks": ""
             }
            },
            "type": "scattergl"
           }
          ],
          "scattermap": [
           {
            "marker": {
             "colorbar": {
              "outlinewidth": 0,
              "ticks": ""
             }
            },
            "type": "scattermap"
           }
          ],
          "scattermapbox": [
           {
            "marker": {
             "colorbar": {
              "outlinewidth": 0,
              "ticks": ""
             }
            },
            "type": "scattermapbox"
           }
          ],
          "scatterpolar": [
           {
            "marker": {
             "colorbar": {
              "outlinewidth": 0,
              "ticks": ""
             }
            },
            "type": "scatterpolar"
           }
          ],
          "scatterpolargl": [
           {
            "marker": {
             "colorbar": {
              "outlinewidth": 0,
              "ticks": ""
             }
            },
            "type": "scatterpolargl"
           }
          ],
          "scatterternary": [
           {
            "marker": {
             "colorbar": {
              "outlinewidth": 0,
              "ticks": ""
             }
            },
            "type": "scatterternary"
           }
          ],
          "surface": [
           {
            "colorbar": {
             "outlinewidth": 0,
             "ticks": ""
            },
            "colorscale": [
             [
              0,
              "#0d0887"
             ],
             [
              0.1111111111111111,
              "#46039f"
             ],
             [
              0.2222222222222222,
              "#7201a8"
             ],
             [
              0.3333333333333333,
              "#9c179e"
             ],
             [
              0.4444444444444444,
              "#bd3786"
             ],
             [
              0.5555555555555556,
              "#d8576b"
             ],
             [
              0.6666666666666666,
              "#ed7953"
             ],
             [
              0.7777777777777778,
              "#fb9f3a"
             ],
             [
              0.8888888888888888,
              "#fdca26"
             ],
             [
              1,
              "#f0f921"
             ]
            ],
            "type": "surface"
           }
          ],
          "table": [
           {
            "cells": {
             "fill": {
              "color": "#EBF0F8"
             },
             "line": {
              "color": "white"
             }
            },
            "header": {
             "fill": {
              "color": "#C8D4E3"
             },
             "line": {
              "color": "white"
             }
            },
            "type": "table"
           }
          ]
         },
         "layout": {
          "annotationdefaults": {
           "arrowcolor": "#2a3f5f",
           "arrowhead": 0,
           "arrowwidth": 1
          },
          "autotypenumbers": "strict",
          "coloraxis": {
           "colorbar": {
            "outlinewidth": 0,
            "ticks": ""
           }
          },
          "colorscale": {
           "diverging": [
            [
             0,
             "#8e0152"
            ],
            [
             0.1,
             "#c51b7d"
            ],
            [
             0.2,
             "#de77ae"
            ],
            [
             0.3,
             "#f1b6da"
            ],
            [
             0.4,
             "#fde0ef"
            ],
            [
             0.5,
             "#f7f7f7"
            ],
            [
             0.6,
             "#e6f5d0"
            ],
            [
             0.7,
             "#b8e186"
            ],
            [
             0.8,
             "#7fbc41"
            ],
            [
             0.9,
             "#4d9221"
            ],
            [
             1,
             "#276419"
            ]
           ],
           "sequential": [
            [
             0,
             "#0d0887"
            ],
            [
             0.1111111111111111,
             "#46039f"
            ],
            [
             0.2222222222222222,
             "#7201a8"
            ],
            [
             0.3333333333333333,
             "#9c179e"
            ],
            [
             0.4444444444444444,
             "#bd3786"
            ],
            [
             0.5555555555555556,
             "#d8576b"
            ],
            [
             0.6666666666666666,
             "#ed7953"
            ],
            [
             0.7777777777777778,
             "#fb9f3a"
            ],
            [
             0.8888888888888888,
             "#fdca26"
            ],
            [
             1,
             "#f0f921"
            ]
           ],
           "sequentialminus": [
            [
             0,
             "#0d0887"
            ],
            [
             0.1111111111111111,
             "#46039f"
            ],
            [
             0.2222222222222222,
             "#7201a8"
            ],
            [
             0.3333333333333333,
             "#9c179e"
            ],
            [
             0.4444444444444444,
             "#bd3786"
            ],
            [
             0.5555555555555556,
             "#d8576b"
            ],
            [
             0.6666666666666666,
             "#ed7953"
            ],
            [
             0.7777777777777778,
             "#fb9f3a"
            ],
            [
             0.8888888888888888,
             "#fdca26"
            ],
            [
             1,
             "#f0f921"
            ]
           ]
          },
          "colorway": [
           "#636efa",
           "#EF553B",
           "#00cc96",
           "#ab63fa",
           "#FFA15A",
           "#19d3f3",
           "#FF6692",
           "#B6E880",
           "#FF97FF",
           "#FECB52"
          ],
          "font": {
           "color": "#2a3f5f"
          },
          "geo": {
           "bgcolor": "white",
           "lakecolor": "white",
           "landcolor": "#E5ECF6",
           "showlakes": true,
           "showland": true,
           "subunitcolor": "white"
          },
          "hoverlabel": {
           "align": "left"
          },
          "hovermode": "closest",
          "mapbox": {
           "style": "light"
          },
          "paper_bgcolor": "white",
          "plot_bgcolor": "#E5ECF6",
          "polar": {
           "angularaxis": {
            "gridcolor": "white",
            "linecolor": "white",
            "ticks": ""
           },
           "bgcolor": "#E5ECF6",
           "radialaxis": {
            "gridcolor": "white",
            "linecolor": "white",
            "ticks": ""
           }
          },
          "scene": {
           "xaxis": {
            "backgroundcolor": "#E5ECF6",
            "gridcolor": "white",
            "gridwidth": 2,
            "linecolor": "white",
            "showbackground": true,
            "ticks": "",
            "zerolinecolor": "white"
           },
           "yaxis": {
            "backgroundcolor": "#E5ECF6",
            "gridcolor": "white",
            "gridwidth": 2,
            "linecolor": "white",
            "showbackground": true,
            "ticks": "",
            "zerolinecolor": "white"
           },
           "zaxis": {
            "backgroundcolor": "#E5ECF6",
            "gridcolor": "white",
            "gridwidth": 2,
            "linecolor": "white",
            "showbackground": true,
            "ticks": "",
            "zerolinecolor": "white"
           }
          },
          "shapedefaults": {
           "line": {
            "color": "#2a3f5f"
           }
          },
          "ternary": {
           "aaxis": {
            "gridcolor": "white",
            "linecolor": "white",
            "ticks": ""
           },
           "baxis": {
            "gridcolor": "white",
            "linecolor": "white",
            "ticks": ""
           },
           "bgcolor": "#E5ECF6",
           "caxis": {
            "gridcolor": "white",
            "linecolor": "white",
            "ticks": ""
           }
          },
          "title": {
           "x": 0.05
          },
          "xaxis": {
           "automargin": true,
           "gridcolor": "white",
           "linecolor": "white",
           "ticks": "",
           "title": {
            "standoff": 15
           },
           "zerolinecolor": "white",
           "zerolinewidth": 2
          },
          "yaxis": {
           "automargin": true,
           "gridcolor": "white",
           "linecolor": "white",
           "ticks": "",
           "title": {
            "standoff": 15
           },
           "zerolinecolor": "white",
           "zerolinewidth": 2
          }
         }
        },
        "width": 600,
        "xaxis": {
         "anchor": "y",
         "domain": [
          0,
          1
         ],
         "title": {
          "text": "x"
         }
        },
        "yaxis": {
         "anchor": "x",
         "domain": [
          0,
          1
         ],
         "title": {
          "text": "y"
         }
        }
       }
      }
     },
     "metadata": {},
     "output_type": "display_data"
    },
    {
     "data": {
      "application/vnd.plotly.v1+json": {
       "config": {
        "plotlyServerURL": "https://plot.ly"
       },
       "data": [
        {
         "hovertemplate": "color=BMS<br>x=%{x}<br>y=%{y}<extra></extra>",
         "legendgroup": "BMS",
         "marker": {
          "color": "#636efa",
          "size": 5,
          "symbol": "circle"
         },
         "mode": "markers",
         "name": "BMS",
         "showlegend": true,
         "type": "scattergl",
         "x": {
          "bdata": "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",
          "dtype": "f4"
         },
         "xaxis": "x",
         "y": {
          "bdata": "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",
          "dtype": "f4"
         },
         "yaxis": "y"
        },
        {
         "hovertemplate": "color=Dex<br>x=%{x}<br>y=%{y}<extra></extra>",
         "legendgroup": "Dex",
         "marker": {
          "color": "#EF553B",
          "size": 5,
          "symbol": "circle"
         },
         "mode": "markers",
         "name": "Dex",
         "showlegend": true,
         "type": "scattergl",
         "x": {
          "bdata": "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",
          "dtype": "f4"
         },
         "xaxis": "x",
         "y": {
          "bdata": "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",
          "dtype": "f4"
         },
         "yaxis": "y"
        },
        {
         "hovertemplate": "color=Nutlin<br>x=%{x}<br>y=%{y}<extra></extra>",
         "legendgroup": "Nutlin",
         "marker": {
          "color": "#00cc96",
          "size": 5,
          "symbol": "circle"
         },
         "mode": "markers",
         "name": "Nutlin",
         "showlegend": true,
         "type": "scattergl",
         "x": {
          "bdata": "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",
          "dtype": "f4"
         },
         "xaxis": "x",
         "y": {
          "bdata": "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",
          "dtype": "f4"
         },
         "yaxis": "y"
        },
        {
         "hovertemplate": "color=SAHA<br>x=%{x}<br>y=%{y}<extra></extra>",
         "legendgroup": "SAHA",
         "marker": {
          "color": "#ab63fa",
          "size": 5,
          "symbol": "circle"
         },
         "mode": "markers",
         "name": "SAHA",
         "showlegend": true,
         "type": "scattergl",
         "x": {
          "bdata": "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",
          "dtype": "f4"
         },
         "xaxis": "x",
         "y": {
          "bdata": "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",
          "dtype": "f4"
         },
         "yaxis": "y"
        },
        {
         "hovertemplate": "color=control<br>x=%{x}<br>y=%{y}<extra></extra>",
         "legendgroup": "control",
         "marker": {
          "color": "#FFA15A",
          "size": 5,
          "symbol": "circle"
         },
         "mode": "markers",
         "name": "control",
         "showlegend": true,
         "type": "scattergl",
         "x": {
          "bdata": "Gm/rv42kFcBPayXACgQIQLSuSMC5HzbAzljrv6DbDsA3rKVAZLWgvyBRuL/TTCDAe9p6v0z0o7/EEYfAm5YowM8rGMA2cGDApLk5QC9aF8COwELAr5cbQH1luT6fcXHAcWv4v0gRuL8ZYvO/LOnrvz3qUD9WatU/dur0v3u0BkDCSc2/Rn43wGOrDMBscGLAWaIOwM2nK8A14dK/0aqsv7lPDcDuhgDAIRu/v4IlgL//nau/xHtEQHGgT8ARZwNAypgMvzqMlL+W7QnAm7xKQLUKUcAb3bTAq/VLwN3UVcAfOCXAWJkywP+XGcBmeiTAS0QQwNepPD5Gzqe/twomvzWuY0CEwqq/jM6QwHAqs7/JrxrAUMpJQDD1uL8GjxbAPRHJv0UHT8BbOxrA7scNwGpcqMA7YEnAkp8WwCzabMCcSj/BKmbrv2hZUkB1hi/A4mIWQA==",
          "dtype": "f4"
         },
         "xaxis": "x",
         "y": {
          "bdata": "zNTCwA3eysB3vazAxW/9PvcoyMAD9LLAXwDiwNvFosCA2YxA07fPwPcimsBsosbAy0zVwAOk98BwsrPAUmTPwM+47MD42ZjA7AeXQFHP1sBIKMTAAd18vyElEEC3IOfABxHLwCX10sBoM8XACtvawGEVs78cyalAaI3UwENUtb8ssMrAVS2qwMfw2MASJvfACujowIPLz8AXqOLAAR6kwNdvwMCvs5vAWdzqwHgX4MDQlcPAwGGMv3XE0MDwgIDAtOC1wNlgusDfu9bAw4F6P4qkpcC0W9vAlTKuwFsx0cAHgpbA4q3jwGt5LcBfz+zAWFG4wKlW9cAspoHAR9LiwC0PhL4QvejALhSzwFiSx8DfwNPAGML2P5GmxsBuutjAHcmkwFCGssDxAavAZQ2bwAHPocA10unAQefCwFAJ0rvSWI9AegC6wLoqwrx+JszAgLFRPw==",
          "dtype": "f4"
         },
         "yaxis": "y"
        }
       ],
       "layout": {
        "height": 600,
        "legend": {
         "title": {
          "text": "color"
         },
         "tracegroupgap": 0
        },
        "margin": {
         "t": 60
        },
        "template": {
         "data": {
          "bar": [
           {
            "error_x": {
             "color": "#2a3f5f"
            },
            "error_y": {
             "color": "#2a3f5f"
            },
            "marker": {
             "line": {
              "color": "#E5ECF6",
              "width": 0.5
             },
             "pattern": {
              "fillmode": "overlay",
              "size": 10,
              "solidity": 0.2
             }
            },
            "type": "bar"
           }
          ],
          "barpolar": [
           {
            "marker": {
             "line": {
              "color": "#E5ECF6",
              "width": 0.5
             },
             "pattern": {
              "fillmode": "overlay",
              "size": 10,
              "solidity": 0.2
             }
            },
            "type": "barpolar"
           }
          ],
          "carpet": [
           {
            "aaxis": {
             "endlinecolor": "#2a3f5f",
             "gridcolor": "white",
             "linecolor": "white",
             "minorgridcolor": "white",
             "startlinecolor": "#2a3f5f"
            },
            "baxis": {
             "endlinecolor": "#2a3f5f",
             "gridcolor": "white",
             "linecolor": "white",
             "minorgridcolor": "white",
             "startlinecolor": "#2a3f5f"
            },
            "type": "carpet"
           }
          ],
          "choropleth": [
           {
            "colorbar": {
             "outlinewidth": 0,
             "ticks": ""
            },
            "type": "choropleth"
           }
          ],
          "contour": [
           {
            "colorbar": {
             "outlinewidth": 0,
             "ticks": ""
            },
            "colorscale": [
             [
              0,
              "#0d0887"
             ],
             [
              0.1111111111111111,
              "#46039f"
             ],
             [
              0.2222222222222222,
              "#7201a8"
             ],
             [
              0.3333333333333333,
              "#9c179e"
             ],
             [
              0.4444444444444444,
              "#bd3786"
             ],
             [
              0.5555555555555556,
              "#d8576b"
             ],
             [
              0.6666666666666666,
              "#ed7953"
             ],
             [
              0.7777777777777778,
              "#fb9f3a"
             ],
             [
              0.8888888888888888,
              "#fdca26"
             ],
             [
              1,
              "#f0f921"
             ]
            ],
            "type": "contour"
           }
          ],
          "contourcarpet": [
           {
            "colorbar": {
             "outlinewidth": 0,
             "ticks": ""
            },
            "type": "contourcarpet"
           }
          ],
          "heatmap": [
           {
            "colorbar": {
             "outlinewidth": 0,
             "ticks": ""
            },
            "colorscale": [
             [
              0,
              "#0d0887"
             ],
             [
              0.1111111111111111,
              "#46039f"
             ],
             [
              0.2222222222222222,
              "#7201a8"
             ],
             [
              0.3333333333333333,
              "#9c179e"
             ],
             [
              0.4444444444444444,
              "#bd3786"
             ],
             [
              0.5555555555555556,
              "#d8576b"
             ],
             [
              0.6666666666666666,
              "#ed7953"
             ],
             [
              0.7777777777777778,
              "#fb9f3a"
             ],
             [
              0.8888888888888888,
              "#fdca26"
             ],
             [
              1,
              "#f0f921"
             ]
            ],
            "type": "heatmap"
           }
          ],
          "histogram": [
           {
            "marker": {
             "pattern": {
              "fillmode": "overlay",
              "size": 10,
              "solidity": 0.2
             }
            },
            "type": "histogram"
           }
          ],
          "histogram2d": [
           {
            "colorbar": {
             "outlinewidth": 0,
             "ticks": ""
            },
            "colorscale": [
             [
              0,
              "#0d0887"
             ],
             [
              0.1111111111111111,
              "#46039f"
             ],
             [
              0.2222222222222222,
              "#7201a8"
             ],
             [
              0.3333333333333333,
              "#9c179e"
             ],
             [
              0.4444444444444444,
              "#bd3786"
             ],
             [
              0.5555555555555556,
              "#d8576b"
             ],
             [
              0.6666666666666666,
              "#ed7953"
             ],
             [
              0.7777777777777778,
              "#fb9f3a"
             ],
             [
              0.8888888888888888,
              "#fdca26"
             ],
             [
              1,
              "#f0f921"
             ]
            ],
            "type": "histogram2d"
           }
          ],
          "histogram2dcontour": [
           {
            "colorbar": {
             "outlinewidth": 0,
             "ticks": ""
            },
            "colorscale": [
             [
              0,
              "#0d0887"
             ],
             [
              0.1111111111111111,
              "#46039f"
             ],
             [
              0.2222222222222222,
              "#7201a8"
             ],
             [
              0.3333333333333333,
              "#9c179e"
             ],
             [
              0.4444444444444444,
              "#bd3786"
             ],
             [
              0.5555555555555556,
              "#d8576b"
             ],
             [
              0.6666666666666666,
              "#ed7953"
             ],
             [
              0.7777777777777778,
              "#fb9f3a"
             ],
             [
              0.8888888888888888,
              "#fdca26"
             ],
             [
              1,
              "#f0f921"
             ]
            ],
            "type": "histogram2dcontour"
           }
          ],
          "mesh3d": [
           {
            "colorbar": {
             "outlinewidth": 0,
             "ticks": ""
            },
            "type": "mesh3d"
           }
          ],
          "parcoords": [
           {
            "line": {
             "colorbar": {
              "outlinewidth": 0,
              "ticks": ""
             }
            },
            "type": "parcoords"
           }
          ],
          "pie": [
           {
            "automargin": true,
            "type": "pie"
           }
          ],
          "scatter": [
           {
            "fillpattern": {
             "fillmode": "overlay",
             "size": 10,
             "solidity": 0.2
            },
            "type": "scatter"
           }
          ],
          "scatter3d": [
           {
            "line": {
             "colorbar": {
              "outlinewidth": 0,
              "ticks": ""
             }
            },
            "marker": {
             "colorbar": {
              "outlinewidth": 0,
              "ticks": ""
             }
            },
            "type": "scatter3d"
           }
          ],
          "scattercarpet": [
           {
            "marker": {
             "colorbar": {
              "outlinewidth": 0,
              "ticks": ""
             }
            },
            "type": "scattercarpet"
           }
          ],
          "scattergeo": [
           {
            "marker": {
             "colorbar": {
              "outlinewidth": 0,
              "ticks": ""
             }
            },
            "type": "scattergeo"
           }
          ],
          "scattergl": [
           {
            "marker": {
             "colorbar": {
              "outlinewidth": 0,
              "ticks": ""
             }
            },
            "type": "scattergl"
           }
          ],
          "scattermap": [
           {
            "marker": {
             "colorbar": {
              "outlinewidth": 0,
              "ticks": ""
             }
            },
            "type": "scattermap"
           }
          ],
          "scattermapbox": [
           {
            "marker": {
             "colorbar": {
              "outlinewidth": 0,
              "ticks": ""
             }
            },
            "type": "scattermapbox"
           }
          ],
          "scatterpolar": [
           {
            "marker": {
             "colorbar": {
              "outlinewidth": 0,
              "ticks": ""
             }
            },
            "type": "scatterpolar"
           }
          ],
          "scatterpolargl": [
           {
            "marker": {
             "colorbar": {
              "outlinewidth": 0,
              "ticks": ""
             }
            },
            "type": "scatterpolargl"
           }
          ],
          "scatterternary": [
           {
            "marker": {
             "colorbar": {
              "outlinewidth": 0,
              "ticks": ""
             }
            },
            "type": "scatterternary"
           }
          ],
          "surface": [
           {
            "colorbar": {
             "outlinewidth": 0,
             "ticks": ""
            },
            "colorscale": [
             [
              0,
              "#0d0887"
             ],
             [
              0.1111111111111111,
              "#46039f"
             ],
             [
              0.2222222222222222,
              "#7201a8"
             ],
             [
              0.3333333333333333,
              "#9c179e"
             ],
             [
              0.4444444444444444,
              "#bd3786"
             ],
             [
              0.5555555555555556,
              "#d8576b"
             ],
             [
              0.6666666666666666,
              "#ed7953"
             ],
             [
              0.7777777777777778,
              "#fb9f3a"
             ],
             [
              0.8888888888888888,
              "#fdca26"
             ],
             [
              1,
              "#f0f921"
             ]
            ],
            "type": "surface"
           }
          ],
          "table": [
           {
            "cells": {
             "fill": {
              "color": "#EBF0F8"
             },
             "line": {
              "color": "white"
             }
            },
            "header": {
             "fill": {
              "color": "#C8D4E3"
             },
             "line": {
              "color": "white"
             }
            },
            "type": "table"
           }
          ]
         },
         "layout": {
          "annotationdefaults": {
           "arrowcolor": "#2a3f5f",
           "arrowhead": 0,
           "arrowwidth": 1
          },
          "autotypenumbers": "strict",
          "coloraxis": {
           "colorbar": {
            "outlinewidth": 0,
            "ticks": ""
           }
          },
          "colorscale": {
           "diverging": [
            [
             0,
             "#8e0152"
            ],
            [
             0.1,
             "#c51b7d"
            ],
            [
             0.2,
             "#de77ae"
            ],
            [
             0.3,
             "#f1b6da"
            ],
            [
             0.4,
             "#fde0ef"
            ],
            [
             0.5,
             "#f7f7f7"
            ],
            [
             0.6,
             "#e6f5d0"
            ],
            [
             0.7,
             "#b8e186"
            ],
            [
             0.8,
             "#7fbc41"
            ],
            [
             0.9,
             "#4d9221"
            ],
            [
             1,
             "#276419"
            ]
           ],
           "sequential": [
            [
             0,
             "#0d0887"
            ],
            [
             0.1111111111111111,
             "#46039f"
            ],
            [
             0.2222222222222222,
             "#7201a8"
            ],
            [
             0.3333333333333333,
             "#9c179e"
            ],
            [
             0.4444444444444444,
             "#bd3786"
            ],
            [
             0.5555555555555556,
             "#d8576b"
            ],
            [
             0.6666666666666666,
             "#ed7953"
            ],
            [
             0.7777777777777778,
             "#fb9f3a"
            ],
            [
             0.8888888888888888,
             "#fdca26"
            ],
            [
             1,
             "#f0f921"
            ]
           ],
           "sequentialminus": [
            [
             0,
             "#0d0887"
            ],
            [
             0.1111111111111111,
             "#46039f"
            ],
            [
             0.2222222222222222,
             "#7201a8"
            ],
            [
             0.3333333333333333,
             "#9c179e"
            ],
            [
             0.4444444444444444,
             "#bd3786"
            ],
            [
             0.5555555555555556,
             "#d8576b"
            ],
            [
             0.6666666666666666,
             "#ed7953"
            ],
            [
             0.7777777777777778,
             "#fb9f3a"
            ],
            [
             0.8888888888888888,
             "#fdca26"
            ],
            [
             1,
             "#f0f921"
            ]
           ]
          },
          "colorway": [
           "#636efa",
           "#EF553B",
           "#00cc96",
           "#ab63fa",
           "#FFA15A",
           "#19d3f3",
           "#FF6692",
           "#B6E880",
           "#FF97FF",
           "#FECB52"
          ],
          "font": {
           "color": "#2a3f5f"
          },
          "geo": {
           "bgcolor": "white",
           "lakecolor": "white",
           "landcolor": "#E5ECF6",
           "showlakes": true,
           "showland": true,
           "subunitcolor": "white"
          },
          "hoverlabel": {
           "align": "left"
          },
          "hovermode": "closest",
          "mapbox": {
           "style": "light"
          },
          "paper_bgcolor": "white",
          "plot_bgcolor": "#E5ECF6",
          "polar": {
           "angularaxis": {
            "gridcolor": "white",
            "linecolor": "white",
            "ticks": ""
           },
           "bgcolor": "#E5ECF6",
           "radialaxis": {
            "gridcolor": "white",
            "linecolor": "white",
            "ticks": ""
           }
          },
          "scene": {
           "xaxis": {
            "backgroundcolor": "#E5ECF6",
            "gridcolor": "white",
            "gridwidth": 2,
            "linecolor": "white",
            "showbackground": true,
            "ticks": "",
            "zerolinecolor": "white"
           },
           "yaxis": {
            "backgroundcolor": "#E5ECF6",
            "gridcolor": "white",
            "gridwidth": 2,
            "linecolor": "white",
            "showbackground": true,
            "ticks": "",
            "zerolinecolor": "white"
           },
           "zaxis": {
            "backgroundcolor": "#E5ECF6",
            "gridcolor": "white",
            "gridwidth": 2,
            "linecolor": "white",
            "showbackground": true,
            "ticks": "",
            "zerolinecolor": "white"
           }
          },
          "shapedefaults": {
           "line": {
            "color": "#2a3f5f"
           }
          },
          "ternary": {
           "aaxis": {
            "gridcolor": "white",
            "linecolor": "white",
            "ticks": ""
           },
           "baxis": {
            "gridcolor": "white",
            "linecolor": "white",
            "ticks": ""
           },
           "bgcolor": "#E5ECF6",
           "caxis": {
            "gridcolor": "white",
            "linecolor": "white",
            "ticks": ""
           }
          },
          "title": {
           "x": 0.05
          },
          "xaxis": {
           "automargin": true,
           "gridcolor": "white",
           "linecolor": "white",
           "ticks": "",
           "title": {
            "standoff": 15
           },
           "zerolinecolor": "white",
           "zerolinewidth": 2
          },
          "yaxis": {
           "automargin": true,
           "gridcolor": "white",
           "linecolor": "white",
           "ticks": "",
           "title": {
            "standoff": 15
           },
           "zerolinecolor": "white",
           "zerolinewidth": 2
          }
         }
        },
        "width": 600,
        "xaxis": {
         "anchor": "y",
         "domain": [
          0,
          1
         ],
         "title": {
          "text": "x"
         }
        },
        "yaxis": {
         "anchor": "x",
         "domain": [
          0,
          1
         ],
         "title": {
          "text": "y"
         }
        }
       }
      }
     },
     "metadata": {},
     "output_type": "display_data"
    }
   ],
   "source": [
    "for pdata in [train_dataset.adata, val_dataset.adata]:\n",
    "    sc.pp.pca(pdata, n_comps=2)\n",
    "    fig = px.scatter(\n",
    "        x=pdata.obsm[\"X_pca\"][:, 0],\n",
    "        y=pdata.obsm[\"X_pca\"][:, 1],\n",
    "        color=pdata.obs[class_key],\n",
    "        width=600,\n",
    "        height=600,\n",
    "    )\n",
    "    fig.update_traces(marker=dict(size=5))\n",
    "    fig.show()"
   ]
  },
  {
   "cell_type": "markdown",
   "id": "863821de",
   "metadata": {},
   "source": [
    "Colors different across plots."
   ]
  },
  {
   "cell_type": "markdown",
   "id": "16828042",
   "metadata": {},
   "source": [
    "# Train model"
   ]
  },
  {
   "cell_type": "code",
   "execution_count": 15,
   "id": "441f203d",
   "metadata": {},
   "outputs": [],
   "source": [
    "n_genes = train_dataset.adata.shape[1]\n",
    "n_classes = train_dataset.adata.obs[class_key].nunique()\n",
    "\n",
    "d_hidden = 128\n",
    "n_epochs = 25\n",
    "lr = 1e-5"
   ]
  },
  {
   "cell_type": "code",
   "execution_count": 16,
   "id": "24d421d1",
   "metadata": {},
   "outputs": [
    {
     "name": "stderr",
     "output_type": "stream",
     "text": [
      "Training for 25 epochs: 100%|██████████| 25/25 [01:00<00:00,  2.42s/it, train_acc=0.8906, train_loss=0.2844, val_acc=0.7326, val_loss=0.7383]\n"
     ]
    }
   ],
   "source": [
    "cfg = Config(\n",
    "    d_input=n_genes,\n",
    "    d_hidden=d_hidden,\n",
    "    d_output=n_classes,\n",
    "    n_epochs=n_epochs,\n",
    "    lr=lr,\n",
    "    device=DEVICE,\n",
    "    batch_size=64,\n",
    ")\n",
    "model = ScBMLPClassifier(cfg)\n",
    "train_losses, val_losses = model.fit(train_dataset, val_dataset)"
   ]
  },
  {
   "cell_type": "code",
   "execution_count": 17,
   "id": "d8f30e76",
   "metadata": {},
   "outputs": [
    {
     "data": {
      "application/vnd.plotly.v1+json": {
       "config": {
        "plotlyServerURL": "https://plot.ly"
       },
       "data": [
        {
         "hovertemplate": "Type=Train<br>Epoch=%{x}<br>Loss=%{y}<extra></extra>",
         "legendgroup": "Train",
         "line": {
          "color": "#636efa",
          "dash": "solid"
         },
         "marker": {
          "symbol": "circle"
         },
         "mode": "lines",
         "name": "Train",
         "orientation": "v",
         "showlegend": true,
         "type": "scatter",
         "x": {
          "bdata": "AAECAwQFBgcICQoLDA0ODxAREhMUFRYXGA==",
          "dtype": "i1"
         },
         "xaxis": "x",
         "y": {
          "bdata": "AAAAoNed7T8AAACglPDnPwAAAKBbm+c/AAAAwPja5j8AAACANz7lPwAAAKA77OY/AAAAwBju3T8AAABg0bHiPwAAAGB9t98/AAAA4IyO2z8AAAAAKQHgPwAAAGARx9w/AAAAgBY63D8AAADgRc/XPwAAAKCIMN4/AAAAIJJb0T8AAACg4InTPwAAAACjt9E/AAAAAIKC0D8AAAAAzF/VPwAAAAClmdE/AAAAgLZ0yj8AAAAgFxzRPwAAAMCoIdQ/AAAAgH8z0j8=",
          "dtype": "f8"
         },
         "yaxis": "y"
        },
        {
         "hovertemplate": "Type=Validation<br>Epoch=%{x}<br>Loss=%{y}<extra></extra>",
         "legendgroup": "Validation",
         "line": {
          "color": "#EF553B",
          "dash": "solid"
         },
         "marker": {
          "symbol": "circle"
         },
         "mode": "lines",
         "name": "Validation",
         "orientation": "v",
         "showlegend": true,
         "type": "scatter",
         "x": {
          "bdata": "AAECAwQFBgcICQoLDA0ODxAREhMUFRYXGA==",
          "dtype": "i1"
         },
         "xaxis": "x",
         "y": {
          "bdata": "AAAAII167D8AAACAnTfoPwAAAKBWCuc/AAAAoKyP5j8AAACg5j7mPwAAAOAgTuY/AAAAwMQF5j8AAAAASDLmPwAAAIAWKeY/AAAAgL1b5j8AAADA5HTmPwAAAGC2oOY/AAAAAMS45j8AAABAlfrmPwAAAIBuDOc/AAAAgAcv5z8AAAAgLUfnPwAAAIC8auc/AAAAQFF/5z8AAAAAXofnPwAAAABIkec/AAAAwPGZ5z8AAAAgPp3nPwAAAMByn+c/AAAAAPqf5z8=",
          "dtype": "f8"
         },
         "yaxis": "y"
        }
       ],
       "layout": {
        "legend": {
         "title": {
          "text": "Type"
         },
         "tracegroupgap": 0
        },
        "template": {
         "data": {
          "bar": [
           {
            "error_x": {
             "color": "#2a3f5f"
            },
            "error_y": {
             "color": "#2a3f5f"
            },
            "marker": {
             "line": {
              "color": "#E5ECF6",
              "width": 0.5
             },
             "pattern": {
              "fillmode": "overlay",
              "size": 10,
              "solidity": 0.2
             }
            },
            "type": "bar"
           }
          ],
          "barpolar": [
           {
            "marker": {
             "line": {
              "color": "#E5ECF6",
              "width": 0.5
             },
             "pattern": {
              "fillmode": "overlay",
              "size": 10,
              "solidity": 0.2
             }
            },
            "type": "barpolar"
           }
          ],
          "carpet": [
           {
            "aaxis": {
             "endlinecolor": "#2a3f5f",
             "gridcolor": "white",
             "linecolor": "white",
             "minorgridcolor": "white",
             "startlinecolor": "#2a3f5f"
            },
            "baxis": {
             "endlinecolor": "#2a3f5f",
             "gridcolor": "white",
             "linecolor": "white",
             "minorgridcolor": "white",
             "startlinecolor": "#2a3f5f"
            },
            "type": "carpet"
           }
          ],
          "choropleth": [
           {
            "colorbar": {
             "outlinewidth": 0,
             "ticks": ""
            },
            "type": "choropleth"
           }
          ],
          "contour": [
           {
            "colorbar": {
             "outlinewidth": 0,
             "ticks": ""
            },
            "colorscale": [
             [
              0,
              "#0d0887"
             ],
             [
              0.1111111111111111,
              "#46039f"
             ],
             [
              0.2222222222222222,
              "#7201a8"
             ],
             [
              0.3333333333333333,
              "#9c179e"
             ],
             [
              0.4444444444444444,
              "#bd3786"
             ],
             [
              0.5555555555555556,
              "#d8576b"
             ],
             [
              0.6666666666666666,
              "#ed7953"
             ],
             [
              0.7777777777777778,
              "#fb9f3a"
             ],
             [
              0.8888888888888888,
              "#fdca26"
             ],
             [
              1,
              "#f0f921"
             ]
            ],
            "type": "contour"
           }
          ],
          "contourcarpet": [
           {
            "colorbar": {
             "outlinewidth": 0,
             "ticks": ""
            },
            "type": "contourcarpet"
           }
          ],
          "heatmap": [
           {
            "colorbar": {
             "outlinewidth": 0,
             "ticks": ""
            },
            "colorscale": [
             [
              0,
              "#0d0887"
             ],
             [
              0.1111111111111111,
              "#46039f"
             ],
             [
              0.2222222222222222,
              "#7201a8"
             ],
             [
              0.3333333333333333,
              "#9c179e"
             ],
             [
              0.4444444444444444,
              "#bd3786"
             ],
             [
              0.5555555555555556,
              "#d8576b"
             ],
             [
              0.6666666666666666,
              "#ed7953"
             ],
             [
              0.7777777777777778,
              "#fb9f3a"
             ],
             [
              0.8888888888888888,
              "#fdca26"
             ],
             [
              1,
              "#f0f921"
             ]
            ],
            "type": "heatmap"
           }
          ],
          "histogram": [
           {
            "marker": {
             "pattern": {
              "fillmode": "overlay",
              "size": 10,
              "solidity": 0.2
             }
            },
            "type": "histogram"
           }
          ],
          "histogram2d": [
           {
            "colorbar": {
             "outlinewidth": 0,
             "ticks": ""
            },
            "colorscale": [
             [
              0,
              "#0d0887"
             ],
             [
              0.1111111111111111,
              "#46039f"
             ],
             [
              0.2222222222222222,
              "#7201a8"
             ],
             [
              0.3333333333333333,
              "#9c179e"
             ],
             [
              0.4444444444444444,
              "#bd3786"
             ],
             [
              0.5555555555555556,
              "#d8576b"
             ],
             [
              0.6666666666666666,
              "#ed7953"
             ],
             [
              0.7777777777777778,
              "#fb9f3a"
             ],
             [
              0.8888888888888888,
              "#fdca26"
             ],
             [
              1,
              "#f0f921"
             ]
            ],
            "type": "histogram2d"
           }
          ],
          "histogram2dcontour": [
           {
            "colorbar": {
             "outlinewidth": 0,
             "ticks": ""
            },
            "colorscale": [
             [
              0,
              "#0d0887"
             ],
             [
              0.1111111111111111,
              "#46039f"
             ],
             [
              0.2222222222222222,
              "#7201a8"
             ],
             [
              0.3333333333333333,
              "#9c179e"
             ],
             [
              0.4444444444444444,
              "#bd3786"
             ],
             [
              0.5555555555555556,
              "#d8576b"
             ],
             [
              0.6666666666666666,
              "#ed7953"
             ],
             [
              0.7777777777777778,
              "#fb9f3a"
             ],
             [
              0.8888888888888888,
              "#fdca26"
             ],
             [
              1,
              "#f0f921"
             ]
            ],
            "type": "histogram2dcontour"
           }
          ],
          "mesh3d": [
           {
            "colorbar": {
             "outlinewidth": 0,
             "ticks": ""
            },
            "type": "mesh3d"
           }
          ],
          "parcoords": [
           {
            "line": {
             "colorbar": {
              "outlinewidth": 0,
              "ticks": ""
             }
            },
            "type": "parcoords"
           }
          ],
          "pie": [
           {
            "automargin": true,
            "type": "pie"
           }
          ],
          "scatter": [
           {
            "fillpattern": {
             "fillmode": "overlay",
             "size": 10,
             "solidity": 0.2
            },
            "type": "scatter"
           }
          ],
          "scatter3d": [
           {
            "line": {
             "colorbar": {
              "outlinewidth": 0,
              "ticks": ""
             }
            },
            "marker": {
             "colorbar": {
              "outlinewidth": 0,
              "ticks": ""
             }
            },
            "type": "scatter3d"
           }
          ],
          "scattercarpet": [
           {
            "marker": {
             "colorbar": {
              "outlinewidth": 0,
              "ticks": ""
             }
            },
            "type": "scattercarpet"
           }
          ],
          "scattergeo": [
           {
            "marker": {
             "colorbar": {
              "outlinewidth": 0,
              "ticks": ""
             }
            },
            "type": "scattergeo"
           }
          ],
          "scattergl": [
           {
            "marker": {
             "colorbar": {
              "outlinewidth": 0,
              "ticks": ""
             }
            },
            "type": "scattergl"
           }
          ],
          "scattermap": [
           {
            "marker": {
             "colorbar": {
              "outlinewidth": 0,
              "ticks": ""
             }
            },
            "type": "scattermap"
           }
          ],
          "scattermapbox": [
           {
            "marker": {
             "colorbar": {
              "outlinewidth": 0,
              "ticks": ""
             }
            },
            "type": "scattermapbox"
           }
          ],
          "scatterpolar": [
           {
            "marker": {
             "colorbar": {
              "outlinewidth": 0,
              "ticks": ""
             }
            },
            "type": "scatterpolar"
           }
          ],
          "scatterpolargl": [
           {
            "marker": {
             "colorbar": {
              "outlinewidth": 0,
              "ticks": ""
             }
            },
            "type": "scatterpolargl"
           }
          ],
          "scatterternary": [
           {
            "marker": {
             "colorbar": {
              "outlinewidth": 0,
              "ticks": ""
             }
            },
            "type": "scatterternary"
           }
          ],
          "surface": [
           {
            "colorbar": {
             "outlinewidth": 0,
             "ticks": ""
            },
            "colorscale": [
             [
              0,
              "#0d0887"
             ],
             [
              0.1111111111111111,
              "#46039f"
             ],
             [
              0.2222222222222222,
              "#7201a8"
             ],
             [
              0.3333333333333333,
              "#9c179e"
             ],
             [
              0.4444444444444444,
              "#bd3786"
             ],
             [
              0.5555555555555556,
              "#d8576b"
             ],
             [
              0.6666666666666666,
              "#ed7953"
             ],
             [
              0.7777777777777778,
              "#fb9f3a"
             ],
             [
              0.8888888888888888,
              "#fdca26"
             ],
             [
              1,
              "#f0f921"
             ]
            ],
            "type": "surface"
           }
          ],
          "table": [
           {
            "cells": {
             "fill": {
              "color": "#EBF0F8"
             },
             "line": {
              "color": "white"
             }
            },
            "header": {
             "fill": {
              "color": "#C8D4E3"
             },
             "line": {
              "color": "white"
             }
            },
            "type": "table"
           }
          ]
         },
         "layout": {
          "annotationdefaults": {
           "arrowcolor": "#2a3f5f",
           "arrowhead": 0,
           "arrowwidth": 1
          },
          "autotypenumbers": "strict",
          "coloraxis": {
           "colorbar": {
            "outlinewidth": 0,
            "ticks": ""
           }
          },
          "colorscale": {
           "diverging": [
            [
             0,
             "#8e0152"
            ],
            [
             0.1,
             "#c51b7d"
            ],
            [
             0.2,
             "#de77ae"
            ],
            [
             0.3,
             "#f1b6da"
            ],
            [
             0.4,
             "#fde0ef"
            ],
            [
             0.5,
             "#f7f7f7"
            ],
            [
             0.6,
             "#e6f5d0"
            ],
            [
             0.7,
             "#b8e186"
            ],
            [
             0.8,
             "#7fbc41"
            ],
            [
             0.9,
             "#4d9221"
            ],
            [
             1,
             "#276419"
            ]
           ],
           "sequential": [
            [
             0,
             "#0d0887"
            ],
            [
             0.1111111111111111,
             "#46039f"
            ],
            [
             0.2222222222222222,
             "#7201a8"
            ],
            [
             0.3333333333333333,
             "#9c179e"
            ],
            [
             0.4444444444444444,
             "#bd3786"
            ],
            [
             0.5555555555555556,
             "#d8576b"
            ],
            [
             0.6666666666666666,
             "#ed7953"
            ],
            [
             0.7777777777777778,
             "#fb9f3a"
            ],
            [
             0.8888888888888888,
             "#fdca26"
            ],
            [
             1,
             "#f0f921"
            ]
           ],
           "sequentialminus": [
            [
             0,
             "#0d0887"
            ],
            [
             0.1111111111111111,
             "#46039f"
            ],
            [
             0.2222222222222222,
             "#7201a8"
            ],
            [
             0.3333333333333333,
             "#9c179e"
            ],
            [
             0.4444444444444444,
             "#bd3786"
            ],
            [
             0.5555555555555556,
             "#d8576b"
            ],
            [
             0.6666666666666666,
             "#ed7953"
            ],
            [
             0.7777777777777778,
             "#fb9f3a"
            ],
            [
             0.8888888888888888,
             "#fdca26"
            ],
            [
             1,
             "#f0f921"
            ]
           ]
          },
          "colorway": [
           "#636efa",
           "#EF553B",
           "#00cc96",
           "#ab63fa",
           "#FFA15A",
           "#19d3f3",
           "#FF6692",
           "#B6E880",
           "#FF97FF",
           "#FECB52"
          ],
          "font": {
           "color": "#2a3f5f"
          },
          "geo": {
           "bgcolor": "white",
           "lakecolor": "white",
           "landcolor": "#E5ECF6",
           "showlakes": true,
           "showland": true,
           "subunitcolor": "white"
          },
          "hoverlabel": {
           "align": "left"
          },
          "hovermode": "closest",
          "mapbox": {
           "style": "light"
          },
          "paper_bgcolor": "white",
          "plot_bgcolor": "#E5ECF6",
          "polar": {
           "angularaxis": {
            "gridcolor": "white",
            "linecolor": "white",
            "ticks": ""
           },
           "bgcolor": "#E5ECF6",
           "radialaxis": {
            "gridcolor": "white",
            "linecolor": "white",
            "ticks": ""
           }
          },
          "scene": {
           "xaxis": {
            "backgroundcolor": "#E5ECF6",
            "gridcolor": "white",
            "gridwidth": 2,
            "linecolor": "white",
            "showbackground": true,
            "ticks": "",
            "zerolinecolor": "white"
           },
           "yaxis": {
            "backgroundcolor": "#E5ECF6",
            "gridcolor": "white",
            "gridwidth": 2,
            "linecolor": "white",
            "showbackground": true,
            "ticks": "",
            "zerolinecolor": "white"
           },
           "zaxis": {
            "backgroundcolor": "#E5ECF6",
            "gridcolor": "white",
            "gridwidth": 2,
            "linecolor": "white",
            "showbackground": true,
            "ticks": "",
            "zerolinecolor": "white"
           }
          },
          "shapedefaults": {
           "line": {
            "color": "#2a3f5f"
           }
          },
          "ternary": {
           "aaxis": {
            "gridcolor": "white",
            "linecolor": "white",
            "ticks": ""
           },
           "baxis": {
            "gridcolor": "white",
            "linecolor": "white",
            "ticks": ""
           },
           "bgcolor": "#E5ECF6",
           "caxis": {
            "gridcolor": "white",
            "linecolor": "white",
            "ticks": ""
           }
          },
          "title": {
           "x": 0.05
          },
          "xaxis": {
           "automargin": true,
           "gridcolor": "white",
           "linecolor": "white",
           "ticks": "",
           "title": {
            "standoff": 15
           },
           "zerolinecolor": "white",
           "zerolinewidth": 2
          },
          "yaxis": {
           "automargin": true,
           "gridcolor": "white",
           "linecolor": "white",
           "ticks": "",
           "title": {
            "standoff": 15
           },
           "zerolinecolor": "white",
           "zerolinewidth": 2
          }
         }
        },
        "title": {
         "text": "Training and Validation Loss"
        },
        "xaxis": {
         "anchor": "y",
         "domain": [
          0,
          1
         ],
         "title": {
          "text": "Epoch"
         }
        },
        "yaxis": {
         "anchor": "x",
         "domain": [
          0,
          1
         ],
         "title": {
          "text": "Loss"
         }
        }
       }
      }
     },
     "metadata": {},
     "output_type": "display_data"
    }
   ],
   "source": [
    "# Combine train and val losses into a single plot\n",
    "loss_df = pd.DataFrame({\n",
    "    'Epoch': list(range(len(train_losses))) + list(range(len(val_losses))),\n",
    "    'Loss': train_losses + val_losses,\n",
    "    'Type': ['Train'] * len(train_losses) + ['Validation'] * len(val_losses)\n",
    "})\n",
    "\n",
    "px.line(loss_df, x='Epoch', y='Loss', color='Type', \n",
    "        title='Training and Validation Loss', \n",
    "        labels={'Loss': 'Loss', 'Epoch': 'Epoch'}).show()"
   ]
  },
  {
   "cell_type": "markdown",
   "id": "50f9ecdd",
   "metadata": {},
   "source": [
    "# Weight interpretation"
   ]
  },
  {
   "cell_type": "code",
   "execution_count": null,
   "id": "1251e798",
   "metadata": {},
   "outputs": [],
   "source": [
    "def get_marker_gene_lists(\n",
    "    gene_names: np.ndarray,\n",
    "    vecs: np.ndarray,\n",
    "    n_top_comps: int = 1,\n",
    "    n_top_genes: int = 50,\n",
    ") -> np.ndarray:\n",
    "    \"\"\"Extract marker genes optimized for GO analysis.\"\"\"\n",
    "    gene_lists = []\n",
    "    for i in range(n_top_comps):\n",
    "        top_idxs = vecs[:,i].topk(n_top_genes).indices\n",
    "        top_genes = gene_names[top_idxs].tolist()\n",
    "        bottom_idxs = (-vecs[:,i]).topk(n_top_genes).indices\n",
    "        bottom_genes = gene_names[bottom_idxs].tolist()\n",
    "        gene_lists.append([top_genes, bottom_genes])\n",
    "    return np.array(gene_lists)"
   ]
  },
  {
   "cell_type": "code",
   "execution_count": null,
   "id": "78b38dce",
   "metadata": {},
   "outputs": [],
   "source": [
    "adata = sc.concat([train_dataset.adata, val_dataset.adata])"
   ]
  },
  {
   "cell_type": "markdown",
   "id": "16a49404",
   "metadata": {},
   "source": [
    "## Bilinear"
   ]
  },
  {
   "cell_type": "markdown",
   "id": "512b5424",
   "metadata": {},
   "source": [
    "### Gene markers"
   ]
  },
  {
   "cell_type": "code",
   "execution_count": null,
   "id": "22a22b71",
   "metadata": {},
   "outputs": [],
   "source": [
    "# Binary classification ==> output directions yield the same results\n",
    "q = einops.einsum(model.w_p[0], model.w_l, model.w_r, \"hid, hid in1, hid in2 -> in1 in2\")\n",
    "q = 0.5 * (q + q.mT)  # symmetrize"
   ]
  },
  {
   "cell_type": "code",
   "execution_count": null,
   "id": "48b1bbe0",
   "metadata": {},
   "outputs": [],
   "source": [
    "# Eigendecompose to get gene module weights\n",
    "_, vecs_bmlp = torch.linalg.eigh(q)\n",
    "vecs_bmlp = vecs_bmlp.flip([1])"
   ]
  },
  {
   "cell_type": "code",
   "execution_count": null,
   "id": "267c0a87",
   "metadata": {},
   "outputs": [],
   "source": [
    "# Get gene names per module (i.e. component; \"comp\")\n",
    "n_top_comps = 3\n",
    "n_top_genes = 20\n",
    "gene_names = adata.var_names.values\n",
    "gene_lists_bmlp = get_marker_gene_lists(\n",
    "    gene_names, vecs_bmlp, n_top_comps=n_top_comps, n_top_genes=n_top_genes\n",
    ")  # [comp, top/bottom, gene]"
   ]
  },
  {
   "cell_type": "code",
   "execution_count": null,
   "id": "db5c7c52",
   "metadata": {},
   "outputs": [
    {
     "name": "stdout",
     "output_type": "stream",
     "text": [
      "==================== Component 0 ====================\n",
      "Top genes: ['IFI6' 'ISG15' 'IFIT3' 'LAG3' 'IFIT1' 'LY6E' 'IFI44' 'ISG20']...\n",
      "Bottom genes: ['ARL6IP5' 'EEF1A1' 'RPL6' 'FTH1' 'EIF3D' 'BTG1' 'VIM' 'STK17A']...\n",
      "==================== Component 1 ====================\n",
      "Top genes: ['MT2A' 'DDX6' 'NCL' 'USE1' 'ACAP1' 'PARL' 'DSTYK' 'EEF1B2']...\n",
      "Bottom genes: ['FGL2' 'SERTAD1' 'CST3' 'ZXDC' 'DNTTIP2' 'SNX6' 'PARP6' 'ARIH2']...\n",
      "==================== Component 2 ====================\n",
      "Top genes: ['COX7C' 'CBY1' 'PITHD1' 'FZR1' 'UQCRC2' 'GLIPR1' 'NR1D2' 'FEM1A']...\n",
      "Bottom genes: ['SEPHS1' 'DCUN1D1' 'PSME2' 'LSR' 'CXCL10' 'MPPE1' 'LGALS9' 'GPR183']...\n"
     ]
    }
   ],
   "source": [
    "for i in range(n_top_comps):\n",
    "    print(\"=\"*20, \"Component\", i, \"=\"*20)\n",
    "    print(f\"Top genes: {gene_lists_bmlp[i,0,:8]}...\")\n",
    "    print(f\"Bottom genes: {gene_lists_bmlp[i,1,:8]}...\")"
   ]
  },
  {
   "cell_type": "markdown",
   "id": "4344305e",
   "metadata": {},
   "source": [
    "### GO analysis"
   ]
  },
  {
   "cell_type": "code",
   "execution_count": null,
   "id": "042803a1",
   "metadata": {},
   "outputs": [
    {
     "name": "stdout",
     "output_type": "stream",
     "text": [
      "======================================== Component 0 ========================================\n"
     ]
    },
    {
     "data": {
      "text/html": [
       "<div>\n",
       "<style scoped>\n",
       "    .dataframe tbody tr th:only-of-type {\n",
       "        vertical-align: middle;\n",
       "    }\n",
       "\n",
       "    .dataframe tbody tr th {\n",
       "        vertical-align: top;\n",
       "    }\n",
       "\n",
       "    .dataframe thead th {\n",
       "        text-align: right;\n",
       "    }\n",
       "</style>\n",
       "<table border=\"1\" class=\"dataframe\">\n",
       "  <thead>\n",
       "    <tr style=\"text-align: right;\">\n",
       "      <th></th>\n",
       "      <th>Term</th>\n",
       "      <th>Genes</th>\n",
       "      <th>Gene_set</th>\n",
       "      <th>Adjusted P-value</th>\n",
       "    </tr>\n",
       "  </thead>\n",
       "  <tbody>\n",
       "    <tr>\n",
       "      <th>0</th>\n",
       "      <td>Interferon Alpha/Beta Signaling R-HSA-909733</td>\n",
       "      <td>ISG20;OAS1;STAT1;OAS3;MX1;IFI6;ISG15;IFIT1;IFI...</td>\n",
       "      <td>Reactome_2022</td>\n",
       "      <td>3.349047e-18</td>\n",
       "    </tr>\n",
       "    <tr>\n",
       "      <th>1</th>\n",
       "      <td>Interferon Signaling R-HSA-913531</td>\n",
       "      <td>ISG20;MT2A;OAS1;STAT1;OAS3;MX1;IFI6;EIF2AK2;IS...</td>\n",
       "      <td>Reactome_2022</td>\n",
       "      <td>4.121495e-18</td>\n",
       "    </tr>\n",
       "    <tr>\n",
       "      <th>2</th>\n",
       "      <td>Cytokine Signaling In Immune System R-HSA-1280215</td>\n",
       "      <td>ISG20;MT2A;OAS1;STAT1;OAS3;MX1;IFI6;EIF2AK2;IS...</td>\n",
       "      <td>Reactome_2022</td>\n",
       "      <td>1.013465e-11</td>\n",
       "    </tr>\n",
       "    <tr>\n",
       "      <th>3</th>\n",
       "      <td>Antiviral Mechanism By IFN-stimulated Genes R-...</td>\n",
       "      <td>OAS1;STAT1;OAS3;MX1;EIF2AK2;ISG15;IFIT1</td>\n",
       "      <td>Reactome_2022</td>\n",
       "      <td>2.975361e-11</td>\n",
       "    </tr>\n",
       "    <tr>\n",
       "      <th>4</th>\n",
       "      <td>Immune System R-HSA-168256</td>\n",
       "      <td>LAG3;STAT1;MX1;IFI6;EIF2AK2;ISG15;IFIT1;IFIT3;...</td>\n",
       "      <td>Reactome_2022</td>\n",
       "      <td>5.216679e-08</td>\n",
       "    </tr>\n",
       "  </tbody>\n",
       "</table>\n",
       "</div>"
      ],
      "text/plain": [
       "                                                Term  \\\n",
       "0       Interferon Alpha/Beta Signaling R-HSA-909733   \n",
       "1                  Interferon Signaling R-HSA-913531   \n",
       "2  Cytokine Signaling In Immune System R-HSA-1280215   \n",
       "3  Antiviral Mechanism By IFN-stimulated Genes R-...   \n",
       "4                         Immune System R-HSA-168256   \n",
       "\n",
       "                                               Genes       Gene_set  \\\n",
       "0  ISG20;OAS1;STAT1;OAS3;MX1;IFI6;ISG15;IFIT1;IFI...  Reactome_2022   \n",
       "1  ISG20;MT2A;OAS1;STAT1;OAS3;MX1;IFI6;EIF2AK2;IS...  Reactome_2022   \n",
       "2  ISG20;MT2A;OAS1;STAT1;OAS3;MX1;IFI6;EIF2AK2;IS...  Reactome_2022   \n",
       "3            OAS1;STAT1;OAS3;MX1;EIF2AK2;ISG15;IFIT1  Reactome_2022   \n",
       "4  LAG3;STAT1;MX1;IFI6;EIF2AK2;ISG15;IFIT1;IFIT3;...  Reactome_2022   \n",
       "\n",
       "   Adjusted P-value  \n",
       "0      3.349047e-18  \n",
       "1      4.121495e-18  \n",
       "2      1.013465e-11  \n",
       "3      2.975361e-11  \n",
       "4      5.216679e-08  "
      ]
     },
     "metadata": {},
     "output_type": "display_data"
    },
    {
     "data": {
      "text/html": [
       "<div>\n",
       "<style scoped>\n",
       "    .dataframe tbody tr th:only-of-type {\n",
       "        vertical-align: middle;\n",
       "    }\n",
       "\n",
       "    .dataframe tbody tr th {\n",
       "        vertical-align: top;\n",
       "    }\n",
       "\n",
       "    .dataframe thead th {\n",
       "        text-align: right;\n",
       "    }\n",
       "</style>\n",
       "<table border=\"1\" class=\"dataframe\">\n",
       "  <thead>\n",
       "    <tr style=\"text-align: right;\">\n",
       "      <th></th>\n",
       "      <th>Term</th>\n",
       "      <th>Genes</th>\n",
       "      <th>Gene_set</th>\n",
       "      <th>Adjusted P-value</th>\n",
       "    </tr>\n",
       "  </thead>\n",
       "  <tbody>\n",
       "    <tr>\n",
       "      <th>0</th>\n",
       "      <td>Translation R-HSA-72766</td>\n",
       "      <td>EEF1A1;RPS25;EEF1D;EIF3L;EIF3D;RPL6;RPL7</td>\n",
       "      <td>Reactome_2022</td>\n",
       "      <td>6.250253e-07</td>\n",
       "    </tr>\n",
       "    <tr>\n",
       "      <th>1</th>\n",
       "      <td>Eukaryotic Translation Elongation R-HSA-156842</td>\n",
       "      <td>EEF1A1;RPS25;EEF1D;RPL6;RPL7</td>\n",
       "      <td>Reactome_2022</td>\n",
       "      <td>1.139117e-06</td>\n",
       "    </tr>\n",
       "    <tr>\n",
       "      <th>2</th>\n",
       "      <td>Formation Of A Pool Of Free 40S Subunits R-HSA...</td>\n",
       "      <td>RPS25;EIF3L;EIF3D;RPL6;RPL7</td>\n",
       "      <td>Reactome_2022</td>\n",
       "      <td>1.167590e-06</td>\n",
       "    </tr>\n",
       "    <tr>\n",
       "      <th>3</th>\n",
       "      <td>L13a-mediated Translational Silencing Of Cerul...</td>\n",
       "      <td>RPS25;EIF3L;EIF3D;RPL6;RPL7</td>\n",
       "      <td>Reactome_2022</td>\n",
       "      <td>1.196904e-06</td>\n",
       "    </tr>\n",
       "    <tr>\n",
       "      <th>4</th>\n",
       "      <td>GTP Hydrolysis And Joining Of 60S Ribosomal Su...</td>\n",
       "      <td>RPS25;EIF3L;EIF3D;RPL6;RPL7</td>\n",
       "      <td>Reactome_2022</td>\n",
       "      <td>1.196904e-06</td>\n",
       "    </tr>\n",
       "  </tbody>\n",
       "</table>\n",
       "</div>"
      ],
      "text/plain": [
       "                                                Term  \\\n",
       "0                            Translation R-HSA-72766   \n",
       "1     Eukaryotic Translation Elongation R-HSA-156842   \n",
       "2  Formation Of A Pool Of Free 40S Subunits R-HSA...   \n",
       "3  L13a-mediated Translational Silencing Of Cerul...   \n",
       "4  GTP Hydrolysis And Joining Of 60S Ribosomal Su...   \n",
       "\n",
       "                                      Genes       Gene_set  Adjusted P-value  \n",
       "0  EEF1A1;RPS25;EEF1D;EIF3L;EIF3D;RPL6;RPL7  Reactome_2022      6.250253e-07  \n",
       "1              EEF1A1;RPS25;EEF1D;RPL6;RPL7  Reactome_2022      1.139117e-06  \n",
       "2               RPS25;EIF3L;EIF3D;RPL6;RPL7  Reactome_2022      1.167590e-06  \n",
       "3               RPS25;EIF3L;EIF3D;RPL6;RPL7  Reactome_2022      1.196904e-06  \n",
       "4               RPS25;EIF3L;EIF3D;RPL6;RPL7  Reactome_2022      1.196904e-06  "
      ]
     },
     "metadata": {},
     "output_type": "display_data"
    },
    {
     "name": "stdout",
     "output_type": "stream",
     "text": [
      "======================================== Component 1 ========================================\n"
     ]
    },
    {
     "data": {
      "text/html": [
       "<div>\n",
       "<style scoped>\n",
       "    .dataframe tbody tr th:only-of-type {\n",
       "        vertical-align: middle;\n",
       "    }\n",
       "\n",
       "    .dataframe tbody tr th {\n",
       "        vertical-align: top;\n",
       "    }\n",
       "\n",
       "    .dataframe thead th {\n",
       "        text-align: right;\n",
       "    }\n",
       "</style>\n",
       "<table border=\"1\" class=\"dataframe\">\n",
       "  <thead>\n",
       "    <tr style=\"text-align: right;\">\n",
       "      <th></th>\n",
       "      <th>Term</th>\n",
       "      <th>Genes</th>\n",
       "      <th>Gene_set</th>\n",
       "      <th>Adjusted P-value</th>\n",
       "    </tr>\n",
       "  </thead>\n",
       "  <tbody>\n",
       "    <tr>\n",
       "      <th>0</th>\n",
       "      <td>Metallothioneins Bind Metals R-HSA-5661231</td>\n",
       "      <td>MT2A</td>\n",
       "      <td>Reactome_2022</td>\n",
       "      <td>0.099573</td>\n",
       "    </tr>\n",
       "    <tr>\n",
       "      <th>1</th>\n",
       "      <td>Response To Metal Ions R-HSA-5660526</td>\n",
       "      <td>MT2A</td>\n",
       "      <td>Reactome_2022</td>\n",
       "      <td>0.099573</td>\n",
       "    </tr>\n",
       "    <tr>\n",
       "      <th>2</th>\n",
       "      <td>mRNA Decay By 5 To 3 Exoribonuclease R-HSA-430039</td>\n",
       "      <td>DDX6</td>\n",
       "      <td>Reactome_2022</td>\n",
       "      <td>0.099573</td>\n",
       "    </tr>\n",
       "    <tr>\n",
       "      <th>3</th>\n",
       "      <td>Response Of EIF2AK1 (HRI) To Heme Deficiency R...</td>\n",
       "      <td>EIF2AK1</td>\n",
       "      <td>Reactome_2022</td>\n",
       "      <td>0.099573</td>\n",
       "    </tr>\n",
       "    <tr>\n",
       "      <th>4</th>\n",
       "      <td>Processing Of SMDT1 R-HSA-8949664</td>\n",
       "      <td>PARL</td>\n",
       "      <td>Reactome_2022</td>\n",
       "      <td>0.099573</td>\n",
       "    </tr>\n",
       "  </tbody>\n",
       "</table>\n",
       "</div>"
      ],
      "text/plain": [
       "                                                Term    Genes       Gene_set  \\\n",
       "0         Metallothioneins Bind Metals R-HSA-5661231     MT2A  Reactome_2022   \n",
       "1               Response To Metal Ions R-HSA-5660526     MT2A  Reactome_2022   \n",
       "2  mRNA Decay By 5 To 3 Exoribonuclease R-HSA-430039     DDX6  Reactome_2022   \n",
       "3  Response Of EIF2AK1 (HRI) To Heme Deficiency R...  EIF2AK1  Reactome_2022   \n",
       "4                  Processing Of SMDT1 R-HSA-8949664     PARL  Reactome_2022   \n",
       "\n",
       "   Adjusted P-value  \n",
       "0          0.099573  \n",
       "1          0.099573  \n",
       "2          0.099573  \n",
       "3          0.099573  \n",
       "4          0.099573  "
      ]
     },
     "metadata": {},
     "output_type": "display_data"
    },
    {
     "data": {
      "text/html": [
       "<div>\n",
       "<style scoped>\n",
       "    .dataframe tbody tr th:only-of-type {\n",
       "        vertical-align: middle;\n",
       "    }\n",
       "\n",
       "    .dataframe tbody tr th {\n",
       "        vertical-align: top;\n",
       "    }\n",
       "\n",
       "    .dataframe thead th {\n",
       "        text-align: right;\n",
       "    }\n",
       "</style>\n",
       "<table border=\"1\" class=\"dataframe\">\n",
       "  <thead>\n",
       "    <tr style=\"text-align: right;\">\n",
       "      <th></th>\n",
       "      <th>Term</th>\n",
       "      <th>Genes</th>\n",
       "      <th>Gene_set</th>\n",
       "      <th>Adjusted P-value</th>\n",
       "    </tr>\n",
       "  </thead>\n",
       "  <tbody>\n",
       "    <tr>\n",
       "      <th>0</th>\n",
       "      <td>Post-translational Protein Phosphorylation R-H...</td>\n",
       "      <td>CST3;MIA3</td>\n",
       "      <td>Reactome_2022</td>\n",
       "      <td>0.122784</td>\n",
       "    </tr>\n",
       "    <tr>\n",
       "      <th>1</th>\n",
       "      <td>Regulation Of IGF Transport And Uptake By IGFB...</td>\n",
       "      <td>CST3;MIA3</td>\n",
       "      <td>Reactome_2022</td>\n",
       "      <td>0.122784</td>\n",
       "    </tr>\n",
       "    <tr>\n",
       "      <th>2</th>\n",
       "      <td>Aryl Hydrocarbon Receptor Signaling R-HSA-8937144</td>\n",
       "      <td>MIA3</td>\n",
       "      <td>Reactome_2022</td>\n",
       "      <td>0.122784</td>\n",
       "    </tr>\n",
       "    <tr>\n",
       "      <th>3</th>\n",
       "      <td>SLBP Independent Processing Of Histone Pre-mRN...</td>\n",
       "      <td>LSM10</td>\n",
       "      <td>Reactome_2022</td>\n",
       "      <td>0.122784</td>\n",
       "    </tr>\n",
       "    <tr>\n",
       "      <th>4</th>\n",
       "      <td>Regulation Of Gene Expression By Hypoxia-induc...</td>\n",
       "      <td>MIA3</td>\n",
       "      <td>Reactome_2022</td>\n",
       "      <td>0.122784</td>\n",
       "    </tr>\n",
       "  </tbody>\n",
       "</table>\n",
       "</div>"
      ],
      "text/plain": [
       "                                                Term      Genes  \\\n",
       "0  Post-translational Protein Phosphorylation R-H...  CST3;MIA3   \n",
       "1  Regulation Of IGF Transport And Uptake By IGFB...  CST3;MIA3   \n",
       "2  Aryl Hydrocarbon Receptor Signaling R-HSA-8937144       MIA3   \n",
       "3  SLBP Independent Processing Of Histone Pre-mRN...      LSM10   \n",
       "4  Regulation Of Gene Expression By Hypoxia-induc...       MIA3   \n",
       "\n",
       "        Gene_set  Adjusted P-value  \n",
       "0  Reactome_2022          0.122784  \n",
       "1  Reactome_2022          0.122784  \n",
       "2  Reactome_2022          0.122784  \n",
       "3  Reactome_2022          0.122784  \n",
       "4  Reactome_2022          0.122784  "
      ]
     },
     "metadata": {},
     "output_type": "display_data"
    },
    {
     "name": "stdout",
     "output_type": "stream",
     "text": [
      "======================================== Component 2 ========================================\n"
     ]
    },
    {
     "data": {
      "text/html": [
       "<div>\n",
       "<style scoped>\n",
       "    .dataframe tbody tr th:only-of-type {\n",
       "        vertical-align: middle;\n",
       "    }\n",
       "\n",
       "    .dataframe tbody tr th {\n",
       "        vertical-align: top;\n",
       "    }\n",
       "\n",
       "    .dataframe thead th {\n",
       "        text-align: right;\n",
       "    }\n",
       "</style>\n",
       "<table border=\"1\" class=\"dataframe\">\n",
       "  <thead>\n",
       "    <tr style=\"text-align: right;\">\n",
       "      <th></th>\n",
       "      <th>Term</th>\n",
       "      <th>Genes</th>\n",
       "      <th>Gene_set</th>\n",
       "      <th>Adjusted P-value</th>\n",
       "    </tr>\n",
       "  </thead>\n",
       "  <tbody>\n",
       "    <tr>\n",
       "      <th>0</th>\n",
       "      <td>Aberrant Regulation Of Mitotic Cell Cycle Due ...</td>\n",
       "      <td>FZR1;CDK4</td>\n",
       "      <td>Reactome_2022</td>\n",
       "      <td>0.042157</td>\n",
       "    </tr>\n",
       "    <tr>\n",
       "      <th>1</th>\n",
       "      <td>Diseases Of Mitotic Cell Cycle R-HSA-9675126</td>\n",
       "      <td>FZR1;CDK4</td>\n",
       "      <td>Reactome_2022</td>\n",
       "      <td>0.042157</td>\n",
       "    </tr>\n",
       "    <tr>\n",
       "      <th>2</th>\n",
       "      <td>RNA Polymerase II Transcription R-HSA-73857</td>\n",
       "      <td>POMC;FZR1;CDK4;NABP2;NR1D2;COX7C</td>\n",
       "      <td>Reactome_2022</td>\n",
       "      <td>0.059051</td>\n",
       "    </tr>\n",
       "    <tr>\n",
       "      <th>3</th>\n",
       "      <td>Gene Expression (Transcription) R-HSA-74160</td>\n",
       "      <td>POMC;FZR1;CDK4;NABP2;NR1D2;COX7C</td>\n",
       "      <td>Reactome_2022</td>\n",
       "      <td>0.064346</td>\n",
       "    </tr>\n",
       "    <tr>\n",
       "      <th>4</th>\n",
       "      <td>Senescence-Associated Secretory Phenotype (SAS...</td>\n",
       "      <td>FZR1;CDK4</td>\n",
       "      <td>Reactome_2022</td>\n",
       "      <td>0.064346</td>\n",
       "    </tr>\n",
       "  </tbody>\n",
       "</table>\n",
       "</div>"
      ],
      "text/plain": [
       "                                                Term  \\\n",
       "0  Aberrant Regulation Of Mitotic Cell Cycle Due ...   \n",
       "1       Diseases Of Mitotic Cell Cycle R-HSA-9675126   \n",
       "2        RNA Polymerase II Transcription R-HSA-73857   \n",
       "3        Gene Expression (Transcription) R-HSA-74160   \n",
       "4  Senescence-Associated Secretory Phenotype (SAS...   \n",
       "\n",
       "                              Genes       Gene_set  Adjusted P-value  \n",
       "0                         FZR1;CDK4  Reactome_2022          0.042157  \n",
       "1                         FZR1;CDK4  Reactome_2022          0.042157  \n",
       "2  POMC;FZR1;CDK4;NABP2;NR1D2;COX7C  Reactome_2022          0.059051  \n",
       "3  POMC;FZR1;CDK4;NABP2;NR1D2;COX7C  Reactome_2022          0.064346  \n",
       "4                         FZR1;CDK4  Reactome_2022          0.064346  "
      ]
     },
     "metadata": {},
     "output_type": "display_data"
    },
    {
     "data": {
      "text/html": [
       "<div>\n",
       "<style scoped>\n",
       "    .dataframe tbody tr th:only-of-type {\n",
       "        vertical-align: middle;\n",
       "    }\n",
       "\n",
       "    .dataframe tbody tr th {\n",
       "        vertical-align: top;\n",
       "    }\n",
       "\n",
       "    .dataframe thead th {\n",
       "        text-align: right;\n",
       "    }\n",
       "</style>\n",
       "<table border=\"1\" class=\"dataframe\">\n",
       "  <thead>\n",
       "    <tr style=\"text-align: right;\">\n",
       "      <th></th>\n",
       "      <th>Term</th>\n",
       "      <th>Genes</th>\n",
       "      <th>Gene_set</th>\n",
       "      <th>Adjusted P-value</th>\n",
       "    </tr>\n",
       "  </thead>\n",
       "  <tbody>\n",
       "    <tr>\n",
       "      <th>0</th>\n",
       "      <td>Regulation Of Expression Of SLITs And ROBOs R-...</td>\n",
       "      <td>PSME2;RNPS1;RPL15</td>\n",
       "      <td>Reactome_2022</td>\n",
       "      <td>0.119211</td>\n",
       "    </tr>\n",
       "    <tr>\n",
       "      <th>1</th>\n",
       "      <td>Signaling By ROBO Receptors R-HSA-376176</td>\n",
       "      <td>PSME2;RNPS1;RPL15</td>\n",
       "      <td>Reactome_2022</td>\n",
       "      <td>0.119211</td>\n",
       "    </tr>\n",
       "    <tr>\n",
       "      <th>2</th>\n",
       "      <td>VLDL Clearance R-HSA-8964046</td>\n",
       "      <td>LSR</td>\n",
       "      <td>Reactome_2022</td>\n",
       "      <td>0.160475</td>\n",
       "    </tr>\n",
       "    <tr>\n",
       "      <th>3</th>\n",
       "      <td>RUNX1 Regulates Transcription Of Genes Involve...</td>\n",
       "      <td>ELOF1</td>\n",
       "      <td>Reactome_2022</td>\n",
       "      <td>0.160475</td>\n",
       "    </tr>\n",
       "    <tr>\n",
       "      <th>4</th>\n",
       "      <td>MECP2 Regulates Transcription Factors R-HSA-90...</td>\n",
       "      <td>MECP2</td>\n",
       "      <td>Reactome_2022</td>\n",
       "      <td>0.160475</td>\n",
       "    </tr>\n",
       "  </tbody>\n",
       "</table>\n",
       "</div>"
      ],
      "text/plain": [
       "                                                Term              Genes  \\\n",
       "0  Regulation Of Expression Of SLITs And ROBOs R-...  PSME2;RNPS1;RPL15   \n",
       "1           Signaling By ROBO Receptors R-HSA-376176  PSME2;RNPS1;RPL15   \n",
       "2                       VLDL Clearance R-HSA-8964046                LSR   \n",
       "3  RUNX1 Regulates Transcription Of Genes Involve...              ELOF1   \n",
       "4  MECP2 Regulates Transcription Factors R-HSA-90...              MECP2   \n",
       "\n",
       "        Gene_set  Adjusted P-value  \n",
       "0  Reactome_2022          0.119211  \n",
       "1  Reactome_2022          0.119211  \n",
       "2  Reactome_2022          0.160475  \n",
       "3  Reactome_2022          0.160475  \n",
       "4  Reactome_2022          0.160475  "
      ]
     },
     "metadata": {},
     "output_type": "display_data"
    }
   ],
   "source": [
    "n_results = 5\n",
    "results_cols = [\"Term\", \"Genes\", \"Gene_set\", \"Adjusted P-value\"]\n",
    "\n",
    "for comp in range(n_top_comps):\n",
    "    print(\"=\"*40, \"Component\", comp, \"=\"*40)\n",
    "    for i in range(2):\n",
    "        enr = gp.enrichr(\n",
    "            gene_list=gene_lists_bmlp[comp, i].tolist(),\n",
    "            gene_sets=[\n",
    "                # \"GO_Biological_Process_2023\",\n",
    "                # \"KEGG_2021_Human\",\n",
    "                \"Reactome_2022\"\n",
    "            ],\n",
    "            cutoff=0.05,\n",
    "        )\n",
    "        display(enr.results.head(n_results)[results_cols])"
   ]
  },
  {
   "cell_type": "markdown",
   "id": "c21a7a5b",
   "metadata": {},
   "source": [
    "## PCA"
   ]
  },
  {
   "cell_type": "markdown",
   "id": "4ef94836",
   "metadata": {},
   "source": [
    "### Gene markers"
   ]
  },
  {
   "cell_type": "code",
   "execution_count": null,
   "id": "3e74e123",
   "metadata": {},
   "outputs": [],
   "source": [
    "cov = adata.X.T @ adata.X\n",
    "cov = torch.tensor(cov.toarray()).to(DEVICE)"
   ]
  },
  {
   "cell_type": "code",
   "execution_count": null,
   "id": "49403cb6",
   "metadata": {},
   "outputs": [],
   "source": [
    "# Eigendecompose to get gene module weights\n",
    "_, vecs_cov = torch.linalg.eigh(cov)\n",
    "vecs_cov = vecs_cov.flip([1])"
   ]
  },
  {
   "cell_type": "code",
   "execution_count": null,
   "id": "8878b430",
   "metadata": {},
   "outputs": [],
   "source": [
    "# Get gene names per module (i.e. component; \"comp\")\n",
    "n_top_comps = 3\n",
    "n_top_genes = 20\n",
    "gene_names = adata.var_names.values\n",
    "gene_lists_cov = get_marker_gene_lists(\n",
    "    gene_names, vecs_cov, n_top_comps=n_top_comps, n_top_genes=n_top_genes\n",
    ")  # [comp, top/bottom, gene]"
   ]
  },
  {
   "cell_type": "code",
   "execution_count": null,
   "id": "7b7ff978",
   "metadata": {},
   "outputs": [
    {
     "name": "stdout",
     "output_type": "stream",
     "text": [
      "==================== Component 0 ====================\n",
      "Top genes: ['HBD' 'NRP1' 'GUCY1A3' 'LINC00900' 'ARHGAP22' 'LIPN' 'RP11-262H14.1'\n",
      " 'IDO2']...\n",
      "Bottom genes: ['MALAT1' 'B2M' 'TMSB4X' 'FTH1' 'HLA-B' 'RPS2' 'RPL10' 'RPL13']...\n",
      "==================== Component 1 ====================\n",
      "Top genes: ['FTL' 'FTH1' 'TIMP1' 'ISG15' 'SOD2' 'CXCL10' 'C15orf48' 'CCL2']...\n",
      "Bottom genes: ['RPL3' 'RPS6' 'RPL21' 'RPS18' 'RPL7' 'RPL13A' 'RPS3' 'RPL13']...\n",
      "==================== Component 2 ====================\n",
      "Top genes: ['ISG15' 'ISG20' 'IFIT3' 'IFI6' 'CXCL10' 'IFIT1' 'LY6E' 'TNFSF10']...\n",
      "Bottom genes: ['FTH1' 'FTL' 'TIMP1' 'ACTB' 'IL8' 'GAPDH' 'PFN1' 'S100A8']...\n"
     ]
    }
   ],
   "source": [
    "for i in range(n_top_comps):\n",
    "    print(\"=\"*20, \"Component\", i, \"=\"*20)\n",
    "    print(f\"Top genes: {gene_lists_cov[i,0,:8]}...\")\n",
    "    print(f\"Bottom genes: {gene_lists_cov[i,1,:8]}...\")"
   ]
  },
  {
   "cell_type": "markdown",
   "id": "27913480",
   "metadata": {},
   "source": [
    "### GO analysis"
   ]
  },
  {
   "cell_type": "code",
   "execution_count": null,
   "id": "5c6f9ff1",
   "metadata": {},
   "outputs": [
    {
     "name": "stdout",
     "output_type": "stream",
     "text": [
      "======================================== Component 0 ========================================\n"
     ]
    },
    {
     "data": {
      "text/html": [
       "<div>\n",
       "<style scoped>\n",
       "    .dataframe tbody tr th:only-of-type {\n",
       "        vertical-align: middle;\n",
       "    }\n",
       "\n",
       "    .dataframe tbody tr th {\n",
       "        vertical-align: top;\n",
       "    }\n",
       "\n",
       "    .dataframe thead th {\n",
       "        text-align: right;\n",
       "    }\n",
       "</style>\n",
       "<table border=\"1\" class=\"dataframe\">\n",
       "  <thead>\n",
       "    <tr style=\"text-align: right;\">\n",
       "      <th></th>\n",
       "      <th>Term</th>\n",
       "      <th>Genes</th>\n",
       "      <th>Gene_set</th>\n",
       "      <th>Adjusted P-value</th>\n",
       "    </tr>\n",
       "  </thead>\n",
       "  <tbody>\n",
       "    <tr>\n",
       "      <th>0</th>\n",
       "      <td>Transport And Synthesis Of PAPS R-HSA-174362</td>\n",
       "      <td>PAPSS2</td>\n",
       "      <td>Reactome_2022</td>\n",
       "      <td>0.129487</td>\n",
       "    </tr>\n",
       "    <tr>\n",
       "      <th>1</th>\n",
       "      <td>CHL1 Interactions R-HSA-447041</td>\n",
       "      <td>NRP1</td>\n",
       "      <td>Reactome_2022</td>\n",
       "      <td>0.129487</td>\n",
       "    </tr>\n",
       "    <tr>\n",
       "      <th>2</th>\n",
       "      <td>Tryptophan Catabolism R-HSA-71240</td>\n",
       "      <td>IDO2</td>\n",
       "      <td>Reactome_2022</td>\n",
       "      <td>0.129487</td>\n",
       "    </tr>\n",
       "    <tr>\n",
       "      <th>3</th>\n",
       "      <td>SEMA3A-Plexin Repulsion Signaling By Inhibitin...</td>\n",
       "      <td>NRP1</td>\n",
       "      <td>Reactome_2022</td>\n",
       "      <td>0.129487</td>\n",
       "    </tr>\n",
       "    <tr>\n",
       "      <th>4</th>\n",
       "      <td>Glycogen Breakdown (Glycogenolysis) R-HSA-70221</td>\n",
       "      <td>PYGL</td>\n",
       "      <td>Reactome_2022</td>\n",
       "      <td>0.129487</td>\n",
       "    </tr>\n",
       "  </tbody>\n",
       "</table>\n",
       "</div>"
      ],
      "text/plain": [
       "                                                Term   Genes       Gene_set  \\\n",
       "0       Transport And Synthesis Of PAPS R-HSA-174362  PAPSS2  Reactome_2022   \n",
       "1                     CHL1 Interactions R-HSA-447041    NRP1  Reactome_2022   \n",
       "2                  Tryptophan Catabolism R-HSA-71240    IDO2  Reactome_2022   \n",
       "3  SEMA3A-Plexin Repulsion Signaling By Inhibitin...    NRP1  Reactome_2022   \n",
       "4    Glycogen Breakdown (Glycogenolysis) R-HSA-70221    PYGL  Reactome_2022   \n",
       "\n",
       "   Adjusted P-value  \n",
       "0          0.129487  \n",
       "1          0.129487  \n",
       "2          0.129487  \n",
       "3          0.129487  \n",
       "4          0.129487  "
      ]
     },
     "metadata": {},
     "output_type": "display_data"
    },
    {
     "data": {
      "text/html": [
       "<div>\n",
       "<style scoped>\n",
       "    .dataframe tbody tr th:only-of-type {\n",
       "        vertical-align: middle;\n",
       "    }\n",
       "\n",
       "    .dataframe tbody tr th {\n",
       "        vertical-align: top;\n",
       "    }\n",
       "\n",
       "    .dataframe thead th {\n",
       "        text-align: right;\n",
       "    }\n",
       "</style>\n",
       "<table border=\"1\" class=\"dataframe\">\n",
       "  <thead>\n",
       "    <tr style=\"text-align: right;\">\n",
       "      <th></th>\n",
       "      <th>Term</th>\n",
       "      <th>Genes</th>\n",
       "      <th>Gene_set</th>\n",
       "      <th>Adjusted P-value</th>\n",
       "    </tr>\n",
       "  </thead>\n",
       "  <tbody>\n",
       "    <tr>\n",
       "      <th>0</th>\n",
       "      <td>Peptide Chain Elongation R-HSA-156902</td>\n",
       "      <td>RPS4X;RPS14;RPL3;RPL21;RPL32;RPS19;RPLP1;RPS6;...</td>\n",
       "      <td>Reactome_2022</td>\n",
       "      <td>2.429517e-20</td>\n",
       "    </tr>\n",
       "    <tr>\n",
       "      <th>1</th>\n",
       "      <td>Selenocysteine Synthesis R-HSA-2408557</td>\n",
       "      <td>RPS4X;RPS14;RPL3;RPL21;RPL32;RPS19;RPLP1;RPS6;...</td>\n",
       "      <td>Reactome_2022</td>\n",
       "      <td>2.429517e-20</td>\n",
       "    </tr>\n",
       "    <tr>\n",
       "      <th>2</th>\n",
       "      <td>Viral mRNA Translation R-HSA-192823</td>\n",
       "      <td>RPS4X;RPS14;RPL3;RPL21;RPL32;RPS19;RPLP1;RPS6;...</td>\n",
       "      <td>Reactome_2022</td>\n",
       "      <td>2.429517e-20</td>\n",
       "    </tr>\n",
       "    <tr>\n",
       "      <th>3</th>\n",
       "      <td>Eukaryotic Translation Elongation R-HSA-156842</td>\n",
       "      <td>RPS4X;RPS14;RPL3;RPL21;RPL32;RPS19;RPLP1;RPS6;...</td>\n",
       "      <td>Reactome_2022</td>\n",
       "      <td>2.429517e-20</td>\n",
       "    </tr>\n",
       "    <tr>\n",
       "      <th>4</th>\n",
       "      <td>Eukaryotic Translation Termination R-HSA-72764</td>\n",
       "      <td>RPS4X;RPS14;RPL3;RPL21;RPL32;RPS19;RPLP1;RPS6;...</td>\n",
       "      <td>Reactome_2022</td>\n",
       "      <td>2.429517e-20</td>\n",
       "    </tr>\n",
       "  </tbody>\n",
       "</table>\n",
       "</div>"
      ],
      "text/plain": [
       "                                             Term  \\\n",
       "0           Peptide Chain Elongation R-HSA-156902   \n",
       "1          Selenocysteine Synthesis R-HSA-2408557   \n",
       "2             Viral mRNA Translation R-HSA-192823   \n",
       "3  Eukaryotic Translation Elongation R-HSA-156842   \n",
       "4  Eukaryotic Translation Termination R-HSA-72764   \n",
       "\n",
       "                                               Genes       Gene_set  \\\n",
       "0  RPS4X;RPS14;RPL3;RPL21;RPL32;RPS19;RPLP1;RPS6;...  Reactome_2022   \n",
       "1  RPS4X;RPS14;RPL3;RPL21;RPL32;RPS19;RPLP1;RPS6;...  Reactome_2022   \n",
       "2  RPS4X;RPS14;RPL3;RPL21;RPL32;RPS19;RPLP1;RPS6;...  Reactome_2022   \n",
       "3  RPS4X;RPS14;RPL3;RPL21;RPL32;RPS19;RPLP1;RPS6;...  Reactome_2022   \n",
       "4  RPS4X;RPS14;RPL3;RPL21;RPL32;RPS19;RPLP1;RPS6;...  Reactome_2022   \n",
       "\n",
       "   Adjusted P-value  \n",
       "0      2.429517e-20  \n",
       "1      2.429517e-20  \n",
       "2      2.429517e-20  \n",
       "3      2.429517e-20  \n",
       "4      2.429517e-20  "
      ]
     },
     "metadata": {},
     "output_type": "display_data"
    },
    {
     "name": "stdout",
     "output_type": "stream",
     "text": [
      "======================================== Component 1 ========================================\n"
     ]
    },
    {
     "data": {
      "text/html": [
       "<div>\n",
       "<style scoped>\n",
       "    .dataframe tbody tr th:only-of-type {\n",
       "        vertical-align: middle;\n",
       "    }\n",
       "\n",
       "    .dataframe tbody tr th {\n",
       "        vertical-align: top;\n",
       "    }\n",
       "\n",
       "    .dataframe thead th {\n",
       "        text-align: right;\n",
       "    }\n",
       "</style>\n",
       "<table border=\"1\" class=\"dataframe\">\n",
       "  <thead>\n",
       "    <tr style=\"text-align: right;\">\n",
       "      <th></th>\n",
       "      <th>Term</th>\n",
       "      <th>Genes</th>\n",
       "      <th>Gene_set</th>\n",
       "      <th>Adjusted P-value</th>\n",
       "    </tr>\n",
       "  </thead>\n",
       "  <tbody>\n",
       "    <tr>\n",
       "      <th>0</th>\n",
       "      <td>Immune System R-HSA-168256</td>\n",
       "      <td>IFITM3;CD63;CXCL10;TYROBP;FCER1G;FTH1;HLA-DRA;...</td>\n",
       "      <td>Reactome_2022</td>\n",
       "      <td>0.000003</td>\n",
       "    </tr>\n",
       "    <tr>\n",
       "      <th>1</th>\n",
       "      <td>Neutrophil Degranulation R-HSA-6798695</td>\n",
       "      <td>CD63;TYROBP;FCER1G;FTH1;S100A11;FTL</td>\n",
       "      <td>Reactome_2022</td>\n",
       "      <td>0.000194</td>\n",
       "    </tr>\n",
       "    <tr>\n",
       "      <th>2</th>\n",
       "      <td>Interleukin-10 Signaling R-HSA-6783783</td>\n",
       "      <td>CXCL10;CCL2;TIMP1</td>\n",
       "      <td>Reactome_2022</td>\n",
       "      <td>0.000327</td>\n",
       "    </tr>\n",
       "    <tr>\n",
       "      <th>3</th>\n",
       "      <td>Innate Immune System R-HSA-168249</td>\n",
       "      <td>CD63;TYROBP;FCER1G;FTH1;ISG15;S100A11;FTL</td>\n",
       "      <td>Reactome_2022</td>\n",
       "      <td>0.000773</td>\n",
       "    </tr>\n",
       "    <tr>\n",
       "      <th>4</th>\n",
       "      <td>Cytokine Signaling In Immune System R-HSA-1280215</td>\n",
       "      <td>IFITM3;CXCL10;HLA-DRA;CCL2;ISG15;TIMP1</td>\n",
       "      <td>Reactome_2022</td>\n",
       "      <td>0.000773</td>\n",
       "    </tr>\n",
       "  </tbody>\n",
       "</table>\n",
       "</div>"
      ],
      "text/plain": [
       "                                                Term  \\\n",
       "0                         Immune System R-HSA-168256   \n",
       "1             Neutrophil Degranulation R-HSA-6798695   \n",
       "2             Interleukin-10 Signaling R-HSA-6783783   \n",
       "3                  Innate Immune System R-HSA-168249   \n",
       "4  Cytokine Signaling In Immune System R-HSA-1280215   \n",
       "\n",
       "                                               Genes       Gene_set  \\\n",
       "0  IFITM3;CD63;CXCL10;TYROBP;FCER1G;FTH1;HLA-DRA;...  Reactome_2022   \n",
       "1                CD63;TYROBP;FCER1G;FTH1;S100A11;FTL  Reactome_2022   \n",
       "2                                  CXCL10;CCL2;TIMP1  Reactome_2022   \n",
       "3          CD63;TYROBP;FCER1G;FTH1;ISG15;S100A11;FTL  Reactome_2022   \n",
       "4             IFITM3;CXCL10;HLA-DRA;CCL2;ISG15;TIMP1  Reactome_2022   \n",
       "\n",
       "   Adjusted P-value  \n",
       "0          0.000003  \n",
       "1          0.000194  \n",
       "2          0.000327  \n",
       "3          0.000773  \n",
       "4          0.000773  "
      ]
     },
     "metadata": {},
     "output_type": "display_data"
    },
    {
     "data": {
      "text/html": [
       "<div>\n",
       "<style scoped>\n",
       "    .dataframe tbody tr th:only-of-type {\n",
       "        vertical-align: middle;\n",
       "    }\n",
       "\n",
       "    .dataframe tbody tr th {\n",
       "        vertical-align: top;\n",
       "    }\n",
       "\n",
       "    .dataframe thead th {\n",
       "        text-align: right;\n",
       "    }\n",
       "</style>\n",
       "<table border=\"1\" class=\"dataframe\">\n",
       "  <thead>\n",
       "    <tr style=\"text-align: right;\">\n",
       "      <th></th>\n",
       "      <th>Term</th>\n",
       "      <th>Genes</th>\n",
       "      <th>Gene_set</th>\n",
       "      <th>Adjusted P-value</th>\n",
       "    </tr>\n",
       "  </thead>\n",
       "  <tbody>\n",
       "    <tr>\n",
       "      <th>0</th>\n",
       "      <td>Peptide Chain Elongation R-HSA-156902</td>\n",
       "      <td>RPL3;RPL21;RPL32;RPL34;RPS5;RPS6;RPL13A;RPS3A;...</td>\n",
       "      <td>Reactome_2022</td>\n",
       "      <td>2.192849e-36</td>\n",
       "    </tr>\n",
       "    <tr>\n",
       "      <th>1</th>\n",
       "      <td>Viral mRNA Translation R-HSA-192823</td>\n",
       "      <td>RPL3;RPL21;RPL32;RPL34;RPS5;RPS6;RPL13A;RPS3A;...</td>\n",
       "      <td>Reactome_2022</td>\n",
       "      <td>2.192849e-36</td>\n",
       "    </tr>\n",
       "    <tr>\n",
       "      <th>2</th>\n",
       "      <td>Selenocysteine Synthesis R-HSA-2408557</td>\n",
       "      <td>RPL3;RPL21;RPL32;RPL34;RPS5;RPS6;RPL13A;RPS3A;...</td>\n",
       "      <td>Reactome_2022</td>\n",
       "      <td>2.192849e-36</td>\n",
       "    </tr>\n",
       "    <tr>\n",
       "      <th>3</th>\n",
       "      <td>Eukaryotic Translation Elongation R-HSA-156842</td>\n",
       "      <td>RPL3;RPL21;RPL32;RPL34;RPS5;RPS6;RPL13A;RPS3A;...</td>\n",
       "      <td>Reactome_2022</td>\n",
       "      <td>2.192849e-36</td>\n",
       "    </tr>\n",
       "    <tr>\n",
       "      <th>4</th>\n",
       "      <td>Eukaryotic Translation Termination R-HSA-72764</td>\n",
       "      <td>RPL3;RPL21;RPL32;RPL34;RPS5;RPS6;RPL13A;RPS3A;...</td>\n",
       "      <td>Reactome_2022</td>\n",
       "      <td>2.192849e-36</td>\n",
       "    </tr>\n",
       "  </tbody>\n",
       "</table>\n",
       "</div>"
      ],
      "text/plain": [
       "                                             Term  \\\n",
       "0           Peptide Chain Elongation R-HSA-156902   \n",
       "1             Viral mRNA Translation R-HSA-192823   \n",
       "2          Selenocysteine Synthesis R-HSA-2408557   \n",
       "3  Eukaryotic Translation Elongation R-HSA-156842   \n",
       "4  Eukaryotic Translation Termination R-HSA-72764   \n",
       "\n",
       "                                               Genes       Gene_set  \\\n",
       "0  RPL3;RPL21;RPL32;RPL34;RPS5;RPS6;RPL13A;RPS3A;...  Reactome_2022   \n",
       "1  RPL3;RPL21;RPL32;RPL34;RPS5;RPS6;RPL13A;RPS3A;...  Reactome_2022   \n",
       "2  RPL3;RPL21;RPL32;RPL34;RPS5;RPS6;RPL13A;RPS3A;...  Reactome_2022   \n",
       "3  RPL3;RPL21;RPL32;RPL34;RPS5;RPS6;RPL13A;RPS3A;...  Reactome_2022   \n",
       "4  RPL3;RPL21;RPL32;RPL34;RPS5;RPS6;RPL13A;RPS3A;...  Reactome_2022   \n",
       "\n",
       "   Adjusted P-value  \n",
       "0      2.192849e-36  \n",
       "1      2.192849e-36  \n",
       "2      2.192849e-36  \n",
       "3      2.192849e-36  \n",
       "4      2.192849e-36  "
      ]
     },
     "metadata": {},
     "output_type": "display_data"
    },
    {
     "name": "stdout",
     "output_type": "stream",
     "text": [
      "======================================== Component 2 ========================================\n"
     ]
    },
    {
     "data": {
      "text/html": [
       "<div>\n",
       "<style scoped>\n",
       "    .dataframe tbody tr th:only-of-type {\n",
       "        vertical-align: middle;\n",
       "    }\n",
       "\n",
       "    .dataframe tbody tr th {\n",
       "        vertical-align: top;\n",
       "    }\n",
       "\n",
       "    .dataframe thead th {\n",
       "        text-align: right;\n",
       "    }\n",
       "</style>\n",
       "<table border=\"1\" class=\"dataframe\">\n",
       "  <thead>\n",
       "    <tr style=\"text-align: right;\">\n",
       "      <th></th>\n",
       "      <th>Term</th>\n",
       "      <th>Genes</th>\n",
       "      <th>Gene_set</th>\n",
       "      <th>Adjusted P-value</th>\n",
       "    </tr>\n",
       "  </thead>\n",
       "  <tbody>\n",
       "    <tr>\n",
       "      <th>0</th>\n",
       "      <td>Interferon Alpha/Beta Signaling R-HSA-909733</td>\n",
       "      <td>IFITM3;ISG20;RSAD2;OAS1;MX1;IFI6;IRF7;ISG15;IF...</td>\n",
       "      <td>Reactome_2022</td>\n",
       "      <td>1.913127e-20</td>\n",
       "    </tr>\n",
       "    <tr>\n",
       "      <th>1</th>\n",
       "      <td>Interferon Signaling R-HSA-913531</td>\n",
       "      <td>IFITM3;ISG20;MT2A;RSAD2;OAS1;MX1;IFI6;IRF7;ISG...</td>\n",
       "      <td>Reactome_2022</td>\n",
       "      <td>8.327103e-18</td>\n",
       "    </tr>\n",
       "    <tr>\n",
       "      <th>2</th>\n",
       "      <td>Cytokine Signaling In Immune System R-HSA-1280215</td>\n",
       "      <td>IFITM3;RSAD2;MX1;IFI6;ISG15;IFIT1;IFIT3;IFIT2;...</td>\n",
       "      <td>Reactome_2022</td>\n",
       "      <td>7.983423e-15</td>\n",
       "    </tr>\n",
       "    <tr>\n",
       "      <th>3</th>\n",
       "      <td>Immune System R-HSA-168256</td>\n",
       "      <td>IFITM3;RSAD2;MX1;IFI6;ISG15;IFIT1;IFIT3;IFIT2;...</td>\n",
       "      <td>Reactome_2022</td>\n",
       "      <td>6.965282e-09</td>\n",
       "    </tr>\n",
       "    <tr>\n",
       "      <th>4</th>\n",
       "      <td>Antiviral Mechanism By IFN-stimulated Genes R-...</td>\n",
       "      <td>OAS1;MX1;ISG15;IFIT1</td>\n",
       "      <td>Reactome_2022</td>\n",
       "      <td>5.028582e-05</td>\n",
       "    </tr>\n",
       "  </tbody>\n",
       "</table>\n",
       "</div>"
      ],
      "text/plain": [
       "                                                Term  \\\n",
       "0       Interferon Alpha/Beta Signaling R-HSA-909733   \n",
       "1                  Interferon Signaling R-HSA-913531   \n",
       "2  Cytokine Signaling In Immune System R-HSA-1280215   \n",
       "3                         Immune System R-HSA-168256   \n",
       "4  Antiviral Mechanism By IFN-stimulated Genes R-...   \n",
       "\n",
       "                                               Genes       Gene_set  \\\n",
       "0  IFITM3;ISG20;RSAD2;OAS1;MX1;IFI6;IRF7;ISG15;IF...  Reactome_2022   \n",
       "1  IFITM3;ISG20;MT2A;RSAD2;OAS1;MX1;IFI6;IRF7;ISG...  Reactome_2022   \n",
       "2  IFITM3;RSAD2;MX1;IFI6;ISG15;IFIT1;IFIT3;IFIT2;...  Reactome_2022   \n",
       "3  IFITM3;RSAD2;MX1;IFI6;ISG15;IFIT1;IFIT3;IFIT2;...  Reactome_2022   \n",
       "4                               OAS1;MX1;ISG15;IFIT1  Reactome_2022   \n",
       "\n",
       "   Adjusted P-value  \n",
       "0      1.913127e-20  \n",
       "1      8.327103e-18  \n",
       "2      7.983423e-15  \n",
       "3      6.965282e-09  \n",
       "4      5.028582e-05  "
      ]
     },
     "metadata": {},
     "output_type": "display_data"
    },
    {
     "data": {
      "text/html": [
       "<div>\n",
       "<style scoped>\n",
       "    .dataframe tbody tr th:only-of-type {\n",
       "        vertical-align: middle;\n",
       "    }\n",
       "\n",
       "    .dataframe tbody tr th {\n",
       "        vertical-align: top;\n",
       "    }\n",
       "\n",
       "    .dataframe thead th {\n",
       "        text-align: right;\n",
       "    }\n",
       "</style>\n",
       "<table border=\"1\" class=\"dataframe\">\n",
       "  <thead>\n",
       "    <tr style=\"text-align: right;\">\n",
       "      <th></th>\n",
       "      <th>Term</th>\n",
       "      <th>Genes</th>\n",
       "      <th>Gene_set</th>\n",
       "      <th>Adjusted P-value</th>\n",
       "    </tr>\n",
       "  </thead>\n",
       "  <tbody>\n",
       "    <tr>\n",
       "      <th>0</th>\n",
       "      <td>Scavenging By Class A Receptors R-HSA-3000480</td>\n",
       "      <td>FTH1;FTL</td>\n",
       "      <td>Reactome_2022</td>\n",
       "      <td>0.007335</td>\n",
       "    </tr>\n",
       "    <tr>\n",
       "      <th>1</th>\n",
       "      <td>Platelet Degranulation R-HSA-114608</td>\n",
       "      <td>CD63;TIMP1;PFN1</td>\n",
       "      <td>Reactome_2022</td>\n",
       "      <td>0.007335</td>\n",
       "    </tr>\n",
       "    <tr>\n",
       "      <th>2</th>\n",
       "      <td>Response To Elevated Platelet Cytosolic Ca2+ R...</td>\n",
       "      <td>CD63;TIMP1;PFN1</td>\n",
       "      <td>Reactome_2022</td>\n",
       "      <td>0.007335</td>\n",
       "    </tr>\n",
       "    <tr>\n",
       "      <th>3</th>\n",
       "      <td>Binding And Uptake Of Ligands By Scavenger Rec...</td>\n",
       "      <td>FTH1;FTL</td>\n",
       "      <td>Reactome_2022</td>\n",
       "      <td>0.014840</td>\n",
       "    </tr>\n",
       "    <tr>\n",
       "      <th>4</th>\n",
       "      <td>Neutrophil Degranulation R-HSA-6798695</td>\n",
       "      <td>CD63;FTH1;S100A8;FTL</td>\n",
       "      <td>Reactome_2022</td>\n",
       "      <td>0.016198</td>\n",
       "    </tr>\n",
       "  </tbody>\n",
       "</table>\n",
       "</div>"
      ],
      "text/plain": [
       "                                                Term                 Genes  \\\n",
       "0      Scavenging By Class A Receptors R-HSA-3000480              FTH1;FTL   \n",
       "1                Platelet Degranulation R-HSA-114608       CD63;TIMP1;PFN1   \n",
       "2  Response To Elevated Platelet Cytosolic Ca2+ R...       CD63;TIMP1;PFN1   \n",
       "3  Binding And Uptake Of Ligands By Scavenger Rec...              FTH1;FTL   \n",
       "4             Neutrophil Degranulation R-HSA-6798695  CD63;FTH1;S100A8;FTL   \n",
       "\n",
       "        Gene_set  Adjusted P-value  \n",
       "0  Reactome_2022          0.007335  \n",
       "1  Reactome_2022          0.007335  \n",
       "2  Reactome_2022          0.007335  \n",
       "3  Reactome_2022          0.014840  \n",
       "4  Reactome_2022          0.016198  "
      ]
     },
     "metadata": {},
     "output_type": "display_data"
    }
   ],
   "source": [
    "n_results = 5\n",
    "results_cols = [\"Term\", \"Genes\", \"Gene_set\", \"Adjusted P-value\"]\n",
    "\n",
    "for comp in range(n_top_comps):\n",
    "    print(\"=\"*40, \"Component\", comp, \"=\"*40)\n",
    "    for i in range(2):\n",
    "        enr = gp.enrichr(\n",
    "            gene_list=gene_lists_cov[comp, i].tolist(),\n",
    "            gene_sets=[\n",
    "                # \"GO_Biological_Process_2023\",\n",
    "                # \"KEGG_2021_Human\",\n",
    "                \"Reactome_2022\"\n",
    "            ],\n",
    "            cutoff=0.05,\n",
    "        )\n",
    "        display(enr.results.head(n_results)[results_cols])"
   ]
  }
 ],
 "metadata": {
  "kernelspec": {
   "display_name": "perturb-env",
   "language": "python",
   "name": "python3"
  },
  "language_info": {
   "codemirror_mode": {
    "name": "ipython",
    "version": 3
   },
   "file_extension": ".py",
   "mimetype": "text/x-python",
   "name": "python",
   "nbconvert_exporter": "python",
   "pygments_lexer": "ipython3",
   "version": "3.13.6"
  }
 },
 "nbformat": 4,
 "nbformat_minor": 5
}
