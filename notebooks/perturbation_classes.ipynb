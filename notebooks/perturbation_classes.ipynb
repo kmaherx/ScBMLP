{
 "cells": [
  {
   "cell_type": "markdown",
   "id": "baea13ec",
   "metadata": {},
   "source": [
    "# Imports"
   ]
  },
  {
   "cell_type": "code",
   "execution_count": null,
   "id": "ac72944e",
   "metadata": {},
   "outputs": [],
   "source": [
    "from typing import Tuple, List, Dict, Any\n",
    "\n",
    "import pertpy as pt\n",
    "import scanpy as sc\n",
    "import numpy as np\n",
    "import plotly.express as px\n",
    "import pandas as pd\n",
    "import einops\n",
    "import gseapy as gp\n",
    "from gseapy import enrichr\n",
    "\n",
    "from scripts.datasets import ClassifierDataset\n",
    "from scripts.bmlp import ScBMLPClassifier, Config\n",
    "import torch"
   ]
  },
  {
   "cell_type": "markdown",
   "id": "a4000350",
   "metadata": {},
   "source": [
    "# Set params"
   ]
  },
  {
   "cell_type": "code",
   "execution_count": null,
   "id": "0050a236",
   "metadata": {},
   "outputs": [],
   "source": [
    "class_key = \"condition\"\n",
    "DEVICE = \"cpu\"  # faster than mps..."
   ]
  },
  {
   "cell_type": "markdown",
   "id": "69e7ca88",
   "metadata": {},
   "source": [
    "# Load data"
   ]
  },
  {
   "cell_type": "markdown",
   "id": "5a0ba47f",
   "metadata": {},
   "source": [
    "## Load and format"
   ]
  },
  {
   "cell_type": "code",
   "execution_count": null,
   "id": "2ef14095",
   "metadata": {},
   "outputs": [
    {
     "name": "stderr",
     "output_type": "stream",
     "text": [
      "/Users/kamal/code/projects/mi/bmlp/bmlp-env/lib/python3.9/site-packages/anndata/compat/__init__.py:329: FutureWarning: Moving element from .uns['neighbors']['distances'] to .obsp['distances'].\n",
      "\n",
      "This is where adjacency matrices should go now.\n",
      "  warn(\n",
      "/Users/kamal/code/projects/mi/bmlp/bmlp-env/lib/python3.9/site-packages/anndata/compat/__init__.py:329: FutureWarning: Moving element from .uns['neighbors']['connectivities'] to .obsp['connectivities'].\n",
      "\n",
      "This is where adjacency matrices should go now.\n",
      "  warn(\n",
      "/Users/kamal/code/projects/mi/bmlp/bmlp-env/lib/python3.9/site-packages/anndata/compat/__init__.py:329: FutureWarning: Moving element from .uns['neighbors']['distances'] to .obsp['distances'].\n",
      "\n",
      "This is where adjacency matrices should go now.\n",
      "  warn(\n",
      "/Users/kamal/code/projects/mi/bmlp/bmlp-env/lib/python3.9/site-packages/anndata/compat/__init__.py:329: FutureWarning: Moving element from .uns['neighbors']['connectivities'] to .obsp['connectivities'].\n",
      "\n",
      "This is where adjacency matrices should go now.\n",
      "  warn(\n"
     ]
    }
   ],
   "source": [
    "adata_train = sc.read(\"data/scgen-reproducibility/train_pbmc.h5ad\")\n",
    "adata_val = sc.read(\"data/scgen-reproducibility/valid_pbmc.h5ad\")"
   ]
  },
  {
   "cell_type": "code",
   "execution_count": null,
   "id": "8a284848",
   "metadata": {},
   "outputs": [
    {
     "data": {
      "text/plain": [
       "AnnData object with n_obs × n_vars = 16893 × 6998\n",
       "    obs: 'condition', 'n_counts', 'n_genes', 'mt_frac', 'cell_type'\n",
       "    var: 'gene_symbol', 'n_cells'\n",
       "    uns: 'cell_type_colors', 'condition_colors', 'neighbors'\n",
       "    obsm: 'X_pca', 'X_tsne', 'X_umap'\n",
       "    obsp: 'distances', 'connectivities'"
      ]
     },
     "metadata": {},
     "output_type": "display_data"
    }
   ],
   "source": [
    "adata_train"
   ]
  },
  {
   "cell_type": "code",
   "execution_count": null,
   "id": "6ed5f796",
   "metadata": {},
   "outputs": [
    {
     "data": {
      "text/html": [
       "<div>\n",
       "<style scoped>\n",
       "    .dataframe tbody tr th:only-of-type {\n",
       "        vertical-align: middle;\n",
       "    }\n",
       "\n",
       "    .dataframe tbody tr th {\n",
       "        vertical-align: top;\n",
       "    }\n",
       "\n",
       "    .dataframe thead th {\n",
       "        text-align: right;\n",
       "    }\n",
       "</style>\n",
       "<table border=\"1\" class=\"dataframe\">\n",
       "  <thead>\n",
       "    <tr style=\"text-align: right;\">\n",
       "      <th></th>\n",
       "      <th>condition</th>\n",
       "      <th>n_counts</th>\n",
       "      <th>n_genes</th>\n",
       "      <th>mt_frac</th>\n",
       "      <th>cell_type</th>\n",
       "    </tr>\n",
       "    <tr>\n",
       "      <th>index</th>\n",
       "      <th></th>\n",
       "      <th></th>\n",
       "      <th></th>\n",
       "      <th></th>\n",
       "      <th></th>\n",
       "    </tr>\n",
       "  </thead>\n",
       "  <tbody>\n",
       "    <tr>\n",
       "      <th>AAACATACCAAGCT-1-stimulated</th>\n",
       "      <td>stimulated</td>\n",
       "      <td>1160.0</td>\n",
       "      <td>589</td>\n",
       "      <td>0.0</td>\n",
       "      <td>NK</td>\n",
       "    </tr>\n",
       "    <tr>\n",
       "      <th>AAACATACCCCTAC-1-stimulated</th>\n",
       "      <td>stimulated</td>\n",
       "      <td>1729.0</td>\n",
       "      <td>795</td>\n",
       "      <td>0.0</td>\n",
       "      <td>Dendritic</td>\n",
       "    </tr>\n",
       "    <tr>\n",
       "      <th>AAACATACCCGTAA-1-stimulated</th>\n",
       "      <td>stimulated</td>\n",
       "      <td>1360.0</td>\n",
       "      <td>585</td>\n",
       "      <td>0.0</td>\n",
       "      <td>CD4T</td>\n",
       "    </tr>\n",
       "    <tr>\n",
       "      <th>AAACATACCCTCGT-1-stimulated</th>\n",
       "      <td>stimulated</td>\n",
       "      <td>1442.0</td>\n",
       "      <td>732</td>\n",
       "      <td>0.0</td>\n",
       "      <td>B</td>\n",
       "    </tr>\n",
       "    <tr>\n",
       "      <th>AAACATACGAGGTG-1-stimulated</th>\n",
       "      <td>stimulated</td>\n",
       "      <td>1237.0</td>\n",
       "      <td>546</td>\n",
       "      <td>0.0</td>\n",
       "      <td>CD4T</td>\n",
       "    </tr>\n",
       "    <tr>\n",
       "      <th>...</th>\n",
       "      <td>...</td>\n",
       "      <td>...</td>\n",
       "      <td>...</td>\n",
       "      <td>...</td>\n",
       "      <td>...</td>\n",
       "    </tr>\n",
       "    <tr>\n",
       "      <th>TTTGACTGGCGGAA-1-control</th>\n",
       "      <td>control</td>\n",
       "      <td>2505.0</td>\n",
       "      <td>821</td>\n",
       "      <td>0.0</td>\n",
       "      <td>CD8T</td>\n",
       "    </tr>\n",
       "    <tr>\n",
       "      <th>TTTGACTGTCGTAG-1-control</th>\n",
       "      <td>control</td>\n",
       "      <td>3704.0</td>\n",
       "      <td>1101</td>\n",
       "      <td>0.0</td>\n",
       "      <td>CD14+Mono</td>\n",
       "    </tr>\n",
       "    <tr>\n",
       "      <th>TTTGACTGTTACCT-1-control</th>\n",
       "      <td>control</td>\n",
       "      <td>2133.0</td>\n",
       "      <td>629</td>\n",
       "      <td>0.0</td>\n",
       "      <td>CD14+Mono</td>\n",
       "    </tr>\n",
       "    <tr>\n",
       "      <th>TTTGCATGCTTCGC-1-control</th>\n",
       "      <td>control</td>\n",
       "      <td>2317.0</td>\n",
       "      <td>875</td>\n",
       "      <td>0.0</td>\n",
       "      <td>B</td>\n",
       "    </tr>\n",
       "    <tr>\n",
       "      <th>TTTGCATGGTCCTC-1-control</th>\n",
       "      <td>control</td>\n",
       "      <td>1250.0</td>\n",
       "      <td>531</td>\n",
       "      <td>0.0</td>\n",
       "      <td>B</td>\n",
       "    </tr>\n",
       "  </tbody>\n",
       "</table>\n",
       "<p>16893 rows × 5 columns</p>\n",
       "</div>"
      ],
      "text/plain": [
       "                              condition  n_counts  n_genes  mt_frac  cell_type\n",
       "index                                                                         \n",
       "AAACATACCAAGCT-1-stimulated  stimulated    1160.0      589      0.0         NK\n",
       "AAACATACCCCTAC-1-stimulated  stimulated    1729.0      795      0.0  Dendritic\n",
       "AAACATACCCGTAA-1-stimulated  stimulated    1360.0      585      0.0       CD4T\n",
       "AAACATACCCTCGT-1-stimulated  stimulated    1442.0      732      0.0          B\n",
       "AAACATACGAGGTG-1-stimulated  stimulated    1237.0      546      0.0       CD4T\n",
       "...                                 ...       ...      ...      ...        ...\n",
       "TTTGACTGGCGGAA-1-control        control    2505.0      821      0.0       CD8T\n",
       "TTTGACTGTCGTAG-1-control        control    3704.0     1101      0.0  CD14+Mono\n",
       "TTTGACTGTTACCT-1-control        control    2133.0      629      0.0  CD14+Mono\n",
       "TTTGCATGCTTCGC-1-control        control    2317.0      875      0.0          B\n",
       "TTTGCATGGTCCTC-1-control        control    1250.0      531      0.0          B\n",
       "\n",
       "[16893 rows x 5 columns]"
      ]
     },
     "metadata": {},
     "output_type": "display_data"
    }
   ],
   "source": [
    "adata_train.obs"
   ]
  },
  {
   "cell_type": "code",
   "execution_count": null,
   "id": "a5d0843a",
   "metadata": {},
   "outputs": [
    {
     "data": {
      "text/plain": [
       "condition\n",
       "stimulated    8886\n",
       "control       8007\n",
       "Name: count, dtype: int64"
      ]
     },
     "metadata": {},
     "output_type": "display_data"
    }
   ],
   "source": [
    "adata_train.obs[\"condition\"].value_counts()"
   ]
  },
  {
   "cell_type": "code",
   "execution_count": null,
   "id": "b733039c",
   "metadata": {},
   "outputs": [],
   "source": [
    "train_dataset = ClassifierDataset(adata_train, class_key)\n",
    "val_dataset = ClassifierDataset(adata_val, class_key)"
   ]
  },
  {
   "cell_type": "markdown",
   "id": "5fe12057",
   "metadata": {},
   "source": [
    "## Visualize"
   ]
  },
  {
   "cell_type": "code",
   "execution_count": null,
   "id": "16015db7",
   "metadata": {},
   "outputs": [
    {
     "data": {
      "application/vnd.plotly.v1+json": {
       "config": {
        "plotlyServerURL": "https://plot.ly"
       },
       "data": [
        {
         "hovertemplate": "color=stimulated<br>x=%{x}<br>y=%{y}<extra></extra>",
         "legendgroup": "stimulated",
         "marker": {
          "color": "#636efa",
          "size": 5,
          "symbol": "circle"
         },
         "mode": "markers",
         "name": "stimulated",
         "showlegend": true,
         "type": "scattergl",
         "x": {
          "bdata": "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",
          "dtype": "f4"
         },
         "xaxis": "x",
         "y": {
          "bdata": "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",
          "dtype": "f4"
         },
         "yaxis": "y"
        },
        {
         "hovertemplate": "color=control<br>x=%{x}<br>y=%{y}<extra></extra>",
         "legendgroup": "control",
         "marker": {
          "color": "#EF553B",
          "size": 5,
          "symbol": "circle"
         },
         "mode": "markers",
         "name": "control",
         "showlegend": true,
         "type": "scattergl",
         "x": {
          "bdata": "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",
          "dtype": "f4"
         },
         "xaxis": "x",
         "y": {
          "bdata": "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",
          "dtype": "f4"
         },
         "yaxis": "y"
        }
       ],
       "layout": {
        "height": 600,
        "legend": {
         "title": {
          "text": "color"
         },
         "tracegroupgap": 0
        },
        "template": {
         "data": {
          "bar": [
           {
            "error_x": {
             "color": "#2a3f5f"
            },
            "error_y": {
             "color": "#2a3f5f"
            },
            "marker": {
             "line": {
              "color": "#E5ECF6",
              "width": 0.5
             },
             "pattern": {
              "fillmode": "overlay",
              "size": 10,
              "solidity": 0.2
             }
            },
            "type": "bar"
           }
          ],
          "barpolar": [
           {
            "marker": {
             "line": {
              "color": "#E5ECF6",
              "width": 0.5
             },
             "pattern": {
              "fillmode": "overlay",
              "size": 10,
              "solidity": 0.2
             }
            },
            "type": "barpolar"
           }
          ],
          "carpet": [
           {
            "aaxis": {
             "endlinecolor": "#2a3f5f",
             "gridcolor": "white",
             "linecolor": "white",
             "minorgridcolor": "white",
             "startlinecolor": "#2a3f5f"
            },
            "baxis": {
             "endlinecolor": "#2a3f5f",
             "gridcolor": "white",
             "linecolor": "white",
             "minorgridcolor": "white",
             "startlinecolor": "#2a3f5f"
            },
            "type": "carpet"
           }
          ],
          "choropleth": [
           {
            "colorbar": {
             "outlinewidth": 0,
             "ticks": ""
            },
            "type": "choropleth"
           }
          ],
          "contour": [
           {
            "colorbar": {
             "outlinewidth": 0,
             "ticks": ""
            },
            "colorscale": [
             [
              0,
              "#0d0887"
             ],
             [
              0.1111111111111111,
              "#46039f"
             ],
             [
              0.2222222222222222,
              "#7201a8"
             ],
             [
              0.3333333333333333,
              "#9c179e"
             ],
             [
              0.4444444444444444,
              "#bd3786"
             ],
             [
              0.5555555555555556,
              "#d8576b"
             ],
             [
              0.6666666666666666,
              "#ed7953"
             ],
             [
              0.7777777777777778,
              "#fb9f3a"
             ],
             [
              0.8888888888888888,
              "#fdca26"
             ],
             [
              1,
              "#f0f921"
             ]
            ],
            "type": "contour"
           }
          ],
          "contourcarpet": [
           {
            "colorbar": {
             "outlinewidth": 0,
             "ticks": ""
            },
            "type": "contourcarpet"
           }
          ],
          "heatmap": [
           {
            "colorbar": {
             "outlinewidth": 0,
             "ticks": ""
            },
            "colorscale": [
             [
              0,
              "#0d0887"
             ],
             [
              0.1111111111111111,
              "#46039f"
             ],
             [
              0.2222222222222222,
              "#7201a8"
             ],
             [
              0.3333333333333333,
              "#9c179e"
             ],
             [
              0.4444444444444444,
              "#bd3786"
             ],
             [
              0.5555555555555556,
              "#d8576b"
             ],
             [
              0.6666666666666666,
              "#ed7953"
             ],
             [
              0.7777777777777778,
              "#fb9f3a"
             ],
             [
              0.8888888888888888,
              "#fdca26"
             ],
             [
              1,
              "#f0f921"
             ]
            ],
            "type": "heatmap"
           }
          ],
          "histogram": [
           {
            "marker": {
             "pattern": {
              "fillmode": "overlay",
              "size": 10,
              "solidity": 0.2
             }
            },
            "type": "histogram"
           }
          ],
          "histogram2d": [
           {
            "colorbar": {
             "outlinewidth": 0,
             "ticks": ""
            },
            "colorscale": [
             [
              0,
              "#0d0887"
             ],
             [
              0.1111111111111111,
              "#46039f"
             ],
             [
              0.2222222222222222,
              "#7201a8"
             ],
             [
              0.3333333333333333,
              "#9c179e"
             ],
             [
              0.4444444444444444,
              "#bd3786"
             ],
             [
              0.5555555555555556,
              "#d8576b"
             ],
             [
              0.6666666666666666,
              "#ed7953"
             ],
             [
              0.7777777777777778,
              "#fb9f3a"
             ],
             [
              0.8888888888888888,
              "#fdca26"
             ],
             [
              1,
              "#f0f921"
             ]
            ],
            "type": "histogram2d"
           }
          ],
          "histogram2dcontour": [
           {
            "colorbar": {
             "outlinewidth": 0,
             "ticks": ""
            },
            "colorscale": [
             [
              0,
              "#0d0887"
             ],
             [
              0.1111111111111111,
              "#46039f"
             ],
             [
              0.2222222222222222,
              "#7201a8"
             ],
             [
              0.3333333333333333,
              "#9c179e"
             ],
             [
              0.4444444444444444,
              "#bd3786"
             ],
             [
              0.5555555555555556,
              "#d8576b"
             ],
             [
              0.6666666666666666,
              "#ed7953"
             ],
             [
              0.7777777777777778,
              "#fb9f3a"
             ],
             [
              0.8888888888888888,
              "#fdca26"
             ],
             [
              1,
              "#f0f921"
             ]
            ],
            "type": "histogram2dcontour"
           }
          ],
          "mesh3d": [
           {
            "colorbar": {
             "outlinewidth": 0,
             "ticks": ""
            },
            "type": "mesh3d"
           }
          ],
          "parcoords": [
           {
            "line": {
             "colorbar": {
              "outlinewidth": 0,
              "ticks": ""
             }
            },
            "type": "parcoords"
           }
          ],
          "pie": [
           {
            "automargin": true,
            "type": "pie"
           }
          ],
          "scatter": [
           {
            "fillpattern": {
             "fillmode": "overlay",
             "size": 10,
             "solidity": 0.2
            },
            "type": "scatter"
           }
          ],
          "scatter3d": [
           {
            "line": {
             "colorbar": {
              "outlinewidth": 0,
              "ticks": ""
             }
            },
            "marker": {
             "colorbar": {
              "outlinewidth": 0,
              "ticks": ""
             }
            },
            "type": "scatter3d"
           }
          ],
          "scattercarpet": [
           {
            "marker": {
             "colorbar": {
              "outlinewidth": 0,
              "ticks": ""
             }
            },
            "type": "scattercarpet"
           }
          ],
          "scattergeo": [
           {
            "marker": {
             "colorbar": {
              "outlinewidth": 0,
              "ticks": ""
             }
            },
            "type": "scattergeo"
           }
          ],
          "scattergl": [
           {
            "marker": {
             "colorbar": {
              "outlinewidth": 0,
              "ticks": ""
             }
            },
            "type": "scattergl"
           }
          ],
          "scattermap": [
           {
            "marker": {
             "colorbar": {
              "outlinewidth": 0,
              "ticks": ""
             }
            },
            "type": "scattermap"
           }
          ],
          "scattermapbox": [
           {
            "marker": {
             "colorbar": {
              "outlinewidth": 0,
              "ticks": ""
             }
            },
            "type": "scattermapbox"
           }
          ],
          "scatterpolar": [
           {
            "marker": {
             "colorbar": {
              "outlinewidth": 0,
              "ticks": ""
             }
            },
            "type": "scatterpolar"
           }
          ],
          "scatterpolargl": [
           {
            "marker": {
             "colorbar": {
              "outlinewidth": 0,
              "ticks": ""
             }
            },
            "type": "scatterpolargl"
           }
          ],
          "scatterternary": [
           {
            "marker": {
             "colorbar": {
              "outlinewidth": 0,
              "ticks": ""
             }
            },
            "type": "scatterternary"
           }
          ],
          "surface": [
           {
            "colorbar": {
             "outlinewidth": 0,
             "ticks": ""
            },
            "colorscale": [
             [
              0,
              "#0d0887"
             ],
             [
              0.1111111111111111,
              "#46039f"
             ],
             [
              0.2222222222222222,
              "#7201a8"
             ],
             [
              0.3333333333333333,
              "#9c179e"
             ],
             [
              0.4444444444444444,
              "#bd3786"
             ],
             [
              0.5555555555555556,
              "#d8576b"
             ],
             [
              0.6666666666666666,
              "#ed7953"
             ],
             [
              0.7777777777777778,
              "#fb9f3a"
             ],
             [
              0.8888888888888888,
              "#fdca26"
             ],
             [
              1,
              "#f0f921"
             ]
            ],
            "type": "surface"
           }
          ],
          "table": [
           {
            "cells": {
             "fill": {
              "color": "#EBF0F8"
             },
             "line": {
              "color": "white"
             }
            },
            "header": {
             "fill": {
              "color": "#C8D4E3"
             },
             "line": {
              "color": "white"
             }
            },
            "type": "table"
           }
          ]
         },
         "layout": {
          "annotationdefaults": {
           "arrowcolor": "#2a3f5f",
           "arrowhead": 0,
           "arrowwidth": 1
          },
          "autotypenumbers": "strict",
          "coloraxis": {
           "colorbar": {
            "outlinewidth": 0,
            "ticks": ""
           }
          },
          "colorscale": {
           "diverging": [
            [
             0,
             "#8e0152"
            ],
            [
             0.1,
             "#c51b7d"
            ],
            [
             0.2,
             "#de77ae"
            ],
            [
             0.3,
             "#f1b6da"
            ],
            [
             0.4,
             "#fde0ef"
            ],
            [
             0.5,
             "#f7f7f7"
            ],
            [
             0.6,
             "#e6f5d0"
            ],
            [
             0.7,
             "#b8e186"
            ],
            [
             0.8,
             "#7fbc41"
            ],
            [
             0.9,
             "#4d9221"
            ],
            [
             1,
             "#276419"
            ]
           ],
           "sequential": [
            [
             0,
             "#0d0887"
            ],
            [
             0.1111111111111111,
             "#46039f"
            ],
            [
             0.2222222222222222,
             "#7201a8"
            ],
            [
             0.3333333333333333,
             "#9c179e"
            ],
            [
             0.4444444444444444,
             "#bd3786"
            ],
            [
             0.5555555555555556,
             "#d8576b"
            ],
            [
             0.6666666666666666,
             "#ed7953"
            ],
            [
             0.7777777777777778,
             "#fb9f3a"
            ],
            [
             0.8888888888888888,
             "#fdca26"
            ],
            [
             1,
             "#f0f921"
            ]
           ],
           "sequentialminus": [
            [
             0,
             "#0d0887"
            ],
            [
             0.1111111111111111,
             "#46039f"
            ],
            [
             0.2222222222222222,
             "#7201a8"
            ],
            [
             0.3333333333333333,
             "#9c179e"
            ],
            [
             0.4444444444444444,
             "#bd3786"
            ],
            [
             0.5555555555555556,
             "#d8576b"
            ],
            [
             0.6666666666666666,
             "#ed7953"
            ],
            [
             0.7777777777777778,
             "#fb9f3a"
            ],
            [
             0.8888888888888888,
             "#fdca26"
            ],
            [
             1,
             "#f0f921"
            ]
           ]
          },
          "colorway": [
           "#636efa",
           "#EF553B",
           "#00cc96",
           "#ab63fa",
           "#FFA15A",
           "#19d3f3",
           "#FF6692",
           "#B6E880",
           "#FF97FF",
           "#FECB52"
          ],
          "font": {
           "color": "#2a3f5f"
          },
          "geo": {
           "bgcolor": "white",
           "lakecolor": "white",
           "landcolor": "#E5ECF6",
           "showlakes": true,
           "showland": true,
           "subunitcolor": "white"
          },
          "hoverlabel": {
           "align": "left"
          },
          "hovermode": "closest",
          "mapbox": {
           "style": "light"
          },
          "paper_bgcolor": "white",
          "plot_bgcolor": "#E5ECF6",
          "polar": {
           "angularaxis": {
            "gridcolor": "white",
            "linecolor": "white",
            "ticks": ""
           },
           "bgcolor": "#E5ECF6",
           "radialaxis": {
            "gridcolor": "white",
            "linecolor": "white",
            "ticks": ""
           }
          },
          "scene": {
           "xaxis": {
            "backgroundcolor": "#E5ECF6",
            "gridcolor": "white",
            "gridwidth": 2,
            "linecolor": "white",
            "showbackground": true,
            "ticks": "",
            "zerolinecolor": "white"
           },
           "yaxis": {
            "backgroundcolor": "#E5ECF6",
            "gridcolor": "white",
            "gridwidth": 2,
            "linecolor": "white",
            "showbackground": true,
            "ticks": "",
            "zerolinecolor": "white"
           },
           "zaxis": {
            "backgroundcolor": "#E5ECF6",
            "gridcolor": "white",
            "gridwidth": 2,
            "linecolor": "white",
            "showbackground": true,
            "ticks": "",
            "zerolinecolor": "white"
           }
          },
          "shapedefaults": {
           "line": {
            "color": "#2a3f5f"
           }
          },
          "ternary": {
           "aaxis": {
            "gridcolor": "white",
            "linecolor": "white",
            "ticks": ""
           },
           "baxis": {
            "gridcolor": "white",
            "linecolor": "white",
            "ticks": ""
           },
           "bgcolor": "#E5ECF6",
           "caxis": {
            "gridcolor": "white",
            "linecolor": "white",
            "ticks": ""
           }
          },
          "title": {
           "x": 0.05
          },
          "xaxis": {
           "automargin": true,
           "gridcolor": "white",
           "linecolor": "white",
           "ticks": "",
           "title": {
            "standoff": 15
           },
           "zerolinecolor": "white",
           "zerolinewidth": 2
          },
          "yaxis": {
           "automargin": true,
           "gridcolor": "white",
           "linecolor": "white",
           "ticks": "",
           "title": {
            "standoff": 15
           },
           "zerolinecolor": "white",
           "zerolinewidth": 2
          }
         }
        },
        "title": {
         "text": "PBMC IFN gamma dataset"
        },
        "width": 600,
        "xaxis": {
         "anchor": "y",
         "domain": [
          0,
          1
         ],
         "title": {
          "text": "x"
         }
        },
        "yaxis": {
         "anchor": "x",
         "domain": [
          0,
          1
         ],
         "title": {
          "text": "y"
         }
        }
       }
      }
     },
     "metadata": {},
     "output_type": "display_data"
    },
    {
     "data": {
      "application/vnd.plotly.v1+json": {
       "config": {
        "plotlyServerURL": "https://plot.ly"
       },
       "data": [
        {
         "hovertemplate": "color=control<br>x=%{x}<br>y=%{y}<extra></extra>",
         "legendgroup": "control",
         "marker": {
          "color": "#636efa",
          "size": 5,
          "symbol": "circle"
         },
         "mode": "markers",
         "name": "control",
         "showlegend": true,
         "type": "scattergl",
         "x": {
          "bdata": "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",
          "dtype": "f4"
         },
         "xaxis": "x",
         "y": {
          "bdata": "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",
          "dtype": "f4"
         },
         "yaxis": "y"
        },
        {
         "hovertemplate": "color=stimulated<br>x=%{x}<br>y=%{y}<extra></extra>",
         "legendgroup": "stimulated",
         "marker": {
          "color": "#EF553B",
          "size": 5,
          "symbol": "circle"
         },
         "mode": "markers",
         "name": "stimulated",
         "showlegend": true,
         "type": "scattergl",
         "x": {
          "bdata": "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",
          "dtype": "f4"
         },
         "xaxis": "x",
         "y": {
          "bdata": "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",
          "dtype": "f4"
         },
         "yaxis": "y"
        }
       ],
       "layout": {
        "height": 600,
        "legend": {
         "title": {
          "text": "color"
         },
         "tracegroupgap": 0
        },
        "template": {
         "data": {
          "bar": [
           {
            "error_x": {
             "color": "#2a3f5f"
            },
            "error_y": {
             "color": "#2a3f5f"
            },
            "marker": {
             "line": {
              "color": "#E5ECF6",
              "width": 0.5
             },
             "pattern": {
              "fillmode": "overlay",
              "size": 10,
              "solidity": 0.2
             }
            },
            "type": "bar"
           }
          ],
          "barpolar": [
           {
            "marker": {
             "line": {
              "color": "#E5ECF6",
              "width": 0.5
             },
             "pattern": {
              "fillmode": "overlay",
              "size": 10,
              "solidity": 0.2
             }
            },
            "type": "barpolar"
           }
          ],
          "carpet": [
           {
            "aaxis": {
             "endlinecolor": "#2a3f5f",
             "gridcolor": "white",
             "linecolor": "white",
             "minorgridcolor": "white",
             "startlinecolor": "#2a3f5f"
            },
            "baxis": {
             "endlinecolor": "#2a3f5f",
             "gridcolor": "white",
             "linecolor": "white",
             "minorgridcolor": "white",
             "startlinecolor": "#2a3f5f"
            },
            "type": "carpet"
           }
          ],
          "choropleth": [
           {
            "colorbar": {
             "outlinewidth": 0,
             "ticks": ""
            },
            "type": "choropleth"
           }
          ],
          "contour": [
           {
            "colorbar": {
             "outlinewidth": 0,
             "ticks": ""
            },
            "colorscale": [
             [
              0,
              "#0d0887"
             ],
             [
              0.1111111111111111,
              "#46039f"
             ],
             [
              0.2222222222222222,
              "#7201a8"
             ],
             [
              0.3333333333333333,
              "#9c179e"
             ],
             [
              0.4444444444444444,
              "#bd3786"
             ],
             [
              0.5555555555555556,
              "#d8576b"
             ],
             [
              0.6666666666666666,
              "#ed7953"
             ],
             [
              0.7777777777777778,
              "#fb9f3a"
             ],
             [
              0.8888888888888888,
              "#fdca26"
             ],
             [
              1,
              "#f0f921"
             ]
            ],
            "type": "contour"
           }
          ],
          "contourcarpet": [
           {
            "colorbar": {
             "outlinewidth": 0,
             "ticks": ""
            },
            "type": "contourcarpet"
           }
          ],
          "heatmap": [
           {
            "colorbar": {
             "outlinewidth": 0,
             "ticks": ""
            },
            "colorscale": [
             [
              0,
              "#0d0887"
             ],
             [
              0.1111111111111111,
              "#46039f"
             ],
             [
              0.2222222222222222,
              "#7201a8"
             ],
             [
              0.3333333333333333,
              "#9c179e"
             ],
             [
              0.4444444444444444,
              "#bd3786"
             ],
             [
              0.5555555555555556,
              "#d8576b"
             ],
             [
              0.6666666666666666,
              "#ed7953"
             ],
             [
              0.7777777777777778,
              "#fb9f3a"
             ],
             [
              0.8888888888888888,
              "#fdca26"
             ],
             [
              1,
              "#f0f921"
             ]
            ],
            "type": "heatmap"
           }
          ],
          "histogram": [
           {
            "marker": {
             "pattern": {
              "fillmode": "overlay",
              "size": 10,
              "solidity": 0.2
             }
            },
            "type": "histogram"
           }
          ],
          "histogram2d": [
           {
            "colorbar": {
             "outlinewidth": 0,
             "ticks": ""
            },
            "colorscale": [
             [
              0,
              "#0d0887"
             ],
             [
              0.1111111111111111,
              "#46039f"
             ],
             [
              0.2222222222222222,
              "#7201a8"
             ],
             [
              0.3333333333333333,
              "#9c179e"
             ],
             [
              0.4444444444444444,
              "#bd3786"
             ],
             [
              0.5555555555555556,
              "#d8576b"
             ],
             [
              0.6666666666666666,
              "#ed7953"
             ],
             [
              0.7777777777777778,
              "#fb9f3a"
             ],
             [
              0.8888888888888888,
              "#fdca26"
             ],
             [
              1,
              "#f0f921"
             ]
            ],
            "type": "histogram2d"
           }
          ],
          "histogram2dcontour": [
           {
            "colorbar": {
             "outlinewidth": 0,
             "ticks": ""
            },
            "colorscale": [
             [
              0,
              "#0d0887"
             ],
             [
              0.1111111111111111,
              "#46039f"
             ],
             [
              0.2222222222222222,
              "#7201a8"
             ],
             [
              0.3333333333333333,
              "#9c179e"
             ],
             [
              0.4444444444444444,
              "#bd3786"
             ],
             [
              0.5555555555555556,
              "#d8576b"
             ],
             [
              0.6666666666666666,
              "#ed7953"
             ],
             [
              0.7777777777777778,
              "#fb9f3a"
             ],
             [
              0.8888888888888888,
              "#fdca26"
             ],
             [
              1,
              "#f0f921"
             ]
            ],
            "type": "histogram2dcontour"
           }
          ],
          "mesh3d": [
           {
            "colorbar": {
             "outlinewidth": 0,
             "ticks": ""
            },
            "type": "mesh3d"
           }
          ],
          "parcoords": [
           {
            "line": {
             "colorbar": {
              "outlinewidth": 0,
              "ticks": ""
             }
            },
            "type": "parcoords"
           }
          ],
          "pie": [
           {
            "automargin": true,
            "type": "pie"
           }
          ],
          "scatter": [
           {
            "fillpattern": {
             "fillmode": "overlay",
             "size": 10,
             "solidity": 0.2
            },
            "type": "scatter"
           }
          ],
          "scatter3d": [
           {
            "line": {
             "colorbar": {
              "outlinewidth": 0,
              "ticks": ""
             }
            },
            "marker": {
             "colorbar": {
              "outlinewidth": 0,
              "ticks": ""
             }
            },
            "type": "scatter3d"
           }
          ],
          "scattercarpet": [
           {
            "marker": {
             "colorbar": {
              "outlinewidth": 0,
              "ticks": ""
             }
            },
            "type": "scattercarpet"
           }
          ],
          "scattergeo": [
           {
            "marker": {
             "colorbar": {
              "outlinewidth": 0,
              "ticks": ""
             }
            },
            "type": "scattergeo"
           }
          ],
          "scattergl": [
           {
            "marker": {
             "colorbar": {
              "outlinewidth": 0,
              "ticks": ""
             }
            },
            "type": "scattergl"
           }
          ],
          "scattermap": [
           {
            "marker": {
             "colorbar": {
              "outlinewidth": 0,
              "ticks": ""
             }
            },
            "type": "scattermap"
           }
          ],
          "scattermapbox": [
           {
            "marker": {
             "colorbar": {
              "outlinewidth": 0,
              "ticks": ""
             }
            },
            "type": "scattermapbox"
           }
          ],
          "scatterpolar": [
           {
            "marker": {
             "colorbar": {
              "outlinewidth": 0,
              "ticks": ""
             }
            },
            "type": "scatterpolar"
           }
          ],
          "scatterpolargl": [
           {
            "marker": {
             "colorbar": {
              "outlinewidth": 0,
              "ticks": ""
             }
            },
            "type": "scatterpolargl"
           }
          ],
          "scatterternary": [
           {
            "marker": {
             "colorbar": {
              "outlinewidth": 0,
              "ticks": ""
             }
            },
            "type": "scatterternary"
           }
          ],
          "surface": [
           {
            "colorbar": {
             "outlinewidth": 0,
             "ticks": ""
            },
            "colorscale": [
             [
              0,
              "#0d0887"
             ],
             [
              0.1111111111111111,
              "#46039f"
             ],
             [
              0.2222222222222222,
              "#7201a8"
             ],
             [
              0.3333333333333333,
              "#9c179e"
             ],
             [
              0.4444444444444444,
              "#bd3786"
             ],
             [
              0.5555555555555556,
              "#d8576b"
             ],
             [
              0.6666666666666666,
              "#ed7953"
             ],
             [
              0.7777777777777778,
              "#fb9f3a"
             ],
             [
              0.8888888888888888,
              "#fdca26"
             ],
             [
              1,
              "#f0f921"
             ]
            ],
            "type": "surface"
           }
          ],
          "table": [
           {
            "cells": {
             "fill": {
              "color": "#EBF0F8"
             },
             "line": {
              "color": "white"
             }
            },
            "header": {
             "fill": {
              "color": "#C8D4E3"
             },
             "line": {
              "color": "white"
             }
            },
            "type": "table"
           }
          ]
         },
         "layout": {
          "annotationdefaults": {
           "arrowcolor": "#2a3f5f",
           "arrowhead": 0,
           "arrowwidth": 1
          },
          "autotypenumbers": "strict",
          "coloraxis": {
           "colorbar": {
            "outlinewidth": 0,
            "ticks": ""
           }
          },
          "colorscale": {
           "diverging": [
            [
             0,
             "#8e0152"
            ],
            [
             0.1,
             "#c51b7d"
            ],
            [
             0.2,
             "#de77ae"
            ],
            [
             0.3,
             "#f1b6da"
            ],
            [
             0.4,
             "#fde0ef"
            ],
            [
             0.5,
             "#f7f7f7"
            ],
            [
             0.6,
             "#e6f5d0"
            ],
            [
             0.7,
             "#b8e186"
            ],
            [
             0.8,
             "#7fbc41"
            ],
            [
             0.9,
             "#4d9221"
            ],
            [
             1,
             "#276419"
            ]
           ],
           "sequential": [
            [
             0,
             "#0d0887"
            ],
            [
             0.1111111111111111,
             "#46039f"
            ],
            [
             0.2222222222222222,
             "#7201a8"
            ],
            [
             0.3333333333333333,
             "#9c179e"
            ],
            [
             0.4444444444444444,
             "#bd3786"
            ],
            [
             0.5555555555555556,
             "#d8576b"
            ],
            [
             0.6666666666666666,
             "#ed7953"
            ],
            [
             0.7777777777777778,
             "#fb9f3a"
            ],
            [
             0.8888888888888888,
             "#fdca26"
            ],
            [
             1,
             "#f0f921"
            ]
           ],
           "sequentialminus": [
            [
             0,
             "#0d0887"
            ],
            [
             0.1111111111111111,
             "#46039f"
            ],
            [
             0.2222222222222222,
             "#7201a8"
            ],
            [
             0.3333333333333333,
             "#9c179e"
            ],
            [
             0.4444444444444444,
             "#bd3786"
            ],
            [
             0.5555555555555556,
             "#d8576b"
            ],
            [
             0.6666666666666666,
             "#ed7953"
            ],
            [
             0.7777777777777778,
             "#fb9f3a"
            ],
            [
             0.8888888888888888,
             "#fdca26"
            ],
            [
             1,
             "#f0f921"
            ]
           ]
          },
          "colorway": [
           "#636efa",
           "#EF553B",
           "#00cc96",
           "#ab63fa",
           "#FFA15A",
           "#19d3f3",
           "#FF6692",
           "#B6E880",
           "#FF97FF",
           "#FECB52"
          ],
          "font": {
           "color": "#2a3f5f"
          },
          "geo": {
           "bgcolor": "white",
           "lakecolor": "white",
           "landcolor": "#E5ECF6",
           "showlakes": true,
           "showland": true,
           "subunitcolor": "white"
          },
          "hoverlabel": {
           "align": "left"
          },
          "hovermode": "closest",
          "mapbox": {
           "style": "light"
          },
          "paper_bgcolor": "white",
          "plot_bgcolor": "#E5ECF6",
          "polar": {
           "angularaxis": {
            "gridcolor": "white",
            "linecolor": "white",
            "ticks": ""
           },
           "bgcolor": "#E5ECF6",
           "radialaxis": {
            "gridcolor": "white",
            "linecolor": "white",
            "ticks": ""
           }
          },
          "scene": {
           "xaxis": {
            "backgroundcolor": "#E5ECF6",
            "gridcolor": "white",
            "gridwidth": 2,
            "linecolor": "white",
            "showbackground": true,
            "ticks": "",
            "zerolinecolor": "white"
           },
           "yaxis": {
            "backgroundcolor": "#E5ECF6",
            "gridcolor": "white",
            "gridwidth": 2,
            "linecolor": "white",
            "showbackground": true,
            "ticks": "",
            "zerolinecolor": "white"
           },
           "zaxis": {
            "backgroundcolor": "#E5ECF6",
            "gridcolor": "white",
            "gridwidth": 2,
            "linecolor": "white",
            "showbackground": true,
            "ticks": "",
            "zerolinecolor": "white"
           }
          },
          "shapedefaults": {
           "line": {
            "color": "#2a3f5f"
           }
          },
          "ternary": {
           "aaxis": {
            "gridcolor": "white",
            "linecolor": "white",
            "ticks": ""
           },
           "baxis": {
            "gridcolor": "white",
            "linecolor": "white",
            "ticks": ""
           },
           "bgcolor": "#E5ECF6",
           "caxis": {
            "gridcolor": "white",
            "linecolor": "white",
            "ticks": ""
           }
          },
          "title": {
           "x": 0.05
          },
          "xaxis": {
           "automargin": true,
           "gridcolor": "white",
           "linecolor": "white",
           "ticks": "",
           "title": {
            "standoff": 15
           },
           "zerolinecolor": "white",
           "zerolinewidth": 2
          },
          "yaxis": {
           "automargin": true,
           "gridcolor": "white",
           "linecolor": "white",
           "ticks": "",
           "title": {
            "standoff": 15
           },
           "zerolinecolor": "white",
           "zerolinewidth": 2
          }
         }
        },
        "title": {
         "text": "PBMC IFN gamma dataset"
        },
        "width": 600,
        "xaxis": {
         "anchor": "y",
         "domain": [
          0,
          1
         ],
         "title": {
          "text": "x"
         }
        },
        "yaxis": {
         "anchor": "x",
         "domain": [
          0,
          1
         ],
         "title": {
          "text": "y"
         }
        }
       }
      }
     },
     "metadata": {},
     "output_type": "display_data"
    }
   ],
   "source": [
    "for adata in [adata_train, adata_val]:\n",
    "    # sc.pp.pca(adata, n_comps=2)\n",
    "    fig = px.scatter(\n",
    "        x=adata.obsm[\"X_pca\"][:, 0],\n",
    "        y=adata.obsm[\"X_pca\"][:, 1],\n",
    "        color=adata.obs[class_key],\n",
    "        title=\"PBMC IFN gamma dataset\",\n",
    "        width=600,\n",
    "        height=600,\n",
    "    )\n",
    "    fig.update_traces(marker=dict(size=5))\n",
    "    fig.show()"
   ]
  },
  {
   "cell_type": "markdown",
   "id": "b8bd96fd",
   "metadata": {},
   "source": [
    "# Train model"
   ]
  },
  {
   "cell_type": "code",
   "execution_count": null,
   "id": "5b504b1b",
   "metadata": {},
   "outputs": [],
   "source": [
    "n_genes = adata_train.shape[1]\n",
    "n_classes = adata_train.obs[class_key].nunique()\n",
    "\n",
    "d_hidden = 128\n",
    "n_epochs = 25\n",
    "lr = 1e-5"
   ]
  },
  {
   "cell_type": "code",
   "execution_count": null,
   "id": "373c33af",
   "metadata": {},
   "outputs": [
    {
     "name": "stderr",
     "output_type": "stream",
     "text": [
      "Training for 25 epochs: 100%|██████████| 25/25 [01:13<00:00,  2.96s/it, train_acc=1.0000, train_loss=0.0009, val_acc=1.0000, val_loss=0.0018]\n"
     ]
    }
   ],
   "source": [
    "cfg = Config(\n",
    "    d_input=n_genes,\n",
    "    d_hidden=d_hidden,\n",
    "    d_output=n_classes,\n",
    "    n_epochs=n_epochs,\n",
    "    lr=lr,\n",
    "    device=DEVICE,\n",
    "    batch_size=32,\n",
    ")\n",
    "model = ScBMLPClassifier(cfg)\n",
    "train_losses, val_losses = model.fit(train_dataset, val_dataset)"
   ]
  },
  {
   "cell_type": "code",
   "execution_count": null,
   "id": "3452d7fb",
   "metadata": {},
   "outputs": [
    {
     "data": {
      "application/vnd.plotly.v1+json": {
       "config": {
        "plotlyServerURL": "https://plot.ly"
       },
       "data": [
        {
         "hovertemplate": "Type=Train<br>Epoch=%{x}<br>Loss=%{y}<extra></extra>",
         "legendgroup": "Train",
         "line": {
          "color": "#636efa",
          "dash": "solid"
         },
         "marker": {
          "symbol": "circle"
         },
         "mode": "lines",
         "name": "Train",
         "orientation": "v",
         "showlegend": true,
         "type": "scatter",
         "x": {
          "bdata": "AAECAwQFBgcICQoLDA0ODxAREhMUFRYXGA==",
          "dtype": "i1"
         },
         "xaxis": "x",
         "y": {
          "bdata": "AAAAwNRQzT8AAACAWDShPwAAAEDUiaU/AAAAoPr7iT8AAAAAMVmSPwAAAGCqvY8/AAAAoMhcej8AAAAApgBqPwAAAECYEHQ/AAAA4Fmkej8AAACAxRFHPwAAAGDTCnc/AAAAYIdjhD8AAABg4UY9PwAAACDSw14/AAAAoElmWT8AAAAAlGtKPwAAAEBlglk/AAAAwBAUYj8AAACA+rSMPwAAAIAvVZM/AAAAQKPdRz8AAADgWmgzPwAAAEBEbXA/AAAAQNOMTD8=",
          "dtype": "f8"
         },
         "yaxis": "y"
        },
        {
         "hovertemplate": "Type=Validation<br>Epoch=%{x}<br>Loss=%{y}<extra></extra>",
         "legendgroup": "Validation",
         "line": {
          "color": "#EF553B",
          "dash": "solid"
         },
         "marker": {
          "symbol": "circle"
         },
         "mode": "lines",
         "name": "Validation",
         "orientation": "v",
         "showlegend": true,
         "type": "scatter",
         "x": {
          "bdata": "AAECAwQFBgcICQoLDA0ODxAREhMUFRYXGA==",
          "dtype": "i1"
         },
         "xaxis": "x",
         "y": {
          "bdata": "AAAAoG3Sxz8AAABADnWtPwAAAODvC6A/AAAAYHy+lD8AAACAi8KNPwAAAOBhrIY/AAAAACAugj8AAADgBrt8PwAAAKBGpnc/AAAAYP0ndD8AAABAsL1wPwAAAGDIAW0/AAAAAH6RaT8AAACgqd9mPwAAAIA5vGQ/AAAA4PcsYz8AAAAg+cZhPwAAACDBtGA/AAAAYJbAXz8AAAAAiqBePwAAAGBs1F0/AAAAYP5LXT8AAADAuPVcPwAAAKAt0lw/AAAAwBnJXD8=",
          "dtype": "f8"
         },
         "yaxis": "y"
        }
       ],
       "layout": {
        "legend": {
         "title": {
          "text": "Type"
         },
         "tracegroupgap": 0
        },
        "template": {
         "data": {
          "bar": [
           {
            "error_x": {
             "color": "#2a3f5f"
            },
            "error_y": {
             "color": "#2a3f5f"
            },
            "marker": {
             "line": {
              "color": "#E5ECF6",
              "width": 0.5
             },
             "pattern": {
              "fillmode": "overlay",
              "size": 10,
              "solidity": 0.2
             }
            },
            "type": "bar"
           }
          ],
          "barpolar": [
           {
            "marker": {
             "line": {
              "color": "#E5ECF6",
              "width": 0.5
             },
             "pattern": {
              "fillmode": "overlay",
              "size": 10,
              "solidity": 0.2
             }
            },
            "type": "barpolar"
           }
          ],
          "carpet": [
           {
            "aaxis": {
             "endlinecolor": "#2a3f5f",
             "gridcolor": "white",
             "linecolor": "white",
             "minorgridcolor": "white",
             "startlinecolor": "#2a3f5f"
            },
            "baxis": {
             "endlinecolor": "#2a3f5f",
             "gridcolor": "white",
             "linecolor": "white",
             "minorgridcolor": "white",
             "startlinecolor": "#2a3f5f"
            },
            "type": "carpet"
           }
          ],
          "choropleth": [
           {
            "colorbar": {
             "outlinewidth": 0,
             "ticks": ""
            },
            "type": "choropleth"
           }
          ],
          "contour": [
           {
            "colorbar": {
             "outlinewidth": 0,
             "ticks": ""
            },
            "colorscale": [
             [
              0,
              "#0d0887"
             ],
             [
              0.1111111111111111,
              "#46039f"
             ],
             [
              0.2222222222222222,
              "#7201a8"
             ],
             [
              0.3333333333333333,
              "#9c179e"
             ],
             [
              0.4444444444444444,
              "#bd3786"
             ],
             [
              0.5555555555555556,
              "#d8576b"
             ],
             [
              0.6666666666666666,
              "#ed7953"
             ],
             [
              0.7777777777777778,
              "#fb9f3a"
             ],
             [
              0.8888888888888888,
              "#fdca26"
             ],
             [
              1,
              "#f0f921"
             ]
            ],
            "type": "contour"
           }
          ],
          "contourcarpet": [
           {
            "colorbar": {
             "outlinewidth": 0,
             "ticks": ""
            },
            "type": "contourcarpet"
           }
          ],
          "heatmap": [
           {
            "colorbar": {
             "outlinewidth": 0,
             "ticks": ""
            },
            "colorscale": [
             [
              0,
              "#0d0887"
             ],
             [
              0.1111111111111111,
              "#46039f"
             ],
             [
              0.2222222222222222,
              "#7201a8"
             ],
             [
              0.3333333333333333,
              "#9c179e"
             ],
             [
              0.4444444444444444,
              "#bd3786"
             ],
             [
              0.5555555555555556,
              "#d8576b"
             ],
             [
              0.6666666666666666,
              "#ed7953"
             ],
             [
              0.7777777777777778,
              "#fb9f3a"
             ],
             [
              0.8888888888888888,
              "#fdca26"
             ],
             [
              1,
              "#f0f921"
             ]
            ],
            "type": "heatmap"
           }
          ],
          "histogram": [
           {
            "marker": {
             "pattern": {
              "fillmode": "overlay",
              "size": 10,
              "solidity": 0.2
             }
            },
            "type": "histogram"
           }
          ],
          "histogram2d": [
           {
            "colorbar": {
             "outlinewidth": 0,
             "ticks": ""
            },
            "colorscale": [
             [
              0,
              "#0d0887"
             ],
             [
              0.1111111111111111,
              "#46039f"
             ],
             [
              0.2222222222222222,
              "#7201a8"
             ],
             [
              0.3333333333333333,
              "#9c179e"
             ],
             [
              0.4444444444444444,
              "#bd3786"
             ],
             [
              0.5555555555555556,
              "#d8576b"
             ],
             [
              0.6666666666666666,
              "#ed7953"
             ],
             [
              0.7777777777777778,
              "#fb9f3a"
             ],
             [
              0.8888888888888888,
              "#fdca26"
             ],
             [
              1,
              "#f0f921"
             ]
            ],
            "type": "histogram2d"
           }
          ],
          "histogram2dcontour": [
           {
            "colorbar": {
             "outlinewidth": 0,
             "ticks": ""
            },
            "colorscale": [
             [
              0,
              "#0d0887"
             ],
             [
              0.1111111111111111,
              "#46039f"
             ],
             [
              0.2222222222222222,
              "#7201a8"
             ],
             [
              0.3333333333333333,
              "#9c179e"
             ],
             [
              0.4444444444444444,
              "#bd3786"
             ],
             [
              0.5555555555555556,
              "#d8576b"
             ],
             [
              0.6666666666666666,
              "#ed7953"
             ],
             [
              0.7777777777777778,
              "#fb9f3a"
             ],
             [
              0.8888888888888888,
              "#fdca26"
             ],
             [
              1,
              "#f0f921"
             ]
            ],
            "type": "histogram2dcontour"
           }
          ],
          "mesh3d": [
           {
            "colorbar": {
             "outlinewidth": 0,
             "ticks": ""
            },
            "type": "mesh3d"
           }
          ],
          "parcoords": [
           {
            "line": {
             "colorbar": {
              "outlinewidth": 0,
              "ticks": ""
             }
            },
            "type": "parcoords"
           }
          ],
          "pie": [
           {
            "automargin": true,
            "type": "pie"
           }
          ],
          "scatter": [
           {
            "fillpattern": {
             "fillmode": "overlay",
             "size": 10,
             "solidity": 0.2
            },
            "type": "scatter"
           }
          ],
          "scatter3d": [
           {
            "line": {
             "colorbar": {
              "outlinewidth": 0,
              "ticks": ""
             }
            },
            "marker": {
             "colorbar": {
              "outlinewidth": 0,
              "ticks": ""
             }
            },
            "type": "scatter3d"
           }
          ],
          "scattercarpet": [
           {
            "marker": {
             "colorbar": {
              "outlinewidth": 0,
              "ticks": ""
             }
            },
            "type": "scattercarpet"
           }
          ],
          "scattergeo": [
           {
            "marker": {
             "colorbar": {
              "outlinewidth": 0,
              "ticks": ""
             }
            },
            "type": "scattergeo"
           }
          ],
          "scattergl": [
           {
            "marker": {
             "colorbar": {
              "outlinewidth": 0,
              "ticks": ""
             }
            },
            "type": "scattergl"
           }
          ],
          "scattermap": [
           {
            "marker": {
             "colorbar": {
              "outlinewidth": 0,
              "ticks": ""
             }
            },
            "type": "scattermap"
           }
          ],
          "scattermapbox": [
           {
            "marker": {
             "colorbar": {
              "outlinewidth": 0,
              "ticks": ""
             }
            },
            "type": "scattermapbox"
           }
          ],
          "scatterpolar": [
           {
            "marker": {
             "colorbar": {
              "outlinewidth": 0,
              "ticks": ""
             }
            },
            "type": "scatterpolar"
           }
          ],
          "scatterpolargl": [
           {
            "marker": {
             "colorbar": {
              "outlinewidth": 0,
              "ticks": ""
             }
            },
            "type": "scatterpolargl"
           }
          ],
          "scatterternary": [
           {
            "marker": {
             "colorbar": {
              "outlinewidth": 0,
              "ticks": ""
             }
            },
            "type": "scatterternary"
           }
          ],
          "surface": [
           {
            "colorbar": {
             "outlinewidth": 0,
             "ticks": ""
            },
            "colorscale": [
             [
              0,
              "#0d0887"
             ],
             [
              0.1111111111111111,
              "#46039f"
             ],
             [
              0.2222222222222222,
              "#7201a8"
             ],
             [
              0.3333333333333333,
              "#9c179e"
             ],
             [
              0.4444444444444444,
              "#bd3786"
             ],
             [
              0.5555555555555556,
              "#d8576b"
             ],
             [
              0.6666666666666666,
              "#ed7953"
             ],
             [
              0.7777777777777778,
              "#fb9f3a"
             ],
             [
              0.8888888888888888,
              "#fdca26"
             ],
             [
              1,
              "#f0f921"
             ]
            ],
            "type": "surface"
           }
          ],
          "table": [
           {
            "cells": {
             "fill": {
              "color": "#EBF0F8"
             },
             "line": {
              "color": "white"
             }
            },
            "header": {
             "fill": {
              "color": "#C8D4E3"
             },
             "line": {
              "color": "white"
             }
            },
            "type": "table"
           }
          ]
         },
         "layout": {
          "annotationdefaults": {
           "arrowcolor": "#2a3f5f",
           "arrowhead": 0,
           "arrowwidth": 1
          },
          "autotypenumbers": "strict",
          "coloraxis": {
           "colorbar": {
            "outlinewidth": 0,
            "ticks": ""
           }
          },
          "colorscale": {
           "diverging": [
            [
             0,
             "#8e0152"
            ],
            [
             0.1,
             "#c51b7d"
            ],
            [
             0.2,
             "#de77ae"
            ],
            [
             0.3,
             "#f1b6da"
            ],
            [
             0.4,
             "#fde0ef"
            ],
            [
             0.5,
             "#f7f7f7"
            ],
            [
             0.6,
             "#e6f5d0"
            ],
            [
             0.7,
             "#b8e186"
            ],
            [
             0.8,
             "#7fbc41"
            ],
            [
             0.9,
             "#4d9221"
            ],
            [
             1,
             "#276419"
            ]
           ],
           "sequential": [
            [
             0,
             "#0d0887"
            ],
            [
             0.1111111111111111,
             "#46039f"
            ],
            [
             0.2222222222222222,
             "#7201a8"
            ],
            [
             0.3333333333333333,
             "#9c179e"
            ],
            [
             0.4444444444444444,
             "#bd3786"
            ],
            [
             0.5555555555555556,
             "#d8576b"
            ],
            [
             0.6666666666666666,
             "#ed7953"
            ],
            [
             0.7777777777777778,
             "#fb9f3a"
            ],
            [
             0.8888888888888888,
             "#fdca26"
            ],
            [
             1,
             "#f0f921"
            ]
           ],
           "sequentialminus": [
            [
             0,
             "#0d0887"
            ],
            [
             0.1111111111111111,
             "#46039f"
            ],
            [
             0.2222222222222222,
             "#7201a8"
            ],
            [
             0.3333333333333333,
             "#9c179e"
            ],
            [
             0.4444444444444444,
             "#bd3786"
            ],
            [
             0.5555555555555556,
             "#d8576b"
            ],
            [
             0.6666666666666666,
             "#ed7953"
            ],
            [
             0.7777777777777778,
             "#fb9f3a"
            ],
            [
             0.8888888888888888,
             "#fdca26"
            ],
            [
             1,
             "#f0f921"
            ]
           ]
          },
          "colorway": [
           "#636efa",
           "#EF553B",
           "#00cc96",
           "#ab63fa",
           "#FFA15A",
           "#19d3f3",
           "#FF6692",
           "#B6E880",
           "#FF97FF",
           "#FECB52"
          ],
          "font": {
           "color": "#2a3f5f"
          },
          "geo": {
           "bgcolor": "white",
           "lakecolor": "white",
           "landcolor": "#E5ECF6",
           "showlakes": true,
           "showland": true,
           "subunitcolor": "white"
          },
          "hoverlabel": {
           "align": "left"
          },
          "hovermode": "closest",
          "mapbox": {
           "style": "light"
          },
          "paper_bgcolor": "white",
          "plot_bgcolor": "#E5ECF6",
          "polar": {
           "angularaxis": {
            "gridcolor": "white",
            "linecolor": "white",
            "ticks": ""
           },
           "bgcolor": "#E5ECF6",
           "radialaxis": {
            "gridcolor": "white",
            "linecolor": "white",
            "ticks": ""
           }
          },
          "scene": {
           "xaxis": {
            "backgroundcolor": "#E5ECF6",
            "gridcolor": "white",
            "gridwidth": 2,
            "linecolor": "white",
            "showbackground": true,
            "ticks": "",
            "zerolinecolor": "white"
           },
           "yaxis": {
            "backgroundcolor": "#E5ECF6",
            "gridcolor": "white",
            "gridwidth": 2,
            "linecolor": "white",
            "showbackground": true,
            "ticks": "",
            "zerolinecolor": "white"
           },
           "zaxis": {
            "backgroundcolor": "#E5ECF6",
            "gridcolor": "white",
            "gridwidth": 2,
            "linecolor": "white",
            "showbackground": true,
            "ticks": "",
            "zerolinecolor": "white"
           }
          },
          "shapedefaults": {
           "line": {
            "color": "#2a3f5f"
           }
          },
          "ternary": {
           "aaxis": {
            "gridcolor": "white",
            "linecolor": "white",
            "ticks": ""
           },
           "baxis": {
            "gridcolor": "white",
            "linecolor": "white",
            "ticks": ""
           },
           "bgcolor": "#E5ECF6",
           "caxis": {
            "gridcolor": "white",
            "linecolor": "white",
            "ticks": ""
           }
          },
          "title": {
           "x": 0.05
          },
          "xaxis": {
           "automargin": true,
           "gridcolor": "white",
           "linecolor": "white",
           "ticks": "",
           "title": {
            "standoff": 15
           },
           "zerolinecolor": "white",
           "zerolinewidth": 2
          },
          "yaxis": {
           "automargin": true,
           "gridcolor": "white",
           "linecolor": "white",
           "ticks": "",
           "title": {
            "standoff": 15
           },
           "zerolinecolor": "white",
           "zerolinewidth": 2
          }
         }
        },
        "title": {
         "text": "Training and Validation Loss"
        },
        "xaxis": {
         "anchor": "y",
         "domain": [
          0,
          1
         ],
         "title": {
          "text": "Epoch"
         }
        },
        "yaxis": {
         "anchor": "x",
         "domain": [
          0,
          1
         ],
         "title": {
          "text": "Loss"
         }
        }
       }
      }
     },
     "metadata": {},
     "output_type": "display_data"
    }
   ],
   "source": [
    "# Combine train and val losses into a single plot\n",
    "loss_df = pd.DataFrame({\n",
    "    'Epoch': list(range(len(train_losses))) + list(range(len(val_losses))),\n",
    "    'Loss': train_losses + val_losses,\n",
    "    'Type': ['Train'] * len(train_losses) + ['Validation'] * len(val_losses)\n",
    "})\n",
    "\n",
    "px.line(loss_df, x='Epoch', y='Loss', color='Type', \n",
    "        title='Training and Validation Loss', \n",
    "        labels={'Loss': 'Loss', 'Epoch': 'Epoch'}).show()"
   ]
  }
 ],
 "metadata": {
  "language_info": {
   "name": "python"
  }
 },
 "nbformat": 4,
 "nbformat_minor": 5
}
